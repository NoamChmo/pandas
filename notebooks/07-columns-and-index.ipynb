{
 "cells": [
  {
   "cell_type": "markdown",
   "id": "852244c9",
   "metadata": {},
   "source": [
    "<a target=\"_blank\" href=\"https://colab.research.google.com/github/victorlymarev/pandas/blob/main/notebooks/07-columns-and-index.ipynb\">\n",
    "  <img src=\"https://colab.research.google.com/assets/colab-badge.svg\" alt=\"Open In Colab\"/>\n",
    "</a>"
   ]
  },
  {
   "cell_type": "markdown",
   "id": "79103011",
   "metadata": {},
   "source": [
    "# Изменение названий колонок и индексов\n",
    "#### [Ссылка на видео](https://youtu.be/CXJ-U-x7Kks)"
   ]
  },
  {
   "cell_type": "code",
   "execution_count": null,
   "id": "151c1fec",
   "metadata": {},
   "outputs": [],
   "source": [
    "import pandas as pd\n",
    "import os"
   ]
  },
  {
   "cell_type": "markdown",
   "id": "ee1af0fa",
   "metadata": {},
   "source": [
    "#### Колонки:\n",
    "1. check_id - Номер чека\n",
    "2. customer_id - Номер клиента\n",
    "3. purchase_date - Дата покупки\n",
    "4. shop_id - Номер магазина\n",
    "5. product_code_3 - Код продукта 3 (артикул)\n",
    "6. price - Цена\n",
    "7. goods_number - Количество"
   ]
  },
  {
   "cell_type": "code",
   "execution_count": null,
   "id": "112f2e34",
   "metadata": {},
   "outputs": [],
   "source": [
    "path_sales_2021 = '../tables/sales_2021.parquet' if os.path.exists('../tables/sales.parquet') else \"https://drive.google.com/uc?id=1Xy4a_aAnTAG5fzsQDdwYiQxpNYRMyLkr\"\n",
    "\n",
    "sales = pd.read_parquet(path_sales_2021)[\n",
    "    ['check_id', 'customer_id', 'purchase_date', 'shop_id',\n",
    "     'product_code_3', 'price', 'goods_number']]\n",
    "sales.head()"
   ]
  },
  {
   "cell_type": "markdown",
   "id": "f61894a8",
   "metadata": {},
   "source": [
    "#### Обращение к названиям колонок"
   ]
  },
  {
   "cell_type": "code",
   "execution_count": null,
   "id": "0693be52",
   "metadata": {},
   "outputs": [],
   "source": [
    "sales.columns"
   ]
  },
  {
   "cell_type": "markdown",
   "id": "91693916",
   "metadata": {},
   "source": [
    "#### Обращение к индексу"
   ]
  },
  {
   "cell_type": "code",
   "execution_count": null,
   "id": "d16dfa96",
   "metadata": {},
   "outputs": [],
   "source": [
    "sales.index"
   ]
  },
  {
   "cell_type": "code",
   "execution_count": null,
   "id": "7a42b2a3",
   "metadata": {},
   "outputs": [],
   "source": []
  },
  {
   "cell_type": "markdown",
   "id": "c20a3e71",
   "metadata": {},
   "source": [
    "#### Если обратиться к атрибутам columns или index, то можно увидеть список всех методов и атрибутов"
   ]
  },
  {
   "cell_type": "code",
   "execution_count": null,
   "id": "5de86142",
   "metadata": {},
   "outputs": [],
   "source": [
    "sales.columns."
   ]
  },
  {
   "cell_type": "code",
   "execution_count": null,
   "id": "f1212681",
   "metadata": {},
   "outputs": [],
   "source": [
    "dir(sales.columns)"
   ]
  },
  {
   "cell_type": "markdown",
   "id": "d4dbc882",
   "metadata": {},
   "source": [
    "### Метод tolist()"
   ]
  },
  {
   "cell_type": "code",
   "execution_count": null,
   "id": "cbd49921",
   "metadata": {},
   "outputs": [],
   "source": [
    "empty_df = pd.DataFrame(columns=[f'Колонка {i + 1}' for i in range(150)])\n",
    "empty_df"
   ]
  },
  {
   "cell_type": "code",
   "execution_count": null,
   "id": "243b875c",
   "metadata": {},
   "outputs": [],
   "source": [
    "empty_df.columns"
   ]
  },
  {
   "cell_type": "code",
   "execution_count": null,
   "id": "66b621af",
   "metadata": {},
   "outputs": [],
   "source": [
    "empty_df.columns.tolist()"
   ]
  },
  {
   "cell_type": "markdown",
   "id": "db5cddd2",
   "metadata": {},
   "source": [
    "#### Метод tolist есть у объектов Series"
   ]
  },
  {
   "cell_type": "code",
   "execution_count": null,
   "id": "b7e67545",
   "metadata": {},
   "outputs": [],
   "source": [
    "sales['customer_id'].tolist()"
   ]
  },
  {
   "cell_type": "code",
   "execution_count": null,
   "id": "fac43240",
   "metadata": {},
   "outputs": [],
   "source": []
  },
  {
   "cell_type": "markdown",
   "id": "a7d49b4d",
   "metadata": {},
   "source": [
    "### repeat \n",
    "дублирует индекс несколько раз"
   ]
  },
  {
   "cell_type": "code",
   "execution_count": null,
   "id": "aeaaf37f",
   "metadata": {},
   "outputs": [],
   "source": [
    "# Продублировали индекс 2 раза\n",
    "sales.index.repeat(2)"
   ]
  },
  {
   "cell_type": "code",
   "execution_count": null,
   "id": "cc5ba0fa",
   "metadata": {},
   "outputs": [],
   "source": [
    "sales['goods_number'].head()"
   ]
  },
  {
   "cell_type": "markdown",
   "id": "8e704442",
   "metadata": {},
   "source": [
    "#### Продублировали индекс согласно колонке goods_number"
   ]
  },
  {
   "cell_type": "code",
   "execution_count": null,
   "id": "0336629d",
   "metadata": {},
   "outputs": [],
   "source": [
    "sales.index.repeat(sales['goods_number'])"
   ]
  },
  {
   "cell_type": "markdown",
   "id": "c2a4c6e3",
   "metadata": {},
   "source": [
    "#### Продублировали каждую строку столько раз, сколько единиц товара было куплено"
   ]
  },
  {
   "cell_type": "code",
   "execution_count": null,
   "id": "f48af675",
   "metadata": {},
   "outputs": [],
   "source": [
    "sales.loc[sales.index.repeat(sales['goods_number'])].head()"
   ]
  },
  {
   "cell_type": "code",
   "execution_count": null,
   "id": "2d2b139d",
   "metadata": {},
   "outputs": [],
   "source": [
    "sales.columns"
   ]
  },
  {
   "cell_type": "markdown",
   "id": "f68394f3",
   "metadata": {},
   "source": [
    "#### Перепишем названия колонок заглавными буквами"
   ]
  },
  {
   "cell_type": "code",
   "execution_count": null,
   "id": "71e467b7",
   "metadata": {},
   "outputs": [],
   "source": [
    "sales.columns = [\n",
    "    'CHECK_ID',\n",
    "    'CUSTOMER_ID',\n",
    "    'PURCHASE_DATE',\n",
    "    'SHOP_ID',\n",
    "    'PRODUCT_CODE_3',\n",
    "    'PRICE',\n",
    "    'GOODS_NUMBER'\n",
    "]"
   ]
  },
  {
   "cell_type": "code",
   "execution_count": null,
   "id": "a0726277",
   "metadata": {},
   "outputs": [],
   "source": [
    "sales.head(3)"
   ]
  },
  {
   "cell_type": "code",
   "execution_count": null,
   "id": "274a6d5a",
   "metadata": {},
   "outputs": [],
   "source": [
    "sales.columns"
   ]
  },
  {
   "cell_type": "markdown",
   "id": "06435603",
   "metadata": {},
   "source": [
    "#### Дадим колонкам русские названия"
   ]
  },
  {
   "cell_type": "markdown",
   "id": "f21b504e",
   "metadata": {},
   "source": [
    "1. __Список должен быть той же длинны, что и число колонок в таблице__ \n",
    "2. __Названия колонок не должны повторяться__"
   ]
  },
  {
   "cell_type": "code",
   "execution_count": null,
   "id": "b0d485f5",
   "metadata": {},
   "outputs": [],
   "source": [
    "sales.columns = [\n",
    "    'Номер чека',\n",
    "    'Номер клиента',\n",
    "    'Дата покупки',\n",
    "    'Номер магазина',\n",
    "    'Код продукта 3',\n",
    "    'Цена',\n",
    "    'Количество'\n",
    "]"
   ]
  },
  {
   "cell_type": "code",
   "execution_count": null,
   "id": "c8f6b704",
   "metadata": {},
   "outputs": [],
   "source": [
    "sales.head(3)"
   ]
  },
  {
   "cell_type": "markdown",
   "id": "4e0faca1",
   "metadata": {},
   "source": [
    "#### Вернем как было"
   ]
  },
  {
   "cell_type": "code",
   "execution_count": null,
   "id": "18d3b1df",
   "metadata": {},
   "outputs": [],
   "source": [
    "sales.columns = [\n",
    "    'check_id',\n",
    "    'customer_id',\n",
    "    'purchase_date',\n",
    "    'shop_id',\n",
    "    'product_code_3',\n",
    "    'price',\n",
    "    'goods_number'\n",
    "]"
   ]
  },
  {
   "cell_type": "code",
   "execution_count": null,
   "id": "1e690802",
   "metadata": {},
   "outputs": [],
   "source": []
  },
  {
   "cell_type": "markdown",
   "id": "22897307",
   "metadata": {},
   "source": [
    "#### Методы для работы со строками"
   ]
  },
  {
   "cell_type": "markdown",
   "id": "5dced438",
   "metadata": {},
   "source": [
    "Приведем названия колонок написанию с заглавной буквы"
   ]
  },
  {
   "cell_type": "code",
   "execution_count": null,
   "id": "f2040ac0",
   "metadata": {},
   "outputs": [],
   "source": [
    "sales.columns"
   ]
  },
  {
   "cell_type": "code",
   "execution_count": null,
   "id": "b5ec4b3b",
   "metadata": {},
   "outputs": [],
   "source": [
    "sales.columns[0]"
   ]
  },
  {
   "cell_type": "code",
   "execution_count": null,
   "id": "18a47bd7",
   "metadata": {},
   "outputs": [],
   "source": [
    "sales.columns[1]"
   ]
  },
  {
   "cell_type": "code",
   "execution_count": null,
   "id": "7ea491e0",
   "metadata": {},
   "outputs": [],
   "source": [
    "print(sales.columns[0].lower()) # Приведение к нижнему регистру\n",
    "print('--------------------')\n",
    "print(sales.columns[0].upper()) # Приведение к верхнему регистру\n",
    "print('--------------------')\n",
    "print(sales.columns[0].capitalize()) # 1 символ в верхнем регисттре,\n",
    "                                     # остальные в нижнем"
   ]
  },
  {
   "cell_type": "code",
   "execution_count": null,
   "id": "0ad96303",
   "metadata": {},
   "outputs": [],
   "source": [
    "sales.columns"
   ]
  },
  {
   "cell_type": "code",
   "execution_count": null,
   "id": "e71d1177",
   "metadata": {},
   "outputs": [],
   "source": [
    "[col.capitalize() for col in sales.columns]"
   ]
  },
  {
   "cell_type": "code",
   "execution_count": null,
   "id": "71d3d83a",
   "metadata": {},
   "outputs": [],
   "source": [
    "sales.columns = [col.capitalize() for col in sales.columns]"
   ]
  },
  {
   "cell_type": "code",
   "execution_count": null,
   "id": "a38b757e",
   "metadata": {},
   "outputs": [],
   "source": [
    "sales.head(3)"
   ]
  },
  {
   "cell_type": "code",
   "execution_count": null,
   "id": "89502c03",
   "metadata": {},
   "outputs": [],
   "source": []
  },
  {
   "cell_type": "markdown",
   "id": "b32702aa",
   "metadata": {},
   "source": [
    "### rename\n",
    "\n",
    "Метод возвращает DataFrame или Series с переименованными колонками или индексами\n",
    "\n",
    "В него передается словарь или функция \n",
    "\n",
    "#### Синтаксис для переименования колонок: \n",
    "\n",
    "1. df.rename(columns=словарь или функция)\n",
    "2. df.rename(словарь или функция, axis=1)\n",
    "3. df.rename(словарь или функция, axis='columns')\n",
    "\n",
    "#### Структура словаря:\n",
    "{'старое название колонки': 'новое название колонки'}"
   ]
  },
  {
   "cell_type": "code",
   "execution_count": null,
   "id": "837ea06b",
   "metadata": {},
   "outputs": [],
   "source": [
    "sales.columns"
   ]
  },
  {
   "cell_type": "markdown",
   "id": "fbd53579",
   "metadata": {},
   "source": [
    "#### Передаем словарь в парметр columns"
   ]
  },
  {
   "cell_type": "code",
   "execution_count": null,
   "id": "42d8787a",
   "metadata": {},
   "outputs": [],
   "source": [
    "(sales\n",
    "    .rename(columns={'Check_id': 'Номер чека',\n",
    "                     'Customer_id': 'Номер клиента'})\n",
    "    .head(3)\n",
    ")"
   ]
  },
  {
   "cell_type": "markdown",
   "id": "c1c8fb8d",
   "metadata": {},
   "source": [
    "#### Передаем 1 в параметр axis"
   ]
  },
  {
   "cell_type": "code",
   "execution_count": null,
   "id": "50f27930",
   "metadata": {},
   "outputs": [],
   "source": [
    "(sales\n",
    "    .rename({'Check_id': 'Номер чека',\n",
    "             'Customer_id': 'Номер клиента'}, axis=1)\n",
    "    .head(3)\n",
    ")"
   ]
  },
  {
   "cell_type": "markdown",
   "id": "62cd1956",
   "metadata": {},
   "source": [
    "#### Передаем 'columns' в параметр axis"
   ]
  },
  {
   "cell_type": "code",
   "execution_count": null,
   "id": "ea12d2a2",
   "metadata": {},
   "outputs": [],
   "source": [
    "# Указываем ось равную 'columns'\n",
    "(sales\n",
    "    .rename({'Check_id': 'Номер чека',\n",
    "             'Customer_id': 'Номер клиента'},\n",
    "             axis='columns')\n",
    "    .head(3)\n",
    ")"
   ]
  },
  {
   "cell_type": "markdown",
   "id": "64ede458",
   "metadata": {},
   "source": [
    "#### То же самое можно сделать и с индексом"
   ]
  },
  {
   "cell_type": "code",
   "execution_count": null,
   "id": "0e06de6f",
   "metadata": {},
   "outputs": [],
   "source": [
    "sales.rename({0: 'первая строчка'}).head(3)"
   ]
  },
  {
   "cell_type": "code",
   "execution_count": null,
   "id": "041a59c0",
   "metadata": {},
   "outputs": [],
   "source": []
  },
  {
   "cell_type": "markdown",
   "id": "ad48dd72",
   "metadata": {},
   "source": [
    "### Частые ошибки при работе с методом"
   ]
  },
  {
   "cell_type": "markdown",
   "id": "a93799a4",
   "metadata": {},
   "source": [
    "#### Старое название колонки написано с ошибкой\n",
    "Ошибка в названии колонки customer_id"
   ]
  },
  {
   "cell_type": "code",
   "execution_count": null,
   "id": "c8e6287b",
   "metadata": {},
   "outputs": [],
   "source": [
    "# ошибка есть\n",
    "(sales\n",
    "    .rename(columns={'Check_id': 'Номер чека',\n",
    "                     'Castomer_id': 'Номер клиента'})\n",
    "    .head(3)\n",
    ")"
   ]
  },
  {
   "cell_type": "code",
   "execution_count": null,
   "id": "75872f4a",
   "metadata": {},
   "outputs": [],
   "source": [
    "# Ошибки нет\n",
    "(sales\n",
    "    .rename(columns={'Check_id': 'Номер чека',\n",
    "                     'Customer_id': 'Номер клиента'})\n",
    "    .head(3)\n",
    ")"
   ]
  },
  {
   "cell_type": "markdown",
   "id": "49417f8d",
   "metadata": {},
   "source": [
    "#### Не указана ось"
   ]
  },
  {
   "cell_type": "code",
   "execution_count": null,
   "id": "b971da45",
   "metadata": {},
   "outputs": [],
   "source": [
    "# Ошибка есть\n",
    "(sales\n",
    "    .rename({'Check_id': 'Номер чека',\n",
    "             'Customer_id': 'Номер клиента'})\n",
    "    .head(3)\n",
    ")"
   ]
  },
  {
   "cell_type": "markdown",
   "id": "5d1c97eb",
   "metadata": {},
   "source": [
    "Если ось указать, то все начинает работать"
   ]
  },
  {
   "cell_type": "code",
   "execution_count": null,
   "id": "3887a908",
   "metadata": {},
   "outputs": [],
   "source": [
    "# Ошибки нет\n",
    "(sales\n",
    "    .rename({'Check_id': 'Номер чека',\n",
    "             'Customer_id': 'Номер клиента'}, axis=1)\n",
    "    .head(3)\n",
    ")"
   ]
  },
  {
   "cell_type": "code",
   "execution_count": null,
   "id": "71449032",
   "metadata": {},
   "outputs": [],
   "source": []
  },
  {
   "cell_type": "markdown",
   "id": "daba00d7",
   "metadata": {},
   "source": [
    "### Функции"
   ]
  },
  {
   "cell_type": "code",
   "execution_count": null,
   "id": "fbaf748a",
   "metadata": {},
   "outputs": [],
   "source": [
    "def calculate_hypotenuse(cat1, cat2):\n",
    "#     считаем сумму квадратов катетов\n",
    "    hypotenuse_squered = cat1 ** 2 + cat2 ** 2\n",
    "#     считаем гипотенузу\n",
    "    hypotenuse = hypotenuse_squered ** 0.5\n",
    "#     возвращаем значение\n",
    "    return hypotenuse"
   ]
  },
  {
   "cell_type": "code",
   "execution_count": null,
   "id": "dda46a79",
   "metadata": {},
   "outputs": [],
   "source": [
    "calculate_hypotenuse(3, 4)"
   ]
  },
  {
   "cell_type": "code",
   "execution_count": null,
   "id": "1638d04f",
   "metadata": {},
   "outputs": [],
   "source": [
    "calculate_hypotenuse(5, 12)"
   ]
  },
  {
   "cell_type": "code",
   "execution_count": null,
   "id": "5ea0a5d4",
   "metadata": {},
   "outputs": [],
   "source": []
  },
  {
   "cell_type": "markdown",
   "id": "94ada78a",
   "metadata": {},
   "source": [
    "#### Функции с таблицами"
   ]
  },
  {
   "cell_type": "code",
   "execution_count": null,
   "id": "c10ecf4e",
   "metadata": {},
   "outputs": [],
   "source": [
    "sales.columns"
   ]
  },
  {
   "cell_type": "code",
   "execution_count": null,
   "id": "be647d44",
   "metadata": {},
   "outputs": [],
   "source": [
    "def make_lowercase_string(string):\n",
    "    return string.lower()"
   ]
  },
  {
   "cell_type": "code",
   "execution_count": null,
   "id": "bb9b183c",
   "metadata": {},
   "outputs": [],
   "source": [
    "make_lowercase_string('PANDAS')"
   ]
  },
  {
   "cell_type": "code",
   "execution_count": null,
   "id": "bbaf87be",
   "metadata": {},
   "outputs": [],
   "source": [
    "# Все три строчки работают одинакого\n",
    "sales.rename(columns=make_lowercase_string).head()\n",
    "sales.rename(make_lowercase_string, axis=1).head()\n",
    "sales.rename(make_lowercase_string, axis='columns').head()"
   ]
  },
  {
   "cell_type": "code",
   "execution_count": null,
   "id": "e7a76afd",
   "metadata": {},
   "outputs": [],
   "source": []
  },
  {
   "cell_type": "markdown",
   "id": "9ffa9062",
   "metadata": {},
   "source": [
    "### Возможные ошибки"
   ]
  },
  {
   "cell_type": "markdown",
   "id": "5cc73052",
   "metadata": {},
   "source": [
    "#### Вызов функции внутри метода. sales.rename(columns=__make_lowercase_string()__ ) - круглые скобки после названия функции лишние. Правильно: sales.rename(columns=make_lowercase_string)"
   ]
  },
  {
   "cell_type": "code",
   "execution_count": null,
   "id": "65210ac1",
   "metadata": {},
   "outputs": [],
   "source": [
    "# Это работать не будет\n",
    "sales.rename(columns=make_lowercase_string())"
   ]
  },
  {
   "cell_type": "code",
   "execution_count": null,
   "id": "ee05ac38",
   "metadata": {},
   "outputs": [],
   "source": [
    "sales.rename(columns=make_lowercase_string)"
   ]
  },
  {
   "cell_type": "markdown",
   "id": "df3875d4",
   "metadata": {},
   "source": [
    "#### На вход в функцию подаются строки, хотя в таблице названия колонок представлены целыми числами"
   ]
  },
  {
   "cell_type": "code",
   "execution_count": null,
   "id": "10cb683c",
   "metadata": {},
   "outputs": [],
   "source": [
    "pd.DataFrame(columns=[1, 2, 3, 4])"
   ]
  },
  {
   "cell_type": "code",
   "execution_count": null,
   "id": "13a2c037",
   "metadata": {},
   "outputs": [],
   "source": [
    "pd.DataFrame(columns=[1, 2, 3, 4]).rename(columns=make_lowercase_string)"
   ]
  },
  {
   "cell_type": "markdown",
   "id": "fb1d399a",
   "metadata": {},
   "source": [
    "#### Функция на вход принимает более одного обязательного параметра"
   ]
  },
  {
   "cell_type": "code",
   "execution_count": null,
   "id": "b352214f",
   "metadata": {},
   "outputs": [],
   "source": [
    "# Эта функция принимает на вход 2 обязательных аргумента\n",
    "def concatinate_strings(string1, string2):\n",
    "    return string1 + ' ' +  string2"
   ]
  },
  {
   "cell_type": "code",
   "execution_count": null,
   "id": "83a8d1bf",
   "metadata": {},
   "outputs": [],
   "source": [
    "def make_lowercase_string(string):\n",
    "    return string.lower()"
   ]
  },
  {
   "cell_type": "code",
   "execution_count": null,
   "id": "615cefe7",
   "metadata": {},
   "outputs": [],
   "source": [
    "concatinate_strings('Аргумент 1', 'Аргумент 2')"
   ]
  },
  {
   "cell_type": "code",
   "execution_count": null,
   "id": "1f4ab728",
   "metadata": {},
   "outputs": [],
   "source": [
    "sales.rename(columns=concatinate_strings)"
   ]
  },
  {
   "cell_type": "code",
   "execution_count": null,
   "id": "e488a0d0",
   "metadata": {},
   "outputs": [],
   "source": []
  },
  {
   "cell_type": "markdown",
   "id": "47b3a050",
   "metadata": {},
   "source": [
    "### Использование lambda функций"
   ]
  },
  {
   "cell_type": "code",
   "execution_count": null,
   "id": "f62389a5",
   "metadata": {},
   "outputs": [],
   "source": [
    "def make_lowercase_string(string):\n",
    "    return string.lower()"
   ]
  },
  {
   "cell_type": "code",
   "execution_count": null,
   "id": "02630c36",
   "metadata": {},
   "outputs": [],
   "source": [
    "(sales\n",
    "    .rename(lambda x: x.lower(), axis=1)\n",
    "    .head(3)\n",
    ")"
   ]
  },
  {
   "cell_type": "markdown",
   "id": "21c5a4d9",
   "metadata": {},
   "source": [
    "#### Метод rename принимает на вход не только функции, но любые другие вызываемые объекты"
   ]
  },
  {
   "cell_type": "code",
   "execution_count": null,
   "id": "bde8b29f",
   "metadata": {},
   "outputs": [],
   "source": [
    "sales = sales.rename(str.lower, axis=1)\n",
    "sales.head(3)"
   ]
  },
  {
   "cell_type": "code",
   "execution_count": null,
   "id": "41a4930c",
   "metadata": {},
   "outputs": [],
   "source": []
  },
  {
   "cell_type": "markdown",
   "id": "f821ba54",
   "metadata": {},
   "source": [
    "### set_axis\n",
    "\n",
    "Как и метод rename меняет названия колонок. \n",
    "\n",
    "#### Синтаксис\n",
    "\n",
    "1. df.set_axis(список с новыми названиями колонок, axis=1)\n",
    "2. df.set_axis(список с новыми названиями колонок, axis='columns')"
   ]
  },
  {
   "cell_type": "code",
   "execution_count": null,
   "id": "9404fbf8",
   "metadata": {},
   "outputs": [],
   "source": [
    "sales.set_axis([\n",
    "        'Номер чека',\n",
    "        'Номер клиента',\n",
    "        'Дата покупки',\n",
    "        'Номер магазина',\n",
    "        'Код продукта 3',\n",
    "        'Цена',\n",
    "        'Количество'\n",
    "    ], axis=1).head(3)"
   ]
  },
  {
   "cell_type": "code",
   "execution_count": null,
   "id": "941723e0",
   "metadata": {},
   "outputs": [],
   "source": [
    "sales.set_axis([\n",
    "        'Номер чека',\n",
    "        'Номер клиента',\n",
    "        'Дата покупки',\n",
    "        'Номер магазина',\n",
    "        'Код продукта 3',\n",
    "        'Цена',\n",
    "        'Количество'\n",
    "    ], axis='columns').head(3)"
   ]
  },
  {
   "cell_type": "markdown",
   "id": "8fb08442",
   "metadata": {},
   "source": [
    "### Параметра columns у метода нет"
   ]
  },
  {
   "cell_type": "code",
   "execution_count": null,
   "id": "4c6a8934",
   "metadata": {},
   "outputs": [],
   "source": [
    "# Данный вариант работать не будет!!!\n",
    "sales.set_axis(columns=[\n",
    "        'Номер чека',\n",
    "        'Номер клиента',\n",
    "        'Дата покупки',\n",
    "        'Номер магазина',\n",
    "        'Код продукта 3',\n",
    "        'Цена',\n",
    "        'Количество'\n",
    "    ]).head(3)"
   ]
  },
  {
   "cell_type": "code",
   "execution_count": null,
   "id": "03b4a519",
   "metadata": {},
   "outputs": [],
   "source": []
  },
  {
   "cell_type": "markdown",
   "id": "c17566eb",
   "metadata": {},
   "source": [
    "### add_suffix\n",
    "\n",
    "Добавляет строку в конец названия каждой колонки\n",
    "\n",
    "#### Синтаксис\n",
    "\n",
    "df.add_suffix('строка')"
   ]
  },
  {
   "cell_type": "code",
   "execution_count": null,
   "id": "6d5a5091",
   "metadata": {},
   "outputs": [],
   "source": [
    "sales.add_suffix('12345').head(3)"
   ]
  },
  {
   "cell_type": "markdown",
   "id": "ea0fd2c3",
   "metadata": {},
   "source": [
    "### add_prefix\n",
    "\n",
    "Добавляет строку в начало названия каждой колонки\n",
    "\n",
    "#### Синтаксис\n",
    "\n",
    "df.add_prefix('строка')"
   ]
  },
  {
   "cell_type": "code",
   "execution_count": null,
   "id": "6a773799",
   "metadata": {},
   "outputs": [],
   "source": [
    "sales.add_prefix('12345').head(3)"
   ]
  },
  {
   "cell_type": "code",
   "execution_count": null,
   "id": "77e829fc",
   "metadata": {},
   "outputs": [],
   "source": []
  },
  {
   "cell_type": "markdown",
   "id": "28da9e7f",
   "metadata": {},
   "source": [
    "## Работа с мультииндексом"
   ]
  },
  {
   "cell_type": "code",
   "execution_count": null,
   "id": "672d753d",
   "metadata": {},
   "outputs": [],
   "source": [
    "sales_agg = (sales\n",
    "    .assign(month_end_date = lambda x: x['purchase_date'].dt.normalize()\n",
    "            + pd.offsets.MonthEnd(0))\n",
    "\n",
    "    .assign(price_mul_number = lambda x: x['price'] * x['goods_number'])\n",
    "             \n",
    "    .assign(total_goods_per_check = lambda x: x\n",
    "            .groupby('check_id')['goods_number'].transform('sum'))\n",
    "\n",
    "    .assign(total_sum_per_check = lambda x: x\n",
    "            .groupby('check_id')['price_mul_number'].transform('sum'))\n",
    "\n",
    "    [['customer_id', 'month_end_date', 'total_goods_per_check',\n",
    "      'total_sum_per_check', 'check_id', 'shop_id']]\n",
    "             \n",
    "    .drop_duplicates()\n",
    "             \n",
    "    .groupby(['month_end_date', 'customer_id', 'shop_id'])\n",
    "             \n",
    "    .agg({'total_goods_per_check': ['min', 'max', 'mean'],\n",
    "          'total_sum_per_check': ['min', 'max', 'mean'],\n",
    "          'check_id': 'count'})\n",
    "             \n",
    "    .rename({'total_goods_per_check': 'число товаров в чеке',\n",
    "            'total_sum_per_check': 'cумма покупки',\n",
    "            'check_id': 'id чека',\n",
    "            'min': 'минимум',\n",
    "            'max': 'максимум',\n",
    "            'mean': 'среднее',\n",
    "            'count': 'количество'}, axis=1)\n",
    "             \n",
    "    .rename_axis(['месяц', 'id клиента', 'id магазина'])\n",
    ")\n",
    "sales_agg.head()"
   ]
  },
  {
   "cell_type": "code",
   "execution_count": null,
   "id": "44397a81",
   "metadata": {},
   "outputs": [],
   "source": [
    "# Отобразим первые 5 элементов индекса\n",
    "sales_agg.index[:5]"
   ]
  },
  {
   "cell_type": "code",
   "execution_count": null,
   "id": "aaeb259a",
   "metadata": {},
   "outputs": [],
   "source": [
    "sales_agg.columns"
   ]
  },
  {
   "cell_type": "markdown",
   "id": "af82ed29",
   "metadata": {},
   "source": [
    "### Уровни мультииндекса"
   ]
  },
  {
   "cell_type": "code",
   "execution_count": null,
   "id": "2a50e013",
   "metadata": {},
   "outputs": [],
   "source": [
    "sales_agg.head(2)"
   ]
  },
  {
   "cell_type": "markdown",
   "id": "0b91d21d",
   "metadata": {},
   "source": [
    "Уровень ноль имеет самая левая колонока"
   ]
  },
  {
   "cell_type": "code",
   "execution_count": null,
   "id": "6944fbd3",
   "metadata": {},
   "outputs": [],
   "source": [
    "sales_agg.index.levels[0]"
   ]
  },
  {
   "cell_type": "code",
   "execution_count": null,
   "id": "3d2fa277",
   "metadata": {},
   "outputs": [],
   "source": [
    "sales_agg.index.levels[1]"
   ]
  },
  {
   "cell_type": "markdown",
   "id": "69b80920",
   "metadata": {},
   "source": [
    "#### У названий колонок тоже есть уровни"
   ]
  },
  {
   "cell_type": "code",
   "execution_count": null,
   "id": "c92793ff",
   "metadata": {},
   "outputs": [],
   "source": [
    "sales_agg.head(2)"
   ]
  },
  {
   "cell_type": "code",
   "execution_count": null,
   "id": "80a240d4",
   "metadata": {},
   "outputs": [],
   "source": [
    "sales_agg.columns.levels[0]"
   ]
  },
  {
   "cell_type": "code",
   "execution_count": null,
   "id": "2d7bbab4",
   "metadata": {},
   "outputs": [],
   "source": [
    "sales_agg.columns.levels[1]"
   ]
  },
  {
   "cell_type": "markdown",
   "id": "7f44750e",
   "metadata": {},
   "source": [
    "#### Уровни могут иметь названия, а могут не иметь"
   ]
  },
  {
   "cell_type": "markdown",
   "id": "ed44b0e4",
   "metadata": {},
   "source": [
    "Сейчас колонки в индексе имеют названия (месяц, id клиента, id магазина), а строки в шапке таблицы нет"
   ]
  },
  {
   "cell_type": "code",
   "execution_count": null,
   "id": "8c7349cd",
   "metadata": {},
   "outputs": [],
   "source": [
    "sales_agg.head()"
   ]
  },
  {
   "cell_type": "markdown",
   "id": "7a86f37d",
   "metadata": {},
   "source": [
    "В большинстве методов, работающих с уровнями, можно указывать как номера уровней, так и их названия"
   ]
  },
  {
   "cell_type": "code",
   "execution_count": null,
   "id": "95155e31",
   "metadata": {},
   "outputs": [],
   "source": []
  },
  {
   "cell_type": "markdown",
   "id": "9a770d33",
   "metadata": {},
   "source": [
    "### Уровни можно менять местами"
   ]
  },
  {
   "cell_type": "markdown",
   "id": "629eb0c3",
   "metadata": {},
   "source": [
    "### swaplevel\n",
    "\n",
    "Синтаксис: \n",
    "\n",
    "df.swaplevel(уровень 1, уровень 2) - для того, чтобы поменять 2 уровня местами в индексе\n",
    "\n",
    "df.swaplevel(уровень 1, уровень 2, axis=1) - для того, чтобы поменять 2 уровня местами в индексе"
   ]
  },
  {
   "cell_type": "code",
   "execution_count": null,
   "id": "a568af61",
   "metadata": {},
   "outputs": [],
   "source": [
    "sales_agg.head(3)"
   ]
  },
  {
   "cell_type": "code",
   "execution_count": null,
   "id": "8a30a539",
   "metadata": {},
   "outputs": [],
   "source": [
    "sales_agg.swaplevel(2, 0).head(3)"
   ]
  },
  {
   "cell_type": "code",
   "execution_count": null,
   "id": "a1484325",
   "metadata": {},
   "outputs": [],
   "source": [
    "sales_agg.swaplevel(2, 'месяц').head(3)"
   ]
  },
  {
   "cell_type": "markdown",
   "id": "407031b1",
   "metadata": {},
   "source": [
    "#### Меняем уровни в колонках"
   ]
  },
  {
   "cell_type": "code",
   "execution_count": null,
   "id": "722c2803",
   "metadata": {},
   "outputs": [],
   "source": [
    "sales_agg.swaplevel(0, 1, axis=1).head(3)"
   ]
  },
  {
   "cell_type": "markdown",
   "id": "28c0eda9",
   "metadata": {},
   "source": [
    "#### Уровням можно давать названия\n",
    "### rename_axis\n",
    "\n",
    "#### Синтаксис:\n",
    "1. df.rename_axis(список из названий осей) - для переименования оси индексов\n",
    "2. df.rename_axis(список из названий осей, axis=1) - для переименования оси колонок\n",
    "3. df.rename_axis(index=список из названий осей или словарь (старое название: новое название) или функциия) - для переименования оси индексов\n",
    "4. df.rename_axis(columns=список из названий осей или словарь (старое название: новое название) или функциия) - для переименования оси колонок"
   ]
  },
  {
   "cell_type": "code",
   "execution_count": null,
   "id": "71126e6c",
   "metadata": {},
   "outputs": [],
   "source": [
    "sales_agg.head(2)"
   ]
  },
  {
   "cell_type": "code",
   "execution_count": null,
   "id": "26bd36cd",
   "metadata": {},
   "outputs": [],
   "source": [
    "sales_agg.rename_axis(['Название показателя', 'Статистика'], axis=1).head(2)"
   ]
  },
  {
   "cell_type": "markdown",
   "id": "dd5cc9d9",
   "metadata": {},
   "source": [
    "#### Уровни можно выкидывать\n",
    "\n",
    "### droplevel\n",
    "\n",
    "#### Синитаксис:\n",
    "1. df.droplevel(уровень или список уровней) - для удаления колонок из индексов\n",
    "2. df.droplevel(уровень или список уровней, axis=1) - для удаления строк названий колонок из шапки\n",
    "\n"
   ]
  },
  {
   "cell_type": "code",
   "execution_count": null,
   "id": "bc224d88",
   "metadata": {},
   "outputs": [],
   "source": [
    "sales_agg.droplevel('месяц').head(3)"
   ]
  },
  {
   "cell_type": "code",
   "execution_count": null,
   "id": "a4fce1c0",
   "metadata": {},
   "outputs": [],
   "source": [
    "sales_agg.droplevel(0, axis=1).head(3)"
   ]
  },
  {
   "cell_type": "code",
   "execution_count": null,
   "id": "44f1b8b6",
   "metadata": {},
   "outputs": [],
   "source": [
    "sales_agg.droplevel(1, axis=1).head(3)"
   ]
  },
  {
   "cell_type": "code",
   "execution_count": null,
   "id": "d2d2ef7a",
   "metadata": {},
   "outputs": [],
   "source": []
  },
  {
   "cell_type": "markdown",
   "id": "180311c6",
   "metadata": {},
   "source": [
    "## Удаление мультииндекса из шапки таблицы"
   ]
  },
  {
   "cell_type": "code",
   "execution_count": null,
   "id": "6a548ff9",
   "metadata": {},
   "outputs": [],
   "source": [
    "sales_agg.head(0)"
   ]
  },
  {
   "cell_type": "code",
   "execution_count": null,
   "id": "c82f0af2",
   "metadata": {},
   "outputs": [],
   "source": [
    "sales_agg.columns"
   ]
  },
  {
   "cell_type": "markdown",
   "id": "38c5da02",
   "metadata": {},
   "source": [
    "Мултииндекс это просто пары значений. И мы можем их соединить"
   ]
  },
  {
   "cell_type": "code",
   "execution_count": null,
   "id": "5595a4c6",
   "metadata": {},
   "outputs": [],
   "source": [
    "sales_agg.columns[0]"
   ]
  },
  {
   "cell_type": "code",
   "execution_count": null,
   "id": "358b3da4",
   "metadata": {},
   "outputs": [],
   "source": [
    "'_'.join(sales_agg.columns[0])"
   ]
  },
  {
   "cell_type": "code",
   "execution_count": null,
   "id": "9b7b5a4b",
   "metadata": {},
   "outputs": [],
   "source": [
    "sales_agg.columns.map('   строка с разделителем    '.join)"
   ]
  },
  {
   "cell_type": "code",
   "execution_count": null,
   "id": "4ef47ae4",
   "metadata": {},
   "outputs": [],
   "source": [
    "['_'.join(i) for i in sales_agg.columns]"
   ]
  },
  {
   "cell_type": "code",
   "execution_count": null,
   "id": "3aabc0dc",
   "metadata": {},
   "outputs": [],
   "source": [
    "[i + '_' + j for i, j in sales_agg.columns]"
   ]
  },
  {
   "cell_type": "code",
   "execution_count": null,
   "id": "67e098e7",
   "metadata": {},
   "outputs": [],
   "source": [
    "(sales_agg\n",
    "    .set_axis(sales_agg.columns.map('_'.join), axis=1)\n",
    "    .head(1)\n",
    ")    "
   ]
  },
  {
   "cell_type": "code",
   "execution_count": null,
   "id": "5ea4d869",
   "metadata": {},
   "outputs": [],
   "source": [
    "sales_agg.set_axis(['число товаров в чеке_минимум',\n",
    "    'число товаров в чеке_максимум',\n",
    "    'число товаров в чеке_среднее',\n",
    "    'cумма покупки_минимум',\n",
    "    'cумма покупки_максимум',\n",
    "    'cумма покупки_среднее',\n",
    "    'id чека_количество'\n",
    "                    ], axis=1).head(2)"
   ]
  },
  {
   "cell_type": "code",
   "execution_count": null,
   "id": "09df3499",
   "metadata": {},
   "outputs": [],
   "source": []
  },
  {
   "cell_type": "markdown",
   "id": "6bd25c04",
   "metadata": {},
   "source": [
    "## Работа с индексом"
   ]
  },
  {
   "cell_type": "code",
   "execution_count": null,
   "id": "c7d1c13a",
   "metadata": {},
   "outputs": [],
   "source": [
    "sales.head(3)"
   ]
  },
  {
   "cell_type": "code",
   "execution_count": null,
   "id": "ce6345d7",
   "metadata": {},
   "outputs": [],
   "source": [
    "sales_idx = sales.set_index(['check_id', 'customer_id',  'shop_id'])\n",
    "sales_idx.head(3)"
   ]
  },
  {
   "cell_type": "markdown",
   "id": "3e76a8bb",
   "metadata": {},
   "source": [
    "### reset_index\n",
    "метод перекидывает колонки из индекса в тело таблицы\n",
    "\n",
    "#### Параметры:\n",
    "1. level - название (или номер) уровня или список из названий (номеров) уровней, которые надо сбросить (по умолчанию сбрасываются все колонки индекса\n",
    "2. drop - выкидывать колонки из таблицы (True если выкидывать, False если нет. По умолчанию False)\n",
    "3. names - список из названий, с которыми сбрасывать колонки (то есть колонки автоматически поменяют названия)"
   ]
  },
  {
   "cell_type": "code",
   "execution_count": null,
   "id": "990d0791",
   "metadata": {},
   "outputs": [],
   "source": [
    "# Колонки check_id, customer_id и shop_id перешли из индекса в тело таблицы\n",
    "sales_idx.reset_index().head(3)"
   ]
  },
  {
   "cell_type": "code",
   "execution_count": null,
   "id": "0a0a50f4",
   "metadata": {},
   "outputs": [],
   "source": [
    "# Исходная таблица\n",
    "sales_idx.head(3)"
   ]
  },
  {
   "cell_type": "markdown",
   "id": "94a4e7f2",
   "metadata": {},
   "source": [
    "#### drop=True удаляет колонки из таблицы"
   ]
  },
  {
   "cell_type": "code",
   "execution_count": null,
   "id": "9f5d5abd",
   "metadata": {},
   "outputs": [],
   "source": [
    "# Колонки check_id, customer_id и shop_id были удалены\n",
    "sales_idx.reset_index(drop=True).head(3)"
   ]
  },
  {
   "cell_type": "markdown",
   "id": "5226aeec",
   "metadata": {},
   "source": [
    "#### Можно сбрасывать некоторые колонки"
   ]
  },
  {
   "cell_type": "code",
   "execution_count": null,
   "id": "80db5dbf",
   "metadata": {},
   "outputs": [],
   "source": [
    "# Исходная таблица\n",
    "sales_idx.head(3)"
   ]
  },
  {
   "cell_type": "markdown",
   "id": "62cb4aad",
   "metadata": {},
   "source": [
    "Cбрасываем только первую колонку индекса"
   ]
  },
  {
   "cell_type": "code",
   "execution_count": null,
   "id": "18771948",
   "metadata": {},
   "outputs": [],
   "source": [
    "sales_idx.reset_index(level=0).head(3)"
   ]
  },
  {
   "cell_type": "markdown",
   "id": "950a4023",
   "metadata": {},
   "source": [
    "Выкидываем вторую колонку (customer_id) и колонку shop_id"
   ]
  },
  {
   "cell_type": "code",
   "execution_count": null,
   "id": "8b7a8be3",
   "metadata": {},
   "outputs": [],
   "source": [
    "sales_idx.reset_index(level=[1, 'shop_id'], drop=True).head(3)"
   ]
  },
  {
   "cell_type": "code",
   "execution_count": null,
   "id": "339fda01",
   "metadata": {},
   "outputs": [],
   "source": []
  },
  {
   "cell_type": "markdown",
   "id": "8436338e",
   "metadata": {},
   "source": [
    "### Set_index\n",
    "\n",
    "Метод перекидывает колонку из тела таблицы в индекс\n",
    "\n",
    "df.set_index(название колонки или список из названий колонок)"
   ]
  },
  {
   "cell_type": "code",
   "execution_count": null,
   "id": "f12c44af",
   "metadata": {},
   "outputs": [],
   "source": [
    "# Исходная таблица\n",
    "sales_idx.head(3)"
   ]
  },
  {
   "cell_type": "markdown",
   "id": "8966200a",
   "metadata": {},
   "source": [
    "Кладем в индекс колонку purchase_date. При использовании метода старый индекс удаляется"
   ]
  },
  {
   "cell_type": "code",
   "execution_count": null,
   "id": "ff2b0b35",
   "metadata": {},
   "outputs": [],
   "source": [
    "sales_idx.set_index('purchase_date').head(3)"
   ]
  },
  {
   "cell_type": "markdown",
   "id": "581c7153",
   "metadata": {},
   "source": [
    "Чтобы добавить колонку к существующему индексу необходимо в параметр append передать значение True"
   ]
  },
  {
   "cell_type": "code",
   "execution_count": null,
   "id": "9695b830",
   "metadata": {},
   "outputs": [],
   "source": [
    "sales_idx.set_index('purchase_date', append=True).head(3)"
   ]
  },
  {
   "cell_type": "code",
   "execution_count": null,
   "id": "7df599db",
   "metadata": {},
   "outputs": [],
   "source": [
    "sales_idx.set_index(['purchase_date', 'product_code_3'], append=True).head(3)"
   ]
  },
  {
   "cell_type": "code",
   "execution_count": null,
   "id": "9f777276",
   "metadata": {},
   "outputs": [],
   "source": []
  },
  {
   "cell_type": "code",
   "execution_count": null,
   "id": "e9d86858",
   "metadata": {},
   "outputs": [],
   "source": []
  },
  {
   "cell_type": "code",
   "execution_count": null,
   "id": "0d9d10fb",
   "metadata": {},
   "outputs": [],
   "source": []
  },
  {
   "cell_type": "code",
   "execution_count": null,
   "id": "6bb25280",
   "metadata": {},
   "outputs": [],
   "source": []
  },
  {
   "cell_type": "code",
   "execution_count": null,
   "id": "d889261f",
   "metadata": {},
   "outputs": [],
   "source": []
  },
  {
   "cell_type": "code",
   "execution_count": null,
   "id": "7f9d38a3",
   "metadata": {},
   "outputs": [],
   "source": []
  },
  {
   "cell_type": "code",
   "execution_count": null,
   "id": "a7a2d106",
   "metadata": {},
   "outputs": [],
   "source": []
  },
  {
   "cell_type": "code",
   "execution_count": null,
   "id": "803de78a",
   "metadata": {},
   "outputs": [],
   "source": []
  },
  {
   "cell_type": "code",
   "execution_count": null,
   "id": "a3b66fdc",
   "metadata": {},
   "outputs": [],
   "source": []
  },
  {
   "cell_type": "code",
   "execution_count": null,
   "id": "cd3a0f37",
   "metadata": {},
   "outputs": [],
   "source": []
  },
  {
   "cell_type": "markdown",
   "id": "5d1cd360",
   "metadata": {},
   "source": [
    "# Задания"
   ]
  },
  {
   "cell_type": "markdown",
   "id": "6adc17bb",
   "metadata": {},
   "source": [
    "#### Описание таблиц лежит [здесь](https://github.com/victorlymarev/pandas/tree/main/tables#%D0%BE%D0%BF%D0%B8%D1%81%D0%B0%D0%BD%D0%B8%D0%B5-%D1%82%D0%B0%D0%B1%D0%BB%D0%B8%D1%86)"
   ]
  },
  {
   "cell_type": "markdown",
   "id": "44e3f956",
   "metadata": {},
   "source": [
    "Некоторые таблицы занимают много памяти, поэтому каждые 5-10 заданий лучше перезапускайте ноутбук.\n",
    "\n",
    "В формулировке некоторых заданий может содержаться вариативность. Если у вас есть сомнения, что требуется в задании, попробуйте решить несколько вариантов. Если вы не понимаете задание, можете написать об этом в комментариях под видео.\n",
    "\n",
    "В большинстве случаев внешний вид итоговой таблицы не определен. Выведите на экран наиболее адекватный вариант. То есть таблицу, из которой можно будет сделать выводы.\n",
    "\n",
    "Курс пока находится в разработке. Вы можете помочь другим людям добавив свое решение [сюда](https://docs.google.com/forms/d/1HYTBz_KfssY3Jps2dC3n0YnEqa6WBb5OIhLo1d32Xzw/edit).\n",
    "\n",
    "Посмотреть решения других людей можно [здесь](https://docs.google.com/spreadsheets/d/1pMDYO-9UneLbPPnEuQ2shig0TOJdQTU-zipifyAnZMk/edit?resourcekey#gid=1998648012)"
   ]
  },
  {
   "cell_type": "markdown",
   "id": "99ef9702",
   "metadata": {},
   "source": [
    "Описание таблиц лежит [здесь](https://github.com/victorlymarev/pandas/tree/main/tables)"
   ]
  },
  {
   "cell_type": "markdown",
   "id": "d0fe65f4",
   "metadata": {},
   "source": [
    "### Задание 1\n",
    "\n",
    "Приведите названия колонок в таблице shops к верхнему регистру"
   ]
  },
  {
   "cell_type": "code",
   "execution_count": null,
   "id": "52ed6ba8",
   "metadata": {},
   "outputs": [],
   "source": [
    "import os\n",
    "import pandas as pd\n",
    "\n",
    "path_shops = '../tables/shops.xlsx' if os.path.exists('../tables/shops.xlsx') else 'https://drive.google.com/uc?id=1gfnmceJa3Mc1X06NftTx9G9QfKfprjEB'\n",
    "\n",
    "shops = pd.read_excel(path_shops)\n",
    "shops.head()"
   ]
  },
  {
   "cell_type": "code",
   "execution_count": null,
   "id": "c1979759",
   "metadata": {},
   "outputs": [],
   "source": [
    "# Напишите свой код здесь"
   ]
  },
  {
   "cell_type": "markdown",
   "id": "d0a0ce61",
   "metadata": {},
   "source": [
    "### Задание 2\n",
    "\n",
    "К названиям колонок таблицы ltc добавьте префикс 'deal_'. То есть итоговые названия колонок должны выглядить как deal_date, deal_price, deal_volume"
   ]
  },
  {
   "cell_type": "code",
   "execution_count": null,
   "id": "be364deb",
   "metadata": {},
   "outputs": [],
   "source": [
    "import os\n",
    "import pandas as pd\n",
    "path_ltc_sample = '../tables/ltc_sample.parquet' if os.path.exists('../tables/ltc_sample.parquet') else 'https://drive.google.com/uc?id=1XaThogOOqKjJj50LvfJ9WqutjMAC5AxA'\n",
    "\n",
    "ltc = pd.read_parquet(path_ltc_sample)\n",
    "ltc.head()"
   ]
  },
  {
   "cell_type": "code",
   "execution_count": null,
   "id": "0e98b40c",
   "metadata": {},
   "outputs": [],
   "source": [
    "# Напишите свой код здесь"
   ]
  },
  {
   "cell_type": "markdown",
   "id": "9cb3a2e8",
   "metadata": {},
   "source": [
    "### Задание 3\n",
    "\n",
    "В таблице empl замените название колонок report_dt на \"Отчетная дата\", i_pernr на \"Табельный номер\", а education на \"уровень образования\""
   ]
  },
  {
   "cell_type": "code",
   "execution_count": null,
   "id": "06f7f214",
   "metadata": {},
   "outputs": [],
   "source": [
    "import os\n",
    "import pandas as pd\n",
    "\n",
    "path_empl = '../tables/employees.parquet' if os.path.exists('../tables/employees.parquet') else 'https://drive.google.com/uc?id=1AARD5-eVlCxoApt5CYZebrC3Cqw42lvj'\n",
    "\n",
    "empl = pd.read_parquet(path_empl)\n",
    "empl.head()"
   ]
  },
  {
   "cell_type": "code",
   "execution_count": null,
   "id": "a9fcd358",
   "metadata": {},
   "outputs": [],
   "source": [
    "# Напишите свой код здесь"
   ]
  },
  {
   "cell_type": "markdown",
   "id": "33f9fbd3",
   "metadata": {},
   "source": [
    "### Задание 4\n",
    "\n",
    "Посмотрите как выглядят названия колонок в таблице people. \n",
    "\n",
    "Приведите их к нижнему регистру, после чего замените пробелы в названиях на знаки нижнего подчеркивания. \n",
    "\n",
    "Вы можете использовать любой из способов. Однако проще всего это сделать через функцию, использующую внутри себя метод lower и метод replace.\n",
    "\n",
    "Метод replace имеет следующий синтаксис: \"строка\".replace(\"символ, который надо заменить\", \"символ, который надо вствить\")\n",
    "\n",
    "Методы можно применять друг за другом. \n",
    "\n",
    "Подробнее про методы строк можете посмотреть здесь:\n",
    "\n",
    "https://www.youtube.com/watch?v=TEF-0UXRybg&list=PLA0M1Bcd0w8yWHh2V70bTtbVxJICrnJHd&index=10\n",
    "\n",
    "или здесь:\n",
    "\n",
    "https://pythonworld.ru/tipy-dannyx-v-python/stroki-funkcii-i-metody-strok.html"
   ]
  },
  {
   "cell_type": "code",
   "execution_count": null,
   "id": "2066b669",
   "metadata": {},
   "outputs": [],
   "source": [
    "import os\n",
    "import pandas as pd\n",
    "\n",
    "path_people = '../tables/people.parquet' if os.path.exists('../tables/people.parquet') else 'https://drive.google.com/uc?id=1iI1Lde5ya3ruztGYmjpprSCUoCU9rBeS'\n",
    "\n",
    "people = pd.read_parquet(path_people)\n",
    "people.head()"
   ]
  },
  {
   "cell_type": "code",
   "execution_count": null,
   "id": "f5ef06d6",
   "metadata": {},
   "outputs": [],
   "source": [
    "# Напишите свой код здесь"
   ]
  },
  {
   "cell_type": "markdown",
   "id": "ae7b1dc6",
   "metadata": {},
   "source": [
    "### Задание 5\n",
    "\n",
    "Выкиньте верхнюю строчку из шапки таблицы marks_agg1"
   ]
  },
  {
   "cell_type": "code",
   "execution_count": null,
   "id": "d2d2971a",
   "metadata": {},
   "outputs": [],
   "source": [
    "import os\n",
    "import pandas as pd\n",
    "\n",
    "path_marks = '../tables/оценки.xlsx' if os.path.exists('../tables/оценки.xlsx') else 'https://drive.google.com/uc?id=17f4DXx53J0WooNkhO13xidseZJ-O2obs'\n",
    "\n",
    "marks_agg1 = pd.read_excel(path_marks).groupby('Пол').agg({'Математика': ['mean', 'std']})\n",
    "marks_agg1"
   ]
  },
  {
   "cell_type": "code",
   "execution_count": null,
   "id": "fda03505",
   "metadata": {},
   "outputs": [],
   "source": [
    "# Напишите свой код здесь"
   ]
  },
  {
   "cell_type": "markdown",
   "id": "6e653fe3",
   "metadata": {},
   "source": [
    "### Задание 6\n",
    "\n",
    "Объедините первые 2 строчки в шапке таблицы marks_agg2 в одну так, чтобы назания колонок не повторялись"
   ]
  },
  {
   "cell_type": "code",
   "execution_count": null,
   "id": "9c6cfaad",
   "metadata": {},
   "outputs": [],
   "source": [
    "import os\n",
    "import pandas as pd\n",
    "\n",
    "path_marks = '../tables/оценки.xlsx' if os.path.exists('../tables/оценки.xlsx') else 'https://drive.google.com/uc?id=17f4DXx53J0WooNkhO13xidseZJ-O2obs'\n",
    "\n",
    "marks_agg2 = pd.read_excel(path_marks).drop('ФИО', axis=1).groupby('Пол').agg(['mean', 'std'])\n",
    "marks_agg2"
   ]
  },
  {
   "cell_type": "code",
   "execution_count": null,
   "id": "45f1d050",
   "metadata": {},
   "outputs": [],
   "source": [
    "# Напишите свой код здесь"
   ]
  },
  {
   "cell_type": "markdown",
   "id": "811c4dd1",
   "metadata": {},
   "source": [
    "### Задание 7\n",
    "\n",
    "В таблице stocks перекиньте из индекса в тело таблицы колонку с датами"
   ]
  },
  {
   "cell_type": "code",
   "execution_count": null,
   "id": "e93b1208",
   "metadata": {},
   "outputs": [],
   "source": [
    "import os\n",
    "import pandas as pd\n",
    "\n",
    "path_stocks = '../tables/stocks.parquet' if os.path.exists('../tables/stocks.parquet') else 'https://drive.google.com/uc?id=1weGquTtmR92mKYAeZhZCFHJjndyoSXZt'\n",
    "\n",
    "stocks = pd.read_parquet(path_stocks)\n",
    "stocks.head()"
   ]
  },
  {
   "cell_type": "code",
   "execution_count": null,
   "id": "f60034a2",
   "metadata": {},
   "outputs": [],
   "source": [
    "# Напишите свой код здесь"
   ]
  },
  {
   "cell_type": "markdown",
   "id": "6deb8538",
   "metadata": {},
   "source": [
    "### Задание 8\n",
    "\n",
    "В таблице stocks удалите колонку с датами"
   ]
  },
  {
   "cell_type": "code",
   "execution_count": null,
   "id": "41c30d8e",
   "metadata": {},
   "outputs": [],
   "source": [
    "import os\n",
    "import pandas as pd\n",
    "\n",
    "path_stocks = '../tables/stocks.parquet' if os.path.exists('../tables/stocks.parquet') else 'https://drive.google.com/uc?id=1weGquTtmR92mKYAeZhZCFHJjndyoSXZt'\n",
    "\n",
    "stocks = pd.read_parquet(path_stocks)\n",
    "stocks.head()"
   ]
  },
  {
   "cell_type": "code",
   "execution_count": null,
   "id": "630a7475",
   "metadata": {},
   "outputs": [],
   "source": [
    "# Напишите свой код здесь"
   ]
  },
  {
   "cell_type": "markdown",
   "id": "7d285379",
   "metadata": {},
   "source": [
    "### Задание 9\n",
    "\n",
    "В таблице goods_descr перенесите колонку product_code_3 в инедекс. После этого добавьте к ней колонку product_code_2.\n",
    "\n",
    "То есть вам необходимо 2 раза подряд применить метод  set_index вот так:\n",
    "\n",
    "(goods_descr\n",
    "\n",
    "    .set_index(...)\n",
    "    .set_index(...)\n",
    ")"
   ]
  },
  {
   "cell_type": "code",
   "execution_count": null,
   "id": "238e5b7b",
   "metadata": {},
   "outputs": [],
   "source": [
    "import os\n",
    "import pandas as pd\n",
    "\n",
    "path_goods_descr = '../tables/goods_description.parquet' if os.path.exists('../tables/goods_description.parquet') else 'https://drive.google.com/uc?id=1YbiD02Rev-X_WWV9nPSG1zZFmEh2JjPh'\n",
    "\n",
    "goods_descr = pd.read_parquet(path_goods_descr)\n",
    "goods_descr.head()"
   ]
  },
  {
   "cell_type": "code",
   "execution_count": null,
   "id": "3e66937b",
   "metadata": {},
   "outputs": [],
   "source": [
    "# Напишите свой код здесь"
   ]
  },
  {
   "cell_type": "markdown",
   "id": "9a67d21a",
   "metadata": {},
   "source": [
    "### Задание 10\n",
    "\n",
    "Посмотрите на таблицу xdg_usdt. В ней содержаться данные по торговли криптовалютами xdg и usdt\n",
    "\n",
    "Дайте названиям колонок значения 'Дата', 'Цена', 'Объем'"
   ]
  },
  {
   "cell_type": "code",
   "execution_count": null,
   "id": "b8999581",
   "metadata": {},
   "outputs": [],
   "source": [
    "import os\n",
    "import pandas as pd\n",
    "path_xdg_usdt = '../tables/XDGUSDT.csv' if os.path.exists('../tables/XDGUSDT.csv') else 'https://drive.google.com/uc?id=1oLjCNOsdKbd87sIgW0_OWDpD2DVHAAAV'\n",
    "xdg_usdt = pd.read_csv(path_xdg_usdt, header=None)\n",
    "xdg_usdt.head()"
   ]
  },
  {
   "cell_type": "code",
   "execution_count": null,
   "id": "d6eb0e80",
   "metadata": {},
   "outputs": [],
   "source": [
    "# Напишите свой код здесь"
   ]
  },
  {
   "cell_type": "code",
   "execution_count": null,
   "id": "1c19676b",
   "metadata": {},
   "outputs": [],
   "source": []
  },
  {
   "cell_type": "code",
   "execution_count": null,
   "id": "958a5276",
   "metadata": {},
   "outputs": [],
   "source": []
  }
 ],
 "metadata": {
  "kernelspec": {
   "display_name": "Python 3 (ipykernel)",
   "language": "python",
   "name": "python3"
  },
  "language_info": {
   "codemirror_mode": {
    "name": "ipython",
    "version": 3
   },
   "file_extension": ".py",
   "mimetype": "text/x-python",
   "name": "python",
   "nbconvert_exporter": "python",
   "pygments_lexer": "ipython3",
   "version": "3.11.5"
  }
 },
 "nbformat": 4,
 "nbformat_minor": 5
}
