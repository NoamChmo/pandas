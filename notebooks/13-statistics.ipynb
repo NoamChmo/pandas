{
 "cells": [
  {
   "cell_type": "markdown",
   "id": "91fddc85",
   "metadata": {},
   "source": [
    "<a target=\"_blank\" href=\"https://colab.research.google.com/github/victorlymarev/pandas/blob/main/notebooks/13-statistics.ipynb\">\n",
    "  <img src=\"https://colab.research.google.com/assets/colab-badge.svg\" alt=\"Open In Colab\"/>\n",
    "</a>"
   ]
  },
  {
   "cell_type": "markdown",
   "id": "29cc5578",
   "metadata": {},
   "source": [
    "# Агрегации \n",
    "#### [Ссылка на видео](https://youtu.be/AYeN8DhNNIM)"
   ]
  },
  {
   "cell_type": "code",
   "execution_count": null,
   "id": "36487e0f",
   "metadata": {
    "scrolled": true
   },
   "outputs": [],
   "source": [
    "import pandas as pd\n",
    "import numpy as np\n",
    "import seaborn as sns\n",
    "import matplotlib.pyplot as plt\n",
    "import os"
   ]
  },
  {
   "cell_type": "code",
   "execution_count": null,
   "id": "95554c84",
   "metadata": {
    "scrolled": true
   },
   "outputs": [],
   "source": [
    "path_empl = '../tables_/employees.parquet' if os.path.exists('../tables_/employees.parquet') else 'https://drive.google.com/uc?id=1AARD5-eVlCxoApt5CYZebrC3Cqw42lvj'\n",
    "\n",
    "empl = pd.read_parquet(path_empl).query('report_dt >= \"2022-10-31\"')[\n",
    "    ['report_dt', 'fio', 'sex', 'birth_date', 'mgmt_flag', 'employee_evaluation', 'salary']]\n",
    "empl.head()"
   ]
  },
  {
   "cell_type": "code",
   "execution_count": null,
   "id": "7e1aa3d6",
   "metadata": {
    "scrolled": true
   },
   "outputs": [],
   "source": []
  },
  {
   "cell_type": "markdown",
   "id": "b6cddd6e",
   "metadata": {},
   "source": [
    "## Построение гистограмм"
   ]
  },
  {
   "cell_type": "markdown",
   "id": "ba984453",
   "metadata": {},
   "source": [
    "Как правило, у гистограммы по оси х расположен какой-то непрерывный показатель (например зарплаата или возраст), разделенный на интервалы. Высота стоблца означает, какое количесво наблюдений попало в каждый инервал."
   ]
  },
  {
   "cell_type": "code",
   "execution_count": null,
   "id": "74ad882c",
   "metadata": {
    "scrolled": false
   },
   "outputs": [],
   "source": [
    "empl['salary'].hist()\n",
    "# Можно еще написать\n",
    "# plt.hist(empl['salary'])\n",
    "# [ 20500.,  33920.,  47340.,  60760.,  74180.,  87600., 101020., 114440., 127860., 141280., 154700.]"
   ]
  },
  {
   "cell_type": "code",
   "execution_count": null,
   "id": "a02ab154",
   "metadata": {
    "scrolled": false
   },
   "outputs": [],
   "source": [
    "plt.figure(figsize=(9, 4)) # определяем размеры графика, первое значение - ширина, второе высота\n",
    "\n",
    "plt.hist(empl['salary'], # данные\n",
    "         range=(20000, 155000), # range - интервал, на котором строится гистограмма\n",
    "         bins=27 # bins=количество столбцов, на которые делется интервал \n",
    "        )\n",
    "\n",
    "plt.title('Гитрограмма зарплат') # добавляем название графика\n",
    "plt.xlabel('Зарплата, руб') # добавляем название оси х\n",
    "plt.ylabel('Количество наблюдений') # добавляем название оси у\n",
    "plt.xticks([i for i in range(20000, 160001, 10000)], rotation=20)\n",
    "plt.grid(alpha=0.1) # добавляем сетку, устанвливая уровень прозрачности\n",
    "plt.show() # выводим график на экран"
   ]
  },
  {
   "cell_type": "code",
   "execution_count": null,
   "id": "41f70ef6",
   "metadata": {
    "scrolled": false
   },
   "outputs": [],
   "source": [
    "plt.figure(figsize=(10, 5))\n",
    "\n",
    "(sns.histplot(data=empl, # датафрейм откуда берутся данные\n",
    "              x='salary', # название колонки по которой строится график\n",
    "              binwidth=5000, # ширина стобца\n",
    "              binrange=(20000, 155000), # интервал, на котором строится гистограмма\n",
    "              stat='percent' # статистика, которая будет считаться по оси y\n",
    "             )\n",
    "    .set(title='Гитограмма зарплат', xlabel='Зарплата, руб', ylabel='%')\n",
    ")\n",
    "plt.show() # выводим график на экран"
   ]
  },
  {
   "cell_type": "markdown",
   "id": "623614b0",
   "metadata": {},
   "source": [
    "#### Ядерная оценка плотности"
   ]
  },
  {
   "cell_type": "code",
   "execution_count": null,
   "id": "b10dc3d0",
   "metadata": {
    "scrolled": false
   },
   "outputs": [],
   "source": [
    "plt.figure(figsize=(10, 5))\n",
    "(sns.kdeplot(data=empl, # датафрейм\n",
    "             x='salary', # колонка, по которой строится график\n",
    "             common_norm=True, # площадь под графиком равна 1\n",
    "             fill=True, # тень под графиком\n",
    "             bw_method=0.01 # окно пропускания\n",
    "            )\n",
    "    .set(title='Ядерная оценка плотности', xlabel='Зарплата, руб', ylabel='Плотность')\n",
    ")\n",
    "plt.show()"
   ]
  },
  {
   "cell_type": "code",
   "execution_count": null,
   "id": "2a7755db",
   "metadata": {
    "scrolled": true
   },
   "outputs": [],
   "source": []
  },
  {
   "cell_type": "code",
   "execution_count": null,
   "id": "5415685f",
   "metadata": {
    "scrolled": true
   },
   "outputs": [],
   "source": []
  },
  {
   "cell_type": "code",
   "execution_count": null,
   "id": "4d9e40cc",
   "metadata": {
    "scrolled": true
   },
   "outputs": [],
   "source": []
  },
  {
   "cell_type": "markdown",
   "id": "379786ef",
   "metadata": {},
   "source": [
    "## Статистики\n",
    "\n",
    "Статистика - это функция от выборки (то есть от данных)\n",
    "\n",
    "Это может быть среднее значение, сумма всех элементов элементов выборки, первое значение, число уникальных значений или просто сама выборка"
   ]
  },
  {
   "cell_type": "markdown",
   "id": "8ed994aa",
   "metadata": {},
   "source": [
    "### Сумма"
   ]
  },
  {
   "cell_type": "code",
   "execution_count": null,
   "id": "cbfc0f4b",
   "metadata": {
    "scrolled": true
   },
   "outputs": [],
   "source": [
    "empl['salary'].sum()"
   ]
  },
  {
   "cell_type": "markdown",
   "id": "66f72c0f",
   "metadata": {},
   "source": [
    "### Произведение"
   ]
  },
  {
   "cell_type": "code",
   "execution_count": null,
   "id": "e37aa5c4",
   "metadata": {
    "scrolled": true
   },
   "outputs": [],
   "source": [
    "empl['salary'].head().prod()"
   ]
  },
  {
   "cell_type": "markdown",
   "id": "22368ad9",
   "metadata": {},
   "source": [
    "### Количество заполненных строк"
   ]
  },
  {
   "cell_type": "code",
   "execution_count": null,
   "id": "1cd376ee",
   "metadata": {
    "scrolled": true
   },
   "outputs": [],
   "source": [
    "empl['salary'].count()"
   ]
  },
  {
   "cell_type": "markdown",
   "id": "9a862d0c",
   "metadata": {},
   "source": [
    "## Характеристики среднего"
   ]
  },
  {
   "cell_type": "markdown",
   "id": "024ac38a",
   "metadata": {},
   "source": [
    "### Среднее арифметическое"
   ]
  },
  {
   "cell_type": "markdown",
   "id": "bf035ceb",
   "metadata": {},
   "source": [
    "$$\n",
    "Среднее\\ арифметическое = {сумма \\over количество\\ непустых\\ строк}\n",
    "$$"
   ]
  },
  {
   "cell_type": "code",
   "execution_count": null,
   "id": "35166134",
   "metadata": {
    "scrolled": true
   },
   "outputs": [],
   "source": [
    "empl['salary'].mean()\n",
    "# empl['salary'].sum() / empl['salary'].count()"
   ]
  },
  {
   "cell_type": "markdown",
   "id": "6aafea25",
   "metadata": {},
   "source": [
    "Возвращаемое число не обычный float, а нампаевский"
   ]
  },
  {
   "cell_type": "code",
   "execution_count": null,
   "id": "1cf80537",
   "metadata": {
    "scrolled": true
   },
   "outputs": [],
   "source": [
    "type(empl['salary'].mean())"
   ]
  },
  {
   "cell_type": "markdown",
   "id": "92faba36",
   "metadata": {},
   "source": [
    "Поэтому с ним можно продолжать рабоать, например округлить"
   ]
  },
  {
   "cell_type": "code",
   "execution_count": null,
   "id": "fc056121",
   "metadata": {
    "scrolled": true
   },
   "outputs": [],
   "source": [
    "empl['salary'].mean().round()"
   ]
  },
  {
   "cell_type": "markdown",
   "id": "2fbabea6",
   "metadata": {},
   "source": [
    "Центрирование данных (это вычитание из них среднего значения)"
   ]
  },
  {
   "cell_type": "code",
   "execution_count": null,
   "id": "ed2148bf",
   "metadata": {
    "scrolled": true
   },
   "outputs": [],
   "source": [
    "empl['salary'] - empl['salary'].mean()"
   ]
  },
  {
   "cell_type": "code",
   "execution_count": null,
   "id": "5adf58b1",
   "metadata": {
    "scrolled": true
   },
   "outputs": [],
   "source": []
  },
  {
   "cell_type": "code",
   "execution_count": null,
   "id": "7b750c36",
   "metadata": {
    "scrolled": true
   },
   "outputs": [],
   "source": []
  },
  {
   "cell_type": "markdown",
   "id": "3f756d70",
   "metadata": {},
   "source": [
    "### Медиана"
   ]
  },
  {
   "cell_type": "markdown",
   "id": "7e4ca5f4",
   "metadata": {},
   "source": [
    "Медиана - это значение, которое находится посередине в отсортированном массиве"
   ]
  },
  {
   "cell_type": "code",
   "execution_count": null,
   "id": "57bd1b48",
   "metadata": {
    "scrolled": true
   },
   "outputs": [],
   "source": [
    "# рисуем гистограмму\n",
    "empl['salary'].hist(figsize=(10, 2), bins=27, range=(20000, 155000))\n",
    "# рисуем вертикальную красную линию\n",
    "plt.axline(xy1=(empl.query('report_dt == \"2022-12-31\"')['salary'].median(), 0),\n",
    "           xy2=(empl.query('report_dt == \"2022-12-31\"')['salary'].median(), 100), color='r')\n",
    "plt.show()"
   ]
  },
  {
   "cell_type": "code",
   "execution_count": null,
   "id": "837ce60c",
   "metadata": {
    "scrolled": true
   },
   "outputs": [],
   "source": [
    "empl['salary'].median()"
   ]
  },
  {
   "cell_type": "code",
   "execution_count": null,
   "id": "da62336b",
   "metadata": {
    "scrolled": true
   },
   "outputs": [],
   "source": []
  },
  {
   "cell_type": "code",
   "execution_count": null,
   "id": "f797498f",
   "metadata": {
    "scrolled": true
   },
   "outputs": [],
   "source": []
  },
  {
   "cell_type": "markdown",
   "id": "29307995",
   "metadata": {},
   "source": [
    "### Мода"
   ]
  },
  {
   "cell_type": "markdown",
   "id": "eab6ae7b",
   "metadata": {},
   "source": [
    "Мода - это самое частое значение"
   ]
  },
  {
   "cell_type": "code",
   "execution_count": null,
   "id": "dc313edc",
   "metadata": {
    "scrolled": true
   },
   "outputs": [],
   "source": [
    "empl['salary'].mode()"
   ]
  },
  {
   "cell_type": "code",
   "execution_count": null,
   "id": "8ddad461",
   "metadata": {
    "scrolled": true
   },
   "outputs": [],
   "source": [
    "empl.query('salary == salary.mode().item()')['salary'].count()"
   ]
  },
  {
   "cell_type": "code",
   "execution_count": null,
   "id": "dfadbffe",
   "metadata": {
    "scrolled": true
   },
   "outputs": [],
   "source": [
    "empl['salary'].mode().item()\n",
    "# empl['salary'].mode().iloc[0]"
   ]
  },
  {
   "cell_type": "code",
   "execution_count": null,
   "id": "46828451",
   "metadata": {
    "scrolled": true
   },
   "outputs": [],
   "source": [
    "pd.Series([1, 2, 3, 1, 3]).mode()"
   ]
  },
  {
   "cell_type": "code",
   "execution_count": null,
   "id": "fc62cd75",
   "metadata": {
    "scrolled": true
   },
   "outputs": [],
   "source": []
  },
  {
   "cell_type": "code",
   "execution_count": null,
   "id": "c6074808",
   "metadata": {
    "scrolled": true
   },
   "outputs": [],
   "source": []
  },
  {
   "cell_type": "code",
   "execution_count": null,
   "id": "30fa8585",
   "metadata": {
    "scrolled": true
   },
   "outputs": [],
   "source": []
  },
  {
   "cell_type": "code",
   "execution_count": null,
   "id": "1b206bb1",
   "metadata": {
    "scrolled": true
   },
   "outputs": [],
   "source": []
  },
  {
   "cell_type": "markdown",
   "id": "80f72fe1",
   "metadata": {},
   "source": [
    "## Характеристики разброса"
   ]
  },
  {
   "cell_type": "code",
   "execution_count": null,
   "id": "5d3dee63",
   "metadata": {
    "scrolled": false
   },
   "outputs": [],
   "source": [
    "plt.figure(figsize=(8, 5))\n",
    "np.random.seed(10)\n",
    "plt.subplot(2, 1, 1)\n",
    "plt.hist(np.random.normal(0, 1, 10000), bins=50)\n",
    "plt.xlim((-10, 10))\n",
    "plt.subplot(2, 1, 2)\n",
    "plt.hist(np.random.normal(0, 3, 10000), bins=50)\n",
    "plt.xlim((-10, 10))\n",
    "plt.show()"
   ]
  },
  {
   "cell_type": "markdown",
   "id": "57c16921",
   "metadata": {},
   "source": [
    "### Дисперсия"
   ]
  },
  {
   "cell_type": "markdown",
   "id": "d5a16fab",
   "metadata": {},
   "source": [
    "Дисперсия - это средний квадрат отклонения от среднего"
   ]
  },
  {
   "cell_type": "code",
   "execution_count": null,
   "id": "45bd3d8d",
   "metadata": {
    "scrolled": true
   },
   "outputs": [],
   "source": [
    "empl['salary'].var()"
   ]
  },
  {
   "cell_type": "markdown",
   "id": "59fcec7d",
   "metadata": {},
   "source": [
    "Попробуем посчитать ее руками"
   ]
  },
  {
   "cell_type": "code",
   "execution_count": null,
   "id": "ab455a86",
   "metadata": {
    "scrolled": true
   },
   "outputs": [],
   "source": [
    "((empl['salary'] - empl['salary'].mean()) ** 2).mean()"
   ]
  },
  {
   "cell_type": "markdown",
   "id": "07e2ff2b",
   "metadata": {},
   "source": [
    "Как ее считает pandas"
   ]
  },
  {
   "cell_type": "code",
   "execution_count": null,
   "id": "f64d37e6",
   "metadata": {
    "scrolled": true
   },
   "outputs": [],
   "source": [
    "# Усредняем полученные числа\n",
    "((empl['salary'] - empl['salary'].mean()) ** 2).sum() / (empl['salary'].count() - 1)"
   ]
  },
  {
   "cell_type": "code",
   "execution_count": null,
   "id": "46b1c798",
   "metadata": {
    "scrolled": false
   },
   "outputs": [],
   "source": [
    "# Дисперсии равны\n",
    "empl['salary'].var()"
   ]
  },
  {
   "cell_type": "code",
   "execution_count": null,
   "id": "b7f939e2",
   "metadata": {
    "scrolled": true
   },
   "outputs": [],
   "source": []
  },
  {
   "cell_type": "code",
   "execution_count": null,
   "id": "a398689f",
   "metadata": {
    "scrolled": true
   },
   "outputs": [],
   "source": []
  },
  {
   "cell_type": "code",
   "execution_count": null,
   "id": "65b5c6a8",
   "metadata": {
    "scrolled": true
   },
   "outputs": [],
   "source": []
  },
  {
   "cell_type": "markdown",
   "id": "16b8e5fa",
   "metadata": {},
   "source": [
    "Можно не вычитать единицу из знаменателя, а просто усреднить"
   ]
  },
  {
   "cell_type": "code",
   "execution_count": null,
   "id": "ccebc6a7",
   "metadata": {
    "scrolled": true
   },
   "outputs": [],
   "source": [
    "((empl['salary'] - empl['salary'].mean()) ** 2).mean()"
   ]
  },
  {
   "cell_type": "code",
   "execution_count": null,
   "id": "aae06559",
   "metadata": {
    "scrolled": true
   },
   "outputs": [],
   "source": [
    "empl['salary'].to_numpy().var()"
   ]
  },
  {
   "cell_type": "code",
   "execution_count": null,
   "id": "e1ead6ad",
   "metadata": {
    "scrolled": true
   },
   "outputs": [],
   "source": [
    "empl['salary'].var(ddof=0)"
   ]
  },
  {
   "cell_type": "code",
   "execution_count": null,
   "id": "3f48a4e2",
   "metadata": {
    "scrolled": true
   },
   "outputs": [],
   "source": []
  },
  {
   "cell_type": "code",
   "execution_count": null,
   "id": "66e073ee",
   "metadata": {
    "scrolled": true
   },
   "outputs": [],
   "source": []
  },
  {
   "cell_type": "code",
   "execution_count": null,
   "id": "cde4b99d",
   "metadata": {
    "scrolled": true
   },
   "outputs": [],
   "source": []
  },
  {
   "cell_type": "markdown",
   "id": "2e82ad03",
   "metadata": {},
   "source": [
    "### Стандартное отклонение "
   ]
  },
  {
   "cell_type": "markdown",
   "id": "bfca02a6",
   "metadata": {},
   "source": [
    "Стандартное отклонение (среднеквадратичное отклонение) - это квадратный корень из дисперсии"
   ]
  },
  {
   "cell_type": "code",
   "execution_count": null,
   "id": "ee66283b",
   "metadata": {
    "scrolled": true
   },
   "outputs": [],
   "source": [
    "empl['salary'].std()"
   ]
  },
  {
   "cell_type": "code",
   "execution_count": null,
   "id": "03839966",
   "metadata": {
    "scrolled": true
   },
   "outputs": [],
   "source": [
    "empl['salary'].var() ** 0.5"
   ]
  },
  {
   "cell_type": "code",
   "execution_count": null,
   "id": "e6c426b9",
   "metadata": {
    "scrolled": true
   },
   "outputs": [],
   "source": []
  },
  {
   "cell_type": "code",
   "execution_count": null,
   "id": "32cee789",
   "metadata": {
    "scrolled": true
   },
   "outputs": [],
   "source": []
  },
  {
   "cell_type": "code",
   "execution_count": null,
   "id": "dad9928b",
   "metadata": {
    "scrolled": true
   },
   "outputs": [],
   "source": []
  },
  {
   "cell_type": "markdown",
   "id": "a494a147",
   "metadata": {},
   "source": [
    "### Минимум максимум"
   ]
  },
  {
   "cell_type": "code",
   "execution_count": null,
   "id": "1b008e63",
   "metadata": {
    "scrolled": true
   },
   "outputs": [],
   "source": [
    "empl['salary'].min()"
   ]
  },
  {
   "cell_type": "code",
   "execution_count": null,
   "id": "2a3b997a",
   "metadata": {
    "scrolled": true
   },
   "outputs": [],
   "source": [
    "empl['salary'].max()"
   ]
  },
  {
   "cell_type": "code",
   "execution_count": null,
   "id": "a000bc92",
   "metadata": {
    "scrolled": true
   },
   "outputs": [],
   "source": []
  },
  {
   "cell_type": "code",
   "execution_count": null,
   "id": "8be6339b",
   "metadata": {
    "scrolled": true
   },
   "outputs": [],
   "source": []
  },
  {
   "cell_type": "code",
   "execution_count": null,
   "id": "276ed56c",
   "metadata": {
    "scrolled": true
   },
   "outputs": [],
   "source": []
  },
  {
   "cell_type": "markdown",
   "id": "f1c3f9fc",
   "metadata": {},
   "source": [
    "### Квантили"
   ]
  },
  {
   "cell_type": "code",
   "execution_count": null,
   "id": "19506d6a",
   "metadata": {
    "scrolled": true
   },
   "outputs": [],
   "source": [
    "quantile = 0.75\n",
    "salary = empl.query('report_dt == \"2022-12-31\"')['salary']\n",
    "\n",
    "salary.hist(figsize=(10, 2), bins=27, range=(20000, 155000))\n",
    "\n",
    "plt.axline(xy1=(salary.quantile(quantile), 0), xy2=(salary.quantile(quantile), 100), color='r')\n",
    "\n",
    "plt.annotate(f'{int(quantile * 100)}% людей зарабатывают \\n меньше или столько же',\n",
    "            (salary.quantile(quantile), 20), xytext=(salary.quantile(quantile) + 5000, 100),\n",
    "             arrowprops={'arrowstyle': '->'})\n",
    "\n",
    "plt.title(f'{quantile} квантиль зарплат равен {salary.quantile(quantile)}')\n",
    "plt.grid(False)\n",
    "plt.xlabel('Зарплата')\n",
    "plt.ylabel('Количество наблюдений')\n",
    "plt.show()"
   ]
  },
  {
   "cell_type": "code",
   "execution_count": null,
   "id": "452e771e",
   "metadata": {
    "scrolled": true
   },
   "outputs": [],
   "source": [
    "empl.query('report_dt == \"2022-12-31\"')['salary'].quantile(0.2)"
   ]
  },
  {
   "cell_type": "markdown",
   "id": "b24ea088",
   "metadata": {},
   "source": [
    "Если квантиль в точности не определен, тогда он будет интерполирован"
   ]
  },
  {
   "cell_type": "code",
   "execution_count": null,
   "id": "2b65ba4a",
   "metadata": {
    "scrolled": true
   },
   "outputs": [],
   "source": [
    "# в массииве только целые числа, но метод вернул дробное число\n",
    "empl['salary'].quantile(0.0001)"
   ]
  },
  {
   "cell_type": "markdown",
   "id": "b19045d3",
   "metadata": {},
   "source": [
    "Это же касается и медианы"
   ]
  },
  {
   "cell_type": "code",
   "execution_count": null,
   "id": "2656de71",
   "metadata": {
    "scrolled": true
   },
   "outputs": [],
   "source": [
    "pd.Series([1, 2, 3, 4]).median()"
   ]
  },
  {
   "cell_type": "code",
   "execution_count": null,
   "id": "f7e9ed00",
   "metadata": {
    "scrolled": true
   },
   "outputs": [],
   "source": [
    "pd.Series([1, 2, 3, 4]).quantile(0.5)"
   ]
  },
  {
   "cell_type": "code",
   "execution_count": null,
   "id": "32a8cb29",
   "metadata": {
    "scrolled": true
   },
   "outputs": [],
   "source": [
    "pd.Series([1, 2, 3, 4]).quantile(0.5, interpolation='higher')"
   ]
  },
  {
   "cell_type": "markdown",
   "id": "019209ab",
   "metadata": {},
   "source": [
    "### При помощи метода rank можно получить квантиль каждого наблюдения"
   ]
  },
  {
   "cell_type": "code",
   "execution_count": null,
   "id": "8bdbfc9b",
   "metadata": {
    "scrolled": true
   },
   "outputs": [],
   "source": [
    "empl['salary'].rank(pct=True).head()"
   ]
  },
  {
   "cell_type": "code",
   "execution_count": null,
   "id": "61c12275",
   "metadata": {
    "scrolled": true
   },
   "outputs": [],
   "source": []
  },
  {
   "cell_type": "code",
   "execution_count": null,
   "id": "5b098213",
   "metadata": {
    "scrolled": true
   },
   "outputs": [],
   "source": []
  },
  {
   "cell_type": "code",
   "execution_count": null,
   "id": "4ab19ba4",
   "metadata": {
    "scrolled": true
   },
   "outputs": [],
   "source": []
  },
  {
   "cell_type": "markdown",
   "id": "efe1cb78",
   "metadata": {},
   "source": [
    "#### В numpy функции и методы называются так же как и в пандасе кроме квантилей"
   ]
  },
  {
   "cell_type": "code",
   "execution_count": null,
   "id": "8459d656",
   "metadata": {
    "scrolled": true
   },
   "outputs": [],
   "source": [
    "np.mean(np.arange(100))"
   ]
  },
  {
   "cell_type": "code",
   "execution_count": null,
   "id": "e3a720d5",
   "metadata": {
    "scrolled": true
   },
   "outputs": [],
   "source": [
    "np.arange(100).mean()"
   ]
  },
  {
   "cell_type": "markdown",
   "id": "1723b447",
   "metadata": {},
   "source": [
    "Персентиль в сто раз больше квантиля"
   ]
  },
  {
   "cell_type": "code",
   "execution_count": null,
   "id": "58d22b71",
   "metadata": {
    "scrolled": true
   },
   "outputs": [],
   "source": [
    "np.percentile(np.arange(1001), 57)"
   ]
  },
  {
   "cell_type": "code",
   "execution_count": null,
   "id": "dd39c0b2",
   "metadata": {
    "scrolled": true
   },
   "outputs": [],
   "source": [
    "pd.Series(np.arange(1001)).quantile(0.57)"
   ]
  },
  {
   "cell_type": "code",
   "execution_count": null,
   "id": "f3663bf7",
   "metadata": {
    "scrolled": true
   },
   "outputs": [],
   "source": []
  },
  {
   "cell_type": "code",
   "execution_count": null,
   "id": "b00df7f6",
   "metadata": {
    "scrolled": true
   },
   "outputs": [],
   "source": []
  },
  {
   "cell_type": "code",
   "execution_count": null,
   "id": "6b9aecf5",
   "metadata": {
    "scrolled": true
   },
   "outputs": [],
   "source": []
  },
  {
   "cell_type": "markdown",
   "id": "0b548f63",
   "metadata": {},
   "source": [
    "### Все эти методы есть и у датафреймов"
   ]
  },
  {
   "cell_type": "code",
   "execution_count": null,
   "id": "5010cfc2",
   "metadata": {
    "scrolled": true
   },
   "outputs": [],
   "source": [
    "path_marks = '../tables/оценки.xlsx' if os.path.exists('../tables/оценки.xlsx') else 'https://drive.google.com/uc?id=17f4DXx53J0WooNkhO13xidseZJ-O2obs'\n",
    "\n",
    "marks = pd.read_excel(path_marks)\n",
    "marks.head()"
   ]
  },
  {
   "cell_type": "code",
   "execution_count": null,
   "id": "4bcd20ff",
   "metadata": {
    "scrolled": true
   },
   "outputs": [],
   "source": [
    "# Считаем среднее только по колонкам, в которых лежат числа\n",
    "marks.mean(numeric_only=True)"
   ]
  },
  {
   "cell_type": "code",
   "execution_count": null,
   "id": "064e80c1",
   "metadata": {
    "scrolled": true
   },
   "outputs": [],
   "source": [
    "# Если все колонки уже численные, то параметр numeric_only можно не использовать\n",
    "marks[['Математика', 'Литература']].mean()"
   ]
  },
  {
   "cell_type": "markdown",
   "id": "acc38db0",
   "metadata": {},
   "source": [
    "### Можно указывать ось, по которой считать статистику"
   ]
  },
  {
   "cell_type": "code",
   "execution_count": null,
   "id": "5fe22003",
   "metadata": {
    "scrolled": true
   },
   "outputs": [],
   "source": [
    "(marks\n",
    "    .set_index(['ФИО', 'Пол']) # убираем нечисленные колонки\n",
    "    .mean(axis=1)\n",
    "    .to_frame()\n",
    ")"
   ]
  },
  {
   "cell_type": "code",
   "execution_count": null,
   "id": "0794dd84",
   "metadata": {
    "scrolled": true
   },
   "outputs": [],
   "source": []
  },
  {
   "cell_type": "code",
   "execution_count": null,
   "id": "301c2fcc",
   "metadata": {
    "scrolled": true
   },
   "outputs": [],
   "source": []
  },
  {
   "cell_type": "markdown",
   "id": "75a5ce17",
   "metadata": {},
   "source": [
    "### Расчет статистики по всему датафрейму целиком"
   ]
  },
  {
   "cell_type": "code",
   "execution_count": null,
   "id": "629ede1c",
   "metadata": {
    "scrolled": true
   },
   "outputs": [],
   "source": [
    "# Работает с версии 2.0.0. и выше\n",
    "(marks\n",
    "    .set_index(['ФИО', 'Пол']) # убираем нечисленные колонки\n",
    "    .mean(axis=None)\n",
    ")"
   ]
  },
  {
   "cell_type": "code",
   "execution_count": null,
   "id": "70543840",
   "metadata": {
    "scrolled": true
   },
   "outputs": [],
   "source": [
    "(marks\n",
    "    .set_index(['ФИО', 'Пол'])\n",
    "    .to_numpy()\n",
    "    .mean()\n",
    ")"
   ]
  },
  {
   "cell_type": "code",
   "execution_count": null,
   "id": "7ac3efd0",
   "metadata": {
    "scrolled": true
   },
   "outputs": [],
   "source": []
  },
  {
   "cell_type": "code",
   "execution_count": null,
   "id": "2ee2b6f4",
   "metadata": {
    "scrolled": true
   },
   "outputs": [],
   "source": []
  },
  {
   "cell_type": "code",
   "execution_count": null,
   "id": "545e3b02",
   "metadata": {
    "scrolled": true
   },
   "outputs": [],
   "source": []
  },
  {
   "cell_type": "markdown",
   "id": "afbf7b9d",
   "metadata": {},
   "source": [
    "### Еще визуализация распределений"
   ]
  },
  {
   "cell_type": "code",
   "execution_count": null,
   "id": "b7791020",
   "metadata": {
    "scrolled": false
   },
   "outputs": [],
   "source": [
    "sns.boxplot(data=empl, y='salary').set(title='Ящик с усами', ylabel='Зарплата')\n",
    "plt.show()"
   ]
  },
  {
   "cell_type": "code",
   "execution_count": null,
   "id": "d57ce4a5",
   "metadata": {
    "scrolled": false
   },
   "outputs": [],
   "source": [
    "# Добавляем деление по оси х\n",
    "plt.figure(figsize=(10, 5))\n",
    "sns.boxplot(data=empl, y='salary', x='report_dt').set(title='Ящик с усами', ylabel='Зарплата')\n",
    "plt.show()"
   ]
  },
  {
   "cell_type": "code",
   "execution_count": null,
   "id": "043a2ebe",
   "metadata": {
    "scrolled": false
   },
   "outputs": [],
   "source": [
    "plt.figure(figsize=(10, 5))\n",
    "(sns.boxplot(data=empl, y='salary', x='report_dt')\n",
    "    .set(title='Ящик с усами', ylabel='Зарплата')\n",
    ")\n",
    "# обрезаем выбросы\n",
    "plt.ylim((19000, 60000))\n",
    "plt.show()"
   ]
  },
  {
   "cell_type": "code",
   "execution_count": null,
   "id": "dcadb2a8",
   "metadata": {
    "scrolled": false
   },
   "outputs": [],
   "source": [
    "# Добавляем hue\n",
    "plt.figure(figsize=(10, 5))\n",
    "(sns.boxplot(data=empl\n",
    "                 .replace({'mgmt_flag': {0: 'Младший персонал', 1: 'Старший персонал'}}),\n",
    "             y='salary', x='report_dt', hue='mgmt_flag')\n",
    " \n",
    "    .set(title='Ящик с усами', ylabel='Зарплата')\n",
    ")\n",
    "plt.legend(loc='upper right')\n",
    "plt.show()"
   ]
  },
  {
   "cell_type": "code",
   "execution_count": null,
   "id": "7f0765ae",
   "metadata": {
    "scrolled": false
   },
   "outputs": [],
   "source": [
    "plt.figure(figsize=(10, 5))\n",
    "(sns.violinplot(data=empl\n",
    "                 .replace({'mgmt_flag': {0: 'Младший персонал', 1: 'Старший персонал'}}),\n",
    "             y='salary', x='report_dt', hue='mgmt_flag')\n",
    " \n",
    "    .set(title='Скрипичная диаграмма', ylabel='Зарплата')\n",
    ")\n",
    "plt.legend(loc='upper right')\n",
    "plt.show()"
   ]
  },
  {
   "cell_type": "code",
   "execution_count": null,
   "id": "427c3687",
   "metadata": {
    "scrolled": false
   },
   "outputs": [],
   "source": [
    "plt.figure(figsize=(10, 5))\n",
    "(sns.stripplot(data=empl\n",
    "                 .replace({'mgmt_flag': {0: 'Младший персонал', 1: 'Старший персонал'}}),\n",
    "             y='salary', x='report_dt', hue='mgmt_flag')\n",
    " \n",
    "    .set(title='Точечная диаграмма', ylabel='Зарплата')\n",
    ")\n",
    "plt.legend(loc='upper right')\n",
    "plt.show()"
   ]
  },
  {
   "cell_type": "code",
   "execution_count": null,
   "id": "fe35095e",
   "metadata": {
    "scrolled": true
   },
   "outputs": [],
   "source": []
  },
  {
   "cell_type": "code",
   "execution_count": null,
   "id": "d0f5e64f",
   "metadata": {
    "scrolled": true
   },
   "outputs": [],
   "source": []
  },
  {
   "cell_type": "code",
   "execution_count": null,
   "id": "eb1722a4",
   "metadata": {
    "scrolled": true
   },
   "outputs": [],
   "source": []
  },
  {
   "cell_type": "markdown",
   "id": "4d30f045",
   "metadata": {},
   "source": [
    "### Корреляция"
   ]
  },
  {
   "cell_type": "code",
   "execution_count": null,
   "id": "8b0a6baf",
   "metadata": {
    "scrolled": false
   },
   "outputs": [],
   "source": [
    "plt.figure(figsize=(15, 10))\n",
    "for i, cor in enumerate([0.1, 0.4, 0.7, 0.95, -0.1, -0.4, -0.7, -0.95]):\n",
    "    # Генерируем данные\n",
    "    np.random.seed(i + 1)\n",
    "    x, y = np.random.multivariate_normal([0, 0], [[1, cor], [cor, 1]], 150).T\n",
    "    y = y * np.random.randint(1, 5)\n",
    "    # Говорим на какое место поставить график (2 стобца, 4 колонки, номер позиции)\n",
    "    plt.subplot(2, 4, i + 1)\n",
    "    # рисуем грайик\n",
    "    sns.regplot(x=x, y=y)\n",
    "    # подписываем график\n",
    "    plt.title(f'Коэффициент корреляции: {np.round(np.corrcoef(x, y)[0][1], 2)}')\n",
    "plt.show()"
   ]
  },
  {
   "cell_type": "code",
   "execution_count": null,
   "id": "ec679eb3",
   "metadata": {
    "scrolled": false
   },
   "outputs": [],
   "source": [
    "np.random.seed(500)\n",
    "t = np.random.rand(50) * 10\n",
    "cos = np.cos(t) + np.random.normal(0, 0.05, 50)\n",
    "sin = np.sin(t) + np.random.normal(0, 0.05, 50)\n",
    "# рисуем график\n",
    "plt.scatter(cos, sin)\n",
    "# подписываем \n",
    "plt.text(y=0, x=0, s=f'corr = {np.corrcoef(cos, sin)[0, 1]:0.3f}', fontsize=16, ha='center', va='center')\n",
    "plt.show()"
   ]
  },
  {
   "cell_type": "code",
   "execution_count": null,
   "id": "ef9ac464",
   "metadata": {
    "scrolled": true
   },
   "outputs": [],
   "source": []
  },
  {
   "cell_type": "code",
   "execution_count": null,
   "id": "bc171be0",
   "metadata": {
    "scrolled": true
   },
   "outputs": [],
   "source": []
  },
  {
   "cell_type": "markdown",
   "id": "4978f653",
   "metadata": {},
   "source": [
    "#### Расчет коэффицииента корреляции"
   ]
  },
  {
   "cell_type": "code",
   "execution_count": null,
   "id": "38c62499",
   "metadata": {
    "scrolled": true
   },
   "outputs": [],
   "source": [
    "marks['Математика'].corr(marks['Литература'])"
   ]
  },
  {
   "cell_type": "markdown",
   "id": "241ae012",
   "metadata": {},
   "source": [
    "То же самое можно сделать руками"
   ]
  },
  {
   "cell_type": "code",
   "execution_count": null,
   "id": "a4a94e11",
   "metadata": {
    "scrolled": true
   },
   "outputs": [],
   "source": [
    "math_mean = marks['Математика'].mean()\n",
    "math_std = marks['Математика'].std(ddof=0)\n",
    "\n",
    "lit_mean = marks['Литература'].mean()\n",
    "lit_std = marks['Литература'].std(ddof=0)\n",
    "\n",
    "math_normilized = (marks['Математика'] - math_mean) / math_std\n",
    "lit_normilized = (marks['Литература'] - lit_mean) / lit_std\n",
    "\n",
    "\n",
    "(math_normilized * lit_normilized).mean()"
   ]
  },
  {
   "cell_type": "markdown",
   "id": "212d5199",
   "metadata": {},
   "source": [
    "###  Корреляционная матрица"
   ]
  },
  {
   "cell_type": "code",
   "execution_count": null,
   "id": "a917f71b",
   "metadata": {
    "scrolled": true
   },
   "outputs": [],
   "source": [
    "marks.corr(numeric_only=True)"
   ]
  },
  {
   "cell_type": "code",
   "execution_count": null,
   "id": "51fed5a9",
   "metadata": {
    "scrolled": false
   },
   "outputs": [],
   "source": [
    "sns.heatmap(marks.corr(numeric_only=True))"
   ]
  },
  {
   "cell_type": "code",
   "execution_count": null,
   "id": "bd7e227f",
   "metadata": {
    "scrolled": false
   },
   "outputs": [],
   "source": [
    "sns.heatmap(marks.corr(numeric_only=True),\n",
    "            annot=True, # Добавляем численные значения в клетки\n",
    "            # цветовая схема, разделенная на 8 цветов\n",
    "            cmap=sns.color_palette(\"coolwarm\", n_colors=8),\n",
    "            vmin=-1, # минимальное значение в легенде\n",
    "            vmax=1) # максимальное значение в легенде"
   ]
  },
  {
   "cell_type": "markdown",
   "id": "37056b6c",
   "metadata": {},
   "source": [
    "Можно разукрасить сам датафрейм"
   ]
  },
  {
   "cell_type": "code",
   "execution_count": null,
   "id": "29c12b69",
   "metadata": {
    "scrolled": true
   },
   "outputs": [],
   "source": [
    "(marks\n",
    "    .corr(numeric_only=True)\n",
    "    .style\n",
    "    .background_gradient(cmap=sns.color_palette(\"coolwarm\", as_cmap=True),\n",
    "                         axis=None,\n",
    "                         vmin=-1,\n",
    "                         vmax=1)\n",
    ")"
   ]
  },
  {
   "cell_type": "code",
   "execution_count": null,
   "id": "cb248ebe",
   "metadata": {
    "scrolled": true
   },
   "outputs": [],
   "source": []
  },
  {
   "cell_type": "code",
   "execution_count": null,
   "id": "ea82e545",
   "metadata": {
    "scrolled": true
   },
   "outputs": [],
   "source": []
  },
  {
   "cell_type": "markdown",
   "id": "a9279c6d",
   "metadata": {},
   "source": [
    "## Агрегация нескольких статистик вместе"
   ]
  },
  {
   "cell_type": "markdown",
   "id": "fd8f72d5",
   "metadata": {},
   "source": [
    "### describe"
   ]
  },
  {
   "cell_type": "code",
   "execution_count": null,
   "id": "947793c5",
   "metadata": {
    "scrolled": true
   },
   "outputs": [],
   "source": [
    "empl['salary'].describe()"
   ]
  },
  {
   "cell_type": "code",
   "execution_count": null,
   "id": "6fc0da06",
   "metadata": {
    "scrolled": true
   },
   "outputs": [],
   "source": [
    "empl.describe()"
   ]
  },
  {
   "cell_type": "markdown",
   "id": "eceb8036",
   "metadata": {},
   "source": [
    "Можно добавить дополнительные квантили"
   ]
  },
  {
   "cell_type": "code",
   "execution_count": null,
   "id": "044d5ed6",
   "metadata": {
    "scrolled": true
   },
   "outputs": [],
   "source": [
    "empl.describe([0.1, 0.25, 0.75, 0.9])"
   ]
  },
  {
   "cell_type": "code",
   "execution_count": null,
   "id": "4f36ab77",
   "metadata": {
    "scrolled": true
   },
   "outputs": [],
   "source": []
  },
  {
   "cell_type": "code",
   "execution_count": null,
   "id": "3e278bf9",
   "metadata": {
    "scrolled": true
   },
   "outputs": [],
   "source": []
  },
  {
   "cell_type": "code",
   "execution_count": null,
   "id": "bcfc3350",
   "metadata": {
    "scrolled": true
   },
   "outputs": [],
   "source": []
  },
  {
   "cell_type": "markdown",
   "id": "a29bfbe8",
   "metadata": {},
   "source": [
    "### agg\n",
    "\n",
    "Позволяет собирать несколько статистик вместе"
   ]
  },
  {
   "cell_type": "code",
   "execution_count": null,
   "id": "deac7bac",
   "metadata": {
    "scrolled": true
   },
   "outputs": [],
   "source": [
    "# список из названий методов\n",
    "empl['salary'].agg(['mean', 'max', 'std'])"
   ]
  },
  {
   "cell_type": "code",
   "execution_count": null,
   "id": "b3454e1d",
   "metadata": {
    "scrolled": true
   },
   "outputs": [],
   "source": [
    "# их можно комбинировать с функциями из numpy\n",
    "empl['salary'].agg([np.mean, np.max, 'std'])"
   ]
  },
  {
   "cell_type": "code",
   "execution_count": null,
   "id": "d0e1e884",
   "metadata": {
    "scrolled": true
   },
   "outputs": [],
   "source": [
    "# Можно использовать свои функции\n",
    "(empl['salary']\n",
    "    .agg(\n",
    "        ['mean',\n",
    "         lambda s: (s ** (1 / s.count())).prod(),\n",
    "         lambda s: 1 / ((1 / s).mean())\n",
    "        ])\n",
    "    .set_axis(['Среднее арифметическое', 'Среднее геометрическое', 'Среднее гармоническое'])\n",
    ")"
   ]
  },
  {
   "cell_type": "markdown",
   "id": "79e8b233",
   "metadata": {},
   "source": [
    "#### Можно передать словарь. Сначала как метод будет называться, а затем функция"
   ]
  },
  {
   "cell_type": "code",
   "execution_count": null,
   "id": "399422cd",
   "metadata": {
    "scrolled": true
   },
   "outputs": [],
   "source": [
    "(empl['salary']\n",
    "    .agg({'Среднее арифметическое': 'mean',\n",
    "          'Среднее геометрическое': lambda s: (s ** (1 / s.count())).prod(),\n",
    "          'Среднее гармоническое': lambda s: 1 / ((1 / s).mean())\n",
    "         })\n",
    ")"
   ]
  },
  {
   "cell_type": "code",
   "execution_count": null,
   "id": "886e678e",
   "metadata": {
    "scrolled": true
   },
   "outputs": [],
   "source": []
  },
  {
   "cell_type": "code",
   "execution_count": null,
   "id": "05425fed",
   "metadata": {
    "scrolled": true
   },
   "outputs": [],
   "source": []
  },
  {
   "cell_type": "markdown",
   "id": "95a6804e",
   "metadata": {},
   "source": [
    "### То же самое можно делать с датафреймами"
   ]
  },
  {
   "cell_type": "code",
   "execution_count": null,
   "id": "b288b46c",
   "metadata": {
    "scrolled": true
   },
   "outputs": [],
   "source": [
    "marks.head()"
   ]
  },
  {
   "cell_type": "code",
   "execution_count": null,
   "id": "bc917c85",
   "metadata": {
    "scrolled": true
   },
   "outputs": [],
   "source": [
    "# передаем список из функци\n",
    "(marks\n",
    "    .drop(['ФИО', 'Пол'], axis=1)\n",
    "    .agg(['mean', 'max', 'min'])\n",
    ")"
   ]
  },
  {
   "cell_type": "code",
   "execution_count": null,
   "id": "3b64ab12",
   "metadata": {
    "scrolled": true
   },
   "outputs": [],
   "source": [
    "# можно передать словарь со списком функций агрегации\n",
    "(marks\n",
    "    .drop(['ФИО', 'Пол'], axis=1)\n",
    "    .agg({'Математика': ['mean', 'max'],\n",
    "         'Русский язык': 'std',\n",
    "         'Литература': ['mean', 'median']})\n",
    ")"
   ]
  },
  {
   "cell_type": "code",
   "execution_count": null,
   "id": "4fd65b5f",
   "metadata": {
    "scrolled": true
   },
   "outputs": [],
   "source": [
    "(marks\n",
    "    .drop(['ФИО', 'Пол'], axis=1)\n",
    "    .agg(avarage = ('Математика', 'mean'),\n",
    "         summa = ('Математика', 'sum'),\n",
    "         sqrt_err = ('История', 'std')\n",
    "#          summa = ('История', 'sum'), # это работать не будет \n",
    "        )\n",
    ")"
   ]
  },
  {
   "cell_type": "code",
   "execution_count": null,
   "id": "3124032b",
   "metadata": {
    "scrolled": true
   },
   "outputs": [],
   "source": []
  },
  {
   "cell_type": "code",
   "execution_count": null,
   "id": "a934639f",
   "metadata": {
    "scrolled": true
   },
   "outputs": [],
   "source": []
  },
  {
   "cell_type": "code",
   "execution_count": null,
   "id": "5065c581",
   "metadata": {
    "scrolled": true
   },
   "outputs": [],
   "source": []
  },
  {
   "cell_type": "markdown",
   "id": "78929035",
   "metadata": {},
   "source": [
    "## На вход функии в метод agg приходит объект Series"
   ]
  },
  {
   "cell_type": "code",
   "execution_count": null,
   "id": "8dace15c",
   "metadata": {
    "scrolled": true
   },
   "outputs": [],
   "source": [
    "(marks\n",
    "    .drop(['ФИО', 'Пол'], axis=1)\n",
    "    .agg(\n",
    "        ['mean',\n",
    "         lambda s: s[s >= 4].mean() # фильтровать значения получится только внутри колонки и только по ней самой\n",
    "        ])\n",
    "    .set_axis(['Среднее', 'Среднее среди тех, у кого 4 или 5'])\n",
    ")"
   ]
  },
  {
   "cell_type": "code",
   "execution_count": null,
   "id": "90c5d45c",
   "metadata": {
    "scrolled": true
   },
   "outputs": [],
   "source": []
  },
  {
   "cell_type": "markdown",
   "id": "fb2ba6c9",
   "metadata": {},
   "source": [
    "#### В метод agg нельзя передавать квантили"
   ]
  },
  {
   "cell_type": "code",
   "execution_count": null,
   "id": "d149e741",
   "metadata": {
    "scrolled": true
   },
   "outputs": [],
   "source": [
    "empl['salary'].agg([np.mean, np.max, 'std', lambda x: x.quantile(0.8)])"
   ]
  },
  {
   "cell_type": "code",
   "execution_count": null,
   "id": "f6b51659",
   "metadata": {
    "scrolled": true
   },
   "outputs": [],
   "source": [
    "class Quantile:\n",
    "    def __init__(self, q: float):\n",
    "        self.q = q\n",
    "        self.__name__ = f'{q} квантиль'\n",
    "    \n",
    "    def __call__(self, series: pd.Series):\n",
    "        return series.quantile(self.q)"
   ]
  },
  {
   "cell_type": "code",
   "execution_count": null,
   "id": "2c9c2017",
   "metadata": {
    "scrolled": true
   },
   "outputs": [],
   "source": [
    "empl['salary'].agg([np.mean, np.max, 'std', Quantile(0.8)])"
   ]
  },
  {
   "cell_type": "code",
   "execution_count": null,
   "id": "464143da",
   "metadata": {
    "scrolled": true
   },
   "outputs": [],
   "source": []
  },
  {
   "cell_type": "code",
   "execution_count": null,
   "id": "ed89b0a2",
   "metadata": {
    "scrolled": true
   },
   "outputs": [],
   "source": []
  },
  {
   "cell_type": "code",
   "execution_count": null,
   "id": "bd985198",
   "metadata": {
    "scrolled": true
   },
   "outputs": [],
   "source": []
  },
  {
   "cell_type": "markdown",
   "id": "b13121fa",
   "metadata": {},
   "source": [
    "#### Иногда после агрегации необходимо выполнять дополнительные действия"
   ]
  },
  {
   "cell_type": "code",
   "execution_count": null,
   "id": "44766274",
   "metadata": {
    "scrolled": true
   },
   "outputs": [],
   "source": [
    "path_sales_2022 = '../tables/sales_2022.parquet' if os.path.exists('../tables/sales_2022.parquet') else 'https://drive.google.com/uc?id=17e7FwXVdsWc2aziK9s5KidIvPcfKt9F5'\n",
    "sales = pd.read_parquet(path_sales_2022).iloc[:, -2:]\n",
    "sales.head()"
   ]
  },
  {
   "cell_type": "markdown",
   "id": "a36c14ae",
   "metadata": {},
   "source": [
    "Найдем среднюю строимость проданных товаров"
   ]
  },
  {
   "cell_type": "code",
   "execution_count": null,
   "id": "4e01ce27",
   "metadata": {
    "scrolled": true
   },
   "outputs": [],
   "source": [
    "(sales\n",
    "    .assign(price_mul_number = lambda x: x['price'] * x['goods_number'])\n",
    "    [['goods_number', 'price_mul_number']]\n",
    "    .sum()\n",
    "    .to_frame()\n",
    "    .T\n",
    "    .assign(mean_goods_price_sold=lambda x: x['price_mul_number'] / x['goods_number'])\n",
    "    .drop(['goods_number', 'price_mul_number'], axis=1)\n",
    "     .iloc[0, 0]\n",
    ")"
   ]
  },
  {
   "cell_type": "code",
   "execution_count": null,
   "id": "48ed98c2",
   "metadata": {
    "scrolled": true
   },
   "outputs": [],
   "source": []
  },
  {
   "cell_type": "code",
   "execution_count": null,
   "id": "421ba37b",
   "metadata": {
    "scrolled": true
   },
   "outputs": [],
   "source": []
  },
  {
   "cell_type": "code",
   "execution_count": null,
   "id": "7ee73dc9",
   "metadata": {
    "scrolled": true
   },
   "outputs": [],
   "source": []
  },
  {
   "cell_type": "markdown",
   "id": "cc89081b",
   "metadata": {},
   "source": [
    "### Статистические функции в сочетании с другими методами"
   ]
  },
  {
   "cell_type": "markdown",
   "id": "17fc6b33",
   "metadata": {},
   "source": [
    "#### Проверяем процент заполенных значений"
   ]
  },
  {
   "cell_type": "code",
   "execution_count": null,
   "id": "38b8fdb6",
   "metadata": {
    "scrolled": true
   },
   "outputs": [],
   "source": [
    "(empl\n",
    "    .notnull()\n",
    "    .mean()\n",
    ")"
   ]
  },
  {
   "cell_type": "markdown",
   "id": "4cf2a25d",
   "metadata": {},
   "source": [
    "#### Или наоборот считаем количество пропущенных значений"
   ]
  },
  {
   "cell_type": "code",
   "execution_count": null,
   "id": "cc1f051a",
   "metadata": {
    "scrolled": false
   },
   "outputs": [],
   "source": [
    "empl['employee_evaluation'].isna().sum()"
   ]
  },
  {
   "cell_type": "markdown",
   "id": "27f385bf",
   "metadata": {},
   "source": [
    "#### Доля людей, зарабатывающих больше 50 000"
   ]
  },
  {
   "cell_type": "code",
   "execution_count": null,
   "id": "fac644ff",
   "metadata": {
    "scrolled": true
   },
   "outputs": [],
   "source": [
    "empl['salary'].ge(50000).mean()\n",
    "# То же самое, что и\n",
    "# (empl['salary'] >= 50000).mean()"
   ]
  },
  {
   "cell_type": "markdown",
   "id": "9346a573",
   "metadata": {},
   "source": [
    "#### Число записей по зарплате, втречающихся только 1 раз"
   ]
  },
  {
   "cell_type": "code",
   "execution_count": null,
   "id": "a4981499",
   "metadata": {
    "scrolled": true
   },
   "outputs": [],
   "source": [
    "(~empl['salary'].duplicated(keep=False)).sum()"
   ]
  },
  {
   "cell_type": "markdown",
   "id": "fd5add1f",
   "metadata": {},
   "source": [
    "#### Доля женщин в магазине"
   ]
  },
  {
   "cell_type": "code",
   "execution_count": null,
   "id": "b3064e90",
   "metadata": {
    "scrolled": true
   },
   "outputs": [],
   "source": [
    "empl['sex'].eq('женский').mean()\n",
    "# Это то же самое, что и\n",
    "# (empl['sex'] == 'женский').mean()"
   ]
  },
  {
   "cell_type": "code",
   "execution_count": null,
   "id": "daac9c17",
   "metadata": {
    "scrolled": true
   },
   "outputs": [],
   "source": []
  },
  {
   "cell_type": "code",
   "execution_count": null,
   "id": "277d9c2b",
   "metadata": {
    "scrolled": true
   },
   "outputs": [],
   "source": []
  },
  {
   "cell_type": "code",
   "execution_count": null,
   "id": "27df215f",
   "metadata": {
    "scrolled": true
   },
   "outputs": [],
   "source": []
  },
  {
   "cell_type": "code",
   "execution_count": null,
   "id": "57ca4ad5",
   "metadata": {
    "scrolled": true
   },
   "outputs": [],
   "source": []
  },
  {
   "cell_type": "code",
   "execution_count": null,
   "id": "671147bd",
   "metadata": {
    "scrolled": true
   },
   "outputs": [],
   "source": []
  },
  {
   "cell_type": "code",
   "execution_count": null,
   "id": "dcfcffe3",
   "metadata": {
    "scrolled": true
   },
   "outputs": [],
   "source": []
  },
  {
   "cell_type": "code",
   "execution_count": null,
   "id": "abe89dc3",
   "metadata": {
    "scrolled": true
   },
   "outputs": [],
   "source": []
  },
  {
   "cell_type": "code",
   "execution_count": null,
   "id": "cc1ce88c",
   "metadata": {
    "scrolled": true
   },
   "outputs": [],
   "source": []
  },
  {
   "cell_type": "code",
   "execution_count": null,
   "id": "9d87716e",
   "metadata": {
    "scrolled": true
   },
   "outputs": [],
   "source": []
  },
  {
   "cell_type": "code",
   "execution_count": null,
   "id": "25082945",
   "metadata": {
    "scrolled": true
   },
   "outputs": [],
   "source": []
  },
  {
   "cell_type": "markdown",
   "id": "ffd4ba15",
   "metadata": {},
   "source": [
    "# Задания"
   ]
  },
  {
   "cell_type": "markdown",
   "id": "222d9400",
   "metadata": {},
   "source": [
    "#### Описание таблиц лежит [здесь](https://github.com/victorlymarev/pandas/tree/main/tables#%D0%BE%D0%BF%D0%B8%D1%81%D0%B0%D0%BD%D0%B8%D0%B5-%D1%82%D0%B0%D0%B1%D0%BB%D0%B8%D1%86)"
   ]
  },
  {
   "cell_type": "markdown",
   "id": "e4e6a173",
   "metadata": {},
   "source": [
    "Некоторые таблицы занимают много памяти, поэтому каждые 5-10 заданий лучше перезапускайте ноутбук.\n",
    "\n",
    "В формулировке некоторых заданий может содержаться вариативность. Если у вас есть сомнения, что требуется в задании, попробуйте решить несколько вариантов. Если вы не понимаете задание, можете написать об этом в комментариях под видео.\n",
    "\n",
    "В большинстве случаев внешний вид итоговой таблицы не определен. Выведите на экран наиболее адекватный вариант. То есть таблицу, из которой можно будет сделать выводы.\n",
    "\n",
    "Курс пока находится в разработке. Вы можете помочь другим людям добавив свое решение [сюда](https://docs.google.com/forms/d/1HYTBz_KfssY3Jps2dC3n0YnEqa6WBb5OIhLo1d32Xzw/edit).\n",
    "\n",
    "Посмотреть решения других людей можно [здесь](https://docs.google.com/spreadsheets/d/1pMDYO-9UneLbPPnEuQ2shig0TOJdQTU-zipifyAnZMk/edit?resourcekey#gid=1998648012)"
   ]
  },
  {
   "cell_type": "markdown",
   "id": "1efd59f6",
   "metadata": {},
   "source": [
    "### Задание 1\n",
    "Для таблицы stocks воспользуйтесь методом describe"
   ]
  },
  {
   "cell_type": "code",
   "execution_count": null,
   "id": "5ea6d457",
   "metadata": {
    "scrolled": true
   },
   "outputs": [],
   "source": [
    "import os\n",
    "import pandas as pd\n",
    "\n",
    "path_stocks = '../tables/stocks.parquet' if os.path.exists('../tables/stocks.parquet') else 'https://drive.google.com/uc?id=1weGquTtmR92mKYAeZhZCFHJjndyoSXZt'\n",
    "\n",
    "stocks = pd.read_parquet(path_stocks)\n",
    "stocks.head()"
   ]
  },
  {
   "cell_type": "code",
   "execution_count": null,
   "id": "a0e2a021",
   "metadata": {
    "scrolled": true
   },
   "outputs": [],
   "source": [
    "# Напишите свой код здесь"
   ]
  },
  {
   "cell_type": "markdown",
   "id": "c277f689",
   "metadata": {},
   "source": [
    "### Задание 2\n",
    "\n",
    "Посчитайте долю выходных дней в 2020 году"
   ]
  },
  {
   "cell_type": "code",
   "execution_count": null,
   "id": "e11477fa",
   "metadata": {
    "scrolled": true
   },
   "outputs": [],
   "source": [
    "import os\n",
    "import pandas as pd\n",
    "\n",
    "path_w_ends = '../tables/выходные.csv' if os.path.exists('../tables/выходные.csv') else 'https://drive.google.com/uc?id=1hAsoXSPTFihFmBuF-E0uSj9pX4gpojwC'\n",
    "\n",
    "w_ends = pd.read_csv(path_w_ends)\n",
    "w_ends.head()"
   ]
  },
  {
   "cell_type": "code",
   "execution_count": null,
   "id": "c4bae084",
   "metadata": {
    "scrolled": true
   },
   "outputs": [],
   "source": [
    "# Напишите свой код здесь"
   ]
  },
  {
   "cell_type": "markdown",
   "id": "21a3806e",
   "metadata": {},
   "source": [
    "### Задание 3\n",
    "\n",
    "Для колонки зарплата посчитайте среднее значение, медиану, 0.25 квантиль, 0.9 квантиль, станадартное отклонение за 2022 год"
   ]
  },
  {
   "cell_type": "code",
   "execution_count": null,
   "id": "428fb97a",
   "metadata": {
    "scrolled": true
   },
   "outputs": [],
   "source": [
    "import os\n",
    "import pandas as pd\n",
    "\n",
    "path_empl = '../tables/employees.parquet' if os.path.exists('../tables/employees.parquet') else 'https://drive.google.com/uc?id=1AARD5-eVlCxoApt5CYZebrC3Cqw42lvj'\n",
    "\n",
    "empl = pd.read_parquet(path_empl)\n",
    "empl.head()"
   ]
  },
  {
   "cell_type": "code",
   "execution_count": null,
   "id": "2539814e",
   "metadata": {
    "scrolled": true
   },
   "outputs": [],
   "source": [
    "# Напишите свой код здесь"
   ]
  },
  {
   "cell_type": "markdown",
   "id": "8084fbad",
   "metadata": {},
   "source": [
    "### Задание 4\n",
    "\n",
    "Посчитать какой процент женщин в руководстве (поле mgmt)"
   ]
  },
  {
   "cell_type": "code",
   "execution_count": null,
   "id": "dad51bff",
   "metadata": {
    "scrolled": true
   },
   "outputs": [],
   "source": [
    "import os\n",
    "import pandas as pd\n",
    "\n",
    "path_empl = '../tables/employees.parquet' if os.path.exists('../tables/employees.parquet') else 'https://drive.google.com/uc?id=1AARD5-eVlCxoApt5CYZebrC3Cqw42lvj'\n",
    "\n",
    "empl = pd.read_parquet(path_empl)\n",
    "empl.head()"
   ]
  },
  {
   "cell_type": "code",
   "execution_count": null,
   "id": "5743bf2b",
   "metadata": {
    "scrolled": true
   },
   "outputs": [],
   "source": [
    "# Напишите свой код здесь"
   ]
  },
  {
   "cell_type": "markdown",
   "id": "b0fc693d",
   "metadata": {},
   "source": [
    "### Задание 5\n",
    "\n",
    "Посчитать какой процент сотрудников - мужчины"
   ]
  },
  {
   "cell_type": "code",
   "execution_count": null,
   "id": "832895b9",
   "metadata": {
    "scrolled": true
   },
   "outputs": [],
   "source": [
    "import os\n",
    "import pandas as pd\n",
    "\n",
    "path_empl = '../tables/employees.parquet' if os.path.exists('../tables/employees.parquet') else 'https://drive.google.com/uc?id=1AARD5-eVlCxoApt5CYZebrC3Cqw42lvj'\n",
    "\n",
    "empl = pd.read_parquet(path_empl)\n",
    "empl.head()"
   ]
  },
  {
   "cell_type": "code",
   "execution_count": null,
   "id": "bfbd7087",
   "metadata": {
    "scrolled": true
   },
   "outputs": [],
   "source": [
    "# Напишите свой код здесь"
   ]
  },
  {
   "cell_type": "markdown",
   "id": "77b2634f",
   "metadata": {},
   "source": [
    "### Задание 6\n",
    "\n",
    "Посчитайте среднюю оценку по математике среди мальчиков"
   ]
  },
  {
   "cell_type": "code",
   "execution_count": null,
   "id": "9cdc7019",
   "metadata": {
    "scrolled": true
   },
   "outputs": [],
   "source": [
    "import os\n",
    "import pandas as pd\n",
    "\n",
    "path_marks = '../tables/школьные оценки.xlsx' if os.path.exists('../tables/школьные оценки.xlsx') else 'https://drive.google.com/uc?id=1v9kRv1I03CXtQ6vFE4mE3hFAty436qAo'\n",
    "\n",
    "marks = pd.read_excel(path_marks)\n",
    "marks.head()"
   ]
  },
  {
   "cell_type": "code",
   "execution_count": null,
   "id": "6237d067",
   "metadata": {
    "scrolled": true
   },
   "outputs": [],
   "source": [
    "# Напишите свой код здесь"
   ]
  },
  {
   "cell_type": "markdown",
   "id": "6287131e",
   "metadata": {},
   "source": [
    "### Задание 7\n",
    "\n",
    "Посчитайте коэффициент корреляции между ценой товара и ценой товара по скидке"
   ]
  },
  {
   "cell_type": "code",
   "execution_count": null,
   "id": "c0535e47",
   "metadata": {
    "scrolled": true
   },
   "outputs": [],
   "source": [
    "import os\n",
    "import pandas as pd\n",
    "\n",
    "path_prices = '../tables/prices.parquet' if os.path.exists('../tables/prices.parquet') else 'https://drive.google.com/uc?id=1_KfYyYCsib8woanbP3VouLUpYp103dV5'\n",
    "\n",
    "prices = pd.read_parquet(path_prices)\n",
    "prices.head()"
   ]
  },
  {
   "cell_type": "code",
   "execution_count": null,
   "id": "91c2de37",
   "metadata": {
    "scrolled": true
   },
   "outputs": [],
   "source": [
    "# Напишите свой код здесь"
   ]
  },
  {
   "cell_type": "markdown",
   "id": "1c77b290",
   "metadata": {},
   "source": [
    "### Задание 8\n",
    "\n",
    "Найдите детей, у которых либо все тройки, либо все четверки, либо все пятерки"
   ]
  },
  {
   "cell_type": "code",
   "execution_count": null,
   "id": "9f85e42e",
   "metadata": {
    "scrolled": true
   },
   "outputs": [],
   "source": [
    "import os\n",
    "import pandas as pd\n",
    "\n",
    "path_marks = '../tables/школьные оценки.xlsx' if os.path.exists('../tables/школьные оценки.xlsx') else 'https://drive.google.com/uc?id=1v9kRv1I03CXtQ6vFE4mE3hFAty436qAo'\n",
    "\n",
    "marks = pd.read_excel(path_marks)\n",
    "marks.head()"
   ]
  },
  {
   "cell_type": "code",
   "execution_count": null,
   "id": "159ff366",
   "metadata": {
    "scrolled": true
   },
   "outputs": [],
   "source": [
    "# Напишите свой код здесь"
   ]
  },
  {
   "cell_type": "markdown",
   "id": "0db33356",
   "metadata": {},
   "source": [
    "### Задание 9\n",
    "\n",
    "Посчитайте сумарную выручку и среднюю стоимость проданного товара в магазине 5"
   ]
  },
  {
   "cell_type": "code",
   "execution_count": null,
   "id": "973d3eb7",
   "metadata": {
    "scrolled": true
   },
   "outputs": [],
   "source": [
    "# таблица sales - большая, и в некоторых случаях ваш компьютер может не справиться с ее обработкой\n",
    "# поэтому лучше работайте с частью этой таблицы\n",
    "# но если вы хотите попробовать поработать с полной версией таблицы,\n",
    "# можете заменить переменную path_sales_2022 на path_sales внутри функции read_parquet\n",
    "\n",
    "import os\n",
    "import pandas as pd\n",
    "\n",
    "path_sales_2022 = '../tables/sales_2022.parquet' if os.path.exists('../tables/sales_2022.parquet') else 'https://drive.google.com/uc?id=17e7FwXVdsWc2aziK9s5KidIvPcfKt9F5'\n",
    "# path_sales = '../tables/sales.parquet' if os.path.exists('../tables/sales.parquet') else \"https://drive.usercontent.google.com/download?id=15KwSxyM6hpNABGe6_vsrFZvD09VfHFyK&export=download&authuser=1&confirm=t&uuid=115bd48c-cc2c-4f2a-8b42-be5ca6ef6db8&at=APZUnTUVb8nfNANw5wr9Cad7PJ3U:1693327774694\"\n",
    "\n",
    "sales = pd.read_parquet(path_sales_2022)\n",
    "sales.head()"
   ]
  },
  {
   "cell_type": "code",
   "execution_count": null,
   "id": "6740fc1f",
   "metadata": {
    "scrolled": true
   },
   "outputs": [],
   "source": [
    "# Напишите свой код здесь"
   ]
  },
  {
   "cell_type": "markdown",
   "id": "c2db4c5c",
   "metadata": {},
   "source": [
    "### Задание 10\n",
    "\n",
    "Отберите детей, у которых была всего одна тройка"
   ]
  },
  {
   "cell_type": "code",
   "execution_count": null,
   "id": "bd5d8159",
   "metadata": {
    "scrolled": true
   },
   "outputs": [],
   "source": [
    "import os\n",
    "import pandas as pd\n",
    "\n",
    "path_marks = '../tables/школьные оценки.xlsx' if os.path.exists('../tables/школьные оценки.xlsx') else 'https://drive.google.com/uc?id=1v9kRv1I03CXtQ6vFE4mE3hFAty436qAo'\n",
    "\n",
    "marks = pd.read_excel(path_marks)\n",
    "marks.head()"
   ]
  },
  {
   "cell_type": "code",
   "execution_count": null,
   "id": "400d95f6",
   "metadata": {
    "scrolled": true
   },
   "outputs": [],
   "source": [
    "# Напишите свой код здесь"
   ]
  },
  {
   "attachments": {
    "image.png": {
     "image/png": "[encoded data removed]"
    }
   },
   "cell_type": "markdown",
   "id": "eb6ae12c",
   "metadata": {},
   "source": [
    "### Задание 11\n",
    "\n",
    "Согласно неравенству Маркова, для неотрицательного показателя доля наблюдейний, превышающих некоторое число а меньше или равна среднему значению этого показателя, деленному на это число а.\n",
    "\n",
    "![image.png](attachment:image.png)\n",
    "\n",
    "P - доля наблюдений, для которых выполняется условие, записанное в скобках\n",
    "\n",
    "E X - среднее значение показателя X\n",
    "\n",
    "\n",
    "Проверьте неравенство на данных по зарплате сотрудников по состоянию на 31 декабря 2022 года. Посчитайте долю сотрудников, зарабатывающих больше 90 000 и сравните это значение со средней зарплатой деленной на 90 000. Выполняется ли оно?"
   ]
  },
  {
   "cell_type": "code",
   "execution_count": null,
   "id": "73a82777",
   "metadata": {
    "scrolled": true
   },
   "outputs": [],
   "source": [
    "import os\n",
    "import pandas as pd\n",
    "\n",
    "path_empl = '../tables/employees.parquet' if os.path.exists('../tables/employees.parquet') else 'https://drive.google.com/uc?id=1AARD5-eVlCxoApt5CYZebrC3Cqw42lvj'\n",
    "\n",
    "empl = pd.read_parquet(path_empl)\n",
    "empl.head()"
   ]
  },
  {
   "cell_type": "code",
   "execution_count": null,
   "id": "f6621c51",
   "metadata": {
    "scrolled": true
   },
   "outputs": [],
   "source": [
    "# Напишите свой код здесь"
   ]
  },
  {
   "cell_type": "markdown",
   "id": "7475db19",
   "metadata": {},
   "source": [
    "### Задание 12\n",
    "\n",
    "Посчитайте среднюю оценку по математике среди мальчиков\n",
    "\n",
    "Сделайте 100 выборок с возвращением в которых посчитайте 80 квантиль в зарплате мужчин за 31 декабря 2022 года. Усредните полученные значения\n",
    "\n",
    "Затем сделайте то же самое, только для женщин. Сравните результаты"
   ]
  },
  {
   "cell_type": "code",
   "execution_count": null,
   "id": "cba575f1",
   "metadata": {
    "scrolled": true
   },
   "outputs": [],
   "source": [
    "import os\n",
    "import pandas as pd\n",
    "\n",
    "path_marks = '../tables/школьные оценки.xlsx' if os.path.exists('../tables/школьные оценки.xlsx') else 'https://drive.google.com/uc?id=1v9kRv1I03CXtQ6vFE4mE3hFAty436qAo'\n",
    "\n",
    "marks = pd.read_excel(path_marks)\n",
    "marks.head()"
   ]
  },
  {
   "cell_type": "code",
   "execution_count": null,
   "id": "a536d193",
   "metadata": {
    "scrolled": true
   },
   "outputs": [],
   "source": [
    "# Напишите свой код здесь"
   ]
  },
  {
   "cell_type": "markdown",
   "id": "315443cd",
   "metadata": {},
   "source": [
    "### Задание 13\n",
    "\n",
    "Перемножьте колонки price и goods_number и добавьте получившееся значение как отдельрную колнку. После этого для нее и для колонки price посчитайте 2 показателя: среднюю абсолютную ошибку относительно среднего и среднюю абсолютную ошибку относительно медианы. \n",
    "\n",
    "Для этого из каждого значения в колонке вычтите среднее (медиану) по колонке. Затем возьмите модуль от получившейся колонки. Затем усредните ее."
   ]
  },
  {
   "cell_type": "code",
   "execution_count": null,
   "id": "396aaa2a",
   "metadata": {
    "scrolled": true
   },
   "outputs": [],
   "source": [
    "# таблица sales - большая, и в некоторых случаях ваш компьютер может не справиться с ее обработкой\n",
    "# поэтому лучше работайте с частью этой таблицы\n",
    "# но если вы хотите попробовать поработать с полной версией таблицы,\n",
    "# можете заменить переменную path_sales_2022 на path_sales внутри функции read_parquet\n",
    "\n",
    "import os\n",
    "import pandas as pd\n",
    "\n",
    "path_sales_2022 = '../tables/sales_2022.parquet' if os.path.exists('../tables/sales_2022.parquet') else 'https://drive.google.com/uc?id=17e7FwXVdsWc2aziK9s5KidIvPcfKt9F5'\n",
    "# path_sales = '../tables/sales.parquet' if os.path.exists('../tables/sales.parquet') else \"https://drive.usercontent.google.com/download?id=15KwSxyM6hpNABGe6_vsrFZvD09VfHFyK&export=download&authuser=1&confirm=t&uuid=115bd48c-cc2c-4f2a-8b42-be5ca6ef6db8&at=APZUnTUVb8nfNANw5wr9Cad7PJ3U:1693327774694\"\n",
    "\n",
    "sales = pd.read_parquet(path_sales_2022)\n",
    "sales.head()"
   ]
  },
  {
   "cell_type": "code",
   "execution_count": null,
   "id": "23e91e91",
   "metadata": {
    "scrolled": true
   },
   "outputs": [],
   "source": [
    "# Напишите свой код здесь"
   ]
  },
  {
   "cell_type": "markdown",
   "id": "97350ec5",
   "metadata": {},
   "source": [
    "## Задания на нампай"
   ]
  },
  {
   "cell_type": "markdown",
   "id": "6ef43876",
   "metadata": {},
   "source": [
    "### Задание 14\n",
    "\n",
    "В нампае в большинстве случаев названия стат функций называются точно так же как и в пандасе.\n",
    "\n",
    "Посчитайте среднее, и стандартное отклонение по всей матрице и по отдельной строке (в отдельных ячейках)"
   ]
  },
  {
   "cell_type": "code",
   "execution_count": null,
   "id": "3d92aef2",
   "metadata": {
    "scrolled": true
   },
   "outputs": [],
   "source": [
    "import numpy as np\n",
    "np.random.seed(21)\n",
    "m = np.random.rand(56).reshape(-1, 4)\n",
    "m"
   ]
  },
  {
   "cell_type": "code",
   "execution_count": null,
   "id": "368d48d7",
   "metadata": {
    "scrolled": true
   },
   "outputs": [],
   "source": [
    "# Напишите свой код здесь"
   ]
  },
  {
   "cell_type": "markdown",
   "id": "41039963",
   "metadata": {},
   "source": [
    "### Задание 15\n",
    "\n",
    "В этом задании давайте посмотрим на то, что если две нормальные случайные величины некоррелированы, то они необязательно независимы.\n",
    "\n",
    "Просимулируем 2 нормальные случайные величины, создав 100000 реализаций каждой."
   ]
  },
  {
   "cell_type": "code",
   "execution_count": null,
   "id": "14e5bef3",
   "metadata": {
    "scrolled": true
   },
   "outputs": [],
   "source": [
    "from scipy.stats import shapiro\n",
    "import numpy as np\n",
    "import matplotlib.pyplot as plt\n",
    "\n",
    "np.random.seed(35)\n",
    "x = np.random.normal(0, 1, size=100000)\n",
    "y = x * np.random.choice([-1, 1], size=100000)"
   ]
  },
  {
   "cell_type": "markdown",
   "id": "c83c0f87",
   "metadata": {},
   "source": [
    "Проверим, что распрдееления действительно являются нормальными. Будем считать, что если pvalue больше 0.05, то распределение нормальное"
   ]
  },
  {
   "cell_type": "code",
   "execution_count": null,
   "id": "493a71d8",
   "metadata": {
    "scrolled": true
   },
   "outputs": [],
   "source": [
    "shapiro(x)"
   ]
  },
  {
   "cell_type": "code",
   "execution_count": null,
   "id": "507734b5",
   "metadata": {
    "scrolled": true
   },
   "outputs": [],
   "source": [
    "shapiro(y)"
   ]
  },
  {
   "cell_type": "markdown",
   "id": "ae2fcaae",
   "metadata": {},
   "source": [
    "Посчитайте коэффициент корреляции между x и y. Это можно сделать при помощи np.corrcoef. В эту функцию через запятую предайте x и y"
   ]
  },
  {
   "cell_type": "code",
   "execution_count": null,
   "id": "32303b97",
   "metadata": {
    "scrolled": true
   },
   "outputs": [],
   "source": [
    "# Напишите свой код здесь"
   ]
  },
  {
   "cell_type": "markdown",
   "id": "05fef310",
   "metadata": {},
   "source": [
    "Как видите коэффициент корреляции очень близок к нулю (если считать теоретически, то он будет в точности равен нулю).\n",
    "\n",
    "Теперь постройте scatter для переменных x и y при помощи функции plt.scatter(x, y). \n",
    "Можно ли сказать, что переменные независимы?"
   ]
  },
  {
   "cell_type": "code",
   "execution_count": null,
   "id": "70ce4dcf",
   "metadata": {
    "scrolled": true
   },
   "outputs": [],
   "source": [
    "# Напишите свой код здесь"
   ]
  },
  {
   "cell_type": "markdown",
   "id": "4daf3512",
   "metadata": {},
   "source": [
    "При помощи теста Шапиро проверьте является ли нормальной случайной величина x + 2 * y.\n",
    "\n",
    "Это кстати говорит о том, что сумма двух нормальных случайных величин необязательно распределена нормально. \n",
    "\n",
    "(Впрочем на самом деле это крайний случай)"
   ]
  },
  {
   "cell_type": "code",
   "execution_count": null,
   "id": "8f545519",
   "metadata": {
    "scrolled": true
   },
   "outputs": [],
   "source": [
    "# Напишите свой код здесь"
   ]
  },
  {
   "cell_type": "markdown",
   "id": "d31f0676",
   "metadata": {},
   "source": [
    "### Задание 16\n",
    "\n",
    "Не используя функцию corr посчитайте коэффициент коррляции между оценками (задание для тех, кто знает как перемножать матрицы)"
   ]
  },
  {
   "cell_type": "code",
   "execution_count": null,
   "id": "0536a9ee",
   "metadata": {
    "scrolled": true
   },
   "outputs": [],
   "source": [
    "import os\n",
    "import pandas as pd\n",
    "\n",
    "path_marks = '../tables/школьные оценки.xlsx' if os.path.exists('../tables/школьные оценки.xlsx') else 'https://drive.google.com/uc?id=1v9kRv1I03CXtQ6vFE4mE3hFAty436qAo'\n",
    "\n",
    "marks = pd.read_excel(path_marks)\n",
    "marks.head()"
   ]
  },
  {
   "cell_type": "code",
   "execution_count": null,
   "id": "40ba16ea",
   "metadata": {
    "scrolled": true
   },
   "outputs": [],
   "source": [
    "# Напишите свой код здесь"
   ]
  },
  {
   "cell_type": "code",
   "execution_count": null,
   "id": "d90bd7e4",
   "metadata": {
    "scrolled": true
   },
   "outputs": [],
   "source": []
  },
  {
   "cell_type": "code",
   "execution_count": null,
   "id": "8dba8aa3",
   "metadata": {
    "scrolled": true
   },
   "outputs": [],
   "source": []
  },
  {
   "cell_type": "code",
   "execution_count": null,
   "id": "5ba1a61b",
   "metadata": {
    "scrolled": true
   },
   "outputs": [],
   "source": []
  },
  {
   "cell_type": "code",
   "execution_count": null,
   "id": "0cf45045",
   "metadata": {
    "scrolled": true
   },
   "outputs": [],
   "source": []
  }
 ],
 "metadata": {
  "kernelspec": {
   "display_name": "Python 3 (ipykernel)",
   "language": "python",
   "name": "python3"
  },
  "language_info": {
   "codemirror_mode": {
    "name": "ipython",
    "version": 3
   },
   "file_extension": ".py",
   "mimetype": "text/x-python",
   "name": "python",
   "nbconvert_exporter": "python",
   "pygments_lexer": "ipython3",
   "version": "3.11.5"
  }
 },
 "nbformat": 4,
 "nbformat_minor": 5
}
