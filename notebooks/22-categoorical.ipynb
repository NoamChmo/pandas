{
 "cells": [
  {
   "cell_type": "markdown",
   "id": "a13ba4e9",
   "metadata": {},
   "source": [
    "<a target=\"_blank\" href=\"https://colab.research.google.com/github/victorlymarev/pandas/blob/main/notebooks/22-categoorical.ipynb\">\n",
    "  <img src=\"https://colab.research.google.com/assets/colab-badge.svg\" alt=\"Open In Colab\"/>\n",
    "</a>"
   ]
  },
  {
   "cell_type": "code",
   "execution_count": 1,
   "id": "e3d55f98",
   "metadata": {},
   "outputs": [],
   "source": [
    "import pandas as pd\n",
    "import os"
   ]
  },
  {
   "cell_type": "code",
   "execution_count": 2,
   "id": "2264f98d",
   "metadata": {},
   "outputs": [
    {
     "data": {
      "text/html": [
       "<div>\n",
       "<style scoped>\n",
       "    .dataframe tbody tr th:only-of-type {\n",
       "        vertical-align: middle;\n",
       "    }\n",
       "\n",
       "    .dataframe tbody tr th {\n",
       "        vertical-align: top;\n",
       "    }\n",
       "\n",
       "    .dataframe thead th {\n",
       "        text-align: right;\n",
       "    }\n",
       "</style>\n",
       "<table border=\"1\" class=\"dataframe\">\n",
       "  <thead>\n",
       "    <tr style=\"text-align: right;\">\n",
       "      <th></th>\n",
       "      <th>report_dt</th>\n",
       "      <th>i_pernr</th>\n",
       "      <th>fio</th>\n",
       "      <th>sex</th>\n",
       "      <th>shop_id</th>\n",
       "      <th>pos_name</th>\n",
       "      <th>pos_id</th>\n",
       "      <th>closest_boss_pos_id</th>\n",
       "      <th>mgmt_flag</th>\n",
       "      <th>salary_fork</th>\n",
       "      <th>birth_date</th>\n",
       "      <th>education</th>\n",
       "      <th>employee_evaluation</th>\n",
       "      <th>salary</th>\n",
       "    </tr>\n",
       "  </thead>\n",
       "  <tbody>\n",
       "    <tr>\n",
       "      <th>0</th>\n",
       "      <td>2015-01-31</td>\n",
       "      <td>100000</td>\n",
       "      <td>Кожевников Андрей Максимович</td>\n",
       "      <td>мужской</td>\n",
       "      <td>1</td>\n",
       "      <td>Директор магазина</td>\n",
       "      <td>11</td>\n",
       "      <td>&lt;NA&gt;</td>\n",
       "      <td>1</td>\n",
       "      <td>0</td>\n",
       "      <td>1987-03-11</td>\n",
       "      <td>высшее</td>\n",
       "      <td>5</td>\n",
       "      <td>45700.0</td>\n",
       "    </tr>\n",
       "    <tr>\n",
       "      <th>1</th>\n",
       "      <td>2015-01-31</td>\n",
       "      <td>0</td>\n",
       "      <td>Дубинина Надежда Николаевна</td>\n",
       "      <td>женский</td>\n",
       "      <td>1</td>\n",
       "      <td>Старший кассир</td>\n",
       "      <td>12</td>\n",
       "      <td>11</td>\n",
       "      <td>0</td>\n",
       "      <td>0</td>\n",
       "      <td>1971-07-07</td>\n",
       "      <td>среднее профессиональное</td>\n",
       "      <td>5</td>\n",
       "      <td>20000.0</td>\n",
       "    </tr>\n",
       "    <tr>\n",
       "      <th>2</th>\n",
       "      <td>2015-01-31</td>\n",
       "      <td>1</td>\n",
       "      <td>Вишневскиая Валентина Константиновна</td>\n",
       "      <td>женский</td>\n",
       "      <td>1</td>\n",
       "      <td>Кассир</td>\n",
       "      <td>13</td>\n",
       "      <td>12</td>\n",
       "      <td>0</td>\n",
       "      <td>0</td>\n",
       "      <td>1974-11-29</td>\n",
       "      <td>среднее общее</td>\n",
       "      <td>5</td>\n",
       "      <td>12600.0</td>\n",
       "    </tr>\n",
       "    <tr>\n",
       "      <th>3</th>\n",
       "      <td>2015-01-31</td>\n",
       "      <td>2</td>\n",
       "      <td>Литвинов Александр Максимович</td>\n",
       "      <td>мужской</td>\n",
       "      <td>1</td>\n",
       "      <td>Кассир</td>\n",
       "      <td>14</td>\n",
       "      <td>12</td>\n",
       "      <td>0</td>\n",
       "      <td>0</td>\n",
       "      <td>1969-11-01</td>\n",
       "      <td>среднее общее</td>\n",
       "      <td>3</td>\n",
       "      <td>12600.0</td>\n",
       "    </tr>\n",
       "    <tr>\n",
       "      <th>4</th>\n",
       "      <td>2015-01-31</td>\n",
       "      <td>3</td>\n",
       "      <td>Черняева Валерия Глебовна</td>\n",
       "      <td>женский</td>\n",
       "      <td>1</td>\n",
       "      <td>Продавец-консультант</td>\n",
       "      <td>17</td>\n",
       "      <td>11</td>\n",
       "      <td>0</td>\n",
       "      <td>0</td>\n",
       "      <td>1988-07-17</td>\n",
       "      <td>среднее общее</td>\n",
       "      <td>&lt;NA&gt;</td>\n",
       "      <td>15400.0</td>\n",
       "    </tr>\n",
       "  </tbody>\n",
       "</table>\n",
       "</div>"
      ],
      "text/plain": [
       "   report_dt  i_pernr                                   fio      sex  shop_id  \\\n",
       "0 2015-01-31   100000          Кожевников Андрей Максимович  мужской        1   \n",
       "1 2015-01-31        0           Дубинина Надежда Николаевна  женский        1   \n",
       "2 2015-01-31        1  Вишневскиая Валентина Константиновна  женский        1   \n",
       "3 2015-01-31        2         Литвинов Александр Максимович  мужской        1   \n",
       "4 2015-01-31        3             Черняева Валерия Глебовна  женский        1   \n",
       "\n",
       "               pos_name  pos_id  closest_boss_pos_id  mgmt_flag  salary_fork  \\\n",
       "0     Директор магазина      11                 <NA>          1            0   \n",
       "1        Старший кассир      12                   11          0            0   \n",
       "2                Кассир      13                   12          0            0   \n",
       "3                Кассир      14                   12          0            0   \n",
       "4  Продавец-консультант      17                   11          0            0   \n",
       "\n",
       "  birth_date                 education  employee_evaluation   salary  \n",
       "0 1987-03-11                    высшее                    5  45700.0  \n",
       "1 1971-07-07  среднее профессиональное                    5  20000.0  \n",
       "2 1974-11-29             среднее общее                    5  12600.0  \n",
       "3 1969-11-01             среднее общее                    3  12600.0  \n",
       "4 1988-07-17             среднее общее                 <NA>  15400.0  "
      ]
     },
     "execution_count": 2,
     "metadata": {},
     "output_type": "execute_result"
    }
   ],
   "source": [
    "path_empl = '../tables/employees.parquet' if os.path.exists('../tables/employees.parquet') else 'https://drive.google.com/uc?id=1AARD5-eVlCxoApt5CYZebrC3Cqw42lvj'\n",
    "\n",
    "empl = pd.read_parquet(path_empl)\n",
    "empl.head()"
   ]
  },
  {
   "cell_type": "markdown",
   "id": "d94518e4",
   "metadata": {},
   "source": [
    "#### Категориальный тип позволяет экономить память"
   ]
  },
  {
   "cell_type": "code",
   "execution_count": 3,
   "id": "a2cb1060",
   "metadata": {},
   "outputs": [
    {
     "data": {
      "text/plain": [
       "469952"
      ]
     },
     "execution_count": 3,
     "metadata": {},
     "output_type": "execute_result"
    }
   ],
   "source": [
    "empl['pos_name'].memory_usage()"
   ]
  },
  {
   "cell_type": "code",
   "execution_count": 4,
   "id": "766a92e4",
   "metadata": {},
   "outputs": [
    {
     "data": {
      "text/plain": [
       "264720"
      ]
     },
     "execution_count": 4,
     "metadata": {},
     "output_type": "execute_result"
    }
   ],
   "source": [
    "# приводим обычную колонку к категориальному типу\n",
    "empl['pos_name'] = pd.Categorical(empl['pos_name'])\n",
    "\n",
    "empl['pos_name'].memory_usage()"
   ]
  },
  {
   "cell_type": "code",
   "execution_count": 5,
   "id": "7e1e5744",
   "metadata": {},
   "outputs": [
    {
     "data": {
      "text/plain": [
       "1.775279540646721"
      ]
     },
     "execution_count": 5,
     "metadata": {},
     "output_type": "execute_result"
    }
   ],
   "source": [
    "469952 / 264720"
   ]
  },
  {
   "cell_type": "markdown",
   "id": "5bd6b5b0",
   "metadata": {},
   "source": [
    "Экономия достигается за счет того, что в каждой ячейке хранится не строка а число"
   ]
  },
  {
   "cell_type": "code",
   "execution_count": 6,
   "id": "7f11c435",
   "metadata": {},
   "outputs": [
    {
     "data": {
      "text/plain": [
       "Index(['Бухгалтер', 'Директор магазина', 'Заместитель директора магазина',\n",
       "       'Кассир', 'Мастер по ремонту одежды', 'Продавец-консультант',\n",
       "       'Старший кассир', 'Товаровед', 'Уборщик'],\n",
       "      dtype='string')"
      ]
     },
     "execution_count": 6,
     "metadata": {},
     "output_type": "execute_result"
    }
   ],
   "source": [
    "empl['pos_name'].cat.categories"
   ]
  },
  {
   "cell_type": "code",
   "execution_count": 7,
   "id": "55324545",
   "metadata": {},
   "outputs": [
    {
     "data": {
      "text/plain": [
       "0        1\n",
       "1        6\n",
       "2        3\n",
       "3        3\n",
       "4        5\n",
       "        ..\n",
       "29367    5\n",
       "29368    7\n",
       "29369    7\n",
       "29370    4\n",
       "29371    8\n",
       "Length: 29372, dtype: int8"
      ]
     },
     "execution_count": 7,
     "metadata": {},
     "output_type": "execute_result"
    }
   ],
   "source": [
    "empl['pos_name'].cat.codes"
   ]
  },
  {
   "cell_type": "markdown",
   "id": "462619c9",
   "metadata": {},
   "source": [
    "#### Категории можно сортировать"
   ]
  },
  {
   "cell_type": "code",
   "execution_count": 8,
   "id": "25209eb3",
   "metadata": {},
   "outputs": [],
   "source": [
    "# Всписке категорий указываем значения в порядке возрастания\n",
    "cats = ['Уборщик',\n",
    "    'Кассир',\n",
    "    'Продавец-консультант',\n",
    "    'Старший кассир',\n",
    "    'Мастер по ремонту одежды',\n",
    "    'Товаровед',\n",
    "    'Бухгалтер',\n",
    "    'Заместитель директора магазина',\n",
    "    'Директор магазина'\n",
    "]"
   ]
  },
  {
   "cell_type": "code",
   "execution_count": 9,
   "id": "55f3cc4a",
   "metadata": {},
   "outputs": [],
   "source": [
    "empl['pos_name'] = empl['pos_name'].cat.reorder_categories(cats, ordered=True)"
   ]
  },
  {
   "cell_type": "code",
   "execution_count": null,
   "id": "2ad10bd0",
   "metadata": {},
   "outputs": [],
   "source": [
    "# empl['pos_name'] = pd.Categorical(empl['pos_name'], categories=cats, ordered=True)"
   ]
  },
  {
   "cell_type": "code",
   "execution_count": 10,
   "id": "7b9f2de9",
   "metadata": {},
   "outputs": [
    {
     "data": {
      "text/plain": [
       "0       Директор магазина\n",
       "1          Старший кассир\n",
       "2                  Кассир\n",
       "3                  Кассир\n",
       "4    Продавец-консультант\n",
       "Name: pos_name, dtype: category\n",
       "Categories (9, object): ['Уборщик' < 'Кассир' < 'Продавец-консультант' < 'Старший кассир' ... 'Товаровед' < 'Бухгалтер' < 'Заместитель директора магазина' < 'Директор магазина']"
      ]
     },
     "execution_count": 10,
     "metadata": {},
     "output_type": "execute_result"
    }
   ],
   "source": [
    "empl['pos_name'].head()"
   ]
  },
  {
   "cell_type": "markdown",
   "id": "425efd8b",
   "metadata": {},
   "source": [
    "#### Теперь мы можем сравнивать категории"
   ]
  },
  {
   "cell_type": "code",
   "execution_count": 11,
   "id": "26a1b0d0",
   "metadata": {},
   "outputs": [
    {
     "data": {
      "text/plain": [
       "0         True\n",
       "1        False\n",
       "2        False\n",
       "3        False\n",
       "4        False\n",
       "         ...  \n",
       "29367    False\n",
       "29368    False\n",
       "29369    False\n",
       "29370    False\n",
       "29371    False\n",
       "Name: pos_name, Length: 29372, dtype: bool"
      ]
     },
     "execution_count": 11,
     "metadata": {},
     "output_type": "execute_result"
    }
   ],
   "source": [
    "empl['pos_name'] > 'Товаровед'"
   ]
  },
  {
   "cell_type": "code",
   "execution_count": 12,
   "id": "cfc8723d",
   "metadata": {},
   "outputs": [
    {
     "data": {
      "text/plain": [
       "'Директор магазина'"
      ]
     },
     "execution_count": 12,
     "metadata": {},
     "output_type": "execute_result"
    }
   ],
   "source": [
    "empl['pos_name'].max()"
   ]
  },
  {
   "cell_type": "markdown",
   "id": "09756aa9",
   "metadata": {},
   "source": [
    "#### Удаление порядка из категорий"
   ]
  },
  {
   "cell_type": "code",
   "execution_count": 13,
   "id": "179cbbc7",
   "metadata": {},
   "outputs": [
    {
     "data": {
      "text/plain": [
       "0               Директор магазина\n",
       "1                  Старший кассир\n",
       "2                          Кассир\n",
       "3                          Кассир\n",
       "4            Продавец-консультант\n",
       "                   ...           \n",
       "29367        Продавец-консультант\n",
       "29368                   Товаровед\n",
       "29369                   Товаровед\n",
       "29370    Мастер по ремонту одежды\n",
       "29371                     Уборщик\n",
       "Name: pos_name, Length: 29372, dtype: category\n",
       "Categories (9, object): ['Уборщик', 'Кассир', 'Продавец-консультант', 'Старший кассир', ..., 'Товаровед', 'Бухгалтер', 'Заместитель директора магазина', 'Директор магазина']"
      ]
     },
     "execution_count": 13,
     "metadata": {},
     "output_type": "execute_result"
    }
   ],
   "source": [
    "empl['pos_name'].cat.as_unordered()"
   ]
  },
  {
   "cell_type": "markdown",
   "id": "174dddfb",
   "metadata": {},
   "source": [
    "#### Добавление новой категории"
   ]
  },
  {
   "cell_type": "markdown",
   "id": "c7669dc1",
   "metadata": {},
   "source": [
    "В категориальный тип нельзя добавлять новые значения, которые не находятся в списке категорий"
   ]
  },
  {
   "cell_type": "code",
   "execution_count": 14,
   "id": "2af96f41",
   "metadata": {
    "scrolled": true
   },
   "outputs": [
    {
     "ename": "TypeError",
     "evalue": "Cannot setitem on a Categorical with a new category (Мерчендайзер), set the categories first",
     "output_type": "error",
     "traceback": [
      "\u001b[1;31m---------------------------------------------------------------------------\u001b[0m",
      "\u001b[1;31mTypeError\u001b[0m                                 Traceback (most recent call last)",
      "Cell \u001b[1;32mIn[14], line 1\u001b[0m\n\u001b[1;32m----> 1\u001b[0m \u001b[43mempl\u001b[49m\u001b[43m[\u001b[49m\u001b[38;5;124;43m'\u001b[39;49m\u001b[38;5;124;43mpos_name\u001b[39;49m\u001b[38;5;124;43m'\u001b[39;49m\u001b[43m]\u001b[49m\u001b[38;5;241;43m.\u001b[39;49m\u001b[43miloc\u001b[49m\u001b[43m[\u001b[49m\u001b[38;5;241;43m3\u001b[39;49m\u001b[43m]\u001b[49m \u001b[38;5;241m=\u001b[39m \u001b[38;5;124m'\u001b[39m\u001b[38;5;124mМерчендайзер\u001b[39m\u001b[38;5;124m'\u001b[39m\n",
      "File \u001b[1;32mC:\\Python\\Python311\\Lib\\site-packages\\pandas\\core\\indexing.py:818\u001b[0m, in \u001b[0;36m_LocationIndexer.__setitem__\u001b[1;34m(self, key, value)\u001b[0m\n\u001b[0;32m    815\u001b[0m \u001b[38;5;28mself\u001b[39m\u001b[38;5;241m.\u001b[39m_has_valid_setitem_indexer(key)\n\u001b[0;32m    817\u001b[0m iloc \u001b[38;5;241m=\u001b[39m \u001b[38;5;28mself\u001b[39m \u001b[38;5;28;01mif\u001b[39;00m \u001b[38;5;28mself\u001b[39m\u001b[38;5;241m.\u001b[39mname \u001b[38;5;241m==\u001b[39m \u001b[38;5;124m\"\u001b[39m\u001b[38;5;124miloc\u001b[39m\u001b[38;5;124m\"\u001b[39m \u001b[38;5;28;01melse\u001b[39;00m \u001b[38;5;28mself\u001b[39m\u001b[38;5;241m.\u001b[39mobj\u001b[38;5;241m.\u001b[39miloc\n\u001b[1;32m--> 818\u001b[0m \u001b[43miloc\u001b[49m\u001b[38;5;241;43m.\u001b[39;49m\u001b[43m_setitem_with_indexer\u001b[49m\u001b[43m(\u001b[49m\u001b[43mindexer\u001b[49m\u001b[43m,\u001b[49m\u001b[43m \u001b[49m\u001b[43mvalue\u001b[49m\u001b[43m,\u001b[49m\u001b[43m \u001b[49m\u001b[38;5;28;43mself\u001b[39;49m\u001b[38;5;241;43m.\u001b[39;49m\u001b[43mname\u001b[49m\u001b[43m)\u001b[49m\n",
      "File \u001b[1;32mC:\\Python\\Python311\\Lib\\site-packages\\pandas\\core\\indexing.py:1797\u001b[0m, in \u001b[0;36m_iLocIndexer._setitem_with_indexer\u001b[1;34m(self, indexer, value, name)\u001b[0m\n\u001b[0;32m   1795\u001b[0m     \u001b[38;5;28mself\u001b[39m\u001b[38;5;241m.\u001b[39m_setitem_with_indexer_split_path(indexer, value, name)\n\u001b[0;32m   1796\u001b[0m \u001b[38;5;28;01melse\u001b[39;00m:\n\u001b[1;32m-> 1797\u001b[0m     \u001b[38;5;28;43mself\u001b[39;49m\u001b[38;5;241;43m.\u001b[39;49m\u001b[43m_setitem_single_block\u001b[49m\u001b[43m(\u001b[49m\u001b[43mindexer\u001b[49m\u001b[43m,\u001b[49m\u001b[43m \u001b[49m\u001b[43mvalue\u001b[49m\u001b[43m,\u001b[49m\u001b[43m \u001b[49m\u001b[43mname\u001b[49m\u001b[43m)\u001b[49m\n",
      "File \u001b[1;32mC:\\Python\\Python311\\Lib\\site-packages\\pandas\\core\\indexing.py:2078\u001b[0m, in \u001b[0;36m_iLocIndexer._setitem_single_block\u001b[1;34m(self, indexer, value, name)\u001b[0m\n\u001b[0;32m   2075\u001b[0m \u001b[38;5;28mself\u001b[39m\u001b[38;5;241m.\u001b[39mobj\u001b[38;5;241m.\u001b[39m_check_is_chained_assignment_possible()\n\u001b[0;32m   2077\u001b[0m \u001b[38;5;66;03m# actually do the set\u001b[39;00m\n\u001b[1;32m-> 2078\u001b[0m \u001b[38;5;28mself\u001b[39m\u001b[38;5;241m.\u001b[39mobj\u001b[38;5;241m.\u001b[39m_mgr \u001b[38;5;241m=\u001b[39m \u001b[38;5;28;43mself\u001b[39;49m\u001b[38;5;241;43m.\u001b[39;49m\u001b[43mobj\u001b[49m\u001b[38;5;241;43m.\u001b[39;49m\u001b[43m_mgr\u001b[49m\u001b[38;5;241;43m.\u001b[39;49m\u001b[43msetitem\u001b[49m\u001b[43m(\u001b[49m\u001b[43mindexer\u001b[49m\u001b[38;5;241;43m=\u001b[39;49m\u001b[43mindexer\u001b[49m\u001b[43m,\u001b[49m\u001b[43m \u001b[49m\u001b[43mvalue\u001b[49m\u001b[38;5;241;43m=\u001b[39;49m\u001b[43mvalue\u001b[49m\u001b[43m)\u001b[49m\n\u001b[0;32m   2079\u001b[0m \u001b[38;5;28mself\u001b[39m\u001b[38;5;241m.\u001b[39mobj\u001b[38;5;241m.\u001b[39m_maybe_update_cacher(clear\u001b[38;5;241m=\u001b[39m\u001b[38;5;28;01mTrue\u001b[39;00m, inplace\u001b[38;5;241m=\u001b[39m\u001b[38;5;28;01mTrue\u001b[39;00m)\n",
      "File \u001b[1;32mC:\\Python\\Python311\\Lib\\site-packages\\pandas\\core\\internals\\managers.py:393\u001b[0m, in \u001b[0;36mBaseBlockManager.setitem\u001b[1;34m(self, indexer, value)\u001b[0m\n\u001b[0;32m    388\u001b[0m \u001b[38;5;28;01mif\u001b[39;00m _using_copy_on_write() \u001b[38;5;129;01mand\u001b[39;00m \u001b[38;5;129;01mnot\u001b[39;00m \u001b[38;5;28mself\u001b[39m\u001b[38;5;241m.\u001b[39m_has_no_reference(\u001b[38;5;241m0\u001b[39m):\n\u001b[0;32m    389\u001b[0m     \u001b[38;5;66;03m# if being referenced -> perform Copy-on-Write and clear the reference\u001b[39;00m\n\u001b[0;32m    390\u001b[0m     \u001b[38;5;66;03m# this method is only called if there is a single block -> hardcoded 0\u001b[39;00m\n\u001b[0;32m    391\u001b[0m     \u001b[38;5;28mself\u001b[39m \u001b[38;5;241m=\u001b[39m \u001b[38;5;28mself\u001b[39m\u001b[38;5;241m.\u001b[39mcopy()\n\u001b[1;32m--> 393\u001b[0m \u001b[38;5;28;01mreturn\u001b[39;00m \u001b[38;5;28;43mself\u001b[39;49m\u001b[38;5;241;43m.\u001b[39;49m\u001b[43mapply\u001b[49m\u001b[43m(\u001b[49m\u001b[38;5;124;43m\"\u001b[39;49m\u001b[38;5;124;43msetitem\u001b[39;49m\u001b[38;5;124;43m\"\u001b[39;49m\u001b[43m,\u001b[49m\u001b[43m \u001b[49m\u001b[43mindexer\u001b[49m\u001b[38;5;241;43m=\u001b[39;49m\u001b[43mindexer\u001b[49m\u001b[43m,\u001b[49m\u001b[43m \u001b[49m\u001b[43mvalue\u001b[49m\u001b[38;5;241;43m=\u001b[39;49m\u001b[43mvalue\u001b[49m\u001b[43m)\u001b[49m\n",
      "File \u001b[1;32mC:\\Python\\Python311\\Lib\\site-packages\\pandas\\core\\internals\\managers.py:352\u001b[0m, in \u001b[0;36mBaseBlockManager.apply\u001b[1;34m(self, f, align_keys, ignore_failures, **kwargs)\u001b[0m\n\u001b[0;32m    350\u001b[0m         applied \u001b[38;5;241m=\u001b[39m b\u001b[38;5;241m.\u001b[39mapply(f, \u001b[38;5;241m*\u001b[39m\u001b[38;5;241m*\u001b[39mkwargs)\n\u001b[0;32m    351\u001b[0m     \u001b[38;5;28;01melse\u001b[39;00m:\n\u001b[1;32m--> 352\u001b[0m         applied \u001b[38;5;241m=\u001b[39m \u001b[38;5;28;43mgetattr\u001b[39;49m\u001b[43m(\u001b[49m\u001b[43mb\u001b[49m\u001b[43m,\u001b[49m\u001b[43m \u001b[49m\u001b[43mf\u001b[49m\u001b[43m)\u001b[49m\u001b[43m(\u001b[49m\u001b[38;5;241;43m*\u001b[39;49m\u001b[38;5;241;43m*\u001b[39;49m\u001b[43mkwargs\u001b[49m\u001b[43m)\u001b[49m\n\u001b[0;32m    353\u001b[0m \u001b[38;5;28;01mexcept\u001b[39;00m (\u001b[38;5;167;01mTypeError\u001b[39;00m, \u001b[38;5;167;01mNotImplementedError\u001b[39;00m):\n\u001b[0;32m    354\u001b[0m     \u001b[38;5;28;01mif\u001b[39;00m \u001b[38;5;129;01mnot\u001b[39;00m ignore_failures:\n",
      "File \u001b[1;32mC:\\Python\\Python311\\Lib\\site-packages\\pandas\\core\\internals\\blocks.py:1417\u001b[0m, in \u001b[0;36mEABackedBlock.setitem\u001b[1;34m(self, indexer, value)\u001b[0m\n\u001b[0;32m   1414\u001b[0m check_setitem_lengths(indexer, value, values)\n\u001b[0;32m   1416\u001b[0m \u001b[38;5;28;01mtry\u001b[39;00m:\n\u001b[1;32m-> 1417\u001b[0m     \u001b[43mvalues\u001b[49m\u001b[43m[\u001b[49m\u001b[43mindexer\u001b[49m\u001b[43m]\u001b[49m \u001b[38;5;241m=\u001b[39m value\n\u001b[0;32m   1418\u001b[0m \u001b[38;5;28;01mexcept\u001b[39;00m (\u001b[38;5;167;01mValueError\u001b[39;00m, \u001b[38;5;167;01mTypeError\u001b[39;00m) \u001b[38;5;28;01mas\u001b[39;00m err:\n\u001b[0;32m   1419\u001b[0m     _catch_deprecated_value_error(err)\n",
      "File \u001b[1;32mC:\\Python\\Python311\\Lib\\site-packages\\pandas\\core\\arrays\\_mixins.py:266\u001b[0m, in \u001b[0;36mNDArrayBackedExtensionArray.__setitem__\u001b[1;34m(self, key, value)\u001b[0m\n\u001b[0;32m    264\u001b[0m \u001b[38;5;28;01mdef\u001b[39;00m \u001b[38;5;21m__setitem__\u001b[39m(\u001b[38;5;28mself\u001b[39m, key, value) \u001b[38;5;241m-\u001b[39m\u001b[38;5;241m>\u001b[39m \u001b[38;5;28;01mNone\u001b[39;00m:\n\u001b[0;32m    265\u001b[0m     key \u001b[38;5;241m=\u001b[39m check_array_indexer(\u001b[38;5;28mself\u001b[39m, key)\n\u001b[1;32m--> 266\u001b[0m     value \u001b[38;5;241m=\u001b[39m \u001b[38;5;28;43mself\u001b[39;49m\u001b[38;5;241;43m.\u001b[39;49m\u001b[43m_validate_setitem_value\u001b[49m\u001b[43m(\u001b[49m\u001b[43mvalue\u001b[49m\u001b[43m)\u001b[49m\n\u001b[0;32m    267\u001b[0m     \u001b[38;5;28mself\u001b[39m\u001b[38;5;241m.\u001b[39m_ndarray[key] \u001b[38;5;241m=\u001b[39m value\n",
      "File \u001b[1;32mC:\\Python\\Python311\\Lib\\site-packages\\pandas\\core\\arrays\\categorical.py:1560\u001b[0m, in \u001b[0;36mCategorical._validate_setitem_value\u001b[1;34m(self, value)\u001b[0m\n\u001b[0;32m   1558\u001b[0m     \u001b[38;5;28;01mreturn\u001b[39;00m \u001b[38;5;28mself\u001b[39m\u001b[38;5;241m.\u001b[39m_validate_listlike(value)\n\u001b[0;32m   1559\u001b[0m \u001b[38;5;28;01melse\u001b[39;00m:\n\u001b[1;32m-> 1560\u001b[0m     \u001b[38;5;28;01mreturn\u001b[39;00m \u001b[38;5;28;43mself\u001b[39;49m\u001b[38;5;241;43m.\u001b[39;49m\u001b[43m_validate_scalar\u001b[49m\u001b[43m(\u001b[49m\u001b[43mvalue\u001b[49m\u001b[43m)\u001b[49m\n",
      "File \u001b[1;32mC:\\Python\\Python311\\Lib\\site-packages\\pandas\\core\\arrays\\categorical.py:1587\u001b[0m, in \u001b[0;36mCategorical._validate_scalar\u001b[1;34m(self, fill_value)\u001b[0m\n\u001b[0;32m   1585\u001b[0m     fill_value \u001b[38;5;241m=\u001b[39m \u001b[38;5;28mself\u001b[39m\u001b[38;5;241m.\u001b[39m_unbox_scalar(fill_value)\n\u001b[0;32m   1586\u001b[0m \u001b[38;5;28;01melse\u001b[39;00m:\n\u001b[1;32m-> 1587\u001b[0m     \u001b[38;5;28;01mraise\u001b[39;00m \u001b[38;5;167;01mTypeError\u001b[39;00m(\n\u001b[0;32m   1588\u001b[0m         \u001b[38;5;124m\"\u001b[39m\u001b[38;5;124mCannot setitem on a Categorical with a new \u001b[39m\u001b[38;5;124m\"\u001b[39m\n\u001b[0;32m   1589\u001b[0m         \u001b[38;5;124mf\u001b[39m\u001b[38;5;124m\"\u001b[39m\u001b[38;5;124mcategory (\u001b[39m\u001b[38;5;132;01m{\u001b[39;00mfill_value\u001b[38;5;132;01m}\u001b[39;00m\u001b[38;5;124m), set the categories first\u001b[39m\u001b[38;5;124m\"\u001b[39m\n\u001b[0;32m   1590\u001b[0m     ) \u001b[38;5;28;01mfrom\u001b[39;00m \u001b[38;5;28mNone\u001b[39m\n\u001b[0;32m   1591\u001b[0m \u001b[38;5;28;01mreturn\u001b[39;00m fill_value\n",
      "\u001b[1;31mTypeError\u001b[0m: Cannot setitem on a Categorical with a new category (Мерчендайзер), set the categories first"
     ]
    }
   ],
   "source": [
    "empl['pos_name'].iloc[3] = 'Мерчендайзер'"
   ]
  },
  {
   "cell_type": "code",
   "execution_count": 15,
   "id": "c1e111e2",
   "metadata": {},
   "outputs": [
    {
     "data": {
      "text/plain": [
       "0       Директор магазина\n",
       "1          Старший кассир\n",
       "2                  Кассир\n",
       "3                  Кассир\n",
       "4    Продавец-консультант\n",
       "Name: pos_name, dtype: category\n",
       "Categories (10, object): ['Уборщик' < 'Кассир' < 'Продавец-консультант' < 'Старший кассир' ... 'Бухгалтер' < 'Заместитель директора магазина' < 'Директор магазина' < 'Мерчендайзер']"
      ]
     },
     "execution_count": 15,
     "metadata": {},
     "output_type": "execute_result"
    }
   ],
   "source": [
    "empl['pos_name'] = empl['pos_name'].cat.add_categories('Мерчендайзер')\n",
    "empl['pos_name'].head()"
   ]
  },
  {
   "cell_type": "code",
   "execution_count": 16,
   "id": "9fd7ab56",
   "metadata": {},
   "outputs": [
    {
     "data": {
      "text/plain": [
       "0       Директор магазина\n",
       "1          Старший кассир\n",
       "2                  Кассир\n",
       "3            Мерчендайзер\n",
       "4    Продавец-консультант\n",
       "Name: pos_name, dtype: category\n",
       "Categories (10, object): ['Уборщик' < 'Кассир' < 'Продавец-консультант' < 'Старший кассир' ... 'Бухгалтер' < 'Заместитель директора магазина' < 'Директор магазина' < 'Мерчендайзер']"
      ]
     },
     "execution_count": 16,
     "metadata": {},
     "output_type": "execute_result"
    }
   ],
   "source": [
    "empl['pos_name'].iloc[3] = 'Мерчендайзер'\n",
    "empl['pos_name'].head()"
   ]
  },
  {
   "cell_type": "markdown",
   "id": "a2431c84",
   "metadata": {},
   "source": [
    "Можно автоматически удалять ненужные категории"
   ]
  },
  {
   "cell_type": "code",
   "execution_count": 17,
   "id": "1b28b771",
   "metadata": {},
   "outputs": [
    {
     "data": {
      "text/plain": [
       "0       Директор магазина\n",
       "1          Старший кассир\n",
       "2                  Кассир\n",
       "3            Мерчендайзер\n",
       "4    Продавец-консультант\n",
       "Name: pos_name, dtype: category\n",
       "Categories (10, object): ['Уборщик' < 'Кассир' < 'Продавец-консультант' < 'Старший кассир' ... 'Бухгалтер' < 'Заместитель директора магазина' < 'Директор магазина' < 'Мерчендайзер']"
      ]
     },
     "execution_count": 17,
     "metadata": {},
     "output_type": "execute_result"
    }
   ],
   "source": [
    "(empl['pos_name']\n",
    "    .cat.add_categories('Грузчик') # добавляем категорию\n",
    "    .cat.remove_unused_categories() # удаляем категрию\n",
    "    .head()\n",
    ")"
   ]
  },
  {
   "cell_type": "code",
   "execution_count": null,
   "id": "a206682d",
   "metadata": {},
   "outputs": [],
   "source": []
  },
  {
   "cell_type": "code",
   "execution_count": null,
   "id": "69697273",
   "metadata": {},
   "outputs": [],
   "source": []
  },
  {
   "cell_type": "markdown",
   "id": "1b4c9da8",
   "metadata": {},
   "source": [
    "## сut\n",
    "\n",
    "#### Функция делит непрерывную величину на интервалы"
   ]
  },
  {
   "cell_type": "markdown",
   "id": "97d368a4",
   "metadata": {},
   "source": [
    "Можно указать количество равных по длинне интервалов, на которое поделится величина"
   ]
  },
  {
   "cell_type": "code",
   "execution_count": 18,
   "id": "e20bb0a0",
   "metadata": {},
   "outputs": [
    {
     "data": {
      "text/plain": [
       "0        (41020.0, 55230.0]\n",
       "1        (12457.9, 26810.0]\n",
       "2        (12457.9, 26810.0]\n",
       "3        (12457.9, 26810.0]\n",
       "4        (12457.9, 26810.0]\n",
       "                ...        \n",
       "29367    (26810.0, 41020.0]\n",
       "29368    (26810.0, 41020.0]\n",
       "29369    (26810.0, 41020.0]\n",
       "29370    (26810.0, 41020.0]\n",
       "29371    (12457.9, 26810.0]\n",
       "Name: salary, Length: 29372, dtype: category\n",
       "Categories (10, interval[float64, right]): [(12457.9, 26810.0] < (26810.0, 41020.0] < (41020.0, 55230.0] < (55230.0, 69440.0] ... (97860.0, 112070.0] < (112070.0, 126280.0] < (126280.0, 140490.0] < (140490.0, 154700.0]]"
      ]
     },
     "execution_count": 18,
     "metadata": {},
     "output_type": "execute_result"
    }
   ],
   "source": [
    "pd.cut(empl['salary'], bins=10)"
   ]
  },
  {
   "cell_type": "markdown",
   "id": "8b796ccb",
   "metadata": {},
   "source": [
    "Можно передать эти интервалы"
   ]
  },
  {
   "cell_type": "code",
   "execution_count": 19,
   "id": "416dabf7",
   "metadata": {},
   "outputs": [
    {
     "data": {
      "text/plain": [
       "0        (20000, 50000]\n",
       "1            (0, 20000]\n",
       "2            (0, 20000]\n",
       "3            (0, 20000]\n",
       "4            (0, 20000]\n",
       "              ...      \n",
       "29367    (20000, 50000]\n",
       "29368    (20000, 50000]\n",
       "29369    (20000, 50000]\n",
       "29370    (20000, 50000]\n",
       "29371    (20000, 50000]\n",
       "Name: salary, Length: 29372, dtype: category\n",
       "Categories (4, interval[int64, right]): [(0, 20000] < (20000, 50000] < (50000, 100000] < (100000, 1000000]]"
      ]
     },
     "execution_count": 19,
     "metadata": {},
     "output_type": "execute_result"
    }
   ],
   "source": [
    "pd.cut(empl['salary'], bins=[0, 20000, 50000, 100000, 1000000])"
   ]
  },
  {
   "cell_type": "markdown",
   "id": "c5740d30",
   "metadata": {},
   "source": [
    "Можно указать названия интервалов"
   ]
  },
  {
   "cell_type": "code",
   "execution_count": 20,
   "id": "fb214d35",
   "metadata": {},
   "outputs": [
    {
     "data": {
      "text/plain": [
       "0        Средняя зарплата\n",
       "1         Низкая зарплата\n",
       "2         Низкая зарплата\n",
       "3         Низкая зарплата\n",
       "4         Низкая зарплата\n",
       "               ...       \n",
       "29367    Средняя зарплата\n",
       "29368    Средняя зарплата\n",
       "29369    Средняя зарплата\n",
       "29370    Средняя зарплата\n",
       "29371    Средняя зарплата\n",
       "Name: salary, Length: 29372, dtype: category\n",
       "Categories (4, object): ['Низкая зарплата' < 'Средняя зарплата' < 'Выше среднего' < 'Высокая зарплата']"
      ]
     },
     "execution_count": 20,
     "metadata": {},
     "output_type": "execute_result"
    }
   ],
   "source": [
    "pd.cut(empl['salary'],\n",
    "       bins=[0, 20000, 50000, 100000, 1000000],\n",
    "       labels=['Низкая зарплата', 'Средняя зарплата',\n",
    "                'Выше среднего', 'Высокая зарплата'])"
   ]
  },
  {
   "cell_type": "markdown",
   "id": "61544f36",
   "metadata": {},
   "source": [
    "Затем на основе этого можно построить график.\n",
    "\n",
    "Чтобы категории шли в порядке  категорий необходимо в параметр sort метода value_counts передать значение False  "
   ]
  },
  {
   "cell_type": "code",
   "execution_count": 21,
   "id": "bfbe9b1f",
   "metadata": {},
   "outputs": [
    {
     "data": {
      "text/plain": [
       "<Axes: >"
      ]
     },
     "execution_count": 21,
     "metadata": {},
     "output_type": "execute_result"
    },
    {
     "data": {
      "image/png": "[encoded data removed]",
      "text/plain": [
       "<Figure size 800x300 with 1 Axes>"
      ]
     },
     "metadata": {},
     "output_type": "display_data"
    }
   ],
   "source": [
    "(pd.cut(empl['salary'],\n",
    "           bins=[0, 20000, 50000, 100000, 1000000],\n",
    "           labels=['Низкая зарплата', 'Средняя зарплата',\n",
    "                    'Выше среднего', 'Высокая зарплата'])\n",
    "    .value_counts(sort=False)\n",
    "    .plot(kind='bar', figsize=(8, 3))\n",
    ")"
   ]
  },
  {
   "cell_type": "code",
   "execution_count": null,
   "id": "5e26df40",
   "metadata": {},
   "outputs": [],
   "source": []
  },
  {
   "cell_type": "code",
   "execution_count": null,
   "id": "e1740ec8",
   "metadata": {},
   "outputs": [],
   "source": []
  },
  {
   "cell_type": "markdown",
   "id": "d69c6d76",
   "metadata": {},
   "source": [
    "## qcut\n",
    "\n",
    "#### Делит непрерывную величину на интервалы по квантилям (так, чтобы в каждой группе было примерно равно число наблюдений)"
   ]
  },
  {
   "cell_type": "code",
   "execution_count": 22,
   "id": "c3257c04",
   "metadata": {},
   "outputs": [
    {
     "data": {
      "text/plain": [
       "0         (35400.0, 154700.0]\n",
       "1        (12599.999, 22300.0]\n",
       "2        (12599.999, 22300.0]\n",
       "3        (12599.999, 22300.0]\n",
       "4        (12599.999, 22300.0]\n",
       "                 ...         \n",
       "29367     (35400.0, 154700.0]\n",
       "29368      (26600.0, 35400.0]\n",
       "29369      (26600.0, 35400.0]\n",
       "29370     (35400.0, 154700.0]\n",
       "29371      (22300.0, 26600.0]\n",
       "Name: salary, Length: 29372, dtype: category\n",
       "Categories (4, interval[float64, right]): [(12599.999, 22300.0] < (22300.0, 26600.0] < (26600.0, 35400.0] < (35400.0, 154700.0]]"
      ]
     },
     "execution_count": 22,
     "metadata": {},
     "output_type": "execute_result"
    }
   ],
   "source": [
    "# в каждый полуинтервал попадает по 25% (100 / q = 4)\n",
    "pd.qcut(empl['salary'], q=4)"
   ]
  },
  {
   "cell_type": "code",
   "execution_count": 23,
   "id": "f7ccbc95",
   "metadata": {},
   "outputs": [
    {
     "data": {
      "text/plain": [
       "0         (35400.0, 154700.0]\n",
       "1          (19300.0, 24800.0]\n",
       "2        (12599.999, 19300.0]\n",
       "3        (12599.999, 19300.0]\n",
       "4        (12599.999, 19300.0]\n",
       "                 ...         \n",
       "29367     (35400.0, 154700.0]\n",
       "29368      (24800.0, 35400.0]\n",
       "29369      (24800.0, 35400.0]\n",
       "29370     (35400.0, 154700.0]\n",
       "29371      (24800.0, 35400.0]\n",
       "Name: salary, Length: 29372, dtype: category\n",
       "Categories (4, interval[float64, right]): [(12599.999, 19300.0] < (19300.0, 24800.0] < (24800.0, 35400.0] < (35400.0, 154700.0]]"
      ]
     },
     "execution_count": 23,
     "metadata": {},
     "output_type": "execute_result"
    }
   ],
   "source": [
    "pd.qcut(empl['salary'], q=[0, 0.1, 0.4, 0.75, 1])"
   ]
  },
  {
   "cell_type": "code",
   "execution_count": null,
   "id": "f7cf6792",
   "metadata": {},
   "outputs": [],
   "source": []
  },
  {
   "cell_type": "code",
   "execution_count": null,
   "id": "6096b45d",
   "metadata": {},
   "outputs": [],
   "source": []
  },
  {
   "cell_type": "code",
   "execution_count": null,
   "id": "6ecc579f",
   "metadata": {},
   "outputs": [],
   "source": []
  },
  {
   "cell_type": "markdown",
   "id": "607f3e6d",
   "metadata": {},
   "source": [
    "#### При помощи данного метода можно стратифицированно делить людей на группы"
   ]
  },
  {
   "cell_type": "code",
   "execution_count": 24,
   "id": "b8a6686f",
   "metadata": {},
   "outputs": [
    {
     "data": {
      "text/html": [
       "<div>\n",
       "<style scoped>\n",
       "    .dataframe tbody tr th:only-of-type {\n",
       "        vertical-align: middle;\n",
       "    }\n",
       "\n",
       "    .dataframe tbody tr th {\n",
       "        vertical-align: top;\n",
       "    }\n",
       "\n",
       "    .dataframe thead th {\n",
       "        text-align: right;\n",
       "    }\n",
       "</style>\n",
       "<table border=\"1\" class=\"dataframe\">\n",
       "  <thead>\n",
       "    <tr style=\"text-align: right;\">\n",
       "      <th></th>\n",
       "      <th>report_dt</th>\n",
       "      <th>i_pernr</th>\n",
       "      <th>fio</th>\n",
       "      <th>sex</th>\n",
       "      <th>shop_id</th>\n",
       "      <th>pos_name</th>\n",
       "      <th>pos_id</th>\n",
       "      <th>closest_boss_pos_id</th>\n",
       "      <th>mgmt_flag</th>\n",
       "      <th>salary_fork</th>\n",
       "      <th>birth_date</th>\n",
       "      <th>education</th>\n",
       "      <th>employee_evaluation</th>\n",
       "      <th>salary</th>\n",
       "      <th>salary_bin</th>\n",
       "    </tr>\n",
       "  </thead>\n",
       "  <tbody>\n",
       "    <tr>\n",
       "      <th>29000</th>\n",
       "      <td>2022-12-31</td>\n",
       "      <td>1409</td>\n",
       "      <td>Макеева Мария Денисовна</td>\n",
       "      <td>женский</td>\n",
       "      <td>6</td>\n",
       "      <td>Уборщик</td>\n",
       "      <td>628</td>\n",
       "      <td>62</td>\n",
       "      <td>0</td>\n",
       "      <td>2</td>\n",
       "      <td>1984-05-25</td>\n",
       "      <td>высшее</td>\n",
       "      <td>6</td>\n",
       "      <td>25600.0</td>\n",
       "      <td>(20799.999, 25600.0]</td>\n",
       "    </tr>\n",
       "    <tr>\n",
       "      <th>29036</th>\n",
       "      <td>2022-12-31</td>\n",
       "      <td>1859</td>\n",
       "      <td>Ларионова Татьяна Денисовна</td>\n",
       "      <td>женский</td>\n",
       "      <td>8</td>\n",
       "      <td>Кассир</td>\n",
       "      <td>85</td>\n",
       "      <td>83</td>\n",
       "      <td>0</td>\n",
       "      <td>0</td>\n",
       "      <td>1969-04-18</td>\n",
       "      <td>высшее</td>\n",
       "      <td>5</td>\n",
       "      <td>21200.0</td>\n",
       "      <td>(20799.999, 25600.0]</td>\n",
       "    </tr>\n",
       "    <tr>\n",
       "      <th>29075</th>\n",
       "      <td>2022-12-31</td>\n",
       "      <td>462</td>\n",
       "      <td>Сычева София Степановна</td>\n",
       "      <td>женский</td>\n",
       "      <td>9</td>\n",
       "      <td>Продавец-консультант</td>\n",
       "      <td>920</td>\n",
       "      <td>92</td>\n",
       "      <td>0</td>\n",
       "      <td>0</td>\n",
       "      <td>1990-10-24</td>\n",
       "      <td>высшее</td>\n",
       "      <td>6</td>\n",
       "      <td>26100.0</td>\n",
       "      <td>(25600.0, 28500.0]</td>\n",
       "    </tr>\n",
       "    <tr>\n",
       "      <th>29271</th>\n",
       "      <td>2022-12-31</td>\n",
       "      <td>1866</td>\n",
       "      <td>Дьякова Алена Антоновна</td>\n",
       "      <td>женский</td>\n",
       "      <td>19</td>\n",
       "      <td>Продавец-консультант</td>\n",
       "      <td>198</td>\n",
       "      <td>191</td>\n",
       "      <td>0</td>\n",
       "      <td>0</td>\n",
       "      <td>1982-05-30</td>\n",
       "      <td>высшее</td>\n",
       "      <td>6</td>\n",
       "      <td>26000.0</td>\n",
       "      <td>(25600.0, 28500.0]</td>\n",
       "    </tr>\n",
       "    <tr>\n",
       "      <th>29216</th>\n",
       "      <td>2022-12-31</td>\n",
       "      <td>1500</td>\n",
       "      <td>Винниченко Раиса Валерьевна</td>\n",
       "      <td>женский</td>\n",
       "      <td>17</td>\n",
       "      <td>Кассир</td>\n",
       "      <td>174</td>\n",
       "      <td>173</td>\n",
       "      <td>0</td>\n",
       "      <td>2</td>\n",
       "      <td>1992-07-09</td>\n",
       "      <td>высшее</td>\n",
       "      <td>6</td>\n",
       "      <td>28700.0</td>\n",
       "      <td>(28500.0, 32720.0]</td>\n",
       "    </tr>\n",
       "    <tr>\n",
       "      <th>...</th>\n",
       "      <td>...</td>\n",
       "      <td>...</td>\n",
       "      <td>...</td>\n",
       "      <td>...</td>\n",
       "      <td>...</td>\n",
       "      <td>...</td>\n",
       "      <td>...</td>\n",
       "      <td>...</td>\n",
       "      <td>...</td>\n",
       "      <td>...</td>\n",
       "      <td>...</td>\n",
       "      <td>...</td>\n",
       "      <td>...</td>\n",
       "      <td>...</td>\n",
       "      <td>...</td>\n",
       "    </tr>\n",
       "    <tr>\n",
       "      <th>29055</th>\n",
       "      <td>2022-12-31</td>\n",
       "      <td>1725</td>\n",
       "      <td>Олейников Андрей Михайлович</td>\n",
       "      <td>мужской</td>\n",
       "      <td>8</td>\n",
       "      <td>Товаровед</td>\n",
       "      <td>824</td>\n",
       "      <td>82</td>\n",
       "      <td>0</td>\n",
       "      <td>1</td>\n",
       "      <td>1974-02-05</td>\n",
       "      <td>среднее профессиональное</td>\n",
       "      <td>5</td>\n",
       "      <td>32300.0</td>\n",
       "      <td>(28500.0, 32720.0]</td>\n",
       "    </tr>\n",
       "    <tr>\n",
       "      <th>29347</th>\n",
       "      <td>2022-12-31</td>\n",
       "      <td>1255</td>\n",
       "      <td>Костин Артем Артурович</td>\n",
       "      <td>мужской</td>\n",
       "      <td>23</td>\n",
       "      <td>Старший кассир</td>\n",
       "      <td>235</td>\n",
       "      <td>232</td>\n",
       "      <td>0</td>\n",
       "      <td>2</td>\n",
       "      <td>1971-08-14</td>\n",
       "      <td>среднее профессиональное</td>\n",
       "      <td>8</td>\n",
       "      <td>42700.0</td>\n",
       "      <td>(32720.0, 42700.0]</td>\n",
       "    </tr>\n",
       "    <tr>\n",
       "      <th>29154</th>\n",
       "      <td>2022-12-31</td>\n",
       "      <td>1413</td>\n",
       "      <td>Горелов Александр Иванович</td>\n",
       "      <td>мужской</td>\n",
       "      <td>13</td>\n",
       "      <td>Продавец-консультант</td>\n",
       "      <td>1312</td>\n",
       "      <td>132</td>\n",
       "      <td>0</td>\n",
       "      <td>2</td>\n",
       "      <td>2001-04-15</td>\n",
       "      <td>среднее профессиональное</td>\n",
       "      <td>5</td>\n",
       "      <td>38000.0</td>\n",
       "      <td>(32720.0, 42700.0]</td>\n",
       "    </tr>\n",
       "    <tr>\n",
       "      <th>29047</th>\n",
       "      <td>2022-12-31</td>\n",
       "      <td>1587</td>\n",
       "      <td>Аникин Марат Арсеньевич</td>\n",
       "      <td>мужской</td>\n",
       "      <td>8</td>\n",
       "      <td>Продавец-консультант</td>\n",
       "      <td>816</td>\n",
       "      <td>82</td>\n",
       "      <td>0</td>\n",
       "      <td>2</td>\n",
       "      <td>1988-07-04</td>\n",
       "      <td>среднее профессиональное</td>\n",
       "      <td>8</td>\n",
       "      <td>38000.0</td>\n",
       "      <td>(32720.0, 42700.0]</td>\n",
       "    </tr>\n",
       "    <tr>\n",
       "      <th>28913</th>\n",
       "      <td>2022-12-31</td>\n",
       "      <td>806</td>\n",
       "      <td>Фокин Павел Кириллович</td>\n",
       "      <td>мужской</td>\n",
       "      <td>2</td>\n",
       "      <td>Продавец-консультант</td>\n",
       "      <td>216</td>\n",
       "      <td>22</td>\n",
       "      <td>0</td>\n",
       "      <td>2</td>\n",
       "      <td>1987-12-25</td>\n",
       "      <td>среднее профессиональное</td>\n",
       "      <td>6</td>\n",
       "      <td>57900.0</td>\n",
       "      <td>(42700.0, 154700.0]</td>\n",
       "    </tr>\n",
       "  </tbody>\n",
       "</table>\n",
       "<p>147 rows × 15 columns</p>\n",
       "</div>"
      ],
      "text/plain": [
       "       report_dt  i_pernr                          fio      sex  shop_id  \\\n",
       "29000 2022-12-31     1409      Макеева Мария Денисовна  женский        6   \n",
       "29036 2022-12-31     1859  Ларионова Татьяна Денисовна  женский        8   \n",
       "29075 2022-12-31      462      Сычева София Степановна  женский        9   \n",
       "29271 2022-12-31     1866      Дьякова Алена Антоновна  женский       19   \n",
       "29216 2022-12-31     1500  Винниченко Раиса Валерьевна  женский       17   \n",
       "...          ...      ...                          ...      ...      ...   \n",
       "29055 2022-12-31     1725  Олейников Андрей Михайлович  мужской        8   \n",
       "29347 2022-12-31     1255       Костин Артем Артурович  мужской       23   \n",
       "29154 2022-12-31     1413   Горелов Александр Иванович  мужской       13   \n",
       "29047 2022-12-31     1587      Аникин Марат Арсеньевич  мужской        8   \n",
       "28913 2022-12-31      806       Фокин Павел Кириллович  мужской        2   \n",
       "\n",
       "                   pos_name  pos_id  closest_boss_pos_id  mgmt_flag  \\\n",
       "29000               Уборщик     628                   62          0   \n",
       "29036                Кассир      85                   83          0   \n",
       "29075  Продавец-консультант     920                   92          0   \n",
       "29271  Продавец-консультант     198                  191          0   \n",
       "29216                Кассир     174                  173          0   \n",
       "...                     ...     ...                  ...        ...   \n",
       "29055             Товаровед     824                   82          0   \n",
       "29347        Старший кассир     235                  232          0   \n",
       "29154  Продавец-консультант    1312                  132          0   \n",
       "29047  Продавец-консультант     816                   82          0   \n",
       "28913  Продавец-консультант     216                   22          0   \n",
       "\n",
       "       salary_fork birth_date                 education  employee_evaluation  \\\n",
       "29000            2 1984-05-25                    высшее                    6   \n",
       "29036            0 1969-04-18                    высшее                    5   \n",
       "29075            0 1990-10-24                    высшее                    6   \n",
       "29271            0 1982-05-30                    высшее                    6   \n",
       "29216            2 1992-07-09                    высшее                    6   \n",
       "...            ...        ...                       ...                  ...   \n",
       "29055            1 1974-02-05  среднее профессиональное                    5   \n",
       "29347            2 1971-08-14  среднее профессиональное                    8   \n",
       "29154            2 2001-04-15  среднее профессиональное                    5   \n",
       "29047            2 1988-07-04  среднее профессиональное                    8   \n",
       "28913            2 1987-12-25  среднее профессиональное                    6   \n",
       "\n",
       "        salary            salary_bin  \n",
       "29000  25600.0  (20799.999, 25600.0]  \n",
       "29036  21200.0  (20799.999, 25600.0]  \n",
       "29075  26100.0    (25600.0, 28500.0]  \n",
       "29271  26000.0    (25600.0, 28500.0]  \n",
       "29216  28700.0    (28500.0, 32720.0]  \n",
       "...        ...                   ...  \n",
       "29055  32300.0    (28500.0, 32720.0]  \n",
       "29347  42700.0    (32720.0, 42700.0]  \n",
       "29154  38000.0    (32720.0, 42700.0]  \n",
       "29047  38000.0    (32720.0, 42700.0]  \n",
       "28913  57900.0   (42700.0, 154700.0]  \n",
       "\n",
       "[147 rows x 15 columns]"
      ]
     },
     "execution_count": 24,
     "metadata": {},
     "output_type": "execute_result"
    }
   ],
   "source": [
    "(empl\n",
    "    .query(\"report_dt == '2022-12-31'\")\n",
    "    .assign(salary_bin = lambda df: pd.qcut(df['salary'], q=5)) # делим зарплату на 5 интервалов\n",
    "    .groupby(['sex', 'education', 'salary_bin']) # группируем по  полу, образованию и зарплатному интервалу\n",
    "    .sample(frac=0.3, random_state=10) # берем 30% строк из каждой группы\n",
    "    \n",
    ")"
   ]
  },
  {
   "cell_type": "code",
   "execution_count": 25,
   "id": "65ab91e5",
   "metadata": {},
   "outputs": [
    {
     "data": {
      "text/html": [
       "<div>\n",
       "<style scoped>\n",
       "    .dataframe tbody tr th:only-of-type {\n",
       "        vertical-align: middle;\n",
       "    }\n",
       "\n",
       "    .dataframe tbody tr th {\n",
       "        vertical-align: top;\n",
       "    }\n",
       "\n",
       "    .dataframe thead th {\n",
       "        text-align: right;\n",
       "    }\n",
       "</style>\n",
       "<table border=\"1\" class=\"dataframe\">\n",
       "  <thead>\n",
       "    <tr style=\"text-align: right;\">\n",
       "      <th></th>\n",
       "      <th>report_dt</th>\n",
       "      <th>i_pernr</th>\n",
       "      <th>fio</th>\n",
       "      <th>sex</th>\n",
       "      <th>shop_id</th>\n",
       "      <th>pos_name</th>\n",
       "      <th>pos_id</th>\n",
       "      <th>closest_boss_pos_id</th>\n",
       "      <th>mgmt_flag</th>\n",
       "      <th>salary_fork</th>\n",
       "      <th>birth_date</th>\n",
       "      <th>education</th>\n",
       "      <th>employee_evaluation</th>\n",
       "      <th>salary</th>\n",
       "      <th>salary_bin</th>\n",
       "    </tr>\n",
       "  </thead>\n",
       "  <tbody>\n",
       "    <tr>\n",
       "      <th>0</th>\n",
       "      <td>2022-12-31</td>\n",
       "      <td>1791</td>\n",
       "      <td>Юдина Вера Олеговна</td>\n",
       "      <td>женский</td>\n",
       "      <td>9</td>\n",
       "      <td>Кассир</td>\n",
       "      <td>94</td>\n",
       "      <td>93</td>\n",
       "      <td>0</td>\n",
       "      <td>0</td>\n",
       "      <td>1972-08-13</td>\n",
       "      <td>среднее общее</td>\n",
       "      <td>5</td>\n",
       "      <td>21100.0</td>\n",
       "      <td>(20799.999, 25500.0]</td>\n",
       "    </tr>\n",
       "    <tr>\n",
       "      <th>1</th>\n",
       "      <td>2022-12-31</td>\n",
       "      <td>65</td>\n",
       "      <td>Денисова Мария Васильевна</td>\n",
       "      <td>женский</td>\n",
       "      <td>4</td>\n",
       "      <td>Кассир</td>\n",
       "      <td>45</td>\n",
       "      <td>43</td>\n",
       "      <td>0</td>\n",
       "      <td>0</td>\n",
       "      <td>1989-06-07</td>\n",
       "      <td>высшее</td>\n",
       "      <td>6</td>\n",
       "      <td>21200.0</td>\n",
       "      <td>(20799.999, 25500.0]</td>\n",
       "    </tr>\n",
       "    <tr>\n",
       "      <th>2</th>\n",
       "      <td>2022-12-31</td>\n",
       "      <td>1861</td>\n",
       "      <td>Ткачева Маргарита Андреевна</td>\n",
       "      <td>женский</td>\n",
       "      <td>13</td>\n",
       "      <td>Кассир</td>\n",
       "      <td>135</td>\n",
       "      <td>133</td>\n",
       "      <td>0</td>\n",
       "      <td>0</td>\n",
       "      <td>1984-12-06</td>\n",
       "      <td>основное общее</td>\n",
       "      <td>4</td>\n",
       "      <td>21200.0</td>\n",
       "      <td>(20799.999, 25500.0]</td>\n",
       "    </tr>\n",
       "    <tr>\n",
       "      <th>3</th>\n",
       "      <td>2022-12-31</td>\n",
       "      <td>1782</td>\n",
       "      <td>Скворцова Тамара Тимуровна</td>\n",
       "      <td>женский</td>\n",
       "      <td>4</td>\n",
       "      <td>Кассир</td>\n",
       "      <td>46</td>\n",
       "      <td>43</td>\n",
       "      <td>0</td>\n",
       "      <td>0</td>\n",
       "      <td>1984-08-24</td>\n",
       "      <td>среднее общее</td>\n",
       "      <td>5</td>\n",
       "      <td>21100.0</td>\n",
       "      <td>(20799.999, 25500.0]</td>\n",
       "    </tr>\n",
       "    <tr>\n",
       "      <th>4</th>\n",
       "      <td>2022-12-31</td>\n",
       "      <td>1717</td>\n",
       "      <td>Копылова Вероника Руслановна</td>\n",
       "      <td>женский</td>\n",
       "      <td>5</td>\n",
       "      <td>Продавец-консультант</td>\n",
       "      <td>511</td>\n",
       "      <td>51</td>\n",
       "      <td>0</td>\n",
       "      <td>0</td>\n",
       "      <td>1967-09-15</td>\n",
       "      <td>среднее общее</td>\n",
       "      <td>4</td>\n",
       "      <td>25500.0</td>\n",
       "      <td>(20799.999, 25500.0]</td>\n",
       "    </tr>\n",
       "    <tr>\n",
       "      <th>...</th>\n",
       "      <td>...</td>\n",
       "      <td>...</td>\n",
       "      <td>...</td>\n",
       "      <td>...</td>\n",
       "      <td>...</td>\n",
       "      <td>...</td>\n",
       "      <td>...</td>\n",
       "      <td>...</td>\n",
       "      <td>...</td>\n",
       "      <td>...</td>\n",
       "      <td>...</td>\n",
       "      <td>...</td>\n",
       "      <td>...</td>\n",
       "      <td>...</td>\n",
       "      <td>...</td>\n",
       "    </tr>\n",
       "    <tr>\n",
       "      <th>141</th>\n",
       "      <td>2022-12-31</td>\n",
       "      <td>100224</td>\n",
       "      <td>Цветков Захар Сергеевич</td>\n",
       "      <td>мужской</td>\n",
       "      <td>12</td>\n",
       "      <td>Заместитель директора магазина</td>\n",
       "      <td>122</td>\n",
       "      <td>121</td>\n",
       "      <td>1</td>\n",
       "      <td>0</td>\n",
       "      <td>1981-01-22</td>\n",
       "      <td>высшее</td>\n",
       "      <td>6</td>\n",
       "      <td>111200.0</td>\n",
       "      <td>(46000.0, 154700.0]</td>\n",
       "    </tr>\n",
       "    <tr>\n",
       "      <th>142</th>\n",
       "      <td>2022-12-31</td>\n",
       "      <td>100217</td>\n",
       "      <td>Чесноков Анатолий Васильевич</td>\n",
       "      <td>мужской</td>\n",
       "      <td>4</td>\n",
       "      <td>Директор магазина</td>\n",
       "      <td>41</td>\n",
       "      <td>&lt;NA&gt;</td>\n",
       "      <td>1</td>\n",
       "      <td>0</td>\n",
       "      <td>1964-06-11</td>\n",
       "      <td>высшее</td>\n",
       "      <td>5</td>\n",
       "      <td>125100.0</td>\n",
       "      <td>(46000.0, 154700.0]</td>\n",
       "    </tr>\n",
       "    <tr>\n",
       "      <th>143</th>\n",
       "      <td>2022-12-31</td>\n",
       "      <td>100157</td>\n",
       "      <td>Мешков Николай Маратович</td>\n",
       "      <td>мужской</td>\n",
       "      <td>11</td>\n",
       "      <td>Директор магазина</td>\n",
       "      <td>111</td>\n",
       "      <td>&lt;NA&gt;</td>\n",
       "      <td>1</td>\n",
       "      <td>0</td>\n",
       "      <td>1989-04-12</td>\n",
       "      <td>высшее</td>\n",
       "      <td>9</td>\n",
       "      <td>120500.0</td>\n",
       "      <td>(46000.0, 154700.0]</td>\n",
       "    </tr>\n",
       "    <tr>\n",
       "      <th>144</th>\n",
       "      <td>2022-12-31</td>\n",
       "      <td>100200</td>\n",
       "      <td>Безруков Глеб Артёмович</td>\n",
       "      <td>мужской</td>\n",
       "      <td>18</td>\n",
       "      <td>Директор магазина</td>\n",
       "      <td>181</td>\n",
       "      <td>&lt;NA&gt;</td>\n",
       "      <td>1</td>\n",
       "      <td>0</td>\n",
       "      <td>1981-01-19</td>\n",
       "      <td>высшее</td>\n",
       "      <td>6</td>\n",
       "      <td>134200.0</td>\n",
       "      <td>(46000.0, 154700.0]</td>\n",
       "    </tr>\n",
       "    <tr>\n",
       "      <th>145</th>\n",
       "      <td>2022-12-31</td>\n",
       "      <td>100223</td>\n",
       "      <td>Лукин Егор Алексеевич</td>\n",
       "      <td>мужской</td>\n",
       "      <td>7</td>\n",
       "      <td>Заместитель директора магазина</td>\n",
       "      <td>72</td>\n",
       "      <td>71</td>\n",
       "      <td>1</td>\n",
       "      <td>0</td>\n",
       "      <td>1979-03-10</td>\n",
       "      <td>высшее</td>\n",
       "      <td>6</td>\n",
       "      <td>77300.0</td>\n",
       "      <td>(46000.0, 154700.0]</td>\n",
       "    </tr>\n",
       "  </tbody>\n",
       "</table>\n",
       "<p>146 rows × 15 columns</p>\n",
       "</div>"
      ],
      "text/plain": [
       "     report_dt  i_pernr                           fio      sex  shop_id  \\\n",
       "0   2022-12-31     1791           Юдина Вера Олеговна  женский        9   \n",
       "1   2022-12-31       65     Денисова Мария Васильевна  женский        4   \n",
       "2   2022-12-31     1861   Ткачева Маргарита Андреевна  женский       13   \n",
       "3   2022-12-31     1782    Скворцова Тамара Тимуровна  женский        4   \n",
       "4   2022-12-31     1717  Копылова Вероника Руслановна  женский        5   \n",
       "..         ...      ...                           ...      ...      ...   \n",
       "141 2022-12-31   100224       Цветков Захар Сергеевич  мужской       12   \n",
       "142 2022-12-31   100217  Чесноков Анатолий Васильевич  мужской        4   \n",
       "143 2022-12-31   100157      Мешков Николай Маратович  мужской       11   \n",
       "144 2022-12-31   100200       Безруков Глеб Артёмович  мужской       18   \n",
       "145 2022-12-31   100223         Лукин Егор Алексеевич  мужской        7   \n",
       "\n",
       "                           pos_name  pos_id  closest_boss_pos_id  mgmt_flag  \\\n",
       "0                            Кассир      94                   93          0   \n",
       "1                            Кассир      45                   43          0   \n",
       "2                            Кассир     135                  133          0   \n",
       "3                            Кассир      46                   43          0   \n",
       "4              Продавец-консультант     511                   51          0   \n",
       "..                              ...     ...                  ...        ...   \n",
       "141  Заместитель директора магазина     122                  121          1   \n",
       "142               Директор магазина      41                 <NA>          1   \n",
       "143               Директор магазина     111                 <NA>          1   \n",
       "144               Директор магазина     181                 <NA>          1   \n",
       "145  Заместитель директора магазина      72                   71          1   \n",
       "\n",
       "     salary_fork birth_date       education  employee_evaluation    salary  \\\n",
       "0              0 1972-08-13   среднее общее                    5   21100.0   \n",
       "1              0 1989-06-07          высшее                    6   21200.0   \n",
       "2              0 1984-12-06  основное общее                    4   21200.0   \n",
       "3              0 1984-08-24   среднее общее                    5   21100.0   \n",
       "4              0 1967-09-15   среднее общее                    4   25500.0   \n",
       "..           ...        ...             ...                  ...       ...   \n",
       "141            0 1981-01-22          высшее                    6  111200.0   \n",
       "142            0 1964-06-11          высшее                    5  125100.0   \n",
       "143            0 1989-04-12          высшее                    9  120500.0   \n",
       "144            0 1981-01-19          высшее                    6  134200.0   \n",
       "145            0 1979-03-10          высшее                    6   77300.0   \n",
       "\n",
       "               salary_bin  \n",
       "0    (20799.999, 25500.0]  \n",
       "1    (20799.999, 25500.0]  \n",
       "2    (20799.999, 25500.0]  \n",
       "3    (20799.999, 25500.0]  \n",
       "4    (20799.999, 25500.0]  \n",
       "..                    ...  \n",
       "141   (46000.0, 154700.0]  \n",
       "142   (46000.0, 154700.0]  \n",
       "143   (46000.0, 154700.0]  \n",
       "144   (46000.0, 154700.0]  \n",
       "145   (46000.0, 154700.0]  \n",
       "\n",
       "[146 rows x 15 columns]"
      ]
     },
     "execution_count": 25,
     "metadata": {},
     "output_type": "execute_result"
    }
   ],
   "source": [
    "(empl\n",
    "    .query(\"report_dt == '2022-12-31'\")\n",
    "    .groupby('sex') # группируем по полу\n",
    "    .apply(lambda x: x.assign(salary_bin = \n",
    "                              # внутри каждой группы по полу делим зарплату на 5 интервалов\n",
    "                              lambda df: pd.qcut(df['salary'], q=5))\n",
    "                                            .groupby('salary_bin') # группируем по этим интервалам\n",
    "                                            .sample(frac=0.3, random_state=10) # берем 30% строк из каждой группы\n",
    "          )\n",
    "    .reset_index(drop=True)\n",
    ")"
   ]
  },
  {
   "cell_type": "code",
   "execution_count": null,
   "id": "32f82ba3",
   "metadata": {},
   "outputs": [],
   "source": []
  },
  {
   "cell_type": "code",
   "execution_count": null,
   "id": "48ea07a5",
   "metadata": {},
   "outputs": [],
   "source": []
  },
  {
   "cell_type": "code",
   "execution_count": null,
   "id": "3f055085",
   "metadata": {},
   "outputs": [],
   "source": []
  },
  {
   "cell_type": "code",
   "execution_count": null,
   "id": "b2b4f7be",
   "metadata": {},
   "outputs": [],
   "source": []
  },
  {
   "cell_type": "code",
   "execution_count": null,
   "id": "d6546e8b",
   "metadata": {},
   "outputs": [],
   "source": []
  },
  {
   "cell_type": "code",
   "execution_count": null,
   "id": "3d8fecd4",
   "metadata": {},
   "outputs": [],
   "source": []
  },
  {
   "cell_type": "code",
   "execution_count": null,
   "id": "a2dce00b",
   "metadata": {},
   "outputs": [],
   "source": []
  },
  {
   "cell_type": "code",
   "execution_count": null,
   "id": "c558c7c7",
   "metadata": {},
   "outputs": [],
   "source": []
  },
  {
   "cell_type": "code",
   "execution_count": null,
   "id": "9487ba8b",
   "metadata": {},
   "outputs": [],
   "source": []
  },
  {
   "cell_type": "markdown",
   "id": "f66e9e48",
   "metadata": {},
   "source": [
    "# Задания"
   ]
  },
  {
   "cell_type": "markdown",
   "id": "e7a2602a",
   "metadata": {},
   "source": [
    "#### Описание таблиц лежит [здесь](https://github.com/victorlymarev/pandas/tree/main/tables)"
   ]
  },
  {
   "cell_type": "markdown",
   "id": "f09925ba",
   "metadata": {},
   "source": [
    "Некоторые таблицы занимают много памяти, поэтому каждые 5-10 заданий лучше перезапускайте ноутбук.\n",
    "\n",
    "Если вы будете работать с этим ноутбуком в google colab и у вас что-то не будет работать, то раскоментируйте ячейку ниже (для этого выделите содержимое ячейки и нажмите на клавиши ctrl / (если смотреть по английской раскладке или ctrl . для русской), либо просто руками уберите # и пробел после нее в каждой строчке) и запустите ее."
   ]
  },
  {
   "cell_type": "code",
   "execution_count": null,
   "id": "b730e52d",
   "metadata": {},
   "outputs": [],
   "source": [
    "# import os\n",
    "# os._exit(00)\n",
    "# !pip install pyarrow pandas==1.5.3"
   ]
  },
  {
   "cell_type": "markdown",
   "id": "f82628f7",
   "metadata": {},
   "source": [
    "### Задание 1\n",
    "\n",
    "Разделите объем торговли на 10 равных интервалов"
   ]
  },
  {
   "cell_type": "code",
   "execution_count": null,
   "id": "2dfa4879",
   "metadata": {},
   "outputs": [],
   "source": [
    "# таблица ltc - большая, и в некоторых случаях ваш компьютер может не справиться с ее обработкой\n",
    "# поэтому лучше работайте с частью этой таблицы\n",
    "# но если вы хотите попробовать поработать с полной версией таблицы,\n",
    "# можете заменить переменную path_ltc_sample на path_ltc_full внутри функции read_parquet\n",
    "\n",
    "import os\n",
    "import pandas as pd\n",
    "\n",
    "# path_ltc_full = '../tables/ltc.parquet' if os.path.exists('../tables/ltc.parquet') else \"https://drive.usercontent.google.com/download?id=1ZkAmVZverOV3aGwmEQGAFXgXnQ6pPsZw&export=download&authuser=1&confirm=t&uuid=b827b3e2-7c5d-4979-9d25-f1c34954ac9f&at=APZUnTUs_oUnCQujGIlgn2Zkb5VG:1693327327264\"\n",
    "path_ltc_sample = '../tables/ltc_sample.parquet' if os.path.exists('../tables/ltc_sample.parquet') else 'https://drive.google.com/uc?id=1XaThogOOqKjJj50LvfJ9WqutjMAC5AxA'\n",
    "\n",
    "ltc = pd.read_parquet(path_ltc_sample)\n",
    "ltc.head()"
   ]
  },
  {
   "cell_type": "code",
   "execution_count": null,
   "id": "6711f21e",
   "metadata": {},
   "outputs": [],
   "source": [
    "# напишите свой код здесь"
   ]
  },
  {
   "cell_type": "markdown",
   "id": "a7dcebc2",
   "metadata": {},
   "source": [
    "### Задание 2\n",
    "\n",
    "Разделите объем торговли на 10 интервалов так, чтобы в каждом интервале лежало примерно равное число наблюдений"
   ]
  },
  {
   "cell_type": "code",
   "execution_count": null,
   "id": "7af7cc7a",
   "metadata": {},
   "outputs": [],
   "source": [
    "# таблица ltc - большая, и в некоторых случаях ваш компьютер может не справиться с ее обработкой\n",
    "# поэтому лучше работайте с частью этой таблицы\n",
    "# но если вы хотите попробовать поработать с полной версией таблицы,\n",
    "# можете заменить переменную path_ltc_sample на path_ltc_full внутри функции read_parquet\n",
    "\n",
    "import os\n",
    "import pandas as pd\n",
    "\n",
    "# path_ltc_full = '../tables/ltc.parquet' if os.path.exists('../tables/ltc.parquet') else \"https://drive.usercontent.google.com/download?id=1ZkAmVZverOV3aGwmEQGAFXgXnQ6pPsZw&export=download&authuser=1&confirm=t&uuid=b827b3e2-7c5d-4979-9d25-f1c34954ac9f&at=APZUnTUs_oUnCQujGIlgn2Zkb5VG:1693327327264\"\n",
    "path_ltc_sample = '../tables/ltc_sample.parquet' if os.path.exists('../tables/ltc_sample.parquet') else 'https://drive.google.com/uc?id=1XaThogOOqKjJj50LvfJ9WqutjMAC5AxA'\n",
    "\n",
    "ltc = pd.read_parquet(path_ltc_sample)\n",
    "ltc.head()"
   ]
  },
  {
   "cell_type": "code",
   "execution_count": null,
   "id": "917d91e4",
   "metadata": {},
   "outputs": [],
   "source": [
    "# напишите свой код здесь"
   ]
  },
  {
   "cell_type": "markdown",
   "id": "b0c0282a",
   "metadata": {},
   "source": [
    "### Задание 3\n",
    "\n",
    "Посчитайте симметричную KL дивергенцию между распределением зарплат 31 декабря 2021 года и распределением зарплат 31 декабря 2022 года. Для этого сначала разделите исходную таблицу на две (по датам). Затем внутри каждой таблицы разделите зарплаты на интервалы от нуля до 30 000, от 30 000 до 40 000, от 40 000 до 50 000, от 50 000 до 60 000, от 60 000 до 70 000, от 70 000 до 100 000 и от 100 000  до 200 000. После чего посчитайте долю наблюдений в каждом интервале. \n",
    "\n",
    "В итоге у вас должно получиться 2 массива, в которых лежат доли наблюдений в каждом интервале. Назовем их массив1 и массив2.\n",
    "\n",
    "Посчитайте следующую величину: (массив1 - массив2) * log(массив1/массив2)\n",
    "И просуммируйте значения в нем.\n",
    "\n",
    "P.S. KL - дивергенция служит мерой похожести между двумя распределениями. "
   ]
  },
  {
   "cell_type": "code",
   "execution_count": null,
   "id": "0a6abe3c",
   "metadata": {},
   "outputs": [],
   "source": []
  },
  {
   "cell_type": "markdown",
   "id": "9ef38d7d",
   "metadata": {},
   "source": [
    "### Задание 4\n",
    "\n",
    "Для каждого покупателя, который был в магазине в 2022 году, посчитайте сколько раз за этот год он приходил в магазин (по числу чеков), среднюю сумму его чека, и пол (если 70 и более процентов его товаров за этот год - мужские, то это мужчина, если 70 и более процентов его товаров женские, то женщина, иначе считайте, что карточка клиента семейная. То есть в поле 3 значения). Затем при помощи функции qcut разделите количество товаров в чеке на 5 интервалов, а среднюю сумму чека на 10. Теперь на на основе трех колонок разделите покупателей на 3 равные группы. Каждый покупатель может быть только в одной группе.  "
   ]
  },
  {
   "cell_type": "code",
   "execution_count": null,
   "id": "6ca6a545",
   "metadata": {},
   "outputs": [],
   "source": [
    "# таблица sales - большая, и в некоторых случаях ваш компьютер может не справиться с ее обработкой\n",
    "# поэтому лучше работайте с частью этой таблицы\n",
    "# но если вы хотите попробовать поработать с полной версией таблицы,\n",
    "# можете заменить переменную path_sales_2022 на path_sales внутри функции read_parquet\n",
    "\n",
    "import os\n",
    "import pandas as pd\n",
    "\n",
    "path_sales_2022 = '../tables/sales_2022.parquet' if os.path.exists('../tables/sales_2022.parquet') else 'https://drive.google.com/uc?id=17e7FwXVdsWc2aziK9s5KidIvPcfKt9F5'\n",
    "# path_sales = '../tables/sales.parquet' if os.path.exists('../tables/sales.parquet') else \"https://drive.usercontent.google.com/download?id=15KwSxyM6hpNABGe6_vsrFZvD09VfHFyK&export=download&authuser=1&confirm=t&uuid=115bd48c-cc2c-4f2a-8b42-be5ca6ef6db8&at=APZUnTUVb8nfNANw5wr9Cad7PJ3U:1693327774694\"\n",
    "\n",
    "sales = pd.read_parquet(path_sales_2022)\n",
    "sales.head()"
   ]
  },
  {
   "cell_type": "code",
   "execution_count": null,
   "id": "f6be6b7e",
   "metadata": {},
   "outputs": [],
   "source": [
    "path_goods_descr = '../tables/goods_description.parquet' if os.path.exists('../tables/goods_description.parquet') else 'https://drive.google.com/uc?id=1YbiD02Rev-X_WWV9nPSG1zZFmEh2JjPh'\n",
    "\n",
    "goods_descr = pd.read_parquet(path_goods_descr)\n",
    "goods_descr.head()"
   ]
  },
  {
   "cell_type": "code",
   "execution_count": null,
   "id": "f4d129eb",
   "metadata": {},
   "outputs": [],
   "source": [
    "# напишите свой код здесь"
   ]
  },
  {
   "cell_type": "code",
   "execution_count": null,
   "id": "3bc206e5",
   "metadata": {},
   "outputs": [],
   "source": []
  },
  {
   "cell_type": "code",
   "execution_count": null,
   "id": "6270f12a",
   "metadata": {},
   "outputs": [],
   "source": []
  },
  {
   "cell_type": "code",
   "execution_count": null,
   "id": "85496ecc",
   "metadata": {},
   "outputs": [],
   "source": []
  },
  {
   "cell_type": "code",
   "execution_count": null,
   "id": "6fa50003",
   "metadata": {},
   "outputs": [],
   "source": []
  },
  {
   "cell_type": "code",
   "execution_count": 14,
   "id": "9eb50143",
   "metadata": {},
   "outputs": [
    {
     "name": "stderr",
     "output_type": "stream",
     "text": [
      "C:\\Users\\Александр\\AppData\\Local\\Temp\\ipykernel_15708\\3777615979.py:1: DeprecationWarning: Importing display from IPython.core.display is deprecated since IPython 7.14, please import from IPython display\n",
      "  from IPython.core.display import display, HTML\n"
     ]
    },
    {
     "data": {
      "text/html": [
       "<style>.container { width:100% !important; }</style>"
      ],
      "text/plain": [
       "<IPython.core.display.HTML object>"
      ]
     },
     "metadata": {},
     "output_type": "display_data"
    }
   ],
   "source": [
    "from IPython.core.display import display, HTML\n",
    "display(HTML(\"<style>.container { width:100% !important; }</style>\"))"
   ]
  },
  {
   "cell_type": "code",
   "execution_count": null,
   "id": "287eab99",
   "metadata": {},
   "outputs": [],
   "source": []
  }
 ],
 "metadata": {
  "kernelspec": {
   "display_name": "Python 3 (ipykernel)",
   "language": "python",
   "name": "python3"
  },
  "language_info": {
   "codemirror_mode": {
    "name": "ipython",
    "version": 3
   },
   "file_extension": ".py",
   "mimetype": "text/x-python",
   "name": "python",
   "nbconvert_exporter": "python",
   "pygments_lexer": "ipython3",
   "version": "3.11.2"
  }
 },
 "nbformat": 4,
 "nbformat_minor": 5
}
