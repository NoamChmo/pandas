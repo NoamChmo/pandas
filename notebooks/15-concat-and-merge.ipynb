{
 "cells": [
  {
   "cell_type": "markdown",
   "id": "784c6077",
   "metadata": {},
   "source": [
    "<a target=\"_blank\" href=\"https://colab.research.google.com/github/victorlymarev/pandas/blob/main/notebooks/15-concat-and-merge.ipynb\">\n",
    "  <img src=\"https://colab.research.google.com/assets/colab-badge.svg\" alt=\"Open In Colab\"/>\n",
    "</a>"
   ]
  },
  {
   "cell_type": "markdown",
   "id": "f104a595",
   "metadata": {},
   "source": [
    "# Соединение таблиц\n",
    "#### [Ссылка на видео](https://youtu.be/dpUTI0UtuuM)"
   ]
  },
  {
   "cell_type": "code",
   "execution_count": null,
   "id": "06c789de",
   "metadata": {},
   "outputs": [],
   "source": [
    "import pandas as pd\n",
    "import os"
   ]
  },
  {
   "cell_type": "code",
   "execution_count": null,
   "id": "fb0381e0",
   "metadata": {},
   "outputs": [],
   "source": [
    "path_marks = '../tables/оценки.xlsx' if os.path.exists('../tables/оценки.xlsx') else 'https://drive.google.com/uc?id=17f4DXx53J0WooNkhO13xidseZJ-O2obs'\n",
    "\n",
    "marks_6a, marks_6b, marks_6v, marks_6g = pd.read_excel(path_marks, sheet_name=None).values()"
   ]
  },
  {
   "cell_type": "markdown",
   "id": "4e415457",
   "metadata": {},
   "source": [
    "## Concat"
   ]
  },
  {
   "cell_type": "markdown",
   "id": "00d4a646",
   "metadata": {},
   "source": [
    "Метод соединяет таблицы между собой"
   ]
  },
  {
   "attachments": {
    "image.png": {
     "image/png": "[encoded data removed]"
    }
   },
   "cell_type": "markdown",
   "id": "544e08bf",
   "metadata": {},
   "source": [
    "![image.png](attachment:image.png)"
   ]
  },
  {
   "cell_type": "code",
   "execution_count": null,
   "id": "979d81d2",
   "metadata": {},
   "outputs": [],
   "source": [
    "marks_6a.head(3)"
   ]
  },
  {
   "cell_type": "code",
   "execution_count": null,
   "id": "ab9424bd",
   "metadata": {},
   "outputs": [],
   "source": [
    "pd.concat([marks_6a, marks_6b, marks_6v, marks_6g])"
   ]
  },
  {
   "cell_type": "code",
   "execution_count": null,
   "id": "68098dbb",
   "metadata": {},
   "outputs": [],
   "source": [
    "pd.concat([marks_6a.drop('Математика', axis=1), marks_6b, marks_6v, marks_6g])"
   ]
  },
  {
   "cell_type": "code",
   "execution_count": null,
   "id": "ccf9917e",
   "metadata": {},
   "outputs": [],
   "source": [
    "pd.concat([marks_6a, marks_6b, marks_6v, marks_6g], ignore_index=True)\n",
    "# Это будет эквивалентно тому \n",
    "# pd.concat([marks_a6, marks_b6, marks_v6, marks_g6]).reset_index(drop=True)"
   ]
  },
  {
   "cell_type": "markdown",
   "id": "6952857c",
   "metadata": {},
   "source": [
    "Можно добавить дополнительную колонку, которая будет говорить из какой таблицы взята строка"
   ]
  },
  {
   "cell_type": "code",
   "execution_count": null,
   "id": "20b61306",
   "metadata": {},
   "outputs": [],
   "source": [
    "pd.concat([marks_6a, marks_6b, marks_6v, marks_6g], keys=['6а', '6б', '6в', '6г'])"
   ]
  },
  {
   "cell_type": "code",
   "execution_count": null,
   "id": "8ef28a61",
   "metadata": {},
   "outputs": [],
   "source": [
    "(pd.concat([marks_6a, marks_6b, marks_6v, marks_6g], keys=['6а', '6б', '6в', '6г'])\n",
    "    .reset_index(level=0, names='Класс')\n",
    "    .head()\n",
    ")"
   ]
  },
  {
   "cell_type": "code",
   "execution_count": null,
   "id": "dc0671ef",
   "metadata": {},
   "outputs": [],
   "source": []
  },
  {
   "cell_type": "code",
   "execution_count": null,
   "id": "037bb80d",
   "metadata": {},
   "outputs": [],
   "source": []
  },
  {
   "cell_type": "markdown",
   "id": "31daefbd",
   "metadata": {},
   "source": [
    "## merge\n",
    "\n",
    "#### Соединяет разные таблицы на основе общих колонок"
   ]
  },
  {
   "cell_type": "code",
   "execution_count": null,
   "id": "fb57afdf",
   "metadata": {},
   "outputs": [],
   "source": [
    "url = 'https://ru.wikipedia.org/wiki/%D0%A7%D0%B5%D0%BB%D0%BE%D0%B2%D0%B5%D0%BA_%D0%B3%D0%BE%D0%B4%D0%B0_(Time)'\n",
    "\n",
    "year = (pd.read_html(url)\n",
    "            [1]\n",
    "            [['Год', 'Лауреат']]\n",
    "            .drop_duplicates('Лауреат')\n",
    "            .sample(60, random_state=2)\n",
    "            .sort_values('Год')\n",
    ")\n",
    "\n",
    "lifetime = (pd.read_html(url)\n",
    "                [1]\n",
    "                [['Лауреат', 'Годы жизни']]\n",
    "                .drop_duplicates('Лауреат')\n",
    "                .sample(50, random_state=12)\n",
    "                .fillna('нет')\n",
    "                .sort_index()\n",
    ")"
   ]
  },
  {
   "cell_type": "code",
   "execution_count": null,
   "id": "35293c54",
   "metadata": {},
   "outputs": [],
   "source": [
    "year.head()"
   ]
  },
  {
   "cell_type": "code",
   "execution_count": null,
   "id": "c5501450",
   "metadata": {},
   "outputs": [],
   "source": [
    "lifetime.head()"
   ]
  },
  {
   "cell_type": "markdown",
   "id": "04ba9d69",
   "metadata": {},
   "source": [
    "Соединяем таблицы на основе колонки 'Лауреат', беря ключи из левой таблицы (year)"
   ]
  },
  {
   "cell_type": "code",
   "execution_count": null,
   "id": "4dc9433f",
   "metadata": {},
   "outputs": [],
   "source": [
    "year.merge(lifetime, on='Лауреат', how='left').head(10)"
   ]
  },
  {
   "cell_type": "markdown",
   "id": "aecf98aa",
   "metadata": {},
   "source": [
    "Соединяем таблицы на основе колонки 'Лауреат', беря ключи из правой таблицы (lifetime)"
   ]
  },
  {
   "cell_type": "code",
   "execution_count": null,
   "id": "b7e88a43",
   "metadata": {},
   "outputs": [],
   "source": [
    "year.merge(lifetime, on='Лауреат', how='right').head(5)"
   ]
  },
  {
   "cell_type": "markdown",
   "id": "f3077abe",
   "metadata": {},
   "source": [
    "Соединяем таблицы на основе колонки 'Лауреат', беря ключи, которые есть хотя бы в одной таблице"
   ]
  },
  {
   "cell_type": "code",
   "execution_count": null,
   "id": "2eab7a71",
   "metadata": {},
   "outputs": [],
   "source": [
    "year.merge(lifetime, on='Лауреат', how='outer').sample(10, random_state=0)"
   ]
  },
  {
   "cell_type": "markdown",
   "id": "190015dd",
   "metadata": {},
   "source": [
    "Соединяем таблицы на основе колонки 'Лауреат', беря ключи, которые есть в каждой таблице"
   ]
  },
  {
   "cell_type": "code",
   "execution_count": null,
   "id": "d1a588b8",
   "metadata": {},
   "outputs": [],
   "source": [
    "year.merge(lifetime, on='Лауреат', how='inner').head(10)"
   ]
  },
  {
   "cell_type": "code",
   "execution_count": null,
   "id": "c3c3cdfc",
   "metadata": {},
   "outputs": [],
   "source": []
  },
  {
   "cell_type": "code",
   "execution_count": null,
   "id": "136f58e9",
   "metadata": {},
   "outputs": [],
   "source": []
  },
  {
   "cell_type": "markdown",
   "id": "15bea5e4",
   "metadata": {},
   "source": [
    "#### Соединяем таблицы с разными названиями колонок"
   ]
  },
  {
   "cell_type": "code",
   "execution_count": null,
   "id": "cd5121fa",
   "metadata": {},
   "outputs": [],
   "source": [
    "year_copy = year.rename({'Лауреат': 'Человек'}, axis=1)\n",
    "year_copy.head()"
   ]
  },
  {
   "cell_type": "code",
   "execution_count": null,
   "id": "f69531ab",
   "metadata": {},
   "outputs": [],
   "source": [
    "lifetime.head()"
   ]
  },
  {
   "cell_type": "markdown",
   "id": "34c36e47",
   "metadata": {},
   "source": [
    "Можно использовать метод rename, после чего объединить таблицы как прежде"
   ]
  },
  {
   "cell_type": "code",
   "execution_count": null,
   "id": "5471c0f9",
   "metadata": {},
   "outputs": [],
   "source": [
    "(year_copy\n",
    "    .rename({'Человек': 'Лауреат'}, axis=1)\n",
    " \n",
    "    .merge(lifetime, on='Лауреат', how='inner')\n",
    "    .head()\n",
    ")"
   ]
  },
  {
   "cell_type": "code",
   "execution_count": null,
   "id": "e0e3342c",
   "metadata": {},
   "outputs": [],
   "source": [
    "(year_copy\n",
    "    .merge(lifetime.rename({'Лауреат': 'Человек'}, axis=1), on='Человек', how='inner')\n",
    "    .head()\n",
    ")"
   ]
  },
  {
   "cell_type": "markdown",
   "id": "f159d696",
   "metadata": {},
   "source": [
    "Можно указать ключи левой и правой таблиц"
   ]
  },
  {
   "cell_type": "code",
   "execution_count": null,
   "id": "73d72935",
   "metadata": {},
   "outputs": [],
   "source": [
    "(year_copy\n",
    "    .merge(lifetime, left_on='Человек', right_on='Лауреат', how='inner')\n",
    "    .head()\n",
    ")"
   ]
  },
  {
   "cell_type": "code",
   "execution_count": null,
   "id": "6e9e5db6",
   "metadata": {},
   "outputs": [],
   "source": []
  },
  {
   "cell_type": "code",
   "execution_count": null,
   "id": "220cd36f",
   "metadata": {},
   "outputs": [],
   "source": []
  },
  {
   "cell_type": "code",
   "execution_count": null,
   "id": "4432d695",
   "metadata": {},
   "outputs": [],
   "source": []
  },
  {
   "cell_type": "code",
   "execution_count": null,
   "id": "f1caea36",
   "metadata": {},
   "outputs": [],
   "source": []
  },
  {
   "cell_type": "markdown",
   "id": "2c854949",
   "metadata": {},
   "source": [
    "## join\n",
    "\n",
    "Работает так же как и merge, только на основе индексов"
   ]
  },
  {
   "cell_type": "code",
   "execution_count": null,
   "id": "697177d1",
   "metadata": {},
   "outputs": [],
   "source": [
    "year.set_index('Лауреат').join(lifetime.set_index('Лауреат'), how='left').head()"
   ]
  },
  {
   "cell_type": "code",
   "execution_count": null,
   "id": "cb45b351",
   "metadata": {},
   "outputs": [],
   "source": [
    "year.join(lifetime.set_index('Лауреат'), on='Лауреат', how='left').head()"
   ]
  },
  {
   "cell_type": "code",
   "execution_count": null,
   "id": "36a52a1d",
   "metadata": {},
   "outputs": [],
   "source": []
  },
  {
   "cell_type": "code",
   "execution_count": null,
   "id": "b22a28da",
   "metadata": {},
   "outputs": [],
   "source": []
  },
  {
   "cell_type": "code",
   "execution_count": null,
   "id": "85a6962a",
   "metadata": {},
   "outputs": [],
   "source": []
  },
  {
   "cell_type": "markdown",
   "id": "bc55e5ba",
   "metadata": {},
   "source": [
    "## Отношения между таблицами"
   ]
  },
  {
   "cell_type": "markdown",
   "id": "5f921adf",
   "metadata": {},
   "source": [
    "### Один к одному\n",
    "Один ключ в одной таблице соответствует одному ключу в другой таблице"
   ]
  },
  {
   "cell_type": "code",
   "execution_count": null,
   "id": "a025ab26",
   "metadata": {},
   "outputs": [],
   "source": [
    "year.merge(lifetime, on='Лауреат', how='outer').head()"
   ]
  },
  {
   "cell_type": "markdown",
   "id": "f0c2da70",
   "metadata": {},
   "source": [
    "### Отношение один ко многим"
   ]
  },
  {
   "cell_type": "code",
   "execution_count": null,
   "id": "f5207843",
   "metadata": {},
   "outputs": [],
   "source": [
    "year_full = (pd.read_html(url)\n",
    "            [1]\n",
    "            [['Год', 'Лауреат']]\n",
    "            .sort_values('Год')\n",
    ")\n",
    "\n",
    "lifetime_full = (pd.read_html(url)\n",
    "                [1]\n",
    "                [['Лауреат', 'Годы жизни']]\n",
    "                .drop_duplicates('Лауреат')\n",
    "                .sort_index()\n",
    ")"
   ]
  },
  {
   "cell_type": "code",
   "execution_count": null,
   "id": "161d47f6",
   "metadata": {},
   "outputs": [],
   "source": [
    "year_full.shape"
   ]
  },
  {
   "cell_type": "code",
   "execution_count": null,
   "id": "23abceaf",
   "metadata": {},
   "outputs": [],
   "source": [
    "lifetime_full.shape"
   ]
  },
  {
   "cell_type": "code",
   "execution_count": null,
   "id": "4322ff2c",
   "metadata": {},
   "outputs": [],
   "source": [
    "year_full.query('Лауреат == \"Михаил Горбачёв\"')"
   ]
  },
  {
   "cell_type": "code",
   "execution_count": null,
   "id": "2111a0de",
   "metadata": {},
   "outputs": [],
   "source": [
    "lifetime_full.query('Лауреат == \"Михаил Горбачёв\"')"
   ]
  },
  {
   "cell_type": "code",
   "execution_count": null,
   "id": "638c8d55",
   "metadata": {},
   "outputs": [],
   "source": [
    "(year_full\n",
    "    .query('Лауреат == \"Михаил Горбачёв\"')\n",
    "    .merge(lifetime_full\n",
    "          .query('Лауреат == \"Михаил Горбачёв\"'),\n",
    "          how='left', on='Лауреат')\n",
    ")"
   ]
  },
  {
   "cell_type": "code",
   "execution_count": null,
   "id": "0f21785a",
   "metadata": {},
   "outputs": [],
   "source": [
    "(year_full\n",
    "    .query('Лауреат == \"Михаил Горбачёв\"')\n",
    "    .merge(lifetime_full\n",
    "          .query('Лауреат == \"Михаил Горбачёв\"'),\n",
    "          how='right', on='Лауреат')\n",
    ")"
   ]
  },
  {
   "cell_type": "code",
   "execution_count": null,
   "id": "1b38579f",
   "metadata": {},
   "outputs": [],
   "source": [
    "year_full.merge(lifetime_full, how='left', on='Лауреат')"
   ]
  },
  {
   "cell_type": "code",
   "execution_count": null,
   "id": "f2b4f2ea",
   "metadata": {},
   "outputs": [],
   "source": []
  },
  {
   "cell_type": "code",
   "execution_count": null,
   "id": "6671c741",
   "metadata": {},
   "outputs": [],
   "source": []
  },
  {
   "cell_type": "code",
   "execution_count": null,
   "id": "61522109",
   "metadata": {},
   "outputs": [],
   "source": []
  },
  {
   "cell_type": "code",
   "execution_count": null,
   "id": "b4d17e02",
   "metadata": {},
   "outputs": [],
   "source": []
  },
  {
   "cell_type": "code",
   "execution_count": null,
   "id": "df517c95",
   "metadata": {},
   "outputs": [],
   "source": []
  },
  {
   "cell_type": "markdown",
   "id": "c86ae901",
   "metadata": {},
   "source": [
    "## Применение метода merge в аналитике не только для обычного соединения таблиц"
   ]
  },
  {
   "cell_type": "markdown",
   "id": "d734ccc8",
   "metadata": {},
   "source": [
    "### Необходимо узнать какой процент людей, побывавших в магазине в одном месяце вернулись в следующим"
   ]
  },
  {
   "cell_type": "code",
   "execution_count": null,
   "id": "d67401a9",
   "metadata": {},
   "outputs": [],
   "source": [
    "path_sales_2022 = '../tables/sales_2022.parquet' if os.path.exists('../tables/sales_2022.parquet') else 'https://drive.google.com/uc?id=17e7FwXVdsWc2aziK9s5KidIvPcfKt9F5'\n",
    "\n",
    "sales = (pd.read_parquet(path_sales_2022)\n",
    "    [['customer_id', 'purchase_date']]\n",
    "    .drop_duplicates()\n",
    "    .reset_index(drop=True)\n",
    ")\n",
    "sales.head()"
   ]
  },
  {
   "cell_type": "markdown",
   "id": "944ef483",
   "metadata": {},
   "source": [
    "Дату покупки приводим к концу месяца"
   ]
  },
  {
   "cell_type": "code",
   "execution_count": null,
   "id": "7863e94b",
   "metadata": {},
   "outputs": [],
   "source": [
    "(sales\n",
    "    .assign(purchase_month = lambda x: x['purchase_date'].dt.normalize() \n",
    "            + pd.offsets.MonthEnd(0))\n",
    "    .drop_duplicates(['customer_id', 'purchase_month'])\n",
    "    [['customer_id', 'purchase_month']]\n",
    ")"
   ]
  },
  {
   "cell_type": "markdown",
   "id": "77f189db",
   "metadata": {},
   "source": [
    "Добавляем индикатор"
   ]
  },
  {
   "cell_type": "code",
   "execution_count": null,
   "id": "91797e0a",
   "metadata": {},
   "outputs": [],
   "source": [
    "(sales\n",
    "    .assign(purchase_month = lambda x: x['purchase_date'].dt.normalize() \n",
    "            + pd.offsets.MonthEnd(0) - pd.offsets.MonthEnd(1))\n",
    "    .drop_duplicates(['customer_id', 'purchase_month'])\n",
    "    [['customer_id', 'purchase_month']]\n",
    "    .assign(indicator = True)\n",
    ")"
   ]
  },
  {
   "cell_type": "markdown",
   "id": "d2825a25",
   "metadata": {},
   "source": [
    "Соединяем эту таблицу с таблицей сдивнутой вперед на один месяц"
   ]
  },
  {
   "cell_type": "code",
   "execution_count": null,
   "id": "8c7426b1",
   "metadata": {},
   "outputs": [],
   "source": [
    "pd.merge(\n",
    "    (sales\n",
    "        .assign(purchase_month = lambda x: x['purchase_date'].dt.normalize() \n",
    "                + pd.offsets.MonthEnd(0))\n",
    "        .drop_duplicates(['customer_id', 'purchase_month'])\n",
    "        [['customer_id', 'purchase_month']]\n",
    "    ),\n",
    "    (sales\n",
    "        .assign(purchase_month = lambda x: x['purchase_date'].dt.normalize() \n",
    "                + pd.offsets.MonthEnd(0) - pd.offsets.MonthEnd(1))\n",
    "        .drop_duplicates(['customer_id', 'purchase_month'])\n",
    "        [['customer_id', 'purchase_month']]\n",
    "        .assign(indicator = True)\n",
    "    ),\n",
    "    on=['customer_id', 'purchase_month'], # передаем список из названий колонок\n",
    "    how='left'\n",
    "    )"
   ]
  },
  {
   "cell_type": "markdown",
   "id": "470dbbf9",
   "metadata": {},
   "source": [
    "Считаем процент"
   ]
  },
  {
   "cell_type": "code",
   "execution_count": null,
   "id": "0b7aaeaf",
   "metadata": {},
   "outputs": [],
   "source": [
    "(pd.merge(\n",
    "        (sales\n",
    "            .assign(purchase_month = lambda x: x['purchase_date'].dt.normalize() \n",
    "                    + pd.offsets.MonthEnd(0))\n",
    "            .drop_duplicates(['customer_id', 'purchase_month'])\n",
    "            [['customer_id', 'purchase_month']]\n",
    "        ),\n",
    "        (sales\n",
    "            .assign(purchase_month = lambda x: x['purchase_date'].dt.normalize() \n",
    "                    + pd.offsets.MonthEnd(0) - pd.offsets.MonthEnd(1))\n",
    "            .drop_duplicates(['customer_id', 'purchase_month'])\n",
    "            [['customer_id', 'purchase_month']]\n",
    "            .assign(indicator = True)\n",
    "        ),\n",
    "        on=['customer_id', 'purchase_month'],\n",
    "        how='left'\n",
    "    )\n",
    "    .query('purchase_month < \"2022-12-31\"')\n",
    "    ['indicator']\n",
    "    .notna() \n",
    "    .mul(100) # умножаем на 100, чтобы получить проценты\n",
    "    .mean()\n",
    "    .round(2)\n",
    ")"
   ]
  },
  {
   "cell_type": "code",
   "execution_count": null,
   "id": "f6039ed1",
   "metadata": {},
   "outputs": [],
   "source": []
  },
  {
   "cell_type": "code",
   "execution_count": null,
   "id": "6670250f",
   "metadata": {},
   "outputs": [],
   "source": []
  },
  {
   "cell_type": "code",
   "execution_count": null,
   "id": "f515e347",
   "metadata": {},
   "outputs": [],
   "source": []
  },
  {
   "cell_type": "markdown",
   "id": "b975d5d9",
   "metadata": {},
   "source": [
    "## Несколько важных моментов"
   ]
  },
  {
   "cell_type": "markdown",
   "id": "1b66e054",
   "metadata": {},
   "source": [
    "### Важный момент про типы данных"
   ]
  },
  {
   "cell_type": "code",
   "execution_count": null,
   "id": "6bd4b9ba",
   "metadata": {},
   "outputs": [],
   "source": [
    "path_w_ends = '../tables/выходные.csv' if os.path.exists('../tables/выходные.csv') else 'https://drive.google.com/uc?id=1hAsoXSPTFihFmBuF-E0uSj9pX4gpojwC'\n",
    "\n",
    "w_ends = (pd.read_csv(path_w_ends)\n",
    "    .set_axis(['purchase_date', 'is_weekend'], axis=1)\n",
    ")\n",
    "w_ends.head()"
   ]
  },
  {
   "cell_type": "code",
   "execution_count": null,
   "id": "e98ddd95",
   "metadata": {},
   "outputs": [],
   "source": [
    "(sales\n",
    "    .assign(purchase_date= lambda x: x['purchase_date'].dt.normalize())\n",
    "    .head()\n",
    ")"
   ]
  },
  {
   "cell_type": "code",
   "execution_count": null,
   "id": "a84a5e29",
   "metadata": {},
   "outputs": [],
   "source": [
    "(sales\n",
    "    .assign(purchase_date= lambda x: x['purchase_date'].dt.normalize())\n",
    "    .merge(\n",
    "            w_ends, \n",
    "            on='purchase_date', how='left')\n",
    ")"
   ]
  },
  {
   "cell_type": "code",
   "execution_count": null,
   "id": "5ca73f83",
   "metadata": {},
   "outputs": [],
   "source": [
    "(sales\n",
    "    .assign(purchase_date= lambda x: x['purchase_date'].dt.normalize())\n",
    "    .merge(\n",
    "            w_ends.astype({'purchase_date': 'datetime64'}), \n",
    "            on='purchase_date', how='left')\n",
    ")"
   ]
  },
  {
   "cell_type": "code",
   "execution_count": null,
   "id": "c92b83cb",
   "metadata": {},
   "outputs": [],
   "source": []
  },
  {
   "cell_type": "code",
   "execution_count": null,
   "id": "ae21fd97",
   "metadata": {},
   "outputs": [],
   "source": []
  },
  {
   "cell_type": "code",
   "execution_count": null,
   "id": "9c42e4d6",
   "metadata": {},
   "outputs": [],
   "source": []
  },
  {
   "cell_type": "code",
   "execution_count": null,
   "id": "6378abbe",
   "metadata": {},
   "outputs": [],
   "source": []
  },
  {
   "cell_type": "code",
   "execution_count": null,
   "id": "70d3e897",
   "metadata": {},
   "outputs": [],
   "source": []
  },
  {
   "cell_type": "markdown",
   "id": "0e89a124",
   "metadata": {},
   "source": [
    "### По возможности выполняйте фильтрацию и отбор колонок до соединения"
   ]
  },
  {
   "cell_type": "markdown",
   "id": "8eaa03cc",
   "metadata": {},
   "source": [
    "#### Например: нам нужно отобрать покупки только за нерабочие дни"
   ]
  },
  {
   "cell_type": "markdown",
   "id": "006cce65",
   "metadata": {},
   "source": [
    "Вариант 1: фильтруем таблицу после merge"
   ]
  },
  {
   "cell_type": "code",
   "execution_count": null,
   "id": "8e938d96",
   "metadata": {},
   "outputs": [],
   "source": [
    "(sales\n",
    "    .assign(purchase_date= lambda x: x['purchase_date'].dt.normalize())\n",
    "    .merge(\n",
    "            w_ends.astype({'purchase_date': 'datetime64'}), \n",
    "            on='purchase_date', how='left')\n",
    "    .query('is_weekend')\n",
    ")"
   ]
  },
  {
   "cell_type": "markdown",
   "id": "1adddf84",
   "metadata": {},
   "source": [
    "Вариант 2: Сначала отбираем только даты нерабочих дней, а потом к этим датам присоединняем таблицу с покупками"
   ]
  },
  {
   "cell_type": "code",
   "execution_count": null,
   "id": "a5222c6b",
   "metadata": {},
   "outputs": [],
   "source": [
    "(sales\n",
    "    .assign(purchase_date= lambda x: x['purchase_date'].dt.normalize())\n",
    "    .merge(\n",
    "            w_ends.astype({'purchase_date': 'datetime64'}).query('is_weekend'), \n",
    "            on='purchase_date', how='inner')\n",
    ")"
   ]
  },
  {
   "cell_type": "code",
   "execution_count": null,
   "id": "589ad080",
   "metadata": {},
   "outputs": [],
   "source": []
  },
  {
   "cell_type": "code",
   "execution_count": null,
   "id": "971d5d5f",
   "metadata": {},
   "outputs": [],
   "source": []
  },
  {
   "cell_type": "code",
   "execution_count": null,
   "id": "bce55311",
   "metadata": {},
   "outputs": [],
   "source": []
  },
  {
   "cell_type": "markdown",
   "id": "505b03b3",
   "metadata": {},
   "source": [
    "### Недопускайте пропусков в колонках, по которым соединяете таблицы.\n",
    " В большинстве случаев, с ними лучше работать отдельно"
   ]
  },
  {
   "cell_type": "code",
   "execution_count": null,
   "id": "4b61df3a",
   "metadata": {},
   "outputs": [],
   "source": [
    "one = pd.DataFrame({'col_to_merge': [1, 2, None, None], 'one': 1})\n",
    "two = pd.DataFrame({'col_to_merge': [1, 2, None, None], 'two': 2})"
   ]
  },
  {
   "cell_type": "code",
   "execution_count": null,
   "id": "b38834e1",
   "metadata": {},
   "outputs": [],
   "source": [
    "one"
   ]
  },
  {
   "cell_type": "code",
   "execution_count": null,
   "id": "f77afa9c",
   "metadata": {},
   "outputs": [],
   "source": [
    "two"
   ]
  },
  {
   "cell_type": "code",
   "execution_count": null,
   "id": "0133241d",
   "metadata": {},
   "outputs": [],
   "source": [
    "one.merge(two, how='inner', on='col_to_merge')"
   ]
  },
  {
   "cell_type": "code",
   "execution_count": null,
   "id": "075e76b0",
   "metadata": {},
   "outputs": [],
   "source": []
  },
  {
   "cell_type": "code",
   "execution_count": null,
   "id": "ac2c9339",
   "metadata": {},
   "outputs": [],
   "source": []
  },
  {
   "cell_type": "code",
   "execution_count": null,
   "id": "01877603",
   "metadata": {},
   "outputs": [],
   "source": []
  },
  {
   "cell_type": "code",
   "execution_count": null,
   "id": "f913e44c",
   "metadata": {},
   "outputs": [],
   "source": []
  },
  {
   "cell_type": "code",
   "execution_count": null,
   "id": "b8aa5d94",
   "metadata": {},
   "outputs": [],
   "source": []
  },
  {
   "cell_type": "markdown",
   "id": "72824d31",
   "metadata": {},
   "source": [
    "## Merge_asof\n",
    "\n",
    "Функция для соединения таблиц по ближайшей дате"
   ]
  },
  {
   "cell_type": "code",
   "execution_count": null,
   "id": "0dea4593",
   "metadata": {},
   "outputs": [],
   "source": [
    "path_events = '../tables/events.parquet' if os.path.exists('../tables/events.parquet') else 'https://drive.google.com/uc?id=1Phn06U4-BI0XqtYAgtlM6IuoXRIAGQlO'\n",
    "\n",
    "events = pd.read_parquet(path_events).drop('shop_id', axis=1)\n",
    "\n",
    "hired = events.query('event_type == \"Прием на работу\"')\n",
    "dismissed = events.query('event_type == \"Увольнение\"')"
   ]
  },
  {
   "cell_type": "markdown",
   "id": "e400253c",
   "metadata": {},
   "source": [
    "Один и тот же сотрудник встречается в таблице 2 раза"
   ]
  },
  {
   "cell_type": "code",
   "execution_count": null,
   "id": "798cfbdd",
   "metadata": {},
   "outputs": [],
   "source": [
    "hired.sort_values('i_pernr').head(8)"
   ]
  },
  {
   "cell_type": "code",
   "execution_count": null,
   "id": "4e7e7f51",
   "metadata": {},
   "outputs": [],
   "source": [
    "dismissed.sort_values('i_pernr').head(8)"
   ]
  },
  {
   "cell_type": "markdown",
   "id": "2ff58138",
   "metadata": {},
   "source": [
    "#### Для каждого приема на работу найти соответствующую позицию в увольнении"
   ]
  },
  {
   "cell_type": "markdown",
   "id": "a3c1bf30",
   "metadata": {},
   "source": [
    "Соединение при помощи merge некорректно"
   ]
  },
  {
   "cell_type": "code",
   "execution_count": null,
   "id": "eaef85a6",
   "metadata": {},
   "outputs": [],
   "source": [
    "hired.merge(dismissed, how='left', on='i_pernr')"
   ]
  },
  {
   "cell_type": "markdown",
   "id": "77d5332f",
   "metadata": {},
   "source": [
    "Смотрим как много лишних наблюдений получилось"
   ]
  },
  {
   "cell_type": "code",
   "execution_count": null,
   "id": "7553c264",
   "metadata": {},
   "outputs": [],
   "source": [
    "(hired\n",
    "    .merge(dismissed, how='left', on='i_pernr')\n",
    "    .query('i_pernr.duplicated(keep=False)')\n",
    "    .sort_values('i_pernr')\n",
    ")"
   ]
  },
  {
   "cell_type": "markdown",
   "id": "bbc7b586",
   "metadata": {},
   "source": [
    "Применяем merge_asof"
   ]
  },
  {
   "cell_type": "code",
   "execution_count": null,
   "id": "10cce8e1",
   "metadata": {},
   "outputs": [],
   "source": [
    "pd.merge_asof(hired, dismissed, on='date', by='i_pernr', direction='forward')"
   ]
  },
  {
   "cell_type": "code",
   "execution_count": null,
   "id": "f54f38ac",
   "metadata": {},
   "outputs": [],
   "source": [
    "pd.merge_asof(hired,\n",
    "              dismissed.assign(date_dismiss=lambda x: x['date']),\n",
    "              on='date',\n",
    "              by='i_pernr',\n",
    "              direction='forward')"
   ]
  },
  {
   "cell_type": "code",
   "execution_count": null,
   "id": "09683a2c",
   "metadata": {},
   "outputs": [],
   "source": [
    "pd.merge_asof(hired.rename({'date': 'date_hire'}, axis=1),\n",
    "              dismissed.rename({'date': 'date_dismiss'}, axis=1),\n",
    "              left_on='date_hire', \n",
    "              right_on='date_dismiss',\n",
    "              by='i_pernr',\n",
    "              direction='forward')"
   ]
  },
  {
   "cell_type": "code",
   "execution_count": null,
   "id": "0e02e8cd",
   "metadata": {},
   "outputs": [],
   "source": []
  },
  {
   "cell_type": "code",
   "execution_count": null,
   "id": "b04971a0",
   "metadata": {},
   "outputs": [],
   "source": []
  },
  {
   "cell_type": "code",
   "execution_count": null,
   "id": "fef259fe",
   "metadata": {},
   "outputs": [],
   "source": []
  },
  {
   "cell_type": "code",
   "execution_count": null,
   "id": "eba346f7",
   "metadata": {},
   "outputs": [],
   "source": []
  },
  {
   "cell_type": "code",
   "execution_count": null,
   "id": "46eeddb1",
   "metadata": {},
   "outputs": [],
   "source": []
  },
  {
   "cell_type": "markdown",
   "id": "d2c8eedc",
   "metadata": {},
   "source": [
    "### Посчитаем с какой периодичнотью к нам в среднем ходят клиенты"
   ]
  },
  {
   "cell_type": "code",
   "execution_count": null,
   "id": "5f64259a",
   "metadata": {},
   "outputs": [],
   "source": [
    "sales.rename(columns={'purchase_date':'purchase_date_first'})"
   ]
  },
  {
   "cell_type": "code",
   "execution_count": null,
   "id": "1609ca9c",
   "metadata": {},
   "outputs": [],
   "source": [
    "pd.merge_asof(\n",
    "    sales.rename(columns={'purchase_date':'purchase_date_first'}).dropna(),\n",
    "    sales.rename(columns={'purchase_date':'purchase_date_last'}).dropna(),\n",
    "    left_on='purchase_date_first',\n",
    "    right_on='purchase_date_last',\n",
    "    by='customer_id',\n",
    "    direction='forward'\n",
    ")"
   ]
  },
  {
   "cell_type": "code",
   "execution_count": null,
   "id": "b342ee21",
   "metadata": {},
   "outputs": [],
   "source": [
    "pd.merge_asof(\n",
    "    sales.rename(columns={'purchase_date':'purchase_date_first'}).dropna(),\n",
    "    sales.rename(columns={'purchase_date':'purchase_date_last'}).dropna(),\n",
    "    left_on='purchase_date_first', right_on='purchase_date_last',\n",
    "    by='customer_id', direction='forward',\n",
    "    allow_exact_matches=False\n",
    ")"
   ]
  },
  {
   "cell_type": "markdown",
   "id": "6dce0115",
   "metadata": {},
   "source": [
    "Считаем среднюю периодичность"
   ]
  },
  {
   "cell_type": "code",
   "execution_count": null,
   "id": "bfebd6d7",
   "metadata": {},
   "outputs": [],
   "source": [
    "(pd.merge_asof(\n",
    "    sales.rename(columns={'purchase_date':'purchase_date_first'}).dropna(),\n",
    "    sales.rename(columns={'purchase_date':'purchase_date_last'}).dropna(),\n",
    "    left_on='purchase_date_first', right_on='purchase_date_last',\n",
    "    by='customer_id', direction='forward',\n",
    "    allow_exact_matches=False\n",
    "    )\n",
    "    .assign(time_interval=lambda x: x['purchase_date_last'] - x['purchase_date_first'])\n",
    "    ['time_interval']\n",
    "    .mean()\n",
    "    .days\n",
    ")"
   ]
  },
  {
   "cell_type": "markdown",
   "id": "4cf4ac73",
   "metadata": {},
   "source": [
    "Считаем долю людей вернувшихся в течение 30 дней"
   ]
  },
  {
   "cell_type": "code",
   "execution_count": null,
   "id": "4a6bb6ea",
   "metadata": {},
   "outputs": [],
   "source": [
    "(pd.merge_asof(\n",
    "    sales.rename(columns={'purchase_date':'purchase_date_first'}).dropna(),\n",
    "    sales.rename(columns={'purchase_date':'purchase_date_last'}).dropna(),\n",
    "    left_on='purchase_date_first', right_on='purchase_date_last',\n",
    "    by='customer_id', direction='forward',\n",
    "    allow_exact_matches=False\n",
    "    )\n",
    "    .assign(return_30_days_flag=lambda x: (x['purchase_date_last'] - x['purchase_date_first']).dt.days <= 30)\n",
    "    ['return_30_days_flag']\n",
    "    .mean()\n",
    ")"
   ]
  },
  {
   "cell_type": "code",
   "execution_count": null,
   "id": "af740ec8",
   "metadata": {},
   "outputs": [],
   "source": []
  },
  {
   "cell_type": "code",
   "execution_count": null,
   "id": "6585e3f7",
   "metadata": {},
   "outputs": [],
   "source": []
  },
  {
   "cell_type": "code",
   "execution_count": null,
   "id": "8c672585",
   "metadata": {},
   "outputs": [],
   "source": []
  },
  {
   "cell_type": "code",
   "execution_count": null,
   "id": "25fdcdbb",
   "metadata": {},
   "outputs": [],
   "source": []
  },
  {
   "cell_type": "code",
   "execution_count": null,
   "id": "8141b333",
   "metadata": {},
   "outputs": [],
   "source": []
  },
  {
   "cell_type": "code",
   "execution_count": null,
   "id": "6b3caddf",
   "metadata": {},
   "outputs": [],
   "source": []
  },
  {
   "cell_type": "code",
   "execution_count": null,
   "id": "4046c213",
   "metadata": {},
   "outputs": [],
   "source": []
  },
  {
   "cell_type": "code",
   "execution_count": null,
   "id": "66ad9f89",
   "metadata": {},
   "outputs": [],
   "source": []
  },
  {
   "cell_type": "code",
   "execution_count": null,
   "id": "08d5ab34",
   "metadata": {},
   "outputs": [],
   "source": []
  },
  {
   "cell_type": "code",
   "execution_count": null,
   "id": "220bbe08",
   "metadata": {},
   "outputs": [],
   "source": []
  },
  {
   "cell_type": "markdown",
   "id": "3cebe399",
   "metadata": {},
   "source": [
    "# Задания"
   ]
  },
  {
   "cell_type": "markdown",
   "id": "c5977868",
   "metadata": {},
   "source": [
    "#### Описание таблиц лежит [здесь](https://github.com/victorlymarev/pandas/tree/main/tables#%D0%BE%D0%BF%D0%B8%D1%81%D0%B0%D0%BD%D0%B8%D0%B5-%D1%82%D0%B0%D0%B1%D0%BB%D0%B8%D1%86)"
   ]
  },
  {
   "cell_type": "markdown",
   "id": "65c32102",
   "metadata": {},
   "source": [
    "Некоторые таблицы занимают много памяти, поэтому каждые 5-10 заданий лучше перезапускайте ноутбук.\n",
    "\n",
    "В формулировке некоторых заданий может содержаться вариативность. Если у вас есть сомнения, что требуется в задании, попробуйте решить несколько вариантов. Если вы не понимаете задание, можете написать об этом в комментариях под видео.\n",
    "\n",
    "В большинстве случаев внешний вид итоговой таблицы не определен. Выведите на экран наиболее адекватный вариант. То есть таблицу, из которой можно будет сделать выводы.\n",
    "\n",
    "Курс пока находится в разработке. Вы можете помочь другим людям добавив свое решение [сюда](https://docs.google.com/forms/d/1HYTBz_KfssY3Jps2dC3n0YnEqa6WBb5OIhLo1d32Xzw/edit).\n",
    "\n",
    "Посмотреть решения других людей можно [здесь](https://docs.google.com/spreadsheets/d/1pMDYO-9UneLbPPnEuQ2shig0TOJdQTU-zipifyAnZMk/edit?resourcekey#gid=1998648012)"
   ]
  },
  {
   "cell_type": "markdown",
   "id": "36f888b5",
   "metadata": {},
   "source": [
    "### Задание 1\n",
    "\n",
    "Добавление колонки из единиц может быть полезным, если у вас есть две почти одинаковые таблицы, но с разным количеством записей. В этом случае, сделав индикатор того, из какой таблицы взята запись, вы без труда найдете отличие в таблицах.\n",
    "\n",
    "Перед вам сейчас две очень похожие таблицы. В них содержатся табельный номер и зарплата. Найдите записи, которые встечаются в таблице 1, но не встречаются в таблице 2 и наоборот. \n",
    "\n",
    "\n",
    "<details>\n",
    "\n",
    "<summary>Подсказка</summary>\n",
    " \n",
    "Для этого сначала в каждой из таблиц создайте колонки с индикатором. Только назовите эти колонки по-разному. Затем соедините эти таблицы мотодом outer по колонкам i_pernr и salary. В конце отфильтруйте записи в полученной таблице, воспользовавшись методом isna().\n",
    "\n",
    "</details>\n"
   ]
  },
  {
   "cell_type": "code",
   "execution_count": null,
   "id": "a4046beb",
   "metadata": {},
   "outputs": [],
   "source": [
    "import os\n",
    "import pandas as pd\n",
    "\n",
    "path_empl = '../tables/employees.parquet' if os.path.exists('../tables/employees.parquet') else 'https://drive.google.com/uc?id=1AARD5-eVlCxoApt5CYZebrC3Cqw42lvj'\n",
    "\n",
    "empl = pd.read_parquet(path_empl)\n",
    "empl_1 = (empl[['i_pernr', 'salary']].drop_duplicates('i_pernr')\n",
    "          .sample(frac=0.7, random_state=123).sort_index().reset_index(drop=True))\n",
    "empl_1.head()"
   ]
  },
  {
   "cell_type": "code",
   "execution_count": null,
   "id": "6995f743",
   "metadata": {},
   "outputs": [],
   "source": [
    "empl_2 = (empl[['i_pernr', 'salary']].drop_duplicates('i_pernr')\n",
    "          .sample(frac=0.7, random_state=1234).sort_index().reset_index(drop=True))\n",
    "empl_2.head()"
   ]
  },
  {
   "cell_type": "code",
   "execution_count": null,
   "id": "18fddb8c",
   "metadata": {},
   "outputs": [],
   "source": [
    "# напишите свой код здесь"
   ]
  },
  {
   "cell_type": "markdown",
   "id": "5cf3e394",
   "metadata": {},
   "source": [
    "### Задание 2\n",
    "\n",
    "Поставить флаг того, что товар выводится из продажи в следующем месяце. (1 если выводится, 0 если товар будет в продаже в следующем месяце)\n",
    "\n",
    "Если в таблице товар есть в месяце х, но его нет в месяце х + 1, то значит он был выведен из продажи в месяце"
   ]
  },
  {
   "cell_type": "code",
   "execution_count": null,
   "id": "e23008e6",
   "metadata": {},
   "outputs": [],
   "source": [
    "import os\n",
    "import pandas as pd\n",
    "\n",
    "path_prices = '../tables/prices.parquet' if os.path.exists('../tables/prices.parquet') else 'https://drive.google.com/uc?id=1_KfYyYCsib8woanbP3VouLUpYp103dV5'\n",
    "\n",
    "prices = pd.read_parquet(path_prices)\n",
    "prices.head()"
   ]
  },
  {
   "cell_type": "code",
   "execution_count": null,
   "id": "69e0e961",
   "metadata": {},
   "outputs": [],
   "source": [
    "# напишите свой код здесь"
   ]
  },
  {
   "cell_type": "markdown",
   "id": "6b26a601",
   "metadata": {},
   "source": [
    "### Задание 3\n",
    "\n",
    "В списке tables содержится 10 фрагментов таблиц sales. Соедините все таблицы в одну, избавьтесь от дубликатов, отсортируйте по индексу и сбросьте его так, чтобы исходная колонка с индексом удалилась"
   ]
  },
  {
   "cell_type": "code",
   "execution_count": null,
   "id": "c37e80a0",
   "metadata": {},
   "outputs": [],
   "source": [
    "import os\n",
    "import pandas as pd\n",
    "\n",
    "path_sales_2022 = '../tables/sales_2022.parquet' if os.path.exists('../tables/sales_2022.parquet') else 'https://drive.google.com/uc?id=17e7FwXVdsWc2aziK9s5KidIvPcfKt9F5'\n",
    "\n",
    "sales = pd.read_parquet(path_sales_2022)\n",
    "tables = [sales.sample(5000, random_state=i) for i in range(10)]\n",
    "# отдельную таблицу можно получить по индексу, указав его в квадратных скобках\n",
    "tables[0].head()"
   ]
  },
  {
   "cell_type": "code",
   "execution_count": null,
   "id": "553334ce",
   "metadata": {},
   "outputs": [],
   "source": [
    "# напишите свой код здесь"
   ]
  },
  {
   "cell_type": "markdown",
   "id": "0fcb75af",
   "metadata": {},
   "source": [
    "### Задание 4\n",
    "\n",
    "Для каждого сотрудника на конец каждого месяца поставьте флаг того, что он уволится в течение 91 дня"
   ]
  },
  {
   "cell_type": "code",
   "execution_count": null,
   "id": "b66791b3",
   "metadata": {},
   "outputs": [],
   "source": [
    "import os\n",
    "import pandas as pd\n",
    "\n",
    "path_empl = '../tables/employees.parquet' if os.path.exists('../tables/employees.parquet') else 'https://drive.google.com/uc?id=1AARD5-eVlCxoApt5CYZebrC3Cqw42lvj'\n",
    "\n",
    "empl = pd.read_parquet(path_empl)\n",
    "empl.head()"
   ]
  },
  {
   "cell_type": "code",
   "execution_count": null,
   "id": "320c66a7",
   "metadata": {},
   "outputs": [],
   "source": [
    "path_events = '../tables/events.parquet' if os.path.exists('../tables/events.parquet') else 'https://drive.google.com/uc?id=1Phn06U4-BI0XqtYAgtlM6IuoXRIAGQlO'\n",
    "\n",
    "events = pd.read_parquet(path_events)\n",
    "events.head()"
   ]
  },
  {
   "cell_type": "code",
   "execution_count": null,
   "id": "387427fe",
   "metadata": {},
   "outputs": [],
   "source": [
    "# напишите свой код здесь"
   ]
  },
  {
   "cell_type": "markdown",
   "id": "8dddbdad",
   "metadata": {},
   "source": [
    "### Задание 5\n",
    "\n",
    "Для каждого сотрудника на конец каждого месяца поставьте флаг того, что он волится в течение 3 месяцев (то есть через 3 месяца он не будет находиться в списке сотрудников)"
   ]
  },
  {
   "cell_type": "code",
   "execution_count": null,
   "id": "2658e4a5",
   "metadata": {},
   "outputs": [],
   "source": [
    "import os\n",
    "import pandas as pd\n",
    "\n",
    "path_empl = '../tables/employees.parquet' if os.path.exists('../tables/employees.parquet') else 'https://drive.google.com/uc?id=1AARD5-eVlCxoApt5CYZebrC3Cqw42lvj'\n",
    "\n",
    "empl = pd.read_parquet(path_empl)\n",
    "empl.head()"
   ]
  },
  {
   "cell_type": "code",
   "execution_count": null,
   "id": "66c75a41",
   "metadata": {},
   "outputs": [],
   "source": [
    "# напишите свой код здесь"
   ]
  },
  {
   "cell_type": "markdown",
   "id": "7dbcd2c4",
   "metadata": {},
   "source": [
    "### Задание 6\n",
    "\n",
    "На конец каждого месяца посчитайте, сколько дней проработал сотрудник с момента последнего устройства на работу"
   ]
  },
  {
   "cell_type": "code",
   "execution_count": null,
   "id": "d27fa8e6",
   "metadata": {},
   "outputs": [],
   "source": [
    "import os\n",
    "import pandas as pd\n",
    "\n",
    "path_empl = '../tables/employees.parquet' if os.path.exists('../tables/employees.parquet') else 'https://drive.google.com/uc?id=1AARD5-eVlCxoApt5CYZebrC3Cqw42lvj'\n",
    "\n",
    "empl = pd.read_parquet(path_empl)\n",
    "empl.head()"
   ]
  },
  {
   "cell_type": "code",
   "execution_count": null,
   "id": "3c571c3d",
   "metadata": {},
   "outputs": [],
   "source": [
    "path_events = '../tables/events.parquet' if os.path.exists('../tables/events.parquet') else 'https://drive.google.com/uc?id=1Phn06U4-BI0XqtYAgtlM6IuoXRIAGQlO'\n",
    "\n",
    "events = pd.read_parquet(path_events)\n",
    "events.head()"
   ]
  },
  {
   "cell_type": "code",
   "execution_count": null,
   "id": "fb5054ac",
   "metadata": {},
   "outputs": [],
   "source": [
    "# напишите свой код здесь"
   ]
  },
  {
   "cell_type": "markdown",
   "id": "fa7dadac",
   "metadata": {},
   "source": [
    "### Задание 7\n",
    "\n",
    "Поставьте флаг того, что товар был куплен по скидке и укажите размер этой скидки в процентах"
   ]
  },
  {
   "cell_type": "code",
   "execution_count": null,
   "id": "0313105f",
   "metadata": {},
   "outputs": [],
   "source": [
    "import os\n",
    "import pandas as pd\n",
    "\n",
    "path_prices = '../tables/prices.parquet' if os.path.exists('../tables/prices.parquet') else 'https://drive.google.com/uc?id=1_KfYyYCsib8woanbP3VouLUpYp103dV5'\n",
    "\n",
    "prices = pd.read_parquet(path_prices)\n",
    "prices.head()"
   ]
  },
  {
   "cell_type": "code",
   "execution_count": null,
   "id": "fc155b18",
   "metadata": {},
   "outputs": [],
   "source": [
    "# таблица sales - большая, и в некоторых случаях ваш компьютер может не справиться с ее обработкой\n",
    "# поэтому лучше работайте с частью этой таблицы\n",
    "# но если вы хотите попробовать поработать с полной версией таблицы,\n",
    "# можете заменить переменную path_sales_sample_check на path_sales внутри функции read_parquet\n",
    "\n",
    "path_sales_sample_check = '../tables/sales_sample_check.parquet' if os.path.exists('../tables/sales_sample_check.parquet') else 'https://drive.google.com/uc?id=1oYT518oqGnEF51PSFHfSHYNP-690ktFL'\n",
    "# path_sales = '../tables/sales.parquet' if os.path.exists('../tables/sales.parquet') else \"https://drive.usercontent.google.com/download?id=15KwSxyM6hpNABGe6_vsrFZvD09VfHFyK&export=download&authuser=1&confirm=t&uuid=115bd48c-cc2c-4f2a-8b42-be5ca6ef6db8&at=APZUnTUVb8nfNANw5wr9Cad7PJ3U:1693327774694\"\n",
    "\n",
    "sales = pd.read_parquet(path_sales_sample_check)\n",
    "sales.head()"
   ]
  },
  {
   "cell_type": "code",
   "execution_count": null,
   "id": "8a601d8c",
   "metadata": {},
   "outputs": [],
   "source": [
    "# напишите свой код здесь"
   ]
  },
  {
   "cell_type": "markdown",
   "id": "c97ff10f",
   "metadata": {},
   "source": [
    "### Задание 8\n",
    "\n",
    "Посчитайте число дней до ближайшего выходного. В день перед выходным должно стоять число 1, а для выходных установите значение -1"
   ]
  },
  {
   "cell_type": "code",
   "execution_count": null,
   "id": "dbd29d97",
   "metadata": {},
   "outputs": [],
   "source": [
    "import os\n",
    "import pandas as pd\n",
    "\n",
    "path_w_ends = '../tables/выходные.csv' if os.path.exists('../tables/выходные.csv') else 'https://drive.google.com/uc?id=1hAsoXSPTFihFmBuF-E0uSj9pX4gpojwC'\n",
    "\n",
    "w_ends = pd.read_csv(path_w_ends)\n",
    "w_ends.head()"
   ]
  },
  {
   "cell_type": "code",
   "execution_count": null,
   "id": "94a36e96",
   "metadata": {},
   "outputs": [],
   "source": [
    "# напишите свой код здесь"
   ]
  },
  {
   "cell_type": "markdown",
   "id": "79a1760c",
   "metadata": {},
   "source": [
    "### Задание 9\n",
    "\n",
    "Посчитайте средний возраст сотрудника при устройстве на работу. \n",
    "\n",
    "Вы уже делали похожее задание, но тогда было условие, что сотрудник пришел на работу впервые"
   ]
  },
  {
   "cell_type": "code",
   "execution_count": null,
   "id": "4dc9f397",
   "metadata": {},
   "outputs": [],
   "source": [
    "import os\n",
    "import pandas as pd\n",
    "\n",
    "path_events = '../tables/events.parquet' if os.path.exists('../tables/events.parquet') else 'https://drive.google.com/uc?id=1Phn06U4-BI0XqtYAgtlM6IuoXRIAGQlO'\n",
    "\n",
    "events = pd.read_parquet(path_events)\n",
    "events.head()"
   ]
  },
  {
   "cell_type": "code",
   "execution_count": null,
   "id": "5994431f",
   "metadata": {},
   "outputs": [],
   "source": [
    "path_empl = '../tables/employees.parquet' if os.path.exists('../tables/employees.parquet') else 'https://drive.google.com/uc?id=1AARD5-eVlCxoApt5CYZebrC3Cqw42lvj'\n",
    "\n",
    "empl = pd.read_parquet(path_empl)\n",
    "empl.head()"
   ]
  },
  {
   "cell_type": "code",
   "execution_count": null,
   "id": "6a232b9f",
   "metadata": {},
   "outputs": [],
   "source": [
    "# напишите свой код здесь"
   ]
  },
  {
   "cell_type": "markdown",
   "id": "95a164e1",
   "metadata": {},
   "source": [
    "### Задание 10\n",
    "\n",
    "Узнайте, какой процент покупателей, которые делали покупки в магазине 3 в январе и феврале 2022 года вернулись в любой из магазинов с марта по август включительно"
   ]
  },
  {
   "cell_type": "code",
   "execution_count": null,
   "id": "5ecc5f28",
   "metadata": {},
   "outputs": [],
   "source": [
    "import os\n",
    "import pandas as pd\n",
    "\n",
    "path_sales_2022 = '../tables/sales_2022.parquet' if os.path.exists('../tables/sales_2022.parquet') else 'https://drive.google.com/uc?id=17e7FwXVdsWc2aziK9s5KidIvPcfKt9F5'\n",
    "\n",
    "sales = pd.read_parquet(path_sales_2022)\n",
    "sales.head()"
   ]
  },
  {
   "cell_type": "code",
   "execution_count": null,
   "id": "6330d372",
   "metadata": {},
   "outputs": [],
   "source": [
    "# напишите свой код здесь"
   ]
  },
  {
   "cell_type": "markdown",
   "id": "5c48b8e4",
   "metadata": {},
   "source": [
    "### Задание 11\n",
    "\n",
    "Узнайте, сколько в среднем работают в компании кассиры и сколько консультанты. Возьмите только тех сотрудников, которые уже уволись, если сотурудник приходил и увольнялся несколько раз, то его нужно учитывать несколько раз. В качестве должности берите должность при устройтсве на работу"
   ]
  },
  {
   "cell_type": "code",
   "execution_count": null,
   "id": "b3cd5367",
   "metadata": {},
   "outputs": [],
   "source": [
    "import os\n",
    "import pandas as pd\n",
    "\n",
    "path_events = '../tables/events.parquet' if os.path.exists('../tables/events.parquet') else 'https://drive.google.com/uc?id=1Phn06U4-BI0XqtYAgtlM6IuoXRIAGQlO'\n",
    "\n",
    "events = pd.read_parquet(path_events)\n",
    "events.head()"
   ]
  },
  {
   "cell_type": "code",
   "execution_count": null,
   "id": "3960956d",
   "metadata": {},
   "outputs": [],
   "source": [
    "path_empl = '../tables/employees.parquet' if os.path.exists('../tables/employees.parquet') else 'https://drive.google.com/uc?id=1AARD5-eVlCxoApt5CYZebrC3Cqw42lvj'\n",
    "\n",
    "empl = pd.read_parquet(path_empl)\n",
    "empl.head()"
   ]
  },
  {
   "cell_type": "code",
   "execution_count": null,
   "id": "46a549d2",
   "metadata": {},
   "outputs": [],
   "source": [
    "# напишите свой код здесь"
   ]
  },
  {
   "cell_type": "markdown",
   "id": "421342c4",
   "metadata": {},
   "source": [
    "### Задание 12\n",
    "\n",
    "Для каждого сотрудника найдите отношение его текущей зарплаты к зарплате при трудоустройстве. Учитывайте, что сотрудник мог устраиваться на работу нескольько раз.\n",
    "\n",
    "Cделайте это используя merge и merge_asof и не используйте groupby"
   ]
  },
  {
   "cell_type": "code",
   "execution_count": null,
   "id": "81fdff7a",
   "metadata": {},
   "outputs": [],
   "source": [
    "import os\n",
    "import pandas as pd\n",
    "\n",
    "path_events = '../tables/events.parquet' if os.path.exists('../tables/events.parquet') else 'https://drive.google.com/uc?id=1Phn06U4-BI0XqtYAgtlM6IuoXRIAGQlO'\n",
    "\n",
    "events = pd.read_parquet(path_events)\n",
    "events.head()"
   ]
  },
  {
   "cell_type": "code",
   "execution_count": null,
   "id": "e0b9cc28",
   "metadata": {},
   "outputs": [],
   "source": [
    "path_empl = '../tables/employees.parquet' if os.path.exists('../tables/employees.parquet') else 'https://drive.google.com/uc?id=1AARD5-eVlCxoApt5CYZebrC3Cqw42lvj'\n",
    "\n",
    "empl = pd.read_parquet(path_empl)\n",
    "empl.head()"
   ]
  },
  {
   "cell_type": "code",
   "execution_count": null,
   "id": "a2844d36",
   "metadata": {},
   "outputs": [],
   "source": [
    "# напишите свой код здесь"
   ]
  },
  {
   "cell_type": "markdown",
   "id": "bea9b9ba",
   "metadata": {},
   "source": [
    "### Задание 13\n",
    "\n",
    "Посчитайте инфляцию.\n",
    "\n",
    "Посмотрите на товары, которые были в продаже как 31 декабря 2015 года, так и 31 декабря 2022 года. Затем посчитайте отношение между ценами за этот период. Из полученного значения посчитайте среднюю годовую инфляцию за период."
   ]
  },
  {
   "cell_type": "code",
   "execution_count": null,
   "id": "9898d5ee",
   "metadata": {},
   "outputs": [],
   "source": [
    "import os\n",
    "import pandas as pd\n",
    "\n",
    "path_prices = '../tables/prices.parquet' if os.path.exists('../tables/prices.parquet') else 'https://drive.google.com/uc?id=1_KfYyYCsib8woanbP3VouLUpYp103dV5'\n",
    "\n",
    "prices = pd.read_parquet(path_prices)\n",
    "prices.head()"
   ]
  },
  {
   "cell_type": "code",
   "execution_count": null,
   "id": "e18fc072",
   "metadata": {},
   "outputs": [],
   "source": [
    "# напишите свой код здесь"
   ]
  },
  {
   "cell_type": "markdown",
   "id": "59f1060e",
   "metadata": {},
   "source": [
    "### Задание 14\n",
    "\n",
    "Вывидите спиок сотрудников (можете попробовать еще вывести их должноть), которые работали 18 июля 2021 года. Если человек устроился в этот день на работу или уволился, то его тоже надо учитывать"
   ]
  },
  {
   "cell_type": "code",
   "execution_count": null,
   "id": "65e08866",
   "metadata": {},
   "outputs": [],
   "source": [
    "import os\n",
    "import pandas as pd\n",
    "\n",
    "path_events = '../tables/events.parquet' if os.path.exists('../tables/events.parquet') else 'https://drive.google.com/uc?id=1Phn06U4-BI0XqtYAgtlM6IuoXRIAGQlO'\n",
    "\n",
    "events = pd.read_parquet(path_events)\n",
    "events.head()"
   ]
  },
  {
   "cell_type": "code",
   "execution_count": null,
   "id": "8a5c83fc",
   "metadata": {},
   "outputs": [],
   "source": [
    "path_empl = '../tables/employees.parquet' if os.path.exists('../tables/employees.parquet') else 'https://drive.google.com/uc?id=1AARD5-eVlCxoApt5CYZebrC3Cqw42lvj'\n",
    "\n",
    "empl = pd.read_parquet(path_empl)\n",
    "empl.head()"
   ]
  },
  {
   "cell_type": "code",
   "execution_count": null,
   "id": "b1020e38",
   "metadata": {},
   "outputs": [],
   "source": [
    "# напишите свой код здесь"
   ]
  },
  {
   "cell_type": "markdown",
   "id": "937373ea",
   "metadata": {},
   "source": [
    "### Задание 15\n",
    "\n",
    "Посчитайте суммарную выручку в крупных магазинах (это задание можно сделать и без джойна)"
   ]
  },
  {
   "cell_type": "code",
   "execution_count": null,
   "id": "f7c60d6b",
   "metadata": {},
   "outputs": [],
   "source": [
    "# таблица sales - большая, и в некоторых случаях ваш компьютер может не справиться с ее обработкой\n",
    "# поэтому лучше работайте с частью этой таблицы\n",
    "# но если вы хотите попробовать поработать с полной версией таблицы,\n",
    "# можете заменить переменную path_sales_sample на path_sales внутри функции read_parquet\n",
    "\n",
    "import os\n",
    "import pandas as pd\n",
    "\n",
    "path_sales_sample = '../tables/sales_sample.parquet' if os.path.exists('../tables/sales_sample.parquet') else 'https://drive.google.com/uc?id=1BgxAxPauzC4LObY3N65PgAvnU3f5QRj2'\n",
    "# path_sales = '../tables/sales.parquet' if os.path.exists('../tables/sales.parquet') else \"https://drive.usercontent.google.com/download?id=15KwSxyM6hpNABGe6_vsrFZvD09VfHFyK&export=download&authuser=1&confirm=t&uuid=115bd48c-cc2c-4f2a-8b42-be5ca6ef6db8&at=APZUnTUVb8nfNANw5wr9Cad7PJ3U:1693327774694\"\n",
    "\n",
    "sales = pd.read_parquet(path_sales_sample)\n",
    "sales.head()"
   ]
  },
  {
   "cell_type": "code",
   "execution_count": null,
   "id": "943ad999",
   "metadata": {},
   "outputs": [],
   "source": [
    "path_shops = '../tables/shops.xlsx' if os.path.exists('../tables/shops.xlsx') else 'https://drive.google.com/uc?id=1gfnmceJa3Mc1X06NftTx9G9QfKfprjEB'\n",
    "\n",
    "shops = pd.read_excel(path_shops)\n",
    "shops.head()"
   ]
  },
  {
   "cell_type": "code",
   "execution_count": null,
   "id": "3d017a8b",
   "metadata": {},
   "outputs": [],
   "source": [
    "# напишите свой код здесь"
   ]
  },
  {
   "cell_type": "markdown",
   "id": "6a4cc337",
   "metadata": {},
   "source": [
    "### Задание 16\n",
    "\n",
    "Найдите те товары (product_code_3), которые были в продаже, но никогда не были куплены"
   ]
  },
  {
   "cell_type": "code",
   "execution_count": null,
   "id": "724a25cc",
   "metadata": {},
   "outputs": [],
   "source": [
    "# таблица sales - большая, и в некоторых случаях ваш компьютер может не справиться с ее обработкой\n",
    "# поэтому лучше работайте с частью этой таблицы\n",
    "# но если вы хотите попробовать поработать с полной версией таблицы,\n",
    "# можете заменить переменную path_sales_sample на path_sales внутри функции read_parquet\n",
    "\n",
    "import os\n",
    "import pandas as pd\n",
    "\n",
    "path_sales_sample = '../tables/sales_sample.parquet' if os.path.exists('../tables/sales_sample.parquet') else 'https://drive.google.com/uc?id=1BgxAxPauzC4LObY3N65PgAvnU3f5QRj2'\n",
    "# path_sales = '../tables/sales.parquet' if os.path.exists('../tables/sales.parquet') else \"https://drive.usercontent.google.com/download?id=15KwSxyM6hpNABGe6_vsrFZvD09VfHFyK&export=download&authuser=1&confirm=t&uuid=115bd48c-cc2c-4f2a-8b42-be5ca6ef6db8&at=APZUnTUVb8nfNANw5wr9Cad7PJ3U:1693327774694\"\n",
    "\n",
    "sales = pd.read_parquet(path_sales_sample)\n",
    "sales.head()"
   ]
  },
  {
   "cell_type": "code",
   "execution_count": null,
   "id": "6e3ae651",
   "metadata": {},
   "outputs": [],
   "source": [
    "path_goods_descr = '../tables/goods_description.parquet' if os.path.exists('../tables/goods_description.parquet') else 'https://drive.google.com/uc?id=1YbiD02Rev-X_WWV9nPSG1zZFmEh2JjPh'\n",
    "\n",
    "goods_descr = pd.read_parquet(path_goods_descr)\n",
    "goods_descr.head()"
   ]
  },
  {
   "cell_type": "code",
   "execution_count": null,
   "id": "2df22685",
   "metadata": {},
   "outputs": [],
   "source": [
    "# напишите свой код здесь"
   ]
  },
  {
   "cell_type": "markdown",
   "id": "92fdae4e",
   "metadata": {},
   "source": [
    "### Задание 17\n",
    "\n",
    "Задание на нампай\n",
    "\n",
    "Две матрицы или 2 вектора можно соединить друг с другом. Для этого в нампае есть функции np.vstack и np.hstack. Посмотрите как они работают. Создайте матрицу (какую хотите) 8 на 5 и присоединиете справа к этой матрице вектор длинною 8. Посмотрите документацию по функциям np.stack и np.concatenate"
   ]
  },
  {
   "cell_type": "code",
   "execution_count": null,
   "id": "f161ab31",
   "metadata": {},
   "outputs": [],
   "source": [
    "import numpy as np"
   ]
  },
  {
   "cell_type": "code",
   "execution_count": null,
   "id": "179442f8",
   "metadata": {},
   "outputs": [],
   "source": [
    "x, y = np.random.randint(0, 10, (2, 5, 2))"
   ]
  },
  {
   "cell_type": "code",
   "execution_count": null,
   "id": "c689a526",
   "metadata": {},
   "outputs": [],
   "source": [
    "x"
   ]
  },
  {
   "cell_type": "code",
   "execution_count": null,
   "id": "ad192483",
   "metadata": {},
   "outputs": [],
   "source": [
    "y"
   ]
  },
  {
   "cell_type": "code",
   "execution_count": null,
   "id": "a2a86952",
   "metadata": {},
   "outputs": [],
   "source": [
    "np.vstack([x, y])"
   ]
  },
  {
   "cell_type": "code",
   "execution_count": null,
   "id": "e1ea472f",
   "metadata": {},
   "outputs": [],
   "source": [
    "np.hstack([x, y])"
   ]
  },
  {
   "cell_type": "code",
   "execution_count": null,
   "id": "567772de",
   "metadata": {},
   "outputs": [],
   "source": [
    "np.hstack([np.arange(5)] * 2)"
   ]
  },
  {
   "cell_type": "code",
   "execution_count": null,
   "id": "ceaa791b",
   "metadata": {},
   "outputs": [],
   "source": [
    "np.vstack([np.arange(5)] * 2)"
   ]
  },
  {
   "cell_type": "code",
   "execution_count": null,
   "id": "066e5442",
   "metadata": {},
   "outputs": [],
   "source": [
    "a, b = np.random.randint(0, 10, (2, 3, 5, 2))"
   ]
  },
  {
   "cell_type": "code",
   "execution_count": null,
   "id": "b6648de0",
   "metadata": {},
   "outputs": [],
   "source": [
    "a.shape"
   ]
  },
  {
   "cell_type": "code",
   "execution_count": null,
   "id": "c40c67ad",
   "metadata": {},
   "outputs": [],
   "source": [
    "np.hstack([a, b]).shape"
   ]
  },
  {
   "cell_type": "code",
   "execution_count": null,
   "id": "f40f12bc",
   "metadata": {},
   "outputs": [],
   "source": [
    "np.vstack([a, b]).shape"
   ]
  },
  {
   "cell_type": "code",
   "execution_count": null,
   "id": "71a399e8",
   "metadata": {},
   "outputs": [],
   "source": []
  },
  {
   "cell_type": "code",
   "execution_count": null,
   "id": "69791cff",
   "metadata": {},
   "outputs": [],
   "source": []
  }
 ],
 "metadata": {
  "kernelspec": {
   "display_name": "Python 3 (ipykernel)",
   "language": "python",
   "name": "python3"
  },
  "language_info": {
   "codemirror_mode": {
    "name": "ipython",
    "version": 3
   },
   "file_extension": ".py",
   "mimetype": "text/x-python",
   "name": "python",
   "nbconvert_exporter": "python",
   "pygments_lexer": "ipython3",
   "version": "3.11.5"
  }
 },
 "nbformat": 4,
 "nbformat_minor": 5
}
