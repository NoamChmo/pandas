{
 "cells": [
  {
   "cell_type": "markdown",
   "id": "f6b3854e",
   "metadata": {},
   "source": [
    "<a target=\"_blank\" href=\"https://colab.research.google.com/github/victorlymarev/pandas/blob/main/notebooks/03-create-tables.ipynb\">\n",
    "  <img src=\"https://colab.research.google.com/assets/colab-badge.svg\" alt=\"Open In Colab\"/>\n",
    "</a>"
   ]
  },
  {
   "cell_type": "markdown",
   "id": "13548bcf",
   "metadata": {},
   "source": [
    "# Код из видео"
   ]
  },
  {
   "cell_type": "markdown",
   "id": "c2b167e1",
   "metadata": {},
   "source": [
    "Если вы будете работать с этим ноутбуком в google colab и у вас что-то не будет работать, то раскоментируйте ячейку ниже (для этого выделите содержимое ячейки и нажмите на клавиши ctrl / (если смотреть по английской раскладке или ctrl . для русской), либо просто руками уберите # и пробел после нее в каждой строчке) и запустите ее."
   ]
  },
  {
   "cell_type": "code",
   "execution_count": null,
   "id": "843f544a",
   "metadata": {},
   "outputs": [],
   "source": [
    "# import os\n",
    "# os._exit(00)\n",
    "# !pip install pyarrow pandas==1.5.3"
   ]
  },
  {
   "cell_type": "code",
   "execution_count": 1,
   "id": "a1cb8727",
   "metadata": {},
   "outputs": [],
   "source": [
    "import pandas as pd\n",
    "import numpy as np"
   ]
  },
  {
   "cell_type": "markdown",
   "id": "2640310f",
   "metadata": {},
   "source": [
    "## Создание объекта Series"
   ]
  },
  {
   "cell_type": "markdown",
   "id": "8dc69896",
   "metadata": {},
   "source": [
    "### На основе одного значения"
   ]
  },
  {
   "cell_type": "code",
   "execution_count": 2,
   "id": "03f78bdf",
   "metadata": {},
   "outputs": [
    {
     "data": {
      "text/plain": [
       "0    1\n",
       "dtype: int64"
      ]
     },
     "execution_count": 2,
     "metadata": {},
     "output_type": "execute_result"
    }
   ],
   "source": [
    "pd.Series(1)"
   ]
  },
  {
   "cell_type": "code",
   "execution_count": 3,
   "id": "9be89bca",
   "metadata": {},
   "outputs": [
    {
     "data": {
      "text/plain": [
       "0    pandas\n",
       "dtype: object"
      ]
     },
     "execution_count": 3,
     "metadata": {},
     "output_type": "execute_result"
    }
   ],
   "source": [
    "pd.Series('pandas')"
   ]
  },
  {
   "cell_type": "markdown",
   "id": "d23a79b5",
   "metadata": {},
   "source": [
    "### На основе списка"
   ]
  },
  {
   "cell_type": "code",
   "execution_count": 4,
   "id": "627fa814",
   "metadata": {},
   "outputs": [
    {
     "data": {
      "text/plain": [
       "['Аня', 'Маша', 'Вася', 'Катя', 'Аня']"
      ]
     },
     "execution_count": 4,
     "metadata": {},
     "output_type": "execute_result"
    }
   ],
   "source": [
    "['Аня', 'Маша', 'Вася', 'Катя', 'Аня']"
   ]
  },
  {
   "cell_type": "code",
   "execution_count": 5,
   "id": "3718455d",
   "metadata": {},
   "outputs": [
    {
     "data": {
      "text/plain": [
       "Аня     2\n",
       "Маша    1\n",
       "Вася    1\n",
       "Катя    1\n",
       "dtype: int64"
      ]
     },
     "execution_count": 5,
     "metadata": {},
     "output_type": "execute_result"
    }
   ],
   "source": [
    "pd.Series(['Аня', 'Маша', 'Вася', 'Катя', 'Аня']).value_counts()"
   ]
  },
  {
   "cell_type": "markdown",
   "id": "88c6768c",
   "metadata": {},
   "source": [
    "## Создание датафреймов"
   ]
  },
  {
   "cell_type": "markdown",
   "id": "9e9cc6c1",
   "metadata": {},
   "source": [
    "### На основе словаря"
   ]
  },
  {
   "cell_type": "code",
   "execution_count": 6,
   "id": "8e77514b",
   "metadata": {},
   "outputs": [],
   "source": [
    "people_dict = {\n",
    "    'Имя': ['Екатерина', 'Евгений', 'Андрей', 'Виктория', 'Анастасия', 'Данил'],\n",
    "    'Фамилия': [pd.NA, 'Бубликов', 'Васильев', 'Леонова', 'Долгова',\n",
    "                'Новиков'],\n",
    "    'Дата рождения': pd.to_datetime(['1992-06-25', '1995-09-09', '2000-02-29',\n",
    "                                     '1999-06-15', '2003-04-06', '1995-06-03']),\n",
    "    'Количество детей': 0,\n",
    "    'Дата увольнения': pd.Timestamp('12-06-2023')\n",
    "}"
   ]
  },
  {
   "cell_type": "code",
   "execution_count": 7,
   "id": "76de5558",
   "metadata": {},
   "outputs": [
    {
     "data": {
      "text/html": [
       "<div>\n",
       "<style scoped>\n",
       "    .dataframe tbody tr th:only-of-type {\n",
       "        vertical-align: middle;\n",
       "    }\n",
       "\n",
       "    .dataframe tbody tr th {\n",
       "        vertical-align: top;\n",
       "    }\n",
       "\n",
       "    .dataframe thead th {\n",
       "        text-align: right;\n",
       "    }\n",
       "</style>\n",
       "<table border=\"1\" class=\"dataframe\">\n",
       "  <thead>\n",
       "    <tr style=\"text-align: right;\">\n",
       "      <th></th>\n",
       "      <th>Имя</th>\n",
       "      <th>Фамилия</th>\n",
       "      <th>Дата рождения</th>\n",
       "      <th>Количество детей</th>\n",
       "      <th>Дата увольнения</th>\n",
       "    </tr>\n",
       "  </thead>\n",
       "  <tbody>\n",
       "    <tr>\n",
       "      <th>0</th>\n",
       "      <td>Екатерина</td>\n",
       "      <td>&lt;NA&gt;</td>\n",
       "      <td>1992-06-25</td>\n",
       "      <td>0</td>\n",
       "      <td>2023-12-06</td>\n",
       "    </tr>\n",
       "    <tr>\n",
       "      <th>1</th>\n",
       "      <td>Евгений</td>\n",
       "      <td>Бубликов</td>\n",
       "      <td>1995-09-09</td>\n",
       "      <td>0</td>\n",
       "      <td>2023-12-06</td>\n",
       "    </tr>\n",
       "    <tr>\n",
       "      <th>2</th>\n",
       "      <td>Андрей</td>\n",
       "      <td>Васильев</td>\n",
       "      <td>2000-02-29</td>\n",
       "      <td>0</td>\n",
       "      <td>2023-12-06</td>\n",
       "    </tr>\n",
       "    <tr>\n",
       "      <th>3</th>\n",
       "      <td>Виктория</td>\n",
       "      <td>Леонова</td>\n",
       "      <td>1999-06-15</td>\n",
       "      <td>0</td>\n",
       "      <td>2023-12-06</td>\n",
       "    </tr>\n",
       "    <tr>\n",
       "      <th>4</th>\n",
       "      <td>Анастасия</td>\n",
       "      <td>Долгова</td>\n",
       "      <td>2003-04-06</td>\n",
       "      <td>0</td>\n",
       "      <td>2023-12-06</td>\n",
       "    </tr>\n",
       "    <tr>\n",
       "      <th>5</th>\n",
       "      <td>Данил</td>\n",
       "      <td>Новиков</td>\n",
       "      <td>1995-06-03</td>\n",
       "      <td>0</td>\n",
       "      <td>2023-12-06</td>\n",
       "    </tr>\n",
       "  </tbody>\n",
       "</table>\n",
       "</div>"
      ],
      "text/plain": [
       "         Имя   Фамилия Дата рождения  Количество детей Дата увольнения\n",
       "0  Екатерина      <NA>    1992-06-25                 0      2023-12-06\n",
       "1    Евгений  Бубликов    1995-09-09                 0      2023-12-06\n",
       "2     Андрей  Васильев    2000-02-29                 0      2023-12-06\n",
       "3   Виктория   Леонова    1999-06-15                 0      2023-12-06\n",
       "4  Анастасия   Долгова    2003-04-06                 0      2023-12-06\n",
       "5      Данил   Новиков    1995-06-03                 0      2023-12-06"
      ]
     },
     "execution_count": 7,
     "metadata": {},
     "output_type": "execute_result"
    }
   ],
   "source": [
    "pd.DataFrame(people_dict)"
   ]
  },
  {
   "cell_type": "markdown",
   "id": "27dd1cae",
   "metadata": {},
   "source": [
    "#### Проверка длинны объектов"
   ]
  },
  {
   "cell_type": "code",
   "execution_count": 8,
   "id": "0c84bf6f",
   "metadata": {},
   "outputs": [
    {
     "data": {
      "text/plain": [
       "6"
      ]
     },
     "execution_count": 8,
     "metadata": {},
     "output_type": "execute_result"
    }
   ],
   "source": [
    "len(['Екатерина', 'Евгений', 'Андрей', 'Виктория', 'Анастасия', 'Данил'])"
   ]
  },
  {
   "cell_type": "markdown",
   "id": "671aaff7",
   "metadata": {},
   "source": [
    "#### Функция len у датафреймов считает количество строк"
   ]
  },
  {
   "cell_type": "code",
   "execution_count": 9,
   "id": "0db06dbc",
   "metadata": {},
   "outputs": [
    {
     "data": {
      "text/plain": [
       "6"
      ]
     },
     "execution_count": 9,
     "metadata": {},
     "output_type": "execute_result"
    }
   ],
   "source": [
    "len(pd.DataFrame(people_dict))"
   ]
  },
  {
   "cell_type": "markdown",
   "id": "286443f7",
   "metadata": {},
   "source": [
    "#### shape\n",
    "\n",
    "Возвращает кортеж, первое значение в кортеже - количество строк, а второе - количество столбцов"
   ]
  },
  {
   "cell_type": "code",
   "execution_count": 10,
   "id": "5e7c113b",
   "metadata": {},
   "outputs": [
    {
     "data": {
      "text/plain": [
       "(6, 5)"
      ]
     },
     "execution_count": 10,
     "metadata": {},
     "output_type": "execute_result"
    }
   ],
   "source": [
    "pd.DataFrame(people_dict).shape"
   ]
  },
  {
   "cell_type": "markdown",
   "id": "78bedbde",
   "metadata": {},
   "source": [
    "## Функции для создания периодических чисел или дат"
   ]
  },
  {
   "cell_type": "markdown",
   "id": "a9e0ba88",
   "metadata": {},
   "source": [
    "### np.arange\n",
    "\n",
    "Генерирует целые числа\n",
    "\n",
    "#### Синтаксис\n",
    "\n",
    "1. np.arange(первое число в массиве, последнее число в массиве невключительно, шаг (по умолчанию равен 1))\n",
    "2. np.arange(последнее число в массиве невключительно)"
   ]
  },
  {
   "cell_type": "code",
   "execution_count": 11,
   "id": "d5f41c44",
   "metadata": {},
   "outputs": [
    {
     "data": {
      "text/plain": [
       "array([2, 4, 6, 8])"
      ]
     },
     "execution_count": 11,
     "metadata": {},
     "output_type": "execute_result"
    }
   ],
   "source": [
    "np.arange(2, 10, 2)"
   ]
  },
  {
   "cell_type": "code",
   "execution_count": 12,
   "id": "33d668bf",
   "metadata": {},
   "outputs": [
    {
     "data": {
      "text/plain": [
       "array([-100. ,  -98.5,  -97. ,  -95.5,  -94. ,  -92.5,  -91. ,  -89.5,\n",
       "        -88. ,  -86.5,  -85. ,  -83.5,  -82. ,  -80.5,  -79. ,  -77.5,\n",
       "        -76. ,  -74.5,  -73. ,  -71.5,  -70. ,  -68.5,  -67. ,  -65.5,\n",
       "        -64. ,  -62.5,  -61. ,  -59.5,  -58. ,  -56.5,  -55. ,  -53.5,\n",
       "        -52. ,  -50.5,  -49. ,  -47.5,  -46. ,  -44.5,  -43. ,  -41.5,\n",
       "        -40. ,  -38.5,  -37. ,  -35.5,  -34. ,  -32.5,  -31. ,  -29.5,\n",
       "        -28. ,  -26.5,  -25. ,  -23.5,  -22. ,  -20.5,  -19. ,  -17.5,\n",
       "        -16. ,  -14.5,  -13. ,  -11.5,  -10. ,   -8.5,   -7. ,   -5.5,\n",
       "         -4. ,   -2.5,   -1. ,    0.5,    2. ,    3.5,    5. ,    6.5,\n",
       "          8. ,    9.5,   11. ,   12.5,   14. ,   15.5,   17. ,   18.5,\n",
       "         20. ,   21.5,   23. ,   24.5,   26. ,   27.5,   29. ,   30.5,\n",
       "         32. ,   33.5,   35. ,   36.5,   38. ,   39.5,   41. ,   42.5,\n",
       "         44. ,   45.5,   47. ,   48.5,   50. ,   51.5,   53. ,   54.5,\n",
       "         56. ,   57.5,   59. ,   60.5,   62. ,   63.5,   65. ,   66.5,\n",
       "         68. ,   69.5,   71. ,   72.5,   74. ,   75.5,   77. ,   78.5])"
      ]
     },
     "execution_count": 12,
     "metadata": {},
     "output_type": "execute_result"
    }
   ],
   "source": [
    "np.arange(-100, 80, 1.5)"
   ]
  },
  {
   "cell_type": "code",
   "execution_count": 13,
   "id": "7b48355c",
   "metadata": {},
   "outputs": [
    {
     "data": {
      "text/plain": [
       "array([100,  99,  98,  97,  96,  95,  94,  93,  92,  91,  90,  89,  88,\n",
       "        87,  86,  85,  84,  83,  82,  81,  80,  79,  78,  77,  76,  75,\n",
       "        74,  73,  72,  71,  70,  69,  68,  67,  66,  65,  64,  63,  62,\n",
       "        61,  60,  59,  58,  57,  56,  55,  54,  53,  52,  51,  50,  49,\n",
       "        48,  47,  46,  45,  44,  43,  42,  41,  40,  39,  38,  37,  36,\n",
       "        35,  34,  33,  32,  31,  30,  29,  28,  27,  26,  25,  24,  23,\n",
       "        22,  21,  20,  19,  18,  17,  16,  15,  14,  13,  12,  11,  10,\n",
       "         9,   8,   7,   6,   5,   4,   3,   2,   1])"
      ]
     },
     "execution_count": 13,
     "metadata": {},
     "output_type": "execute_result"
    }
   ],
   "source": [
    "np.arange(100, 0, -1)"
   ]
  },
  {
   "cell_type": "markdown",
   "id": "07bd60ab",
   "metadata": {},
   "source": [
    "### np.linspace\n",
    "\n",
    "Делит отрезок на равные части\n",
    "\n",
    "#### Синтаксис:\n",
    "\n",
    "np.linspace(нначало отрезка, конц отрезка, число точек на отрезке)"
   ]
  },
  {
   "cell_type": "code",
   "execution_count": 14,
   "id": "91e9378c",
   "metadata": {},
   "outputs": [
    {
     "data": {
      "text/plain": [
       "array([ 0.,  1.,  2.,  3.,  4.,  5.,  6.,  7.,  8.,  9., 10.])"
      ]
     },
     "execution_count": 14,
     "metadata": {},
     "output_type": "execute_result"
    }
   ],
   "source": [
    "np.linspace(0, 10, 11)"
   ]
  },
  {
   "cell_type": "code",
   "execution_count": 15,
   "id": "003578eb",
   "metadata": {},
   "outputs": [
    {
     "data": {
      "text/plain": [
       "array([5.        , 5.14285714, 5.28571429, 5.42857143, 5.57142857,\n",
       "       5.71428571, 5.85714286, 6.        ])"
      ]
     },
     "execution_count": 15,
     "metadata": {},
     "output_type": "execute_result"
    }
   ],
   "source": [
    "np.linspace(5, 6, 8)"
   ]
  },
  {
   "cell_type": "markdown",
   "id": "3826e2b5",
   "metadata": {},
   "source": [
    "### pd.date_range(start, end, periods, freq)\n",
    "\n",
    "__start__ - начало периода генерации дат\n",
    "\n",
    "__end__ - конец периода генерации дат\n",
    "\n",
    "__periods__ - количество дат для генерации\n",
    "\n",
    "__freq__ - период, с которым даты будут генерироваться"
   ]
  },
  {
   "cell_type": "code",
   "execution_count": 16,
   "id": "ea937b0d",
   "metadata": {},
   "outputs": [
    {
     "data": {
      "text/plain": [
       "DatetimeIndex(['2020-09-06', '2020-11-15', '2021-01-24', '2021-04-04',\n",
       "               '2021-06-14', '2021-08-23', '2021-11-01', '2022-01-11',\n",
       "               '2022-03-22', '2022-05-31', '2022-08-09', '2022-10-19',\n",
       "               '2022-12-28', '2023-03-08', '2023-05-18'],\n",
       "              dtype='datetime64[ns]', freq=None)"
      ]
     },
     "execution_count": 16,
     "metadata": {},
     "output_type": "execute_result"
    }
   ],
   "source": [
    "pd.date_range('2020-09-06', '2023-05-18', periods=15).normalize()"
   ]
  },
  {
   "cell_type": "code",
   "execution_count": 17,
   "id": "47aaa851",
   "metadata": {},
   "outputs": [
    {
     "data": {
      "text/plain": [
       "DatetimeIndex(['2020-09-06 15:00:00', '2020-09-08 21:00:00',\n",
       "               '2020-09-11 03:00:00', '2020-09-13 09:00:00',\n",
       "               '2020-09-15 15:00:00', '2020-09-17 21:00:00',\n",
       "               '2020-09-20 03:00:00', '2020-09-22 09:00:00',\n",
       "               '2020-09-24 15:00:00', '2020-09-26 21:00:00',\n",
       "               ...\n",
       "               '2023-04-27 15:00:00', '2023-04-29 21:00:00',\n",
       "               '2023-05-02 03:00:00', '2023-05-04 09:00:00',\n",
       "               '2023-05-06 15:00:00', '2023-05-08 21:00:00',\n",
       "               '2023-05-11 03:00:00', '2023-05-13 09:00:00',\n",
       "               '2023-05-15 15:00:00', '2023-05-17 21:00:00'],\n",
       "              dtype='datetime64[ns]', length=438, freq='54H')"
      ]
     },
     "execution_count": 17,
     "metadata": {},
     "output_type": "execute_result"
    }
   ],
   "source": [
    "pd.date_range('2020-09-06 15:00', '2023-05-18', freq='2d 6h')"
   ]
  },
  {
   "cell_type": "code",
   "execution_count": 18,
   "id": "e3b035c4",
   "metadata": {},
   "outputs": [
    {
     "data": {
      "text/plain": [
       "DatetimeIndex(['2020-09-06 15:00:00', '2020-10-06 15:00:00',\n",
       "               '2020-11-06 15:00:00', '2020-12-06 15:00:00',\n",
       "               '2021-01-06 15:00:00', '2021-02-06 15:00:00',\n",
       "               '2021-03-06 15:00:00', '2021-04-06 15:00:00',\n",
       "               '2021-05-06 15:00:00', '2021-06-06 15:00:00',\n",
       "               '2021-07-06 15:00:00', '2021-08-06 15:00:00',\n",
       "               '2021-09-06 15:00:00', '2021-10-06 15:00:00',\n",
       "               '2021-11-06 15:00:00', '2021-12-06 15:00:00',\n",
       "               '2022-01-06 15:00:00', '2022-02-06 15:00:00',\n",
       "               '2022-03-06 15:00:00', '2022-04-06 15:00:00',\n",
       "               '2022-05-06 15:00:00', '2022-06-06 15:00:00',\n",
       "               '2022-07-06 15:00:00', '2022-08-06 15:00:00',\n",
       "               '2022-09-06 15:00:00', '2022-10-06 15:00:00',\n",
       "               '2022-11-06 15:00:00', '2022-12-06 15:00:00',\n",
       "               '2023-01-06 15:00:00', '2023-02-06 15:00:00',\n",
       "               '2023-03-06 15:00:00', '2023-04-06 15:00:00',\n",
       "               '2023-05-06 15:00:00'],\n",
       "              dtype='datetime64[ns]', freq=None)"
      ]
     },
     "execution_count": 18,
     "metadata": {},
     "output_type": "execute_result"
    }
   ],
   "source": [
    "pd.date_range('2020-08-06 15:00', '2023-05-18', freq='MS').shift(5, 'd')"
   ]
  },
  {
   "cell_type": "code",
   "execution_count": 19,
   "id": "6b14feb2",
   "metadata": {},
   "outputs": [
    {
     "data": {
      "text/plain": [
       "DatetimeIndex(['2021-05-31 13:00:00', '2022-05-31 13:00:00',\n",
       "               '2023-05-31 13:00:00'],\n",
       "              dtype='datetime64[ns]', freq=None)"
      ]
     },
     "execution_count": 19,
     "metadata": {},
     "output_type": "execute_result"
    }
   ],
   "source": [
    "(pd.date_range('2020-08-06 15:00', '2023-05-18', freq='Y')\n",
    "    .shift(5, 'M')\n",
    "    .shift(-2, 'h')\n",
    ")"
   ]
  },
  {
   "cell_type": "code",
   "execution_count": 20,
   "id": "521ed41c",
   "metadata": {},
   "outputs": [
    {
     "data": {
      "text/plain": [
       "DatetimeIndex(['2020-08-06 15:00:00', '2020-08-06 15:01:00',\n",
       "               '2020-08-06 15:02:00', '2020-08-06 15:03:00',\n",
       "               '2020-08-06 15:04:00', '2020-08-06 15:05:00',\n",
       "               '2020-08-06 15:06:00', '2020-08-06 15:07:00',\n",
       "               '2020-08-06 15:08:00', '2020-08-06 15:09:00',\n",
       "               ...\n",
       "               '2023-05-17 23:51:00', '2023-05-17 23:52:00',\n",
       "               '2023-05-17 23:53:00', '2023-05-17 23:54:00',\n",
       "               '2023-05-17 23:55:00', '2023-05-17 23:56:00',\n",
       "               '2023-05-17 23:57:00', '2023-05-17 23:58:00',\n",
       "               '2023-05-17 23:59:00', '2023-05-18 00:00:00'],\n",
       "              dtype='datetime64[ns]', length=1460701, freq='T')"
      ]
     },
     "execution_count": 20,
     "metadata": {},
     "output_type": "execute_result"
    }
   ],
   "source": [
    "pd.date_range('2020-08-06 15:00', '2023-05-18', freq='min')"
   ]
  },
  {
   "cell_type": "markdown",
   "id": "c7398501",
   "metadata": {},
   "source": [
    "### Список всех сокращений (регистр их записи не важен)"
   ]
  },
  {
   "cell_type": "markdown",
   "id": "379ded81",
   "metadata": {},
   "source": [
    "| Сокращение   | Расшифровка                              | Сокращение   | Расшифровка                    |\n",
    "|:-------------|:-----------------------------------------|:-------------|:-------------------------------|\n",
    "| B            | Последний рабочий день в неделе          | QS           | Начало квартала                |\n",
    "| C            | Пользовательский последний день в неделе | BQS          | Первый рабочий день квартала   |\n",
    "| D            | День                                     | A, Y         | Конец года                     |\n",
    "| W            | Неделя                                   | BA, BY       | Последний рабочий день в году  |\n",
    "| M            | Конец месяца                             | AS, YS       | Начало года                    |\n",
    "| SM           | 15 число месяца                          | BAS, BYS     | Первый рабочий день в году     |\n",
    "| BM           | Последний рабочий день в месяце          | BH           | Рабочий час (от 9:00 до 17:00) |\n",
    "| CBM          | Пользовательский конец месяца            | H            | Час                            |\n",
    "| MS           | Первое число месяца                      | T, min       | Минута                         |\n",
    "| SMS          | 1 и 15 число месяца                      | S            | Секунда                        |\n",
    "| BMS          | Первый рабочий день месяца               | L, ms        | Миллисекунда                   |\n",
    "| CBMS         | Пользовательский первый день месяца      | U, us        | Микросекунда                   |\n",
    "| Q            | Конец квартала                           | N            | Наносекунда                    |\n",
    "| BQ           | Последний рабочий день квартала          | nan          | nan                            |"
   ]
  },
  {
   "cell_type": "code",
   "execution_count": 29,
   "id": "44e1b277",
   "metadata": {},
   "outputs": [
    {
     "data": {
      "text/plain": [
       "DatetimeIndex(['2020-09-06', '2020-11-15', '2021-01-24', '2021-04-04',\n",
       "               '2021-06-14', '2021-08-23', '2021-11-01', '2022-01-11',\n",
       "               '2022-03-22', '2022-05-31', '2022-08-09', '2022-10-19',\n",
       "               '2022-12-28', '2023-03-08', '2023-05-18'],\n",
       "              dtype='datetime64[ns]', freq=None)"
      ]
     },
     "execution_count": 29,
     "metadata": {},
     "output_type": "execute_result"
    }
   ],
   "source": [
    "pd.date_range('2020-09-06', '2023-05-18', periods=15).normalize()"
   ]
  },
  {
   "cell_type": "code",
   "execution_count": 41,
   "id": "ceefc3c3",
   "metadata": {},
   "outputs": [
    {
     "data": {
      "text/plain": [
       "DatetimeIndex(['2020-09-06 15:00:00', '2020-09-10 22:00:00',\n",
       "               '2020-09-15 05:00:00', '2020-09-19 12:00:00',\n",
       "               '2020-09-23 19:00:00', '2020-09-28 02:00:00',\n",
       "               '2020-10-02 09:00:00', '2020-10-06 16:00:00',\n",
       "               '2020-10-10 23:00:00', '2020-10-15 06:00:00',\n",
       "               ...\n",
       "               '2023-04-08 19:00:00', '2023-04-13 02:00:00',\n",
       "               '2023-04-17 09:00:00', '2023-04-21 16:00:00',\n",
       "               '2023-04-25 23:00:00', '2023-04-30 06:00:00',\n",
       "               '2023-05-04 13:00:00', '2023-05-08 20:00:00',\n",
       "               '2023-05-13 03:00:00', '2023-05-17 10:00:00'],\n",
       "              dtype='datetime64[ns]', length=230, freq='103H')"
      ]
     },
     "execution_count": 41,
     "metadata": {},
     "output_type": "execute_result"
    }
   ],
   "source": [
    "pd.date_range('2020-09-06 15:00', '2023-05-18', freq='4d 7h')"
   ]
  },
  {
   "cell_type": "code",
   "execution_count": 50,
   "id": "16ef9249",
   "metadata": {},
   "outputs": [
    {
     "data": {
      "text/plain": [
       "DatetimeIndex(['2020-09-06 15:08:00', '2020-10-06 15:08:00',\n",
       "               '2020-11-06 15:08:00', '2020-12-06 15:08:00',\n",
       "               '2021-01-06 15:08:00', '2021-02-06 15:08:00',\n",
       "               '2021-03-06 15:08:00', '2021-04-06 15:08:00',\n",
       "               '2021-05-06 15:08:00', '2021-06-06 15:08:00',\n",
       "               '2021-07-06 15:08:00', '2021-08-06 15:08:00',\n",
       "               '2021-09-06 15:08:00', '2021-10-06 15:08:00',\n",
       "               '2021-11-06 15:08:00'],\n",
       "              dtype='datetime64[ns]', freq=None)"
      ]
     },
     "execution_count": 50,
     "metadata": {},
     "output_type": "execute_result"
    }
   ],
   "source": [
    "(pd.date_range('2020-08-06 15:00', periods=15, freq='MS')\n",
    "    .shift(5, 'd')\n",
    "    .shift(8, 'min')\n",
    ")"
   ]
  },
  {
   "cell_type": "code",
   "execution_count": null,
   "id": "32e1139e",
   "metadata": {},
   "outputs": [],
   "source": []
  },
  {
   "cell_type": "code",
   "execution_count": null,
   "id": "e568bca9",
   "metadata": {},
   "outputs": [],
   "source": []
  },
  {
   "cell_type": "code",
   "execution_count": null,
   "id": "1224ded1",
   "metadata": {},
   "outputs": [],
   "source": []
  },
  {
   "cell_type": "code",
   "execution_count": null,
   "id": "ac5bbbcf",
   "metadata": {},
   "outputs": [],
   "source": []
  },
  {
   "cell_type": "code",
   "execution_count": null,
   "id": "3abf44fe",
   "metadata": {},
   "outputs": [],
   "source": []
  },
  {
   "cell_type": "code",
   "execution_count": null,
   "id": "0a5eff6b",
   "metadata": {},
   "outputs": [],
   "source": []
  },
  {
   "cell_type": "code",
   "execution_count": null,
   "id": "9dfeb9ce",
   "metadata": {},
   "outputs": [],
   "source": []
  },
  {
   "cell_type": "code",
   "execution_count": null,
   "id": "733ff78c",
   "metadata": {},
   "outputs": [],
   "source": []
  },
  {
   "cell_type": "code",
   "execution_count": null,
   "id": "4edb435f",
   "metadata": {},
   "outputs": [],
   "source": []
  },
  {
   "cell_type": "code",
   "execution_count": null,
   "id": "c793f276",
   "metadata": {},
   "outputs": [],
   "source": []
  },
  {
   "cell_type": "markdown",
   "id": "6d850000",
   "metadata": {},
   "source": [
    "# Задания"
   ]
  },
  {
   "cell_type": "markdown",
   "id": "c140f3d5",
   "metadata": {},
   "source": [
    "#### Описание таблиц лежит [здесь](https://github.com/victorlymarev/pandas/tree/main/tables)"
   ]
  },
  {
   "cell_type": "markdown",
   "id": "d191750b",
   "metadata": {},
   "source": [
    "Некоторые таблицы занимают много памяти, поэтому каждые 5-10 заданий лучше перезапускайте ноутбук.\n",
    "\n",
    "Если вы будете работать с этим ноутбуком в google colab и у вас что-то не будет работать, то раскоментируйте ячейку ниже (для этого выделите содержимое ячейки и нажмите на клавиши ctrl / (если смотреть по английской раскладке или ctrl . для русской), либо просто руками уберите # и пробел после нее в каждой строчке) и запустите ее."
   ]
  },
  {
   "cell_type": "code",
   "execution_count": null,
   "id": "8111bdb5",
   "metadata": {},
   "outputs": [],
   "source": [
    "# import os\n",
    "# os._exit(00)\n",
    "# !pip install pyarrow pandas==1.5.3"
   ]
  },
  {
   "cell_type": "markdown",
   "id": "775f3a9c",
   "metadata": {},
   "source": [
    "### Задание 1\n",
    "Создайте объект Series, в котором будут лежать последовательно имена Аня, Наташа, Таня, Оля, Настя"
   ]
  },
  {
   "cell_type": "code",
   "execution_count": null,
   "id": "39ab7371",
   "metadata": {},
   "outputs": [],
   "source": [
    "import pandas as pd\n",
    "\n",
    "# напишите свой код здесь"
   ]
  },
  {
   "cell_type": "markdown",
   "id": "b8dac001",
   "metadata": {},
   "source": [
    "### Задание 2\n",
    "Создавать объекты Series можно на основе словарей. В этом случае ключ пойдет в индекс, а значение в тело колонки."
   ]
  },
  {
   "cell_type": "code",
   "execution_count": 1,
   "id": "d93996fb",
   "metadata": {},
   "outputs": [
    {
     "data": {
      "text/plain": [
       "Кирилл     178\n",
       "Андрей     189\n",
       "Тимур      159\n",
       "Ярослав    190\n",
       "dtype: int64"
      ]
     },
     "execution_count": 1,
     "metadata": {},
     "output_type": "execute_result"
    }
   ],
   "source": [
    "import pandas as pd\n",
    "\n",
    "height = {'Кирилл': 178, 'Андрей': 189, 'Тимур': 159, 'Ярослав': 190}\n",
    "pd.Series(height)"
   ]
  },
  {
   "cell_type": "markdown",
   "id": "c020f3cb",
   "metadata": {},
   "source": [
    "Создайте на основе словаря объект Series. В индексе словаря пусть лежат имена Никита, Артур, Паша, а в значениях колонки номера телефонов 123456, 654321, 123321. "
   ]
  },
  {
   "cell_type": "code",
   "execution_count": null,
   "id": "ed6c1b05",
   "metadata": {},
   "outputs": [],
   "source": [
    "# напишите свой код здесь"
   ]
  },
  {
   "cell_type": "markdown",
   "id": "15d6798d",
   "metadata": {},
   "source": [
    "### Задание 3\n",
    "Создайте таблицу, состоящую из двух колонок. В перовой колонке должны быть имена Саша, Маша, Лера, Руслан. Во второй колонке пусть лежат фамилии Сидоров, Петрова, Иванова, Уткин"
   ]
  },
  {
   "cell_type": "code",
   "execution_count": null,
   "id": "71beca3d",
   "metadata": {},
   "outputs": [],
   "source": [
    "import pandas as pd\n",
    "\n",
    "# напишите свой код здесь"
   ]
  },
  {
   "cell_type": "markdown",
   "id": "a7d7e444",
   "metadata": {},
   "source": [
    "### Задание 4\n",
    "\n",
    "В таблице marks_6d лежат оценки школьников в классе 6Д. Какое количество школьников в классе?"
   ]
  },
  {
   "cell_type": "code",
   "execution_count": null,
   "id": "551f1751",
   "metadata": {},
   "outputs": [],
   "source": [
    "import os\n",
    "import pandas as pd\n",
    "path_marks_6d = '../tables/оценки 6Д.csv' if os.path.exists('../tables/оценки 6Д.csv') else 'https://drive.google.com/uc?id=1aMvwur2zrISbVPRo86qWgbHPEpw5km0n'\n",
    "marks_6d = pd.read_csv(path_marks_6d)\n",
    "marks_6d"
   ]
  },
  {
   "cell_type": "code",
   "execution_count": null,
   "id": "09acc402",
   "metadata": {},
   "outputs": [],
   "source": [
    "# напишите свой код здесь"
   ]
  },
  {
   "cell_type": "markdown",
   "id": "47cda5d4",
   "metadata": {},
   "source": [
    "### Задание 5\n",
    "\n",
    "Создайте набор точек от 1 до 150 с интервалом 2"
   ]
  },
  {
   "cell_type": "code",
   "execution_count": null,
   "id": "292872cc",
   "metadata": {},
   "outputs": [],
   "source": [
    "import numpy as np\n",
    "\n",
    "# напишите свой код здесь"
   ]
  },
  {
   "cell_type": "markdown",
   "id": "c1e61f03",
   "metadata": {},
   "source": [
    "### Задание 6\n",
    "\n",
    "Создайте набор точек от 0 до 15 включительно с интервалом 1.5"
   ]
  },
  {
   "cell_type": "code",
   "execution_count": null,
   "id": "31404e2c",
   "metadata": {},
   "outputs": [],
   "source": [
    "import numpy as np\n",
    "\n",
    "# напишите свой код здесь"
   ]
  },
  {
   "cell_type": "markdown",
   "id": "0b82070a",
   "metadata": {},
   "source": [
    "### Задание 7\n",
    "\n",
    "На отрезке от 100 до 150 создайте 80 равноудаленных друг от друга точек"
   ]
  },
  {
   "cell_type": "code",
   "execution_count": null,
   "id": "f4df36f8",
   "metadata": {},
   "outputs": [],
   "source": [
    "import numpy as np\n",
    "\n",
    "# напишите свой код здесь"
   ]
  },
  {
   "cell_type": "markdown",
   "id": "79779925",
   "metadata": {},
   "source": [
    "### Задание 8\n",
    "\n",
    "Создайте набор дат с 18 марта 1999 года до 28 февраля 2021 года с частотой в 1 день"
   ]
  },
  {
   "cell_type": "code",
   "execution_count": null,
   "id": "a61db304",
   "metadata": {},
   "outputs": [],
   "source": [
    "import pandas as pd\n",
    "\n",
    "# напишите свой код здесь"
   ]
  },
  {
   "cell_type": "markdown",
   "id": "fc311260",
   "metadata": {},
   "source": [
    "### Задание 9\n",
    "\n",
    "Создайте набор дат с даты вашего рождения и до сегодняшнего дня с частотой в 1 день. При помощи функции len посчитайте длинну массива"
   ]
  },
  {
   "cell_type": "code",
   "execution_count": null,
   "id": "cb7e3131",
   "metadata": {},
   "outputs": [],
   "source": [
    "import pandas as pd\n",
    "\n",
    "# напишите свой код здесь"
   ]
  },
  {
   "cell_type": "markdown",
   "id": "9cd997e0",
   "metadata": {},
   "source": [
    "### Задание 10\n",
    "\n",
    "Создайте набор дат с 18 марта 2009 года до 28 февраля 2021 года с частотой в 4 дня 19 часов"
   ]
  },
  {
   "cell_type": "code",
   "execution_count": null,
   "id": "2e12bc34",
   "metadata": {},
   "outputs": [],
   "source": [
    "import pandas as pd\n",
    "\n",
    "# напишите свой код здесь"
   ]
  },
  {
   "cell_type": "markdown",
   "id": "c0adca97",
   "metadata": {},
   "source": [
    "### Задание 11\n",
    "\n",
    "Создайте набор дат с 18 марта 2009 года до 18 февраля 2021 года с частотой в 1 месяц"
   ]
  },
  {
   "cell_type": "code",
   "execution_count": null,
   "id": "249cfdea",
   "metadata": {},
   "outputs": [],
   "source": [
    "import pandas as pd\n",
    "\n",
    "# напишите свой код здесь"
   ]
  },
  {
   "cell_type": "markdown",
   "id": "5b0b76c2",
   "metadata": {},
   "source": [
    "### Задание 12\n",
    "\n",
    "Создайте 8 дат с частотой в 3 часа начиная от 9 часов утра 21 декабря 1999 года"
   ]
  },
  {
   "cell_type": "code",
   "execution_count": null,
   "id": "d59067a5",
   "metadata": {},
   "outputs": [],
   "source": [
    "import pandas as pd\n",
    "\n",
    "# напишите свой код здесь"
   ]
  },
  {
   "cell_type": "code",
   "execution_count": null,
   "id": "57045574",
   "metadata": {},
   "outputs": [],
   "source": []
  },
  {
   "cell_type": "code",
   "execution_count": null,
   "id": "f1f12052",
   "metadata": {},
   "outputs": [],
   "source": []
  },
  {
   "cell_type": "code",
   "execution_count": null,
   "id": "83dcbdd4",
   "metadata": {},
   "outputs": [],
   "source": []
  },
  {
   "cell_type": "code",
   "execution_count": null,
   "id": "51b39dd9",
   "metadata": {},
   "outputs": [],
   "source": []
  },
  {
   "cell_type": "code",
   "execution_count": null,
   "id": "5938d9ce",
   "metadata": {},
   "outputs": [],
   "source": []
  },
  {
   "cell_type": "code",
   "execution_count": null,
   "id": "b0663b90",
   "metadata": {},
   "outputs": [],
   "source": []
  },
  {
   "cell_type": "code",
   "execution_count": null,
   "id": "6dd4f16c",
   "metadata": {},
   "outputs": [],
   "source": []
  },
  {
   "cell_type": "code",
   "execution_count": null,
   "id": "d8d3785c",
   "metadata": {},
   "outputs": [],
   "source": []
  },
  {
   "cell_type": "code",
   "execution_count": null,
   "id": "091936aa",
   "metadata": {},
   "outputs": [],
   "source": []
  },
  {
   "cell_type": "code",
   "execution_count": null,
   "id": "d718932d",
   "metadata": {},
   "outputs": [],
   "source": []
  },
  {
   "cell_type": "code",
   "execution_count": null,
   "id": "9cb6256d",
   "metadata": {},
   "outputs": [],
   "source": []
  },
  {
   "cell_type": "code",
   "execution_count": null,
   "id": "1ea2a5ca",
   "metadata": {},
   "outputs": [],
   "source": []
  },
  {
   "cell_type": "code",
   "execution_count": null,
   "id": "b2494ff3",
   "metadata": {},
   "outputs": [],
   "source": []
  },
  {
   "cell_type": "code",
   "execution_count": null,
   "id": "d52766ff",
   "metadata": {},
   "outputs": [],
   "source": []
  },
  {
   "cell_type": "code",
   "execution_count": null,
   "id": "a707daee",
   "metadata": {},
   "outputs": [],
   "source": []
  },
  {
   "cell_type": "code",
   "execution_count": null,
   "id": "2c0c21e8",
   "metadata": {},
   "outputs": [],
   "source": []
  },
  {
   "cell_type": "code",
   "execution_count": null,
   "id": "04ef69cc",
   "metadata": {},
   "outputs": [],
   "source": []
  },
  {
   "cell_type": "code",
   "execution_count": null,
   "id": "d804f26a",
   "metadata": {},
   "outputs": [],
   "source": []
  },
  {
   "cell_type": "code",
   "execution_count": null,
   "id": "27fbf1df",
   "metadata": {},
   "outputs": [],
   "source": []
  },
  {
   "cell_type": "code",
   "execution_count": null,
   "id": "ac47378e",
   "metadata": {},
   "outputs": [],
   "source": []
  },
  {
   "cell_type": "code",
   "execution_count": null,
   "id": "9e3f0343",
   "metadata": {},
   "outputs": [],
   "source": []
  },
  {
   "cell_type": "code",
   "execution_count": null,
   "id": "b1ad76eb",
   "metadata": {},
   "outputs": [],
   "source": []
  },
  {
   "cell_type": "code",
   "execution_count": null,
   "id": "6ecc9e90",
   "metadata": {},
   "outputs": [],
   "source": []
  },
  {
   "cell_type": "code",
   "execution_count": null,
   "id": "e3006005",
   "metadata": {},
   "outputs": [],
   "source": []
  },
  {
   "cell_type": "code",
   "execution_count": null,
   "id": "67e0338d",
   "metadata": {},
   "outputs": [],
   "source": []
  },
  {
   "cell_type": "code",
   "execution_count": null,
   "id": "22f4831d",
   "metadata": {},
   "outputs": [],
   "source": []
  },
  {
   "cell_type": "code",
   "execution_count": null,
   "id": "7e0ceaf2",
   "metadata": {},
   "outputs": [],
   "source": []
  },
  {
   "cell_type": "code",
   "execution_count": null,
   "id": "f72c47ec",
   "metadata": {},
   "outputs": [],
   "source": []
  },
  {
   "cell_type": "code",
   "execution_count": null,
   "id": "5b60ed78",
   "metadata": {},
   "outputs": [],
   "source": []
  },
  {
   "cell_type": "code",
   "execution_count": null,
   "id": "359749b0",
   "metadata": {},
   "outputs": [],
   "source": []
  },
  {
   "cell_type": "code",
   "execution_count": null,
   "id": "a03eea96",
   "metadata": {},
   "outputs": [],
   "source": []
  },
  {
   "cell_type": "code",
   "execution_count": null,
   "id": "664cf26d",
   "metadata": {},
   "outputs": [],
   "source": []
  },
  {
   "cell_type": "code",
   "execution_count": null,
   "id": "fb22b232",
   "metadata": {},
   "outputs": [],
   "source": []
  },
  {
   "cell_type": "code",
   "execution_count": null,
   "id": "0e2a73cb",
   "metadata": {},
   "outputs": [],
   "source": []
  },
  {
   "cell_type": "code",
   "execution_count": null,
   "id": "1ab7e029",
   "metadata": {},
   "outputs": [],
   "source": []
  },
  {
   "cell_type": "code",
   "execution_count": null,
   "id": "3b277cf3",
   "metadata": {},
   "outputs": [],
   "source": []
  },
  {
   "cell_type": "code",
   "execution_count": null,
   "id": "aee52d52",
   "metadata": {},
   "outputs": [],
   "source": []
  },
  {
   "cell_type": "code",
   "execution_count": null,
   "id": "fd88838b",
   "metadata": {},
   "outputs": [],
   "source": []
  },
  {
   "cell_type": "code",
   "execution_count": null,
   "id": "b1fca2ce",
   "metadata": {},
   "outputs": [],
   "source": []
  },
  {
   "cell_type": "code",
   "execution_count": null,
   "id": "511ac016",
   "metadata": {},
   "outputs": [],
   "source": []
  },
  {
   "cell_type": "code",
   "execution_count": null,
   "id": "c7959cdf",
   "metadata": {},
   "outputs": [],
   "source": []
  },
  {
   "cell_type": "code",
   "execution_count": null,
   "id": "c4172c99",
   "metadata": {},
   "outputs": [],
   "source": []
  },
  {
   "cell_type": "code",
   "execution_count": null,
   "id": "c330f475",
   "metadata": {},
   "outputs": [],
   "source": []
  },
  {
   "cell_type": "code",
   "execution_count": null,
   "id": "73c60795",
   "metadata": {},
   "outputs": [],
   "source": []
  },
  {
   "cell_type": "code",
   "execution_count": null,
   "id": "5a3174c4",
   "metadata": {},
   "outputs": [],
   "source": []
  },
  {
   "cell_type": "code",
   "execution_count": null,
   "id": "14cf82a6",
   "metadata": {},
   "outputs": [],
   "source": []
  },
  {
   "cell_type": "code",
   "execution_count": null,
   "id": "51f5ccfc",
   "metadata": {},
   "outputs": [],
   "source": []
  },
  {
   "cell_type": "code",
   "execution_count": null,
   "id": "1c39c856",
   "metadata": {},
   "outputs": [],
   "source": []
  },
  {
   "cell_type": "code",
   "execution_count": null,
   "id": "84447401",
   "metadata": {},
   "outputs": [],
   "source": []
  },
  {
   "cell_type": "code",
   "execution_count": null,
   "id": "123eee9f",
   "metadata": {},
   "outputs": [],
   "source": []
  },
  {
   "cell_type": "code",
   "execution_count": null,
   "id": "e0a8c11b",
   "metadata": {},
   "outputs": [],
   "source": []
  },
  {
   "cell_type": "code",
   "execution_count": null,
   "id": "27e3111e",
   "metadata": {},
   "outputs": [],
   "source": []
  },
  {
   "cell_type": "code",
   "execution_count": null,
   "id": "31d330b9",
   "metadata": {},
   "outputs": [],
   "source": []
  },
  {
   "cell_type": "code",
   "execution_count": null,
   "id": "ac5cbd40",
   "metadata": {},
   "outputs": [],
   "source": []
  },
  {
   "cell_type": "code",
   "execution_count": null,
   "id": "87db74d2",
   "metadata": {},
   "outputs": [],
   "source": []
  },
  {
   "cell_type": "code",
   "execution_count": null,
   "id": "1890f098",
   "metadata": {},
   "outputs": [],
   "source": []
  },
  {
   "cell_type": "code",
   "execution_count": null,
   "id": "5a0cbb18",
   "metadata": {},
   "outputs": [],
   "source": []
  },
  {
   "cell_type": "code",
   "execution_count": null,
   "id": "cc3733f7",
   "metadata": {},
   "outputs": [],
   "source": []
  },
  {
   "cell_type": "code",
   "execution_count": null,
   "id": "9efa25a6",
   "metadata": {},
   "outputs": [],
   "source": []
  },
  {
   "cell_type": "code",
   "execution_count": null,
   "id": "f0490a80",
   "metadata": {},
   "outputs": [],
   "source": []
  },
  {
   "cell_type": "code",
   "execution_count": null,
   "id": "8f4a17b1",
   "metadata": {},
   "outputs": [],
   "source": []
  },
  {
   "cell_type": "code",
   "execution_count": null,
   "id": "294edca0",
   "metadata": {},
   "outputs": [],
   "source": []
  },
  {
   "cell_type": "code",
   "execution_count": null,
   "id": "99826a10",
   "metadata": {},
   "outputs": [],
   "source": []
  },
  {
   "cell_type": "code",
   "execution_count": null,
   "id": "78e4adf2",
   "metadata": {},
   "outputs": [],
   "source": []
  },
  {
   "cell_type": "code",
   "execution_count": null,
   "id": "2d2575c8",
   "metadata": {},
   "outputs": [],
   "source": []
  },
  {
   "cell_type": "code",
   "execution_count": null,
   "id": "8dedcadf",
   "metadata": {},
   "outputs": [],
   "source": []
  },
  {
   "cell_type": "code",
   "execution_count": null,
   "id": "11f8ac15",
   "metadata": {},
   "outputs": [],
   "source": []
  },
  {
   "cell_type": "code",
   "execution_count": null,
   "id": "e9e0f9f8",
   "metadata": {},
   "outputs": [],
   "source": []
  }
 ],
 "metadata": {
  "kernelspec": {
   "display_name": "Python 3 (ipykernel)",
   "language": "python",
   "name": "python3"
  },
  "language_info": {
   "codemirror_mode": {
    "name": "ipython",
    "version": 3
   },
   "file_extension": ".py",
   "mimetype": "text/x-python",
   "name": "python",
   "nbconvert_exporter": "python",
   "pygments_lexer": "ipython3",
   "version": "3.11.2"
  }
 },
 "nbformat": 4,
 "nbformat_minor": 5
}
