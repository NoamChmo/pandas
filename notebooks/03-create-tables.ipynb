{
 "cells": [
  {
   "cell_type": "markdown",
   "id": "f6b3854e",
   "metadata": {},
   "source": [
    "<a target=\"_blank\" href=\"https://colab.research.google.com/github/victorlymarev/pandas/blob/main/notebooks/03-create-tables.ipynb\">\n",
    "  <img src=\"https://colab.research.google.com/assets/colab-badge.svg\" alt=\"Open In Colab\"/>\n",
    "</a>"
   ]
  },
  {
   "cell_type": "markdown",
   "id": "7b2d71fc",
   "metadata": {},
   "source": [
    "# Создание таблиц\n",
    "#### [Ссылка на видео](https://youtu.be/R_TEh4xMkCw)"
   ]
  },
  {
   "cell_type": "code",
   "execution_count": null,
   "id": "a1cb8727",
   "metadata": {},
   "outputs": [],
   "source": [
    "import pandas as pd\n",
    "import numpy as np"
   ]
  },
  {
   "cell_type": "markdown",
   "id": "2640310f",
   "metadata": {},
   "source": [
    "## Создание объекта Series"
   ]
  },
  {
   "cell_type": "markdown",
   "id": "8dc69896",
   "metadata": {},
   "source": [
    "### На основе одного значения"
   ]
  },
  {
   "cell_type": "code",
   "execution_count": null,
   "id": "03f78bdf",
   "metadata": {},
   "outputs": [],
   "source": [
    "pd.Series(1)"
   ]
  },
  {
   "cell_type": "code",
   "execution_count": null,
   "id": "9be89bca",
   "metadata": {},
   "outputs": [],
   "source": [
    "pd.Series('pandas')"
   ]
  },
  {
   "cell_type": "markdown",
   "id": "d23a79b5",
   "metadata": {},
   "source": [
    "### На основе списка"
   ]
  },
  {
   "cell_type": "code",
   "execution_count": null,
   "id": "627fa814",
   "metadata": {},
   "outputs": [],
   "source": [
    "['Аня', 'Маша', 'Вася', 'Катя', 'Аня']"
   ]
  },
  {
   "cell_type": "code",
   "execution_count": null,
   "id": "3718455d",
   "metadata": {},
   "outputs": [],
   "source": [
    "pd.Series(['Аня', 'Маша', 'Вася', 'Катя', 'Аня']).value_counts()"
   ]
  },
  {
   "cell_type": "markdown",
   "id": "88c6768c",
   "metadata": {},
   "source": [
    "## Создание датафреймов"
   ]
  },
  {
   "cell_type": "markdown",
   "id": "9e9cc6c1",
   "metadata": {},
   "source": [
    "### На основе словаря"
   ]
  },
  {
   "cell_type": "code",
   "execution_count": null,
   "id": "8e77514b",
   "metadata": {},
   "outputs": [],
   "source": [
    "people_dict = {\n",
    "    'Имя': ['Екатерина', 'Евгений', 'Андрей', 'Виктория', 'Анастасия', 'Данил'],\n",
    "    'Фамилия': [pd.NA, 'Бубликов', 'Васильев', 'Леонова', 'Долгова',\n",
    "                'Новиков'],\n",
    "    'Дата рождения': pd.to_datetime(['1992-06-25', '1995-09-09', '2000-02-29',\n",
    "                                     '1999-06-15', '2003-04-06', '1995-06-03']),\n",
    "    'Количество детей': 0,\n",
    "    'Дата увольнения': pd.Timestamp('12-06-2023')\n",
    "}"
   ]
  },
  {
   "cell_type": "code",
   "execution_count": null,
   "id": "76de5558",
   "metadata": {},
   "outputs": [],
   "source": [
    "pd.DataFrame(people_dict)"
   ]
  },
  {
   "cell_type": "markdown",
   "id": "27dd1cae",
   "metadata": {},
   "source": [
    "#### Проверка длинны объектов"
   ]
  },
  {
   "cell_type": "code",
   "execution_count": null,
   "id": "0c84bf6f",
   "metadata": {},
   "outputs": [],
   "source": [
    "len(['Екатерина', 'Евгений', 'Андрей', 'Виктория', 'Анастасия', 'Данил'])"
   ]
  },
  {
   "cell_type": "markdown",
   "id": "671aaff7",
   "metadata": {},
   "source": [
    "#### Функция len у датафреймов считает количество строк"
   ]
  },
  {
   "cell_type": "code",
   "execution_count": null,
   "id": "0db06dbc",
   "metadata": {},
   "outputs": [],
   "source": [
    "len(pd.DataFrame(people_dict))"
   ]
  },
  {
   "cell_type": "markdown",
   "id": "286443f7",
   "metadata": {},
   "source": [
    "#### shape\n",
    "\n",
    "Возвращает кортеж, первое значение в кортеже - количество строк, а второе - количество столбцов"
   ]
  },
  {
   "cell_type": "code",
   "execution_count": null,
   "id": "5e7c113b",
   "metadata": {},
   "outputs": [],
   "source": [
    "pd.DataFrame(people_dict).shape"
   ]
  },
  {
   "cell_type": "markdown",
   "id": "78bedbde",
   "metadata": {},
   "source": [
    "## Функции для создания периодических чисел или дат"
   ]
  },
  {
   "cell_type": "markdown",
   "id": "a9e0ba88",
   "metadata": {},
   "source": [
    "### np.arange\n",
    "\n",
    "Генерирует целые числа\n",
    "\n",
    "#### Синтаксис\n",
    "\n",
    "1. np.arange(первое число в массиве, последнее число в массиве невключительно, шаг (по умолчанию равен 1))\n",
    "2. np.arange(последнее число в массиве невключительно)"
   ]
  },
  {
   "cell_type": "code",
   "execution_count": null,
   "id": "d5f41c44",
   "metadata": {},
   "outputs": [],
   "source": [
    "np.arange(2, 10, 2)"
   ]
  },
  {
   "cell_type": "code",
   "execution_count": null,
   "id": "33d668bf",
   "metadata": {},
   "outputs": [],
   "source": [
    "np.arange(-100, 80, 1.5)"
   ]
  },
  {
   "cell_type": "code",
   "execution_count": null,
   "id": "7b48355c",
   "metadata": {},
   "outputs": [],
   "source": [
    "np.arange(100, 0, -1)"
   ]
  },
  {
   "cell_type": "markdown",
   "id": "07bd60ab",
   "metadata": {},
   "source": [
    "### np.linspace\n",
    "\n",
    "Делит отрезок на равные части\n",
    "\n",
    "#### Синтаксис:\n",
    "\n",
    "np.linspace(нначало отрезка, конц отрезка, число точек на отрезке)"
   ]
  },
  {
   "cell_type": "code",
   "execution_count": null,
   "id": "91e9378c",
   "metadata": {},
   "outputs": [],
   "source": [
    "np.linspace(0, 10, 11)"
   ]
  },
  {
   "cell_type": "code",
   "execution_count": null,
   "id": "003578eb",
   "metadata": {},
   "outputs": [],
   "source": [
    "np.linspace(5, 6, 8)"
   ]
  },
  {
   "cell_type": "markdown",
   "id": "3826e2b5",
   "metadata": {},
   "source": [
    "### pd.date_range(start, end, periods, freq)\n",
    "\n",
    "__start__ - начало периода генерации дат\n",
    "\n",
    "__end__ - конец периода генерации дат\n",
    "\n",
    "__periods__ - количество дат для генерации\n",
    "\n",
    "__freq__ - период, с которым даты будут генерироваться"
   ]
  },
  {
   "cell_type": "code",
   "execution_count": null,
   "id": "ea937b0d",
   "metadata": {},
   "outputs": [],
   "source": [
    "pd.date_range('2020-09-06', '2023-05-18', periods=15).normalize()"
   ]
  },
  {
   "cell_type": "code",
   "execution_count": null,
   "id": "47aaa851",
   "metadata": {},
   "outputs": [],
   "source": [
    "pd.date_range('2020-09-06 15:00', '2023-05-18', freq='2d 6h')"
   ]
  },
  {
   "cell_type": "code",
   "execution_count": null,
   "id": "e3b035c4",
   "metadata": {},
   "outputs": [],
   "source": [
    "pd.date_range('2020-08-06 15:00', '2023-05-18', freq='MS').shift(5, 'd')"
   ]
  },
  {
   "cell_type": "code",
   "execution_count": null,
   "id": "6b14feb2",
   "metadata": {},
   "outputs": [],
   "source": [
    "(pd.date_range('2020-08-06 15:00', '2023-05-18', freq='Y')\n",
    "    .shift(5, 'M')\n",
    "    .shift(-2, 'h')\n",
    ")"
   ]
  },
  {
   "cell_type": "code",
   "execution_count": null,
   "id": "521ed41c",
   "metadata": {},
   "outputs": [],
   "source": [
    "pd.date_range('2020-08-06 15:00', '2023-05-18', freq='min')"
   ]
  },
  {
   "cell_type": "markdown",
   "id": "c7398501",
   "metadata": {},
   "source": [
    "### Список всех сокращений (регистр их записи не важен)"
   ]
  },
  {
   "cell_type": "markdown",
   "id": "379ded81",
   "metadata": {},
   "source": [
    "| Сокращение   | Расшифровка                              | Сокращение   | Расшифровка                    |\n",
    "|:-------------|:-----------------------------------------|:-------------|:-------------------------------|\n",
    "| B            | Последний рабочий день в неделе          | QS           | Начало квартала                |\n",
    "| C            | Пользовательский последний день в неделе | BQS          | Первый рабочий день квартала   |\n",
    "| D            | День                                     | A, Y         | Конец года                     |\n",
    "| W            | Неделя                                   | BA, BY       | Последний рабочий день в году  |\n",
    "| M            | Конец месяца                             | AS, YS       | Начало года                    |\n",
    "| SM           | 15 число месяца                          | BAS, BYS     | Первый рабочий день в году     |\n",
    "| BM           | Последний рабочий день в месяце          | BH           | Рабочий час (от 9:00 до 17:00) |\n",
    "| CBM          | Пользовательский конец месяца            | H            | Час                            |\n",
    "| MS           | Первое число месяца                      | T, min       | Минута                         |\n",
    "| SMS          | 1 и 15 число месяца                      | S            | Секунда                        |\n",
    "| BMS          | Первый рабочий день месяца               | L, ms        | Миллисекунда                   |\n",
    "| CBMS         | Пользовательский первый день месяца      | U, us        | Микросекунда                   |\n",
    "| Q            | Конец квартала                           | N            | Наносекунда                    |\n",
    "| BQ           | Последний рабочий день квартала          | nan          | nan                            |"
   ]
  },
  {
   "cell_type": "code",
   "execution_count": null,
   "id": "44e1b277",
   "metadata": {},
   "outputs": [],
   "source": [
    "pd.date_range('2020-09-06', '2023-05-18', periods=15).normalize()"
   ]
  },
  {
   "cell_type": "code",
   "execution_count": null,
   "id": "ceefc3c3",
   "metadata": {},
   "outputs": [],
   "source": [
    "pd.date_range('2020-09-06 15:00', '2023-05-18', freq='4d 7h')"
   ]
  },
  {
   "cell_type": "code",
   "execution_count": null,
   "id": "16ef9249",
   "metadata": {},
   "outputs": [],
   "source": [
    "(pd.date_range('2020-08-06 15:00', periods=15, freq='MS')\n",
    "    .shift(5, 'd')\n",
    "    .shift(8, 'min')\n",
    ")"
   ]
  },
  {
   "cell_type": "code",
   "execution_count": null,
   "id": "32e1139e",
   "metadata": {},
   "outputs": [],
   "source": []
  },
  {
   "cell_type": "code",
   "execution_count": null,
   "id": "e568bca9",
   "metadata": {},
   "outputs": [],
   "source": []
  },
  {
   "cell_type": "code",
   "execution_count": null,
   "id": "1224ded1",
   "metadata": {},
   "outputs": [],
   "source": []
  },
  {
   "cell_type": "code",
   "execution_count": null,
   "id": "ac5bbbcf",
   "metadata": {},
   "outputs": [],
   "source": []
  },
  {
   "cell_type": "code",
   "execution_count": null,
   "id": "3abf44fe",
   "metadata": {},
   "outputs": [],
   "source": []
  },
  {
   "cell_type": "code",
   "execution_count": null,
   "id": "0a5eff6b",
   "metadata": {},
   "outputs": [],
   "source": []
  },
  {
   "cell_type": "code",
   "execution_count": null,
   "id": "9dfeb9ce",
   "metadata": {},
   "outputs": [],
   "source": []
  },
  {
   "cell_type": "code",
   "execution_count": null,
   "id": "733ff78c",
   "metadata": {},
   "outputs": [],
   "source": []
  },
  {
   "cell_type": "code",
   "execution_count": null,
   "id": "4edb435f",
   "metadata": {},
   "outputs": [],
   "source": []
  },
  {
   "cell_type": "code",
   "execution_count": null,
   "id": "c793f276",
   "metadata": {},
   "outputs": [],
   "source": []
  },
  {
   "cell_type": "markdown",
   "id": "6d850000",
   "metadata": {},
   "source": [
    "# Задания"
   ]
  },
  {
   "cell_type": "markdown",
   "id": "c140f3d5",
   "metadata": {},
   "source": [
    "#### Описание таблиц лежит [здесь](https://github.com/victorlymarev/pandas/tree/main/tables#%D0%BE%D0%BF%D0%B8%D1%81%D0%B0%D0%BD%D0%B8%D0%B5-%D1%82%D0%B0%D0%B1%D0%BB%D0%B8%D1%86)"
   ]
  },
  {
   "cell_type": "markdown",
   "id": "d191750b",
   "metadata": {},
   "source": [
    "Некоторые таблицы занимают много памяти, поэтому каждые 5-10 заданий лучше перезапускайте ноутбук.\n",
    "\n",
    "В формулировке некоторых заданий может содержаться вариативность. Если у вас есть сомнения, что требуется в задании, попробуйте решить несколько вариантов. Если вы не понимаете задание, можете написать об этом в комментариях под видео.\n",
    "\n",
    "В большинстве случаев внешний вид итоговой таблицы не определен. Выведите на экран наиболее адекватный вариант. То есть таблицу, из которой можно будет сделать выводы.\n",
    "\n",
    "Курс пока находится в разработке. Вы можете помочь другим людям добавив свое решение [сюда](https://docs.google.com/forms/d/1HYTBz_KfssY3Jps2dC3n0YnEqa6WBb5OIhLo1d32Xzw/edit).\n",
    "\n",
    "Посмотреть решения других людей можно [здесь](https://docs.google.com/spreadsheets/d/1pMDYO-9UneLbPPnEuQ2shig0TOJdQTU-zipifyAnZMk/edit?resourcekey#gid=1998648012)"
   ]
  },
  {
   "cell_type": "markdown",
   "id": "775f3a9c",
   "metadata": {},
   "source": [
    "### Задание 1\n",
    "Создайте объект Series, в котором будут лежать последовательно имена Аня, Наташа, Таня, Оля, Настя"
   ]
  },
  {
   "cell_type": "code",
   "execution_count": null,
   "id": "39ab7371",
   "metadata": {},
   "outputs": [],
   "source": [
    "import pandas as pd\n",
    "\n",
    "# напишите свой код здесь"
   ]
  },
  {
   "cell_type": "markdown",
   "id": "b8dac001",
   "metadata": {},
   "source": [
    "### Задание 2\n",
    "Создавать объекты Series можно на основе словарей. В этом случае ключ пойдет в индекс, а значение в тело колонки."
   ]
  },
  {
   "cell_type": "code",
   "execution_count": null,
   "id": "d93996fb",
   "metadata": {},
   "outputs": [],
   "source": [
    "import pandas as pd\n",
    "\n",
    "height = {'Кирилл': 178, 'Андрей': 189, 'Тимур': 159, 'Ярослав': 190}\n",
    "pd.Series(height)"
   ]
  },
  {
   "cell_type": "markdown",
   "id": "c020f3cb",
   "metadata": {},
   "source": [
    "Создайте на основе словаря объект Series. В индексе словаря пусть лежат имена Никита, Артур, Паша, а в значениях колонки номера телефонов 123456, 654321, 123321. "
   ]
  },
  {
   "cell_type": "code",
   "execution_count": null,
   "id": "ed6c1b05",
   "metadata": {},
   "outputs": [],
   "source": [
    "# напишите свой код здесь"
   ]
  },
  {
   "cell_type": "markdown",
   "id": "15d6798d",
   "metadata": {},
   "source": [
    "### Задание 3\n",
    "Создайте таблицу, состоящую из двух колонок. В перовой колонке должны быть имена Саша, Маша, Лера, Руслан. Во второй колонке пусть лежат фамилии Сидоров, Петрова, Иванова, Уткин"
   ]
  },
  {
   "cell_type": "code",
   "execution_count": null,
   "id": "71beca3d",
   "metadata": {},
   "outputs": [],
   "source": [
    "import pandas as pd\n",
    "\n",
    "# напишите свой код здесь"
   ]
  },
  {
   "cell_type": "markdown",
   "id": "a7d7e444",
   "metadata": {},
   "source": [
    "### Задание 4\n",
    "\n",
    "В таблице marks_6d лежат оценки школьников в классе 6Д. Какое количество школьников в классе?"
   ]
  },
  {
   "cell_type": "code",
   "execution_count": null,
   "id": "551f1751",
   "metadata": {},
   "outputs": [],
   "source": [
    "import os\n",
    "import pandas as pd\n",
    "path_marks_6d = '../tables/оценки 6Д.csv' if os.path.exists('../tables/оценки 6Д.csv') else 'https://drive.google.com/uc?id=1aMvwur2zrISbVPRo86qWgbHPEpw5km0n'\n",
    "marks_6d = pd.read_csv(path_marks_6d)\n",
    "marks_6d"
   ]
  },
  {
   "cell_type": "code",
   "execution_count": null,
   "id": "09acc402",
   "metadata": {},
   "outputs": [],
   "source": [
    "# напишите свой код здесь"
   ]
  },
  {
   "cell_type": "markdown",
   "id": "47cda5d4",
   "metadata": {},
   "source": [
    "### Задание 5\n",
    "\n",
    "Создайте набор точек от 1 до 150 с интервалом 2"
   ]
  },
  {
   "cell_type": "code",
   "execution_count": null,
   "id": "292872cc",
   "metadata": {},
   "outputs": [],
   "source": [
    "import numpy as np\n",
    "\n",
    "# напишите свой код здесь"
   ]
  },
  {
   "cell_type": "markdown",
   "id": "c1e61f03",
   "metadata": {},
   "source": [
    "### Задание 6\n",
    "\n",
    "Создайте набор точек от 0 до 15 включительно с интервалом 1.5"
   ]
  },
  {
   "cell_type": "code",
   "execution_count": null,
   "id": "31404e2c",
   "metadata": {},
   "outputs": [],
   "source": [
    "import numpy as np\n",
    "\n",
    "# напишите свой код здесь"
   ]
  },
  {
   "cell_type": "markdown",
   "id": "0b82070a",
   "metadata": {},
   "source": [
    "### Задание 7\n",
    "\n",
    "На отрезке от 100 до 150 создайте 80 равноудаленных друг от друга точек"
   ]
  },
  {
   "cell_type": "code",
   "execution_count": null,
   "id": "f4df36f8",
   "metadata": {},
   "outputs": [],
   "source": [
    "import numpy as np\n",
    "\n",
    "# напишите свой код здесь"
   ]
  },
  {
   "cell_type": "markdown",
   "id": "79779925",
   "metadata": {},
   "source": [
    "### Задание 8\n",
    "\n",
    "Создайте набор дат с 18 марта 1999 года до 28 февраля 2021 года с частотой в 1 день"
   ]
  },
  {
   "cell_type": "code",
   "execution_count": null,
   "id": "a61db304",
   "metadata": {},
   "outputs": [],
   "source": [
    "import pandas as pd\n",
    "\n",
    "# напишите свой код здесь"
   ]
  },
  {
   "cell_type": "markdown",
   "id": "fc311260",
   "metadata": {},
   "source": [
    "### Задание 9\n",
    "\n",
    "Создайте набор дат с даты вашего рождения и до сегодняшнего дня с частотой в 1 день. При помощи функции len посчитайте длинну массива"
   ]
  },
  {
   "cell_type": "code",
   "execution_count": null,
   "id": "cb7e3131",
   "metadata": {},
   "outputs": [],
   "source": [
    "import pandas as pd\n",
    "\n",
    "# напишите свой код здесь"
   ]
  },
  {
   "cell_type": "markdown",
   "id": "9cd997e0",
   "metadata": {},
   "source": [
    "### Задание 10\n",
    "\n",
    "Создайте набор дат с 18 марта 2009 года до 28 февраля 2021 года с частотой в 4 дня 19 часов"
   ]
  },
  {
   "cell_type": "code",
   "execution_count": null,
   "id": "2e12bc34",
   "metadata": {},
   "outputs": [],
   "source": [
    "import pandas as pd\n",
    "\n",
    "# напишите свой код здесь"
   ]
  },
  {
   "cell_type": "markdown",
   "id": "c0adca97",
   "metadata": {},
   "source": [
    "### Задание 11\n",
    "\n",
    "Создайте набор дат с 18 марта 2009 года до 18 февраля 2021 года с частотой в 1 месяц"
   ]
  },
  {
   "cell_type": "code",
   "execution_count": null,
   "id": "249cfdea",
   "metadata": {},
   "outputs": [],
   "source": [
    "import pandas as pd\n",
    "\n",
    "# напишите свой код здесь"
   ]
  },
  {
   "cell_type": "markdown",
   "id": "5b0b76c2",
   "metadata": {},
   "source": [
    "### Задание 12\n",
    "\n",
    "Создайте 8 дат с частотой в 3 часа начиная от 9 часов утра 21 декабря 1999 года"
   ]
  },
  {
   "cell_type": "code",
   "execution_count": null,
   "id": "d59067a5",
   "metadata": {},
   "outputs": [],
   "source": [
    "import pandas as pd\n",
    "\n",
    "# напишите свой код здесь"
   ]
  },
  {
   "cell_type": "code",
   "execution_count": null,
   "id": "57045574",
   "metadata": {},
   "outputs": [],
   "source": []
  },
  {
   "cell_type": "code",
   "execution_count": null,
   "id": "f1f12052",
   "metadata": {},
   "outputs": [],
   "source": []
  }
 ],
 "metadata": {
  "kernelspec": {
   "display_name": "Python 3 (ipykernel)",
   "language": "python",
   "name": "python3"
  },
  "language_info": {
   "codemirror_mode": {
    "name": "ipython",
    "version": 3
   },
   "file_extension": ".py",
   "mimetype": "text/x-python",
   "name": "python",
   "nbconvert_exporter": "python",
   "pygments_lexer": "ipython3",
   "version": "3.11.5"
  }
 },
 "nbformat": 4,
 "nbformat_minor": 5
}
