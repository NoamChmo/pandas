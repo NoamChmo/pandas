{
 "cells": [
  {
   "cell_type": "markdown",
   "id": "e914baf4",
   "metadata": {},
   "source": [
    "<a target=\"_blank\" href=\"https://colab.research.google.com/github/victorlymarev/pandas/blob/main/notebooks/03-create-tables.ipynb\">\n",
    "  <img src=\"https://colab.research.google.com/assets/colab-badge.svg\" alt=\"Open In Colab\"/>\n",
    "</a>"
   ]
  },
  {
   "cell_type": "markdown",
   "id": "b32b0900",
   "metadata": {},
   "source": [
    "# Создание таблиц\n",
    "#### [Ссылка на видео](https://youtu.be/B02VfvdXJfA)"
   ]
  },
  {
   "cell_type": "code",
   "execution_count": 3,
   "id": "4066d9bf",
   "metadata": {},
   "outputs": [],
   "source": [
    "import pandas as pd\n",
    "import numpy as np"
   ]
  },
  {
   "cell_type": "markdown",
   "id": "350404e4",
   "metadata": {},
   "source": [
    "## Создание объекта Series"
   ]
  },
  {
   "cell_type": "markdown",
   "id": "a5bf8d73",
   "metadata": {},
   "source": [
    "### На основе одного значения"
   ]
  },
  {
   "cell_type": "code",
   "execution_count": 4,
   "id": "9c2c9f77",
   "metadata": {},
   "outputs": [
    {
     "data": {
      "text/plain": [
       "0    1\n",
       "dtype: int64"
      ]
     },
     "execution_count": 4,
     "metadata": {},
     "output_type": "execute_result"
    }
   ],
   "source": [
    "pd.Series(1)"
   ]
  },
  {
   "cell_type": "code",
   "execution_count": 5,
   "id": "1d198dce",
   "metadata": {},
   "outputs": [
    {
     "data": {
      "text/plain": [
       "0    pandas\n",
       "dtype: object"
      ]
     },
     "execution_count": 5,
     "metadata": {},
     "output_type": "execute_result"
    }
   ],
   "source": [
    "pd.Series('pandas')"
   ]
  },
  {
   "cell_type": "markdown",
   "id": "139b509c",
   "metadata": {},
   "source": [
    "### На основе списка"
   ]
  },
  {
   "cell_type": "code",
   "execution_count": 6,
   "id": "957e05b9",
   "metadata": {},
   "outputs": [
    {
     "data": {
      "text/plain": [
       "['Аня', 'Маша', 'Вася', 'Катя', 'Аня']"
      ]
     },
     "execution_count": 6,
     "metadata": {},
     "output_type": "execute_result"
    }
   ],
   "source": [
    "['Аня', 'Маша', 'Вася', 'Катя', 'Аня']"
   ]
  },
  {
   "cell_type": "code",
   "execution_count": 7,
   "id": "da632c9c",
   "metadata": {},
   "outputs": [
    {
     "data": {
      "text/plain": [
       "0     Аня\n",
       "1    Маша\n",
       "2    Вася\n",
       "3    Катя\n",
       "4     Аня\n",
       "dtype: object"
      ]
     },
     "execution_count": 7,
     "metadata": {},
     "output_type": "execute_result"
    }
   ],
   "source": [
    "pd.Series(['Аня', 'Маша', 'Вася', 'Катя', 'Аня'])"
   ]
  },
  {
   "cell_type": "code",
   "execution_count": 8,
   "id": "430bc5bd",
   "metadata": {},
   "outputs": [
    {
     "data": {
      "text/plain": [
       "Аня     2\n",
       "Маша    1\n",
       "Вася    1\n",
       "Катя    1\n",
       "Name: count, dtype: int64"
      ]
     },
     "execution_count": 8,
     "metadata": {},
     "output_type": "execute_result"
    }
   ],
   "source": [
    "pd.Series(['Аня', 'Маша', 'Вася', 'Катя', 'Аня']).value_counts()"
   ]
  },
  {
   "cell_type": "markdown",
   "id": "27b28768",
   "metadata": {},
   "source": [
    "### На основе словаря"
   ]
  },
  {
   "cell_type": "code",
   "execution_count": 9,
   "id": "e48b3c9b",
   "metadata": {},
   "outputs": [
    {
     "data": {
      "text/plain": [
       "3      Катя\n",
       "9     Света\n",
       "34     Паша\n",
       "dtype: object"
      ]
     },
     "execution_count": 9,
     "metadata": {},
     "output_type": "execute_result"
    }
   ],
   "source": [
    "pd.Series({3:\"Катя\", 9:\"Света\", 34: \"Паша\"})"
   ]
  },
  {
   "cell_type": "markdown",
   "id": "ea63b0fd",
   "metadata": {},
   "source": [
    "## Создание датафреймов"
   ]
  },
  {
   "cell_type": "markdown",
   "id": "25a7f57b",
   "metadata": {},
   "source": [
    "### На основе словаря"
   ]
  },
  {
   "cell_type": "code",
   "execution_count": 11,
   "id": "62b05f15",
   "metadata": {},
   "outputs": [],
   "source": [
    "people_dict = {\n",
    "    'Имя': ['Екатерина', 'Евгений', 'Андрей', 'Виктория', 'Анастасия', 'Данил'],\n",
    "    \n",
    "    'Фамилия': [pd.NA, 'Бубликов', 'Васильев', 'Леонова', 'Долгова',\n",
    "                'Новиков'],\n",
    "    \n",
    "    'Дата рождения': pd.to_datetime(['1992-06-25', '1995-09-09', '2000-02-29',\n",
    "                                     '1999-06-15', '2003-04-06', '1995-06-03']),\n",
    "    \n",
    "    'Количество детей': 0,\n",
    "    \n",
    "    'Дата увольнения': pd.Timestamp('12-06-2023')\n",
    "}"
   ]
  },
  {
   "cell_type": "code",
   "execution_count": 12,
   "id": "a79a6545",
   "metadata": {},
   "outputs": [
    {
     "data": {
      "text/html": [
       "<div>\n",
       "<style scoped>\n",
       "    .dataframe tbody tr th:only-of-type {\n",
       "        vertical-align: middle;\n",
       "    }\n",
       "\n",
       "    .dataframe tbody tr th {\n",
       "        vertical-align: top;\n",
       "    }\n",
       "\n",
       "    .dataframe thead th {\n",
       "        text-align: right;\n",
       "    }\n",
       "</style>\n",
       "<table border=\"1\" class=\"dataframe\">\n",
       "  <thead>\n",
       "    <tr style=\"text-align: right;\">\n",
       "      <th></th>\n",
       "      <th>Имя</th>\n",
       "      <th>Фамилия</th>\n",
       "      <th>Дата рождения</th>\n",
       "      <th>Количество детей</th>\n",
       "      <th>Дата увольнения</th>\n",
       "    </tr>\n",
       "  </thead>\n",
       "  <tbody>\n",
       "    <tr>\n",
       "      <th>0</th>\n",
       "      <td>Екатерина</td>\n",
       "      <td>&lt;NA&gt;</td>\n",
       "      <td>1992-06-25</td>\n",
       "      <td>0</td>\n",
       "      <td>2023-12-06</td>\n",
       "    </tr>\n",
       "    <tr>\n",
       "      <th>1</th>\n",
       "      <td>Евгений</td>\n",
       "      <td>Бубликов</td>\n",
       "      <td>1995-09-09</td>\n",
       "      <td>0</td>\n",
       "      <td>2023-12-06</td>\n",
       "    </tr>\n",
       "    <tr>\n",
       "      <th>2</th>\n",
       "      <td>Андрей</td>\n",
       "      <td>Васильев</td>\n",
       "      <td>2000-02-29</td>\n",
       "      <td>0</td>\n",
       "      <td>2023-12-06</td>\n",
       "    </tr>\n",
       "    <tr>\n",
       "      <th>3</th>\n",
       "      <td>Виктория</td>\n",
       "      <td>Леонова</td>\n",
       "      <td>1999-06-15</td>\n",
       "      <td>0</td>\n",
       "      <td>2023-12-06</td>\n",
       "    </tr>\n",
       "    <tr>\n",
       "      <th>4</th>\n",
       "      <td>Анастасия</td>\n",
       "      <td>Долгова</td>\n",
       "      <td>2003-04-06</td>\n",
       "      <td>0</td>\n",
       "      <td>2023-12-06</td>\n",
       "    </tr>\n",
       "    <tr>\n",
       "      <th>5</th>\n",
       "      <td>Данил</td>\n",
       "      <td>Новиков</td>\n",
       "      <td>1995-06-03</td>\n",
       "      <td>0</td>\n",
       "      <td>2023-12-06</td>\n",
       "    </tr>\n",
       "  </tbody>\n",
       "</table>\n",
       "</div>"
      ],
      "text/plain": [
       "         Имя   Фамилия Дата рождения  Количество детей Дата увольнения\n",
       "0  Екатерина      <NA>    1992-06-25                 0      2023-12-06\n",
       "1    Евгений  Бубликов    1995-09-09                 0      2023-12-06\n",
       "2     Андрей  Васильев    2000-02-29                 0      2023-12-06\n",
       "3   Виктория   Леонова    1999-06-15                 0      2023-12-06\n",
       "4  Анастасия   Долгова    2003-04-06                 0      2023-12-06\n",
       "5      Данил   Новиков    1995-06-03                 0      2023-12-06"
      ]
     },
     "execution_count": 12,
     "metadata": {},
     "output_type": "execute_result"
    }
   ],
   "source": [
    "pd.DataFrame(people_dict)"
   ]
  },
  {
   "cell_type": "markdown",
   "id": "7fcc33d4",
   "metadata": {},
   "source": [
    "## Функции для создания периодических чисел или дат"
   ]
  },
  {
   "cell_type": "markdown",
   "id": "87ac7cfe",
   "metadata": {},
   "source": [
    "### np.arange\n",
    "\n",
    "Генерирует целые числа\n",
    "\n",
    "#### Синтаксис\n",
    "\n",
    "1. np.arange(первое число в массиве, последнее число в массиве невключительно, шаг (по умолчанию равен 1))\n",
    "2. np.arange(последнее число в массиве невключительно)"
   ]
  },
  {
   "cell_type": "code",
   "execution_count": 13,
   "id": "d3977680",
   "metadata": {},
   "outputs": [
    {
     "data": {
      "text/plain": [
       "array([0, 1, 2, 3, 4])"
      ]
     },
     "execution_count": 13,
     "metadata": {},
     "output_type": "execute_result"
    }
   ],
   "source": [
    "np.arange(5)"
   ]
  },
  {
   "cell_type": "code",
   "execution_count": 14,
   "id": "e8b41d2f",
   "metadata": {},
   "outputs": [
    {
     "data": {
      "text/plain": [
       "array([2, 3, 4])"
      ]
     },
     "execution_count": 14,
     "metadata": {},
     "output_type": "execute_result"
    }
   ],
   "source": [
    "np.arange(2, 5)"
   ]
  },
  {
   "cell_type": "code",
   "execution_count": 15,
   "id": "7eb9fdb2",
   "metadata": {},
   "outputs": [
    {
     "data": {
      "text/plain": [
       "array([2, 4, 6, 8])"
      ]
     },
     "execution_count": 15,
     "metadata": {},
     "output_type": "execute_result"
    }
   ],
   "source": [
    "np.arange(2, 10, 2)"
   ]
  },
  {
   "cell_type": "code",
   "execution_count": 16,
   "id": "4449fd71",
   "metadata": {},
   "outputs": [
    {
     "data": {
      "text/plain": [
       "array([-50. , -48.5, -47. , -45.5, -44. , -42.5, -41. , -39.5, -38. ,\n",
       "       -36.5, -35. , -33.5, -32. , -30.5, -29. , -27.5, -26. , -24.5,\n",
       "       -23. , -21.5, -20. , -18.5, -17. , -15.5, -14. , -12.5, -11. ,\n",
       "        -9.5,  -8. ,  -6.5,  -5. ,  -3.5,  -2. ,  -0.5,   1. ,   2.5,\n",
       "         4. ,   5.5,   7. ,   8.5])"
      ]
     },
     "execution_count": 16,
     "metadata": {},
     "output_type": "execute_result"
    }
   ],
   "source": [
    "np.arange(-50, 10, 1.5)"
   ]
  },
  {
   "cell_type": "code",
   "execution_count": 17,
   "id": "746f4124",
   "metadata": {},
   "outputs": [
    {
     "data": {
      "text/plain": [
       "array([100,  99,  98,  97,  96,  95,  94,  93,  92,  91,  90,  89,  88,\n",
       "        87,  86,  85,  84,  83,  82,  81,  80,  79,  78,  77,  76,  75,\n",
       "        74,  73,  72,  71,  70,  69,  68,  67,  66,  65,  64,  63,  62,\n",
       "        61,  60,  59,  58,  57,  56,  55,  54,  53,  52,  51,  50,  49,\n",
       "        48,  47,  46,  45,  44,  43,  42,  41,  40,  39,  38,  37,  36,\n",
       "        35,  34,  33,  32,  31,  30,  29,  28,  27,  26,  25,  24,  23,\n",
       "        22,  21,  20,  19,  18,  17,  16,  15,  14,  13,  12,  11,  10,\n",
       "         9,   8,   7,   6,   5,   4,   3,   2,   1])"
      ]
     },
     "execution_count": 17,
     "metadata": {},
     "output_type": "execute_result"
    }
   ],
   "source": [
    "np.arange(100, 0, -1)"
   ]
  },
  {
   "cell_type": "markdown",
   "id": "6115ecc4",
   "metadata": {},
   "source": [
    "### np.linspace\n",
    "\n",
    "Делит отрезок на равные части\n",
    "\n",
    "#### Синтаксис:\n",
    "\n",
    "np.linspace(нначало отрезка, конц отрезка, число точек на отрезке)"
   ]
  },
  {
   "cell_type": "code",
   "execution_count": 18,
   "id": "9fab9dfa",
   "metadata": {},
   "outputs": [
    {
     "data": {
      "text/plain": [
       "array([ 0.,  1.,  2.,  3.,  4.,  5.,  6.,  7.,  8.,  9., 10.])"
      ]
     },
     "execution_count": 18,
     "metadata": {},
     "output_type": "execute_result"
    }
   ],
   "source": [
    "np.linspace(0, 10, 11)"
   ]
  },
  {
   "cell_type": "code",
   "execution_count": 19,
   "id": "e6c656e9",
   "metadata": {},
   "outputs": [
    {
     "data": {
      "text/plain": [
       "array([5.        , 5.14285714, 5.28571429, 5.42857143, 5.57142857,\n",
       "       5.71428571, 5.85714286, 6.        ])"
      ]
     },
     "execution_count": 19,
     "metadata": {},
     "output_type": "execute_result"
    }
   ],
   "source": [
    "np.linspace(5, 6, 8)"
   ]
  },
  {
   "cell_type": "code",
   "execution_count": null,
   "id": "01e11d88",
   "metadata": {},
   "outputs": [],
   "source": []
  },
  {
   "cell_type": "markdown",
   "id": "791db5e9",
   "metadata": {},
   "source": [
    "### pd.date_range(start, end, periods, freq)\n",
    "\n",
    "__start__ - начало периода генерации дат\n",
    "\n",
    "__end__ - конец периода генерации дат\n",
    "\n",
    "__periods__ - количество дат для генерации\n",
    "\n",
    "__freq__ - период, с которым даты будут генерироваться"
   ]
  },
  {
   "cell_type": "code",
   "execution_count": 20,
   "id": "7602d513",
   "metadata": {},
   "outputs": [
    {
     "data": {
      "text/plain": [
       "DatetimeIndex([          '2020-09-06 00:00:00',\n",
       "               '2020-11-15 06:51:25.714285714',\n",
       "               '2021-01-24 13:42:51.428571428',\n",
       "               '2021-04-04 20:34:17.142857144',\n",
       "               '2021-06-14 03:25:42.857142856',\n",
       "               '2021-08-23 10:17:08.571428568',\n",
       "               '2021-11-01 17:08:34.285714288',\n",
       "                         '2022-01-11 00:00:00',\n",
       "               '2022-03-22 06:51:25.714285712',\n",
       "               '2022-05-31 13:42:51.428571424',\n",
       "               '2022-08-09 20:34:17.142857136',\n",
       "               '2022-10-19 03:25:42.857142856',\n",
       "               '2022-12-28 10:17:08.571428576',\n",
       "               '2023-03-08 17:08:34.285714288',\n",
       "                         '2023-05-18 00:00:00'],\n",
       "              dtype='datetime64[ns]', freq=None)"
      ]
     },
     "execution_count": 20,
     "metadata": {},
     "output_type": "execute_result"
    }
   ],
   "source": [
    "pd.date_range('2020-09-06', '2023-05-18', periods=15)"
   ]
  },
  {
   "cell_type": "code",
   "execution_count": 21,
   "id": "1e10a22a",
   "metadata": {},
   "outputs": [
    {
     "data": {
      "text/plain": [
       "DatetimeIndex(['2020-09-06', '2020-11-15', '2021-01-24', '2021-04-04',\n",
       "               '2021-06-14', '2021-08-23', '2021-11-01', '2022-01-11',\n",
       "               '2022-03-22', '2022-05-31', '2022-08-09', '2022-10-19',\n",
       "               '2022-12-28', '2023-03-08', '2023-05-18'],\n",
       "              dtype='datetime64[ns]', freq=None)"
      ]
     },
     "execution_count": 21,
     "metadata": {},
     "output_type": "execute_result"
    }
   ],
   "source": [
    "pd.date_range('2020-09-06', '2023-05-18', periods=15).normalize()"
   ]
  },
  {
   "cell_type": "code",
   "execution_count": 22,
   "id": "7a1f8980",
   "metadata": {},
   "outputs": [
    {
     "data": {
      "text/plain": [
       "DatetimeIndex(['2020-09-06 15:00:00', '2020-09-08 21:00:00',\n",
       "               '2020-09-11 03:00:00', '2020-09-13 09:00:00',\n",
       "               '2020-09-15 15:00:00', '2020-09-17 21:00:00',\n",
       "               '2020-09-20 03:00:00', '2020-09-22 09:00:00',\n",
       "               '2020-09-24 15:00:00', '2020-09-26 21:00:00',\n",
       "               ...\n",
       "               '2023-04-27 15:00:00', '2023-04-29 21:00:00',\n",
       "               '2023-05-02 03:00:00', '2023-05-04 09:00:00',\n",
       "               '2023-05-06 15:00:00', '2023-05-08 21:00:00',\n",
       "               '2023-05-11 03:00:00', '2023-05-13 09:00:00',\n",
       "               '2023-05-15 15:00:00', '2023-05-17 21:00:00'],\n",
       "              dtype='datetime64[ns]', length=438, freq='54H')"
      ]
     },
     "execution_count": 22,
     "metadata": {},
     "output_type": "execute_result"
    }
   ],
   "source": [
    "pd.date_range('2020-09-06 15:00', '2023-05-18', freq='2d 6h')"
   ]
  },
  {
   "cell_type": "code",
   "execution_count": 23,
   "id": "ff73e995",
   "metadata": {},
   "outputs": [
    {
     "data": {
      "text/plain": [
       "DatetimeIndex(['2020-09-06 15:00:00', '2020-09-08 21:00:00',\n",
       "               '2020-09-11 03:00:00', '2020-09-13 09:00:00',\n",
       "               '2020-09-15 15:00:00', '2020-09-17 21:00:00',\n",
       "               '2020-09-20 03:00:00', '2020-09-22 09:00:00',\n",
       "               '2020-09-24 15:00:00', '2020-09-26 21:00:00',\n",
       "               '2020-09-29 03:00:00', '2020-10-01 09:00:00',\n",
       "               '2020-10-03 15:00:00', '2020-10-05 21:00:00',\n",
       "               '2020-10-08 03:00:00'],\n",
       "              dtype='datetime64[ns]', freq='54H')"
      ]
     },
     "execution_count": 23,
     "metadata": {},
     "output_type": "execute_result"
    }
   ],
   "source": [
    "pd.date_range('2020-09-06 15:00', freq='2d 6h', periods=15)"
   ]
  },
  {
   "cell_type": "code",
   "execution_count": null,
   "id": "d149fccf",
   "metadata": {},
   "outputs": [],
   "source": []
  },
  {
   "cell_type": "markdown",
   "id": "931290ab",
   "metadata": {},
   "source": [
    "### Список всех сокращений (регистр их записи не важен)"
   ]
  },
  {
   "cell_type": "markdown",
   "id": "ae0dd689",
   "metadata": {},
   "source": [
    "| Сокращение   | Расшифровка                              | Сокращение   | Расшифровка                    |\n",
    "|:-------------|:-----------------------------------------|:-------------|:-------------------------------|\n",
    "| B            | Последний рабочий день в неделе          | QS           | Начало квартала                |\n",
    "| C            | Пользовательский последний день в неделе | BQS          | Первый рабочий день квартала   |\n",
    "| D            | День                                     | A, Y         | Конец года                     |\n",
    "| W            | Неделя                                   | BA, BY       | Последний рабочий день в году  |\n",
    "| M            | Конец месяца                             | AS, YS       | Начало года                    |\n",
    "| SM           | 15 число месяца                          | BAS, BYS     | Первый рабочий день в году     |\n",
    "| BM           | Последний рабочий день в месяце          | BH           | Рабочий час (от 9:00 до 17:00) |\n",
    "| CBM          | Пользовательский конец месяца            | H            | Час                            |\n",
    "| MS           | Первое число месяца                      | T, min       | Минута                         |\n",
    "| SMS          | 1 и 15 число месяца                      | S            | Секунда                        |\n",
    "| BMS          | Первый рабочий день месяца               | L, ms        | Миллисекунда                   |\n",
    "| CBMS         | Пользовательский первый день месяца      | U, us        | Микросекунда                   |\n",
    "| Q            | Конец квартала                           | N            | Наносекунда                    |\n",
    "| BQ           | Последний рабочий день квартала          "
   ]
  },
  {
   "cell_type": "code",
   "execution_count": 24,
   "id": "aec5c6c0",
   "metadata": {},
   "outputs": [
    {
     "data": {
      "text/plain": [
       "DatetimeIndex(['2020-08-31 15:00:00', '2020-09-30 15:00:00',\n",
       "               '2020-10-31 15:00:00', '2020-11-30 15:00:00',\n",
       "               '2020-12-31 15:00:00', '2021-01-31 15:00:00',\n",
       "               '2021-02-28 15:00:00', '2021-03-31 15:00:00',\n",
       "               '2021-04-30 15:00:00', '2021-05-31 15:00:00',\n",
       "               '2021-06-30 15:00:00', '2021-07-31 15:00:00',\n",
       "               '2021-08-31 15:00:00', '2021-09-30 15:00:00',\n",
       "               '2021-10-31 15:00:00', '2021-11-30 15:00:00',\n",
       "               '2021-12-31 15:00:00', '2022-01-31 15:00:00',\n",
       "               '2022-02-28 15:00:00', '2022-03-31 15:00:00',\n",
       "               '2022-04-30 15:00:00', '2022-05-31 15:00:00',\n",
       "               '2022-06-30 15:00:00', '2022-07-31 15:00:00',\n",
       "               '2022-08-31 15:00:00', '2022-09-30 15:00:00',\n",
       "               '2022-10-31 15:00:00', '2022-11-30 15:00:00',\n",
       "               '2022-12-31 15:00:00', '2023-01-31 15:00:00',\n",
       "               '2023-02-28 15:00:00', '2023-03-31 15:00:00',\n",
       "               '2023-04-30 15:00:00'],\n",
       "              dtype='datetime64[ns]', freq='M')"
      ]
     },
     "execution_count": 24,
     "metadata": {},
     "output_type": "execute_result"
    }
   ],
   "source": [
    "pd.date_range('2020-08-06 15:00', '2023-05-18', freq='M')"
   ]
  },
  {
   "cell_type": "code",
   "execution_count": 25,
   "id": "76d247d9",
   "metadata": {},
   "outputs": [
    {
     "data": {
      "text/plain": [
       "DatetimeIndex(['2020-09-01 15:00:00', '2020-10-01 15:00:00',\n",
       "               '2020-11-01 15:00:00', '2020-12-01 15:00:00',\n",
       "               '2021-01-01 15:00:00', '2021-02-01 15:00:00',\n",
       "               '2021-03-01 15:00:00', '2021-04-01 15:00:00',\n",
       "               '2021-05-01 15:00:00', '2021-06-01 15:00:00',\n",
       "               '2021-07-01 15:00:00', '2021-08-01 15:00:00',\n",
       "               '2021-09-01 15:00:00', '2021-10-01 15:00:00',\n",
       "               '2021-11-01 15:00:00', '2021-12-01 15:00:00',\n",
       "               '2022-01-01 15:00:00', '2022-02-01 15:00:00',\n",
       "               '2022-03-01 15:00:00', '2022-04-01 15:00:00',\n",
       "               '2022-05-01 15:00:00', '2022-06-01 15:00:00',\n",
       "               '2022-07-01 15:00:00', '2022-08-01 15:00:00',\n",
       "               '2022-09-01 15:00:00', '2022-10-01 15:00:00',\n",
       "               '2022-11-01 15:00:00', '2022-12-01 15:00:00',\n",
       "               '2023-01-01 15:00:00', '2023-02-01 15:00:00',\n",
       "               '2023-03-01 15:00:00', '2023-04-01 15:00:00',\n",
       "               '2023-05-01 15:00:00'],\n",
       "              dtype='datetime64[ns]', freq='MS')"
      ]
     },
     "execution_count": 25,
     "metadata": {},
     "output_type": "execute_result"
    }
   ],
   "source": [
    "pd.date_range('2020-08-06 15:00', '2023-05-18', freq='MS')"
   ]
  },
  {
   "cell_type": "code",
   "execution_count": null,
   "id": "cc06b997",
   "metadata": {},
   "outputs": [],
   "source": []
  },
  {
   "cell_type": "markdown",
   "id": "33c3b81d",
   "metadata": {},
   "source": [
    "### Метод shift"
   ]
  },
  {
   "cell_type": "code",
   "execution_count": 26,
   "id": "c3bd4117",
   "metadata": {},
   "outputs": [
    {
     "data": {
      "text/plain": [
       "DatetimeIndex(['2020-09-06 15:00:00', '2020-10-06 15:00:00',\n",
       "               '2020-11-06 15:00:00', '2020-12-06 15:00:00',\n",
       "               '2021-01-06 15:00:00', '2021-02-06 15:00:00',\n",
       "               '2021-03-06 15:00:00', '2021-04-06 15:00:00',\n",
       "               '2021-05-06 15:00:00', '2021-06-06 15:00:00',\n",
       "               '2021-07-06 15:00:00', '2021-08-06 15:00:00',\n",
       "               '2021-09-06 15:00:00', '2021-10-06 15:00:00',\n",
       "               '2021-11-06 15:00:00', '2021-12-06 15:00:00',\n",
       "               '2022-01-06 15:00:00', '2022-02-06 15:00:00',\n",
       "               '2022-03-06 15:00:00', '2022-04-06 15:00:00',\n",
       "               '2022-05-06 15:00:00', '2022-06-06 15:00:00',\n",
       "               '2022-07-06 15:00:00', '2022-08-06 15:00:00',\n",
       "               '2022-09-06 15:00:00', '2022-10-06 15:00:00',\n",
       "               '2022-11-06 15:00:00', '2022-12-06 15:00:00',\n",
       "               '2023-01-06 15:00:00', '2023-02-06 15:00:00',\n",
       "               '2023-03-06 15:00:00', '2023-04-06 15:00:00',\n",
       "               '2023-05-06 15:00:00'],\n",
       "              dtype='datetime64[ns]', freq=None)"
      ]
     },
     "execution_count": 26,
     "metadata": {},
     "output_type": "execute_result"
    }
   ],
   "source": [
    "pd.date_range('2020-08-06 15:00', '2023-05-18', freq='MS').shift(5, 'd')"
   ]
  },
  {
   "cell_type": "code",
   "execution_count": 27,
   "id": "217459e0",
   "metadata": {},
   "outputs": [
    {
     "data": {
      "text/plain": [
       "DatetimeIndex(['2021-05-31 13:00:00', '2022-05-31 13:00:00',\n",
       "               '2023-05-31 13:00:00'],\n",
       "              dtype='datetime64[ns]', freq=None)"
      ]
     },
     "execution_count": 27,
     "metadata": {},
     "output_type": "execute_result"
    }
   ],
   "source": [
    "(pd.date_range('2020-08-06 15:00', '2023-05-18', freq='Y')\n",
    "    .shift(5, 'M')\n",
    "    .shift(-2, 'h')\n",
    ")"
   ]
  },
  {
   "cell_type": "code",
   "execution_count": null,
   "id": "79c2f673",
   "metadata": {},
   "outputs": [],
   "source": []
  },
  {
   "cell_type": "code",
   "execution_count": null,
   "id": "1b193587",
   "metadata": {},
   "outputs": [],
   "source": []
  },
  {
   "cell_type": "markdown",
   "id": "25f4cdc9",
   "metadata": {},
   "source": [
    "###  Атрибут shape"
   ]
  },
  {
   "cell_type": "code",
   "execution_count": 28,
   "id": "1eef3495",
   "metadata": {},
   "outputs": [
    {
     "data": {
      "text/html": [
       "<div>\n",
       "<style scoped>\n",
       "    .dataframe tbody tr th:only-of-type {\n",
       "        vertical-align: middle;\n",
       "    }\n",
       "\n",
       "    .dataframe tbody tr th {\n",
       "        vertical-align: top;\n",
       "    }\n",
       "\n",
       "    .dataframe thead th {\n",
       "        text-align: right;\n",
       "    }\n",
       "</style>\n",
       "<table border=\"1\" class=\"dataframe\">\n",
       "  <thead>\n",
       "    <tr style=\"text-align: right;\">\n",
       "      <th></th>\n",
       "      <th>Имя</th>\n",
       "      <th>Фамилия</th>\n",
       "      <th>Дата рождения</th>\n",
       "      <th>Количество детей</th>\n",
       "      <th>Дата увольнения</th>\n",
       "    </tr>\n",
       "  </thead>\n",
       "  <tbody>\n",
       "    <tr>\n",
       "      <th>0</th>\n",
       "      <td>Екатерина</td>\n",
       "      <td>&lt;NA&gt;</td>\n",
       "      <td>1992-06-25</td>\n",
       "      <td>0</td>\n",
       "      <td>2023-12-06</td>\n",
       "    </tr>\n",
       "    <tr>\n",
       "      <th>1</th>\n",
       "      <td>Евгений</td>\n",
       "      <td>Бубликов</td>\n",
       "      <td>1995-09-09</td>\n",
       "      <td>0</td>\n",
       "      <td>2023-12-06</td>\n",
       "    </tr>\n",
       "    <tr>\n",
       "      <th>2</th>\n",
       "      <td>Андрей</td>\n",
       "      <td>Васильев</td>\n",
       "      <td>2000-02-29</td>\n",
       "      <td>0</td>\n",
       "      <td>2023-12-06</td>\n",
       "    </tr>\n",
       "    <tr>\n",
       "      <th>3</th>\n",
       "      <td>Виктория</td>\n",
       "      <td>Леонова</td>\n",
       "      <td>1999-06-15</td>\n",
       "      <td>0</td>\n",
       "      <td>2023-12-06</td>\n",
       "    </tr>\n",
       "    <tr>\n",
       "      <th>4</th>\n",
       "      <td>Анастасия</td>\n",
       "      <td>Долгова</td>\n",
       "      <td>2003-04-06</td>\n",
       "      <td>0</td>\n",
       "      <td>2023-12-06</td>\n",
       "    </tr>\n",
       "    <tr>\n",
       "      <th>5</th>\n",
       "      <td>Данил</td>\n",
       "      <td>Новиков</td>\n",
       "      <td>1995-06-03</td>\n",
       "      <td>0</td>\n",
       "      <td>2023-12-06</td>\n",
       "    </tr>\n",
       "  </tbody>\n",
       "</table>\n",
       "</div>"
      ],
      "text/plain": [
       "         Имя   Фамилия Дата рождения  Количество детей Дата увольнения\n",
       "0  Екатерина      <NA>    1992-06-25                 0      2023-12-06\n",
       "1    Евгений  Бубликов    1995-09-09                 0      2023-12-06\n",
       "2     Андрей  Васильев    2000-02-29                 0      2023-12-06\n",
       "3   Виктория   Леонова    1999-06-15                 0      2023-12-06\n",
       "4  Анастасия   Долгова    2003-04-06                 0      2023-12-06\n",
       "5      Данил   Новиков    1995-06-03                 0      2023-12-06"
      ]
     },
     "execution_count": 28,
     "metadata": {},
     "output_type": "execute_result"
    }
   ],
   "source": [
    "pd.DataFrame(people_dict)"
   ]
  },
  {
   "cell_type": "code",
   "execution_count": 29,
   "id": "f5783f41",
   "metadata": {},
   "outputs": [
    {
     "data": {
      "text/plain": [
       "(6, 5)"
      ]
     },
     "execution_count": 29,
     "metadata": {},
     "output_type": "execute_result"
    }
   ],
   "source": [
    "pd.DataFrame(people_dict).shape"
   ]
  },
  {
   "cell_type": "code",
   "execution_count": 30,
   "id": "184667fc",
   "metadata": {},
   "outputs": [
    {
     "data": {
      "text/plain": [
       "6"
      ]
     },
     "execution_count": 30,
     "metadata": {},
     "output_type": "execute_result"
    }
   ],
   "source": [
    "pd.DataFrame(people_dict).shape[0]"
   ]
  },
  {
   "cell_type": "code",
   "execution_count": 31,
   "id": "45797007",
   "metadata": {},
   "outputs": [
    {
     "data": {
      "text/plain": [
       "6"
      ]
     },
     "execution_count": 31,
     "metadata": {},
     "output_type": "execute_result"
    }
   ],
   "source": [
    "len(pd.DataFrame(people_dict))"
   ]
  },
  {
   "cell_type": "code",
   "execution_count": null,
   "id": "bfa47585",
   "metadata": {},
   "outputs": [],
   "source": []
  },
  {
   "cell_type": "code",
   "execution_count": null,
   "id": "72d1d5f7",
   "metadata": {},
   "outputs": [],
   "source": []
  },
  {
   "cell_type": "code",
   "execution_count": null,
   "id": "f1658954",
   "metadata": {},
   "outputs": [],
   "source": []
  },
  {
   "cell_type": "code",
   "execution_count": null,
   "id": "5d7c8437",
   "metadata": {},
   "outputs": [],
   "source": []
  },
  {
   "cell_type": "code",
   "execution_count": null,
   "id": "7eea805d",
   "metadata": {},
   "outputs": [],
   "source": []
  },
  {
   "cell_type": "code",
   "execution_count": null,
   "id": "e995874f",
   "metadata": {},
   "outputs": [],
   "source": []
  },
  {
   "cell_type": "code",
   "execution_count": null,
   "id": "6501dea7",
   "metadata": {},
   "outputs": [],
   "source": []
  },
  {
   "cell_type": "code",
   "execution_count": null,
   "id": "527ede8b",
   "metadata": {},
   "outputs": [],
   "source": []
  },
  {
   "cell_type": "code",
   "execution_count": null,
   "id": "556999df",
   "metadata": {},
   "outputs": [],
   "source": []
  },
  {
   "cell_type": "code",
   "execution_count": null,
   "id": "515786b4",
   "metadata": {},
   "outputs": [],
   "source": []
  },
  {
   "cell_type": "code",
   "execution_count": null,
   "id": "b6bdcb07",
   "metadata": {},
   "outputs": [],
   "source": []
  },
  {
   "cell_type": "code",
   "execution_count": null,
   "id": "5e667e00",
   "metadata": {},
   "outputs": [],
   "source": []
  },
  {
   "cell_type": "code",
   "execution_count": null,
   "id": "3428d308",
   "metadata": {},
   "outputs": [],
   "source": []
  },
  {
   "cell_type": "code",
   "execution_count": null,
   "id": "3d11ecab",
   "metadata": {},
   "outputs": [],
   "source": []
  },
  {
   "cell_type": "code",
   "execution_count": null,
   "id": "4c6d1d81",
   "metadata": {},
   "outputs": [],
   "source": []
  },
  {
   "cell_type": "code",
   "execution_count": null,
   "id": "21f6ddbc",
   "metadata": {},
   "outputs": [],
   "source": []
  },
  {
   "cell_type": "code",
   "execution_count": null,
   "id": "0a0d10a9",
   "metadata": {},
   "outputs": [],
   "source": []
  },
  {
   "cell_type": "code",
   "execution_count": null,
   "id": "b26a6412",
   "metadata": {},
   "outputs": [],
   "source": []
  },
  {
   "cell_type": "markdown",
   "id": "802ec8b9",
   "metadata": {},
   "source": [
    "# Задания"
   ]
  },
  {
   "cell_type": "markdown",
   "id": "ff2744af",
   "metadata": {},
   "source": [
    "#### Описание таблиц лежит [здесь](https://github.com/victorlymarev/pandas/tree/main/tables#%D0%BE%D0%BF%D0%B8%D1%81%D0%B0%D0%BD%D0%B8%D0%B5-%D1%82%D0%B0%D0%B1%D0%BB%D0%B8%D1%86)"
   ]
  },
  {
   "cell_type": "markdown",
   "id": "ff51dede",
   "metadata": {},
   "source": [
    "Некоторые таблицы занимают много памяти, поэтому каждые 5-10 заданий лучше перезапускайте ноутбук.\n",
    "\n",
    "В формулировке некоторых заданий может содержаться вариативность. Если у вас есть сомнения, что требуется в задании, попробуйте решить несколько вариантов. Если вы не понимаете задание, можете написать об этом в комментариях под видео.\n",
    "\n",
    "В большинстве случаев внешний вид итоговой таблицы не определен. Выведите на экран наиболее адекватный вариант. То есть таблицу, из которой можно будет сделать выводы.\n",
    "\n",
    "Курс пока находится в разработке. Вы можете помочь другим людям добавив свое решение [сюда](https://docs.google.com/forms/d/1HYTBz_KfssY3Jps2dC3n0YnEqa6WBb5OIhLo1d32Xzw/edit).\n",
    "\n",
    "Посмотреть решения других людей можно [здесь](https://docs.google.com/spreadsheets/d/1pMDYO-9UneLbPPnEuQ2shig0TOJdQTU-zipifyAnZMk/edit?resourcekey#gid=1998648012)"
   ]
  },
  {
   "cell_type": "markdown",
   "id": "86047e47",
   "metadata": {},
   "source": [
    "### Задание 1\n",
    "Создайте объект Series, в котором будут лежать последовательно имена Аня, Наташа, Таня, Оля, Настя"
   ]
  },
  {
   "cell_type": "code",
   "execution_count": null,
   "id": "5c821c74",
   "metadata": {},
   "outputs": [],
   "source": [
    "import pandas as pd\n",
    "\n",
    "# напишите свой код здесь"
   ]
  },
  {
   "cell_type": "markdown",
   "id": "1af2773c",
   "metadata": {},
   "source": [
    "### Задание 2\n",
    "Создавать объекты Series можно на основе словарей. В этом случае ключ пойдет в индекс, а значение в тело колонки."
   ]
  },
  {
   "cell_type": "code",
   "execution_count": null,
   "id": "ffc3ea61",
   "metadata": {},
   "outputs": [],
   "source": [
    "import pandas as pd\n",
    "\n",
    "height = {'Кирилл': 178, 'Андрей': 189, 'Тимур': 159, 'Ярослав': 190}\n",
    "pd.Series(height)"
   ]
  },
  {
   "cell_type": "markdown",
   "id": "6cd8b514",
   "metadata": {},
   "source": [
    "Создайте на основе словаря объект Series. В индексе словаря пусть лежат имена Никита, Артур, Паша, а в значениях колонки номера телефонов 123456, 654321, 123321. "
   ]
  },
  {
   "cell_type": "code",
   "execution_count": null,
   "id": "56b71749",
   "metadata": {},
   "outputs": [],
   "source": [
    "# напишите свой код здесь"
   ]
  },
  {
   "cell_type": "markdown",
   "id": "2ac1508f",
   "metadata": {},
   "source": [
    "### Задание 3\n",
    "Создайте таблицу, состоящую из двух колонок. В перовой колонке должны быть имена Саша, Маша, Лера, Руслан. Во второй колонке пусть лежат фамилии Сидоров, Петрова, Иванова, Уткин"
   ]
  },
  {
   "cell_type": "code",
   "execution_count": null,
   "id": "a5dfe31f",
   "metadata": {},
   "outputs": [],
   "source": [
    "import pandas as pd\n",
    "\n",
    "# напишите свой код здесь"
   ]
  },
  {
   "cell_type": "markdown",
   "id": "aab1fd2a",
   "metadata": {},
   "source": [
    "### Задание 4\n",
    "\n",
    "В таблице marks_6d лежат оценки школьников в классе 6Д. Какое количество школьников в классе?"
   ]
  },
  {
   "cell_type": "code",
   "execution_count": null,
   "id": "b70525ce",
   "metadata": {},
   "outputs": [],
   "source": [
    "import os\n",
    "import pandas as pd\n",
    "path_marks_6d = '../tables/оценки 6Д.csv' if os.path.exists('../tables/оценки 6Д.csv') else 'https://drive.google.com/uc?id=1aMvwur2zrISbVPRo86qWgbHPEpw5km0n'\n",
    "marks_6d = pd.read_csv(path_marks_6d)\n",
    "marks_6d"
   ]
  },
  {
   "cell_type": "code",
   "execution_count": null,
   "id": "febbeb6c",
   "metadata": {},
   "outputs": [],
   "source": [
    "# напишите свой код здесь"
   ]
  },
  {
   "cell_type": "markdown",
   "id": "fc4d6672",
   "metadata": {},
   "source": [
    "### Задание 5\n",
    "\n",
    "Создайте набор точек от 1 до 150 с интервалом 2"
   ]
  },
  {
   "cell_type": "code",
   "execution_count": null,
   "id": "a141e5a5",
   "metadata": {},
   "outputs": [],
   "source": [
    "import numpy as np\n",
    "\n",
    "# напишите свой код здесь"
   ]
  },
  {
   "cell_type": "markdown",
   "id": "70a4a5b1",
   "metadata": {},
   "source": [
    "### Задание 6\n",
    "\n",
    "Создайте набор точек от 0 до 15 включительно с интервалом 1.5"
   ]
  },
  {
   "cell_type": "code",
   "execution_count": null,
   "id": "927b6b3a",
   "metadata": {},
   "outputs": [],
   "source": [
    "import numpy as np\n",
    "\n",
    "# напишите свой код здесь"
   ]
  },
  {
   "cell_type": "markdown",
   "id": "3efb16c1",
   "metadata": {},
   "source": [
    "### Задание 7\n",
    "\n",
    "На отрезке от 100 до 150 создайте 80 равноудаленных друг от друга точек"
   ]
  },
  {
   "cell_type": "code",
   "execution_count": null,
   "id": "8586fe96",
   "metadata": {},
   "outputs": [],
   "source": [
    "import numpy as np\n",
    "\n",
    "# напишите свой код здесь"
   ]
  },
  {
   "cell_type": "markdown",
   "id": "89ee88cc",
   "metadata": {},
   "source": [
    "### Задание 8\n",
    "\n",
    "Создайте набор дат с 18 марта 1999 года до 28 февраля 2021 года с частотой в 1 день"
   ]
  },
  {
   "cell_type": "code",
   "execution_count": null,
   "id": "437c4072",
   "metadata": {},
   "outputs": [],
   "source": [
    "import pandas as pd\n",
    "\n",
    "# напишите свой код здесь"
   ]
  },
  {
   "cell_type": "markdown",
   "id": "fc42169f",
   "metadata": {},
   "source": [
    "### Задание 9\n",
    "\n",
    "Создайте набор дат с даты вашего рождения и до сегодняшнего дня с частотой в 1 день. При помощи функции len посчитайте длинну массива"
   ]
  },
  {
   "cell_type": "code",
   "execution_count": null,
   "id": "4f218ddf",
   "metadata": {},
   "outputs": [],
   "source": [
    "import pandas as pd\n",
    "\n",
    "# напишите свой код здесь"
   ]
  },
  {
   "cell_type": "markdown",
   "id": "9a83a78b",
   "metadata": {},
   "source": [
    "### Задание 10\n",
    "\n",
    "Создайте набор дат с 18 марта 2009 года до 28 февраля 2021 года с частотой в 4 дня 19 часов"
   ]
  },
  {
   "cell_type": "code",
   "execution_count": null,
   "id": "f073b512",
   "metadata": {},
   "outputs": [],
   "source": [
    "import pandas as pd\n",
    "\n",
    "# напишите свой код здесь"
   ]
  },
  {
   "cell_type": "markdown",
   "id": "2a8df9ed",
   "metadata": {},
   "source": [
    "### Задание 11\n",
    "\n",
    "Создайте набор дат с 18 марта 2009 года до 18 февраля 2021 года с частотой в 1 месяц"
   ]
  },
  {
   "cell_type": "code",
   "execution_count": null,
   "id": "28a39a10",
   "metadata": {},
   "outputs": [],
   "source": [
    "import pandas as pd\n",
    "\n",
    "# напишите свой код здесь"
   ]
  },
  {
   "cell_type": "markdown",
   "id": "34542143",
   "metadata": {},
   "source": [
    "### Задание 12\n",
    "\n",
    "Создайте 8 дат с частотой в 3 часа начиная от 9 часов утра 21 декабря 1999 года"
   ]
  },
  {
   "cell_type": "code",
   "execution_count": null,
   "id": "fe49bcac",
   "metadata": {},
   "outputs": [],
   "source": [
    "import pandas as pd\n",
    "\n",
    "# напишите свой код здесь"
   ]
  },
  {
   "cell_type": "code",
   "execution_count": 2,
   "id": "9ec1f111",
   "metadata": {},
   "outputs": [
    {
     "name": "stderr",
     "output_type": "stream",
     "text": [
      "C:\\Users\\Александр\\AppData\\Local\\Temp\\ipykernel_11372\\3777615979.py:1: DeprecationWarning: Importing display from IPython.core.display is deprecated since IPython 7.14, please import from IPython display\n",
      "  from IPython.core.display import display, HTML\n"
     ]
    },
    {
     "data": {
      "text/html": [
       "<style>.container { width:100% !important; }</style>"
      ],
      "text/plain": [
       "<IPython.core.display.HTML object>"
      ]
     },
     "metadata": {},
     "output_type": "display_data"
    }
   ],
   "source": [
    "from IPython.core.display import display, HTML\n",
    "display(HTML(\"<style>.container { width:100% !important; }</style>\"))"
   ]
  },
  {
   "cell_type": "code",
   "execution_count": null,
   "id": "fc37122d",
   "metadata": {},
   "outputs": [],
   "source": []
  }
 ],
 "metadata": {
  "kernelspec": {
   "display_name": "Python 3 (ipykernel)",
   "language": "python",
   "name": "python3"
  },
  "language_info": {
   "codemirror_mode": {
    "name": "ipython",
    "version": 3
   },
   "file_extension": ".py",
   "mimetype": "text/x-python",
   "name": "python",
   "nbconvert_exporter": "python",
   "pygments_lexer": "ipython3",
   "version": "3.11.6"
  }
 },
 "nbformat": 4,
 "nbformat_minor": 5
}
