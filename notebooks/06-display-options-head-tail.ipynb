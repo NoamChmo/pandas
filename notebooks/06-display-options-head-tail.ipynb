{
 "cells": [
  {
   "cell_type": "markdown",
   "id": "1e066f52",
   "metadata": {},
   "source": [
    "<a target=\"_blank\" href=\"https://colab.research.google.com/github/victorlymarev/pandas/blob/main/notebooks/06-display-options-head-tail.ipynb\">\n",
    "  <img src=\"https://colab.research.google.com/assets/colab-badge.svg\" alt=\"Open In Colab\"/>\n",
    "</a>"
   ]
  },
  {
   "cell_type": "markdown",
   "id": "f54a929a",
   "metadata": {},
   "source": [
    "# Настройки отображения таблиц\n",
    "#### [Ссылка на видео](https://youtu.be/YoknWGZHn8Y)"
   ]
  },
  {
   "cell_type": "code",
   "execution_count": null,
   "id": "b2681f40",
   "metadata": {},
   "outputs": [],
   "source": [
    "import pandas as pd\n",
    "import numpy as np\n",
    "import os"
   ]
  },
  {
   "cell_type": "code",
   "execution_count": null,
   "id": "b5f1a04b",
   "metadata": {},
   "outputs": [],
   "source": [
    "path_people = '../tables/people.parquet' if os.path.exists('../tables/people.parquet') else 'https://drive.google.com/uc?id=1iI1Lde5ya3ruztGYmjpprSCUoCU9rBeS'\n",
    "\n",
    "pd.read_parquet(path_people)"
   ]
  },
  {
   "cell_type": "markdown",
   "id": "01c474e4",
   "metadata": {},
   "source": [
    "Создаем таблицу в которой 40 колонок и 100 строк"
   ]
  },
  {
   "cell_type": "code",
   "execution_count": null,
   "id": "c4000bbb",
   "metadata": {},
   "outputs": [],
   "source": [
    "n_cols = 40\n",
    "n_rows = 100\n",
    "\n",
    "df = pd.DataFrame(np.arange(n_cols * n_rows).reshape(-1, n_rows).T,\n",
    "            columns=[f'Колонка {i + 1}' for i in range(n_cols)])\n",
    "df"
   ]
  },
  {
   "cell_type": "markdown",
   "id": "572b95b4",
   "metadata": {},
   "source": [
    "Максимальное количество отобржаемых колонок"
   ]
  },
  {
   "cell_type": "code",
   "execution_count": null,
   "id": "2f214842",
   "metadata": {},
   "outputs": [],
   "source": [
    "pd.options.display.max_columns"
   ]
  },
  {
   "cell_type": "markdown",
   "id": "d59cf0e6",
   "metadata": {},
   "source": [
    "Это значение можно изменить"
   ]
  },
  {
   "cell_type": "code",
   "execution_count": null,
   "id": "7c4acbb8",
   "metadata": {},
   "outputs": [],
   "source": [
    "pd.options.display.max_columns = 30"
   ]
  },
  {
   "cell_type": "code",
   "execution_count": null,
   "id": "19644171",
   "metadata": {},
   "outputs": [],
   "source": [
    "df"
   ]
  },
  {
   "cell_type": "code",
   "execution_count": null,
   "id": "b3191504",
   "metadata": {},
   "outputs": [],
   "source": [
    "pd.options.display.max_columns = None"
   ]
  },
  {
   "cell_type": "code",
   "execution_count": null,
   "id": "34e79ea8",
   "metadata": {},
   "outputs": [],
   "source": [
    "df"
   ]
  },
  {
   "cell_type": "markdown",
   "id": "781ae612",
   "metadata": {},
   "source": [
    "Максимальное число отображаемых строк"
   ]
  },
  {
   "cell_type": "code",
   "execution_count": null,
   "id": "8086f44b",
   "metadata": {},
   "outputs": [],
   "source": [
    "pd.options.display.max_rows"
   ]
  },
  {
   "cell_type": "markdown",
   "id": "e7810150",
   "metadata": {},
   "source": [
    "Максимальное число отобржаемых строк в сжатой таблице"
   ]
  },
  {
   "cell_type": "code",
   "execution_count": null,
   "id": "d0223aa1",
   "metadata": {},
   "outputs": [],
   "source": [
    "pd.options.display.min_rows"
   ]
  },
  {
   "cell_type": "code",
   "execution_count": null,
   "id": "574d9a87",
   "metadata": {},
   "outputs": [],
   "source": [
    "pd.options.display.min_rows = 20"
   ]
  },
  {
   "cell_type": "code",
   "execution_count": null,
   "id": "473e8cb4",
   "metadata": {},
   "outputs": [],
   "source": [
    "df"
   ]
  },
  {
   "cell_type": "code",
   "execution_count": null,
   "id": "9d8b4788",
   "metadata": {},
   "outputs": [],
   "source": [
    "pd.options.display.max_rows = 100"
   ]
  },
  {
   "cell_type": "code",
   "execution_count": null,
   "id": "0ccbc023",
   "metadata": {},
   "outputs": [],
   "source": [
    "df"
   ]
  },
  {
   "cell_type": "code",
   "execution_count": null,
   "id": "fc9444b4",
   "metadata": {},
   "outputs": [],
   "source": [
    "pd.options.display.precision"
   ]
  },
  {
   "cell_type": "code",
   "execution_count": null,
   "id": "50438338",
   "metadata": {},
   "outputs": [],
   "source": [
    "pd.get_option('display.max_rows')"
   ]
  },
  {
   "cell_type": "code",
   "execution_count": null,
   "id": "46fc5696",
   "metadata": {},
   "outputs": [],
   "source": [
    "pd.set_option('display.max_rows', 10)"
   ]
  },
  {
   "cell_type": "code",
   "execution_count": null,
   "id": "1b123c26",
   "metadata": {},
   "outputs": [],
   "source": [
    "pd.reset_option('display.max_rows')"
   ]
  },
  {
   "cell_type": "code",
   "execution_count": null,
   "id": "e42a0e67",
   "metadata": {},
   "outputs": [],
   "source": [
    "pd.get_option('display.max_rows')"
   ]
  },
  {
   "cell_type": "markdown",
   "id": "21eb3c70",
   "metadata": {},
   "source": [
    "## head"
   ]
  },
  {
   "cell_type": "code",
   "execution_count": null,
   "id": "546587aa",
   "metadata": {},
   "outputs": [],
   "source": [
    "# Возврщает первые 5 строк таблицы\n",
    "df.head()"
   ]
  },
  {
   "cell_type": "markdown",
   "id": "07cd78f1",
   "metadata": {},
   "source": [
    "## tail"
   ]
  },
  {
   "cell_type": "code",
   "execution_count": null,
   "id": "7d130a87",
   "metadata": {},
   "outputs": [],
   "source": [
    "# Возвращает последние 5 строк таблицы\n",
    "df.tail()"
   ]
  },
  {
   "cell_type": "markdown",
   "id": "fb693b87",
   "metadata": {},
   "source": [
    "## Sample"
   ]
  },
  {
   "cell_type": "code",
   "execution_count": null,
   "id": "684311fd",
   "metadata": {},
   "outputs": [],
   "source": [
    "# Возвращает случайную строку\n",
    "df.sample()"
   ]
  },
  {
   "cell_type": "code",
   "execution_count": null,
   "id": "97018b35",
   "metadata": {},
   "outputs": [],
   "source": [
    "df.head(3)"
   ]
  },
  {
   "cell_type": "code",
   "execution_count": null,
   "id": "a5be3200",
   "metadata": {},
   "outputs": [],
   "source": [
    "df.sample(70)"
   ]
  },
  {
   "cell_type": "code",
   "execution_count": null,
   "id": "d20b4368",
   "metadata": {},
   "outputs": [],
   "source": [
    "df.sample(3, random_state=1)"
   ]
  },
  {
   "cell_type": "code",
   "execution_count": null,
   "id": "3a2a0d16",
   "metadata": {},
   "outputs": [],
   "source": [
    "df.sample(3, random_state=1)"
   ]
  },
  {
   "cell_type": "code",
   "execution_count": null,
   "id": "ed6dfe1d",
   "metadata": {},
   "outputs": [],
   "source": [
    "df.sample(3, random_state=2)"
   ]
  },
  {
   "cell_type": "code",
   "execution_count": null,
   "id": "b8b67a32",
   "metadata": {},
   "outputs": [],
   "source": [
    "df.sample(3, random_state=2)"
   ]
  },
  {
   "cell_type": "code",
   "execution_count": null,
   "id": "4b0ab207",
   "metadata": {},
   "outputs": [],
   "source": [
    "np.random.seed(1)\n",
    "df.sample(3)"
   ]
  },
  {
   "cell_type": "code",
   "execution_count": null,
   "id": "f350205c",
   "metadata": {},
   "outputs": [],
   "source": [
    "np.random.seed(1)\n",
    "df.sample(3)"
   ]
  },
  {
   "cell_type": "code",
   "execution_count": null,
   "id": "81ccdf84",
   "metadata": {},
   "outputs": [],
   "source": [
    "df.sample(frac=0.6)"
   ]
  },
  {
   "cell_type": "code",
   "execution_count": null,
   "id": "c1786985",
   "metadata": {},
   "outputs": [],
   "source": [
    "df.sample(10, replace=True, random_state=42)"
   ]
  },
  {
   "cell_type": "code",
   "execution_count": null,
   "id": "c6dc7b7b",
   "metadata": {},
   "outputs": [],
   "source": []
  },
  {
   "cell_type": "code",
   "execution_count": null,
   "id": "56b921ca",
   "metadata": {},
   "outputs": [],
   "source": []
  },
  {
   "cell_type": "code",
   "execution_count": null,
   "id": "4c1febfc",
   "metadata": {},
   "outputs": [],
   "source": []
  },
  {
   "cell_type": "code",
   "execution_count": null,
   "id": "c946a9e9",
   "metadata": {},
   "outputs": [],
   "source": []
  },
  {
   "cell_type": "code",
   "execution_count": null,
   "id": "f7553b2b",
   "metadata": {},
   "outputs": [],
   "source": []
  },
  {
   "cell_type": "code",
   "execution_count": null,
   "id": "0801fe73",
   "metadata": {},
   "outputs": [],
   "source": []
  },
  {
   "cell_type": "code",
   "execution_count": null,
   "id": "442f8728",
   "metadata": {},
   "outputs": [],
   "source": []
  },
  {
   "cell_type": "code",
   "execution_count": null,
   "id": "30c1955d",
   "metadata": {},
   "outputs": [],
   "source": []
  },
  {
   "cell_type": "code",
   "execution_count": null,
   "id": "82ecd111",
   "metadata": {},
   "outputs": [],
   "source": []
  },
  {
   "cell_type": "code",
   "execution_count": null,
   "id": "850bcc27",
   "metadata": {},
   "outputs": [],
   "source": []
  },
  {
   "cell_type": "markdown",
   "id": "33c9bdcf",
   "metadata": {},
   "source": [
    "# Задания"
   ]
  },
  {
   "cell_type": "markdown",
   "id": "a421d1f8",
   "metadata": {},
   "source": [
    "#### Описание таблиц лежит [здесь](https://github.com/victorlymarev/pandas/tree/main/tables#%D0%BE%D0%BF%D0%B8%D1%81%D0%B0%D0%BD%D0%B8%D0%B5-%D1%82%D0%B0%D0%B1%D0%BB%D0%B8%D1%86)"
   ]
  },
  {
   "cell_type": "markdown",
   "id": "52fc00a5",
   "metadata": {},
   "source": [
    "Некоторые таблицы занимают много памяти, поэтому каждые 5-10 заданий лучше перезапускайте ноутбук.\n",
    "\n",
    "В формулировке некоторых заданий может содержаться вариативность. Если у вас есть сомнения, что требуется в задании, попробуйте решить несколько вариантов. Если вы не понимаете задание, можете написать об этом в комментариях под видео.\n",
    "\n",
    "В большинстве случаев внешний вид итоговой таблицы не определен. Выведите на экран наиболее адекватный вариант. То есть таблицу, из которой можно будет сделать выводы.\n",
    "\n",
    "Курс пока находится в разработке. Вы можете помочь другим людям добавив свое решение [сюда](https://docs.google.com/forms/d/1HYTBz_KfssY3Jps2dC3n0YnEqa6WBb5OIhLo1d32Xzw/edit).\n",
    "\n",
    "Посмотреть решения других людей можно [здесь](https://docs.google.com/spreadsheets/d/1pMDYO-9UneLbPPnEuQ2shig0TOJdQTU-zipifyAnZMk/edit?resourcekey#gid=1998648012)"
   ]
  },
  {
   "cell_type": "markdown",
   "id": "647646db",
   "metadata": {},
   "source": [
    "### Задание 1\n",
    "\n",
    "Установите значение максимального числа отображаемых колонок на 100\n",
    "\n",
    "Убедитесь, что вы видите все названия колонок таблицы"
   ]
  },
  {
   "cell_type": "code",
   "execution_count": null,
   "id": "7d4b2a6a",
   "metadata": {},
   "outputs": [],
   "source": [
    "# Напишите свой код здесь"
   ]
  },
  {
   "cell_type": "code",
   "execution_count": null,
   "id": "64508ed1",
   "metadata": {},
   "outputs": [],
   "source": [
    "n_cols = 99\n",
    "n_rows = 5\n",
    "\n",
    "df = pd.DataFrame(np.arange(n_cols * n_rows).reshape(-1, n_rows).T,\n",
    "            columns=[f'Колонка {i + 1}' for i in range(n_cols)])\n",
    "df"
   ]
  },
  {
   "cell_type": "markdown",
   "id": "3b571152",
   "metadata": {},
   "source": [
    "### Задание 2\n",
    "\n",
    "Выполните две ячейки ниже"
   ]
  },
  {
   "cell_type": "code",
   "execution_count": null,
   "id": "b60ccbcb",
   "metadata": {},
   "outputs": [],
   "source": [
    "import os\n",
    "import pandas as pd\n",
    "\n",
    "path_goods_descr = '../tables/goods_description.parquet' if os.path.exists('../tables/goods_description.parquet') else 'https://drive.google.com/uc?id=1YbiD02Rev-X_WWV9nPSG1zZFmEh2JjPh'\n",
    "\n",
    "pd.read_parquet(path_goods_descr)"
   ]
  },
  {
   "cell_type": "code",
   "execution_count": null,
   "id": "6df15cb1",
   "metadata": {},
   "outputs": [],
   "source": [
    "dir()"
   ]
  },
  {
   "cell_type": "markdown",
   "id": "2a53b454",
   "metadata": {},
   "source": [
    "В первом случае вам вернулась таблица. Слева от ячейки вы увидите Ввод [какое-то число].\n",
    "\n",
    "Не смотря на то, что вы не сохраняли эту таблицу в переменную, она все равно сохранилась. \n",
    "В этом можно убедиться, вызвав функцию dir(). Среди множества значений, там будет группа, начинающаяся со знака нижнего подчеркивания _. Все что мы выводим на экран при запуске ячеек сохраняется в переменных этой группы, не просто как какое-то изображение, а как полноценные объекты, с которыми можно работать\n",
    "\n",
    "Посмотрите на число в квадратных скобках слева от ячейки, где вы читали таблицу. Напишите в ячейке ниже знак нижнего подчеркивания и это число"
   ]
  },
  {
   "cell_type": "code",
   "execution_count": null,
   "id": "d9812e0a",
   "metadata": {},
   "outputs": [],
   "source": [
    "# в моем случае это \n",
    "# _8\n",
    "# Напишите свой код здесь"
   ]
  },
  {
   "cell_type": "markdown",
   "id": "18df80b4",
   "metadata": {},
   "source": [
    "Попробуйте поработать с этой таблицей. Вызовите у нее метод info"
   ]
  },
  {
   "cell_type": "code",
   "execution_count": null,
   "id": "75785adc",
   "metadata": {},
   "outputs": [],
   "source": [
    "# Напишите свой код здесь"
   ]
  },
  {
   "cell_type": "markdown",
   "id": "7a7d8be2",
   "metadata": {},
   "source": [
    "Такая штука в некоторых случаях может вас выручить. Например, если вы написали код так, что он оказался невоспроизводимым. Тогда вы можете взять таблицу из этой переменной, сохранить в переменную нормальным названием и продолжить работу.\n",
    "\n",
    "Сохраните эту таблицу в переменную df"
   ]
  },
  {
   "cell_type": "code",
   "execution_count": null,
   "id": "848a6dd6",
   "metadata": {},
   "outputs": [],
   "source": [
    "df = # Напишите свой код здесь"
   ]
  },
  {
   "cell_type": "markdown",
   "id": "4766f37e",
   "metadata": {},
   "source": [
    "Однако если таким образом вы будите постоянно выводить на экран большие таблицы, у вас может закончиться оперативная память. Поэтому, чтобы этого не происходило используйте методы head, sample или tail"
   ]
  },
  {
   "cell_type": "markdown",
   "id": "e842b5b2",
   "metadata": {},
   "source": [
    "### Задание 3\n",
    "\n",
    "Вывидите на экран первые 10 строк таблицы prices. В данной таблице содержаться цены на товары"
   ]
  },
  {
   "cell_type": "code",
   "execution_count": null,
   "id": "2dbc878c",
   "metadata": {},
   "outputs": [],
   "source": [
    "import os\n",
    "import pandas as pd\n",
    "\n",
    "path_prices = '../tables/prices.parquet' if os.path.exists('../tables/prices.parquet') else 'https://drive.google.com/uc?id=1_KfYyYCsib8woanbP3VouLUpYp103dV5'\n",
    "\n",
    "prices = pd.read_parquet(path_prices)\n",
    "\n",
    "# Напишите свой код здесь"
   ]
  },
  {
   "cell_type": "markdown",
   "id": "a80ada1f",
   "metadata": {},
   "source": [
    "### Задание 4\n",
    "\n",
    "Вывидите на экран 15 случайных строк таблицы shops. Зафиксируйте random_state, параметру replace передайте значение True"
   ]
  },
  {
   "cell_type": "code",
   "execution_count": null,
   "id": "5f68ef4c",
   "metadata": {},
   "outputs": [],
   "source": [
    "import os\n",
    "import pandas as pd\n",
    "\n",
    "path_shops = '../tables/shops.xlsx' if os.path.exists('../tables/shops.xlsx') else 'https://drive.google.com/uc?id=1gfnmceJa3Mc1X06NftTx9G9QfKfprjEB'\n",
    "\n",
    "shops = pd.read_excel(path_shops)\n",
    "\n",
    "# Напишите свой код здесь"
   ]
  },
  {
   "cell_type": "markdown",
   "id": "cf3ab0fc",
   "metadata": {},
   "source": [
    "### Задание 5\n",
    "\n",
    "Когда мы записываем датафрейм в конце ячейки он выводится на экран. Однако если вы захотите вывести на экан несколько датафреймов под одной ячейкой, то у вас ничего не получится. Будет показан только последний датафрейм.\n",
    "\n",
    "Если вам нужно вывести несколько таблиц под одной ячейкой, можно воспользоваться функцией display. В нее необходимо передать датафрем, который вы хотите отобразить.\n",
    "\n",
    "С помощью данной функции вывидите на экран сначала первые 5 строк таблицы prices, а затем последние 5 строк"
   ]
  },
  {
   "cell_type": "code",
   "execution_count": null,
   "id": "4f72f98c",
   "metadata": {},
   "outputs": [],
   "source": [
    "import os\n",
    "import pandas as pd\n",
    "\n",
    "path_prices = '../tables/prices.parquet' if os.path.exists('../tables/prices.parquet') else 'https://drive.google.com/uc?id=1_KfYyYCsib8woanbP3VouLUpYp103dV5'\n",
    "\n",
    "prices = pd.read_parquet(path_prices)\n",
    "\n",
    "# Напишите свой код здесь"
   ]
  },
  {
   "cell_type": "markdown",
   "id": "fd9940e8",
   "metadata": {},
   "source": [
    "### Задание 6\n",
    "\n",
    "Сейчас вы вывели 2 таблицы одну под другой. Однако бывают ситуации, когда хочется вывести таблицы друг рядом с другом\n",
    "\n",
    "Это можно сделать при помощи такой функции. В нее необходимо передать датафреймы, которые вы хотите отобразить.\n",
    "\n",
    "Выполните ячейки ниже"
   ]
  },
  {
   "cell_type": "code",
   "execution_count": null,
   "id": "44d943df",
   "metadata": {},
   "outputs": [],
   "source": [
    "from IPython.display import display_html\n",
    "from itertools import chain,cycle\n",
    "def display_side_by_side(*args,titles=cycle([''])):\n",
    "    html_str=''\n",
    "    for df,title in zip(args, chain(titles,cycle(['</br>'])) ):\n",
    "        html_str+='<th style=\"text-align:center\"><td style=\"vertical-align:top\">'\n",
    "        html_str+=f'<h2 style=\"text-align: center;\">{title}</h2>'\n",
    "        html_str+=df.to_html().replace('table','table style=\"display:inline\"')\n",
    "        html_str+='</td></th>'\n",
    "    display_html(html_str,raw=True)"
   ]
  },
  {
   "cell_type": "code",
   "execution_count": null,
   "id": "6ef88db0",
   "metadata": {},
   "outputs": [],
   "source": [
    "import os\n",
    "import pandas as pd\n",
    "\n",
    "path_prices = '../tables/prices.parquet' if os.path.exists('../tables/prices.parquet') else 'https://drive.google.com/uc?id=1_KfYyYCsib8woanbP3VouLUpYp103dV5'\n",
    "\n",
    "prices = pd.read_parquet(path_prices)\n",
    "\n",
    "display_side_by_side(prices.sample(5, random_state=15), prices.sample(5, random_state=115))"
   ]
  },
  {
   "cell_type": "markdown",
   "id": "ac815cac",
   "metadata": {},
   "source": [
    "Отобразите так же первые 5 и последние 10 строк таблицы prices"
   ]
  },
  {
   "cell_type": "code",
   "execution_count": null,
   "id": "fdc2ebec",
   "metadata": {},
   "outputs": [],
   "source": [
    "# Напишите свой код здесь"
   ]
  },
  {
   "cell_type": "code",
   "execution_count": null,
   "id": "1b52a2fc",
   "metadata": {},
   "outputs": [],
   "source": []
  },
  {
   "cell_type": "code",
   "execution_count": null,
   "id": "952abf90",
   "metadata": {},
   "outputs": [],
   "source": []
  },
  {
   "cell_type": "code",
   "execution_count": null,
   "id": "906d880f",
   "metadata": {},
   "outputs": [],
   "source": []
  },
  {
   "cell_type": "code",
   "execution_count": null,
   "id": "e271957a",
   "metadata": {},
   "outputs": [],
   "source": []
  },
  {
   "cell_type": "code",
   "execution_count": null,
   "id": "1685af1a",
   "metadata": {},
   "outputs": [],
   "source": []
  }
 ],
 "metadata": {
  "kernelspec": {
   "display_name": "Python 3 (ipykernel)",
   "language": "python",
   "name": "python3"
  },
  "language_info": {
   "codemirror_mode": {
    "name": "ipython",
    "version": 3
   },
   "file_extension": ".py",
   "mimetype": "text/x-python",
   "name": "python",
   "nbconvert_exporter": "python",
   "pygments_lexer": "ipython3",
   "version": "3.11.5"
  }
 },
 "nbformat": 4,
 "nbformat_minor": 5
}
