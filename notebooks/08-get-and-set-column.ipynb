{
 "cells": [
  {
   "cell_type": "markdown",
   "id": "65aea383",
   "metadata": {},
   "source": [
    "<a target=\"_blank\" href=\"https://colab.research.google.com/github/victorlymarev/pandas/blob/main/notebooks/08-get-and-set-column.ipynb\">\n",
    "  <img src=\"https://colab.research.google.com/assets/colab-badge.svg\" alt=\"Open In Colab\"/>\n",
    "</a>"
   ]
  },
  {
   "cell_type": "markdown",
   "id": "714a6128",
   "metadata": {},
   "source": [
    "# Изменение и создание колонок таблиц\n",
    "#### [Ссылка на видео](https://youtu.be/W7M8Yp1EVio)"
   ]
  },
  {
   "cell_type": "code",
   "execution_count": null,
   "id": "9eb2705f",
   "metadata": {},
   "outputs": [],
   "source": [
    "import pandas as pd\n",
    "import numpy as np\n",
    "import os"
   ]
  },
  {
   "cell_type": "markdown",
   "id": "efd1604b",
   "metadata": {},
   "source": [
    "Читаем таблицу"
   ]
  },
  {
   "cell_type": "code",
   "execution_count": null,
   "id": "3b2885d3",
   "metadata": {
    "scrolled": false
   },
   "outputs": [],
   "source": [
    "path_df = '../tables/people.parquet' if os.path.exists('../tables/people.parquet') else 'https://drive.google.com/uc?id=1iI1Lde5ya3ruztGYmjpprSCUoCU9rBeS'\n",
    "\n",
    "df = pd.read_parquet(path_df)\n",
    "df"
   ]
  },
  {
   "cell_type": "markdown",
   "id": "9e1242c5",
   "metadata": {},
   "source": [
    "# Обращение и изменение через квадратные скобки"
   ]
  },
  {
   "cell_type": "code",
   "execution_count": null,
   "id": "c3b63897",
   "metadata": {},
   "outputs": [],
   "source": [
    "df['Число детей']"
   ]
  },
  {
   "cell_type": "code",
   "execution_count": null,
   "id": "0cd9fca6",
   "metadata": {},
   "outputs": [],
   "source": [
    "# [] это просто сокращение от такой записи\n",
    "df.__getitem__('Число детей')"
   ]
  },
  {
   "cell_type": "code",
   "execution_count": null,
   "id": "db2ca116",
   "metadata": {},
   "outputs": [],
   "source": [
    "# Сначала считается правая часть равенства, а затем идет присваивание\n",
    "df['Число детей'] = df['Число детей'] + 1\n",
    "df"
   ]
  },
  {
   "cell_type": "markdown",
   "id": "f7724088",
   "metadata": {},
   "source": [
    "Создаем новую колонку на основе одного значения и списка, ndarray или Series"
   ]
  },
  {
   "cell_type": "code",
   "execution_count": null,
   "id": "87aeb77a",
   "metadata": {},
   "outputs": [],
   "source": [
    "df['size'] = 'M'\n",
    "df"
   ]
  },
  {
   "cell_type": "markdown",
   "id": "9e59eda9",
   "metadata": {},
   "source": [
    "Длинна массива должна быть равна количеству строк в таблице"
   ]
  },
  {
   "cell_type": "code",
   "execution_count": null,
   "id": "5d26a390",
   "metadata": {},
   "outputs": [],
   "source": [
    "df['size'] = ['L', 'L', 'S', 'M', 'XXL', 'M', 'XL']\n",
    "df"
   ]
  },
  {
   "cell_type": "markdown",
   "id": "9330f611",
   "metadata": {},
   "source": [
    "Сопоставление идет по индексу"
   ]
  },
  {
   "cell_type": "code",
   "execution_count": null,
   "id": "d437d1e4",
   "metadata": {},
   "outputs": [],
   "source": [
    "pd.Series(['L', 'L', 'S', 'M', 'XXL', 'M', 'XL'],\n",
    "          index=[3, 4, 5, 6, 7, 8, 9])"
   ]
  },
  {
   "cell_type": "code",
   "execution_count": null,
   "id": "b50a1f69",
   "metadata": {},
   "outputs": [],
   "source": [
    "df['size'] = pd.Series(['L', 'L', 'S', 'M', 'XXL', 'M', 'XL'],\n",
    "                       index=[3, 4, 5, 6, 7, 8, 9])\n",
    "df"
   ]
  },
  {
   "cell_type": "code",
   "execution_count": null,
   "id": "880b7b48",
   "metadata": {},
   "outputs": [],
   "source": [
    "df['size'] = pd.Series(['L', 'L', 'S', 'M', 'XXL', 'M', 'XL'],\n",
    "                       index=[3, 4, 5, 6, 7, 8, 9]).reset_index(drop=True)\n",
    "df"
   ]
  },
  {
   "cell_type": "code",
   "execution_count": null,
   "id": "5b7c59dd",
   "metadata": {},
   "outputs": [],
   "source": [
    "df['size'] = pd.Series(['L', 'L', 'S', 'M', 'XXL', 'M', 'XL'],\n",
    "                       index=[3, 4, 5, 6, 7, 8, 9]).tolist()\n",
    "df"
   ]
  },
  {
   "cell_type": "code",
   "execution_count": null,
   "id": "88fce7bf",
   "metadata": {},
   "outputs": [],
   "source": []
  },
  {
   "cell_type": "code",
   "execution_count": null,
   "id": "291d4581",
   "metadata": {},
   "outputs": [],
   "source": []
  },
  {
   "cell_type": "code",
   "execution_count": null,
   "id": "95c3a242",
   "metadata": {},
   "outputs": [],
   "source": []
  },
  {
   "cell_type": "code",
   "execution_count": null,
   "id": "43ac58fb",
   "metadata": {},
   "outputs": [],
   "source": []
  },
  {
   "cell_type": "code",
   "execution_count": null,
   "id": "c70e1155",
   "metadata": {},
   "outputs": [],
   "source": []
  },
  {
   "cell_type": "code",
   "execution_count": null,
   "id": "925d4729",
   "metadata": {},
   "outputs": [],
   "source": []
  },
  {
   "cell_type": "markdown",
   "id": "24b2a08c",
   "metadata": {},
   "source": [
    "#### Выбор нескольких колонок"
   ]
  },
  {
   "cell_type": "code",
   "execution_count": null,
   "id": "7bd62867",
   "metadata": {},
   "outputs": [],
   "source": [
    "df"
   ]
  },
  {
   "cell_type": "code",
   "execution_count": null,
   "id": "3f17f07c",
   "metadata": {},
   "outputs": [],
   "source": [
    "df[['Имя', 'Фамилия']]"
   ]
  },
  {
   "cell_type": "markdown",
   "id": "2a74654f",
   "metadata": {},
   "source": [
    "Изменим очередность колонок"
   ]
  },
  {
   "cell_type": "code",
   "execution_count": null,
   "id": "0c784ef0",
   "metadata": {},
   "outputs": [],
   "source": [
    "df[['Фамилия', 'Имя', 'Число детей',\n",
    "    'Дата рождения', 'size',\n",
    "     'Женат/Замужем', 'Площадь дома']]"
   ]
  },
  {
   "cell_type": "markdown",
   "id": "dbf944fb",
   "metadata": {},
   "source": [
    "Если передать в метод список, то вернется DataFrame, а если просто строку, то вернется Series"
   ]
  },
  {
   "cell_type": "code",
   "execution_count": null,
   "id": "e475dfa9",
   "metadata": {},
   "outputs": [],
   "source": [
    "df[['Имя']]"
   ]
  },
  {
   "cell_type": "code",
   "execution_count": null,
   "id": "7f3d59d4",
   "metadata": {},
   "outputs": [],
   "source": [
    "df['Имя']"
   ]
  },
  {
   "cell_type": "code",
   "execution_count": null,
   "id": "ec9971e3",
   "metadata": {},
   "outputs": [],
   "source": [
    "df['Имя'].to_frame()"
   ]
  },
  {
   "cell_type": "code",
   "execution_count": null,
   "id": "e4c119c0",
   "metadata": {},
   "outputs": [],
   "source": []
  },
  {
   "cell_type": "code",
   "execution_count": null,
   "id": "34012f91",
   "metadata": {},
   "outputs": [],
   "source": []
  },
  {
   "cell_type": "code",
   "execution_count": null,
   "id": "6df4e1b6",
   "metadata": {},
   "outputs": [],
   "source": []
  },
  {
   "cell_type": "code",
   "execution_count": null,
   "id": "32a99ae6",
   "metadata": {},
   "outputs": [],
   "source": []
  },
  {
   "cell_type": "code",
   "execution_count": null,
   "id": "618cd8e0",
   "metadata": {},
   "outputs": [],
   "source": []
  },
  {
   "cell_type": "code",
   "execution_count": null,
   "id": "e58739c5",
   "metadata": {},
   "outputs": [],
   "source": []
  },
  {
   "cell_type": "code",
   "execution_count": null,
   "id": "33ec961a",
   "metadata": {},
   "outputs": [],
   "source": []
  },
  {
   "cell_type": "code",
   "execution_count": null,
   "id": "20b8c0e6",
   "metadata": {},
   "outputs": [],
   "source": []
  },
  {
   "cell_type": "markdown",
   "id": "6454e8f3",
   "metadata": {},
   "source": [
    "### [ ] при работе с колонками таблицы и объектами Series"
   ]
  },
  {
   "cell_type": "code",
   "execution_count": null,
   "id": "c34936fc",
   "metadata": {},
   "outputs": [],
   "source": [
    "names = df['Имя']\n",
    "names"
   ]
  },
  {
   "cell_type": "markdown",
   "id": "b404e269",
   "metadata": {},
   "source": [
    "К объектам Series можно обращаться через название индекса"
   ]
  },
  {
   "cell_type": "code",
   "execution_count": null,
   "id": "80b33cb2",
   "metadata": {},
   "outputs": [],
   "source": [
    "names[0]"
   ]
  },
  {
   "cell_type": "code",
   "execution_count": null,
   "id": "3834bcc9",
   "metadata": {},
   "outputs": [],
   "source": [
    "names[4]"
   ]
  },
  {
   "cell_type": "code",
   "execution_count": null,
   "id": "d49a73af",
   "metadata": {},
   "outputs": [],
   "source": [
    "df"
   ]
  },
  {
   "cell_type": "markdown",
   "id": "e1e51d62",
   "metadata": {},
   "source": [
    "Поменяем имя Александр на Олег"
   ]
  },
  {
   "cell_type": "code",
   "execution_count": null,
   "id": "29958ee4",
   "metadata": {},
   "outputs": [],
   "source": [
    "names[4] = 'Олег'"
   ]
  },
  {
   "cell_type": "code",
   "execution_count": null,
   "id": "2ce9ea35",
   "metadata": {},
   "outputs": [],
   "source": [
    "names"
   ]
  },
  {
   "cell_type": "markdown",
   "id": "7d448f66",
   "metadata": {},
   "source": [
    "Значение поменялось не только в переменной names, но и в таблице"
   ]
  },
  {
   "cell_type": "code",
   "execution_count": null,
   "id": "a91e799a",
   "metadata": {},
   "outputs": [],
   "source": [
    "df"
   ]
  },
  {
   "cell_type": "markdown",
   "id": "a3c5046a",
   "metadata": {},
   "source": [
    "Обратно вернем имя Александр"
   ]
  },
  {
   "cell_type": "code",
   "execution_count": null,
   "id": "4b5165fd",
   "metadata": {},
   "outputs": [],
   "source": [
    "names[4] = 'Александр'"
   ]
  },
  {
   "cell_type": "code",
   "execution_count": null,
   "id": "7eab0065",
   "metadata": {},
   "outputs": [],
   "source": [
    "df"
   ]
  },
  {
   "cell_type": "markdown",
   "id": "85796ca0",
   "metadata": {},
   "source": [
    "Чтобы значение менялось только в переменной необходимо использовать метод copy"
   ]
  },
  {
   "cell_type": "code",
   "execution_count": null,
   "id": "698e6f90",
   "metadata": {},
   "outputs": [],
   "source": [
    "names = df['Имя'].copy()\n",
    "names"
   ]
  },
  {
   "cell_type": "code",
   "execution_count": null,
   "id": "ae04daa1",
   "metadata": {},
   "outputs": [],
   "source": [
    "names[4] = 'Олег'"
   ]
  },
  {
   "cell_type": "code",
   "execution_count": null,
   "id": "5167f0d9",
   "metadata": {},
   "outputs": [],
   "source": [
    "names"
   ]
  },
  {
   "cell_type": "code",
   "execution_count": null,
   "id": "6c48f84e",
   "metadata": {},
   "outputs": [],
   "source": [
    "df"
   ]
  },
  {
   "cell_type": "code",
   "execution_count": null,
   "id": "284fcbd1",
   "metadata": {},
   "outputs": [],
   "source": [
    "df1 = df.copy()\n",
    "df1"
   ]
  },
  {
   "cell_type": "markdown",
   "id": "b728f169",
   "metadata": {},
   "source": [
    "Вунтри функций никогда не будет лишней такая строчка"
   ]
  },
  {
   "cell_type": "code",
   "execution_count": null,
   "id": "7b1a4a20",
   "metadata": {},
   "outputs": [],
   "source": [
    "def some_func(df):\n",
    "    df = df.copy()\n",
    "    \n",
    "    # Код функции\n",
    "    "
   ]
  },
  {
   "cell_type": "code",
   "execution_count": null,
   "id": "8fafd207",
   "metadata": {},
   "outputs": [],
   "source": []
  },
  {
   "cell_type": "code",
   "execution_count": null,
   "id": "c5cc3b9d",
   "metadata": {},
   "outputs": [],
   "source": []
  },
  {
   "cell_type": "code",
   "execution_count": null,
   "id": "8e7e91ab",
   "metadata": {},
   "outputs": [],
   "source": []
  },
  {
   "cell_type": "code",
   "execution_count": null,
   "id": "b8f2d492",
   "metadata": {},
   "outputs": [],
   "source": []
  },
  {
   "cell_type": "code",
   "execution_count": null,
   "id": "125c482b",
   "metadata": {},
   "outputs": [],
   "source": []
  },
  {
   "cell_type": "code",
   "execution_count": null,
   "id": "83f8c243",
   "metadata": {},
   "outputs": [],
   "source": []
  },
  {
   "cell_type": "code",
   "execution_count": null,
   "id": "4109bc95",
   "metadata": {},
   "outputs": [],
   "source": []
  },
  {
   "cell_type": "code",
   "execution_count": null,
   "id": "8e2ac2d9",
   "metadata": {},
   "outputs": [],
   "source": []
  },
  {
   "cell_type": "code",
   "execution_count": null,
   "id": "dcc0ec6e",
   "metadata": {},
   "outputs": [],
   "source": []
  },
  {
   "cell_type": "markdown",
   "id": "87611336",
   "metadata": {},
   "source": [
    "# Метод drop"
   ]
  },
  {
   "cell_type": "markdown",
   "id": "14a5611b",
   "metadata": {},
   "source": [
    "Метод для удаления коложнок из таблицы\n",
    "\n",
    "#### Синтаксис:\n",
    "\n",
    "1. df.drop(columns='название колонки' или спискок из названий колонок)\n",
    "2. df.drop('название колонки' или спискок из названий колонок, axis=1)\n",
    "3. df.drop('название колонки' или спискок из названий колонок, axis='columns')\n",
    "\n",
    "Кроме того, с помощью этого метода можно удалять индексы\n",
    "\n",
    "df.drop(название индекса или спискок из ненужных индексов)"
   ]
  },
  {
   "cell_type": "code",
   "execution_count": null,
   "id": "9c266b66",
   "metadata": {},
   "outputs": [],
   "source": [
    "df[['Фамилия', 'Число детей', 'Площадь дома',\n",
    "    'Дата рождения', 'Женат/Замужем']]"
   ]
  },
  {
   "cell_type": "code",
   "execution_count": null,
   "id": "0525f197",
   "metadata": {},
   "outputs": [],
   "source": [
    "df.drop(columns='Имя')\n",
    "df.drop('Имя', axis=1)\n",
    "df.drop('Имя', axis='columns')"
   ]
  },
  {
   "cell_type": "code",
   "execution_count": null,
   "id": "de5ce843",
   "metadata": {},
   "outputs": [],
   "source": [
    "df.drop(columns=['Имя', 'size'])\n",
    "df.drop(['Имя', 'size'], axis=1)\n",
    "df.drop(['Имя', 'size'], axis='columns')"
   ]
  },
  {
   "cell_type": "code",
   "execution_count": null,
   "id": "20d6f303",
   "metadata": {},
   "outputs": [],
   "source": [
    "df"
   ]
  },
  {
   "cell_type": "code",
   "execution_count": null,
   "id": "96903c31",
   "metadata": {},
   "outputs": [],
   "source": [
    "# df = df.drop(columns=['Имя', 'size'])"
   ]
  },
  {
   "cell_type": "code",
   "execution_count": null,
   "id": "c6f8ab87",
   "metadata": {},
   "outputs": [],
   "source": []
  },
  {
   "cell_type": "code",
   "execution_count": null,
   "id": "ce66a5ed",
   "metadata": {},
   "outputs": [],
   "source": []
  },
  {
   "cell_type": "code",
   "execution_count": null,
   "id": "a39e4770",
   "metadata": {},
   "outputs": [],
   "source": []
  },
  {
   "cell_type": "code",
   "execution_count": null,
   "id": "d87d4ed8",
   "metadata": {},
   "outputs": [],
   "source": []
  },
  {
   "cell_type": "code",
   "execution_count": null,
   "id": "6ab3f024",
   "metadata": {},
   "outputs": [],
   "source": []
  },
  {
   "cell_type": "code",
   "execution_count": null,
   "id": "b7d7b94b",
   "metadata": {},
   "outputs": [],
   "source": []
  },
  {
   "cell_type": "markdown",
   "id": "25070dd5",
   "metadata": {},
   "source": [
    "# Метод assign"
   ]
  },
  {
   "cell_type": "markdown",
   "id": "fdd3f537",
   "metadata": {},
   "source": [
    "Метод необходим для создания новых колонок.\n",
    "\n",
    "#### Синтаксис:\n",
    "\n",
    "df.assign(название колонки без кавычек = значение, которое надо присвоить колонке)"
   ]
  },
  {
   "cell_type": "markdown",
   "id": "7f051546",
   "metadata": {},
   "source": [
    "__Ограничения на названия колонок в методе assign:__\n",
    "1. Допускаются только символы латинского алфавита, цифры и _\n",
    "2. Название не должно начинасться на цифру\n",
    "3. Название не должно содержать пробелов"
   ]
  },
  {
   "cell_type": "code",
   "execution_count": null,
   "id": "1b64a58a",
   "metadata": {},
   "outputs": [],
   "source": [
    "(df\n",
    "    .assign(one = 1)\n",
    ")"
   ]
  },
  {
   "cell_type": "code",
   "execution_count": null,
   "id": "a85b3cc0",
   "metadata": {},
   "outputs": [],
   "source": [
    "# df['one'] = 1\n",
    "df"
   ]
  },
  {
   "cell_type": "code",
   "execution_count": null,
   "id": "29a7be24",
   "metadata": {},
   "outputs": [],
   "source": [
    "df = df.drop('one', axis=1)\n",
    "df"
   ]
  },
  {
   "cell_type": "code",
   "execution_count": null,
   "id": "1f3e07bd",
   "metadata": {},
   "outputs": [],
   "source": [
    "df.assign(range_1_7 = [1, 2, 3, 4, 5, 6, 7])"
   ]
  },
  {
   "cell_type": "code",
   "execution_count": null,
   "id": "672835b1",
   "metadata": {},
   "outputs": [],
   "source": [
    "(df\n",
    "    .assign(size = lambda x: x['size'].str.lower())\n",
    ")"
   ]
  },
  {
   "cell_type": "code",
   "execution_count": null,
   "id": "2f13698b",
   "metadata": {},
   "outputs": [],
   "source": [
    "(df\n",
    "    .assign(house_square = lambda x: x['Площадь дома'] * 2)\n",
    ")"
   ]
  },
  {
   "cell_type": "code",
   "execution_count": null,
   "id": "e7331052",
   "metadata": {},
   "outputs": [],
   "source": [
    "(df\n",
    "    .assign(house_square = lambda x: x['Площадь дома'] * 2)\n",
    "    .assign(house_square_1 = lambda x: x['house_square'])\n",
    ")"
   ]
  },
  {
   "cell_type": "code",
   "execution_count": null,
   "id": "ed42f6ab",
   "metadata": {},
   "outputs": [],
   "source": []
  },
  {
   "cell_type": "code",
   "execution_count": null,
   "id": "d3823bc8",
   "metadata": {},
   "outputs": [],
   "source": []
  },
  {
   "cell_type": "code",
   "execution_count": null,
   "id": "6a105dd0",
   "metadata": {},
   "outputs": [],
   "source": []
  },
  {
   "cell_type": "code",
   "execution_count": null,
   "id": "a6a25be4",
   "metadata": {},
   "outputs": [],
   "source": []
  },
  {
   "cell_type": "code",
   "execution_count": null,
   "id": "73e16053",
   "metadata": {},
   "outputs": [],
   "source": []
  },
  {
   "cell_type": "code",
   "execution_count": null,
   "id": "39434418",
   "metadata": {},
   "outputs": [],
   "source": []
  },
  {
   "cell_type": "code",
   "execution_count": null,
   "id": "bd71faa9",
   "metadata": {},
   "outputs": [],
   "source": []
  },
  {
   "cell_type": "code",
   "execution_count": null,
   "id": "f24f252b",
   "metadata": {},
   "outputs": [],
   "source": []
  },
  {
   "cell_type": "markdown",
   "id": "5581ebba",
   "metadata": {},
   "source": [
    "__Ограничения на названия колонок в методе assign:__\n",
    "1. Допускаются только символы латинского алфавита, цифры и _\n",
    "2. Название не должно начинасться на цифру\n",
    "3. Название не должно содержать пробелов"
   ]
  },
  {
   "cell_type": "markdown",
   "id": "59ef57b7",
   "metadata": {},
   "source": [
    "#### Создание колонок на русском языке"
   ]
  },
  {
   "cell_type": "code",
   "execution_count": null,
   "id": "c10c2eff",
   "metadata": {},
   "outputs": [],
   "source": [
    "# Не очень хороший вариант\n",
    "df.assign(Площадь_квартиры = lambda x: x['Площадь дома'])"
   ]
  },
  {
   "cell_type": "code",
   "execution_count": null,
   "id": "147fe4b4",
   "metadata": {},
   "outputs": [],
   "source": [
    "df.assign(**{'Площадь кваратиры': lambda x: x['Площадь дома']})"
   ]
  },
  {
   "cell_type": "code",
   "execution_count": null,
   "id": "d5e66011",
   "metadata": {},
   "outputs": [],
   "source": [
    "(df\n",
    "    .assign(flat_square = lambda x: x['Площадь дома'])\n",
    "    .rename({'flat_square': 'Площадь кваратиры'}, axis=1)\n",
    ")"
   ]
  },
  {
   "cell_type": "code",
   "execution_count": null,
   "id": "83cf00cb",
   "metadata": {},
   "outputs": [],
   "source": []
  },
  {
   "cell_type": "code",
   "execution_count": null,
   "id": "0bdd1fbb",
   "metadata": {},
   "outputs": [],
   "source": []
  },
  {
   "cell_type": "code",
   "execution_count": null,
   "id": "b3ba70fc",
   "metadata": {},
   "outputs": [],
   "source": []
  },
  {
   "cell_type": "code",
   "execution_count": null,
   "id": "5f54d311",
   "metadata": {},
   "outputs": [],
   "source": []
  },
  {
   "cell_type": "code",
   "execution_count": null,
   "id": "4bccd001",
   "metadata": {},
   "outputs": [],
   "source": []
  },
  {
   "cell_type": "code",
   "execution_count": null,
   "id": "91b6b128",
   "metadata": {},
   "outputs": [],
   "source": []
  },
  {
   "cell_type": "code",
   "execution_count": null,
   "id": "b5046041",
   "metadata": {},
   "outputs": [],
   "source": []
  },
  {
   "cell_type": "code",
   "execution_count": null,
   "id": "044b4821",
   "metadata": {},
   "outputs": [],
   "source": []
  },
  {
   "cell_type": "code",
   "execution_count": null,
   "id": "41bcc808",
   "metadata": {},
   "outputs": [],
   "source": []
  },
  {
   "cell_type": "markdown",
   "id": "52272ac2",
   "metadata": {},
   "source": [
    "# Атрибуты loc и iloc"
   ]
  },
  {
   "cell_type": "markdown",
   "id": "5bdecb5a",
   "metadata": {},
   "source": [
    "Методы loc и iloc очень похожи. Метод loc позволяет образаться к столбцам таблицы, строкам и ячейкам по названию колонок и индексов, а метод iloc по их номерам"
   ]
  },
  {
   "cell_type": "code",
   "execution_count": null,
   "id": "7dd13f74",
   "metadata": {},
   "outputs": [],
   "source": [
    "df = df.set_index('Фамилия')\n",
    "df"
   ]
  },
  {
   "cell_type": "markdown",
   "id": "5675ae9d",
   "metadata": {},
   "source": [
    "**Если передать в [ ] атрибута loc или iloc один аргумент, то вернется строка таблицы**"
   ]
  },
  {
   "cell_type": "code",
   "execution_count": null,
   "id": "81881605",
   "metadata": {},
   "outputs": [],
   "source": [
    "df.loc['Васильев']"
   ]
  },
  {
   "cell_type": "code",
   "execution_count": null,
   "id": "1a5bf8c5",
   "metadata": {},
   "outputs": [],
   "source": [
    "df.iloc[0]"
   ]
  },
  {
   "cell_type": "code",
   "execution_count": null,
   "id": "1b06398e",
   "metadata": {},
   "outputs": [],
   "source": []
  },
  {
   "cell_type": "code",
   "execution_count": null,
   "id": "ef8b0619",
   "metadata": {},
   "outputs": [],
   "source": []
  },
  {
   "cell_type": "markdown",
   "id": "9e4c6dd5",
   "metadata": {},
   "source": [
    "#### В них можно передавать списки"
   ]
  },
  {
   "cell_type": "code",
   "execution_count": null,
   "id": "037a3fa0",
   "metadata": {},
   "outputs": [],
   "source": [
    "df"
   ]
  },
  {
   "cell_type": "code",
   "execution_count": null,
   "id": "6ef19f5a",
   "metadata": {},
   "outputs": [],
   "source": [
    "df.loc[['Васильев', 'Павлов']]"
   ]
  },
  {
   "cell_type": "code",
   "execution_count": null,
   "id": "fc366ccc",
   "metadata": {},
   "outputs": [],
   "source": [
    "df.iloc[[0, 3]]"
   ]
  },
  {
   "cell_type": "markdown",
   "id": "0bb0e1e5",
   "metadata": {},
   "source": [
    "Если продублировать один и тот же индекс несколько раз, то соответствующая строка вернется несколько раз"
   ]
  },
  {
   "cell_type": "code",
   "execution_count": null,
   "id": "8336d962",
   "metadata": {},
   "outputs": [],
   "source": [
    "df.loc[['Васильев', 'Павлов', 'Васильев']]"
   ]
  },
  {
   "cell_type": "code",
   "execution_count": null,
   "id": "49c40782",
   "metadata": {},
   "outputs": [],
   "source": [
    "df.iloc[[0, 3, 0]]"
   ]
  },
  {
   "cell_type": "code",
   "execution_count": null,
   "id": "bcdb1167",
   "metadata": {},
   "outputs": [],
   "source": []
  },
  {
   "cell_type": "code",
   "execution_count": null,
   "id": "ad700972",
   "metadata": {},
   "outputs": [],
   "source": []
  },
  {
   "cell_type": "code",
   "execution_count": null,
   "id": "005cf4eb",
   "metadata": {},
   "outputs": [],
   "source": []
  },
  {
   "cell_type": "markdown",
   "id": "2a1c0fcc",
   "metadata": {},
   "source": [
    "#### Срезы"
   ]
  },
  {
   "cell_type": "code",
   "execution_count": null,
   "id": "be36ea1b",
   "metadata": {},
   "outputs": [],
   "source": [
    "df"
   ]
  },
  {
   "cell_type": "code",
   "execution_count": null,
   "id": "83c51f08",
   "metadata": {},
   "outputs": [],
   "source": [
    "df.loc['Алексеев': 'Николаев']"
   ]
  },
  {
   "cell_type": "code",
   "execution_count": null,
   "id": "9cf68091",
   "metadata": {},
   "outputs": [],
   "source": [
    "df.iloc[1:5]"
   ]
  },
  {
   "cell_type": "code",
   "execution_count": null,
   "id": "05c43757",
   "metadata": {},
   "outputs": [],
   "source": [
    "df.loc['Алексеев':]"
   ]
  },
  {
   "cell_type": "code",
   "execution_count": null,
   "id": "77362a3a",
   "metadata": {},
   "outputs": [],
   "source": [
    "df.iloc[1:]"
   ]
  },
  {
   "cell_type": "code",
   "execution_count": null,
   "id": "451d0a18",
   "metadata": {},
   "outputs": [],
   "source": [
    "df.loc['Алексеев':'Николаев':2]"
   ]
  },
  {
   "cell_type": "code",
   "execution_count": null,
   "id": "8c00f960",
   "metadata": {},
   "outputs": [],
   "source": [
    "df.iloc[1:5:2]"
   ]
  },
  {
   "cell_type": "code",
   "execution_count": null,
   "id": "bbae8b52",
   "metadata": {},
   "outputs": [],
   "source": [
    "df.loc['Алексеев'::2]"
   ]
  },
  {
   "cell_type": "code",
   "execution_count": null,
   "id": "9e6c6f06",
   "metadata": {},
   "outputs": [],
   "source": [
    "df.iloc[1::2]"
   ]
  },
  {
   "cell_type": "code",
   "execution_count": null,
   "id": "59ecd6cd",
   "metadata": {},
   "outputs": [],
   "source": []
  },
  {
   "cell_type": "code",
   "execution_count": null,
   "id": "f2209895",
   "metadata": {},
   "outputs": [],
   "source": []
  },
  {
   "cell_type": "code",
   "execution_count": null,
   "id": "2f04de44",
   "metadata": {},
   "outputs": [],
   "source": []
  },
  {
   "cell_type": "code",
   "execution_count": null,
   "id": "e0e05ff4",
   "metadata": {},
   "outputs": [],
   "source": []
  },
  {
   "cell_type": "code",
   "execution_count": null,
   "id": "05ce5c67",
   "metadata": {},
   "outputs": [],
   "source": []
  },
  {
   "cell_type": "code",
   "execution_count": null,
   "id": "eb8f7fbf",
   "metadata": {},
   "outputs": [],
   "source": []
  },
  {
   "cell_type": "markdown",
   "id": "8859295a",
   "metadata": {},
   "source": [
    "**В методы можно передавать 2 аргумента. Тогда первый аргумент будет отвечать за выбор строки, а второй за выбор столбца**"
   ]
  },
  {
   "cell_type": "code",
   "execution_count": null,
   "id": "775cbe11",
   "metadata": {},
   "outputs": [],
   "source": [
    "df"
   ]
  },
  {
   "cell_type": "code",
   "execution_count": null,
   "id": "69f254b2",
   "metadata": {},
   "outputs": [],
   "source": [
    "df.loc[['Алексеев', 'Павлов'], 'Имя': 'Дата рождения']"
   ]
  },
  {
   "cell_type": "code",
   "execution_count": null,
   "id": "201bfa76",
   "metadata": {},
   "outputs": [],
   "source": [
    "df.iloc[[0, 3], :4]"
   ]
  },
  {
   "cell_type": "markdown",
   "id": "2570a6a6",
   "metadata": {},
   "source": [
    "**Чтобы выбрать колонку таблицы, необходимо в качестве первого аргумента передать двоеточие**"
   ]
  },
  {
   "cell_type": "code",
   "execution_count": null,
   "id": "3bf39ee2",
   "metadata": {},
   "outputs": [],
   "source": [
    "df.loc[:, 'Дата рождения']"
   ]
  },
  {
   "cell_type": "code",
   "execution_count": null,
   "id": "87ec2cde",
   "metadata": {},
   "outputs": [],
   "source": [
    "df.iloc[:, 3]"
   ]
  },
  {
   "cell_type": "code",
   "execution_count": null,
   "id": "f04d7813",
   "metadata": {},
   "outputs": [],
   "source": [
    "df.iloc[:, [3]]"
   ]
  },
  {
   "cell_type": "code",
   "execution_count": null,
   "id": "3ca61997",
   "metadata": {},
   "outputs": [],
   "source": [
    "df.loc[:, ['Дата рождения']]"
   ]
  },
  {
   "cell_type": "code",
   "execution_count": null,
   "id": "e92e66e1",
   "metadata": {},
   "outputs": [],
   "source": []
  },
  {
   "cell_type": "code",
   "execution_count": null,
   "id": "d43efde3",
   "metadata": {},
   "outputs": [],
   "source": [
    "df.iloc[:, -3:]"
   ]
  },
  {
   "cell_type": "code",
   "execution_count": null,
   "id": "af03f46a",
   "metadata": {},
   "outputs": [],
   "source": []
  },
  {
   "cell_type": "markdown",
   "id": "b56b3a02",
   "metadata": {},
   "source": [
    "**Выбираем отдельные ячейки**"
   ]
  },
  {
   "cell_type": "code",
   "execution_count": null,
   "id": "5855c774",
   "metadata": {},
   "outputs": [],
   "source": [
    "df.loc['Алексеев', 'Имя']"
   ]
  },
  {
   "cell_type": "code",
   "execution_count": null,
   "id": "4db86a7b",
   "metadata": {},
   "outputs": [],
   "source": [
    "df.iloc[1, 0]"
   ]
  },
  {
   "cell_type": "code",
   "execution_count": null,
   "id": "b85a4ce8",
   "metadata": {},
   "outputs": [],
   "source": []
  },
  {
   "cell_type": "markdown",
   "id": "057fbffd",
   "metadata": {},
   "source": [
    "#### Обращение к мультииндексу"
   ]
  },
  {
   "cell_type": "code",
   "execution_count": null,
   "id": "bd2069dc",
   "metadata": {},
   "outputs": [],
   "source": [
    "path_sales_2021 = '../tables/sales_2021.parquet' if os.path.exists('../tables/sales.parquet') else \"https://drive.google.com/uc?id=1Xy4a_aAnTAG5fzsQDdwYiQxpNYRMyLkr\"\n",
    "# В видео была немного дуругая таблица\n",
    "sales_agg = (pd.read_parquet(path_sales_2021)\n",
    "             \n",
    "    [['check_id', 'customer_id', 'purchase_date', 'shop_id',\n",
    "     'product_code_3', 'price', 'goods_number']]\n",
    "             \n",
    "    .assign(month_end_date = lambda x: x['purchase_date'].dt.normalize()\n",
    "            + pd.offsets.MonthEnd(0))\n",
    "\n",
    "    .assign(price_mul_number = lambda x: x['price'] * x['goods_number'])\n",
    "             \n",
    "    .assign(total_goods_per_check = lambda x: x\n",
    "            .groupby('check_id')['goods_number'].transform('sum'))\n",
    "\n",
    "    .assign(total_sum_per_check = lambda x: x\n",
    "            .groupby('check_id')['price_mul_number'].transform('sum'))\n",
    "\n",
    "    [['customer_id', 'month_end_date', 'total_goods_per_check',\n",
    "      'total_sum_per_check', 'check_id']]\n",
    "             \n",
    "    .drop_duplicates()\n",
    "             \n",
    "    .groupby(['month_end_date', 'customer_id'])\n",
    "             \n",
    "    .agg({'total_goods_per_check': ['min', 'max', 'mean'],\n",
    "          'total_sum_per_check': ['min', 'max', 'mean'],\n",
    "          'check_id': 'count'})\n",
    "             \n",
    "    .rename({'total_goods_per_check': 'число товаров в чеке',\n",
    "            'total_sum_per_check': 'cумма покупки',\n",
    "            'check_id': 'id чека',\n",
    "            'min': 'минимум',\n",
    "            'max': 'максимум',\n",
    "            'mean': 'среднее',\n",
    "            'count': 'количество'}, axis=1)\n",
    "             \n",
    "    .rename_axis(['месяц', 'id клиента'])\n",
    "    .head()\n",
    ")\n",
    "sales_agg"
   ]
  },
  {
   "cell_type": "markdown",
   "id": "6bf6c65b",
   "metadata": {},
   "source": [
    "#### Метод iloc работает так же как и раньше"
   ]
  },
  {
   "cell_type": "code",
   "execution_count": null,
   "id": "c06807f4",
   "metadata": {},
   "outputs": [],
   "source": [
    "sales_agg.iloc[0]"
   ]
  },
  {
   "cell_type": "markdown",
   "id": "13bee010",
   "metadata": {},
   "source": [
    "Чтобы получить первую строку, указываем сначала первый индекс, а затем второй индекс в круглых скобках"
   ]
  },
  {
   "cell_type": "code",
   "execution_count": null,
   "id": "0b98cf86",
   "metadata": {},
   "outputs": [],
   "source": [
    "sales_agg.loc[('2021-01-31', 98)]"
   ]
  },
  {
   "cell_type": "markdown",
   "id": "94fd3ccd",
   "metadata": {},
   "source": [
    "Выбираем колонку"
   ]
  },
  {
   "cell_type": "code",
   "execution_count": null,
   "id": "25cd4076",
   "metadata": {},
   "outputs": [],
   "source": [
    "sales_agg.loc[:, ('cумма покупки', 'максимум')]"
   ]
  },
  {
   "cell_type": "code",
   "execution_count": null,
   "id": "c72f8979",
   "metadata": {},
   "outputs": [],
   "source": []
  },
  {
   "cell_type": "code",
   "execution_count": null,
   "id": "b23e4eef",
   "metadata": {},
   "outputs": [],
   "source": []
  },
  {
   "cell_type": "code",
   "execution_count": null,
   "id": "cf7d9a42",
   "metadata": {},
   "outputs": [],
   "source": []
  },
  {
   "cell_type": "code",
   "execution_count": null,
   "id": "daa7bd3c",
   "metadata": {},
   "outputs": [],
   "source": []
  },
  {
   "cell_type": "markdown",
   "id": "346beb4c",
   "metadata": {},
   "source": [
    "#### Выбор нескольких колонок"
   ]
  },
  {
   "cell_type": "code",
   "execution_count": null,
   "id": "0789afd8",
   "metadata": {},
   "outputs": [],
   "source": [
    "sales_agg"
   ]
  },
  {
   "cell_type": "markdown",
   "id": "94ca3740",
   "metadata": {},
   "source": [
    "Как кортеж списков. Первый список это названия из верхнего уровня колонок, а второй список это названия из нижнего уровня колонок"
   ]
  },
  {
   "cell_type": "code",
   "execution_count": null,
   "id": "33fdb994",
   "metadata": {},
   "outputs": [],
   "source": [
    "sales_agg.loc[:, (['cумма покупки', 'число товаров в чеке'], ['минимум', 'максимум'])]"
   ]
  },
  {
   "cell_type": "markdown",
   "id": "40792077",
   "metadata": {},
   "source": [
    "Как список кортежей. В каждом кортеже пара верхнего и нежнего уровней"
   ]
  },
  {
   "cell_type": "code",
   "execution_count": null,
   "id": "2d49989f",
   "metadata": {},
   "outputs": [],
   "source": [
    "sales_agg.loc[:, [('cумма покупки', 'минимум'), ('число товаров в чеке', 'максимум')]]"
   ]
  },
  {
   "cell_type": "code",
   "execution_count": null,
   "id": "4c724d47",
   "metadata": {},
   "outputs": [],
   "source": []
  },
  {
   "cell_type": "code",
   "execution_count": null,
   "id": "97d77ee3",
   "metadata": {},
   "outputs": [],
   "source": []
  },
  {
   "cell_type": "code",
   "execution_count": null,
   "id": "89952b34",
   "metadata": {},
   "outputs": [],
   "source": []
  },
  {
   "cell_type": "code",
   "execution_count": null,
   "id": "b0927a76",
   "metadata": {},
   "outputs": [],
   "source": []
  },
  {
   "cell_type": "markdown",
   "id": "95eab7c2",
   "metadata": {},
   "source": [
    "### Присваивание новых значений"
   ]
  },
  {
   "cell_type": "code",
   "execution_count": null,
   "id": "167b45a8",
   "metadata": {},
   "outputs": [],
   "source": [
    "df"
   ]
  },
  {
   "cell_type": "code",
   "execution_count": null,
   "id": "493027ed",
   "metadata": {},
   "outputs": [],
   "source": [
    "df.iloc[:, 5] = 'M'\n",
    "df"
   ]
  },
  {
   "cell_type": "code",
   "execution_count": null,
   "id": "60734a2a",
   "metadata": {},
   "outputs": [],
   "source": [
    "df.iloc[4, 5] = 'S'\n",
    "df"
   ]
  },
  {
   "cell_type": "code",
   "execution_count": null,
   "id": "a9d0ba37",
   "metadata": {},
   "outputs": [],
   "source": [
    "df.loc[:, 'size'] = ['L', 'L', 'S', 'M', 'XXL', 'M', 'XL']"
   ]
  },
  {
   "cell_type": "code",
   "execution_count": null,
   "id": "ba2437e6",
   "metadata": {},
   "outputs": [],
   "source": [
    "df"
   ]
  },
  {
   "cell_type": "markdown",
   "id": "408b3873",
   "metadata": {},
   "source": [
    "**При помощи метода loc можно создавать новые колонки и строки**"
   ]
  },
  {
   "cell_type": "code",
   "execution_count": null,
   "id": "05ca4ed2",
   "metadata": {},
   "outputs": [],
   "source": [
    "df.loc[:, 'n_children'] = df['Число детей'] * 2\n",
    "df"
   ]
  },
  {
   "cell_type": "code",
   "execution_count": null,
   "id": "9ead68e7",
   "metadata": {},
   "outputs": [],
   "source": []
  },
  {
   "cell_type": "code",
   "execution_count": null,
   "id": "1eefe348",
   "metadata": {},
   "outputs": [],
   "source": []
  },
  {
   "cell_type": "code",
   "execution_count": null,
   "id": "415b160c",
   "metadata": {},
   "outputs": [],
   "source": []
  },
  {
   "cell_type": "code",
   "execution_count": null,
   "id": "47a5f89f",
   "metadata": {},
   "outputs": [],
   "source": []
  },
  {
   "cell_type": "code",
   "execution_count": null,
   "id": "fc898705",
   "metadata": {},
   "outputs": [],
   "source": []
  },
  {
   "cell_type": "code",
   "execution_count": null,
   "id": "188668a5",
   "metadata": {},
   "outputs": [],
   "source": []
  },
  {
   "cell_type": "code",
   "execution_count": null,
   "id": "dfa299be",
   "metadata": {},
   "outputs": [],
   "source": []
  },
  {
   "cell_type": "markdown",
   "id": "3bb43ed7",
   "metadata": {},
   "source": [
    "### Пара слов про numpy"
   ]
  },
  {
   "cell_type": "code",
   "execution_count": null,
   "id": "467327ff",
   "metadata": {},
   "outputs": [],
   "source": [
    "np.arange(20).reshape(-1, 4)"
   ]
  },
  {
   "cell_type": "markdown",
   "id": "c0eafd83",
   "metadata": {},
   "source": [
    "#### [] работают так же как и метод iloc у таблиц"
   ]
  },
  {
   "cell_type": "code",
   "execution_count": null,
   "id": "feade1e9",
   "metadata": {},
   "outputs": [],
   "source": [
    "np.arange(20).reshape(-1, 4)[3]"
   ]
  },
  {
   "cell_type": "code",
   "execution_count": null,
   "id": "ec0fe062",
   "metadata": {},
   "outputs": [],
   "source": [
    "np.arange(20).reshape(-1, 4)[:, 2]"
   ]
  },
  {
   "cell_type": "code",
   "execution_count": null,
   "id": "b7be4298",
   "metadata": {},
   "outputs": [],
   "source": [
    "np.arange(20).reshape(-1, 4)[1, 1]"
   ]
  },
  {
   "cell_type": "code",
   "execution_count": null,
   "id": "75bb3e2d",
   "metadata": {},
   "outputs": [],
   "source": []
  },
  {
   "cell_type": "code",
   "execution_count": null,
   "id": "596f5053",
   "metadata": {},
   "outputs": [],
   "source": []
  },
  {
   "cell_type": "code",
   "execution_count": null,
   "id": "f60c3ad3",
   "metadata": {},
   "outputs": [],
   "source": []
  },
  {
   "cell_type": "code",
   "execution_count": null,
   "id": "1a8e1144",
   "metadata": {},
   "outputs": [],
   "source": []
  },
  {
   "cell_type": "code",
   "execution_count": null,
   "id": "6d4991cf",
   "metadata": {},
   "outputs": [],
   "source": []
  },
  {
   "cell_type": "code",
   "execution_count": null,
   "id": "fff0ccdf",
   "metadata": {},
   "outputs": [],
   "source": []
  },
  {
   "cell_type": "code",
   "execution_count": null,
   "id": "c5394ad7",
   "metadata": {},
   "outputs": [],
   "source": []
  },
  {
   "cell_type": "code",
   "execution_count": null,
   "id": "fbf2c7ff",
   "metadata": {},
   "outputs": [],
   "source": []
  },
  {
   "cell_type": "code",
   "execution_count": null,
   "id": "b7754561",
   "metadata": {},
   "outputs": [],
   "source": []
  },
  {
   "cell_type": "code",
   "execution_count": null,
   "id": "0693c1eb",
   "metadata": {},
   "outputs": [],
   "source": []
  },
  {
   "cell_type": "code",
   "execution_count": null,
   "id": "30892611",
   "metadata": {},
   "outputs": [],
   "source": []
  },
  {
   "cell_type": "markdown",
   "id": "91ba6407",
   "metadata": {},
   "source": [
    "# Обращение через атрибут класса"
   ]
  },
  {
   "cell_type": "code",
   "execution_count": null,
   "id": "42a6ebfa",
   "metadata": {},
   "outputs": [],
   "source": [
    "df"
   ]
  },
  {
   "cell_type": "code",
   "execution_count": null,
   "id": "9f7e8712",
   "metadata": {},
   "outputs": [],
   "source": [
    "df.n_children"
   ]
  },
  {
   "cell_type": "code",
   "execution_count": null,
   "id": "c53159c9",
   "metadata": {},
   "outputs": [],
   "source": [
    "df.Имя"
   ]
  },
  {
   "cell_type": "code",
   "execution_count": null,
   "id": "b3251ee0",
   "metadata": {},
   "outputs": [],
   "source": [
    "df.size"
   ]
  },
  {
   "cell_type": "code",
   "execution_count": null,
   "id": "b987b041",
   "metadata": {},
   "outputs": [],
   "source": [
    "df.n_children"
   ]
  },
  {
   "cell_type": "code",
   "execution_count": null,
   "id": "2d5ed73b",
   "metadata": {},
   "outputs": [],
   "source": [
    "df.n_children = 1"
   ]
  },
  {
   "cell_type": "code",
   "execution_count": null,
   "id": "465d8133",
   "metadata": {},
   "outputs": [],
   "source": [
    "df"
   ]
  },
  {
   "cell_type": "code",
   "execution_count": null,
   "id": "13f9e4a8",
   "metadata": {},
   "outputs": [],
   "source": [
    "df.one = 1"
   ]
  },
  {
   "cell_type": "code",
   "execution_count": null,
   "id": "709ea537",
   "metadata": {},
   "outputs": [],
   "source": [
    "df"
   ]
  },
  {
   "cell_type": "code",
   "execution_count": null,
   "id": "0a1ca7c2",
   "metadata": {},
   "outputs": [],
   "source": [
    "df.one"
   ]
  },
  {
   "cell_type": "code",
   "execution_count": null,
   "id": "5800ab62",
   "metadata": {},
   "outputs": [],
   "source": []
  },
  {
   "cell_type": "code",
   "execution_count": null,
   "id": "499a03f8",
   "metadata": {},
   "outputs": [],
   "source": []
  },
  {
   "cell_type": "code",
   "execution_count": null,
   "id": "8730e427",
   "metadata": {},
   "outputs": [],
   "source": []
  },
  {
   "cell_type": "code",
   "execution_count": null,
   "id": "20a3fa22",
   "metadata": {},
   "outputs": [],
   "source": []
  },
  {
   "cell_type": "code",
   "execution_count": null,
   "id": "ebc8920b",
   "metadata": {},
   "outputs": [],
   "source": []
  },
  {
   "cell_type": "markdown",
   "id": "bfdf74e1",
   "metadata": {},
   "source": [
    "### Метод item()"
   ]
  },
  {
   "cell_type": "markdown",
   "id": "6e881bdc",
   "metadata": {},
   "source": [
    "Когда в объекте Series всего один элемент, его можно получить при помощи метода item"
   ]
  },
  {
   "cell_type": "code",
   "execution_count": null,
   "id": "2939c6a7",
   "metadata": {},
   "outputs": [],
   "source": [
    "pd.Series(1)"
   ]
  },
  {
   "cell_type": "code",
   "execution_count": null,
   "id": "a3582e99",
   "metadata": {},
   "outputs": [],
   "source": [
    "pd.Series(1).item()"
   ]
  },
  {
   "cell_type": "code",
   "execution_count": null,
   "id": "eb3cd925",
   "metadata": {},
   "outputs": [],
   "source": [
    "pd.Series(1)[0]"
   ]
  },
  {
   "cell_type": "code",
   "execution_count": null,
   "id": "6a297579",
   "metadata": {},
   "outputs": [],
   "source": []
  },
  {
   "cell_type": "code",
   "execution_count": null,
   "id": "b9aee4b3",
   "metadata": {},
   "outputs": [],
   "source": []
  },
  {
   "cell_type": "code",
   "execution_count": null,
   "id": "594271c5",
   "metadata": {},
   "outputs": [],
   "source": []
  },
  {
   "cell_type": "code",
   "execution_count": null,
   "id": "e5abe1f1",
   "metadata": {},
   "outputs": [],
   "source": []
  },
  {
   "cell_type": "code",
   "execution_count": null,
   "id": "1a7acf68",
   "metadata": {},
   "outputs": [],
   "source": []
  },
  {
   "cell_type": "code",
   "execution_count": null,
   "id": "20f245b2",
   "metadata": {},
   "outputs": [],
   "source": []
  },
  {
   "cell_type": "code",
   "execution_count": null,
   "id": "8075f0bb",
   "metadata": {},
   "outputs": [],
   "source": []
  },
  {
   "cell_type": "code",
   "execution_count": null,
   "id": "f3b1fe44",
   "metadata": {},
   "outputs": [],
   "source": []
  },
  {
   "cell_type": "code",
   "execution_count": null,
   "id": "916920fa",
   "metadata": {},
   "outputs": [],
   "source": []
  },
  {
   "cell_type": "code",
   "execution_count": null,
   "id": "f0bbe212",
   "metadata": {},
   "outputs": [],
   "source": []
  },
  {
   "cell_type": "markdown",
   "id": "12dcf603",
   "metadata": {},
   "source": [
    "# Задания"
   ]
  },
  {
   "cell_type": "markdown",
   "id": "155dbc76",
   "metadata": {},
   "source": [
    "#### Описание таблиц лежит [здесь](https://github.com/victorlymarev/pandas/tree/main/tables#%D0%BE%D0%BF%D0%B8%D1%81%D0%B0%D0%BD%D0%B8%D0%B5-%D1%82%D0%B0%D0%B1%D0%BB%D0%B8%D1%86)"
   ]
  },
  {
   "cell_type": "markdown",
   "id": "1de11ce4",
   "metadata": {},
   "source": [
    "Некоторые таблицы занимают много памяти, поэтому каждые 5-10 заданий лучше перезапускайте ноутбук.\n",
    "\n",
    "В формулировке некоторых заданий может содержаться вариативность. Если у вас есть сомнения, что требуется в задании, попробуйте решить несколько вариантов. Если вы не понимаете задание, можете написать об этом в комментариях под видео.\n",
    "\n",
    "В большинстве случаев внешний вид итоговой таблицы не определен. Выведите на экран наиболее адекватный вариант. То есть таблицу, из которой можно будет сделать выводы.\n",
    "\n",
    "Курс пока находится в разработке. Вы можете помочь другим людям добавив свое решение [сюда](https://docs.google.com/forms/d/1HYTBz_KfssY3Jps2dC3n0YnEqa6WBb5OIhLo1d32Xzw/edit).\n",
    "\n",
    "Посмотреть решения других людей можно [здесь](https://docs.google.com/spreadsheets/d/1pMDYO-9UneLbPPnEuQ2shig0TOJdQTU-zipifyAnZMk/edit?resourcekey#gid=1998648012)"
   ]
  },
  {
   "cell_type": "markdown",
   "id": "6264be50",
   "metadata": {},
   "source": [
    "### Задание 1\n",
    "\n",
    "Из таблицы goods_descr выберите колонки ['product_code_3', 'gender', 'is_one_size', 'product_type', 'size_long']"
   ]
  },
  {
   "cell_type": "code",
   "execution_count": null,
   "id": "27d1e5af",
   "metadata": {},
   "outputs": [],
   "source": [
    "import os\n",
    "import pandas as pd\n",
    "\n",
    "path_goods_descr = '../tables/goods_description.parquet' if os.path.exists('../tables/goods_description.parquet') else 'https://drive.google.com/uc?id=1YbiD02Rev-X_WWV9nPSG1zZFmEh2JjPh'\n",
    "\n",
    "goods_descr = pd.read_parquet(path_goods_descr)\n",
    "goods_descr.head()"
   ]
  },
  {
   "cell_type": "code",
   "execution_count": null,
   "id": "ca2dde64",
   "metadata": {},
   "outputs": [],
   "source": [
    "# Напишите свой код здесь"
   ]
  },
  {
   "cell_type": "markdown",
   "id": "5d8cb51c",
   "metadata": {},
   "source": [
    "### Задание 2\n",
    "\n",
    "С помощью метода drop удалите из таблицы sales колонки cashier и shop_assistant\t"
   ]
  },
  {
   "cell_type": "code",
   "execution_count": null,
   "id": "851783f7",
   "metadata": {},
   "outputs": [],
   "source": [
    "import os\n",
    "import pandas as pd\n",
    "\n",
    "path_sales_2022 = '../tables/sales_2022.parquet' if os.path.exists('../tables/sales_2022.parquet') else 'https://drive.google.com/uc?id=17e7FwXVdsWc2aziK9s5KidIvPcfKt9F5'\n",
    "\n",
    "sales = pd.read_parquet(path_sales_2022)\n",
    "sales.head()"
   ]
  },
  {
   "cell_type": "code",
   "execution_count": null,
   "id": "ca03edd4",
   "metadata": {},
   "outputs": [],
   "source": [
    "# Напишите свой код здесь"
   ]
  },
  {
   "cell_type": "markdown",
   "id": "15679c00",
   "metadata": {},
   "source": [
    "### Задание 3\n",
    "\n",
    "Из таблицы sales возьмите первые 6 колонок.\n",
    "\n",
    "Можете сдалать это любым способом, но в данном случае это удобно сделать методом iloc[] "
   ]
  },
  {
   "cell_type": "code",
   "execution_count": null,
   "id": "9a2a357b",
   "metadata": {},
   "outputs": [],
   "source": [
    "import os\n",
    "import pandas as pd\n",
    "\n",
    "path_sales_2022 = '../tables/sales_2022.parquet' if os.path.exists('../tables/sales_2022.parquet') else 'https://drive.google.com/uc?id=17e7FwXVdsWc2aziK9s5KidIvPcfKt9F5'\n",
    "\n",
    "sales = pd.read_parquet(path_sales_2022)\n",
    "sales.head()"
   ]
  },
  {
   "cell_type": "code",
   "execution_count": null,
   "id": "0a4069d0",
   "metadata": {},
   "outputs": [],
   "source": [
    "# Напишите свой код здесь"
   ]
  },
  {
   "cell_type": "markdown",
   "id": "7fe5c62c",
   "metadata": {},
   "source": [
    "### Задание 4\n",
    "\n",
    "В таблице marks_6d при помощи метода assign создайте колонку состоящую из единиц. Дайте ей название indicator\n",
    "\n",
    "Иногда такие колонки удобно создавать перед соединением двух таблиц, чтобы в уже соединенной таблице понимать, какие наблюдения берутся из одной таблицы, а какие из другой"
   ]
  },
  {
   "cell_type": "code",
   "execution_count": null,
   "id": "74312f09",
   "metadata": {},
   "outputs": [],
   "source": [
    "import os\n",
    "import pandas as pd\n",
    "path_marks_6d = '../tables/оценки 6Д.csv' if os.path.exists('../tables/оценки 6Д.csv') else 'https://drive.google.com/uc?id=1aMvwur2zrISbVPRo86qWgbHPEpw5km0n'\n",
    "marks_6d = pd.read_csv(path_marks_6d)\n",
    "marks_6d.head()"
   ]
  },
  {
   "cell_type": "code",
   "execution_count": null,
   "id": "12f92ead",
   "metadata": {},
   "outputs": [],
   "source": [
    "# Напишите свой код здесь"
   ]
  },
  {
   "cell_type": "markdown",
   "id": "8d770913",
   "metadata": {},
   "source": [
    "### Задание 5\n",
    "\n",
    "В таблице empl при помощи метода assign создайте колонку fio_copy, которая будет содержать в себе копию колонки fio"
   ]
  },
  {
   "cell_type": "code",
   "execution_count": null,
   "id": "c1c652be",
   "metadata": {},
   "outputs": [],
   "source": [
    "import os\n",
    "import pandas as pd\n",
    "\n",
    "path_empl = '../tables/employees.parquet' if os.path.exists('../tables/employees.parquet') else 'https://drive.google.com/uc?id=1AARD5-eVlCxoApt5CYZebrC3Cqw42lvj'\n",
    "\n",
    "empl = pd.read_parquet(path_empl)\n",
    "empl.head()"
   ]
  },
  {
   "cell_type": "code",
   "execution_count": null,
   "id": "3357ec28",
   "metadata": {},
   "outputs": [],
   "source": [
    "# Напишите свой код здесь"
   ]
  },
  {
   "cell_type": "markdown",
   "id": "4056b201",
   "metadata": {},
   "source": [
    "### Задание 6\n",
    "\n",
    "Задание на numpy\n",
    "\n",
    "С помощью функции np.eye можно созадавать матрицу, у которой по диагонали лежат единицы. Однако у матрицы 2 диагонали. Сделайте так, чтобы в единичной матрице 6 на 6 единицы шли не из верхнего левого угла в нижний правый, а из нижнего левого в верхний правый угол.\n",
    "\n",
    "Чтобы это сделать необходимо развернуть матрицу (взять все элементы с шагом -1)"
   ]
  },
  {
   "cell_type": "code",
   "execution_count": null,
   "id": "adf1eadc",
   "metadata": {},
   "outputs": [],
   "source": [
    "import numpy as np\n",
    "# надо из такой матрицы сделать\n",
    "np.eye(3)"
   ]
  },
  {
   "cell_type": "code",
   "execution_count": null,
   "id": "3a34d82d",
   "metadata": {},
   "outputs": [],
   "source": [
    "# вот такую, только размером 6 на 6\n",
    "np.array([[0., 0., 1.],\n",
    "          [0., 1., 0.],\n",
    "          [1., 0., 0.]])"
   ]
  },
  {
   "cell_type": "code",
   "execution_count": null,
   "id": "76e1bec3",
   "metadata": {},
   "outputs": [],
   "source": [
    "# Напишите свой код здесь"
   ]
  },
  {
   "cell_type": "markdown",
   "id": "690ec807",
   "metadata": {},
   "source": [
    "### Задание 7\n",
    "\n",
    "Задание на numpy\n",
    "\n",
    "Вы уже знаете, как отразить матрицу в вдоль диагонали выходящей из верхнего левого угла. Для этого необходимо ее транспонировать. Теперь попробуйте отражить ее по другой диагонали"
   ]
  },
  {
   "cell_type": "code",
   "execution_count": null,
   "id": "dabb8341",
   "metadata": {},
   "outputs": [],
   "source": [
    "import numpy as np\n",
    "np.random.seed(234)\n",
    "matrix = np.random.randint(0, 10, (3, 5))\n",
    "matrix"
   ]
  },
  {
   "cell_type": "code",
   "execution_count": null,
   "id": "909ef171",
   "metadata": {},
   "outputs": [],
   "source": [
    "# Напишите свой код здесь"
   ]
  },
  {
   "cell_type": "code",
   "execution_count": null,
   "id": "4d1df447",
   "metadata": {},
   "outputs": [],
   "source": []
  },
  {
   "cell_type": "code",
   "execution_count": null,
   "id": "db4a6dc8",
   "metadata": {},
   "outputs": [],
   "source": []
  },
  {
   "cell_type": "code",
   "execution_count": null,
   "id": "3745e80f",
   "metadata": {},
   "outputs": [],
   "source": []
  },
  {
   "cell_type": "code",
   "execution_count": null,
   "id": "b0ea1562",
   "metadata": {},
   "outputs": [],
   "source": []
  },
  {
   "cell_type": "code",
   "execution_count": null,
   "id": "83ef31c9",
   "metadata": {},
   "outputs": [],
   "source": []
  }
 ],
 "metadata": {
  "kernelspec": {
   "display_name": "Python 3 (ipykernel)",
   "language": "python",
   "name": "python3"
  },
  "language_info": {
   "codemirror_mode": {
    "name": "ipython",
    "version": 3
   },
   "file_extension": ".py",
   "mimetype": "text/x-python",
   "name": "python",
   "nbconvert_exporter": "python",
   "pygments_lexer": "ipython3",
   "version": "3.11.5"
  }
 },
 "nbformat": 4,
 "nbformat_minor": 5
}
