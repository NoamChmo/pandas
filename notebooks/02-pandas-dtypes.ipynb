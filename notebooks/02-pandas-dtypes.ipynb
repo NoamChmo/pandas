{
 "cells": [
  {
   "cell_type": "markdown",
   "id": "3bc56482",
   "metadata": {},
   "source": [
    "<a target=\"_blank\" href=\"https://colab.research.google.com/github/victorlymarev/pandas/blob/main/notebooks/02-pandas-dtypes.ipynb\">\n",
    "  <img src=\"https://colab.research.google.com/assets/colab-badge.svg\" alt=\"Open In Colab\"/>\n",
    "</a>"
   ]
  },
  {
   "cell_type": "markdown",
   "id": "a38cd6b2",
   "metadata": {},
   "source": [
    "# Код из видео"
   ]
  },
  {
   "cell_type": "markdown",
   "id": "5dd82ccb",
   "metadata": {},
   "source": [
    "Если вы будете работать с этим ноутбуком в google colab и у вас что-то не будет работать, то раскоментируйте ячейку ниже (для этого выделите содержимое ячейки и нажмите на клавиши ctrl / (если смотреть по английской раскладке или ctrl . для русской), либо просто руками уберите # и пробел после нее в каждой строчке) и запустите ее."
   ]
  },
  {
   "cell_type": "code",
   "execution_count": null,
   "id": "3cb6c2fa",
   "metadata": {},
   "outputs": [],
   "source": [
    "# import os\n",
    "# os._exit(00)\n",
    "# !pip install pyarrow pandas==1.5.3"
   ]
  },
  {
   "cell_type": "markdown",
   "id": "7ec23343",
   "metadata": {},
   "source": [
    "Импортируем библиотеки. Библитека os нужна, чтобы вы не скачивали таблицу второй раз если она у вас уже скачана, и скачалаи ее, если она у вас не скачана"
   ]
  },
  {
   "cell_type": "code",
   "execution_count": 12,
   "id": "dce4569a",
   "metadata": {},
   "outputs": [],
   "source": [
    "import os\n",
    "import pandas as pd"
   ]
  },
  {
   "cell_type": "markdown",
   "id": "142d3099",
   "metadata": {},
   "source": [
    "#### Проверить к какому классу относится объект, можно при помощи функции type"
   ]
  },
  {
   "cell_type": "code",
   "execution_count": 13,
   "id": "0c74c8b3",
   "metadata": {},
   "outputs": [
    {
     "data": {
      "text/plain": [
       "int"
      ]
     },
     "execution_count": 13,
     "metadata": {},
     "output_type": "execute_result"
    }
   ],
   "source": [
    "type(123)"
   ]
  },
  {
   "cell_type": "code",
   "execution_count": 14,
   "id": "d675dd2a",
   "metadata": {},
   "outputs": [
    {
     "data": {
      "text/plain": [
       "str"
      ]
     },
     "execution_count": 14,
     "metadata": {},
     "output_type": "execute_result"
    }
   ],
   "source": [
    "type('pandas')"
   ]
  },
  {
   "cell_type": "markdown",
   "id": "b0c14cdb",
   "metadata": {},
   "source": [
    "От того, к какому классу принадлежит отбъект, зависят его свойства"
   ]
  },
  {
   "cell_type": "code",
   "execution_count": 15,
   "id": "13b74ee8",
   "metadata": {},
   "outputs": [
    {
     "data": {
      "text/plain": [
       "3"
      ]
     },
     "execution_count": 15,
     "metadata": {},
     "output_type": "execute_result"
    }
   ],
   "source": [
    "1 + 2"
   ]
  },
  {
   "cell_type": "code",
   "execution_count": 16,
   "id": "9e483b06",
   "metadata": {},
   "outputs": [
    {
     "data": {
      "text/plain": [
       "'12'"
      ]
     },
     "execution_count": 16,
     "metadata": {},
     "output_type": "execute_result"
    }
   ],
   "source": [
    "'1' + '2'"
   ]
  },
  {
   "cell_type": "markdown",
   "id": "639a77d5",
   "metadata": {},
   "source": [
    "Читаем таблицу"
   ]
  },
  {
   "cell_type": "code",
   "execution_count": 17,
   "id": "d4c8e633",
   "metadata": {},
   "outputs": [
    {
     "data": {
      "text/html": [
       "<div>\n",
       "<style scoped>\n",
       "    .dataframe tbody tr th:only-of-type {\n",
       "        vertical-align: middle;\n",
       "    }\n",
       "\n",
       "    .dataframe tbody tr th {\n",
       "        vertical-align: top;\n",
       "    }\n",
       "\n",
       "    .dataframe thead th {\n",
       "        text-align: right;\n",
       "    }\n",
       "</style>\n",
       "<table border=\"1\" class=\"dataframe\">\n",
       "  <thead>\n",
       "    <tr style=\"text-align: right;\">\n",
       "      <th></th>\n",
       "      <th>Имя</th>\n",
       "      <th>Фамилия</th>\n",
       "      <th>Число детей</th>\n",
       "      <th>Площадь дома</th>\n",
       "      <th>Дата рождения</th>\n",
       "      <th>Женат/Замужем</th>\n",
       "    </tr>\n",
       "  </thead>\n",
       "  <tbody>\n",
       "    <tr>\n",
       "      <th>0</th>\n",
       "      <td>Илья</td>\n",
       "      <td>Васильев</td>\n",
       "      <td>0</td>\n",
       "      <td>56.3</td>\n",
       "      <td>1996-11-30</td>\n",
       "      <td>False</td>\n",
       "    </tr>\n",
       "    <tr>\n",
       "      <th>1</th>\n",
       "      <td>Антон</td>\n",
       "      <td>Алексеев</td>\n",
       "      <td>2</td>\n",
       "      <td>77.0</td>\n",
       "      <td>1976-02-29</td>\n",
       "      <td>True</td>\n",
       "    </tr>\n",
       "    <tr>\n",
       "      <th>2</th>\n",
       "      <td>Надежда</td>\n",
       "      <td>Гусева</td>\n",
       "      <td>3</td>\n",
       "      <td>103.1</td>\n",
       "      <td>1964-09-26</td>\n",
       "      <td>True</td>\n",
       "    </tr>\n",
       "    <tr>\n",
       "      <th>3</th>\n",
       "      <td>Артем</td>\n",
       "      <td>Павлов</td>\n",
       "      <td>5</td>\n",
       "      <td>134.9</td>\n",
       "      <td>1980-05-18</td>\n",
       "      <td>True</td>\n",
       "    </tr>\n",
       "    <tr>\n",
       "      <th>4</th>\n",
       "      <td>Александр</td>\n",
       "      <td>Николаев</td>\n",
       "      <td>1</td>\n",
       "      <td>47.0</td>\n",
       "      <td>1959-02-24</td>\n",
       "      <td>True</td>\n",
       "    </tr>\n",
       "    <tr>\n",
       "      <th>5</th>\n",
       "      <td>Дмитрий</td>\n",
       "      <td>Печенкин</td>\n",
       "      <td>2</td>\n",
       "      <td>61.0</td>\n",
       "      <td>1939-04-05</td>\n",
       "      <td>False</td>\n",
       "    </tr>\n",
       "    <tr>\n",
       "      <th>6</th>\n",
       "      <td>Дарья</td>\n",
       "      <td>Воробева</td>\n",
       "      <td>3</td>\n",
       "      <td>NaN</td>\n",
       "      <td>1997-07-23</td>\n",
       "      <td>True</td>\n",
       "    </tr>\n",
       "  </tbody>\n",
       "</table>\n",
       "</div>"
      ],
      "text/plain": [
       "         Имя   Фамилия  Число детей  Площадь дома Дата рождения  Женат/Замужем\n",
       "0       Илья  Васильев            0          56.3    1996-11-30          False\n",
       "1      Антон  Алексеев            2          77.0    1976-02-29           True\n",
       "2    Надежда    Гусева            3         103.1    1964-09-26           True\n",
       "3      Артем    Павлов            5         134.9    1980-05-18           True\n",
       "4  Александр  Николаев            1          47.0    1959-02-24           True\n",
       "5    Дмитрий  Печенкин            2          61.0    1939-04-05          False\n",
       "6      Дарья  Воробева            3           NaN    1997-07-23           True"
      ]
     },
     "execution_count": 17,
     "metadata": {},
     "output_type": "execute_result"
    }
   ],
   "source": [
    "path_people = '../tables/people.parquet' if os.path.exists('../tables/people.parquet') else 'https://drive.google.com/uc?id=1iI1Lde5ya3ruztGYmjpprSCUoCU9rBeS'\n",
    "\n",
    "people = pd.read_parquet(path_people)\n",
    "people"
   ]
  },
  {
   "cell_type": "code",
   "execution_count": 18,
   "id": "98117afd",
   "metadata": {},
   "outputs": [
    {
     "data": {
      "text/plain": [
       "0    Васильев\n",
       "1    Алексеев\n",
       "2      Гусева\n",
       "3      Павлов\n",
       "4    Николаев\n",
       "5    Печенкин\n",
       "6    Воробева\n",
       "Name: Фамилия, dtype: string"
      ]
     },
     "execution_count": 18,
     "metadata": {},
     "output_type": "execute_result"
    }
   ],
   "source": [
    "people['Фамилия']"
   ]
  },
  {
   "cell_type": "markdown",
   "id": "f26a599b",
   "metadata": {},
   "source": [
    "### info\n",
    "\n",
    "Метод выводит на экран таблицу, в которой указаны название столбца, число заполненых ячейк и тип данных в стобце"
   ]
  },
  {
   "cell_type": "code",
   "execution_count": 19,
   "id": "0ebe1782",
   "metadata": {},
   "outputs": [
    {
     "name": "stdout",
     "output_type": "stream",
     "text": [
      "<class 'pandas.core.frame.DataFrame'>\n",
      "RangeIndex: 7 entries, 0 to 6\n",
      "Data columns (total 6 columns):\n",
      " #   Column         Non-Null Count  Dtype         \n",
      "---  ------         --------------  -----         \n",
      " 0   Имя            7 non-null      object        \n",
      " 1   Фамилия        7 non-null      string        \n",
      " 2   Число детей    7 non-null      int64         \n",
      " 3   Площадь дома   6 non-null      float64       \n",
      " 4   Дата рождения  7 non-null      datetime64[ns]\n",
      " 5   Женат/Замужем  7 non-null      bool          \n",
      "dtypes: bool(1), datetime64[ns](1), float64(1), int64(1), object(1), string(1)\n",
      "memory usage: 419.0+ bytes\n"
     ]
    }
   ],
   "source": [
    "people.info()"
   ]
  },
  {
   "cell_type": "code",
   "execution_count": 20,
   "id": "0b247d2e",
   "metadata": {},
   "outputs": [
    {
     "data": {
      "text/html": [
       "<div>\n",
       "<style scoped>\n",
       "    .dataframe tbody tr th:only-of-type {\n",
       "        vertical-align: middle;\n",
       "    }\n",
       "\n",
       "    .dataframe tbody tr th {\n",
       "        vertical-align: top;\n",
       "    }\n",
       "\n",
       "    .dataframe thead th {\n",
       "        text-align: right;\n",
       "    }\n",
       "</style>\n",
       "<table border=\"1\" class=\"dataframe\">\n",
       "  <thead>\n",
       "    <tr style=\"text-align: right;\">\n",
       "      <th></th>\n",
       "      <th>Имя</th>\n",
       "      <th>Фамилия</th>\n",
       "      <th>Число детей</th>\n",
       "      <th>Площадь дома</th>\n",
       "      <th>Дата рождения</th>\n",
       "      <th>Женат/Замужем</th>\n",
       "    </tr>\n",
       "  </thead>\n",
       "  <tbody>\n",
       "    <tr>\n",
       "      <th>0</th>\n",
       "      <td>Илья</td>\n",
       "      <td>Васильев</td>\n",
       "      <td>0</td>\n",
       "      <td>56.3</td>\n",
       "      <td>1996-11-30</td>\n",
       "      <td>False</td>\n",
       "    </tr>\n",
       "    <tr>\n",
       "      <th>1</th>\n",
       "      <td>Антон</td>\n",
       "      <td>Алексеев</td>\n",
       "      <td>2</td>\n",
       "      <td>77.0</td>\n",
       "      <td>1976-02-29</td>\n",
       "      <td>True</td>\n",
       "    </tr>\n",
       "    <tr>\n",
       "      <th>2</th>\n",
       "      <td>Надежда</td>\n",
       "      <td>Гусева</td>\n",
       "      <td>3</td>\n",
       "      <td>103.1</td>\n",
       "      <td>1964-09-26</td>\n",
       "      <td>True</td>\n",
       "    </tr>\n",
       "    <tr>\n",
       "      <th>3</th>\n",
       "      <td>Артем</td>\n",
       "      <td>Павлов</td>\n",
       "      <td>5</td>\n",
       "      <td>134.9</td>\n",
       "      <td>1980-05-18</td>\n",
       "      <td>True</td>\n",
       "    </tr>\n",
       "    <tr>\n",
       "      <th>4</th>\n",
       "      <td>Александр</td>\n",
       "      <td>Николаев</td>\n",
       "      <td>1</td>\n",
       "      <td>47.0</td>\n",
       "      <td>1959-02-24</td>\n",
       "      <td>True</td>\n",
       "    </tr>\n",
       "    <tr>\n",
       "      <th>5</th>\n",
       "      <td>Дмитрий</td>\n",
       "      <td>Печенкин</td>\n",
       "      <td>2</td>\n",
       "      <td>61.0</td>\n",
       "      <td>1939-04-05</td>\n",
       "      <td>False</td>\n",
       "    </tr>\n",
       "    <tr>\n",
       "      <th>6</th>\n",
       "      <td>Дарья</td>\n",
       "      <td>Воробева</td>\n",
       "      <td>3</td>\n",
       "      <td>NaN</td>\n",
       "      <td>1997-07-23</td>\n",
       "      <td>True</td>\n",
       "    </tr>\n",
       "  </tbody>\n",
       "</table>\n",
       "</div>"
      ],
      "text/plain": [
       "         Имя   Фамилия  Число детей  Площадь дома Дата рождения  Женат/Замужем\n",
       "0       Илья  Васильев            0          56.3    1996-11-30          False\n",
       "1      Антон  Алексеев            2          77.0    1976-02-29           True\n",
       "2    Надежда    Гусева            3         103.1    1964-09-26           True\n",
       "3      Артем    Павлов            5         134.9    1980-05-18           True\n",
       "4  Александр  Николаев            1          47.0    1959-02-24           True\n",
       "5    Дмитрий  Печенкин            2          61.0    1939-04-05          False\n",
       "6      Дарья  Воробева            3           NaN    1997-07-23           True"
      ]
     },
     "execution_count": 20,
     "metadata": {},
     "output_type": "execute_result"
    }
   ],
   "source": [
    "people"
   ]
  },
  {
   "cell_type": "markdown",
   "id": "ab730f8a",
   "metadata": {},
   "source": [
    "#### Типы:\n",
    "1. __object__ - тип данных, который в основном используется для строк (строки - это текст, они записываются в кавычках), но может содержать и другие типы данных\n",
    "2. __string__ - тип данных, предназначеный для хранения строк\n",
    "3. __int + число__ - целые числа\n",
    "4. __float + число__ - числа с плавующей точкой\n",
    "5. __datetime64[ns]__ - даты и время\n",
    "6. __bool__ - логический тип. Если True, то правда, если False, то ложь"
   ]
  },
  {
   "cell_type": "code",
   "execution_count": 21,
   "id": "081e44b6",
   "metadata": {},
   "outputs": [],
   "source": [
    "df_path = '../tables/modified_dtypes.pkl' if os.path.exists('../tables/школьные оценки.xlsx') else 'https://drive.google.com/uc?id=1Q_MDakkji87seNz6nWH54cLF9_54Ix81'\n",
    "df = pd.read_pickle(df_path)"
   ]
  },
  {
   "cell_type": "code",
   "execution_count": 22,
   "id": "3ab716c6",
   "metadata": {},
   "outputs": [
    {
     "data": {
      "text/html": [
       "<div>\n",
       "<style scoped>\n",
       "    .dataframe tbody tr th:only-of-type {\n",
       "        vertical-align: middle;\n",
       "    }\n",
       "\n",
       "    .dataframe tbody tr th {\n",
       "        vertical-align: top;\n",
       "    }\n",
       "\n",
       "    .dataframe thead th {\n",
       "        text-align: right;\n",
       "    }\n",
       "</style>\n",
       "<table border=\"1\" class=\"dataframe\">\n",
       "  <thead>\n",
       "    <tr style=\"text-align: right;\">\n",
       "      <th></th>\n",
       "      <th>Имя</th>\n",
       "      <th>Фамилия</th>\n",
       "      <th>Число детей</th>\n",
       "      <th>Площадь дома</th>\n",
       "      <th>Дата рождения</th>\n",
       "      <th>Дата устройства на работу</th>\n",
       "      <th>Заработная плата</th>\n",
       "      <th>Автомобиль</th>\n",
       "    </tr>\n",
       "  </thead>\n",
       "  <tbody>\n",
       "    <tr>\n",
       "      <th>0</th>\n",
       "      <td>Илья</td>\n",
       "      <td>Васильев</td>\n",
       "      <td>0</td>\n",
       "      <td>56.3</td>\n",
       "      <td>1996-11-30</td>\n",
       "      <td>12#02/2020</td>\n",
       "      <td>45000</td>\n",
       "      <td>киа</td>\n",
       "    </tr>\n",
       "    <tr>\n",
       "      <th>1</th>\n",
       "      <td>Антон</td>\n",
       "      <td>Алексеев</td>\n",
       "      <td>2</td>\n",
       "      <td>77.0</td>\n",
       "      <td>1976-02-29</td>\n",
       "      <td>20#12/2001</td>\n",
       "      <td>33000</td>\n",
       "      <td>рено</td>\n",
       "    </tr>\n",
       "    <tr>\n",
       "      <th>2</th>\n",
       "      <td>Надежда</td>\n",
       "      <td>Гусева</td>\n",
       "      <td>3</td>\n",
       "      <td>103.1</td>\n",
       "      <td>1964-09-26</td>\n",
       "      <td>09#06/1981</td>\n",
       "      <td>80000</td>\n",
       "      <td>жигули</td>\n",
       "    </tr>\n",
       "    <tr>\n",
       "      <th>3</th>\n",
       "      <td>Артем</td>\n",
       "      <td>Павлов</td>\n",
       "      <td>5</td>\n",
       "      <td>134.9</td>\n",
       "      <td>1980-05-18</td>\n",
       "      <td>09#09/2008</td>\n",
       "      <td>50000</td>\n",
       "      <td>бмв</td>\n",
       "    </tr>\n",
       "    <tr>\n",
       "      <th>4</th>\n",
       "      <td>Александр</td>\n",
       "      <td>Николаев</td>\n",
       "      <td>1</td>\n",
       "      <td>47.0</td>\n",
       "      <td>1959-02-24</td>\n",
       "      <td>03#07/2019</td>\n",
       "      <td>29000</td>\n",
       "      <td>киа</td>\n",
       "    </tr>\n",
       "    <tr>\n",
       "      <th>5</th>\n",
       "      <td>Дмитрий</td>\n",
       "      <td>Печенкин</td>\n",
       "      <td>2</td>\n",
       "      <td>61.0</td>\n",
       "      <td>1939-04-05</td>\n",
       "      <td>19#08/1958</td>\n",
       "      <td>100000</td>\n",
       "      <td>жигули</td>\n",
       "    </tr>\n",
       "    <tr>\n",
       "      <th>6</th>\n",
       "      <td>Дарья</td>\n",
       "      <td>Воробева</td>\n",
       "      <td>3</td>\n",
       "      <td>65.0</td>\n",
       "      <td>1997-07-23</td>\n",
       "      <td>20#12/2022</td>\n",
       "      <td>NaN</td>\n",
       "      <td>&lt;NA&gt;</td>\n",
       "    </tr>\n",
       "  </tbody>\n",
       "</table>\n",
       "</div>"
      ],
      "text/plain": [
       "         Имя   Фамилия Число детей Площадь дома Дата рождения  \\\n",
       "0       Илья  Васильев           0         56.3    1996-11-30   \n",
       "1      Антон  Алексеев           2         77.0    1976-02-29   \n",
       "2    Надежда    Гусева           3        103.1    1964-09-26   \n",
       "3      Артем    Павлов           5        134.9    1980-05-18   \n",
       "4  Александр  Николаев           1         47.0    1959-02-24   \n",
       "5    Дмитрий  Печенкин           2         61.0    1939-04-05   \n",
       "6      Дарья  Воробева           3         65.0    1997-07-23   \n",
       "\n",
       "  Дата устройства на работу Заработная плата Автомобиль  \n",
       "0                12#02/2020            45000        киа  \n",
       "1                20#12/2001            33000       рено  \n",
       "2                09#06/1981            80000     жигули  \n",
       "3                09#09/2008            50000        бмв  \n",
       "4                03#07/2019            29000        киа  \n",
       "5                19#08/1958           100000     жигули  \n",
       "6                20#12/2022              NaN       <NA>  "
      ]
     },
     "execution_count": 22,
     "metadata": {},
     "output_type": "execute_result"
    }
   ],
   "source": [
    "df"
   ]
  },
  {
   "cell_type": "markdown",
   "id": "6d26fbee",
   "metadata": {},
   "source": [
    "Все колонки в таблице представленны типом object"
   ]
  },
  {
   "cell_type": "code",
   "execution_count": 23,
   "id": "cf244871",
   "metadata": {},
   "outputs": [
    {
     "name": "stdout",
     "output_type": "stream",
     "text": [
      "<class 'pandas.core.frame.DataFrame'>\n",
      "RangeIndex: 7 entries, 0 to 6\n",
      "Data columns (total 8 columns):\n",
      " #   Column                     Non-Null Count  Dtype \n",
      "---  ------                     --------------  ----- \n",
      " 0   Имя                        7 non-null      object\n",
      " 1   Фамилия                    7 non-null      object\n",
      " 2   Число детей                7 non-null      object\n",
      " 3   Площадь дома               7 non-null      object\n",
      " 4   Дата рождения              7 non-null      object\n",
      " 5   Дата устройства на работу  7 non-null      object\n",
      " 6   Заработная плата           6 non-null      object\n",
      " 7   Автомобиль                 6 non-null      object\n",
      "dtypes: object(8)\n",
      "memory usage: 580.0+ bytes\n"
     ]
    }
   ],
   "source": [
    "df.info()"
   ]
  },
  {
   "cell_type": "markdown",
   "id": "02f99bbb",
   "metadata": {},
   "source": [
    "### to_datetime\n",
    "\n",
    "Функция приводит колонки таблицы к типу datetime64"
   ]
  },
  {
   "cell_type": "code",
   "execution_count": 24,
   "id": "f2c6b2a3",
   "metadata": {},
   "outputs": [
    {
     "data": {
      "text/plain": [
       "0   1996-11-30\n",
       "1   1976-02-29\n",
       "2   1964-09-26\n",
       "3   1980-05-18\n",
       "4   1959-02-24\n",
       "5   1939-04-05\n",
       "6   1997-07-23\n",
       "Name: Дата рождения, dtype: datetime64[ns]"
      ]
     },
     "execution_count": 24,
     "metadata": {},
     "output_type": "execute_result"
    }
   ],
   "source": [
    "pd.to_datetime(df['Дата рождения'])"
   ]
  },
  {
   "cell_type": "code",
   "execution_count": 25,
   "id": "18838aab",
   "metadata": {},
   "outputs": [
    {
     "data": {
      "text/plain": [
       "0    1996-11-30\n",
       "1    1976-02-29\n",
       "2    1964-09-26\n",
       "3    1980-05-18\n",
       "4    1959-02-24\n",
       "5    1939-04-05\n",
       "6    1997-07-23\n",
       "Name: Дата рождения, dtype: object"
      ]
     },
     "execution_count": 25,
     "metadata": {},
     "output_type": "execute_result"
    }
   ],
   "source": [
    "df['Дата рождения']"
   ]
  },
  {
   "cell_type": "markdown",
   "id": "9e87b646",
   "metadata": {},
   "source": [
    "#### Присваивание новых значений"
   ]
  },
  {
   "cell_type": "code",
   "execution_count": 26,
   "id": "36faa79c",
   "metadata": {},
   "outputs": [],
   "source": [
    "df['Дата рождения'] = pd.to_datetime(df['Дата рождения'])"
   ]
  },
  {
   "cell_type": "code",
   "execution_count": 27,
   "id": "8d9b9021",
   "metadata": {},
   "outputs": [
    {
     "data": {
      "text/plain": [
       "0   1996-11-30\n",
       "1   1976-02-29\n",
       "2   1964-09-26\n",
       "3   1980-05-18\n",
       "4   1959-02-24\n",
       "5   1939-04-05\n",
       "6   1997-07-23\n",
       "Name: Дата рождения, dtype: datetime64[ns]"
      ]
     },
     "execution_count": 27,
     "metadata": {},
     "output_type": "execute_result"
    }
   ],
   "source": [
    "df['Дата рождения']"
   ]
  },
  {
   "cell_type": "markdown",
   "id": "82f88968",
   "metadata": {},
   "source": [
    "#### параметр format"
   ]
  },
  {
   "cell_type": "code",
   "execution_count": 28,
   "id": "d7b38a17",
   "metadata": {},
   "outputs": [
    {
     "ename": "ParserError",
     "evalue": "Unknown string format: 12#02/2020 present at position 0",
     "output_type": "error",
     "traceback": [
      "\u001b[1;31m---------------------------------------------------------------------------\u001b[0m",
      "\u001b[1;31mParserError\u001b[0m                               Traceback (most recent call last)",
      "File \u001b[1;32mC:\\Python\\Python311\\Lib\\site-packages\\pandas\\_libs\\tslib.pyx:605\u001b[0m, in \u001b[0;36mpandas._libs.tslib.array_to_datetime\u001b[1;34m()\u001b[0m\n",
      "File \u001b[1;32mC:\\Python\\Python311\\Lib\\site-packages\\pandas\\_libs\\tslibs\\parsing.pyx:318\u001b[0m, in \u001b[0;36mpandas._libs.tslibs.parsing.parse_datetime_string\u001b[1;34m()\u001b[0m\n",
      "File \u001b[1;32mC:\\Python\\Python311\\Lib\\site-packages\\dateutil\\parser\\_parser.py:1368\u001b[0m, in \u001b[0;36mparse\u001b[1;34m(timestr, parserinfo, **kwargs)\u001b[0m\n\u001b[0;32m   1367\u001b[0m \u001b[38;5;28;01melse\u001b[39;00m:\n\u001b[1;32m-> 1368\u001b[0m     \u001b[38;5;28;01mreturn\u001b[39;00m \u001b[43mDEFAULTPARSER\u001b[49m\u001b[38;5;241;43m.\u001b[39;49m\u001b[43mparse\u001b[49m\u001b[43m(\u001b[49m\u001b[43mtimestr\u001b[49m\u001b[43m,\u001b[49m\u001b[43m \u001b[49m\u001b[38;5;241;43m*\u001b[39;49m\u001b[38;5;241;43m*\u001b[39;49m\u001b[43mkwargs\u001b[49m\u001b[43m)\u001b[49m\n",
      "File \u001b[1;32mC:\\Python\\Python311\\Lib\\site-packages\\dateutil\\parser\\_parser.py:643\u001b[0m, in \u001b[0;36mparser.parse\u001b[1;34m(self, timestr, default, ignoretz, tzinfos, **kwargs)\u001b[0m\n\u001b[0;32m    642\u001b[0m \u001b[38;5;28;01mif\u001b[39;00m res \u001b[38;5;129;01mis\u001b[39;00m \u001b[38;5;28;01mNone\u001b[39;00m:\n\u001b[1;32m--> 643\u001b[0m     \u001b[38;5;28;01mraise\u001b[39;00m ParserError(\u001b[38;5;124m\"\u001b[39m\u001b[38;5;124mUnknown string format: \u001b[39m\u001b[38;5;132;01m%s\u001b[39;00m\u001b[38;5;124m\"\u001b[39m, timestr)\n\u001b[0;32m    645\u001b[0m \u001b[38;5;28;01mif\u001b[39;00m \u001b[38;5;28mlen\u001b[39m(res) \u001b[38;5;241m==\u001b[39m \u001b[38;5;241m0\u001b[39m:\n",
      "\u001b[1;31mParserError\u001b[0m: Unknown string format: 12#02/2020",
      "\nDuring handling of the above exception, another exception occurred:\n",
      "\u001b[1;31mTypeError\u001b[0m                                 Traceback (most recent call last)",
      "File \u001b[1;32mC:\\Python\\Python311\\Lib\\site-packages\\pandas\\_libs\\tslib.pyx:616\u001b[0m, in \u001b[0;36mpandas._libs.tslib.array_to_datetime\u001b[1;34m()\u001b[0m\n",
      "\u001b[1;31mTypeError\u001b[0m: invalid string coercion to datetime for \"12#02/2020\" at position 0",
      "\nDuring handling of the above exception, another exception occurred:\n",
      "\u001b[1;31mParserError\u001b[0m                               Traceback (most recent call last)",
      "Cell \u001b[1;32mIn[28], line 1\u001b[0m\n\u001b[1;32m----> 1\u001b[0m \u001b[43mpd\u001b[49m\u001b[38;5;241;43m.\u001b[39;49m\u001b[43mto_datetime\u001b[49m\u001b[43m(\u001b[49m\u001b[43mdf\u001b[49m\u001b[43m[\u001b[49m\u001b[38;5;124;43m'\u001b[39;49m\u001b[38;5;124;43mДата устройства на работу\u001b[39;49m\u001b[38;5;124;43m'\u001b[39;49m\u001b[43m]\u001b[49m\u001b[43m)\u001b[49m\n",
      "File \u001b[1;32mC:\\Python\\Python311\\Lib\\site-packages\\pandas\\core\\tools\\datetimes.py:1068\u001b[0m, in \u001b[0;36mto_datetime\u001b[1;34m(arg, errors, dayfirst, yearfirst, utc, format, exact, unit, infer_datetime_format, origin, cache)\u001b[0m\n\u001b[0;32m   1066\u001b[0m         result \u001b[38;5;241m=\u001b[39m arg\u001b[38;5;241m.\u001b[39mmap(cache_array)\n\u001b[0;32m   1067\u001b[0m     \u001b[38;5;28;01melse\u001b[39;00m:\n\u001b[1;32m-> 1068\u001b[0m         values \u001b[38;5;241m=\u001b[39m \u001b[43mconvert_listlike\u001b[49m\u001b[43m(\u001b[49m\u001b[43marg\u001b[49m\u001b[38;5;241;43m.\u001b[39;49m\u001b[43m_values\u001b[49m\u001b[43m,\u001b[49m\u001b[43m \u001b[49m\u001b[38;5;28;43mformat\u001b[39;49m\u001b[43m)\u001b[49m\n\u001b[0;32m   1069\u001b[0m         result \u001b[38;5;241m=\u001b[39m arg\u001b[38;5;241m.\u001b[39m_constructor(values, index\u001b[38;5;241m=\u001b[39marg\u001b[38;5;241m.\u001b[39mindex, name\u001b[38;5;241m=\u001b[39marg\u001b[38;5;241m.\u001b[39mname)\n\u001b[0;32m   1070\u001b[0m \u001b[38;5;28;01melif\u001b[39;00m \u001b[38;5;28misinstance\u001b[39m(arg, (ABCDataFrame, abc\u001b[38;5;241m.\u001b[39mMutableMapping)):\n",
      "File \u001b[1;32mC:\\Python\\Python311\\Lib\\site-packages\\pandas\\core\\tools\\datetimes.py:438\u001b[0m, in \u001b[0;36m_convert_listlike_datetimes\u001b[1;34m(arg, format, name, tz, unit, errors, infer_datetime_format, dayfirst, yearfirst, exact)\u001b[0m\n\u001b[0;32m    436\u001b[0m \u001b[38;5;28;01massert\u001b[39;00m \u001b[38;5;28mformat\u001b[39m \u001b[38;5;129;01mis\u001b[39;00m \u001b[38;5;28;01mNone\u001b[39;00m \u001b[38;5;129;01mor\u001b[39;00m infer_datetime_format\n\u001b[0;32m    437\u001b[0m utc \u001b[38;5;241m=\u001b[39m tz \u001b[38;5;241m==\u001b[39m \u001b[38;5;124m\"\u001b[39m\u001b[38;5;124mutc\u001b[39m\u001b[38;5;124m\"\u001b[39m\n\u001b[1;32m--> 438\u001b[0m result, tz_parsed \u001b[38;5;241m=\u001b[39m \u001b[43mobjects_to_datetime64ns\u001b[49m\u001b[43m(\u001b[49m\n\u001b[0;32m    439\u001b[0m \u001b[43m    \u001b[49m\u001b[43marg\u001b[49m\u001b[43m,\u001b[49m\n\u001b[0;32m    440\u001b[0m \u001b[43m    \u001b[49m\u001b[43mdayfirst\u001b[49m\u001b[38;5;241;43m=\u001b[39;49m\u001b[43mdayfirst\u001b[49m\u001b[43m,\u001b[49m\n\u001b[0;32m    441\u001b[0m \u001b[43m    \u001b[49m\u001b[43myearfirst\u001b[49m\u001b[38;5;241;43m=\u001b[39;49m\u001b[43myearfirst\u001b[49m\u001b[43m,\u001b[49m\n\u001b[0;32m    442\u001b[0m \u001b[43m    \u001b[49m\u001b[43mutc\u001b[49m\u001b[38;5;241;43m=\u001b[39;49m\u001b[43mutc\u001b[49m\u001b[43m,\u001b[49m\n\u001b[0;32m    443\u001b[0m \u001b[43m    \u001b[49m\u001b[43merrors\u001b[49m\u001b[38;5;241;43m=\u001b[39;49m\u001b[43merrors\u001b[49m\u001b[43m,\u001b[49m\n\u001b[0;32m    444\u001b[0m \u001b[43m    \u001b[49m\u001b[43mrequire_iso8601\u001b[49m\u001b[38;5;241;43m=\u001b[39;49m\u001b[43mrequire_iso8601\u001b[49m\u001b[43m,\u001b[49m\n\u001b[0;32m    445\u001b[0m \u001b[43m    \u001b[49m\u001b[43mallow_object\u001b[49m\u001b[38;5;241;43m=\u001b[39;49m\u001b[38;5;28;43;01mTrue\u001b[39;49;00m\u001b[43m,\u001b[49m\n\u001b[0;32m    446\u001b[0m \u001b[43m\u001b[49m\u001b[43m)\u001b[49m\n\u001b[0;32m    448\u001b[0m \u001b[38;5;28;01mif\u001b[39;00m tz_parsed \u001b[38;5;129;01mis\u001b[39;00m \u001b[38;5;129;01mnot\u001b[39;00m \u001b[38;5;28;01mNone\u001b[39;00m:\n\u001b[0;32m    449\u001b[0m     \u001b[38;5;66;03m# We can take a shortcut since the datetime64 numpy array\u001b[39;00m\n\u001b[0;32m    450\u001b[0m     \u001b[38;5;66;03m# is in UTC\u001b[39;00m\n\u001b[0;32m    451\u001b[0m     dta \u001b[38;5;241m=\u001b[39m DatetimeArray(result, dtype\u001b[38;5;241m=\u001b[39mtz_to_dtype(tz_parsed))\n",
      "File \u001b[1;32mC:\\Python\\Python311\\Lib\\site-packages\\pandas\\core\\arrays\\datetimes.py:2177\u001b[0m, in \u001b[0;36mobjects_to_datetime64ns\u001b[1;34m(data, dayfirst, yearfirst, utc, errors, require_iso8601, allow_object, allow_mixed)\u001b[0m\n\u001b[0;32m   2175\u001b[0m order: Literal[\u001b[38;5;124m\"\u001b[39m\u001b[38;5;124mF\u001b[39m\u001b[38;5;124m\"\u001b[39m, \u001b[38;5;124m\"\u001b[39m\u001b[38;5;124mC\u001b[39m\u001b[38;5;124m\"\u001b[39m] \u001b[38;5;241m=\u001b[39m \u001b[38;5;124m\"\u001b[39m\u001b[38;5;124mF\u001b[39m\u001b[38;5;124m\"\u001b[39m \u001b[38;5;28;01mif\u001b[39;00m flags\u001b[38;5;241m.\u001b[39mf_contiguous \u001b[38;5;28;01melse\u001b[39;00m \u001b[38;5;124m\"\u001b[39m\u001b[38;5;124mC\u001b[39m\u001b[38;5;124m\"\u001b[39m\n\u001b[0;32m   2176\u001b[0m \u001b[38;5;28;01mtry\u001b[39;00m:\n\u001b[1;32m-> 2177\u001b[0m     result, tz_parsed \u001b[38;5;241m=\u001b[39m \u001b[43mtslib\u001b[49m\u001b[38;5;241;43m.\u001b[39;49m\u001b[43marray_to_datetime\u001b[49m\u001b[43m(\u001b[49m\n\u001b[0;32m   2178\u001b[0m \u001b[43m        \u001b[49m\u001b[43mdata\u001b[49m\u001b[38;5;241;43m.\u001b[39;49m\u001b[43mravel\u001b[49m\u001b[43m(\u001b[49m\u001b[38;5;124;43m\"\u001b[39;49m\u001b[38;5;124;43mK\u001b[39;49m\u001b[38;5;124;43m\"\u001b[39;49m\u001b[43m)\u001b[49m\u001b[43m,\u001b[49m\n\u001b[0;32m   2179\u001b[0m \u001b[43m        \u001b[49m\u001b[43merrors\u001b[49m\u001b[38;5;241;43m=\u001b[39;49m\u001b[43merrors\u001b[49m\u001b[43m,\u001b[49m\n\u001b[0;32m   2180\u001b[0m \u001b[43m        \u001b[49m\u001b[43mutc\u001b[49m\u001b[38;5;241;43m=\u001b[39;49m\u001b[43mutc\u001b[49m\u001b[43m,\u001b[49m\n\u001b[0;32m   2181\u001b[0m \u001b[43m        \u001b[49m\u001b[43mdayfirst\u001b[49m\u001b[38;5;241;43m=\u001b[39;49m\u001b[43mdayfirst\u001b[49m\u001b[43m,\u001b[49m\n\u001b[0;32m   2182\u001b[0m \u001b[43m        \u001b[49m\u001b[43myearfirst\u001b[49m\u001b[38;5;241;43m=\u001b[39;49m\u001b[43myearfirst\u001b[49m\u001b[43m,\u001b[49m\n\u001b[0;32m   2183\u001b[0m \u001b[43m        \u001b[49m\u001b[43mrequire_iso8601\u001b[49m\u001b[38;5;241;43m=\u001b[39;49m\u001b[43mrequire_iso8601\u001b[49m\u001b[43m,\u001b[49m\n\u001b[0;32m   2184\u001b[0m \u001b[43m        \u001b[49m\u001b[43mallow_mixed\u001b[49m\u001b[38;5;241;43m=\u001b[39;49m\u001b[43mallow_mixed\u001b[49m\u001b[43m,\u001b[49m\n\u001b[0;32m   2185\u001b[0m \u001b[43m    \u001b[49m\u001b[43m)\u001b[49m\n\u001b[0;32m   2186\u001b[0m     result \u001b[38;5;241m=\u001b[39m result\u001b[38;5;241m.\u001b[39mreshape(data\u001b[38;5;241m.\u001b[39mshape, order\u001b[38;5;241m=\u001b[39morder)\n\u001b[0;32m   2187\u001b[0m \u001b[38;5;28;01mexcept\u001b[39;00m \u001b[38;5;167;01mOverflowError\u001b[39;00m \u001b[38;5;28;01mas\u001b[39;00m err:\n\u001b[0;32m   2188\u001b[0m     \u001b[38;5;66;03m# Exception is raised when a part of date is greater than 32 bit signed int\u001b[39;00m\n",
      "File \u001b[1;32mC:\\Python\\Python311\\Lib\\site-packages\\pandas\\_libs\\tslib.pyx:427\u001b[0m, in \u001b[0;36mpandas._libs.tslib.array_to_datetime\u001b[1;34m()\u001b[0m\n",
      "File \u001b[1;32mC:\\Python\\Python311\\Lib\\site-packages\\pandas\\_libs\\tslib.pyx:683\u001b[0m, in \u001b[0;36mpandas._libs.tslib.array_to_datetime\u001b[1;34m()\u001b[0m\n",
      "File \u001b[1;32mC:\\Python\\Python311\\Lib\\site-packages\\pandas\\_libs\\tslib.pyx:829\u001b[0m, in \u001b[0;36mpandas._libs.tslib._array_to_datetime_object\u001b[1;34m()\u001b[0m\n",
      "File \u001b[1;32mC:\\Python\\Python311\\Lib\\site-packages\\pandas\\_libs\\tslib.pyx:819\u001b[0m, in \u001b[0;36mpandas._libs.tslib._array_to_datetime_object\u001b[1;34m()\u001b[0m\n",
      "File \u001b[1;32mC:\\Python\\Python311\\Lib\\site-packages\\pandas\\_libs\\tslibs\\parsing.pyx:318\u001b[0m, in \u001b[0;36mpandas._libs.tslibs.parsing.parse_datetime_string\u001b[1;34m()\u001b[0m\n",
      "File \u001b[1;32mC:\\Python\\Python311\\Lib\\site-packages\\dateutil\\parser\\_parser.py:1368\u001b[0m, in \u001b[0;36mparse\u001b[1;34m(timestr, parserinfo, **kwargs)\u001b[0m\n\u001b[0;32m   1366\u001b[0m     \u001b[38;5;28;01mreturn\u001b[39;00m parser(parserinfo)\u001b[38;5;241m.\u001b[39mparse(timestr, \u001b[38;5;241m*\u001b[39m\u001b[38;5;241m*\u001b[39mkwargs)\n\u001b[0;32m   1367\u001b[0m \u001b[38;5;28;01melse\u001b[39;00m:\n\u001b[1;32m-> 1368\u001b[0m     \u001b[38;5;28;01mreturn\u001b[39;00m \u001b[43mDEFAULTPARSER\u001b[49m\u001b[38;5;241;43m.\u001b[39;49m\u001b[43mparse\u001b[49m\u001b[43m(\u001b[49m\u001b[43mtimestr\u001b[49m\u001b[43m,\u001b[49m\u001b[43m \u001b[49m\u001b[38;5;241;43m*\u001b[39;49m\u001b[38;5;241;43m*\u001b[39;49m\u001b[43mkwargs\u001b[49m\u001b[43m)\u001b[49m\n",
      "File \u001b[1;32mC:\\Python\\Python311\\Lib\\site-packages\\dateutil\\parser\\_parser.py:643\u001b[0m, in \u001b[0;36mparser.parse\u001b[1;34m(self, timestr, default, ignoretz, tzinfos, **kwargs)\u001b[0m\n\u001b[0;32m    640\u001b[0m res, skipped_tokens \u001b[38;5;241m=\u001b[39m \u001b[38;5;28mself\u001b[39m\u001b[38;5;241m.\u001b[39m_parse(timestr, \u001b[38;5;241m*\u001b[39m\u001b[38;5;241m*\u001b[39mkwargs)\n\u001b[0;32m    642\u001b[0m \u001b[38;5;28;01mif\u001b[39;00m res \u001b[38;5;129;01mis\u001b[39;00m \u001b[38;5;28;01mNone\u001b[39;00m:\n\u001b[1;32m--> 643\u001b[0m     \u001b[38;5;28;01mraise\u001b[39;00m ParserError(\u001b[38;5;124m\"\u001b[39m\u001b[38;5;124mUnknown string format: \u001b[39m\u001b[38;5;132;01m%s\u001b[39;00m\u001b[38;5;124m\"\u001b[39m, timestr)\n\u001b[0;32m    645\u001b[0m \u001b[38;5;28;01mif\u001b[39;00m \u001b[38;5;28mlen\u001b[39m(res) \u001b[38;5;241m==\u001b[39m \u001b[38;5;241m0\u001b[39m:\n\u001b[0;32m    646\u001b[0m     \u001b[38;5;28;01mraise\u001b[39;00m ParserError(\u001b[38;5;124m\"\u001b[39m\u001b[38;5;124mString does not contain a date: \u001b[39m\u001b[38;5;132;01m%s\u001b[39;00m\u001b[38;5;124m\"\u001b[39m, timestr)\n",
      "\u001b[1;31mParserError\u001b[0m: Unknown string format: 12#02/2020 present at position 0"
     ]
    }
   ],
   "source": [
    "pd.to_datetime(df['Дата устройства на работу'])"
   ]
  },
  {
   "cell_type": "code",
   "execution_count": null,
   "id": "f4db54a7",
   "metadata": {},
   "outputs": [],
   "source": [
    "df['Дата устройства на работу'] = pd.to_datetime(df['Дата устройства на работу'],\n",
    "                                                 format='%d#%m/%Y')"
   ]
  },
  {
   "cell_type": "code",
   "execution_count": 29,
   "id": "3c174022",
   "metadata": {},
   "outputs": [
    {
     "name": "stdout",
     "output_type": "stream",
     "text": [
      "<class 'pandas.core.frame.DataFrame'>\n",
      "RangeIndex: 7 entries, 0 to 6\n",
      "Data columns (total 8 columns):\n",
      " #   Column                     Non-Null Count  Dtype         \n",
      "---  ------                     --------------  -----         \n",
      " 0   Имя                        7 non-null      object        \n",
      " 1   Фамилия                    7 non-null      object        \n",
      " 2   Число детей                7 non-null      object        \n",
      " 3   Площадь дома               7 non-null      object        \n",
      " 4   Дата рождения              7 non-null      datetime64[ns]\n",
      " 5   Дата устройства на работу  7 non-null      object        \n",
      " 6   Заработная плата           6 non-null      object        \n",
      " 7   Автомобиль                 6 non-null      object        \n",
      "dtypes: datetime64[ns](1), object(7)\n",
      "memory usage: 580.0+ bytes\n"
     ]
    }
   ],
   "source": [
    "df.info()"
   ]
  },
  {
   "cell_type": "markdown",
   "id": "f697700e",
   "metadata": {},
   "source": [
    "### astype\n",
    "\n",
    "Метод для конвертации колонок из одного типа в другой\n",
    "\n",
    "#### Синтаксис:\n",
    "__Для датафреймов:__\n",
    "1. df.astype({Назавание колонки: тип}) - для приведения определенных колонок\n",
    "2. df.astype(тип) - для приведения всего датафрема к одному типу\n",
    "\n",
    "__Для объектов Series:__\n",
    "1. s.astype(тип)"
   ]
  },
  {
   "cell_type": "code",
   "execution_count": 30,
   "id": "cc300634",
   "metadata": {},
   "outputs": [],
   "source": [
    "df = df.astype({'Число детей': int, 'Площадь дома': float})"
   ]
  },
  {
   "cell_type": "code",
   "execution_count": 31,
   "id": "7e5d36d1",
   "metadata": {},
   "outputs": [
    {
     "name": "stdout",
     "output_type": "stream",
     "text": [
      "<class 'pandas.core.frame.DataFrame'>\n",
      "RangeIndex: 7 entries, 0 to 6\n",
      "Data columns (total 8 columns):\n",
      " #   Column                     Non-Null Count  Dtype         \n",
      "---  ------                     --------------  -----         \n",
      " 0   Имя                        7 non-null      object        \n",
      " 1   Фамилия                    7 non-null      object        \n",
      " 2   Число детей                7 non-null      int32         \n",
      " 3   Площадь дома               7 non-null      float64       \n",
      " 4   Дата рождения              7 non-null      datetime64[ns]\n",
      " 5   Дата устройства на работу  7 non-null      object        \n",
      " 6   Заработная плата           6 non-null      object        \n",
      " 7   Автомобиль                 6 non-null      object        \n",
      "dtypes: datetime64[ns](1), float64(1), int32(1), object(5)\n",
      "memory usage: 552.0+ bytes\n"
     ]
    }
   ],
   "source": [
    "df.info()"
   ]
  },
  {
   "cell_type": "markdown",
   "id": "3e580433",
   "metadata": {},
   "source": [
    "#### С помощью метода astype можно обрезать дробную часть у чисел с плавующей точкой"
   ]
  },
  {
   "cell_type": "code",
   "execution_count": 32,
   "id": "bd3116dd",
   "metadata": {},
   "outputs": [
    {
     "data": {
      "text/html": [
       "<div>\n",
       "<style scoped>\n",
       "    .dataframe tbody tr th:only-of-type {\n",
       "        vertical-align: middle;\n",
       "    }\n",
       "\n",
       "    .dataframe tbody tr th {\n",
       "        vertical-align: top;\n",
       "    }\n",
       "\n",
       "    .dataframe thead th {\n",
       "        text-align: right;\n",
       "    }\n",
       "</style>\n",
       "<table border=\"1\" class=\"dataframe\">\n",
       "  <thead>\n",
       "    <tr style=\"text-align: right;\">\n",
       "      <th></th>\n",
       "      <th>Имя</th>\n",
       "      <th>Фамилия</th>\n",
       "      <th>Число детей</th>\n",
       "      <th>Площадь дома</th>\n",
       "      <th>Дата рождения</th>\n",
       "      <th>Дата устройства на работу</th>\n",
       "      <th>Заработная плата</th>\n",
       "      <th>Автомобиль</th>\n",
       "    </tr>\n",
       "  </thead>\n",
       "  <tbody>\n",
       "    <tr>\n",
       "      <th>0</th>\n",
       "      <td>Илья</td>\n",
       "      <td>Васильев</td>\n",
       "      <td>0</td>\n",
       "      <td>56</td>\n",
       "      <td>1996-11-30</td>\n",
       "      <td>12#02/2020</td>\n",
       "      <td>45000</td>\n",
       "      <td>киа</td>\n",
       "    </tr>\n",
       "    <tr>\n",
       "      <th>1</th>\n",
       "      <td>Антон</td>\n",
       "      <td>Алексеев</td>\n",
       "      <td>2</td>\n",
       "      <td>77</td>\n",
       "      <td>1976-02-29</td>\n",
       "      <td>20#12/2001</td>\n",
       "      <td>33000</td>\n",
       "      <td>рено</td>\n",
       "    </tr>\n",
       "    <tr>\n",
       "      <th>2</th>\n",
       "      <td>Надежда</td>\n",
       "      <td>Гусева</td>\n",
       "      <td>3</td>\n",
       "      <td>103</td>\n",
       "      <td>1964-09-26</td>\n",
       "      <td>09#06/1981</td>\n",
       "      <td>80000</td>\n",
       "      <td>жигули</td>\n",
       "    </tr>\n",
       "    <tr>\n",
       "      <th>3</th>\n",
       "      <td>Артем</td>\n",
       "      <td>Павлов</td>\n",
       "      <td>5</td>\n",
       "      <td>134</td>\n",
       "      <td>1980-05-18</td>\n",
       "      <td>09#09/2008</td>\n",
       "      <td>50000</td>\n",
       "      <td>бмв</td>\n",
       "    </tr>\n",
       "    <tr>\n",
       "      <th>4</th>\n",
       "      <td>Александр</td>\n",
       "      <td>Николаев</td>\n",
       "      <td>1</td>\n",
       "      <td>47</td>\n",
       "      <td>1959-02-24</td>\n",
       "      <td>03#07/2019</td>\n",
       "      <td>29000</td>\n",
       "      <td>киа</td>\n",
       "    </tr>\n",
       "    <tr>\n",
       "      <th>5</th>\n",
       "      <td>Дмитрий</td>\n",
       "      <td>Печенкин</td>\n",
       "      <td>2</td>\n",
       "      <td>61</td>\n",
       "      <td>1939-04-05</td>\n",
       "      <td>19#08/1958</td>\n",
       "      <td>100000</td>\n",
       "      <td>жигули</td>\n",
       "    </tr>\n",
       "    <tr>\n",
       "      <th>6</th>\n",
       "      <td>Дарья</td>\n",
       "      <td>Воробева</td>\n",
       "      <td>3</td>\n",
       "      <td>65</td>\n",
       "      <td>1997-07-23</td>\n",
       "      <td>20#12/2022</td>\n",
       "      <td>NaN</td>\n",
       "      <td>&lt;NA&gt;</td>\n",
       "    </tr>\n",
       "  </tbody>\n",
       "</table>\n",
       "</div>"
      ],
      "text/plain": [
       "         Имя   Фамилия  Число детей  Площадь дома Дата рождения  \\\n",
       "0       Илья  Васильев            0            56    1996-11-30   \n",
       "1      Антон  Алексеев            2            77    1976-02-29   \n",
       "2    Надежда    Гусева            3           103    1964-09-26   \n",
       "3      Артем    Павлов            5           134    1980-05-18   \n",
       "4  Александр  Николаев            1            47    1959-02-24   \n",
       "5    Дмитрий  Печенкин            2            61    1939-04-05   \n",
       "6      Дарья  Воробева            3            65    1997-07-23   \n",
       "\n",
       "  Дата устройства на работу Заработная плата Автомобиль  \n",
       "0                12#02/2020            45000        киа  \n",
       "1                20#12/2001            33000       рено  \n",
       "2                09#06/1981            80000     жигули  \n",
       "3                09#09/2008            50000        бмв  \n",
       "4                03#07/2019            29000        киа  \n",
       "5                19#08/1958           100000     жигули  \n",
       "6                20#12/2022              NaN       <NA>  "
      ]
     },
     "execution_count": 32,
     "metadata": {},
     "output_type": "execute_result"
    }
   ],
   "source": [
    "df.astype({'Число детей': int, 'Площадь дома': float}).astype({'Площадь дома': int})"
   ]
  },
  {
   "cell_type": "markdown",
   "id": "ec0ff568",
   "metadata": {},
   "source": [
    "Более красивый вид написания методов"
   ]
  },
  {
   "cell_type": "code",
   "execution_count": 33,
   "id": "f6a437db",
   "metadata": {},
   "outputs": [
    {
     "data": {
      "text/html": [
       "<div>\n",
       "<style scoped>\n",
       "    .dataframe tbody tr th:only-of-type {\n",
       "        vertical-align: middle;\n",
       "    }\n",
       "\n",
       "    .dataframe tbody tr th {\n",
       "        vertical-align: top;\n",
       "    }\n",
       "\n",
       "    .dataframe thead th {\n",
       "        text-align: right;\n",
       "    }\n",
       "</style>\n",
       "<table border=\"1\" class=\"dataframe\">\n",
       "  <thead>\n",
       "    <tr style=\"text-align: right;\">\n",
       "      <th></th>\n",
       "      <th>Имя</th>\n",
       "      <th>Фамилия</th>\n",
       "      <th>Число детей</th>\n",
       "      <th>Площадь дома</th>\n",
       "      <th>Дата рождения</th>\n",
       "      <th>Дата устройства на работу</th>\n",
       "      <th>Заработная плата</th>\n",
       "      <th>Автомобиль</th>\n",
       "    </tr>\n",
       "  </thead>\n",
       "  <tbody>\n",
       "    <tr>\n",
       "      <th>0</th>\n",
       "      <td>Илья</td>\n",
       "      <td>Васильев</td>\n",
       "      <td>0</td>\n",
       "      <td>56</td>\n",
       "      <td>1996-11-30</td>\n",
       "      <td>12#02/2020</td>\n",
       "      <td>45000</td>\n",
       "      <td>киа</td>\n",
       "    </tr>\n",
       "    <tr>\n",
       "      <th>1</th>\n",
       "      <td>Антон</td>\n",
       "      <td>Алексеев</td>\n",
       "      <td>2</td>\n",
       "      <td>77</td>\n",
       "      <td>1976-02-29</td>\n",
       "      <td>20#12/2001</td>\n",
       "      <td>33000</td>\n",
       "      <td>рено</td>\n",
       "    </tr>\n",
       "    <tr>\n",
       "      <th>2</th>\n",
       "      <td>Надежда</td>\n",
       "      <td>Гусева</td>\n",
       "      <td>3</td>\n",
       "      <td>103</td>\n",
       "      <td>1964-09-26</td>\n",
       "      <td>09#06/1981</td>\n",
       "      <td>80000</td>\n",
       "      <td>жигули</td>\n",
       "    </tr>\n",
       "    <tr>\n",
       "      <th>3</th>\n",
       "      <td>Артем</td>\n",
       "      <td>Павлов</td>\n",
       "      <td>5</td>\n",
       "      <td>134</td>\n",
       "      <td>1980-05-18</td>\n",
       "      <td>09#09/2008</td>\n",
       "      <td>50000</td>\n",
       "      <td>бмв</td>\n",
       "    </tr>\n",
       "    <tr>\n",
       "      <th>4</th>\n",
       "      <td>Александр</td>\n",
       "      <td>Николаев</td>\n",
       "      <td>1</td>\n",
       "      <td>47</td>\n",
       "      <td>1959-02-24</td>\n",
       "      <td>03#07/2019</td>\n",
       "      <td>29000</td>\n",
       "      <td>киа</td>\n",
       "    </tr>\n",
       "    <tr>\n",
       "      <th>5</th>\n",
       "      <td>Дмитрий</td>\n",
       "      <td>Печенкин</td>\n",
       "      <td>2</td>\n",
       "      <td>61</td>\n",
       "      <td>1939-04-05</td>\n",
       "      <td>19#08/1958</td>\n",
       "      <td>100000</td>\n",
       "      <td>жигули</td>\n",
       "    </tr>\n",
       "    <tr>\n",
       "      <th>6</th>\n",
       "      <td>Дарья</td>\n",
       "      <td>Воробева</td>\n",
       "      <td>3</td>\n",
       "      <td>65</td>\n",
       "      <td>1997-07-23</td>\n",
       "      <td>20#12/2022</td>\n",
       "      <td>NaN</td>\n",
       "      <td>&lt;NA&gt;</td>\n",
       "    </tr>\n",
       "  </tbody>\n",
       "</table>\n",
       "</div>"
      ],
      "text/plain": [
       "         Имя   Фамилия  Число детей  Площадь дома Дата рождения  \\\n",
       "0       Илья  Васильев            0            56    1996-11-30   \n",
       "1      Антон  Алексеев            2            77    1976-02-29   \n",
       "2    Надежда    Гусева            3           103    1964-09-26   \n",
       "3      Артем    Павлов            5           134    1980-05-18   \n",
       "4  Александр  Николаев            1            47    1959-02-24   \n",
       "5    Дмитрий  Печенкин            2            61    1939-04-05   \n",
       "6      Дарья  Воробева            3            65    1997-07-23   \n",
       "\n",
       "  Дата устройства на работу Заработная плата Автомобиль  \n",
       "0                12#02/2020            45000        киа  \n",
       "1                20#12/2001            33000       рено  \n",
       "2                09#06/1981            80000     жигули  \n",
       "3                09#09/2008            50000        бмв  \n",
       "4                03#07/2019            29000        киа  \n",
       "5                19#08/1958           100000     жигули  \n",
       "6                20#12/2022              NaN       <NA>  "
      ]
     },
     "execution_count": 33,
     "metadata": {},
     "output_type": "execute_result"
    }
   ],
   "source": [
    "(df\n",
    "    .astype({'Число детей': int, 'Площадь дома': float})\n",
    "    .astype({'Площадь дома': int})\n",
    ")"
   ]
  },
  {
   "cell_type": "code",
   "execution_count": 34,
   "id": "b0f9ea81",
   "metadata": {},
   "outputs": [
    {
     "name": "stdout",
     "output_type": "stream",
     "text": [
      "<class 'pandas.core.frame.DataFrame'>\n",
      "RangeIndex: 7 entries, 0 to 6\n",
      "Data columns (total 8 columns):\n",
      " #   Column                     Non-Null Count  Dtype         \n",
      "---  ------                     --------------  -----         \n",
      " 0   Имя                        7 non-null      object        \n",
      " 1   Фамилия                    7 non-null      object        \n",
      " 2   Число детей                7 non-null      int32         \n",
      " 3   Площадь дома               7 non-null      float64       \n",
      " 4   Дата рождения              7 non-null      datetime64[ns]\n",
      " 5   Дата устройства на работу  7 non-null      object        \n",
      " 6   Заработная плата           6 non-null      object        \n",
      " 7   Автомобиль                 6 non-null      object        \n",
      "dtypes: datetime64[ns](1), float64(1), int32(1), object(5)\n",
      "memory usage: 552.0+ bytes\n"
     ]
    }
   ],
   "source": [
    "df.info()"
   ]
  },
  {
   "cell_type": "markdown",
   "id": "283c4f20",
   "metadata": {},
   "source": [
    "Int64 может содержать пропущенные значения"
   ]
  },
  {
   "cell_type": "code",
   "execution_count": 35,
   "id": "2a0ceee6",
   "metadata": {},
   "outputs": [
    {
     "data": {
      "text/plain": [
       "0     45000\n",
       "1     33000\n",
       "2     80000\n",
       "3     50000\n",
       "4     29000\n",
       "5    100000\n",
       "6      <NA>\n",
       "Name: Заработная плата, dtype: Int64"
      ]
     },
     "execution_count": 35,
     "metadata": {},
     "output_type": "execute_result"
    }
   ],
   "source": [
    "df['Заработная плата'].astype('Int64')"
   ]
  },
  {
   "cell_type": "code",
   "execution_count": 36,
   "id": "6166c442",
   "metadata": {},
   "outputs": [
    {
     "name": "stdout",
     "output_type": "stream",
     "text": [
      "<class 'pandas.core.series.Series'>\n",
      "RangeIndex: 7 entries, 0 to 6\n",
      "Series name: Автомобиль\n",
      "Non-Null Count  Dtype \n",
      "--------------  ----- \n",
      "6 non-null      string\n",
      "dtypes: string(1)\n",
      "memory usage: 188.0 bytes\n"
     ]
    }
   ],
   "source": [
    "df['Автомобиль'].astype('string').info()"
   ]
  },
  {
   "cell_type": "code",
   "execution_count": 37,
   "id": "4deb69ac",
   "metadata": {},
   "outputs": [
    {
     "name": "stdout",
     "output_type": "stream",
     "text": [
      "<class 'pandas.core.series.Series'>\n",
      "RangeIndex: 7 entries, 0 to 6\n",
      "Series name: Автомобиль\n",
      "Non-Null Count  Dtype \n",
      "--------------  ----- \n",
      "7 non-null      object\n",
      "dtypes: object(1)\n",
      "memory usage: 188.0+ bytes\n"
     ]
    }
   ],
   "source": [
    "df['Автомобиль'].astype(str).info()"
   ]
  },
  {
   "cell_type": "code",
   "execution_count": null,
   "id": "af62558b",
   "metadata": {},
   "outputs": [],
   "source": []
  },
  {
   "cell_type": "code",
   "execution_count": null,
   "id": "611351b6",
   "metadata": {},
   "outputs": [],
   "source": []
  },
  {
   "cell_type": "code",
   "execution_count": null,
   "id": "d6e48e31",
   "metadata": {},
   "outputs": [],
   "source": []
  },
  {
   "cell_type": "code",
   "execution_count": null,
   "id": "56b2593c",
   "metadata": {},
   "outputs": [],
   "source": []
  },
  {
   "cell_type": "code",
   "execution_count": null,
   "id": "8abc385f",
   "metadata": {},
   "outputs": [],
   "source": []
  },
  {
   "cell_type": "code",
   "execution_count": null,
   "id": "b68f48ab",
   "metadata": {},
   "outputs": [],
   "source": []
  },
  {
   "cell_type": "code",
   "execution_count": null,
   "id": "ce53cf1b",
   "metadata": {},
   "outputs": [],
   "source": []
  },
  {
   "cell_type": "code",
   "execution_count": null,
   "id": "277a8b09",
   "metadata": {},
   "outputs": [],
   "source": []
  },
  {
   "cell_type": "code",
   "execution_count": null,
   "id": "38648678",
   "metadata": {},
   "outputs": [],
   "source": []
  },
  {
   "cell_type": "markdown",
   "id": "468830a9",
   "metadata": {},
   "source": [
    "# Задания"
   ]
  },
  {
   "cell_type": "markdown",
   "id": "b5394f66",
   "metadata": {},
   "source": [
    "#### Описание таблиц лежит [здесь](https://github.com/victorlymarev/pandas/tree/main/tables)"
   ]
  },
  {
   "cell_type": "markdown",
   "id": "9892c8e7",
   "metadata": {},
   "source": [
    "Некоторые таблицы занимают много памяти, поэтому каждые 5-10 заданий лучше перезапускайте ноутбук.\n",
    "\n",
    "Если вы будете работать с этим ноутбуком в google colab и у вас что-то не будет работать, то раскоментируйте ячейку ниже (для этого выделите содержимое ячейки и нажмите на клавиши ctrl / (если смотреть по английской раскладке или ctrl . для русской), либо просто руками уберите # и пробел после нее в каждой строчке) и запустите ее."
   ]
  },
  {
   "cell_type": "code",
   "execution_count": 12,
   "id": "191e9caf",
   "metadata": {},
   "outputs": [],
   "source": [
    "# import os\n",
    "# os._exit(00)\n",
    "# !pip install pyarrow pandas==1.5.3"
   ]
  },
  {
   "cell_type": "markdown",
   "id": "f293e06e",
   "metadata": {},
   "source": [
    "### Задание 1\n",
    "В таблице w_ends для каждой даты отмечено, был ли этот день выходным. Посмотрите на типы данных в таблице. Приведите колонку с датами к типу datetime64[ns]"
   ]
  },
  {
   "cell_type": "code",
   "execution_count": null,
   "id": "9b068fb0",
   "metadata": {},
   "outputs": [],
   "source": [
    "import os\n",
    "import pandas as pd\n",
    "\n",
    "path_w_ends = '../tables/выходные.csv' if os.path.exists('../tables/выходные.csv') else 'https://drive.google.com/uc?id=1hAsoXSPTFihFmBuF-E0uSj9pX4gpojwC'\n",
    "w_ends = pd.read_csv(path_w_ends)\n",
    "w_ends\n",
    "\n",
    "# напишите свой код здесь"
   ]
  },
  {
   "cell_type": "markdown",
   "id": "45bfe7a1",
   "metadata": {},
   "source": [
    "### Задание 2\n",
    "\n",
    "Приведите колонку Математика к типу string, а колонку Литература к строкам. Таблица лежит в переменной marks"
   ]
  },
  {
   "cell_type": "code",
   "execution_count": 1,
   "id": "5c30394a",
   "metadata": {},
   "outputs": [],
   "source": [
    "import os\n",
    "import pandas as pd\n",
    "\n",
    "path_marks = '../tables/оценки.xlsx' if os.path.exists('../tables/оценки.xlsx') else 'https://drive.google.com/uc?id=17f4DXx53J0WooNkhO13xidseZJ-O2obs'\n",
    "marks = pd.read_excel(path_marks)\n",
    "marks\n",
    "\n",
    "# напишите свой код здесь"
   ]
  },
  {
   "cell_type": "markdown",
   "id": "db0837db",
   "metadata": {},
   "source": [
    "### Задание 3\n",
    "\n",
    "В дальнейшем вы будете работать с таблицами, которые будут содержать информацию о магазинах одежды. В таблице shops лежать адреса этих магазинов, и дата открытия.\n",
    "\n",
    "Изучите таблицу, посмотрите на типы данных в ней. Приведите колонки таблицы к форматам, которые вам кажутся наиболее подходящими"
   ]
  },
  {
   "cell_type": "code",
   "execution_count": 3,
   "id": "1ab0e854",
   "metadata": {},
   "outputs": [
    {
     "data": {
      "text/html": [
       "<div>\n",
       "<style scoped>\n",
       "    .dataframe tbody tr th:only-of-type {\n",
       "        vertical-align: middle;\n",
       "    }\n",
       "\n",
       "    .dataframe tbody tr th {\n",
       "        vertical-align: top;\n",
       "    }\n",
       "\n",
       "    .dataframe thead th {\n",
       "        text-align: right;\n",
       "    }\n",
       "</style>\n",
       "<table border=\"1\" class=\"dataframe\">\n",
       "  <thead>\n",
       "    <tr style=\"text-align: right;\">\n",
       "      <th></th>\n",
       "      <th>shop_id</th>\n",
       "      <th>city</th>\n",
       "      <th>adress</th>\n",
       "      <th>shoping_center</th>\n",
       "      <th>size</th>\n",
       "      <th>open_date</th>\n",
       "    </tr>\n",
       "  </thead>\n",
       "  <tbody>\n",
       "    <tr>\n",
       "      <th>0</th>\n",
       "      <td>1</td>\n",
       "      <td>Воронеж</td>\n",
       "      <td>Пушкинская пл., д. 76</td>\n",
       "      <td>NaN</td>\n",
       "      <td>Мелкий</td>\n",
       "      <td>2015-01-22</td>\n",
       "    </tr>\n",
       "    <tr>\n",
       "      <th>1</th>\n",
       "      <td>2</td>\n",
       "      <td>Санкт-Петербург</td>\n",
       "      <td>ул. Веселая, д. 20</td>\n",
       "      <td>Книга</td>\n",
       "      <td>Крупный</td>\n",
       "      <td>2015-05-11</td>\n",
       "    </tr>\n",
       "    <tr>\n",
       "      <th>2</th>\n",
       "      <td>3</td>\n",
       "      <td>Чита</td>\n",
       "      <td>Тупой пер., д. 1</td>\n",
       "      <td>NaN</td>\n",
       "      <td>Мелкий</td>\n",
       "      <td>2015-11-27</td>\n",
       "    </tr>\n",
       "    <tr>\n",
       "      <th>3</th>\n",
       "      <td>4</td>\n",
       "      <td>Липецк</td>\n",
       "      <td>пр. Гагарина, д. 234</td>\n",
       "      <td>Обезьяна</td>\n",
       "      <td>Средний</td>\n",
       "      <td>2016-04-04</td>\n",
       "    </tr>\n",
       "    <tr>\n",
       "      <th>4</th>\n",
       "      <td>5</td>\n",
       "      <td>Челябинск</td>\n",
       "      <td>пр. Железнодорожников, д. 12</td>\n",
       "      <td>NaN</td>\n",
       "      <td>Мелкий</td>\n",
       "      <td>2016-04-11</td>\n",
       "    </tr>\n",
       "  </tbody>\n",
       "</table>\n",
       "</div>"
      ],
      "text/plain": [
       "   shop_id             city                        adress shoping_center  \\\n",
       "0        1          Воронеж         Пушкинская пл., д. 76            NaN   \n",
       "1        2  Санкт-Петербург            ул. Веселая, д. 20          Книга   \n",
       "2        3             Чита              Тупой пер., д. 1            NaN   \n",
       "3        4           Липецк          пр. Гагарина, д. 234       Обезьяна   \n",
       "4        5        Челябинск  пр. Железнодорожников, д. 12            NaN   \n",
       "\n",
       "      size  open_date  \n",
       "0   Мелкий 2015-01-22  \n",
       "1  Крупный 2015-05-11  \n",
       "2   Мелкий 2015-11-27  \n",
       "3  Средний 2016-04-04  \n",
       "4   Мелкий 2016-04-11  "
      ]
     },
     "execution_count": 3,
     "metadata": {},
     "output_type": "execute_result"
    }
   ],
   "source": [
    "import os\n",
    "import pandas as pd\n",
    "\n",
    "path_shops = '../tables/shops.xlsx' if os.path.exists('../tables/shops.xlsx') else 'https://drive.google.com/uc?id=1gfnmceJa3Mc1X06NftTx9G9QfKfprjEB'\n",
    "shops = pd.read_excel(path_shops).astype({'shop_id': str})\n",
    "shops\n",
    "\n",
    "# напишите свой код здесь"
   ]
  },
  {
   "cell_type": "markdown",
   "id": "cc037643",
   "metadata": {},
   "source": [
    "### Задание 4\n",
    "\n",
    "В таблице empl приведите колонку salary (зарплата) к целым числам"
   ]
  },
  {
   "cell_type": "code",
   "execution_count": null,
   "id": "4b77c4da",
   "metadata": {},
   "outputs": [],
   "source": [
    "import os\n",
    "import pandas as pd\n",
    "\n",
    "path_empl = '../tables/employees.parquet' if os.path.exists('../tables/employees.parquet') else 'https://drive.google.com/uc?id=1AARD5-eVlCxoApt5CYZebrC3Cqw42lvj'\n",
    "\n",
    "empl = pd.read_parquet(path_empl)\n",
    "empl"
   ]
  },
  {
   "cell_type": "markdown",
   "id": "d4beec4a",
   "metadata": {},
   "source": [
    "### Задание 5\n",
    "\n",
    "В таблите ltc лежат данные по курсу криптовалюты litecoin. Посмотрите на типы данных в таблице. Приведите колнку date к типу datetime64. Используйте параметр format. (На самом деле функция to_datetime сработает и без него, но лучше попрактикуйтесь с ним). Подсказка  о том, как это сделать содержится внутри метода strftime. На остальные методы пока внимание не обращайте"
   ]
  },
  {
   "cell_type": "code",
   "execution_count": 69,
   "id": "11b8ef7a",
   "metadata": {},
   "outputs": [
    {
     "data": {
      "text/html": [
       "<div>\n",
       "<style scoped>\n",
       "    .dataframe tbody tr th:only-of-type {\n",
       "        vertical-align: middle;\n",
       "    }\n",
       "\n",
       "    .dataframe tbody tr th {\n",
       "        vertical-align: top;\n",
       "    }\n",
       "\n",
       "    .dataframe thead th {\n",
       "        text-align: right;\n",
       "    }\n",
       "</style>\n",
       "<table border=\"1\" class=\"dataframe\">\n",
       "  <thead>\n",
       "    <tr style=\"text-align: right;\">\n",
       "      <th></th>\n",
       "      <th>date</th>\n",
       "      <th>price</th>\n",
       "      <th>volume</th>\n",
       "    </tr>\n",
       "  </thead>\n",
       "  <tbody>\n",
       "    <tr>\n",
       "      <th>0</th>\n",
       "      <td>2013-11-13 15:00:56</td>\n",
       "      <td>5.00</td>\n",
       "      <td>12.874000</td>\n",
       "    </tr>\n",
       "    <tr>\n",
       "      <th>1</th>\n",
       "      <td>2013-11-13 15:58:20</td>\n",
       "      <td>5.00</td>\n",
       "      <td>0.900000</td>\n",
       "    </tr>\n",
       "    <tr>\n",
       "      <th>2</th>\n",
       "      <td>2013-11-16 18:58:57</td>\n",
       "      <td>4.30</td>\n",
       "      <td>0.067440</td>\n",
       "    </tr>\n",
       "    <tr>\n",
       "      <th>3</th>\n",
       "      <td>2013-11-16 18:59:16</td>\n",
       "      <td>4.25</td>\n",
       "      <td>5.000000</td>\n",
       "    </tr>\n",
       "    <tr>\n",
       "      <th>4</th>\n",
       "      <td>2013-11-19 03:24:48</td>\n",
       "      <td>9.90</td>\n",
       "      <td>0.117018</td>\n",
       "    </tr>\n",
       "    <tr>\n",
       "      <th>5</th>\n",
       "      <td>2013-11-19 03:27:08</td>\n",
       "      <td>9.90</td>\n",
       "      <td>0.817538</td>\n",
       "    </tr>\n",
       "    <tr>\n",
       "      <th>6</th>\n",
       "      <td>2013-11-19 04:08:36</td>\n",
       "      <td>9.90</td>\n",
       "      <td>0.002367</td>\n",
       "    </tr>\n",
       "    <tr>\n",
       "      <th>7</th>\n",
       "      <td>2013-11-19 04:17:55</td>\n",
       "      <td>9.90</td>\n",
       "      <td>0.039006</td>\n",
       "    </tr>\n",
       "    <tr>\n",
       "      <th>8</th>\n",
       "      <td>2013-11-19 04:24:57</td>\n",
       "      <td>9.90</td>\n",
       "      <td>0.011796</td>\n",
       "    </tr>\n",
       "    <tr>\n",
       "      <th>9</th>\n",
       "      <td>2013-11-19 08:22:00</td>\n",
       "      <td>10.00</td>\n",
       "      <td>0.059100</td>\n",
       "    </tr>\n",
       "  </tbody>\n",
       "</table>\n",
       "</div>"
      ],
      "text/plain": [
       "                  date  price     volume\n",
       "0  2013-11-13 15:00:56   5.00  12.874000\n",
       "1  2013-11-13 15:58:20   5.00   0.900000\n",
       "2  2013-11-16 18:58:57   4.30   0.067440\n",
       "3  2013-11-16 18:59:16   4.25   5.000000\n",
       "4  2013-11-19 03:24:48   9.90   0.117018\n",
       "5  2013-11-19 03:27:08   9.90   0.817538\n",
       "6  2013-11-19 04:08:36   9.90   0.002367\n",
       "7  2013-11-19 04:17:55   9.90   0.039006\n",
       "8  2013-11-19 04:24:57   9.90   0.011796\n",
       "9  2013-11-19 08:22:00  10.00   0.059100"
      ]
     },
     "execution_count": 69,
     "metadata": {},
     "output_type": "execute_result"
    }
   ],
   "source": [
    "import os\n",
    "import pandas as pd\n",
    "\n",
    "path_ltc_sample = '../tables/ltc_sample.parquet' if os.path.exists('../tables/ltc_sample.parquet') else 'https://drive.google.com/uc?id=1XaThogOOqKjJj50LvfJ9WqutjMAC5AxA'\n",
    "\n",
    "ltc = (pd.read_parquet(path_ltc_sample)\n",
    "       .head(10)\n",
    "       .assign(date = lambda x: x['date'].dt.strftime('%H:%M:%s %d/%m/%Y'))\n",
    ")\n",
    "ltc\n",
    "\n",
    "# напишите свой код здесь"
   ]
  },
  {
   "cell_type": "markdown",
   "id": "d8202255",
   "metadata": {},
   "source": [
    "### Задание 6\n",
    "\n",
    "Посмотрите на таблицу xdg_usdt. В ней содержаться данные по торговли криптовалютами xdg и usdt.\n",
    "В ней нас интересует колонка дата. Посмотрите какого она типа?\n",
    "\n",
    "Иногда даты хранятся не в виде строк, а в виде целых чисел. Каждое число - это количество секунд, милисекунд или наносекунд, которое прошло с 1 января 1970 года. Привести такую колонку к привычному формату дат можно при помощи функции to_datetime, используя в ней парметр unit. Этому параметру необходимо передать значение 's' для секунд, 'ms' - для милисекунд, 'ns' - для наносекунд. \n",
    "\n",
    "Приведите колонку с датами к типу datetime64, подобрав нужное значение в параметре unit"
   ]
  },
  {
   "cell_type": "code",
   "execution_count": 1,
   "id": "e4fac864",
   "metadata": {},
   "outputs": [
    {
     "data": {
      "text/html": [
       "<div>\n",
       "<style scoped>\n",
       "    .dataframe tbody tr th:only-of-type {\n",
       "        vertical-align: middle;\n",
       "    }\n",
       "\n",
       "    .dataframe tbody tr th {\n",
       "        vertical-align: top;\n",
       "    }\n",
       "\n",
       "    .dataframe thead th {\n",
       "        text-align: right;\n",
       "    }\n",
       "</style>\n",
       "<table border=\"1\" class=\"dataframe\">\n",
       "  <thead>\n",
       "    <tr style=\"text-align: right;\">\n",
       "      <th></th>\n",
       "      <th>Дата</th>\n",
       "      <th>Цена</th>\n",
       "      <th>Объем</th>\n",
       "    </tr>\n",
       "  </thead>\n",
       "  <tbody>\n",
       "    <tr>\n",
       "      <th>0</th>\n",
       "      <td>1680307512</td>\n",
       "      <td>0.07697</td>\n",
       "      <td>1717.759130</td>\n",
       "    </tr>\n",
       "    <tr>\n",
       "      <th>1</th>\n",
       "      <td>1680307665</td>\n",
       "      <td>0.07712</td>\n",
       "      <td>155.601660</td>\n",
       "    </tr>\n",
       "    <tr>\n",
       "      <th>2</th>\n",
       "      <td>1680308198</td>\n",
       "      <td>0.07733</td>\n",
       "      <td>300.000000</td>\n",
       "    </tr>\n",
       "    <tr>\n",
       "      <th>3</th>\n",
       "      <td>1680308304</td>\n",
       "      <td>0.07728</td>\n",
       "      <td>1269.038017</td>\n",
       "    </tr>\n",
       "    <tr>\n",
       "      <th>4</th>\n",
       "      <td>1680308700</td>\n",
       "      <td>0.07705</td>\n",
       "      <td>2513.470011</td>\n",
       "    </tr>\n",
       "    <tr>\n",
       "      <th>...</th>\n",
       "      <td>...</td>\n",
       "      <td>...</td>\n",
       "      <td>...</td>\n",
       "    </tr>\n",
       "    <tr>\n",
       "      <th>35583</th>\n",
       "      <td>1688164175</td>\n",
       "      <td>0.06637</td>\n",
       "      <td>100.000000</td>\n",
       "    </tr>\n",
       "    <tr>\n",
       "      <th>35584</th>\n",
       "      <td>1688166367</td>\n",
       "      <td>0.06645</td>\n",
       "      <td>1947.861352</td>\n",
       "    </tr>\n",
       "    <tr>\n",
       "      <th>35585</th>\n",
       "      <td>1688167824</td>\n",
       "      <td>0.06639</td>\n",
       "      <td>3699.770000</td>\n",
       "    </tr>\n",
       "    <tr>\n",
       "      <th>35586</th>\n",
       "      <td>1688167866</td>\n",
       "      <td>0.06641</td>\n",
       "      <td>828.188526</td>\n",
       "    </tr>\n",
       "    <tr>\n",
       "      <th>35587</th>\n",
       "      <td>1688168200</td>\n",
       "      <td>0.06637</td>\n",
       "      <td>15000.000000</td>\n",
       "    </tr>\n",
       "  </tbody>\n",
       "</table>\n",
       "<p>35588 rows × 3 columns</p>\n",
       "</div>"
      ],
      "text/plain": [
       "             Дата     Цена         Объем\n",
       "0      1680307512  0.07697   1717.759130\n",
       "1      1680307665  0.07712    155.601660\n",
       "2      1680308198  0.07733    300.000000\n",
       "3      1680308304  0.07728   1269.038017\n",
       "4      1680308700  0.07705   2513.470011\n",
       "...           ...      ...           ...\n",
       "35583  1688164175  0.06637    100.000000\n",
       "35584  1688166367  0.06645   1947.861352\n",
       "35585  1688167824  0.06639   3699.770000\n",
       "35586  1688167866  0.06641    828.188526\n",
       "35587  1688168200  0.06637  15000.000000\n",
       "\n",
       "[35588 rows x 3 columns]"
      ]
     },
     "execution_count": 1,
     "metadata": {},
     "output_type": "execute_result"
    }
   ],
   "source": [
    "import os\n",
    "import pandas as pd\n",
    "path_xdg_usdt = '../tables/XDGUSDT.csv' if os.path.exists('../tables/XDGUSDT.csv') else 'https://drive.google.com/uc?id=1oLjCNOsdKbd87sIgW0_OWDpD2DVHAAAV'\n",
    "xdg_usdt = pd.read_csv(path_xdg_usdt, header=None).set_axis(['Дата', 'Цена', 'Объем'], axis=1)\n",
    "xdg_usdt"
   ]
  },
  {
   "cell_type": "code",
   "execution_count": 11,
   "id": "8dc4291c",
   "metadata": {},
   "outputs": [
    {
     "data": {
      "text/plain": [
       "DatetimeIndex(['2009-02-13 23:31:30', '2000-11-05 05:13:54',\n",
       "               '2050-05-15 13:36:29'],\n",
       "              dtype='datetime64[ns]', freq=None)"
      ]
     },
     "execution_count": 11,
     "metadata": {},
     "output_type": "execute_result"
    }
   ],
   "source": [
    "# Пример того, как это работает\n",
    "pd.to_datetime([1234567890, 973401234, 2536234589], unit='s')"
   ]
  },
  {
   "cell_type": "code",
   "execution_count": null,
   "id": "18865ed9",
   "metadata": {},
   "outputs": [],
   "source": [
    "# напишите свой код здесь"
   ]
  },
  {
   "cell_type": "markdown",
   "id": "6e7b7c90",
   "metadata": {},
   "source": [
    "### Задание 7\n",
    "\n",
    "В видео была допущена ошибка, когда было сказано, что можно поменять формат отображения дат. Это не так. Даты можно представить в виде строк в определенном формате. Для того, чтобы это сделать необходимо обратиться к колонке с датами, а затем обратиться к конструкции dt.strftime(). Внутри метода надо указать формат даты. \n",
    "\n",
    "Приведите колонку open_date к строкам, чтобы дата лежала в формате число, месяц, год.  В качестве разделителей возьмите слэш /"
   ]
  },
  {
   "cell_type": "code",
   "execution_count": 1,
   "id": "46c0e57a",
   "metadata": {},
   "outputs": [
    {
     "data": {
      "text/html": [
       "<div>\n",
       "<style scoped>\n",
       "    .dataframe tbody tr th:only-of-type {\n",
       "        vertical-align: middle;\n",
       "    }\n",
       "\n",
       "    .dataframe tbody tr th {\n",
       "        vertical-align: top;\n",
       "    }\n",
       "\n",
       "    .dataframe thead th {\n",
       "        text-align: right;\n",
       "    }\n",
       "</style>\n",
       "<table border=\"1\" class=\"dataframe\">\n",
       "  <thead>\n",
       "    <tr style=\"text-align: right;\">\n",
       "      <th></th>\n",
       "      <th>shop_id</th>\n",
       "      <th>city</th>\n",
       "      <th>adress</th>\n",
       "      <th>shopping_center</th>\n",
       "      <th>size</th>\n",
       "      <th>open_date</th>\n",
       "    </tr>\n",
       "  </thead>\n",
       "  <tbody>\n",
       "    <tr>\n",
       "      <th>0</th>\n",
       "      <td>1</td>\n",
       "      <td>Воронеж</td>\n",
       "      <td>Пушкинская пл., д. 76</td>\n",
       "      <td>NaN</td>\n",
       "      <td>Мелкий</td>\n",
       "      <td>2015-01-22</td>\n",
       "    </tr>\n",
       "    <tr>\n",
       "      <th>1</th>\n",
       "      <td>2</td>\n",
       "      <td>Санкт-Петербург</td>\n",
       "      <td>ул. Веселая, д. 20</td>\n",
       "      <td>Книга</td>\n",
       "      <td>Крупный</td>\n",
       "      <td>2015-05-11</td>\n",
       "    </tr>\n",
       "    <tr>\n",
       "      <th>2</th>\n",
       "      <td>3</td>\n",
       "      <td>Чита</td>\n",
       "      <td>Тупой пер., д. 1</td>\n",
       "      <td>NaN</td>\n",
       "      <td>Мелкий</td>\n",
       "      <td>2015-11-27</td>\n",
       "    </tr>\n",
       "    <tr>\n",
       "      <th>3</th>\n",
       "      <td>4</td>\n",
       "      <td>Липецк</td>\n",
       "      <td>пр. Гагарина, д. 234</td>\n",
       "      <td>Обезьяна</td>\n",
       "      <td>Средний</td>\n",
       "      <td>2016-04-04</td>\n",
       "    </tr>\n",
       "    <tr>\n",
       "      <th>4</th>\n",
       "      <td>5</td>\n",
       "      <td>Челябинск</td>\n",
       "      <td>пр. Железнодорожников, д. 12</td>\n",
       "      <td>NaN</td>\n",
       "      <td>Мелкий</td>\n",
       "      <td>2016-04-11</td>\n",
       "    </tr>\n",
       "  </tbody>\n",
       "</table>\n",
       "</div>"
      ],
      "text/plain": [
       "   shop_id             city                        adress shopping_center  \\\n",
       "0        1          Воронеж         Пушкинская пл., д. 76             NaN   \n",
       "1        2  Санкт-Петербург            ул. Веселая, д. 20           Книга   \n",
       "2        3             Чита              Тупой пер., д. 1             NaN   \n",
       "3        4           Липецк          пр. Гагарина, д. 234        Обезьяна   \n",
       "4        5        Челябинск  пр. Железнодорожников, д. 12             NaN   \n",
       "\n",
       "      size  open_date  \n",
       "0   Мелкий 2015-01-22  \n",
       "1  Крупный 2015-05-11  \n",
       "2   Мелкий 2015-11-27  \n",
       "3  Средний 2016-04-04  \n",
       "4   Мелкий 2016-04-11  "
      ]
     },
     "execution_count": 1,
     "metadata": {},
     "output_type": "execute_result"
    }
   ],
   "source": [
    "import os\n",
    "import pandas as pd\n",
    "\n",
    "path_shops = '../tables/shops.xlsx' if os.path.exists('../tables/shops.xlsx') else 'https://drive.google.com/uc?id=1gfnmceJa3Mc1X06NftTx9G9QfKfprjEB'\n",
    "\n",
    "shops = pd.read_excel(path_shops)\n",
    "shops.head()"
   ]
  },
  {
   "cell_type": "code",
   "execution_count": 2,
   "id": "4f92b11e",
   "metadata": {},
   "outputs": [
    {
     "data": {
      "text/plain": [
       "0     22/01/2015\n",
       "1     11/05/2015\n",
       "2     27/11/2015\n",
       "3     04/04/2016\n",
       "4     11/04/2016\n",
       "5     19/04/2016\n",
       "6     17/01/2017\n",
       "7     08/02/2017\n",
       "8     10/05/2017\n",
       "9     13/08/2017\n",
       "10    18/12/2017\n",
       "11    31/12/2017\n",
       "12    04/02/2018\n",
       "13    30/03/2018\n",
       "14    30/04/2018\n",
       "15    23/05/2018\n",
       "16    18/07/2018\n",
       "17    22/01/2019\n",
       "18    24/02/2019\n",
       "19    27/06/2019\n",
       "20    13/08/2019\n",
       "21    05/11/2020\n",
       "22    09/12/2020\n",
       "Name: open_date, dtype: object"
      ]
     },
     "execution_count": 2,
     "metadata": {},
     "output_type": "execute_result"
    }
   ],
   "source": [
    "shops['open_date'].dt.strftime('%d/%m/%Y')"
   ]
  },
  {
   "cell_type": "code",
   "execution_count": null,
   "id": "6a5ec290",
   "metadata": {},
   "outputs": [],
   "source": []
  },
  {
   "cell_type": "code",
   "execution_count": null,
   "id": "281fcc18",
   "metadata": {},
   "outputs": [],
   "source": []
  },
  {
   "cell_type": "code",
   "execution_count": null,
   "id": "132c25c3",
   "metadata": {},
   "outputs": [],
   "source": []
  },
  {
   "cell_type": "code",
   "execution_count": null,
   "id": "a54332e6",
   "metadata": {},
   "outputs": [],
   "source": []
  },
  {
   "cell_type": "code",
   "execution_count": null,
   "id": "a03eb939",
   "metadata": {},
   "outputs": [],
   "source": []
  },
  {
   "cell_type": "code",
   "execution_count": null,
   "id": "708d1bd2",
   "metadata": {},
   "outputs": [],
   "source": []
  },
  {
   "cell_type": "code",
   "execution_count": null,
   "id": "534a9259",
   "metadata": {},
   "outputs": [],
   "source": []
  },
  {
   "cell_type": "code",
   "execution_count": null,
   "id": "63b21cfe",
   "metadata": {},
   "outputs": [],
   "source": []
  },
  {
   "cell_type": "code",
   "execution_count": null,
   "id": "f3574d43",
   "metadata": {},
   "outputs": [],
   "source": []
  }
 ],
 "metadata": {
  "kernelspec": {
   "display_name": "Python 3 (ipykernel)",
   "language": "python",
   "name": "python3"
  },
  "language_info": {
   "codemirror_mode": {
    "name": "ipython",
    "version": 3
   },
   "file_extension": ".py",
   "mimetype": "text/x-python",
   "name": "python",
   "nbconvert_exporter": "python",
   "pygments_lexer": "ipython3",
   "version": "3.11.2"
  }
 },
 "nbformat": 4,
 "nbformat_minor": 5
}
