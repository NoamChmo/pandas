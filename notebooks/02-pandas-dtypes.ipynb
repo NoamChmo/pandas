{
 "cells": [
  {
   "cell_type": "markdown",
   "id": "3bc56482",
   "metadata": {},
   "source": [
    "<a target=\"_blank\" href=\"https://colab.research.google.com/github/victorlymarev/pandas/blob/main/notebooks/02-pandas-dtypes.ipynb\">\n",
    "  <img src=\"https://colab.research.google.com/assets/colab-badge.svg\" alt=\"Open In Colab\"/>\n",
    "</a>"
   ]
  },
  {
   "cell_type": "markdown",
   "id": "a38cd6b2",
   "metadata": {},
   "source": [
    "# Изменение типов данных\n",
    "#### [Ссылка на видео](https://youtu.be/TFM_msrwBIk)"
   ]
  },
  {
   "cell_type": "markdown",
   "id": "7ec23343",
   "metadata": {},
   "source": [
    "Импортируем библиотеки. Библитека os нужна, чтобы вы не скачивали таблицу второй раз если она у вас уже скачана, и скачалаи ее, если она у вас не скачана"
   ]
  },
  {
   "cell_type": "code",
   "execution_count": null,
   "id": "dce4569a",
   "metadata": {},
   "outputs": [],
   "source": [
    "import os\n",
    "import pandas as pd"
   ]
  },
  {
   "cell_type": "markdown",
   "id": "142d3099",
   "metadata": {},
   "source": [
    "#### Проверить к какому классу относится объект, можно при помощи функции type"
   ]
  },
  {
   "cell_type": "code",
   "execution_count": null,
   "id": "0c74c8b3",
   "metadata": {},
   "outputs": [],
   "source": [
    "type(123)"
   ]
  },
  {
   "cell_type": "code",
   "execution_count": null,
   "id": "d675dd2a",
   "metadata": {},
   "outputs": [],
   "source": [
    "type('pandas')"
   ]
  },
  {
   "cell_type": "markdown",
   "id": "b0c14cdb",
   "metadata": {},
   "source": [
    "От того, к какому классу принадлежит отбъект, зависят его свойства"
   ]
  },
  {
   "cell_type": "code",
   "execution_count": null,
   "id": "13b74ee8",
   "metadata": {},
   "outputs": [],
   "source": [
    "1 + 2"
   ]
  },
  {
   "cell_type": "code",
   "execution_count": null,
   "id": "9e483b06",
   "metadata": {},
   "outputs": [],
   "source": [
    "'1' + '2'"
   ]
  },
  {
   "cell_type": "markdown",
   "id": "639a77d5",
   "metadata": {},
   "source": [
    "Читаем таблицу"
   ]
  },
  {
   "cell_type": "code",
   "execution_count": null,
   "id": "d4c8e633",
   "metadata": {},
   "outputs": [],
   "source": [
    "path_people = '../tables/people.parquet' if os.path.exists('../tables/people.parquet') else 'https://drive.google.com/uc?id=1iI1Lde5ya3ruztGYmjpprSCUoCU9rBeS'\n",
    "\n",
    "people = pd.read_parquet(path_people)\n",
    "people"
   ]
  },
  {
   "cell_type": "code",
   "execution_count": null,
   "id": "98117afd",
   "metadata": {},
   "outputs": [],
   "source": [
    "people['Фамилия']"
   ]
  },
  {
   "cell_type": "markdown",
   "id": "f26a599b",
   "metadata": {},
   "source": [
    "### info\n",
    "\n",
    "Метод выводит на экран таблицу, в которой указаны название столбца, число заполненых ячейк и тип данных в стобце"
   ]
  },
  {
   "cell_type": "code",
   "execution_count": null,
   "id": "0ebe1782",
   "metadata": {},
   "outputs": [],
   "source": [
    "people.info()"
   ]
  },
  {
   "cell_type": "code",
   "execution_count": null,
   "id": "0b247d2e",
   "metadata": {},
   "outputs": [],
   "source": [
    "people"
   ]
  },
  {
   "cell_type": "markdown",
   "id": "ab730f8a",
   "metadata": {},
   "source": [
    "#### Типы:\n",
    "1. __object__ - тип данных, который в основном используется для строк (строки - это текст, они записываются в кавычках), но может содержать и другие типы данных\n",
    "2. __string__ - тип данных, предназначеный для хранения строк\n",
    "3. __int + число__ - целые числа\n",
    "4. __float + число__ - числа с плавующей точкой\n",
    "5. __datetime64[ns]__ - даты и время\n",
    "6. __bool__ - логический тип. Если True, то правда, если False, то ложь"
   ]
  },
  {
   "cell_type": "code",
   "execution_count": null,
   "id": "081e44b6",
   "metadata": {},
   "outputs": [],
   "source": [
    "df_path = '../tables/modified_dtypes.pkl' if os.path.exists('../tables/школьные оценки.xlsx') else 'https://drive.google.com/uc?id=1Q_MDakkji87seNz6nWH54cLF9_54Ix81'\n",
    "df = pd.read_pickle(df_path)"
   ]
  },
  {
   "cell_type": "code",
   "execution_count": null,
   "id": "3ab716c6",
   "metadata": {},
   "outputs": [],
   "source": [
    "df"
   ]
  },
  {
   "cell_type": "markdown",
   "id": "6d26fbee",
   "metadata": {},
   "source": [
    "Все колонки в таблице представленны типом object"
   ]
  },
  {
   "cell_type": "code",
   "execution_count": null,
   "id": "cf244871",
   "metadata": {},
   "outputs": [],
   "source": [
    "df.info()"
   ]
  },
  {
   "cell_type": "markdown",
   "id": "02f99bbb",
   "metadata": {},
   "source": [
    "### to_datetime\n",
    "\n",
    "Функция приводит колонки таблицы к типу datetime64"
   ]
  },
  {
   "cell_type": "code",
   "execution_count": null,
   "id": "f2c6b2a3",
   "metadata": {},
   "outputs": [],
   "source": [
    "pd.to_datetime(df['Дата рождения'])"
   ]
  },
  {
   "cell_type": "code",
   "execution_count": null,
   "id": "18838aab",
   "metadata": {},
   "outputs": [],
   "source": [
    "df['Дата рождения']"
   ]
  },
  {
   "cell_type": "markdown",
   "id": "9e87b646",
   "metadata": {},
   "source": [
    "#### Присваивание новых значений"
   ]
  },
  {
   "cell_type": "code",
   "execution_count": null,
   "id": "36faa79c",
   "metadata": {},
   "outputs": [],
   "source": [
    "df['Дата рождения'] = pd.to_datetime(df['Дата рождения'])"
   ]
  },
  {
   "cell_type": "code",
   "execution_count": null,
   "id": "8d9b9021",
   "metadata": {},
   "outputs": [],
   "source": [
    "df['Дата рождения']"
   ]
  },
  {
   "cell_type": "markdown",
   "id": "82f88968",
   "metadata": {},
   "source": [
    "#### параметр format"
   ]
  },
  {
   "cell_type": "code",
   "execution_count": null,
   "id": "d7b38a17",
   "metadata": {},
   "outputs": [],
   "source": [
    "pd.to_datetime(df['Дата устройства на работу'])"
   ]
  },
  {
   "cell_type": "code",
   "execution_count": null,
   "id": "f4db54a7",
   "metadata": {},
   "outputs": [],
   "source": [
    "df['Дата устройства на работу'] = pd.to_datetime(df['Дата устройства на работу'],\n",
    "                                                 format='%d#%m/%Y')"
   ]
  },
  {
   "cell_type": "code",
   "execution_count": null,
   "id": "3c174022",
   "metadata": {},
   "outputs": [],
   "source": [
    "df.info()"
   ]
  },
  {
   "cell_type": "markdown",
   "id": "f697700e",
   "metadata": {},
   "source": [
    "### astype\n",
    "\n",
    "Метод для конвертации колонок из одного типа в другой\n",
    "\n",
    "#### Синтаксис:\n",
    "__Для датафреймов:__\n",
    "1. df.astype({Назавание колонки: тип}) - для приведения определенных колонок\n",
    "2. df.astype(тип) - для приведения всего датафрема к одному типу\n",
    "\n",
    "__Для объектов Series:__\n",
    "1. s.astype(тип)"
   ]
  },
  {
   "cell_type": "code",
   "execution_count": null,
   "id": "cc300634",
   "metadata": {},
   "outputs": [],
   "source": [
    "df = df.astype({'Число детей': int, 'Площадь дома': float})"
   ]
  },
  {
   "cell_type": "code",
   "execution_count": null,
   "id": "7e5d36d1",
   "metadata": {},
   "outputs": [],
   "source": [
    "df.info()"
   ]
  },
  {
   "cell_type": "markdown",
   "id": "3e580433",
   "metadata": {},
   "source": [
    "#### С помощью метода astype можно обрезать дробную часть у чисел с плавующей точкой"
   ]
  },
  {
   "cell_type": "code",
   "execution_count": null,
   "id": "bd3116dd",
   "metadata": {},
   "outputs": [],
   "source": [
    "df.astype({'Число детей': int, 'Площадь дома': float}).astype({'Площадь дома': int})"
   ]
  },
  {
   "cell_type": "markdown",
   "id": "ec0ff568",
   "metadata": {},
   "source": [
    "Более красивый вид написания методов"
   ]
  },
  {
   "cell_type": "code",
   "execution_count": null,
   "id": "f6a437db",
   "metadata": {},
   "outputs": [],
   "source": [
    "(df\n",
    "    .astype({'Число детей': int, 'Площадь дома': float})\n",
    "    .astype({'Площадь дома': int})\n",
    ")"
   ]
  },
  {
   "cell_type": "code",
   "execution_count": null,
   "id": "b0f9ea81",
   "metadata": {},
   "outputs": [],
   "source": [
    "df.info()"
   ]
  },
  {
   "cell_type": "markdown",
   "id": "283c4f20",
   "metadata": {},
   "source": [
    "Int64 может содержать пропущенные значения"
   ]
  },
  {
   "cell_type": "code",
   "execution_count": null,
   "id": "2a0ceee6",
   "metadata": {},
   "outputs": [],
   "source": [
    "df['Заработная плата'].astype('Int64')"
   ]
  },
  {
   "cell_type": "code",
   "execution_count": null,
   "id": "6166c442",
   "metadata": {},
   "outputs": [],
   "source": [
    "df['Автомобиль'].astype('string').info()"
   ]
  },
  {
   "cell_type": "code",
   "execution_count": null,
   "id": "4deb69ac",
   "metadata": {},
   "outputs": [],
   "source": [
    "df['Автомобиль'].astype(str).info()"
   ]
  },
  {
   "cell_type": "code",
   "execution_count": null,
   "id": "af62558b",
   "metadata": {},
   "outputs": [],
   "source": []
  },
  {
   "cell_type": "code",
   "execution_count": null,
   "id": "611351b6",
   "metadata": {},
   "outputs": [],
   "source": []
  },
  {
   "cell_type": "code",
   "execution_count": null,
   "id": "d6e48e31",
   "metadata": {},
   "outputs": [],
   "source": []
  },
  {
   "cell_type": "code",
   "execution_count": null,
   "id": "56b2593c",
   "metadata": {},
   "outputs": [],
   "source": []
  },
  {
   "cell_type": "code",
   "execution_count": null,
   "id": "8abc385f",
   "metadata": {},
   "outputs": [],
   "source": []
  },
  {
   "cell_type": "code",
   "execution_count": null,
   "id": "b68f48ab",
   "metadata": {},
   "outputs": [],
   "source": []
  },
  {
   "cell_type": "code",
   "execution_count": null,
   "id": "ce53cf1b",
   "metadata": {},
   "outputs": [],
   "source": []
  },
  {
   "cell_type": "code",
   "execution_count": null,
   "id": "277a8b09",
   "metadata": {},
   "outputs": [],
   "source": []
  },
  {
   "cell_type": "code",
   "execution_count": null,
   "id": "38648678",
   "metadata": {},
   "outputs": [],
   "source": []
  },
  {
   "cell_type": "markdown",
   "id": "468830a9",
   "metadata": {},
   "source": [
    "# Задания"
   ]
  },
  {
   "cell_type": "markdown",
   "id": "b5394f66",
   "metadata": {},
   "source": [
    "#### Описание таблиц лежит [здесь](https://github.com/victorlymarev/pandas/tree/main/tables#%D0%BE%D0%BF%D0%B8%D1%81%D0%B0%D0%BD%D0%B8%D0%B5-%D1%82%D0%B0%D0%B1%D0%BB%D0%B8%D1%86)"
   ]
  },
  {
   "cell_type": "markdown",
   "id": "9892c8e7",
   "metadata": {},
   "source": [
    "Некоторые таблицы занимают много памяти, поэтому каждые 5-10 заданий лучше перезапускайте ноутбук.\n",
    "\n",
    "В формулировке некоторых заданий может содержаться вариативность. Если у вас есть сомнения, что требуется в задании, попробуйте решить несколько вариантов. Если вы не понимаете задание, можете написать об этом в комментариях под видео.\n",
    "\n",
    "В большинстве случаев внешний вид итоговой таблицы не определен. Выведите на экран наиболее адекватный вариант. То есть таблицу, из которой можно будет сделать выводы.\n",
    "\n",
    "Курс пока находится в разработке. Вы можете помочь другим людям добавив свое решение [сюда](https://docs.google.com/forms/d/1HYTBz_KfssY3Jps2dC3n0YnEqa6WBb5OIhLo1d32Xzw/edit).\n",
    "\n",
    "Посмотреть решения других людей можно [здесь](https://docs.google.com/spreadsheets/d/1pMDYO-9UneLbPPnEuQ2shig0TOJdQTU-zipifyAnZMk/edit?resourcekey#gid=1998648012)"
   ]
  },
  {
   "cell_type": "markdown",
   "id": "f293e06e",
   "metadata": {},
   "source": [
    "### Задание 1\n",
    "В таблице w_ends для каждой даты отмечено, был ли этот день выходным. Посмотрите на типы данных в таблице. Приведите колонку с датами к типу datetime64[ns]"
   ]
  },
  {
   "cell_type": "code",
   "execution_count": null,
   "id": "9b068fb0",
   "metadata": {},
   "outputs": [],
   "source": [
    "import os\n",
    "import pandas as pd\n",
    "\n",
    "path_w_ends = '../tables/выходные.csv' if os.path.exists('../tables/выходные.csv') else 'https://drive.google.com/uc?id=1hAsoXSPTFihFmBuF-E0uSj9pX4gpojwC'\n",
    "w_ends = pd.read_csv(path_w_ends)\n",
    "w_ends\n",
    "\n",
    "# напишите свой код здесь"
   ]
  },
  {
   "cell_type": "markdown",
   "id": "45bfe7a1",
   "metadata": {},
   "source": [
    "### Задание 2\n",
    "\n",
    "Приведите колонку Математика к типу string, а колонку Литература к строкам. Таблица лежит в переменной marks"
   ]
  },
  {
   "cell_type": "code",
   "execution_count": null,
   "id": "5c30394a",
   "metadata": {},
   "outputs": [],
   "source": [
    "import os\n",
    "import pandas as pd\n",
    "\n",
    "path_marks = '../tables/оценки.xlsx' if os.path.exists('../tables/оценки.xlsx') else 'https://drive.google.com/uc?id=17f4DXx53J0WooNkhO13xidseZJ-O2obs'\n",
    "marks = pd.read_excel(path_marks)\n",
    "marks\n",
    "\n",
    "# напишите свой код здесь"
   ]
  },
  {
   "cell_type": "markdown",
   "id": "db0837db",
   "metadata": {},
   "source": [
    "### Задание 3\n",
    "\n",
    "В дальнейшем вы будете работать с таблицами, которые будут содержать информацию о магазинах одежды. В таблице shops лежать адреса этих магазинов, и дата открытия.\n",
    "\n",
    "Изучите таблицу, посмотрите на типы данных в ней. Приведите колонки таблицы к форматам, которые вам кажутся наиболее подходящими"
   ]
  },
  {
   "cell_type": "code",
   "execution_count": null,
   "id": "1ab0e854",
   "metadata": {},
   "outputs": [],
   "source": [
    "import os\n",
    "import pandas as pd\n",
    "\n",
    "path_shops = '../tables/shops.xlsx' if os.path.exists('../tables/shops.xlsx') else 'https://drive.google.com/uc?id=1gfnmceJa3Mc1X06NftTx9G9QfKfprjEB'\n",
    "shops = pd.read_excel(path_shops).astype({'shop_id': str})\n",
    "shops\n",
    "\n",
    "# напишите свой код здесь"
   ]
  },
  {
   "cell_type": "markdown",
   "id": "cc037643",
   "metadata": {},
   "source": [
    "### Задание 4\n",
    "\n",
    "В таблице empl приведите колонку salary (зарплата) к целым числам"
   ]
  },
  {
   "cell_type": "code",
   "execution_count": null,
   "id": "4b77c4da",
   "metadata": {},
   "outputs": [],
   "source": [
    "import os\n",
    "import pandas as pd\n",
    "\n",
    "path_empl = '../tables/employees.parquet' if os.path.exists('../tables/employees.parquet') else 'https://drive.google.com/uc?id=1AARD5-eVlCxoApt5CYZebrC3Cqw42lvj'\n",
    "\n",
    "empl = pd.read_parquet(path_empl)\n",
    "empl"
   ]
  },
  {
   "cell_type": "markdown",
   "id": "d4beec4a",
   "metadata": {},
   "source": [
    "### Задание 5\n",
    "\n",
    "В таблите ltc лежат данные по курсу криптовалюты litecoin. Посмотрите на типы данных в таблице. Приведите колнку date к типу datetime64. Используйте параметр format. (На самом деле функция to_datetime сработает и без него, но лучше попрактикуйтесь с ним). Подсказка  о том, как это сделать содержится внутри метода strftime. На остальные методы пока внимание не обращайте"
   ]
  },
  {
   "cell_type": "code",
   "execution_count": null,
   "id": "11b8ef7a",
   "metadata": {},
   "outputs": [],
   "source": [
    "import os\n",
    "import pandas as pd\n",
    "\n",
    "path_ltc_sample = '../tables/ltc_sample.parquet' if os.path.exists('../tables/ltc_sample.parquet') else 'https://drive.google.com/uc?id=1XaThogOOqKjJj50LvfJ9WqutjMAC5AxA'\n",
    "\n",
    "ltc = (pd.read_parquet(path_ltc_sample)\n",
    "       .head(10)\n",
    "       .assign(date = lambda x: x['date'].dt.strftime('%H:%M:%s %d/%m/%Y'))\n",
    ")\n",
    "ltc\n",
    "\n",
    "# напишите свой код здесь"
   ]
  },
  {
   "cell_type": "markdown",
   "id": "d8202255",
   "metadata": {},
   "source": [
    "### Задание 6\n",
    "\n",
    "Посмотрите на таблицу xdg_usdt. В ней содержаться данные по торговли криптовалютами xdg и usdt.\n",
    "В ней нас интересует колонка дата. Посмотрите какого она типа?\n",
    "\n",
    "Иногда даты хранятся не в виде строк, а в виде целых чисел. Каждое число - это количество секунд, милисекунд или наносекунд, которое прошло с 1 января 1970 года. Привести такую колонку к привычному формату дат можно при помощи функции to_datetime, используя в ней парметр unit. Этому параметру необходимо передать значение 's' для секунд, 'ms' - для милисекунд, 'ns' - для наносекунд. \n",
    "\n",
    "Приведите колонку с датами к типу datetime64, подобрав нужное значение в параметре unit"
   ]
  },
  {
   "cell_type": "code",
   "execution_count": null,
   "id": "e4fac864",
   "metadata": {},
   "outputs": [],
   "source": [
    "import os\n",
    "import pandas as pd\n",
    "path_xdg_usdt = '../tables/XDGUSDT.csv' if os.path.exists('../tables/XDGUSDT.csv') else 'https://drive.google.com/uc?id=1oLjCNOsdKbd87sIgW0_OWDpD2DVHAAAV'\n",
    "xdg_usdt = pd.read_csv(path_xdg_usdt, header=None).set_axis(['Дата', 'Цена', 'Объем'], axis=1)\n",
    "xdg_usdt"
   ]
  },
  {
   "cell_type": "code",
   "execution_count": null,
   "id": "8dc4291c",
   "metadata": {},
   "outputs": [],
   "source": [
    "# Пример того, как это работает\n",
    "pd.to_datetime([1234567890, 973401234, 2536234589], unit='s')"
   ]
  },
  {
   "cell_type": "code",
   "execution_count": null,
   "id": "18865ed9",
   "metadata": {},
   "outputs": [],
   "source": [
    "# напишите свой код здесь"
   ]
  },
  {
   "cell_type": "markdown",
   "id": "6e7b7c90",
   "metadata": {},
   "source": [
    "### Задание 7\n",
    "\n",
    "В видео была допущена ошибка, когда было сказано, что можно поменять формат отображения дат. Это не так. Даты можно представить в виде строк в определенном формате. Для того, чтобы это сделать необходимо обратиться к колонке с датами, а затем обратиться к конструкции dt.strftime(). Внутри метода надо указать формат даты. \n",
    "\n",
    "Приведите колонку open_date к строкам, чтобы дата лежала в формате число, месяц, год.  В качестве разделителей возьмите слэш /"
   ]
  },
  {
   "cell_type": "code",
   "execution_count": null,
   "id": "46c0e57a",
   "metadata": {},
   "outputs": [],
   "source": [
    "import os\n",
    "import pandas as pd\n",
    "\n",
    "path_shops = '../tables/shops.xlsx' if os.path.exists('../tables/shops.xlsx') else 'https://drive.google.com/uc?id=1gfnmceJa3Mc1X06NftTx9G9QfKfprjEB'\n",
    "\n",
    "shops = pd.read_excel(path_shops)\n",
    "shops.head()"
   ]
  },
  {
   "cell_type": "code",
   "execution_count": null,
   "id": "4f92b11e",
   "metadata": {},
   "outputs": [],
   "source": [
    "shops['open_date'].dt.strftime('%d/%m/%Y')"
   ]
  },
  {
   "cell_type": "code",
   "execution_count": null,
   "id": "6a5ec290",
   "metadata": {},
   "outputs": [],
   "source": []
  },
  {
   "cell_type": "code",
   "execution_count": null,
   "id": "281fcc18",
   "metadata": {},
   "outputs": [],
   "source": []
  },
  {
   "cell_type": "code",
   "execution_count": null,
   "id": "132c25c3",
   "metadata": {},
   "outputs": [],
   "source": []
  },
  {
   "cell_type": "code",
   "execution_count": null,
   "id": "a54332e6",
   "metadata": {},
   "outputs": [],
   "source": []
  },
  {
   "cell_type": "code",
   "execution_count": null,
   "id": "a03eb939",
   "metadata": {},
   "outputs": [],
   "source": []
  },
  {
   "cell_type": "code",
   "execution_count": null,
   "id": "708d1bd2",
   "metadata": {},
   "outputs": [],
   "source": []
  },
  {
   "cell_type": "code",
   "execution_count": null,
   "id": "534a9259",
   "metadata": {},
   "outputs": [],
   "source": []
  },
  {
   "cell_type": "code",
   "execution_count": null,
   "id": "63b21cfe",
   "metadata": {},
   "outputs": [],
   "source": []
  },
  {
   "cell_type": "code",
   "execution_count": null,
   "id": "f3574d43",
   "metadata": {},
   "outputs": [],
   "source": []
  }
 ],
 "metadata": {
  "kernelspec": {
   "display_name": "Python 3 (ipykernel)",
   "language": "python",
   "name": "python3"
  },
  "language_info": {
   "codemirror_mode": {
    "name": "ipython",
    "version": 3
   },
   "file_extension": ".py",
   "mimetype": "text/x-python",
   "name": "python",
   "nbconvert_exporter": "python",
   "pygments_lexer": "ipython3",
   "version": "3.11.5"
  }
 },
 "nbformat": 4,
 "nbformat_minor": 5
}
