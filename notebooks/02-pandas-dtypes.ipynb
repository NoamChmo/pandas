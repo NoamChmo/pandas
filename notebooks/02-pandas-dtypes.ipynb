{
  "cells": [
    {
      "cell_type": "markdown",
      "metadata": {
        "id": "view-in-github",
        "colab_type": "text"
      },
      "source": [
        "<a href=\"https://colab.research.google.com/github/NoamChmo/pandas/blob/main/notebooks/02-pandas-dtypes.ipynb\" target=\"_parent\"><img src=\"https://colab.research.google.com/assets/colab-badge.svg\" alt=\"Open In Colab\"/></a>"
      ]
    },
    {
      "cell_type": "markdown",
      "id": "bba91f02",
      "metadata": {
        "id": "bba91f02"
      },
      "source": [
        "<a target=\"_blank\" href=\"https://colab.research.google.com/github/victorlymarev/pandas/blob/main/notebooks/02-pandas-dtypes.ipynb\">\n",
        "  <img src=\"https://colab.research.google.com/assets/colab-badge.svg\" alt=\"Open In Colab\"/>\n",
        "</a>"
      ]
    },
    {
      "cell_type": "markdown",
      "id": "b19db1d1",
      "metadata": {
        "id": "b19db1d1"
      },
      "source": [
        "# Изменение типов данных\n",
        "#### [Ссылка на видео](https://youtu.be/5aZZS8rTnj0)"
      ]
    },
    {
      "cell_type": "markdown",
      "id": "9a30f74c",
      "metadata": {
        "id": "9a30f74c"
      },
      "source": [
        "Импортируем библиотеки. Библитека os нужна, чтобы вы не скачивали таблицу второй раз если она у вас уже скачана, и скачалаи ее, если она у вас не скачана"
      ]
    },
    {
      "cell_type": "code",
      "execution_count": 2,
      "id": "1503d8be",
      "metadata": {
        "id": "1503d8be"
      },
      "outputs": [],
      "source": [
        "import os\n",
        "import pandas as pd"
      ]
    },
    {
      "cell_type": "markdown",
      "id": "a8767ee0",
      "metadata": {
        "id": "a8767ee0"
      },
      "source": [
        "#### Проверить к какому классу относится объект, можно при помощи функции type"
      ]
    },
    {
      "cell_type": "code",
      "execution_count": null,
      "id": "c7fc9422",
      "metadata": {
        "id": "c7fc9422",
        "outputId": "05b9dfcb-71be-4db7-9c45-886d53bb9408"
      },
      "outputs": [
        {
          "data": {
            "text/plain": [
              "int"
            ]
          },
          "execution_count": 2,
          "metadata": {},
          "output_type": "execute_result"
        }
      ],
      "source": [
        "type(123)"
      ]
    },
    {
      "cell_type": "code",
      "execution_count": null,
      "id": "8923b24d",
      "metadata": {
        "id": "8923b24d",
        "outputId": "85c8f951-8cf0-4bdf-bf8a-25f235a9802c"
      },
      "outputs": [
        {
          "data": {
            "text/plain": [
              "str"
            ]
          },
          "execution_count": 3,
          "metadata": {},
          "output_type": "execute_result"
        }
      ],
      "source": [
        "type('123')"
      ]
    },
    {
      "cell_type": "markdown",
      "id": "eb9ae42b",
      "metadata": {
        "id": "eb9ae42b"
      },
      "source": [
        "От того, к какому классу принадлежит отбъект, зависят его свойства"
      ]
    },
    {
      "cell_type": "code",
      "execution_count": null,
      "id": "bb671f8f",
      "metadata": {
        "id": "bb671f8f",
        "outputId": "c8e6921c-8f3f-4052-f25a-dfb665be17ed"
      },
      "outputs": [
        {
          "data": {
            "text/plain": [
              "3"
            ]
          },
          "execution_count": 4,
          "metadata": {},
          "output_type": "execute_result"
        }
      ],
      "source": [
        "1 + 2"
      ]
    },
    {
      "cell_type": "code",
      "execution_count": null,
      "id": "f272b9b1",
      "metadata": {
        "id": "f272b9b1",
        "outputId": "aabd2b2b-e70f-44e3-d6fb-688a977649dc"
      },
      "outputs": [
        {
          "data": {
            "text/plain": [
              "'12'"
            ]
          },
          "execution_count": 5,
          "metadata": {},
          "output_type": "execute_result"
        }
      ],
      "source": [
        "'1' + '2'"
      ]
    },
    {
      "cell_type": "code",
      "execution_count": null,
      "id": "36427272",
      "metadata": {
        "id": "36427272",
        "outputId": "69d3500a-bcc6-4140-d4b4-2e621f96ebe7"
      },
      "outputs": [
        {
          "data": {
            "text/plain": [
              "[1, 2, 3, 4, 5]"
            ]
          },
          "execution_count": 6,
          "metadata": {},
          "output_type": "execute_result"
        }
      ],
      "source": [
        "[1, 2, 3, 4, 5]"
      ]
    },
    {
      "cell_type": "markdown",
      "id": "1a6ac68d",
      "metadata": {
        "id": "1a6ac68d"
      },
      "source": [
        "Читаем таблицу"
      ]
    },
    {
      "cell_type": "code",
      "execution_count": 3,
      "id": "12b572c2",
      "metadata": {
        "id": "12b572c2",
        "outputId": "34c1dfc8-da87-4648-bad2-f748795bcc91",
        "colab": {
          "base_uri": "https://localhost:8080/",
          "height": 289
        }
      },
      "outputs": [
        {
          "output_type": "execute_result",
          "data": {
            "text/plain": [
              "         Имя   Фамилия  Число детей  Площадь дома Дата рождения  Женат/Замужем\n",
              "0       Илья  Васильев            0          56.3    1996-11-30          False\n",
              "1      Антон  Алексеев            2          77.0    1976-02-29           True\n",
              "2    Надежда    Гусева            3         103.1    1964-09-26           True\n",
              "3      Артем    Павлов            5         134.9    1980-05-18           True\n",
              "4  Александр  Николаев            1          47.0    1959-02-24           True\n",
              "5    Дмитрий  Печенкин            2          61.0    1939-04-05          False\n",
              "6      Дарья  Воробева            3           NaN    1997-07-23           True"
            ],
            "text/html": [
              "\n",
              "  <div id=\"df-f715b137-2870-47d9-b2f9-8c9417e83917\" class=\"colab-df-container\">\n",
              "    <div>\n",
              "<style scoped>\n",
              "    .dataframe tbody tr th:only-of-type {\n",
              "        vertical-align: middle;\n",
              "    }\n",
              "\n",
              "    .dataframe tbody tr th {\n",
              "        vertical-align: top;\n",
              "    }\n",
              "\n",
              "    .dataframe thead th {\n",
              "        text-align: right;\n",
              "    }\n",
              "</style>\n",
              "<table border=\"1\" class=\"dataframe\">\n",
              "  <thead>\n",
              "    <tr style=\"text-align: right;\">\n",
              "      <th></th>\n",
              "      <th>Имя</th>\n",
              "      <th>Фамилия</th>\n",
              "      <th>Число детей</th>\n",
              "      <th>Площадь дома</th>\n",
              "      <th>Дата рождения</th>\n",
              "      <th>Женат/Замужем</th>\n",
              "    </tr>\n",
              "  </thead>\n",
              "  <tbody>\n",
              "    <tr>\n",
              "      <th>0</th>\n",
              "      <td>Илья</td>\n",
              "      <td>Васильев</td>\n",
              "      <td>0</td>\n",
              "      <td>56.3</td>\n",
              "      <td>1996-11-30</td>\n",
              "      <td>False</td>\n",
              "    </tr>\n",
              "    <tr>\n",
              "      <th>1</th>\n",
              "      <td>Антон</td>\n",
              "      <td>Алексеев</td>\n",
              "      <td>2</td>\n",
              "      <td>77.0</td>\n",
              "      <td>1976-02-29</td>\n",
              "      <td>True</td>\n",
              "    </tr>\n",
              "    <tr>\n",
              "      <th>2</th>\n",
              "      <td>Надежда</td>\n",
              "      <td>Гусева</td>\n",
              "      <td>3</td>\n",
              "      <td>103.1</td>\n",
              "      <td>1964-09-26</td>\n",
              "      <td>True</td>\n",
              "    </tr>\n",
              "    <tr>\n",
              "      <th>3</th>\n",
              "      <td>Артем</td>\n",
              "      <td>Павлов</td>\n",
              "      <td>5</td>\n",
              "      <td>134.9</td>\n",
              "      <td>1980-05-18</td>\n",
              "      <td>True</td>\n",
              "    </tr>\n",
              "    <tr>\n",
              "      <th>4</th>\n",
              "      <td>Александр</td>\n",
              "      <td>Николаев</td>\n",
              "      <td>1</td>\n",
              "      <td>47.0</td>\n",
              "      <td>1959-02-24</td>\n",
              "      <td>True</td>\n",
              "    </tr>\n",
              "    <tr>\n",
              "      <th>5</th>\n",
              "      <td>Дмитрий</td>\n",
              "      <td>Печенкин</td>\n",
              "      <td>2</td>\n",
              "      <td>61.0</td>\n",
              "      <td>1939-04-05</td>\n",
              "      <td>False</td>\n",
              "    </tr>\n",
              "    <tr>\n",
              "      <th>6</th>\n",
              "      <td>Дарья</td>\n",
              "      <td>Воробева</td>\n",
              "      <td>3</td>\n",
              "      <td>NaN</td>\n",
              "      <td>1997-07-23</td>\n",
              "      <td>True</td>\n",
              "    </tr>\n",
              "  </tbody>\n",
              "</table>\n",
              "</div>\n",
              "    <div class=\"colab-df-buttons\">\n",
              "\n",
              "  <div class=\"colab-df-container\">\n",
              "    <button class=\"colab-df-convert\" onclick=\"convertToInteractive('df-f715b137-2870-47d9-b2f9-8c9417e83917')\"\n",
              "            title=\"Convert this dataframe to an interactive table.\"\n",
              "            style=\"display:none;\">\n",
              "\n",
              "  <svg xmlns=\"http://www.w3.org/2000/svg\" height=\"24px\" viewBox=\"0 -960 960 960\">\n",
              "    <path d=\"M120-120v-720h720v720H120Zm60-500h600v-160H180v160Zm220 220h160v-160H400v160Zm0 220h160v-160H400v160ZM180-400h160v-160H180v160Zm440 0h160v-160H620v160ZM180-180h160v-160H180v160Zm440 0h160v-160H620v160Z\"/>\n",
              "  </svg>\n",
              "    </button>\n",
              "\n",
              "  <style>\n",
              "    .colab-df-container {\n",
              "      display:flex;\n",
              "      gap: 12px;\n",
              "    }\n",
              "\n",
              "    .colab-df-convert {\n",
              "      background-color: #E8F0FE;\n",
              "      border: none;\n",
              "      border-radius: 50%;\n",
              "      cursor: pointer;\n",
              "      display: none;\n",
              "      fill: #1967D2;\n",
              "      height: 32px;\n",
              "      padding: 0 0 0 0;\n",
              "      width: 32px;\n",
              "    }\n",
              "\n",
              "    .colab-df-convert:hover {\n",
              "      background-color: #E2EBFA;\n",
              "      box-shadow: 0px 1px 2px rgba(60, 64, 67, 0.3), 0px 1px 3px 1px rgba(60, 64, 67, 0.15);\n",
              "      fill: #174EA6;\n",
              "    }\n",
              "\n",
              "    .colab-df-buttons div {\n",
              "      margin-bottom: 4px;\n",
              "    }\n",
              "\n",
              "    [theme=dark] .colab-df-convert {\n",
              "      background-color: #3B4455;\n",
              "      fill: #D2E3FC;\n",
              "    }\n",
              "\n",
              "    [theme=dark] .colab-df-convert:hover {\n",
              "      background-color: #434B5C;\n",
              "      box-shadow: 0px 1px 3px 1px rgba(0, 0, 0, 0.15);\n",
              "      filter: drop-shadow(0px 1px 2px rgba(0, 0, 0, 0.3));\n",
              "      fill: #FFFFFF;\n",
              "    }\n",
              "  </style>\n",
              "\n",
              "    <script>\n",
              "      const buttonEl =\n",
              "        document.querySelector('#df-f715b137-2870-47d9-b2f9-8c9417e83917 button.colab-df-convert');\n",
              "      buttonEl.style.display =\n",
              "        google.colab.kernel.accessAllowed ? 'block' : 'none';\n",
              "\n",
              "      async function convertToInteractive(key) {\n",
              "        const element = document.querySelector('#df-f715b137-2870-47d9-b2f9-8c9417e83917');\n",
              "        const dataTable =\n",
              "          await google.colab.kernel.invokeFunction('convertToInteractive',\n",
              "                                                    [key], {});\n",
              "        if (!dataTable) return;\n",
              "\n",
              "        const docLinkHtml = 'Like what you see? Visit the ' +\n",
              "          '<a target=\"_blank\" href=https://colab.research.google.com/notebooks/data_table.ipynb>data table notebook</a>'\n",
              "          + ' to learn more about interactive tables.';\n",
              "        element.innerHTML = '';\n",
              "        dataTable['output_type'] = 'display_data';\n",
              "        await google.colab.output.renderOutput(dataTable, element);\n",
              "        const docLink = document.createElement('div');\n",
              "        docLink.innerHTML = docLinkHtml;\n",
              "        element.appendChild(docLink);\n",
              "      }\n",
              "    </script>\n",
              "  </div>\n",
              "\n",
              "\n",
              "<div id=\"df-1ddd4e55-2d7d-4f17-825d-c5d1a1f339ba\">\n",
              "  <button class=\"colab-df-quickchart\" onclick=\"quickchart('df-1ddd4e55-2d7d-4f17-825d-c5d1a1f339ba')\"\n",
              "            title=\"Suggest charts\"\n",
              "            style=\"display:none;\">\n",
              "\n",
              "<svg xmlns=\"http://www.w3.org/2000/svg\" height=\"24px\"viewBox=\"0 0 24 24\"\n",
              "     width=\"24px\">\n",
              "    <g>\n",
              "        <path d=\"M19 3H5c-1.1 0-2 .9-2 2v14c0 1.1.9 2 2 2h14c1.1 0 2-.9 2-2V5c0-1.1-.9-2-2-2zM9 17H7v-7h2v7zm4 0h-2V7h2v10zm4 0h-2v-4h2v4z\"/>\n",
              "    </g>\n",
              "</svg>\n",
              "  </button>\n",
              "\n",
              "<style>\n",
              "  .colab-df-quickchart {\n",
              "      --bg-color: #E8F0FE;\n",
              "      --fill-color: #1967D2;\n",
              "      --hover-bg-color: #E2EBFA;\n",
              "      --hover-fill-color: #174EA6;\n",
              "      --disabled-fill-color: #AAA;\n",
              "      --disabled-bg-color: #DDD;\n",
              "  }\n",
              "\n",
              "  [theme=dark] .colab-df-quickchart {\n",
              "      --bg-color: #3B4455;\n",
              "      --fill-color: #D2E3FC;\n",
              "      --hover-bg-color: #434B5C;\n",
              "      --hover-fill-color: #FFFFFF;\n",
              "      --disabled-bg-color: #3B4455;\n",
              "      --disabled-fill-color: #666;\n",
              "  }\n",
              "\n",
              "  .colab-df-quickchart {\n",
              "    background-color: var(--bg-color);\n",
              "    border: none;\n",
              "    border-radius: 50%;\n",
              "    cursor: pointer;\n",
              "    display: none;\n",
              "    fill: var(--fill-color);\n",
              "    height: 32px;\n",
              "    padding: 0;\n",
              "    width: 32px;\n",
              "  }\n",
              "\n",
              "  .colab-df-quickchart:hover {\n",
              "    background-color: var(--hover-bg-color);\n",
              "    box-shadow: 0 1px 2px rgba(60, 64, 67, 0.3), 0 1px 3px 1px rgba(60, 64, 67, 0.15);\n",
              "    fill: var(--button-hover-fill-color);\n",
              "  }\n",
              "\n",
              "  .colab-df-quickchart-complete:disabled,\n",
              "  .colab-df-quickchart-complete:disabled:hover {\n",
              "    background-color: var(--disabled-bg-color);\n",
              "    fill: var(--disabled-fill-color);\n",
              "    box-shadow: none;\n",
              "  }\n",
              "\n",
              "  .colab-df-spinner {\n",
              "    border: 2px solid var(--fill-color);\n",
              "    border-color: transparent;\n",
              "    border-bottom-color: var(--fill-color);\n",
              "    animation:\n",
              "      spin 1s steps(1) infinite;\n",
              "  }\n",
              "\n",
              "  @keyframes spin {\n",
              "    0% {\n",
              "      border-color: transparent;\n",
              "      border-bottom-color: var(--fill-color);\n",
              "      border-left-color: var(--fill-color);\n",
              "    }\n",
              "    20% {\n",
              "      border-color: transparent;\n",
              "      border-left-color: var(--fill-color);\n",
              "      border-top-color: var(--fill-color);\n",
              "    }\n",
              "    30% {\n",
              "      border-color: transparent;\n",
              "      border-left-color: var(--fill-color);\n",
              "      border-top-color: var(--fill-color);\n",
              "      border-right-color: var(--fill-color);\n",
              "    }\n",
              "    40% {\n",
              "      border-color: transparent;\n",
              "      border-right-color: var(--fill-color);\n",
              "      border-top-color: var(--fill-color);\n",
              "    }\n",
              "    60% {\n",
              "      border-color: transparent;\n",
              "      border-right-color: var(--fill-color);\n",
              "    }\n",
              "    80% {\n",
              "      border-color: transparent;\n",
              "      border-right-color: var(--fill-color);\n",
              "      border-bottom-color: var(--fill-color);\n",
              "    }\n",
              "    90% {\n",
              "      border-color: transparent;\n",
              "      border-bottom-color: var(--fill-color);\n",
              "    }\n",
              "  }\n",
              "</style>\n",
              "\n",
              "  <script>\n",
              "    async function quickchart(key) {\n",
              "      const quickchartButtonEl =\n",
              "        document.querySelector('#' + key + ' button');\n",
              "      quickchartButtonEl.disabled = true;  // To prevent multiple clicks.\n",
              "      quickchartButtonEl.classList.add('colab-df-spinner');\n",
              "      try {\n",
              "        const charts = await google.colab.kernel.invokeFunction(\n",
              "            'suggestCharts', [key], {});\n",
              "      } catch (error) {\n",
              "        console.error('Error during call to suggestCharts:', error);\n",
              "      }\n",
              "      quickchartButtonEl.classList.remove('colab-df-spinner');\n",
              "      quickchartButtonEl.classList.add('colab-df-quickchart-complete');\n",
              "    }\n",
              "    (() => {\n",
              "      let quickchartButtonEl =\n",
              "        document.querySelector('#df-1ddd4e55-2d7d-4f17-825d-c5d1a1f339ba button');\n",
              "      quickchartButtonEl.style.display =\n",
              "        google.colab.kernel.accessAllowed ? 'block' : 'none';\n",
              "    })();\n",
              "  </script>\n",
              "</div>\n",
              "    </div>\n",
              "  </div>\n"
            ],
            "application/vnd.google.colaboratory.intrinsic+json": {
              "type": "dataframe",
              "variable_name": "people",
              "summary": "{\n  \"name\": \"people\",\n  \"rows\": 7,\n  \"fields\": [\n    {\n      \"column\": \"\\u0418\\u043c\\u044f\",\n      \"properties\": {\n        \"dtype\": \"string\",\n        \"num_unique_values\": 7,\n        \"samples\": [\n          \"\\u0418\\u043b\\u044c\\u044f\",\n          \"\\u0410\\u043d\\u0442\\u043e\\u043d\",\n          \"\\u0414\\u043c\\u0438\\u0442\\u0440\\u0438\\u0439\"\n        ],\n        \"semantic_type\": \"\",\n        \"description\": \"\"\n      }\n    },\n    {\n      \"column\": \"\\u0424\\u0430\\u043c\\u0438\\u043b\\u0438\\u044f\",\n      \"properties\": {\n        \"dtype\": \"string\",\n        \"num_unique_values\": 7,\n        \"samples\": [\n          \"\\u0412\\u0430\\u0441\\u0438\\u043b\\u044c\\u0435\\u0432\",\n          \"\\u0410\\u043b\\u0435\\u043a\\u0441\\u0435\\u0435\\u0432\",\n          \"\\u041f\\u0435\\u0447\\u0435\\u043d\\u043a\\u0438\\u043d\"\n        ],\n        \"semantic_type\": \"\",\n        \"description\": \"\"\n      }\n    },\n    {\n      \"column\": \"\\u0427\\u0438\\u0441\\u043b\\u043e \\u0434\\u0435\\u0442\\u0435\\u0439\",\n      \"properties\": {\n        \"dtype\": \"number\",\n        \"std\": 1,\n        \"min\": 0,\n        \"max\": 5,\n        \"num_unique_values\": 5,\n        \"samples\": [\n          2,\n          1,\n          3\n        ],\n        \"semantic_type\": \"\",\n        \"description\": \"\"\n      }\n    },\n    {\n      \"column\": \"\\u041f\\u043b\\u043e\\u0449\\u0430\\u0434\\u044c \\u0434\\u043e\\u043c\\u0430\",\n      \"properties\": {\n        \"dtype\": \"number\",\n        \"std\": 33.371330010454585,\n        \"min\": 47.0,\n        \"max\": 134.9,\n        \"num_unique_values\": 6,\n        \"samples\": [\n          56.3,\n          77.0,\n          61.0\n        ],\n        \"semantic_type\": \"\",\n        \"description\": \"\"\n      }\n    },\n    {\n      \"column\": \"\\u0414\\u0430\\u0442\\u0430 \\u0440\\u043e\\u0436\\u0434\\u0435\\u043d\\u0438\\u044f\",\n      \"properties\": {\n        \"dtype\": \"date\",\n        \"min\": \"1939-04-05 00:00:00\",\n        \"max\": \"1997-07-23 00:00:00\",\n        \"num_unique_values\": 7,\n        \"samples\": [\n          \"1996-11-30 00:00:00\",\n          \"1976-02-29 00:00:00\",\n          \"1939-04-05 00:00:00\"\n        ],\n        \"semantic_type\": \"\",\n        \"description\": \"\"\n      }\n    },\n    {\n      \"column\": \"\\u0416\\u0435\\u043d\\u0430\\u0442/\\u0417\\u0430\\u043c\\u0443\\u0436\\u0435\\u043c\",\n      \"properties\": {\n        \"dtype\": \"boolean\",\n        \"num_unique_values\": 2,\n        \"samples\": [\n          true,\n          false\n        ],\n        \"semantic_type\": \"\",\n        \"description\": \"\"\n      }\n    }\n  ]\n}"
            }
          },
          "metadata": {},
          "execution_count": 3
        }
      ],
      "source": [
        "path_people = '../tables/people.parquet' if os.path.exists('../tables/people.parquet') else 'https://drive.google.com/uc?id=1iI1Lde5ya3ruztGYmjpprSCUoCU9rBeS'\n",
        "\n",
        "people = pd.read_parquet(path_people)\n",
        "people"
      ]
    },
    {
      "cell_type": "code",
      "execution_count": null,
      "id": "d3a5bd76",
      "metadata": {
        "id": "d3a5bd76",
        "outputId": "5166cede-8c8b-498e-d438-41b9966397a2"
      },
      "outputs": [
        {
          "data": {
            "text/plain": [
              "0    Васильев\n",
              "1    Алексеев\n",
              "2      Гусева\n",
              "3      Павлов\n",
              "4    Николаев\n",
              "5    Печенкин\n",
              "6    Воробева\n",
              "Name: Фамилия, dtype: string"
            ]
          },
          "execution_count": 8,
          "metadata": {},
          "output_type": "execute_result"
        }
      ],
      "source": [
        "people['Фамилия']"
      ]
    },
    {
      "cell_type": "code",
      "execution_count": null,
      "id": "5ce6bb21",
      "metadata": {
        "id": "5ce6bb21",
        "outputId": "ecd084c0-1156-49f6-ff59-fc0fa730a037"
      },
      "outputs": [
        {
          "data": {
            "text/plain": [
              "0    0\n",
              "1    2\n",
              "2    3\n",
              "3    5\n",
              "4    1\n",
              "5    2\n",
              "6    3\n",
              "Name: Число детей, dtype: int64"
            ]
          },
          "execution_count": 9,
          "metadata": {},
          "output_type": "execute_result"
        }
      ],
      "source": [
        "people['Число детей']"
      ]
    },
    {
      "cell_type": "markdown",
      "id": "ab2acf31",
      "metadata": {
        "id": "ab2acf31"
      },
      "source": [
        "### info\n",
        "\n",
        "Метод выводит на экран таблицу, в которой указаны название столбца, число заполненых ячейк и тип данных в стобце"
      ]
    },
    {
      "cell_type": "code",
      "execution_count": null,
      "id": "52471f3c",
      "metadata": {
        "id": "52471f3c",
        "outputId": "f8eea0af-b3ab-4e23-b86d-4c1f81f28adc"
      },
      "outputs": [
        {
          "name": "stdout",
          "output_type": "stream",
          "text": [
            "<class 'pandas.core.frame.DataFrame'>\n",
            "RangeIndex: 7 entries, 0 to 6\n",
            "Data columns (total 6 columns):\n",
            " #   Column         Non-Null Count  Dtype         \n",
            "---  ------         --------------  -----         \n",
            " 0   Имя            7 non-null      object        \n",
            " 1   Фамилия        7 non-null      string        \n",
            " 2   Число детей    7 non-null      int64         \n",
            " 3   Площадь дома   6 non-null      float64       \n",
            " 4   Дата рождения  7 non-null      datetime64[ns]\n",
            " 5   Женат/Замужем  7 non-null      bool          \n",
            "dtypes: bool(1), datetime64[ns](1), float64(1), int64(1), object(1), string(1)\n",
            "memory usage: 419.0+ bytes\n"
          ]
        }
      ],
      "source": [
        "people.info()"
      ]
    },
    {
      "cell_type": "code",
      "execution_count": null,
      "id": "3c0e0848",
      "metadata": {
        "id": "3c0e0848",
        "outputId": "c7c9c3fe-d9ee-44fa-8578-adbf9499b9fd"
      },
      "outputs": [
        {
          "data": {
            "text/html": [
              "<div>\n",
              "<style scoped>\n",
              "    .dataframe tbody tr th:only-of-type {\n",
              "        vertical-align: middle;\n",
              "    }\n",
              "\n",
              "    .dataframe tbody tr th {\n",
              "        vertical-align: top;\n",
              "    }\n",
              "\n",
              "    .dataframe thead th {\n",
              "        text-align: right;\n",
              "    }\n",
              "</style>\n",
              "<table border=\"1\" class=\"dataframe\">\n",
              "  <thead>\n",
              "    <tr style=\"text-align: right;\">\n",
              "      <th></th>\n",
              "      <th>Имя</th>\n",
              "      <th>Фамилия</th>\n",
              "      <th>Число детей</th>\n",
              "      <th>Площадь дома</th>\n",
              "      <th>Дата рождения</th>\n",
              "      <th>Женат/Замужем</th>\n",
              "    </tr>\n",
              "  </thead>\n",
              "  <tbody>\n",
              "    <tr>\n",
              "      <th>0</th>\n",
              "      <td>Илья</td>\n",
              "      <td>Васильев</td>\n",
              "      <td>0</td>\n",
              "      <td>56.3</td>\n",
              "      <td>1996-11-30</td>\n",
              "      <td>False</td>\n",
              "    </tr>\n",
              "    <tr>\n",
              "      <th>1</th>\n",
              "      <td>Антон</td>\n",
              "      <td>Алексеев</td>\n",
              "      <td>2</td>\n",
              "      <td>77.0</td>\n",
              "      <td>1976-02-29</td>\n",
              "      <td>True</td>\n",
              "    </tr>\n",
              "    <tr>\n",
              "      <th>2</th>\n",
              "      <td>Надежда</td>\n",
              "      <td>Гусева</td>\n",
              "      <td>3</td>\n",
              "      <td>103.1</td>\n",
              "      <td>1964-09-26</td>\n",
              "      <td>True</td>\n",
              "    </tr>\n",
              "    <tr>\n",
              "      <th>3</th>\n",
              "      <td>Артем</td>\n",
              "      <td>Павлов</td>\n",
              "      <td>5</td>\n",
              "      <td>134.9</td>\n",
              "      <td>1980-05-18</td>\n",
              "      <td>True</td>\n",
              "    </tr>\n",
              "    <tr>\n",
              "      <th>4</th>\n",
              "      <td>Александр</td>\n",
              "      <td>Николаев</td>\n",
              "      <td>1</td>\n",
              "      <td>47.0</td>\n",
              "      <td>1959-02-24</td>\n",
              "      <td>True</td>\n",
              "    </tr>\n",
              "    <tr>\n",
              "      <th>5</th>\n",
              "      <td>Дмитрий</td>\n",
              "      <td>Печенкин</td>\n",
              "      <td>2</td>\n",
              "      <td>61.0</td>\n",
              "      <td>1939-04-05</td>\n",
              "      <td>False</td>\n",
              "    </tr>\n",
              "    <tr>\n",
              "      <th>6</th>\n",
              "      <td>Дарья</td>\n",
              "      <td>Воробева</td>\n",
              "      <td>3</td>\n",
              "      <td>NaN</td>\n",
              "      <td>1997-07-23</td>\n",
              "      <td>True</td>\n",
              "    </tr>\n",
              "  </tbody>\n",
              "</table>\n",
              "</div>"
            ],
            "text/plain": [
              "         Имя   Фамилия  Число детей  Площадь дома Дата рождения  Женат/Замужем\n",
              "0       Илья  Васильев            0          56.3    1996-11-30          False\n",
              "1      Антон  Алексеев            2          77.0    1976-02-29           True\n",
              "2    Надежда    Гусева            3         103.1    1964-09-26           True\n",
              "3      Артем    Павлов            5         134.9    1980-05-18           True\n",
              "4  Александр  Николаев            1          47.0    1959-02-24           True\n",
              "5    Дмитрий  Печенкин            2          61.0    1939-04-05          False\n",
              "6      Дарья  Воробева            3           NaN    1997-07-23           True"
            ]
          },
          "execution_count": 11,
          "metadata": {},
          "output_type": "execute_result"
        }
      ],
      "source": [
        "people"
      ]
    },
    {
      "cell_type": "markdown",
      "id": "c2e07409",
      "metadata": {
        "id": "c2e07409"
      },
      "source": [
        "#### Типы:\n",
        "1. __object__ - тип данных, который в основном используется для строк (строки - это текст, они записываются в кавычках), но может содержать и другие типы данных\n",
        "2. __string__ - тип данных, предназначеный для хранения строк\n",
        "3. __int + число__ - целые числа\n",
        "4. __float + число__ - числа с плавующей точкой\n",
        "5. __datetime64[ns]__ - даты и время\n",
        "6. __bool__ - логический тип. Если True, то правда, если False, то ложь"
      ]
    },
    {
      "cell_type": "code",
      "execution_count": 4,
      "id": "9211a12b",
      "metadata": {
        "id": "9211a12b"
      },
      "outputs": [],
      "source": [
        "df_path = '../tables/modified_dtypes.pkl' if os.path.exists('../tables/школьные оценки.xlsx') else 'https://drive.google.com/uc?id=1Q_MDakkji87seNz6nWH54cLF9_54Ix81'\n",
        "df = pd.read_pickle(df_path)"
      ]
    },
    {
      "cell_type": "code",
      "execution_count": null,
      "id": "f4d725fe",
      "metadata": {
        "id": "f4d725fe",
        "outputId": "f37a1467-76a9-4f59-d806-506e4d72fde8"
      },
      "outputs": [
        {
          "data": {
            "text/html": [
              "<div>\n",
              "<style scoped>\n",
              "    .dataframe tbody tr th:only-of-type {\n",
              "        vertical-align: middle;\n",
              "    }\n",
              "\n",
              "    .dataframe tbody tr th {\n",
              "        vertical-align: top;\n",
              "    }\n",
              "\n",
              "    .dataframe thead th {\n",
              "        text-align: right;\n",
              "    }\n",
              "</style>\n",
              "<table border=\"1\" class=\"dataframe\">\n",
              "  <thead>\n",
              "    <tr style=\"text-align: right;\">\n",
              "      <th></th>\n",
              "      <th>Имя</th>\n",
              "      <th>Фамилия</th>\n",
              "      <th>Число детей</th>\n",
              "      <th>Площадь дома</th>\n",
              "      <th>Дата рождения</th>\n",
              "      <th>Дата устройства на работу</th>\n",
              "      <th>Заработная плата</th>\n",
              "      <th>Автомобиль</th>\n",
              "    </tr>\n",
              "  </thead>\n",
              "  <tbody>\n",
              "    <tr>\n",
              "      <th>0</th>\n",
              "      <td>Илья</td>\n",
              "      <td>Васильев</td>\n",
              "      <td>0</td>\n",
              "      <td>56.3</td>\n",
              "      <td>1996-11-30</td>\n",
              "      <td>12#02/2020</td>\n",
              "      <td>45000</td>\n",
              "      <td>киа</td>\n",
              "    </tr>\n",
              "    <tr>\n",
              "      <th>1</th>\n",
              "      <td>Антон</td>\n",
              "      <td>Алексеев</td>\n",
              "      <td>2</td>\n",
              "      <td>77.0</td>\n",
              "      <td>1976-02-29</td>\n",
              "      <td>20#12/2001</td>\n",
              "      <td>33000</td>\n",
              "      <td>рено</td>\n",
              "    </tr>\n",
              "    <tr>\n",
              "      <th>2</th>\n",
              "      <td>Надежда</td>\n",
              "      <td>Гусева</td>\n",
              "      <td>3</td>\n",
              "      <td>103.1</td>\n",
              "      <td>1964-09-26</td>\n",
              "      <td>09#06/1981</td>\n",
              "      <td>80000</td>\n",
              "      <td>жигули</td>\n",
              "    </tr>\n",
              "    <tr>\n",
              "      <th>3</th>\n",
              "      <td>Артем</td>\n",
              "      <td>Павлов</td>\n",
              "      <td>5</td>\n",
              "      <td>134.9</td>\n",
              "      <td>1980-05-18</td>\n",
              "      <td>09#09/2008</td>\n",
              "      <td>50000</td>\n",
              "      <td>бмв</td>\n",
              "    </tr>\n",
              "    <tr>\n",
              "      <th>4</th>\n",
              "      <td>Александр</td>\n",
              "      <td>Николаев</td>\n",
              "      <td>1</td>\n",
              "      <td>47.0</td>\n",
              "      <td>1959-02-24</td>\n",
              "      <td>03#07/2019</td>\n",
              "      <td>29000</td>\n",
              "      <td>киа</td>\n",
              "    </tr>\n",
              "    <tr>\n",
              "      <th>5</th>\n",
              "      <td>Дмитрий</td>\n",
              "      <td>Печенкин</td>\n",
              "      <td>2</td>\n",
              "      <td>61.0</td>\n",
              "      <td>1939-04-05</td>\n",
              "      <td>19#08/1958</td>\n",
              "      <td>100000</td>\n",
              "      <td>жигули</td>\n",
              "    </tr>\n",
              "    <tr>\n",
              "      <th>6</th>\n",
              "      <td>Дарья</td>\n",
              "      <td>Воробева</td>\n",
              "      <td>3</td>\n",
              "      <td>65.0</td>\n",
              "      <td>1997-07-23</td>\n",
              "      <td>20#12/2022</td>\n",
              "      <td>NaN</td>\n",
              "      <td>&lt;NA&gt;</td>\n",
              "    </tr>\n",
              "  </tbody>\n",
              "</table>\n",
              "</div>"
            ],
            "text/plain": [
              "         Имя   Фамилия Число детей Площадь дома Дата рождения  \\\n",
              "0       Илья  Васильев           0         56.3    1996-11-30   \n",
              "1      Антон  Алексеев           2         77.0    1976-02-29   \n",
              "2    Надежда    Гусева           3        103.1    1964-09-26   \n",
              "3      Артем    Павлов           5        134.9    1980-05-18   \n",
              "4  Александр  Николаев           1         47.0    1959-02-24   \n",
              "5    Дмитрий  Печенкин           2         61.0    1939-04-05   \n",
              "6      Дарья  Воробева           3         65.0    1997-07-23   \n",
              "\n",
              "  Дата устройства на работу Заработная плата Автомобиль  \n",
              "0                12#02/2020            45000        киа  \n",
              "1                20#12/2001            33000       рено  \n",
              "2                09#06/1981            80000     жигули  \n",
              "3                09#09/2008            50000        бмв  \n",
              "4                03#07/2019            29000        киа  \n",
              "5                19#08/1958           100000     жигули  \n",
              "6                20#12/2022              NaN       <NA>  "
            ]
          },
          "execution_count": 13,
          "metadata": {},
          "output_type": "execute_result"
        }
      ],
      "source": [
        "df"
      ]
    },
    {
      "cell_type": "markdown",
      "id": "15af0965",
      "metadata": {
        "id": "15af0965"
      },
      "source": [
        "Все колонки в таблице представленны типом object"
      ]
    },
    {
      "cell_type": "code",
      "execution_count": null,
      "id": "9fd80e44",
      "metadata": {
        "id": "9fd80e44",
        "outputId": "78d0313b-f910-4b11-dd9d-61460a337199"
      },
      "outputs": [
        {
          "name": "stdout",
          "output_type": "stream",
          "text": [
            "<class 'pandas.core.frame.DataFrame'>\n",
            "RangeIndex: 7 entries, 0 to 6\n",
            "Data columns (total 8 columns):\n",
            " #   Column                     Non-Null Count  Dtype \n",
            "---  ------                     --------------  ----- \n",
            " 0   Имя                        7 non-null      object\n",
            " 1   Фамилия                    7 non-null      object\n",
            " 2   Число детей                7 non-null      object\n",
            " 3   Площадь дома               7 non-null      object\n",
            " 4   Дата рождения              7 non-null      object\n",
            " 5   Дата устройства на работу  7 non-null      object\n",
            " 6   Заработная плата           6 non-null      object\n",
            " 7   Автомобиль                 6 non-null      object\n",
            "dtypes: object(8)\n",
            "memory usage: 580.0+ bytes\n"
          ]
        }
      ],
      "source": [
        "df.info()"
      ]
    },
    {
      "cell_type": "markdown",
      "id": "3988d41b",
      "metadata": {
        "id": "3988d41b"
      },
      "source": [
        "### to_datetime\n",
        "\n",
        "Функция приводит колонки таблицы к типу datetime64"
      ]
    },
    {
      "cell_type": "code",
      "execution_count": null,
      "id": "466078c5",
      "metadata": {
        "id": "466078c5",
        "outputId": "79598efa-f392-4fdc-deea-bd0422fd4af6"
      },
      "outputs": [
        {
          "data": {
            "text/plain": [
              "0    1996-11-30\n",
              "1    1976-02-29\n",
              "2    1964-09-26\n",
              "3    1980-05-18\n",
              "4    1959-02-24\n",
              "5    1939-04-05\n",
              "6    1997-07-23\n",
              "Name: Дата рождения, dtype: object"
            ]
          },
          "execution_count": 15,
          "metadata": {},
          "output_type": "execute_result"
        }
      ],
      "source": [
        "df['Дата рождения']"
      ]
    },
    {
      "cell_type": "code",
      "execution_count": null,
      "id": "f13571ef",
      "metadata": {
        "id": "f13571ef",
        "outputId": "df47bc33-c6a3-48a7-dd5f-89f17d361cee"
      },
      "outputs": [
        {
          "data": {
            "text/plain": [
              "0   1996-11-30\n",
              "1   1976-02-29\n",
              "2   1964-09-26\n",
              "3   1980-05-18\n",
              "4   1959-02-24\n",
              "5   1939-04-05\n",
              "6   1997-07-23\n",
              "Name: Дата рождения, dtype: datetime64[ns]"
            ]
          },
          "execution_count": 16,
          "metadata": {},
          "output_type": "execute_result"
        }
      ],
      "source": [
        "pd.to_datetime(df['Дата рождения'])"
      ]
    },
    {
      "cell_type": "code",
      "execution_count": null,
      "id": "4904ac75",
      "metadata": {
        "id": "4904ac75",
        "outputId": "31f94d92-ac32-432d-afca-4008159bae7b"
      },
      "outputs": [
        {
          "data": {
            "text/plain": [
              "0    1996-11-30\n",
              "1    1976-02-29\n",
              "2    1964-09-26\n",
              "3    1980-05-18\n",
              "4    1959-02-24\n",
              "5    1939-04-05\n",
              "6    1997-07-23\n",
              "Name: Дата рождения, dtype: object"
            ]
          },
          "execution_count": 17,
          "metadata": {},
          "output_type": "execute_result"
        }
      ],
      "source": [
        "df['Дата рождения']"
      ]
    },
    {
      "cell_type": "markdown",
      "id": "e09ccdee",
      "metadata": {
        "id": "e09ccdee"
      },
      "source": [
        "#### Присваивание новых значений"
      ]
    },
    {
      "cell_type": "code",
      "execution_count": null,
      "id": "baf9a032",
      "metadata": {
        "id": "baf9a032"
      },
      "outputs": [],
      "source": [
        "df['Дата рождения'] = pd.to_datetime(df['Дата рождения'])"
      ]
    },
    {
      "cell_type": "code",
      "execution_count": null,
      "id": "f4b4fdb5",
      "metadata": {
        "id": "f4b4fdb5",
        "outputId": "29a5ae1f-77d9-43c1-e34e-21e3f3466088"
      },
      "outputs": [
        {
          "data": {
            "text/plain": [
              "0   1996-11-30\n",
              "1   1976-02-29\n",
              "2   1964-09-26\n",
              "3   1980-05-18\n",
              "4   1959-02-24\n",
              "5   1939-04-05\n",
              "6   1997-07-23\n",
              "Name: Дата рождения, dtype: datetime64[ns]"
            ]
          },
          "execution_count": 19,
          "metadata": {},
          "output_type": "execute_result"
        }
      ],
      "source": [
        "df['Дата рождения']"
      ]
    },
    {
      "cell_type": "markdown",
      "id": "2bc299ab",
      "metadata": {
        "id": "2bc299ab"
      },
      "source": [
        "#### параметр format"
      ]
    },
    {
      "cell_type": "code",
      "execution_count": null,
      "id": "c1821fd1",
      "metadata": {
        "id": "c1821fd1",
        "outputId": "bb9ff413-bf63-4de5-fef7-73fe293d7752"
      },
      "outputs": [
        {
          "data": {
            "text/plain": [
              "0    12#02/2020\n",
              "1    20#12/2001\n",
              "2    09#06/1981\n",
              "3    09#09/2008\n",
              "4    03#07/2019\n",
              "5    19#08/1958\n",
              "6    20#12/2022\n",
              "Name: Дата устройства на работу, dtype: object"
            ]
          },
          "execution_count": 20,
          "metadata": {},
          "output_type": "execute_result"
        }
      ],
      "source": [
        "df['Дата устройства на работу']"
      ]
    },
    {
      "cell_type": "code",
      "execution_count": 5,
      "id": "26f8fdf5",
      "metadata": {
        "id": "26f8fdf5",
        "outputId": "fb48d5a5-3259-4bff-c363-039aab2b0b39",
        "colab": {
          "base_uri": "https://localhost:8080/",
          "height": 550
        }
      },
      "outputs": [
        {
          "output_type": "stream",
          "name": "stderr",
          "text": [
            "<ipython-input-5-ffe58d65e6c8>:1: UserWarning: Could not infer format, so each element will be parsed individually, falling back to `dateutil`. To ensure parsing is consistent and as-expected, please specify a format.\n",
            "  pd.to_datetime(df['Дата устройства на работу'])\n"
          ]
        },
        {
          "output_type": "error",
          "ename": "DateParseError",
          "evalue": "Unknown datetime string format, unable to parse: 12#02/2020, at position 0",
          "traceback": [
            "\u001b[0;31m---------------------------------------------------------------------------\u001b[0m",
            "\u001b[0;31mDateParseError\u001b[0m                            Traceback (most recent call last)",
            "\u001b[0;32m<ipython-input-5-ffe58d65e6c8>\u001b[0m in \u001b[0;36m<cell line: 1>\u001b[0;34m()\u001b[0m\n\u001b[0;32m----> 1\u001b[0;31m \u001b[0mpd\u001b[0m\u001b[0;34m.\u001b[0m\u001b[0mto_datetime\u001b[0m\u001b[0;34m(\u001b[0m\u001b[0mdf\u001b[0m\u001b[0;34m[\u001b[0m\u001b[0;34m'Дата устройства на работу'\u001b[0m\u001b[0;34m]\u001b[0m\u001b[0;34m)\u001b[0m\u001b[0;34m\u001b[0m\u001b[0;34m\u001b[0m\u001b[0m\n\u001b[0m",
            "\u001b[0;32m/usr/local/lib/python3.10/dist-packages/pandas/core/tools/datetimes.py\u001b[0m in \u001b[0;36mto_datetime\u001b[0;34m(arg, errors, dayfirst, yearfirst, utc, format, exact, unit, infer_datetime_format, origin, cache)\u001b[0m\n\u001b[1;32m   1065\u001b[0m             \u001b[0mresult\u001b[0m \u001b[0;34m=\u001b[0m \u001b[0marg\u001b[0m\u001b[0;34m.\u001b[0m\u001b[0mmap\u001b[0m\u001b[0;34m(\u001b[0m\u001b[0mcache_array\u001b[0m\u001b[0;34m)\u001b[0m\u001b[0;34m\u001b[0m\u001b[0;34m\u001b[0m\u001b[0m\n\u001b[1;32m   1066\u001b[0m         \u001b[0;32melse\u001b[0m\u001b[0;34m:\u001b[0m\u001b[0;34m\u001b[0m\u001b[0;34m\u001b[0m\u001b[0m\n\u001b[0;32m-> 1067\u001b[0;31m             \u001b[0mvalues\u001b[0m \u001b[0;34m=\u001b[0m \u001b[0mconvert_listlike\u001b[0m\u001b[0;34m(\u001b[0m\u001b[0marg\u001b[0m\u001b[0;34m.\u001b[0m\u001b[0m_values\u001b[0m\u001b[0;34m,\u001b[0m \u001b[0mformat\u001b[0m\u001b[0;34m)\u001b[0m\u001b[0;34m\u001b[0m\u001b[0;34m\u001b[0m\u001b[0m\n\u001b[0m\u001b[1;32m   1068\u001b[0m             \u001b[0mresult\u001b[0m \u001b[0;34m=\u001b[0m \u001b[0marg\u001b[0m\u001b[0;34m.\u001b[0m\u001b[0m_constructor\u001b[0m\u001b[0;34m(\u001b[0m\u001b[0mvalues\u001b[0m\u001b[0;34m,\u001b[0m \u001b[0mindex\u001b[0m\u001b[0;34m=\u001b[0m\u001b[0marg\u001b[0m\u001b[0;34m.\u001b[0m\u001b[0mindex\u001b[0m\u001b[0;34m,\u001b[0m \u001b[0mname\u001b[0m\u001b[0;34m=\u001b[0m\u001b[0marg\u001b[0m\u001b[0;34m.\u001b[0m\u001b[0mname\u001b[0m\u001b[0;34m)\u001b[0m\u001b[0;34m\u001b[0m\u001b[0;34m\u001b[0m\u001b[0m\n\u001b[1;32m   1069\u001b[0m     \u001b[0;32melif\u001b[0m \u001b[0misinstance\u001b[0m\u001b[0;34m(\u001b[0m\u001b[0marg\u001b[0m\u001b[0;34m,\u001b[0m \u001b[0;34m(\u001b[0m\u001b[0mABCDataFrame\u001b[0m\u001b[0;34m,\u001b[0m \u001b[0mabc\u001b[0m\u001b[0;34m.\u001b[0m\u001b[0mMutableMapping\u001b[0m\u001b[0;34m)\u001b[0m\u001b[0;34m)\u001b[0m\u001b[0;34m:\u001b[0m\u001b[0;34m\u001b[0m\u001b[0;34m\u001b[0m\u001b[0m\n",
            "\u001b[0;32m/usr/local/lib/python3.10/dist-packages/pandas/core/tools/datetimes.py\u001b[0m in \u001b[0;36m_convert_listlike_datetimes\u001b[0;34m(arg, format, name, utc, unit, errors, dayfirst, yearfirst, exact)\u001b[0m\n\u001b[1;32m    433\u001b[0m         \u001b[0;32mreturn\u001b[0m \u001b[0m_array_strptime_with_fallback\u001b[0m\u001b[0;34m(\u001b[0m\u001b[0marg\u001b[0m\u001b[0;34m,\u001b[0m \u001b[0mname\u001b[0m\u001b[0;34m,\u001b[0m \u001b[0mutc\u001b[0m\u001b[0;34m,\u001b[0m \u001b[0mformat\u001b[0m\u001b[0;34m,\u001b[0m \u001b[0mexact\u001b[0m\u001b[0;34m,\u001b[0m \u001b[0merrors\u001b[0m\u001b[0;34m)\u001b[0m\u001b[0;34m\u001b[0m\u001b[0;34m\u001b[0m\u001b[0m\n\u001b[1;32m    434\u001b[0m \u001b[0;34m\u001b[0m\u001b[0m\n\u001b[0;32m--> 435\u001b[0;31m     result, tz_parsed = objects_to_datetime64(\n\u001b[0m\u001b[1;32m    436\u001b[0m         \u001b[0marg\u001b[0m\u001b[0;34m,\u001b[0m\u001b[0;34m\u001b[0m\u001b[0;34m\u001b[0m\u001b[0m\n\u001b[1;32m    437\u001b[0m         \u001b[0mdayfirst\u001b[0m\u001b[0;34m=\u001b[0m\u001b[0mdayfirst\u001b[0m\u001b[0;34m,\u001b[0m\u001b[0;34m\u001b[0m\u001b[0;34m\u001b[0m\u001b[0m\n",
            "\u001b[0;32m/usr/local/lib/python3.10/dist-packages/pandas/core/arrays/datetimes.py\u001b[0m in \u001b[0;36mobjects_to_datetime64\u001b[0;34m(data, dayfirst, yearfirst, utc, errors, allow_object, out_unit)\u001b[0m\n\u001b[1;32m   2396\u001b[0m     \u001b[0mdata\u001b[0m \u001b[0;34m=\u001b[0m \u001b[0mnp\u001b[0m\u001b[0;34m.\u001b[0m\u001b[0masarray\u001b[0m\u001b[0;34m(\u001b[0m\u001b[0mdata\u001b[0m\u001b[0;34m,\u001b[0m \u001b[0mdtype\u001b[0m\u001b[0;34m=\u001b[0m\u001b[0mnp\u001b[0m\u001b[0;34m.\u001b[0m\u001b[0mobject_\u001b[0m\u001b[0;34m)\u001b[0m\u001b[0;34m\u001b[0m\u001b[0;34m\u001b[0m\u001b[0m\n\u001b[1;32m   2397\u001b[0m \u001b[0;34m\u001b[0m\u001b[0m\n\u001b[0;32m-> 2398\u001b[0;31m     result, tz_parsed = tslib.array_to_datetime(\n\u001b[0m\u001b[1;32m   2399\u001b[0m         \u001b[0mdata\u001b[0m\u001b[0;34m,\u001b[0m\u001b[0;34m\u001b[0m\u001b[0;34m\u001b[0m\u001b[0m\n\u001b[1;32m   2400\u001b[0m         \u001b[0merrors\u001b[0m\u001b[0;34m=\u001b[0m\u001b[0merrors\u001b[0m\u001b[0;34m,\u001b[0m\u001b[0;34m\u001b[0m\u001b[0;34m\u001b[0m\u001b[0m\n",
            "\u001b[0;32mtslib.pyx\u001b[0m in \u001b[0;36mpandas._libs.tslib.array_to_datetime\u001b[0;34m()\u001b[0m\n",
            "\u001b[0;32mtslib.pyx\u001b[0m in \u001b[0;36mpandas._libs.tslib.array_to_datetime\u001b[0;34m()\u001b[0m\n",
            "\u001b[0;32mtslib.pyx\u001b[0m in \u001b[0;36mpandas._libs.tslib.array_to_datetime\u001b[0;34m()\u001b[0m\n",
            "\u001b[0;32mconversion.pyx\u001b[0m in \u001b[0;36mpandas._libs.tslibs.conversion.convert_str_to_tsobject\u001b[0;34m()\u001b[0m\n",
            "\u001b[0;32mparsing.pyx\u001b[0m in \u001b[0;36mpandas._libs.tslibs.parsing.parse_datetime_string\u001b[0;34m()\u001b[0m\n",
            "\u001b[0;32mparsing.pyx\u001b[0m in \u001b[0;36mpandas._libs.tslibs.parsing.dateutil_parse\u001b[0;34m()\u001b[0m\n",
            "\u001b[0;31mDateParseError\u001b[0m: Unknown datetime string format, unable to parse: 12#02/2020, at position 0"
          ]
        }
      ],
      "source": [
        "pd.to_datetime(df['Дата устройства на работу'])"
      ]
    },
    {
      "cell_type": "code",
      "execution_count": 6,
      "id": "aaa86391",
      "metadata": {
        "id": "aaa86391"
      },
      "outputs": [],
      "source": [
        "df['Дата устройства на работу'] = pd.to_datetime(df['Дата устройства на работу'],\n",
        "\n",
        "                                                 format='%d#%m/%Y')"
      ]
    },
    {
      "cell_type": "code",
      "execution_count": 7,
      "id": "772cd157",
      "metadata": {
        "scrolled": true,
        "id": "772cd157",
        "outputId": "00f0ea20-2963-43d6-83ba-fe1b98fb84e2",
        "colab": {
          "base_uri": "https://localhost:8080/"
        }
      },
      "outputs": [
        {
          "output_type": "stream",
          "name": "stdout",
          "text": [
            "<class 'pandas.core.frame.DataFrame'>\n",
            "RangeIndex: 7 entries, 0 to 6\n",
            "Data columns (total 8 columns):\n",
            " #   Column                     Non-Null Count  Dtype         \n",
            "---  ------                     --------------  -----         \n",
            " 0   Имя                        7 non-null      object        \n",
            " 1   Фамилия                    7 non-null      object        \n",
            " 2   Число детей                7 non-null      object        \n",
            " 3   Площадь дома               7 non-null      object        \n",
            " 4   Дата рождения              7 non-null      object        \n",
            " 5   Дата устройства на работу  7 non-null      datetime64[ns]\n",
            " 6   Заработная плата           6 non-null      object        \n",
            " 7   Автомобиль                 6 non-null      object        \n",
            "dtypes: datetime64[ns](1), object(7)\n",
            "memory usage: 576.0+ bytes\n"
          ]
        }
      ],
      "source": [
        "df.info()"
      ]
    },
    {
      "cell_type": "code",
      "execution_count": null,
      "id": "a5b0131f",
      "metadata": {
        "id": "a5b0131f",
        "outputId": "ccb9fce5-3859-4a42-9328-5f4730f97c08"
      },
      "outputs": [
        {
          "data": {
            "text/plain": [
              "Timestamp('2016-03-24 12:27:11')"
            ]
          },
          "execution_count": 24,
          "metadata": {},
          "output_type": "execute_result"
        }
      ],
      "source": [
        "pd.to_datetime('03/24/2016 12:27:11', format ='%m/%d/%Y %H:%M:%S')"
      ]
    },
    {
      "cell_type": "markdown",
      "id": "7a47a3cc",
      "metadata": {
        "id": "7a47a3cc"
      },
      "source": [
        "### astype\n",
        "\n",
        "Метод для конвертации колонок из одного типа в другой\n",
        "\n",
        "#### Синтаксис:\n",
        "__Для датафреймов:__\n",
        "1. df.astype({Назавание колонки: тип}) - для приведения определенных колонок\n",
        "2. df.astype(тип) - для приведения всего датафрема к одному типу\n",
        "\n",
        "__Для объектов Series:__\n",
        "1. s.astype(тип)"
      ]
    },
    {
      "cell_type": "code",
      "execution_count": null,
      "id": "36a79125",
      "metadata": {
        "id": "36a79125",
        "outputId": "15c71f5d-d17e-4d44-9371-f024b71536e8"
      },
      "outputs": [
        {
          "data": {
            "text/html": [
              "<div>\n",
              "<style scoped>\n",
              "    .dataframe tbody tr th:only-of-type {\n",
              "        vertical-align: middle;\n",
              "    }\n",
              "\n",
              "    .dataframe tbody tr th {\n",
              "        vertical-align: top;\n",
              "    }\n",
              "\n",
              "    .dataframe thead th {\n",
              "        text-align: right;\n",
              "    }\n",
              "</style>\n",
              "<table border=\"1\" class=\"dataframe\">\n",
              "  <thead>\n",
              "    <tr style=\"text-align: right;\">\n",
              "      <th></th>\n",
              "      <th>Имя</th>\n",
              "      <th>Фамилия</th>\n",
              "      <th>Число детей</th>\n",
              "      <th>Площадь дома</th>\n",
              "      <th>Дата рождения</th>\n",
              "      <th>Дата устройства на работу</th>\n",
              "      <th>Заработная плата</th>\n",
              "      <th>Автомобиль</th>\n",
              "    </tr>\n",
              "  </thead>\n",
              "  <tbody>\n",
              "    <tr>\n",
              "      <th>0</th>\n",
              "      <td>Илья</td>\n",
              "      <td>Васильев</td>\n",
              "      <td>0</td>\n",
              "      <td>56.3</td>\n",
              "      <td>1996-11-30</td>\n",
              "      <td>2020-02-12</td>\n",
              "      <td>45000</td>\n",
              "      <td>киа</td>\n",
              "    </tr>\n",
              "    <tr>\n",
              "      <th>1</th>\n",
              "      <td>Антон</td>\n",
              "      <td>Алексеев</td>\n",
              "      <td>2</td>\n",
              "      <td>77.0</td>\n",
              "      <td>1976-02-29</td>\n",
              "      <td>2001-12-20</td>\n",
              "      <td>33000</td>\n",
              "      <td>рено</td>\n",
              "    </tr>\n",
              "    <tr>\n",
              "      <th>2</th>\n",
              "      <td>Надежда</td>\n",
              "      <td>Гусева</td>\n",
              "      <td>3</td>\n",
              "      <td>103.1</td>\n",
              "      <td>1964-09-26</td>\n",
              "      <td>1981-06-09</td>\n",
              "      <td>80000</td>\n",
              "      <td>жигули</td>\n",
              "    </tr>\n",
              "    <tr>\n",
              "      <th>3</th>\n",
              "      <td>Артем</td>\n",
              "      <td>Павлов</td>\n",
              "      <td>5</td>\n",
              "      <td>134.9</td>\n",
              "      <td>1980-05-18</td>\n",
              "      <td>2008-09-09</td>\n",
              "      <td>50000</td>\n",
              "      <td>бмв</td>\n",
              "    </tr>\n",
              "    <tr>\n",
              "      <th>4</th>\n",
              "      <td>Александр</td>\n",
              "      <td>Николаев</td>\n",
              "      <td>1</td>\n",
              "      <td>47.0</td>\n",
              "      <td>1959-02-24</td>\n",
              "      <td>2019-07-03</td>\n",
              "      <td>29000</td>\n",
              "      <td>киа</td>\n",
              "    </tr>\n",
              "    <tr>\n",
              "      <th>5</th>\n",
              "      <td>Дмитрий</td>\n",
              "      <td>Печенкин</td>\n",
              "      <td>2</td>\n",
              "      <td>61.0</td>\n",
              "      <td>1939-04-05</td>\n",
              "      <td>1958-08-19</td>\n",
              "      <td>100000</td>\n",
              "      <td>жигули</td>\n",
              "    </tr>\n",
              "    <tr>\n",
              "      <th>6</th>\n",
              "      <td>Дарья</td>\n",
              "      <td>Воробева</td>\n",
              "      <td>3</td>\n",
              "      <td>65.0</td>\n",
              "      <td>1997-07-23</td>\n",
              "      <td>2022-12-20</td>\n",
              "      <td>NaN</td>\n",
              "      <td>&lt;NA&gt;</td>\n",
              "    </tr>\n",
              "  </tbody>\n",
              "</table>\n",
              "</div>"
            ],
            "text/plain": [
              "         Имя   Фамилия  Число детей  Площадь дома Дата рождения  \\\n",
              "0       Илья  Васильев            0          56.3    1996-11-30   \n",
              "1      Антон  Алексеев            2          77.0    1976-02-29   \n",
              "2    Надежда    Гусева            3         103.1    1964-09-26   \n",
              "3      Артем    Павлов            5         134.9    1980-05-18   \n",
              "4  Александр  Николаев            1          47.0    1959-02-24   \n",
              "5    Дмитрий  Печенкин            2          61.0    1939-04-05   \n",
              "6      Дарья  Воробева            3          65.0    1997-07-23   \n",
              "\n",
              "  Дата устройства на работу Заработная плата Автомобиль  \n",
              "0                2020-02-12            45000        киа  \n",
              "1                2001-12-20            33000       рено  \n",
              "2                1981-06-09            80000     жигули  \n",
              "3                2008-09-09            50000        бмв  \n",
              "4                2019-07-03            29000        киа  \n",
              "5                1958-08-19           100000     жигули  \n",
              "6                2022-12-20              NaN       <NA>  "
            ]
          },
          "execution_count": 25,
          "metadata": {},
          "output_type": "execute_result"
        }
      ],
      "source": [
        "df.astype({'Число детей': int, 'Площадь дома': float})"
      ]
    },
    {
      "cell_type": "code",
      "execution_count": null,
      "id": "b5f0238b",
      "metadata": {
        "id": "b5f0238b",
        "outputId": "14b3698c-acf8-49a8-aa9b-133a9ca9e182"
      },
      "outputs": [
        {
          "name": "stdout",
          "output_type": "stream",
          "text": [
            "<class 'pandas.core.frame.DataFrame'>\n",
            "RangeIndex: 7 entries, 0 to 6\n",
            "Data columns (total 8 columns):\n",
            " #   Column                     Non-Null Count  Dtype         \n",
            "---  ------                     --------------  -----         \n",
            " 0   Имя                        7 non-null      object        \n",
            " 1   Фамилия                    7 non-null      object        \n",
            " 2   Число детей                7 non-null      int32         \n",
            " 3   Площадь дома               7 non-null      float64       \n",
            " 4   Дата рождения              7 non-null      datetime64[ns]\n",
            " 5   Дата устройства на работу  7 non-null      datetime64[ns]\n",
            " 6   Заработная плата           6 non-null      object        \n",
            " 7   Автомобиль                 6 non-null      object        \n",
            "dtypes: datetime64[ns](2), float64(1), int32(1), object(4)\n",
            "memory usage: 552.0+ bytes\n"
          ]
        }
      ],
      "source": [
        "df.astype({'Число детей': int, 'Площадь дома': float}).info()"
      ]
    },
    {
      "cell_type": "code",
      "execution_count": null,
      "id": "74711875",
      "metadata": {
        "id": "74711875",
        "outputId": "2270a611-7017-4a82-cc17-dd7f5d8d8575"
      },
      "outputs": [
        {
          "name": "stdout",
          "output_type": "stream",
          "text": [
            "<class 'pandas.core.frame.DataFrame'>\n",
            "RangeIndex: 7 entries, 0 to 6\n",
            "Data columns (total 8 columns):\n",
            " #   Column                     Non-Null Count  Dtype         \n",
            "---  ------                     --------------  -----         \n",
            " 0   Имя                        7 non-null      object        \n",
            " 1   Фамилия                    7 non-null      object        \n",
            " 2   Число детей                7 non-null      object        \n",
            " 3   Площадь дома               7 non-null      object        \n",
            " 4   Дата рождения              7 non-null      datetime64[ns]\n",
            " 5   Дата устройства на работу  7 non-null      datetime64[ns]\n",
            " 6   Заработная плата           6 non-null      object        \n",
            " 7   Автомобиль                 6 non-null      object        \n",
            "dtypes: datetime64[ns](2), object(6)\n",
            "memory usage: 580.0+ bytes\n"
          ]
        }
      ],
      "source": [
        "df.info()"
      ]
    },
    {
      "cell_type": "markdown",
      "id": "e5f11933",
      "metadata": {
        "id": "e5f11933"
      },
      "source": [
        "#### С помощью метода astype можно обрезать дробную часть у чисел с плавующей точкой"
      ]
    },
    {
      "cell_type": "code",
      "execution_count": null,
      "id": "62196f26",
      "metadata": {
        "id": "62196f26",
        "outputId": "8ddd1524-0166-4633-f207-882d9f113f86"
      },
      "outputs": [
        {
          "data": {
            "text/html": [
              "<div>\n",
              "<style scoped>\n",
              "    .dataframe tbody tr th:only-of-type {\n",
              "        vertical-align: middle;\n",
              "    }\n",
              "\n",
              "    .dataframe tbody tr th {\n",
              "        vertical-align: top;\n",
              "    }\n",
              "\n",
              "    .dataframe thead th {\n",
              "        text-align: right;\n",
              "    }\n",
              "</style>\n",
              "<table border=\"1\" class=\"dataframe\">\n",
              "  <thead>\n",
              "    <tr style=\"text-align: right;\">\n",
              "      <th></th>\n",
              "      <th>Имя</th>\n",
              "      <th>Фамилия</th>\n",
              "      <th>Число детей</th>\n",
              "      <th>Площадь дома</th>\n",
              "      <th>Дата рождения</th>\n",
              "      <th>Дата устройства на работу</th>\n",
              "      <th>Заработная плата</th>\n",
              "      <th>Автомобиль</th>\n",
              "    </tr>\n",
              "  </thead>\n",
              "  <tbody>\n",
              "    <tr>\n",
              "      <th>0</th>\n",
              "      <td>Илья</td>\n",
              "      <td>Васильев</td>\n",
              "      <td>0</td>\n",
              "      <td>56</td>\n",
              "      <td>1996-11-30</td>\n",
              "      <td>2020-02-12</td>\n",
              "      <td>45000</td>\n",
              "      <td>киа</td>\n",
              "    </tr>\n",
              "    <tr>\n",
              "      <th>1</th>\n",
              "      <td>Антон</td>\n",
              "      <td>Алексеев</td>\n",
              "      <td>2</td>\n",
              "      <td>77</td>\n",
              "      <td>1976-02-29</td>\n",
              "      <td>2001-12-20</td>\n",
              "      <td>33000</td>\n",
              "      <td>рено</td>\n",
              "    </tr>\n",
              "    <tr>\n",
              "      <th>2</th>\n",
              "      <td>Надежда</td>\n",
              "      <td>Гусева</td>\n",
              "      <td>3</td>\n",
              "      <td>103</td>\n",
              "      <td>1964-09-26</td>\n",
              "      <td>1981-06-09</td>\n",
              "      <td>80000</td>\n",
              "      <td>жигули</td>\n",
              "    </tr>\n",
              "    <tr>\n",
              "      <th>3</th>\n",
              "      <td>Артем</td>\n",
              "      <td>Павлов</td>\n",
              "      <td>5</td>\n",
              "      <td>134</td>\n",
              "      <td>1980-05-18</td>\n",
              "      <td>2008-09-09</td>\n",
              "      <td>50000</td>\n",
              "      <td>бмв</td>\n",
              "    </tr>\n",
              "    <tr>\n",
              "      <th>4</th>\n",
              "      <td>Александр</td>\n",
              "      <td>Николаев</td>\n",
              "      <td>1</td>\n",
              "      <td>47</td>\n",
              "      <td>1959-02-24</td>\n",
              "      <td>2019-07-03</td>\n",
              "      <td>29000</td>\n",
              "      <td>киа</td>\n",
              "    </tr>\n",
              "    <tr>\n",
              "      <th>5</th>\n",
              "      <td>Дмитрий</td>\n",
              "      <td>Печенкин</td>\n",
              "      <td>2</td>\n",
              "      <td>61</td>\n",
              "      <td>1939-04-05</td>\n",
              "      <td>1958-08-19</td>\n",
              "      <td>100000</td>\n",
              "      <td>жигули</td>\n",
              "    </tr>\n",
              "    <tr>\n",
              "      <th>6</th>\n",
              "      <td>Дарья</td>\n",
              "      <td>Воробева</td>\n",
              "      <td>3</td>\n",
              "      <td>65</td>\n",
              "      <td>1997-07-23</td>\n",
              "      <td>2022-12-20</td>\n",
              "      <td>NaN</td>\n",
              "      <td>&lt;NA&gt;</td>\n",
              "    </tr>\n",
              "  </tbody>\n",
              "</table>\n",
              "</div>"
            ],
            "text/plain": [
              "         Имя   Фамилия  Число детей  Площадь дома Дата рождения  \\\n",
              "0       Илья  Васильев            0            56    1996-11-30   \n",
              "1      Антон  Алексеев            2            77    1976-02-29   \n",
              "2    Надежда    Гусева            3           103    1964-09-26   \n",
              "3      Артем    Павлов            5           134    1980-05-18   \n",
              "4  Александр  Николаев            1            47    1959-02-24   \n",
              "5    Дмитрий  Печенкин            2            61    1939-04-05   \n",
              "6      Дарья  Воробева            3            65    1997-07-23   \n",
              "\n",
              "  Дата устройства на работу Заработная плата Автомобиль  \n",
              "0                2020-02-12            45000        киа  \n",
              "1                2001-12-20            33000       рено  \n",
              "2                1981-06-09            80000     жигули  \n",
              "3                2008-09-09            50000        бмв  \n",
              "4                2019-07-03            29000        киа  \n",
              "5                1958-08-19           100000     жигули  \n",
              "6                2022-12-20              NaN       <NA>  "
            ]
          },
          "execution_count": 30,
          "metadata": {},
          "output_type": "execute_result"
        }
      ],
      "source": [
        "df.astype({'Число детей': int, 'Площадь дома': float}).astype({'Площадь дома': int})"
      ]
    },
    {
      "cell_type": "markdown",
      "id": "323362c9",
      "metadata": {
        "id": "323362c9"
      },
      "source": [
        "Более красивый вид написания методов"
      ]
    },
    {
      "cell_type": "code",
      "execution_count": null,
      "id": "659f0334",
      "metadata": {
        "id": "659f0334",
        "outputId": "d2e1eeba-dbb6-4b31-8ad6-268aa4fe496f"
      },
      "outputs": [
        {
          "data": {
            "text/html": [
              "<div>\n",
              "<style scoped>\n",
              "    .dataframe tbody tr th:only-of-type {\n",
              "        vertical-align: middle;\n",
              "    }\n",
              "\n",
              "    .dataframe tbody tr th {\n",
              "        vertical-align: top;\n",
              "    }\n",
              "\n",
              "    .dataframe thead th {\n",
              "        text-align: right;\n",
              "    }\n",
              "</style>\n",
              "<table border=\"1\" class=\"dataframe\">\n",
              "  <thead>\n",
              "    <tr style=\"text-align: right;\">\n",
              "      <th></th>\n",
              "      <th>Имя</th>\n",
              "      <th>Фамилия</th>\n",
              "      <th>Число детей</th>\n",
              "      <th>Площадь дома</th>\n",
              "      <th>Дата рождения</th>\n",
              "      <th>Дата устройства на работу</th>\n",
              "      <th>Заработная плата</th>\n",
              "      <th>Автомобиль</th>\n",
              "    </tr>\n",
              "  </thead>\n",
              "  <tbody>\n",
              "    <tr>\n",
              "      <th>0</th>\n",
              "      <td>Илья</td>\n",
              "      <td>Васильев</td>\n",
              "      <td>0</td>\n",
              "      <td>56.3</td>\n",
              "      <td>1996-11-30</td>\n",
              "      <td>2020-02-12</td>\n",
              "      <td>45000</td>\n",
              "      <td>киа</td>\n",
              "    </tr>\n",
              "    <tr>\n",
              "      <th>1</th>\n",
              "      <td>Антон</td>\n",
              "      <td>Алексеев</td>\n",
              "      <td>2</td>\n",
              "      <td>77.0</td>\n",
              "      <td>1976-02-29</td>\n",
              "      <td>2001-12-20</td>\n",
              "      <td>33000</td>\n",
              "      <td>рено</td>\n",
              "    </tr>\n",
              "    <tr>\n",
              "      <th>2</th>\n",
              "      <td>Надежда</td>\n",
              "      <td>Гусева</td>\n",
              "      <td>3</td>\n",
              "      <td>103.1</td>\n",
              "      <td>1964-09-26</td>\n",
              "      <td>1981-06-09</td>\n",
              "      <td>80000</td>\n",
              "      <td>жигули</td>\n",
              "    </tr>\n",
              "    <tr>\n",
              "      <th>3</th>\n",
              "      <td>Артем</td>\n",
              "      <td>Павлов</td>\n",
              "      <td>5</td>\n",
              "      <td>134.9</td>\n",
              "      <td>1980-05-18</td>\n",
              "      <td>2008-09-09</td>\n",
              "      <td>50000</td>\n",
              "      <td>бмв</td>\n",
              "    </tr>\n",
              "    <tr>\n",
              "      <th>4</th>\n",
              "      <td>Александр</td>\n",
              "      <td>Николаев</td>\n",
              "      <td>1</td>\n",
              "      <td>47.0</td>\n",
              "      <td>1959-02-24</td>\n",
              "      <td>2019-07-03</td>\n",
              "      <td>29000</td>\n",
              "      <td>киа</td>\n",
              "    </tr>\n",
              "    <tr>\n",
              "      <th>5</th>\n",
              "      <td>Дмитрий</td>\n",
              "      <td>Печенкин</td>\n",
              "      <td>2</td>\n",
              "      <td>61.0</td>\n",
              "      <td>1939-04-05</td>\n",
              "      <td>1958-08-19</td>\n",
              "      <td>100000</td>\n",
              "      <td>жигули</td>\n",
              "    </tr>\n",
              "    <tr>\n",
              "      <th>6</th>\n",
              "      <td>Дарья</td>\n",
              "      <td>Воробева</td>\n",
              "      <td>3</td>\n",
              "      <td>65.0</td>\n",
              "      <td>1997-07-23</td>\n",
              "      <td>2022-12-20</td>\n",
              "      <td>NaN</td>\n",
              "      <td>&lt;NA&gt;</td>\n",
              "    </tr>\n",
              "  </tbody>\n",
              "</table>\n",
              "</div>"
            ],
            "text/plain": [
              "         Имя   Фамилия  Число детей  Площадь дома Дата рождения  \\\n",
              "0       Илья  Васильев            0          56.3    1996-11-30   \n",
              "1      Антон  Алексеев            2          77.0    1976-02-29   \n",
              "2    Надежда    Гусева            3         103.1    1964-09-26   \n",
              "3      Артем    Павлов            5         134.9    1980-05-18   \n",
              "4  Александр  Николаев            1          47.0    1959-02-24   \n",
              "5    Дмитрий  Печенкин            2          61.0    1939-04-05   \n",
              "6      Дарья  Воробева            3          65.0    1997-07-23   \n",
              "\n",
              "  Дата устройства на работу Заработная плата Автомобиль  \n",
              "0                2020-02-12            45000        киа  \n",
              "1                2001-12-20            33000       рено  \n",
              "2                1981-06-09            80000     жигули  \n",
              "3                2008-09-09            50000        бмв  \n",
              "4                2019-07-03            29000        киа  \n",
              "5                1958-08-19           100000     жигули  \n",
              "6                2022-12-20              NaN       <NA>  "
            ]
          },
          "execution_count": 32,
          "metadata": {},
          "output_type": "execute_result"
        }
      ],
      "source": [
        "(df\n",
        "    .astype({'Число детей': int, 'Площадь дома': float})\n",
        "#     .astype({'Площадь дома': int})\n",
        ")"
      ]
    },
    {
      "cell_type": "code",
      "execution_count": null,
      "id": "7d7a923c",
      "metadata": {
        "id": "7d7a923c",
        "outputId": "75fb98f5-08e3-4b5c-b367-80d7c56f176a"
      },
      "outputs": [
        {
          "data": {
            "text/plain": [
              "65750.0"
            ]
          },
          "execution_count": 39,
          "metadata": {},
          "output_type": "execute_result"
        }
      ],
      "source": [
        "(df\n",
        "    .astype({'Число детей': int})\n",
        "    .query('`Число детей` > 1') # Выбираем людей, у которых хотя бы 2 ребенка\n",
        "    ['Заработная плата'] # выбираем только колонку с заработной платой\n",
        "    .astype(float) # меняем тип данных на float\n",
        "    .mean() # считаем среднее значение\n",
        ")"
      ]
    },
    {
      "cell_type": "code",
      "execution_count": null,
      "id": "d3c6a518",
      "metadata": {
        "id": "d3c6a518"
      },
      "outputs": [],
      "source": []
    },
    {
      "cell_type": "code",
      "execution_count": null,
      "id": "c7b6e181",
      "metadata": {
        "id": "c7b6e181"
      },
      "outputs": [],
      "source": []
    },
    {
      "cell_type": "markdown",
      "id": "eaf9c1ef",
      "metadata": {
        "id": "eaf9c1ef"
      },
      "source": [
        "Int64 может содержать пропущенные значения"
      ]
    },
    {
      "cell_type": "code",
      "execution_count": null,
      "id": "5fdb7873",
      "metadata": {
        "id": "5fdb7873",
        "outputId": "2a367dff-799c-444e-e270-58b411300338"
      },
      "outputs": [
        {
          "data": {
            "text/plain": [
              "0     45000\n",
              "1     33000\n",
              "2     80000\n",
              "3     50000\n",
              "4     29000\n",
              "5    100000\n",
              "6       NaN\n",
              "Name: Заработная плата, dtype: object"
            ]
          },
          "execution_count": 40,
          "metadata": {},
          "output_type": "execute_result"
        }
      ],
      "source": [
        "df['Заработная плата']"
      ]
    },
    {
      "cell_type": "code",
      "execution_count": null,
      "id": "45eeccff",
      "metadata": {
        "scrolled": false,
        "id": "45eeccff",
        "outputId": "bf8c3221-96cd-4ecc-ca36-cee978f0e38e"
      },
      "outputs": [
        {
          "ename": "ValueError",
          "evalue": "cannot convert float NaN to integer",
          "output_type": "error",
          "traceback": [
            "\u001b[1;31m---------------------------------------------------------------------------\u001b[0m",
            "\u001b[1;31mValueError\u001b[0m                                Traceback (most recent call last)",
            "Cell \u001b[1;32mIn[41], line 1\u001b[0m\n\u001b[1;32m----> 1\u001b[0m df[\u001b[38;5;124m'\u001b[39m\u001b[38;5;124mЗаработная плата\u001b[39m\u001b[38;5;124m'\u001b[39m]\u001b[38;5;241m.\u001b[39mastype(\u001b[38;5;28mint\u001b[39m)\n",
            "File \u001b[1;32mC:\\anaconda3\\Lib\\site-packages\\pandas\\core\\generic.py:6324\u001b[0m, in \u001b[0;36mNDFrame.astype\u001b[1;34m(self, dtype, copy, errors)\u001b[0m\n\u001b[0;32m   6317\u001b[0m     results \u001b[38;5;241m=\u001b[39m [\n\u001b[0;32m   6318\u001b[0m         \u001b[38;5;28mself\u001b[39m\u001b[38;5;241m.\u001b[39miloc[:, i]\u001b[38;5;241m.\u001b[39mastype(dtype, copy\u001b[38;5;241m=\u001b[39mcopy)\n\u001b[0;32m   6319\u001b[0m         \u001b[38;5;28;01mfor\u001b[39;00m i \u001b[38;5;129;01min\u001b[39;00m \u001b[38;5;28mrange\u001b[39m(\u001b[38;5;28mlen\u001b[39m(\u001b[38;5;28mself\u001b[39m\u001b[38;5;241m.\u001b[39mcolumns))\n\u001b[0;32m   6320\u001b[0m     ]\n\u001b[0;32m   6322\u001b[0m \u001b[38;5;28;01melse\u001b[39;00m:\n\u001b[0;32m   6323\u001b[0m     \u001b[38;5;66;03m# else, only a single dtype is given\u001b[39;00m\n\u001b[1;32m-> 6324\u001b[0m     new_data \u001b[38;5;241m=\u001b[39m \u001b[38;5;28mself\u001b[39m\u001b[38;5;241m.\u001b[39m_mgr\u001b[38;5;241m.\u001b[39mastype(dtype\u001b[38;5;241m=\u001b[39mdtype, copy\u001b[38;5;241m=\u001b[39mcopy, errors\u001b[38;5;241m=\u001b[39merrors)\n\u001b[0;32m   6325\u001b[0m     \u001b[38;5;28;01mreturn\u001b[39;00m \u001b[38;5;28mself\u001b[39m\u001b[38;5;241m.\u001b[39m_constructor(new_data)\u001b[38;5;241m.\u001b[39m__finalize__(\u001b[38;5;28mself\u001b[39m, method\u001b[38;5;241m=\u001b[39m\u001b[38;5;124m\"\u001b[39m\u001b[38;5;124mastype\u001b[39m\u001b[38;5;124m\"\u001b[39m)\n\u001b[0;32m   6327\u001b[0m \u001b[38;5;66;03m# GH 33113: handle empty frame or series\u001b[39;00m\n",
            "File \u001b[1;32mC:\\anaconda3\\Lib\\site-packages\\pandas\\core\\internals\\managers.py:451\u001b[0m, in \u001b[0;36mBaseBlockManager.astype\u001b[1;34m(self, dtype, copy, errors)\u001b[0m\n\u001b[0;32m    448\u001b[0m \u001b[38;5;28;01melif\u001b[39;00m using_copy_on_write():\n\u001b[0;32m    449\u001b[0m     copy \u001b[38;5;241m=\u001b[39m \u001b[38;5;28;01mFalse\u001b[39;00m\n\u001b[1;32m--> 451\u001b[0m \u001b[38;5;28;01mreturn\u001b[39;00m \u001b[38;5;28mself\u001b[39m\u001b[38;5;241m.\u001b[39mapply(\n\u001b[0;32m    452\u001b[0m     \u001b[38;5;124m\"\u001b[39m\u001b[38;5;124mastype\u001b[39m\u001b[38;5;124m\"\u001b[39m,\n\u001b[0;32m    453\u001b[0m     dtype\u001b[38;5;241m=\u001b[39mdtype,\n\u001b[0;32m    454\u001b[0m     copy\u001b[38;5;241m=\u001b[39mcopy,\n\u001b[0;32m    455\u001b[0m     errors\u001b[38;5;241m=\u001b[39merrors,\n\u001b[0;32m    456\u001b[0m     using_cow\u001b[38;5;241m=\u001b[39musing_copy_on_write(),\n\u001b[0;32m    457\u001b[0m )\n",
            "File \u001b[1;32mC:\\anaconda3\\Lib\\site-packages\\pandas\\core\\internals\\managers.py:352\u001b[0m, in \u001b[0;36mBaseBlockManager.apply\u001b[1;34m(self, f, align_keys, **kwargs)\u001b[0m\n\u001b[0;32m    350\u001b[0m         applied \u001b[38;5;241m=\u001b[39m b\u001b[38;5;241m.\u001b[39mapply(f, \u001b[38;5;241m*\u001b[39m\u001b[38;5;241m*\u001b[39mkwargs)\n\u001b[0;32m    351\u001b[0m     \u001b[38;5;28;01melse\u001b[39;00m:\n\u001b[1;32m--> 352\u001b[0m         applied \u001b[38;5;241m=\u001b[39m \u001b[38;5;28mgetattr\u001b[39m(b, f)(\u001b[38;5;241m*\u001b[39m\u001b[38;5;241m*\u001b[39mkwargs)\n\u001b[0;32m    353\u001b[0m     result_blocks \u001b[38;5;241m=\u001b[39m extend_blocks(applied, result_blocks)\n\u001b[0;32m    355\u001b[0m out \u001b[38;5;241m=\u001b[39m \u001b[38;5;28mtype\u001b[39m(\u001b[38;5;28mself\u001b[39m)\u001b[38;5;241m.\u001b[39mfrom_blocks(result_blocks, \u001b[38;5;28mself\u001b[39m\u001b[38;5;241m.\u001b[39maxes)\n",
            "File \u001b[1;32mC:\\anaconda3\\Lib\\site-packages\\pandas\\core\\internals\\blocks.py:511\u001b[0m, in \u001b[0;36mBlock.astype\u001b[1;34m(self, dtype, copy, errors, using_cow)\u001b[0m\n\u001b[0;32m    491\u001b[0m \u001b[38;5;250m\u001b[39m\u001b[38;5;124;03m\"\"\"\u001b[39;00m\n\u001b[0;32m    492\u001b[0m \u001b[38;5;124;03mCoerce to the new dtype.\u001b[39;00m\n\u001b[0;32m    493\u001b[0m \n\u001b[1;32m   (...)\u001b[0m\n\u001b[0;32m    507\u001b[0m \u001b[38;5;124;03mBlock\u001b[39;00m\n\u001b[0;32m    508\u001b[0m \u001b[38;5;124;03m\"\"\"\u001b[39;00m\n\u001b[0;32m    509\u001b[0m values \u001b[38;5;241m=\u001b[39m \u001b[38;5;28mself\u001b[39m\u001b[38;5;241m.\u001b[39mvalues\n\u001b[1;32m--> 511\u001b[0m new_values \u001b[38;5;241m=\u001b[39m astype_array_safe(values, dtype, copy\u001b[38;5;241m=\u001b[39mcopy, errors\u001b[38;5;241m=\u001b[39merrors)\n\u001b[0;32m    513\u001b[0m new_values \u001b[38;5;241m=\u001b[39m maybe_coerce_values(new_values)\n\u001b[0;32m    515\u001b[0m refs \u001b[38;5;241m=\u001b[39m \u001b[38;5;28;01mNone\u001b[39;00m\n",
            "File \u001b[1;32mC:\\anaconda3\\Lib\\site-packages\\pandas\\core\\dtypes\\astype.py:242\u001b[0m, in \u001b[0;36mastype_array_safe\u001b[1;34m(values, dtype, copy, errors)\u001b[0m\n\u001b[0;32m    239\u001b[0m     dtype \u001b[38;5;241m=\u001b[39m dtype\u001b[38;5;241m.\u001b[39mnumpy_dtype\n\u001b[0;32m    241\u001b[0m \u001b[38;5;28;01mtry\u001b[39;00m:\n\u001b[1;32m--> 242\u001b[0m     new_values \u001b[38;5;241m=\u001b[39m astype_array(values, dtype, copy\u001b[38;5;241m=\u001b[39mcopy)\n\u001b[0;32m    243\u001b[0m \u001b[38;5;28;01mexcept\u001b[39;00m (\u001b[38;5;167;01mValueError\u001b[39;00m, \u001b[38;5;167;01mTypeError\u001b[39;00m):\n\u001b[0;32m    244\u001b[0m     \u001b[38;5;66;03m# e.g. _astype_nansafe can fail on object-dtype of strings\u001b[39;00m\n\u001b[0;32m    245\u001b[0m     \u001b[38;5;66;03m#  trying to convert to float\u001b[39;00m\n\u001b[0;32m    246\u001b[0m     \u001b[38;5;28;01mif\u001b[39;00m errors \u001b[38;5;241m==\u001b[39m \u001b[38;5;124m\"\u001b[39m\u001b[38;5;124mignore\u001b[39m\u001b[38;5;124m\"\u001b[39m:\n",
            "File \u001b[1;32mC:\\anaconda3\\Lib\\site-packages\\pandas\\core\\dtypes\\astype.py:187\u001b[0m, in \u001b[0;36mastype_array\u001b[1;34m(values, dtype, copy)\u001b[0m\n\u001b[0;32m    184\u001b[0m     values \u001b[38;5;241m=\u001b[39m values\u001b[38;5;241m.\u001b[39mastype(dtype, copy\u001b[38;5;241m=\u001b[39mcopy)\n\u001b[0;32m    186\u001b[0m \u001b[38;5;28;01melse\u001b[39;00m:\n\u001b[1;32m--> 187\u001b[0m     values \u001b[38;5;241m=\u001b[39m _astype_nansafe(values, dtype, copy\u001b[38;5;241m=\u001b[39mcopy)\n\u001b[0;32m    189\u001b[0m \u001b[38;5;66;03m# in pandas we don't store numpy str dtypes, so convert to object\u001b[39;00m\n\u001b[0;32m    190\u001b[0m \u001b[38;5;28;01mif\u001b[39;00m \u001b[38;5;28misinstance\u001b[39m(dtype, np\u001b[38;5;241m.\u001b[39mdtype) \u001b[38;5;129;01mand\u001b[39;00m \u001b[38;5;28missubclass\u001b[39m(values\u001b[38;5;241m.\u001b[39mdtype\u001b[38;5;241m.\u001b[39mtype, \u001b[38;5;28mstr\u001b[39m):\n",
            "File \u001b[1;32mC:\\anaconda3\\Lib\\site-packages\\pandas\\core\\dtypes\\astype.py:138\u001b[0m, in \u001b[0;36m_astype_nansafe\u001b[1;34m(arr, dtype, copy, skipna)\u001b[0m\n\u001b[0;32m    134\u001b[0m     \u001b[38;5;28;01mraise\u001b[39;00m \u001b[38;5;167;01mValueError\u001b[39;00m(msg)\n\u001b[0;32m    136\u001b[0m \u001b[38;5;28;01mif\u001b[39;00m copy \u001b[38;5;129;01mor\u001b[39;00m is_object_dtype(arr\u001b[38;5;241m.\u001b[39mdtype) \u001b[38;5;129;01mor\u001b[39;00m is_object_dtype(dtype):\n\u001b[0;32m    137\u001b[0m     \u001b[38;5;66;03m# Explicit copy, or required since NumPy can't view from / to object.\u001b[39;00m\n\u001b[1;32m--> 138\u001b[0m     \u001b[38;5;28;01mreturn\u001b[39;00m arr\u001b[38;5;241m.\u001b[39mastype(dtype, copy\u001b[38;5;241m=\u001b[39m\u001b[38;5;28;01mTrue\u001b[39;00m)\n\u001b[0;32m    140\u001b[0m \u001b[38;5;28;01mreturn\u001b[39;00m arr\u001b[38;5;241m.\u001b[39mastype(dtype, copy\u001b[38;5;241m=\u001b[39mcopy)\n",
            "\u001b[1;31mValueError\u001b[0m: cannot convert float NaN to integer"
          ]
        }
      ],
      "source": [
        "df['Заработная плата'].astype(int)\n"
      ]
    },
    {
      "cell_type": "code",
      "execution_count": null,
      "id": "6655d498",
      "metadata": {
        "id": "6655d498",
        "outputId": "221a01fb-e252-4dcd-8a28-41217f2fed75"
      },
      "outputs": [
        {
          "data": {
            "text/plain": [
              "0     45000.0\n",
              "1     33000.0\n",
              "2     80000.0\n",
              "3     50000.0\n",
              "4     29000.0\n",
              "5    100000.0\n",
              "6         NaN\n",
              "Name: Заработная плата, dtype: float64"
            ]
          },
          "execution_count": 42,
          "metadata": {},
          "output_type": "execute_result"
        }
      ],
      "source": [
        "df['Заработная плата'].astype(float)"
      ]
    },
    {
      "cell_type": "code",
      "execution_count": null,
      "id": "503a3f4c",
      "metadata": {
        "id": "503a3f4c",
        "outputId": "736a409d-3589-42ec-e576-77ec537ac48f"
      },
      "outputs": [
        {
          "data": {
            "text/plain": [
              "0     45000\n",
              "1     33000\n",
              "2     80000\n",
              "3     50000\n",
              "4     29000\n",
              "5    100000\n",
              "6      <NA>\n",
              "Name: Заработная плата, dtype: Int64"
            ]
          },
          "execution_count": 43,
          "metadata": {},
          "output_type": "execute_result"
        }
      ],
      "source": [
        "df['Заработная плата'].astype('Int64')"
      ]
    },
    {
      "cell_type": "code",
      "execution_count": null,
      "id": "303a6b31",
      "metadata": {
        "id": "303a6b31",
        "outputId": "d90f5f30-3a25-449f-9750-3617e94c26d5"
      },
      "outputs": [
        {
          "data": {
            "text/plain": [
              "0       киа\n",
              "1      рено\n",
              "2    жигули\n",
              "3       бмв\n",
              "4       киа\n",
              "5    жигули\n",
              "6      <NA>\n",
              "Name: Автомобиль, dtype: object"
            ]
          },
          "execution_count": 44,
          "metadata": {},
          "output_type": "execute_result"
        }
      ],
      "source": [
        "df['Автомобиль']"
      ]
    },
    {
      "cell_type": "code",
      "execution_count": null,
      "id": "cfec4d62",
      "metadata": {
        "id": "cfec4d62",
        "outputId": "be08622d-3d21-4fe8-b1bd-f5e11bb79030"
      },
      "outputs": [
        {
          "name": "stdout",
          "output_type": "stream",
          "text": [
            "<class 'pandas.core.series.Series'>\n",
            "RangeIndex: 7 entries, 0 to 6\n",
            "Series name: Автомобиль\n",
            "Non-Null Count  Dtype \n",
            "--------------  ----- \n",
            "6 non-null      string\n",
            "dtypes: string(1)\n",
            "memory usage: 188.0 bytes\n"
          ]
        }
      ],
      "source": [
        "df['Автомобиль'].astype('string').info()"
      ]
    },
    {
      "cell_type": "code",
      "execution_count": null,
      "id": "7e6a0c3c",
      "metadata": {
        "id": "7e6a0c3c",
        "outputId": "bb0359fa-e616-4dd2-e25d-664445adfe4b"
      },
      "outputs": [
        {
          "name": "stdout",
          "output_type": "stream",
          "text": [
            "<class 'pandas.core.series.Series'>\n",
            "RangeIndex: 7 entries, 0 to 6\n",
            "Series name: Автомобиль\n",
            "Non-Null Count  Dtype \n",
            "--------------  ----- \n",
            "7 non-null      object\n",
            "dtypes: object(1)\n",
            "memory usage: 188.0+ bytes\n"
          ]
        }
      ],
      "source": [
        "df['Автомобиль'].astype(str).info()"
      ]
    },
    {
      "cell_type": "code",
      "execution_count": null,
      "id": "a3af7140",
      "metadata": {
        "id": "a3af7140"
      },
      "outputs": [],
      "source": []
    },
    {
      "cell_type": "code",
      "execution_count": null,
      "id": "ceee173b",
      "metadata": {
        "id": "ceee173b"
      },
      "outputs": [],
      "source": []
    },
    {
      "cell_type": "code",
      "execution_count": null,
      "id": "a282252d",
      "metadata": {
        "id": "a282252d"
      },
      "outputs": [],
      "source": []
    },
    {
      "cell_type": "code",
      "execution_count": null,
      "id": "82a86e1f",
      "metadata": {
        "id": "82a86e1f"
      },
      "outputs": [],
      "source": []
    },
    {
      "cell_type": "code",
      "execution_count": null,
      "id": "a9150f85",
      "metadata": {
        "id": "a9150f85"
      },
      "outputs": [],
      "source": []
    },
    {
      "cell_type": "code",
      "execution_count": null,
      "id": "52a0f0c1",
      "metadata": {
        "id": "52a0f0c1"
      },
      "outputs": [],
      "source": []
    },
    {
      "cell_type": "code",
      "execution_count": null,
      "id": "16221875",
      "metadata": {
        "id": "16221875"
      },
      "outputs": [],
      "source": []
    },
    {
      "cell_type": "code",
      "execution_count": null,
      "id": "53eca7a3",
      "metadata": {
        "id": "53eca7a3"
      },
      "outputs": [],
      "source": []
    },
    {
      "cell_type": "code",
      "execution_count": null,
      "id": "bfb1cff8",
      "metadata": {
        "id": "bfb1cff8"
      },
      "outputs": [],
      "source": []
    },
    {
      "cell_type": "markdown",
      "id": "b8856610",
      "metadata": {
        "id": "b8856610"
      },
      "source": [
        "# Задания"
      ]
    },
    {
      "cell_type": "markdown",
      "id": "430fd142",
      "metadata": {
        "id": "430fd142"
      },
      "source": [
        "#### Описание таблиц лежит [здесь](https://github.com/victorlymarev/pandas/tree/main/tables#%D0%BE%D0%BF%D0%B8%D1%81%D0%B0%D0%BD%D0%B8%D0%B5-%D1%82%D0%B0%D0%B1%D0%BB%D0%B8%D1%86)"
      ]
    },
    {
      "cell_type": "markdown",
      "id": "696f10ee",
      "metadata": {
        "id": "696f10ee"
      },
      "source": [
        "Некоторые таблицы занимают много памяти, поэтому каждые 5-10 заданий лучше перезапускайте ноутбук.\n",
        "\n",
        "В формулировке некоторых заданий может содержаться вариативность. Если у вас есть сомнения, что требуется в задании, попробуйте решить несколько вариантов. Если вы не понимаете задание, можете написать об этом в комментариях под видео.\n",
        "\n",
        "В большинстве случаев внешний вид итоговой таблицы не определен. Выведите на экран наиболее адекватный вариант. То есть таблицу, из которой можно будет сделать выводы.\n",
        "\n",
        "Курс пока находится в разработке. Вы можете помочь другим людям добавив свое решение [сюда](https://docs.google.com/forms/d/1HYTBz_KfssY3Jps2dC3n0YnEqa6WBb5OIhLo1d32Xzw/edit).\n",
        "\n",
        "Посмотреть решения других людей можно [здесь](https://docs.google.com/spreadsheets/d/1pMDYO-9UneLbPPnEuQ2shig0TOJdQTU-zipifyAnZMk/edit?resourcekey#gid=1998648012)"
      ]
    },
    {
      "cell_type": "markdown",
      "id": "e1751d75",
      "metadata": {
        "id": "e1751d75"
      },
      "source": [
        "### Задание 1\n",
        "В таблице w_ends для каждой даты отмечено, был ли этот день выходным. Посмотрите на типы данных в таблице. Приведите колонку с датами к типу datetime64[ns]"
      ]
    },
    {
      "cell_type": "code",
      "execution_count": 14,
      "id": "79908a2a",
      "metadata": {
        "id": "79908a2a",
        "outputId": "87246099-abe7-434c-ed42-44e50048ae60",
        "colab": {
          "base_uri": "https://localhost:8080/",
          "height": 478
        }
      },
      "outputs": [
        {
          "output_type": "execute_result",
          "data": {
            "text/plain": [
              "0      2015-01-01\n",
              "1      2015-01-02\n",
              "2      2015-01-03\n",
              "3      2015-01-04\n",
              "4      2015-01-05\n",
              "          ...    \n",
              "2917   2022-12-27\n",
              "2918   2022-12-28\n",
              "2919   2022-12-29\n",
              "2920   2022-12-30\n",
              "2921   2022-12-31\n",
              "Name: Дата, Length: 2922, dtype: datetime64[ns]"
            ],
            "text/html": [
              "<div>\n",
              "<style scoped>\n",
              "    .dataframe tbody tr th:only-of-type {\n",
              "        vertical-align: middle;\n",
              "    }\n",
              "\n",
              "    .dataframe tbody tr th {\n",
              "        vertical-align: top;\n",
              "    }\n",
              "\n",
              "    .dataframe thead th {\n",
              "        text-align: right;\n",
              "    }\n",
              "</style>\n",
              "<table border=\"1\" class=\"dataframe\">\n",
              "  <thead>\n",
              "    <tr style=\"text-align: right;\">\n",
              "      <th></th>\n",
              "      <th>Дата</th>\n",
              "    </tr>\n",
              "  </thead>\n",
              "  <tbody>\n",
              "    <tr>\n",
              "      <th>0</th>\n",
              "      <td>2015-01-01</td>\n",
              "    </tr>\n",
              "    <tr>\n",
              "      <th>1</th>\n",
              "      <td>2015-01-02</td>\n",
              "    </tr>\n",
              "    <tr>\n",
              "      <th>2</th>\n",
              "      <td>2015-01-03</td>\n",
              "    </tr>\n",
              "    <tr>\n",
              "      <th>3</th>\n",
              "      <td>2015-01-04</td>\n",
              "    </tr>\n",
              "    <tr>\n",
              "      <th>4</th>\n",
              "      <td>2015-01-05</td>\n",
              "    </tr>\n",
              "    <tr>\n",
              "      <th>...</th>\n",
              "      <td>...</td>\n",
              "    </tr>\n",
              "    <tr>\n",
              "      <th>2917</th>\n",
              "      <td>2022-12-27</td>\n",
              "    </tr>\n",
              "    <tr>\n",
              "      <th>2918</th>\n",
              "      <td>2022-12-28</td>\n",
              "    </tr>\n",
              "    <tr>\n",
              "      <th>2919</th>\n",
              "      <td>2022-12-29</td>\n",
              "    </tr>\n",
              "    <tr>\n",
              "      <th>2920</th>\n",
              "      <td>2022-12-30</td>\n",
              "    </tr>\n",
              "    <tr>\n",
              "      <th>2921</th>\n",
              "      <td>2022-12-31</td>\n",
              "    </tr>\n",
              "  </tbody>\n",
              "</table>\n",
              "<p>2922 rows × 1 columns</p>\n",
              "</div><br><label><b>dtype:</b> datetime64[ns]</label>"
            ]
          },
          "metadata": {},
          "execution_count": 14
        }
      ],
      "source": [
        "import os\n",
        "import pandas as pd\n",
        "\n",
        "path_w_ends = '../tables/выходные.csv' if os.path.exists('../tables/выходные.csv') else 'https://drive.google.com/uc?id=1hAsoXSPTFihFmBuF-E0uSj9pX4gpojwC'\n",
        "w_ends = pd.read_csv(path_w_ends)\n",
        "#w_ends.info()\n",
        "\n",
        "w_ends['Дата'] = pd.to_datetime(w_ends['Дата'])\n",
        "w_ends['Дата']\n",
        "\n",
        "# напишите свой код здесь\n"
      ]
    },
    {
      "cell_type": "markdown",
      "id": "93c0ab3a",
      "metadata": {
        "id": "93c0ab3a"
      },
      "source": [
        "### Задание 2\n",
        "\n",
        "Приведите колонку Математика к типу string, а колонку Литература к строкам. Таблица лежит в переменной marks"
      ]
    },
    {
      "cell_type": "code",
      "execution_count": 21,
      "id": "0ee376c8",
      "metadata": {
        "id": "0ee376c8",
        "outputId": "0d364578-ee0e-4f7d-cab5-376b786ac1b1",
        "colab": {
          "base_uri": "https://localhost:8080/"
        }
      },
      "outputs": [
        {
          "output_type": "stream",
          "name": "stdout",
          "text": [
            "<class 'pandas.core.frame.DataFrame'>\n",
            "RangeIndex: 19 entries, 0 to 18\n",
            "Data columns (total 8 columns):\n",
            " #   Column               Non-Null Count  Dtype \n",
            "---  ------               --------------  ----- \n",
            " 0   ФИО                  19 non-null     object\n",
            " 1   Пол                  19 non-null     object\n",
            " 2   Математика           19 non-null     string\n",
            " 3   Русский язык         19 non-null     int64 \n",
            " 4   Литература           19 non-null     object\n",
            " 5   Физика               19 non-null     int64 \n",
            " 6   История              19 non-null     int64 \n",
            " 7   Физическая культура  19 non-null     int64 \n",
            "dtypes: int64(4), object(3), string(1)\n",
            "memory usage: 1.3+ KB\n"
          ]
        }
      ],
      "source": [
        "import os\n",
        "import pandas as pd\n",
        "\n",
        "path_marks = '../tables/оценки.xlsx' if os.path.exists('../tables/оценки.xlsx') else 'https://drive.google.com/uc?id=17f4DXx53J0WooNkhO13xidseZJ-O2obs'\n",
        "marks = pd.read_excel(path_marks)\n",
        "marks['Математика'] = marks['Математика'].astype('string')\n",
        "marks['Литература'] = marks['Литература'].astype(str)\n",
        "# напишите свой код здесь\n",
        "marks.info()"
      ]
    },
    {
      "cell_type": "markdown",
      "id": "f55246aa",
      "metadata": {
        "id": "f55246aa"
      },
      "source": [
        "### Задание 3\n",
        "\n",
        "В дальнейшем вы будете работать с таблицами, которые будут содержать информацию о магазинах одежды. В таблице shops лежать адреса этих магазинов, и дата открытия.\n",
        "\n",
        "Изучите таблицу, посмотрите на типы данных в ней. Приведите колонки таблицы к форматам, которые вам кажутся наиболее подходящими"
      ]
    },
    {
      "cell_type": "code",
      "execution_count": 22,
      "id": "7922a08b",
      "metadata": {
        "id": "7922a08b",
        "outputId": "4c175cbd-cee1-4b65-d965-4278abcebef9",
        "colab": {
          "base_uri": "https://localhost:8080/",
          "height": 791
        }
      },
      "outputs": [
        {
          "output_type": "execute_result",
          "data": {
            "text/plain": [
              "   shop_id             city                        adress shopping_center  \\\n",
              "0        1          Воронеж         Пушкинская пл., д. 76             NaN   \n",
              "1        2  Санкт-Петербург            ул. Веселая, д. 20           Книга   \n",
              "2        3             Чита              Тупой пер., д. 1             NaN   \n",
              "3        4           Липецк          пр. Гагарина, д. 234        Обезьяна   \n",
              "4        5        Челябинск  пр. Железнодорожников, д. 12             NaN   \n",
              "5        6           Казань              ул. Кривая, д. 5          Фараон   \n",
              "6        7     Екатеринбург         ул. Каспийская, д. 90          Ворона   \n",
              "7        8           Якутск         ул. Оружейная, д. 100           Спорт   \n",
              "8        9          Саратов         ул. Солнечная, д. 189           Сокол   \n",
              "9       10         Кемерово           ул. Улиточная, д. 8     Калейдоскоп   \n",
              "10      11        Астрахань         ул. Печеночная, д. 28         Галерея   \n",
              "11      12           Москва         ул. Просторная, д. 13          Глобус   \n",
              "12      13      Новокузнецк        ул. Зеркальная, д. 4/2             Кит   \n",
              "13      14          Вологда         ул. Сосисочная, д. 42             NaN   \n",
              "14      15      Новокузнецк           Волжская ул., д. 94             NaN   \n",
              "15      16        Хабаровск           ул. Тургенева, д. 9            Амур   \n",
              "16      17           Самара        ул. Угольная, д. 132/4           Океан   \n",
              "17      18           Рязань     Театральная ул., д. 198/4      Снегурочка   \n",
              "18      19      Архангельск          пр. Садоводов, д. 39             NaN   \n",
              "19      20         Оренбург          пр. Строителей, д. 7  Степной гигант   \n",
              "20      21      Владивосток            Северая ул., д. 65     28 попугаев   \n",
              "21      22            Пермь         ул. Новогодняя, д. 91          Радуга   \n",
              "22      23             Омск        Соборная пл., д. 243/2          Космос   \n",
              "\n",
              "       size  open_date  \n",
              "0    Мелкий 2015-01-22  \n",
              "1   Крупный 2015-05-11  \n",
              "2    Мелкий 2015-11-27  \n",
              "3   Средний 2016-04-04  \n",
              "4    Мелкий 2016-04-11  \n",
              "5   Крупный 2016-04-19  \n",
              "6   Крупный 2017-01-17  \n",
              "7   Средний 2017-02-08  \n",
              "8   Средний 2017-05-10  \n",
              "9   Средний 2017-08-13  \n",
              "10  Средний 2017-12-18  \n",
              "11  Средний 2017-12-31  \n",
              "12  Средний 2018-02-04  \n",
              "13   Мелкий 2018-03-30  \n",
              "14   Мелкий 2018-04-30  \n",
              "15  Средний 2018-05-23  \n",
              "16  Средний 2018-07-18  \n",
              "17  Крупный 2019-01-22  \n",
              "18   Мелкий 2019-02-24  \n",
              "19  Средний 2019-06-27  \n",
              "20  Средний 2019-08-13  \n",
              "21  Средний 2020-11-05  \n",
              "22  Крупный 2020-12-09  "
            ],
            "text/html": [
              "\n",
              "  <div id=\"df-6b301e75-52ad-49e3-8608-e6f1bed41b16\" class=\"colab-df-container\">\n",
              "    <div>\n",
              "<style scoped>\n",
              "    .dataframe tbody tr th:only-of-type {\n",
              "        vertical-align: middle;\n",
              "    }\n",
              "\n",
              "    .dataframe tbody tr th {\n",
              "        vertical-align: top;\n",
              "    }\n",
              "\n",
              "    .dataframe thead th {\n",
              "        text-align: right;\n",
              "    }\n",
              "</style>\n",
              "<table border=\"1\" class=\"dataframe\">\n",
              "  <thead>\n",
              "    <tr style=\"text-align: right;\">\n",
              "      <th></th>\n",
              "      <th>shop_id</th>\n",
              "      <th>city</th>\n",
              "      <th>adress</th>\n",
              "      <th>shopping_center</th>\n",
              "      <th>size</th>\n",
              "      <th>open_date</th>\n",
              "    </tr>\n",
              "  </thead>\n",
              "  <tbody>\n",
              "    <tr>\n",
              "      <th>0</th>\n",
              "      <td>1</td>\n",
              "      <td>Воронеж</td>\n",
              "      <td>Пушкинская пл., д. 76</td>\n",
              "      <td>NaN</td>\n",
              "      <td>Мелкий</td>\n",
              "      <td>2015-01-22</td>\n",
              "    </tr>\n",
              "    <tr>\n",
              "      <th>1</th>\n",
              "      <td>2</td>\n",
              "      <td>Санкт-Петербург</td>\n",
              "      <td>ул. Веселая, д. 20</td>\n",
              "      <td>Книга</td>\n",
              "      <td>Крупный</td>\n",
              "      <td>2015-05-11</td>\n",
              "    </tr>\n",
              "    <tr>\n",
              "      <th>2</th>\n",
              "      <td>3</td>\n",
              "      <td>Чита</td>\n",
              "      <td>Тупой пер., д. 1</td>\n",
              "      <td>NaN</td>\n",
              "      <td>Мелкий</td>\n",
              "      <td>2015-11-27</td>\n",
              "    </tr>\n",
              "    <tr>\n",
              "      <th>3</th>\n",
              "      <td>4</td>\n",
              "      <td>Липецк</td>\n",
              "      <td>пр. Гагарина, д. 234</td>\n",
              "      <td>Обезьяна</td>\n",
              "      <td>Средний</td>\n",
              "      <td>2016-04-04</td>\n",
              "    </tr>\n",
              "    <tr>\n",
              "      <th>4</th>\n",
              "      <td>5</td>\n",
              "      <td>Челябинск</td>\n",
              "      <td>пр. Железнодорожников, д. 12</td>\n",
              "      <td>NaN</td>\n",
              "      <td>Мелкий</td>\n",
              "      <td>2016-04-11</td>\n",
              "    </tr>\n",
              "    <tr>\n",
              "      <th>5</th>\n",
              "      <td>6</td>\n",
              "      <td>Казань</td>\n",
              "      <td>ул. Кривая, д. 5</td>\n",
              "      <td>Фараон</td>\n",
              "      <td>Крупный</td>\n",
              "      <td>2016-04-19</td>\n",
              "    </tr>\n",
              "    <tr>\n",
              "      <th>6</th>\n",
              "      <td>7</td>\n",
              "      <td>Екатеринбург</td>\n",
              "      <td>ул. Каспийская, д. 90</td>\n",
              "      <td>Ворона</td>\n",
              "      <td>Крупный</td>\n",
              "      <td>2017-01-17</td>\n",
              "    </tr>\n",
              "    <tr>\n",
              "      <th>7</th>\n",
              "      <td>8</td>\n",
              "      <td>Якутск</td>\n",
              "      <td>ул. Оружейная, д. 100</td>\n",
              "      <td>Спорт</td>\n",
              "      <td>Средний</td>\n",
              "      <td>2017-02-08</td>\n",
              "    </tr>\n",
              "    <tr>\n",
              "      <th>8</th>\n",
              "      <td>9</td>\n",
              "      <td>Саратов</td>\n",
              "      <td>ул. Солнечная, д. 189</td>\n",
              "      <td>Сокол</td>\n",
              "      <td>Средний</td>\n",
              "      <td>2017-05-10</td>\n",
              "    </tr>\n",
              "    <tr>\n",
              "      <th>9</th>\n",
              "      <td>10</td>\n",
              "      <td>Кемерово</td>\n",
              "      <td>ул. Улиточная, д. 8</td>\n",
              "      <td>Калейдоскоп</td>\n",
              "      <td>Средний</td>\n",
              "      <td>2017-08-13</td>\n",
              "    </tr>\n",
              "    <tr>\n",
              "      <th>10</th>\n",
              "      <td>11</td>\n",
              "      <td>Астрахань</td>\n",
              "      <td>ул. Печеночная, д. 28</td>\n",
              "      <td>Галерея</td>\n",
              "      <td>Средний</td>\n",
              "      <td>2017-12-18</td>\n",
              "    </tr>\n",
              "    <tr>\n",
              "      <th>11</th>\n",
              "      <td>12</td>\n",
              "      <td>Москва</td>\n",
              "      <td>ул. Просторная, д. 13</td>\n",
              "      <td>Глобус</td>\n",
              "      <td>Средний</td>\n",
              "      <td>2017-12-31</td>\n",
              "    </tr>\n",
              "    <tr>\n",
              "      <th>12</th>\n",
              "      <td>13</td>\n",
              "      <td>Новокузнецк</td>\n",
              "      <td>ул. Зеркальная, д. 4/2</td>\n",
              "      <td>Кит</td>\n",
              "      <td>Средний</td>\n",
              "      <td>2018-02-04</td>\n",
              "    </tr>\n",
              "    <tr>\n",
              "      <th>13</th>\n",
              "      <td>14</td>\n",
              "      <td>Вологда</td>\n",
              "      <td>ул. Сосисочная, д. 42</td>\n",
              "      <td>NaN</td>\n",
              "      <td>Мелкий</td>\n",
              "      <td>2018-03-30</td>\n",
              "    </tr>\n",
              "    <tr>\n",
              "      <th>14</th>\n",
              "      <td>15</td>\n",
              "      <td>Новокузнецк</td>\n",
              "      <td>Волжская ул., д. 94</td>\n",
              "      <td>NaN</td>\n",
              "      <td>Мелкий</td>\n",
              "      <td>2018-04-30</td>\n",
              "    </tr>\n",
              "    <tr>\n",
              "      <th>15</th>\n",
              "      <td>16</td>\n",
              "      <td>Хабаровск</td>\n",
              "      <td>ул. Тургенева, д. 9</td>\n",
              "      <td>Амур</td>\n",
              "      <td>Средний</td>\n",
              "      <td>2018-05-23</td>\n",
              "    </tr>\n",
              "    <tr>\n",
              "      <th>16</th>\n",
              "      <td>17</td>\n",
              "      <td>Самара</td>\n",
              "      <td>ул. Угольная, д. 132/4</td>\n",
              "      <td>Океан</td>\n",
              "      <td>Средний</td>\n",
              "      <td>2018-07-18</td>\n",
              "    </tr>\n",
              "    <tr>\n",
              "      <th>17</th>\n",
              "      <td>18</td>\n",
              "      <td>Рязань</td>\n",
              "      <td>Театральная ул., д. 198/4</td>\n",
              "      <td>Снегурочка</td>\n",
              "      <td>Крупный</td>\n",
              "      <td>2019-01-22</td>\n",
              "    </tr>\n",
              "    <tr>\n",
              "      <th>18</th>\n",
              "      <td>19</td>\n",
              "      <td>Архангельск</td>\n",
              "      <td>пр. Садоводов, д. 39</td>\n",
              "      <td>NaN</td>\n",
              "      <td>Мелкий</td>\n",
              "      <td>2019-02-24</td>\n",
              "    </tr>\n",
              "    <tr>\n",
              "      <th>19</th>\n",
              "      <td>20</td>\n",
              "      <td>Оренбург</td>\n",
              "      <td>пр. Строителей, д. 7</td>\n",
              "      <td>Степной гигант</td>\n",
              "      <td>Средний</td>\n",
              "      <td>2019-06-27</td>\n",
              "    </tr>\n",
              "    <tr>\n",
              "      <th>20</th>\n",
              "      <td>21</td>\n",
              "      <td>Владивосток</td>\n",
              "      <td>Северая ул., д. 65</td>\n",
              "      <td>28 попугаев</td>\n",
              "      <td>Средний</td>\n",
              "      <td>2019-08-13</td>\n",
              "    </tr>\n",
              "    <tr>\n",
              "      <th>21</th>\n",
              "      <td>22</td>\n",
              "      <td>Пермь</td>\n",
              "      <td>ул. Новогодняя, д. 91</td>\n",
              "      <td>Радуга</td>\n",
              "      <td>Средний</td>\n",
              "      <td>2020-11-05</td>\n",
              "    </tr>\n",
              "    <tr>\n",
              "      <th>22</th>\n",
              "      <td>23</td>\n",
              "      <td>Омск</td>\n",
              "      <td>Соборная пл., д. 243/2</td>\n",
              "      <td>Космос</td>\n",
              "      <td>Крупный</td>\n",
              "      <td>2020-12-09</td>\n",
              "    </tr>\n",
              "  </tbody>\n",
              "</table>\n",
              "</div>\n",
              "    <div class=\"colab-df-buttons\">\n",
              "\n",
              "  <div class=\"colab-df-container\">\n",
              "    <button class=\"colab-df-convert\" onclick=\"convertToInteractive('df-6b301e75-52ad-49e3-8608-e6f1bed41b16')\"\n",
              "            title=\"Convert this dataframe to an interactive table.\"\n",
              "            style=\"display:none;\">\n",
              "\n",
              "  <svg xmlns=\"http://www.w3.org/2000/svg\" height=\"24px\" viewBox=\"0 -960 960 960\">\n",
              "    <path d=\"M120-120v-720h720v720H120Zm60-500h600v-160H180v160Zm220 220h160v-160H400v160Zm0 220h160v-160H400v160ZM180-400h160v-160H180v160Zm440 0h160v-160H620v160ZM180-180h160v-160H180v160Zm440 0h160v-160H620v160Z\"/>\n",
              "  </svg>\n",
              "    </button>\n",
              "\n",
              "  <style>\n",
              "    .colab-df-container {\n",
              "      display:flex;\n",
              "      gap: 12px;\n",
              "    }\n",
              "\n",
              "    .colab-df-convert {\n",
              "      background-color: #E8F0FE;\n",
              "      border: none;\n",
              "      border-radius: 50%;\n",
              "      cursor: pointer;\n",
              "      display: none;\n",
              "      fill: #1967D2;\n",
              "      height: 32px;\n",
              "      padding: 0 0 0 0;\n",
              "      width: 32px;\n",
              "    }\n",
              "\n",
              "    .colab-df-convert:hover {\n",
              "      background-color: #E2EBFA;\n",
              "      box-shadow: 0px 1px 2px rgba(60, 64, 67, 0.3), 0px 1px 3px 1px rgba(60, 64, 67, 0.15);\n",
              "      fill: #174EA6;\n",
              "    }\n",
              "\n",
              "    .colab-df-buttons div {\n",
              "      margin-bottom: 4px;\n",
              "    }\n",
              "\n",
              "    [theme=dark] .colab-df-convert {\n",
              "      background-color: #3B4455;\n",
              "      fill: #D2E3FC;\n",
              "    }\n",
              "\n",
              "    [theme=dark] .colab-df-convert:hover {\n",
              "      background-color: #434B5C;\n",
              "      box-shadow: 0px 1px 3px 1px rgba(0, 0, 0, 0.15);\n",
              "      filter: drop-shadow(0px 1px 2px rgba(0, 0, 0, 0.3));\n",
              "      fill: #FFFFFF;\n",
              "    }\n",
              "  </style>\n",
              "\n",
              "    <script>\n",
              "      const buttonEl =\n",
              "        document.querySelector('#df-6b301e75-52ad-49e3-8608-e6f1bed41b16 button.colab-df-convert');\n",
              "      buttonEl.style.display =\n",
              "        google.colab.kernel.accessAllowed ? 'block' : 'none';\n",
              "\n",
              "      async function convertToInteractive(key) {\n",
              "        const element = document.querySelector('#df-6b301e75-52ad-49e3-8608-e6f1bed41b16');\n",
              "        const dataTable =\n",
              "          await google.colab.kernel.invokeFunction('convertToInteractive',\n",
              "                                                    [key], {});\n",
              "        if (!dataTable) return;\n",
              "\n",
              "        const docLinkHtml = 'Like what you see? Visit the ' +\n",
              "          '<a target=\"_blank\" href=https://colab.research.google.com/notebooks/data_table.ipynb>data table notebook</a>'\n",
              "          + ' to learn more about interactive tables.';\n",
              "        element.innerHTML = '';\n",
              "        dataTable['output_type'] = 'display_data';\n",
              "        await google.colab.output.renderOutput(dataTable, element);\n",
              "        const docLink = document.createElement('div');\n",
              "        docLink.innerHTML = docLinkHtml;\n",
              "        element.appendChild(docLink);\n",
              "      }\n",
              "    </script>\n",
              "  </div>\n",
              "\n",
              "\n",
              "<div id=\"df-06ec9a40-7514-4e2c-b818-ac7563e9e624\">\n",
              "  <button class=\"colab-df-quickchart\" onclick=\"quickchart('df-06ec9a40-7514-4e2c-b818-ac7563e9e624')\"\n",
              "            title=\"Suggest charts\"\n",
              "            style=\"display:none;\">\n",
              "\n",
              "<svg xmlns=\"http://www.w3.org/2000/svg\" height=\"24px\"viewBox=\"0 0 24 24\"\n",
              "     width=\"24px\">\n",
              "    <g>\n",
              "        <path d=\"M19 3H5c-1.1 0-2 .9-2 2v14c0 1.1.9 2 2 2h14c1.1 0 2-.9 2-2V5c0-1.1-.9-2-2-2zM9 17H7v-7h2v7zm4 0h-2V7h2v10zm4 0h-2v-4h2v4z\"/>\n",
              "    </g>\n",
              "</svg>\n",
              "  </button>\n",
              "\n",
              "<style>\n",
              "  .colab-df-quickchart {\n",
              "      --bg-color: #E8F0FE;\n",
              "      --fill-color: #1967D2;\n",
              "      --hover-bg-color: #E2EBFA;\n",
              "      --hover-fill-color: #174EA6;\n",
              "      --disabled-fill-color: #AAA;\n",
              "      --disabled-bg-color: #DDD;\n",
              "  }\n",
              "\n",
              "  [theme=dark] .colab-df-quickchart {\n",
              "      --bg-color: #3B4455;\n",
              "      --fill-color: #D2E3FC;\n",
              "      --hover-bg-color: #434B5C;\n",
              "      --hover-fill-color: #FFFFFF;\n",
              "      --disabled-bg-color: #3B4455;\n",
              "      --disabled-fill-color: #666;\n",
              "  }\n",
              "\n",
              "  .colab-df-quickchart {\n",
              "    background-color: var(--bg-color);\n",
              "    border: none;\n",
              "    border-radius: 50%;\n",
              "    cursor: pointer;\n",
              "    display: none;\n",
              "    fill: var(--fill-color);\n",
              "    height: 32px;\n",
              "    padding: 0;\n",
              "    width: 32px;\n",
              "  }\n",
              "\n",
              "  .colab-df-quickchart:hover {\n",
              "    background-color: var(--hover-bg-color);\n",
              "    box-shadow: 0 1px 2px rgba(60, 64, 67, 0.3), 0 1px 3px 1px rgba(60, 64, 67, 0.15);\n",
              "    fill: var(--button-hover-fill-color);\n",
              "  }\n",
              "\n",
              "  .colab-df-quickchart-complete:disabled,\n",
              "  .colab-df-quickchart-complete:disabled:hover {\n",
              "    background-color: var(--disabled-bg-color);\n",
              "    fill: var(--disabled-fill-color);\n",
              "    box-shadow: none;\n",
              "  }\n",
              "\n",
              "  .colab-df-spinner {\n",
              "    border: 2px solid var(--fill-color);\n",
              "    border-color: transparent;\n",
              "    border-bottom-color: var(--fill-color);\n",
              "    animation:\n",
              "      spin 1s steps(1) infinite;\n",
              "  }\n",
              "\n",
              "  @keyframes spin {\n",
              "    0% {\n",
              "      border-color: transparent;\n",
              "      border-bottom-color: var(--fill-color);\n",
              "      border-left-color: var(--fill-color);\n",
              "    }\n",
              "    20% {\n",
              "      border-color: transparent;\n",
              "      border-left-color: var(--fill-color);\n",
              "      border-top-color: var(--fill-color);\n",
              "    }\n",
              "    30% {\n",
              "      border-color: transparent;\n",
              "      border-left-color: var(--fill-color);\n",
              "      border-top-color: var(--fill-color);\n",
              "      border-right-color: var(--fill-color);\n",
              "    }\n",
              "    40% {\n",
              "      border-color: transparent;\n",
              "      border-right-color: var(--fill-color);\n",
              "      border-top-color: var(--fill-color);\n",
              "    }\n",
              "    60% {\n",
              "      border-color: transparent;\n",
              "      border-right-color: var(--fill-color);\n",
              "    }\n",
              "    80% {\n",
              "      border-color: transparent;\n",
              "      border-right-color: var(--fill-color);\n",
              "      border-bottom-color: var(--fill-color);\n",
              "    }\n",
              "    90% {\n",
              "      border-color: transparent;\n",
              "      border-bottom-color: var(--fill-color);\n",
              "    }\n",
              "  }\n",
              "</style>\n",
              "\n",
              "  <script>\n",
              "    async function quickchart(key) {\n",
              "      const quickchartButtonEl =\n",
              "        document.querySelector('#' + key + ' button');\n",
              "      quickchartButtonEl.disabled = true;  // To prevent multiple clicks.\n",
              "      quickchartButtonEl.classList.add('colab-df-spinner');\n",
              "      try {\n",
              "        const charts = await google.colab.kernel.invokeFunction(\n",
              "            'suggestCharts', [key], {});\n",
              "      } catch (error) {\n",
              "        console.error('Error during call to suggestCharts:', error);\n",
              "      }\n",
              "      quickchartButtonEl.classList.remove('colab-df-spinner');\n",
              "      quickchartButtonEl.classList.add('colab-df-quickchart-complete');\n",
              "    }\n",
              "    (() => {\n",
              "      let quickchartButtonEl =\n",
              "        document.querySelector('#df-06ec9a40-7514-4e2c-b818-ac7563e9e624 button');\n",
              "      quickchartButtonEl.style.display =\n",
              "        google.colab.kernel.accessAllowed ? 'block' : 'none';\n",
              "    })();\n",
              "  </script>\n",
              "</div>\n",
              "    </div>\n",
              "  </div>\n"
            ],
            "application/vnd.google.colaboratory.intrinsic+json": {
              "type": "dataframe",
              "variable_name": "shops",
              "summary": "{\n  \"name\": \"shops\",\n  \"rows\": 23,\n  \"fields\": [\n    {\n      \"column\": \"shop_id\",\n      \"properties\": {\n        \"dtype\": \"string\",\n        \"num_unique_values\": 23,\n        \"samples\": [\n          \"16\",\n          \"10\",\n          \"1\"\n        ],\n        \"semantic_type\": \"\",\n        \"description\": \"\"\n      }\n    },\n    {\n      \"column\": \"city\",\n      \"properties\": {\n        \"dtype\": \"string\",\n        \"num_unique_values\": 22,\n        \"samples\": [\n          \"\\u0412\\u043e\\u0440\\u043e\\u043d\\u0435\\u0436\",\n          \"\\u0412\\u043e\\u043b\\u043e\\u0433\\u0434\\u0430\",\n          \"\\u0421\\u0430\\u0440\\u0430\\u0442\\u043e\\u0432\"\n        ],\n        \"semantic_type\": \"\",\n        \"description\": \"\"\n      }\n    },\n    {\n      \"column\": \"adress\",\n      \"properties\": {\n        \"dtype\": \"string\",\n        \"num_unique_values\": 23,\n        \"samples\": [\n          \"\\u0443\\u043b. \\u0422\\u0443\\u0440\\u0433\\u0435\\u043d\\u0435\\u0432\\u0430, \\u0434. 9\",\n          \"\\u0443\\u043b. \\u0423\\u043b\\u0438\\u0442\\u043e\\u0447\\u043d\\u0430\\u044f, \\u0434. 8\",\n          \"\\u041f\\u0443\\u0448\\u043a\\u0438\\u043d\\u0441\\u043a\\u0430\\u044f \\u043f\\u043b., \\u0434. 76\"\n        ],\n        \"semantic_type\": \"\",\n        \"description\": \"\"\n      }\n    },\n    {\n      \"column\": \"shopping_center\",\n      \"properties\": {\n        \"dtype\": \"string\",\n        \"num_unique_values\": 17,\n        \"samples\": [\n          \"\\u041a\\u043d\\u0438\\u0433\\u0430\",\n          \"\\u041e\\u0431\\u0435\\u0437\\u044c\\u044f\\u043d\\u0430\",\n          \"\\u0421\\u043e\\u043a\\u043e\\u043b\"\n        ],\n        \"semantic_type\": \"\",\n        \"description\": \"\"\n      }\n    },\n    {\n      \"column\": \"size\",\n      \"properties\": {\n        \"dtype\": \"category\",\n        \"num_unique_values\": 3,\n        \"samples\": [\n          \"\\u041c\\u0435\\u043b\\u043a\\u0438\\u0439\",\n          \"\\u041a\\u0440\\u0443\\u043f\\u043d\\u044b\\u0439\",\n          \"\\u0421\\u0440\\u0435\\u0434\\u043d\\u0438\\u0439\"\n        ],\n        \"semantic_type\": \"\",\n        \"description\": \"\"\n      }\n    },\n    {\n      \"column\": \"open_date\",\n      \"properties\": {\n        \"dtype\": \"date\",\n        \"min\": \"2015-01-22 00:00:00\",\n        \"max\": \"2020-12-09 00:00:00\",\n        \"num_unique_values\": 23,\n        \"samples\": [\n          \"2018-05-23 00:00:00\",\n          \"2017-08-13 00:00:00\",\n          \"2015-01-22 00:00:00\"\n        ],\n        \"semantic_type\": \"\",\n        \"description\": \"\"\n      }\n    }\n  ]\n}"
            }
          },
          "metadata": {},
          "execution_count": 22
        }
      ],
      "source": [
        "import os\n",
        "import pandas as pd\n",
        "\n",
        "path_shops = '../tables/shops.xlsx' if os.path.exists('../tables/shops.xlsx') else 'https://drive.google.com/uc?id=1gfnmceJa3Mc1X06NftTx9G9QfKfprjEB'\n",
        "shops = pd.read_excel(path_shops).astype({'shop_id': str})\n",
        "shops\n",
        "\n",
        "# напишите свой код здесь"
      ]
    },
    {
      "cell_type": "markdown",
      "id": "4a4e4d7d",
      "metadata": {
        "id": "4a4e4d7d"
      },
      "source": [
        "### Задание 4\n",
        "\n",
        "В таблице empl приведите колонку salary (зарплата) к целым числам"
      ]
    },
    {
      "cell_type": "code",
      "execution_count": 27,
      "id": "a5b4efe9",
      "metadata": {
        "id": "a5b4efe9",
        "outputId": "f2b7bdbf-52a9-4c65-c296-e341e8b8659e",
        "colab": {
          "base_uri": "https://localhost:8080/"
        }
      },
      "outputs": [
        {
          "output_type": "stream",
          "name": "stdout",
          "text": [
            "<class 'pandas.core.frame.DataFrame'>\n",
            "Index: 29372 entries, 0 to 29371\n",
            "Data columns (total 14 columns):\n",
            " #   Column               Non-Null Count  Dtype         \n",
            "---  ------               --------------  -----         \n",
            " 0   report_dt            29372 non-null  datetime64[us]\n",
            " 1   i_pernr              29372 non-null  int32         \n",
            " 2   fio                  29372 non-null  string        \n",
            " 3   sex                  29372 non-null  category      \n",
            " 4   shop_id              29372 non-null  int8          \n",
            " 5   pos_name             29372 non-null  string        \n",
            " 6   pos_id               29372 non-null  int32         \n",
            " 7   closest_boss_pos_id  27942 non-null  Int64         \n",
            " 8   mgmt_flag            29372 non-null  int8          \n",
            " 9   salary_fork          29372 non-null  int8          \n",
            " 10  birth_date           29372 non-null  datetime64[us]\n",
            " 11  education            29372 non-null  string        \n",
            " 12  employee_evaluation  28157 non-null  float64       \n",
            " 13  salary               29372 non-null  int64         \n",
            "dtypes: Int64(1), category(1), datetime64[us](2), float64(1), int32(2), int64(1), int8(3), string(3)\n",
            "memory usage: 2.4 MB\n"
          ]
        }
      ],
      "source": [
        "import os\n",
        "import pandas as pd\n",
        "\n",
        "path_empl = '../tables/employees.parquet' if os.path.exists('../tables/employees.parquet') else 'https://drive.google.com/uc?id=1AARD5-eVlCxoApt5CYZebrC3Cqw42lvj'\n",
        "\n",
        "empl = pd.read_parquet(path_empl)\n",
        "empl['salary'] = empl['salary'].astype(int)\n",
        "empl.info()"
      ]
    },
    {
      "cell_type": "markdown",
      "id": "95ee4550",
      "metadata": {
        "id": "95ee4550"
      },
      "source": [
        "### Задание 5\n",
        "\n",
        "В таблите ltc лежат данные по курсу криптовалюты litecoin. Посмотрите на типы данных в таблице. Приведите колнку date к типу datetime64. Используйте параметр format. (На самом деле функция to_datetime сработает и без него, но лучше попрактикуйтесь с ним). Подсказка  о том, как это сделать содержится внутри метода strftime. На остальные методы пока внимание не обращайте"
      ]
    },
    {
      "cell_type": "code",
      "execution_count": 33,
      "id": "d117a0b3",
      "metadata": {
        "id": "d117a0b3",
        "outputId": "154a0ee7-7d35-4b07-cee0-b6dca02352c8",
        "colab": {
          "base_uri": "https://localhost:8080/",
          "height": 591
        }
      },
      "outputs": [
        {
          "output_type": "stream",
          "name": "stdout",
          "text": [
            "<class 'pandas.core.frame.DataFrame'>\n",
            "RangeIndex: 10 entries, 0 to 9\n",
            "Data columns (total 3 columns):\n",
            " #   Column  Non-Null Count  Dtype         \n",
            "---  ------  --------------  -----         \n",
            " 0   date    10 non-null     datetime64[ns]\n",
            " 1   price   10 non-null     float64       \n",
            " 2   volume  10 non-null     float64       \n",
            "dtypes: datetime64[ns](1), float64(2)\n",
            "memory usage: 368.0 bytes\n"
          ]
        },
        {
          "output_type": "stream",
          "name": "stderr",
          "text": [
            "<ipython-input-33-038ff6eaa0a4>:10: UserWarning: Parsing dates in %H:%M:%S %d/%m/%Y format when dayfirst=False (the default) was specified. Pass `dayfirst=True` or specify a format to silence this warning.\n",
            "  ltc['date'] = pd.to_datetime(ltc['date'])\n"
          ]
        },
        {
          "output_type": "execute_result",
          "data": {
            "text/plain": [
              "                 date  price     volume\n",
              "0 2013-11-13 15:00:56   5.00  12.874000\n",
              "1 2013-11-13 15:58:20   5.00   0.900000\n",
              "2 2013-11-16 18:58:57   4.30   0.067440\n",
              "3 2013-11-16 18:59:16   4.25   5.000000\n",
              "4 2013-11-19 03:24:48   9.90   0.117018\n",
              "5 2013-11-19 03:27:08   9.90   0.817538\n",
              "6 2013-11-19 04:08:36   9.90   0.002367\n",
              "7 2013-11-19 04:17:55   9.90   0.039006\n",
              "8 2013-11-19 04:24:57   9.90   0.011796\n",
              "9 2013-11-19 08:22:00  10.00   0.059100"
            ],
            "text/html": [
              "\n",
              "  <div id=\"df-1facd767-4ef4-4112-aff3-7b603e24ca70\" class=\"colab-df-container\">\n",
              "    <div>\n",
              "<style scoped>\n",
              "    .dataframe tbody tr th:only-of-type {\n",
              "        vertical-align: middle;\n",
              "    }\n",
              "\n",
              "    .dataframe tbody tr th {\n",
              "        vertical-align: top;\n",
              "    }\n",
              "\n",
              "    .dataframe thead th {\n",
              "        text-align: right;\n",
              "    }\n",
              "</style>\n",
              "<table border=\"1\" class=\"dataframe\">\n",
              "  <thead>\n",
              "    <tr style=\"text-align: right;\">\n",
              "      <th></th>\n",
              "      <th>date</th>\n",
              "      <th>price</th>\n",
              "      <th>volume</th>\n",
              "    </tr>\n",
              "  </thead>\n",
              "  <tbody>\n",
              "    <tr>\n",
              "      <th>0</th>\n",
              "      <td>2013-11-13 15:00:56</td>\n",
              "      <td>5.00</td>\n",
              "      <td>12.874000</td>\n",
              "    </tr>\n",
              "    <tr>\n",
              "      <th>1</th>\n",
              "      <td>2013-11-13 15:58:20</td>\n",
              "      <td>5.00</td>\n",
              "      <td>0.900000</td>\n",
              "    </tr>\n",
              "    <tr>\n",
              "      <th>2</th>\n",
              "      <td>2013-11-16 18:58:57</td>\n",
              "      <td>4.30</td>\n",
              "      <td>0.067440</td>\n",
              "    </tr>\n",
              "    <tr>\n",
              "      <th>3</th>\n",
              "      <td>2013-11-16 18:59:16</td>\n",
              "      <td>4.25</td>\n",
              "      <td>5.000000</td>\n",
              "    </tr>\n",
              "    <tr>\n",
              "      <th>4</th>\n",
              "      <td>2013-11-19 03:24:48</td>\n",
              "      <td>9.90</td>\n",
              "      <td>0.117018</td>\n",
              "    </tr>\n",
              "    <tr>\n",
              "      <th>5</th>\n",
              "      <td>2013-11-19 03:27:08</td>\n",
              "      <td>9.90</td>\n",
              "      <td>0.817538</td>\n",
              "    </tr>\n",
              "    <tr>\n",
              "      <th>6</th>\n",
              "      <td>2013-11-19 04:08:36</td>\n",
              "      <td>9.90</td>\n",
              "      <td>0.002367</td>\n",
              "    </tr>\n",
              "    <tr>\n",
              "      <th>7</th>\n",
              "      <td>2013-11-19 04:17:55</td>\n",
              "      <td>9.90</td>\n",
              "      <td>0.039006</td>\n",
              "    </tr>\n",
              "    <tr>\n",
              "      <th>8</th>\n",
              "      <td>2013-11-19 04:24:57</td>\n",
              "      <td>9.90</td>\n",
              "      <td>0.011796</td>\n",
              "    </tr>\n",
              "    <tr>\n",
              "      <th>9</th>\n",
              "      <td>2013-11-19 08:22:00</td>\n",
              "      <td>10.00</td>\n",
              "      <td>0.059100</td>\n",
              "    </tr>\n",
              "  </tbody>\n",
              "</table>\n",
              "</div>\n",
              "    <div class=\"colab-df-buttons\">\n",
              "\n",
              "  <div class=\"colab-df-container\">\n",
              "    <button class=\"colab-df-convert\" onclick=\"convertToInteractive('df-1facd767-4ef4-4112-aff3-7b603e24ca70')\"\n",
              "            title=\"Convert this dataframe to an interactive table.\"\n",
              "            style=\"display:none;\">\n",
              "\n",
              "  <svg xmlns=\"http://www.w3.org/2000/svg\" height=\"24px\" viewBox=\"0 -960 960 960\">\n",
              "    <path d=\"M120-120v-720h720v720H120Zm60-500h600v-160H180v160Zm220 220h160v-160H400v160Zm0 220h160v-160H400v160ZM180-400h160v-160H180v160Zm440 0h160v-160H620v160ZM180-180h160v-160H180v160Zm440 0h160v-160H620v160Z\"/>\n",
              "  </svg>\n",
              "    </button>\n",
              "\n",
              "  <style>\n",
              "    .colab-df-container {\n",
              "      display:flex;\n",
              "      gap: 12px;\n",
              "    }\n",
              "\n",
              "    .colab-df-convert {\n",
              "      background-color: #E8F0FE;\n",
              "      border: none;\n",
              "      border-radius: 50%;\n",
              "      cursor: pointer;\n",
              "      display: none;\n",
              "      fill: #1967D2;\n",
              "      height: 32px;\n",
              "      padding: 0 0 0 0;\n",
              "      width: 32px;\n",
              "    }\n",
              "\n",
              "    .colab-df-convert:hover {\n",
              "      background-color: #E2EBFA;\n",
              "      box-shadow: 0px 1px 2px rgba(60, 64, 67, 0.3), 0px 1px 3px 1px rgba(60, 64, 67, 0.15);\n",
              "      fill: #174EA6;\n",
              "    }\n",
              "\n",
              "    .colab-df-buttons div {\n",
              "      margin-bottom: 4px;\n",
              "    }\n",
              "\n",
              "    [theme=dark] .colab-df-convert {\n",
              "      background-color: #3B4455;\n",
              "      fill: #D2E3FC;\n",
              "    }\n",
              "\n",
              "    [theme=dark] .colab-df-convert:hover {\n",
              "      background-color: #434B5C;\n",
              "      box-shadow: 0px 1px 3px 1px rgba(0, 0, 0, 0.15);\n",
              "      filter: drop-shadow(0px 1px 2px rgba(0, 0, 0, 0.3));\n",
              "      fill: #FFFFFF;\n",
              "    }\n",
              "  </style>\n",
              "\n",
              "    <script>\n",
              "      const buttonEl =\n",
              "        document.querySelector('#df-1facd767-4ef4-4112-aff3-7b603e24ca70 button.colab-df-convert');\n",
              "      buttonEl.style.display =\n",
              "        google.colab.kernel.accessAllowed ? 'block' : 'none';\n",
              "\n",
              "      async function convertToInteractive(key) {\n",
              "        const element = document.querySelector('#df-1facd767-4ef4-4112-aff3-7b603e24ca70');\n",
              "        const dataTable =\n",
              "          await google.colab.kernel.invokeFunction('convertToInteractive',\n",
              "                                                    [key], {});\n",
              "        if (!dataTable) return;\n",
              "\n",
              "        const docLinkHtml = 'Like what you see? Visit the ' +\n",
              "          '<a target=\"_blank\" href=https://colab.research.google.com/notebooks/data_table.ipynb>data table notebook</a>'\n",
              "          + ' to learn more about interactive tables.';\n",
              "        element.innerHTML = '';\n",
              "        dataTable['output_type'] = 'display_data';\n",
              "        await google.colab.output.renderOutput(dataTable, element);\n",
              "        const docLink = document.createElement('div');\n",
              "        docLink.innerHTML = docLinkHtml;\n",
              "        element.appendChild(docLink);\n",
              "      }\n",
              "    </script>\n",
              "  </div>\n",
              "\n",
              "\n",
              "<div id=\"df-44988211-511b-48b5-a1e4-57c6287fda94\">\n",
              "  <button class=\"colab-df-quickchart\" onclick=\"quickchart('df-44988211-511b-48b5-a1e4-57c6287fda94')\"\n",
              "            title=\"Suggest charts\"\n",
              "            style=\"display:none;\">\n",
              "\n",
              "<svg xmlns=\"http://www.w3.org/2000/svg\" height=\"24px\"viewBox=\"0 0 24 24\"\n",
              "     width=\"24px\">\n",
              "    <g>\n",
              "        <path d=\"M19 3H5c-1.1 0-2 .9-2 2v14c0 1.1.9 2 2 2h14c1.1 0 2-.9 2-2V5c0-1.1-.9-2-2-2zM9 17H7v-7h2v7zm4 0h-2V7h2v10zm4 0h-2v-4h2v4z\"/>\n",
              "    </g>\n",
              "</svg>\n",
              "  </button>\n",
              "\n",
              "<style>\n",
              "  .colab-df-quickchart {\n",
              "      --bg-color: #E8F0FE;\n",
              "      --fill-color: #1967D2;\n",
              "      --hover-bg-color: #E2EBFA;\n",
              "      --hover-fill-color: #174EA6;\n",
              "      --disabled-fill-color: #AAA;\n",
              "      --disabled-bg-color: #DDD;\n",
              "  }\n",
              "\n",
              "  [theme=dark] .colab-df-quickchart {\n",
              "      --bg-color: #3B4455;\n",
              "      --fill-color: #D2E3FC;\n",
              "      --hover-bg-color: #434B5C;\n",
              "      --hover-fill-color: #FFFFFF;\n",
              "      --disabled-bg-color: #3B4455;\n",
              "      --disabled-fill-color: #666;\n",
              "  }\n",
              "\n",
              "  .colab-df-quickchart {\n",
              "    background-color: var(--bg-color);\n",
              "    border: none;\n",
              "    border-radius: 50%;\n",
              "    cursor: pointer;\n",
              "    display: none;\n",
              "    fill: var(--fill-color);\n",
              "    height: 32px;\n",
              "    padding: 0;\n",
              "    width: 32px;\n",
              "  }\n",
              "\n",
              "  .colab-df-quickchart:hover {\n",
              "    background-color: var(--hover-bg-color);\n",
              "    box-shadow: 0 1px 2px rgba(60, 64, 67, 0.3), 0 1px 3px 1px rgba(60, 64, 67, 0.15);\n",
              "    fill: var(--button-hover-fill-color);\n",
              "  }\n",
              "\n",
              "  .colab-df-quickchart-complete:disabled,\n",
              "  .colab-df-quickchart-complete:disabled:hover {\n",
              "    background-color: var(--disabled-bg-color);\n",
              "    fill: var(--disabled-fill-color);\n",
              "    box-shadow: none;\n",
              "  }\n",
              "\n",
              "  .colab-df-spinner {\n",
              "    border: 2px solid var(--fill-color);\n",
              "    border-color: transparent;\n",
              "    border-bottom-color: var(--fill-color);\n",
              "    animation:\n",
              "      spin 1s steps(1) infinite;\n",
              "  }\n",
              "\n",
              "  @keyframes spin {\n",
              "    0% {\n",
              "      border-color: transparent;\n",
              "      border-bottom-color: var(--fill-color);\n",
              "      border-left-color: var(--fill-color);\n",
              "    }\n",
              "    20% {\n",
              "      border-color: transparent;\n",
              "      border-left-color: var(--fill-color);\n",
              "      border-top-color: var(--fill-color);\n",
              "    }\n",
              "    30% {\n",
              "      border-color: transparent;\n",
              "      border-left-color: var(--fill-color);\n",
              "      border-top-color: var(--fill-color);\n",
              "      border-right-color: var(--fill-color);\n",
              "    }\n",
              "    40% {\n",
              "      border-color: transparent;\n",
              "      border-right-color: var(--fill-color);\n",
              "      border-top-color: var(--fill-color);\n",
              "    }\n",
              "    60% {\n",
              "      border-color: transparent;\n",
              "      border-right-color: var(--fill-color);\n",
              "    }\n",
              "    80% {\n",
              "      border-color: transparent;\n",
              "      border-right-color: var(--fill-color);\n",
              "      border-bottom-color: var(--fill-color);\n",
              "    }\n",
              "    90% {\n",
              "      border-color: transparent;\n",
              "      border-bottom-color: var(--fill-color);\n",
              "    }\n",
              "  }\n",
              "</style>\n",
              "\n",
              "  <script>\n",
              "    async function quickchart(key) {\n",
              "      const quickchartButtonEl =\n",
              "        document.querySelector('#' + key + ' button');\n",
              "      quickchartButtonEl.disabled = true;  // To prevent multiple clicks.\n",
              "      quickchartButtonEl.classList.add('colab-df-spinner');\n",
              "      try {\n",
              "        const charts = await google.colab.kernel.invokeFunction(\n",
              "            'suggestCharts', [key], {});\n",
              "      } catch (error) {\n",
              "        console.error('Error during call to suggestCharts:', error);\n",
              "      }\n",
              "      quickchartButtonEl.classList.remove('colab-df-spinner');\n",
              "      quickchartButtonEl.classList.add('colab-df-quickchart-complete');\n",
              "    }\n",
              "    (() => {\n",
              "      let quickchartButtonEl =\n",
              "        document.querySelector('#df-44988211-511b-48b5-a1e4-57c6287fda94 button');\n",
              "      quickchartButtonEl.style.display =\n",
              "        google.colab.kernel.accessAllowed ? 'block' : 'none';\n",
              "    })();\n",
              "  </script>\n",
              "</div>\n",
              "    </div>\n",
              "  </div>\n"
            ],
            "application/vnd.google.colaboratory.intrinsic+json": {
              "type": "dataframe",
              "variable_name": "ltc",
              "summary": "{\n  \"name\": \"ltc\",\n  \"rows\": 10,\n  \"fields\": [\n    {\n      \"column\": \"date\",\n      \"properties\": {\n        \"dtype\": \"date\",\n        \"min\": \"2013-11-13 15:00:56\",\n        \"max\": \"2013-11-19 08:22:00\",\n        \"num_unique_values\": 10,\n        \"samples\": [\n          \"2013-11-19 04:24:57\",\n          \"2013-11-13 15:58:20\",\n          \"2013-11-19 03:27:08\"\n        ],\n        \"semantic_type\": \"\",\n        \"description\": \"\"\n      }\n    },\n    {\n      \"column\": \"price\",\n      \"properties\": {\n        \"dtype\": \"number\",\n        \"std\": 2.7370350949724984,\n        \"min\": 4.25,\n        \"max\": 10.0,\n        \"num_unique_values\": 5,\n        \"samples\": [\n          4.3,\n          10.0,\n          4.25\n        ],\n        \"semantic_type\": \"\",\n        \"description\": \"\"\n      }\n    },\n    {\n      \"column\": \"volume\",\n      \"properties\": {\n        \"dtype\": \"number\",\n        \"std\": 4.1188905724882865,\n        \"min\": 0.00236701,\n        \"max\": 12.874,\n        \"num_unique_values\": 10,\n        \"samples\": [\n          0.01179635,\n          0.9,\n          0.81753755\n        ],\n        \"semantic_type\": \"\",\n        \"description\": \"\"\n      }\n    }\n  ]\n}"
            }
          },
          "metadata": {},
          "execution_count": 33
        }
      ],
      "source": [
        "import os\n",
        "import pandas as pd\n",
        "\n",
        "path_ltc_sample = '../tables/ltc_sample.parquet' if os.path.exists('../tables/ltc_sample.parquet') else 'https://drive.google.com/uc?id=1XaThogOOqKjJj50LvfJ9WqutjMAC5AxA'\n",
        "\n",
        "ltc = (pd.read_parquet(path_ltc_sample)\n",
        "       .head(10)\n",
        "       .assign(date = lambda x: x['date'].dt.strftime('%H:%M:%S %d/%m/%Y'))\n",
        ")\n",
        "ltc['date'] = pd.to_datetime(ltc['date'])\n",
        "ltc.info()\n",
        "ltc\n",
        "# напишите свой код здесь"
      ]
    },
    {
      "cell_type": "markdown",
      "id": "1e1d4f70",
      "metadata": {
        "id": "1e1d4f70"
      },
      "source": [
        "### Задание 6\n",
        "\n",
        "Посмотрите на таблицу xdg_usdt. В ней содержаться данные по торговли криптовалютами xdg и usdt.\n",
        "В ней нас интересует колонка дата. Посмотрите какого она типа?\n",
        "\n",
        "Иногда даты хранятся не в виде строк, а в виде целых чисел. Каждое число - это количество секунд, милисекунд или наносекунд, которое прошло с 1 января 1970 года. Привести такую колонку к привычному формату дат можно при помощи функции to_datetime, используя в ней парметр unit. Этому параметру необходимо передать значение 's' для секунд, 'ms' - для милисекунд, 'ns' - для наносекунд.\n",
        "\n",
        "Приведите колонку с датами к типу datetime64, подобрав нужное значение в параметре unit"
      ]
    },
    {
      "cell_type": "code",
      "execution_count": 43,
      "id": "3203cea4",
      "metadata": {
        "id": "3203cea4",
        "outputId": "6e0816a4-65d0-4b32-c22b-2187e8b8e81e",
        "colab": {
          "base_uri": "https://localhost:8080/",
          "height": 478
        }
      },
      "outputs": [
        {
          "output_type": "execute_result",
          "data": {
            "text/plain": [
              "0       2023-04-01 00:05:12\n",
              "1       2023-04-01 00:07:45\n",
              "2       2023-04-01 00:16:38\n",
              "3       2023-04-01 00:18:24\n",
              "4       2023-04-01 00:25:00\n",
              "                ...        \n",
              "35583   2023-06-30 22:29:35\n",
              "35584   2023-06-30 23:06:07\n",
              "35585   2023-06-30 23:30:24\n",
              "35586   2023-06-30 23:31:06\n",
              "35587   2023-06-30 23:36:40\n",
              "Name: Дата, Length: 35588, dtype: datetime64[ns]"
            ],
            "text/html": [
              "<div>\n",
              "<style scoped>\n",
              "    .dataframe tbody tr th:only-of-type {\n",
              "        vertical-align: middle;\n",
              "    }\n",
              "\n",
              "    .dataframe tbody tr th {\n",
              "        vertical-align: top;\n",
              "    }\n",
              "\n",
              "    .dataframe thead th {\n",
              "        text-align: right;\n",
              "    }\n",
              "</style>\n",
              "<table border=\"1\" class=\"dataframe\">\n",
              "  <thead>\n",
              "    <tr style=\"text-align: right;\">\n",
              "      <th></th>\n",
              "      <th>Дата</th>\n",
              "    </tr>\n",
              "  </thead>\n",
              "  <tbody>\n",
              "    <tr>\n",
              "      <th>0</th>\n",
              "      <td>2023-04-01 00:05:12</td>\n",
              "    </tr>\n",
              "    <tr>\n",
              "      <th>1</th>\n",
              "      <td>2023-04-01 00:07:45</td>\n",
              "    </tr>\n",
              "    <tr>\n",
              "      <th>2</th>\n",
              "      <td>2023-04-01 00:16:38</td>\n",
              "    </tr>\n",
              "    <tr>\n",
              "      <th>3</th>\n",
              "      <td>2023-04-01 00:18:24</td>\n",
              "    </tr>\n",
              "    <tr>\n",
              "      <th>4</th>\n",
              "      <td>2023-04-01 00:25:00</td>\n",
              "    </tr>\n",
              "    <tr>\n",
              "      <th>...</th>\n",
              "      <td>...</td>\n",
              "    </tr>\n",
              "    <tr>\n",
              "      <th>35583</th>\n",
              "      <td>2023-06-30 22:29:35</td>\n",
              "    </tr>\n",
              "    <tr>\n",
              "      <th>35584</th>\n",
              "      <td>2023-06-30 23:06:07</td>\n",
              "    </tr>\n",
              "    <tr>\n",
              "      <th>35585</th>\n",
              "      <td>2023-06-30 23:30:24</td>\n",
              "    </tr>\n",
              "    <tr>\n",
              "      <th>35586</th>\n",
              "      <td>2023-06-30 23:31:06</td>\n",
              "    </tr>\n",
              "    <tr>\n",
              "      <th>35587</th>\n",
              "      <td>2023-06-30 23:36:40</td>\n",
              "    </tr>\n",
              "  </tbody>\n",
              "</table>\n",
              "<p>35588 rows × 1 columns</p>\n",
              "</div><br><label><b>dtype:</b> datetime64[ns]</label>"
            ]
          },
          "metadata": {},
          "execution_count": 43
        }
      ],
      "source": [
        "import os\n",
        "import pandas as pd\n",
        "path_xdg_usdt = '../tables/XDGUSDT.csv' if os.path.exists('../tables/XDGUSDT.csv') else 'https://drive.google.com/uc?id=1oLjCNOsdKbd87sIgW0_OWDpD2DVHAAAV'\n",
        "xdg_usdt = pd.read_csv(path_xdg_usdt, header=None).set_axis(['Дата', 'Цена', 'Объем'], axis=1)\n",
        "pd.to_datetime(xdg_usdt['Дата'], unit = 's')"
      ]
    },
    {
      "cell_type": "code",
      "execution_count": 41,
      "id": "0309deee",
      "metadata": {
        "id": "0309deee",
        "outputId": "46e49bcc-f0b2-4b98-90b4-83852476b051",
        "colab": {
          "base_uri": "https://localhost:8080/"
        }
      },
      "outputs": [
        {
          "output_type": "execute_result",
          "data": {
            "text/plain": [
              "DatetimeIndex(['1970-01-01 00:00:00', '2009-02-13 23:31:30',\n",
              "               '2000-11-05 05:13:54', '2050-05-15 13:36:29'],\n",
              "              dtype='datetime64[ns]', freq=None)"
            ]
          },
          "metadata": {},
          "execution_count": 41
        }
      ],
      "source": [
        "# Пример того, как это работает\n",
        "pd.to_datetime([0, 1234567890, 973401234, 2536234589], unit='s')"
      ]
    },
    {
      "cell_type": "code",
      "execution_count": null,
      "id": "035f2d55",
      "metadata": {
        "id": "035f2d55"
      },
      "outputs": [],
      "source": [
        "# напишите свой код здесь"
      ]
    },
    {
      "cell_type": "markdown",
      "id": "a03b31b4",
      "metadata": {
        "id": "a03b31b4"
      },
      "source": [
        "### Задание 7\n",
        "\n",
        "В видео была допущена ошибка, когда было сказано, что можно поменять формат отображения дат. Это не так. Даты можно представить в виде строк в определенном формате. Для того, чтобы это сделать необходимо обратиться к колонке с датами, а затем обратиться к конструкции dt.strftime(). Внутри метода надо указать формат даты.\n",
        "\n",
        "Приведите колонку open_date к строкам, чтобы дата лежала в формате число, месяц, год.  В качестве разделителей возьмите слэш /"
      ]
    },
    {
      "cell_type": "code",
      "execution_count": 44,
      "id": "353b93e4",
      "metadata": {
        "id": "353b93e4",
        "outputId": "f6b855a8-d12a-4404-b4de-245a14b3b007",
        "colab": {
          "base_uri": "https://localhost:8080/",
          "height": 226
        }
      },
      "outputs": [
        {
          "output_type": "execute_result",
          "data": {
            "text/plain": [
              "   shop_id             city                        adress shopping_center  \\\n",
              "0        1          Воронеж         Пушкинская пл., д. 76             NaN   \n",
              "1        2  Санкт-Петербург            ул. Веселая, д. 20           Книга   \n",
              "2        3             Чита              Тупой пер., д. 1             NaN   \n",
              "3        4           Липецк          пр. Гагарина, д. 234        Обезьяна   \n",
              "4        5        Челябинск  пр. Железнодорожников, д. 12             NaN   \n",
              "\n",
              "      size  open_date  \n",
              "0   Мелкий 2015-01-22  \n",
              "1  Крупный 2015-05-11  \n",
              "2   Мелкий 2015-11-27  \n",
              "3  Средний 2016-04-04  \n",
              "4   Мелкий 2016-04-11  "
            ],
            "text/html": [
              "\n",
              "  <div id=\"df-6c67cd2f-caf7-4c8b-9b1d-54e7b71a6ca3\" class=\"colab-df-container\">\n",
              "    <div>\n",
              "<style scoped>\n",
              "    .dataframe tbody tr th:only-of-type {\n",
              "        vertical-align: middle;\n",
              "    }\n",
              "\n",
              "    .dataframe tbody tr th {\n",
              "        vertical-align: top;\n",
              "    }\n",
              "\n",
              "    .dataframe thead th {\n",
              "        text-align: right;\n",
              "    }\n",
              "</style>\n",
              "<table border=\"1\" class=\"dataframe\">\n",
              "  <thead>\n",
              "    <tr style=\"text-align: right;\">\n",
              "      <th></th>\n",
              "      <th>shop_id</th>\n",
              "      <th>city</th>\n",
              "      <th>adress</th>\n",
              "      <th>shopping_center</th>\n",
              "      <th>size</th>\n",
              "      <th>open_date</th>\n",
              "    </tr>\n",
              "  </thead>\n",
              "  <tbody>\n",
              "    <tr>\n",
              "      <th>0</th>\n",
              "      <td>1</td>\n",
              "      <td>Воронеж</td>\n",
              "      <td>Пушкинская пл., д. 76</td>\n",
              "      <td>NaN</td>\n",
              "      <td>Мелкий</td>\n",
              "      <td>2015-01-22</td>\n",
              "    </tr>\n",
              "    <tr>\n",
              "      <th>1</th>\n",
              "      <td>2</td>\n",
              "      <td>Санкт-Петербург</td>\n",
              "      <td>ул. Веселая, д. 20</td>\n",
              "      <td>Книга</td>\n",
              "      <td>Крупный</td>\n",
              "      <td>2015-05-11</td>\n",
              "    </tr>\n",
              "    <tr>\n",
              "      <th>2</th>\n",
              "      <td>3</td>\n",
              "      <td>Чита</td>\n",
              "      <td>Тупой пер., д. 1</td>\n",
              "      <td>NaN</td>\n",
              "      <td>Мелкий</td>\n",
              "      <td>2015-11-27</td>\n",
              "    </tr>\n",
              "    <tr>\n",
              "      <th>3</th>\n",
              "      <td>4</td>\n",
              "      <td>Липецк</td>\n",
              "      <td>пр. Гагарина, д. 234</td>\n",
              "      <td>Обезьяна</td>\n",
              "      <td>Средний</td>\n",
              "      <td>2016-04-04</td>\n",
              "    </tr>\n",
              "    <tr>\n",
              "      <th>4</th>\n",
              "      <td>5</td>\n",
              "      <td>Челябинск</td>\n",
              "      <td>пр. Железнодорожников, д. 12</td>\n",
              "      <td>NaN</td>\n",
              "      <td>Мелкий</td>\n",
              "      <td>2016-04-11</td>\n",
              "    </tr>\n",
              "  </tbody>\n",
              "</table>\n",
              "</div>\n",
              "    <div class=\"colab-df-buttons\">\n",
              "\n",
              "  <div class=\"colab-df-container\">\n",
              "    <button class=\"colab-df-convert\" onclick=\"convertToInteractive('df-6c67cd2f-caf7-4c8b-9b1d-54e7b71a6ca3')\"\n",
              "            title=\"Convert this dataframe to an interactive table.\"\n",
              "            style=\"display:none;\">\n",
              "\n",
              "  <svg xmlns=\"http://www.w3.org/2000/svg\" height=\"24px\" viewBox=\"0 -960 960 960\">\n",
              "    <path d=\"M120-120v-720h720v720H120Zm60-500h600v-160H180v160Zm220 220h160v-160H400v160Zm0 220h160v-160H400v160ZM180-400h160v-160H180v160Zm440 0h160v-160H620v160ZM180-180h160v-160H180v160Zm440 0h160v-160H620v160Z\"/>\n",
              "  </svg>\n",
              "    </button>\n",
              "\n",
              "  <style>\n",
              "    .colab-df-container {\n",
              "      display:flex;\n",
              "      gap: 12px;\n",
              "    }\n",
              "\n",
              "    .colab-df-convert {\n",
              "      background-color: #E8F0FE;\n",
              "      border: none;\n",
              "      border-radius: 50%;\n",
              "      cursor: pointer;\n",
              "      display: none;\n",
              "      fill: #1967D2;\n",
              "      height: 32px;\n",
              "      padding: 0 0 0 0;\n",
              "      width: 32px;\n",
              "    }\n",
              "\n",
              "    .colab-df-convert:hover {\n",
              "      background-color: #E2EBFA;\n",
              "      box-shadow: 0px 1px 2px rgba(60, 64, 67, 0.3), 0px 1px 3px 1px rgba(60, 64, 67, 0.15);\n",
              "      fill: #174EA6;\n",
              "    }\n",
              "\n",
              "    .colab-df-buttons div {\n",
              "      margin-bottom: 4px;\n",
              "    }\n",
              "\n",
              "    [theme=dark] .colab-df-convert {\n",
              "      background-color: #3B4455;\n",
              "      fill: #D2E3FC;\n",
              "    }\n",
              "\n",
              "    [theme=dark] .colab-df-convert:hover {\n",
              "      background-color: #434B5C;\n",
              "      box-shadow: 0px 1px 3px 1px rgba(0, 0, 0, 0.15);\n",
              "      filter: drop-shadow(0px 1px 2px rgba(0, 0, 0, 0.3));\n",
              "      fill: #FFFFFF;\n",
              "    }\n",
              "  </style>\n",
              "\n",
              "    <script>\n",
              "      const buttonEl =\n",
              "        document.querySelector('#df-6c67cd2f-caf7-4c8b-9b1d-54e7b71a6ca3 button.colab-df-convert');\n",
              "      buttonEl.style.display =\n",
              "        google.colab.kernel.accessAllowed ? 'block' : 'none';\n",
              "\n",
              "      async function convertToInteractive(key) {\n",
              "        const element = document.querySelector('#df-6c67cd2f-caf7-4c8b-9b1d-54e7b71a6ca3');\n",
              "        const dataTable =\n",
              "          await google.colab.kernel.invokeFunction('convertToInteractive',\n",
              "                                                    [key], {});\n",
              "        if (!dataTable) return;\n",
              "\n",
              "        const docLinkHtml = 'Like what you see? Visit the ' +\n",
              "          '<a target=\"_blank\" href=https://colab.research.google.com/notebooks/data_table.ipynb>data table notebook</a>'\n",
              "          + ' to learn more about interactive tables.';\n",
              "        element.innerHTML = '';\n",
              "        dataTable['output_type'] = 'display_data';\n",
              "        await google.colab.output.renderOutput(dataTable, element);\n",
              "        const docLink = document.createElement('div');\n",
              "        docLink.innerHTML = docLinkHtml;\n",
              "        element.appendChild(docLink);\n",
              "      }\n",
              "    </script>\n",
              "  </div>\n",
              "\n",
              "\n",
              "<div id=\"df-0685c4e4-95df-4f9a-9026-e8311e45f03b\">\n",
              "  <button class=\"colab-df-quickchart\" onclick=\"quickchart('df-0685c4e4-95df-4f9a-9026-e8311e45f03b')\"\n",
              "            title=\"Suggest charts\"\n",
              "            style=\"display:none;\">\n",
              "\n",
              "<svg xmlns=\"http://www.w3.org/2000/svg\" height=\"24px\"viewBox=\"0 0 24 24\"\n",
              "     width=\"24px\">\n",
              "    <g>\n",
              "        <path d=\"M19 3H5c-1.1 0-2 .9-2 2v14c0 1.1.9 2 2 2h14c1.1 0 2-.9 2-2V5c0-1.1-.9-2-2-2zM9 17H7v-7h2v7zm4 0h-2V7h2v10zm4 0h-2v-4h2v4z\"/>\n",
              "    </g>\n",
              "</svg>\n",
              "  </button>\n",
              "\n",
              "<style>\n",
              "  .colab-df-quickchart {\n",
              "      --bg-color: #E8F0FE;\n",
              "      --fill-color: #1967D2;\n",
              "      --hover-bg-color: #E2EBFA;\n",
              "      --hover-fill-color: #174EA6;\n",
              "      --disabled-fill-color: #AAA;\n",
              "      --disabled-bg-color: #DDD;\n",
              "  }\n",
              "\n",
              "  [theme=dark] .colab-df-quickchart {\n",
              "      --bg-color: #3B4455;\n",
              "      --fill-color: #D2E3FC;\n",
              "      --hover-bg-color: #434B5C;\n",
              "      --hover-fill-color: #FFFFFF;\n",
              "      --disabled-bg-color: #3B4455;\n",
              "      --disabled-fill-color: #666;\n",
              "  }\n",
              "\n",
              "  .colab-df-quickchart {\n",
              "    background-color: var(--bg-color);\n",
              "    border: none;\n",
              "    border-radius: 50%;\n",
              "    cursor: pointer;\n",
              "    display: none;\n",
              "    fill: var(--fill-color);\n",
              "    height: 32px;\n",
              "    padding: 0;\n",
              "    width: 32px;\n",
              "  }\n",
              "\n",
              "  .colab-df-quickchart:hover {\n",
              "    background-color: var(--hover-bg-color);\n",
              "    box-shadow: 0 1px 2px rgba(60, 64, 67, 0.3), 0 1px 3px 1px rgba(60, 64, 67, 0.15);\n",
              "    fill: var(--button-hover-fill-color);\n",
              "  }\n",
              "\n",
              "  .colab-df-quickchart-complete:disabled,\n",
              "  .colab-df-quickchart-complete:disabled:hover {\n",
              "    background-color: var(--disabled-bg-color);\n",
              "    fill: var(--disabled-fill-color);\n",
              "    box-shadow: none;\n",
              "  }\n",
              "\n",
              "  .colab-df-spinner {\n",
              "    border: 2px solid var(--fill-color);\n",
              "    border-color: transparent;\n",
              "    border-bottom-color: var(--fill-color);\n",
              "    animation:\n",
              "      spin 1s steps(1) infinite;\n",
              "  }\n",
              "\n",
              "  @keyframes spin {\n",
              "    0% {\n",
              "      border-color: transparent;\n",
              "      border-bottom-color: var(--fill-color);\n",
              "      border-left-color: var(--fill-color);\n",
              "    }\n",
              "    20% {\n",
              "      border-color: transparent;\n",
              "      border-left-color: var(--fill-color);\n",
              "      border-top-color: var(--fill-color);\n",
              "    }\n",
              "    30% {\n",
              "      border-color: transparent;\n",
              "      border-left-color: var(--fill-color);\n",
              "      border-top-color: var(--fill-color);\n",
              "      border-right-color: var(--fill-color);\n",
              "    }\n",
              "    40% {\n",
              "      border-color: transparent;\n",
              "      border-right-color: var(--fill-color);\n",
              "      border-top-color: var(--fill-color);\n",
              "    }\n",
              "    60% {\n",
              "      border-color: transparent;\n",
              "      border-right-color: var(--fill-color);\n",
              "    }\n",
              "    80% {\n",
              "      border-color: transparent;\n",
              "      border-right-color: var(--fill-color);\n",
              "      border-bottom-color: var(--fill-color);\n",
              "    }\n",
              "    90% {\n",
              "      border-color: transparent;\n",
              "      border-bottom-color: var(--fill-color);\n",
              "    }\n",
              "  }\n",
              "</style>\n",
              "\n",
              "  <script>\n",
              "    async function quickchart(key) {\n",
              "      const quickchartButtonEl =\n",
              "        document.querySelector('#' + key + ' button');\n",
              "      quickchartButtonEl.disabled = true;  // To prevent multiple clicks.\n",
              "      quickchartButtonEl.classList.add('colab-df-spinner');\n",
              "      try {\n",
              "        const charts = await google.colab.kernel.invokeFunction(\n",
              "            'suggestCharts', [key], {});\n",
              "      } catch (error) {\n",
              "        console.error('Error during call to suggestCharts:', error);\n",
              "      }\n",
              "      quickchartButtonEl.classList.remove('colab-df-spinner');\n",
              "      quickchartButtonEl.classList.add('colab-df-quickchart-complete');\n",
              "    }\n",
              "    (() => {\n",
              "      let quickchartButtonEl =\n",
              "        document.querySelector('#df-0685c4e4-95df-4f9a-9026-e8311e45f03b button');\n",
              "      quickchartButtonEl.style.display =\n",
              "        google.colab.kernel.accessAllowed ? 'block' : 'none';\n",
              "    })();\n",
              "  </script>\n",
              "</div>\n",
              "    </div>\n",
              "  </div>\n"
            ],
            "application/vnd.google.colaboratory.intrinsic+json": {
              "type": "dataframe",
              "variable_name": "shops",
              "summary": "{\n  \"name\": \"shops\",\n  \"rows\": 23,\n  \"fields\": [\n    {\n      \"column\": \"shop_id\",\n      \"properties\": {\n        \"dtype\": \"number\",\n        \"std\": 6,\n        \"min\": 1,\n        \"max\": 23,\n        \"num_unique_values\": 23,\n        \"samples\": [\n          16,\n          10,\n          1\n        ],\n        \"semantic_type\": \"\",\n        \"description\": \"\"\n      }\n    },\n    {\n      \"column\": \"city\",\n      \"properties\": {\n        \"dtype\": \"string\",\n        \"num_unique_values\": 22,\n        \"samples\": [\n          \"\\u0412\\u043e\\u0440\\u043e\\u043d\\u0435\\u0436\",\n          \"\\u0412\\u043e\\u043b\\u043e\\u0433\\u0434\\u0430\",\n          \"\\u0421\\u0430\\u0440\\u0430\\u0442\\u043e\\u0432\"\n        ],\n        \"semantic_type\": \"\",\n        \"description\": \"\"\n      }\n    },\n    {\n      \"column\": \"adress\",\n      \"properties\": {\n        \"dtype\": \"string\",\n        \"num_unique_values\": 23,\n        \"samples\": [\n          \"\\u0443\\u043b. \\u0422\\u0443\\u0440\\u0433\\u0435\\u043d\\u0435\\u0432\\u0430, \\u0434. 9\",\n          \"\\u0443\\u043b. \\u0423\\u043b\\u0438\\u0442\\u043e\\u0447\\u043d\\u0430\\u044f, \\u0434. 8\",\n          \"\\u041f\\u0443\\u0448\\u043a\\u0438\\u043d\\u0441\\u043a\\u0430\\u044f \\u043f\\u043b., \\u0434. 76\"\n        ],\n        \"semantic_type\": \"\",\n        \"description\": \"\"\n      }\n    },\n    {\n      \"column\": \"shopping_center\",\n      \"properties\": {\n        \"dtype\": \"string\",\n        \"num_unique_values\": 17,\n        \"samples\": [\n          \"\\u041a\\u043d\\u0438\\u0433\\u0430\",\n          \"\\u041e\\u0431\\u0435\\u0437\\u044c\\u044f\\u043d\\u0430\",\n          \"\\u0421\\u043e\\u043a\\u043e\\u043b\"\n        ],\n        \"semantic_type\": \"\",\n        \"description\": \"\"\n      }\n    },\n    {\n      \"column\": \"size\",\n      \"properties\": {\n        \"dtype\": \"category\",\n        \"num_unique_values\": 3,\n        \"samples\": [\n          \"\\u041c\\u0435\\u043b\\u043a\\u0438\\u0439\",\n          \"\\u041a\\u0440\\u0443\\u043f\\u043d\\u044b\\u0439\",\n          \"\\u0421\\u0440\\u0435\\u0434\\u043d\\u0438\\u0439\"\n        ],\n        \"semantic_type\": \"\",\n        \"description\": \"\"\n      }\n    },\n    {\n      \"column\": \"open_date\",\n      \"properties\": {\n        \"dtype\": \"date\",\n        \"min\": \"2015-01-22 00:00:00\",\n        \"max\": \"2020-12-09 00:00:00\",\n        \"num_unique_values\": 23,\n        \"samples\": [\n          \"2018-05-23 00:00:00\",\n          \"2017-08-13 00:00:00\",\n          \"2015-01-22 00:00:00\"\n        ],\n        \"semantic_type\": \"\",\n        \"description\": \"\"\n      }\n    }\n  ]\n}"
            }
          },
          "metadata": {},
          "execution_count": 44
        }
      ],
      "source": [
        "import os\n",
        "import pandas as pd\n",
        "\n",
        "path_shops = '../tables/shops.xlsx' if os.path.exists('../tables/shops.xlsx') else 'https://drive.google.com/uc?id=1gfnmceJa3Mc1X06NftTx9G9QfKfprjEB'\n",
        "\n",
        "shops = pd.read_excel(path_shops)\n",
        "shops.head()"
      ]
    },
    {
      "cell_type": "code",
      "execution_count": 46,
      "id": "831bdc36",
      "metadata": {
        "id": "831bdc36",
        "outputId": "2a61711c-47e5-4832-8305-fd86b89c748b",
        "colab": {
          "base_uri": "https://localhost:8080/",
          "height": 825
        }
      },
      "outputs": [
        {
          "output_type": "execute_result",
          "data": {
            "text/plain": [
              "0     22/01/2015\n",
              "1     11/05/2015\n",
              "2     27/11/2015\n",
              "3     04/04/2016\n",
              "4     11/04/2016\n",
              "5     19/04/2016\n",
              "6     17/01/2017\n",
              "7     08/02/2017\n",
              "8     10/05/2017\n",
              "9     13/08/2017\n",
              "10    18/12/2017\n",
              "11    31/12/2017\n",
              "12    04/02/2018\n",
              "13    30/03/2018\n",
              "14    30/04/2018\n",
              "15    23/05/2018\n",
              "16    18/07/2018\n",
              "17    22/01/2019\n",
              "18    24/02/2019\n",
              "19    27/06/2019\n",
              "20    13/08/2019\n",
              "21    05/11/2020\n",
              "22    09/12/2020\n",
              "Name: open_date, dtype: object"
            ],
            "text/html": [
              "<div>\n",
              "<style scoped>\n",
              "    .dataframe tbody tr th:only-of-type {\n",
              "        vertical-align: middle;\n",
              "    }\n",
              "\n",
              "    .dataframe tbody tr th {\n",
              "        vertical-align: top;\n",
              "    }\n",
              "\n",
              "    .dataframe thead th {\n",
              "        text-align: right;\n",
              "    }\n",
              "</style>\n",
              "<table border=\"1\" class=\"dataframe\">\n",
              "  <thead>\n",
              "    <tr style=\"text-align: right;\">\n",
              "      <th></th>\n",
              "      <th>open_date</th>\n",
              "    </tr>\n",
              "  </thead>\n",
              "  <tbody>\n",
              "    <tr>\n",
              "      <th>0</th>\n",
              "      <td>22/01/2015</td>\n",
              "    </tr>\n",
              "    <tr>\n",
              "      <th>1</th>\n",
              "      <td>11/05/2015</td>\n",
              "    </tr>\n",
              "    <tr>\n",
              "      <th>2</th>\n",
              "      <td>27/11/2015</td>\n",
              "    </tr>\n",
              "    <tr>\n",
              "      <th>3</th>\n",
              "      <td>04/04/2016</td>\n",
              "    </tr>\n",
              "    <tr>\n",
              "      <th>4</th>\n",
              "      <td>11/04/2016</td>\n",
              "    </tr>\n",
              "    <tr>\n",
              "      <th>5</th>\n",
              "      <td>19/04/2016</td>\n",
              "    </tr>\n",
              "    <tr>\n",
              "      <th>6</th>\n",
              "      <td>17/01/2017</td>\n",
              "    </tr>\n",
              "    <tr>\n",
              "      <th>7</th>\n",
              "      <td>08/02/2017</td>\n",
              "    </tr>\n",
              "    <tr>\n",
              "      <th>8</th>\n",
              "      <td>10/05/2017</td>\n",
              "    </tr>\n",
              "    <tr>\n",
              "      <th>9</th>\n",
              "      <td>13/08/2017</td>\n",
              "    </tr>\n",
              "    <tr>\n",
              "      <th>10</th>\n",
              "      <td>18/12/2017</td>\n",
              "    </tr>\n",
              "    <tr>\n",
              "      <th>11</th>\n",
              "      <td>31/12/2017</td>\n",
              "    </tr>\n",
              "    <tr>\n",
              "      <th>12</th>\n",
              "      <td>04/02/2018</td>\n",
              "    </tr>\n",
              "    <tr>\n",
              "      <th>13</th>\n",
              "      <td>30/03/2018</td>\n",
              "    </tr>\n",
              "    <tr>\n",
              "      <th>14</th>\n",
              "      <td>30/04/2018</td>\n",
              "    </tr>\n",
              "    <tr>\n",
              "      <th>15</th>\n",
              "      <td>23/05/2018</td>\n",
              "    </tr>\n",
              "    <tr>\n",
              "      <th>16</th>\n",
              "      <td>18/07/2018</td>\n",
              "    </tr>\n",
              "    <tr>\n",
              "      <th>17</th>\n",
              "      <td>22/01/2019</td>\n",
              "    </tr>\n",
              "    <tr>\n",
              "      <th>18</th>\n",
              "      <td>24/02/2019</td>\n",
              "    </tr>\n",
              "    <tr>\n",
              "      <th>19</th>\n",
              "      <td>27/06/2019</td>\n",
              "    </tr>\n",
              "    <tr>\n",
              "      <th>20</th>\n",
              "      <td>13/08/2019</td>\n",
              "    </tr>\n",
              "    <tr>\n",
              "      <th>21</th>\n",
              "      <td>05/11/2020</td>\n",
              "    </tr>\n",
              "    <tr>\n",
              "      <th>22</th>\n",
              "      <td>09/12/2020</td>\n",
              "    </tr>\n",
              "  </tbody>\n",
              "</table>\n",
              "</div><br><label><b>dtype:</b> object</label>"
            ]
          },
          "metadata": {},
          "execution_count": 46
        }
      ],
      "source": [
        "shops['open_date'].dt.strftime('%d/%m/%Y').astype(str)"
      ]
    },
    {
      "cell_type": "code",
      "execution_count": null,
      "id": "823489ec",
      "metadata": {
        "id": "823489ec"
      },
      "outputs": [],
      "source": []
    },
    {
      "cell_type": "code",
      "execution_count": null,
      "id": "3c4dbb64",
      "metadata": {
        "id": "3c4dbb64"
      },
      "outputs": [],
      "source": []
    },
    {
      "cell_type": "code",
      "execution_count": null,
      "id": "56955191",
      "metadata": {
        "id": "56955191"
      },
      "outputs": [],
      "source": []
    },
    {
      "cell_type": "code",
      "execution_count": null,
      "id": "0d26f8eb",
      "metadata": {
        "id": "0d26f8eb"
      },
      "outputs": [],
      "source": []
    },
    {
      "cell_type": "code",
      "execution_count": null,
      "id": "836904f9",
      "metadata": {
        "id": "836904f9"
      },
      "outputs": [],
      "source": []
    },
    {
      "cell_type": "code",
      "execution_count": null,
      "id": "5b51bbde",
      "metadata": {
        "id": "5b51bbde"
      },
      "outputs": [],
      "source": []
    },
    {
      "cell_type": "code",
      "execution_count": null,
      "id": "3a4552d4",
      "metadata": {
        "id": "3a4552d4"
      },
      "outputs": [],
      "source": []
    },
    {
      "cell_type": "code",
      "execution_count": null,
      "id": "5200c015",
      "metadata": {
        "id": "5200c015"
      },
      "outputs": [],
      "source": []
    }
  ],
  "metadata": {
    "kernelspec": {
      "display_name": "Python 3 (ipykernel)",
      "language": "python",
      "name": "python3"
    },
    "language_info": {
      "codemirror_mode": {
        "name": "ipython",
        "version": 3
      },
      "file_extension": ".py",
      "mimetype": "text/x-python",
      "name": "python",
      "nbconvert_exporter": "python",
      "pygments_lexer": "ipython3",
      "version": "3.11.6"
    },
    "colab": {
      "provenance": [],
      "include_colab_link": true
    }
  },
  "nbformat": 4,
  "nbformat_minor": 5
}