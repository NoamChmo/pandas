{
 "cells": [
  {
   "cell_type": "markdown",
   "id": "04e0e68b",
   "metadata": {},
   "source": [
    "<a target=\"_blank\" href=\"https://colab.research.google.com/github/victorlymarev/pandas/blob/main/notebooks/10-operations.ipynb\">\n",
    "  <img src=\"https://colab.research.google.com/assets/colab-badge.svg\" alt=\"Open In Colab\"/>\n",
    "</a>"
   ]
  },
  {
   "cell_type": "markdown",
   "id": "a0f7993b",
   "metadata": {},
   "source": [
    "# Операции с числами и строками\n",
    "#### [Ссылка на видео](https://youtu.be/km18qCeo99I)"
   ]
  },
  {
   "cell_type": "code",
   "execution_count": null,
   "id": "dc31796c",
   "metadata": {},
   "outputs": [],
   "source": [
    "import pandas as pd\n",
    "import numpy as np"
   ]
  },
  {
   "cell_type": "markdown",
   "id": "78646ccf",
   "metadata": {},
   "source": [
    "Создаем датафрейм"
   ]
  },
  {
   "cell_type": "code",
   "execution_count": null,
   "id": "33ca1934",
   "metadata": {},
   "outputs": [],
   "source": [
    "df = pd.DataFrame({'Колонка 1': [1, 2, 3, 4, 5, 6],\n",
    "              'Колонка 2': [6, 5, 4, 3, 2, 1],\n",
    "              'Колонка 3': [np.nan, 3, 5, 0, 9, 11],\n",
    "              'Имя': ['Миша', 'Саша', 'Юля',\n",
    "                            'Настя', 'Андрей', 'Катя'],\n",
    "              'Увлечение': ['Баскетбол', 'Хоккей', 'Волейбол',\n",
    "                            'Футбол', 'Counter-Strike', 'Бильярд']\n",
    "             })"
   ]
  },
  {
   "cell_type": "code",
   "execution_count": null,
   "id": "330521ab",
   "metadata": {},
   "outputs": [],
   "source": [
    "df"
   ]
  },
  {
   "cell_type": "markdown",
   "id": "535d8469",
   "metadata": {},
   "source": [
    "# Операции с числами"
   ]
  },
  {
   "cell_type": "markdown",
   "id": "c953241f",
   "metadata": {},
   "source": [
    "| Знак   | Операция              | Метод                 |\n",
    "|:-------|:----------------------|:----------------------|\n",
    "| +      | Сумма                 | add                   |\n",
    "| -      | Разность              | sub                   |\n",
    "| *      | Умножение             | mul                   |\n",
    "| /      | Деление               | div, truediv          |\n",
    "| //     | Целочисленное деление | floordiv              |\n",
    "| %      | Остаток от деления    | mod                   |\n",
    "| **     | Возведение в степень  | pow                   |"
   ]
  },
  {
   "cell_type": "markdown",
   "id": "65582adf",
   "metadata": {},
   "source": [
    "#### Сложение колонки и числа"
   ]
  },
  {
   "cell_type": "markdown",
   "id": "bb279fe9",
   "metadata": {},
   "source": [
    "Выбирать колонку и присваивать ей значение вы можете как хотите"
   ]
  },
  {
   "cell_type": "code",
   "execution_count": null,
   "id": "ea8a905a",
   "metadata": {},
   "outputs": [],
   "source": [
    "# Каждое значение в колонке увеличилось на 1\n",
    "df['Колонка 1'] + 1"
   ]
  },
  {
   "cell_type": "code",
   "execution_count": null,
   "id": "835caf7d",
   "metadata": {},
   "outputs": [],
   "source": [
    "df['Колонка 1'].add(1)"
   ]
  },
  {
   "cell_type": "markdown",
   "id": "d6bf8a81",
   "metadata": {},
   "source": [
    "#### Сложение двух колонок"
   ]
  },
  {
   "cell_type": "code",
   "execution_count": null,
   "id": "28551a67",
   "metadata": {},
   "outputs": [],
   "source": [
    "df['Колонка 1'] + df['Колонка 2']"
   ]
  },
  {
   "cell_type": "code",
   "execution_count": null,
   "id": "88746f32",
   "metadata": {},
   "outputs": [],
   "source": []
  },
  {
   "cell_type": "code",
   "execution_count": null,
   "id": "4a5bf121",
   "metadata": {},
   "outputs": [],
   "source": []
  },
  {
   "cell_type": "code",
   "execution_count": null,
   "id": "17fedaf1",
   "metadata": {},
   "outputs": [],
   "source": []
  },
  {
   "cell_type": "markdown",
   "id": "fd4e361b",
   "metadata": {},
   "source": [
    "#### Сложение колонок с пропущенными значениями"
   ]
  },
  {
   "cell_type": "code",
   "execution_count": null,
   "id": "1e6f03e0",
   "metadata": {},
   "outputs": [],
   "source": [
    "df['Колонка 3']"
   ]
  },
  {
   "cell_type": "markdown",
   "id": "19c7d7fd",
   "metadata": {},
   "source": [
    "#### Пропущенное значение всегда остается пропущенным значением"
   ]
  },
  {
   "cell_type": "code",
   "execution_count": null,
   "id": "6c1623f9",
   "metadata": {},
   "outputs": [],
   "source": [
    "df['Колонка 1'] + df['Колонка 3']"
   ]
  },
  {
   "cell_type": "markdown",
   "id": "54fb78a9",
   "metadata": {},
   "source": [
    "#### Часто за пропусками скрываются нули. Заполнить пропуски нулем или каким-то другим значением можно методом fillna(), передав в него значение, которое вы хотите положить на метсто пропусков"
   ]
  },
  {
   "cell_type": "code",
   "execution_count": null,
   "id": "318170a7",
   "metadata": {},
   "outputs": [],
   "source": [
    "df['Колонка 1'] + df['Колонка 3'].fillna(0)"
   ]
  },
  {
   "cell_type": "markdown",
   "id": "dd4bb759",
   "metadata": {},
   "source": [
    "Изначально в колонке есть пропуск"
   ]
  },
  {
   "cell_type": "code",
   "execution_count": null,
   "id": "b8cddc4d",
   "metadata": {},
   "outputs": [],
   "source": [
    "df['Колонка 3']"
   ]
  },
  {
   "cell_type": "markdown",
   "id": "8c6fd2ab",
   "metadata": {},
   "source": [
    "Мы заполнили его нулем"
   ]
  },
  {
   "cell_type": "code",
   "execution_count": null,
   "id": "7f665f07",
   "metadata": {},
   "outputs": [],
   "source": [
    "df['Колонка 3'].fillna(0)"
   ]
  },
  {
   "cell_type": "code",
   "execution_count": null,
   "id": "94cc5c20",
   "metadata": {},
   "outputs": [],
   "source": []
  },
  {
   "cell_type": "markdown",
   "id": "8ecaa501",
   "metadata": {},
   "source": [
    "#### Сопоставление колонок при сложении идет по индексам\n",
    "\n",
    "Проэтому если вы складываете 2 разные таблицы, то проверьте, что в них совпадают индексы"
   ]
  },
  {
   "cell_type": "code",
   "execution_count": null,
   "id": "eaea0b72",
   "metadata": {},
   "outputs": [],
   "source": [
    "# поменяли индексы\n",
    "df['Колонка 1'].set_axis([3, 4, 5, 6, 7, 8])"
   ]
  },
  {
   "cell_type": "code",
   "execution_count": null,
   "id": "d3a28dda",
   "metadata": {},
   "outputs": [],
   "source": [
    "df['Колонка 1'].set_axis([3, 4, 5, 6, 7, 8]) + df['Колонка 2']"
   ]
  },
  {
   "cell_type": "markdown",
   "id": "659f484b",
   "metadata": {},
   "source": [
    "По этой же причине не допускайте повторяющихся индексов при арифметических операциях"
   ]
  },
  {
   "cell_type": "markdown",
   "id": "9cf27b03",
   "metadata": {},
   "source": [
    "#### Вычитание"
   ]
  },
  {
   "cell_type": "code",
   "execution_count": null,
   "id": "448bf176",
   "metadata": {},
   "outputs": [],
   "source": [
    "df['Колонка 1'] - 2\n",
    "# df['Колонка 1'].sub(2)"
   ]
  },
  {
   "cell_type": "code",
   "execution_count": null,
   "id": "658771f1",
   "metadata": {},
   "outputs": [],
   "source": [
    "2 - df['Колонка 1']\n",
    "# df['Колонка 1'].rsub(2)"
   ]
  },
  {
   "cell_type": "markdown",
   "id": "09bbf089",
   "metadata": {},
   "source": [
    "Разность двух колонок"
   ]
  },
  {
   "cell_type": "code",
   "execution_count": null,
   "id": "b663f6b5",
   "metadata": {},
   "outputs": [],
   "source": [
    "df['Колонка 1'] - df['Колонка 2']"
   ]
  },
  {
   "cell_type": "markdown",
   "id": "6b711920",
   "metadata": {},
   "source": [
    "#### Умножение"
   ]
  },
  {
   "cell_type": "code",
   "execution_count": null,
   "id": "59865ebf",
   "metadata": {},
   "outputs": [],
   "source": [
    "df['Колонка 1'] * 2"
   ]
  },
  {
   "cell_type": "code",
   "execution_count": null,
   "id": "47f147ea",
   "metadata": {},
   "outputs": [],
   "source": [
    "df['Колонка 1'] * df['Колонка 2']"
   ]
  },
  {
   "cell_type": "markdown",
   "id": "71cc74d4",
   "metadata": {},
   "source": [
    "#### Деление"
   ]
  },
  {
   "cell_type": "code",
   "execution_count": null,
   "id": "dee5323a",
   "metadata": {},
   "outputs": [],
   "source": [
    "df['Колонка 1'] / 2"
   ]
  },
  {
   "cell_type": "markdown",
   "id": "0c25acef",
   "metadata": {},
   "source": [
    "При делении на ноль получается знчение inf или NaN"
   ]
  },
  {
   "cell_type": "code",
   "execution_count": null,
   "id": "787396a7",
   "metadata": {},
   "outputs": [],
   "source": [
    "df['Колонка 3']"
   ]
  },
  {
   "cell_type": "code",
   "execution_count": null,
   "id": "df32c574",
   "metadata": {},
   "outputs": [],
   "source": [
    "df['Колонка 1'] / df['Колонка 3']"
   ]
  },
  {
   "cell_type": "code",
   "execution_count": null,
   "id": "b2face44",
   "metadata": {},
   "outputs": [],
   "source": [
    "(-df['Колонка 1']) / df['Колонка 3']"
   ]
  },
  {
   "cell_type": "code",
   "execution_count": null,
   "id": "9ab14955",
   "metadata": {},
   "outputs": [],
   "source": [
    "(df['Колонка 1'] / df['Колонка 3']) > 1000000000000"
   ]
  },
  {
   "cell_type": "markdown",
   "id": "ad28ea8a",
   "metadata": {},
   "source": [
    "0/0"
   ]
  },
  {
   "cell_type": "code",
   "execution_count": null,
   "id": "b402b212",
   "metadata": {},
   "outputs": [],
   "source": [
    "df['Колонка 3'] / df['Колонка 3']"
   ]
  },
  {
   "cell_type": "markdown",
   "id": "5f2ca6f1",
   "metadata": {},
   "source": [
    "#### Целочисленное деление"
   ]
  },
  {
   "cell_type": "markdown",
   "id": "dcbc419d",
   "metadata": {},
   "source": [
    "5 / 2 = 2, остаток 1    \n",
    "   \n",
    "   \n",
    "делеимое / делитель = частное и остаток от деления"
   ]
  },
  {
   "cell_type": "code",
   "execution_count": null,
   "id": "94d5cbdb",
   "metadata": {},
   "outputs": [],
   "source": [
    "df['Колонка 1'] // 2"
   ]
  },
  {
   "cell_type": "markdown",
   "id": "b8cf5a6a",
   "metadata": {},
   "source": [
    "#### Остаток от деления"
   ]
  },
  {
   "cell_type": "code",
   "execution_count": null,
   "id": "a15d3b0b",
   "metadata": {},
   "outputs": [],
   "source": [
    "df['Колонка 1'] % 2"
   ]
  },
  {
   "cell_type": "markdown",
   "id": "3ecee0df",
   "metadata": {},
   "source": [
    "#### Возведние в степень"
   ]
  },
  {
   "cell_type": "code",
   "execution_count": null,
   "id": "f5113ad9",
   "metadata": {},
   "outputs": [],
   "source": [
    "df['Колонка 1'] ** 2"
   ]
  },
  {
   "cell_type": "code",
   "execution_count": null,
   "id": "42f6acb5",
   "metadata": {},
   "outputs": [],
   "source": [
    "df['Колонка 1'] ** df['Колонка 1']"
   ]
  },
  {
   "cell_type": "markdown",
   "id": "eade3708",
   "metadata": {},
   "source": [
    "#### Целые числа нельзя возводить в отрицательную степень"
   ]
  },
  {
   "cell_type": "code",
   "execution_count": null,
   "id": "a54e444f",
   "metadata": {},
   "outputs": [],
   "source": [
    "df['Колонка 1'] ** - 2"
   ]
  },
  {
   "cell_type": "code",
   "execution_count": null,
   "id": "b2f43a8c",
   "metadata": {},
   "outputs": [],
   "source": [
    "df['Колонка 1'].astype(float) ** -2"
   ]
  },
  {
   "cell_type": "code",
   "execution_count": null,
   "id": "8cce954d",
   "metadata": {},
   "outputs": [],
   "source": [
    "1 / df['Колонка 1'] ** 2"
   ]
  },
  {
   "cell_type": "markdown",
   "id": "1f547e32",
   "metadata": {},
   "source": [
    "### Арифметические операции определены стандартно, но если что-то непонятно, то лучше ставить скобки"
   ]
  },
  {
   "cell_type": "code",
   "execution_count": null,
   "id": "c053920c",
   "metadata": {},
   "outputs": [],
   "source": [
    "((df['Колонка 1'] + df['Колонка 3']) * df['Колонка 2']) ** 0.5"
   ]
  },
  {
   "cell_type": "code",
   "execution_count": null,
   "id": "8fec0d54",
   "metadata": {},
   "outputs": [],
   "source": [
    "df['Колонка 1'] / 2 * 100"
   ]
  },
  {
   "cell_type": "code",
   "execution_count": null,
   "id": "666cadec",
   "metadata": {},
   "outputs": [],
   "source": [
    "(df['Колонка 1'] / 2) * 100"
   ]
  },
  {
   "cell_type": "markdown",
   "id": "6ca2986c",
   "metadata": {},
   "source": [
    "#### Когда мы записываем выражение в скобках мы его можем переносить между строк как угодно"
   ]
  },
  {
   "cell_type": "code",
   "execution_count": null,
   "id": "34c5b00d",
   "metadata": {},
   "outputs": [],
   "source": [
    "(\n",
    "df['Колонка 1']\n",
    "+\n",
    "df['Колонка 1']\n",
    ")"
   ]
  },
  {
   "cell_type": "markdown",
   "id": "4691cfa2",
   "metadata": {},
   "source": [
    "#### Если мы после выполнения арифметических операций хотим использовать какие-то другие методы, то все выражение мы должны обернуть в круглые скобки"
   ]
  },
  {
   "cell_type": "code",
   "execution_count": null,
   "id": "849b8563",
   "metadata": {},
   "outputs": [],
   "source": [
    "(df['Колонка 1'] + df['Колонка 2'])"
   ]
  },
  {
   "cell_type": "code",
   "execution_count": null,
   "id": "989e8faf",
   "metadata": {},
   "outputs": [],
   "source": [
    "(df['Колонка 1'] + df['Колонка 2']).sample(10, replace=True, random_state=9)"
   ]
  },
  {
   "cell_type": "markdown",
   "id": "afde60a4",
   "metadata": {},
   "source": [
    "Иначе метод sample будет применен только к первому датафрейму"
   ]
  },
  {
   "cell_type": "code",
   "execution_count": null,
   "id": "d7ff3738",
   "metadata": {},
   "outputs": [],
   "source": [
    "df['Колонка 1'] + df['Колонка 2'].sample(10, replace=True, random_state=9)"
   ]
  },
  {
   "cell_type": "code",
   "execution_count": null,
   "id": "dbc70bab",
   "metadata": {},
   "outputs": [],
   "source": []
  },
  {
   "cell_type": "code",
   "execution_count": null,
   "id": "9b12b84c",
   "metadata": {},
   "outputs": [],
   "source": []
  },
  {
   "cell_type": "code",
   "execution_count": null,
   "id": "b64b683a",
   "metadata": {},
   "outputs": [],
   "source": []
  },
  {
   "cell_type": "code",
   "execution_count": null,
   "id": "ca333048",
   "metadata": {},
   "outputs": [],
   "source": []
  },
  {
   "cell_type": "code",
   "execution_count": null,
   "id": "208aab6f",
   "metadata": {},
   "outputs": [],
   "source": []
  },
  {
   "cell_type": "code",
   "execution_count": null,
   "id": "e33a1f6a",
   "metadata": {},
   "outputs": [],
   "source": []
  },
  {
   "cell_type": "markdown",
   "id": "6e98f911",
   "metadata": {},
   "source": [
    "# Операции со строками"
   ]
  },
  {
   "cell_type": "code",
   "execution_count": null,
   "id": "4b77ea95",
   "metadata": {},
   "outputs": [],
   "source": [
    "df['Имя']"
   ]
  },
  {
   "cell_type": "markdown",
   "id": "fd3dce28",
   "metadata": {},
   "source": [
    "#### Умножение на целое число"
   ]
  },
  {
   "cell_type": "code",
   "execution_count": null,
   "id": "13cecce8",
   "metadata": {},
   "outputs": [],
   "source": [
    "df['Имя'] * 3"
   ]
  },
  {
   "cell_type": "markdown",
   "id": "c3b0a343",
   "metadata": {},
   "source": [
    "#### Сложение двух строк"
   ]
  },
  {
   "cell_type": "code",
   "execution_count": null,
   "id": "440ea96c",
   "metadata": {},
   "outputs": [],
   "source": [
    "df['Имя'] + ' хороший человек'"
   ]
  },
  {
   "cell_type": "code",
   "execution_count": null,
   "id": "42de9b96",
   "metadata": {},
   "outputs": [],
   "source": [
    "df['Имя'] + df['Увлечение']"
   ]
  },
  {
   "cell_type": "code",
   "execution_count": null,
   "id": "4c4b176e",
   "metadata": {},
   "outputs": [],
   "source": [
    "df['Имя'] + ' любит ' + df['Увлечение']"
   ]
  },
  {
   "cell_type": "code",
   "execution_count": null,
   "id": "72e4763b",
   "metadata": {},
   "outputs": [],
   "source": []
  },
  {
   "cell_type": "code",
   "execution_count": null,
   "id": "c075234b",
   "metadata": {},
   "outputs": [],
   "source": []
  },
  {
   "cell_type": "code",
   "execution_count": null,
   "id": "46d83710",
   "metadata": {},
   "outputs": [],
   "source": []
  },
  {
   "cell_type": "code",
   "execution_count": null,
   "id": "be9f49ee",
   "metadata": {},
   "outputs": [],
   "source": []
  },
  {
   "cell_type": "code",
   "execution_count": null,
   "id": "80bf19a3",
   "metadata": {},
   "outputs": [],
   "source": []
  },
  {
   "cell_type": "code",
   "execution_count": null,
   "id": "e6017f63",
   "metadata": {},
   "outputs": [],
   "source": []
  },
  {
   "cell_type": "code",
   "execution_count": null,
   "id": "6110ac9d",
   "metadata": {},
   "outputs": [],
   "source": []
  },
  {
   "cell_type": "code",
   "execution_count": null,
   "id": "125c8d33",
   "metadata": {},
   "outputs": [],
   "source": []
  },
  {
   "cell_type": "code",
   "execution_count": null,
   "id": "e22f6697",
   "metadata": {},
   "outputs": [],
   "source": []
  },
  {
   "cell_type": "code",
   "execution_count": null,
   "id": "4ce4d244",
   "metadata": {},
   "outputs": [],
   "source": []
  },
  {
   "cell_type": "code",
   "execution_count": null,
   "id": "887ed69e",
   "metadata": {},
   "outputs": [],
   "source": []
  },
  {
   "cell_type": "code",
   "execution_count": null,
   "id": "2ffd704a",
   "metadata": {},
   "outputs": [],
   "source": []
  },
  {
   "cell_type": "code",
   "execution_count": null,
   "id": "2a1f8906",
   "metadata": {},
   "outputs": [],
   "source": []
  },
  {
   "cell_type": "code",
   "execution_count": null,
   "id": "9c76a996",
   "metadata": {},
   "outputs": [],
   "source": []
  },
  {
   "cell_type": "code",
   "execution_count": null,
   "id": "00ed2dc0",
   "metadata": {},
   "outputs": [],
   "source": []
  },
  {
   "cell_type": "code",
   "execution_count": null,
   "id": "7548afb3",
   "metadata": {},
   "outputs": [],
   "source": []
  },
  {
   "cell_type": "code",
   "execution_count": null,
   "id": "15145921",
   "metadata": {},
   "outputs": [],
   "source": []
  },
  {
   "cell_type": "markdown",
   "id": "dff6d021",
   "metadata": {},
   "source": [
    "# Операции с датафреймами"
   ]
  },
  {
   "cell_type": "markdown",
   "id": "71af3c69",
   "metadata": {},
   "source": [
    "Если операция определена для всех колонок датафрейма, то она может быть применена"
   ]
  },
  {
   "cell_type": "code",
   "execution_count": null,
   "id": "864deb48",
   "metadata": {},
   "outputs": [],
   "source": [
    "df * 2"
   ]
  },
  {
   "cell_type": "code",
   "execution_count": null,
   "id": "087b7d1e",
   "metadata": {},
   "outputs": [],
   "source": [
    "df + df + df"
   ]
  },
  {
   "cell_type": "code",
   "execution_count": null,
   "id": "7aedb9e3",
   "metadata": {},
   "outputs": [],
   "source": [
    "df.iloc[:, :3]"
   ]
  },
  {
   "cell_type": "code",
   "execution_count": null,
   "id": "2df05a2f",
   "metadata": {},
   "outputs": [],
   "source": [
    "df.iloc[:, :3] + 1"
   ]
  },
  {
   "cell_type": "code",
   "execution_count": null,
   "id": "882303de",
   "metadata": {},
   "outputs": [],
   "source": [
    "df.iloc[:, :3] * 2"
   ]
  },
  {
   "cell_type": "code",
   "execution_count": null,
   "id": "ca6f1582",
   "metadata": {},
   "outputs": [],
   "source": [
    "df.iloc[:, :3] ** 2"
   ]
  },
  {
   "cell_type": "markdown",
   "id": "925ef751",
   "metadata": {},
   "source": [
    "#### Сложение со списком идет построчно"
   ]
  },
  {
   "cell_type": "code",
   "execution_count": null,
   "id": "3b3f47e6",
   "metadata": {},
   "outputs": [],
   "source": [
    "df.iloc[:, :3] + [100, 10000, 1000000]"
   ]
  },
  {
   "cell_type": "markdown",
   "id": "48145b55",
   "metadata": {},
   "source": [
    "Поэтому просто так колонку к датафрему прибавить не получится"
   ]
  },
  {
   "cell_type": "code",
   "execution_count": null,
   "id": "f1c72529",
   "metadata": {},
   "outputs": [],
   "source": [
    "df.iloc[:, :3] + df['Колонка 1']"
   ]
  },
  {
   "cell_type": "code",
   "execution_count": null,
   "id": "e08a8bc7",
   "metadata": {},
   "outputs": [],
   "source": [
    "df['Колонка 1'].to_numpy().reshape(-1, 1)"
   ]
  },
  {
   "cell_type": "code",
   "execution_count": null,
   "id": "2e1eaf46",
   "metadata": {},
   "outputs": [],
   "source": [
    "df.iloc[:, :3] + df['Колонка 1'].to_numpy().reshape(-1, 1)"
   ]
  },
  {
   "cell_type": "code",
   "execution_count": null,
   "id": "18a9087b",
   "metadata": {},
   "outputs": [],
   "source": []
  },
  {
   "cell_type": "code",
   "execution_count": null,
   "id": "738bf914",
   "metadata": {},
   "outputs": [],
   "source": []
  },
  {
   "cell_type": "code",
   "execution_count": null,
   "id": "0f6b2e74",
   "metadata": {},
   "outputs": [],
   "source": []
  },
  {
   "cell_type": "code",
   "execution_count": null,
   "id": "8981e86c",
   "metadata": {},
   "outputs": [],
   "source": []
  },
  {
   "cell_type": "code",
   "execution_count": null,
   "id": "f74db731",
   "metadata": {},
   "outputs": [],
   "source": []
  },
  {
   "cell_type": "code",
   "execution_count": null,
   "id": "62811009",
   "metadata": {},
   "outputs": [],
   "source": []
  },
  {
   "cell_type": "code",
   "execution_count": null,
   "id": "87b79667",
   "metadata": {},
   "outputs": [],
   "source": []
  },
  {
   "cell_type": "code",
   "execution_count": null,
   "id": "feb2d8db",
   "metadata": {},
   "outputs": [],
   "source": []
  },
  {
   "cell_type": "code",
   "execution_count": null,
   "id": "3c2e6cfb",
   "metadata": {},
   "outputs": [],
   "source": []
  },
  {
   "cell_type": "markdown",
   "id": "c7367825",
   "metadata": {},
   "source": [
    "# Операции с векторами и матрицами"
   ]
  },
  {
   "cell_type": "markdown",
   "id": "b70e1dd0",
   "metadata": {},
   "source": [
    "Создаем 2 матрицы и вектор"
   ]
  },
  {
   "cell_type": "code",
   "execution_count": null,
   "id": "fe8b3078",
   "metadata": {},
   "outputs": [],
   "source": [
    "np.random.seed(32)\n",
    "matrix_1 = np.arange(24).reshape(6, -1)\n",
    "matrix_1"
   ]
  },
  {
   "cell_type": "code",
   "execution_count": null,
   "id": "39643081",
   "metadata": {},
   "outputs": [],
   "source": [
    "np.random.seed(32)\n",
    "matrix_2 = np.random.randint(10, size=(4, 6))\n",
    "matrix_2"
   ]
  },
  {
   "cell_type": "code",
   "execution_count": null,
   "id": "66188316",
   "metadata": {},
   "outputs": [],
   "source": [
    "vector = np.arange(4)\n",
    "vector"
   ]
  },
  {
   "cell_type": "markdown",
   "id": "cd342bbd",
   "metadata": {},
   "source": [
    "Все операции определены так же, как и у DataFrame и Series"
   ]
  },
  {
   "cell_type": "code",
   "execution_count": null,
   "id": "b7b2c015",
   "metadata": {},
   "outputs": [],
   "source": [
    "matrix_1 * 2"
   ]
  },
  {
   "cell_type": "code",
   "execution_count": null,
   "id": "81106e52",
   "metadata": {},
   "outputs": [],
   "source": [
    "vector + 10"
   ]
  },
  {
   "cell_type": "code",
   "execution_count": null,
   "id": "2b7511cb",
   "metadata": {},
   "outputs": [],
   "source": [
    "matrix_1 + matrix_2.T"
   ]
  },
  {
   "cell_type": "code",
   "execution_count": null,
   "id": "ee15e96d",
   "metadata": {},
   "outputs": [],
   "source": [
    "matrix_1 + vector"
   ]
  },
  {
   "cell_type": "code",
   "execution_count": null,
   "id": "7effc80f",
   "metadata": {},
   "outputs": [],
   "source": [
    "matrix_2 + vector.reshape(-1, 1)"
   ]
  },
  {
   "cell_type": "code",
   "execution_count": null,
   "id": "e56fdc3c",
   "metadata": {},
   "outputs": [],
   "source": [
    "(matrix_2.T + vector).T"
   ]
  },
  {
   "cell_type": "markdown",
   "id": "0687315f",
   "metadata": {},
   "source": [
    "### Скалярное произведение"
   ]
  },
  {
   "cell_type": "code",
   "execution_count": null,
   "id": "34a386ba",
   "metadata": {},
   "outputs": [],
   "source": [
    "vector @ np.arange(5, 9)"
   ]
  },
  {
   "cell_type": "code",
   "execution_count": null,
   "id": "b8c46c12",
   "metadata": {},
   "outputs": [],
   "source": [
    "print(vector)\n",
    "print(np.arange(5, 9))\n",
    "print('---------')\n",
    "print(vector * np.arange(5, 9))\n",
    "print((vector * np.arange(5, 9)).sum())"
   ]
  },
  {
   "cell_type": "markdown",
   "id": "9ed6205b",
   "metadata": {},
   "source": [
    "#### Матричное умнжение"
   ]
  },
  {
   "attachments": {
    "image.png": {
     "image/png": "[encoded data removed]"
    }
   },
   "cell_type": "markdown",
   "id": "1cf00c16",
   "metadata": {},
   "source": [
    "![image.png](attachment:image.png)"
   ]
  },
  {
   "cell_type": "code",
   "execution_count": null,
   "id": "cdf3d8dd",
   "metadata": {},
   "outputs": [],
   "source": [
    "matrix_1 @ matrix_2"
   ]
  },
  {
   "cell_type": "code",
   "execution_count": null,
   "id": "0a0ac91a",
   "metadata": {},
   "outputs": [],
   "source": [
    "matrix_1"
   ]
  },
  {
   "cell_type": "code",
   "execution_count": null,
   "id": "1d950f89",
   "metadata": {},
   "outputs": [],
   "source": [
    "matrix_2"
   ]
  },
  {
   "cell_type": "code",
   "execution_count": null,
   "id": "d69e1335",
   "metadata": {},
   "outputs": [],
   "source": [
    "matrix_2 @ matrix_1"
   ]
  },
  {
   "cell_type": "code",
   "execution_count": null,
   "id": "592183fc",
   "metadata": {},
   "outputs": [],
   "source": [
    "matrix_1.dot(matrix_2)"
   ]
  },
  {
   "cell_type": "code",
   "execution_count": null,
   "id": "fa3f899a",
   "metadata": {},
   "outputs": [],
   "source": []
  },
  {
   "cell_type": "code",
   "execution_count": null,
   "id": "4fa884ad",
   "metadata": {},
   "outputs": [],
   "source": []
  },
  {
   "cell_type": "code",
   "execution_count": null,
   "id": "f64cb8d3",
   "metadata": {},
   "outputs": [],
   "source": []
  },
  {
   "cell_type": "markdown",
   "id": "6ba6765b",
   "metadata": {},
   "source": [
    "### Операциями с векторами разных размеров"
   ]
  },
  {
   "cell_type": "code",
   "execution_count": null,
   "id": "0e9986df",
   "metadata": {},
   "outputs": [],
   "source": [
    "vector_1 = np.arange(1, 10).reshape(-1, 1)\n",
    "vector_1"
   ]
  },
  {
   "cell_type": "code",
   "execution_count": null,
   "id": "8637ca50",
   "metadata": {},
   "outputs": [],
   "source": [
    "vector_2 = np.arange(1, 7)\n",
    "vector_2"
   ]
  },
  {
   "cell_type": "code",
   "execution_count": null,
   "id": "67d6acde",
   "metadata": {},
   "outputs": [],
   "source": [
    "vector_1 * vector_2"
   ]
  },
  {
   "cell_type": "code",
   "execution_count": null,
   "id": "2d368eb6",
   "metadata": {},
   "outputs": [],
   "source": [
    "vector_1 @ vector_2.reshape(1, -1)"
   ]
  },
  {
   "cell_type": "code",
   "execution_count": null,
   "id": "45c0a863",
   "metadata": {},
   "outputs": [],
   "source": [
    "vector_1 @ vector_2[None, ...]"
   ]
  },
  {
   "cell_type": "code",
   "execution_count": null,
   "id": "4bfec9d2",
   "metadata": {},
   "outputs": [],
   "source": []
  },
  {
   "cell_type": "markdown",
   "id": "24fd8a88",
   "metadata": {},
   "source": [
    "### Многомерные операции"
   ]
  },
  {
   "cell_type": "code",
   "execution_count": null,
   "id": "0476d1ee",
   "metadata": {},
   "outputs": [],
   "source": [
    "np.random.seed(42)\n",
    "tenzor = np.random.randint(10, size=(2, 4, 4))\n",
    "np.random.seed(4223)\n",
    "matrix = np.random.randint(10, size=(4, 4))\n",
    "tenzor"
   ]
  },
  {
   "cell_type": "code",
   "execution_count": null,
   "id": "7f0818f1",
   "metadata": {},
   "outputs": [],
   "source": [
    "matrix"
   ]
  },
  {
   "cell_type": "code",
   "execution_count": null,
   "id": "74e7dab4",
   "metadata": {},
   "outputs": [],
   "source": [
    "tenzor.shape"
   ]
  },
  {
   "cell_type": "code",
   "execution_count": null,
   "id": "61ebe378",
   "metadata": {},
   "outputs": [],
   "source": [
    "tenzor[0]"
   ]
  },
  {
   "cell_type": "code",
   "execution_count": null,
   "id": "f5fa6bd8",
   "metadata": {},
   "outputs": [],
   "source": [
    "tenzor[1]"
   ]
  },
  {
   "cell_type": "code",
   "execution_count": null,
   "id": "4430bcb9",
   "metadata": {},
   "outputs": [],
   "source": [
    "matrix @ tenzor"
   ]
  },
  {
   "cell_type": "code",
   "execution_count": null,
   "id": "0cd6aab0",
   "metadata": {},
   "outputs": [],
   "source": [
    "matrix @ tenzor[0]"
   ]
  },
  {
   "cell_type": "code",
   "execution_count": null,
   "id": "1a646f31",
   "metadata": {},
   "outputs": [],
   "source": [
    "matrix @ tenzor[1]"
   ]
  },
  {
   "cell_type": "code",
   "execution_count": null,
   "id": "8222eaca",
   "metadata": {},
   "outputs": [],
   "source": [
    "tenzor @ tenzor"
   ]
  },
  {
   "cell_type": "code",
   "execution_count": null,
   "id": "fa9ad0b8",
   "metadata": {},
   "outputs": [],
   "source": [
    "tenzor[0] @ tenzor[0]"
   ]
  },
  {
   "cell_type": "markdown",
   "id": "559c4d83",
   "metadata": {},
   "source": [
    "Это работает не только с матричным умножением, но и с другими операциями"
   ]
  },
  {
   "cell_type": "code",
   "execution_count": null,
   "id": "599aa7b9",
   "metadata": {},
   "outputs": [],
   "source": [
    "tenzor * tenzor[0]"
   ]
  },
  {
   "cell_type": "code",
   "execution_count": null,
   "id": "6337fa09",
   "metadata": {},
   "outputs": [],
   "source": []
  },
  {
   "cell_type": "code",
   "execution_count": null,
   "id": "4594f4f6",
   "metadata": {},
   "outputs": [],
   "source": []
  },
  {
   "cell_type": "code",
   "execution_count": null,
   "id": "af3735a7",
   "metadata": {},
   "outputs": [],
   "source": []
  },
  {
   "cell_type": "code",
   "execution_count": null,
   "id": "608ac747",
   "metadata": {},
   "outputs": [],
   "source": []
  },
  {
   "cell_type": "code",
   "execution_count": null,
   "id": "fd387d50",
   "metadata": {},
   "outputs": [],
   "source": []
  },
  {
   "cell_type": "code",
   "execution_count": null,
   "id": "19ad4829",
   "metadata": {},
   "outputs": [],
   "source": []
  },
  {
   "cell_type": "code",
   "execution_count": null,
   "id": "09122142",
   "metadata": {},
   "outputs": [],
   "source": []
  },
  {
   "cell_type": "code",
   "execution_count": null,
   "id": "ec4d35b8",
   "metadata": {},
   "outputs": [],
   "source": []
  },
  {
   "cell_type": "code",
   "execution_count": null,
   "id": "362cdbf1",
   "metadata": {},
   "outputs": [],
   "source": []
  },
  {
   "cell_type": "markdown",
   "id": "940c151e",
   "metadata": {},
   "source": [
    "# Задания"
   ]
  },
  {
   "cell_type": "markdown",
   "id": "9bf2fe74",
   "metadata": {},
   "source": [
    "#### Описание таблиц лежит [здесь](https://github.com/victorlymarev/pandas/tree/main/tables#%D0%BE%D0%BF%D0%B8%D1%81%D0%B0%D0%BD%D0%B8%D0%B5-%D1%82%D0%B0%D0%B1%D0%BB%D0%B8%D1%86)"
   ]
  },
  {
   "cell_type": "markdown",
   "id": "3053ad26",
   "metadata": {},
   "source": [
    "Некоторые таблицы занимают много памяти, поэтому каждые 5-10 заданий лучше перезапускайте ноутбук.\n",
    "\n",
    "В формулировке некоторых заданий может содержаться вариативность. Если у вас есть сомнения, что требуется в задании, попробуйте решить несколько вариантов. Если вы не понимаете задание, можете написать об этом в комментариях под видео.\n",
    "\n",
    "В большинстве случаев внешний вид итоговой таблицы не определен. Выведите на экран наиболее адекватный вариант. То есть таблицу, из которой можно будет сделать выводы.\n",
    "\n",
    "Курс пока находится в разработке. Вы можете помочь другим людям добавив свое решение [сюда](https://docs.google.com/forms/d/1HYTBz_KfssY3Jps2dC3n0YnEqa6WBb5OIhLo1d32Xzw/edit).\n",
    "\n",
    "Посмотреть решения других людей можно [здесь](https://docs.google.com/spreadsheets/d/1pMDYO-9UneLbPPnEuQ2shig0TOJdQTU-zipifyAnZMk/edit?resourcekey#gid=1998648012)"
   ]
  },
  {
   "cell_type": "markdown",
   "id": "e9f453f2",
   "metadata": {},
   "source": [
    "### Задание 1\n",
    "\n",
    "Перемножьте колонки price (цена) и goods_number (количество товара в чеке). Назавите колонку sum_price"
   ]
  },
  {
   "cell_type": "code",
   "execution_count": null,
   "id": "1afe16dd",
   "metadata": {},
   "outputs": [],
   "source": [
    "# таблица sales - большая, и в некоторых случаях ваш компьютер может не справиться с ее обработкой\n",
    "# поэтому лучше работайте с частью этой таблицы\n",
    "# но если вы хотите попробовать поработать с полной версией таблицы,\n",
    "# можете заменить переменную path_sales_2022 на path_sales внутри функции read_parquet\n",
    "\n",
    "import os\n",
    "import pandas as pd\n",
    "\n",
    "path_sales_2022 = '../tables/sales_2022.parquet' if os.path.exists('../tables/sales_2022.parquet') else 'https://drive.google.com/uc?id=17e7FwXVdsWc2aziK9s5KidIvPcfKt9F5'\n",
    "# path_sales = '../tables/sales.parquet' if os.path.exists('../tables/sales.parquet') else \"https://drive.usercontent.google.com/download?id=15KwSxyM6hpNABGe6_vsrFZvD09VfHFyK&export=download&authuser=1&confirm=t&uuid=115bd48c-cc2c-4f2a-8b42-be5ca6ef6db8&at=APZUnTUVb8nfNANw5wr9Cad7PJ3U:1693327774694\"\n",
    "\n",
    "sales = pd.read_parquet(path_sales_2022)\n",
    "sales.head()"
   ]
  },
  {
   "cell_type": "code",
   "execution_count": null,
   "id": "d12fe654",
   "metadata": {},
   "outputs": [],
   "source": [
    "# Напишите свой код здесь"
   ]
  },
  {
   "cell_type": "markdown",
   "id": "cd74dae1",
   "metadata": {},
   "source": [
    "### Задание 2\n",
    "\n",
    "Посчитайте заработную плату после вычета налога в 13%"
   ]
  },
  {
   "cell_type": "code",
   "execution_count": null,
   "id": "827a5cd6",
   "metadata": {},
   "outputs": [],
   "source": [
    "import os\n",
    "import pandas as pd\n",
    "\n",
    "path_empl = '../tables/employees.parquet' if os.path.exists('../tables/employees.parquet') else 'https://drive.google.com/uc?id=1AARD5-eVlCxoApt5CYZebrC3Cqw42lvj'\n",
    "\n",
    "empl = pd.read_parquet(path_empl)\n",
    "empl.head()"
   ]
  },
  {
   "cell_type": "code",
   "execution_count": null,
   "id": "e395d5ea",
   "metadata": {},
   "outputs": [],
   "source": [
    "# Напишите свой код здесь"
   ]
  },
  {
   "cell_type": "markdown",
   "id": "8bb841f6",
   "metadata": {},
   "source": [
    "### Задание 3\n",
    "\n",
    "Посчитайте размер премии. Для этого создайте новую колонку bonus.\n",
    "\n",
    "Премия выплачивается 31 декабря каждого года. В остальные месяцы премия равна нулю.\n",
    "Для управляющего персонала (mgmt == 1), она равна двум заработным платам, а для всех остальных сотрудников она равна зарплате,\n",
    "умноженной на оценку сотрудника и деленную на 5. Если оценка сотрудника пропущена. Заполните это значение числом 5."
   ]
  },
  {
   "cell_type": "code",
   "execution_count": null,
   "id": "3a4e89b4",
   "metadata": {},
   "outputs": [],
   "source": [
    "import os\n",
    "import pandas as pd\n",
    "\n",
    "path_empl = '../tables/employees.parquet' if os.path.exists('../tables/employees.parquet') else 'https://drive.google.com/uc?id=1AARD5-eVlCxoApt5CYZebrC3Cqw42lvj'\n",
    "\n",
    "empl = pd.read_parquet(path_empl)\n",
    "empl.head()"
   ]
  },
  {
   "cell_type": "code",
   "execution_count": null,
   "id": "76c6f80b",
   "metadata": {},
   "outputs": [],
   "source": [
    "# Напишите свой код здесь"
   ]
  },
  {
   "cell_type": "markdown",
   "id": "92dc2570",
   "metadata": {},
   "source": [
    "### Задание 4\n",
    "\n",
    "Соедините колонки city и adress в одну.\n",
    "\n",
    "Пример того, как должна выглядить колонка: г. Воронеж, Пушкинская пл., д. 76"
   ]
  },
  {
   "cell_type": "code",
   "execution_count": null,
   "id": "78331fc9",
   "metadata": {},
   "outputs": [],
   "source": [
    "import os\n",
    "import pandas as pd\n",
    "\n",
    "path_shops = '../tables/shops.xlsx' if os.path.exists('../tables/shops.xlsx') else 'https://drive.google.com/uc?id=1gfnmceJa3Mc1X06NftTx9G9QfKfprjEB'\n",
    "\n",
    "shops = pd.read_excel(path_shops)\n",
    "shops.head()"
   ]
  },
  {
   "cell_type": "code",
   "execution_count": null,
   "id": "1bff81a5",
   "metadata": {},
   "outputs": [],
   "source": [
    "# Напишите свой код здесь"
   ]
  },
  {
   "cell_type": "markdown",
   "id": "16ce5681",
   "metadata": {},
   "source": [
    "### Задание 5\n",
    "\n",
    "Для каждого школьника создайте 3 поля: первое поле должно содержать информацию о том, что у школьника по какому-то из предметов есть тройка, второе поле, что есть четверка и третье, что есть пятерка. Закодируйет эту информацию в один столбец\n",
    "\n",
    "Способ кодировки можете выбрать сами. Например, 1 может значить, что у человека выполнено 1 условие, а два других нет, 2 - у человека выполено 2 условие а все остальные нет, 3 - у человека выполено 3 условие а все остальные нет, 4 - у человека выполнено перовое и второе условие, а третье нет и так далее"
   ]
  },
  {
   "cell_type": "code",
   "execution_count": null,
   "id": "67873b7c",
   "metadata": {},
   "outputs": [],
   "source": [
    "import os\n",
    "import pandas as pd\n",
    "\n",
    "path_marks = '../tables/школьные оценки.xlsx' if os.path.exists('../tables/школьные оценки.xlsx') else 'https://drive.google.com/uc?id=1v9kRv1I03CXtQ6vFE4mE3hFAty436qAo'\n",
    "marks = pd.read_excel(path_marks)\n",
    "marks.head()"
   ]
  },
  {
   "cell_type": "code",
   "execution_count": null,
   "id": "74253d73",
   "metadata": {},
   "outputs": [],
   "source": [
    "# Напишите свой код здесь"
   ]
  },
  {
   "cell_type": "markdown",
   "id": "96d2c53c",
   "metadata": {},
   "source": [
    "### Задание 6\n",
    "\n",
    "Мы знаем оценки по разным предметам, но не по геграфии. Оценку по ней уще не поставили. Однако у нас есть модель, которая предсказывает вероятность того, что школьник получит оценки 3, 4 и 5.\n",
    "\n",
    "Посчитайте ожидаемую оценку для каждого школьника (взвесте оценки по вероятности). Для этого колонку 3 умножьте на 3, затем прибавьте к ней колонку 4, уноженную на 4, и колонку 5, умноженную на 5. "
   ]
  },
  {
   "cell_type": "code",
   "execution_count": null,
   "id": "7a639881",
   "metadata": {},
   "outputs": [],
   "source": [
    "import os\n",
    "import numpy as np\n",
    "import pandas as pd\n",
    "\n",
    "path_marks = '../tables/школьные оценки.xlsx' if os.path.exists('../tables/школьные оценки.xlsx') else 'https://drive.google.com/uc?id=1v9kRv1I03CXtQ6vFE4mE3hFAty436qAo'\n",
    "marks = pd.read_excel(path_marks)\n",
    "p = np.random.rand(len(marks) * 3).reshape(-1, 3)\n",
    "p = p / p.sum(1).reshape(-1, 1)\n",
    "\n",
    "np.random.seed(243)\n",
    "probs = marks[['ФИО', 'Пол']].join(pd.DataFrame(p, columns=[3, 4, 5]))\n",
    "probs.head()"
   ]
  },
  {
   "cell_type": "code",
   "execution_count": null,
   "id": "a711c744",
   "metadata": {},
   "outputs": [],
   "source": [
    "# Напишите свой код здесь"
   ]
  },
  {
   "cell_type": "markdown",
   "id": "223a95d9",
   "metadata": {},
   "source": [
    "### Задание 6\n",
    "\n",
    "В ячейке ниже создается 2 матрицы. Посмотрите их на их размерность при помощи атрибута shape. После этого попробуйте их перемножить: сначала поэлементно, а затем матрично. Однако во втором случае одну из матриц придется транспонировать. Посчитайете 4 варианта: x<sup>T</sup>y, y<sup>T</sup>x, xy<sup>T</sup>, y<sup>T</sup>x"
   ]
  },
  {
   "cell_type": "code",
   "execution_count": null,
   "id": "0ff60a55",
   "metadata": {},
   "outputs": [],
   "source": [
    "import numpy as np\n",
    "np.random.seed(455432)\n",
    "x, y = np.random.normal(0, 1, size=(2, 3, 50))"
   ]
  },
  {
   "cell_type": "code",
   "execution_count": null,
   "id": "f527d60e",
   "metadata": {},
   "outputs": [],
   "source": [
    "# Напишите свой код здесь"
   ]
  },
  {
   "cell_type": "markdown",
   "id": "98f67d99",
   "metadata": {},
   "source": [
    "### Задание 7\n",
    "\n",
    "Создайте 2 вектора одинакового размера и найдите между ними скалярное произведение"
   ]
  },
  {
   "cell_type": "code",
   "execution_count": null,
   "id": "76f28f41",
   "metadata": {},
   "outputs": [],
   "source": [
    "import numpy as np"
   ]
  },
  {
   "cell_type": "code",
   "execution_count": null,
   "id": "6c6b73c2",
   "metadata": {},
   "outputs": [],
   "source": [
    "# Напишите свой код здесь"
   ]
  },
  {
   "cell_type": "code",
   "execution_count": null,
   "id": "123ab318",
   "metadata": {},
   "outputs": [],
   "source": []
  },
  {
   "cell_type": "code",
   "execution_count": null,
   "id": "655c27f1",
   "metadata": {},
   "outputs": [],
   "source": []
  },
  {
   "cell_type": "code",
   "execution_count": null,
   "id": "a222acbf",
   "metadata": {},
   "outputs": [],
   "source": []
  }
 ],
 "metadata": {
  "kernelspec": {
   "display_name": "Python 3 (ipykernel)",
   "language": "python",
   "name": "python3"
  },
  "language_info": {
   "codemirror_mode": {
    "name": "ipython",
    "version": 3
   },
   "file_extension": ".py",
   "mimetype": "text/x-python",
   "name": "python",
   "nbconvert_exporter": "python",
   "pygments_lexer": "ipython3",
   "version": "3.11.5"
  }
 },
 "nbformat": 4,
 "nbformat_minor": 5
}
