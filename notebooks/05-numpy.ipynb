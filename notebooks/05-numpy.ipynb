{
 "cells": [
  {
   "cell_type": "markdown",
   "id": "e6b8cf4f",
   "metadata": {},
   "source": [
    "<a target=\"_blank\" href=\"https://colab.research.google.com/github/victorlymarev/pandas/blob/main/notebooks/05-numpy.ipynb\">\n",
    "  <img src=\"https://colab.research.google.com/assets/colab-badge.svg\" alt=\"Open In Colab\"/>\n",
    "</a>"
   ]
  },
  {
   "cell_type": "markdown",
   "id": "558708e9",
   "metadata": {},
   "source": [
    "# Введение в numpy\n",
    "#### [Ссылка на видео](https://youtu.be/lir2QOuinQ8)"
   ]
  },
  {
   "cell_type": "code",
   "execution_count": null,
   "id": "d07c3d7b",
   "metadata": {},
   "outputs": [],
   "source": [
    "import pandas as pd\n",
    "import numpy as np"
   ]
  },
  {
   "cell_type": "markdown",
   "id": "caf4f1b9",
   "metadata": {},
   "source": [
    "#### Вектор - упорядоченный набор чисел"
   ]
  },
  {
   "cell_type": "code",
   "execution_count": null,
   "id": "0fb5a2e5",
   "metadata": {},
   "outputs": [],
   "source": [
    "[1, 2, 3, 4]"
   ]
  },
  {
   "cell_type": "code",
   "execution_count": null,
   "id": "39f87509",
   "metadata": {},
   "outputs": [],
   "source": [
    "[1, 3, 2, 4]"
   ]
  },
  {
   "cell_type": "markdown",
   "id": "998c027f",
   "metadata": {},
   "source": [
    "#### Матрица - набор векторов"
   ]
  },
  {
   "cell_type": "code",
   "execution_count": null,
   "id": "ae10cf6d",
   "metadata": {
    "scrolled": true
   },
   "outputs": [],
   "source": [
    "[\n",
    "    [1, 2, 3],\n",
    "    [4, 5, 6],\n",
    "    [7, 8, 9]\n",
    "]"
   ]
  },
  {
   "cell_type": "markdown",
   "id": "7afe2743",
   "metadata": {},
   "source": [
    "#### Вектор - столбец"
   ]
  },
  {
   "cell_type": "code",
   "execution_count": null,
   "id": "66571fbb",
   "metadata": {},
   "outputs": [],
   "source": [
    "[\n",
    "    [1],\n",
    "    [2],\n",
    "    [3],\n",
    "    [4]\n",
    "]"
   ]
  },
  {
   "cell_type": "markdown",
   "id": "72c2bd9e",
   "metadata": {},
   "source": [
    "#### Однако для списков не заданы векторные операции"
   ]
  },
  {
   "cell_type": "code",
   "execution_count": null,
   "id": "418c08e1",
   "metadata": {},
   "outputs": [],
   "source": [
    "[1, 2, 3, 4] * 2"
   ]
  },
  {
   "cell_type": "markdown",
   "id": "575f3181",
   "metadata": {},
   "source": [
    "### np.array\n",
    "Функция превращает список в многомерный массив"
   ]
  },
  {
   "cell_type": "code",
   "execution_count": null,
   "id": "69b7fa94",
   "metadata": {},
   "outputs": [],
   "source": [
    "np.array([1, 2, 3, 4])"
   ]
  },
  {
   "cell_type": "code",
   "execution_count": null,
   "id": "26749430",
   "metadata": {},
   "outputs": [],
   "source": [
    "type(np.array([1, 2, 3, 4]))"
   ]
  },
  {
   "cell_type": "markdown",
   "id": "a01aea9f",
   "metadata": {},
   "source": [
    "Векторы можно умножать"
   ]
  },
  {
   "cell_type": "code",
   "execution_count": null,
   "id": "6ce6ede0",
   "metadata": {},
   "outputs": [],
   "source": [
    "np.array([1, 2, 3, 4]) * 2"
   ]
  },
  {
   "cell_type": "code",
   "execution_count": null,
   "id": "d58c058d",
   "metadata": {},
   "outputs": [],
   "source": [
    "np.array([\n",
    "    [1, 2, 3],\n",
    "    [4, 5, 6], \n",
    "    [7, 8, 9]\n",
    "])"
   ]
  },
  {
   "cell_type": "code",
   "execution_count": null,
   "id": "67f85a49",
   "metadata": {},
   "outputs": [],
   "source": [
    "type(np.array([\n",
    "    [1, 2, 3],\n",
    "    [4, 5, 6], \n",
    "    [7, 8, 9]\n",
    "]))"
   ]
  },
  {
   "cell_type": "code",
   "execution_count": null,
   "id": "28a8a438",
   "metadata": {},
   "outputs": [],
   "source": [
    "pd.DataFrame([\n",
    "    [1, 2, 3],\n",
    "    [4, 5, 6], \n",
    "    [7, 8, 9]\n",
    "], columns=['Колонка 1', 'Колонка 2', 'Колонка 3'])"
   ]
  },
  {
   "cell_type": "markdown",
   "id": "314d5f82",
   "metadata": {},
   "source": [
    "#### У матриц всего один тип на весь объект"
   ]
  },
  {
   "cell_type": "code",
   "execution_count": null,
   "id": "b3af98e8",
   "metadata": {},
   "outputs": [],
   "source": [
    "pd.DataFrame([\n",
    "    [1, 2, 3],\n",
    "    [4, 5, 6], \n",
    "    [7, 8, 9]\n",
    "], columns=['Колонка 1', 'Колонка 2', 'Колонка 3']).to_numpy()"
   ]
  },
  {
   "cell_type": "code",
   "execution_count": null,
   "id": "62f48636",
   "metadata": {},
   "outputs": [],
   "source": [
    "pd.DataFrame([\n",
    "    [1, 2, 3],\n",
    "    [4, 5, 6], \n",
    "    [7, 8, 9]\n",
    "], columns=['Колонка 1', 'Колонка 2', 'Колонка 3']).info()"
   ]
  },
  {
   "cell_type": "markdown",
   "id": "b08c24fb",
   "metadata": {},
   "source": [
    "#### Чтобы из таблицы и ли колонки сделать многомерный массив, можно воспользоваться методом to_numpy"
   ]
  },
  {
   "cell_type": "code",
   "execution_count": null,
   "id": "0d993aa1",
   "metadata": {},
   "outputs": [],
   "source": [
    "pd.DataFrame([\n",
    "    [1, 2, 3],\n",
    "    [4, 5, 6], \n",
    "    [7, 8, 9]\n",
    "], columns=['Колонка 1', 'Колонка 2', 'Колонка 3']).to_numpy()"
   ]
  },
  {
   "cell_type": "code",
   "execution_count": null,
   "id": "45dafdc7",
   "metadata": {},
   "outputs": [],
   "source": [
    "pd.DataFrame([\n",
    "    [1, 2, 3],\n",
    "    [4, 5, '6'], \n",
    "    [7, 8, 9]\n",
    "], columns=['Колонка 1', 'Колонка 2', 'Колонка 3']).to_numpy()"
   ]
  },
  {
   "cell_type": "code",
   "execution_count": null,
   "id": "822403f7",
   "metadata": {},
   "outputs": [],
   "source": [
    "pd.DataFrame([\n",
    "    [1, 2, 3],\n",
    "    [4, 5, '6'], \n",
    "    [7, 8, 9]\n",
    "], columns=['Колонка 1', 'Колонка 2', 'Колонка 3']).info()"
   ]
  },
  {
   "cell_type": "code",
   "execution_count": null,
   "id": "e346be19",
   "metadata": {},
   "outputs": [],
   "source": [
    "pd.DataFrame([\n",
    "    [1, 2, 3],\n",
    "    [4, 5, 6], \n",
    "    [7, 8, 9]\n",
    "], columns=['Колонка 1', 'Колонка 2', 'Колонка 3'])"
   ]
  },
  {
   "cell_type": "code",
   "execution_count": null,
   "id": "138c2bbe",
   "metadata": {},
   "outputs": [],
   "source": [
    "pd.DataFrame([\n",
    "    [1, 2, 3],\n",
    "    [4, 5, 6], \n",
    "    [7, 8, 9]\n",
    "], columns=['Колонка 1', 'Колонка 2', 'Колонка 3']).T"
   ]
  },
  {
   "cell_type": "code",
   "execution_count": null,
   "id": "52689aee",
   "metadata": {},
   "outputs": [],
   "source": [
    "np.array([\n",
    "    [1, 2, 3],\n",
    "    [4, 5, 6], \n",
    "    [7, 8, 9]\n",
    "]).T"
   ]
  },
  {
   "cell_type": "markdown",
   "id": "66a32deb",
   "metadata": {},
   "source": [
    "### reshape\n",
    "\n",
    "Изменяет размерность массива"
   ]
  },
  {
   "cell_type": "code",
   "execution_count": null,
   "id": "352abab3",
   "metadata": {},
   "outputs": [],
   "source": [
    "vector = np.arange(20)\n",
    "vector"
   ]
  },
  {
   "cell_type": "code",
   "execution_count": null,
   "id": "166f91ef",
   "metadata": {},
   "outputs": [],
   "source": [
    "vector.shape"
   ]
  },
  {
   "cell_type": "markdown",
   "id": "5c920d0e",
   "metadata": {},
   "source": [
    "Делаем из вектора матрицу, в которой 5 строк и 4 столбца"
   ]
  },
  {
   "cell_type": "code",
   "execution_count": null,
   "id": "afcb01fc",
   "metadata": {},
   "outputs": [],
   "source": [
    "vector.reshape(5, 4)"
   ]
  },
  {
   "cell_type": "code",
   "execution_count": null,
   "id": "37cbbb8c",
   "metadata": {},
   "outputs": [],
   "source": [
    "vector.reshape(5, 4).reshape(2, 10)"
   ]
  },
  {
   "cell_type": "markdown",
   "id": "80f6ec87",
   "metadata": {},
   "source": [
    "#### Вместо одного из значений можно указывать -1"
   ]
  },
  {
   "cell_type": "code",
   "execution_count": null,
   "id": "abd694f4",
   "metadata": {},
   "outputs": [],
   "source": [
    "vector.reshape(5, -1)"
   ]
  },
  {
   "cell_type": "code",
   "execution_count": null,
   "id": "66dab116",
   "metadata": {},
   "outputs": [],
   "source": [
    "vector.reshape(5, -1).reshape(-1)"
   ]
  },
  {
   "cell_type": "markdown",
   "id": "033f12bc",
   "metadata": {},
   "source": [
    "Вытягиваем вектор-строку в вектор-столбец"
   ]
  },
  {
   "cell_type": "code",
   "execution_count": null,
   "id": "8a44431b",
   "metadata": {},
   "outputs": [],
   "source": [
    "vector.reshape(-1, 1)"
   ]
  },
  {
   "cell_type": "code",
   "execution_count": null,
   "id": "43c26905",
   "metadata": {},
   "outputs": [],
   "source": []
  },
  {
   "cell_type": "code",
   "execution_count": null,
   "id": "1532d0b1",
   "metadata": {},
   "outputs": [],
   "source": []
  },
  {
   "cell_type": "code",
   "execution_count": null,
   "id": "969fb188",
   "metadata": {},
   "outputs": [],
   "source": []
  },
  {
   "cell_type": "code",
   "execution_count": null,
   "id": "abc908fc",
   "metadata": {},
   "outputs": [],
   "source": []
  },
  {
   "cell_type": "code",
   "execution_count": null,
   "id": "1cfd8791",
   "metadata": {},
   "outputs": [],
   "source": []
  },
  {
   "cell_type": "code",
   "execution_count": null,
   "id": "99810a55",
   "metadata": {},
   "outputs": [],
   "source": []
  },
  {
   "cell_type": "code",
   "execution_count": null,
   "id": "912bd1b5",
   "metadata": {},
   "outputs": [],
   "source": []
  },
  {
   "cell_type": "code",
   "execution_count": null,
   "id": "f49044f8",
   "metadata": {},
   "outputs": [],
   "source": []
  },
  {
   "cell_type": "code",
   "execution_count": null,
   "id": "eb08a0a1",
   "metadata": {},
   "outputs": [],
   "source": []
  },
  {
   "cell_type": "code",
   "execution_count": null,
   "id": "d4b819cb",
   "metadata": {},
   "outputs": [],
   "source": []
  },
  {
   "cell_type": "markdown",
   "id": "3df625f2",
   "metadata": {},
   "source": [
    "# Задания"
   ]
  },
  {
   "cell_type": "markdown",
   "id": "c1aea765",
   "metadata": {},
   "source": [
    "#### Описание таблиц лежит [здесь](https://github.com/victorlymarev/pandas/tree/main/tables#%D0%BE%D0%BF%D0%B8%D1%81%D0%B0%D0%BD%D0%B8%D0%B5-%D1%82%D0%B0%D0%B1%D0%BB%D0%B8%D1%86)"
   ]
  },
  {
   "cell_type": "markdown",
   "id": "bbb36241",
   "metadata": {},
   "source": [
    "Некоторые таблицы занимают много памяти, поэтому каждые 5-10 заданий лучше перезапускайте ноутбук.\n",
    "\n",
    "В формулировке некоторых заданий может содержаться вариативность. Если у вас есть сомнения, что требуется в задании, попробуйте решить несколько вариантов. Если вы не понимаете задание, можете написать об этом в комментариях под видео.\n",
    "\n",
    "В большинстве случаев внешний вид итоговой таблицы не определен. Выведите на экран наиболее адекватный вариант. То есть таблицу, из которой можно будет сделать выводы.\n",
    "\n",
    "Курс пока находится в разработке. Вы можете помочь другим людям добавив свое решение [сюда](https://docs.google.com/forms/d/1HYTBz_KfssY3Jps2dC3n0YnEqa6WBb5OIhLo1d32Xzw/edit).\n",
    "\n",
    "Посмотреть решения других людей можно [здесь](https://docs.google.com/spreadsheets/d/1pMDYO-9UneLbPPnEuQ2shig0TOJdQTU-zipifyAnZMk/edit?resourcekey#gid=1998648012)"
   ]
  },
  {
   "cell_type": "markdown",
   "id": "1662b51e",
   "metadata": {},
   "source": [
    "### Задание 1\n",
    "\n",
    "В переменной marks_6d_corr лежит некоторая матрица. Посмотрите на ее размер. Создайте на ее основе таблицу. В индексе и в шапке таблицы должен лежать список:\n",
    "\n",
    "['Математика', 'Русский язык', 'Литература', 'Физика', 'История', 'Физическая культура']\n",
    "\n",
    "Это можно сделать передав в pd.DataFrame матрицу. Чтобы добавить названия колонок используйте параметр columns. Чтобы добавить названия индекса используйте парметр index"
   ]
  },
  {
   "cell_type": "code",
   "execution_count": null,
   "id": "2d5ccd59",
   "metadata": {},
   "outputs": [],
   "source": [
    "import os\n",
    "import pandas as pd\n",
    "path_marks_6d = '../tables/оценки 6Д.csv' if os.path.exists('../tables/оценки 6Д.csv') else 'https://drive.google.com/uc?id=1aMvwur2zrISbVPRo86qWgbHPEpw5km0n'\n",
    "marks_6d_corr = pd.read_csv(path_marks_6d).iloc[:, 2:].corr().to_numpy()\n",
    "marks_6d_corr"
   ]
  },
  {
   "cell_type": "code",
   "execution_count": null,
   "id": "3759f2b7",
   "metadata": {},
   "outputs": [],
   "source": [
    "# Напишите свой код здесь"
   ]
  },
  {
   "cell_type": "markdown",
   "id": "bfa8b5a9",
   "metadata": {},
   "source": [
    "### Задание 2\n",
    "\n",
    "Из списка ['Вася', 'Лена', 'Антон', 'Настя'] создайте объект ndarray"
   ]
  },
  {
   "cell_type": "code",
   "execution_count": null,
   "id": "b9585da2",
   "metadata": {},
   "outputs": [],
   "source": [
    "import numpy as np\n",
    "lst = ['Вася', 'Лена', 'Антон', 'Настя']\n",
    "\n",
    "# Напишите свой код здесь"
   ]
  },
  {
   "cell_type": "markdown",
   "id": "4f24fbb5",
   "metadata": {},
   "source": [
    "### Задание 3\n",
    "Создайте вектор, содержащий значения от 0 до 80. На его основе создайте матрицу размером 8 на 10 (8 строк и 10 колонок). Затем транспонируйте таблицу. После всего этого разверните матрицу в вектор-стоблец "
   ]
  },
  {
   "cell_type": "code",
   "execution_count": null,
   "id": "7c48348a",
   "metadata": {},
   "outputs": [],
   "source": [
    "import numpy as np\n",
    "\n",
    "# Напишите свой код здесь"
   ]
  },
  {
   "cell_type": "markdown",
   "id": "8ab3f683",
   "metadata": {},
   "source": [
    "### Задание 4\n",
    "\n",
    "Матрицы бывают самыми разными. \n",
    "\n",
    "Функция __np.eye__ создает матрицу в которой, по диагонале располагаются единицы, а во всех других точках местах нули. Такая матрица называется единичной.\n",
    "\n",
    "np.eye(n) - создает матрицу размером n x n \n",
    "\n",
    "np.eye(n, m) - создает матрицу размером n x m\n",
    "\n",
    "Создайте единичную матрицу размером 8 х 8"
   ]
  },
  {
   "cell_type": "code",
   "execution_count": null,
   "id": "48007ca5",
   "metadata": {},
   "outputs": [],
   "source": [
    "import numpy as np\n",
    "\n",
    "# Напишите свой код здесь"
   ]
  },
  {
   "cell_type": "markdown",
   "id": "64f9b1b7",
   "metadata": {},
   "source": [
    "### Задание 5\n",
    "\n",
    "Функция __np.ones__ создает вектор матрицу из единиц\n",
    "\n",
    "np.ones(n) - создает вектор из единиц, длинною n\n",
    "\n",
    "np.ones((n, m)) - создает матрицу из единиц размером n x m (обратите внимание, что внутрь передается кортеж)\n",
    "\n",
    "Создайте матрицу из единиц размеров 7 на 8"
   ]
  },
  {
   "cell_type": "code",
   "execution_count": null,
   "id": "e4bdbfb5",
   "metadata": {},
   "outputs": [],
   "source": [
    "import numpy as np\n",
    "\n",
    "# Напишите свой код здесь"
   ]
  },
  {
   "cell_type": "markdown",
   "id": "d2d8db69",
   "metadata": {},
   "source": [
    "### Задание 6\n",
    "\n",
    "Функция __np.zeros__ создает матрицу из нулей и работает точно так же как и функция np.ones\n",
    "\n",
    "np.zeros(n) - создает вектор из нулей, длинною n\n",
    "\n",
    "np.zeros((n, m)) - создает матрицу из нулей размером n x m (обратите внимание, что внутрь передается кортеж)\n",
    "\n",
    "Создайте вектор нулей длинны 25"
   ]
  },
  {
   "cell_type": "code",
   "execution_count": null,
   "id": "86eacdc2",
   "metadata": {},
   "outputs": [],
   "source": [
    "import numpy as np\n",
    "\n",
    "# Напишите свой код здесь"
   ]
  },
  {
   "cell_type": "markdown",
   "id": "2bd4c21c",
   "metadata": {},
   "source": [
    "### Задание 7\n",
    "\n",
    "Функция __np.full__ позволяет передавать объект, который будет лежать внутри вектора или матрицы. Синтаксис у функции похож на предыдущие методы\n",
    "\n",
    "np.zeros(n, value) - создает вектор из value, длинною n\n",
    "\n",
    "np.zeros((n, m), value) - создает матрицу из value размером n x m (обратите внимание, что внутрь передается кортеж)\n",
    "\n",
    "Создайте пустую матрицу размером 8 на 9 (то есть внутри матрицы должен лежать None или np.nan)"
   ]
  },
  {
   "cell_type": "code",
   "execution_count": null,
   "id": "c98e256b",
   "metadata": {},
   "outputs": [],
   "source": [
    "import numpy as np\n",
    "\n",
    "# Напишите свой код здесь"
   ]
  },
  {
   "cell_type": "markdown",
   "id": "c845c4a2",
   "metadata": {},
   "source": [
    "### Задание 8\n",
    "\n",
    "Для некоторых функций, рассмотренных выше существуют очень похожие функции, имеющие в своем составе суффикс _like.\n",
    "\n",
    "ones_like, zeros_like, full_like\n",
    "\n",
    "На вход в качестве первого аргумента вместо размера эти функции принимают другой массив. После чего функция генерирует соответсвтующую матрицу"
   ]
  },
  {
   "cell_type": "code",
   "execution_count": null,
   "id": "a24d95d8",
   "metadata": {},
   "outputs": [],
   "source": [
    "import numpy as np\n",
    "\n",
    "m = np.arange(20).reshape(4, 5)\n",
    "m"
   ]
  },
  {
   "cell_type": "code",
   "execution_count": null,
   "id": "07337061",
   "metadata": {},
   "outputs": [],
   "source": [
    "np.zeros_like(m)"
   ]
  },
  {
   "cell_type": "markdown",
   "id": "f9ffebd8",
   "metadata": {},
   "source": [
    "np.zeros_like(m) - это то же самое, что и"
   ]
  },
  {
   "cell_type": "code",
   "execution_count": null,
   "id": "b51ecb3b",
   "metadata": {},
   "outputs": [],
   "source": [
    "np.zeros(m.shape)"
   ]
  },
  {
   "cell_type": "markdown",
   "id": "5088c214",
   "metadata": {},
   "source": [
    "На основе матрицы m создайте матрицу из единиц того же размера"
   ]
  },
  {
   "cell_type": "code",
   "execution_count": null,
   "id": "b847eed2",
   "metadata": {},
   "outputs": [],
   "source": [
    "# Напишите свой код здесь"
   ]
  },
  {
   "cell_type": "markdown",
   "id": "e7402ac1",
   "metadata": {},
   "source": [
    "### Задание 9\n",
    "\n",
    "Функция __np.triu__ обнуляет элементы матрицы ниже диагонали\n",
    "\n",
    "Функция __np.tril__ обнуляет элементы матрицы выше диагонали"
   ]
  },
  {
   "cell_type": "code",
   "execution_count": null,
   "id": "4ef8bb8f",
   "metadata": {},
   "outputs": [],
   "source": [
    "import numpy as np\n",
    "\n",
    "m = np.arange(1, 37).reshape(6, -1)\n",
    "m"
   ]
  },
  {
   "cell_type": "code",
   "execution_count": null,
   "id": "a083328b",
   "metadata": {},
   "outputs": [],
   "source": [
    "np.triu(m)"
   ]
  },
  {
   "cell_type": "code",
   "execution_count": null,
   "id": "d9a2debd",
   "metadata": {},
   "outputs": [],
   "source": [
    "np.tril(m)"
   ]
  },
  {
   "cell_type": "markdown",
   "id": "43348dd9",
   "metadata": {},
   "source": [
    "На основе матрицы x создайте треугольную матрицу с нулями под диагонялтными элементами"
   ]
  },
  {
   "cell_type": "code",
   "execution_count": null,
   "id": "38aed951",
   "metadata": {},
   "outputs": [],
   "source": [
    "x = np.arange(1, 43)\n",
    "x"
   ]
  },
  {
   "cell_type": "code",
   "execution_count": null,
   "id": "8bc6e2f4",
   "metadata": {},
   "outputs": [],
   "source": [
    "# Напишите свой код здесь"
   ]
  },
  {
   "cell_type": "markdown",
   "id": "e25efc2e",
   "metadata": {},
   "source": [
    "### Задание 10\n",
    "\n",
    "Создайте матрицу 5 на 5, в которой по диагонали и ниже будут наны (пропуски), а выше строять нули"
   ]
  },
  {
   "cell_type": "code",
   "execution_count": null,
   "id": "988238d5",
   "metadata": {},
   "outputs": [],
   "source": [
    "import numpy as np\n",
    "\n",
    "# Напишите свой код здесь"
   ]
  },
  {
   "cell_type": "markdown",
   "id": "64f2194c",
   "metadata": {},
   "source": [
    "### Задание 11\n",
    "\n",
    "Создайте матрицу 5 на 5, в которой по диагонали и выше будут наны (пропуски), а выше строять нули"
   ]
  },
  {
   "cell_type": "code",
   "execution_count": null,
   "id": "933a80e3",
   "metadata": {},
   "outputs": [],
   "source": [
    "import numpy as np\n",
    "\n",
    "# Напишите свой код здесь"
   ]
  },
  {
   "cell_type": "markdown",
   "id": "7bdb2c78",
   "metadata": {},
   "source": [
    "### Задание 12\n",
    "\n",
    "При помощи функции np.repeat можно создать матрицу из повторяющихся элементов.\n",
    "Внутри функции сначала надо указать элемент, который вы хотите повторить, а затем число повторений."
   ]
  },
  {
   "cell_type": "code",
   "execution_count": null,
   "id": "78ecdae5",
   "metadata": {},
   "outputs": [],
   "source": [
    "import numpy as np\n",
    "\n",
    "np.repeat(2, 30)"
   ]
  },
  {
   "cell_type": "code",
   "execution_count": null,
   "id": "40126ee4",
   "metadata": {},
   "outputs": [],
   "source": [
    "np.repeat([1, 2, 3], 10)"
   ]
  },
  {
   "cell_type": "code",
   "execution_count": null,
   "id": "7da35eca",
   "metadata": {},
   "outputs": [],
   "source": [
    "np.repeat([10, 20, 30], [1, 2, 3])"
   ]
  },
  {
   "cell_type": "markdown",
   "id": "7c12aad2",
   "metadata": {},
   "source": [
    "Создайте вектор, в котором сначала 100 раз будет идти 1, затем 99 раз будет идти 2, после чего 98 раз будет идти 3 и так далее. Последний элемент 100 должен идти 1 раз. Посчитайте длинну этого массива"
   ]
  },
  {
   "cell_type": "code",
   "execution_count": null,
   "id": "ca98db12",
   "metadata": {},
   "outputs": [],
   "source": [
    "# Напишите свой код здесь"
   ]
  },
  {
   "cell_type": "markdown",
   "id": "ef9c9453",
   "metadata": {},
   "source": [
    "### Задание 13\n",
    "\n",
    "Помимо прочего в нампае есть возможность создавать матрицы из случайных чисел.\n",
    "\n",
    "Например, функция np.random.rand() генерирует случайные числа на интервале от нуля до единицы. Внутрь функции передаются размерности массива, который вы хотите получить"
   ]
  },
  {
   "cell_type": "code",
   "execution_count": null,
   "id": "aea85fd9",
   "metadata": {},
   "outputs": [],
   "source": [
    "# Когда используете случайные числа, не забывайте фиксировать seed\n",
    "# np.random.seed(6)\n",
    "np.random.rand(5)"
   ]
  },
  {
   "cell_type": "code",
   "execution_count": null,
   "id": "9bc03b05",
   "metadata": {},
   "outputs": [],
   "source": [
    "# Когда используете случайные числа, не забывайте фиксировать seed\n",
    "# np.random.seed(9)\n",
    "np.random.rand(2, 3)"
   ]
  },
  {
   "cell_type": "markdown",
   "id": "0359a713",
   "metadata": {},
   "source": [
    "Создайте матрицу из случайных чисел размером 5 на 8 (5 строк и 8 стобцов)"
   ]
  },
  {
   "cell_type": "code",
   "execution_count": null,
   "id": "284d225e",
   "metadata": {},
   "outputs": [],
   "source": [
    "# Напишите свой код здесь"
   ]
  },
  {
   "cell_type": "markdown",
   "id": "c7783d95",
   "metadata": {},
   "source": [
    "Помимо этого, можно генерировать массив, состоящий из случайных целых чисел.\n",
    "\n",
    "Для этого можно использовать функцию np.random.randint(минимальное число, максимальное число (невключительно), размерность массива (целое число или кортеж))"
   ]
  },
  {
   "cell_type": "code",
   "execution_count": null,
   "id": "83847d99",
   "metadata": {},
   "outputs": [],
   "source": [
    "# Когда используете случайные числа, не забывайте фиксировать seed\n",
    "# np.random.seed(90)\n",
    "np.random.randint(0, 10, (3, 8))"
   ]
  },
  {
   "cell_type": "markdown",
   "id": "c2814887",
   "metadata": {},
   "source": [
    "Создайте массив из случайных целых чисел длиною 80"
   ]
  },
  {
   "cell_type": "code",
   "execution_count": null,
   "id": "1c9b5e87",
   "metadata": {},
   "outputs": [],
   "source": [
    "# Напишите свой код здесь"
   ]
  },
  {
   "cell_type": "markdown",
   "id": "d2603d34",
   "metadata": {},
   "source": [
    "Помимо этого есть еще много дургих функций, которые моделируют различные распределения"
   ]
  },
  {
   "cell_type": "markdown",
   "id": "b53fbee4",
   "metadata": {},
   "source": [
    "### Задание 14\n",
    "\n",
    "Многомерные массивы могут быть не только одномерными (векторы) и двумерными (матрицы), но и трехмерными и четырехмерными. Например, большую часть видимого спектра можно представить в виде комбинации красного, зеленого и синего цветов. Поэтому картинки часто представляют в виде трех матриц. Каждая матрица отвечает за яркость соответствующего цвета."
   ]
  },
  {
   "cell_type": "code",
   "execution_count": null,
   "id": "1fe7ecef",
   "metadata": {},
   "outputs": [],
   "source": [
    "import numpy as np\n",
    "import os\n",
    "import pandas as pd\n",
    "import matplotlib.pyplot as plt\n",
    "\n",
    "path_array = '../tables/hse.parquet' if os.path.exists('../tables/hse.parquet') else 'https://drive.google.com/uc?id=1rexnf15Sm3WMSqZUi-AH1flul4P_u7cx'\n",
    "\n",
    "array = pd.read_parquet(path_array).to_numpy().reshape(-1)"
   ]
  },
  {
   "cell_type": "markdown",
   "id": "cb549a72",
   "metadata": {},
   "source": [
    "В переменной array лежит картинка 2500 на 1663. Приведите вектор к трем матрицам 1663 (количество строк) на 2500 (количество столбцов). Сначала укажите количество строк, затем количество столбцов, после чего укажите количество каналов"
   ]
  },
  {
   "cell_type": "code",
   "execution_count": null,
   "id": "803afbfd",
   "metadata": {},
   "outputs": [],
   "source": [
    "# Напишите свой код здесь"
   ]
  },
  {
   "cell_type": "markdown",
   "id": "a71dc7dd",
   "metadata": {},
   "source": [
    "Передайте полученный массив в функцию plt.imshow"
   ]
  },
  {
   "cell_type": "code",
   "execution_count": null,
   "id": "355dd194",
   "metadata": {},
   "outputs": [],
   "source": [
    "# Напишите свой код здесь\n",
    "\n",
    "plt.imshow()"
   ]
  },
  {
   "cell_type": "markdown",
   "id": "70f3332d",
   "metadata": {},
   "source": [
    "### Задание 15\n",
    "\n",
    "Иногда возникает необходимость матрице или вектору добавить дополнительную разменость. Сделать это можно различными способами, например, при помощи метода reshape"
   ]
  },
  {
   "cell_type": "code",
   "execution_count": null,
   "id": "10d7464b",
   "metadata": {},
   "outputs": [],
   "source": [
    "import numpy as np\n",
    "np.arange(5)"
   ]
  },
  {
   "cell_type": "code",
   "execution_count": null,
   "id": "ca9ded79",
   "metadata": {},
   "outputs": [],
   "source": [
    "np.arange(5).reshape(1, -1)"
   ]
  },
  {
   "cell_type": "markdown",
   "id": "1000ac07",
   "metadata": {},
   "source": [
    "Посмотрите на размерности первого и второго векторов"
   ]
  },
  {
   "cell_type": "code",
   "execution_count": null,
   "id": "d6c9ae2e",
   "metadata": {},
   "outputs": [],
   "source": [
    "# Напишите свой код здесь"
   ]
  },
  {
   "cell_type": "markdown",
   "id": "9eef412a",
   "metadata": {},
   "source": [
    "Добавьте дополнительную размерность вектру"
   ]
  },
  {
   "cell_type": "code",
   "execution_count": null,
   "id": "3bee36b5",
   "metadata": {},
   "outputs": [],
   "source": [
    "np.random.seed(50)\n",
    "vec = np.random.normal(0, 1, 10)\n",
    "vec"
   ]
  },
  {
   "cell_type": "code",
   "execution_count": null,
   "id": "93be64d9",
   "metadata": {},
   "outputs": [],
   "source": [
    "# Напишите свой код здесь"
   ]
  },
  {
   "cell_type": "markdown",
   "id": "5382c5d7",
   "metadata": {},
   "source": [
    "Однако если у вас большая размерность, то вам придется переписывать прошлые размерности. Чтобы этого избежать можно использовать квадратные скобки"
   ]
  },
  {
   "cell_type": "code",
   "execution_count": null,
   "id": "10063328",
   "metadata": {},
   "outputs": [],
   "source": [
    "vec = np.random.rand(3, 4)\n",
    "vec.shape"
   ]
  },
  {
   "cell_type": "code",
   "execution_count": null,
   "id": "30fa0f74",
   "metadata": {},
   "outputs": [],
   "source": [
    "# Добавляем размерность в начало (как мы делали в прошлый раз)\n",
    "vec[None, ...].shape"
   ]
  },
  {
   "cell_type": "code",
   "execution_count": null,
   "id": "ef538a89",
   "metadata": {},
   "outputs": [],
   "source": [
    "vec[None, ...]"
   ]
  },
  {
   "cell_type": "code",
   "execution_count": null,
   "id": "1fd6148d",
   "metadata": {},
   "outputs": [],
   "source": [
    "# Добавляем размерность в конец\n",
    "vec[..., None].shape"
   ]
  },
  {
   "cell_type": "code",
   "execution_count": null,
   "id": "1d25f371",
   "metadata": {},
   "outputs": [],
   "source": [
    "vec[..., None]"
   ]
  },
  {
   "cell_type": "code",
   "execution_count": null,
   "id": "ce86d37f",
   "metadata": {},
   "outputs": [],
   "source": [
    "# Добавляем размерноть в центр\n",
    "# None указывает на отступ\n",
    "# ...  говорят о том, что бы питон взял все оставшиеся размерности как есть\n",
    "# : говорит о том, что мы должныо сделать отступ в одну размерноть справа \n",
    "vec[..., None, :].shape"
   ]
  },
  {
   "cell_type": "code",
   "execution_count": null,
   "id": "b8fa2326",
   "metadata": {},
   "outputs": [],
   "source": [
    "# Здесь мы делаем 2 оступа справа\n",
    "vec[..., None, :, :].shape"
   ]
  },
  {
   "cell_type": "markdown",
   "id": "36f96ee2",
   "metadata": {},
   "source": [
    "Попробуйте создать пятимерную матрицу и добавить к ней одну размерность в разные места"
   ]
  },
  {
   "cell_type": "code",
   "execution_count": null,
   "id": "33a1f2b9",
   "metadata": {},
   "outputs": [],
   "source": [
    "# Напишите свой код здесь"
   ]
  },
  {
   "cell_type": "markdown",
   "id": "12797fc0",
   "metadata": {},
   "source": [
    "Для того, чтобы избавиться от ненужной размерности можно использовать метод squeeze. В него необходимо передать номер размерности от которой вы хотите избавиться. Важно, чтобы эта размерность была равна единице"
   ]
  },
  {
   "cell_type": "code",
   "execution_count": null,
   "id": "69ad43cf",
   "metadata": {},
   "outputs": [],
   "source": [
    "# Нулевая размерность равна единице, поэтому от нее можно избавится\n",
    "vec[None, ...].shape"
   ]
  },
  {
   "cell_type": "code",
   "execution_count": null,
   "id": "c0337ec9",
   "metadata": {},
   "outputs": [],
   "source": [
    "vec[None, ...].squeeze(0)"
   ]
  },
  {
   "cell_type": "code",
   "execution_count": null,
   "id": "8a157673",
   "metadata": {},
   "outputs": [],
   "source": [
    "vec[None, ...].squeeze(0).shape"
   ]
  },
  {
   "cell_type": "markdown",
   "id": "bf5d0494",
   "metadata": {},
   "source": [
    "Создайте массив размерности 4, которого одна из размерностей будет равна единице. Избавьтесь от нее при помощи метода squeeze"
   ]
  },
  {
   "cell_type": "code",
   "execution_count": null,
   "id": "ead44c19",
   "metadata": {},
   "outputs": [],
   "source": [
    "# Напишите свой код здесь"
   ]
  },
  {
   "cell_type": "markdown",
   "id": "741a3ca8",
   "metadata": {},
   "source": [
    "### Задание 16\n",
    "\n",
    "Для того, чтобы транспонировать матрицу (отразить ее по вертикали) можно воспользоваться атритубом T. Однако бывают ситуации когда нужно транспанировать  трехмерный или четырехменрый массив. В этом случае операция выполняется неединсвенным образом и нужно указывать оси вдоль которых вы хотите выполнить транспонирование. Чтобы это сделать необходимо использовать метод transpoze с указанием нового порядка осей.\n",
    "\n",
    "Такая операция может пригодиться если у вас, например, есть картинка в формате канал (красный, зеленый, синий), высота, ширина а вам ее нужно привести к виду: ширина, высота, канал"
   ]
  },
  {
   "cell_type": "code",
   "execution_count": null,
   "id": "e0be17d4",
   "metadata": {},
   "outputs": [],
   "source": [
    "import numpy as np\n",
    "import os\n",
    "import pandas as pd\n",
    "import matplotlib.pyplot as plt\n",
    "\n",
    "path_picture = '../tables/hse.parquet' if os.path.exists('../tables/hse.parquet') else 'https://drive.google.com/uc?id=1rexnf15Sm3WMSqZUi-AH1flul4P_u7cx'\n",
    "\n",
    "picture = pd.read_parquet(path_array).to_numpy().reshape(-1, 2500, 3)\n",
    "plt.imshow(picture)"
   ]
  },
  {
   "cell_type": "code",
   "execution_count": null,
   "id": "98d4a52c",
   "metadata": {},
   "outputs": [],
   "source": [
    "plt.imshow(picture[:1600, :, :])"
   ]
  },
  {
   "cell_type": "code",
   "execution_count": null,
   "id": "2582e9bb",
   "metadata": {},
   "outputs": [],
   "source": [
    "plt.imshow(picture[:1600, :, :].reshape(100, 16, 100, 25, 3).mean(axis=(1, 3)) / 255)"
   ]
  },
  {
   "cell_type": "code",
   "execution_count": null,
   "id": "efcbe7e0",
   "metadata": {},
   "outputs": [],
   "source": [
    "plt.imshow(picture[:1600:16, ::25, :])"
   ]
  },
  {
   "cell_type": "code",
   "execution_count": null,
   "id": "58346a1c",
   "metadata": {},
   "outputs": [],
   "source": [
    "# transpose(0, 1, 2) вернет вам ту же самую матрицу, что и было, поскольку оси идут по порядку\n",
    "picture.transpose(0, 1, 2)"
   ]
  },
  {
   "cell_type": "code",
   "execution_count": null,
   "id": "5a7c2f97",
   "metadata": {},
   "outputs": [],
   "source": [
    "# Сначала у нас идет первая рзамерность, затем вторая, а потом нулевая\n",
    "picture.transpose(1, 2, 0)"
   ]
  },
  {
   "cell_type": "markdown",
   "id": "44edc706",
   "metadata": {},
   "source": [
    "Поменяйте местами первые две оси. В этому случае картинка должна отразиться по диагонали"
   ]
  },
  {
   "cell_type": "code",
   "execution_count": null,
   "id": "f27ff0f4",
   "metadata": {},
   "outputs": [],
   "source": [
    "# Напишите свой код здесь"
   ]
  },
  {
   "cell_type": "markdown",
   "id": "006fd530",
   "metadata": {},
   "source": [
    "Представьте, что у вас есть 10 картинок в представленных в виде матрицы размером (номер картинки, канал, высота, ширина). Привидите ее к размеру (номер картинки, высота, ширина, канал)"
   ]
  },
  {
   "cell_type": "code",
   "execution_count": null,
   "id": "f001e62f",
   "metadata": {},
   "outputs": [],
   "source": [
    "np.random.seed(53423456)\n",
    "images = np.random.rand(10, 3, 1080, 1920)"
   ]
  },
  {
   "cell_type": "code",
   "execution_count": null,
   "id": "f30e1a11",
   "metadata": {},
   "outputs": [],
   "source": [
    "# Напишите свой код здесь"
   ]
  },
  {
   "cell_type": "code",
   "execution_count": null,
   "id": "8fbe4fc4",
   "metadata": {},
   "outputs": [],
   "source": []
  }
 ],
 "metadata": {
  "kernelspec": {
   "display_name": "Python 3 (ipykernel)",
   "language": "python",
   "name": "python3"
  },
  "language_info": {
   "codemirror_mode": {
    "name": "ipython",
    "version": 3
   },
   "file_extension": ".py",
   "mimetype": "text/x-python",
   "name": "python",
   "nbconvert_exporter": "python",
   "pygments_lexer": "ipython3",
   "version": "3.11.5"
  }
 },
 "nbformat": 4,
 "nbformat_minor": 5
}
