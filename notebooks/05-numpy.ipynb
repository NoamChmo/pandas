{
 "cells": [
  {
   "cell_type": "markdown",
   "id": "1cdb171d",
   "metadata": {},
   "source": [
    "# Введение в numpy\n",
    "#### [Ссылка на видео](https://youtu.be/cm9r1hTXxk4)"
   ]
  },
  {
   "cell_type": "markdown",
   "id": "efcfd120",
   "metadata": {},
   "source": [
    "<a target=\"_blank\" href=\"https://colab.research.google.com/github/victorlymarev/pandas/blob/main/notebooks/05-numpy.ipynb\">\n",
    "  <img src=\"https://colab.research.google.com/assets/colab-badge.svg\" alt=\"Open In Colab\"/>\n",
    "</a>"
   ]
  },
  {
   "cell_type": "code",
   "execution_count": null,
   "id": "ad5be3d3",
   "metadata": {},
   "outputs": [],
   "source": [
    "import pandas as pd\n",
    "import numpy as np"
   ]
  },
  {
   "cell_type": "markdown",
   "id": "d17a2050",
   "metadata": {},
   "source": [
    "#### Вектор - упорядоченный набор чисел"
   ]
  },
  {
   "cell_type": "code",
   "execution_count": null,
   "id": "4a752dfb",
   "metadata": {},
   "outputs": [],
   "source": [
    "[1, 2, 3, 4]"
   ]
  },
  {
   "cell_type": "markdown",
   "id": "852e0eaf",
   "metadata": {},
   "source": [
    "#### Матрица - набор векторов"
   ]
  },
  {
   "cell_type": "code",
   "execution_count": null,
   "id": "c7dda187",
   "metadata": {
    "scrolled": true
   },
   "outputs": [],
   "source": [
    "[\n",
    "    [1, 2, 3],\n",
    "    [4, 5, 6],\n",
    "    [7, 8, 9]\n",
    "]"
   ]
  },
  {
   "cell_type": "markdown",
   "id": "81980a12",
   "metadata": {},
   "source": [
    "#### Вектор - столбец"
   ]
  },
  {
   "cell_type": "code",
   "execution_count": null,
   "id": "603a84df",
   "metadata": {},
   "outputs": [],
   "source": [
    "[\n",
    "    [1],\n",
    "    [2],\n",
    "    [3],\n",
    "    [4]\n",
    "]"
   ]
  },
  {
   "cell_type": "markdown",
   "id": "60e8b020",
   "metadata": {},
   "source": [
    "#### Однако для списков не заданы векторные операции"
   ]
  },
  {
   "cell_type": "code",
   "execution_count": null,
   "id": "cecdd6b4",
   "metadata": {},
   "outputs": [],
   "source": [
    "[1, 2, 3, 4] * 2"
   ]
  },
  {
   "cell_type": "markdown",
   "id": "0d73fefb",
   "metadata": {},
   "source": [
    "### np.array\n",
    "Функция превращает список в многомерный массив"
   ]
  },
  {
   "cell_type": "code",
   "execution_count": null,
   "id": "476f47ed",
   "metadata": {},
   "outputs": [],
   "source": [
    "np.array([1, 2, 3, 4])"
   ]
  },
  {
   "cell_type": "code",
   "execution_count": null,
   "id": "bd6f8eb0",
   "metadata": {},
   "outputs": [],
   "source": [
    "np.array([\n",
    "    [1, 2, 3],\n",
    "    [4, 5, 6], \n",
    "    [7, 8, 9]\n",
    "])"
   ]
  },
  {
   "cell_type": "code",
   "execution_count": null,
   "id": "b5ecc34a",
   "metadata": {},
   "outputs": [],
   "source": [
    "type(np.array([1, 2, 3, 4]))"
   ]
  },
  {
   "cell_type": "code",
   "execution_count": null,
   "id": "bca60a79",
   "metadata": {},
   "outputs": [],
   "source": [
    "type(np.array([\n",
    "    [1, 2, 3],\n",
    "    [4, 5, 6], \n",
    "    [7, 8, 9]\n",
    "]))"
   ]
  },
  {
   "cell_type": "markdown",
   "id": "4b81d168",
   "metadata": {},
   "source": [
    "Векторы можно умножать"
   ]
  },
  {
   "cell_type": "code",
   "execution_count": null,
   "id": "8105a1b8",
   "metadata": {},
   "outputs": [],
   "source": [
    "np.array([1, 2, 3, 4]) * 2"
   ]
  },
  {
   "cell_type": "markdown",
   "id": "d88c8c52",
   "metadata": {},
   "source": [
    "На основе матриц можно создавать таблицы"
   ]
  },
  {
   "cell_type": "code",
   "execution_count": null,
   "id": "a136ea9a",
   "metadata": {},
   "outputs": [],
   "source": [
    "pd.DataFrame([\n",
    "    [1, 2, 3],\n",
    "    [4, 5, 6], \n",
    "    [7, 8, 9]\n",
    "], columns=['Колонка 1', 'Колонка 2', 'Колонка 3'])"
   ]
  },
  {
   "cell_type": "markdown",
   "id": "baaee83b",
   "metadata": {},
   "source": [
    "#### У матриц всего один тип на весь объект"
   ]
  },
  {
   "cell_type": "code",
   "execution_count": null,
   "id": "62129498",
   "metadata": {},
   "outputs": [],
   "source": [
    "pd.DataFrame([\n",
    "    [1, 2, 3],\n",
    "    [4, 5, 6], \n",
    "    [7, 8, 9]\n",
    "], columns=['Колонка 1', 'Колонка 2', 'Колонка 3']).info()"
   ]
  },
  {
   "cell_type": "markdown",
   "id": "ef492ad6",
   "metadata": {},
   "source": [
    "Чтобы из таблицы или колонки сделать многомерный массив, можно воспользоваться методом to_numpy"
   ]
  },
  {
   "cell_type": "code",
   "execution_count": null,
   "id": "6795023b",
   "metadata": {},
   "outputs": [],
   "source": [
    "pd.DataFrame([\n",
    "    [1, 2, 3],\n",
    "    [4, 5, 6], \n",
    "    [7, 8, 9]\n",
    "], columns=['Колонка 1', 'Колонка 2', 'Колонка 3']).to_numpy()"
   ]
  },
  {
   "cell_type": "code",
   "execution_count": null,
   "id": "12a07eac",
   "metadata": {},
   "outputs": [],
   "source": []
  },
  {
   "cell_type": "code",
   "execution_count": null,
   "id": "af3ef323",
   "metadata": {},
   "outputs": [],
   "source": []
  },
  {
   "cell_type": "code",
   "execution_count": null,
   "id": "63a3228f",
   "metadata": {},
   "outputs": [],
   "source": [
    "pd.DataFrame([\n",
    "    [1, 2, 3],\n",
    "    [4, 5, '6'], \n",
    "    [7, 8, 9]\n",
    "], columns=['Колонка 1', 'Колонка 2', 'Колонка 3']).info()"
   ]
  },
  {
   "cell_type": "code",
   "execution_count": null,
   "id": "6fdf4540",
   "metadata": {},
   "outputs": [],
   "source": [
    "pd.DataFrame([\n",
    "    [1, 2, 3],\n",
    "    [4, 5, '6'], \n",
    "    [7, 8, 9]\n",
    "], columns=['Колонка 1', 'Колонка 2', 'Колонка 3']).to_numpy()"
   ]
  },
  {
   "cell_type": "code",
   "execution_count": null,
   "id": "a5d3026a",
   "metadata": {},
   "outputs": [],
   "source": []
  },
  {
   "cell_type": "code",
   "execution_count": null,
   "id": "52341ea5",
   "metadata": {},
   "outputs": [],
   "source": []
  },
  {
   "cell_type": "markdown",
   "id": "bf3f8878",
   "metadata": {},
   "source": [
    "## Операции с матрицами и векторами"
   ]
  },
  {
   "cell_type": "markdown",
   "id": "d42b544f",
   "metadata": {},
   "source": [
    "#### Транспонирование"
   ]
  },
  {
   "cell_type": "code",
   "execution_count": null,
   "id": "bde8262e",
   "metadata": {},
   "outputs": [],
   "source": [
    "np.array([\n",
    "    [1, 2, 3],\n",
    "    [4, 5, 6], \n",
    "    [7, 8, 9]\n",
    "]).T"
   ]
  },
  {
   "cell_type": "code",
   "execution_count": null,
   "id": "1487f79c",
   "metadata": {},
   "outputs": [],
   "source": [
    "pd.DataFrame([\n",
    "    [1, 2, 3],\n",
    "    [4, 5, '6'], \n",
    "    [7, 8, 9]\n",
    "], columns=['Колонка 1', 'Колонка 2', 'Колонка 3']).T"
   ]
  },
  {
   "cell_type": "markdown",
   "id": "43ae3bc1",
   "metadata": {},
   "source": [
    "### reshape\n",
    "\n",
    "Изменяет размерность массива"
   ]
  },
  {
   "cell_type": "code",
   "execution_count": null,
   "id": "12105290",
   "metadata": {},
   "outputs": [],
   "source": [
    "vector = np.arange(20)\n",
    "vector"
   ]
  },
  {
   "cell_type": "code",
   "execution_count": null,
   "id": "bcb7e1ec",
   "metadata": {},
   "outputs": [],
   "source": [
    "vector.shape"
   ]
  },
  {
   "cell_type": "markdown",
   "id": "66406e8b",
   "metadata": {},
   "source": [
    "Делаем из вектора матрицу, в которой 5 строк и 4 столбца"
   ]
  },
  {
   "cell_type": "code",
   "execution_count": null,
   "id": "ac8fe6e0",
   "metadata": {},
   "outputs": [],
   "source": [
    "vector.reshape(5, 4)"
   ]
  },
  {
   "cell_type": "code",
   "execution_count": null,
   "id": "6c0331ea",
   "metadata": {},
   "outputs": [],
   "source": [
    "(vector\n",
    "    .reshape(5, 4)\n",
    "    .reshape(2, 10)\n",
    ")"
   ]
  },
  {
   "cell_type": "markdown",
   "id": "b12cb97f",
   "metadata": {},
   "source": [
    "#### Вместо одного из значений можно указывать -1"
   ]
  },
  {
   "cell_type": "code",
   "execution_count": null,
   "id": "eb9366f9",
   "metadata": {},
   "outputs": [],
   "source": [
    "vector.reshape(5, -1)"
   ]
  },
  {
   "cell_type": "code",
   "execution_count": null,
   "id": "0ac67735",
   "metadata": {},
   "outputs": [],
   "source": [
    "(vector\n",
    "    .reshape(5, -1)\n",
    "    .reshape(-1)\n",
    ")"
   ]
  },
  {
   "cell_type": "markdown",
   "id": "336e775d",
   "metadata": {},
   "source": [
    "Вытягиваем вектор-строку в вектор-столбец"
   ]
  },
  {
   "cell_type": "code",
   "execution_count": null,
   "id": "1c2edeef",
   "metadata": {},
   "outputs": [],
   "source": [
    "vector.reshape(-1, 1)"
   ]
  },
  {
   "cell_type": "code",
   "execution_count": null,
   "id": "cfaad059",
   "metadata": {},
   "outputs": [],
   "source": []
  },
  {
   "cell_type": "code",
   "execution_count": null,
   "id": "c8b34817",
   "metadata": {},
   "outputs": [],
   "source": []
  },
  {
   "cell_type": "code",
   "execution_count": null,
   "id": "0aa4125e",
   "metadata": {},
   "outputs": [],
   "source": []
  },
  {
   "cell_type": "code",
   "execution_count": null,
   "id": "10d89127",
   "metadata": {},
   "outputs": [],
   "source": []
  },
  {
   "cell_type": "code",
   "execution_count": null,
   "id": "174d7cac",
   "metadata": {},
   "outputs": [],
   "source": []
  },
  {
   "cell_type": "code",
   "execution_count": null,
   "id": "6a720a24",
   "metadata": {},
   "outputs": [],
   "source": []
  },
  {
   "cell_type": "code",
   "execution_count": null,
   "id": "0be02365",
   "metadata": {},
   "outputs": [],
   "source": []
  },
  {
   "cell_type": "code",
   "execution_count": null,
   "id": "f1ebaa9d",
   "metadata": {},
   "outputs": [],
   "source": []
  },
  {
   "cell_type": "code",
   "execution_count": null,
   "id": "4f877447",
   "metadata": {},
   "outputs": [],
   "source": []
  },
  {
   "cell_type": "code",
   "execution_count": null,
   "id": "790fc579",
   "metadata": {},
   "outputs": [],
   "source": []
  },
  {
   "cell_type": "code",
   "execution_count": null,
   "id": "670c6c21",
   "metadata": {},
   "outputs": [],
   "source": []
  },
  {
   "cell_type": "code",
   "execution_count": null,
   "id": "34c1c37b",
   "metadata": {},
   "outputs": [],
   "source": []
  },
  {
   "cell_type": "code",
   "execution_count": null,
   "id": "eadba51e",
   "metadata": {},
   "outputs": [],
   "source": []
  },
  {
   "cell_type": "code",
   "execution_count": null,
   "id": "231f7a1c",
   "metadata": {},
   "outputs": [],
   "source": []
  },
  {
   "cell_type": "markdown",
   "id": "8abf9506",
   "metadata": {},
   "source": [
    "# Задания"
   ]
  },
  {
   "cell_type": "markdown",
   "id": "0f7cef67",
   "metadata": {},
   "source": [
    "#### Описание таблиц лежит [здесь](https://github.com/victorlymarev/pandas/tree/main/tables#%D0%BE%D0%BF%D0%B8%D1%81%D0%B0%D0%BD%D0%B8%D0%B5-%D1%82%D0%B0%D0%B1%D0%BB%D0%B8%D1%86)"
   ]
  },
  {
   "cell_type": "markdown",
   "id": "c30a2708",
   "metadata": {},
   "source": [
    "Некоторые таблицы занимают много памяти, поэтому каждые 5-10 заданий лучше перезапускайте ноутбук.\n",
    "\n",
    "В формулировке некоторых заданий может содержаться вариативность. Если у вас есть сомнения, что требуется в задании, попробуйте решить несколько вариантов. Если вы не понимаете задание, можете написать об этом в комментариях под видео.\n",
    "\n",
    "В большинстве случаев внешний вид итоговой таблицы не определен. Выведите на экран наиболее адекватный вариант. То есть таблицу, из которой можно будет сделать выводы.\n",
    "\n",
    "Курс пока находится в разработке. Вы можете помочь другим людям добавив свое решение [сюда](https://docs.google.com/forms/d/1HYTBz_KfssY3Jps2dC3n0YnEqa6WBb5OIhLo1d32Xzw/edit).\n",
    "\n",
    "Посмотреть решения других людей можно [здесь](https://docs.google.com/spreadsheets/d/1pMDYO-9UneLbPPnEuQ2shig0TOJdQTU-zipifyAnZMk/edit?resourcekey#gid=1998648012)"
   ]
  },
  {
   "cell_type": "markdown",
   "id": "496ef996",
   "metadata": {},
   "source": [
    "### Задание 1\n",
    "\n",
    "В переменной marks_6d_corr лежит некоторая матрица. Посмотрите на ее размер. Создайте на ее основе таблицу. В индексе и в шапке таблицы должен лежать список:\n",
    "\n",
    "['Математика', 'Русский язык', 'Литература', 'Физика', 'История', 'Физическая культура']\n",
    "\n",
    "Это можно сделать передав в pd.DataFrame матрицу. Чтобы добавить названия колонок используйте параметр columns. Чтобы добавить названия индекса используйте парметр index"
   ]
  },
  {
   "cell_type": "code",
   "execution_count": null,
   "id": "fcb122e7",
   "metadata": {},
   "outputs": [],
   "source": [
    "import os\n",
    "import pandas as pd\n",
    "path_marks_6d = '../tables/оценки 6Д.csv' if os.path.exists('../tables/оценки 6Д.csv') else 'https://drive.google.com/uc?id=1aMvwur2zrISbVPRo86qWgbHPEpw5km0n'\n",
    "marks_6d_corr = pd.read_csv(path_marks_6d).iloc[:, 2:].corr().to_numpy()\n",
    "marks_6d_corr"
   ]
  },
  {
   "cell_type": "code",
   "execution_count": null,
   "id": "7c6be130",
   "metadata": {},
   "outputs": [],
   "source": [
    "# Напишите свой код здесь"
   ]
  },
  {
   "cell_type": "markdown",
   "id": "478d8519",
   "metadata": {},
   "source": [
    "### Задание 2\n",
    "\n",
    "Из списка ['Вася', 'Лена', 'Антон', 'Настя'] создайте объект ndarray"
   ]
  },
  {
   "cell_type": "code",
   "execution_count": null,
   "id": "b4549c45",
   "metadata": {},
   "outputs": [],
   "source": [
    "import numpy as np\n",
    "lst = ['Вася', 'Лена', 'Антон', 'Настя']\n",
    "\n",
    "# Напишите свой код здесь"
   ]
  },
  {
   "cell_type": "markdown",
   "id": "b6461fcc",
   "metadata": {},
   "source": [
    "### Задание 3\n",
    "Создайте вектор, содержащий значения от 0 до 80. На его основе создайте матрицу размером 8 на 10 (8 строк и 10 колонок). Затем транспонируйте таблицу. После всего этого разверните матрицу в вектор-стоблец "
   ]
  },
  {
   "cell_type": "code",
   "execution_count": null,
   "id": "c22d6f3d",
   "metadata": {},
   "outputs": [],
   "source": [
    "import numpy as np\n",
    "\n",
    "# Напишите свой код здесь"
   ]
  },
  {
   "cell_type": "markdown",
   "id": "97219673",
   "metadata": {},
   "source": [
    "### Задание 4\n",
    "\n",
    "Матрицы бывают самыми разными. \n",
    "\n",
    "Функция __np.eye__ создает матрицу в которой, по диагонале располагаются единицы, а во всех других точках местах нули. Такая матрица называется единичной.\n",
    "\n",
    "np.eye(n) - создает матрицу размером n x n \n",
    "\n",
    "np.eye(n, m) - создает матрицу размером n x m\n",
    "\n",
    "Создайте единичную матрицу размером 8 х 8"
   ]
  },
  {
   "cell_type": "code",
   "execution_count": null,
   "id": "830c6472",
   "metadata": {},
   "outputs": [],
   "source": [
    "import numpy as np\n",
    "\n",
    "# Напишите свой код здесь"
   ]
  },
  {
   "cell_type": "markdown",
   "id": "a6161b00",
   "metadata": {},
   "source": [
    "### Задание 5\n",
    "\n",
    "Функция __np.ones__ создает вектор матрицу из единиц\n",
    "\n",
    "np.ones(n) - создает вектор из единиц, длинною n\n",
    "\n",
    "np.ones((n, m)) - создает матрицу из единиц размером n x m (обратите внимание, что внутрь передается кортеж)\n",
    "\n",
    "Создайте матрицу из единиц размеров 7 на 8"
   ]
  },
  {
   "cell_type": "code",
   "execution_count": null,
   "id": "be1d7868",
   "metadata": {},
   "outputs": [],
   "source": [
    "import numpy as np\n",
    "\n",
    "# Напишите свой код здесь"
   ]
  },
  {
   "cell_type": "markdown",
   "id": "82de2483",
   "metadata": {},
   "source": [
    "### Задание 6\n",
    "\n",
    "Функция __np.zeros__ создает матрицу из нулей и работает точно так же как и функция np.ones\n",
    "\n",
    "np.zeros(n) - создает вектор из нулей, длинною n\n",
    "\n",
    "np.zeros((n, m)) - создает матрицу из нулей размером n x m (обратите внимание, что внутрь передается кортеж)\n",
    "\n",
    "Создайте вектор нулей длинны 25"
   ]
  },
  {
   "cell_type": "code",
   "execution_count": null,
   "id": "05b40f8f",
   "metadata": {},
   "outputs": [],
   "source": [
    "import numpy as np\n",
    "\n",
    "# Напишите свой код здесь"
   ]
  },
  {
   "cell_type": "markdown",
   "id": "67cb35b4",
   "metadata": {},
   "source": [
    "### Задание 7\n",
    "\n",
    "Функция __np.full__ позволяет передавать объект, который будет лежать внутри вектора или матрицы. Синтаксис у функции похож на предыдущие методы\n",
    "\n",
    "np.zeros(n, value) - создает вектор из value, длинною n\n",
    "\n",
    "np.zeros((n, m), value) - создает матрицу из value размером n x m (обратите внимание, что внутрь передается кортеж)\n",
    "\n",
    "Создайте пустую матрицу размером 8 на 9 (то есть внутри матрицы должен лежать None или np.nan)"
   ]
  },
  {
   "cell_type": "code",
   "execution_count": null,
   "id": "e7dafd37",
   "metadata": {},
   "outputs": [],
   "source": [
    "import numpy as np\n",
    "\n",
    "# Напишите свой код здесь"
   ]
  },
  {
   "cell_type": "markdown",
   "id": "68324b98",
   "metadata": {},
   "source": [
    "### Задание 8\n",
    "\n",
    "Для некоторых функций, рассмотренных выше существуют очень похожие функции, имеющие в своем составе суффикс _like.\n",
    "\n",
    "ones_like, zeros_like, full_like\n",
    "\n",
    "На вход в качестве первого аргумента вместо размера эти функции принимают другой массив. После чего функция генерирует соответсвтующую матрицу"
   ]
  },
  {
   "cell_type": "code",
   "execution_count": null,
   "id": "aea6e44e",
   "metadata": {},
   "outputs": [],
   "source": [
    "import numpy as np\n",
    "\n",
    "m = np.arange(20).reshape(4, 5)\n",
    "m"
   ]
  },
  {
   "cell_type": "code",
   "execution_count": null,
   "id": "b78ab406",
   "metadata": {},
   "outputs": [],
   "source": [
    "np.zeros_like(m)"
   ]
  },
  {
   "cell_type": "markdown",
   "id": "5455276a",
   "metadata": {},
   "source": [
    "np.zeros_like(m) - это то же самое, что и"
   ]
  },
  {
   "cell_type": "code",
   "execution_count": null,
   "id": "0f7c50c7",
   "metadata": {},
   "outputs": [],
   "source": [
    "np.zeros(m.shape)"
   ]
  },
  {
   "cell_type": "markdown",
   "id": "3735ae73",
   "metadata": {},
   "source": [
    "На основе матрицы m создайте матрицу из единиц того же размера"
   ]
  },
  {
   "cell_type": "code",
   "execution_count": null,
   "id": "ae29af89",
   "metadata": {},
   "outputs": [],
   "source": [
    "# Напишите свой код здесь"
   ]
  },
  {
   "cell_type": "markdown",
   "id": "3af183ac",
   "metadata": {},
   "source": [
    "### Задание 9\n",
    "\n",
    "Функция __np.triu__ обнуляет элементы матрицы ниже диагонали\n",
    "\n",
    "Функция __np.tril__ обнуляет элементы матрицы выше диагонали"
   ]
  },
  {
   "cell_type": "code",
   "execution_count": null,
   "id": "bfd2685d",
   "metadata": {},
   "outputs": [],
   "source": [
    "import numpy as np\n",
    "\n",
    "m = np.arange(1, 37).reshape(6, -1)\n",
    "m"
   ]
  },
  {
   "cell_type": "code",
   "execution_count": null,
   "id": "7a415d6e",
   "metadata": {},
   "outputs": [],
   "source": [
    "np.triu(m)"
   ]
  },
  {
   "cell_type": "code",
   "execution_count": null,
   "id": "3e03b3e0",
   "metadata": {},
   "outputs": [],
   "source": [
    "np.tril(m)"
   ]
  },
  {
   "cell_type": "markdown",
   "id": "6550ed0c",
   "metadata": {},
   "source": [
    "На основе матрицы x создайте треугольную матрицу с нулями под диагонялтными элементами"
   ]
  },
  {
   "cell_type": "code",
   "execution_count": null,
   "id": "02b01bc8",
   "metadata": {},
   "outputs": [],
   "source": [
    "x = np.arange(1, 43)\n",
    "x"
   ]
  },
  {
   "cell_type": "code",
   "execution_count": null,
   "id": "af7f53bc",
   "metadata": {},
   "outputs": [],
   "source": [
    "# Напишите свой код здесь"
   ]
  },
  {
   "cell_type": "markdown",
   "id": "893ca195",
   "metadata": {},
   "source": [
    "### Задание 10\n",
    "\n",
    "Создайте матрицу 5 на 5, в которой по диагонали и ниже будут наны (пропуски), а выше строять нули"
   ]
  },
  {
   "cell_type": "code",
   "execution_count": null,
   "id": "ff1a0478",
   "metadata": {},
   "outputs": [],
   "source": [
    "import numpy as np\n",
    "\n",
    "# Напишите свой код здесь"
   ]
  },
  {
   "cell_type": "markdown",
   "id": "d44578d3",
   "metadata": {},
   "source": [
    "### Задание 11\n",
    "\n",
    "Создайте матрицу 5 на 5, в которой по диагонали и выше будут наны (пропуски), а выше строять нули"
   ]
  },
  {
   "cell_type": "code",
   "execution_count": null,
   "id": "947b9930",
   "metadata": {},
   "outputs": [],
   "source": [
    "import numpy as np\n",
    "\n",
    "# Напишите свой код здесь"
   ]
  },
  {
   "cell_type": "markdown",
   "id": "1909bed0",
   "metadata": {},
   "source": [
    "### Задание 12\n",
    "\n",
    "При помощи функции np.repeat можно создать матрицу из повторяющихся элементов.\n",
    "Внутри функции сначала надо указать элемент, который вы хотите повторить, а затем число повторений."
   ]
  },
  {
   "cell_type": "code",
   "execution_count": null,
   "id": "119b0ead",
   "metadata": {},
   "outputs": [],
   "source": [
    "import numpy as np\n",
    "\n",
    "np.repeat(2, 30)"
   ]
  },
  {
   "cell_type": "code",
   "execution_count": null,
   "id": "f3856743",
   "metadata": {},
   "outputs": [],
   "source": [
    "np.repeat([1, 2, 3], 10)"
   ]
  },
  {
   "cell_type": "code",
   "execution_count": null,
   "id": "414fd0c1",
   "metadata": {},
   "outputs": [],
   "source": [
    "np.repeat([10, 20, 30], [1, 2, 3])"
   ]
  },
  {
   "cell_type": "markdown",
   "id": "0635f1be",
   "metadata": {},
   "source": [
    "Создайте вектор, в котором сначала 100 раз будет идти 1, затем 99 раз будет идти 2, после чего 98 раз будет идти 3 и так далее. Последний элемент 100 должен идти 1 раз. Посчитайте длинну этого массива"
   ]
  },
  {
   "cell_type": "code",
   "execution_count": null,
   "id": "9de673f8",
   "metadata": {},
   "outputs": [],
   "source": [
    "# Напишите свой код здесь"
   ]
  },
  {
   "cell_type": "markdown",
   "id": "2aeadcad",
   "metadata": {},
   "source": [
    "### Задание 13\n",
    "\n",
    "Помимо прочего в нампае есть возможность создавать матрицы из случайных чисел.\n",
    "\n",
    "Например, функция np.random.rand() генерирует случайные числа на интервале от нуля до единицы. Внутрь функции передаются размерности массива, который вы хотите получить"
   ]
  },
  {
   "cell_type": "code",
   "execution_count": null,
   "id": "7d2f25e5",
   "metadata": {},
   "outputs": [],
   "source": [
    "# Когда используете случайные числа, не забывайте фиксировать seed\n",
    "# np.random.seed(6)\n",
    "np.random.rand(5)"
   ]
  },
  {
   "cell_type": "code",
   "execution_count": null,
   "id": "fc52b295",
   "metadata": {},
   "outputs": [],
   "source": [
    "# Когда используете случайные числа, не забывайте фиксировать seed\n",
    "# np.random.seed(9)\n",
    "np.random.rand(2, 3)"
   ]
  },
  {
   "cell_type": "markdown",
   "id": "0b456a8a",
   "metadata": {},
   "source": [
    "Создайте матрицу из случайных чисел размером 5 на 8 (5 строк и 8 стобцов)"
   ]
  },
  {
   "cell_type": "code",
   "execution_count": null,
   "id": "76aeb29a",
   "metadata": {},
   "outputs": [],
   "source": [
    "# Напишите свой код здесь"
   ]
  },
  {
   "cell_type": "markdown",
   "id": "6a72ef12",
   "metadata": {},
   "source": [
    "Помимо этого, можно генерировать массив, состоящий из случайных целых чисел.\n",
    "\n",
    "Для этого можно использовать функцию np.random.randint(минимальное число, максимальное число (невключительно), размерность массива (целое число или кортеж))"
   ]
  },
  {
   "cell_type": "code",
   "execution_count": null,
   "id": "b81ea66f",
   "metadata": {},
   "outputs": [],
   "source": [
    "# Когда используете случайные числа, не забывайте фиксировать seed\n",
    "# np.random.seed(90)\n",
    "np.random.randint(0, 10, (3, 8))"
   ]
  },
  {
   "cell_type": "markdown",
   "id": "d80d97f8",
   "metadata": {},
   "source": [
    "Создайте массив из случайных целых чисел длиною 80"
   ]
  },
  {
   "cell_type": "code",
   "execution_count": null,
   "id": "9d8a960b",
   "metadata": {},
   "outputs": [],
   "source": [
    "# Напишите свой код здесь"
   ]
  },
  {
   "cell_type": "markdown",
   "id": "e28c933d",
   "metadata": {},
   "source": [
    "Помимо этого есть еще много дургих функций, которые моделируют различные распределения"
   ]
  },
  {
   "cell_type": "markdown",
   "id": "5f90b7d7",
   "metadata": {},
   "source": [
    "### Задание 14\n",
    "\n",
    "Многомерные массивы могут быть не только одномерными (векторы) и двумерными (матрицы), но и трехмерными и четырехмерными. Например, большую часть видимого спектра можно представить в виде комбинации красного, зеленого и синего цветов. Поэтому картинки часто представляют в виде трех матриц. Каждая матрица отвечает за яркость соответствующего цвета."
   ]
  },
  {
   "cell_type": "code",
   "execution_count": null,
   "id": "d081ff0c",
   "metadata": {},
   "outputs": [],
   "source": [
    "import numpy as np\n",
    "import os\n",
    "import pandas as pd\n",
    "import matplotlib.pyplot as plt\n",
    "\n",
    "path_array = '../tables/hse.parquet' if os.path.exists('../tables/hse.parquet') else 'https://drive.google.com/uc?id=1rexnf15Sm3WMSqZUi-AH1flul4P_u7cx'\n",
    "\n",
    "array = pd.read_parquet(path_array).to_numpy().reshape(-1)"
   ]
  },
  {
   "cell_type": "markdown",
   "id": "0e25a9d5",
   "metadata": {},
   "source": [
    "В переменной array лежит картинка 2500 на 1663. Приведите вектор к трем матрицам 1663 (количество строк) на 2500 (количество столбцов). Сначала укажите количество строк, затем количество столбцов, после чего укажите количество каналов"
   ]
  },
  {
   "cell_type": "code",
   "execution_count": null,
   "id": "dac1d9bd",
   "metadata": {},
   "outputs": [],
   "source": [
    "# Напишите свой код здесь"
   ]
  },
  {
   "cell_type": "markdown",
   "id": "8b292a73",
   "metadata": {},
   "source": [
    "Передайте полученный массив в функцию plt.imshow"
   ]
  },
  {
   "cell_type": "code",
   "execution_count": null,
   "id": "818ccf20",
   "metadata": {},
   "outputs": [],
   "source": [
    "# Напишите свой код здесь\n",
    "\n",
    "plt.imshow(array.reshape(-1, 2500, 3))"
   ]
  },
  {
   "cell_type": "markdown",
   "id": "81cb8f7d",
   "metadata": {},
   "source": [
    "### Задание 15\n",
    "\n",
    "Иногда возникает необходимость матрице или вектору добавить дополнительную разменость. Сделать это можно различными способами, например, при помощи метода reshape"
   ]
  },
  {
   "cell_type": "code",
   "execution_count": null,
   "id": "cc4dd72c",
   "metadata": {},
   "outputs": [],
   "source": [
    "import numpy as np\n",
    "np.arange(5)"
   ]
  },
  {
   "cell_type": "code",
   "execution_count": null,
   "id": "5a82158f",
   "metadata": {},
   "outputs": [],
   "source": [
    "np.arange(5).reshape(1, -1)"
   ]
  },
  {
   "cell_type": "markdown",
   "id": "a7b48f89",
   "metadata": {},
   "source": [
    "Посмотрите на размерности первого и второго векторов"
   ]
  },
  {
   "cell_type": "code",
   "execution_count": null,
   "id": "b754b0e0",
   "metadata": {},
   "outputs": [],
   "source": [
    "# Напишите свой код здесь"
   ]
  },
  {
   "cell_type": "markdown",
   "id": "0cce86aa",
   "metadata": {},
   "source": [
    "Добавьте дополнительную размерность вектру"
   ]
  },
  {
   "cell_type": "code",
   "execution_count": null,
   "id": "e1320853",
   "metadata": {},
   "outputs": [],
   "source": [
    "np.random.seed(50)\n",
    "vec = np.random.normal(0, 1, 10)\n",
    "vec"
   ]
  },
  {
   "cell_type": "code",
   "execution_count": null,
   "id": "b3456d00",
   "metadata": {},
   "outputs": [],
   "source": [
    "# Напишите свой код здесь"
   ]
  },
  {
   "cell_type": "markdown",
   "id": "46a9c1ec",
   "metadata": {},
   "source": [
    "Однако если у вас большая размерность, то вам придется переписывать прошлые размерности. Чтобы этого избежать можно использовать квадратные скобки"
   ]
  },
  {
   "cell_type": "code",
   "execution_count": null,
   "id": "646a4234",
   "metadata": {},
   "outputs": [],
   "source": [
    "vec = np.random.rand(3, 4)\n",
    "vec.shape"
   ]
  },
  {
   "cell_type": "code",
   "execution_count": null,
   "id": "85d5a97e",
   "metadata": {},
   "outputs": [],
   "source": [
    "# Добавляем размерность в начало (как мы делали в прошлый раз)\n",
    "vec[None, ...].shape"
   ]
  },
  {
   "cell_type": "code",
   "execution_count": null,
   "id": "ccb0823e",
   "metadata": {},
   "outputs": [],
   "source": [
    "vec[None, ...]"
   ]
  },
  {
   "cell_type": "code",
   "execution_count": null,
   "id": "5001b656",
   "metadata": {},
   "outputs": [],
   "source": [
    "# Добавляем размерность в конец\n",
    "vec[..., None].shape"
   ]
  },
  {
   "cell_type": "code",
   "execution_count": null,
   "id": "8c835486",
   "metadata": {},
   "outputs": [],
   "source": [
    "vec[..., None]"
   ]
  },
  {
   "cell_type": "code",
   "execution_count": null,
   "id": "924904b7",
   "metadata": {},
   "outputs": [],
   "source": [
    "# Добавляем размерноть в центр\n",
    "# None указывает на отступ\n",
    "# ...  говорят о том, что бы питон взял все оставшиеся размерности как есть\n",
    "# : говорит о том, что мы должныо сделать отступ в одну размерноть справа \n",
    "vec[..., None, :].shape"
   ]
  },
  {
   "cell_type": "code",
   "execution_count": null,
   "id": "78cf66fc",
   "metadata": {},
   "outputs": [],
   "source": [
    "# Здесь мы делаем 2 оступа справа\n",
    "vec[..., None, :, :].shape"
   ]
  },
  {
   "cell_type": "markdown",
   "id": "f994b190",
   "metadata": {},
   "source": [
    "Попробуйте создать пятимерную матрицу и добавить к ней одну размерность в разные места"
   ]
  },
  {
   "cell_type": "code",
   "execution_count": null,
   "id": "74dd427c",
   "metadata": {},
   "outputs": [],
   "source": [
    "# Напишите свой код здесь"
   ]
  },
  {
   "cell_type": "markdown",
   "id": "c486c813",
   "metadata": {},
   "source": [
    "Для того, чтобы избавиться от ненужной размерности можно использовать метод squeeze. В него необходимо передать номер размерности от которой вы хотите избавиться. Важно, чтобы эта размерность была равна единице"
   ]
  },
  {
   "cell_type": "code",
   "execution_count": null,
   "id": "6104cc10",
   "metadata": {},
   "outputs": [],
   "source": [
    "# Нулевая размерность равна единице, поэтому от нее можно избавится\n",
    "vec[None, ...].shape"
   ]
  },
  {
   "cell_type": "code",
   "execution_count": null,
   "id": "4c8f01f4",
   "metadata": {},
   "outputs": [],
   "source": [
    "vec[None, ...].squeeze(0)"
   ]
  },
  {
   "cell_type": "code",
   "execution_count": null,
   "id": "ae561842",
   "metadata": {},
   "outputs": [],
   "source": [
    "vec[None, ...].squeeze(0).shape"
   ]
  },
  {
   "cell_type": "markdown",
   "id": "0002d981",
   "metadata": {},
   "source": [
    "Создайте массив размерности 4, которого одна из размерностей будет равна единице. Избавьтесь от нее при помощи метода squeeze"
   ]
  },
  {
   "cell_type": "code",
   "execution_count": null,
   "id": "d8a7f23f",
   "metadata": {},
   "outputs": [],
   "source": [
    "# Напишите свой код здесь"
   ]
  },
  {
   "cell_type": "markdown",
   "id": "4cfc4877",
   "metadata": {},
   "source": [
    "### Задание 16\n",
    "\n",
    "Для того, чтобы транспонировать матрицу (отразить ее по вертикали) можно воспользоваться атритубом T. Однако бывают ситуации когда нужно транспанировать  трехмерный или четырехменрый массив. В этом случае операция выполняется неединсвенным образом и нужно указывать оси вдоль которых вы хотите выполнить транспонирование. Чтобы это сделать необходимо использовать метод transpoze с указанием нового порядка осей.\n",
    "\n",
    "Такая операция может пригодиться если у вас, например, есть картинка в формате канал (красный, зеленый, синий), высота, ширина а вам ее нужно привести к виду: ширина, высота, канал"
   ]
  },
  {
   "cell_type": "code",
   "execution_count": null,
   "id": "ccc8b0dc",
   "metadata": {},
   "outputs": [],
   "source": [
    "import numpy as np\n",
    "import os\n",
    "import pandas as pd\n",
    "import matplotlib.pyplot as plt\n",
    "\n",
    "path_picture = '../tables/hse.parquet' if os.path.exists('../tables/hse.parquet') else 'https://drive.google.com/uc?id=1rexnf15Sm3WMSqZUi-AH1flul4P_u7cx'\n",
    "\n",
    "picture = pd.read_parquet(path_array).to_numpy().reshape(-1, 2500, 3)\n",
    "plt.imshow(picture)"
   ]
  },
  {
   "cell_type": "code",
   "execution_count": null,
   "id": "b10044b3",
   "metadata": {},
   "outputs": [],
   "source": [
    "plt.imshow(picture[:1600, :, :])"
   ]
  },
  {
   "cell_type": "code",
   "execution_count": null,
   "id": "48a4f49c",
   "metadata": {},
   "outputs": [],
   "source": [
    "plt.imshow(picture[:1600, :, :].reshape(100, 16, 100, 25, 3).mean(axis=(1, 3)) / 255)"
   ]
  },
  {
   "cell_type": "code",
   "execution_count": null,
   "id": "3fe87406",
   "metadata": {},
   "outputs": [],
   "source": [
    "plt.imshow(picture[:1600:16, ::25, :])"
   ]
  },
  {
   "cell_type": "code",
   "execution_count": null,
   "id": "ab245010",
   "metadata": {},
   "outputs": [],
   "source": [
    "# transpose(0, 1, 2) вернет вам ту же самую матрицу, что и было, поскольку оси идут по порядку\n",
    "picture.transpose(0, 1, 2)"
   ]
  },
  {
   "cell_type": "code",
   "execution_count": null,
   "id": "573871d6",
   "metadata": {},
   "outputs": [],
   "source": [
    "# Сначала у нас идет первая рзамерность, затем вторая, а потом нулевая\n",
    "picture.transpose(1, 2, 0)"
   ]
  },
  {
   "cell_type": "markdown",
   "id": "5e52b0c1",
   "metadata": {},
   "source": [
    "Поменяйте местами первые две оси. В этому случае картинка должна отразиться по диагонали"
   ]
  },
  {
   "cell_type": "code",
   "execution_count": null,
   "id": "80010770",
   "metadata": {},
   "outputs": [],
   "source": [
    "# Напишите свой код здесь"
   ]
  },
  {
   "cell_type": "markdown",
   "id": "bb20f555",
   "metadata": {},
   "source": [
    "Представьте, что у вас есть 10 картинок в представленных в виде матрицы размером (номер картинки, канал, высота, ширина). Привидите ее к размеру (номер картинки, высота, ширина, канал)"
   ]
  },
  {
   "cell_type": "code",
   "execution_count": null,
   "id": "17593a29",
   "metadata": {},
   "outputs": [],
   "source": [
    "np.random.seed(53423456)\n",
    "images = np.random.rand(10, 3, 1080, 1920)"
   ]
  },
  {
   "cell_type": "code",
   "execution_count": null,
   "id": "269dbdad",
   "metadata": {},
   "outputs": [],
   "source": [
    "# Напишите свой код здесь"
   ]
  }
 ],
 "metadata": {
  "kernelspec": {
   "display_name": "Python 3 (ipykernel)",
   "language": "python",
   "name": "python3"
  },
  "language_info": {
   "codemirror_mode": {
    "name": "ipython",
    "version": 3
   },
   "file_extension": ".py",
   "mimetype": "text/x-python",
   "name": "python",
   "nbconvert_exporter": "python",
   "pygments_lexer": "ipython3",
   "version": "3.11.6"
  }
 },
 "nbformat": 4,
 "nbformat_minor": 5
}
