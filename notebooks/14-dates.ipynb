{
 "cells": [
  {
   "cell_type": "markdown",
   "id": "3d24f9ff",
   "metadata": {},
   "source": [
    "<a target=\"_blank\" href=\"https://colab.research.google.com/github/victorlymarev/pandas/blob/main/notebooks/14-dates.ipynb\">\n",
    "  <img src=\"https://colab.research.google.com/assets/colab-badge.svg\" alt=\"Open In Colab\"/>\n",
    "</a>"
   ]
  },
  {
   "cell_type": "code",
   "execution_count": 1,
   "id": "5605b710",
   "metadata": {},
   "outputs": [],
   "source": [
    "import pandas as pd\n",
    "import numpy as np\n",
    "import os"
   ]
  },
  {
   "cell_type": "code",
   "execution_count": 2,
   "id": "23e07a98",
   "metadata": {},
   "outputs": [
    {
     "data": {
      "text/html": [
       "<div>\n",
       "<style scoped>\n",
       "    .dataframe tbody tr th:only-of-type {\n",
       "        vertical-align: middle;\n",
       "    }\n",
       "\n",
       "    .dataframe tbody tr th {\n",
       "        vertical-align: top;\n",
       "    }\n",
       "\n",
       "    .dataframe thead th {\n",
       "        text-align: right;\n",
       "    }\n",
       "</style>\n",
       "<table border=\"1\" class=\"dataframe\">\n",
       "  <thead>\n",
       "    <tr style=\"text-align: right;\">\n",
       "      <th></th>\n",
       "      <th>date</th>\n",
       "      <th>price</th>\n",
       "      <th>volume</th>\n",
       "    </tr>\n",
       "  </thead>\n",
       "  <tbody>\n",
       "    <tr>\n",
       "      <th>0</th>\n",
       "      <td>2013-11-13 15:00:56</td>\n",
       "      <td>5.00</td>\n",
       "      <td>12.874000</td>\n",
       "    </tr>\n",
       "    <tr>\n",
       "      <th>1</th>\n",
       "      <td>2013-11-13 15:58:20</td>\n",
       "      <td>5.00</td>\n",
       "      <td>0.900000</td>\n",
       "    </tr>\n",
       "    <tr>\n",
       "      <th>2</th>\n",
       "      <td>2013-11-16 18:58:57</td>\n",
       "      <td>4.30</td>\n",
       "      <td>0.067440</td>\n",
       "    </tr>\n",
       "    <tr>\n",
       "      <th>3</th>\n",
       "      <td>2013-11-16 18:59:16</td>\n",
       "      <td>4.25</td>\n",
       "      <td>5.000000</td>\n",
       "    </tr>\n",
       "    <tr>\n",
       "      <th>4</th>\n",
       "      <td>2013-11-19 03:24:48</td>\n",
       "      <td>9.90</td>\n",
       "      <td>0.117018</td>\n",
       "    </tr>\n",
       "  </tbody>\n",
       "</table>\n",
       "</div>"
      ],
      "text/plain": [
       "                 date  price     volume\n",
       "0 2013-11-13 15:00:56   5.00  12.874000\n",
       "1 2013-11-13 15:58:20   5.00   0.900000\n",
       "2 2013-11-16 18:58:57   4.30   0.067440\n",
       "3 2013-11-16 18:59:16   4.25   5.000000\n",
       "4 2013-11-19 03:24:48   9.90   0.117018"
      ]
     },
     "execution_count": 2,
     "metadata": {},
     "output_type": "execute_result"
    }
   ],
   "source": [
    "path_ltc_sample = '../tables/ltc_sample.parquet' if os.path.exists('../tables/ltc_sample.parquet') else 'https://drive.google.com/uc?id=1XaThogOOqKjJj50LvfJ9WqutjMAC5AxA'\n",
    "\n",
    "ltc = pd.read_parquet(path_ltc_sample)\n",
    "ltc.head()"
   ]
  },
  {
   "cell_type": "code",
   "execution_count": 3,
   "id": "851657ae",
   "metadata": {},
   "outputs": [
    {
     "data": {
      "text/plain": [
       "0   2013-11-13 15:00:56\n",
       "1   2013-11-13 15:58:20\n",
       "2   2013-11-16 18:58:57\n",
       "3   2013-11-16 18:59:16\n",
       "4   2013-11-19 03:24:48\n",
       "Name: date, dtype: datetime64[ns]"
      ]
     },
     "execution_count": 3,
     "metadata": {},
     "output_type": "execute_result"
    }
   ],
   "source": [
    "ltc['date'].head()"
   ]
  },
  {
   "cell_type": "markdown",
   "id": "4a9deeaa",
   "metadata": {},
   "source": [
    "Приведение дат к целым числам"
   ]
  },
  {
   "cell_type": "code",
   "execution_count": 4,
   "id": "53f0e51a",
   "metadata": {},
   "outputs": [
    {
     "data": {
      "text/plain": [
       "0    1384354856000000000\n",
       "1    1384358300000000000\n",
       "2    1384628337000000000\n",
       "3    1384628356000000000\n",
       "4    1384831488000000000\n",
       "Name: date, dtype: int64"
      ]
     },
     "execution_count": 4,
     "metadata": {},
     "output_type": "execute_result"
    }
   ],
   "source": [
    "ltc['date'].head().astype('int64')"
   ]
  },
  {
   "cell_type": "code",
   "execution_count": 5,
   "id": "e1858922",
   "metadata": {},
   "outputs": [
    {
     "data": {
      "text/plain": [
       "0    2013-11-13 15:00:56\n",
       "1    2013-11-13 15:58:20\n",
       "2    2013-11-16 18:58:57\n",
       "3    2013-11-16 18:59:16\n",
       "4    2013-11-19 03:24:48\n",
       "Name: date, dtype: object"
      ]
     },
     "execution_count": 5,
     "metadata": {},
     "output_type": "execute_result"
    }
   ],
   "source": [
    "ltc['date'].head().astype(str)"
   ]
  },
  {
   "cell_type": "markdown",
   "id": "2d523d55",
   "metadata": {},
   "source": [
    "Приведение строк и чисел к датам"
   ]
  },
  {
   "cell_type": "code",
   "execution_count": 6,
   "id": "04b960b0",
   "metadata": {},
   "outputs": [
    {
     "data": {
      "text/plain": [
       "0   2013-11-13 15:00:56\n",
       "1   2013-11-13 15:58:20\n",
       "2   2013-11-16 18:58:57\n",
       "3   2013-11-16 18:59:16\n",
       "4   2013-11-19 03:24:48\n",
       "Name: date, dtype: datetime64[ns]"
      ]
     },
     "execution_count": 6,
     "metadata": {},
     "output_type": "execute_result"
    }
   ],
   "source": [
    "ltc['date'].head().astype(str).astype('datetime64')"
   ]
  },
  {
   "cell_type": "code",
   "execution_count": 7,
   "id": "5fd656b1",
   "metadata": {},
   "outputs": [
    {
     "data": {
      "text/plain": [
       "0   2013-11-13 15:00:56\n",
       "1   2013-11-13 15:58:20\n",
       "2   2013-11-16 18:58:57\n",
       "3   2013-11-16 18:59:16\n",
       "4   2013-11-19 03:24:48\n",
       "Name: date, dtype: datetime64[ns]"
      ]
     },
     "execution_count": 7,
     "metadata": {},
     "output_type": "execute_result"
    }
   ],
   "source": [
    "pd.to_datetime(ltc['date'].astype(str).head())"
   ]
  },
  {
   "cell_type": "code",
   "execution_count": 8,
   "id": "9669ee88",
   "metadata": {},
   "outputs": [
    {
     "data": {
      "text/plain": [
       "0   2013-11-13 15:00:56\n",
       "1   2013-11-13 15:58:20\n",
       "2   2013-11-16 18:58:57\n",
       "3   2013-11-16 18:59:16\n",
       "4   2013-11-19 03:24:48\n",
       "Name: date, dtype: datetime64[ns]"
      ]
     },
     "execution_count": 8,
     "metadata": {},
     "output_type": "execute_result"
    }
   ],
   "source": [
    "pd.to_datetime(ltc['date'].astype('int64').head(), unit='ns')"
   ]
  },
  {
   "cell_type": "markdown",
   "id": "ba86d5d7",
   "metadata": {},
   "source": [
    "### Разложение даты и времени на части"
   ]
  },
  {
   "cell_type": "markdown",
   "id": "6a48fd74",
   "metadata": {},
   "source": [
    "Но у дат есть свои специфические методы и атрибуты, которые можно получить через атрибут dt"
   ]
  },
  {
   "cell_type": "markdown",
   "id": "ca8da22f",
   "metadata": {},
   "source": [
    "| Название атрибута                          | Описание                                                |\n",
    "|:------------------------------------------:|:-------------------------------------------------------:|\n",
    "| year                                       | Год                                                     |\n",
    "| month                                      | Месяц                                                   |\n",
    "| day                                        | День                                                    |\n",
    "| hour                                       | Час                                                     |\n",
    "| minute                                     | Минута                                                  |\n",
    "| second                                     | Секунда                                                 |\n",
    "| microsecond                                | Микросекунда                                            |\n",
    "| nanosecond                                 | Наносекунда                                             |\n",
    "| date                                       | Дата (без учета времени и таймзоны)                     |\n",
    "| time                                       | Время (без учета таймзоны)                              |\n",
    "| timetz                                     | Время (с учетем таймзоны)                               |\n",
    "| dayofyear или day_of_year                  | Номер дня в году (начиная с 1)                          |\n",
    "| weekofyear или week или isocalendar().week | Номер недели в году (начиная с 1)                       |\n",
    "| day_of_week или weekday                    | Номер дня недели (начиная с 0)                          |\n",
    "| day_name('rus')                            | Название дня недели (на русском языке)                  |\n",
    "| quarter                                    | Номер квартала (начиная с 1)                            |\n",
    "| days_in_month или daysinmonth              | Число дней в месяце                                     |\n",
    "| freq                                       | Частота (если есть)                                     |\n",
    "| is_month_start                             | Проверка на то, что число - это первый день месяца      |\n",
    "| is_month_end                               | Проверка на то, что число - это последний день месяца   |\n",
    "| is_quarter_start                           | Проверка на то, что число - это первый день квартала    |\n",
    "| is_quarter_end                             | Проверка на то, что число - это последний день квартала |\n",
    "| is_year_start                              | Проверка на то, что число - это первый день года        |\n",
    "| is_year_end                                | Проверка на то, что число - это последний день года     |\n",
    "| is_leap_year                               | Проверка на то, что год - высокосный                    |\n",
    "| tz                                         | Таймзона (если есть)                                    |\n",
    "| isocalendar()                              | Разложение даты на год, неделю и день                   |"
   ]
  },
  {
   "cell_type": "markdown",
   "id": "ad988962",
   "metadata": {},
   "source": [
    "#### Год"
   ]
  },
  {
   "cell_type": "code",
   "execution_count": 9,
   "id": "51d80dbe",
   "metadata": {},
   "outputs": [
    {
     "data": {
      "text/plain": [
       "0          2013\n",
       "1          2013\n",
       "2          2013\n",
       "3          2013\n",
       "4          2013\n",
       "           ... \n",
       "1926431    2023\n",
       "1926432    2023\n",
       "1926433    2023\n",
       "1926434    2023\n",
       "1926435    2023\n",
       "Name: date, Length: 1926436, dtype: int64"
      ]
     },
     "execution_count": 9,
     "metadata": {},
     "output_type": "execute_result"
    }
   ],
   "source": [
    "ltc['date'].dt.year"
   ]
  },
  {
   "cell_type": "markdown",
   "id": "3fbce539",
   "metadata": {},
   "source": [
    "#### Месяц"
   ]
  },
  {
   "cell_type": "code",
   "execution_count": 10,
   "id": "34609476",
   "metadata": {},
   "outputs": [
    {
     "data": {
      "text/plain": [
       "0          11\n",
       "1          11\n",
       "2          11\n",
       "3          11\n",
       "4          11\n",
       "           ..\n",
       "1926431     3\n",
       "1926432     3\n",
       "1926433     3\n",
       "1926434     3\n",
       "1926435     3\n",
       "Name: date, Length: 1926436, dtype: int64"
      ]
     },
     "execution_count": 10,
     "metadata": {},
     "output_type": "execute_result"
    }
   ],
   "source": [
    "ltc['date'].dt.month"
   ]
  },
  {
   "cell_type": "markdown",
   "id": "7f18f115",
   "metadata": {},
   "source": [
    "#### Номер дня недели"
   ]
  },
  {
   "cell_type": "code",
   "execution_count": 11,
   "id": "300a7c44",
   "metadata": {},
   "outputs": [
    {
     "data": {
      "text/plain": [
       "0          2\n",
       "1          2\n",
       "2          5\n",
       "3          5\n",
       "4          1\n",
       "          ..\n",
       "1926431    4\n",
       "1926432    4\n",
       "1926433    4\n",
       "1926434    4\n",
       "1926435    4\n",
       "Name: date, Length: 1926436, dtype: int64"
      ]
     },
     "execution_count": 11,
     "metadata": {},
     "output_type": "execute_result"
    }
   ],
   "source": [
    "ltc['date'].dt.weekday"
   ]
  },
  {
   "cell_type": "markdown",
   "id": "401f638f",
   "metadata": {},
   "source": [
    "#### Дата"
   ]
  },
  {
   "cell_type": "markdown",
   "id": "acc6bb55",
   "metadata": {},
   "source": [
    "Тип данных - object!"
   ]
  },
  {
   "cell_type": "code",
   "execution_count": 12,
   "id": "3b7153af",
   "metadata": {},
   "outputs": [
    {
     "data": {
      "text/plain": [
       "0          2013-11-13\n",
       "1          2013-11-13\n",
       "2          2013-11-16\n",
       "3          2013-11-16\n",
       "4          2013-11-19\n",
       "              ...    \n",
       "1926431    2023-03-31\n",
       "1926432    2023-03-31\n",
       "1926433    2023-03-31\n",
       "1926434    2023-03-31\n",
       "1926435    2023-03-31\n",
       "Name: date, Length: 1926436, dtype: object"
      ]
     },
     "execution_count": 12,
     "metadata": {},
     "output_type": "execute_result"
    }
   ],
   "source": [
    "ltc['date'].dt.date"
   ]
  },
  {
   "cell_type": "markdown",
   "id": "191ee71c",
   "metadata": {},
   "source": [
    "#### Название дня недели "
   ]
  },
  {
   "cell_type": "code",
   "execution_count": 13,
   "id": "a7f487ba",
   "metadata": {},
   "outputs": [
    {
     "data": {
      "text/plain": [
       "0          Wednesday\n",
       "1          Wednesday\n",
       "2           Saturday\n",
       "3           Saturday\n",
       "4            Tuesday\n",
       "             ...    \n",
       "1926431       Friday\n",
       "1926432       Friday\n",
       "1926433       Friday\n",
       "1926434       Friday\n",
       "1926435       Friday\n",
       "Name: date, Length: 1926436, dtype: object"
      ]
     },
     "execution_count": 13,
     "metadata": {},
     "output_type": "execute_result"
    }
   ],
   "source": [
    "ltc['date'].dt.day_name()"
   ]
  },
  {
   "cell_type": "code",
   "execution_count": 14,
   "id": "fab97e3d",
   "metadata": {},
   "outputs": [
    {
     "data": {
      "text/plain": [
       "0            Среда\n",
       "1            Среда\n",
       "2          Суббота\n",
       "3          Суббота\n",
       "4          Вторник\n",
       "            ...   \n",
       "1926431    Пятница\n",
       "1926432    Пятница\n",
       "1926433    Пятница\n",
       "1926434    Пятница\n",
       "1926435    Пятница\n",
       "Name: date, Length: 1926436, dtype: object"
      ]
     },
     "execution_count": 14,
     "metadata": {},
     "output_type": "execute_result"
    }
   ],
   "source": [
    "ltc['date'].dt.day_name('rus')"
   ]
  },
  {
   "cell_type": "markdown",
   "id": "f97b6751",
   "metadata": {},
   "source": [
    "#### Проверка на то, что дата - начало месяца"
   ]
  },
  {
   "cell_type": "code",
   "execution_count": 15,
   "id": "77acdf89",
   "metadata": {},
   "outputs": [
    {
     "data": {
      "text/plain": [
       "0          False\n",
       "1          False\n",
       "2          False\n",
       "3          False\n",
       "4          False\n",
       "           ...  \n",
       "1926431    False\n",
       "1926432    False\n",
       "1926433    False\n",
       "1926434    False\n",
       "1926435    False\n",
       "Name: date, Length: 1926436, dtype: bool"
      ]
     },
     "execution_count": 15,
     "metadata": {},
     "output_type": "execute_result"
    }
   ],
   "source": [
    "ltc['date'].dt.is_month_start"
   ]
  },
  {
   "cell_type": "markdown",
   "id": "01be6572",
   "metadata": {},
   "source": [
    "#### Установка часового пояса"
   ]
  },
  {
   "cell_type": "code",
   "execution_count": 16,
   "id": "74af8e7c",
   "metadata": {},
   "outputs": [
    {
     "data": {
      "text/plain": [
       "0         2013-11-13 15:00:56+04:00\n",
       "1         2013-11-13 15:58:20+04:00\n",
       "2         2013-11-16 18:58:57+04:00\n",
       "3         2013-11-16 18:59:16+04:00\n",
       "4         2013-11-19 03:24:48+04:00\n",
       "                     ...           \n",
       "1926431   2023-03-31 23:50:05+03:00\n",
       "1926432   2023-03-31 23:52:03+03:00\n",
       "1926433   2023-03-31 23:52:57+03:00\n",
       "1926434   2023-03-31 23:54:02+03:00\n",
       "1926435   2023-03-31 23:56:19+03:00\n",
       "Name: date, Length: 1926436, dtype: datetime64[ns, Europe/Moscow]"
      ]
     },
     "execution_count": 16,
     "metadata": {},
     "output_type": "execute_result"
    }
   ],
   "source": [
    "tz = ltc['date'].dt.tz_localize('Europe/Moscow')\n",
    "tz"
   ]
  },
  {
   "cell_type": "code",
   "execution_count": 17,
   "id": "0b75bec4",
   "metadata": {},
   "outputs": [
    {
     "data": {
      "text/plain": [
       "['Africa/Abidjan',\n",
       " 'Africa/Accra',\n",
       " 'Africa/Addis_Ababa',\n",
       " 'Africa/Algiers',\n",
       " 'Africa/Asmara',\n",
       " 'Africa/Asmera',\n",
       " 'Africa/Bamako',\n",
       " 'Africa/Bangui',\n",
       " 'Africa/Banjul',\n",
       " 'Africa/Bissau',\n",
       " 'Africa/Blantyre',\n",
       " 'Africa/Brazzaville',\n",
       " 'Africa/Bujumbura',\n",
       " 'Africa/Cairo',\n",
       " 'Africa/Casablanca',\n",
       " 'Africa/Ceuta',\n",
       " 'Africa/Conakry',\n",
       " 'Africa/Dakar',\n",
       " 'Africa/Dar_es_Salaam',\n",
       " 'Africa/Djibouti',\n",
       " 'Africa/Douala',\n",
       " 'Africa/El_Aaiun',\n",
       " 'Africa/Freetown',\n",
       " 'Africa/Gaborone',\n",
       " 'Africa/Harare',\n",
       " 'Africa/Johannesburg',\n",
       " 'Africa/Juba',\n",
       " 'Africa/Kampala',\n",
       " 'Africa/Khartoum',\n",
       " 'Africa/Kigali',\n",
       " 'Africa/Kinshasa',\n",
       " 'Africa/Lagos',\n",
       " 'Africa/Libreville',\n",
       " 'Africa/Lome',\n",
       " 'Africa/Luanda',\n",
       " 'Africa/Lubumbashi',\n",
       " 'Africa/Lusaka',\n",
       " 'Africa/Malabo',\n",
       " 'Africa/Maputo',\n",
       " 'Africa/Maseru',\n",
       " 'Africa/Mbabane',\n",
       " 'Africa/Mogadishu',\n",
       " 'Africa/Monrovia',\n",
       " 'Africa/Nairobi',\n",
       " 'Africa/Ndjamena',\n",
       " 'Africa/Niamey',\n",
       " 'Africa/Nouakchott',\n",
       " 'Africa/Ouagadougou',\n",
       " 'Africa/Porto-Novo',\n",
       " 'Africa/Sao_Tome',\n",
       " 'Africa/Timbuktu',\n",
       " 'Africa/Tripoli',\n",
       " 'Africa/Tunis',\n",
       " 'Africa/Windhoek',\n",
       " 'America/Adak',\n",
       " 'America/Anchorage',\n",
       " 'America/Anguilla',\n",
       " 'America/Antigua',\n",
       " 'America/Araguaina',\n",
       " 'America/Argentina/Buenos_Aires',\n",
       " 'America/Argentina/Catamarca',\n",
       " 'America/Argentina/ComodRivadavia',\n",
       " 'America/Argentina/Cordoba',\n",
       " 'America/Argentina/Jujuy',\n",
       " 'America/Argentina/La_Rioja',\n",
       " 'America/Argentina/Mendoza',\n",
       " 'America/Argentina/Rio_Gallegos',\n",
       " 'America/Argentina/Salta',\n",
       " 'America/Argentina/San_Juan',\n",
       " 'America/Argentina/San_Luis',\n",
       " 'America/Argentina/Tucuman',\n",
       " 'America/Argentina/Ushuaia',\n",
       " 'America/Aruba',\n",
       " 'America/Asuncion',\n",
       " 'America/Atikokan',\n",
       " 'America/Atka',\n",
       " 'America/Bahia',\n",
       " 'America/Bahia_Banderas',\n",
       " 'America/Barbados',\n",
       " 'America/Belem',\n",
       " 'America/Belize',\n",
       " 'America/Blanc-Sablon',\n",
       " 'America/Boa_Vista',\n",
       " 'America/Bogota',\n",
       " 'America/Boise',\n",
       " 'America/Buenos_Aires',\n",
       " 'America/Cambridge_Bay',\n",
       " 'America/Campo_Grande',\n",
       " 'America/Cancun',\n",
       " 'America/Caracas',\n",
       " 'America/Catamarca',\n",
       " 'America/Cayenne',\n",
       " 'America/Cayman',\n",
       " 'America/Chicago',\n",
       " 'America/Chihuahua',\n",
       " 'America/Ciudad_Juarez',\n",
       " 'America/Coral_Harbour',\n",
       " 'America/Cordoba',\n",
       " 'America/Costa_Rica',\n",
       " 'America/Creston',\n",
       " 'America/Cuiaba',\n",
       " 'America/Curacao',\n",
       " 'America/Danmarkshavn',\n",
       " 'America/Dawson',\n",
       " 'America/Dawson_Creek',\n",
       " 'America/Denver',\n",
       " 'America/Detroit',\n",
       " 'America/Dominica',\n",
       " 'America/Edmonton',\n",
       " 'America/Eirunepe',\n",
       " 'America/El_Salvador',\n",
       " 'America/Ensenada',\n",
       " 'America/Fort_Nelson',\n",
       " 'America/Fort_Wayne',\n",
       " 'America/Fortaleza',\n",
       " 'America/Glace_Bay',\n",
       " 'America/Godthab',\n",
       " 'America/Goose_Bay',\n",
       " 'America/Grand_Turk',\n",
       " 'America/Grenada',\n",
       " 'America/Guadeloupe',\n",
       " 'America/Guatemala',\n",
       " 'America/Guayaquil',\n",
       " 'America/Guyana',\n",
       " 'America/Halifax',\n",
       " 'America/Havana',\n",
       " 'America/Hermosillo',\n",
       " 'America/Indiana/Indianapolis',\n",
       " 'America/Indiana/Knox',\n",
       " 'America/Indiana/Marengo',\n",
       " 'America/Indiana/Petersburg',\n",
       " 'America/Indiana/Tell_City',\n",
       " 'America/Indiana/Vevay',\n",
       " 'America/Indiana/Vincennes',\n",
       " 'America/Indiana/Winamac',\n",
       " 'America/Indianapolis',\n",
       " 'America/Inuvik',\n",
       " 'America/Iqaluit',\n",
       " 'America/Jamaica',\n",
       " 'America/Jujuy',\n",
       " 'America/Juneau',\n",
       " 'America/Kentucky/Louisville',\n",
       " 'America/Kentucky/Monticello',\n",
       " 'America/Knox_IN',\n",
       " 'America/Kralendijk',\n",
       " 'America/La_Paz',\n",
       " 'America/Lima',\n",
       " 'America/Los_Angeles',\n",
       " 'America/Louisville',\n",
       " 'America/Lower_Princes',\n",
       " 'America/Maceio',\n",
       " 'America/Managua',\n",
       " 'America/Manaus',\n",
       " 'America/Marigot',\n",
       " 'America/Martinique',\n",
       " 'America/Matamoros',\n",
       " 'America/Mazatlan',\n",
       " 'America/Mendoza',\n",
       " 'America/Menominee',\n",
       " 'America/Merida',\n",
       " 'America/Metlakatla',\n",
       " 'America/Mexico_City',\n",
       " 'America/Miquelon',\n",
       " 'America/Moncton',\n",
       " 'America/Monterrey',\n",
       " 'America/Montevideo',\n",
       " 'America/Montreal',\n",
       " 'America/Montserrat',\n",
       " 'America/Nassau',\n",
       " 'America/New_York',\n",
       " 'America/Nipigon',\n",
       " 'America/Nome',\n",
       " 'America/Noronha',\n",
       " 'America/North_Dakota/Beulah',\n",
       " 'America/North_Dakota/Center',\n",
       " 'America/North_Dakota/New_Salem',\n",
       " 'America/Nuuk',\n",
       " 'America/Ojinaga',\n",
       " 'America/Panama',\n",
       " 'America/Pangnirtung',\n",
       " 'America/Paramaribo',\n",
       " 'America/Phoenix',\n",
       " 'America/Port-au-Prince',\n",
       " 'America/Port_of_Spain',\n",
       " 'America/Porto_Acre',\n",
       " 'America/Porto_Velho',\n",
       " 'America/Puerto_Rico',\n",
       " 'America/Punta_Arenas',\n",
       " 'America/Rainy_River',\n",
       " 'America/Rankin_Inlet',\n",
       " 'America/Recife',\n",
       " 'America/Regina',\n",
       " 'America/Resolute',\n",
       " 'America/Rio_Branco',\n",
       " 'America/Rosario',\n",
       " 'America/Santa_Isabel',\n",
       " 'America/Santarem',\n",
       " 'America/Santiago',\n",
       " 'America/Santo_Domingo',\n",
       " 'America/Sao_Paulo',\n",
       " 'America/Scoresbysund',\n",
       " 'America/Shiprock',\n",
       " 'America/Sitka',\n",
       " 'America/St_Barthelemy',\n",
       " 'America/St_Johns',\n",
       " 'America/St_Kitts',\n",
       " 'America/St_Lucia',\n",
       " 'America/St_Thomas',\n",
       " 'America/St_Vincent',\n",
       " 'America/Swift_Current',\n",
       " 'America/Tegucigalpa',\n",
       " 'America/Thule',\n",
       " 'America/Thunder_Bay',\n",
       " 'America/Tijuana',\n",
       " 'America/Toronto',\n",
       " 'America/Tortola',\n",
       " 'America/Vancouver',\n",
       " 'America/Virgin',\n",
       " 'America/Whitehorse',\n",
       " 'America/Winnipeg',\n",
       " 'America/Yakutat',\n",
       " 'America/Yellowknife',\n",
       " 'Antarctica/Casey',\n",
       " 'Antarctica/Davis',\n",
       " 'Antarctica/DumontDUrville',\n",
       " 'Antarctica/Macquarie',\n",
       " 'Antarctica/Mawson',\n",
       " 'Antarctica/McMurdo',\n",
       " 'Antarctica/Palmer',\n",
       " 'Antarctica/Rothera',\n",
       " 'Antarctica/South_Pole',\n",
       " 'Antarctica/Syowa',\n",
       " 'Antarctica/Troll',\n",
       " 'Antarctica/Vostok',\n",
       " 'Arctic/Longyearbyen',\n",
       " 'Asia/Aden',\n",
       " 'Asia/Almaty',\n",
       " 'Asia/Amman',\n",
       " 'Asia/Anadyr',\n",
       " 'Asia/Aqtau',\n",
       " 'Asia/Aqtobe',\n",
       " 'Asia/Ashgabat',\n",
       " 'Asia/Ashkhabad',\n",
       " 'Asia/Atyrau',\n",
       " 'Asia/Baghdad',\n",
       " 'Asia/Bahrain',\n",
       " 'Asia/Baku',\n",
       " 'Asia/Bangkok',\n",
       " 'Asia/Barnaul',\n",
       " 'Asia/Beirut',\n",
       " 'Asia/Bishkek',\n",
       " 'Asia/Brunei',\n",
       " 'Asia/Calcutta',\n",
       " 'Asia/Chita',\n",
       " 'Asia/Choibalsan',\n",
       " 'Asia/Chongqing',\n",
       " 'Asia/Chungking',\n",
       " 'Asia/Colombo',\n",
       " 'Asia/Dacca',\n",
       " 'Asia/Damascus',\n",
       " 'Asia/Dhaka',\n",
       " 'Asia/Dili',\n",
       " 'Asia/Dubai',\n",
       " 'Asia/Dushanbe',\n",
       " 'Asia/Famagusta',\n",
       " 'Asia/Gaza',\n",
       " 'Asia/Harbin',\n",
       " 'Asia/Hebron',\n",
       " 'Asia/Ho_Chi_Minh',\n",
       " 'Asia/Hong_Kong',\n",
       " 'Asia/Hovd',\n",
       " 'Asia/Irkutsk',\n",
       " 'Asia/Istanbul',\n",
       " 'Asia/Jakarta',\n",
       " 'Asia/Jayapura',\n",
       " 'Asia/Jerusalem',\n",
       " 'Asia/Kabul',\n",
       " 'Asia/Kamchatka',\n",
       " 'Asia/Karachi',\n",
       " 'Asia/Kashgar',\n",
       " 'Asia/Kathmandu',\n",
       " 'Asia/Katmandu',\n",
       " 'Asia/Khandyga',\n",
       " 'Asia/Kolkata',\n",
       " 'Asia/Krasnoyarsk',\n",
       " 'Asia/Kuala_Lumpur',\n",
       " 'Asia/Kuching',\n",
       " 'Asia/Kuwait',\n",
       " 'Asia/Macao',\n",
       " 'Asia/Macau',\n",
       " 'Asia/Magadan',\n",
       " 'Asia/Makassar',\n",
       " 'Asia/Manila',\n",
       " 'Asia/Muscat',\n",
       " 'Asia/Nicosia',\n",
       " 'Asia/Novokuznetsk',\n",
       " 'Asia/Novosibirsk',\n",
       " 'Asia/Omsk',\n",
       " 'Asia/Oral',\n",
       " 'Asia/Phnom_Penh',\n",
       " 'Asia/Pontianak',\n",
       " 'Asia/Pyongyang',\n",
       " 'Asia/Qatar',\n",
       " 'Asia/Qostanay',\n",
       " 'Asia/Qyzylorda',\n",
       " 'Asia/Rangoon',\n",
       " 'Asia/Riyadh',\n",
       " 'Asia/Saigon',\n",
       " 'Asia/Sakhalin',\n",
       " 'Asia/Samarkand',\n",
       " 'Asia/Seoul',\n",
       " 'Asia/Shanghai',\n",
       " 'Asia/Singapore',\n",
       " 'Asia/Srednekolymsk',\n",
       " 'Asia/Taipei',\n",
       " 'Asia/Tashkent',\n",
       " 'Asia/Tbilisi',\n",
       " 'Asia/Tehran',\n",
       " 'Asia/Tel_Aviv',\n",
       " 'Asia/Thimbu',\n",
       " 'Asia/Thimphu',\n",
       " 'Asia/Tokyo',\n",
       " 'Asia/Tomsk',\n",
       " 'Asia/Ujung_Pandang',\n",
       " 'Asia/Ulaanbaatar',\n",
       " 'Asia/Ulan_Bator',\n",
       " 'Asia/Urumqi',\n",
       " 'Asia/Ust-Nera',\n",
       " 'Asia/Vientiane',\n",
       " 'Asia/Vladivostok',\n",
       " 'Asia/Yakutsk',\n",
       " 'Asia/Yangon',\n",
       " 'Asia/Yekaterinburg',\n",
       " 'Asia/Yerevan',\n",
       " 'Atlantic/Azores',\n",
       " 'Atlantic/Bermuda',\n",
       " 'Atlantic/Canary',\n",
       " 'Atlantic/Cape_Verde',\n",
       " 'Atlantic/Faeroe',\n",
       " 'Atlantic/Faroe',\n",
       " 'Atlantic/Jan_Mayen',\n",
       " 'Atlantic/Madeira',\n",
       " 'Atlantic/Reykjavik',\n",
       " 'Atlantic/South_Georgia',\n",
       " 'Atlantic/St_Helena',\n",
       " 'Atlantic/Stanley',\n",
       " 'Australia/ACT',\n",
       " 'Australia/Adelaide',\n",
       " 'Australia/Brisbane',\n",
       " 'Australia/Broken_Hill',\n",
       " 'Australia/Canberra',\n",
       " 'Australia/Currie',\n",
       " 'Australia/Darwin',\n",
       " 'Australia/Eucla',\n",
       " 'Australia/Hobart',\n",
       " 'Australia/LHI',\n",
       " 'Australia/Lindeman',\n",
       " 'Australia/Lord_Howe',\n",
       " 'Australia/Melbourne',\n",
       " 'Australia/North',\n",
       " 'Australia/NSW',\n",
       " 'Australia/Perth',\n",
       " 'Australia/Queensland',\n",
       " 'Australia/South',\n",
       " 'Australia/Sydney',\n",
       " 'Australia/Tasmania',\n",
       " 'Australia/Victoria',\n",
       " 'Australia/West',\n",
       " 'Australia/Yancowinna',\n",
       " 'Brazil/Acre',\n",
       " 'Brazil/DeNoronha',\n",
       " 'Brazil/East',\n",
       " 'Brazil/West',\n",
       " 'Canada/Atlantic',\n",
       " 'Canada/Central',\n",
       " 'Canada/Eastern',\n",
       " 'Canada/Mountain',\n",
       " 'Canada/Newfoundland',\n",
       " 'Canada/Pacific',\n",
       " 'Canada/Saskatchewan',\n",
       " 'Canada/Yukon',\n",
       " 'CET',\n",
       " 'Chile/Continental',\n",
       " 'Chile/EasterIsland',\n",
       " 'CST6CDT',\n",
       " 'Cuba',\n",
       " 'EET',\n",
       " 'Egypt',\n",
       " 'Eire',\n",
       " 'EST',\n",
       " 'EST5EDT',\n",
       " 'Etc/GMT',\n",
       " 'Etc/GMT+0',\n",
       " 'Etc/GMT+1',\n",
       " 'Etc/GMT+10',\n",
       " 'Etc/GMT+11',\n",
       " 'Etc/GMT+12',\n",
       " 'Etc/GMT+2',\n",
       " 'Etc/GMT+3',\n",
       " 'Etc/GMT+4',\n",
       " 'Etc/GMT+5',\n",
       " 'Etc/GMT+6',\n",
       " 'Etc/GMT+7',\n",
       " 'Etc/GMT+8',\n",
       " 'Etc/GMT+9',\n",
       " 'Etc/GMT-0',\n",
       " 'Etc/GMT-1',\n",
       " 'Etc/GMT-10',\n",
       " 'Etc/GMT-11',\n",
       " 'Etc/GMT-12',\n",
       " 'Etc/GMT-13',\n",
       " 'Etc/GMT-14',\n",
       " 'Etc/GMT-2',\n",
       " 'Etc/GMT-3',\n",
       " 'Etc/GMT-4',\n",
       " 'Etc/GMT-5',\n",
       " 'Etc/GMT-6',\n",
       " 'Etc/GMT-7',\n",
       " 'Etc/GMT-8',\n",
       " 'Etc/GMT-9',\n",
       " 'Etc/GMT0',\n",
       " 'Etc/Greenwich',\n",
       " 'Etc/UCT',\n",
       " 'Etc/Universal',\n",
       " 'Etc/UTC',\n",
       " 'Etc/Zulu',\n",
       " 'Europe/Amsterdam',\n",
       " 'Europe/Andorra',\n",
       " 'Europe/Astrakhan',\n",
       " 'Europe/Athens',\n",
       " 'Europe/Belfast',\n",
       " 'Europe/Belgrade',\n",
       " 'Europe/Berlin',\n",
       " 'Europe/Bratislava',\n",
       " 'Europe/Brussels',\n",
       " 'Europe/Bucharest',\n",
       " 'Europe/Budapest',\n",
       " 'Europe/Busingen',\n",
       " 'Europe/Chisinau',\n",
       " 'Europe/Copenhagen',\n",
       " 'Europe/Dublin',\n",
       " 'Europe/Gibraltar',\n",
       " 'Europe/Guernsey',\n",
       " 'Europe/Helsinki',\n",
       " 'Europe/Isle_of_Man',\n",
       " 'Europe/Istanbul',\n",
       " 'Europe/Jersey',\n",
       " 'Europe/Kaliningrad',\n",
       " 'Europe/Kiev',\n",
       " 'Europe/Kirov',\n",
       " 'Europe/Kyiv',\n",
       " 'Europe/Lisbon',\n",
       " 'Europe/Ljubljana',\n",
       " 'Europe/London',\n",
       " 'Europe/Luxembourg',\n",
       " 'Europe/Madrid',\n",
       " 'Europe/Malta',\n",
       " 'Europe/Mariehamn',\n",
       " 'Europe/Minsk',\n",
       " 'Europe/Monaco',\n",
       " 'Europe/Moscow',\n",
       " 'Europe/Nicosia',\n",
       " 'Europe/Oslo',\n",
       " 'Europe/Paris',\n",
       " 'Europe/Podgorica',\n",
       " 'Europe/Prague',\n",
       " 'Europe/Riga',\n",
       " 'Europe/Rome',\n",
       " 'Europe/Samara',\n",
       " 'Europe/San_Marino',\n",
       " 'Europe/Sarajevo',\n",
       " 'Europe/Saratov',\n",
       " 'Europe/Simferopol',\n",
       " 'Europe/Skopje',\n",
       " 'Europe/Sofia',\n",
       " 'Europe/Stockholm',\n",
       " 'Europe/Tallinn',\n",
       " 'Europe/Tirane',\n",
       " 'Europe/Tiraspol',\n",
       " 'Europe/Ulyanovsk',\n",
       " 'Europe/Uzhgorod',\n",
       " 'Europe/Vaduz',\n",
       " 'Europe/Vatican',\n",
       " 'Europe/Vienna',\n",
       " 'Europe/Vilnius',\n",
       " 'Europe/Volgograd',\n",
       " 'Europe/Warsaw',\n",
       " 'Europe/Zagreb',\n",
       " 'Europe/Zaporozhye',\n",
       " 'Europe/Zurich',\n",
       " 'Factory',\n",
       " 'GB',\n",
       " 'GB-Eire',\n",
       " 'GMT',\n",
       " 'GMT+0',\n",
       " 'GMT-0',\n",
       " 'GMT0',\n",
       " 'Greenwich',\n",
       " 'Hongkong',\n",
       " 'HST',\n",
       " 'Iceland',\n",
       " 'Indian/Antananarivo',\n",
       " 'Indian/Chagos',\n",
       " 'Indian/Christmas',\n",
       " 'Indian/Cocos',\n",
       " 'Indian/Comoro',\n",
       " 'Indian/Kerguelen',\n",
       " 'Indian/Mahe',\n",
       " 'Indian/Maldives',\n",
       " 'Indian/Mauritius',\n",
       " 'Indian/Mayotte',\n",
       " 'Indian/Reunion',\n",
       " 'Iran',\n",
       " 'Israel',\n",
       " 'Jamaica',\n",
       " 'Japan',\n",
       " 'Kwajalein',\n",
       " 'Libya',\n",
       " 'MET',\n",
       " 'Mexico/BajaNorte',\n",
       " 'Mexico/BajaSur',\n",
       " 'Mexico/General',\n",
       " 'MST',\n",
       " 'MST7MDT',\n",
       " 'Navajo',\n",
       " 'NZ',\n",
       " 'NZ-CHAT',\n",
       " 'Pacific/Apia',\n",
       " 'Pacific/Auckland',\n",
       " 'Pacific/Bougainville',\n",
       " 'Pacific/Chatham',\n",
       " 'Pacific/Chuuk',\n",
       " 'Pacific/Easter',\n",
       " 'Pacific/Efate',\n",
       " 'Pacific/Enderbury',\n",
       " 'Pacific/Fakaofo',\n",
       " 'Pacific/Fiji',\n",
       " 'Pacific/Funafuti',\n",
       " 'Pacific/Galapagos',\n",
       " 'Pacific/Gambier',\n",
       " 'Pacific/Guadalcanal',\n",
       " 'Pacific/Guam',\n",
       " 'Pacific/Honolulu',\n",
       " 'Pacific/Johnston',\n",
       " 'Pacific/Kanton',\n",
       " 'Pacific/Kiritimati',\n",
       " 'Pacific/Kosrae',\n",
       " 'Pacific/Kwajalein',\n",
       " 'Pacific/Majuro',\n",
       " 'Pacific/Marquesas',\n",
       " 'Pacific/Midway',\n",
       " 'Pacific/Nauru',\n",
       " 'Pacific/Niue',\n",
       " 'Pacific/Norfolk',\n",
       " 'Pacific/Noumea',\n",
       " 'Pacific/Pago_Pago',\n",
       " 'Pacific/Palau',\n",
       " 'Pacific/Pitcairn',\n",
       " 'Pacific/Pohnpei',\n",
       " 'Pacific/Ponape',\n",
       " 'Pacific/Port_Moresby',\n",
       " 'Pacific/Rarotonga',\n",
       " 'Pacific/Saipan',\n",
       " 'Pacific/Samoa',\n",
       " 'Pacific/Tahiti',\n",
       " 'Pacific/Tarawa',\n",
       " 'Pacific/Tongatapu',\n",
       " 'Pacific/Truk',\n",
       " 'Pacific/Wake',\n",
       " 'Pacific/Wallis',\n",
       " 'Pacific/Yap',\n",
       " 'Poland',\n",
       " 'Portugal',\n",
       " 'PRC',\n",
       " 'PST8PDT',\n",
       " 'ROC',\n",
       " 'ROK',\n",
       " 'Singapore',\n",
       " 'Turkey',\n",
       " 'UCT',\n",
       " 'Universal',\n",
       " 'US/Alaska',\n",
       " 'US/Aleutian',\n",
       " 'US/Arizona',\n",
       " 'US/Central',\n",
       " 'US/East-Indiana',\n",
       " 'US/Eastern',\n",
       " 'US/Hawaii',\n",
       " 'US/Indiana-Starke',\n",
       " 'US/Michigan',\n",
       " 'US/Mountain',\n",
       " 'US/Pacific',\n",
       " 'US/Samoa',\n",
       " 'UTC',\n",
       " 'W-SU',\n",
       " 'WET',\n",
       " 'Zulu']"
      ]
     },
     "execution_count": 17,
     "metadata": {},
     "output_type": "execute_result"
    }
   ],
   "source": [
    "url_timezones = 'https://en.wikipedia.org/wiki/List_of_tz_database_time_zones'\n",
    "pd.read_html(url_timezones)[0].droplevel(0, 1)['TZ identifier'].tolist()#[:5]"
   ]
  },
  {
   "cell_type": "markdown",
   "id": "5a915c96",
   "metadata": {},
   "source": [
    "#### Изменение часового пояса"
   ]
  },
  {
   "cell_type": "code",
   "execution_count": 18,
   "id": "c9a6bb5f",
   "metadata": {},
   "outputs": [
    {
     "data": {
      "text/plain": [
       "0   2013-11-13 15:00:56+04:00\n",
       "1   2013-11-13 15:58:20+04:00\n",
       "2   2013-11-16 18:58:57+04:00\n",
       "3   2013-11-16 18:59:16+04:00\n",
       "4   2013-11-19 03:24:48+04:00\n",
       "Name: date, dtype: datetime64[ns, Europe/Moscow]"
      ]
     },
     "execution_count": 18,
     "metadata": {},
     "output_type": "execute_result"
    }
   ],
   "source": [
    "tz.head()"
   ]
  },
  {
   "cell_type": "code",
   "execution_count": 19,
   "id": "06ccf661",
   "metadata": {
    "scrolled": true
   },
   "outputs": [
    {
     "data": {
      "text/plain": [
       "0   2013-11-13 17:00:56+06:00\n",
       "1   2013-11-13 17:58:20+06:00\n",
       "2   2013-11-16 20:58:57+06:00\n",
       "3   2013-11-16 20:59:16+06:00\n",
       "4   2013-11-19 05:24:48+06:00\n",
       "Name: date, dtype: datetime64[ns, Asia/Yekaterinburg]"
      ]
     },
     "execution_count": 19,
     "metadata": {},
     "output_type": "execute_result"
    }
   ],
   "source": [
    "tz.dt.tz_convert('Asia/Yekaterinburg').head()"
   ]
  },
  {
   "cell_type": "code",
   "execution_count": null,
   "id": "5dfbf9e0",
   "metadata": {},
   "outputs": [],
   "source": []
  },
  {
   "cell_type": "code",
   "execution_count": null,
   "id": "d0681211",
   "metadata": {},
   "outputs": [],
   "source": []
  },
  {
   "cell_type": "markdown",
   "id": "5219308a",
   "metadata": {},
   "source": [
    "### Округление дат"
   ]
  },
  {
   "cell_type": "markdown",
   "id": "a6325096",
   "metadata": {},
   "source": [
    "#### dt.normalize()\n",
    "\n",
    "Приведение даты к полуночи"
   ]
  },
  {
   "cell_type": "code",
   "execution_count": 20,
   "id": "383ba39e",
   "metadata": {},
   "outputs": [
    {
     "data": {
      "text/plain": [
       "0         2013-11-13\n",
       "1         2013-11-13\n",
       "2         2013-11-16\n",
       "3         2013-11-16\n",
       "4         2013-11-19\n",
       "             ...    \n",
       "1926431   2023-03-31\n",
       "1926432   2023-03-31\n",
       "1926433   2023-03-31\n",
       "1926434   2023-03-31\n",
       "1926435   2023-03-31\n",
       "Name: date, Length: 1926436, dtype: datetime64[ns]"
      ]
     },
     "execution_count": 20,
     "metadata": {},
     "output_type": "execute_result"
    }
   ],
   "source": [
    "ltc['date'].dt.normalize()"
   ]
  },
  {
   "cell_type": "markdown",
   "id": "bf01a8bf",
   "metadata": {},
   "source": [
    "### dt.round()\n",
    "\n",
    "Округление даты"
   ]
  },
  {
   "cell_type": "code",
   "execution_count": 21,
   "id": "1b411203",
   "metadata": {},
   "outputs": [
    {
     "data": {
      "text/plain": [
       "0         2013-11-13 15:00:00\n",
       "1         2013-11-13 16:00:00\n",
       "2         2013-11-16 19:00:00\n",
       "3         2013-11-16 19:00:00\n",
       "4         2013-11-19 03:00:00\n",
       "                  ...        \n",
       "1926431   2023-04-01 00:00:00\n",
       "1926432   2023-04-01 00:00:00\n",
       "1926433   2023-04-01 00:00:00\n",
       "1926434   2023-04-01 00:00:00\n",
       "1926435   2023-04-01 00:00:00\n",
       "Name: date, Length: 1926436, dtype: datetime64[ns]"
      ]
     },
     "execution_count": 21,
     "metadata": {},
     "output_type": "execute_result"
    }
   ],
   "source": [
    "ltc['date'].dt.round(freq='h')"
   ]
  },
  {
   "cell_type": "code",
   "execution_count": 22,
   "id": "7e16381a",
   "metadata": {},
   "outputs": [
    {
     "data": {
      "text/plain": [
       "0         2013-11-13\n",
       "1         2013-11-13\n",
       "2         2013-11-17\n",
       "3         2013-11-17\n",
       "4         2013-11-19\n",
       "             ...    \n",
       "1926431   2023-04-01\n",
       "1926432   2023-04-01\n",
       "1926433   2023-04-01\n",
       "1926434   2023-04-01\n",
       "1926435   2023-04-01\n",
       "Name: date, Length: 1926436, dtype: datetime64[ns]"
      ]
     },
     "execution_count": 22,
     "metadata": {},
     "output_type": "execute_result"
    }
   ],
   "source": [
    "ltc['date'].dt.round(freq='2d')"
   ]
  },
  {
   "cell_type": "code",
   "execution_count": 23,
   "id": "1a0b64c6",
   "metadata": {},
   "outputs": [],
   "source": [
    "# Это работать не будет\n",
    "# ltc['date'].dt.round(freq='m')"
   ]
  },
  {
   "cell_type": "markdown",
   "id": "2eecdc2a",
   "metadata": {},
   "source": [
    "Можно написать свое условие"
   ]
  },
  {
   "cell_type": "code",
   "execution_count": 24,
   "id": "fdbdb2a2",
   "metadata": {},
   "outputs": [
    {
     "data": {
      "text/plain": [
       "array(['2013-10-31T00:00:00.000000000', '2013-10-31T00:00:00.000000000',\n",
       "       '2013-11-30T00:00:00.000000000', ...,\n",
       "       '2023-03-31T00:00:00.000000000', '2023-03-31T00:00:00.000000000',\n",
       "       '2023-03-31T00:00:00.000000000'], dtype='datetime64[ns]')"
      ]
     },
     "execution_count": 24,
     "metadata": {},
     "output_type": "execute_result"
    }
   ],
   "source": [
    "np.where(ltc['date'].dt.day >= 16,\n",
    "         ltc['date'].dt.normalize() + pd.offsets.MonthEnd(0), # приводим дату к концу месяца если условие выполнено\n",
    "#          Приводим дату к концу предыдущего месяца если условие не соблюдается\n",
    "         ltc['date'].dt.normalize() + pd.offsets.MonthEnd(0) - pd.offsets.MonthEnd(1))"
   ]
  },
  {
   "cell_type": "markdown",
   "id": "30eb491c",
   "metadata": {},
   "source": [
    "### dt.floor\n",
    "\n",
    "Округление даты вниз"
   ]
  },
  {
   "cell_type": "code",
   "execution_count": 25,
   "id": "e94f8377",
   "metadata": {},
   "outputs": [
    {
     "data": {
      "text/plain": [
       "0         2013-11-13\n",
       "1         2013-11-13\n",
       "2         2013-11-16\n",
       "3         2013-11-16\n",
       "4         2013-11-19\n",
       "             ...    \n",
       "1926431   2023-03-31\n",
       "1926432   2023-03-31\n",
       "1926433   2023-03-31\n",
       "1926434   2023-03-31\n",
       "1926435   2023-03-31\n",
       "Name: date, Length: 1926436, dtype: datetime64[ns]"
      ]
     },
     "execution_count": 25,
     "metadata": {},
     "output_type": "execute_result"
    }
   ],
   "source": [
    "ltc['date'].dt.floor(freq='d')"
   ]
  },
  {
   "cell_type": "markdown",
   "id": "77d3ae9f",
   "metadata": {},
   "source": [
    "### dt.ceil\n",
    "\n",
    "Округление даты вверх"
   ]
  },
  {
   "cell_type": "code",
   "execution_count": 26,
   "id": "fe4aefe1",
   "metadata": {},
   "outputs": [
    {
     "data": {
      "text/plain": [
       "0         2013-11-14\n",
       "1         2013-11-14\n",
       "2         2013-11-17\n",
       "3         2013-11-17\n",
       "4         2013-11-20\n",
       "             ...    \n",
       "1926431   2023-04-01\n",
       "1926432   2023-04-01\n",
       "1926433   2023-04-01\n",
       "1926434   2023-04-01\n",
       "1926435   2023-04-01\n",
       "Name: date, Length: 1926436, dtype: datetime64[ns]"
      ]
     },
     "execution_count": 26,
     "metadata": {},
     "output_type": "execute_result"
    }
   ],
   "source": [
    "ltc['date'].dt.ceil(freq='d')"
   ]
  },
  {
   "cell_type": "markdown",
   "id": "bd11001c",
   "metadata": {},
   "source": [
    "### dt.strftime()\n",
    "Представление даты в виде строки нужного формата"
   ]
  },
  {
   "cell_type": "code",
   "execution_count": 27,
   "id": "f27f7015",
   "metadata": {},
   "outputs": [
    {
     "data": {
      "text/plain": [
       "0    13-11-2013\n",
       "1    13-11-2013\n",
       "2    16-11-2013\n",
       "3    16-11-2013\n",
       "4    19-11-2013\n",
       "Name: date, dtype: object"
      ]
     },
     "execution_count": 27,
     "metadata": {},
     "output_type": "execute_result"
    }
   ],
   "source": [
    "ltc['date'].head().dt.strftime('%d-%m-%Y')"
   ]
  },
  {
   "cell_type": "code",
   "execution_count": null,
   "id": "71265365",
   "metadata": {},
   "outputs": [],
   "source": []
  },
  {
   "cell_type": "code",
   "execution_count": null,
   "id": "0cfd3055",
   "metadata": {},
   "outputs": [],
   "source": []
  },
  {
   "cell_type": "markdown",
   "id": "192f630a",
   "metadata": {},
   "source": [
    "### С датами можно использовать агрегационные функции"
   ]
  },
  {
   "cell_type": "code",
   "execution_count": 28,
   "id": "ce97d656",
   "metadata": {},
   "outputs": [
    {
     "data": {
      "text/plain": [
       "Timestamp('2020-06-27 12:28:52.505041920')"
      ]
     },
     "execution_count": 28,
     "metadata": {},
     "output_type": "execute_result"
    }
   ],
   "source": [
    "ltc['date'].mean()"
   ]
  },
  {
   "cell_type": "code",
   "execution_count": 29,
   "id": "38974ddd",
   "metadata": {},
   "outputs": [
    {
     "data": {
      "text/plain": [
       "Timedelta('639 days 02:06:48.655962912')"
      ]
     },
     "execution_count": 29,
     "metadata": {},
     "output_type": "execute_result"
    }
   ],
   "source": [
    "ltc['date'].std()"
   ]
  },
  {
   "cell_type": "code",
   "execution_count": 30,
   "id": "5c8564ff",
   "metadata": {},
   "outputs": [
    {
     "data": {
      "text/plain": [
       "numpy.datetime64('2020-06-27T12:28:52.505041920')"
      ]
     },
     "execution_count": 30,
     "metadata": {},
     "output_type": "execute_result"
    }
   ],
   "source": [
    "ltc['date'].astype('int64').mean().astype('int64').astype('datetime64[ns]')"
   ]
  },
  {
   "cell_type": "code",
   "execution_count": null,
   "id": "7b7aae1a",
   "metadata": {},
   "outputs": [],
   "source": []
  },
  {
   "cell_type": "code",
   "execution_count": null,
   "id": "280f9972",
   "metadata": {},
   "outputs": [],
   "source": []
  },
  {
   "cell_type": "markdown",
   "id": "5ea7bd2d",
   "metadata": {},
   "source": [
    "### Если мы работаем не с Series, то ставить dt не надо"
   ]
  },
  {
   "cell_type": "code",
   "execution_count": 31,
   "id": "af57f2cc",
   "metadata": {},
   "outputs": [
    {
     "data": {
      "text/plain": [
       "Timestamp('2023-07-23 00:00:00')"
      ]
     },
     "execution_count": 31,
     "metadata": {},
     "output_type": "execute_result"
    }
   ],
   "source": [
    "pd.Timestamp('2023-07-23')"
   ]
  },
  {
   "cell_type": "code",
   "execution_count": 32,
   "id": "c422870d",
   "metadata": {},
   "outputs": [
    {
     "data": {
      "text/plain": [
       "23"
      ]
     },
     "execution_count": 32,
     "metadata": {},
     "output_type": "execute_result"
    }
   ],
   "source": [
    "pd.Timestamp('2023-07-23').day"
   ]
  },
  {
   "cell_type": "code",
   "execution_count": 33,
   "id": "4b42f064",
   "metadata": {},
   "outputs": [
    {
     "data": {
      "text/plain": [
       "7"
      ]
     },
     "execution_count": 33,
     "metadata": {},
     "output_type": "execute_result"
    }
   ],
   "source": [
    "pd.Timestamp('2023-07-23').month"
   ]
  },
  {
   "cell_type": "code",
   "execution_count": 34,
   "id": "e6100330",
   "metadata": {},
   "outputs": [
    {
     "data": {
      "text/plain": [
       "Index(['Воскресенье', 'Понедельник', 'Вторник', 'Среда', 'Четверг', 'Пятница',\n",
       "       'Суббота', 'Воскресенье', 'Понедельник', 'Вторник', 'Среда', 'Четверг',\n",
       "       'Пятница', 'Суббота', 'Воскресенье', 'Понедельник', 'Вторник', 'Среда',\n",
       "       'Четверг', 'Пятница', 'Суббота', 'Воскресенье', 'Понедельник',\n",
       "       'Вторник', 'Среда', 'Четверг', 'Пятница', 'Суббота', 'Воскресенье',\n",
       "       'Понедельник', 'Вторник', 'Среда'],\n",
       "      dtype='object')"
      ]
     },
     "execution_count": 34,
     "metadata": {},
     "output_type": "execute_result"
    }
   ],
   "source": [
    "pd.date_range('2023-07-23', '2023-08-23', freq='d').day_name('rus')"
   ]
  },
  {
   "cell_type": "code",
   "execution_count": null,
   "id": "441dbd6b",
   "metadata": {},
   "outputs": [],
   "source": []
  },
  {
   "cell_type": "code",
   "execution_count": null,
   "id": "ef93517a",
   "metadata": {},
   "outputs": [],
   "source": []
  },
  {
   "cell_type": "markdown",
   "id": "754e4b23",
   "metadata": {},
   "source": [
    "#### Все эти методы можно использовать при фильтрации строк"
   ]
  },
  {
   "cell_type": "code",
   "execution_count": 35,
   "id": "db5506c0",
   "metadata": {},
   "outputs": [
    {
     "data": {
      "text/html": [
       "<div>\n",
       "<style scoped>\n",
       "    .dataframe tbody tr th:only-of-type {\n",
       "        vertical-align: middle;\n",
       "    }\n",
       "\n",
       "    .dataframe tbody tr th {\n",
       "        vertical-align: top;\n",
       "    }\n",
       "\n",
       "    .dataframe thead th {\n",
       "        text-align: right;\n",
       "    }\n",
       "</style>\n",
       "<table border=\"1\" class=\"dataframe\">\n",
       "  <thead>\n",
       "    <tr style=\"text-align: right;\">\n",
       "      <th></th>\n",
       "      <th>date</th>\n",
       "      <th>price</th>\n",
       "      <th>volume</th>\n",
       "    </tr>\n",
       "  </thead>\n",
       "  <tbody>\n",
       "    <tr>\n",
       "      <th>342</th>\n",
       "      <td>2013-12-01 09:02:09</td>\n",
       "      <td>41.00000</td>\n",
       "      <td>0.564837</td>\n",
       "    </tr>\n",
       "    <tr>\n",
       "      <th>343</th>\n",
       "      <td>2013-12-01 09:25:02</td>\n",
       "      <td>41.00000</td>\n",
       "      <td>0.000299</td>\n",
       "    </tr>\n",
       "    <tr>\n",
       "      <th>344</th>\n",
       "      <td>2013-12-01 11:47:53</td>\n",
       "      <td>35.00000</td>\n",
       "      <td>0.422280</td>\n",
       "    </tr>\n",
       "    <tr>\n",
       "      <th>345</th>\n",
       "      <td>2013-12-01 19:35:09</td>\n",
       "      <td>24.48034</td>\n",
       "      <td>0.081649</td>\n",
       "    </tr>\n",
       "    <tr>\n",
       "      <th>346</th>\n",
       "      <td>2013-12-01 20:43:32</td>\n",
       "      <td>30.37258</td>\n",
       "      <td>2.000168</td>\n",
       "    </tr>\n",
       "  </tbody>\n",
       "</table>\n",
       "</div>"
      ],
      "text/plain": [
       "                   date     price    volume\n",
       "342 2013-12-01 09:02:09  41.00000  0.564837\n",
       "343 2013-12-01 09:25:02  41.00000  0.000299\n",
       "344 2013-12-01 11:47:53  35.00000  0.422280\n",
       "345 2013-12-01 19:35:09  24.48034  0.081649\n",
       "346 2013-12-01 20:43:32  30.37258  2.000168"
      ]
     },
     "execution_count": 35,
     "metadata": {},
     "output_type": "execute_result"
    }
   ],
   "source": [
    "ltc.query('date.dt.is_month_start').head()"
   ]
  },
  {
   "cell_type": "markdown",
   "id": "688b1060",
   "metadata": {},
   "source": [
    "### asof\n",
    "\n",
    "#### Метод возвращает актуальное (последнее доступное) на указанную дату заначение"
   ]
  },
  {
   "cell_type": "code",
   "execution_count": 36,
   "id": "1e3f93c8",
   "metadata": {},
   "outputs": [
    {
     "data": {
      "text/plain": [
       "price      7.200000\n",
       "volume    90.126216\n",
       "Name: 2017-03-30 23:05:00, dtype: float64"
      ]
     },
     "execution_count": 36,
     "metadata": {},
     "output_type": "execute_result"
    }
   ],
   "source": [
    "(ltc\n",
    "    .set_index('date')\n",
    "    .asof('2017-03-30 23:05:00')\n",
    ")"
   ]
  },
  {
   "cell_type": "code",
   "execution_count": 37,
   "id": "67f68ba0",
   "metadata": {},
   "outputs": [
    {
     "data": {
      "text/html": [
       "<div>\n",
       "<style scoped>\n",
       "    .dataframe tbody tr th:only-of-type {\n",
       "        vertical-align: middle;\n",
       "    }\n",
       "\n",
       "    .dataframe tbody tr th {\n",
       "        vertical-align: top;\n",
       "    }\n",
       "\n",
       "    .dataframe thead th {\n",
       "        text-align: right;\n",
       "    }\n",
       "</style>\n",
       "<table border=\"1\" class=\"dataframe\">\n",
       "  <thead>\n",
       "    <tr style=\"text-align: right;\">\n",
       "      <th></th>\n",
       "      <th>date</th>\n",
       "      <th>price</th>\n",
       "      <th>volume</th>\n",
       "    </tr>\n",
       "  </thead>\n",
       "  <tbody>\n",
       "    <tr>\n",
       "      <th>9810</th>\n",
       "      <td>2017-03-30 23:00:07</td>\n",
       "      <td>7.2</td>\n",
       "      <td>90.126216</td>\n",
       "    </tr>\n",
       "  </tbody>\n",
       "</table>\n",
       "</div>"
      ],
      "text/plain": [
       "                    date  price     volume\n",
       "9810 2017-03-30 23:00:07    7.2  90.126216"
      ]
     },
     "execution_count": 37,
     "metadata": {},
     "output_type": "execute_result"
    }
   ],
   "source": [
    "ltc.query('date <= \"2017-03-30 23:05:00\"').sort_values(by='date').tail(1)"
   ]
  },
  {
   "cell_type": "markdown",
   "id": "8287be18",
   "metadata": {},
   "source": [
    "### at_time\n",
    "\n",
    "#### Метод возвращает все значения, произошедшие в определенное время, без учета даты"
   ]
  },
  {
   "cell_type": "code",
   "execution_count": 38,
   "id": "a2d89389",
   "metadata": {},
   "outputs": [
    {
     "data": {
      "text/html": [
       "<div>\n",
       "<style scoped>\n",
       "    .dataframe tbody tr th:only-of-type {\n",
       "        vertical-align: middle;\n",
       "    }\n",
       "\n",
       "    .dataframe tbody tr th {\n",
       "        vertical-align: top;\n",
       "    }\n",
       "\n",
       "    .dataframe thead th {\n",
       "        text-align: right;\n",
       "    }\n",
       "</style>\n",
       "<table border=\"1\" class=\"dataframe\">\n",
       "  <thead>\n",
       "    <tr style=\"text-align: right;\">\n",
       "      <th></th>\n",
       "      <th>price</th>\n",
       "      <th>volume</th>\n",
       "    </tr>\n",
       "    <tr>\n",
       "      <th>date</th>\n",
       "      <th></th>\n",
       "      <th></th>\n",
       "    </tr>\n",
       "  </thead>\n",
       "  <tbody>\n",
       "    <tr>\n",
       "      <th>2017-03-30 23:00:00</th>\n",
       "      <td>7.20</td>\n",
       "      <td>16.905060</td>\n",
       "    </tr>\n",
       "    <tr>\n",
       "      <th>2018-01-06 23:00:00</th>\n",
       "      <td>278.83</td>\n",
       "      <td>1.427952</td>\n",
       "    </tr>\n",
       "    <tr>\n",
       "      <th>2018-01-25 23:00:00</th>\n",
       "      <td>179.49</td>\n",
       "      <td>0.651000</td>\n",
       "    </tr>\n",
       "    <tr>\n",
       "      <th>2018-01-28 23:00:00</th>\n",
       "      <td>192.01</td>\n",
       "      <td>0.381489</td>\n",
       "    </tr>\n",
       "    <tr>\n",
       "      <th>2018-01-28 23:00:00</th>\n",
       "      <td>192.01</td>\n",
       "      <td>1.074200</td>\n",
       "    </tr>\n",
       "  </tbody>\n",
       "</table>\n",
       "</div>"
      ],
      "text/plain": [
       "                      price     volume\n",
       "date                                  \n",
       "2017-03-30 23:00:00    7.20  16.905060\n",
       "2018-01-06 23:00:00  278.83   1.427952\n",
       "2018-01-25 23:00:00  179.49   0.651000\n",
       "2018-01-28 23:00:00  192.01   0.381489\n",
       "2018-01-28 23:00:00  192.01   1.074200"
      ]
     },
     "execution_count": 38,
     "metadata": {},
     "output_type": "execute_result"
    }
   ],
   "source": [
    "(ltc\n",
    "    .set_index('date')\n",
    "    .at_time('23:00')\n",
    "    .head()\n",
    ")"
   ]
  },
  {
   "cell_type": "markdown",
   "id": "e058c20c",
   "metadata": {},
   "source": [
    "### between_time\n",
    "\n",
    "#### Метод возвращает все значения между двумя значениями времени без учета даты"
   ]
  },
  {
   "cell_type": "code",
   "execution_count": 39,
   "id": "b29970c6",
   "metadata": {},
   "outputs": [
    {
     "data": {
      "text/html": [
       "<div>\n",
       "<style scoped>\n",
       "    .dataframe tbody tr th:only-of-type {\n",
       "        vertical-align: middle;\n",
       "    }\n",
       "\n",
       "    .dataframe tbody tr th {\n",
       "        vertical-align: top;\n",
       "    }\n",
       "\n",
       "    .dataframe thead th {\n",
       "        text-align: right;\n",
       "    }\n",
       "</style>\n",
       "<table border=\"1\" class=\"dataframe\">\n",
       "  <thead>\n",
       "    <tr style=\"text-align: right;\">\n",
       "      <th></th>\n",
       "      <th>price</th>\n",
       "      <th>volume</th>\n",
       "    </tr>\n",
       "    <tr>\n",
       "      <th>date</th>\n",
       "      <th></th>\n",
       "      <th></th>\n",
       "    </tr>\n",
       "  </thead>\n",
       "  <tbody>\n",
       "    <tr>\n",
       "      <th>2013-11-19 03:24:48</th>\n",
       "      <td>9.9</td>\n",
       "      <td>0.117018</td>\n",
       "    </tr>\n",
       "    <tr>\n",
       "      <th>2013-11-19 03:27:08</th>\n",
       "      <td>9.9</td>\n",
       "      <td>0.817538</td>\n",
       "    </tr>\n",
       "    <tr>\n",
       "      <th>2013-11-22 02:18:25</th>\n",
       "      <td>10.0</td>\n",
       "      <td>0.384419</td>\n",
       "    </tr>\n",
       "    <tr>\n",
       "      <th>2013-11-22 23:53:28</th>\n",
       "      <td>11.0</td>\n",
       "      <td>0.100000</td>\n",
       "    </tr>\n",
       "    <tr>\n",
       "      <th>2013-11-22 23:58:02</th>\n",
       "      <td>11.5</td>\n",
       "      <td>0.100000</td>\n",
       "    </tr>\n",
       "  </tbody>\n",
       "</table>\n",
       "</div>"
      ],
      "text/plain": [
       "                     price    volume\n",
       "date                                \n",
       "2013-11-19 03:24:48    9.9  0.117018\n",
       "2013-11-19 03:27:08    9.9  0.817538\n",
       "2013-11-22 02:18:25   10.0  0.384419\n",
       "2013-11-22 23:53:28   11.0  0.100000\n",
       "2013-11-22 23:58:02   11.5  0.100000"
      ]
     },
     "execution_count": 39,
     "metadata": {},
     "output_type": "execute_result"
    }
   ],
   "source": [
    "(ltc\n",
    "    .set_index('date')\n",
    "    .between_time('23:00', '04:00')\n",
    "    .head()\n",
    ")"
   ]
  },
  {
   "cell_type": "markdown",
   "id": "72493fad",
   "metadata": {},
   "source": [
    "### Last\n",
    "#### Метод возвращает все послединие значения за какой-то интервал (например, за час)"
   ]
  },
  {
   "cell_type": "code",
   "execution_count": 40,
   "id": "5d88ce97",
   "metadata": {},
   "outputs": [
    {
     "data": {
      "text/html": [
       "<div>\n",
       "<style scoped>\n",
       "    .dataframe tbody tr th:only-of-type {\n",
       "        vertical-align: middle;\n",
       "    }\n",
       "\n",
       "    .dataframe tbody tr th {\n",
       "        vertical-align: top;\n",
       "    }\n",
       "\n",
       "    .dataframe thead th {\n",
       "        text-align: right;\n",
       "    }\n",
       "</style>\n",
       "<table border=\"1\" class=\"dataframe\">\n",
       "  <thead>\n",
       "    <tr style=\"text-align: right;\">\n",
       "      <th></th>\n",
       "      <th>price</th>\n",
       "      <th>volume</th>\n",
       "    </tr>\n",
       "    <tr>\n",
       "      <th>date</th>\n",
       "      <th></th>\n",
       "      <th></th>\n",
       "    </tr>\n",
       "  </thead>\n",
       "  <tbody>\n",
       "    <tr>\n",
       "      <th>2023-03-29 23:57:13</th>\n",
       "      <td>91.25</td>\n",
       "      <td>8.265248</td>\n",
       "    </tr>\n",
       "    <tr>\n",
       "      <th>2023-03-30 00:04:06</th>\n",
       "      <td>91.42</td>\n",
       "      <td>8.540001</td>\n",
       "    </tr>\n",
       "    <tr>\n",
       "      <th>2023-03-30 00:04:21</th>\n",
       "      <td>91.28</td>\n",
       "      <td>0.091221</td>\n",
       "    </tr>\n",
       "    <tr>\n",
       "      <th>2023-03-30 00:13:36</th>\n",
       "      <td>91.18</td>\n",
       "      <td>3.168801</td>\n",
       "    </tr>\n",
       "    <tr>\n",
       "      <th>2023-03-30 00:14:03</th>\n",
       "      <td>91.09</td>\n",
       "      <td>1.058000</td>\n",
       "    </tr>\n",
       "    <tr>\n",
       "      <th>...</th>\n",
       "      <td>...</td>\n",
       "      <td>...</td>\n",
       "    </tr>\n",
       "    <tr>\n",
       "      <th>2023-03-31 23:50:05</th>\n",
       "      <td>89.71</td>\n",
       "      <td>5.023057</td>\n",
       "    </tr>\n",
       "    <tr>\n",
       "      <th>2023-03-31 23:52:03</th>\n",
       "      <td>89.68</td>\n",
       "      <td>0.983897</td>\n",
       "    </tr>\n",
       "    <tr>\n",
       "      <th>2023-03-31 23:52:57</th>\n",
       "      <td>89.68</td>\n",
       "      <td>0.557648</td>\n",
       "    </tr>\n",
       "    <tr>\n",
       "      <th>2023-03-31 23:54:02</th>\n",
       "      <td>89.68</td>\n",
       "      <td>0.265624</td>\n",
       "    </tr>\n",
       "    <tr>\n",
       "      <th>2023-03-31 23:56:19</th>\n",
       "      <td>89.58</td>\n",
       "      <td>0.332497</td>\n",
       "    </tr>\n",
       "  </tbody>\n",
       "</table>\n",
       "<p>1737 rows × 2 columns</p>\n",
       "</div>"
      ],
      "text/plain": [
       "                     price    volume\n",
       "date                                \n",
       "2023-03-29 23:57:13  91.25  8.265248\n",
       "2023-03-30 00:04:06  91.42  8.540001\n",
       "2023-03-30 00:04:21  91.28  0.091221\n",
       "2023-03-30 00:13:36  91.18  3.168801\n",
       "2023-03-30 00:14:03  91.09  1.058000\n",
       "...                    ...       ...\n",
       "2023-03-31 23:50:05  89.71  5.023057\n",
       "2023-03-31 23:52:03  89.68  0.983897\n",
       "2023-03-31 23:52:57  89.68  0.557648\n",
       "2023-03-31 23:54:02  89.68  0.265624\n",
       "2023-03-31 23:56:19  89.58  0.332497\n",
       "\n",
       "[1737 rows x 2 columns]"
      ]
     },
     "execution_count": 40,
     "metadata": {},
     "output_type": "execute_result"
    }
   ],
   "source": [
    "# все значения за поледний час\n",
    "(ltc\n",
    "    .set_index('date')\n",
    "    .last('2d')\n",
    ")"
   ]
  },
  {
   "cell_type": "markdown",
   "id": "83f13886",
   "metadata": {},
   "source": [
    "### First\n",
    "#### Метод возвращает все первые значения за какой-то интервал (например, за час)"
   ]
  },
  {
   "cell_type": "code",
   "execution_count": 41,
   "id": "4e830e0c",
   "metadata": {},
   "outputs": [
    {
     "data": {
      "text/html": [
       "<div>\n",
       "<style scoped>\n",
       "    .dataframe tbody tr th:only-of-type {\n",
       "        vertical-align: middle;\n",
       "    }\n",
       "\n",
       "    .dataframe tbody tr th {\n",
       "        vertical-align: top;\n",
       "    }\n",
       "\n",
       "    .dataframe thead th {\n",
       "        text-align: right;\n",
       "    }\n",
       "</style>\n",
       "<table border=\"1\" class=\"dataframe\">\n",
       "  <thead>\n",
       "    <tr style=\"text-align: right;\">\n",
       "      <th></th>\n",
       "      <th>price</th>\n",
       "      <th>volume</th>\n",
       "    </tr>\n",
       "    <tr>\n",
       "      <th>date</th>\n",
       "      <th></th>\n",
       "      <th></th>\n",
       "    </tr>\n",
       "  </thead>\n",
       "  <tbody>\n",
       "    <tr>\n",
       "      <th>2013-11-13 15:00:56</th>\n",
       "      <td>5.00000</td>\n",
       "      <td>12.874000</td>\n",
       "    </tr>\n",
       "    <tr>\n",
       "      <th>2013-11-13 15:58:20</th>\n",
       "      <td>5.00000</td>\n",
       "      <td>0.900000</td>\n",
       "    </tr>\n",
       "    <tr>\n",
       "      <th>2013-11-16 18:58:57</th>\n",
       "      <td>4.30000</td>\n",
       "      <td>0.067440</td>\n",
       "    </tr>\n",
       "    <tr>\n",
       "      <th>2013-11-16 18:59:16</th>\n",
       "      <td>4.25000</td>\n",
       "      <td>5.000000</td>\n",
       "    </tr>\n",
       "    <tr>\n",
       "      <th>2013-11-19 03:24:48</th>\n",
       "      <td>9.90000</td>\n",
       "      <td>0.117018</td>\n",
       "    </tr>\n",
       "    <tr>\n",
       "      <th>...</th>\n",
       "      <td>...</td>\n",
       "      <td>...</td>\n",
       "    </tr>\n",
       "    <tr>\n",
       "      <th>2013-12-30 17:23:22</th>\n",
       "      <td>24.94000</td>\n",
       "      <td>1.327322</td>\n",
       "    </tr>\n",
       "    <tr>\n",
       "      <th>2013-12-30 21:44:12</th>\n",
       "      <td>24.95000</td>\n",
       "      <td>0.104470</td>\n",
       "    </tr>\n",
       "    <tr>\n",
       "      <th>2013-12-30 21:44:14</th>\n",
       "      <td>23.86000</td>\n",
       "      <td>0.403951</td>\n",
       "    </tr>\n",
       "    <tr>\n",
       "      <th>2013-12-30 21:46:08</th>\n",
       "      <td>24.96000</td>\n",
       "      <td>0.426573</td>\n",
       "    </tr>\n",
       "    <tr>\n",
       "      <th>2013-12-31 14:24:01</th>\n",
       "      <td>23.54529</td>\n",
       "      <td>0.000200</td>\n",
       "    </tr>\n",
       "  </tbody>\n",
       "</table>\n",
       "<p>1011 rows × 2 columns</p>\n",
       "</div>"
      ],
      "text/plain": [
       "                        price     volume\n",
       "date                                    \n",
       "2013-11-13 15:00:56   5.00000  12.874000\n",
       "2013-11-13 15:58:20   5.00000   0.900000\n",
       "2013-11-16 18:58:57   4.30000   0.067440\n",
       "2013-11-16 18:59:16   4.25000   5.000000\n",
       "2013-11-19 03:24:48   9.90000   0.117018\n",
       "...                       ...        ...\n",
       "2013-12-30 17:23:22  24.94000   1.327322\n",
       "2013-12-30 21:44:12  24.95000   0.104470\n",
       "2013-12-30 21:44:14  23.86000   0.403951\n",
       "2013-12-30 21:46:08  24.96000   0.426573\n",
       "2013-12-31 14:24:01  23.54529   0.000200\n",
       "\n",
       "[1011 rows x 2 columns]"
      ]
     },
     "execution_count": 41,
     "metadata": {},
     "output_type": "execute_result"
    }
   ],
   "source": [
    "# все значения за первый год (Календарный)\n",
    "(ltc\n",
    "    .set_index('date')\n",
    "    .first('Y')\n",
    ")"
   ]
  },
  {
   "cell_type": "markdown",
   "id": "51bc3cb3",
   "metadata": {},
   "source": [
    "### Список сокращений (регистр не важен)\n",
    "\n",
    "| Сокращение   | Расшифровка                              | Сокращение   | Расшифровка                    |\n",
    "|:-------------|:-----------------------------------------|:-------------|:-------------------------------|\n",
    "| B            | Последний рабочий день в неделе          | QS           | Начало квартала                |\n",
    "| C            | Пользовательский последний день в неделе | BQS          | Первый рабочий день квартала   |\n",
    "| D            | День                                     | A, Y         | Конец года                     |\n",
    "| W            | Неделя                                   | BA, BY       | Последний рабочий день в году  |\n",
    "| M            | Конец месяца                             | AS, YS       | Начало года                    |\n",
    "| SM           | 15 число месяца                          | BAS, BYS     | Первый рабочий день в году     |\n",
    "| BM           | Последний рабочий день в месяце          | BH           | Рабочий час (от 9:00 до 17:00) |\n",
    "| CBM          | Пользовательский конец месяца            | H            | Час                            |\n",
    "| MS           | Первое число месяца                      | T, min       | Минута                         |\n",
    "| SMS          | 1 и 15 число месяца                      | S            | Секунда                        |\n",
    "| BMS          | Первый рабочий день месяца               | L, ms        | Миллисекунда                   |\n",
    "| CBMS         | Пользовательский первый день месяца      | U, us        | Микросекунда                   |\n",
    "| Q            | Конец квартала                           | N            | Наносекунда                    |\n",
    "| BQ           | Последний рабочий день квартала          | nan          | nan                            |"
   ]
  },
  {
   "cell_type": "code",
   "execution_count": null,
   "id": "def53117",
   "metadata": {},
   "outputs": [],
   "source": []
  },
  {
   "cell_type": "code",
   "execution_count": null,
   "id": "d41d5b00",
   "metadata": {},
   "outputs": [],
   "source": []
  },
  {
   "cell_type": "code",
   "execution_count": null,
   "id": "910c750c",
   "metadata": {},
   "outputs": [],
   "source": []
  },
  {
   "cell_type": "code",
   "execution_count": null,
   "id": "1464ec8c",
   "metadata": {},
   "outputs": [],
   "source": []
  },
  {
   "cell_type": "markdown",
   "id": "4dfed58e",
   "metadata": {},
   "source": [
    "## Арифметические опериции"
   ]
  },
  {
   "cell_type": "markdown",
   "id": "4f2a5f0e",
   "metadata": {},
   "source": [
    "### Timedelta\n",
    "\n",
    "Используется в арифметических операциях с датами"
   ]
  },
  {
   "cell_type": "code",
   "execution_count": 41,
   "id": "cebbe168",
   "metadata": {},
   "outputs": [
    {
     "data": {
      "text/plain": [
       "Timedelta('1 days 00:00:00')"
      ]
     },
     "execution_count": 41,
     "metadata": {},
     "output_type": "execute_result"
    }
   ],
   "source": [
    "pd.Timedelta(1, 'day')"
   ]
  },
  {
   "cell_type": "code",
   "execution_count": 42,
   "id": "dad81cb6",
   "metadata": {},
   "outputs": [
    {
     "data": {
      "text/plain": [
       "Timedelta('0 days 02:15:00')"
      ]
     },
     "execution_count": 42,
     "metadata": {},
     "output_type": "execute_result"
    }
   ],
   "source": [
    "pd.Timedelta(135, 'min')"
   ]
  },
  {
   "cell_type": "code",
   "execution_count": 43,
   "id": "5a587c6f",
   "metadata": {},
   "outputs": [
    {
     "data": {
      "text/plain": [
       "Timedelta('0 days 00:00:09')"
      ]
     },
     "execution_count": 43,
     "metadata": {},
     "output_type": "execute_result"
    }
   ],
   "source": [
    "pd.Timedelta(9, 's')"
   ]
  },
  {
   "cell_type": "code",
   "execution_count": 44,
   "id": "2be89b9a",
   "metadata": {},
   "outputs": [
    {
     "data": {
      "text/plain": [
       "Timedelta('0 days 00:15:00')"
      ]
     },
     "execution_count": 44,
     "metadata": {},
     "output_type": "execute_result"
    }
   ],
   "source": [
    "pd.Timedelta(0.25, 'h')"
   ]
  },
  {
   "cell_type": "markdown",
   "id": "c0edb2f8",
   "metadata": {},
   "source": [
    "### Возможные варианты сокращений\n",
    "\n",
    "* **'W'** - неделя, **'D'** - день, **'T'** - минута, **'S'** - секунда, **'L'** - милисекунда, **'U'** - микросекунда, **'N'** - наносекунда\n",
    "* **'days'** или **'day'** - день\n",
    "* **'hours'**, **'hour'**, **'hr'**, или **'h'** - час\n",
    "* **'minutes'**, **'minute'**, **'min'**, или **'m'** - минута\n",
    "* **'seconds'**, **'second'**, или **'sec'** - секунда\n",
    "* **'milliseconds'**, **'millisecond'**, **'millis'**, или **'milli'** - милисекунда\n",
    "* **'microseconds'**, **'microsecond'**, **'micros'**, или **'micro'** - микросекунда\n",
    "* **'nanoseconds'**, **'nanosecond'**, **'nanos'**, **'nano'**, или **'ns'** - наносекунда"
   ]
  },
  {
   "cell_type": "code",
   "execution_count": 45,
   "id": "8f3a2400",
   "metadata": {},
   "outputs": [
    {
     "data": {
      "text/plain": [
       "Timedelta('3 days 06:17:12')"
      ]
     },
     "execution_count": 45,
     "metadata": {},
     "output_type": "execute_result"
    }
   ],
   "source": [
    "# можно исользовать:\n",
    "# days, hours, minutes, seconds, milliseconds, microseconds, nanoseconds\n",
    "pd.Timedelta(days=3, hours=4, minutes=122, seconds=912)"
   ]
  },
  {
   "cell_type": "code",
   "execution_count": 46,
   "id": "a2c9d037",
   "metadata": {},
   "outputs": [
    {
     "data": {
      "text/plain": [
       "Timedelta('0 days 22:30:00')"
      ]
     },
     "execution_count": 46,
     "metadata": {},
     "output_type": "execute_result"
    }
   ],
   "source": [
    "pd.Timedelta(135, 'min') * 10"
   ]
  },
  {
   "cell_type": "code",
   "execution_count": 47,
   "id": "11229776",
   "metadata": {},
   "outputs": [
    {
     "data": {
      "text/plain": [
       "Timedelta('0 days 00:13:30')"
      ]
     },
     "execution_count": 47,
     "metadata": {},
     "output_type": "execute_result"
    }
   ],
   "source": [
    "pd.Timedelta(135, 'min') / 10"
   ]
  },
  {
   "cell_type": "code",
   "execution_count": 48,
   "id": "18abeeeb",
   "metadata": {},
   "outputs": [
    {
     "data": {
      "text/plain": [
       "Timedelta('0 days 02:15:09')"
      ]
     },
     "execution_count": 48,
     "metadata": {},
     "output_type": "execute_result"
    }
   ],
   "source": [
    "pd.Timedelta(135, 'min') + pd.Timedelta(9, 's')"
   ]
  },
  {
   "cell_type": "code",
   "execution_count": 49,
   "id": "4d6b3fec",
   "metadata": {},
   "outputs": [
    {
     "data": {
      "text/plain": [
       "Timedelta('0 days 02:14:51')"
      ]
     },
     "execution_count": 49,
     "metadata": {},
     "output_type": "execute_result"
    }
   ],
   "source": [
    "pd.Timedelta(135, 'min') - pd.Timedelta(9, 's')"
   ]
  },
  {
   "cell_type": "code",
   "execution_count": null,
   "id": "2a34575f",
   "metadata": {},
   "outputs": [],
   "source": []
  },
  {
   "cell_type": "code",
   "execution_count": null,
   "id": "7da7bd6f",
   "metadata": {},
   "outputs": [],
   "source": []
  },
  {
   "cell_type": "markdown",
   "id": "612efa18",
   "metadata": {},
   "source": [
    "### to_timedelta\n",
    "\n",
    "Преобразует набор чисел в объекты timedelta"
   ]
  },
  {
   "cell_type": "code",
   "execution_count": 50,
   "id": "02dab6eb",
   "metadata": {},
   "outputs": [
    {
     "data": {
      "text/plain": [
       "TimedeltaIndex(['0 days', '1 days', '2 days', '3 days', '4 days', '5 days',\n",
       "                '6 days', '7 days', '8 days', '9 days'],\n",
       "               dtype='timedelta64[ns]', freq=None)"
      ]
     },
     "execution_count": 50,
     "metadata": {},
     "output_type": "execute_result"
    }
   ],
   "source": [
    "pd.to_timedelta(np.arange(10), 'days')"
   ]
  },
  {
   "cell_type": "code",
   "execution_count": 51,
   "id": "1fca6a38",
   "metadata": {},
   "outputs": [
    {
     "data": {
      "text/plain": [
       "TimedeltaIndex(['1 days 00:00:00', '12 days 19:12:00', '11 days 12:00:00',\n",
       "                '0 days 07:12:00'],\n",
       "               dtype='timedelta64[ns]', freq=None)"
      ]
     },
     "execution_count": 51,
     "metadata": {},
     "output_type": "execute_result"
    }
   ],
   "source": [
    "pd.to_timedelta([1, 12.8, 11.5, 0.3], 'days')"
   ]
  },
  {
   "cell_type": "code",
   "execution_count": null,
   "id": "bd6f95fd",
   "metadata": {},
   "outputs": [],
   "source": []
  },
  {
   "cell_type": "code",
   "execution_count": null,
   "id": "76e15483",
   "metadata": {},
   "outputs": [],
   "source": []
  },
  {
   "cell_type": "markdown",
   "id": "cf46feb4",
   "metadata": {},
   "source": [
    "#### Пложим несколько дат в отдельную переменную"
   ]
  },
  {
   "cell_type": "code",
   "execution_count": 52,
   "id": "e734a411",
   "metadata": {},
   "outputs": [
    {
     "data": {
      "text/plain": [
       "300   2013-11-29 21:41:23\n",
       "341   2013-11-30 13:44:47\n",
       "342   2013-12-01 09:02:09\n",
       "Name: date, dtype: datetime64[ns]"
      ]
     },
     "execution_count": 52,
     "metadata": {},
     "output_type": "execute_result"
    }
   ],
   "source": [
    "ts = ltc.loc[[300, 341, 342], 'date'].copy()\n",
    "ts"
   ]
  },
  {
   "cell_type": "markdown",
   "id": "935453b0",
   "metadata": {},
   "source": [
    "### Опрации с Timedelta"
   ]
  },
  {
   "cell_type": "code",
   "execution_count": 53,
   "id": "17615e95",
   "metadata": {},
   "outputs": [
    {
     "data": {
      "text/plain": [
       "300   2013-11-30 05:41:23\n",
       "341   2013-11-30 21:44:47\n",
       "342   2013-12-01 17:02:09\n",
       "Name: date, dtype: datetime64[ns]"
      ]
     },
     "execution_count": 53,
     "metadata": {},
     "output_type": "execute_result"
    }
   ],
   "source": [
    "ts + pd.Timedelta(8, 'h')"
   ]
  },
  {
   "cell_type": "code",
   "execution_count": 54,
   "id": "024f6b0a",
   "metadata": {},
   "outputs": [
    {
     "data": {
      "text/plain": [
       "300   2013-11-29 13:41:23\n",
       "341   2013-11-30 05:44:47\n",
       "342   2013-12-01 01:02:09\n",
       "Name: date, dtype: datetime64[ns]"
      ]
     },
     "execution_count": 54,
     "metadata": {},
     "output_type": "execute_result"
    }
   ],
   "source": [
    "ts - pd.Timedelta(8, 'h')"
   ]
  },
  {
   "cell_type": "code",
   "execution_count": 55,
   "id": "04bd6a99",
   "metadata": {},
   "outputs": [
    {
     "data": {
      "text/plain": [
       "300   2013-11-26 13:41:23\n",
       "341   2013-11-27 05:44:47\n",
       "342   2013-11-28 01:02:09\n",
       "Name: date, dtype: datetime64[ns]"
      ]
     },
     "execution_count": 55,
     "metadata": {},
     "output_type": "execute_result"
    }
   ],
   "source": [
    "ts - 10 * pd.Timedelta(8, 'h')"
   ]
  },
  {
   "cell_type": "code",
   "execution_count": null,
   "id": "386dd663",
   "metadata": {},
   "outputs": [],
   "source": []
  },
  {
   "cell_type": "code",
   "execution_count": null,
   "id": "7a18866c",
   "metadata": {},
   "outputs": [],
   "source": []
  },
  {
   "cell_type": "code",
   "execution_count": null,
   "id": "9a41ae40",
   "metadata": {},
   "outputs": [],
   "source": []
  },
  {
   "cell_type": "code",
   "execution_count": null,
   "id": "a9f26c74",
   "metadata": {},
   "outputs": [],
   "source": []
  },
  {
   "cell_type": "markdown",
   "id": "e70b079a",
   "metadata": {},
   "source": [
    "### Offsets"
   ]
  },
  {
   "cell_type": "code",
   "execution_count": 56,
   "id": "eea91752",
   "metadata": {},
   "outputs": [
    {
     "data": {
      "text/plain": [
       "['BDay',\n",
       " 'BMonthBegin',\n",
       " 'BMonthEnd',\n",
       " 'BQuarterBegin',\n",
       " 'BQuarterEnd',\n",
       " 'BYearBegin',\n",
       " 'BYearEnd',\n",
       " 'BaseOffset',\n",
       " 'BusinessDay',\n",
       " 'BusinessHour',\n",
       " 'BusinessMonthBegin',\n",
       " 'BusinessMonthEnd',\n",
       " 'CBMonthBegin',\n",
       " 'CBMonthEnd',\n",
       " 'CDay',\n",
       " 'CustomBusinessDay',\n",
       " 'CustomBusinessHour',\n",
       " 'CustomBusinessMonthBegin',\n",
       " 'CustomBusinessMonthEnd',\n",
       " 'DateOffset',\n",
       " 'Day',\n",
       " 'Easter',\n",
       " 'FY5253',\n",
       " 'FY5253Quarter',\n",
       " 'Hour',\n",
       " 'LastWeekOfMonth',\n",
       " 'Micro',\n",
       " 'Milli',\n",
       " 'Minute',\n",
       " 'MonthBegin',\n",
       " 'MonthEnd',\n",
       " 'Nano',\n",
       " 'QuarterBegin',\n",
       " 'QuarterEnd',\n",
       " 'Second',\n",
       " 'SemiMonthBegin',\n",
       " 'SemiMonthEnd',\n",
       " 'Tick',\n",
       " 'Week',\n",
       " 'WeekOfMonth',\n",
       " 'YearBegin',\n",
       " 'YearEnd']"
      ]
     },
     "execution_count": 56,
     "metadata": {},
     "output_type": "execute_result"
    }
   ],
   "source": [
    "dir(pd.offsets)[:42]"
   ]
  },
  {
   "cell_type": "markdown",
   "id": "8118b745",
   "metadata": {},
   "source": [
    "### MonthEnd"
   ]
  },
  {
   "cell_type": "markdown",
   "id": "009ee33a",
   "metadata": {},
   "source": [
    "#### Приведем дату к концу месяца"
   ]
  },
  {
   "cell_type": "code",
   "execution_count": 57,
   "id": "cc7971eb",
   "metadata": {},
   "outputs": [
    {
     "data": {
      "text/plain": [
       "300   2013-11-29 21:41:23\n",
       "341   2013-11-30 13:44:47\n",
       "342   2013-12-01 09:02:09\n",
       "Name: date, dtype: datetime64[ns]"
      ]
     },
     "execution_count": 57,
     "metadata": {},
     "output_type": "execute_result"
    }
   ],
   "source": [
    "ts"
   ]
  },
  {
   "cell_type": "code",
   "execution_count": 58,
   "id": "b03d71b5",
   "metadata": {},
   "outputs": [
    {
     "data": {
      "text/plain": [
       "300   2013-11-30 21:41:23\n",
       "341   2013-11-30 13:44:47\n",
       "342   2013-12-31 09:02:09\n",
       "Name: date, dtype: datetime64[ns]"
      ]
     },
     "execution_count": 58,
     "metadata": {},
     "output_type": "execute_result"
    }
   ],
   "source": [
    "ts + pd.offsets.MonthEnd(0)"
   ]
  },
  {
   "cell_type": "code",
   "execution_count": 59,
   "id": "3b44b9b1",
   "metadata": {},
   "outputs": [
    {
     "data": {
      "text/plain": [
       "300   2013-11-30\n",
       "341   2013-11-30\n",
       "342   2013-12-31\n",
       "Name: date, dtype: datetime64[ns]"
      ]
     },
     "execution_count": 59,
     "metadata": {},
     "output_type": "execute_result"
    }
   ],
   "source": [
    "ts.dt.normalize() + pd.offsets.MonthEnd(0)"
   ]
  },
  {
   "cell_type": "markdown",
   "id": "47d07aec",
   "metadata": {},
   "source": [
    "Если передать 1, то все даты, что не конец месяца - станут концом месяца, но если дата - конец месяца, то она станет концом следующего месяца"
   ]
  },
  {
   "cell_type": "code",
   "execution_count": 60,
   "id": "46d82dc0",
   "metadata": {},
   "outputs": [
    {
     "data": {
      "text/plain": [
       "300   2013-11-30\n",
       "341   2013-12-31\n",
       "342   2013-12-31\n",
       "Name: date, dtype: datetime64[ns]"
      ]
     },
     "execution_count": 60,
     "metadata": {},
     "output_type": "execute_result"
    }
   ],
   "source": [
    "ts.dt.normalize() + pd.offsets.MonthEnd(1)"
   ]
  },
  {
   "cell_type": "markdown",
   "id": "30364632",
   "metadata": {},
   "source": [
    "Приведем даты к концу следующего месяца"
   ]
  },
  {
   "cell_type": "code",
   "execution_count": 61,
   "id": "ca9b30e8",
   "metadata": {},
   "outputs": [
    {
     "data": {
      "text/plain": [
       "300   2013-11-29 21:41:23\n",
       "341   2013-11-30 13:44:47\n",
       "342   2013-12-01 09:02:09\n",
       "Name: date, dtype: datetime64[ns]"
      ]
     },
     "execution_count": 61,
     "metadata": {},
     "output_type": "execute_result"
    }
   ],
   "source": [
    "ts"
   ]
  },
  {
   "cell_type": "code",
   "execution_count": 62,
   "id": "d66e3368",
   "metadata": {},
   "outputs": [
    {
     "data": {
      "text/plain": [
       "300   2013-12-31\n",
       "341   2013-12-31\n",
       "342   2014-01-31\n",
       "Name: date, dtype: datetime64[ns]"
      ]
     },
     "execution_count": 62,
     "metadata": {},
     "output_type": "execute_result"
    }
   ],
   "source": [
    "ts.dt.normalize() + pd.offsets.MonthEnd(0) + pd.offsets.MonthEnd(1)"
   ]
  },
  {
   "cell_type": "markdown",
   "id": "8c152f75",
   "metadata": {},
   "source": [
    "Если вычесть pd.offsets.MonthEnd(0) то это будет эквивалентно прибавлению"
   ]
  },
  {
   "cell_type": "code",
   "execution_count": 63,
   "id": "2bd6a0fb",
   "metadata": {},
   "outputs": [
    {
     "data": {
      "text/plain": [
       "300   2013-11-29\n",
       "341   2013-11-30\n",
       "342   2013-12-01\n",
       "Name: date, dtype: datetime64[ns]"
      ]
     },
     "execution_count": 63,
     "metadata": {},
     "output_type": "execute_result"
    }
   ],
   "source": [
    "ts.dt.normalize()"
   ]
  },
  {
   "cell_type": "code",
   "execution_count": 64,
   "id": "a7ed13a2",
   "metadata": {},
   "outputs": [
    {
     "data": {
      "text/plain": [
       "300   2013-11-30\n",
       "341   2013-11-30\n",
       "342   2013-12-31\n",
       "Name: date, dtype: datetime64[ns]"
      ]
     },
     "execution_count": 64,
     "metadata": {},
     "output_type": "execute_result"
    }
   ],
   "source": [
    "ts.dt.normalize() - pd.offsets.MonthEnd(0)"
   ]
  },
  {
   "cell_type": "markdown",
   "id": "2a13ddee",
   "metadata": {},
   "source": [
    "Такая запись приведет даты к концу предыдущего месяца"
   ]
  },
  {
   "cell_type": "code",
   "execution_count": 65,
   "id": "11385585",
   "metadata": {},
   "outputs": [
    {
     "data": {
      "text/plain": [
       "300   2013-10-31\n",
       "341   2013-10-31\n",
       "342   2013-11-30\n",
       "Name: date, dtype: datetime64[ns]"
      ]
     },
     "execution_count": 65,
     "metadata": {},
     "output_type": "execute_result"
    }
   ],
   "source": [
    "ts.dt.normalize() - pd.offsets.MonthEnd(1)\n",
    "# ts.dt.normalize() + pd.offsets.MonthEnd(0) - pd.offsets.MonthEnd(1)"
   ]
  },
  {
   "cell_type": "markdown",
   "id": "6b42509f",
   "metadata": {},
   "source": [
    "Приведение даты к концу предпредыдущего месяца"
   ]
  },
  {
   "cell_type": "code",
   "execution_count": 66,
   "id": "9d207f35",
   "metadata": {},
   "outputs": [
    {
     "data": {
      "text/plain": [
       "300   2013-09-30\n",
       "341   2013-09-30\n",
       "342   2013-10-31\n",
       "Name: date, dtype: datetime64[ns]"
      ]
     },
     "execution_count": 66,
     "metadata": {},
     "output_type": "execute_result"
    }
   ],
   "source": [
    "ts.dt.normalize() - pd.offsets.MonthEnd(2)\n",
    "# ts.dt.normalize() + pd.offsets.MonthEnd(0) - pd.offsets.MonthEnd(2)"
   ]
  },
  {
   "cell_type": "markdown",
   "id": "5017e97a",
   "metadata": {},
   "source": [
    "### Приведение даты к началу месяца"
   ]
  },
  {
   "cell_type": "code",
   "execution_count": 67,
   "id": "84567dc7",
   "metadata": {},
   "outputs": [
    {
     "data": {
      "text/plain": [
       "300   2013-11-01\n",
       "341   2013-11-01\n",
       "342   2013-12-01\n",
       "Name: date, dtype: datetime64[ns]"
      ]
     },
     "execution_count": 67,
     "metadata": {},
     "output_type": "execute_result"
    }
   ],
   "source": [
    "ts.dt.normalize() + pd.offsets.MonthEnd(0) - pd.offsets.MonthBegin(1)"
   ]
  },
  {
   "cell_type": "code",
   "execution_count": null,
   "id": "c14a416e",
   "metadata": {},
   "outputs": [],
   "source": []
  },
  {
   "cell_type": "code",
   "execution_count": null,
   "id": "da9be35d",
   "metadata": {},
   "outputs": [],
   "source": []
  },
  {
   "cell_type": "markdown",
   "id": "ee7049ec",
   "metadata": {},
   "source": [
    "### Добавляем 9 рабочих дней"
   ]
  },
  {
   "cell_type": "code",
   "execution_count": 68,
   "id": "f759d125",
   "metadata": {},
   "outputs": [
    {
     "data": {
      "text/plain": [
       "300   2013-11-29 21:41:23\n",
       "341   2013-11-30 13:44:47\n",
       "342   2013-12-01 09:02:09\n",
       "Name: date, dtype: datetime64[ns]"
      ]
     },
     "execution_count": 68,
     "metadata": {},
     "output_type": "execute_result"
    }
   ],
   "source": [
    "ts"
   ]
  },
  {
   "cell_type": "code",
   "execution_count": 69,
   "id": "44fc3a2c",
   "metadata": {},
   "outputs": [
    {
     "data": {
      "text/plain": [
       "300   2013-12-12 21:41:23\n",
       "341   2013-12-12 13:44:47\n",
       "342   2013-12-12 09:02:09\n",
       "Name: date, dtype: datetime64[ns]"
      ]
     },
     "execution_count": 69,
     "metadata": {},
     "output_type": "execute_result"
    }
   ],
   "source": [
    "ts + pd.offsets.BusinessDay(9)"
   ]
  },
  {
   "cell_type": "markdown",
   "id": "303ca09c",
   "metadata": {},
   "source": [
    "#### Добавляем 9 рабочих дней при четырехдневной рабочей неделе"
   ]
  },
  {
   "cell_type": "code",
   "execution_count": null,
   "id": "a41812aa",
   "metadata": {},
   "outputs": [],
   "source": [
    "ts + pd.offsets.CustomBusinessDay(9, weekmask='Mon Tue Wed Thu')"
   ]
  },
  {
   "cell_type": "markdown",
   "id": "0e914d15",
   "metadata": {},
   "source": [
    "Добавим 10 рабочих часов. Рабочие часы Пн-Пт с 9 до 17"
   ]
  },
  {
   "cell_type": "code",
   "execution_count": 70,
   "id": "f462719a",
   "metadata": {},
   "outputs": [
    {
     "data": {
      "text/plain": [
       "300   2013-11-29 21:41:23\n",
       "341   2013-11-30 13:44:47\n",
       "342   2013-12-01 09:02:09\n",
       "Name: date, dtype: datetime64[ns]"
      ]
     },
     "execution_count": 70,
     "metadata": {},
     "output_type": "execute_result"
    }
   ],
   "source": [
    "ts"
   ]
  },
  {
   "cell_type": "code",
   "execution_count": 71,
   "id": "b77e7395",
   "metadata": {},
   "outputs": [
    {
     "name": "stderr",
     "output_type": "stream",
     "text": [
      "C:\\Users\\Александр\\AppData\\Local\\Temp\\ipykernel_14440\\2360292373.py:1: PerformanceWarning: Non-vectorized DateOffset being applied to Series or DatetimeIndex.\n",
      "  ts + pd.offsets.BusinessHour(10)\n"
     ]
    },
    {
     "data": {
      "text/plain": [
       "300   2013-12-03 11:00:00\n",
       "341   2013-12-03 11:00:00\n",
       "342   2013-12-03 11:00:00\n",
       "Name: date, dtype: datetime64[ns]"
      ]
     },
     "execution_count": 71,
     "metadata": {},
     "output_type": "execute_result"
    }
   ],
   "source": [
    "ts + pd.offsets.BusinessHour(10)"
   ]
  },
  {
   "cell_type": "code",
   "execution_count": null,
   "id": "d2389213",
   "metadata": {},
   "outputs": [],
   "source": []
  },
  {
   "cell_type": "code",
   "execution_count": null,
   "id": "d8236bf4",
   "metadata": {},
   "outputs": [],
   "source": []
  },
  {
   "cell_type": "code",
   "execution_count": null,
   "id": "96c8b8ef",
   "metadata": {},
   "outputs": [],
   "source": []
  },
  {
   "cell_type": "code",
   "execution_count": null,
   "id": "732cf716",
   "metadata": {},
   "outputs": [],
   "source": []
  },
  {
   "cell_type": "markdown",
   "id": "894df450",
   "metadata": {},
   "source": [
    "### Метод astype"
   ]
  },
  {
   "cell_type": "markdown",
   "id": "20f4a474",
   "metadata": {},
   "source": [
    "Метод приведит дату к началу периода"
   ]
  },
  {
   "cell_type": "code",
   "execution_count": 72,
   "id": "b3c52f3f",
   "metadata": {},
   "outputs": [
    {
     "data": {
      "text/plain": [
       "300   2013-11-29 21:41:23\n",
       "341   2013-11-30 13:44:47\n",
       "342   2013-12-01 09:02:09\n",
       "Name: date, dtype: datetime64[ns]"
      ]
     },
     "execution_count": 72,
     "metadata": {},
     "output_type": "execute_result"
    }
   ],
   "source": [
    "ts"
   ]
  },
  {
   "cell_type": "code",
   "execution_count": 73,
   "id": "1913f3ad",
   "metadata": {},
   "outputs": [
    {
     "data": {
      "text/plain": [
       "300   2013-11-28\n",
       "341   2013-11-28\n",
       "342   2013-11-28\n",
       "Name: date, dtype: datetime64[ns]"
      ]
     },
     "execution_count": 73,
     "metadata": {},
     "output_type": "execute_result"
    }
   ],
   "source": [
    "ts.dt.date.astype('datetime64[W]')"
   ]
  },
  {
   "cell_type": "code",
   "execution_count": 74,
   "id": "bc5711c1",
   "metadata": {},
   "outputs": [
    {
     "data": {
      "text/plain": [
       "300   2013-11-01\n",
       "341   2013-11-01\n",
       "342   2013-12-01\n",
       "Name: date, dtype: datetime64[ns]"
      ]
     },
     "execution_count": 74,
     "metadata": {},
     "output_type": "execute_result"
    }
   ],
   "source": [
    "ts.dt.date.astype('datetime64[M]')"
   ]
  },
  {
   "cell_type": "code",
   "execution_count": 75,
   "id": "b3f9a275",
   "metadata": {},
   "outputs": [
    {
     "data": {
      "text/plain": [
       "300   2013-01-01\n",
       "341   2013-01-01\n",
       "342   2013-01-01\n",
       "Name: date, dtype: datetime64[ns]"
      ]
     },
     "execution_count": 75,
     "metadata": {},
     "output_type": "execute_result"
    }
   ],
   "source": [
    "ts.dt.date.astype('datetime64[Y]')"
   ]
  },
  {
   "cell_type": "code",
   "execution_count": null,
   "id": "58ba2944",
   "metadata": {},
   "outputs": [],
   "source": []
  },
  {
   "cell_type": "code",
   "execution_count": null,
   "id": "8232380d",
   "metadata": {},
   "outputs": [],
   "source": []
  },
  {
   "cell_type": "code",
   "execution_count": null,
   "id": "a934abd6",
   "metadata": {},
   "outputs": [],
   "source": []
  },
  {
   "cell_type": "code",
   "execution_count": null,
   "id": "3001ccc4",
   "metadata": {},
   "outputs": [],
   "source": []
  },
  {
   "cell_type": "code",
   "execution_count": null,
   "id": "04e5447f",
   "metadata": {},
   "outputs": [],
   "source": []
  },
  {
   "cell_type": "code",
   "execution_count": null,
   "id": "5ec2e87c",
   "metadata": {},
   "outputs": [],
   "source": []
  },
  {
   "cell_type": "code",
   "execution_count": null,
   "id": "b4216126",
   "metadata": {},
   "outputs": [],
   "source": []
  },
  {
   "cell_type": "code",
   "execution_count": null,
   "id": "6a236a80",
   "metadata": {},
   "outputs": [],
   "source": []
  },
  {
   "cell_type": "code",
   "execution_count": null,
   "id": "a8c53937",
   "metadata": {},
   "outputs": [],
   "source": []
  },
  {
   "cell_type": "code",
   "execution_count": null,
   "id": "d890a106",
   "metadata": {},
   "outputs": [],
   "source": []
  },
  {
   "cell_type": "markdown",
   "id": "71e3ccb4",
   "metadata": {},
   "source": [
    "# Задания"
   ]
  },
  {
   "cell_type": "markdown",
   "id": "a7b823b4",
   "metadata": {},
   "source": [
    "#### Описание таблиц лежит [здесь](https://github.com/victorlymarev/pandas/tree/main/tables)"
   ]
  },
  {
   "cell_type": "markdown",
   "id": "8a66aced",
   "metadata": {},
   "source": [
    "Некоторые таблицы занимают много памяти, поэтому каждые 5-10 заданий лучше перезапускайте ноутбук.\n",
    "\n",
    "Если вы будете работать с этим ноутбуком в google colab и у вас что-то не будет работать, то раскоментируйте ячейку ниже (для этого выделите содержимое ячейки и нажмите на клавиши ctrl / (если смотреть по английской раскладке или ctrl . для русской), либо просто руками уберите # и пробел после нее в каждой строчке) и запустите ее."
   ]
  },
  {
   "cell_type": "code",
   "execution_count": null,
   "id": "844455e6",
   "metadata": {},
   "outputs": [],
   "source": [
    "# import os\n",
    "# os._exit(00)\n",
    "# !pip install pyarrow pandas==1.5.3"
   ]
  },
  {
   "cell_type": "markdown",
   "id": "a2e5570e",
   "metadata": {},
   "source": [
    "### Задание 1\n",
    "\n",
    "Магазин открывается через 15 дней после завершения ремонта. Найдите дату, когда был закончен ремонт в каждом магазине"
   ]
  },
  {
   "cell_type": "code",
   "execution_count": null,
   "id": "b5e0532c",
   "metadata": {},
   "outputs": [],
   "source": [
    "import os\n",
    "import pandas as pd\n",
    "\n",
    "path_shops = '../tables/shops.xlsx' if os.path.exists('../tables/shops.xlsx') else 'https://drive.google.com/uc?id=1gfnmceJa3Mc1X06NftTx9G9QfKfprjEB'\n",
    "\n",
    "shops = pd.read_excel(path_shops)\n",
    "shops.head()"
   ]
  },
  {
   "cell_type": "code",
   "execution_count": null,
   "id": "8acb5344",
   "metadata": {},
   "outputs": [],
   "source": [
    "# напишите свой код здесь"
   ]
  },
  {
   "cell_type": "markdown",
   "id": "c0f5c587",
   "metadata": {},
   "source": [
    "### Задание 2\n",
    "\n",
    "На каждую отчетную дату найдите возраст сотрудника в годах"
   ]
  },
  {
   "cell_type": "code",
   "execution_count": null,
   "id": "57f121e0",
   "metadata": {},
   "outputs": [],
   "source": [
    "import os\n",
    "import pandas as pd\n",
    "\n",
    "path_empl = '../tables/employees.parquet' if os.path.exists('../tables/employees.parquet') else 'https://drive.google.com/uc?id=1AARD5-eVlCxoApt5CYZebrC3Cqw42lvj'\n",
    "\n",
    "empl = pd.read_parquet(path_empl)\n",
    "empl.head()"
   ]
  },
  {
   "cell_type": "code",
   "execution_count": null,
   "id": "c8d08218",
   "metadata": {},
   "outputs": [],
   "source": [
    "# напишите свой код здесь"
   ]
  },
  {
   "cell_type": "markdown",
   "id": "a7ec96bf",
   "metadata": {},
   "source": [
    "### Задание 3\n",
    "\n",
    "Округлите дату покупки до недели (при помощи метода astype)"
   ]
  },
  {
   "cell_type": "code",
   "execution_count": null,
   "id": "df9a4fc0",
   "metadata": {},
   "outputs": [],
   "source": [
    "# таблица sales - большая, и в некоторых случаях ваш компьютер может не справиться с ее обработкой\n",
    "# поэтому лучше работайте с частью этой таблицы\n",
    "# но если вы хотите попробовать поработать с полной версией таблицы,\n",
    "# можете заменить переменную path_sales_sample_check на path_sales внутри функции read_parquet\n",
    "\n",
    "import os\n",
    "import pandas as pd\n",
    "\n",
    "path_sales_sample_check = '../tables/sales_sample_check.parquet' if os.path.exists('../tables/sales_sample_check.parquet') else 'https://drive.google.com/uc?id=1oYT518oqGnEF51PSFHfSHYNP-690ktFL'\n",
    "# path_sales = '../tables/sales.parquet' if os.path.exists('../tables/sales.parquet') else \"https://drive.usercontent.google.com/download?id=15KwSxyM6hpNABGe6_vsrFZvD09VfHFyK&export=download&authuser=1&confirm=t&uuid=115bd48c-cc2c-4f2a-8b42-be5ca6ef6db8&at=APZUnTUVb8nfNANw5wr9Cad7PJ3U:1693327774694\"\n",
    "\n",
    "sales = pd.read_parquet(path_sales_sample_check)\n",
    "sales.head()"
   ]
  },
  {
   "cell_type": "code",
   "execution_count": null,
   "id": "7a65509b",
   "metadata": {},
   "outputs": [],
   "source": [
    "# напишите свой код здесь"
   ]
  },
  {
   "cell_type": "markdown",
   "id": "13c8bd57",
   "metadata": {},
   "source": [
    "### Задание 4\n",
    "\n",
    "Для каждой строки найдите день недели на русском языке, когда была совершена покупка"
   ]
  },
  {
   "cell_type": "code",
   "execution_count": null,
   "id": "8ceaf068",
   "metadata": {},
   "outputs": [],
   "source": [
    "# таблица sales - большая, и в некоторых случаях ваш компьютер может не справиться с ее обработкой\n",
    "# поэтому лучше работайте с частью этой таблицы\n",
    "# но если вы хотите попробовать поработать с полной версией таблицы,\n",
    "# можете заменить переменную path_sales_sample_check на path_sales внутри функции read_parquet\n",
    "\n",
    "import os\n",
    "import pandas as pd\n",
    "\n",
    "path_sales_sample_check = '../tables/sales_sample_check.parquet' if os.path.exists('../tables/sales_sample_check.parquet') else 'https://drive.google.com/uc?id=1oYT518oqGnEF51PSFHfSHYNP-690ktFL'\n",
    "# path_sales = '../tables/sales.parquet' if os.path.exists('../tables/sales.parquet') else \"https://drive.usercontent.google.com/download?id=15KwSxyM6hpNABGe6_vsrFZvD09VfHFyK&export=download&authuser=1&confirm=t&uuid=115bd48c-cc2c-4f2a-8b42-be5ca6ef6db8&at=APZUnTUVb8nfNANw5wr9Cad7PJ3U:1693327774694\"\n",
    "\n",
    "sales = pd.read_parquet(path_sales_sample_check)\n",
    "sales.head()"
   ]
  },
  {
   "cell_type": "code",
   "execution_count": null,
   "id": "03a9f3c8",
   "metadata": {},
   "outputs": [],
   "source": [
    "# напишите свой код здесь"
   ]
  },
  {
   "cell_type": "markdown",
   "id": "e6f998df",
   "metadata": {},
   "source": [
    "### Задание 5\n",
    "\n",
    "Найдте цену на litecoin по состоянию на 29 мая 2020 года 18:32"
   ]
  },
  {
   "cell_type": "code",
   "execution_count": null,
   "id": "d4254a39",
   "metadata": {},
   "outputs": [],
   "source": [
    "# таблица ltc - большая, и в некоторых случаях ваш компьютер может не справиться с ее обработкой\n",
    "# поэтому лучше работайте с частью этой таблицы\n",
    "# но если вы хотите попробовать поработать с полной версией таблицы,\n",
    "# можете заменить переменную path_ltc_sample на path_ltc_full внутри функции read_parquet\n",
    "\n",
    "import os\n",
    "import pandas as pd\n",
    "\n",
    "# path_ltc_full = '../tables/ltc.parquet' if os.path.exists('../tables/ltc.parquet') else \"https://drive.usercontent.google.com/download?id=1ZkAmVZverOV3aGwmEQGAFXgXnQ6pPsZw&export=download&authuser=1&confirm=t&uuid=b827b3e2-7c5d-4979-9d25-f1c34954ac9f&at=APZUnTUs_oUnCQujGIlgn2Zkb5VG:1693327327264\"\n",
    "path_ltc_sample = '../tables/ltc_sample.parquet' if os.path.exists('../tables/ltc_sample.parquet') else 'https://drive.google.com/uc?id=1XaThogOOqKjJj50LvfJ9WqutjMAC5AxA'\n",
    "\n",
    "ltc = pd.read_parquet(path_ltc_sample)\n",
    "ltc.head()"
   ]
  },
  {
   "cell_type": "code",
   "execution_count": null,
   "id": "41291b86",
   "metadata": {},
   "outputs": [],
   "source": [
    "# напишите свой код здесь"
   ]
  },
  {
   "cell_type": "markdown",
   "id": "cc5c7c2b",
   "metadata": {},
   "source": [
    "### Задание 6\n",
    "\n",
    "Приведите колонку purchase_date к началу года"
   ]
  },
  {
   "cell_type": "code",
   "execution_count": null,
   "id": "572122a7",
   "metadata": {},
   "outputs": [],
   "source": [
    "# таблица sales - большая, и в некоторых случаях ваш компьютер может не справиться с ее обработкой\n",
    "# поэтому лучше работайте с частью этой таблицы\n",
    "# но если вы хотите попробовать поработать с полной версией таблицы,\n",
    "# можете заменить переменную path_sales_sample_check на path_sales внутри функции read_parquet\n",
    "\n",
    "import os\n",
    "import pandas as pd\n",
    "\n",
    "path_sales_sample_check = '../tables/sales_sample_check.parquet' if os.path.exists('../tables/sales_sample_check.parquet') else 'https://drive.google.com/uc?id=1oYT518oqGnEF51PSFHfSHYNP-690ktFL'\n",
    "# path_sales = '../tables/sales.parquet' if os.path.exists('../tables/sales.parquet') else \"https://drive.usercontent.google.com/download?id=15KwSxyM6hpNABGe6_vsrFZvD09VfHFyK&export=download&authuser=1&confirm=t&uuid=115bd48c-cc2c-4f2a-8b42-be5ca6ef6db8&at=APZUnTUVb8nfNANw5wr9Cad7PJ3U:1693327774694\"\n",
    "\n",
    "sales = pd.read_parquet(path_sales_sample_check)\n",
    "sales.head()"
   ]
  },
  {
   "cell_type": "code",
   "execution_count": null,
   "id": "661816da",
   "metadata": {},
   "outputs": [],
   "source": [
    "# напишите свой код здесь"
   ]
  },
  {
   "cell_type": "markdown",
   "id": "894c5992",
   "metadata": {},
   "source": [
    "### Задание 7\n",
    "\n",
    "Для каждого сотрудника посчитайте посчитайте сколько было ему лет, когда он впервые устроился на работу."
   ]
  },
  {
   "cell_type": "code",
   "execution_count": null,
   "id": "7cd40693",
   "metadata": {},
   "outputs": [],
   "source": [
    "import os\n",
    "import pandas as pd\n",
    "\n",
    "path_empl = '../tables/employees.parquet' if os.path.exists('../tables/employees.parquet') else 'https://drive.google.com/uc?id=1AARD5-eVlCxoApt5CYZebrC3Cqw42lvj'\n",
    "\n",
    "empl = pd.read_parquet(path_empl)\n",
    "empl.head()"
   ]
  },
  {
   "cell_type": "code",
   "execution_count": null,
   "id": "b6769d64",
   "metadata": {},
   "outputs": [],
   "source": [
    "# напишите свой код здесь"
   ]
  },
  {
   "cell_type": "markdown",
   "id": "fb83df0d",
   "metadata": {},
   "source": [
    "### Задание 8\n",
    "\n",
    "Найдите цену закрытия за каждый день (цена закрытия - последняя цена за определенный период)"
   ]
  },
  {
   "cell_type": "code",
   "execution_count": null,
   "id": "6029878a",
   "metadata": {},
   "outputs": [],
   "source": [
    "# таблица ltc - большая, и в некоторых случаях ваш компьютер может не справиться с ее обработкой\n",
    "# поэтому лучше работайте с частью этой таблицы\n",
    "# но если вы хотите попробовать поработать с полной версией таблицы,\n",
    "# можете заменить переменную path_ltc_sample на path_ltc_full внутри функции read_parquet\n",
    "\n",
    "import os\n",
    "import pandas as pd\n",
    "\n",
    "# path_ltc_full = '../tables/ltc.parquet' if os.path.exists('../tables/ltc.parquet') else \"https://drive.usercontent.google.com/download?id=1ZkAmVZverOV3aGwmEQGAFXgXnQ6pPsZw&export=download&authuser=1&confirm=t&uuid=b827b3e2-7c5d-4979-9d25-f1c34954ac9f&at=APZUnTUs_oUnCQujGIlgn2Zkb5VG:1693327327264\"\n",
    "path_ltc_sample = '../tables/ltc_sample.parquet' if os.path.exists('../tables/ltc_sample.parquet') else 'https://drive.google.com/uc?id=1XaThogOOqKjJj50LvfJ9WqutjMAC5AxA'\n",
    "\n",
    "ltc = pd.read_parquet(path_ltc_sample)\n",
    "ltc.head()"
   ]
  },
  {
   "cell_type": "code",
   "execution_count": null,
   "id": "168b1020",
   "metadata": {},
   "outputs": [],
   "source": [
    "# напишите свой код здесь"
   ]
  },
  {
   "cell_type": "markdown",
   "id": "c33305bd",
   "metadata": {},
   "source": [
    "### Задание 9\n",
    "\n",
    "Посчитайте среднее время покупки в магазине 9 21 окрября 2022 года. Результат округлити до минут. Кроме того, постройте гистограмму числа покупок по времени."
   ]
  },
  {
   "cell_type": "code",
   "execution_count": null,
   "id": "0fb99659",
   "metadata": {},
   "outputs": [],
   "source": [
    "# таблица sales - большая, и в некоторых случаях ваш компьютер может не справиться с ее обработкой\n",
    "# поэтому лучше работайте с частью этой таблицы\n",
    "# но если вы хотите попробовать поработать с полной версией таблицы,\n",
    "# можете заменить переменную path_sales_sample_check на path_sales внутри функции read_parquet\n",
    "\n",
    "import os\n",
    "import pandas as pd\n",
    "\n",
    "path_sales_sample_check = '../tables/sales_sample_check.parquet' if os.path.exists('../tables/sales_sample_check.parquet') else 'https://drive.google.com/uc?id=1oYT518oqGnEF51PSFHfSHYNP-690ktFL'\n",
    "# path_sales = '../tables/sales.parquet' if os.path.exists('../tables/sales.parquet') else \"https://drive.usercontent.google.com/download?id=15KwSxyM6hpNABGe6_vsrFZvD09VfHFyK&export=download&authuser=1&confirm=t&uuid=115bd48c-cc2c-4f2a-8b42-be5ca6ef6db8&at=APZUnTUVb8nfNANw5wr9Cad7PJ3U:1693327774694\"\n",
    "\n",
    "sales = pd.read_parquet(path_sales_sample_check)\n",
    "sales.head()"
   ]
  },
  {
   "cell_type": "code",
   "execution_count": null,
   "id": "b6ae9b12",
   "metadata": {},
   "outputs": [],
   "source": [
    "# напишите свой код здесь"
   ]
  },
  {
   "cell_type": "markdown",
   "id": "39995023",
   "metadata": {},
   "source": [
    "### Задание 10\n",
    "\n",
    "Посмотрите на рапределение людей с высшим образованием в разрезе возраста.\n",
    "\n",
    "Измените образование с высшего на среднее общее если сотруднику на отчетную дату было меньше 21 года и месяц отчетной даты - январь, февраль, март, апрель, май или июнь"
   ]
  },
  {
   "cell_type": "code",
   "execution_count": null,
   "id": "6ff633b6",
   "metadata": {},
   "outputs": [],
   "source": [
    "import os\n",
    "import pandas as pd\n",
    "\n",
    "path_empl = '../tables/employees.parquet' if os.path.exists('../tables/employees.parquet') else 'https://drive.google.com/uc?id=1AARD5-eVlCxoApt5CYZebrC3Cqw42lvj'\n",
    "\n",
    "empl = pd.read_parquet(path_empl)\n",
    "empl.head()"
   ]
  },
  {
   "cell_type": "code",
   "execution_count": null,
   "id": "32bd08ad",
   "metadata": {},
   "outputs": [],
   "source": [
    "# напишите свой код здесь"
   ]
  },
  {
   "cell_type": "code",
   "execution_count": null,
   "id": "92aace5c",
   "metadata": {},
   "outputs": [],
   "source": []
  },
  {
   "cell_type": "code",
   "execution_count": null,
   "id": "2e7e4134",
   "metadata": {},
   "outputs": [],
   "source": []
  },
  {
   "cell_type": "code",
   "execution_count": null,
   "id": "cadb252f",
   "metadata": {},
   "outputs": [],
   "source": []
  },
  {
   "cell_type": "code",
   "execution_count": null,
   "id": "c0cfaff5",
   "metadata": {},
   "outputs": [],
   "source": []
  },
  {
   "cell_type": "code",
   "execution_count": null,
   "id": "0fe401ea",
   "metadata": {},
   "outputs": [],
   "source": []
  },
  {
   "cell_type": "code",
   "execution_count": 1,
   "id": "64b1c7e8",
   "metadata": {},
   "outputs": [
    {
     "name": "stderr",
     "output_type": "stream",
     "text": [
      "C:\\Users\\Александр\\AppData\\Local\\Temp\\ipykernel_4824\\3777615979.py:1: DeprecationWarning: Importing display from IPython.core.display is deprecated since IPython 7.14, please import from IPython display\n",
      "  from IPython.core.display import display, HTML\n"
     ]
    },
    {
     "data": {
      "text/html": [
       "<style>.container { width:100% !important; }</style>"
      ],
      "text/plain": [
       "<IPython.core.display.HTML object>"
      ]
     },
     "metadata": {},
     "output_type": "display_data"
    }
   ],
   "source": [
    "from IPython.core.display import display, HTML\n",
    "display(HTML(\"<style>.container { width:100% !important; }</style>\"))"
   ]
  }
 ],
 "metadata": {
  "kernelspec": {
   "display_name": "Python 3 (ipykernel)",
   "language": "python",
   "name": "python3"
  },
  "language_info": {
   "codemirror_mode": {
    "name": "ipython",
    "version": 3
   },
   "file_extension": ".py",
   "mimetype": "text/x-python",
   "name": "python",
   "nbconvert_exporter": "python",
   "pygments_lexer": "ipython3",
   "version": "3.11.2"
  }
 },
 "nbformat": 4,
 "nbformat_minor": 5
}
