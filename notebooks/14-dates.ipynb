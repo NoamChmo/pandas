{
 "cells": [
  {
   "cell_type": "markdown",
   "id": "3d24f9ff",
   "metadata": {},
   "source": [
    "<a target=\"_blank\" href=\"https://colab.research.google.com/github/victorlymarev/pandas/blob/main/notebooks/14-dates.ipynb\">\n",
    "  <img src=\"https://colab.research.google.com/assets/colab-badge.svg\" alt=\"Open In Colab\"/>\n",
    "</a>"
   ]
  },
  {
   "cell_type": "markdown",
   "id": "1e7f8e51",
   "metadata": {},
   "source": [
    "# Работа с датами\n",
    "#### [Ссылка на видео](https://youtu.be/XALU2vi2J7Q)"
   ]
  },
  {
   "cell_type": "code",
   "execution_count": null,
   "id": "5605b710",
   "metadata": {},
   "outputs": [],
   "source": [
    "import pandas as pd\n",
    "import numpy as np\n",
    "import os"
   ]
  },
  {
   "cell_type": "code",
   "execution_count": null,
   "id": "23e07a98",
   "metadata": {},
   "outputs": [],
   "source": [
    "path_ltc_sample = '../tables/ltc_sample.parquet' if os.path.exists('../tables/ltc_sample.parquet') else 'https://drive.google.com/uc?id=1XaThogOOqKjJj50LvfJ9WqutjMAC5AxA'\n",
    "\n",
    "ltc = pd.read_parquet(path_ltc_sample)\n",
    "ltc.head()"
   ]
  },
  {
   "cell_type": "code",
   "execution_count": null,
   "id": "851657ae",
   "metadata": {},
   "outputs": [],
   "source": [
    "ltc['date'].head()"
   ]
  },
  {
   "cell_type": "markdown",
   "id": "4a9deeaa",
   "metadata": {},
   "source": [
    "Приведение дат к целым числам"
   ]
  },
  {
   "cell_type": "code",
   "execution_count": null,
   "id": "53f0e51a",
   "metadata": {},
   "outputs": [],
   "source": [
    "ltc['date'].head().astype('int64')"
   ]
  },
  {
   "cell_type": "code",
   "execution_count": null,
   "id": "e1858922",
   "metadata": {},
   "outputs": [],
   "source": [
    "ltc['date'].head().astype(str)"
   ]
  },
  {
   "cell_type": "markdown",
   "id": "2d523d55",
   "metadata": {},
   "source": [
    "Приведение строк и чисел к датам"
   ]
  },
  {
   "cell_type": "code",
   "execution_count": null,
   "id": "04b960b0",
   "metadata": {},
   "outputs": [],
   "source": [
    "ltc['date'].head().astype(str).astype('datetime64')"
   ]
  },
  {
   "cell_type": "code",
   "execution_count": null,
   "id": "5fd656b1",
   "metadata": {},
   "outputs": [],
   "source": [
    "pd.to_datetime(ltc['date'].astype(str).head())"
   ]
  },
  {
   "cell_type": "code",
   "execution_count": null,
   "id": "9669ee88",
   "metadata": {},
   "outputs": [],
   "source": [
    "pd.to_datetime(ltc['date'].astype('int64').head(), unit='ns')"
   ]
  },
  {
   "cell_type": "markdown",
   "id": "ba86d5d7",
   "metadata": {},
   "source": [
    "### Разложение даты и времени на части"
   ]
  },
  {
   "cell_type": "markdown",
   "id": "6a48fd74",
   "metadata": {},
   "source": [
    "Но у дат есть свои специфические методы и атрибуты, которые можно получить через атрибут dt"
   ]
  },
  {
   "cell_type": "markdown",
   "id": "ca8da22f",
   "metadata": {},
   "source": [
    "| Название атрибута                          | Описание                                                |\n",
    "|:------------------------------------------:|:-------------------------------------------------------:|\n",
    "| year                                       | Год                                                     |\n",
    "| month                                      | Месяц                                                   |\n",
    "| day                                        | День                                                    |\n",
    "| hour                                       | Час                                                     |\n",
    "| minute                                     | Минута                                                  |\n",
    "| second                                     | Секунда                                                 |\n",
    "| microsecond                                | Микросекунда                                            |\n",
    "| nanosecond                                 | Наносекунда                                             |\n",
    "| date                                       | Дата (без учета времени и таймзоны)                     |\n",
    "| time                                       | Время (без учета таймзоны)                              |\n",
    "| timetz                                     | Время (с учетем таймзоны)                               |\n",
    "| dayofyear или day_of_year                  | Номер дня в году (начиная с 1)                          |\n",
    "| weekofyear или week или isocalendar().week | Номер недели в году (начиная с 1)                       |\n",
    "| day_of_week или weekday                    | Номер дня недели (начиная с 0)                          |\n",
    "| day_name('rus')                            | Название дня недели (на русском языке)                  |\n",
    "| quarter                                    | Номер квартала (начиная с 1)                            |\n",
    "| days_in_month или daysinmonth              | Число дней в месяце                                     |\n",
    "| freq                                       | Частота (если есть)                                     |\n",
    "| is_month_start                             | Проверка на то, что число - это первый день месяца      |\n",
    "| is_month_end                               | Проверка на то, что число - это последний день месяца   |\n",
    "| is_quarter_start                           | Проверка на то, что число - это первый день квартала    |\n",
    "| is_quarter_end                             | Проверка на то, что число - это последний день квартала |\n",
    "| is_year_start                              | Проверка на то, что число - это первый день года        |\n",
    "| is_year_end                                | Проверка на то, что число - это последний день года     |\n",
    "| is_leap_year                               | Проверка на то, что год - высокосный                    |\n",
    "| tz                                         | Таймзона (если есть)                                    |\n",
    "| isocalendar()                              | Разложение даты на год, неделю и день                   |"
   ]
  },
  {
   "cell_type": "markdown",
   "id": "ad988962",
   "metadata": {},
   "source": [
    "#### Год"
   ]
  },
  {
   "cell_type": "code",
   "execution_count": null,
   "id": "51d80dbe",
   "metadata": {},
   "outputs": [],
   "source": [
    "ltc['date'].dt.year"
   ]
  },
  {
   "cell_type": "markdown",
   "id": "3fbce539",
   "metadata": {},
   "source": [
    "#### Месяц"
   ]
  },
  {
   "cell_type": "code",
   "execution_count": null,
   "id": "34609476",
   "metadata": {},
   "outputs": [],
   "source": [
    "ltc['date'].dt.month"
   ]
  },
  {
   "cell_type": "markdown",
   "id": "7f18f115",
   "metadata": {},
   "source": [
    "#### Номер дня недели"
   ]
  },
  {
   "cell_type": "code",
   "execution_count": null,
   "id": "300a7c44",
   "metadata": {},
   "outputs": [],
   "source": [
    "ltc['date'].dt.weekday"
   ]
  },
  {
   "cell_type": "markdown",
   "id": "401f638f",
   "metadata": {},
   "source": [
    "#### Дата"
   ]
  },
  {
   "cell_type": "markdown",
   "id": "acc6bb55",
   "metadata": {},
   "source": [
    "Тип данных - object!"
   ]
  },
  {
   "cell_type": "code",
   "execution_count": null,
   "id": "3b7153af",
   "metadata": {},
   "outputs": [],
   "source": [
    "ltc['date'].dt.date"
   ]
  },
  {
   "cell_type": "markdown",
   "id": "191ee71c",
   "metadata": {},
   "source": [
    "#### Название дня недели "
   ]
  },
  {
   "cell_type": "code",
   "execution_count": null,
   "id": "a7f487ba",
   "metadata": {},
   "outputs": [],
   "source": [
    "ltc['date'].dt.day_name()"
   ]
  },
  {
   "cell_type": "code",
   "execution_count": null,
   "id": "fab97e3d",
   "metadata": {},
   "outputs": [],
   "source": [
    "ltc['date'].dt.day_name('rus')"
   ]
  },
  {
   "cell_type": "markdown",
   "id": "f97b6751",
   "metadata": {},
   "source": [
    "#### Проверка на то, что дата - начало месяца"
   ]
  },
  {
   "cell_type": "code",
   "execution_count": null,
   "id": "77acdf89",
   "metadata": {},
   "outputs": [],
   "source": [
    "ltc['date'].dt.is_month_start"
   ]
  },
  {
   "cell_type": "markdown",
   "id": "01be6572",
   "metadata": {},
   "source": [
    "#### Установка часового пояса"
   ]
  },
  {
   "cell_type": "code",
   "execution_count": null,
   "id": "74af8e7c",
   "metadata": {},
   "outputs": [],
   "source": [
    "tz = ltc['date'].dt.tz_localize('Europe/Moscow')\n",
    "tz"
   ]
  },
  {
   "cell_type": "code",
   "execution_count": null,
   "id": "0b75bec4",
   "metadata": {},
   "outputs": [],
   "source": [
    "url_timezones = 'https://en.wikipedia.org/wiki/List_of_tz_database_time_zones'\n",
    "pd.read_html(url_timezones)[0].droplevel(0, 1)['TZ identifier'].tolist()#[:5]"
   ]
  },
  {
   "cell_type": "markdown",
   "id": "5a915c96",
   "metadata": {},
   "source": [
    "#### Изменение часового пояса"
   ]
  },
  {
   "cell_type": "code",
   "execution_count": null,
   "id": "c9a6bb5f",
   "metadata": {},
   "outputs": [],
   "source": [
    "tz.head()"
   ]
  },
  {
   "cell_type": "code",
   "execution_count": null,
   "id": "06ccf661",
   "metadata": {
    "scrolled": true
   },
   "outputs": [],
   "source": [
    "tz.dt.tz_convert('Asia/Yekaterinburg').head()"
   ]
  },
  {
   "cell_type": "code",
   "execution_count": null,
   "id": "5dfbf9e0",
   "metadata": {},
   "outputs": [],
   "source": []
  },
  {
   "cell_type": "code",
   "execution_count": null,
   "id": "d0681211",
   "metadata": {},
   "outputs": [],
   "source": []
  },
  {
   "cell_type": "markdown",
   "id": "5219308a",
   "metadata": {},
   "source": [
    "### Округление дат"
   ]
  },
  {
   "cell_type": "markdown",
   "id": "a6325096",
   "metadata": {},
   "source": [
    "#### dt.normalize()\n",
    "\n",
    "Приведение даты к полуночи"
   ]
  },
  {
   "cell_type": "code",
   "execution_count": null,
   "id": "383ba39e",
   "metadata": {},
   "outputs": [],
   "source": [
    "ltc['date'].dt.normalize()"
   ]
  },
  {
   "cell_type": "markdown",
   "id": "bf01a8bf",
   "metadata": {},
   "source": [
    "### dt.round()\n",
    "\n",
    "Округление даты"
   ]
  },
  {
   "cell_type": "code",
   "execution_count": null,
   "id": "1b411203",
   "metadata": {},
   "outputs": [],
   "source": [
    "ltc['date'].dt.round(freq='h')"
   ]
  },
  {
   "cell_type": "code",
   "execution_count": null,
   "id": "7e16381a",
   "metadata": {},
   "outputs": [],
   "source": [
    "ltc['date'].dt.round(freq='2d')"
   ]
  },
  {
   "cell_type": "code",
   "execution_count": null,
   "id": "1a0b64c6",
   "metadata": {},
   "outputs": [],
   "source": [
    "# Это работать не будет\n",
    "# ltc['date'].dt.round(freq='m')"
   ]
  },
  {
   "cell_type": "markdown",
   "id": "2eecdc2a",
   "metadata": {},
   "source": [
    "Можно написать свое условие"
   ]
  },
  {
   "cell_type": "code",
   "execution_count": null,
   "id": "fdbdb2a2",
   "metadata": {},
   "outputs": [],
   "source": [
    "np.where(ltc['date'].dt.day >= 16,\n",
    "         ltc['date'].dt.normalize() + pd.offsets.MonthEnd(0), # приводим дату к концу месяца если условие выполнено\n",
    "#          Приводим дату к концу предыдущего месяца если условие не соблюдается\n",
    "         ltc['date'].dt.normalize() + pd.offsets.MonthEnd(0) - pd.offsets.MonthEnd(1))"
   ]
  },
  {
   "cell_type": "markdown",
   "id": "30eb491c",
   "metadata": {},
   "source": [
    "### dt.floor\n",
    "\n",
    "Округление даты вниз"
   ]
  },
  {
   "cell_type": "code",
   "execution_count": null,
   "id": "e94f8377",
   "metadata": {},
   "outputs": [],
   "source": [
    "ltc['date'].dt.floor(freq='d')"
   ]
  },
  {
   "cell_type": "markdown",
   "id": "77d3ae9f",
   "metadata": {},
   "source": [
    "### dt.ceil\n",
    "\n",
    "Округление даты вверх"
   ]
  },
  {
   "cell_type": "code",
   "execution_count": null,
   "id": "fe4aefe1",
   "metadata": {},
   "outputs": [],
   "source": [
    "ltc['date'].dt.ceil(freq='d')"
   ]
  },
  {
   "cell_type": "markdown",
   "id": "bd11001c",
   "metadata": {},
   "source": [
    "### dt.strftime()\n",
    "Представление даты в виде строки нужного формата"
   ]
  },
  {
   "cell_type": "code",
   "execution_count": null,
   "id": "f27f7015",
   "metadata": {},
   "outputs": [],
   "source": [
    "ltc['date'].head().dt.strftime('%d-%m-%Y')"
   ]
  },
  {
   "cell_type": "code",
   "execution_count": null,
   "id": "71265365",
   "metadata": {},
   "outputs": [],
   "source": []
  },
  {
   "cell_type": "code",
   "execution_count": null,
   "id": "0cfd3055",
   "metadata": {},
   "outputs": [],
   "source": []
  },
  {
   "cell_type": "markdown",
   "id": "192f630a",
   "metadata": {},
   "source": [
    "### С датами можно использовать агрегационные функции"
   ]
  },
  {
   "cell_type": "code",
   "execution_count": null,
   "id": "ce97d656",
   "metadata": {},
   "outputs": [],
   "source": [
    "ltc['date'].mean()"
   ]
  },
  {
   "cell_type": "code",
   "execution_count": null,
   "id": "38974ddd",
   "metadata": {},
   "outputs": [],
   "source": [
    "ltc['date'].std()"
   ]
  },
  {
   "cell_type": "code",
   "execution_count": null,
   "id": "5c8564ff",
   "metadata": {},
   "outputs": [],
   "source": [
    "ltc['date'].astype('int64').mean().astype('int64').astype('datetime64[ns]')"
   ]
  },
  {
   "cell_type": "code",
   "execution_count": null,
   "id": "7b7aae1a",
   "metadata": {},
   "outputs": [],
   "source": []
  },
  {
   "cell_type": "code",
   "execution_count": null,
   "id": "280f9972",
   "metadata": {},
   "outputs": [],
   "source": []
  },
  {
   "cell_type": "markdown",
   "id": "5ea7bd2d",
   "metadata": {},
   "source": [
    "### Если мы работаем не с Series, то ставить dt не надо"
   ]
  },
  {
   "cell_type": "code",
   "execution_count": null,
   "id": "af57f2cc",
   "metadata": {},
   "outputs": [],
   "source": [
    "pd.Timestamp('2023-07-23')"
   ]
  },
  {
   "cell_type": "code",
   "execution_count": null,
   "id": "c422870d",
   "metadata": {},
   "outputs": [],
   "source": [
    "pd.Timestamp('2023-07-23').day"
   ]
  },
  {
   "cell_type": "code",
   "execution_count": null,
   "id": "4b42f064",
   "metadata": {},
   "outputs": [],
   "source": [
    "pd.Timestamp('2023-07-23').month"
   ]
  },
  {
   "cell_type": "code",
   "execution_count": null,
   "id": "e6100330",
   "metadata": {},
   "outputs": [],
   "source": [
    "pd.date_range('2023-07-23', '2023-08-23', freq='d').day_name('rus')"
   ]
  },
  {
   "cell_type": "code",
   "execution_count": null,
   "id": "441dbd6b",
   "metadata": {},
   "outputs": [],
   "source": []
  },
  {
   "cell_type": "code",
   "execution_count": null,
   "id": "ef93517a",
   "metadata": {},
   "outputs": [],
   "source": []
  },
  {
   "cell_type": "markdown",
   "id": "754e4b23",
   "metadata": {},
   "source": [
    "#### Все эти методы можно использовать при фильтрации строк"
   ]
  },
  {
   "cell_type": "code",
   "execution_count": null,
   "id": "db5506c0",
   "metadata": {},
   "outputs": [],
   "source": [
    "ltc.query('date.dt.is_month_start').head()"
   ]
  },
  {
   "cell_type": "markdown",
   "id": "688b1060",
   "metadata": {},
   "source": [
    "### asof\n",
    "\n",
    "#### Метод возвращает актуальное (последнее доступное) на указанную дату заначение"
   ]
  },
  {
   "cell_type": "code",
   "execution_count": null,
   "id": "1e3f93c8",
   "metadata": {},
   "outputs": [],
   "source": [
    "(ltc\n",
    "    .set_index('date')\n",
    "    .asof('2017-03-30 23:05:00')\n",
    ")"
   ]
  },
  {
   "cell_type": "code",
   "execution_count": null,
   "id": "67f68ba0",
   "metadata": {},
   "outputs": [],
   "source": [
    "ltc.query('date <= \"2017-03-30 23:05:00\"').sort_values(by='date').tail(1)"
   ]
  },
  {
   "cell_type": "markdown",
   "id": "8287be18",
   "metadata": {},
   "source": [
    "### at_time\n",
    "\n",
    "#### Метод возвращает все значения, произошедшие в определенное время, без учета даты"
   ]
  },
  {
   "cell_type": "code",
   "execution_count": null,
   "id": "a2d89389",
   "metadata": {},
   "outputs": [],
   "source": [
    "(ltc\n",
    "    .set_index('date')\n",
    "    .at_time('23:00')\n",
    "    .head()\n",
    ")"
   ]
  },
  {
   "cell_type": "markdown",
   "id": "e058c20c",
   "metadata": {},
   "source": [
    "### between_time\n",
    "\n",
    "#### Метод возвращает все значения между двумя значениями времени без учета даты"
   ]
  },
  {
   "cell_type": "code",
   "execution_count": null,
   "id": "b29970c6",
   "metadata": {},
   "outputs": [],
   "source": [
    "(ltc\n",
    "    .set_index('date')\n",
    "    .between_time('23:00', '04:00')\n",
    "    .head()\n",
    ")"
   ]
  },
  {
   "cell_type": "markdown",
   "id": "72493fad",
   "metadata": {},
   "source": [
    "### Last\n",
    "#### Метод возвращает все послединие значения за какой-то интервал (например, за час)"
   ]
  },
  {
   "cell_type": "code",
   "execution_count": null,
   "id": "5d88ce97",
   "metadata": {},
   "outputs": [],
   "source": [
    "# все значения за поледний час\n",
    "(ltc\n",
    "    .set_index('date')\n",
    "    .last('2d')\n",
    ")"
   ]
  },
  {
   "cell_type": "markdown",
   "id": "83f13886",
   "metadata": {},
   "source": [
    "### First\n",
    "#### Метод возвращает все первые значения за какой-то интервал (например, за час)"
   ]
  },
  {
   "cell_type": "code",
   "execution_count": null,
   "id": "4e830e0c",
   "metadata": {},
   "outputs": [],
   "source": [
    "# все значения за первый год (Календарный)\n",
    "(ltc\n",
    "    .set_index('date')\n",
    "    .first('Y')\n",
    ")"
   ]
  },
  {
   "cell_type": "markdown",
   "id": "51bc3cb3",
   "metadata": {},
   "source": [
    "### Список сокращений (регистр не важен)\n",
    "\n",
    "| Сокращение   | Расшифровка                              | Сокращение   | Расшифровка                    |\n",
    "|:-------------|:-----------------------------------------|:-------------|:-------------------------------|\n",
    "| B            | Последний рабочий день в неделе          | QS           | Начало квартала                |\n",
    "| C            | Пользовательский последний день в неделе | BQS          | Первый рабочий день квартала   |\n",
    "| D            | День                                     | A, Y         | Конец года                     |\n",
    "| W            | Неделя                                   | BA, BY       | Последний рабочий день в году  |\n",
    "| M            | Конец месяца                             | AS, YS       | Начало года                    |\n",
    "| SM           | 15 число месяца                          | BAS, BYS     | Первый рабочий день в году     |\n",
    "| BM           | Последний рабочий день в месяце          | BH           | Рабочий час (от 9:00 до 17:00) |\n",
    "| CBM          | Пользовательский конец месяца            | H            | Час                            |\n",
    "| MS           | Первое число месяца                      | T, min       | Минута                         |\n",
    "| SMS          | 1 и 15 число месяца                      | S            | Секунда                        |\n",
    "| BMS          | Первый рабочий день месяца               | L, ms        | Миллисекунда                   |\n",
    "| CBMS         | Пользовательский первый день месяца      | U, us        | Микросекунда                   |\n",
    "| Q            | Конец квартала                           | N            | Наносекунда                    |\n",
    "| BQ           | Последний рабочий день квартала          | nan          | nan                            |"
   ]
  },
  {
   "cell_type": "code",
   "execution_count": null,
   "id": "def53117",
   "metadata": {},
   "outputs": [],
   "source": []
  },
  {
   "cell_type": "code",
   "execution_count": null,
   "id": "d41d5b00",
   "metadata": {},
   "outputs": [],
   "source": []
  },
  {
   "cell_type": "code",
   "execution_count": null,
   "id": "910c750c",
   "metadata": {},
   "outputs": [],
   "source": []
  },
  {
   "cell_type": "code",
   "execution_count": null,
   "id": "1464ec8c",
   "metadata": {},
   "outputs": [],
   "source": []
  },
  {
   "cell_type": "markdown",
   "id": "4dfed58e",
   "metadata": {},
   "source": [
    "## Арифметические опериции"
   ]
  },
  {
   "cell_type": "markdown",
   "id": "4f2a5f0e",
   "metadata": {},
   "source": [
    "### Timedelta\n",
    "\n",
    "Используется в арифметических операциях с датами"
   ]
  },
  {
   "cell_type": "code",
   "execution_count": null,
   "id": "cebbe168",
   "metadata": {},
   "outputs": [],
   "source": [
    "pd.Timedelta(1, 'day')"
   ]
  },
  {
   "cell_type": "code",
   "execution_count": null,
   "id": "dad81cb6",
   "metadata": {},
   "outputs": [],
   "source": [
    "pd.Timedelta(135, 'min')"
   ]
  },
  {
   "cell_type": "code",
   "execution_count": null,
   "id": "5a587c6f",
   "metadata": {},
   "outputs": [],
   "source": [
    "pd.Timedelta(9, 's')"
   ]
  },
  {
   "cell_type": "code",
   "execution_count": null,
   "id": "2be89b9a",
   "metadata": {},
   "outputs": [],
   "source": [
    "pd.Timedelta(0.25, 'h')"
   ]
  },
  {
   "cell_type": "markdown",
   "id": "c0edb2f8",
   "metadata": {},
   "source": [
    "### Возможные варианты сокращений\n",
    "\n",
    "* **'W'** - неделя, **'D'** - день, **'T'** - минута, **'S'** - секунда, **'L'** - милисекунда, **'U'** - микросекунда, **'N'** - наносекунда\n",
    "* **'days'** или **'day'** - день\n",
    "* **'hours'**, **'hour'**, **'hr'**, или **'h'** - час\n",
    "* **'minutes'**, **'minute'**, **'min'**, или **'m'** - минута\n",
    "* **'seconds'**, **'second'**, или **'sec'** - секунда\n",
    "* **'milliseconds'**, **'millisecond'**, **'millis'**, или **'milli'** - милисекунда\n",
    "* **'microseconds'**, **'microsecond'**, **'micros'**, или **'micro'** - микросекунда\n",
    "* **'nanoseconds'**, **'nanosecond'**, **'nanos'**, **'nano'**, или **'ns'** - наносекунда"
   ]
  },
  {
   "cell_type": "code",
   "execution_count": null,
   "id": "8f3a2400",
   "metadata": {},
   "outputs": [],
   "source": [
    "# можно исользовать:\n",
    "# days, hours, minutes, seconds, milliseconds, microseconds, nanoseconds\n",
    "pd.Timedelta(days=3, hours=4, minutes=122, seconds=912)"
   ]
  },
  {
   "cell_type": "code",
   "execution_count": null,
   "id": "a2c9d037",
   "metadata": {},
   "outputs": [],
   "source": [
    "pd.Timedelta(135, 'min') * 10"
   ]
  },
  {
   "cell_type": "code",
   "execution_count": null,
   "id": "11229776",
   "metadata": {},
   "outputs": [],
   "source": [
    "pd.Timedelta(135, 'min') / 10"
   ]
  },
  {
   "cell_type": "code",
   "execution_count": null,
   "id": "18abeeeb",
   "metadata": {},
   "outputs": [],
   "source": [
    "pd.Timedelta(135, 'min') + pd.Timedelta(9, 's')"
   ]
  },
  {
   "cell_type": "code",
   "execution_count": null,
   "id": "4d6b3fec",
   "metadata": {},
   "outputs": [],
   "source": [
    "pd.Timedelta(135, 'min') - pd.Timedelta(9, 's')"
   ]
  },
  {
   "cell_type": "code",
   "execution_count": null,
   "id": "2a34575f",
   "metadata": {},
   "outputs": [],
   "source": []
  },
  {
   "cell_type": "code",
   "execution_count": null,
   "id": "7da7bd6f",
   "metadata": {},
   "outputs": [],
   "source": []
  },
  {
   "cell_type": "markdown",
   "id": "612efa18",
   "metadata": {},
   "source": [
    "### to_timedelta\n",
    "\n",
    "Преобразует набор чисел в объекты timedelta"
   ]
  },
  {
   "cell_type": "code",
   "execution_count": null,
   "id": "02dab6eb",
   "metadata": {},
   "outputs": [],
   "source": [
    "pd.to_timedelta(np.arange(10), 'days')"
   ]
  },
  {
   "cell_type": "code",
   "execution_count": null,
   "id": "1fca6a38",
   "metadata": {},
   "outputs": [],
   "source": [
    "pd.to_timedelta([1, 12.8, 11.5, 0.3], 'days')"
   ]
  },
  {
   "cell_type": "code",
   "execution_count": null,
   "id": "bd6f95fd",
   "metadata": {},
   "outputs": [],
   "source": []
  },
  {
   "cell_type": "code",
   "execution_count": null,
   "id": "76e15483",
   "metadata": {},
   "outputs": [],
   "source": []
  },
  {
   "cell_type": "markdown",
   "id": "cf46feb4",
   "metadata": {},
   "source": [
    "#### Пложим несколько дат в отдельную переменную"
   ]
  },
  {
   "cell_type": "code",
   "execution_count": null,
   "id": "e734a411",
   "metadata": {},
   "outputs": [],
   "source": [
    "ts = ltc.loc[[300, 341, 342], 'date'].copy()\n",
    "ts"
   ]
  },
  {
   "cell_type": "markdown",
   "id": "935453b0",
   "metadata": {},
   "source": [
    "### Опрации с Timedelta"
   ]
  },
  {
   "cell_type": "code",
   "execution_count": null,
   "id": "17615e95",
   "metadata": {},
   "outputs": [],
   "source": [
    "ts + pd.Timedelta(8, 'h')"
   ]
  },
  {
   "cell_type": "code",
   "execution_count": null,
   "id": "024f6b0a",
   "metadata": {},
   "outputs": [],
   "source": [
    "ts - pd.Timedelta(8, 'h')"
   ]
  },
  {
   "cell_type": "code",
   "execution_count": null,
   "id": "04bd6a99",
   "metadata": {},
   "outputs": [],
   "source": [
    "ts - 10 * pd.Timedelta(8, 'h')"
   ]
  },
  {
   "cell_type": "code",
   "execution_count": null,
   "id": "386dd663",
   "metadata": {},
   "outputs": [],
   "source": []
  },
  {
   "cell_type": "code",
   "execution_count": null,
   "id": "7a18866c",
   "metadata": {},
   "outputs": [],
   "source": []
  },
  {
   "cell_type": "code",
   "execution_count": null,
   "id": "9a41ae40",
   "metadata": {},
   "outputs": [],
   "source": []
  },
  {
   "cell_type": "code",
   "execution_count": null,
   "id": "a9f26c74",
   "metadata": {},
   "outputs": [],
   "source": []
  },
  {
   "cell_type": "markdown",
   "id": "e70b079a",
   "metadata": {},
   "source": [
    "### Offsets"
   ]
  },
  {
   "cell_type": "code",
   "execution_count": null,
   "id": "eea91752",
   "metadata": {},
   "outputs": [],
   "source": [
    "dir(pd.offsets)[:42]"
   ]
  },
  {
   "cell_type": "markdown",
   "id": "8118b745",
   "metadata": {},
   "source": [
    "### MonthEnd"
   ]
  },
  {
   "cell_type": "markdown",
   "id": "009ee33a",
   "metadata": {},
   "source": [
    "#### Приведем дату к концу месяца"
   ]
  },
  {
   "cell_type": "code",
   "execution_count": null,
   "id": "cc7971eb",
   "metadata": {},
   "outputs": [],
   "source": [
    "ts"
   ]
  },
  {
   "cell_type": "code",
   "execution_count": null,
   "id": "b03d71b5",
   "metadata": {},
   "outputs": [],
   "source": [
    "ts + pd.offsets.MonthEnd(0)"
   ]
  },
  {
   "cell_type": "code",
   "execution_count": null,
   "id": "3b44b9b1",
   "metadata": {},
   "outputs": [],
   "source": [
    "ts.dt.normalize() + pd.offsets.MonthEnd(0)"
   ]
  },
  {
   "cell_type": "markdown",
   "id": "47d07aec",
   "metadata": {},
   "source": [
    "Если передать 1, то все даты, что не конец месяца - станут концом месяца, но если дата - конец месяца, то она станет концом следующего месяца"
   ]
  },
  {
   "cell_type": "code",
   "execution_count": null,
   "id": "46d82dc0",
   "metadata": {},
   "outputs": [],
   "source": [
    "ts.dt.normalize() + pd.offsets.MonthEnd(1)"
   ]
  },
  {
   "cell_type": "markdown",
   "id": "30364632",
   "metadata": {},
   "source": [
    "Приведем даты к концу следующего месяца"
   ]
  },
  {
   "cell_type": "code",
   "execution_count": null,
   "id": "ca9b30e8",
   "metadata": {},
   "outputs": [],
   "source": [
    "ts"
   ]
  },
  {
   "cell_type": "code",
   "execution_count": null,
   "id": "d66e3368",
   "metadata": {},
   "outputs": [],
   "source": [
    "ts.dt.normalize() + pd.offsets.MonthEnd(0) + pd.offsets.MonthEnd(1)"
   ]
  },
  {
   "cell_type": "markdown",
   "id": "8c152f75",
   "metadata": {},
   "source": [
    "Если вычесть pd.offsets.MonthEnd(0) то это будет эквивалентно прибавлению"
   ]
  },
  {
   "cell_type": "code",
   "execution_count": null,
   "id": "2bd6a0fb",
   "metadata": {},
   "outputs": [],
   "source": [
    "ts.dt.normalize()"
   ]
  },
  {
   "cell_type": "code",
   "execution_count": null,
   "id": "a7ed13a2",
   "metadata": {},
   "outputs": [],
   "source": [
    "ts.dt.normalize() - pd.offsets.MonthEnd(0)"
   ]
  },
  {
   "cell_type": "markdown",
   "id": "2a13ddee",
   "metadata": {},
   "source": [
    "Такая запись приведет даты к концу предыдущего месяца"
   ]
  },
  {
   "cell_type": "code",
   "execution_count": null,
   "id": "11385585",
   "metadata": {},
   "outputs": [],
   "source": [
    "ts.dt.normalize() - pd.offsets.MonthEnd(1)\n",
    "# ts.dt.normalize() + pd.offsets.MonthEnd(0) - pd.offsets.MonthEnd(1)"
   ]
  },
  {
   "cell_type": "markdown",
   "id": "6b42509f",
   "metadata": {},
   "source": [
    "Приведение даты к концу предпредыдущего месяца"
   ]
  },
  {
   "cell_type": "code",
   "execution_count": null,
   "id": "9d207f35",
   "metadata": {},
   "outputs": [],
   "source": [
    "ts.dt.normalize() - pd.offsets.MonthEnd(2)\n",
    "# ts.dt.normalize() + pd.offsets.MonthEnd(0) - pd.offsets.MonthEnd(2)"
   ]
  },
  {
   "cell_type": "markdown",
   "id": "5017e97a",
   "metadata": {},
   "source": [
    "### Приведение даты к началу месяца"
   ]
  },
  {
   "cell_type": "code",
   "execution_count": null,
   "id": "84567dc7",
   "metadata": {},
   "outputs": [],
   "source": [
    "ts.dt.normalize() + pd.offsets.MonthEnd(0) - pd.offsets.MonthBegin(1)"
   ]
  },
  {
   "cell_type": "code",
   "execution_count": null,
   "id": "c14a416e",
   "metadata": {},
   "outputs": [],
   "source": []
  },
  {
   "cell_type": "code",
   "execution_count": null,
   "id": "da9be35d",
   "metadata": {},
   "outputs": [],
   "source": []
  },
  {
   "cell_type": "markdown",
   "id": "ee7049ec",
   "metadata": {},
   "source": [
    "### Добавляем 9 рабочих дней"
   ]
  },
  {
   "cell_type": "code",
   "execution_count": null,
   "id": "f759d125",
   "metadata": {},
   "outputs": [],
   "source": [
    "ts"
   ]
  },
  {
   "cell_type": "code",
   "execution_count": null,
   "id": "44fc3a2c",
   "metadata": {},
   "outputs": [],
   "source": [
    "ts + pd.offsets.BusinessDay(9)"
   ]
  },
  {
   "cell_type": "markdown",
   "id": "303ca09c",
   "metadata": {},
   "source": [
    "#### Добавляем 9 рабочих дней при четырехдневной рабочей неделе"
   ]
  },
  {
   "cell_type": "code",
   "execution_count": null,
   "id": "a41812aa",
   "metadata": {},
   "outputs": [],
   "source": [
    "ts + pd.offsets.CustomBusinessDay(9, weekmask='Mon Tue Wed Thu')"
   ]
  },
  {
   "cell_type": "markdown",
   "id": "0e914d15",
   "metadata": {},
   "source": [
    "Добавим 10 рабочих часов. Рабочие часы Пн-Пт с 9 до 17"
   ]
  },
  {
   "cell_type": "code",
   "execution_count": null,
   "id": "f462719a",
   "metadata": {},
   "outputs": [],
   "source": [
    "ts"
   ]
  },
  {
   "cell_type": "code",
   "execution_count": null,
   "id": "b77e7395",
   "metadata": {},
   "outputs": [],
   "source": [
    "ts + pd.offsets.BusinessHour(10)"
   ]
  },
  {
   "cell_type": "code",
   "execution_count": null,
   "id": "d2389213",
   "metadata": {},
   "outputs": [],
   "source": []
  },
  {
   "cell_type": "code",
   "execution_count": null,
   "id": "d8236bf4",
   "metadata": {},
   "outputs": [],
   "source": []
  },
  {
   "cell_type": "code",
   "execution_count": null,
   "id": "96c8b8ef",
   "metadata": {},
   "outputs": [],
   "source": []
  },
  {
   "cell_type": "code",
   "execution_count": null,
   "id": "732cf716",
   "metadata": {},
   "outputs": [],
   "source": []
  },
  {
   "cell_type": "markdown",
   "id": "894df450",
   "metadata": {},
   "source": [
    "### Метод astype"
   ]
  },
  {
   "cell_type": "markdown",
   "id": "20f4a474",
   "metadata": {},
   "source": [
    "Метод приведит дату к началу периода"
   ]
  },
  {
   "cell_type": "code",
   "execution_count": null,
   "id": "b3c52f3f",
   "metadata": {},
   "outputs": [],
   "source": [
    "ts"
   ]
  },
  {
   "cell_type": "code",
   "execution_count": null,
   "id": "1913f3ad",
   "metadata": {},
   "outputs": [],
   "source": [
    "ts.dt.date.astype('datetime64[W]')"
   ]
  },
  {
   "cell_type": "code",
   "execution_count": null,
   "id": "bc5711c1",
   "metadata": {},
   "outputs": [],
   "source": [
    "ts.dt.date.astype('datetime64[M]')"
   ]
  },
  {
   "cell_type": "code",
   "execution_count": null,
   "id": "b3f9a275",
   "metadata": {},
   "outputs": [],
   "source": [
    "ts.dt.date.astype('datetime64[Y]')"
   ]
  },
  {
   "cell_type": "code",
   "execution_count": null,
   "id": "58ba2944",
   "metadata": {},
   "outputs": [],
   "source": []
  },
  {
   "cell_type": "code",
   "execution_count": null,
   "id": "8232380d",
   "metadata": {},
   "outputs": [],
   "source": []
  },
  {
   "cell_type": "code",
   "execution_count": null,
   "id": "a934abd6",
   "metadata": {},
   "outputs": [],
   "source": []
  },
  {
   "cell_type": "code",
   "execution_count": null,
   "id": "3001ccc4",
   "metadata": {},
   "outputs": [],
   "source": []
  },
  {
   "cell_type": "code",
   "execution_count": null,
   "id": "04e5447f",
   "metadata": {},
   "outputs": [],
   "source": []
  },
  {
   "cell_type": "code",
   "execution_count": null,
   "id": "5ec2e87c",
   "metadata": {},
   "outputs": [],
   "source": []
  },
  {
   "cell_type": "code",
   "execution_count": null,
   "id": "b4216126",
   "metadata": {},
   "outputs": [],
   "source": []
  },
  {
   "cell_type": "code",
   "execution_count": null,
   "id": "6a236a80",
   "metadata": {},
   "outputs": [],
   "source": []
  },
  {
   "cell_type": "code",
   "execution_count": null,
   "id": "a8c53937",
   "metadata": {},
   "outputs": [],
   "source": []
  },
  {
   "cell_type": "code",
   "execution_count": null,
   "id": "d890a106",
   "metadata": {},
   "outputs": [],
   "source": []
  },
  {
   "cell_type": "markdown",
   "id": "71e3ccb4",
   "metadata": {},
   "source": [
    "# Задания"
   ]
  },
  {
   "cell_type": "markdown",
   "id": "a7b823b4",
   "metadata": {},
   "source": [
    "#### Описание таблиц лежит [здесь](https://github.com/victorlymarev/pandas/tree/main/tables#%D0%BE%D0%BF%D0%B8%D1%81%D0%B0%D0%BD%D0%B8%D0%B5-%D1%82%D0%B0%D0%B1%D0%BB%D0%B8%D1%86)"
   ]
  },
  {
   "cell_type": "markdown",
   "id": "8a66aced",
   "metadata": {},
   "source": [
    "Некоторые таблицы занимают много памяти, поэтому каждые 5-10 заданий лучше перезапускайте ноутбук.\n",
    "\n",
    "В формулировке некоторых заданий может содержаться вариативность. Если у вас есть сомнения, что требуется в задании, попробуйте решить несколько вариантов. Если вы не понимаете задание, можете написать об этом в комментариях под видео.\n",
    "\n",
    "В большинстве случаев внешний вид итоговой таблицы не определен. Выведите на экран наиболее адекватный вариант. То есть таблицу, из которой можно будет сделать выводы.\n",
    "\n",
    "Курс пока находится в разработке. Вы можете помочь другим людям добавив свое решение [сюда](https://docs.google.com/forms/d/1HYTBz_KfssY3Jps2dC3n0YnEqa6WBb5OIhLo1d32Xzw/edit).\n",
    "\n",
    "Посмотреть решения других людей можно [здесь](https://docs.google.com/spreadsheets/d/1pMDYO-9UneLbPPnEuQ2shig0TOJdQTU-zipifyAnZMk/edit?resourcekey#gid=1998648012)"
   ]
  },
  {
   "cell_type": "markdown",
   "id": "a2e5570e",
   "metadata": {},
   "source": [
    "### Задание 1\n",
    "\n",
    "Магазин открывается через 15 дней после завершения ремонта. Найдите дату, когда был закончен ремонт в каждом магазине"
   ]
  },
  {
   "cell_type": "code",
   "execution_count": null,
   "id": "b5e0532c",
   "metadata": {},
   "outputs": [],
   "source": [
    "import os\n",
    "import pandas as pd\n",
    "\n",
    "path_shops = '../tables/shops.xlsx' if os.path.exists('../tables/shops.xlsx') else 'https://drive.google.com/uc?id=1gfnmceJa3Mc1X06NftTx9G9QfKfprjEB'\n",
    "\n",
    "shops = pd.read_excel(path_shops)\n",
    "shops.head()"
   ]
  },
  {
   "cell_type": "code",
   "execution_count": null,
   "id": "8acb5344",
   "metadata": {},
   "outputs": [],
   "source": [
    "# напишите свой код здесь"
   ]
  },
  {
   "cell_type": "markdown",
   "id": "c0f5c587",
   "metadata": {},
   "source": [
    "### Задание 2\n",
    "\n",
    "На каждую отчетную дату найдите возраст сотрудника в годах"
   ]
  },
  {
   "cell_type": "code",
   "execution_count": null,
   "id": "57f121e0",
   "metadata": {},
   "outputs": [],
   "source": [
    "import os\n",
    "import pandas as pd\n",
    "\n",
    "path_empl = '../tables/employees.parquet' if os.path.exists('../tables/employees.parquet') else 'https://drive.google.com/uc?id=1AARD5-eVlCxoApt5CYZebrC3Cqw42lvj'\n",
    "\n",
    "empl = pd.read_parquet(path_empl)\n",
    "empl.head()"
   ]
  },
  {
   "cell_type": "code",
   "execution_count": null,
   "id": "c8d08218",
   "metadata": {},
   "outputs": [],
   "source": [
    "# напишите свой код здесь"
   ]
  },
  {
   "cell_type": "markdown",
   "id": "a7ec96bf",
   "metadata": {},
   "source": [
    "### Задание 3\n",
    "\n",
    "Округлите дату покупки до недели (при помощи метода astype)"
   ]
  },
  {
   "cell_type": "code",
   "execution_count": null,
   "id": "df9a4fc0",
   "metadata": {},
   "outputs": [],
   "source": [
    "# таблица sales - большая, и в некоторых случаях ваш компьютер может не справиться с ее обработкой\n",
    "# поэтому лучше работайте с частью этой таблицы\n",
    "# но если вы хотите попробовать поработать с полной версией таблицы,\n",
    "# можете заменить переменную path_sales_sample_check на path_sales внутри функции read_parquet\n",
    "\n",
    "import os\n",
    "import pandas as pd\n",
    "\n",
    "path_sales_sample_check = '../tables/sales_sample_check.parquet' if os.path.exists('../tables/sales_sample_check.parquet') else 'https://drive.google.com/uc?id=1oYT518oqGnEF51PSFHfSHYNP-690ktFL'\n",
    "# path_sales = '../tables/sales.parquet' if os.path.exists('../tables/sales.parquet') else \"https://drive.usercontent.google.com/download?id=15KwSxyM6hpNABGe6_vsrFZvD09VfHFyK&export=download&authuser=1&confirm=t&uuid=115bd48c-cc2c-4f2a-8b42-be5ca6ef6db8&at=APZUnTUVb8nfNANw5wr9Cad7PJ3U:1693327774694\"\n",
    "\n",
    "sales = pd.read_parquet(path_sales_sample_check)\n",
    "sales.head()"
   ]
  },
  {
   "cell_type": "code",
   "execution_count": null,
   "id": "7a65509b",
   "metadata": {},
   "outputs": [],
   "source": [
    "# напишите свой код здесь"
   ]
  },
  {
   "cell_type": "markdown",
   "id": "13c8bd57",
   "metadata": {},
   "source": [
    "### Задание 4\n",
    "\n",
    "Для каждой строки найдите день недели на русском языке, когда была совершена покупка"
   ]
  },
  {
   "cell_type": "code",
   "execution_count": null,
   "id": "8ceaf068",
   "metadata": {},
   "outputs": [],
   "source": [
    "# таблица sales - большая, и в некоторых случаях ваш компьютер может не справиться с ее обработкой\n",
    "# поэтому лучше работайте с частью этой таблицы\n",
    "# но если вы хотите попробовать поработать с полной версией таблицы,\n",
    "# можете заменить переменную path_sales_sample_check на path_sales внутри функции read_parquet\n",
    "\n",
    "import os\n",
    "import pandas as pd\n",
    "\n",
    "path_sales_sample_check = '../tables/sales_sample_check.parquet' if os.path.exists('../tables/sales_sample_check.parquet') else 'https://drive.google.com/uc?id=1oYT518oqGnEF51PSFHfSHYNP-690ktFL'\n",
    "# path_sales = '../tables/sales.parquet' if os.path.exists('../tables/sales.parquet') else \"https://drive.usercontent.google.com/download?id=15KwSxyM6hpNABGe6_vsrFZvD09VfHFyK&export=download&authuser=1&confirm=t&uuid=115bd48c-cc2c-4f2a-8b42-be5ca6ef6db8&at=APZUnTUVb8nfNANw5wr9Cad7PJ3U:1693327774694\"\n",
    "\n",
    "sales = pd.read_parquet(path_sales_sample_check)\n",
    "sales.head()"
   ]
  },
  {
   "cell_type": "code",
   "execution_count": null,
   "id": "03a9f3c8",
   "metadata": {},
   "outputs": [],
   "source": [
    "# напишите свой код здесь"
   ]
  },
  {
   "cell_type": "markdown",
   "id": "e6f998df",
   "metadata": {},
   "source": [
    "### Задание 5\n",
    "\n",
    "Найдте цену на litecoin по состоянию на 29 мая 2020 года 18:32"
   ]
  },
  {
   "cell_type": "code",
   "execution_count": null,
   "id": "d4254a39",
   "metadata": {},
   "outputs": [],
   "source": [
    "# таблица ltc - большая, и в некоторых случаях ваш компьютер может не справиться с ее обработкой\n",
    "# поэтому лучше работайте с частью этой таблицы\n",
    "# но если вы хотите попробовать поработать с полной версией таблицы,\n",
    "# можете заменить переменную path_ltc_sample на path_ltc_full внутри функции read_parquet\n",
    "\n",
    "import os\n",
    "import pandas as pd\n",
    "\n",
    "# path_ltc_full = '../tables/ltc.parquet' if os.path.exists('../tables/ltc.parquet') else \"https://drive.usercontent.google.com/download?id=1ZkAmVZverOV3aGwmEQGAFXgXnQ6pPsZw&export=download&authuser=1&confirm=t&uuid=b827b3e2-7c5d-4979-9d25-f1c34954ac9f&at=APZUnTUs_oUnCQujGIlgn2Zkb5VG:1693327327264\"\n",
    "path_ltc_sample = '../tables/ltc_sample.parquet' if os.path.exists('../tables/ltc_sample.parquet') else 'https://drive.google.com/uc?id=1XaThogOOqKjJj50LvfJ9WqutjMAC5AxA'\n",
    "\n",
    "ltc = pd.read_parquet(path_ltc_sample)\n",
    "ltc.head()"
   ]
  },
  {
   "cell_type": "code",
   "execution_count": null,
   "id": "41291b86",
   "metadata": {},
   "outputs": [],
   "source": [
    "# напишите свой код здесь"
   ]
  },
  {
   "cell_type": "markdown",
   "id": "cc5c7c2b",
   "metadata": {},
   "source": [
    "### Задание 6\n",
    "\n",
    "Приведите колонку purchase_date к началу года"
   ]
  },
  {
   "cell_type": "code",
   "execution_count": null,
   "id": "572122a7",
   "metadata": {},
   "outputs": [],
   "source": [
    "# таблица sales - большая, и в некоторых случаях ваш компьютер может не справиться с ее обработкой\n",
    "# поэтому лучше работайте с частью этой таблицы\n",
    "# но если вы хотите попробовать поработать с полной версией таблицы,\n",
    "# можете заменить переменную path_sales_sample_check на path_sales внутри функции read_parquet\n",
    "\n",
    "import os\n",
    "import pandas as pd\n",
    "\n",
    "path_sales_sample_check = '../tables/sales_sample_check.parquet' if os.path.exists('../tables/sales_sample_check.parquet') else 'https://drive.google.com/uc?id=1oYT518oqGnEF51PSFHfSHYNP-690ktFL'\n",
    "# path_sales = '../tables/sales.parquet' if os.path.exists('../tables/sales.parquet') else \"https://drive.usercontent.google.com/download?id=15KwSxyM6hpNABGe6_vsrFZvD09VfHFyK&export=download&authuser=1&confirm=t&uuid=115bd48c-cc2c-4f2a-8b42-be5ca6ef6db8&at=APZUnTUVb8nfNANw5wr9Cad7PJ3U:1693327774694\"\n",
    "\n",
    "sales = pd.read_parquet(path_sales_sample_check)\n",
    "sales.head()"
   ]
  },
  {
   "cell_type": "code",
   "execution_count": null,
   "id": "661816da",
   "metadata": {},
   "outputs": [],
   "source": [
    "# напишите свой код здесь"
   ]
  },
  {
   "cell_type": "markdown",
   "id": "894c5992",
   "metadata": {},
   "source": [
    "### Задание 7\n",
    "\n",
    "Для каждого сотрудника посчитайте посчитайте сколько было ему лет, когда он впервые устроился на работу."
   ]
  },
  {
   "cell_type": "code",
   "execution_count": null,
   "id": "7cd40693",
   "metadata": {},
   "outputs": [],
   "source": [
    "import os\n",
    "import pandas as pd\n",
    "\n",
    "path_empl = '../tables/employees.parquet' if os.path.exists('../tables/employees.parquet') else 'https://drive.google.com/uc?id=1AARD5-eVlCxoApt5CYZebrC3Cqw42lvj'\n",
    "\n",
    "empl = pd.read_parquet(path_empl)\n",
    "empl.head()"
   ]
  },
  {
   "cell_type": "code",
   "execution_count": null,
   "id": "b6769d64",
   "metadata": {},
   "outputs": [],
   "source": [
    "# напишите свой код здесь"
   ]
  },
  {
   "cell_type": "markdown",
   "id": "fb83df0d",
   "metadata": {},
   "source": [
    "### Задание 8\n",
    "\n",
    "Найдите цену закрытия за каждый день (цена закрытия - последняя цена за определенный период)"
   ]
  },
  {
   "cell_type": "code",
   "execution_count": null,
   "id": "6029878a",
   "metadata": {},
   "outputs": [],
   "source": [
    "# таблица ltc - большая, и в некоторых случаях ваш компьютер может не справиться с ее обработкой\n",
    "# поэтому лучше работайте с частью этой таблицы\n",
    "# но если вы хотите попробовать поработать с полной версией таблицы,\n",
    "# можете заменить переменную path_ltc_sample на path_ltc_full внутри функции read_parquet\n",
    "\n",
    "import os\n",
    "import pandas as pd\n",
    "\n",
    "# path_ltc_full = '../tables/ltc.parquet' if os.path.exists('../tables/ltc.parquet') else \"https://drive.usercontent.google.com/download?id=1ZkAmVZverOV3aGwmEQGAFXgXnQ6pPsZw&export=download&authuser=1&confirm=t&uuid=b827b3e2-7c5d-4979-9d25-f1c34954ac9f&at=APZUnTUs_oUnCQujGIlgn2Zkb5VG:1693327327264\"\n",
    "path_ltc_sample = '../tables/ltc_sample.parquet' if os.path.exists('../tables/ltc_sample.parquet') else 'https://drive.google.com/uc?id=1XaThogOOqKjJj50LvfJ9WqutjMAC5AxA'\n",
    "\n",
    "ltc = pd.read_parquet(path_ltc_sample)\n",
    "ltc.head()"
   ]
  },
  {
   "cell_type": "code",
   "execution_count": null,
   "id": "168b1020",
   "metadata": {},
   "outputs": [],
   "source": [
    "# напишите свой код здесь"
   ]
  },
  {
   "cell_type": "markdown",
   "id": "c33305bd",
   "metadata": {},
   "source": [
    "### Задание 9\n",
    "\n",
    "Посчитайте среднее время покупки в магазине 9 21 окрября 2022 года. Результат округлити до минут. Кроме того, постройте гистограмму числа покупок по времени."
   ]
  },
  {
   "cell_type": "code",
   "execution_count": null,
   "id": "0fb99659",
   "metadata": {},
   "outputs": [],
   "source": [
    "# таблица sales - большая, и в некоторых случаях ваш компьютер может не справиться с ее обработкой\n",
    "# поэтому лучше работайте с частью этой таблицы\n",
    "# но если вы хотите попробовать поработать с полной версией таблицы,\n",
    "# можете заменить переменную path_sales_sample_check на path_sales внутри функции read_parquet\n",
    "\n",
    "import os\n",
    "import pandas as pd\n",
    "\n",
    "path_sales_sample_check = '../tables/sales_sample_check.parquet' if os.path.exists('../tables/sales_sample_check.parquet') else 'https://drive.google.com/uc?id=1oYT518oqGnEF51PSFHfSHYNP-690ktFL'\n",
    "# path_sales = '../tables/sales.parquet' if os.path.exists('../tables/sales.parquet') else \"https://drive.usercontent.google.com/download?id=15KwSxyM6hpNABGe6_vsrFZvD09VfHFyK&export=download&authuser=1&confirm=t&uuid=115bd48c-cc2c-4f2a-8b42-be5ca6ef6db8&at=APZUnTUVb8nfNANw5wr9Cad7PJ3U:1693327774694\"\n",
    "\n",
    "sales = pd.read_parquet(path_sales_sample_check)\n",
    "sales.head()"
   ]
  },
  {
   "cell_type": "code",
   "execution_count": null,
   "id": "b6ae9b12",
   "metadata": {},
   "outputs": [],
   "source": [
    "# напишите свой код здесь"
   ]
  },
  {
   "cell_type": "markdown",
   "id": "39995023",
   "metadata": {},
   "source": [
    "### Задание 10\n",
    "\n",
    "Посмотрите на рапределение людей с высшим образованием в разрезе возраста.\n",
    "\n",
    "Измените образование с высшего на среднее общее если сотруднику на отчетную дату было меньше 21 года и месяц отчетной даты - январь, февраль, март, апрель, май или июнь"
   ]
  },
  {
   "cell_type": "code",
   "execution_count": null,
   "id": "6ff633b6",
   "metadata": {},
   "outputs": [],
   "source": [
    "import os\n",
    "import pandas as pd\n",
    "\n",
    "path_empl = '../tables/employees.parquet' if os.path.exists('../tables/employees.parquet') else 'https://drive.google.com/uc?id=1AARD5-eVlCxoApt5CYZebrC3Cqw42lvj'\n",
    "\n",
    "empl = pd.read_parquet(path_empl)\n",
    "empl.head()"
   ]
  },
  {
   "cell_type": "code",
   "execution_count": null,
   "id": "32bd08ad",
   "metadata": {},
   "outputs": [],
   "source": [
    "# напишите свой код здесь"
   ]
  },
  {
   "cell_type": "code",
   "execution_count": null,
   "id": "92aace5c",
   "metadata": {},
   "outputs": [],
   "source": []
  },
  {
   "cell_type": "code",
   "execution_count": null,
   "id": "2e7e4134",
   "metadata": {},
   "outputs": [],
   "source": []
  },
  {
   "cell_type": "code",
   "execution_count": null,
   "id": "cadb252f",
   "metadata": {},
   "outputs": [],
   "source": []
  },
  {
   "cell_type": "code",
   "execution_count": null,
   "id": "c0cfaff5",
   "metadata": {},
   "outputs": [],
   "source": []
  },
  {
   "cell_type": "code",
   "execution_count": null,
   "id": "0fe401ea",
   "metadata": {},
   "outputs": [],
   "source": []
  }
 ],
 "metadata": {
  "kernelspec": {
   "display_name": "Python 3 (ipykernel)",
   "language": "python",
   "name": "python3"
  },
  "language_info": {
   "codemirror_mode": {
    "name": "ipython",
    "version": 3
   },
   "file_extension": ".py",
   "mimetype": "text/x-python",
   "name": "python",
   "nbconvert_exporter": "python",
   "pygments_lexer": "ipython3",
   "version": "3.11.5"
  }
 },
 "nbformat": 4,
 "nbformat_minor": 5
}
