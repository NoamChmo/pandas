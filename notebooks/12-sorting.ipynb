{
 "cells": [
  {
   "cell_type": "markdown",
   "id": "20745da0",
   "metadata": {},
   "source": [
    "<a target=\"_blank\" href=\"https://colab.research.google.com/github/victorlymarev/pandas/blob/main/notebooks/12-ordering.ipynb\">\n",
    "  <img src=\"https://colab.research.google.com/assets/colab-badge.svg\" alt=\"Open In Colab\"/>\n",
    "</a>"
   ]
  },
  {
   "cell_type": "markdown",
   "id": "d56e2550",
   "metadata": {},
   "source": [
    "# Сортировка в таблицах\n",
    "#### [Ссылка на видео](https://youtu.be/3RfgCZJLsgE)"
   ]
  },
  {
   "cell_type": "code",
   "execution_count": null,
   "id": "0f18cd6d",
   "metadata": {},
   "outputs": [],
   "source": [
    "import pandas as pd\n",
    "import os"
   ]
  },
  {
   "cell_type": "markdown",
   "id": "c8cdf855",
   "metadata": {},
   "source": [
    "Читаем таблицу"
   ]
  },
  {
   "cell_type": "code",
   "execution_count": null,
   "id": "97a0c647",
   "metadata": {},
   "outputs": [],
   "source": [
    "path_empl = '../tables/employees.parquet' if os.path.exists('../tables/employees.parquet') else 'https://drive.google.com/uc?id=1AARD5-eVlCxoApt5CYZebrC3Cqw42lvj'\n",
    "\n",
    "empl = (pd.read_parquet(path_empl)\n",
    "    .sample(frac=1, random_state=42)\n",
    "    [['report_dt', 'i_pernr', 'fio', 'pos_name', 'salary']]\n",
    ")\n",
    "empl.head()"
   ]
  },
  {
   "cell_type": "markdown",
   "id": "3a8adf5b",
   "metadata": {},
   "source": [
    "## Метод sort_values\n",
    "\n",
    "Сортирует таблицу по отдельным колонкам или строкам \n",
    "\n",
    "Синтаксис:\n",
    "\n",
    "df.sort_values(by=название колонки или список из колонок) - для сортировки по возрастанию\n",
    "\n",
    "df.sort_values(by=название колонки или список из колонок, ascending=False) - для сортировки по убыванию\n",
    "\n",
    "df.sort_values(by=название колонки или список из колонок, ascending=список из значений True False)\n"
   ]
  },
  {
   "cell_type": "markdown",
   "id": "3cf21a8f",
   "metadata": {},
   "source": [
    "#### Сортируем по зарплате в порядке возратания"
   ]
  },
  {
   "cell_type": "code",
   "execution_count": null,
   "id": "7ba07325",
   "metadata": {},
   "outputs": [],
   "source": [
    "empl.query('report_dt == \"2022-12-31\"').sort_values(by='salary')"
   ]
  },
  {
   "cell_type": "markdown",
   "id": "607cd2bc",
   "metadata": {},
   "source": [
    "#### Сортируем по зарплате в порядке убывания"
   ]
  },
  {
   "cell_type": "code",
   "execution_count": null,
   "id": "ea122d46",
   "metadata": {},
   "outputs": [],
   "source": [
    "empl.query('report_dt == \"2022-12-31\"').sort_values(by='salary', ascending=False)"
   ]
  },
  {
   "cell_type": "markdown",
   "id": "febab749",
   "metadata": {},
   "source": [
    "#### Сортируем по дате"
   ]
  },
  {
   "cell_type": "code",
   "execution_count": null,
   "id": "c63c7f70",
   "metadata": {},
   "outputs": [],
   "source": [
    "empl.sort_values(by='report_dt', ascending=False)"
   ]
  },
  {
   "cell_type": "markdown",
   "id": "76b36164",
   "metadata": {},
   "source": [
    "#### Сортируем сначала по дате, а затем строки с одинаковой датой сортируем по зарплате в порядке убывания"
   ]
  },
  {
   "cell_type": "code",
   "execution_count": null,
   "id": "a3a26e0e",
   "metadata": {},
   "outputs": [],
   "source": [
    "empl.sort_values(by=['report_dt', 'salary'], ascending=False)"
   ]
  },
  {
   "cell_type": "markdown",
   "id": "421c3418",
   "metadata": {},
   "source": [
    "#### Сортируем сначала по дате в порядке убывания, а затем строки с одинаковой датой сортируем по зарплате в порядке возрастания"
   ]
  },
  {
   "cell_type": "code",
   "execution_count": null,
   "id": "564e8b85",
   "metadata": {},
   "outputs": [],
   "source": [
    "empl.sort_values(by=['report_dt', 'salary'], ascending=[False, True])"
   ]
  },
  {
   "cell_type": "code",
   "execution_count": null,
   "id": "362ffe3d",
   "metadata": {},
   "outputs": [],
   "source": []
  },
  {
   "cell_type": "code",
   "execution_count": null,
   "id": "61eb24cb",
   "metadata": {},
   "outputs": [],
   "source": []
  },
  {
   "cell_type": "code",
   "execution_count": null,
   "id": "ba6cf77c",
   "metadata": {},
   "outputs": [],
   "source": []
  },
  {
   "cell_type": "code",
   "execution_count": null,
   "id": "14a7bfc4",
   "metadata": {},
   "outputs": [],
   "source": []
  },
  {
   "cell_type": "code",
   "execution_count": null,
   "id": "055cb1b8",
   "metadata": {},
   "outputs": [],
   "source": []
  },
  {
   "cell_type": "code",
   "execution_count": null,
   "id": "2f5c5576",
   "metadata": {},
   "outputs": [],
   "source": []
  },
  {
   "cell_type": "code",
   "execution_count": null,
   "id": "3e4fc1ec",
   "metadata": {},
   "outputs": [],
   "source": []
  },
  {
   "cell_type": "code",
   "execution_count": null,
   "id": "e909606a",
   "metadata": {},
   "outputs": [],
   "source": []
  },
  {
   "cell_type": "code",
   "execution_count": null,
   "id": "71e4d6cd",
   "metadata": {},
   "outputs": [],
   "source": []
  },
  {
   "cell_type": "markdown",
   "id": "93e98d2b",
   "metadata": {},
   "source": [
    "#### Сортировка отдельной колонки"
   ]
  },
  {
   "cell_type": "code",
   "execution_count": null,
   "id": "46ee3304",
   "metadata": {},
   "outputs": [],
   "source": [
    "empl['report_dt'].sort_values()"
   ]
  },
  {
   "cell_type": "code",
   "execution_count": null,
   "id": "032c4b65",
   "metadata": {},
   "outputs": [],
   "source": [
    "empl['report_dt'].sort_values(ascending=False)"
   ]
  },
  {
   "cell_type": "code",
   "execution_count": null,
   "id": "7c5738fa",
   "metadata": {},
   "outputs": [],
   "source": []
  },
  {
   "cell_type": "code",
   "execution_count": null,
   "id": "132832d6",
   "metadata": {},
   "outputs": [],
   "source": []
  },
  {
   "cell_type": "code",
   "execution_count": null,
   "id": "1e2d5618",
   "metadata": {},
   "outputs": [],
   "source": []
  },
  {
   "cell_type": "code",
   "execution_count": null,
   "id": "b42e6925",
   "metadata": {},
   "outputs": [],
   "source": []
  },
  {
   "cell_type": "code",
   "execution_count": null,
   "id": "f6c30c60",
   "metadata": {},
   "outputs": [],
   "source": []
  },
  {
   "cell_type": "code",
   "execution_count": null,
   "id": "0ecd006c",
   "metadata": {},
   "outputs": [],
   "source": []
  },
  {
   "cell_type": "code",
   "execution_count": null,
   "id": "9f32aba8",
   "metadata": {},
   "outputs": [],
   "source": []
  },
  {
   "cell_type": "code",
   "execution_count": null,
   "id": "71c09deb",
   "metadata": {},
   "outputs": [],
   "source": []
  },
  {
   "cell_type": "code",
   "execution_count": null,
   "id": "a12f6d70",
   "metadata": {},
   "outputs": [],
   "source": []
  },
  {
   "cell_type": "code",
   "execution_count": null,
   "id": "21c51986",
   "metadata": {},
   "outputs": [],
   "source": []
  },
  {
   "cell_type": "code",
   "execution_count": null,
   "id": "7d2c5cdd",
   "metadata": {},
   "outputs": [],
   "source": []
  },
  {
   "cell_type": "code",
   "execution_count": null,
   "id": "7a17abbe",
   "metadata": {},
   "outputs": [],
   "source": []
  },
  {
   "cell_type": "code",
   "execution_count": null,
   "id": "ffeb549d",
   "metadata": {},
   "outputs": [],
   "source": []
  },
  {
   "cell_type": "code",
   "execution_count": null,
   "id": "cabc3a2b",
   "metadata": {},
   "outputs": [],
   "source": []
  },
  {
   "cell_type": "markdown",
   "id": "56122f82",
   "metadata": {},
   "source": [
    "#### Сортировка по индексу"
   ]
  },
  {
   "cell_type": "code",
   "execution_count": null,
   "id": "6a459f5d",
   "metadata": {},
   "outputs": [],
   "source": [
    "empl.sort_index()"
   ]
  },
  {
   "cell_type": "markdown",
   "id": "b8bb3f14",
   "metadata": {},
   "source": [
    "#### При использовании с параметрами по умолчанию таблица отсортируется сначала по первому столбцу в индексе, а затем по второму в порядке возрастания"
   ]
  },
  {
   "cell_type": "code",
   "execution_count": null,
   "id": "7d8bda7e",
   "metadata": {},
   "outputs": [],
   "source": [
    "empl.set_index(['salary', 'i_pernr']).sort_index()"
   ]
  },
  {
   "cell_type": "code",
   "execution_count": null,
   "id": "cf5fc028",
   "metadata": {},
   "outputs": [],
   "source": [
    "empl.set_index(['salary', 'i_pernr']).sort_index(level=['i_pernr', 0], ascending=[True, False])"
   ]
  },
  {
   "cell_type": "code",
   "execution_count": null,
   "id": "68fc2da0",
   "metadata": {},
   "outputs": [],
   "source": []
  },
  {
   "cell_type": "code",
   "execution_count": null,
   "id": "7c2451a6",
   "metadata": {},
   "outputs": [],
   "source": []
  },
  {
   "cell_type": "code",
   "execution_count": null,
   "id": "6cf6e644",
   "metadata": {},
   "outputs": [],
   "source": []
  },
  {
   "cell_type": "code",
   "execution_count": null,
   "id": "5fded5cf",
   "metadata": {},
   "outputs": [],
   "source": []
  },
  {
   "cell_type": "code",
   "execution_count": null,
   "id": "be325b20",
   "metadata": {},
   "outputs": [],
   "source": []
  },
  {
   "cell_type": "code",
   "execution_count": null,
   "id": "81cbfea9",
   "metadata": {},
   "outputs": [],
   "source": []
  },
  {
   "cell_type": "code",
   "execution_count": null,
   "id": "a1be2099",
   "metadata": {},
   "outputs": [],
   "source": []
  },
  {
   "cell_type": "code",
   "execution_count": null,
   "id": "c0bd1575",
   "metadata": {},
   "outputs": [],
   "source": []
  },
  {
   "cell_type": "code",
   "execution_count": null,
   "id": "85364073",
   "metadata": {},
   "outputs": [],
   "source": []
  },
  {
   "cell_type": "code",
   "execution_count": null,
   "id": "e93e483e",
   "metadata": {},
   "outputs": [],
   "source": []
  },
  {
   "cell_type": "code",
   "execution_count": null,
   "id": "7b6e1c46",
   "metadata": {},
   "outputs": [],
   "source": []
  },
  {
   "cell_type": "code",
   "execution_count": null,
   "id": "e3b63a11",
   "metadata": {},
   "outputs": [],
   "source": []
  },
  {
   "cell_type": "code",
   "execution_count": null,
   "id": "47c03ec5",
   "metadata": {},
   "outputs": [],
   "source": []
  },
  {
   "cell_type": "code",
   "execution_count": null,
   "id": "3485471f",
   "metadata": {},
   "outputs": [],
   "source": []
  },
  {
   "cell_type": "markdown",
   "id": "6d062d7d",
   "metadata": {},
   "source": [
    "### Метод sort_values удобно использовать вместе с методом drop_duplicates"
   ]
  },
  {
   "cell_type": "markdown",
   "id": "5b9a7d6a",
   "metadata": {},
   "source": [
    "Для каждого человека находим зарплату, с которой он впервые устраивался на работу"
   ]
  },
  {
   "cell_type": "code",
   "execution_count": null,
   "id": "ebe15e04",
   "metadata": {},
   "outputs": [],
   "source": [
    "empl.sort_values('report_dt').drop_duplicates('i_pernr')"
   ]
  },
  {
   "cell_type": "markdown",
   "id": "ae9c586e",
   "metadata": {},
   "source": [
    "Для каждого человека находим последнюю зарплату"
   ]
  },
  {
   "cell_type": "code",
   "execution_count": null,
   "id": "316854e7",
   "metadata": {},
   "outputs": [],
   "source": [
    "empl.sort_values('report_dt').drop_duplicates('i_pernr', keep='last')"
   ]
  },
  {
   "cell_type": "code",
   "execution_count": null,
   "id": "3ef6d4e7",
   "metadata": {},
   "outputs": [],
   "source": []
  },
  {
   "cell_type": "code",
   "execution_count": null,
   "id": "18975491",
   "metadata": {},
   "outputs": [],
   "source": []
  },
  {
   "cell_type": "code",
   "execution_count": null,
   "id": "bc158b2f",
   "metadata": {},
   "outputs": [],
   "source": []
  },
  {
   "cell_type": "code",
   "execution_count": null,
   "id": "ab276f2d",
   "metadata": {},
   "outputs": [],
   "source": []
  },
  {
   "cell_type": "code",
   "execution_count": null,
   "id": "fd49617e",
   "metadata": {},
   "outputs": [],
   "source": []
  },
  {
   "cell_type": "code",
   "execution_count": null,
   "id": "fd275d8f",
   "metadata": {},
   "outputs": [],
   "source": []
  },
  {
   "cell_type": "code",
   "execution_count": null,
   "id": "edf43e5b",
   "metadata": {},
   "outputs": [],
   "source": []
  },
  {
   "cell_type": "code",
   "execution_count": null,
   "id": "e002ad23",
   "metadata": {},
   "outputs": [],
   "source": []
  },
  {
   "cell_type": "code",
   "execution_count": null,
   "id": "2ee2967e",
   "metadata": {},
   "outputs": [],
   "source": []
  },
  {
   "cell_type": "code",
   "execution_count": null,
   "id": "62036d98",
   "metadata": {},
   "outputs": [],
   "source": []
  },
  {
   "cell_type": "code",
   "execution_count": null,
   "id": "47d1d316",
   "metadata": {},
   "outputs": [],
   "source": []
  },
  {
   "cell_type": "code",
   "execution_count": null,
   "id": "92a744b3",
   "metadata": {},
   "outputs": [],
   "source": []
  },
  {
   "cell_type": "code",
   "execution_count": null,
   "id": "b415b42d",
   "metadata": {},
   "outputs": [],
   "source": []
  },
  {
   "cell_type": "code",
   "execution_count": null,
   "id": "36a30f4b",
   "metadata": {},
   "outputs": [],
   "source": []
  },
  {
   "cell_type": "code",
   "execution_count": null,
   "id": "3f194431",
   "metadata": {},
   "outputs": [],
   "source": []
  },
  {
   "cell_type": "code",
   "execution_count": null,
   "id": "ce954dc6",
   "metadata": {},
   "outputs": [],
   "source": []
  },
  {
   "cell_type": "code",
   "execution_count": null,
   "id": "e871185e",
   "metadata": {},
   "outputs": [],
   "source": []
  },
  {
   "cell_type": "code",
   "execution_count": null,
   "id": "5095f639",
   "metadata": {},
   "outputs": [],
   "source": []
  },
  {
   "cell_type": "markdown",
   "id": "1e96d8c7",
   "metadata": {},
   "source": [
    "## rank\n",
    "\n",
    "Метод ранжирует наблюдения. Говорит каким по счету оно будет в отсортированном массиве"
   ]
  },
  {
   "cell_type": "markdown",
   "id": "35fc7bc6",
   "metadata": {},
   "source": [
    "Метод может пригодиться если стоит задача найти какое-то по счету значение, например, второе по возрастанию"
   ]
  },
  {
   "cell_type": "code",
   "execution_count": null,
   "id": "5a0959aa",
   "metadata": {},
   "outputs": [],
   "source": [
    "empl.iloc[:5, -1]"
   ]
  },
  {
   "cell_type": "code",
   "execution_count": null,
   "id": "f385b325",
   "metadata": {},
   "outputs": [],
   "source": [
    "empl.iloc[:5, -1].rank()"
   ]
  },
  {
   "cell_type": "code",
   "execution_count": null,
   "id": "3b3b1ec2",
   "metadata": {},
   "outputs": [],
   "source": []
  },
  {
   "cell_type": "code",
   "execution_count": null,
   "id": "de8a09a5",
   "metadata": {},
   "outputs": [],
   "source": []
  },
  {
   "cell_type": "code",
   "execution_count": null,
   "id": "a362166c",
   "metadata": {},
   "outputs": [],
   "source": []
  },
  {
   "cell_type": "code",
   "execution_count": null,
   "id": "f7fa436a",
   "metadata": {},
   "outputs": [],
   "source": []
  },
  {
   "cell_type": "code",
   "execution_count": null,
   "id": "c7c2238b",
   "metadata": {},
   "outputs": [],
   "source": []
  },
  {
   "cell_type": "code",
   "execution_count": null,
   "id": "86ab8e52",
   "metadata": {},
   "outputs": [],
   "source": []
  },
  {
   "cell_type": "code",
   "execution_count": null,
   "id": "c07ed29d",
   "metadata": {},
   "outputs": [],
   "source": []
  },
  {
   "cell_type": "markdown",
   "id": "b7794e6f",
   "metadata": {},
   "source": [
    "#### Разные методы работы с повторяющимися значениями"
   ]
  },
  {
   "cell_type": "markdown",
   "id": "e359a131",
   "metadata": {},
   "source": [
    "method = method{‘average’, ‘min’, ‘max’, ‘first’, ‘dense’}, default ‘average’"
   ]
  },
  {
   "cell_type": "code",
   "execution_count": null,
   "id": "9ceaa981",
   "metadata": {},
   "outputs": [],
   "source": [
    "empl.iloc[[3, 5, 10, 23], -1]"
   ]
  },
  {
   "cell_type": "code",
   "execution_count": null,
   "id": "e8a389b3",
   "metadata": {},
   "outputs": [],
   "source": [
    "empl.iloc[[3, 5, 10, 23], -1].rank()"
   ]
  },
  {
   "cell_type": "code",
   "execution_count": null,
   "id": "90977146",
   "metadata": {},
   "outputs": [],
   "source": [
    "empl.iloc[[3, 5, 10, 23], -1].rank(method='min')"
   ]
  },
  {
   "cell_type": "code",
   "execution_count": null,
   "id": "0b8448d3",
   "metadata": {},
   "outputs": [],
   "source": [
    "empl.iloc[[3, 5, 10, 23], -1].rank(method='max')"
   ]
  },
  {
   "cell_type": "code",
   "execution_count": null,
   "id": "cc785e58",
   "metadata": {},
   "outputs": [],
   "source": [
    "empl.iloc[[3, 5, 10, 23], -1].rank(method='first')"
   ]
  },
  {
   "cell_type": "code",
   "execution_count": null,
   "id": "a4384f30",
   "metadata": {},
   "outputs": [],
   "source": [
    "empl.iloc[[3, 5, 10, 23], -1].rank(method='dense')"
   ]
  },
  {
   "cell_type": "code",
   "execution_count": null,
   "id": "fa687168",
   "metadata": {},
   "outputs": [],
   "source": []
  },
  {
   "cell_type": "code",
   "execution_count": null,
   "id": "b7ee84a4",
   "metadata": {},
   "outputs": [],
   "source": []
  },
  {
   "cell_type": "markdown",
   "id": "4a8004a4",
   "metadata": {},
   "source": [
    "#### Ранжирование в обратном порядке"
   ]
  },
  {
   "cell_type": "code",
   "execution_count": null,
   "id": "89582780",
   "metadata": {},
   "outputs": [],
   "source": [
    "empl.iloc[[3, 5, 10, 23], -1]"
   ]
  },
  {
   "cell_type": "code",
   "execution_count": null,
   "id": "feebf880",
   "metadata": {},
   "outputs": [],
   "source": [
    "empl.iloc[[3, 5, 10, 23], -1].rank(ascending=False)"
   ]
  },
  {
   "cell_type": "code",
   "execution_count": null,
   "id": "4dd60415",
   "metadata": {},
   "outputs": [],
   "source": [
    "(empl\n",
    "    .query('report_dt == \"2022-12-31\"')\n",
    "    .query('salary.rank(method=\"dense\") == 95')\n",
    ")"
   ]
  },
  {
   "cell_type": "code",
   "execution_count": null,
   "id": "5e749687",
   "metadata": {},
   "outputs": [],
   "source": []
  },
  {
   "cell_type": "code",
   "execution_count": null,
   "id": "9f800ace",
   "metadata": {},
   "outputs": [],
   "source": []
  },
  {
   "cell_type": "code",
   "execution_count": null,
   "id": "ddd25779",
   "metadata": {},
   "outputs": [],
   "source": []
  },
  {
   "cell_type": "code",
   "execution_count": null,
   "id": "832f7e9b",
   "metadata": {},
   "outputs": [],
   "source": []
  },
  {
   "cell_type": "code",
   "execution_count": null,
   "id": "d2366e03",
   "metadata": {},
   "outputs": [],
   "source": []
  },
  {
   "cell_type": "code",
   "execution_count": null,
   "id": "8f9cb53b",
   "metadata": {},
   "outputs": [],
   "source": []
  },
  {
   "cell_type": "code",
   "execution_count": null,
   "id": "e71053fc",
   "metadata": {},
   "outputs": [],
   "source": []
  },
  {
   "cell_type": "code",
   "execution_count": null,
   "id": "91c081de",
   "metadata": {},
   "outputs": [],
   "source": []
  },
  {
   "cell_type": "code",
   "execution_count": null,
   "id": "3b171de3",
   "metadata": {},
   "outputs": [],
   "source": []
  },
  {
   "cell_type": "code",
   "execution_count": null,
   "id": "1dbbc032",
   "metadata": {},
   "outputs": [],
   "source": []
  },
  {
   "cell_type": "markdown",
   "id": "befa9a6e",
   "metadata": {},
   "source": [
    "# Задания"
   ]
  },
  {
   "cell_type": "markdown",
   "id": "fb1be8c9",
   "metadata": {},
   "source": [
    "#### Описание таблиц лежит [здесь](https://github.com/victorlymarev/pandas/tree/main/tables#%D0%BE%D0%BF%D0%B8%D1%81%D0%B0%D0%BD%D0%B8%D0%B5-%D1%82%D0%B0%D0%B1%D0%BB%D0%B8%D1%86)"
   ]
  },
  {
   "cell_type": "markdown",
   "id": "c3339245",
   "metadata": {},
   "source": [
    "Некоторые таблицы занимают много памяти, поэтому каждые 5-10 заданий лучше перезапускайте ноутбук.\n",
    "\n",
    "В формулировке некоторых заданий может содержаться вариативность. Если у вас есть сомнения, что требуется в задании, попробуйте решить несколько вариантов. Если вы не понимаете задание, можете написать об этом в комментариях под видео.\n",
    "\n",
    "В большинстве случаев внешний вид итоговой таблицы не определен. Выведите на экран наиболее адекватный вариант. То есть таблицу, из которой можно будет сделать выводы.\n",
    "\n",
    "Курс пока находится в разработке. Вы можете помочь другим людям добавив свое решение [сюда](https://docs.google.com/forms/d/1HYTBz_KfssY3Jps2dC3n0YnEqa6WBb5OIhLo1d32Xzw/edit).\n",
    "\n",
    "Посмотреть решения других людей можно [здесь](https://docs.google.com/spreadsheets/d/1pMDYO-9UneLbPPnEuQ2shig0TOJdQTU-zipifyAnZMk/edit?resourcekey#gid=1998648012)"
   ]
  },
  {
   "cell_type": "markdown",
   "id": "77439933",
   "metadata": {},
   "source": [
    "### Задание 1\n",
    "\n",
    "Отсортируйте таблицу по возрастанию дат. Строки с одинаковой датой отсортируйте по убыванию цены"
   ]
  },
  {
   "cell_type": "code",
   "execution_count": null,
   "id": "73841ee8",
   "metadata": {},
   "outputs": [],
   "source": [
    "import os\n",
    "import pandas as pd\n",
    "\n",
    "path_prices = '../tables/prices.parquet' if os.path.exists('../tables/prices.parquet') else 'https://drive.google.com/uc?id=1_KfYyYCsib8woanbP3VouLUpYp103dV5'\n",
    "\n",
    "prices = pd.read_parquet(path_prices)\n",
    "prices.head()"
   ]
  },
  {
   "cell_type": "markdown",
   "id": "61185bc4",
   "metadata": {},
   "source": [
    "### Задание 2\n",
    "Отсортируйте таблицу сначала по табельному номеру, а затем по зарплате"
   ]
  },
  {
   "cell_type": "code",
   "execution_count": null,
   "id": "76c216f3",
   "metadata": {},
   "outputs": [],
   "source": [
    "import os\n",
    "import pandas as pd\n",
    "\n",
    "path_empl = '../tables/employees.parquet' if os.path.exists('../tables/employees.parquet') else 'https://drive.google.com/uc?id=1AARD5-eVlCxoApt5CYZebrC3Cqw42lvj'\n",
    "\n",
    "empl = pd.read_parquet(path_empl)\n",
    "empl.head()"
   ]
  },
  {
   "cell_type": "markdown",
   "id": "8f6a37e7",
   "metadata": {},
   "source": [
    "### Задание 3\n",
    "Отсортируйте таблицу по убыванию дат"
   ]
  },
  {
   "cell_type": "code",
   "execution_count": null,
   "id": "f0057796",
   "metadata": {},
   "outputs": [],
   "source": [
    "import os\n",
    "import pandas as pd\n",
    "\n",
    "path_stocks = '../tables/stocks.parquet' if os.path.exists('../tables/stocks.parquet') else 'https://drive.google.com/uc?id=1weGquTtmR92mKYAeZhZCFHJjndyoSXZt'\n",
    "\n",
    "stocks = pd.read_parquet(path_stocks)\n",
    "stocks.head()"
   ]
  },
  {
   "cell_type": "code",
   "execution_count": null,
   "id": "c40c4357",
   "metadata": {},
   "outputs": [],
   "source": [
    "\n",
    "# напишите свой код здесь"
   ]
  },
  {
   "cell_type": "markdown",
   "id": "70b974dd",
   "metadata": {},
   "source": [
    "### Задание 4\n",
    "Отсортируйте магазины так, чтобы сначала шли мелкие магазины, потом средние, а в конце крупные"
   ]
  },
  {
   "cell_type": "markdown",
   "id": "84f89e26",
   "metadata": {},
   "source": [
    "<details>\n",
    "\n",
    "<summary>Подсказка</summary>\n",
    " \n",
    "Здесь вам помогут методы set_index и loc\n",
    "\n",
    "</details>\n"
   ]
  },
  {
   "cell_type": "code",
   "execution_count": null,
   "id": "2bfdf832",
   "metadata": {},
   "outputs": [],
   "source": [
    "import os\n",
    "import pandas as pd\n",
    "\n",
    "path_shops = '../tables/shops.xlsx' if os.path.exists('../tables/shops.xlsx') else 'https://drive.google.com/uc?id=1gfnmceJa3Mc1X06NftTx9G9QfKfprjEB'\n",
    "\n",
    "shops = pd.read_excel(path_shops)\n",
    "shops.head()"
   ]
  },
  {
   "cell_type": "code",
   "execution_count": null,
   "id": "aaf038fb",
   "metadata": {},
   "outputs": [],
   "source": [
    "# напишите свой код здесь"
   ]
  },
  {
   "cell_type": "markdown",
   "id": "6902256b",
   "metadata": {},
   "source": [
    "### Задание 5\n",
    "По таблице sales найдите стоимость самого дорогово товара в чеке"
   ]
  },
  {
   "cell_type": "code",
   "execution_count": null,
   "id": "1478be21",
   "metadata": {},
   "outputs": [],
   "source": [
    "import os\n",
    "import pandas as pd\n",
    "\n",
    "path_sales_sample_check = '../tables/sales_sample_check.parquet' if os.path.exists('../tables/sales_sample_check.parquet') else 'https://drive.google.com/uc?id=1oYT518oqGnEF51PSFHfSHYNP-690ktFL'\n",
    "# path_sales = '../tables/sales.parquet' if os.path.exists('../tables/sales.parquet') else \"https://drive.usercontent.google.com/download?id=15KwSxyM6hpNABGe6_vsrFZvD09VfHFyK&export=download&authuser=1&confirm=t&uuid=115bd48c-cc2c-4f2a-8b42-be5ca6ef6db8&at=APZUnTUVb8nfNANw5wr9Cad7PJ3U:1693327774694\"\n",
    "\n",
    "sales = pd.read_parquet(path_sales_sample_check)\n",
    "sales.head()"
   ]
  },
  {
   "cell_type": "code",
   "execution_count": null,
   "id": "429e5a42",
   "metadata": {},
   "outputs": [],
   "source": [
    "# напишите свой код здесь"
   ]
  },
  {
   "cell_type": "markdown",
   "id": "c3a60a7e",
   "metadata": {},
   "source": [
    "### Задание 6\n",
    "Чему равна третья самая высокая зарплата за май 2020 года в плотно отранжированном ряду"
   ]
  },
  {
   "cell_type": "code",
   "execution_count": null,
   "id": "26ce9a98",
   "metadata": {},
   "outputs": [],
   "source": [
    "import os\n",
    "import pandas as pd\n",
    "\n",
    "path_empl = '../tables/employees.parquet' if os.path.exists('../tables/employees.parquet') else 'https://drive.google.com/uc?id=1AARD5-eVlCxoApt5CYZebrC3Cqw42lvj'\n",
    "\n",
    "empl = pd.read_parquet(path_empl)\n",
    "empl.head()"
   ]
  },
  {
   "cell_type": "code",
   "execution_count": null,
   "id": "e0444ed8",
   "metadata": {},
   "outputs": [],
   "source": [
    "# напишите свой код здесь"
   ]
  },
  {
   "cell_type": "code",
   "execution_count": null,
   "id": "cc491f6b",
   "metadata": {},
   "outputs": [],
   "source": []
  },
  {
   "cell_type": "code",
   "execution_count": null,
   "id": "5ab8db05",
   "metadata": {},
   "outputs": [],
   "source": []
  },
  {
   "cell_type": "code",
   "execution_count": null,
   "id": "aeab6a75",
   "metadata": {},
   "outputs": [],
   "source": []
  },
  {
   "cell_type": "code",
   "execution_count": null,
   "id": "b2ce8da2",
   "metadata": {},
   "outputs": [],
   "source": []
  },
  {
   "cell_type": "code",
   "execution_count": null,
   "id": "7a6b3c0b",
   "metadata": {},
   "outputs": [],
   "source": []
  }
 ],
 "metadata": {
  "kernelspec": {
   "display_name": "Python 3 (ipykernel)",
   "language": "python",
   "name": "python3"
  },
  "language_info": {
   "codemirror_mode": {
    "name": "ipython",
    "version": 3
   },
   "file_extension": ".py",
   "mimetype": "text/x-python",
   "name": "python",
   "nbconvert_exporter": "python",
   "pygments_lexer": "ipython3",
   "version": "3.11.5"
  }
 },
 "nbformat": 4,
 "nbformat_minor": 5
}
