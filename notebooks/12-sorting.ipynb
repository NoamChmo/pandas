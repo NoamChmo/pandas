{
 "cells": [
  {
   "cell_type": "markdown",
   "id": "20745da0",
   "metadata": {},
   "source": [
    "<a target=\"_blank\" href=\"https://colab.research.google.com/github/victorlymarev/pandas/blob/main/notebooks/12-ordering.ipynb\">\n",
    "  <img src=\"https://colab.research.google.com/assets/colab-badge.svg\" alt=\"Open In Colab\"/>\n",
    "</a>"
   ]
  },
  {
   "cell_type": "code",
   "execution_count": 1,
   "id": "0f18cd6d",
   "metadata": {},
   "outputs": [],
   "source": [
    "import pandas as pd\n",
    "import os"
   ]
  },
  {
   "cell_type": "markdown",
   "id": "c8cdf855",
   "metadata": {},
   "source": [
    "Читаем таблицу"
   ]
  },
  {
   "cell_type": "code",
   "execution_count": 2,
   "id": "97a0c647",
   "metadata": {},
   "outputs": [
    {
     "data": {
      "text/html": [
       "<div>\n",
       "<style scoped>\n",
       "    .dataframe tbody tr th:only-of-type {\n",
       "        vertical-align: middle;\n",
       "    }\n",
       "\n",
       "    .dataframe tbody tr th {\n",
       "        vertical-align: top;\n",
       "    }\n",
       "\n",
       "    .dataframe thead th {\n",
       "        text-align: right;\n",
       "    }\n",
       "</style>\n",
       "<table border=\"1\" class=\"dataframe\">\n",
       "  <thead>\n",
       "    <tr style=\"text-align: right;\">\n",
       "      <th></th>\n",
       "      <th>report_dt</th>\n",
       "      <th>i_pernr</th>\n",
       "      <th>fio</th>\n",
       "      <th>pos_name</th>\n",
       "      <th>salary</th>\n",
       "    </tr>\n",
       "  </thead>\n",
       "  <tbody>\n",
       "    <tr>\n",
       "      <th>5472</th>\n",
       "      <td>2018-05-31</td>\n",
       "      <td>468</td>\n",
       "      <td>Фетисов Давид Иванович</td>\n",
       "      <td>Продавец-консультант</td>\n",
       "      <td>21300.0</td>\n",
       "    </tr>\n",
       "    <tr>\n",
       "      <th>2943</th>\n",
       "      <td>2017-08-31</td>\n",
       "      <td>253</td>\n",
       "      <td>Шарова Дарья Фёдоровна</td>\n",
       "      <td>Продавец-консультант</td>\n",
       "      <td>20500.0</td>\n",
       "    </tr>\n",
       "    <tr>\n",
       "      <th>27274</th>\n",
       "      <td>2022-08-31</td>\n",
       "      <td>100209</td>\n",
       "      <td>Шевелев Захар Владимирович</td>\n",
       "      <td>Директор магазина</td>\n",
       "      <td>123000.0</td>\n",
       "    </tr>\n",
       "    <tr>\n",
       "      <th>20345</th>\n",
       "      <td>2021-05-31</td>\n",
       "      <td>1260</td>\n",
       "      <td>Сазонова Валентина Владиславовна</td>\n",
       "      <td>Продавец-консультант</td>\n",
       "      <td>28300.0</td>\n",
       "    </tr>\n",
       "    <tr>\n",
       "      <th>16129</th>\n",
       "      <td>2020-08-31</td>\n",
       "      <td>963</td>\n",
       "      <td>Петровскиая Анна Леонидовна</td>\n",
       "      <td>Продавец-консультант</td>\n",
       "      <td>34100.0</td>\n",
       "    </tr>\n",
       "  </tbody>\n",
       "</table>\n",
       "</div>"
      ],
      "text/plain": [
       "       report_dt  i_pernr                               fio  \\\n",
       "5472  2018-05-31      468            Фетисов Давид Иванович   \n",
       "2943  2017-08-31      253            Шарова Дарья Фёдоровна   \n",
       "27274 2022-08-31   100209        Шевелев Захар Владимирович   \n",
       "20345 2021-05-31     1260  Сазонова Валентина Владиславовна   \n",
       "16129 2020-08-31      963       Петровскиая Анна Леонидовна   \n",
       "\n",
       "                   pos_name    salary  \n",
       "5472   Продавец-консультант   21300.0  \n",
       "2943   Продавец-консультант   20500.0  \n",
       "27274     Директор магазина  123000.0  \n",
       "20345  Продавец-консультант   28300.0  \n",
       "16129  Продавец-консультант   34100.0  "
      ]
     },
     "execution_count": 2,
     "metadata": {},
     "output_type": "execute_result"
    }
   ],
   "source": [
    "path_empl = '../tables/employees.parquet' if os.path.exists('../tables/employees.parquet') else 'https://drive.google.com/uc?id=1AARD5-eVlCxoApt5CYZebrC3Cqw42lvj'\n",
    "\n",
    "empl = (pd.read_parquet(path_empl)\n",
    "    .sample(frac=1, random_state=42)\n",
    "    [['report_dt', 'i_pernr', 'fio', 'pos_name', 'salary']]\n",
    ")\n",
    "empl.head()"
   ]
  },
  {
   "cell_type": "markdown",
   "id": "3a8adf5b",
   "metadata": {},
   "source": [
    "## Метод sort_values\n",
    "\n",
    "Сортирует таблицу по отдельным колонкам или строкам \n",
    "\n",
    "Синтаксис:\n",
    "\n",
    "df.sort_values(by=название колонки или список из колонок) - для сортировки по возрастанию\n",
    "\n",
    "df.sort_values(by=название колонки или список из колонок, ascending=False) - для сортировки по убыванию\n",
    "\n",
    "df.sort_values(by=название колонки или список из колонок, ascending=список из значений True False)\n"
   ]
  },
  {
   "cell_type": "markdown",
   "id": "3cf21a8f",
   "metadata": {},
   "source": [
    "#### Сортируем по зарплате в порядке возратания"
   ]
  },
  {
   "cell_type": "code",
   "execution_count": 3,
   "id": "7ba07325",
   "metadata": {},
   "outputs": [
    {
     "data": {
      "text/html": [
       "<div>\n",
       "<style scoped>\n",
       "    .dataframe tbody tr th:only-of-type {\n",
       "        vertical-align: middle;\n",
       "    }\n",
       "\n",
       "    .dataframe tbody tr th {\n",
       "        vertical-align: top;\n",
       "    }\n",
       "\n",
       "    .dataframe thead th {\n",
       "        text-align: right;\n",
       "    }\n",
       "</style>\n",
       "<table border=\"1\" class=\"dataframe\">\n",
       "  <thead>\n",
       "    <tr style=\"text-align: right;\">\n",
       "      <th></th>\n",
       "      <th>report_dt</th>\n",
       "      <th>i_pernr</th>\n",
       "      <th>fio</th>\n",
       "      <th>pos_name</th>\n",
       "      <th>salary</th>\n",
       "    </tr>\n",
       "  </thead>\n",
       "  <tbody>\n",
       "    <tr>\n",
       "      <th>29302</th>\n",
       "      <td>2022-12-31</td>\n",
       "      <td>1741</td>\n",
       "      <td>Васильева Валерия Денисовна</td>\n",
       "      <td>Кассир</td>\n",
       "      <td>20800.0</td>\n",
       "    </tr>\n",
       "    <tr>\n",
       "      <th>29150</th>\n",
       "      <td>2022-12-31</td>\n",
       "      <td>1732</td>\n",
       "      <td>Воронков Дмитрий Иванович</td>\n",
       "      <td>Кассир</td>\n",
       "      <td>20800.0</td>\n",
       "    </tr>\n",
       "    <tr>\n",
       "      <th>29196</th>\n",
       "      <td>2022-12-31</td>\n",
       "      <td>1767</td>\n",
       "      <td>Зайцева Александра Захаровна</td>\n",
       "      <td>Кассир</td>\n",
       "      <td>20900.0</td>\n",
       "    </tr>\n",
       "    <tr>\n",
       "      <th>29282</th>\n",
       "      <td>2022-12-31</td>\n",
       "      <td>1246</td>\n",
       "      <td>Козина Екатерна Григорьевна</td>\n",
       "      <td>Кассир</td>\n",
       "      <td>20900.0</td>\n",
       "    </tr>\n",
       "    <tr>\n",
       "      <th>29085</th>\n",
       "      <td>2022-12-31</td>\n",
       "      <td>666</td>\n",
       "      <td>Воронина Варвара Денисовна</td>\n",
       "      <td>Кассир</td>\n",
       "      <td>20900.0</td>\n",
       "    </tr>\n",
       "    <tr>\n",
       "      <th>...</th>\n",
       "      <td>...</td>\n",
       "      <td>...</td>\n",
       "      <td>...</td>\n",
       "      <td>...</td>\n",
       "      <td>...</td>\n",
       "    </tr>\n",
       "    <tr>\n",
       "      <th>29234</th>\n",
       "      <td>2022-12-31</td>\n",
       "      <td>100200</td>\n",
       "      <td>Безруков Глеб Артёмович</td>\n",
       "      <td>Директор магазина</td>\n",
       "      <td>134200.0</td>\n",
       "    </tr>\n",
       "    <tr>\n",
       "      <th>28973</th>\n",
       "      <td>2022-12-31</td>\n",
       "      <td>100195</td>\n",
       "      <td>Тимошенко Елизаваета Петровна</td>\n",
       "      <td>Директор магазина</td>\n",
       "      <td>134700.0</td>\n",
       "    </tr>\n",
       "    <tr>\n",
       "      <th>29001</th>\n",
       "      <td>2022-12-31</td>\n",
       "      <td>100185</td>\n",
       "      <td>Макаров Артем Арсеньевич</td>\n",
       "      <td>Директор магазина</td>\n",
       "      <td>135300.0</td>\n",
       "    </tr>\n",
       "    <tr>\n",
       "      <th>29123</th>\n",
       "      <td>2022-12-31</td>\n",
       "      <td>100152</td>\n",
       "      <td>Вешняков Егор Глебович</td>\n",
       "      <td>Директор магазина</td>\n",
       "      <td>148300.0</td>\n",
       "    </tr>\n",
       "    <tr>\n",
       "      <th>28898</th>\n",
       "      <td>2022-12-31</td>\n",
       "      <td>100193</td>\n",
       "      <td>Ларин Федор Алексеевич</td>\n",
       "      <td>Директор магазина</td>\n",
       "      <td>154700.0</td>\n",
       "    </tr>\n",
       "  </tbody>\n",
       "</table>\n",
       "<p>487 rows × 5 columns</p>\n",
       "</div>"
      ],
      "text/plain": [
       "       report_dt  i_pernr                            fio           pos_name  \\\n",
       "29302 2022-12-31     1741    Васильева Валерия Денисовна             Кассир   \n",
       "29150 2022-12-31     1732      Воронков Дмитрий Иванович             Кассир   \n",
       "29196 2022-12-31     1767   Зайцева Александра Захаровна             Кассир   \n",
       "29282 2022-12-31     1246    Козина Екатерна Григорьевна             Кассир   \n",
       "29085 2022-12-31      666     Воронина Варвара Денисовна             Кассир   \n",
       "...          ...      ...                            ...                ...   \n",
       "29234 2022-12-31   100200        Безруков Глеб Артёмович  Директор магазина   \n",
       "28973 2022-12-31   100195  Тимошенко Елизаваета Петровна  Директор магазина   \n",
       "29001 2022-12-31   100185       Макаров Артем Арсеньевич  Директор магазина   \n",
       "29123 2022-12-31   100152         Вешняков Егор Глебович  Директор магазина   \n",
       "28898 2022-12-31   100193         Ларин Федор Алексеевич  Директор магазина   \n",
       "\n",
       "         salary  \n",
       "29302   20800.0  \n",
       "29150   20800.0  \n",
       "29196   20900.0  \n",
       "29282   20900.0  \n",
       "29085   20900.0  \n",
       "...         ...  \n",
       "29234  134200.0  \n",
       "28973  134700.0  \n",
       "29001  135300.0  \n",
       "29123  148300.0  \n",
       "28898  154700.0  \n",
       "\n",
       "[487 rows x 5 columns]"
      ]
     },
     "execution_count": 3,
     "metadata": {},
     "output_type": "execute_result"
    }
   ],
   "source": [
    "empl.query('report_dt == \"2022-12-31\"').sort_values(by='salary')"
   ]
  },
  {
   "cell_type": "markdown",
   "id": "607cd2bc",
   "metadata": {},
   "source": [
    "#### Сортируем по зарплате в порядке убывания"
   ]
  },
  {
   "cell_type": "code",
   "execution_count": 4,
   "id": "ea122d46",
   "metadata": {},
   "outputs": [
    {
     "data": {
      "text/html": [
       "<div>\n",
       "<style scoped>\n",
       "    .dataframe tbody tr th:only-of-type {\n",
       "        vertical-align: middle;\n",
       "    }\n",
       "\n",
       "    .dataframe tbody tr th {\n",
       "        vertical-align: top;\n",
       "    }\n",
       "\n",
       "    .dataframe thead th {\n",
       "        text-align: right;\n",
       "    }\n",
       "</style>\n",
       "<table border=\"1\" class=\"dataframe\">\n",
       "  <thead>\n",
       "    <tr style=\"text-align: right;\">\n",
       "      <th></th>\n",
       "      <th>report_dt</th>\n",
       "      <th>i_pernr</th>\n",
       "      <th>fio</th>\n",
       "      <th>pos_name</th>\n",
       "      <th>salary</th>\n",
       "    </tr>\n",
       "  </thead>\n",
       "  <tbody>\n",
       "    <tr>\n",
       "      <th>28898</th>\n",
       "      <td>2022-12-31</td>\n",
       "      <td>100193</td>\n",
       "      <td>Ларин Федор Алексеевич</td>\n",
       "      <td>Директор магазина</td>\n",
       "      <td>154700.0</td>\n",
       "    </tr>\n",
       "    <tr>\n",
       "      <th>29123</th>\n",
       "      <td>2022-12-31</td>\n",
       "      <td>100152</td>\n",
       "      <td>Вешняков Егор Глебович</td>\n",
       "      <td>Директор магазина</td>\n",
       "      <td>148300.0</td>\n",
       "    </tr>\n",
       "    <tr>\n",
       "      <th>29001</th>\n",
       "      <td>2022-12-31</td>\n",
       "      <td>100185</td>\n",
       "      <td>Макаров Артем Арсеньевич</td>\n",
       "      <td>Директор магазина</td>\n",
       "      <td>135300.0</td>\n",
       "    </tr>\n",
       "    <tr>\n",
       "      <th>28973</th>\n",
       "      <td>2022-12-31</td>\n",
       "      <td>100195</td>\n",
       "      <td>Тимошенко Елизаваета Петровна</td>\n",
       "      <td>Директор магазина</td>\n",
       "      <td>134700.0</td>\n",
       "    </tr>\n",
       "    <tr>\n",
       "      <th>29234</th>\n",
       "      <td>2022-12-31</td>\n",
       "      <td>100200</td>\n",
       "      <td>Безруков Глеб Артёмович</td>\n",
       "      <td>Директор магазина</td>\n",
       "      <td>134200.0</td>\n",
       "    </tr>\n",
       "    <tr>\n",
       "      <th>...</th>\n",
       "      <td>...</td>\n",
       "      <td>...</td>\n",
       "      <td>...</td>\n",
       "      <td>...</td>\n",
       "      <td>...</td>\n",
       "    </tr>\n",
       "    <tr>\n",
       "      <th>28927</th>\n",
       "      <td>2022-12-31</td>\n",
       "      <td>1753</td>\n",
       "      <td>Киреев Федор Николаевич</td>\n",
       "      <td>Кассир</td>\n",
       "      <td>20900.0</td>\n",
       "    </tr>\n",
       "    <tr>\n",
       "      <th>29060</th>\n",
       "      <td>2022-12-31</td>\n",
       "      <td>1758</td>\n",
       "      <td>Винниченко Владимир Андреевич</td>\n",
       "      <td>Кассир</td>\n",
       "      <td>20900.0</td>\n",
       "    </tr>\n",
       "    <tr>\n",
       "      <th>29196</th>\n",
       "      <td>2022-12-31</td>\n",
       "      <td>1767</td>\n",
       "      <td>Зайцева Александра Захаровна</td>\n",
       "      <td>Кассир</td>\n",
       "      <td>20900.0</td>\n",
       "    </tr>\n",
       "    <tr>\n",
       "      <th>29150</th>\n",
       "      <td>2022-12-31</td>\n",
       "      <td>1732</td>\n",
       "      <td>Воронков Дмитрий Иванович</td>\n",
       "      <td>Кассир</td>\n",
       "      <td>20800.0</td>\n",
       "    </tr>\n",
       "    <tr>\n",
       "      <th>29302</th>\n",
       "      <td>2022-12-31</td>\n",
       "      <td>1741</td>\n",
       "      <td>Васильева Валерия Денисовна</td>\n",
       "      <td>Кассир</td>\n",
       "      <td>20800.0</td>\n",
       "    </tr>\n",
       "  </tbody>\n",
       "</table>\n",
       "<p>487 rows × 5 columns</p>\n",
       "</div>"
      ],
      "text/plain": [
       "       report_dt  i_pernr                            fio           pos_name  \\\n",
       "28898 2022-12-31   100193         Ларин Федор Алексеевич  Директор магазина   \n",
       "29123 2022-12-31   100152         Вешняков Егор Глебович  Директор магазина   \n",
       "29001 2022-12-31   100185       Макаров Артем Арсеньевич  Директор магазина   \n",
       "28973 2022-12-31   100195  Тимошенко Елизаваета Петровна  Директор магазина   \n",
       "29234 2022-12-31   100200        Безруков Глеб Артёмович  Директор магазина   \n",
       "...          ...      ...                            ...                ...   \n",
       "28927 2022-12-31     1753        Киреев Федор Николаевич             Кассир   \n",
       "29060 2022-12-31     1758  Винниченко Владимир Андреевич             Кассир   \n",
       "29196 2022-12-31     1767   Зайцева Александра Захаровна             Кассир   \n",
       "29150 2022-12-31     1732      Воронков Дмитрий Иванович             Кассир   \n",
       "29302 2022-12-31     1741    Васильева Валерия Денисовна             Кассир   \n",
       "\n",
       "         salary  \n",
       "28898  154700.0  \n",
       "29123  148300.0  \n",
       "29001  135300.0  \n",
       "28973  134700.0  \n",
       "29234  134200.0  \n",
       "...         ...  \n",
       "28927   20900.0  \n",
       "29060   20900.0  \n",
       "29196   20900.0  \n",
       "29150   20800.0  \n",
       "29302   20800.0  \n",
       "\n",
       "[487 rows x 5 columns]"
      ]
     },
     "execution_count": 4,
     "metadata": {},
     "output_type": "execute_result"
    }
   ],
   "source": [
    "empl.query('report_dt == \"2022-12-31\"').sort_values(by='salary', ascending=False)"
   ]
  },
  {
   "cell_type": "markdown",
   "id": "febab749",
   "metadata": {},
   "source": [
    "#### Сортируем по дате"
   ]
  },
  {
   "cell_type": "code",
   "execution_count": 5,
   "id": "c63c7f70",
   "metadata": {},
   "outputs": [
    {
     "data": {
      "text/html": [
       "<div>\n",
       "<style scoped>\n",
       "    .dataframe tbody tr th:only-of-type {\n",
       "        vertical-align: middle;\n",
       "    }\n",
       "\n",
       "    .dataframe tbody tr th {\n",
       "        vertical-align: top;\n",
       "    }\n",
       "\n",
       "    .dataframe thead th {\n",
       "        text-align: right;\n",
       "    }\n",
       "</style>\n",
       "<table border=\"1\" class=\"dataframe\">\n",
       "  <thead>\n",
       "    <tr style=\"text-align: right;\">\n",
       "      <th></th>\n",
       "      <th>report_dt</th>\n",
       "      <th>i_pernr</th>\n",
       "      <th>fio</th>\n",
       "      <th>pos_name</th>\n",
       "      <th>salary</th>\n",
       "    </tr>\n",
       "  </thead>\n",
       "  <tbody>\n",
       "    <tr>\n",
       "      <th>29242</th>\n",
       "      <td>2022-12-31</td>\n",
       "      <td>1708</td>\n",
       "      <td>Руднева Галина Данииловна</td>\n",
       "      <td>Кассир</td>\n",
       "      <td>24500.0</td>\n",
       "    </tr>\n",
       "    <tr>\n",
       "      <th>28971</th>\n",
       "      <td>2022-12-31</td>\n",
       "      <td>1622</td>\n",
       "      <td>Елизарова Елена Александровна</td>\n",
       "      <td>Продавец-консультант</td>\n",
       "      <td>30800.0</td>\n",
       "    </tr>\n",
       "    <tr>\n",
       "      <th>28967</th>\n",
       "      <td>2022-12-31</td>\n",
       "      <td>1825</td>\n",
       "      <td>Киреева Александра Семёновна</td>\n",
       "      <td>Продавец-консультант</td>\n",
       "      <td>25900.0</td>\n",
       "    </tr>\n",
       "    <tr>\n",
       "      <th>29002</th>\n",
       "      <td>2022-12-31</td>\n",
       "      <td>100223</td>\n",
       "      <td>Лукин Егор Алексеевич</td>\n",
       "      <td>Заместитель директора магазина</td>\n",
       "      <td>77300.0</td>\n",
       "    </tr>\n",
       "    <tr>\n",
       "      <th>29008</th>\n",
       "      <td>2022-12-31</td>\n",
       "      <td>1856</td>\n",
       "      <td>Исаев Григорий Даниилович</td>\n",
       "      <td>Кассир</td>\n",
       "      <td>21200.0</td>\n",
       "    </tr>\n",
       "    <tr>\n",
       "      <th>...</th>\n",
       "      <td>...</td>\n",
       "      <td>...</td>\n",
       "      <td>...</td>\n",
       "      <td>...</td>\n",
       "      <td>...</td>\n",
       "    </tr>\n",
       "    <tr>\n",
       "      <th>5</th>\n",
       "      <td>2015-01-31</td>\n",
       "      <td>4</td>\n",
       "      <td>Никифоров Даниил Глебович</td>\n",
       "      <td>Продавец-консультант</td>\n",
       "      <td>15400.0</td>\n",
       "    </tr>\n",
       "    <tr>\n",
       "      <th>0</th>\n",
       "      <td>2015-01-31</td>\n",
       "      <td>100000</td>\n",
       "      <td>Кожевников Андрей Максимович</td>\n",
       "      <td>Директор магазина</td>\n",
       "      <td>45700.0</td>\n",
       "    </tr>\n",
       "    <tr>\n",
       "      <th>6</th>\n",
       "      <td>2015-01-31</td>\n",
       "      <td>5</td>\n",
       "      <td>Грачев Даниил Артёмович</td>\n",
       "      <td>Продавец-консультант</td>\n",
       "      <td>15400.0</td>\n",
       "    </tr>\n",
       "    <tr>\n",
       "      <th>7</th>\n",
       "      <td>2015-01-31</td>\n",
       "      <td>6</td>\n",
       "      <td>Леонов Николай Артурович</td>\n",
       "      <td>Продавец-консультант</td>\n",
       "      <td>15400.0</td>\n",
       "    </tr>\n",
       "    <tr>\n",
       "      <th>2</th>\n",
       "      <td>2015-01-31</td>\n",
       "      <td>1</td>\n",
       "      <td>Вишневскиая Валентина Константиновна</td>\n",
       "      <td>Кассир</td>\n",
       "      <td>12600.0</td>\n",
       "    </tr>\n",
       "  </tbody>\n",
       "</table>\n",
       "<p>29372 rows × 5 columns</p>\n",
       "</div>"
      ],
      "text/plain": [
       "       report_dt  i_pernr                                   fio  \\\n",
       "29242 2022-12-31     1708             Руднева Галина Данииловна   \n",
       "28971 2022-12-31     1622         Елизарова Елена Александровна   \n",
       "28967 2022-12-31     1825          Киреева Александра Семёновна   \n",
       "29002 2022-12-31   100223                 Лукин Егор Алексеевич   \n",
       "29008 2022-12-31     1856             Исаев Григорий Даниилович   \n",
       "...          ...      ...                                   ...   \n",
       "5     2015-01-31        4             Никифоров Даниил Глебович   \n",
       "0     2015-01-31   100000          Кожевников Андрей Максимович   \n",
       "6     2015-01-31        5               Грачев Даниил Артёмович   \n",
       "7     2015-01-31        6              Леонов Николай Артурович   \n",
       "2     2015-01-31        1  Вишневскиая Валентина Константиновна   \n",
       "\n",
       "                             pos_name   salary  \n",
       "29242                          Кассир  24500.0  \n",
       "28971            Продавец-консультант  30800.0  \n",
       "28967            Продавец-консультант  25900.0  \n",
       "29002  Заместитель директора магазина  77300.0  \n",
       "29008                          Кассир  21200.0  \n",
       "...                               ...      ...  \n",
       "5                Продавец-консультант  15400.0  \n",
       "0                   Директор магазина  45700.0  \n",
       "6                Продавец-консультант  15400.0  \n",
       "7                Продавец-консультант  15400.0  \n",
       "2                              Кассир  12600.0  \n",
       "\n",
       "[29372 rows x 5 columns]"
      ]
     },
     "execution_count": 5,
     "metadata": {},
     "output_type": "execute_result"
    }
   ],
   "source": [
    "empl.sort_values(by='report_dt', ascending=False)"
   ]
  },
  {
   "cell_type": "markdown",
   "id": "76b36164",
   "metadata": {},
   "source": [
    "#### Сортируем сначала по дате, а затем строки с одинаковой датой сортируем по зарплате в порядке убывания"
   ]
  },
  {
   "cell_type": "code",
   "execution_count": 6,
   "id": "a3a26e0e",
   "metadata": {},
   "outputs": [
    {
     "data": {
      "text/html": [
       "<div>\n",
       "<style scoped>\n",
       "    .dataframe tbody tr th:only-of-type {\n",
       "        vertical-align: middle;\n",
       "    }\n",
       "\n",
       "    .dataframe tbody tr th {\n",
       "        vertical-align: top;\n",
       "    }\n",
       "\n",
       "    .dataframe thead th {\n",
       "        text-align: right;\n",
       "    }\n",
       "</style>\n",
       "<table border=\"1\" class=\"dataframe\">\n",
       "  <thead>\n",
       "    <tr style=\"text-align: right;\">\n",
       "      <th></th>\n",
       "      <th>report_dt</th>\n",
       "      <th>i_pernr</th>\n",
       "      <th>fio</th>\n",
       "      <th>pos_name</th>\n",
       "      <th>salary</th>\n",
       "    </tr>\n",
       "  </thead>\n",
       "  <tbody>\n",
       "    <tr>\n",
       "      <th>28898</th>\n",
       "      <td>2022-12-31</td>\n",
       "      <td>100193</td>\n",
       "      <td>Ларин Федор Алексеевич</td>\n",
       "      <td>Директор магазина</td>\n",
       "      <td>154700.0</td>\n",
       "    </tr>\n",
       "    <tr>\n",
       "      <th>29123</th>\n",
       "      <td>2022-12-31</td>\n",
       "      <td>100152</td>\n",
       "      <td>Вешняков Егор Глебович</td>\n",
       "      <td>Директор магазина</td>\n",
       "      <td>148300.0</td>\n",
       "    </tr>\n",
       "    <tr>\n",
       "      <th>29001</th>\n",
       "      <td>2022-12-31</td>\n",
       "      <td>100185</td>\n",
       "      <td>Макаров Артем Арсеньевич</td>\n",
       "      <td>Директор магазина</td>\n",
       "      <td>135300.0</td>\n",
       "    </tr>\n",
       "    <tr>\n",
       "      <th>28973</th>\n",
       "      <td>2022-12-31</td>\n",
       "      <td>100195</td>\n",
       "      <td>Тимошенко Елизаваета Петровна</td>\n",
       "      <td>Директор магазина</td>\n",
       "      <td>134700.0</td>\n",
       "    </tr>\n",
       "    <tr>\n",
       "      <th>29234</th>\n",
       "      <td>2022-12-31</td>\n",
       "      <td>100200</td>\n",
       "      <td>Безруков Глеб Артёмович</td>\n",
       "      <td>Директор магазина</td>\n",
       "      <td>134200.0</td>\n",
       "    </tr>\n",
       "    <tr>\n",
       "      <th>...</th>\n",
       "      <td>...</td>\n",
       "      <td>...</td>\n",
       "      <td>...</td>\n",
       "      <td>...</td>\n",
       "      <td>...</td>\n",
       "    </tr>\n",
       "    <tr>\n",
       "      <th>8</th>\n",
       "      <td>2015-01-31</td>\n",
       "      <td>7</td>\n",
       "      <td>Воробьев Семён Александрович</td>\n",
       "      <td>Продавец-консультант</td>\n",
       "      <td>15400.0</td>\n",
       "    </tr>\n",
       "    <tr>\n",
       "      <th>5</th>\n",
       "      <td>2015-01-31</td>\n",
       "      <td>4</td>\n",
       "      <td>Никифоров Даниил Глебович</td>\n",
       "      <td>Продавец-консультант</td>\n",
       "      <td>15400.0</td>\n",
       "    </tr>\n",
       "    <tr>\n",
       "      <th>9</th>\n",
       "      <td>2015-01-31</td>\n",
       "      <td>8</td>\n",
       "      <td>Жилина Валерия Александровна</td>\n",
       "      <td>Продавец-консультант</td>\n",
       "      <td>15400.0</td>\n",
       "    </tr>\n",
       "    <tr>\n",
       "      <th>3</th>\n",
       "      <td>2015-01-31</td>\n",
       "      <td>2</td>\n",
       "      <td>Литвинов Александр Максимович</td>\n",
       "      <td>Кассир</td>\n",
       "      <td>12600.0</td>\n",
       "    </tr>\n",
       "    <tr>\n",
       "      <th>2</th>\n",
       "      <td>2015-01-31</td>\n",
       "      <td>1</td>\n",
       "      <td>Вишневскиая Валентина Константиновна</td>\n",
       "      <td>Кассир</td>\n",
       "      <td>12600.0</td>\n",
       "    </tr>\n",
       "  </tbody>\n",
       "</table>\n",
       "<p>29372 rows × 5 columns</p>\n",
       "</div>"
      ],
      "text/plain": [
       "       report_dt  i_pernr                                   fio  \\\n",
       "28898 2022-12-31   100193                Ларин Федор Алексеевич   \n",
       "29123 2022-12-31   100152                Вешняков Егор Глебович   \n",
       "29001 2022-12-31   100185              Макаров Артем Арсеньевич   \n",
       "28973 2022-12-31   100195         Тимошенко Елизаваета Петровна   \n",
       "29234 2022-12-31   100200               Безруков Глеб Артёмович   \n",
       "...          ...      ...                                   ...   \n",
       "8     2015-01-31        7          Воробьев Семён Александрович   \n",
       "5     2015-01-31        4             Никифоров Даниил Глебович   \n",
       "9     2015-01-31        8          Жилина Валерия Александровна   \n",
       "3     2015-01-31        2         Литвинов Александр Максимович   \n",
       "2     2015-01-31        1  Вишневскиая Валентина Константиновна   \n",
       "\n",
       "                   pos_name    salary  \n",
       "28898     Директор магазина  154700.0  \n",
       "29123     Директор магазина  148300.0  \n",
       "29001     Директор магазина  135300.0  \n",
       "28973     Директор магазина  134700.0  \n",
       "29234     Директор магазина  134200.0  \n",
       "...                     ...       ...  \n",
       "8      Продавец-консультант   15400.0  \n",
       "5      Продавец-консультант   15400.0  \n",
       "9      Продавец-консультант   15400.0  \n",
       "3                    Кассир   12600.0  \n",
       "2                    Кассир   12600.0  \n",
       "\n",
       "[29372 rows x 5 columns]"
      ]
     },
     "execution_count": 6,
     "metadata": {},
     "output_type": "execute_result"
    }
   ],
   "source": [
    "empl.sort_values(by=['report_dt', 'salary'], ascending=False)"
   ]
  },
  {
   "cell_type": "markdown",
   "id": "421c3418",
   "metadata": {},
   "source": [
    "#### Сортируем сначала по дате в порядке убывания, а затем строки с одинаковой датой сортируем по зарплате в порядке возрастания"
   ]
  },
  {
   "cell_type": "code",
   "execution_count": 7,
   "id": "564e8b85",
   "metadata": {},
   "outputs": [
    {
     "data": {
      "text/html": [
       "<div>\n",
       "<style scoped>\n",
       "    .dataframe tbody tr th:only-of-type {\n",
       "        vertical-align: middle;\n",
       "    }\n",
       "\n",
       "    .dataframe tbody tr th {\n",
       "        vertical-align: top;\n",
       "    }\n",
       "\n",
       "    .dataframe thead th {\n",
       "        text-align: right;\n",
       "    }\n",
       "</style>\n",
       "<table border=\"1\" class=\"dataframe\">\n",
       "  <thead>\n",
       "    <tr style=\"text-align: right;\">\n",
       "      <th></th>\n",
       "      <th>report_dt</th>\n",
       "      <th>i_pernr</th>\n",
       "      <th>fio</th>\n",
       "      <th>pos_name</th>\n",
       "      <th>salary</th>\n",
       "    </tr>\n",
       "  </thead>\n",
       "  <tbody>\n",
       "    <tr>\n",
       "      <th>29302</th>\n",
       "      <td>2022-12-31</td>\n",
       "      <td>1741</td>\n",
       "      <td>Васильева Валерия Денисовна</td>\n",
       "      <td>Кассир</td>\n",
       "      <td>20800.0</td>\n",
       "    </tr>\n",
       "    <tr>\n",
       "      <th>29150</th>\n",
       "      <td>2022-12-31</td>\n",
       "      <td>1732</td>\n",
       "      <td>Воронков Дмитрий Иванович</td>\n",
       "      <td>Кассир</td>\n",
       "      <td>20800.0</td>\n",
       "    </tr>\n",
       "    <tr>\n",
       "      <th>29196</th>\n",
       "      <td>2022-12-31</td>\n",
       "      <td>1767</td>\n",
       "      <td>Зайцева Александра Захаровна</td>\n",
       "      <td>Кассир</td>\n",
       "      <td>20900.0</td>\n",
       "    </tr>\n",
       "    <tr>\n",
       "      <th>28927</th>\n",
       "      <td>2022-12-31</td>\n",
       "      <td>1753</td>\n",
       "      <td>Киреев Федор Николаевич</td>\n",
       "      <td>Кассир</td>\n",
       "      <td>20900.0</td>\n",
       "    </tr>\n",
       "    <tr>\n",
       "      <th>29282</th>\n",
       "      <td>2022-12-31</td>\n",
       "      <td>1246</td>\n",
       "      <td>Козина Екатерна Григорьевна</td>\n",
       "      <td>Кассир</td>\n",
       "      <td>20900.0</td>\n",
       "    </tr>\n",
       "    <tr>\n",
       "      <th>...</th>\n",
       "      <td>...</td>\n",
       "      <td>...</td>\n",
       "      <td>...</td>\n",
       "      <td>...</td>\n",
       "      <td>...</td>\n",
       "    </tr>\n",
       "    <tr>\n",
       "      <th>8</th>\n",
       "      <td>2015-01-31</td>\n",
       "      <td>7</td>\n",
       "      <td>Воробьев Семён Александрович</td>\n",
       "      <td>Продавец-консультант</td>\n",
       "      <td>15400.0</td>\n",
       "    </tr>\n",
       "    <tr>\n",
       "      <th>5</th>\n",
       "      <td>2015-01-31</td>\n",
       "      <td>4</td>\n",
       "      <td>Никифоров Даниил Глебович</td>\n",
       "      <td>Продавец-консультант</td>\n",
       "      <td>15400.0</td>\n",
       "    </tr>\n",
       "    <tr>\n",
       "      <th>9</th>\n",
       "      <td>2015-01-31</td>\n",
       "      <td>8</td>\n",
       "      <td>Жилина Валерия Александровна</td>\n",
       "      <td>Продавец-консультант</td>\n",
       "      <td>15400.0</td>\n",
       "    </tr>\n",
       "    <tr>\n",
       "      <th>1</th>\n",
       "      <td>2015-01-31</td>\n",
       "      <td>0</td>\n",
       "      <td>Дубинина Надежда Николаевна</td>\n",
       "      <td>Старший кассир</td>\n",
       "      <td>20000.0</td>\n",
       "    </tr>\n",
       "    <tr>\n",
       "      <th>0</th>\n",
       "      <td>2015-01-31</td>\n",
       "      <td>100000</td>\n",
       "      <td>Кожевников Андрей Максимович</td>\n",
       "      <td>Директор магазина</td>\n",
       "      <td>45700.0</td>\n",
       "    </tr>\n",
       "  </tbody>\n",
       "</table>\n",
       "<p>29372 rows × 5 columns</p>\n",
       "</div>"
      ],
      "text/plain": [
       "       report_dt  i_pernr                           fio              pos_name  \\\n",
       "29302 2022-12-31     1741   Васильева Валерия Денисовна                Кассир   \n",
       "29150 2022-12-31     1732     Воронков Дмитрий Иванович                Кассир   \n",
       "29196 2022-12-31     1767  Зайцева Александра Захаровна                Кассир   \n",
       "28927 2022-12-31     1753       Киреев Федор Николаевич                Кассир   \n",
       "29282 2022-12-31     1246   Козина Екатерна Григорьевна                Кассир   \n",
       "...          ...      ...                           ...                   ...   \n",
       "8     2015-01-31        7  Воробьев Семён Александрович  Продавец-консультант   \n",
       "5     2015-01-31        4     Никифоров Даниил Глебович  Продавец-консультант   \n",
       "9     2015-01-31        8  Жилина Валерия Александровна  Продавец-консультант   \n",
       "1     2015-01-31        0   Дубинина Надежда Николаевна        Старший кассир   \n",
       "0     2015-01-31   100000  Кожевников Андрей Максимович     Директор магазина   \n",
       "\n",
       "        salary  \n",
       "29302  20800.0  \n",
       "29150  20800.0  \n",
       "29196  20900.0  \n",
       "28927  20900.0  \n",
       "29282  20900.0  \n",
       "...        ...  \n",
       "8      15400.0  \n",
       "5      15400.0  \n",
       "9      15400.0  \n",
       "1      20000.0  \n",
       "0      45700.0  \n",
       "\n",
       "[29372 rows x 5 columns]"
      ]
     },
     "execution_count": 7,
     "metadata": {},
     "output_type": "execute_result"
    }
   ],
   "source": [
    "empl.sort_values(by=['report_dt', 'salary'], ascending=[False, True])"
   ]
  },
  {
   "cell_type": "code",
   "execution_count": null,
   "id": "362ffe3d",
   "metadata": {},
   "outputs": [],
   "source": []
  },
  {
   "cell_type": "code",
   "execution_count": null,
   "id": "61eb24cb",
   "metadata": {},
   "outputs": [],
   "source": []
  },
  {
   "cell_type": "code",
   "execution_count": null,
   "id": "ba6cf77c",
   "metadata": {},
   "outputs": [],
   "source": []
  },
  {
   "cell_type": "code",
   "execution_count": null,
   "id": "14a7bfc4",
   "metadata": {},
   "outputs": [],
   "source": []
  },
  {
   "cell_type": "code",
   "execution_count": null,
   "id": "055cb1b8",
   "metadata": {},
   "outputs": [],
   "source": []
  },
  {
   "cell_type": "code",
   "execution_count": null,
   "id": "2f5c5576",
   "metadata": {},
   "outputs": [],
   "source": []
  },
  {
   "cell_type": "code",
   "execution_count": null,
   "id": "3e4fc1ec",
   "metadata": {},
   "outputs": [],
   "source": []
  },
  {
   "cell_type": "code",
   "execution_count": null,
   "id": "e909606a",
   "metadata": {},
   "outputs": [],
   "source": []
  },
  {
   "cell_type": "code",
   "execution_count": null,
   "id": "71e4d6cd",
   "metadata": {},
   "outputs": [],
   "source": []
  },
  {
   "cell_type": "markdown",
   "id": "93e98d2b",
   "metadata": {},
   "source": [
    "#### Сортировка отдельной колонки"
   ]
  },
  {
   "cell_type": "code",
   "execution_count": 8,
   "id": "46ee3304",
   "metadata": {},
   "outputs": [
    {
     "data": {
      "text/plain": [
       "5       2015-01-31\n",
       "9       2015-01-31\n",
       "8       2015-01-31\n",
       "1       2015-01-31\n",
       "2       2015-01-31\n",
       "           ...    \n",
       "29013   2022-12-31\n",
       "29053   2022-12-31\n",
       "29285   2022-12-31\n",
       "29271   2022-12-31\n",
       "29339   2022-12-31\n",
       "Name: report_dt, Length: 29372, dtype: datetime64[ns]"
      ]
     },
     "execution_count": 8,
     "metadata": {},
     "output_type": "execute_result"
    }
   ],
   "source": [
    "empl['report_dt'].sort_values()"
   ]
  },
  {
   "cell_type": "code",
   "execution_count": 9,
   "id": "032c4b65",
   "metadata": {},
   "outputs": [
    {
     "data": {
      "text/plain": [
       "29242   2022-12-31\n",
       "28971   2022-12-31\n",
       "28967   2022-12-31\n",
       "29002   2022-12-31\n",
       "29008   2022-12-31\n",
       "           ...    \n",
       "5       2015-01-31\n",
       "0       2015-01-31\n",
       "6       2015-01-31\n",
       "7       2015-01-31\n",
       "2       2015-01-31\n",
       "Name: report_dt, Length: 29372, dtype: datetime64[ns]"
      ]
     },
     "execution_count": 9,
     "metadata": {},
     "output_type": "execute_result"
    }
   ],
   "source": [
    "empl['report_dt'].sort_values(ascending=False)"
   ]
  },
  {
   "cell_type": "code",
   "execution_count": null,
   "id": "7c5738fa",
   "metadata": {},
   "outputs": [],
   "source": []
  },
  {
   "cell_type": "code",
   "execution_count": null,
   "id": "132832d6",
   "metadata": {},
   "outputs": [],
   "source": []
  },
  {
   "cell_type": "code",
   "execution_count": null,
   "id": "1e2d5618",
   "metadata": {},
   "outputs": [],
   "source": []
  },
  {
   "cell_type": "code",
   "execution_count": null,
   "id": "b42e6925",
   "metadata": {},
   "outputs": [],
   "source": []
  },
  {
   "cell_type": "code",
   "execution_count": null,
   "id": "f6c30c60",
   "metadata": {},
   "outputs": [],
   "source": []
  },
  {
   "cell_type": "code",
   "execution_count": null,
   "id": "0ecd006c",
   "metadata": {},
   "outputs": [],
   "source": []
  },
  {
   "cell_type": "code",
   "execution_count": null,
   "id": "9f32aba8",
   "metadata": {},
   "outputs": [],
   "source": []
  },
  {
   "cell_type": "code",
   "execution_count": null,
   "id": "71c09deb",
   "metadata": {},
   "outputs": [],
   "source": []
  },
  {
   "cell_type": "code",
   "execution_count": null,
   "id": "a12f6d70",
   "metadata": {},
   "outputs": [],
   "source": []
  },
  {
   "cell_type": "code",
   "execution_count": null,
   "id": "21c51986",
   "metadata": {},
   "outputs": [],
   "source": []
  },
  {
   "cell_type": "code",
   "execution_count": null,
   "id": "7d2c5cdd",
   "metadata": {},
   "outputs": [],
   "source": []
  },
  {
   "cell_type": "code",
   "execution_count": null,
   "id": "7a17abbe",
   "metadata": {},
   "outputs": [],
   "source": []
  },
  {
   "cell_type": "code",
   "execution_count": null,
   "id": "ffeb549d",
   "metadata": {},
   "outputs": [],
   "source": []
  },
  {
   "cell_type": "code",
   "execution_count": null,
   "id": "cabc3a2b",
   "metadata": {},
   "outputs": [],
   "source": []
  },
  {
   "cell_type": "markdown",
   "id": "56122f82",
   "metadata": {},
   "source": [
    "#### Сортировка по индексу"
   ]
  },
  {
   "cell_type": "code",
   "execution_count": 10,
   "id": "6a459f5d",
   "metadata": {},
   "outputs": [
    {
     "data": {
      "text/html": [
       "<div>\n",
       "<style scoped>\n",
       "    .dataframe tbody tr th:only-of-type {\n",
       "        vertical-align: middle;\n",
       "    }\n",
       "\n",
       "    .dataframe tbody tr th {\n",
       "        vertical-align: top;\n",
       "    }\n",
       "\n",
       "    .dataframe thead th {\n",
       "        text-align: right;\n",
       "    }\n",
       "</style>\n",
       "<table border=\"1\" class=\"dataframe\">\n",
       "  <thead>\n",
       "    <tr style=\"text-align: right;\">\n",
       "      <th></th>\n",
       "      <th>report_dt</th>\n",
       "      <th>i_pernr</th>\n",
       "      <th>fio</th>\n",
       "      <th>pos_name</th>\n",
       "      <th>salary</th>\n",
       "    </tr>\n",
       "  </thead>\n",
       "  <tbody>\n",
       "    <tr>\n",
       "      <th>0</th>\n",
       "      <td>2015-01-31</td>\n",
       "      <td>100000</td>\n",
       "      <td>Кожевников Андрей Максимович</td>\n",
       "      <td>Директор магазина</td>\n",
       "      <td>45700.0</td>\n",
       "    </tr>\n",
       "    <tr>\n",
       "      <th>1</th>\n",
       "      <td>2015-01-31</td>\n",
       "      <td>0</td>\n",
       "      <td>Дубинина Надежда Николаевна</td>\n",
       "      <td>Старший кассир</td>\n",
       "      <td>20000.0</td>\n",
       "    </tr>\n",
       "    <tr>\n",
       "      <th>2</th>\n",
       "      <td>2015-01-31</td>\n",
       "      <td>1</td>\n",
       "      <td>Вишневскиая Валентина Константиновна</td>\n",
       "      <td>Кассир</td>\n",
       "      <td>12600.0</td>\n",
       "    </tr>\n",
       "    <tr>\n",
       "      <th>3</th>\n",
       "      <td>2015-01-31</td>\n",
       "      <td>2</td>\n",
       "      <td>Литвинов Александр Максимович</td>\n",
       "      <td>Кассир</td>\n",
       "      <td>12600.0</td>\n",
       "    </tr>\n",
       "    <tr>\n",
       "      <th>4</th>\n",
       "      <td>2015-01-31</td>\n",
       "      <td>3</td>\n",
       "      <td>Черняева Валерия Глебовна</td>\n",
       "      <td>Продавец-консультант</td>\n",
       "      <td>15400.0</td>\n",
       "    </tr>\n",
       "    <tr>\n",
       "      <th>...</th>\n",
       "      <td>...</td>\n",
       "      <td>...</td>\n",
       "      <td>...</td>\n",
       "      <td>...</td>\n",
       "      <td>...</td>\n",
       "    </tr>\n",
       "    <tr>\n",
       "      <th>29367</th>\n",
       "      <td>2022-12-31</td>\n",
       "      <td>1372</td>\n",
       "      <td>Морозова Раиса Ярославовна</td>\n",
       "      <td>Продавец-консультант</td>\n",
       "      <td>38000.0</td>\n",
       "    </tr>\n",
       "    <tr>\n",
       "      <th>29368</th>\n",
       "      <td>2022-12-31</td>\n",
       "      <td>1615</td>\n",
       "      <td>Фадеева Евгения Данииловна</td>\n",
       "      <td>Товаровед</td>\n",
       "      <td>31800.0</td>\n",
       "    </tr>\n",
       "    <tr>\n",
       "      <th>29369</th>\n",
       "      <td>2022-12-31</td>\n",
       "      <td>1748</td>\n",
       "      <td>Измайлов Григорий Артемович</td>\n",
       "      <td>Товаровед</td>\n",
       "      <td>28400.0</td>\n",
       "    </tr>\n",
       "    <tr>\n",
       "      <th>29370</th>\n",
       "      <td>2022-12-31</td>\n",
       "      <td>1616</td>\n",
       "      <td>Русаков Евгений Тимурович</td>\n",
       "      <td>Мастер по ремонту одежды</td>\n",
       "      <td>35500.0</td>\n",
       "    </tr>\n",
       "    <tr>\n",
       "      <th>29371</th>\n",
       "      <td>2022-12-31</td>\n",
       "      <td>1687</td>\n",
       "      <td>Суханова Дарья Фёдоровна</td>\n",
       "      <td>Уборщик</td>\n",
       "      <td>26400.0</td>\n",
       "    </tr>\n",
       "  </tbody>\n",
       "</table>\n",
       "<p>29372 rows × 5 columns</p>\n",
       "</div>"
      ],
      "text/plain": [
       "       report_dt  i_pernr                                   fio  \\\n",
       "0     2015-01-31   100000          Кожевников Андрей Максимович   \n",
       "1     2015-01-31        0           Дубинина Надежда Николаевна   \n",
       "2     2015-01-31        1  Вишневскиая Валентина Константиновна   \n",
       "3     2015-01-31        2         Литвинов Александр Максимович   \n",
       "4     2015-01-31        3             Черняева Валерия Глебовна   \n",
       "...          ...      ...                                   ...   \n",
       "29367 2022-12-31     1372            Морозова Раиса Ярославовна   \n",
       "29368 2022-12-31     1615            Фадеева Евгения Данииловна   \n",
       "29369 2022-12-31     1748           Измайлов Григорий Артемович   \n",
       "29370 2022-12-31     1616             Русаков Евгений Тимурович   \n",
       "29371 2022-12-31     1687              Суханова Дарья Фёдоровна   \n",
       "\n",
       "                       pos_name   salary  \n",
       "0             Директор магазина  45700.0  \n",
       "1                Старший кассир  20000.0  \n",
       "2                        Кассир  12600.0  \n",
       "3                        Кассир  12600.0  \n",
       "4          Продавец-консультант  15400.0  \n",
       "...                         ...      ...  \n",
       "29367      Продавец-консультант  38000.0  \n",
       "29368                 Товаровед  31800.0  \n",
       "29369                 Товаровед  28400.0  \n",
       "29370  Мастер по ремонту одежды  35500.0  \n",
       "29371                   Уборщик  26400.0  \n",
       "\n",
       "[29372 rows x 5 columns]"
      ]
     },
     "execution_count": 10,
     "metadata": {},
     "output_type": "execute_result"
    }
   ],
   "source": [
    "empl.sort_index()"
   ]
  },
  {
   "cell_type": "markdown",
   "id": "b8bb3f14",
   "metadata": {},
   "source": [
    "#### При использовании с параметрами по умолчанию таблица отсортируется сначала по первому столбцу в индексе, а затем по второму в порядке возрастания"
   ]
  },
  {
   "cell_type": "code",
   "execution_count": 11,
   "id": "7d8bda7e",
   "metadata": {},
   "outputs": [
    {
     "data": {
      "text/html": [
       "<div>\n",
       "<style scoped>\n",
       "    .dataframe tbody tr th:only-of-type {\n",
       "        vertical-align: middle;\n",
       "    }\n",
       "\n",
       "    .dataframe tbody tr th {\n",
       "        vertical-align: top;\n",
       "    }\n",
       "\n",
       "    .dataframe thead th {\n",
       "        text-align: right;\n",
       "    }\n",
       "</style>\n",
       "<table border=\"1\" class=\"dataframe\">\n",
       "  <thead>\n",
       "    <tr style=\"text-align: right;\">\n",
       "      <th></th>\n",
       "      <th></th>\n",
       "      <th>report_dt</th>\n",
       "      <th>fio</th>\n",
       "      <th>pos_name</th>\n",
       "    </tr>\n",
       "    <tr>\n",
       "      <th>salary</th>\n",
       "      <th>i_pernr</th>\n",
       "      <th></th>\n",
       "      <th></th>\n",
       "      <th></th>\n",
       "    </tr>\n",
       "  </thead>\n",
       "  <tbody>\n",
       "    <tr>\n",
       "      <th rowspan=\"5\" valign=\"top\">12600.0</th>\n",
       "      <th>1</th>\n",
       "      <td>2015-05-31</td>\n",
       "      <td>Вишневскиая Валентина Константиновна</td>\n",
       "      <td>Кассир</td>\n",
       "    </tr>\n",
       "    <tr>\n",
       "      <th>1</th>\n",
       "      <td>2015-04-30</td>\n",
       "      <td>Вишневскиая Валентина Константиновна</td>\n",
       "      <td>Кассир</td>\n",
       "    </tr>\n",
       "    <tr>\n",
       "      <th>1</th>\n",
       "      <td>2015-02-28</td>\n",
       "      <td>Вишневскиая Валентина Константиновна</td>\n",
       "      <td>Кассир</td>\n",
       "    </tr>\n",
       "    <tr>\n",
       "      <th>1</th>\n",
       "      <td>2015-01-31</td>\n",
       "      <td>Вишневскиая Валентина Константиновна</td>\n",
       "      <td>Кассир</td>\n",
       "    </tr>\n",
       "    <tr>\n",
       "      <th>1</th>\n",
       "      <td>2015-03-31</td>\n",
       "      <td>Вишневскиая Валентина Константиновна</td>\n",
       "      <td>Кассир</td>\n",
       "    </tr>\n",
       "    <tr>\n",
       "      <th>...</th>\n",
       "      <th>...</th>\n",
       "      <td>...</td>\n",
       "      <td>...</td>\n",
       "      <td>...</td>\n",
       "    </tr>\n",
       "    <tr>\n",
       "      <th rowspan=\"2\" valign=\"top\">148300.0</th>\n",
       "      <th>100152</th>\n",
       "      <td>2022-05-31</td>\n",
       "      <td>Вешняков Егор Глебович</td>\n",
       "      <td>Директор магазина</td>\n",
       "    </tr>\n",
       "    <tr>\n",
       "      <th>100152</th>\n",
       "      <td>2022-06-30</td>\n",
       "      <td>Вешняков Егор Глебович</td>\n",
       "      <td>Директор магазина</td>\n",
       "    </tr>\n",
       "    <tr>\n",
       "      <th rowspan=\"3\" valign=\"top\">154700.0</th>\n",
       "      <th>100193</th>\n",
       "      <td>2022-11-30</td>\n",
       "      <td>Ларин Федор Алексеевич</td>\n",
       "      <td>Директор магазина</td>\n",
       "    </tr>\n",
       "    <tr>\n",
       "      <th>100193</th>\n",
       "      <td>2022-10-31</td>\n",
       "      <td>Ларин Федор Алексеевич</td>\n",
       "      <td>Директор магазина</td>\n",
       "    </tr>\n",
       "    <tr>\n",
       "      <th>100193</th>\n",
       "      <td>2022-12-31</td>\n",
       "      <td>Ларин Федор Алексеевич</td>\n",
       "      <td>Директор магазина</td>\n",
       "    </tr>\n",
       "  </tbody>\n",
       "</table>\n",
       "<p>29372 rows × 3 columns</p>\n",
       "</div>"
      ],
      "text/plain": [
       "                  report_dt                                   fio  \\\n",
       "salary   i_pernr                                                    \n",
       "12600.0  1       2015-05-31  Вишневскиая Валентина Константиновна   \n",
       "         1       2015-04-30  Вишневскиая Валентина Константиновна   \n",
       "         1       2015-02-28  Вишневскиая Валентина Константиновна   \n",
       "         1       2015-01-31  Вишневскиая Валентина Константиновна   \n",
       "         1       2015-03-31  Вишневскиая Валентина Константиновна   \n",
       "...                     ...                                   ...   \n",
       "148300.0 100152  2022-05-31                Вешняков Егор Глебович   \n",
       "         100152  2022-06-30                Вешняков Егор Глебович   \n",
       "154700.0 100193  2022-11-30                Ларин Федор Алексеевич   \n",
       "         100193  2022-10-31                Ларин Федор Алексеевич   \n",
       "         100193  2022-12-31                Ларин Федор Алексеевич   \n",
       "\n",
       "                           pos_name  \n",
       "salary   i_pernr                     \n",
       "12600.0  1                   Кассир  \n",
       "         1                   Кассир  \n",
       "         1                   Кассир  \n",
       "         1                   Кассир  \n",
       "         1                   Кассир  \n",
       "...                             ...  \n",
       "148300.0 100152   Директор магазина  \n",
       "         100152   Директор магазина  \n",
       "154700.0 100193   Директор магазина  \n",
       "         100193   Директор магазина  \n",
       "         100193   Директор магазина  \n",
       "\n",
       "[29372 rows x 3 columns]"
      ]
     },
     "execution_count": 11,
     "metadata": {},
     "output_type": "execute_result"
    }
   ],
   "source": [
    "empl.set_index(['salary', 'i_pernr']).sort_index()"
   ]
  },
  {
   "cell_type": "code",
   "execution_count": 12,
   "id": "cf5fc028",
   "metadata": {},
   "outputs": [
    {
     "data": {
      "text/html": [
       "<div>\n",
       "<style scoped>\n",
       "    .dataframe tbody tr th:only-of-type {\n",
       "        vertical-align: middle;\n",
       "    }\n",
       "\n",
       "    .dataframe tbody tr th {\n",
       "        vertical-align: top;\n",
       "    }\n",
       "\n",
       "    .dataframe thead th {\n",
       "        text-align: right;\n",
       "    }\n",
       "</style>\n",
       "<table border=\"1\" class=\"dataframe\">\n",
       "  <thead>\n",
       "    <tr style=\"text-align: right;\">\n",
       "      <th></th>\n",
       "      <th></th>\n",
       "      <th>report_dt</th>\n",
       "      <th>fio</th>\n",
       "      <th>pos_name</th>\n",
       "    </tr>\n",
       "    <tr>\n",
       "      <th>salary</th>\n",
       "      <th>i_pernr</th>\n",
       "      <th></th>\n",
       "      <th></th>\n",
       "      <th></th>\n",
       "    </tr>\n",
       "  </thead>\n",
       "  <tbody>\n",
       "    <tr>\n",
       "      <th>32100.0</th>\n",
       "      <th>0</th>\n",
       "      <td>2016-06-30</td>\n",
       "      <td>Дубинина Надежда Николаевна</td>\n",
       "      <td>Старший кассир</td>\n",
       "    </tr>\n",
       "    <tr>\n",
       "      <th rowspan=\"4\" valign=\"top\">31200.0</th>\n",
       "      <th>0</th>\n",
       "      <td>2016-03-31</td>\n",
       "      <td>Дубинина Надежда Николаевна</td>\n",
       "      <td>Старший кассир</td>\n",
       "    </tr>\n",
       "    <tr>\n",
       "      <th>0</th>\n",
       "      <td>2016-02-29</td>\n",
       "      <td>Дубинина Надежда Николаевна</td>\n",
       "      <td>Старший кассир</td>\n",
       "    </tr>\n",
       "    <tr>\n",
       "      <th>0</th>\n",
       "      <td>2016-04-30</td>\n",
       "      <td>Дубинина Надежда Николаевна</td>\n",
       "      <td>Старший кассир</td>\n",
       "    </tr>\n",
       "    <tr>\n",
       "      <th>0</th>\n",
       "      <td>2016-05-31</td>\n",
       "      <td>Дубинина Надежда Николаевна</td>\n",
       "      <td>Старший кассир</td>\n",
       "    </tr>\n",
       "    <tr>\n",
       "      <th>...</th>\n",
       "      <th>...</th>\n",
       "      <td>...</td>\n",
       "      <td>...</td>\n",
       "      <td>...</td>\n",
       "    </tr>\n",
       "    <tr>\n",
       "      <th>48300.0</th>\n",
       "      <th>100230</th>\n",
       "      <td>2022-12-31</td>\n",
       "      <td>Кулагин Матвей Вячеславович</td>\n",
       "      <td>Бухгалтер</td>\n",
       "    </tr>\n",
       "    <tr>\n",
       "      <th rowspan=\"2\" valign=\"top\">53800.0</th>\n",
       "      <th>100231</th>\n",
       "      <td>2022-12-31</td>\n",
       "      <td>Зайцев Вячеслав Тимурович</td>\n",
       "      <td>Бухгалтер</td>\n",
       "    </tr>\n",
       "    <tr>\n",
       "      <th>100231</th>\n",
       "      <td>2022-11-30</td>\n",
       "      <td>Зайцев Вячеслав Тимурович</td>\n",
       "      <td>Бухгалтер</td>\n",
       "    </tr>\n",
       "    <tr>\n",
       "      <th rowspan=\"2\" valign=\"top\">78300.0</th>\n",
       "      <th>100232</th>\n",
       "      <td>2022-11-30</td>\n",
       "      <td>Дегтярева Кристина Дмитриевна</td>\n",
       "      <td>Заместитель директора магазина</td>\n",
       "    </tr>\n",
       "    <tr>\n",
       "      <th>100232</th>\n",
       "      <td>2022-12-31</td>\n",
       "      <td>Дегтярева Кристина Дмитриевна</td>\n",
       "      <td>Заместитель директора магазина</td>\n",
       "    </tr>\n",
       "  </tbody>\n",
       "</table>\n",
       "<p>29372 rows × 3 columns</p>\n",
       "</div>"
      ],
      "text/plain": [
       "                 report_dt                            fio  \\\n",
       "salary  i_pernr                                             \n",
       "32100.0 0       2016-06-30    Дубинина Надежда Николаевна   \n",
       "31200.0 0       2016-03-31    Дубинина Надежда Николаевна   \n",
       "        0       2016-02-29    Дубинина Надежда Николаевна   \n",
       "        0       2016-04-30    Дубинина Надежда Николаевна   \n",
       "        0       2016-05-31    Дубинина Надежда Николаевна   \n",
       "...                    ...                            ...   \n",
       "48300.0 100230  2022-12-31    Кулагин Матвей Вячеславович   \n",
       "53800.0 100231  2022-12-31      Зайцев Вячеслав Тимурович   \n",
       "        100231  2022-11-30      Зайцев Вячеслав Тимурович   \n",
       "78300.0 100232  2022-11-30  Дегтярева Кристина Дмитриевна   \n",
       "        100232  2022-12-31  Дегтярева Кристина Дмитриевна   \n",
       "\n",
       "                                       pos_name  \n",
       "salary  i_pernr                                  \n",
       "32100.0 0                        Старший кассир  \n",
       "31200.0 0                        Старший кассир  \n",
       "        0                        Старший кассир  \n",
       "        0                        Старший кассир  \n",
       "        0                        Старший кассир  \n",
       "...                                         ...  \n",
       "48300.0 100230                        Бухгалтер  \n",
       "53800.0 100231                        Бухгалтер  \n",
       "        100231                        Бухгалтер  \n",
       "78300.0 100232   Заместитель директора магазина  \n",
       "        100232   Заместитель директора магазина  \n",
       "\n",
       "[29372 rows x 3 columns]"
      ]
     },
     "execution_count": 12,
     "metadata": {},
     "output_type": "execute_result"
    }
   ],
   "source": [
    "empl.set_index(['salary', 'i_pernr']).sort_index(level=['i_pernr', 0], ascending=[True, False])"
   ]
  },
  {
   "cell_type": "code",
   "execution_count": null,
   "id": "68fc2da0",
   "metadata": {},
   "outputs": [],
   "source": []
  },
  {
   "cell_type": "code",
   "execution_count": null,
   "id": "7c2451a6",
   "metadata": {},
   "outputs": [],
   "source": []
  },
  {
   "cell_type": "code",
   "execution_count": null,
   "id": "6cf6e644",
   "metadata": {},
   "outputs": [],
   "source": []
  },
  {
   "cell_type": "code",
   "execution_count": null,
   "id": "5fded5cf",
   "metadata": {},
   "outputs": [],
   "source": []
  },
  {
   "cell_type": "code",
   "execution_count": null,
   "id": "be325b20",
   "metadata": {},
   "outputs": [],
   "source": []
  },
  {
   "cell_type": "code",
   "execution_count": null,
   "id": "81cbfea9",
   "metadata": {},
   "outputs": [],
   "source": []
  },
  {
   "cell_type": "code",
   "execution_count": null,
   "id": "a1be2099",
   "metadata": {},
   "outputs": [],
   "source": []
  },
  {
   "cell_type": "code",
   "execution_count": null,
   "id": "c0bd1575",
   "metadata": {},
   "outputs": [],
   "source": []
  },
  {
   "cell_type": "code",
   "execution_count": null,
   "id": "85364073",
   "metadata": {},
   "outputs": [],
   "source": []
  },
  {
   "cell_type": "code",
   "execution_count": null,
   "id": "e93e483e",
   "metadata": {},
   "outputs": [],
   "source": []
  },
  {
   "cell_type": "code",
   "execution_count": null,
   "id": "7b6e1c46",
   "metadata": {},
   "outputs": [],
   "source": []
  },
  {
   "cell_type": "code",
   "execution_count": null,
   "id": "e3b63a11",
   "metadata": {},
   "outputs": [],
   "source": []
  },
  {
   "cell_type": "code",
   "execution_count": null,
   "id": "47c03ec5",
   "metadata": {},
   "outputs": [],
   "source": []
  },
  {
   "cell_type": "code",
   "execution_count": null,
   "id": "3485471f",
   "metadata": {},
   "outputs": [],
   "source": []
  },
  {
   "cell_type": "markdown",
   "id": "6d062d7d",
   "metadata": {},
   "source": [
    "### Метод sort_values удобно использовать вместе с методом drop_duplicates"
   ]
  },
  {
   "cell_type": "markdown",
   "id": "5b9a7d6a",
   "metadata": {},
   "source": [
    "Для каждого человека находим зарплату, с которой он впервые устраивался на работу"
   ]
  },
  {
   "cell_type": "code",
   "execution_count": 13,
   "id": "ebe15e04",
   "metadata": {},
   "outputs": [
    {
     "data": {
      "text/html": [
       "<div>\n",
       "<style scoped>\n",
       "    .dataframe tbody tr th:only-of-type {\n",
       "        vertical-align: middle;\n",
       "    }\n",
       "\n",
       "    .dataframe tbody tr th {\n",
       "        vertical-align: top;\n",
       "    }\n",
       "\n",
       "    .dataframe thead th {\n",
       "        text-align: right;\n",
       "    }\n",
       "</style>\n",
       "<table border=\"1\" class=\"dataframe\">\n",
       "  <thead>\n",
       "    <tr style=\"text-align: right;\">\n",
       "      <th></th>\n",
       "      <th>report_dt</th>\n",
       "      <th>i_pernr</th>\n",
       "      <th>fio</th>\n",
       "      <th>pos_name</th>\n",
       "      <th>salary</th>\n",
       "    </tr>\n",
       "  </thead>\n",
       "  <tbody>\n",
       "    <tr>\n",
       "      <th>5</th>\n",
       "      <td>2015-01-31</td>\n",
       "      <td>4</td>\n",
       "      <td>Никифоров Даниил Глебович</td>\n",
       "      <td>Продавец-консультант</td>\n",
       "      <td>15400.0</td>\n",
       "    </tr>\n",
       "    <tr>\n",
       "      <th>9</th>\n",
       "      <td>2015-01-31</td>\n",
       "      <td>8</td>\n",
       "      <td>Жилина Валерия Александровна</td>\n",
       "      <td>Продавец-консультант</td>\n",
       "      <td>15400.0</td>\n",
       "    </tr>\n",
       "    <tr>\n",
       "      <th>8</th>\n",
       "      <td>2015-01-31</td>\n",
       "      <td>7</td>\n",
       "      <td>Воробьев Семён Александрович</td>\n",
       "      <td>Продавец-консультант</td>\n",
       "      <td>15400.0</td>\n",
       "    </tr>\n",
       "    <tr>\n",
       "      <th>1</th>\n",
       "      <td>2015-01-31</td>\n",
       "      <td>0</td>\n",
       "      <td>Дубинина Надежда Николаевна</td>\n",
       "      <td>Старший кассир</td>\n",
       "      <td>20000.0</td>\n",
       "    </tr>\n",
       "    <tr>\n",
       "      <th>2</th>\n",
       "      <td>2015-01-31</td>\n",
       "      <td>1</td>\n",
       "      <td>Вишневскиая Валентина Константиновна</td>\n",
       "      <td>Кассир</td>\n",
       "      <td>12600.0</td>\n",
       "    </tr>\n",
       "    <tr>\n",
       "      <th>...</th>\n",
       "      <td>...</td>\n",
       "      <td>...</td>\n",
       "      <td>...</td>\n",
       "      <td>...</td>\n",
       "      <td>...</td>\n",
       "    </tr>\n",
       "    <tr>\n",
       "      <th>29067</th>\n",
       "      <td>2022-12-31</td>\n",
       "      <td>1941</td>\n",
       "      <td>Тихомирова Анна Дмитриевна</td>\n",
       "      <td>Продавец-консультант</td>\n",
       "      <td>27000.0</td>\n",
       "    </tr>\n",
       "    <tr>\n",
       "      <th>29043</th>\n",
       "      <td>2022-12-31</td>\n",
       "      <td>1924</td>\n",
       "      <td>Касаткина Мария Тимуровна</td>\n",
       "      <td>Продавец-консультант</td>\n",
       "      <td>26400.0</td>\n",
       "    </tr>\n",
       "    <tr>\n",
       "      <th>29110</th>\n",
       "      <td>2022-12-31</td>\n",
       "      <td>1943</td>\n",
       "      <td>Минаев Глеб Алексеевич</td>\n",
       "      <td>Продавец-консультант</td>\n",
       "      <td>27000.0</td>\n",
       "    </tr>\n",
       "    <tr>\n",
       "      <th>29073</th>\n",
       "      <td>2022-12-31</td>\n",
       "      <td>1942</td>\n",
       "      <td>Черкасов Борис Семенович</td>\n",
       "      <td>Продавец-консультант</td>\n",
       "      <td>27000.0</td>\n",
       "    </tr>\n",
       "    <tr>\n",
       "      <th>29151</th>\n",
       "      <td>2022-12-31</td>\n",
       "      <td>1929</td>\n",
       "      <td>Пономарева Варвара Олеговна</td>\n",
       "      <td>Кассир</td>\n",
       "      <td>21500.0</td>\n",
       "    </tr>\n",
       "  </tbody>\n",
       "</table>\n",
       "<p>2177 rows × 5 columns</p>\n",
       "</div>"
      ],
      "text/plain": [
       "       report_dt  i_pernr                                   fio  \\\n",
       "5     2015-01-31        4             Никифоров Даниил Глебович   \n",
       "9     2015-01-31        8          Жилина Валерия Александровна   \n",
       "8     2015-01-31        7          Воробьев Семён Александрович   \n",
       "1     2015-01-31        0           Дубинина Надежда Николаевна   \n",
       "2     2015-01-31        1  Вишневскиая Валентина Константиновна   \n",
       "...          ...      ...                                   ...   \n",
       "29067 2022-12-31     1941            Тихомирова Анна Дмитриевна   \n",
       "29043 2022-12-31     1924             Касаткина Мария Тимуровна   \n",
       "29110 2022-12-31     1943                Минаев Глеб Алексеевич   \n",
       "29073 2022-12-31     1942              Черкасов Борис Семенович   \n",
       "29151 2022-12-31     1929           Пономарева Варвара Олеговна   \n",
       "\n",
       "                   pos_name   salary  \n",
       "5      Продавец-консультант  15400.0  \n",
       "9      Продавец-консультант  15400.0  \n",
       "8      Продавец-консультант  15400.0  \n",
       "1            Старший кассир  20000.0  \n",
       "2                    Кассир  12600.0  \n",
       "...                     ...      ...  \n",
       "29067  Продавец-консультант  27000.0  \n",
       "29043  Продавец-консультант  26400.0  \n",
       "29110  Продавец-консультант  27000.0  \n",
       "29073  Продавец-консультант  27000.0  \n",
       "29151                Кассир  21500.0  \n",
       "\n",
       "[2177 rows x 5 columns]"
      ]
     },
     "execution_count": 13,
     "metadata": {},
     "output_type": "execute_result"
    }
   ],
   "source": [
    "empl.sort_values('report_dt').drop_duplicates('i_pernr')"
   ]
  },
  {
   "cell_type": "markdown",
   "id": "ae9c586e",
   "metadata": {},
   "source": [
    "Для каждого человека находим последнюю зарплату"
   ]
  },
  {
   "cell_type": "code",
   "execution_count": 14,
   "id": "316854e7",
   "metadata": {},
   "outputs": [
    {
     "data": {
      "text/html": [
       "<div>\n",
       "<style scoped>\n",
       "    .dataframe tbody tr th:only-of-type {\n",
       "        vertical-align: middle;\n",
       "    }\n",
       "\n",
       "    .dataframe tbody tr th {\n",
       "        vertical-align: top;\n",
       "    }\n",
       "\n",
       "    .dataframe thead th {\n",
       "        text-align: right;\n",
       "    }\n",
       "</style>\n",
       "<table border=\"1\" class=\"dataframe\">\n",
       "  <thead>\n",
       "    <tr style=\"text-align: right;\">\n",
       "      <th></th>\n",
       "      <th>report_dt</th>\n",
       "      <th>i_pernr</th>\n",
       "      <th>fio</th>\n",
       "      <th>pos_name</th>\n",
       "      <th>salary</th>\n",
       "    </tr>\n",
       "  </thead>\n",
       "  <tbody>\n",
       "    <tr>\n",
       "      <th>146</th>\n",
       "      <td>2015-07-31</td>\n",
       "      <td>11</td>\n",
       "      <td>Мельников Игорь Семёнович</td>\n",
       "      <td>Кассир</td>\n",
       "      <td>12800.0</td>\n",
       "    </tr>\n",
       "    <tr>\n",
       "      <th>151</th>\n",
       "      <td>2015-07-31</td>\n",
       "      <td>7</td>\n",
       "      <td>Воробьев Семён Александрович</td>\n",
       "      <td>Продавец-консультант</td>\n",
       "      <td>15400.0</td>\n",
       "    </tr>\n",
       "    <tr>\n",
       "      <th>180</th>\n",
       "      <td>2015-08-31</td>\n",
       "      <td>100000</td>\n",
       "      <td>Кожевников Андрей Максимович</td>\n",
       "      <td>Директор магазина</td>\n",
       "      <td>45700.0</td>\n",
       "    </tr>\n",
       "    <tr>\n",
       "      <th>251</th>\n",
       "      <td>2015-09-30</td>\n",
       "      <td>22</td>\n",
       "      <td>Ершова Маргарита Николаевна</td>\n",
       "      <td>Продавец-консультант</td>\n",
       "      <td>26400.0</td>\n",
       "    </tr>\n",
       "    <tr>\n",
       "      <th>291</th>\n",
       "      <td>2015-10-31</td>\n",
       "      <td>34</td>\n",
       "      <td>Свиридова Виктория Тимуровна</td>\n",
       "      <td>Продавец-консультант</td>\n",
       "      <td>26800.0</td>\n",
       "    </tr>\n",
       "    <tr>\n",
       "      <th>...</th>\n",
       "      <td>...</td>\n",
       "      <td>...</td>\n",
       "      <td>...</td>\n",
       "      <td>...</td>\n",
       "      <td>...</td>\n",
       "    </tr>\n",
       "    <tr>\n",
       "      <th>29013</th>\n",
       "      <td>2022-12-31</td>\n",
       "      <td>1667</td>\n",
       "      <td>Комаров Степан Захарович</td>\n",
       "      <td>Продавец-консультант</td>\n",
       "      <td>30800.0</td>\n",
       "    </tr>\n",
       "    <tr>\n",
       "      <th>29053</th>\n",
       "      <td>2022-12-31</td>\n",
       "      <td>1569</td>\n",
       "      <td>Петухова Татьяна Антоновна</td>\n",
       "      <td>Продавец-консультант</td>\n",
       "      <td>38000.0</td>\n",
       "    </tr>\n",
       "    <tr>\n",
       "      <th>29285</th>\n",
       "      <td>2022-12-31</td>\n",
       "      <td>1818</td>\n",
       "      <td>Онищенко Павел Максимович</td>\n",
       "      <td>Кассир</td>\n",
       "      <td>21100.0</td>\n",
       "    </tr>\n",
       "    <tr>\n",
       "      <th>29271</th>\n",
       "      <td>2022-12-31</td>\n",
       "      <td>1866</td>\n",
       "      <td>Дьякова Алена Антоновна</td>\n",
       "      <td>Продавец-консультант</td>\n",
       "      <td>26000.0</td>\n",
       "    </tr>\n",
       "    <tr>\n",
       "      <th>29339</th>\n",
       "      <td>2022-12-31</td>\n",
       "      <td>1745</td>\n",
       "      <td>Балашова Александра Владиславовна</td>\n",
       "      <td>Продавец-консультант</td>\n",
       "      <td>38700.0</td>\n",
       "    </tr>\n",
       "  </tbody>\n",
       "</table>\n",
       "<p>2177 rows × 5 columns</p>\n",
       "</div>"
      ],
      "text/plain": [
       "       report_dt  i_pernr                                fio  \\\n",
       "146   2015-07-31       11          Мельников Игорь Семёнович   \n",
       "151   2015-07-31        7       Воробьев Семён Александрович   \n",
       "180   2015-08-31   100000       Кожевников Андрей Максимович   \n",
       "251   2015-09-30       22        Ершова Маргарита Николаевна   \n",
       "291   2015-10-31       34       Свиридова Виктория Тимуровна   \n",
       "...          ...      ...                                ...   \n",
       "29013 2022-12-31     1667           Комаров Степан Захарович   \n",
       "29053 2022-12-31     1569         Петухова Татьяна Антоновна   \n",
       "29285 2022-12-31     1818          Онищенко Павел Максимович   \n",
       "29271 2022-12-31     1866            Дьякова Алена Антоновна   \n",
       "29339 2022-12-31     1745  Балашова Александра Владиславовна   \n",
       "\n",
       "                   pos_name   salary  \n",
       "146                  Кассир  12800.0  \n",
       "151    Продавец-консультант  15400.0  \n",
       "180       Директор магазина  45700.0  \n",
       "251    Продавец-консультант  26400.0  \n",
       "291    Продавец-консультант  26800.0  \n",
       "...                     ...      ...  \n",
       "29013  Продавец-консультант  30800.0  \n",
       "29053  Продавец-консультант  38000.0  \n",
       "29285                Кассир  21100.0  \n",
       "29271  Продавец-консультант  26000.0  \n",
       "29339  Продавец-консультант  38700.0  \n",
       "\n",
       "[2177 rows x 5 columns]"
      ]
     },
     "execution_count": 14,
     "metadata": {},
     "output_type": "execute_result"
    }
   ],
   "source": [
    "empl.sort_values('report_dt').drop_duplicates('i_pernr', keep='last')"
   ]
  },
  {
   "cell_type": "code",
   "execution_count": null,
   "id": "3ef6d4e7",
   "metadata": {},
   "outputs": [],
   "source": []
  },
  {
   "cell_type": "code",
   "execution_count": null,
   "id": "18975491",
   "metadata": {},
   "outputs": [],
   "source": []
  },
  {
   "cell_type": "code",
   "execution_count": null,
   "id": "bc158b2f",
   "metadata": {},
   "outputs": [],
   "source": []
  },
  {
   "cell_type": "code",
   "execution_count": null,
   "id": "ab276f2d",
   "metadata": {},
   "outputs": [],
   "source": []
  },
  {
   "cell_type": "code",
   "execution_count": null,
   "id": "fd49617e",
   "metadata": {},
   "outputs": [],
   "source": []
  },
  {
   "cell_type": "code",
   "execution_count": null,
   "id": "fd275d8f",
   "metadata": {},
   "outputs": [],
   "source": []
  },
  {
   "cell_type": "code",
   "execution_count": null,
   "id": "edf43e5b",
   "metadata": {},
   "outputs": [],
   "source": []
  },
  {
   "cell_type": "code",
   "execution_count": null,
   "id": "e002ad23",
   "metadata": {},
   "outputs": [],
   "source": []
  },
  {
   "cell_type": "code",
   "execution_count": null,
   "id": "2ee2967e",
   "metadata": {},
   "outputs": [],
   "source": []
  },
  {
   "cell_type": "code",
   "execution_count": null,
   "id": "62036d98",
   "metadata": {},
   "outputs": [],
   "source": []
  },
  {
   "cell_type": "code",
   "execution_count": null,
   "id": "47d1d316",
   "metadata": {},
   "outputs": [],
   "source": []
  },
  {
   "cell_type": "code",
   "execution_count": null,
   "id": "92a744b3",
   "metadata": {},
   "outputs": [],
   "source": []
  },
  {
   "cell_type": "code",
   "execution_count": null,
   "id": "b415b42d",
   "metadata": {},
   "outputs": [],
   "source": []
  },
  {
   "cell_type": "code",
   "execution_count": null,
   "id": "36a30f4b",
   "metadata": {},
   "outputs": [],
   "source": []
  },
  {
   "cell_type": "code",
   "execution_count": null,
   "id": "3f194431",
   "metadata": {},
   "outputs": [],
   "source": []
  },
  {
   "cell_type": "code",
   "execution_count": null,
   "id": "ce954dc6",
   "metadata": {},
   "outputs": [],
   "source": []
  },
  {
   "cell_type": "code",
   "execution_count": null,
   "id": "e871185e",
   "metadata": {},
   "outputs": [],
   "source": []
  },
  {
   "cell_type": "code",
   "execution_count": null,
   "id": "5095f639",
   "metadata": {},
   "outputs": [],
   "source": []
  },
  {
   "cell_type": "markdown",
   "id": "1e96d8c7",
   "metadata": {},
   "source": [
    "## rank\n",
    "\n",
    "Метод ранжирует наблюдения. Говорит каким по счету оно будет в отсортированном массиве"
   ]
  },
  {
   "cell_type": "markdown",
   "id": "35fc7bc6",
   "metadata": {},
   "source": [
    "Метод может пригодиться если стоит задача найти какое-то по счету значение, например, второе по возрастанию"
   ]
  },
  {
   "cell_type": "code",
   "execution_count": 15,
   "id": "5a0959aa",
   "metadata": {},
   "outputs": [
    {
     "data": {
      "text/plain": [
       "5472      21300.0\n",
       "2943      20500.0\n",
       "27274    123000.0\n",
       "20345     28300.0\n",
       "16129     34100.0\n",
       "Name: salary, dtype: float64"
      ]
     },
     "execution_count": 15,
     "metadata": {},
     "output_type": "execute_result"
    }
   ],
   "source": [
    "empl.iloc[:5, -1]"
   ]
  },
  {
   "cell_type": "code",
   "execution_count": 16,
   "id": "f385b325",
   "metadata": {},
   "outputs": [
    {
     "data": {
      "text/plain": [
       "5472     2.0\n",
       "2943     1.0\n",
       "27274    5.0\n",
       "20345    3.0\n",
       "16129    4.0\n",
       "Name: salary, dtype: float64"
      ]
     },
     "execution_count": 16,
     "metadata": {},
     "output_type": "execute_result"
    }
   ],
   "source": [
    "empl.iloc[:5, -1].rank()"
   ]
  },
  {
   "cell_type": "code",
   "execution_count": null,
   "id": "3b3b1ec2",
   "metadata": {},
   "outputs": [],
   "source": []
  },
  {
   "cell_type": "code",
   "execution_count": null,
   "id": "de8a09a5",
   "metadata": {},
   "outputs": [],
   "source": []
  },
  {
   "cell_type": "code",
   "execution_count": null,
   "id": "a362166c",
   "metadata": {},
   "outputs": [],
   "source": []
  },
  {
   "cell_type": "code",
   "execution_count": null,
   "id": "f7fa436a",
   "metadata": {},
   "outputs": [],
   "source": []
  },
  {
   "cell_type": "code",
   "execution_count": null,
   "id": "c7c2238b",
   "metadata": {},
   "outputs": [],
   "source": []
  },
  {
   "cell_type": "code",
   "execution_count": null,
   "id": "86ab8e52",
   "metadata": {},
   "outputs": [],
   "source": []
  },
  {
   "cell_type": "code",
   "execution_count": null,
   "id": "c07ed29d",
   "metadata": {},
   "outputs": [],
   "source": []
  },
  {
   "cell_type": "markdown",
   "id": "b7794e6f",
   "metadata": {},
   "source": [
    "#### Разные методы работы с повторяющимися значениями"
   ]
  },
  {
   "cell_type": "markdown",
   "id": "e359a131",
   "metadata": {},
   "source": [
    "method = method{‘average’, ‘min’, ‘max’, ‘first’, ‘dense’}, default ‘average’"
   ]
  },
  {
   "cell_type": "code",
   "execution_count": 17,
   "id": "9ceaa981",
   "metadata": {},
   "outputs": [
    {
     "data": {
      "text/plain": [
       "20345    28300.0\n",
       "6281     61200.0\n",
       "20795    28300.0\n",
       "17321    23300.0\n",
       "Name: salary, dtype: float64"
      ]
     },
     "execution_count": 17,
     "metadata": {},
     "output_type": "execute_result"
    }
   ],
   "source": [
    "empl.iloc[[3, 5, 10, 23], -1]"
   ]
  },
  {
   "cell_type": "code",
   "execution_count": 18,
   "id": "e8a389b3",
   "metadata": {},
   "outputs": [
    {
     "data": {
      "text/plain": [
       "20345    2.5\n",
       "6281     4.0\n",
       "20795    2.5\n",
       "17321    1.0\n",
       "Name: salary, dtype: float64"
      ]
     },
     "execution_count": 18,
     "metadata": {},
     "output_type": "execute_result"
    }
   ],
   "source": [
    "empl.iloc[[3, 5, 10, 23], -1].rank()"
   ]
  },
  {
   "cell_type": "code",
   "execution_count": 19,
   "id": "90977146",
   "metadata": {},
   "outputs": [
    {
     "data": {
      "text/plain": [
       "20345    2.0\n",
       "6281     4.0\n",
       "20795    2.0\n",
       "17321    1.0\n",
       "Name: salary, dtype: float64"
      ]
     },
     "execution_count": 19,
     "metadata": {},
     "output_type": "execute_result"
    }
   ],
   "source": [
    "empl.iloc[[3, 5, 10, 23], -1].rank(method='min')"
   ]
  },
  {
   "cell_type": "code",
   "execution_count": 20,
   "id": "0b8448d3",
   "metadata": {},
   "outputs": [
    {
     "data": {
      "text/plain": [
       "20345    3.0\n",
       "6281     4.0\n",
       "20795    3.0\n",
       "17321    1.0\n",
       "Name: salary, dtype: float64"
      ]
     },
     "execution_count": 20,
     "metadata": {},
     "output_type": "execute_result"
    }
   ],
   "source": [
    "empl.iloc[[3, 5, 10, 23], -1].rank(method='max')"
   ]
  },
  {
   "cell_type": "code",
   "execution_count": 21,
   "id": "cc785e58",
   "metadata": {},
   "outputs": [
    {
     "data": {
      "text/plain": [
       "20345    2.0\n",
       "6281     4.0\n",
       "20795    3.0\n",
       "17321    1.0\n",
       "Name: salary, dtype: float64"
      ]
     },
     "execution_count": 21,
     "metadata": {},
     "output_type": "execute_result"
    }
   ],
   "source": [
    "empl.iloc[[3, 5, 10, 23], -1].rank(method='first')"
   ]
  },
  {
   "cell_type": "code",
   "execution_count": 22,
   "id": "a4384f30",
   "metadata": {},
   "outputs": [
    {
     "data": {
      "text/plain": [
       "20345    2.0\n",
       "6281     3.0\n",
       "20795    2.0\n",
       "17321    1.0\n",
       "Name: salary, dtype: float64"
      ]
     },
     "execution_count": 22,
     "metadata": {},
     "output_type": "execute_result"
    }
   ],
   "source": [
    "empl.iloc[[3, 5, 10, 23], -1].rank(method='dense')"
   ]
  },
  {
   "cell_type": "code",
   "execution_count": null,
   "id": "fa687168",
   "metadata": {},
   "outputs": [],
   "source": []
  },
  {
   "cell_type": "code",
   "execution_count": null,
   "id": "b7ee84a4",
   "metadata": {},
   "outputs": [],
   "source": []
  },
  {
   "cell_type": "markdown",
   "id": "4a8004a4",
   "metadata": {},
   "source": [
    "#### Ранжирование в обратном порядке"
   ]
  },
  {
   "cell_type": "code",
   "execution_count": 23,
   "id": "89582780",
   "metadata": {},
   "outputs": [
    {
     "data": {
      "text/plain": [
       "20345    28300.0\n",
       "6281     61200.0\n",
       "20795    28300.0\n",
       "17321    23300.0\n",
       "Name: salary, dtype: float64"
      ]
     },
     "execution_count": 23,
     "metadata": {},
     "output_type": "execute_result"
    }
   ],
   "source": [
    "empl.iloc[[3, 5, 10, 23], -1]"
   ]
  },
  {
   "cell_type": "code",
   "execution_count": 24,
   "id": "feebf880",
   "metadata": {},
   "outputs": [
    {
     "data": {
      "text/plain": [
       "20345    2.5\n",
       "6281     1.0\n",
       "20795    2.5\n",
       "17321    4.0\n",
       "Name: salary, dtype: float64"
      ]
     },
     "execution_count": 24,
     "metadata": {},
     "output_type": "execute_result"
    }
   ],
   "source": [
    "empl.iloc[[3, 5, 10, 23], -1].rank(ascending=False)"
   ]
  },
  {
   "cell_type": "code",
   "execution_count": 25,
   "id": "4dd60415",
   "metadata": {},
   "outputs": [
    {
     "data": {
      "text/html": [
       "<div>\n",
       "<style scoped>\n",
       "    .dataframe tbody tr th:only-of-type {\n",
       "        vertical-align: middle;\n",
       "    }\n",
       "\n",
       "    .dataframe tbody tr th {\n",
       "        vertical-align: top;\n",
       "    }\n",
       "\n",
       "    .dataframe thead th {\n",
       "        text-align: right;\n",
       "    }\n",
       "</style>\n",
       "<table border=\"1\" class=\"dataframe\">\n",
       "  <thead>\n",
       "    <tr style=\"text-align: right;\">\n",
       "      <th></th>\n",
       "      <th>report_dt</th>\n",
       "      <th>i_pernr</th>\n",
       "      <th>fio</th>\n",
       "      <th>pos_name</th>\n",
       "      <th>salary</th>\n",
       "    </tr>\n",
       "  </thead>\n",
       "  <tbody>\n",
       "    <tr>\n",
       "      <th>29124</th>\n",
       "      <td>2022-12-31</td>\n",
       "      <td>100224</td>\n",
       "      <td>Цветков Захар Сергеевич</td>\n",
       "      <td>Заместитель директора магазина</td>\n",
       "      <td>111200.0</td>\n",
       "    </tr>\n",
       "    <tr>\n",
       "      <th>28900</th>\n",
       "      <td>2022-12-31</td>\n",
       "      <td>100221</td>\n",
       "      <td>Жданова Вероника Валерьевна</td>\n",
       "      <td>Заместитель директора магазина</td>\n",
       "      <td>111200.0</td>\n",
       "    </tr>\n",
       "  </tbody>\n",
       "</table>\n",
       "</div>"
      ],
      "text/plain": [
       "       report_dt  i_pernr                          fio  \\\n",
       "29124 2022-12-31   100224      Цветков Захар Сергеевич   \n",
       "28900 2022-12-31   100221  Жданова Вероника Валерьевна   \n",
       "\n",
       "                             pos_name    salary  \n",
       "29124  Заместитель директора магазина  111200.0  \n",
       "28900  Заместитель директора магазина  111200.0  "
      ]
     },
     "execution_count": 25,
     "metadata": {},
     "output_type": "execute_result"
    }
   ],
   "source": [
    "(empl\n",
    "    .query('report_dt == \"2022-12-31\"')\n",
    "    .query('salary.rank(method=\"dense\") == 95')\n",
    ")"
   ]
  },
  {
   "cell_type": "code",
   "execution_count": null,
   "id": "5e749687",
   "metadata": {},
   "outputs": [],
   "source": []
  },
  {
   "cell_type": "code",
   "execution_count": null,
   "id": "9f800ace",
   "metadata": {},
   "outputs": [],
   "source": []
  },
  {
   "cell_type": "code",
   "execution_count": null,
   "id": "ddd25779",
   "metadata": {},
   "outputs": [],
   "source": []
  },
  {
   "cell_type": "code",
   "execution_count": null,
   "id": "832f7e9b",
   "metadata": {},
   "outputs": [],
   "source": []
  },
  {
   "cell_type": "code",
   "execution_count": null,
   "id": "d2366e03",
   "metadata": {},
   "outputs": [],
   "source": []
  },
  {
   "cell_type": "code",
   "execution_count": null,
   "id": "8f9cb53b",
   "metadata": {},
   "outputs": [],
   "source": []
  },
  {
   "cell_type": "code",
   "execution_count": null,
   "id": "e71053fc",
   "metadata": {},
   "outputs": [],
   "source": []
  },
  {
   "cell_type": "code",
   "execution_count": null,
   "id": "91c081de",
   "metadata": {},
   "outputs": [],
   "source": []
  },
  {
   "cell_type": "code",
   "execution_count": null,
   "id": "3b171de3",
   "metadata": {},
   "outputs": [],
   "source": []
  },
  {
   "cell_type": "code",
   "execution_count": null,
   "id": "1dbbc032",
   "metadata": {},
   "outputs": [],
   "source": []
  },
  {
   "cell_type": "markdown",
   "id": "befa9a6e",
   "metadata": {},
   "source": [
    "# Задания"
   ]
  },
  {
   "cell_type": "markdown",
   "id": "fb1be8c9",
   "metadata": {},
   "source": [
    "#### Описание таблиц лежит [здесь](https://github.com/victorlymarev/pandas/tree/main/tables)"
   ]
  },
  {
   "cell_type": "markdown",
   "id": "c3339245",
   "metadata": {},
   "source": [
    "Некоторые таблицы занимают много памяти, поэтому каждые 5-10 заданий лучше перезапускайте ноутбук.\n",
    "\n",
    "Если вы будете работать с этим ноутбуком в google colab и у вас что-то не будет работать, то раскоментируйте ячейку ниже (для этого выделите содержимое ячейки и нажмите на клавиши ctrl / (если смотреть по английской раскладке или ctrl . для русской), либо просто руками уберите # и пробел после нее в каждой строчке) и запустите ее."
   ]
  },
  {
   "cell_type": "code",
   "execution_count": null,
   "id": "92b85264",
   "metadata": {},
   "outputs": [],
   "source": [
    "# import os\n",
    "# os._exit(00)\n",
    "# !pip install pyarrow pandas==1.5.3"
   ]
  },
  {
   "cell_type": "markdown",
   "id": "77439933",
   "metadata": {},
   "source": [
    "### Задание 1\n",
    "\n",
    "Отсортируйте таблицу по возрастанию дат. Строки с одинаковой датой отсортируйте по убыванию цены"
   ]
  },
  {
   "cell_type": "code",
   "execution_count": null,
   "id": "73841ee8",
   "metadata": {},
   "outputs": [],
   "source": [
    "import os\n",
    "import pandas as pd\n",
    "\n",
    "path_prices = '../tables/prices.parquet' if os.path.exists('../tables/prices.parquet') else 'https://drive.google.com/uc?id=1_KfYyYCsib8woanbP3VouLUpYp103dV5'\n",
    "\n",
    "prices = pd.read_parquet(path_prices)\n",
    "prices.head()"
   ]
  },
  {
   "cell_type": "markdown",
   "id": "61185bc4",
   "metadata": {},
   "source": [
    "### Задание 2\n",
    "Отсортируйте таблицу сначала по табельному номеру, а затем по зарплате"
   ]
  },
  {
   "cell_type": "code",
   "execution_count": null,
   "id": "76c216f3",
   "metadata": {},
   "outputs": [],
   "source": [
    "import os\n",
    "import pandas as pd\n",
    "\n",
    "path_empl = '../tables/employees.parquet' if os.path.exists('../tables/employees.parquet') else 'https://drive.google.com/uc?id=1AARD5-eVlCxoApt5CYZebrC3Cqw42lvj'\n",
    "\n",
    "empl = pd.read_parquet(path_empl)\n",
    "empl.head()"
   ]
  },
  {
   "cell_type": "markdown",
   "id": "8f6a37e7",
   "metadata": {},
   "source": [
    "### Задание 3\n",
    "Отсортируйте таблицу по убыванию дат"
   ]
  },
  {
   "cell_type": "code",
   "execution_count": null,
   "id": "f0057796",
   "metadata": {},
   "outputs": [],
   "source": [
    "import os\n",
    "import pandas as pd\n",
    "\n",
    "path_stocks = '../tables/stocks.parquet' if os.path.exists('../tables/stocks.parquet') else 'https://drive.google.com/uc?id=1weGquTtmR92mKYAeZhZCFHJjndyoSXZt'\n",
    "\n",
    "stocks = pd.read_parquet(path_stocks)\n",
    "stocks.head()"
   ]
  },
  {
   "cell_type": "code",
   "execution_count": null,
   "id": "c40c4357",
   "metadata": {},
   "outputs": [],
   "source": [
    "\n",
    "# напишите свой код здесь"
   ]
  },
  {
   "cell_type": "markdown",
   "id": "70b974dd",
   "metadata": {},
   "source": [
    "### Задание 4\n",
    "Отсортируйте магазины так, чтобы сначала шли мелкие магазины, потом средние, а в конце крупные"
   ]
  },
  {
   "cell_type": "markdown",
   "id": "84f89e26",
   "metadata": {},
   "source": [
    "<details>\n",
    "\n",
    "<summary>Подсказка</summary>\n",
    " \n",
    "Здесь вам помогут методы set_index и loc\n",
    "\n",
    "</details>\n"
   ]
  },
  {
   "cell_type": "code",
   "execution_count": null,
   "id": "2bfdf832",
   "metadata": {},
   "outputs": [],
   "source": [
    "import os\n",
    "import pandas as pd\n",
    "\n",
    "path_shops = '../tables/shops.xlsx' if os.path.exists('../tables/shops.xlsx') else 'https://drive.google.com/uc?id=1gfnmceJa3Mc1X06NftTx9G9QfKfprjEB'\n",
    "\n",
    "shops = pd.read_excel(path_shops)\n",
    "shops.head()"
   ]
  },
  {
   "cell_type": "code",
   "execution_count": null,
   "id": "aaf038fb",
   "metadata": {},
   "outputs": [],
   "source": [
    "# напишите свой код здесь"
   ]
  },
  {
   "cell_type": "markdown",
   "id": "6902256b",
   "metadata": {},
   "source": [
    "### Задание 5\n",
    "По таблице sales найдите стоимость самого дорогово товара в чеке"
   ]
  },
  {
   "cell_type": "code",
   "execution_count": null,
   "id": "1478be21",
   "metadata": {},
   "outputs": [],
   "source": [
    "import os\n",
    "import pandas as pd\n",
    "\n",
    "path_sales_sample_check = '../tables/sales_sample_check.parquet' if os.path.exists('../tables/sales_sample_check.parquet') else 'https://drive.google.com/uc?id=1oYT518oqGnEF51PSFHfSHYNP-690ktFL'\n",
    "# path_sales = '../tables/sales.parquet' if os.path.exists('../tables/sales.parquet') else \"https://drive.usercontent.google.com/download?id=15KwSxyM6hpNABGe6_vsrFZvD09VfHFyK&export=download&authuser=1&confirm=t&uuid=115bd48c-cc2c-4f2a-8b42-be5ca6ef6db8&at=APZUnTUVb8nfNANw5wr9Cad7PJ3U:1693327774694\"\n",
    "\n",
    "sales = pd.read_parquet(path_sales_sample_check)\n",
    "sales.head()"
   ]
  },
  {
   "cell_type": "code",
   "execution_count": null,
   "id": "429e5a42",
   "metadata": {},
   "outputs": [],
   "source": [
    "# напишите свой код здесь"
   ]
  },
  {
   "cell_type": "markdown",
   "id": "c3a60a7e",
   "metadata": {},
   "source": [
    "### Задание 6\n",
    "Чему равна третья самая высокая зарплата за май 2020 года в плотно отранжированном ряду"
   ]
  },
  {
   "cell_type": "code",
   "execution_count": null,
   "id": "26ce9a98",
   "metadata": {},
   "outputs": [],
   "source": [
    "import os\n",
    "import pandas as pd\n",
    "\n",
    "path_empl = '../tables/employees.parquet' if os.path.exists('../tables/employees.parquet') else 'https://drive.google.com/uc?id=1AARD5-eVlCxoApt5CYZebrC3Cqw42lvj'\n",
    "\n",
    "empl = pd.read_parquet(path_empl)\n",
    "empl.head()"
   ]
  },
  {
   "cell_type": "code",
   "execution_count": null,
   "id": "e0444ed8",
   "metadata": {},
   "outputs": [],
   "source": [
    "# напишите свой код здесь"
   ]
  },
  {
   "cell_type": "code",
   "execution_count": null,
   "id": "cc491f6b",
   "metadata": {},
   "outputs": [],
   "source": []
  },
  {
   "cell_type": "code",
   "execution_count": null,
   "id": "5ab8db05",
   "metadata": {},
   "outputs": [],
   "source": []
  },
  {
   "cell_type": "code",
   "execution_count": null,
   "id": "aeab6a75",
   "metadata": {},
   "outputs": [],
   "source": []
  },
  {
   "cell_type": "code",
   "execution_count": null,
   "id": "b2ce8da2",
   "metadata": {},
   "outputs": [],
   "source": []
  },
  {
   "cell_type": "code",
   "execution_count": null,
   "id": "7a6b3c0b",
   "metadata": {},
   "outputs": [],
   "source": []
  },
  {
   "cell_type": "code",
   "execution_count": null,
   "id": "171d1029",
   "metadata": {},
   "outputs": [],
   "source": []
  },
  {
   "cell_type": "code",
   "execution_count": null,
   "id": "8c414bc1",
   "metadata": {},
   "outputs": [],
   "source": []
  },
  {
   "cell_type": "code",
   "execution_count": null,
   "id": "d51238d5",
   "metadata": {},
   "outputs": [],
   "source": []
  },
  {
   "cell_type": "code",
   "execution_count": null,
   "id": "dba7ccff",
   "metadata": {},
   "outputs": [],
   "source": []
  },
  {
   "cell_type": "code",
   "execution_count": 1,
   "id": "3a087ca7",
   "metadata": {},
   "outputs": [
    {
     "name": "stderr",
     "output_type": "stream",
     "text": [
      "C:\\Users\\Александр\\AppData\\Local\\Temp\\ipykernel_16896\\3777615979.py:1: DeprecationWarning: Importing display from IPython.core.display is deprecated since IPython 7.14, please import from IPython display\n",
      "  from IPython.core.display import display, HTML\n"
     ]
    },
    {
     "data": {
      "text/html": [
       "<style>.container { width:100% !important; }</style>"
      ],
      "text/plain": [
       "<IPython.core.display.HTML object>"
      ]
     },
     "metadata": {},
     "output_type": "display_data"
    }
   ],
   "source": [
    "from IPython.core.display import display, HTML\n",
    "display(HTML(\"<style>.container { width:100% !important; }</style>\"))"
   ]
  },
  {
   "cell_type": "code",
   "execution_count": null,
   "id": "84bb83f3",
   "metadata": {},
   "outputs": [],
   "source": []
  }
 ],
 "metadata": {
  "kernelspec": {
   "display_name": "Python 3 (ipykernel)",
   "language": "python",
   "name": "python3"
  },
  "language_info": {
   "codemirror_mode": {
    "name": "ipython",
    "version": 3
   },
   "file_extension": ".py",
   "mimetype": "text/x-python",
   "name": "python",
   "nbconvert_exporter": "python",
   "pygments_lexer": "ipython3",
   "version": "3.11.2"
  }
 },
 "nbformat": 4,
 "nbformat_minor": 5
}
