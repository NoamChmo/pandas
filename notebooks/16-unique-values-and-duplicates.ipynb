{
 "cells": [
  {
   "cell_type": "markdown",
   "id": "f7714bd8",
   "metadata": {},
   "source": [
    "<a target=\"_blank\" href=\"https://colab.research.google.com/github/victorlymarev/pandas/blob/main/notebooks/16-unique-values-and-duplicates.ipynb\">\n",
    "  <img src=\"https://colab.research.google.com/assets/colab-badge.svg\" alt=\"Open In Colab\"/>\n",
    "</a>"
   ]
  },
  {
   "cell_type": "code",
   "execution_count": 2,
   "id": "5b2bb54d",
   "metadata": {},
   "outputs": [],
   "source": [
    "import pandas as pd\n",
    "import os"
   ]
  },
  {
   "cell_type": "markdown",
   "id": "5318e772",
   "metadata": {},
   "source": [
    "Читаем таблицу"
   ]
  },
  {
   "cell_type": "code",
   "execution_count": 3,
   "id": "7fb164b5",
   "metadata": {},
   "outputs": [
    {
     "data": {
      "text/html": [
       "<div>\n",
       "<style scoped>\n",
       "    .dataframe tbody tr th:only-of-type {\n",
       "        vertical-align: middle;\n",
       "    }\n",
       "\n",
       "    .dataframe tbody tr th {\n",
       "        vertical-align: top;\n",
       "    }\n",
       "\n",
       "    .dataframe thead th {\n",
       "        text-align: right;\n",
       "    }\n",
       "</style>\n",
       "<table border=\"1\" class=\"dataframe\">\n",
       "  <thead>\n",
       "    <tr style=\"text-align: right;\">\n",
       "      <th></th>\n",
       "      <th>report_dt</th>\n",
       "      <th>i_pernr</th>\n",
       "      <th>fio</th>\n",
       "      <th>sex</th>\n",
       "      <th>shop_id</th>\n",
       "      <th>pos_name</th>\n",
       "      <th>pos_id</th>\n",
       "      <th>closest_boss_pos_id</th>\n",
       "      <th>mgmt_flag</th>\n",
       "      <th>salary_fork</th>\n",
       "      <th>birth_date</th>\n",
       "      <th>education</th>\n",
       "      <th>employee_evaluation</th>\n",
       "      <th>salary</th>\n",
       "    </tr>\n",
       "  </thead>\n",
       "  <tbody>\n",
       "    <tr>\n",
       "      <th>27931</th>\n",
       "      <td>2022-10-31</td>\n",
       "      <td>100213</td>\n",
       "      <td>Васильева Дарья Тимуровна</td>\n",
       "      <td>женский</td>\n",
       "      <td>1</td>\n",
       "      <td>Директор магазина</td>\n",
       "      <td>11</td>\n",
       "      <td>&lt;NA&gt;</td>\n",
       "      <td>1</td>\n",
       "      <td>0</td>\n",
       "      <td>1994-02-16</td>\n",
       "      <td>среднее профессиональное</td>\n",
       "      <td>4</td>\n",
       "      <td>76600.0</td>\n",
       "    </tr>\n",
       "    <tr>\n",
       "      <th>27932</th>\n",
       "      <td>2022-10-31</td>\n",
       "      <td>36</td>\n",
       "      <td>Балашов Петр Максимович</td>\n",
       "      <td>мужской</td>\n",
       "      <td>1</td>\n",
       "      <td>Старший кассир</td>\n",
       "      <td>12</td>\n",
       "      <td>11</td>\n",
       "      <td>0</td>\n",
       "      <td>2</td>\n",
       "      <td>1980-09-16</td>\n",
       "      <td>высшее</td>\n",
       "      <td>7</td>\n",
       "      <td>42700.0</td>\n",
       "    </tr>\n",
       "    <tr>\n",
       "      <th>27933</th>\n",
       "      <td>2022-10-31</td>\n",
       "      <td>712</td>\n",
       "      <td>Филимонов Дмитрий Васильевич</td>\n",
       "      <td>мужской</td>\n",
       "      <td>1</td>\n",
       "      <td>Кассир</td>\n",
       "      <td>13</td>\n",
       "      <td>12</td>\n",
       "      <td>0</td>\n",
       "      <td>0</td>\n",
       "      <td>1974-12-12</td>\n",
       "      <td>основное общее</td>\n",
       "      <td>4</td>\n",
       "      <td>20900.0</td>\n",
       "    </tr>\n",
       "    <tr>\n",
       "      <th>27934</th>\n",
       "      <td>2022-10-31</td>\n",
       "      <td>1850</td>\n",
       "      <td>Демьянова Юлия Ярославовна</td>\n",
       "      <td>женский</td>\n",
       "      <td>1</td>\n",
       "      <td>Кассир</td>\n",
       "      <td>14</td>\n",
       "      <td>12</td>\n",
       "      <td>0</td>\n",
       "      <td>0</td>\n",
       "      <td>1980-08-15</td>\n",
       "      <td>среднее профессиональное</td>\n",
       "      <td>5</td>\n",
       "      <td>21200.0</td>\n",
       "    </tr>\n",
       "    <tr>\n",
       "      <th>27935</th>\n",
       "      <td>2022-10-31</td>\n",
       "      <td>1617</td>\n",
       "      <td>Головина Кристина Захаровна</td>\n",
       "      <td>женский</td>\n",
       "      <td>1</td>\n",
       "      <td>Кассир</td>\n",
       "      <td>15</td>\n",
       "      <td>12</td>\n",
       "      <td>0</td>\n",
       "      <td>2</td>\n",
       "      <td>1974-04-30</td>\n",
       "      <td>среднее общее</td>\n",
       "      <td>8</td>\n",
       "      <td>29000.0</td>\n",
       "    </tr>\n",
       "  </tbody>\n",
       "</table>\n",
       "</div>"
      ],
      "text/plain": [
       "       report_dt  i_pernr                           fio      sex  shop_id  \\\n",
       "27931 2022-10-31   100213     Васильева Дарья Тимуровна  женский        1   \n",
       "27932 2022-10-31       36       Балашов Петр Максимович  мужской        1   \n",
       "27933 2022-10-31      712  Филимонов Дмитрий Васильевич  мужской        1   \n",
       "27934 2022-10-31     1850    Демьянова Юлия Ярославовна  женский        1   \n",
       "27935 2022-10-31     1617   Головина Кристина Захаровна  женский        1   \n",
       "\n",
       "                pos_name  pos_id  closest_boss_pos_id  mgmt_flag  salary_fork  \\\n",
       "27931  Директор магазина      11                 <NA>          1            0   \n",
       "27932     Старший кассир      12                   11          0            2   \n",
       "27933             Кассир      13                   12          0            0   \n",
       "27934             Кассир      14                   12          0            0   \n",
       "27935             Кассир      15                   12          0            2   \n",
       "\n",
       "      birth_date                 education  employee_evaluation   salary  \n",
       "27931 1994-02-16  среднее профессиональное                    4  76600.0  \n",
       "27932 1980-09-16                    высшее                    7  42700.0  \n",
       "27933 1974-12-12            основное общее                    4  20900.0  \n",
       "27934 1980-08-15  среднее профессиональное                    5  21200.0  \n",
       "27935 1974-04-30             среднее общее                    8  29000.0  "
      ]
     },
     "execution_count": 3,
     "metadata": {},
     "output_type": "execute_result"
    }
   ],
   "source": [
    "path_empl = '../tables/employees.parquet' if os.path.exists('../tables/employees.parquet') else 'https://drive.google.com/uc?id=1AARD5-eVlCxoApt5CYZebrC3Cqw42lvj'\n",
    "\n",
    "empl = pd.read_parquet(path_empl).query('report_dt > \"2022-09-30\"')\n",
    "empl.head()"
   ]
  },
  {
   "cell_type": "code",
   "execution_count": 4,
   "id": "b668a510",
   "metadata": {},
   "outputs": [
    {
     "data": {
      "text/plain": [
       "27931    Директор магазина\n",
       "27932       Старший кассир\n",
       "27933               Кассир\n",
       "27934               Кассир\n",
       "27935               Кассир\n",
       "Name: pos_name, dtype: string"
      ]
     },
     "execution_count": 4,
     "metadata": {},
     "output_type": "execute_result"
    }
   ],
   "source": [
    "empl['pos_name'].head()"
   ]
  },
  {
   "cell_type": "code",
   "execution_count": null,
   "id": "d242181a",
   "metadata": {},
   "outputs": [],
   "source": []
  },
  {
   "cell_type": "code",
   "execution_count": null,
   "id": "59c93174",
   "metadata": {},
   "outputs": [],
   "source": []
  },
  {
   "cell_type": "markdown",
   "id": "03ef180d",
   "metadata": {},
   "source": [
    "## value_counts\n",
    "Считает сколько раз значение встретилось в колонке"
   ]
  },
  {
   "cell_type": "code",
   "execution_count": 5,
   "id": "e37beddb",
   "metadata": {},
   "outputs": [
    {
     "data": {
      "text/plain": [
       "Продавец-консультант              738\n",
       "Кассир                            396\n",
       "Директор магазина                  69\n",
       "Старший кассир                     69\n",
       "Товаровед                          63\n",
       "Заместитель директора магазина     62\n",
       "Мастер по ремонту одежды           15\n",
       "Уборщик                            15\n",
       "Бухгалтер                          14\n",
       "Name: pos_name, dtype: Int64"
      ]
     },
     "execution_count": 5,
     "metadata": {},
     "output_type": "execute_result"
    }
   ],
   "source": [
    "empl['pos_name'].value_counts()"
   ]
  },
  {
   "cell_type": "markdown",
   "id": "530d6467",
   "metadata": {},
   "source": [
    "#### Если normalize=True, то метод счиатет долю каждого значения в столбце"
   ]
  },
  {
   "cell_type": "code",
   "execution_count": 6,
   "id": "2cf800e4",
   "metadata": {},
   "outputs": [
    {
     "data": {
      "text/plain": [
       "Продавец-консультант              0.512144\n",
       "Кассир                            0.274809\n",
       "Директор магазина                 0.047883\n",
       "Старший кассир                    0.047883\n",
       "Товаровед                          0.04372\n",
       "Заместитель директора магазина    0.043026\n",
       "Мастер по ремонту одежды          0.010409\n",
       "Уборщик                           0.010409\n",
       "Бухгалтер                         0.009715\n",
       "Name: pos_name, dtype: Float64"
      ]
     },
     "execution_count": 6,
     "metadata": {},
     "output_type": "execute_result"
    }
   ],
   "source": [
    "empl['pos_name'].value_counts(normalize=True)"
   ]
  },
  {
   "cell_type": "markdown",
   "id": "01c184da",
   "metadata": {},
   "source": [
    "#### По умолчанию пропуски не считаются, но это можно изменить"
   ]
  },
  {
   "cell_type": "code",
   "execution_count": 7,
   "id": "fd0310fe",
   "metadata": {},
   "outputs": [
    {
     "data": {
      "text/plain": [
       "<NA>    69\n",
       "72      54\n",
       "132     48\n",
       "182     47\n",
       "82      46\n",
       "        ..\n",
       "81       3\n",
       "101      3\n",
       "161      3\n",
       "171      2\n",
       "221      2\n",
       "Name: closest_boss_pos_id, Length: 69, dtype: Int64"
      ]
     },
     "execution_count": 7,
     "metadata": {},
     "output_type": "execute_result"
    }
   ],
   "source": [
    "empl['closest_boss_pos_id'].value_counts(dropna=False)"
   ]
  },
  {
   "cell_type": "markdown",
   "id": "f092d654",
   "metadata": {},
   "source": [
    "#### Значения можно отсортировать по возрастанию"
   ]
  },
  {
   "cell_type": "code",
   "execution_count": 8,
   "id": "28544231",
   "metadata": {},
   "outputs": [
    {
     "data": {
      "text/plain": [
       "221     2\n",
       "171     2\n",
       "211     3\n",
       "201     3\n",
       "161     3\n",
       "       ..\n",
       "232    45\n",
       "82     46\n",
       "182    47\n",
       "132    48\n",
       "72     54\n",
       "Name: closest_boss_pos_id, Length: 68, dtype: Int64"
      ]
     },
     "execution_count": 8,
     "metadata": {},
     "output_type": "execute_result"
    }
   ],
   "source": [
    "empl['closest_boss_pos_id'].value_counts(ascending=True)"
   ]
  },
  {
   "cell_type": "code",
   "execution_count": null,
   "id": "a6fa96d6",
   "metadata": {},
   "outputs": [],
   "source": []
  },
  {
   "cell_type": "code",
   "execution_count": null,
   "id": "fcf501c7",
   "metadata": {},
   "outputs": [],
   "source": []
  },
  {
   "cell_type": "markdown",
   "id": "4d60c6e8",
   "metadata": {},
   "source": [
    "#### С помощью метода удобно строить распределения"
   ]
  },
  {
   "cell_type": "code",
   "execution_count": 9,
   "id": "2ce3539a",
   "metadata": {},
   "outputs": [
    {
     "data": {
      "text/plain": [
       "<Axes: >"
      ]
     },
     "execution_count": 9,
     "metadata": {},
     "output_type": "execute_result"
    },
    {
     "data": {
      "image/png": "[encoded data removed]",
      "text/plain": [
       "<Figure size 640x480 with 1 Axes>"
      ]
     },
     "metadata": {},
     "output_type": "display_data"
    }
   ],
   "source": [
    "empl['pos_name'].value_counts().plot(kind='bar')"
   ]
  },
  {
   "cell_type": "code",
   "execution_count": 10,
   "id": "765101e7",
   "metadata": {},
   "outputs": [
    {
     "data": {
      "text/plain": [
       "<Axes: >"
      ]
     },
     "execution_count": 10,
     "metadata": {},
     "output_type": "execute_result"
    },
    {
     "data": {
      "image/png": "[encoded data removed]",
      "text/plain": [
       "<Figure size 640x480 with 1 Axes>"
      ]
     },
     "metadata": {},
     "output_type": "display_data"
    }
   ],
   "source": [
    "empl['pos_name'].value_counts(ascending=True).plot(kind='barh')"
   ]
  },
  {
   "cell_type": "code",
   "execution_count": null,
   "id": "90ae265d",
   "metadata": {},
   "outputs": [],
   "source": []
  },
  {
   "cell_type": "code",
   "execution_count": null,
   "id": "a4106241",
   "metadata": {},
   "outputs": [],
   "source": []
  },
  {
   "cell_type": "code",
   "execution_count": null,
   "id": "7e23654d",
   "metadata": {},
   "outputs": [],
   "source": []
  },
  {
   "cell_type": "code",
   "execution_count": null,
   "id": "7d088acf",
   "metadata": {},
   "outputs": [],
   "source": []
  },
  {
   "cell_type": "markdown",
   "id": "770f2cfd",
   "metadata": {},
   "source": [
    "## unique\n",
    "Метод выводит уникальные значения в колонке"
   ]
  },
  {
   "cell_type": "code",
   "execution_count": 11,
   "id": "164eb250",
   "metadata": {},
   "outputs": [
    {
     "data": {
      "text/plain": [
       "<StringArray>\n",
       "[             'Директор магазина',                 'Старший кассир',\n",
       "                         'Кассир',           'Продавец-консультант',\n",
       " 'Заместитель директора магазина',                      'Бухгалтер',\n",
       "                      'Товаровед',       'Мастер по ремонту одежды',\n",
       "                        'Уборщик']\n",
       "Length: 9, dtype: string"
      ]
     },
     "execution_count": 11,
     "metadata": {},
     "output_type": "execute_result"
    }
   ],
   "source": [
    "empl['pos_name'].unique()"
   ]
  },
  {
   "cell_type": "markdown",
   "id": "66832e7d",
   "metadata": {},
   "source": [
    "#### Если после метода unique вызвать метод tolist, то даты приведутся к целым числам"
   ]
  },
  {
   "cell_type": "code",
   "execution_count": 12,
   "id": "627e4530",
   "metadata": {},
   "outputs": [
    {
     "data": {
      "text/plain": [
       "array(['2022-10-31T00:00:00.000000000', '2022-11-30T00:00:00.000000000',\n",
       "       '2022-12-31T00:00:00.000000000'], dtype='datetime64[ns]')"
      ]
     },
     "execution_count": 12,
     "metadata": {},
     "output_type": "execute_result"
    }
   ],
   "source": [
    "empl['report_dt'].unique()"
   ]
  },
  {
   "cell_type": "code",
   "execution_count": 13,
   "id": "52c0bb74",
   "metadata": {},
   "outputs": [
    {
     "data": {
      "text/plain": [
       "[1667174400000000000, 1669766400000000000, 1672444800000000000]"
      ]
     },
     "execution_count": 13,
     "metadata": {},
     "output_type": "execute_result"
    }
   ],
   "source": [
    "empl['report_dt'].unique().tolist()"
   ]
  },
  {
   "cell_type": "code",
   "execution_count": 14,
   "id": "6bac9305",
   "metadata": {},
   "outputs": [
    {
     "data": {
      "text/plain": [
       "[numpy.datetime64('2022-10-31T00:00:00.000000000'),\n",
       " numpy.datetime64('2022-11-30T00:00:00.000000000'),\n",
       " numpy.datetime64('2022-12-31T00:00:00.000000000')]"
      ]
     },
     "execution_count": 14,
     "metadata": {},
     "output_type": "execute_result"
    }
   ],
   "source": [
    "list(empl['report_dt'].unique())"
   ]
  },
  {
   "cell_type": "code",
   "execution_count": null,
   "id": "9e024033",
   "metadata": {},
   "outputs": [],
   "source": []
  },
  {
   "cell_type": "code",
   "execution_count": null,
   "id": "de3f81e0",
   "metadata": {},
   "outputs": [],
   "source": []
  },
  {
   "cell_type": "markdown",
   "id": "5edc725e",
   "metadata": {},
   "source": [
    "## nunique\n",
    "Метод выводит количество уникальных значений в столбце"
   ]
  },
  {
   "cell_type": "code",
   "execution_count": 15,
   "id": "b8ff2979",
   "metadata": {},
   "outputs": [
    {
     "data": {
      "text/plain": [
       "3"
      ]
     },
     "execution_count": 15,
     "metadata": {},
     "output_type": "execute_result"
    }
   ],
   "source": [
    "empl['report_dt'].nunique()"
   ]
  },
  {
   "cell_type": "code",
   "execution_count": 16,
   "id": "c4ef5ee0",
   "metadata": {},
   "outputs": [
    {
     "data": {
      "text/plain": [
       "report_dt                3\n",
       "i_pernr                508\n",
       "fio                    508\n",
       "sex                      2\n",
       "shop_id                 23\n",
       "pos_name                 9\n",
       "pos_id                 476\n",
       "closest_boss_pos_id     68\n",
       "mgmt_flag                2\n",
       "salary_fork              3\n",
       "birth_date             494\n",
       "education                4\n",
       "employee_evaluation      8\n",
       "salary                 121\n",
       "dtype: int64"
      ]
     },
     "execution_count": 16,
     "metadata": {},
     "output_type": "execute_result"
    }
   ],
   "source": [
    "empl.nunique()"
   ]
  },
  {
   "cell_type": "code",
   "execution_count": null,
   "id": "79b81f00",
   "metadata": {},
   "outputs": [],
   "source": []
  },
  {
   "cell_type": "code",
   "execution_count": null,
   "id": "20475e8a",
   "metadata": {},
   "outputs": [],
   "source": []
  },
  {
   "cell_type": "code",
   "execution_count": null,
   "id": "dee25fe8",
   "metadata": {},
   "outputs": [],
   "source": []
  },
  {
   "cell_type": "markdown",
   "id": "0908825c",
   "metadata": {},
   "source": [
    "## duplicated\n",
    "Метод проверяет встречалось ли такое же значение в колонке"
   ]
  },
  {
   "cell_type": "code",
   "execution_count": 17,
   "id": "8d68421e",
   "metadata": {},
   "outputs": [
    {
     "data": {
      "text/plain": [
       "27931    False\n",
       "27932    False\n",
       "27933    False\n",
       "27934     True\n",
       "27935     True\n",
       "         ...  \n",
       "29367     True\n",
       "29368     True\n",
       "29369     True\n",
       "29370     True\n",
       "29371     True\n",
       "Name: pos_name, Length: 1441, dtype: bool"
      ]
     },
     "execution_count": 17,
     "metadata": {},
     "output_type": "execute_result"
    }
   ],
   "source": [
    "empl['pos_name'].duplicated()"
   ]
  },
  {
   "cell_type": "markdown",
   "id": "29c0ab4c",
   "metadata": {},
   "source": [
    "Параметр keep принимает 3 значения:\n",
    "1. False - Помечает как True все повторяющиеся значения\n",
    "2. 'first' - Первое повторяющееся значение помечается как False, остальные как True (значение по умолчанию)\n",
    "3. 'last' - Последнее повторяющееся значение помечается как False, остальные как True"
   ]
  },
  {
   "cell_type": "code",
   "execution_count": 18,
   "id": "515eb2b5",
   "metadata": {},
   "outputs": [
    {
     "data": {
      "text/plain": [
       "27931    True\n",
       "27932    True\n",
       "27933    True\n",
       "27934    True\n",
       "27935    True\n",
       "         ... \n",
       "29367    True\n",
       "29368    True\n",
       "29369    True\n",
       "29370    True\n",
       "29371    True\n",
       "Name: pos_name, Length: 1441, dtype: bool"
      ]
     },
     "execution_count": 18,
     "metadata": {},
     "output_type": "execute_result"
    }
   ],
   "source": [
    "empl['pos_name'].duplicated(keep=False)"
   ]
  },
  {
   "cell_type": "code",
   "execution_count": null,
   "id": "c98ec7bd",
   "metadata": {},
   "outputs": [],
   "source": []
  },
  {
   "cell_type": "code",
   "execution_count": null,
   "id": "5894025d",
   "metadata": {},
   "outputs": [],
   "source": []
  },
  {
   "cell_type": "code",
   "execution_count": null,
   "id": "f1bcc2cf",
   "metadata": {},
   "outputs": [],
   "source": []
  },
  {
   "cell_type": "markdown",
   "id": "fc66c397",
   "metadata": {},
   "source": [
    "## drop_duplicates\n",
    "\n",
    "Удаляет повторяющиеся значения"
   ]
  },
  {
   "cell_type": "code",
   "execution_count": 19,
   "id": "459757e3",
   "metadata": {},
   "outputs": [
    {
     "data": {
      "text/plain": [
       "27931                 Директор магазина\n",
       "27932                    Старший кассир\n",
       "27933                            Кассир\n",
       "27937              Продавец-консультант\n",
       "27944    Заместитель директора магазина\n",
       "27946                         Бухгалтер\n",
       "27965                         Товаровед\n",
       "27967          Мастер по ремонту одежды\n",
       "27968                           Уборщик\n",
       "Name: pos_name, dtype: string"
      ]
     },
     "execution_count": 19,
     "metadata": {},
     "output_type": "execute_result"
    }
   ],
   "source": [
    "empl['pos_name'].drop_duplicates()"
   ]
  },
  {
   "cell_type": "markdown",
   "id": "50e61ac5",
   "metadata": {},
   "source": [
    "#### В метод можно передать название колонки или список из названий колонок, по которым удалять повторяющиеся наблюдения"
   ]
  },
  {
   "cell_type": "code",
   "execution_count": 20,
   "id": "b3cf5f94",
   "metadata": {},
   "outputs": [
    {
     "data": {
      "text/html": [
       "<div>\n",
       "<style scoped>\n",
       "    .dataframe tbody tr th:only-of-type {\n",
       "        vertical-align: middle;\n",
       "    }\n",
       "\n",
       "    .dataframe tbody tr th {\n",
       "        vertical-align: top;\n",
       "    }\n",
       "\n",
       "    .dataframe thead th {\n",
       "        text-align: right;\n",
       "    }\n",
       "</style>\n",
       "<table border=\"1\" class=\"dataframe\">\n",
       "  <thead>\n",
       "    <tr style=\"text-align: right;\">\n",
       "      <th></th>\n",
       "      <th>report_dt</th>\n",
       "      <th>i_pernr</th>\n",
       "      <th>fio</th>\n",
       "      <th>sex</th>\n",
       "      <th>shop_id</th>\n",
       "      <th>pos_name</th>\n",
       "      <th>pos_id</th>\n",
       "      <th>closest_boss_pos_id</th>\n",
       "      <th>mgmt_flag</th>\n",
       "      <th>salary_fork</th>\n",
       "      <th>birth_date</th>\n",
       "      <th>education</th>\n",
       "      <th>employee_evaluation</th>\n",
       "      <th>salary</th>\n",
       "    </tr>\n",
       "  </thead>\n",
       "  <tbody>\n",
       "    <tr>\n",
       "      <th>27931</th>\n",
       "      <td>2022-10-31</td>\n",
       "      <td>100213</td>\n",
       "      <td>Васильева Дарья Тимуровна</td>\n",
       "      <td>женский</td>\n",
       "      <td>1</td>\n",
       "      <td>Директор магазина</td>\n",
       "      <td>11</td>\n",
       "      <td>&lt;NA&gt;</td>\n",
       "      <td>1</td>\n",
       "      <td>0</td>\n",
       "      <td>1994-02-16</td>\n",
       "      <td>среднее профессиональное</td>\n",
       "      <td>4</td>\n",
       "      <td>76600.0</td>\n",
       "    </tr>\n",
       "    <tr>\n",
       "      <th>27932</th>\n",
       "      <td>2022-10-31</td>\n",
       "      <td>36</td>\n",
       "      <td>Балашов Петр Максимович</td>\n",
       "      <td>мужской</td>\n",
       "      <td>1</td>\n",
       "      <td>Старший кассир</td>\n",
       "      <td>12</td>\n",
       "      <td>11</td>\n",
       "      <td>0</td>\n",
       "      <td>2</td>\n",
       "      <td>1980-09-16</td>\n",
       "      <td>высшее</td>\n",
       "      <td>7</td>\n",
       "      <td>42700.0</td>\n",
       "    </tr>\n",
       "    <tr>\n",
       "      <th>27933</th>\n",
       "      <td>2022-10-31</td>\n",
       "      <td>712</td>\n",
       "      <td>Филимонов Дмитрий Васильевич</td>\n",
       "      <td>мужской</td>\n",
       "      <td>1</td>\n",
       "      <td>Кассир</td>\n",
       "      <td>13</td>\n",
       "      <td>12</td>\n",
       "      <td>0</td>\n",
       "      <td>0</td>\n",
       "      <td>1974-12-12</td>\n",
       "      <td>основное общее</td>\n",
       "      <td>4</td>\n",
       "      <td>20900.0</td>\n",
       "    </tr>\n",
       "    <tr>\n",
       "      <th>27934</th>\n",
       "      <td>2022-10-31</td>\n",
       "      <td>1850</td>\n",
       "      <td>Демьянова Юлия Ярославовна</td>\n",
       "      <td>женский</td>\n",
       "      <td>1</td>\n",
       "      <td>Кассир</td>\n",
       "      <td>14</td>\n",
       "      <td>12</td>\n",
       "      <td>0</td>\n",
       "      <td>0</td>\n",
       "      <td>1980-08-15</td>\n",
       "      <td>среднее профессиональное</td>\n",
       "      <td>5</td>\n",
       "      <td>21200.0</td>\n",
       "    </tr>\n",
       "    <tr>\n",
       "      <th>27935</th>\n",
       "      <td>2022-10-31</td>\n",
       "      <td>1617</td>\n",
       "      <td>Головина Кристина Захаровна</td>\n",
       "      <td>женский</td>\n",
       "      <td>1</td>\n",
       "      <td>Кассир</td>\n",
       "      <td>15</td>\n",
       "      <td>12</td>\n",
       "      <td>0</td>\n",
       "      <td>2</td>\n",
       "      <td>1974-04-30</td>\n",
       "      <td>среднее общее</td>\n",
       "      <td>8</td>\n",
       "      <td>29000.0</td>\n",
       "    </tr>\n",
       "  </tbody>\n",
       "</table>\n",
       "</div>"
      ],
      "text/plain": [
       "       report_dt  i_pernr                           fio      sex  shop_id  \\\n",
       "27931 2022-10-31   100213     Васильева Дарья Тимуровна  женский        1   \n",
       "27932 2022-10-31       36       Балашов Петр Максимович  мужской        1   \n",
       "27933 2022-10-31      712  Филимонов Дмитрий Васильевич  мужской        1   \n",
       "27934 2022-10-31     1850    Демьянова Юлия Ярославовна  женский        1   \n",
       "27935 2022-10-31     1617   Головина Кристина Захаровна  женский        1   \n",
       "\n",
       "                pos_name  pos_id  closest_boss_pos_id  mgmt_flag  salary_fork  \\\n",
       "27931  Директор магазина      11                 <NA>          1            0   \n",
       "27932     Старший кассир      12                   11          0            2   \n",
       "27933             Кассир      13                   12          0            0   \n",
       "27934             Кассир      14                   12          0            0   \n",
       "27935             Кассир      15                   12          0            2   \n",
       "\n",
       "      birth_date                 education  employee_evaluation   salary  \n",
       "27931 1994-02-16  среднее профессиональное                    4  76600.0  \n",
       "27932 1980-09-16                    высшее                    7  42700.0  \n",
       "27933 1974-12-12            основное общее                    4  20900.0  \n",
       "27934 1980-08-15  среднее профессиональное                    5  21200.0  \n",
       "27935 1974-04-30             среднее общее                    8  29000.0  "
      ]
     },
     "execution_count": 20,
     "metadata": {},
     "output_type": "execute_result"
    }
   ],
   "source": [
    "empl.drop_duplicates('fio').head()"
   ]
  },
  {
   "cell_type": "code",
   "execution_count": 21,
   "id": "6951b705",
   "metadata": {},
   "outputs": [
    {
     "data": {
      "text/html": [
       "<div>\n",
       "<style scoped>\n",
       "    .dataframe tbody tr th:only-of-type {\n",
       "        vertical-align: middle;\n",
       "    }\n",
       "\n",
       "    .dataframe tbody tr th {\n",
       "        vertical-align: top;\n",
       "    }\n",
       "\n",
       "    .dataframe thead th {\n",
       "        text-align: right;\n",
       "    }\n",
       "</style>\n",
       "<table border=\"1\" class=\"dataframe\">\n",
       "  <thead>\n",
       "    <tr style=\"text-align: right;\">\n",
       "      <th></th>\n",
       "      <th>report_dt</th>\n",
       "      <th>i_pernr</th>\n",
       "      <th>fio</th>\n",
       "      <th>sex</th>\n",
       "      <th>shop_id</th>\n",
       "      <th>pos_name</th>\n",
       "      <th>pos_id</th>\n",
       "      <th>closest_boss_pos_id</th>\n",
       "      <th>mgmt_flag</th>\n",
       "      <th>salary_fork</th>\n",
       "      <th>birth_date</th>\n",
       "      <th>education</th>\n",
       "      <th>employee_evaluation</th>\n",
       "      <th>salary</th>\n",
       "    </tr>\n",
       "  </thead>\n",
       "  <tbody>\n",
       "    <tr>\n",
       "      <th>27931</th>\n",
       "      <td>2022-10-31</td>\n",
       "      <td>100213</td>\n",
       "      <td>Васильева Дарья Тимуровна</td>\n",
       "      <td>женский</td>\n",
       "      <td>1</td>\n",
       "      <td>Директор магазина</td>\n",
       "      <td>11</td>\n",
       "      <td>&lt;NA&gt;</td>\n",
       "      <td>1</td>\n",
       "      <td>0</td>\n",
       "      <td>1994-02-16</td>\n",
       "      <td>среднее профессиональное</td>\n",
       "      <td>4</td>\n",
       "      <td>76600.0</td>\n",
       "    </tr>\n",
       "    <tr>\n",
       "      <th>27932</th>\n",
       "      <td>2022-10-31</td>\n",
       "      <td>36</td>\n",
       "      <td>Балашов Петр Максимович</td>\n",
       "      <td>мужской</td>\n",
       "      <td>1</td>\n",
       "      <td>Старший кассир</td>\n",
       "      <td>12</td>\n",
       "      <td>11</td>\n",
       "      <td>0</td>\n",
       "      <td>2</td>\n",
       "      <td>1980-09-16</td>\n",
       "      <td>высшее</td>\n",
       "      <td>7</td>\n",
       "      <td>42700.0</td>\n",
       "    </tr>\n",
       "    <tr>\n",
       "      <th>27933</th>\n",
       "      <td>2022-10-31</td>\n",
       "      <td>712</td>\n",
       "      <td>Филимонов Дмитрий Васильевич</td>\n",
       "      <td>мужской</td>\n",
       "      <td>1</td>\n",
       "      <td>Кассир</td>\n",
       "      <td>13</td>\n",
       "      <td>12</td>\n",
       "      <td>0</td>\n",
       "      <td>0</td>\n",
       "      <td>1974-12-12</td>\n",
       "      <td>основное общее</td>\n",
       "      <td>4</td>\n",
       "      <td>20900.0</td>\n",
       "    </tr>\n",
       "    <tr>\n",
       "      <th>27934</th>\n",
       "      <td>2022-10-31</td>\n",
       "      <td>1850</td>\n",
       "      <td>Демьянова Юлия Ярославовна</td>\n",
       "      <td>женский</td>\n",
       "      <td>1</td>\n",
       "      <td>Кассир</td>\n",
       "      <td>14</td>\n",
       "      <td>12</td>\n",
       "      <td>0</td>\n",
       "      <td>0</td>\n",
       "      <td>1980-08-15</td>\n",
       "      <td>среднее профессиональное</td>\n",
       "      <td>5</td>\n",
       "      <td>21200.0</td>\n",
       "    </tr>\n",
       "    <tr>\n",
       "      <th>27935</th>\n",
       "      <td>2022-10-31</td>\n",
       "      <td>1617</td>\n",
       "      <td>Головина Кристина Захаровна</td>\n",
       "      <td>женский</td>\n",
       "      <td>1</td>\n",
       "      <td>Кассир</td>\n",
       "      <td>15</td>\n",
       "      <td>12</td>\n",
       "      <td>0</td>\n",
       "      <td>2</td>\n",
       "      <td>1974-04-30</td>\n",
       "      <td>среднее общее</td>\n",
       "      <td>8</td>\n",
       "      <td>29000.0</td>\n",
       "    </tr>\n",
       "  </tbody>\n",
       "</table>\n",
       "</div>"
      ],
      "text/plain": [
       "       report_dt  i_pernr                           fio      sex  shop_id  \\\n",
       "27931 2022-10-31   100213     Васильева Дарья Тимуровна  женский        1   \n",
       "27932 2022-10-31       36       Балашов Петр Максимович  мужской        1   \n",
       "27933 2022-10-31      712  Филимонов Дмитрий Васильевич  мужской        1   \n",
       "27934 2022-10-31     1850    Демьянова Юлия Ярославовна  женский        1   \n",
       "27935 2022-10-31     1617   Головина Кристина Захаровна  женский        1   \n",
       "\n",
       "                pos_name  pos_id  closest_boss_pos_id  mgmt_flag  salary_fork  \\\n",
       "27931  Директор магазина      11                 <NA>          1            0   \n",
       "27932     Старший кассир      12                   11          0            2   \n",
       "27933             Кассир      13                   12          0            0   \n",
       "27934             Кассир      14                   12          0            0   \n",
       "27935             Кассир      15                   12          0            2   \n",
       "\n",
       "      birth_date                 education  employee_evaluation   salary  \n",
       "27931 1994-02-16  среднее профессиональное                    4  76600.0  \n",
       "27932 1980-09-16                    высшее                    7  42700.0  \n",
       "27933 1974-12-12            основное общее                    4  20900.0  \n",
       "27934 1980-08-15  среднее профессиональное                    5  21200.0  \n",
       "27935 1974-04-30             среднее общее                    8  29000.0  "
      ]
     },
     "execution_count": 21,
     "metadata": {},
     "output_type": "execute_result"
    }
   ],
   "source": [
    "empl.drop_duplicates(['i_pernr', 'pos_name']).head()"
   ]
  },
  {
   "cell_type": "markdown",
   "id": "1801ef78",
   "metadata": {},
   "source": [
    "Параметр keep принимает 3 значения:\n",
    "1. False - Все дубликаты удаляются\n",
    "2. 'first' - Первое повторяющееся значение остается, а остальные удаляются (значение по умолчанию)\n",
    "3. 'last' - Последнее повторяющееся значение остается, а остальные удаляются"
   ]
  },
  {
   "cell_type": "code",
   "execution_count": 22,
   "id": "50cfee60",
   "metadata": {},
   "outputs": [
    {
     "data": {
      "text/html": [
       "<div>\n",
       "<style scoped>\n",
       "    .dataframe tbody tr th:only-of-type {\n",
       "        vertical-align: middle;\n",
       "    }\n",
       "\n",
       "    .dataframe tbody tr th {\n",
       "        vertical-align: top;\n",
       "    }\n",
       "\n",
       "    .dataframe thead th {\n",
       "        text-align: right;\n",
       "    }\n",
       "</style>\n",
       "<table border=\"1\" class=\"dataframe\">\n",
       "  <thead>\n",
       "    <tr style=\"text-align: right;\">\n",
       "      <th></th>\n",
       "      <th>report_dt</th>\n",
       "      <th>i_pernr</th>\n",
       "      <th>fio</th>\n",
       "      <th>sex</th>\n",
       "      <th>shop_id</th>\n",
       "      <th>pos_name</th>\n",
       "      <th>pos_id</th>\n",
       "      <th>closest_boss_pos_id</th>\n",
       "      <th>mgmt_flag</th>\n",
       "      <th>salary_fork</th>\n",
       "      <th>birth_date</th>\n",
       "      <th>education</th>\n",
       "      <th>employee_evaluation</th>\n",
       "      <th>salary</th>\n",
       "    </tr>\n",
       "  </thead>\n",
       "  <tbody>\n",
       "    <tr>\n",
       "      <th>27946</th>\n",
       "      <td>2022-10-31</td>\n",
       "      <td>100190</td>\n",
       "      <td>Герасимов Федор Семенович</td>\n",
       "      <td>мужской</td>\n",
       "      <td>2</td>\n",
       "      <td>Бухгалтер</td>\n",
       "      <td>24</td>\n",
       "      <td>23</td>\n",
       "      <td>1</td>\n",
       "      <td>0</td>\n",
       "      <td>1983-10-31</td>\n",
       "      <td>среднее общее</td>\n",
       "      <td>5</td>\n",
       "      <td>50600.0</td>\n",
       "    </tr>\n",
       "    <tr>\n",
       "      <th>28080</th>\n",
       "      <td>2022-10-31</td>\n",
       "      <td>1790</td>\n",
       "      <td>Потапова Валерия Даниловна</td>\n",
       "      <td>женский</td>\n",
       "      <td>8</td>\n",
       "      <td>Продавец-консультант</td>\n",
       "      <td>812</td>\n",
       "      <td>82</td>\n",
       "      <td>0</td>\n",
       "      <td>0</td>\n",
       "      <td>1999-08-12</td>\n",
       "      <td>среднее общее</td>\n",
       "      <td>5</td>\n",
       "      <td>25800.0</td>\n",
       "    </tr>\n",
       "    <tr>\n",
       "      <th>28130</th>\n",
       "      <td>2022-10-31</td>\n",
       "      <td>1381</td>\n",
       "      <td>Егоров Дмитрий Анатольевич</td>\n",
       "      <td>мужской</td>\n",
       "      <td>10</td>\n",
       "      <td>Продавец-консультант</td>\n",
       "      <td>1015</td>\n",
       "      <td>102</td>\n",
       "      <td>0</td>\n",
       "      <td>2</td>\n",
       "      <td>1975-10-12</td>\n",
       "      <td>среднее общее</td>\n",
       "      <td>7</td>\n",
       "      <td>38000.0</td>\n",
       "    </tr>\n",
       "    <tr>\n",
       "      <th>28148</th>\n",
       "      <td>2022-10-31</td>\n",
       "      <td>1385</td>\n",
       "      <td>Воронова Ксения Руслановна</td>\n",
       "      <td>женский</td>\n",
       "      <td>11</td>\n",
       "      <td>Продавец-консультант</td>\n",
       "      <td>1111</td>\n",
       "      <td>112</td>\n",
       "      <td>0</td>\n",
       "      <td>2</td>\n",
       "      <td>1963-05-11</td>\n",
       "      <td>среднее профессиональное</td>\n",
       "      <td>4</td>\n",
       "      <td>38000.0</td>\n",
       "    </tr>\n",
       "    <tr>\n",
       "      <th>28160</th>\n",
       "      <td>2022-10-31</td>\n",
       "      <td>1412</td>\n",
       "      <td>Зотов Леонид Александрович</td>\n",
       "      <td>мужской</td>\n",
       "      <td>11</td>\n",
       "      <td>Продавец-консультант</td>\n",
       "      <td>1123</td>\n",
       "      <td>112</td>\n",
       "      <td>0</td>\n",
       "      <td>2</td>\n",
       "      <td>1976-10-31</td>\n",
       "      <td>среднее профессиональное</td>\n",
       "      <td>6</td>\n",
       "      <td>38000.0</td>\n",
       "    </tr>\n",
       "  </tbody>\n",
       "</table>\n",
       "</div>"
      ],
      "text/plain": [
       "       report_dt  i_pernr                         fio      sex  shop_id  \\\n",
       "27946 2022-10-31   100190   Герасимов Федор Семенович  мужской        2   \n",
       "28080 2022-10-31     1790  Потапова Валерия Даниловна  женский        8   \n",
       "28130 2022-10-31     1381  Егоров Дмитрий Анатольевич  мужской       10   \n",
       "28148 2022-10-31     1385  Воронова Ксения Руслановна  женский       11   \n",
       "28160 2022-10-31     1412  Зотов Леонид Александрович  мужской       11   \n",
       "\n",
       "                   pos_name  pos_id  closest_boss_pos_id  mgmt_flag  \\\n",
       "27946             Бухгалтер      24                   23          1   \n",
       "28080  Продавец-консультант     812                   82          0   \n",
       "28130  Продавец-консультант    1015                  102          0   \n",
       "28148  Продавец-консультант    1111                  112          0   \n",
       "28160  Продавец-консультант    1123                  112          0   \n",
       "\n",
       "       salary_fork birth_date                 education  employee_evaluation  \\\n",
       "27946            0 1983-10-31             среднее общее                    5   \n",
       "28080            0 1999-08-12             среднее общее                    5   \n",
       "28130            2 1975-10-12             среднее общее                    7   \n",
       "28148            2 1963-05-11  среднее профессиональное                    4   \n",
       "28160            2 1976-10-31  среднее профессиональное                    6   \n",
       "\n",
       "        salary  \n",
       "27946  50600.0  \n",
       "28080  25800.0  \n",
       "28130  38000.0  \n",
       "28148  38000.0  \n",
       "28160  38000.0  "
      ]
     },
     "execution_count": 22,
     "metadata": {},
     "output_type": "execute_result"
    }
   ],
   "source": [
    "empl.drop_duplicates(['i_pernr', 'pos_name'], keep='last').head()"
   ]
  },
  {
   "cell_type": "code",
   "execution_count": null,
   "id": "a65858b2",
   "metadata": {},
   "outputs": [],
   "source": []
  },
  {
   "cell_type": "code",
   "execution_count": null,
   "id": "23d49145",
   "metadata": {},
   "outputs": [],
   "source": []
  },
  {
   "cell_type": "code",
   "execution_count": null,
   "id": "1edc52b6",
   "metadata": {},
   "outputs": [],
   "source": []
  },
  {
   "cell_type": "code",
   "execution_count": null,
   "id": "c74e8ebf",
   "metadata": {},
   "outputs": [],
   "source": []
  },
  {
   "cell_type": "code",
   "execution_count": null,
   "id": "89b0257b",
   "metadata": {},
   "outputs": [],
   "source": []
  },
  {
   "cell_type": "code",
   "execution_count": null,
   "id": "d5983151",
   "metadata": {},
   "outputs": [],
   "source": []
  },
  {
   "cell_type": "code",
   "execution_count": null,
   "id": "8b4bb8d8",
   "metadata": {},
   "outputs": [],
   "source": []
  },
  {
   "cell_type": "code",
   "execution_count": null,
   "id": "c41726ea",
   "metadata": {},
   "outputs": [],
   "source": []
  },
  {
   "cell_type": "code",
   "execution_count": null,
   "id": "bd0311f4",
   "metadata": {},
   "outputs": [],
   "source": []
  },
  {
   "cell_type": "code",
   "execution_count": null,
   "id": "8cdb02db",
   "metadata": {},
   "outputs": [],
   "source": []
  },
  {
   "cell_type": "markdown",
   "id": "a0d36a7c",
   "metadata": {},
   "source": [
    "# Задания"
   ]
  },
  {
   "cell_type": "markdown",
   "id": "778f11e1",
   "metadata": {},
   "source": [
    "#### Описание таблиц лежит [здесь](https://github.com/victorlymarev/pandas/tree/main/tables)"
   ]
  },
  {
   "cell_type": "markdown",
   "id": "fd6a0283",
   "metadata": {},
   "source": [
    "Некоторые таблицы занимают много памяти, поэтому каждые 5-10 заданий лучше перезапускайте ноутбук.\n",
    "\n",
    "Если вы будете работать с этим ноутбуком в google colab и у вас что-то не будет работать, то раскоментируйте ячейку ниже (для этого выделите содержимое ячейки и нажмите на клавиши ctrl / (если смотреть по английской раскладке или ctrl . для русской), либо просто руками уберите # и пробел после нее в каждой строчке) и запустите ее."
   ]
  },
  {
   "cell_type": "code",
   "execution_count": null,
   "id": "d5ed69d9",
   "metadata": {},
   "outputs": [],
   "source": [
    "# import os\n",
    "# os._exit(00)\n",
    "# !pip install pyarrow pandas==1.5.3"
   ]
  },
  {
   "cell_type": "markdown",
   "id": "492bbf24",
   "metadata": {},
   "source": [
    "### Задание 1\n",
    "\n",
    "Посмотрите на самые часты бренды (поле brand)"
   ]
  },
  {
   "cell_type": "code",
   "execution_count": null,
   "id": "6306e260",
   "metadata": {},
   "outputs": [],
   "source": [
    "import os\n",
    "import pandas as pd\n",
    "\n",
    "path_goods_descr = '../tables/goods_description.parquet' if os.path.exists('../tables/goods_description.parquet') else 'https://drive.google.com/uc?id=1YbiD02Rev-X_WWV9nPSG1zZFmEh2JjPh'\n",
    "\n",
    "goods_descr = pd.read_parquet(path_goods_descr)\n",
    "goods_descr.head()"
   ]
  },
  {
   "cell_type": "code",
   "execution_count": null,
   "id": "db9c345d",
   "metadata": {},
   "outputs": [],
   "source": [
    "# напишите свой код здесь"
   ]
  },
  {
   "cell_type": "markdown",
   "id": "e04209b5",
   "metadata": {},
   "source": [
    "### Задание 2\n",
    "\n",
    "Посмотрите сколько в таблице уникальных категорий товаров (поле product_type)"
   ]
  },
  {
   "cell_type": "code",
   "execution_count": null,
   "id": "c7d97585",
   "metadata": {},
   "outputs": [],
   "source": [
    "import os\n",
    "import pandas as pd\n",
    "\n",
    "path_goods_descr = '../tables/goods_description.parquet' if os.path.exists('../tables/goods_description.parquet') else 'https://drive.google.com/uc?id=1YbiD02Rev-X_WWV9nPSG1zZFmEh2JjPh'\n",
    "\n",
    "goods_descr = pd.read_parquet(path_goods_descr)\n",
    "goods_descr.head()"
   ]
  },
  {
   "cell_type": "code",
   "execution_count": null,
   "id": "fc58e348",
   "metadata": {},
   "outputs": [],
   "source": [
    "# напишите свой код здесь"
   ]
  },
  {
   "cell_type": "markdown",
   "id": "f2d389f0",
   "metadata": {},
   "source": [
    "### Задание 3\n",
    "\n",
    "Посчитайте количество уникальных значений в каждой колонке таблицы"
   ]
  },
  {
   "cell_type": "code",
   "execution_count": null,
   "id": "c137a3b1",
   "metadata": {},
   "outputs": [],
   "source": [
    "import os\n",
    "import pandas as pd\n",
    "\n",
    "path_empl = '../tables/employees.parquet' if os.path.exists('../tables/employees.parquet') else 'https://drive.google.com/uc?id=1AARD5-eVlCxoApt5CYZebrC3Cqw42lvj'\n",
    "\n",
    "empl = pd.read_parquet(path_empl)\n",
    "empl.head()"
   ]
  },
  {
   "cell_type": "code",
   "execution_count": null,
   "id": "8a34f36b",
   "metadata": {},
   "outputs": [],
   "source": [
    "# напишите свой код здесь"
   ]
  },
  {
   "cell_type": "markdown",
   "id": "f384a186",
   "metadata": {},
   "source": [
    "### Задание 4\n",
    "\n",
    "Посчитайте, сколько в таблице товаров каждого цвета, не учитывая размер товаров. ДЛя этого сначала удалите дубликаты по полям colour и product_code_2"
   ]
  },
  {
   "cell_type": "code",
   "execution_count": null,
   "id": "97e2898f",
   "metadata": {},
   "outputs": [],
   "source": [
    "import os\n",
    "import pandas as pd\n",
    "\n",
    "path_goods_descr = '../tables/goods_description.parquet' if os.path.exists('../tables/goods_description.parquet') else 'https://drive.google.com/uc?id=1YbiD02Rev-X_WWV9nPSG1zZFmEh2JjPh'\n",
    "\n",
    "goods_descr = pd.read_parquet(path_goods_descr)\n",
    "goods_descr.head()"
   ]
  },
  {
   "cell_type": "code",
   "execution_count": null,
   "id": "1bf67203",
   "metadata": {},
   "outputs": [],
   "source": [
    "# напишите свой код здесь"
   ]
  },
  {
   "cell_type": "markdown",
   "id": "454f5b98",
   "metadata": {},
   "source": [
    "### Задание 5\n",
    "\n",
    "Для каждого чека посчитайте количество уникальных товаров в нем"
   ]
  },
  {
   "cell_type": "code",
   "execution_count": null,
   "id": "dc59f2b0",
   "metadata": {},
   "outputs": [],
   "source": [
    "# таблица sales - большая, и в некоторых случаях ваш компьютер может не справиться с ее обработкой\n",
    "# поэтому лучше работайте с частью этой таблицы\n",
    "# но если вы хотите попробовать поработать с полной версией таблицы,\n",
    "# можете заменить переменную path_sales_2022 на path_sales внутри функции read_parquet\n",
    "\n",
    "import os\n",
    "import pandas as pd\n",
    "\n",
    "path_sales_2022 = '../tables/sales_2022.parquet' if os.path.exists('../tables/sales_2022.parquet') else 'https://drive.google.com/uc?id=17e7FwXVdsWc2aziK9s5KidIvPcfKt9F5'\n",
    "# path_sales = '../tables/sales.parquet' if os.path.exists('../tables/sales.parquet') else \"https://drive.usercontent.google.com/download?id=15KwSxyM6hpNABGe6_vsrFZvD09VfHFyK&export=download&authuser=1&confirm=t&uuid=115bd48c-cc2c-4f2a-8b42-be5ca6ef6db8&at=APZUnTUVb8nfNANw5wr9Cad7PJ3U:1693327774694\"\n",
    "\n",
    "sales = pd.read_parquet(path_sales_2022)\n",
    "sales.head()"
   ]
  },
  {
   "cell_type": "code",
   "execution_count": null,
   "id": "31734f18",
   "metadata": {},
   "outputs": [],
   "source": [
    "# напишите свой код здесь"
   ]
  },
  {
   "cell_type": "markdown",
   "id": "f7d9ad31",
   "metadata": {},
   "source": [
    "### Задание 6\n",
    "\n",
    "На конец ноября 2021 года посчитайте долю мужчин и долю женщин среди сотрудников, занимающих руководящие позиции в магазине (mgmt == 1)"
   ]
  },
  {
   "cell_type": "code",
   "execution_count": null,
   "id": "a2f5f2c0",
   "metadata": {},
   "outputs": [],
   "source": [
    "import os\n",
    "import pandas as pd\n",
    "\n",
    "path_empl = '../tables/employees.parquet' if os.path.exists('../tables/employees.parquet') else 'https://drive.google.com/uc?id=1AARD5-eVlCxoApt5CYZebrC3Cqw42lvj'\n",
    "\n",
    "empl = pd.read_parquet(path_empl)\n",
    "empl.head()"
   ]
  },
  {
   "cell_type": "code",
   "execution_count": null,
   "id": "aae98692",
   "metadata": {},
   "outputs": [],
   "source": [
    "# напишите свой код здесь"
   ]
  },
  {
   "cell_type": "markdown",
   "id": "8ef18733",
   "metadata": {},
   "source": [
    "### Задание 7\n",
    "\n",
    "Найдите людей с одинаковым разным табельным номером, но одинаковым фио"
   ]
  },
  {
   "cell_type": "code",
   "execution_count": null,
   "id": "a8efc933",
   "metadata": {},
   "outputs": [],
   "source": [
    "import os\n",
    "import pandas as pd\n",
    "\n",
    "path_empl = '../tables/employees.parquet' if os.path.exists('../tables/employees.parquet') else 'https://drive.google.com/uc?id=1AARD5-eVlCxoApt5CYZebrC3Cqw42lvj'\n",
    "\n",
    "empl = pd.read_parquet(path_empl)\n",
    "empl.head()"
   ]
  },
  {
   "cell_type": "code",
   "execution_count": null,
   "id": "25745943",
   "metadata": {},
   "outputs": [],
   "source": [
    "# напишите свой код здесь"
   ]
  },
  {
   "cell_type": "markdown",
   "id": "37aca9f8",
   "metadata": {},
   "source": [
    "### Задание 8\n",
    "\n",
    "Задание на нампай\n",
    "\n",
    "В нампае для подсчета уникальных значений есть функция np.unique. В нее передается массив. Функция возвращает массив из уникальные значений. Если передать в парметр return_counts значение True, то вернется 2 массива. Первый массив будет содержать уникальные значения, а второй число повторений.\n",
    "\n",
    "Найдите сколько раз повторяется каждое значение в массиве."
   ]
  },
  {
   "cell_type": "code",
   "execution_count": null,
   "id": "ca894b00",
   "metadata": {},
   "outputs": [],
   "source": [
    "import numpy as np\n",
    "np.random.seed(1432567)\n",
    "# Случайным образом выбираем значения из первого списка с заданными вероятностями (второй спискок)\n",
    "matrix = np.random.choice(['огурец', 'картошка', 'лук', 'чеснок', 'укроп', 'баклажан'],\n",
    "                          p=[0.2, 0.4, 0.1, 0.05, 0.05, 0.2], size=(100, 100))"
   ]
  },
  {
   "cell_type": "code",
   "execution_count": null,
   "id": "7a6d13be",
   "metadata": {},
   "outputs": [],
   "source": [
    "# напишите свой код здесь"
   ]
  },
  {
   "cell_type": "code",
   "execution_count": null,
   "id": "2ecfd350",
   "metadata": {},
   "outputs": [],
   "source": []
  },
  {
   "cell_type": "code",
   "execution_count": null,
   "id": "eda86fef",
   "metadata": {},
   "outputs": [],
   "source": []
  },
  {
   "cell_type": "code",
   "execution_count": null,
   "id": "372be7de",
   "metadata": {},
   "outputs": [],
   "source": []
  },
  {
   "cell_type": "code",
   "execution_count": 1,
   "id": "4afa121a",
   "metadata": {},
   "outputs": [
    {
     "name": "stderr",
     "output_type": "stream",
     "text": [
      "C:\\Users\\Александр\\AppData\\Local\\Temp\\ipykernel_14932\\3777615979.py:1: DeprecationWarning: Importing display from IPython.core.display is deprecated since IPython 7.14, please import from IPython display\n",
      "  from IPython.core.display import display, HTML\n"
     ]
    },
    {
     "data": {
      "text/html": [
       "<style>.container { width:100% !important; }</style>"
      ],
      "text/plain": [
       "<IPython.core.display.HTML object>"
      ]
     },
     "metadata": {},
     "output_type": "display_data"
    }
   ],
   "source": [
    "from IPython.core.display import display, HTML\n",
    "display(HTML(\"<style>.container { width:100% !important; }</style>\"))"
   ]
  }
 ],
 "metadata": {
  "kernelspec": {
   "display_name": "Python 3 (ipykernel)",
   "language": "python",
   "name": "python3"
  },
  "language_info": {
   "codemirror_mode": {
    "name": "ipython",
    "version": 3
   },
   "file_extension": ".py",
   "mimetype": "text/x-python",
   "name": "python",
   "nbconvert_exporter": "python",
   "pygments_lexer": "ipython3",
   "version": "3.11.2"
  }
 },
 "nbformat": 4,
 "nbformat_minor": 5
}
