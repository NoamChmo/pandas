{
 "cells": [
  {
   "cell_type": "markdown",
   "id": "f7714bd8",
   "metadata": {},
   "source": [
    "<a target=\"_blank\" href=\"https://colab.research.google.com/github/victorlymarev/pandas/blob/main/notebooks/16-unique-values-and-duplicates.ipynb\">\n",
    "  <img src=\"https://colab.research.google.com/assets/colab-badge.svg\" alt=\"Open In Colab\"/>\n",
    "</a>"
   ]
  },
  {
   "cell_type": "markdown",
   "id": "f293f6cf",
   "metadata": {},
   "source": [
    "# Уникальные значения и дубликаты\n",
    "#### [Ссылка на видео](https://youtu.be/ahtQtSL7j2M)"
   ]
  },
  {
   "cell_type": "code",
   "execution_count": null,
   "id": "5b2bb54d",
   "metadata": {},
   "outputs": [],
   "source": [
    "import pandas as pd\n",
    "import os"
   ]
  },
  {
   "cell_type": "markdown",
   "id": "5318e772",
   "metadata": {},
   "source": [
    "Читаем таблицу"
   ]
  },
  {
   "cell_type": "code",
   "execution_count": null,
   "id": "7fb164b5",
   "metadata": {},
   "outputs": [],
   "source": [
    "path_empl = '../tables/employees.parquet' if os.path.exists('../tables/employees.parquet') else 'https://drive.google.com/uc?id=1AARD5-eVlCxoApt5CYZebrC3Cqw42lvj'\n",
    "\n",
    "empl = pd.read_parquet(path_empl).query('report_dt > \"2022-09-30\"')\n",
    "empl.head()"
   ]
  },
  {
   "cell_type": "code",
   "execution_count": null,
   "id": "b668a510",
   "metadata": {},
   "outputs": [],
   "source": [
    "empl['pos_name'].head()"
   ]
  },
  {
   "cell_type": "code",
   "execution_count": null,
   "id": "d242181a",
   "metadata": {},
   "outputs": [],
   "source": []
  },
  {
   "cell_type": "code",
   "execution_count": null,
   "id": "59c93174",
   "metadata": {},
   "outputs": [],
   "source": []
  },
  {
   "cell_type": "markdown",
   "id": "03ef180d",
   "metadata": {},
   "source": [
    "## value_counts\n",
    "Считает сколько раз значение встретилось в колонке"
   ]
  },
  {
   "cell_type": "code",
   "execution_count": null,
   "id": "e37beddb",
   "metadata": {},
   "outputs": [],
   "source": [
    "empl['pos_name'].value_counts()"
   ]
  },
  {
   "cell_type": "markdown",
   "id": "530d6467",
   "metadata": {},
   "source": [
    "#### Если normalize=True, то метод счиатет долю каждого значения в столбце"
   ]
  },
  {
   "cell_type": "code",
   "execution_count": null,
   "id": "2cf800e4",
   "metadata": {},
   "outputs": [],
   "source": [
    "empl['pos_name'].value_counts(normalize=True)"
   ]
  },
  {
   "cell_type": "markdown",
   "id": "01c184da",
   "metadata": {},
   "source": [
    "#### По умолчанию пропуски не считаются, но это можно изменить"
   ]
  },
  {
   "cell_type": "code",
   "execution_count": null,
   "id": "fd0310fe",
   "metadata": {},
   "outputs": [],
   "source": [
    "empl['closest_boss_pos_id'].value_counts(dropna=False)"
   ]
  },
  {
   "cell_type": "markdown",
   "id": "f092d654",
   "metadata": {},
   "source": [
    "#### Значения можно отсортировать по возрастанию"
   ]
  },
  {
   "cell_type": "code",
   "execution_count": null,
   "id": "28544231",
   "metadata": {},
   "outputs": [],
   "source": [
    "empl['closest_boss_pos_id'].value_counts(ascending=True)"
   ]
  },
  {
   "cell_type": "code",
   "execution_count": null,
   "id": "a6fa96d6",
   "metadata": {},
   "outputs": [],
   "source": []
  },
  {
   "cell_type": "code",
   "execution_count": null,
   "id": "fcf501c7",
   "metadata": {},
   "outputs": [],
   "source": []
  },
  {
   "cell_type": "markdown",
   "id": "4d60c6e8",
   "metadata": {},
   "source": [
    "#### С помощью метода удобно строить распределения"
   ]
  },
  {
   "cell_type": "code",
   "execution_count": null,
   "id": "2ce3539a",
   "metadata": {},
   "outputs": [],
   "source": [
    "empl['pos_name'].value_counts().plot(kind='bar')"
   ]
  },
  {
   "cell_type": "code",
   "execution_count": null,
   "id": "765101e7",
   "metadata": {},
   "outputs": [],
   "source": [
    "empl['pos_name'].value_counts(ascending=True).plot(kind='barh')"
   ]
  },
  {
   "cell_type": "code",
   "execution_count": null,
   "id": "90ae265d",
   "metadata": {},
   "outputs": [],
   "source": []
  },
  {
   "cell_type": "code",
   "execution_count": null,
   "id": "a4106241",
   "metadata": {},
   "outputs": [],
   "source": []
  },
  {
   "cell_type": "code",
   "execution_count": null,
   "id": "7e23654d",
   "metadata": {},
   "outputs": [],
   "source": []
  },
  {
   "cell_type": "code",
   "execution_count": null,
   "id": "7d088acf",
   "metadata": {},
   "outputs": [],
   "source": []
  },
  {
   "cell_type": "markdown",
   "id": "770f2cfd",
   "metadata": {},
   "source": [
    "## unique\n",
    "Метод выводит уникальные значения в колонке"
   ]
  },
  {
   "cell_type": "code",
   "execution_count": null,
   "id": "164eb250",
   "metadata": {},
   "outputs": [],
   "source": [
    "empl['pos_name'].unique()"
   ]
  },
  {
   "cell_type": "markdown",
   "id": "66832e7d",
   "metadata": {},
   "source": [
    "#### Если после метода unique вызвать метод tolist, то даты приведутся к целым числам"
   ]
  },
  {
   "cell_type": "code",
   "execution_count": null,
   "id": "627e4530",
   "metadata": {},
   "outputs": [],
   "source": [
    "empl['report_dt'].unique()"
   ]
  },
  {
   "cell_type": "code",
   "execution_count": null,
   "id": "52c0bb74",
   "metadata": {},
   "outputs": [],
   "source": [
    "empl['report_dt'].unique().tolist()"
   ]
  },
  {
   "cell_type": "code",
   "execution_count": null,
   "id": "6bac9305",
   "metadata": {},
   "outputs": [],
   "source": [
    "list(empl['report_dt'].unique())"
   ]
  },
  {
   "cell_type": "code",
   "execution_count": null,
   "id": "9e024033",
   "metadata": {},
   "outputs": [],
   "source": []
  },
  {
   "cell_type": "code",
   "execution_count": null,
   "id": "de3f81e0",
   "metadata": {},
   "outputs": [],
   "source": []
  },
  {
   "cell_type": "markdown",
   "id": "5edc725e",
   "metadata": {},
   "source": [
    "## nunique\n",
    "Метод выводит количество уникальных значений в столбце"
   ]
  },
  {
   "cell_type": "code",
   "execution_count": null,
   "id": "b8ff2979",
   "metadata": {},
   "outputs": [],
   "source": [
    "empl['report_dt'].nunique()"
   ]
  },
  {
   "cell_type": "code",
   "execution_count": null,
   "id": "c4ef5ee0",
   "metadata": {},
   "outputs": [],
   "source": [
    "empl.nunique()"
   ]
  },
  {
   "cell_type": "code",
   "execution_count": null,
   "id": "79b81f00",
   "metadata": {},
   "outputs": [],
   "source": []
  },
  {
   "cell_type": "code",
   "execution_count": null,
   "id": "20475e8a",
   "metadata": {},
   "outputs": [],
   "source": []
  },
  {
   "cell_type": "code",
   "execution_count": null,
   "id": "dee25fe8",
   "metadata": {},
   "outputs": [],
   "source": []
  },
  {
   "cell_type": "markdown",
   "id": "0908825c",
   "metadata": {},
   "source": [
    "## duplicated\n",
    "Метод проверяет встречалось ли такое же значение в колонке"
   ]
  },
  {
   "cell_type": "code",
   "execution_count": null,
   "id": "8d68421e",
   "metadata": {},
   "outputs": [],
   "source": [
    "empl['pos_name'].duplicated()"
   ]
  },
  {
   "cell_type": "markdown",
   "id": "29c0ab4c",
   "metadata": {},
   "source": [
    "Параметр keep принимает 3 значения:\n",
    "1. False - Помечает как True все повторяющиеся значения\n",
    "2. 'first' - Первое повторяющееся значение помечается как False, остальные как True (значение по умолчанию)\n",
    "3. 'last' - Последнее повторяющееся значение помечается как False, остальные как True"
   ]
  },
  {
   "cell_type": "code",
   "execution_count": null,
   "id": "515eb2b5",
   "metadata": {},
   "outputs": [],
   "source": [
    "empl['pos_name'].duplicated(keep=False)"
   ]
  },
  {
   "cell_type": "code",
   "execution_count": null,
   "id": "c98ec7bd",
   "metadata": {},
   "outputs": [],
   "source": []
  },
  {
   "cell_type": "code",
   "execution_count": null,
   "id": "5894025d",
   "metadata": {},
   "outputs": [],
   "source": []
  },
  {
   "cell_type": "code",
   "execution_count": null,
   "id": "f1bcc2cf",
   "metadata": {},
   "outputs": [],
   "source": []
  },
  {
   "cell_type": "markdown",
   "id": "fc66c397",
   "metadata": {},
   "source": [
    "## drop_duplicates\n",
    "\n",
    "Удаляет повторяющиеся значения"
   ]
  },
  {
   "cell_type": "code",
   "execution_count": null,
   "id": "459757e3",
   "metadata": {},
   "outputs": [],
   "source": [
    "empl['pos_name'].drop_duplicates()"
   ]
  },
  {
   "cell_type": "markdown",
   "id": "50e61ac5",
   "metadata": {},
   "source": [
    "#### В метод можно передать название колонки или список из названий колонок, по которым удалять повторяющиеся наблюдения"
   ]
  },
  {
   "cell_type": "code",
   "execution_count": null,
   "id": "b3cf5f94",
   "metadata": {},
   "outputs": [],
   "source": [
    "empl.drop_duplicates('fio').head()"
   ]
  },
  {
   "cell_type": "code",
   "execution_count": null,
   "id": "6951b705",
   "metadata": {},
   "outputs": [],
   "source": [
    "empl.drop_duplicates(['i_pernr', 'pos_name']).head()"
   ]
  },
  {
   "cell_type": "markdown",
   "id": "1801ef78",
   "metadata": {},
   "source": [
    "Параметр keep принимает 3 значения:\n",
    "1. False - Все дубликаты удаляются\n",
    "2. 'first' - Первое повторяющееся значение остается, а остальные удаляются (значение по умолчанию)\n",
    "3. 'last' - Последнее повторяющееся значение остается, а остальные удаляются"
   ]
  },
  {
   "cell_type": "code",
   "execution_count": null,
   "id": "50cfee60",
   "metadata": {},
   "outputs": [],
   "source": [
    "empl.drop_duplicates(['i_pernr', 'pos_name'], keep='last').head()"
   ]
  },
  {
   "cell_type": "code",
   "execution_count": null,
   "id": "a65858b2",
   "metadata": {},
   "outputs": [],
   "source": []
  },
  {
   "cell_type": "code",
   "execution_count": null,
   "id": "23d49145",
   "metadata": {},
   "outputs": [],
   "source": []
  },
  {
   "cell_type": "code",
   "execution_count": null,
   "id": "1edc52b6",
   "metadata": {},
   "outputs": [],
   "source": []
  },
  {
   "cell_type": "code",
   "execution_count": null,
   "id": "c74e8ebf",
   "metadata": {},
   "outputs": [],
   "source": []
  },
  {
   "cell_type": "code",
   "execution_count": null,
   "id": "89b0257b",
   "metadata": {},
   "outputs": [],
   "source": []
  },
  {
   "cell_type": "code",
   "execution_count": null,
   "id": "d5983151",
   "metadata": {},
   "outputs": [],
   "source": []
  },
  {
   "cell_type": "code",
   "execution_count": null,
   "id": "8b4bb8d8",
   "metadata": {},
   "outputs": [],
   "source": []
  },
  {
   "cell_type": "code",
   "execution_count": null,
   "id": "c41726ea",
   "metadata": {},
   "outputs": [],
   "source": []
  },
  {
   "cell_type": "code",
   "execution_count": null,
   "id": "bd0311f4",
   "metadata": {},
   "outputs": [],
   "source": []
  },
  {
   "cell_type": "code",
   "execution_count": null,
   "id": "8cdb02db",
   "metadata": {},
   "outputs": [],
   "source": []
  },
  {
   "cell_type": "markdown",
   "id": "a0d36a7c",
   "metadata": {},
   "source": [
    "# Задания"
   ]
  },
  {
   "cell_type": "markdown",
   "id": "778f11e1",
   "metadata": {},
   "source": [
    "#### Описание таблиц лежит [здесь](https://github.com/victorlymarev/pandas/tree/main/tables#%D0%BE%D0%BF%D0%B8%D1%81%D0%B0%D0%BD%D0%B8%D0%B5-%D1%82%D0%B0%D0%B1%D0%BB%D0%B8%D1%86)"
   ]
  },
  {
   "cell_type": "markdown",
   "id": "fd6a0283",
   "metadata": {},
   "source": [
    "Некоторые таблицы занимают много памяти, поэтому каждые 5-10 заданий лучше перезапускайте ноутбук.\n",
    "\n",
    "В формулировке некоторых заданий может содержаться вариативность. Если у вас есть сомнения, что требуется в задании, попробуйте решить несколько вариантов. Если вы не понимаете задание, можете написать об этом в комментариях под видео.\n",
    "\n",
    "В большинстве случаев внешний вид итоговой таблицы не определен. Выведите на экран наиболее адекватный вариант. То есть таблицу, из которой можно будет сделать выводы.\n",
    "\n",
    "Курс пока находится в разработке. Вы можете помочь другим людям добавив свое решение [сюда](https://docs.google.com/forms/d/1HYTBz_KfssY3Jps2dC3n0YnEqa6WBb5OIhLo1d32Xzw/edit).\n",
    "\n",
    "Посмотреть решения других людей можно [здесь](https://docs.google.com/spreadsheets/d/1pMDYO-9UneLbPPnEuQ2shig0TOJdQTU-zipifyAnZMk/edit?resourcekey#gid=1998648012)"
   ]
  },
  {
   "cell_type": "markdown",
   "id": "492bbf24",
   "metadata": {},
   "source": [
    "### Задание 1\n",
    "\n",
    "Посмотрите на самые часты бренды (поле brand)"
   ]
  },
  {
   "cell_type": "code",
   "execution_count": null,
   "id": "6306e260",
   "metadata": {},
   "outputs": [],
   "source": [
    "import os\n",
    "import pandas as pd\n",
    "\n",
    "path_goods_descr = '../tables/goods_description.parquet' if os.path.exists('../tables/goods_description.parquet') else 'https://drive.google.com/uc?id=1YbiD02Rev-X_WWV9nPSG1zZFmEh2JjPh'\n",
    "\n",
    "goods_descr = pd.read_parquet(path_goods_descr)\n",
    "goods_descr.head()"
   ]
  },
  {
   "cell_type": "code",
   "execution_count": null,
   "id": "db9c345d",
   "metadata": {},
   "outputs": [],
   "source": [
    "# напишите свой код здесь"
   ]
  },
  {
   "cell_type": "markdown",
   "id": "e04209b5",
   "metadata": {},
   "source": [
    "### Задание 2\n",
    "\n",
    "Посмотрите сколько в таблице уникальных категорий товаров (поле product_type)"
   ]
  },
  {
   "cell_type": "code",
   "execution_count": null,
   "id": "c7d97585",
   "metadata": {},
   "outputs": [],
   "source": [
    "import os\n",
    "import pandas as pd\n",
    "\n",
    "path_goods_descr = '../tables/goods_description.parquet' if os.path.exists('../tables/goods_description.parquet') else 'https://drive.google.com/uc?id=1YbiD02Rev-X_WWV9nPSG1zZFmEh2JjPh'\n",
    "\n",
    "goods_descr = pd.read_parquet(path_goods_descr)\n",
    "goods_descr.head()"
   ]
  },
  {
   "cell_type": "code",
   "execution_count": null,
   "id": "fc58e348",
   "metadata": {},
   "outputs": [],
   "source": [
    "# напишите свой код здесь"
   ]
  },
  {
   "cell_type": "markdown",
   "id": "f2d389f0",
   "metadata": {},
   "source": [
    "### Задание 3\n",
    "\n",
    "Посчитайте количество уникальных значений в каждой колонке таблицы"
   ]
  },
  {
   "cell_type": "code",
   "execution_count": null,
   "id": "c137a3b1",
   "metadata": {},
   "outputs": [],
   "source": [
    "import os\n",
    "import pandas as pd\n",
    "\n",
    "path_empl = '../tables/employees.parquet' if os.path.exists('../tables/employees.parquet') else 'https://drive.google.com/uc?id=1AARD5-eVlCxoApt5CYZebrC3Cqw42lvj'\n",
    "\n",
    "empl = pd.read_parquet(path_empl)\n",
    "empl.head()"
   ]
  },
  {
   "cell_type": "code",
   "execution_count": null,
   "id": "8a34f36b",
   "metadata": {},
   "outputs": [],
   "source": [
    "# напишите свой код здесь"
   ]
  },
  {
   "cell_type": "markdown",
   "id": "f384a186",
   "metadata": {},
   "source": [
    "### Задание 4\n",
    "\n",
    "Посчитайте, сколько в таблице товаров каждого цвета, не учитывая размер товаров. ДЛя этого сначала удалите дубликаты по полям colour и product_code_2"
   ]
  },
  {
   "cell_type": "code",
   "execution_count": null,
   "id": "97e2898f",
   "metadata": {},
   "outputs": [],
   "source": [
    "import os\n",
    "import pandas as pd\n",
    "\n",
    "path_goods_descr = '../tables/goods_description.parquet' if os.path.exists('../tables/goods_description.parquet') else 'https://drive.google.com/uc?id=1YbiD02Rev-X_WWV9nPSG1zZFmEh2JjPh'\n",
    "\n",
    "goods_descr = pd.read_parquet(path_goods_descr)\n",
    "goods_descr.head()"
   ]
  },
  {
   "cell_type": "code",
   "execution_count": null,
   "id": "1bf67203",
   "metadata": {},
   "outputs": [],
   "source": [
    "# напишите свой код здесь"
   ]
  },
  {
   "cell_type": "markdown",
   "id": "454f5b98",
   "metadata": {},
   "source": [
    "### Задание 5\n",
    "\n",
    "Для каждого чека посчитайте количество уникальных товаров в нем"
   ]
  },
  {
   "cell_type": "code",
   "execution_count": null,
   "id": "dc59f2b0",
   "metadata": {},
   "outputs": [],
   "source": [
    "# таблица sales - большая, и в некоторых случаях ваш компьютер может не справиться с ее обработкой\n",
    "# поэтому лучше работайте с частью этой таблицы\n",
    "# но если вы хотите попробовать поработать с полной версией таблицы,\n",
    "# можете заменить переменную path_sales_2022 на path_sales внутри функции read_parquet\n",
    "\n",
    "import os\n",
    "import pandas as pd\n",
    "\n",
    "path_sales_2022 = '../tables/sales_2022.parquet' if os.path.exists('../tables/sales_2022.parquet') else 'https://drive.google.com/uc?id=17e7FwXVdsWc2aziK9s5KidIvPcfKt9F5'\n",
    "# path_sales = '../tables/sales.parquet' if os.path.exists('../tables/sales.parquet') else \"https://drive.usercontent.google.com/download?id=15KwSxyM6hpNABGe6_vsrFZvD09VfHFyK&export=download&authuser=1&confirm=t&uuid=115bd48c-cc2c-4f2a-8b42-be5ca6ef6db8&at=APZUnTUVb8nfNANw5wr9Cad7PJ3U:1693327774694\"\n",
    "\n",
    "sales = pd.read_parquet(path_sales_2022)\n",
    "sales.head()"
   ]
  },
  {
   "cell_type": "code",
   "execution_count": null,
   "id": "31734f18",
   "metadata": {},
   "outputs": [],
   "source": [
    "# напишите свой код здесь"
   ]
  },
  {
   "cell_type": "markdown",
   "id": "f7d9ad31",
   "metadata": {},
   "source": [
    "### Задание 6\n",
    "\n",
    "На конец ноября 2021 года посчитайте долю мужчин и долю женщин среди сотрудников, занимающих руководящие позиции в магазине (mgmt == 1)"
   ]
  },
  {
   "cell_type": "code",
   "execution_count": null,
   "id": "a2f5f2c0",
   "metadata": {},
   "outputs": [],
   "source": [
    "import os\n",
    "import pandas as pd\n",
    "\n",
    "path_empl = '../tables/employees.parquet' if os.path.exists('../tables/employees.parquet') else 'https://drive.google.com/uc?id=1AARD5-eVlCxoApt5CYZebrC3Cqw42lvj'\n",
    "\n",
    "empl = pd.read_parquet(path_empl)\n",
    "empl.head()"
   ]
  },
  {
   "cell_type": "code",
   "execution_count": null,
   "id": "aae98692",
   "metadata": {},
   "outputs": [],
   "source": [
    "# напишите свой код здесь"
   ]
  },
  {
   "cell_type": "markdown",
   "id": "8ef18733",
   "metadata": {},
   "source": [
    "### Задание 7\n",
    "\n",
    "Найдите людей с одинаковым разным табельным номером, но одинаковым фио"
   ]
  },
  {
   "cell_type": "code",
   "execution_count": null,
   "id": "a8efc933",
   "metadata": {},
   "outputs": [],
   "source": [
    "import os\n",
    "import pandas as pd\n",
    "\n",
    "path_empl = '../tables/employees.parquet' if os.path.exists('../tables/employees.parquet') else 'https://drive.google.com/uc?id=1AARD5-eVlCxoApt5CYZebrC3Cqw42lvj'\n",
    "\n",
    "empl = pd.read_parquet(path_empl)\n",
    "empl.head()"
   ]
  },
  {
   "cell_type": "code",
   "execution_count": null,
   "id": "25745943",
   "metadata": {},
   "outputs": [],
   "source": [
    "# напишите свой код здесь"
   ]
  },
  {
   "cell_type": "markdown",
   "id": "37aca9f8",
   "metadata": {},
   "source": [
    "### Задание 8\n",
    "\n",
    "Задание на нампай\n",
    "\n",
    "В нампае для подсчета уникальных значений есть функция np.unique. В нее передается массив. Функция возвращает массив из уникальные значений. Если передать в парметр return_counts значение True, то вернется 2 массива. Первый массив будет содержать уникальные значения, а второй число повторений.\n",
    "\n",
    "Найдите сколько раз повторяется каждое значение в массиве."
   ]
  },
  {
   "cell_type": "code",
   "execution_count": null,
   "id": "ca894b00",
   "metadata": {},
   "outputs": [],
   "source": [
    "import numpy as np\n",
    "np.random.seed(1432567)\n",
    "# Случайным образом выбираем значения из первого списка с заданными вероятностями (второй спискок)\n",
    "matrix = np.random.choice(['огурец', 'картошка', 'лук', 'чеснок', 'укроп', 'баклажан'],\n",
    "                          p=[0.2, 0.4, 0.1, 0.05, 0.05, 0.2], size=(100, 100))"
   ]
  },
  {
   "cell_type": "code",
   "execution_count": null,
   "id": "7a6d13be",
   "metadata": {},
   "outputs": [],
   "source": [
    "# напишите свой код здесь"
   ]
  },
  {
   "cell_type": "code",
   "execution_count": null,
   "id": "2ecfd350",
   "metadata": {},
   "outputs": [],
   "source": []
  },
  {
   "cell_type": "code",
   "execution_count": null,
   "id": "eda86fef",
   "metadata": {},
   "outputs": [],
   "source": []
  },
  {
   "cell_type": "code",
   "execution_count": null,
   "id": "372be7de",
   "metadata": {},
   "outputs": [],
   "source": []
  }
 ],
 "metadata": {
  "kernelspec": {
   "display_name": "Python 3 (ipykernel)",
   "language": "python",
   "name": "python3"
  },
  "language_info": {
   "codemirror_mode": {
    "name": "ipython",
    "version": 3
   },
   "file_extension": ".py",
   "mimetype": "text/x-python",
   "name": "python",
   "nbconvert_exporter": "python",
   "pygments_lexer": "ipython3",
   "version": "3.11.5"
  }
 },
 "nbformat": 4,
 "nbformat_minor": 5
}
