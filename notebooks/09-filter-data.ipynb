{
 "cells": [
  {
   "cell_type": "markdown",
   "id": "182b8618",
   "metadata": {},
   "source": [
    "<a target=\"_blank\" href=\"https://colab.research.google.com/github/victorlymarev/pandas/blob/main/notebooks/09-filter-data.ipynb\">\n",
    "  <img src=\"https://colab.research.google.com/assets/colab-badge.svg\" alt=\"Open In Colab\"/>\n",
    "</a>"
   ]
  },
  {
   "cell_type": "markdown",
   "id": "febf87ca",
   "metadata": {},
   "source": [
    "# Выбор строк из таблицы и условное присваивание\n",
    "#### [Ссылка на видео](https://youtu.be/dqYe8r1uWTY)"
   ]
  },
  {
   "cell_type": "code",
   "execution_count": null,
   "id": "6d9ab82f",
   "metadata": {},
   "outputs": [],
   "source": [
    "import pandas as pd\n",
    "import numpy as np\n",
    "import os"
   ]
  },
  {
   "cell_type": "markdown",
   "id": "0e6147cd",
   "metadata": {},
   "source": [
    " Символ   | Значние                                      | Пример   |\n",
    "|:--------:|:--------------------------------------------:|:--------:|\n",
    "| ==       | Равно <br>(проверка на равентсво двух элементов)<br> | 1==1     |\n",
    "| !=       | Не равно                                     | 1 != 2   |\n",
    "| >        | Больше                                       | 5 > 4    |\n",
    "| >=       | Больше или равно                             | 4 >= 1   |\n",
    "| <        | Меньше                                       | 5 < 10   |\n",
    "| <=       | Меньше или равно                             | 8 <= 10  |"
   ]
  },
  {
   "cell_type": "markdown",
   "id": "075bd9b6",
   "metadata": {},
   "source": [
    "#### Проверка на равенство"
   ]
  },
  {
   "cell_type": "code",
   "execution_count": null,
   "id": "9027c6d0",
   "metadata": {},
   "outputs": [],
   "source": [
    "1 == 1"
   ]
  },
  {
   "cell_type": "code",
   "execution_count": null,
   "id": "faa3ac02",
   "metadata": {},
   "outputs": [],
   "source": [
    "1 == 2"
   ]
  },
  {
   "cell_type": "markdown",
   "id": "3f2cbd56",
   "metadata": {},
   "source": [
    "#### Неравенства"
   ]
  },
  {
   "cell_type": "code",
   "execution_count": null,
   "id": "d8636143",
   "metadata": {},
   "outputs": [],
   "source": [
    "5 != 9"
   ]
  },
  {
   "cell_type": "code",
   "execution_count": null,
   "id": "b01826aa",
   "metadata": {},
   "outputs": [],
   "source": [
    "6 > 6"
   ]
  },
  {
   "cell_type": "code",
   "execution_count": null,
   "id": "c6ba2e0b",
   "metadata": {},
   "outputs": [],
   "source": [
    "6 >= 6"
   ]
  },
  {
   "cell_type": "code",
   "execution_count": null,
   "id": "429ce095",
   "metadata": {},
   "outputs": [],
   "source": [
    "7 < 9"
   ]
  },
  {
   "cell_type": "code",
   "execution_count": null,
   "id": "53ade631",
   "metadata": {},
   "outputs": [],
   "source": [
    "10 <= -9"
   ]
  },
  {
   "cell_type": "markdown",
   "id": "9f76e33c",
   "metadata": {},
   "source": [
    "#### Сравнение строк"
   ]
  },
  {
   "cell_type": "code",
   "execution_count": null,
   "id": "d845b35e",
   "metadata": {},
   "outputs": [],
   "source": [
    "'pandas' == 'pandas'"
   ]
  },
  {
   "cell_type": "code",
   "execution_count": null,
   "id": "8ccffe8a",
   "metadata": {},
   "outputs": [],
   "source": [
    "'pandas' == 'PANDAS'"
   ]
  },
  {
   "cell_type": "markdown",
   "id": "d5742734",
   "metadata": {},
   "source": [
    "Проверка на вхождение элемента в список"
   ]
  },
  {
   "cell_type": "code",
   "execution_count": null,
   "id": "7ec27213",
   "metadata": {},
   "outputs": [],
   "source": [
    "'a' in 'pandas'"
   ]
  },
  {
   "cell_type": "code",
   "execution_count": null,
   "id": "0602e8f8",
   "metadata": {},
   "outputs": [],
   "source": [
    "'Катя' in ['Маша', 'Даша', 'Паша']"
   ]
  },
  {
   "cell_type": "code",
   "execution_count": null,
   "id": "73bdd3f4",
   "metadata": {},
   "outputs": [],
   "source": [
    "'Катя' in ['Маша', 'Даша', 'Катя']"
   ]
  },
  {
   "cell_type": "markdown",
   "id": "8053a792",
   "metadata": {},
   "source": [
    "#### Сложные условия"
   ]
  },
  {
   "cell_type": "markdown",
   "id": "e3d76557",
   "metadata": {},
   "source": [
    "1. and - проверка на то, что 2 условия выполняются одновременно\n",
    "2. or - проверка на то, что выполняется хотя бы одно из условий\n",
    "3. not - логическое не (превращает True в False и наоборот)"
   ]
  },
  {
   "cell_type": "code",
   "execution_count": null,
   "id": "88ed33c7",
   "metadata": {},
   "outputs": [],
   "source": [
    "5 == 5 and 8 == 8"
   ]
  },
  {
   "cell_type": "code",
   "execution_count": null,
   "id": "38a52881",
   "metadata": {},
   "outputs": [],
   "source": [
    "5 == 6 and 8 == 8"
   ]
  },
  {
   "cell_type": "code",
   "execution_count": null,
   "id": "5b3fd257",
   "metadata": {},
   "outputs": [],
   "source": [
    "6 == 6 or 7 == 90"
   ]
  },
  {
   "cell_type": "code",
   "execution_count": null,
   "id": "66a55f01",
   "metadata": {},
   "outputs": [],
   "source": [
    "6 > 11 or 7 == 90"
   ]
  },
  {
   "cell_type": "code",
   "execution_count": null,
   "id": "f38594f4",
   "metadata": {},
   "outputs": [],
   "source": [
    "not 45 == 45"
   ]
  },
  {
   "cell_type": "code",
   "execution_count": null,
   "id": "c0072930",
   "metadata": {},
   "outputs": [],
   "source": [
    "'Катя' not in ['Маша', 'Даша', 'Катя']"
   ]
  },
  {
   "cell_type": "code",
   "execution_count": null,
   "id": "bba1e0c5",
   "metadata": {},
   "outputs": [],
   "source": []
  },
  {
   "cell_type": "code",
   "execution_count": null,
   "id": "1e47fd0a",
   "metadata": {},
   "outputs": [],
   "source": []
  },
  {
   "cell_type": "code",
   "execution_count": null,
   "id": "3aabacef",
   "metadata": {},
   "outputs": [],
   "source": []
  },
  {
   "cell_type": "code",
   "execution_count": null,
   "id": "ee5ffd96",
   "metadata": {},
   "outputs": [],
   "source": []
  },
  {
   "cell_type": "code",
   "execution_count": null,
   "id": "bdebc570",
   "metadata": {},
   "outputs": [],
   "source": []
  },
  {
   "cell_type": "code",
   "execution_count": null,
   "id": "da5c29d8",
   "metadata": {},
   "outputs": [],
   "source": []
  },
  {
   "cell_type": "code",
   "execution_count": null,
   "id": "50a39f98",
   "metadata": {},
   "outputs": [],
   "source": []
  },
  {
   "cell_type": "code",
   "execution_count": null,
   "id": "ad1e7805",
   "metadata": {},
   "outputs": [],
   "source": []
  },
  {
   "cell_type": "code",
   "execution_count": null,
   "id": "813db00a",
   "metadata": {},
   "outputs": [],
   "source": []
  },
  {
   "cell_type": "code",
   "execution_count": null,
   "id": "98f99584",
   "metadata": {},
   "outputs": [],
   "source": []
  },
  {
   "cell_type": "code",
   "execution_count": null,
   "id": "0de1870c",
   "metadata": {},
   "outputs": [],
   "source": []
  },
  {
   "cell_type": "code",
   "execution_count": null,
   "id": "fdf1e2de",
   "metadata": {},
   "outputs": [],
   "source": []
  },
  {
   "cell_type": "code",
   "execution_count": null,
   "id": "ea712df5",
   "metadata": {},
   "outputs": [],
   "source": []
  },
  {
   "cell_type": "code",
   "execution_count": null,
   "id": "00c08180",
   "metadata": {},
   "outputs": [],
   "source": []
  },
  {
   "cell_type": "code",
   "execution_count": null,
   "id": "a8a710b0",
   "metadata": {},
   "outputs": [],
   "source": []
  },
  {
   "cell_type": "code",
   "execution_count": null,
   "id": "9d17ad65",
   "metadata": {},
   "outputs": [],
   "source": []
  },
  {
   "cell_type": "code",
   "execution_count": null,
   "id": "1574923f",
   "metadata": {},
   "outputs": [],
   "source": []
  },
  {
   "cell_type": "code",
   "execution_count": null,
   "id": "27ac6cc6",
   "metadata": {},
   "outputs": [],
   "source": []
  },
  {
   "cell_type": "code",
   "execution_count": null,
   "id": "c63b92e2",
   "metadata": {},
   "outputs": [],
   "source": []
  },
  {
   "cell_type": "code",
   "execution_count": null,
   "id": "3f33eb42",
   "metadata": {},
   "outputs": [],
   "source": []
  },
  {
   "cell_type": "code",
   "execution_count": null,
   "id": "f61b42df",
   "metadata": {},
   "outputs": [],
   "source": []
  },
  {
   "cell_type": "markdown",
   "id": "e7561c31",
   "metadata": {},
   "source": [
    "# Условные операции в таблицах"
   ]
  },
  {
   "cell_type": "markdown",
   "id": "48d70bd9",
   "metadata": {},
   "source": [
    "| Символ   | Метод                 | Расшифровка                 | Значние                                      |\n",
    "|:--------:|:---------------------:|:---------------------------:|:--------------------------------------------:|\n",
    "| **==**   | **eq**                | **eq**ual                   | Равно (проверка на равентсво двух элементов) |\n",
    "| **!=**   | **ne**                | **n**ot **e**qual           | Не равно                                     |\n",
    "| **>**    | **gt**                | **g**reater **t**han        | Больше                                       |\n",
    "| **>=**   | **ge**                | **g**reater or **e**qual    | Больше или равно                             |\n",
    "| **<**    | **lt**                | **l**ess **t**han           | Меньше                                       |\n",
    "| **<=**   | **le**                | **l**ess or **e**qual       | Меньше или равно                             |\n",
    "|          | **isin**              | is in                       | В (проверка на вхождение)                    |\n",
    "|          | **isna или isnull**   | is na или is null           | Проверка на пропуск                          |\n",
    "|          | **notna или notnull** | not na или not null         | Проверка на непропуск                        |\n",
    "|          | **duplicated**        | duplicated                  | Проверка на дубликат                         |"
   ]
  },
  {
   "cell_type": "code",
   "execution_count": null,
   "id": "cb9f8ab8",
   "metadata": {},
   "outputs": [],
   "source": [
    "path_empl = '../tables/employees.parquet' if os.path.exists('../tables/employees.parquet') else 'https://drive.google.com/uc?id=1AARD5-eVlCxoApt5CYZebrC3Cqw42lvj'\n",
    "\n",
    "empl = pd.read_parquet(path_empl)\n",
    "empl.head()"
   ]
  },
  {
   "cell_type": "markdown",
   "id": "c9d88c97",
   "metadata": {},
   "source": [
    "#### Проверка на равенство"
   ]
  },
  {
   "cell_type": "code",
   "execution_count": null,
   "id": "9a995bb3",
   "metadata": {},
   "outputs": [],
   "source": [
    "empl['pos_name']"
   ]
  },
  {
   "cell_type": "code",
   "execution_count": null,
   "id": "a11daea5",
   "metadata": {},
   "outputs": [],
   "source": [
    "empl['pos_name'] == 'Директор магазина'"
   ]
  },
  {
   "cell_type": "code",
   "execution_count": null,
   "id": "83621a29",
   "metadata": {},
   "outputs": [],
   "source": [
    "# То же самое, что и в предыдущей ячейке\n",
    "empl['pos_name'].eq('Директор магазина')"
   ]
  },
  {
   "cell_type": "markdown",
   "id": "d7f8dee8",
   "metadata": {},
   "source": [
    "То же самое для табельного номера"
   ]
  },
  {
   "cell_type": "code",
   "execution_count": null,
   "id": "65d48526",
   "metadata": {},
   "outputs": [],
   "source": [
    "empl['i_pernr']"
   ]
  },
  {
   "cell_type": "markdown",
   "id": "1b451819",
   "metadata": {},
   "source": [
    "Чтобы можно было дальше работать с результатом как с обычной колонкой, нужно обернуть выражение в круглые скобки "
   ]
  },
  {
   "cell_type": "code",
   "execution_count": null,
   "id": "f3307e27",
   "metadata": {},
   "outputs": [],
   "source": [
    "(empl['i_pernr'] != 1).head()"
   ]
  },
  {
   "cell_type": "code",
   "execution_count": null,
   "id": "5c5a2703",
   "metadata": {},
   "outputs": [],
   "source": []
  },
  {
   "cell_type": "code",
   "execution_count": null,
   "id": "c2c10d43",
   "metadata": {},
   "outputs": [],
   "source": []
  },
  {
   "cell_type": "code",
   "execution_count": null,
   "id": "c90f464f",
   "metadata": {},
   "outputs": [],
   "source": []
  },
  {
   "cell_type": "code",
   "execution_count": null,
   "id": "1d08cc8f",
   "metadata": {},
   "outputs": [],
   "source": []
  },
  {
   "cell_type": "code",
   "execution_count": null,
   "id": "c2d4a6d4",
   "metadata": {},
   "outputs": [],
   "source": []
  },
  {
   "cell_type": "code",
   "execution_count": null,
   "id": "c8db5515",
   "metadata": {},
   "outputs": [],
   "source": []
  },
  {
   "cell_type": "markdown",
   "id": "eae94420",
   "metadata": {},
   "source": [
    "#### Неравенства"
   ]
  },
  {
   "cell_type": "code",
   "execution_count": null,
   "id": "e316fef1",
   "metadata": {},
   "outputs": [],
   "source": [
    "empl['salary']"
   ]
  },
  {
   "cell_type": "code",
   "execution_count": null,
   "id": "e44e6d2e",
   "metadata": {},
   "outputs": [],
   "source": [
    "empl['salary'] > 30000"
   ]
  },
  {
   "cell_type": "code",
   "execution_count": null,
   "id": "1d6245c9",
   "metadata": {},
   "outputs": [],
   "source": []
  },
  {
   "cell_type": "code",
   "execution_count": null,
   "id": "dffa5c70",
   "metadata": {},
   "outputs": [],
   "source": []
  },
  {
   "cell_type": "code",
   "execution_count": null,
   "id": "78ce0c40",
   "metadata": {},
   "outputs": [],
   "source": []
  },
  {
   "cell_type": "markdown",
   "id": "1b3efaf5",
   "metadata": {},
   "source": [
    "#### Выбор дат"
   ]
  },
  {
   "cell_type": "code",
   "execution_count": null,
   "id": "fa46b0c7",
   "metadata": {},
   "outputs": [],
   "source": [
    "empl['report_dt']"
   ]
  },
  {
   "cell_type": "code",
   "execution_count": null,
   "id": "d4495b5c",
   "metadata": {},
   "outputs": [],
   "source": [
    "# дата записывается как строка\n",
    "empl['report_dt'] == '2022-12-31'"
   ]
  },
  {
   "cell_type": "markdown",
   "id": "6b96f52f",
   "metadata": {},
   "source": [
    "#### Чем позднее дата, тем она больше"
   ]
  },
  {
   "cell_type": "code",
   "execution_count": null,
   "id": "d422f714",
   "metadata": {},
   "outputs": [],
   "source": [
    "empl['report_dt'] < '2022-12-31'"
   ]
  },
  {
   "cell_type": "code",
   "execution_count": null,
   "id": "494c8bb7",
   "metadata": {},
   "outputs": [],
   "source": []
  },
  {
   "cell_type": "code",
   "execution_count": null,
   "id": "c5ec53d8",
   "metadata": {},
   "outputs": [],
   "source": []
  },
  {
   "cell_type": "code",
   "execution_count": null,
   "id": "c282cbca",
   "metadata": {},
   "outputs": [],
   "source": []
  },
  {
   "cell_type": "code",
   "execution_count": null,
   "id": "f6b44eca",
   "metadata": {},
   "outputs": [],
   "source": []
  },
  {
   "cell_type": "markdown",
   "id": "e0a85f78",
   "metadata": {},
   "source": [
    "#### Проверка на вхождение"
   ]
  },
  {
   "cell_type": "code",
   "execution_count": null,
   "id": "8b2fcd8b",
   "metadata": {},
   "outputs": [],
   "source": [
    "empl['education']"
   ]
  },
  {
   "cell_type": "code",
   "execution_count": null,
   "id": "392d0f2d",
   "metadata": {},
   "outputs": [],
   "source": [
    "empl['education'] in ['высшее', 'среднее профессиональное']"
   ]
  },
  {
   "cell_type": "code",
   "execution_count": null,
   "id": "07fda924",
   "metadata": {},
   "outputs": [],
   "source": [
    "empl['education'].isin(['высшее', 'среднее профессиональное'])"
   ]
  },
  {
   "cell_type": "markdown",
   "id": "1ddea492",
   "metadata": {},
   "source": [
    "Оператор in преверяет вхождение элемента в индекс, а не в стобец"
   ]
  },
  {
   "cell_type": "code",
   "execution_count": null,
   "id": "0632abd9",
   "metadata": {},
   "outputs": [],
   "source": [
    "'Директор магазина' in empl['pos_name']"
   ]
  },
  {
   "cell_type": "code",
   "execution_count": null,
   "id": "598124b2",
   "metadata": {},
   "outputs": [],
   "source": [
    "empl['pos_name']"
   ]
  },
  {
   "cell_type": "code",
   "execution_count": null,
   "id": "de86c3f4",
   "metadata": {},
   "outputs": [],
   "source": [
    "'Директор магазина' in empl['pos_name'].tolist()"
   ]
  },
  {
   "cell_type": "code",
   "execution_count": null,
   "id": "0380f32f",
   "metadata": {},
   "outputs": [],
   "source": [
    "empl['pos_name'].tolist()"
   ]
  },
  {
   "cell_type": "markdown",
   "id": "40698d01",
   "metadata": {},
   "source": [
    "Проверка вхождения одной строки в другую"
   ]
  },
  {
   "cell_type": "code",
   "execution_count": null,
   "id": "3d9b4e63",
   "metadata": {},
   "outputs": [],
   "source": [
    "empl['pos_name'].str.contains(\"магазин\")"
   ]
  },
  {
   "cell_type": "code",
   "execution_count": null,
   "id": "ba26cfc4",
   "metadata": {},
   "outputs": [],
   "source": []
  },
  {
   "cell_type": "code",
   "execution_count": null,
   "id": "83cdbde6",
   "metadata": {},
   "outputs": [],
   "source": []
  },
  {
   "cell_type": "code",
   "execution_count": null,
   "id": "9b7912f7",
   "metadata": {},
   "outputs": [],
   "source": []
  },
  {
   "cell_type": "code",
   "execution_count": null,
   "id": "21c38f5e",
   "metadata": {},
   "outputs": [],
   "source": []
  },
  {
   "cell_type": "markdown",
   "id": "0bfed47e",
   "metadata": {},
   "source": [
    "#### Проверка на то, пропущенно ли значение"
   ]
  },
  {
   "cell_type": "code",
   "execution_count": null,
   "id": "3d1830cd",
   "metadata": {},
   "outputs": [],
   "source": [
    "empl['employee_evaluation']"
   ]
  },
  {
   "cell_type": "code",
   "execution_count": null,
   "id": "3da4786a",
   "metadata": {},
   "outputs": [],
   "source": [
    "empl['employee_evaluation'].isna()"
   ]
  },
  {
   "cell_type": "code",
   "execution_count": null,
   "id": "44b43200",
   "metadata": {},
   "outputs": [],
   "source": [
    "empl['employee_evaluation'].notna()"
   ]
  },
  {
   "cell_type": "code",
   "execution_count": null,
   "id": "8fac0c5a",
   "metadata": {},
   "outputs": [],
   "source": [
    "empl['employee_evaluation'].isnull() "
   ]
  },
  {
   "cell_type": "code",
   "execution_count": null,
   "id": "6a88a74f",
   "metadata": {},
   "outputs": [],
   "source": [
    "empl['employee_evaluation'].notnull()"
   ]
  },
  {
   "cell_type": "markdown",
   "id": "eeae5a66",
   "metadata": {},
   "source": [
    "Помимо методов есть аналоги в виде функций с точно такими же названиями"
   ]
  },
  {
   "cell_type": "code",
   "execution_count": null,
   "id": "f13505a8",
   "metadata": {},
   "outputs": [],
   "source": [
    "# pd.isna(empl['closest_boss_pos_id'])\n",
    "# pd.isnull(empl['closest_boss_pos_id'])\n",
    "# pd.notnull(empl['closest_boss_pos_id'])\n",
    "# pd.notna(empl['closest_boss_pos_id'])"
   ]
  },
  {
   "cell_type": "code",
   "execution_count": null,
   "id": "6a730e0f",
   "metadata": {},
   "outputs": [],
   "source": [
    "pd.isna(None)"
   ]
  },
  {
   "cell_type": "code",
   "execution_count": null,
   "id": "5b7de87d",
   "metadata": {},
   "outputs": [],
   "source": []
  },
  {
   "cell_type": "code",
   "execution_count": null,
   "id": "a5ac3810",
   "metadata": {},
   "outputs": [],
   "source": []
  },
  {
   "cell_type": "code",
   "execution_count": null,
   "id": "d728fffe",
   "metadata": {},
   "outputs": [],
   "source": []
  },
  {
   "cell_type": "code",
   "execution_count": null,
   "id": "2a0e02ec",
   "metadata": {},
   "outputs": [],
   "source": []
  },
  {
   "cell_type": "code",
   "execution_count": null,
   "id": "5deb62e2",
   "metadata": {},
   "outputs": [],
   "source": []
  },
  {
   "cell_type": "markdown",
   "id": "04f61720",
   "metadata": {},
   "source": [
    "#### Проверка на дубликаты"
   ]
  },
  {
   "cell_type": "code",
   "execution_count": null,
   "id": "7cf85f45",
   "metadata": {},
   "outputs": [],
   "source": [
    "# проверка каждой строки на уникальность\n",
    "empl.duplicated()"
   ]
  },
  {
   "cell_type": "code",
   "execution_count": null,
   "id": "d6ca5a8e",
   "metadata": {},
   "outputs": [],
   "source": [
    "# Проверка колонки fio на уникальность\n",
    "empl.duplicated('fio')"
   ]
  },
  {
   "cell_type": "code",
   "execution_count": null,
   "id": "d619a8c3",
   "metadata": {},
   "outputs": [],
   "source": [
    "empl['fio'].duplicated()"
   ]
  },
  {
   "cell_type": "code",
   "execution_count": null,
   "id": "bdc304e1",
   "metadata": {},
   "outputs": [],
   "source": [
    "# Проверка колонок fio и report_dt на уникальность\n",
    "empl.duplicated(['fio', 'report_dt'])"
   ]
  },
  {
   "cell_type": "code",
   "execution_count": null,
   "id": "b37e2632",
   "metadata": {},
   "outputs": [],
   "source": []
  },
  {
   "cell_type": "code",
   "execution_count": null,
   "id": "111e060f",
   "metadata": {},
   "outputs": [],
   "source": []
  },
  {
   "cell_type": "code",
   "execution_count": null,
   "id": "063e5a5e",
   "metadata": {},
   "outputs": [],
   "source": []
  },
  {
   "cell_type": "markdown",
   "id": "e240d624",
   "metadata": {},
   "source": [
    "#### Способы выделения дубликатов"
   ]
  },
  {
   "cell_type": "code",
   "execution_count": null,
   "id": "49b62709",
   "metadata": {},
   "outputs": [],
   "source": [
    "# True если значение встерчечалось в строчках выше\n",
    "empl.duplicated('fio')"
   ]
  },
  {
   "cell_type": "code",
   "execution_count": null,
   "id": "8c51a3c3",
   "metadata": {},
   "outputs": [],
   "source": [
    "# True если значение встерчечалось в строчках ниже\n",
    "empl.duplicated('fio', keep='last')"
   ]
  },
  {
   "cell_type": "code",
   "execution_count": null,
   "id": "935e94dd",
   "metadata": {},
   "outputs": [],
   "source": [
    "# True если у значения есть дубликат\n",
    "empl.duplicated('fio', keep=False)"
   ]
  },
  {
   "cell_type": "code",
   "execution_count": null,
   "id": "70097288",
   "metadata": {},
   "outputs": [],
   "source": []
  },
  {
   "cell_type": "code",
   "execution_count": null,
   "id": "c73e4f3a",
   "metadata": {},
   "outputs": [],
   "source": []
  },
  {
   "cell_type": "code",
   "execution_count": null,
   "id": "0dc97b0c",
   "metadata": {},
   "outputs": [],
   "source": []
  },
  {
   "cell_type": "code",
   "execution_count": null,
   "id": "af9fdbe2",
   "metadata": {},
   "outputs": [],
   "source": []
  },
  {
   "cell_type": "code",
   "execution_count": null,
   "id": "986189fe",
   "metadata": {},
   "outputs": [],
   "source": []
  },
  {
   "cell_type": "code",
   "execution_count": null,
   "id": "ef76b170",
   "metadata": {},
   "outputs": [],
   "source": []
  },
  {
   "cell_type": "code",
   "execution_count": null,
   "id": "51b84f8d",
   "metadata": {},
   "outputs": [],
   "source": []
  },
  {
   "cell_type": "markdown",
   "id": "227b7a52",
   "metadata": {},
   "source": [
    "### Проверять условия можно и в датафреймах"
   ]
  },
  {
   "cell_type": "code",
   "execution_count": null,
   "id": "ed53594b",
   "metadata": {},
   "outputs": [],
   "source": [
    "path_marks = '../tables/школьные оценки.xlsx' if os.path.exists('../tables/школьные оценки.xlsx') else 'https://drive.google.com/uc?id=1v9kRv1I03CXtQ6vFE4mE3hFAty436qAo'\n",
    "marks = pd.read_excel(path_marks)\n",
    "marks.head()"
   ]
  },
  {
   "cell_type": "code",
   "execution_count": null,
   "id": "bc766bb3",
   "metadata": {},
   "outputs": [],
   "source": [
    "(marks == 5).head()"
   ]
  },
  {
   "cell_type": "code",
   "execution_count": null,
   "id": "a900992d",
   "metadata": {},
   "outputs": [],
   "source": []
  },
  {
   "cell_type": "code",
   "execution_count": null,
   "id": "c04466fb",
   "metadata": {},
   "outputs": [],
   "source": []
  },
  {
   "cell_type": "code",
   "execution_count": null,
   "id": "ea6b701d",
   "metadata": {},
   "outputs": [],
   "source": []
  },
  {
   "cell_type": "code",
   "execution_count": null,
   "id": "23b729aa",
   "metadata": {},
   "outputs": [],
   "source": []
  },
  {
   "cell_type": "markdown",
   "id": "20ba0e1e",
   "metadata": {},
   "source": [
    "#### Методы all и any"
   ]
  },
  {
   "cell_type": "code",
   "execution_count": null,
   "id": "61ad505c",
   "metadata": {},
   "outputs": [],
   "source": [
    "(marks\n",
    "    .drop(columns=['ФИО', 'Пол'])\n",
    "    .isin([4, 5])\n",
    "    .all()\n",
    ")"
   ]
  },
  {
   "cell_type": "code",
   "execution_count": null,
   "id": "9a9a286e",
   "metadata": {
    "scrolled": true
   },
   "outputs": [],
   "source": [
    "(marks\n",
    "    .drop(columns=['ФИО', 'Пол'])\n",
    "    .isin([4, 5])\n",
    "    .any()\n",
    ")"
   ]
  },
  {
   "cell_type": "code",
   "execution_count": null,
   "id": "4b3c8374",
   "metadata": {},
   "outputs": [],
   "source": [
    "(marks\n",
    "    .drop(columns=['ФИО', 'Пол']) \n",
    "    .isin([4, 5])\n",
    "    .all(axis=1)\n",
    ")"
   ]
  },
  {
   "cell_type": "code",
   "execution_count": null,
   "id": "c6274840",
   "metadata": {},
   "outputs": [],
   "source": [
    "(marks\n",
    "    .drop(columns=['ФИО', 'Пол'])\n",
    "    .isin([4, 5])\n",
    "    .any(axis=1)\n",
    ")"
   ]
  },
  {
   "cell_type": "code",
   "execution_count": null,
   "id": "aec0514b",
   "metadata": {},
   "outputs": [],
   "source": []
  },
  {
   "cell_type": "code",
   "execution_count": null,
   "id": "09c82a7e",
   "metadata": {},
   "outputs": [],
   "source": []
  },
  {
   "cell_type": "code",
   "execution_count": null,
   "id": "7d0f9add",
   "metadata": {},
   "outputs": [],
   "source": []
  },
  {
   "cell_type": "code",
   "execution_count": null,
   "id": "3b2de4bf",
   "metadata": {},
   "outputs": [],
   "source": []
  },
  {
   "cell_type": "code",
   "execution_count": null,
   "id": "c8c324d8",
   "metadata": {},
   "outputs": [],
   "source": []
  },
  {
   "cell_type": "markdown",
   "id": "b7896d51",
   "metadata": {},
   "source": [
    "#### Можно сравнивать стобцы таблицы между собой"
   ]
  },
  {
   "cell_type": "code",
   "execution_count": null,
   "id": "5c6775a3",
   "metadata": {},
   "outputs": [],
   "source": [
    "marks['Математика'] == marks['Русский язык']"
   ]
  },
  {
   "cell_type": "code",
   "execution_count": null,
   "id": "b15552ac",
   "metadata": {},
   "outputs": [],
   "source": [
    "marks['Математика'] > marks['Русский язык']"
   ]
  },
  {
   "cell_type": "code",
   "execution_count": null,
   "id": "9e52556b",
   "metadata": {},
   "outputs": [],
   "source": []
  },
  {
   "cell_type": "code",
   "execution_count": null,
   "id": "1b450072",
   "metadata": {},
   "outputs": [],
   "source": []
  },
  {
   "cell_type": "code",
   "execution_count": null,
   "id": "6a02a369",
   "metadata": {},
   "outputs": [],
   "source": []
  },
  {
   "cell_type": "code",
   "execution_count": null,
   "id": "09d5e1dd",
   "metadata": {},
   "outputs": [],
   "source": []
  },
  {
   "cell_type": "code",
   "execution_count": null,
   "id": "556788f9",
   "metadata": {},
   "outputs": [],
   "source": []
  },
  {
   "cell_type": "code",
   "execution_count": null,
   "id": "20b8ce29",
   "metadata": {},
   "outputs": [],
   "source": []
  },
  {
   "cell_type": "code",
   "execution_count": null,
   "id": "4f44ba2e",
   "metadata": {},
   "outputs": [],
   "source": []
  },
  {
   "cell_type": "code",
   "execution_count": null,
   "id": "612ed474",
   "metadata": {},
   "outputs": [],
   "source": []
  },
  {
   "cell_type": "code",
   "execution_count": null,
   "id": "77013cfe",
   "metadata": {},
   "outputs": [],
   "source": []
  },
  {
   "cell_type": "code",
   "execution_count": null,
   "id": "bfb39146",
   "metadata": {},
   "outputs": [],
   "source": []
  },
  {
   "cell_type": "markdown",
   "id": "5978f3ca",
   "metadata": {},
   "source": [
    "# Фильтрация строк"
   ]
  },
  {
   "cell_type": "markdown",
   "id": "7013eb26",
   "metadata": {},
   "source": [
    "__df[ ]__\n",
    "\n",
    "__df.loc[ ]__\n",
    "\n",
    "__df.iloc[ ]__"
   ]
  },
  {
   "cell_type": "code",
   "execution_count": null,
   "id": "ca455970",
   "metadata": {},
   "outputs": [],
   "source": [
    "marks['Математика'] == 3"
   ]
  },
  {
   "cell_type": "code",
   "execution_count": null,
   "id": "07333727",
   "metadata": {},
   "outputs": [],
   "source": [
    "marks[marks['Математика'] == 3].head(3)"
   ]
  },
  {
   "cell_type": "markdown",
   "id": "2a5efcde",
   "metadata": {},
   "source": [
    "#### Точно так же можно фильтровать объекты класса Series"
   ]
  },
  {
   "cell_type": "code",
   "execution_count": null,
   "id": "15cc021a",
   "metadata": {},
   "outputs": [],
   "source": [
    "math = marks['Математика'].copy()\n",
    "math[math >= 4]"
   ]
  },
  {
   "cell_type": "markdown",
   "id": "94bac6b2",
   "metadata": {},
   "source": [
    "Возьмем только отличников по физической культуре"
   ]
  },
  {
   "cell_type": "code",
   "execution_count": null,
   "id": "d748dd3c",
   "metadata": {},
   "outputs": [],
   "source": [
    "marks.loc[marks['Физическая культура'] == 5].head(3)"
   ]
  },
  {
   "cell_type": "markdown",
   "id": "ce7491e5",
   "metadata": {},
   "source": [
    "### Составные условия"
   ]
  },
  {
   "cell_type": "markdown",
   "id": "fc34f16c",
   "metadata": {},
   "source": [
    "1. & - проверка того, что оба условия выполняются\n",
    "2. | - проверка того, что хотя бы одно условие выполняется\n",
    "3. ~ - отрицание (меняет True на False и наоборот)"
   ]
  },
  {
   "cell_type": "code",
   "execution_count": null,
   "id": "cf56322f",
   "metadata": {},
   "outputs": [],
   "source": [
    "# отбираем тех, у кого по математике 5, а по русскому 4\n",
    "marks[(marks['Математика'] == 5) & (marks['Русский язык'] == 4)]"
   ]
  },
  {
   "cell_type": "code",
   "execution_count": null,
   "id": "93b50cec",
   "metadata": {},
   "outputs": [],
   "source": [
    "# Отбираем тех, у кого хотя бы по одному из двух предметов 5\n",
    "marks[(marks['Математика'] == 5) | (marks['Русский язык'] == 5)].head(3)"
   ]
  },
  {
   "cell_type": "code",
   "execution_count": null,
   "id": "c2093048",
   "metadata": {},
   "outputs": [],
   "source": [
    "# Отбираем тех, у кого по математике не 5\n",
    "marks[~(marks['Математика'] == 5)].head(3)"
   ]
  },
  {
   "cell_type": "code",
   "execution_count": null,
   "id": "29f09e14",
   "metadata": {},
   "outputs": [],
   "source": [
    "# Отбираем тех, у кого по математике не 5 и не 4\n",
    "marks[~(marks['Математика'].isin([5, 4]))].head(3)"
   ]
  },
  {
   "cell_type": "markdown",
   "id": "f3ba4013",
   "metadata": {},
   "source": [
    "## Несколько условий нужно писать в скобках"
   ]
  },
  {
   "cell_type": "markdown",
   "id": "d3356732",
   "metadata": {},
   "source": [
    "Если не использовать скобки:"
   ]
  },
  {
   "cell_type": "code",
   "execution_count": null,
   "id": "645c6457",
   "metadata": {},
   "outputs": [],
   "source": [
    "empl[empl['salary_fork'] == 1 & empl['closest_boss_pos_id'].notnull()].head(3)"
   ]
  },
  {
   "cell_type": "markdown",
   "id": "ec8d62af",
   "metadata": {},
   "source": [
    "Если использовать скобки (правильный вариант)"
   ]
  },
  {
   "cell_type": "code",
   "execution_count": null,
   "id": "7a36222c",
   "metadata": {
    "scrolled": true
   },
   "outputs": [],
   "source": [
    "empl[(empl['salary_fork'] == 1) & empl['closest_boss_pos_id'].notnull()].head(3)"
   ]
  },
  {
   "cell_type": "markdown",
   "id": "5f8dff21",
   "metadata": {},
   "source": [
    "Приоритет у операций и (&), или (|)  выше, чем у операции проверки на равенство"
   ]
  },
  {
   "cell_type": "code",
   "execution_count": null,
   "id": "76a0dadc",
   "metadata": {},
   "outputs": [],
   "source": [
    "1 == True"
   ]
  },
  {
   "cell_type": "code",
   "execution_count": null,
   "id": "8085959d",
   "metadata": {},
   "outputs": [],
   "source": [
    "0 == False"
   ]
  },
  {
   "cell_type": "markdown",
   "id": "86b6b61c",
   "metadata": {},
   "source": [
    "Порядок операций, когда мы не используем скобки:"
   ]
  },
  {
   "cell_type": "code",
   "execution_count": null,
   "id": "dc83f137",
   "metadata": {},
   "outputs": [],
   "source": [
    "empl['closest_boss_pos_id'].notnull()"
   ]
  },
  {
   "cell_type": "code",
   "execution_count": null,
   "id": "d49a6b12",
   "metadata": {},
   "outputs": [],
   "source": [
    "cnd = 1 & empl['closest_boss_pos_id'].notnull()\n",
    "\n",
    "# Внутри это условие воспринимается точно так же как\n",
    "True & empl['closest_boss_pos_id'].notnull()"
   ]
  },
  {
   "cell_type": "code",
   "execution_count": null,
   "id": "a983acbb",
   "metadata": {},
   "outputs": [],
   "source": [
    "empl[empl['salary_fork'] == 1 & empl['closest_boss_pos_id'].notnull()].head(3)\n",
    "empl[empl['salary_fork'] == (1 & empl['closest_boss_pos_id'].notnull())].head(3)"
   ]
  },
  {
   "cell_type": "code",
   "execution_count": null,
   "id": "3e554c9b",
   "metadata": {},
   "outputs": [],
   "source": []
  },
  {
   "cell_type": "code",
   "execution_count": null,
   "id": "dc5fd10c",
   "metadata": {},
   "outputs": [],
   "source": []
  },
  {
   "cell_type": "code",
   "execution_count": null,
   "id": "a8643d47",
   "metadata": {},
   "outputs": [],
   "source": []
  },
  {
   "cell_type": "code",
   "execution_count": null,
   "id": "690a546b",
   "metadata": {},
   "outputs": [],
   "source": []
  },
  {
   "cell_type": "markdown",
   "id": "7525ab71",
   "metadata": {},
   "source": [
    "# Метод query"
   ]
  },
  {
   "cell_type": "code",
   "execution_count": null,
   "id": "9e7d4369",
   "metadata": {},
   "outputs": [],
   "source": [
    "empl.query('salary_fork == 1').head(3)"
   ]
  },
  {
   "cell_type": "code",
   "execution_count": null,
   "id": "95a66bbb",
   "metadata": {},
   "outputs": [],
   "source": [
    "empl.query('pos_name == \"Продавец-консультант\"').head(3)"
   ]
  },
  {
   "cell_type": "code",
   "execution_count": null,
   "id": "fb17d3c5",
   "metadata": {},
   "outputs": [],
   "source": [
    "empl.query(\"report_dt == '2022-12-31'\").head(3)"
   ]
  },
  {
   "cell_type": "code",
   "execution_count": null,
   "id": "2ccbbee7",
   "metadata": {},
   "outputs": [],
   "source": [
    "empl.query('report_dt >= \"2021-12-31\"').head(3)"
   ]
  },
  {
   "cell_type": "code",
   "execution_count": null,
   "id": "75ed8087",
   "metadata": {},
   "outputs": [],
   "source": []
  },
  {
   "cell_type": "code",
   "execution_count": null,
   "id": "bf7a6431",
   "metadata": {},
   "outputs": [],
   "source": []
  },
  {
   "cell_type": "markdown",
   "id": "cc18c644",
   "metadata": {},
   "source": [
    "#### Две нижние записи значат одно и то же"
   ]
  },
  {
   "cell_type": "markdown",
   "id": "19cdbb30",
   "metadata": {},
   "source": [
    "Внутри метода можно использовать стандартные питоновские операторы"
   ]
  },
  {
   "cell_type": "code",
   "execution_count": null,
   "id": "36c5e262",
   "metadata": {},
   "outputs": [],
   "source": [
    "empl.query('(report_dt >= \"2021-12-31\") and (pos_name == \"Кассир\")').head(3)"
   ]
  },
  {
   "cell_type": "code",
   "execution_count": null,
   "id": "f920ef48",
   "metadata": {},
   "outputs": [],
   "source": [
    "empl.query('(report_dt >= \"2021-12-31\") or not (pos_name == \"Кассир\")').head(3)"
   ]
  },
  {
   "cell_type": "markdown",
   "id": "a6f5cacd",
   "metadata": {},
   "source": [
    "Проверка на вхождение"
   ]
  },
  {
   "cell_type": "code",
   "execution_count": null,
   "id": "5823aeb3",
   "metadata": {},
   "outputs": [],
   "source": [
    "marks.query('Математика in [3, 4]').head(3)"
   ]
  },
  {
   "cell_type": "code",
   "execution_count": null,
   "id": "8a471139",
   "metadata": {},
   "outputs": [],
   "source": [
    "empl.query('(report_dt >= \"2021-12-31\") | ~(pos_name == \"Кассир\")').head(3)"
   ]
  },
  {
   "cell_type": "code",
   "execution_count": null,
   "id": "bb3a4adf",
   "metadata": {},
   "outputs": [],
   "source": [
    "marks.query('Математика not in [3, 4]').head(3)"
   ]
  },
  {
   "cell_type": "markdown",
   "id": "36a29c13",
   "metadata": {},
   "source": [
    "Несколько условий, соедиененых союзом и можно записывать в нескольких методах подряд"
   ]
  },
  {
   "cell_type": "code",
   "execution_count": null,
   "id": "d97dfea7",
   "metadata": {},
   "outputs": [],
   "source": [
    "(empl\n",
    "    .query('report_dt >= \"2021-12-31\"')\n",
    "    .query('pos_name == \"Кассир\"')\n",
    "    .head(3)\n",
    ")"
   ]
  },
  {
   "cell_type": "code",
   "execution_count": null,
   "id": "ba3b1c1d",
   "metadata": {},
   "outputs": [],
   "source": []
  },
  {
   "cell_type": "code",
   "execution_count": null,
   "id": "996482ce",
   "metadata": {},
   "outputs": [],
   "source": []
  },
  {
   "cell_type": "markdown",
   "id": "167b4c4a",
   "metadata": {},
   "source": [
    "### Колонка, содержащая пробел выделяется ` (там где ё)"
   ]
  },
  {
   "cell_type": "code",
   "execution_count": null,
   "id": "e48d45e4",
   "metadata": {},
   "outputs": [],
   "source": [
    "marks.query('`Физическая культура` == 5').head(3)"
   ]
  },
  {
   "cell_type": "code",
   "execution_count": null,
   "id": "d149339c",
   "metadata": {},
   "outputs": [],
   "source": [
    "marks.query('`Физическая культура` == История').head(3)"
   ]
  },
  {
   "cell_type": "markdown",
   "id": "94ed8070",
   "metadata": {},
   "source": [
    "#### Использование переменных"
   ]
  },
  {
   "cell_type": "code",
   "execution_count": null,
   "id": "fbf7b277",
   "metadata": {},
   "outputs": [],
   "source": [
    "students = [\n",
    "    'Мартынова Елизаваета Фёдоровна',\n",
    "    'Савина Виктория Тимуровна',\n",
    "    'Гладкова Мария Максимовна',\n",
    "    'Лапина Юлия Маратовна',\n",
    "]"
   ]
  },
  {
   "cell_type": "code",
   "execution_count": null,
   "id": "4a83722d",
   "metadata": {},
   "outputs": [],
   "source": [
    "marks.query('ФИО in @students')"
   ]
  },
  {
   "cell_type": "code",
   "execution_count": null,
   "id": "20bb6192",
   "metadata": {},
   "outputs": [],
   "source": [
    "marks.query(f'ФИО in {students}')"
   ]
  },
  {
   "cell_type": "code",
   "execution_count": null,
   "id": "331cdf1e",
   "metadata": {},
   "outputs": [],
   "source": [
    "date = '2015-01-31'\n",
    "empl.query('report_dt == @date').head(3)"
   ]
  },
  {
   "cell_type": "code",
   "execution_count": null,
   "id": "aa99833a",
   "metadata": {},
   "outputs": [],
   "source": [
    "date = '2015-01-31'\n",
    "empl.query(f'report_dt == \"{date}\"').head(3)"
   ]
  },
  {
   "cell_type": "code",
   "execution_count": null,
   "id": "44d8ed65",
   "metadata": {},
   "outputs": [],
   "source": []
  },
  {
   "cell_type": "code",
   "execution_count": null,
   "id": "3c86af8c",
   "metadata": {},
   "outputs": [],
   "source": []
  },
  {
   "cell_type": "code",
   "execution_count": null,
   "id": "43ea886d",
   "metadata": {},
   "outputs": [],
   "source": []
  },
  {
   "cell_type": "code",
   "execution_count": null,
   "id": "51194514",
   "metadata": {},
   "outputs": [],
   "source": []
  },
  {
   "cell_type": "markdown",
   "id": "9bd0d09b",
   "metadata": {},
   "source": [
    "Можно использовать методы"
   ]
  },
  {
   "cell_type": "code",
   "execution_count": null,
   "id": "258764c0",
   "metadata": {},
   "outputs": [],
   "source": [
    "empl.query('closest_boss_pos_id.isna()').head(3)"
   ]
  },
  {
   "cell_type": "code",
   "execution_count": null,
   "id": "6d391450",
   "metadata": {},
   "outputs": [],
   "source": [
    "marks.query('`Физическая культура`.isin([3, 4])').head(3)"
   ]
  },
  {
   "cell_type": "code",
   "execution_count": null,
   "id": "66820413",
   "metadata": {},
   "outputs": [],
   "source": [
    "marks.query(\"ФИО.str.contains('Данил')\")"
   ]
  },
  {
   "cell_type": "markdown",
   "id": "225f679a",
   "metadata": {},
   "source": [
    "Удобно использовать метод query совместно с методом assign"
   ]
  },
  {
   "cell_type": "code",
   "execution_count": null,
   "id": "5b5bae7c",
   "metadata": {},
   "outputs": [],
   "source": [
    "(marks\n",
    "    .assign(math_rus_history_mean = lambda x: \n",
    "            (x[\"Математика\"] + x[\"Русский язык\"] + x[\"История\"]) / 3\n",
    "           )\n",
    "    .query('math_rus_history_mean >= 4')\n",
    "    .drop('math_rus_history_mean', axis=1)\n",
    "    .head(3)\n",
    ")"
   ]
  },
  {
   "cell_type": "markdown",
   "id": "f4cb98d8",
   "metadata": {},
   "source": [
    "У объектов Series метода query нет. Но их можно переделать в датафрейм"
   ]
  },
  {
   "cell_type": "code",
   "execution_count": null,
   "id": "ca3c7a3c",
   "metadata": {},
   "outputs": [],
   "source": [
    "math.to_frame().query('Математика == [4, 5]')['Математика'].head()"
   ]
  },
  {
   "cell_type": "code",
   "execution_count": null,
   "id": "9c35230d",
   "metadata": {},
   "outputs": [],
   "source": []
  },
  {
   "cell_type": "code",
   "execution_count": null,
   "id": "f56a7e9d",
   "metadata": {},
   "outputs": [],
   "source": []
  },
  {
   "cell_type": "code",
   "execution_count": null,
   "id": "a7cda854",
   "metadata": {},
   "outputs": [],
   "source": []
  },
  {
   "cell_type": "code",
   "execution_count": null,
   "id": "9b9145c3",
   "metadata": {},
   "outputs": [],
   "source": []
  },
  {
   "cell_type": "markdown",
   "id": "2478a7ce",
   "metadata": {},
   "source": [
    "#### Избавляемся от дубликатов"
   ]
  },
  {
   "cell_type": "markdown",
   "id": "055ba551",
   "metadata": {},
   "source": [
    "### В метод loc можно передать функцию, которая на вход принимает датафрейм. Возвращать она должна массив True False"
   ]
  },
  {
   "cell_type": "markdown",
   "id": "78cbc8a7",
   "metadata": {},
   "source": [
    "Здесь мы хотим вернуть только те строки по стобцам i_pernr и fio, которые представлены в единственном экземпляре"
   ]
  },
  {
   "cell_type": "code",
   "execution_count": null,
   "id": "2c03f05d",
   "metadata": {},
   "outputs": [],
   "source": [
    "empl.loc[lambda x: ~x.duplicated('i_pernr', keep=False)].head(3)"
   ]
  },
  {
   "cell_type": "markdown",
   "id": "e8f9c1c8",
   "metadata": {},
   "source": [
    "Метод loc удобно использовать если надо проверить условие на всю строку или на значительную часть строки"
   ]
  },
  {
   "cell_type": "code",
   "execution_count": null,
   "id": "2865fc6a",
   "metadata": {},
   "outputs": [],
   "source": [
    "marks.loc[lambda x: x\n",
    "    .drop(columns=['ФИО', 'Пол'])\n",
    "    .isin([5]) # или можно использовать .eq(5)\n",
    "    .all(axis=1)\n",
    "          ]"
   ]
  },
  {
   "cell_type": "markdown",
   "id": "d009f12f",
   "metadata": {},
   "source": [
    "Правда через query это тоже можно сделать"
   ]
  },
  {
   "cell_type": "code",
   "execution_count": null,
   "id": "029ee6d3",
   "metadata": {},
   "outputs": [],
   "source": [
    "(marks\n",
    "    .assign(otlichik = lambda x: x.drop(columns=['ФИО', 'Пол'])\n",
    "                                    .isin([5]).all(axis=1)\n",
    "           )\n",
    "    .query('otlichik')\n",
    "    .drop('otlichik', axis=1)\n",
    ")"
   ]
  },
  {
   "cell_type": "code",
   "execution_count": null,
   "id": "cff6c868",
   "metadata": {},
   "outputs": [],
   "source": []
  },
  {
   "cell_type": "markdown",
   "id": "42415f4e",
   "metadata": {},
   "source": [
    "### Метод drop_duplicates"
   ]
  },
  {
   "cell_type": "markdown",
   "id": "8a54b38c",
   "metadata": {},
   "source": [
    "Оставляем строку если она не встречалась выше в таблице"
   ]
  },
  {
   "cell_type": "code",
   "execution_count": null,
   "id": "20eebdb2",
   "metadata": {},
   "outputs": [],
   "source": [
    "empl.drop_duplicates().head(3)"
   ]
  },
  {
   "cell_type": "code",
   "execution_count": null,
   "id": "9ac6ee23",
   "metadata": {},
   "outputs": [],
   "source": [
    "empl.drop_duplicates('i_pernr', keep='first').head(3) # Это значение по умолчанию"
   ]
  },
  {
   "cell_type": "markdown",
   "id": "c1e6b955",
   "metadata": {},
   "source": [
    "Оставляем строку если она не встречалась ниже в таблице"
   ]
  },
  {
   "cell_type": "code",
   "execution_count": null,
   "id": "2c09399b",
   "metadata": {},
   "outputs": [],
   "source": [
    "empl.drop_duplicates('i_pernr', keep='last').head()"
   ]
  },
  {
   "cell_type": "markdown",
   "id": "b99b9106",
   "metadata": {},
   "source": [
    "Возвращаем только те строки, которые представленны в единственном экземпляре "
   ]
  },
  {
   "cell_type": "code",
   "execution_count": null,
   "id": "35839a6c",
   "metadata": {},
   "outputs": [],
   "source": [
    "empl.drop_duplicates('i_pernr', keep=False).head(3)"
   ]
  },
  {
   "cell_type": "code",
   "execution_count": null,
   "id": "ad0893d8",
   "metadata": {},
   "outputs": [],
   "source": []
  },
  {
   "cell_type": "code",
   "execution_count": null,
   "id": "01725c53",
   "metadata": {},
   "outputs": [],
   "source": []
  },
  {
   "cell_type": "code",
   "execution_count": null,
   "id": "8a6ebc79",
   "metadata": {},
   "outputs": [],
   "source": []
  },
  {
   "cell_type": "code",
   "execution_count": null,
   "id": "7f709ba2",
   "metadata": {},
   "outputs": [],
   "source": []
  },
  {
   "cell_type": "code",
   "execution_count": null,
   "id": "35a77744",
   "metadata": {},
   "outputs": [],
   "source": []
  },
  {
   "cell_type": "markdown",
   "id": "adb1b85d",
   "metadata": {},
   "source": [
    "# Присваивание значений на основе условий"
   ]
  },
  {
   "cell_type": "code",
   "execution_count": null,
   "id": "d96f207b",
   "metadata": {},
   "outputs": [],
   "source": [
    "marks_copy = marks.copy()\n",
    "marks_copy.head()"
   ]
  },
  {
   "cell_type": "code",
   "execution_count": null,
   "id": "480c5775",
   "metadata": {},
   "outputs": [],
   "source": [
    "# Условие на то, что человек хорошист\n",
    "condition = (\n",
    "    marks_copy\n",
    "    .drop(columns=['ФИО', 'Пол'])\n",
    "    .isin([4, 5])\n",
    "    .all(axis=1)\n",
    ")\n",
    "condition.head()"
   ]
  },
  {
   "cell_type": "markdown",
   "id": "89c2b282",
   "metadata": {},
   "source": [
    "#### Использование атрибута loc"
   ]
  },
  {
   "cell_type": "code",
   "execution_count": null,
   "id": "61a4f978",
   "metadata": {},
   "outputs": [],
   "source": [
    "marks_copy.loc[condition, 'Характеристика'] = 'Учится хорошо'\n",
    "marks_copy.loc[~condition, 'Характеристика'] = 'Учится плохо'\n",
    "marks_copy.head()"
   ]
  },
  {
   "cell_type": "code",
   "execution_count": null,
   "id": "c3c337cd",
   "metadata": {},
   "outputs": [],
   "source": []
  },
  {
   "cell_type": "code",
   "execution_count": null,
   "id": "ed46c974",
   "metadata": {},
   "outputs": [],
   "source": []
  },
  {
   "cell_type": "code",
   "execution_count": null,
   "id": "54cfddeb",
   "metadata": {},
   "outputs": [],
   "source": []
  },
  {
   "cell_type": "markdown",
   "id": "506431f6",
   "metadata": {},
   "source": [
    "### where"
   ]
  },
  {
   "cell_type": "markdown",
   "id": "3238325b",
   "metadata": {},
   "source": [
    "Синсаксис:\n",
    "\n",
    "np.where(условие, значение если условие выполняется, значение если условие не выполняется)"
   ]
  },
  {
   "cell_type": "code",
   "execution_count": null,
   "id": "ec591030",
   "metadata": {},
   "outputs": [],
   "source": [
    "np.where(marks.drop(columns=['ФИО', 'Пол']).isin([4, 5]).all(axis=1), # прописываем условие\n",
    "        'Учится хорошо', 'Учится плохо') # Значение если условие выполняется и не выполняется"
   ]
  },
  {
   "cell_type": "code",
   "execution_count": null,
   "id": "05cfa5f8",
   "metadata": {},
   "outputs": [],
   "source": []
  },
  {
   "cell_type": "code",
   "execution_count": null,
   "id": "ca7276b6",
   "metadata": {},
   "outputs": [],
   "source": []
  },
  {
   "cell_type": "code",
   "execution_count": null,
   "id": "ed70c192",
   "metadata": {},
   "outputs": [],
   "source": []
  },
  {
   "cell_type": "code",
   "execution_count": null,
   "id": "b42b0e66",
   "metadata": {},
   "outputs": [],
   "source": [
    "(marks\n",
    "    .assign(characteristic = lambda x: np.where(x.drop(columns=['ФИО', 'Пол'])\n",
    "                                                 .isin([4, 5]).all(axis=1),\n",
    "                                        'Учится хорошо', 'Учится плохо'))\n",
    "    .head()\n",
    ")"
   ]
  },
  {
   "cell_type": "code",
   "execution_count": null,
   "id": "949f32c8",
   "metadata": {},
   "outputs": [],
   "source": [
    "(empl\n",
    "    .assign(bonus = lambda x: np.where(x['mgmt_flag']==1,\n",
    "                                       x['salary']*0.2,\n",
    "                                       x['salary']*0.1)\n",
    "           )\n",
    "    .head()\n",
    ")"
   ]
  },
  {
   "cell_type": "code",
   "execution_count": null,
   "id": "3ea484ac",
   "metadata": {},
   "outputs": [],
   "source": [
    "(empl\n",
    "    .assign(bonus = lambda x: np.where(x['mgmt_flag']==1,\n",
    "                                       x['salary']*0.2,\n",
    "                                       500)\n",
    "           )\n",
    "    .head()\n",
    ")"
   ]
  },
  {
   "cell_type": "code",
   "execution_count": null,
   "id": "355e2c52",
   "metadata": {},
   "outputs": [],
   "source": []
  },
  {
   "cell_type": "markdown",
   "id": "190c60a9",
   "metadata": {},
   "source": [
    "### В пандасе есть метод where и mask"
   ]
  },
  {
   "cell_type": "code",
   "execution_count": null,
   "id": "abca51c5",
   "metadata": {},
   "outputs": [],
   "source": [
    "empl['salary'].where(empl['mgmt_flag'] == 1, # условие\n",
    "                     empl['salary'] * 0.2) # значение если условие не выполняется\n",
    "# Если условие выполняется, то берется значение из колоноки salary"
   ]
  },
  {
   "cell_type": "code",
   "execution_count": null,
   "id": "577a370b",
   "metadata": {},
   "outputs": [],
   "source": [
    "empl['salary'].mask(empl['mgmt_flag'] == 1, # услвоие\n",
    "                    empl['salary'] * 0.2) # значение если условие выполняется\n",
    "# Если условие не выполняется, то берется значение из колоноки salary"
   ]
  },
  {
   "cell_type": "code",
   "execution_count": null,
   "id": "e1ae119a",
   "metadata": {},
   "outputs": [],
   "source": []
  },
  {
   "cell_type": "markdown",
   "id": "2066b264",
   "metadata": {},
   "source": [
    "#### Внутри методов можно использовать функции"
   ]
  },
  {
   "cell_type": "code",
   "execution_count": null,
   "id": "af0c97ea",
   "metadata": {},
   "outputs": [],
   "source": [
    "empl['salary'].where(lambda x: x > 35000, # услвоие\n",
    "                     empl['salary'] * 1.2) # значение если условие не выполняется\n",
    "# Если условие выполняется, то берется значение из колоноки salary"
   ]
  },
  {
   "cell_type": "markdown",
   "id": "99e8965c",
   "metadata": {},
   "source": [
    "### select\n",
    "#### Синтаксис:\n",
    "\n",
    "np.select(список условий, список значений, значение если не выполнилось ни одно условие)\n",
    "\n",
    "Длинна списоков с условиями и значениями должна быть равна\n",
    "\n",
    "Условия проверяются в том порядке, в котором они написаны. Если выполнилось одно из условий дальше условия не проверяются"
   ]
  },
  {
   "cell_type": "code",
   "execution_count": null,
   "id": "72cc7385",
   "metadata": {},
   "outputs": [],
   "source": [
    "np.select(\n",
    "    [marks.drop(columns=['ФИО', 'Пол']).isin([5]).all(axis=1),\n",
    "    marks.drop(columns=['ФИО', 'Пол']).isin([5, 4]).all(axis=1)],\n",
    "    \n",
    "    ['Отличник', 'Хорошист'], 'Троешник')"
   ]
  },
  {
   "cell_type": "code",
   "execution_count": null,
   "id": "7a992932",
   "metadata": {},
   "outputs": [],
   "source": [
    "(marks\n",
    "    .assign(characteristics = lambda x: np.select(\n",
    "        [x.drop(columns=['ФИО', 'Пол']).isin([5]).all(axis=1),\n",
    "        x.drop(columns=['ФИО', 'Пол']).isin([5, 4]).all(axis=1)],\n",
    "        ['Отличник', 'Хорошист'], 'Троешник'))\n",
    "    .head()\n",
    ")"
   ]
  },
  {
   "cell_type": "code",
   "execution_count": null,
   "id": "25e767fa",
   "metadata": {},
   "outputs": [],
   "source": [
    "(marks\n",
    "    .assign(characteristics=lambda x: np.select(\n",
    "        [marks.drop(columns=['ФИО', 'Пол']).isin([5]).all(axis=1),\n",
    "        marks.drop(columns=['ФИО', 'Пол']).isin([5, 4]).all(axis=1)],\n",
    "        ['Отличник', 'Хорошист'], 'Троешник'))\n",
    "#     .query('characteristics == \"Отличник\"')\n",
    "    .query('characteristics == \"Хорошист\"')\n",
    "#     .query('characteristics == \"Троешник\"')\n",
    "    .head()\n",
    ")"
   ]
  },
  {
   "cell_type": "code",
   "execution_count": null,
   "id": "6e75db36",
   "metadata": {},
   "outputs": [],
   "source": []
  },
  {
   "cell_type": "markdown",
   "id": "0dac4d73",
   "metadata": {},
   "source": [
    "### np.minimum и np.maximum\n",
    "\n",
    "Функции позволяют сравнивать несколько массивов между собой и возвращать минимум/максимум по каждой строке"
   ]
  },
  {
   "cell_type": "code",
   "execution_count": null,
   "id": "3d0e1bff",
   "metadata": {},
   "outputs": [],
   "source": [
    "np.minimum(marks['Математика'], marks['История'])"
   ]
  },
  {
   "cell_type": "code",
   "execution_count": null,
   "id": "af81bc71",
   "metadata": {},
   "outputs": [],
   "source": [
    "np.minimum(marks['Математика'], marks['История'], marks['Физика'])"
   ]
  },
  {
   "cell_type": "markdown",
   "id": "0147b7c7",
   "metadata": {},
   "source": [
    "Массив можно сравнивать с константой"
   ]
  },
  {
   "cell_type": "code",
   "execution_count": null,
   "id": "809032aa",
   "metadata": {},
   "outputs": [],
   "source": [
    "np.maximum(marks['Математика'], 4)"
   ]
  },
  {
   "cell_type": "markdown",
   "id": "69aa655e",
   "metadata": {},
   "source": [
    "### Clip\n",
    "\n",
    "Позволяет обрезать значния. \n",
    "\n",
    "Все значения ниже указанного числа станут равны указанному числу"
   ]
  },
  {
   "cell_type": "code",
   "execution_count": null,
   "id": "e66cb537",
   "metadata": {},
   "outputs": [],
   "source": [
    "empl['salary']"
   ]
  },
  {
   "cell_type": "code",
   "execution_count": null,
   "id": "0f6a7854",
   "metadata": {
    "scrolled": true
   },
   "outputs": [],
   "source": [
    "empl['salary'].clip(30000)"
   ]
  },
  {
   "cell_type": "code",
   "execution_count": null,
   "id": "d39235a0",
   "metadata": {},
   "outputs": [],
   "source": [
    "# минималььное значение равно 30000\n",
    "empl['salary'].clip(30000).min()"
   ]
  },
  {
   "cell_type": "markdown",
   "id": "ea7ff035",
   "metadata": {},
   "source": [
    "Если указать два значения, то все значения выше второго будут тоже обрезаны"
   ]
  },
  {
   "cell_type": "code",
   "execution_count": null,
   "id": "1910821a",
   "metadata": {},
   "outputs": [],
   "source": [
    "empl['salary'].clip(30000, 90000)"
   ]
  },
  {
   "cell_type": "code",
   "execution_count": null,
   "id": "5521e86e",
   "metadata": {},
   "outputs": [],
   "source": [
    "empl['salary'].clip(30000, 90000).min()"
   ]
  },
  {
   "cell_type": "code",
   "execution_count": null,
   "id": "2ce0cf42",
   "metadata": {},
   "outputs": [],
   "source": [
    "empl['salary'].clip(30000, 90000).max()"
   ]
  },
  {
   "cell_type": "code",
   "execution_count": null,
   "id": "8f72a190",
   "metadata": {},
   "outputs": [],
   "source": []
  },
  {
   "cell_type": "code",
   "execution_count": null,
   "id": "4c9507b3",
   "metadata": {},
   "outputs": [],
   "source": []
  },
  {
   "cell_type": "code",
   "execution_count": null,
   "id": "80248f37",
   "metadata": {},
   "outputs": [],
   "source": []
  },
  {
   "cell_type": "code",
   "execution_count": null,
   "id": "4b54a17c",
   "metadata": {},
   "outputs": [],
   "source": []
  },
  {
   "cell_type": "code",
   "execution_count": null,
   "id": "1cc887e6",
   "metadata": {},
   "outputs": [],
   "source": []
  },
  {
   "cell_type": "code",
   "execution_count": null,
   "id": "f771052b",
   "metadata": {},
   "outputs": [],
   "source": []
  },
  {
   "cell_type": "code",
   "execution_count": null,
   "id": "dfc21644",
   "metadata": {},
   "outputs": [],
   "source": []
  },
  {
   "cell_type": "code",
   "execution_count": null,
   "id": "45a436d6",
   "metadata": {},
   "outputs": [],
   "source": []
  },
  {
   "cell_type": "code",
   "execution_count": null,
   "id": "4390c681",
   "metadata": {},
   "outputs": [],
   "source": []
  },
  {
   "cell_type": "code",
   "execution_count": null,
   "id": "252dffec",
   "metadata": {},
   "outputs": [],
   "source": []
  },
  {
   "cell_type": "markdown",
   "id": "fc62805b",
   "metadata": {},
   "source": [
    "# Задания"
   ]
  },
  {
   "cell_type": "markdown",
   "id": "caa00d43",
   "metadata": {},
   "source": [
    "#### Описание таблиц лежит [здесь](https://github.com/victorlymarev/pandas/tree/main/tables#%D0%BE%D0%BF%D0%B8%D1%81%D0%B0%D0%BD%D0%B8%D0%B5-%D1%82%D0%B0%D0%B1%D0%BB%D0%B8%D1%86)"
   ]
  },
  {
   "cell_type": "markdown",
   "id": "642ccb48",
   "metadata": {},
   "source": [
    "Некоторые таблицы занимают много памяти, поэтому каждые 5-10 заданий лучше перезапускайте ноутбук.\n",
    "\n",
    "В формулировке некоторых заданий может содержаться вариативность. Если у вас есть сомнения, что требуется в задании, попробуйте решить несколько вариантов. Если вы не понимаете задание, можете написать об этом в комментариях под видео.\n",
    "\n",
    "В большинстве случаев внешний вид итоговой таблицы не определен. Выведите на экран наиболее адекватный вариант. То есть таблицу, из которой можно будет сделать выводы.\n",
    "\n",
    "Курс пока находится в разработке. Вы можете помочь другим людям добавив свое решение [сюда](https://docs.google.com/forms/d/1HYTBz_KfssY3Jps2dC3n0YnEqa6WBb5OIhLo1d32Xzw/edit).\n",
    "\n",
    "Посмотреть решения других людей можно [здесь](https://docs.google.com/spreadsheets/d/1pMDYO-9UneLbPPnEuQ2shig0TOJdQTU-zipifyAnZMk/edit?resourcekey#gid=1998648012)"
   ]
  },
  {
   "cell_type": "markdown",
   "id": "276fae2e",
   "metadata": {},
   "source": [
    "### Задание 1\n",
    "\n",
    "Из таблицы w_ends выберите выходные дни"
   ]
  },
  {
   "cell_type": "code",
   "execution_count": null,
   "id": "8c3f4160",
   "metadata": {},
   "outputs": [],
   "source": [
    "import os\n",
    "import pandas as pd\n",
    "\n",
    "path_w_ends = '../tables/выходные.csv' if os.path.exists('../tables/выходные.csv') else 'https://drive.google.com/uc?id=1hAsoXSPTFihFmBuF-E0uSj9pX4gpojwC'\n",
    "\n",
    "w_ends = pd.read_csv(path_w_ends)\n",
    "w_ends.head()"
   ]
  },
  {
   "cell_type": "code",
   "execution_count": null,
   "id": "99a9855b",
   "metadata": {},
   "outputs": [],
   "source": [
    "# Напишите свой код здесь"
   ]
  },
  {
   "cell_type": "markdown",
   "id": "f69a9c31",
   "metadata": {},
   "source": [
    "### Задание 2\n",
    "\n",
    "Выберите строки таблицы stocks, когда минимальная цена была выше 300"
   ]
  },
  {
   "cell_type": "code",
   "execution_count": null,
   "id": "4bd62339",
   "metadata": {},
   "outputs": [],
   "source": [
    "import os\n",
    "import pandas as pd\n",
    "\n",
    "path_stocks = '../tables/stocks.parquet' if os.path.exists('../tables/stocks.parquet') else 'https://drive.google.com/uc?id=1weGquTtmR92mKYAeZhZCFHJjndyoSXZt'\n",
    "\n",
    "stocks = pd.read_parquet(path_stocks)\n",
    "stocks.head()"
   ]
  },
  {
   "cell_type": "code",
   "execution_count": null,
   "id": "39106ac9",
   "metadata": {},
   "outputs": [],
   "source": [
    "# Напишите свой код здесь"
   ]
  },
  {
   "cell_type": "markdown",
   "id": "4e353c6e",
   "metadata": {},
   "source": [
    "### Задание 3\n",
    "\n",
    "Из таблицы shops выберите магазины из Москвы, Саратова и Оренбурга"
   ]
  },
  {
   "cell_type": "code",
   "execution_count": null,
   "id": "a0742fce",
   "metadata": {},
   "outputs": [],
   "source": [
    "import os\n",
    "import pandas as pd\n",
    "\n",
    "path_shops = '../tables/shops.xlsx' if os.path.exists('../tables/shops.xlsx') else 'https://drive.google.com/uc?id=1gfnmceJa3Mc1X06NftTx9G9QfKfprjEB'\n",
    "\n",
    "shops = pd.read_excel(path_shops)\n",
    "shops"
   ]
  },
  {
   "cell_type": "code",
   "execution_count": null,
   "id": "dc2f29e0",
   "metadata": {},
   "outputs": [],
   "source": [
    "# Напишите свой код здесь"
   ]
  },
  {
   "cell_type": "markdown",
   "id": "34d67925",
   "metadata": {},
   "source": [
    "### Задание 4\n",
    "\n",
    "Верно ли что все мелкие магазины расположены вне торговых центров?"
   ]
  },
  {
   "cell_type": "code",
   "execution_count": null,
   "id": "7099b34b",
   "metadata": {},
   "outputs": [],
   "source": [
    "import os\n",
    "import pandas as pd\n",
    "\n",
    "path_shops = '../tables/shops.xlsx' if os.path.exists('../tables/shops.xlsx') else 'https://drive.google.com/uc?id=1gfnmceJa3Mc1X06NftTx9G9QfKfprjEB'\n",
    "\n",
    "shops = pd.read_excel(path_shops)\n",
    "shops"
   ]
  },
  {
   "cell_type": "code",
   "execution_count": null,
   "id": "24b3674d",
   "metadata": {},
   "outputs": [],
   "source": [
    "# Напишите свой код здесь"
   ]
  },
  {
   "cell_type": "markdown",
   "id": "b6ca47d1",
   "metadata": {},
   "source": [
    "### Задание 5\n",
    "\n",
    "Выведите имена сотрудниковт мужского пола, которые встречаются в таблице empl только 1 раз"
   ]
  },
  {
   "cell_type": "code",
   "execution_count": null,
   "id": "40a86996",
   "metadata": {},
   "outputs": [],
   "source": [
    "import os\n",
    "import pandas as pd\n",
    "\n",
    "path_empl = '../tables/employees.parquet' if os.path.exists('../tables/employees.parquet') else 'https://drive.google.com/uc?id=1AARD5-eVlCxoApt5CYZebrC3Cqw42lvj'\n",
    "\n",
    "empl = pd.read_parquet(path_empl)\n",
    "empl.head()"
   ]
  },
  {
   "cell_type": "code",
   "execution_count": null,
   "id": "6c6afd40",
   "metadata": {},
   "outputs": [],
   "source": [
    "# Напишите свой код здесь"
   ]
  },
  {
   "cell_type": "markdown",
   "id": "a09ea7e6",
   "metadata": {},
   "source": [
    "### Задание 6\n",
    "\n",
    "Сколько уникальных зарплат было в магазинах 31 марта 2020 года?"
   ]
  },
  {
   "cell_type": "code",
   "execution_count": null,
   "id": "6e27a3b4",
   "metadata": {},
   "outputs": [],
   "source": [
    "import os\n",
    "import pandas as pd\n",
    "\n",
    "path_empl = '../tables/employees.parquet' if os.path.exists('../tables/employees.parquet') else 'https://drive.google.com/uc?id=1AARD5-eVlCxoApt5CYZebrC3Cqw42lvj'\n",
    "\n",
    "empl = pd.read_parquet(path_empl)\n",
    "empl.head()"
   ]
  },
  {
   "cell_type": "code",
   "execution_count": null,
   "id": "abef7e48",
   "metadata": {},
   "outputs": [],
   "source": [
    "# Напишите свой код здесь"
   ]
  },
  {
   "cell_type": "markdown",
   "id": "e2a1fadf",
   "metadata": {},
   "source": [
    "### Задание 7\n",
    "\n",
    "Выведите табельные номера (i_pernr) и имена кассиров и старших кассиров, которые когда-либо зарабатывали в магазине менее 20000. В итоговой таблице не должно быть дубликатов"
   ]
  },
  {
   "cell_type": "code",
   "execution_count": null,
   "id": "d7261e92",
   "metadata": {},
   "outputs": [],
   "source": [
    "import os\n",
    "import pandas as pd\n",
    "\n",
    "path_empl = '../tables/employees.parquet' if os.path.exists('../tables/employees.parquet') else 'https://drive.google.com/uc?id=1AARD5-eVlCxoApt5CYZebrC3Cqw42lvj'\n",
    "\n",
    "empl = pd.read_parquet(path_empl)\n",
    "empl.head()"
   ]
  },
  {
   "cell_type": "code",
   "execution_count": null,
   "id": "bc45ad3b",
   "metadata": {},
   "outputs": [],
   "source": [
    "# Напишите свой код здесь"
   ]
  },
  {
   "cell_type": "markdown",
   "id": "1b862f7d",
   "metadata": {},
   "source": [
    "### Задание 8\n",
    "\n",
    "Выберите тех сотрудников, у которых в июле 2021 года либо не было оценки, либо оценка была выше 7"
   ]
  },
  {
   "cell_type": "code",
   "execution_count": null,
   "id": "bdc85d4d",
   "metadata": {},
   "outputs": [],
   "source": [
    "import os\n",
    "import pandas as pd\n",
    "\n",
    "path_empl = '../tables/employees.parquet' if os.path.exists('../tables/employees.parquet') else 'https://drive.google.com/uc?id=1AARD5-eVlCxoApt5CYZebrC3Cqw42lvj'\n",
    "\n",
    "empl = pd.read_parquet(path_empl)\n",
    "empl.head()"
   ]
  },
  {
   "cell_type": "code",
   "execution_count": null,
   "id": "8aeffd9b",
   "metadata": {},
   "outputs": [],
   "source": [
    "# Напишите свой код здесь"
   ]
  },
  {
   "cell_type": "markdown",
   "id": "a57cd5fc",
   "metadata": {},
   "source": [
    "### Задание 9\n",
    "\n",
    "Создайте колонку est. Она будет принимать значение 'Работает хорошо' если оценка больше или равна 6 и 'Работает полохо' иначе"
   ]
  },
  {
   "cell_type": "code",
   "execution_count": null,
   "id": "3973c932",
   "metadata": {},
   "outputs": [],
   "source": [
    "import os\n",
    "import pandas as pd\n",
    "\n",
    "path_empl = '../tables/employees.parquet' if os.path.exists('../tables/employees.parquet') else 'https://drive.google.com/uc?id=1AARD5-eVlCxoApt5CYZebrC3Cqw42lvj'\n",
    "\n",
    "empl = pd.read_parquet(path_empl)\n",
    "empl.head()"
   ]
  },
  {
   "cell_type": "code",
   "execution_count": null,
   "id": "ada5653c",
   "metadata": {},
   "outputs": [],
   "source": [
    "# Напишите свой код здесь"
   ]
  },
  {
   "cell_type": "markdown",
   "id": "c8752402",
   "metadata": {},
   "source": [
    "### Задание 10\n",
    "\n",
    "Создайте колонку est. Она будет принимать значение 'Работает хорошо' если оценка больше или равна 6, 'Работает полохо' если  оценка ниже 6 и 'Непонятно' иначе"
   ]
  },
  {
   "cell_type": "code",
   "execution_count": null,
   "id": "49011114",
   "metadata": {},
   "outputs": [],
   "source": [
    "import os\n",
    "import pandas as pd\n",
    "\n",
    "path_empl = '../tables/employees.parquet' if os.path.exists('../tables/employees.parquet') else 'https://drive.google.com/uc?id=1AARD5-eVlCxoApt5CYZebrC3Cqw42lvj'\n",
    "\n",
    "empl = pd.read_parquet(path_empl)\n",
    "empl.head()"
   ]
  },
  {
   "cell_type": "code",
   "execution_count": null,
   "id": "5b5b4b2f",
   "metadata": {},
   "outputs": [],
   "source": [
    "# Напишите свой код здесь"
   ]
  },
  {
   "cell_type": "markdown",
   "id": "23535e3d",
   "metadata": {},
   "source": [
    "### Задание 11\n",
    "\n",
    "Найте минимиальную оценку по русскому языку, математике и истории для каждого школьника"
   ]
  },
  {
   "cell_type": "code",
   "execution_count": null,
   "id": "7cedb6ad",
   "metadata": {},
   "outputs": [],
   "source": [
    "import os\n",
    "import pandas as pd\n",
    "\n",
    "path_marks = '../tables/школьные оценки.xlsx' if os.path.exists('../tables/школьные оценки.xlsx') else 'https://drive.google.com/uc?id=1v9kRv1I03CXtQ6vFE4mE3hFAty436qAo'\n",
    "\n",
    "marks = pd.read_excel(path_marks)\n",
    "marks.head()"
   ]
  },
  {
   "cell_type": "code",
   "execution_count": null,
   "id": "d66718eb",
   "metadata": {},
   "outputs": [],
   "source": [
    "# Напишите свой код здесь"
   ]
  },
  {
   "cell_type": "markdown",
   "id": "732a18d7",
   "metadata": {},
   "source": [
    "### Задание 12\n",
    "\n",
    "Проверьте, что день рождения сотрудника (birth_date) и его табельный номер (i_pernr) имеют между собой взаимо однозначное соотвествие. \n",
    " \n",
    "\n",
    "<details>\n",
    "\n",
    "<summary>Подсказка (кликните сюда 1 раз, если не можете решить)</summary>\n",
    " \n",
    "Это можно сделать при помощи метода drop_duplicates. Сначала удалите из таблицы дубликаты по дате рождения и по табельному номеру. Посмотрите сколько строк получилось в таблице. А затем из получившейся таблицы уберите дублиты по табельному номеру. Число строк в таблице не должно измениться\n",
    "\n",
    "</details>"
   ]
  },
  {
   "cell_type": "code",
   "execution_count": null,
   "id": "96283800",
   "metadata": {},
   "outputs": [],
   "source": [
    "import os\n",
    "import pandas as pd\n",
    "\n",
    "path_empl = '../tables/employees.parquet' if os.path.exists('../tables/employees.parquet') else 'https://drive.google.com/uc?id=1AARD5-eVlCxoApt5CYZebrC3Cqw42lvj'\n",
    "\n",
    "empl = pd.read_parquet(path_empl)\n",
    "empl.head()"
   ]
  },
  {
   "cell_type": "code",
   "execution_count": null,
   "id": "6ea9f73b",
   "metadata": {},
   "outputs": [],
   "source": [
    "# Напишите свой код здесь"
   ]
  },
  {
   "cell_type": "code",
   "execution_count": null,
   "id": "45760e06",
   "metadata": {},
   "outputs": [],
   "source": []
  },
  {
   "cell_type": "code",
   "execution_count": null,
   "id": "e1706364",
   "metadata": {},
   "outputs": [],
   "source": []
  },
  {
   "cell_type": "code",
   "execution_count": null,
   "id": "1111721e",
   "metadata": {},
   "outputs": [],
   "source": []
  },
  {
   "cell_type": "code",
   "execution_count": null,
   "id": "765aceae",
   "metadata": {},
   "outputs": [],
   "source": []
  },
  {
   "cell_type": "code",
   "execution_count": null,
   "id": "e10d968f",
   "metadata": {},
   "outputs": [],
   "source": []
  }
 ],
 "metadata": {
  "kernelspec": {
   "display_name": "Python 3 (ipykernel)",
   "language": "python",
   "name": "python3"
  },
  "language_info": {
   "codemirror_mode": {
    "name": "ipython",
    "version": 3
   },
   "file_extension": ".py",
   "mimetype": "text/x-python",
   "name": "python",
   "nbconvert_exporter": "python",
   "pygments_lexer": "ipython3",
   "version": "3.11.5"
  }
 },
 "nbformat": 4,
 "nbformat_minor": 5
}
