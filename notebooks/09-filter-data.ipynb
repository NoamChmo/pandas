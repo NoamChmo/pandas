{
 "cells": [
  {
   "cell_type": "markdown",
   "id": "b48f22df",
   "metadata": {},
   "source": [
    "<a target=\"_blank\" href=\"https://colab.research.google.com/github/victorlymarev/pandas/blob/main/notebooks/09-filter-data.ipynb\">\n",
    "  <img src=\"https://colab.research.google.com/assets/colab-badge.svg\" alt=\"Open In Colab\"/>\n",
    "</a>"
   ]
  },
  {
   "cell_type": "markdown",
   "id": "b143f4a1",
   "metadata": {},
   "source": [
    "# Выбор строк из таблицы и условное присваивание\n",
    "#### [Ссылка на видео](https://youtu.be/XL0Y8q-8vAc)"
   ]
  },
  {
   "cell_type": "code",
   "execution_count": null,
   "id": "d7d79c50",
   "metadata": {},
   "outputs": [],
   "source": [
    "import pandas as pd\n",
    "import numpy as np\n",
    "import os"
   ]
  },
  {
   "cell_type": "markdown",
   "id": "2d5c67f3",
   "metadata": {},
   "source": [
    "| Символ   | Значние                                      | Пример   |\n",
    "|:--------:|:--------------------------------------------:|:--------:|\n",
    "| ==       | Равно <br>(проверка на равентсво двух элементов)<br> | 1==1     |\n",
    "| !=       | Не равно                                     | 1 != 2   |\n",
    "| >        | Больше                                       | 5 > 4    |\n",
    "| >=       | Больше или равно                             | 4 >= 1   |\n",
    "| <        | Меньше                                       | 5 < 10   |\n",
    "| <=       | Меньше или равно                             | 8 <= 10  |"
   ]
  },
  {
   "cell_type": "markdown",
   "id": "9052d050",
   "metadata": {},
   "source": [
    "#### Проверка на равенство"
   ]
  },
  {
   "cell_type": "code",
   "execution_count": null,
   "id": "975b731d",
   "metadata": {},
   "outputs": [],
   "source": [
    "1 == 1"
   ]
  },
  {
   "cell_type": "code",
   "execution_count": null,
   "id": "a7376989",
   "metadata": {},
   "outputs": [],
   "source": [
    "1 == 2"
   ]
  },
  {
   "cell_type": "markdown",
   "id": "2a9a9acd",
   "metadata": {},
   "source": [
    "#### Неравенства"
   ]
  },
  {
   "cell_type": "code",
   "execution_count": null,
   "id": "e8b35930",
   "metadata": {},
   "outputs": [],
   "source": [
    "5 != 9"
   ]
  },
  {
   "cell_type": "code",
   "execution_count": null,
   "id": "494144ad",
   "metadata": {},
   "outputs": [],
   "source": [
    "6 > 6"
   ]
  },
  {
   "cell_type": "code",
   "execution_count": null,
   "id": "f462f395",
   "metadata": {},
   "outputs": [],
   "source": [
    "6 >= 6"
   ]
  },
  {
   "cell_type": "code",
   "execution_count": null,
   "id": "63b2831c",
   "metadata": {},
   "outputs": [],
   "source": [
    "7 < 9"
   ]
  },
  {
   "cell_type": "code",
   "execution_count": null,
   "id": "63a1d3fc",
   "metadata": {},
   "outputs": [],
   "source": [
    "10 <= -9"
   ]
  },
  {
   "cell_type": "markdown",
   "id": "5fbc5ff9",
   "metadata": {},
   "source": [
    "#### Сравнение строк"
   ]
  },
  {
   "cell_type": "code",
   "execution_count": null,
   "id": "5ff6cef7",
   "metadata": {},
   "outputs": [],
   "source": [
    "'pandas' == 'pandas'"
   ]
  },
  {
   "cell_type": "code",
   "execution_count": null,
   "id": "c41f7eac",
   "metadata": {},
   "outputs": [],
   "source": [
    "'pandas' == 'PANDAS'"
   ]
  },
  {
   "cell_type": "markdown",
   "id": "d10ef777",
   "metadata": {},
   "source": [
    "Проверка на вхождение элемента в список"
   ]
  },
  {
   "cell_type": "code",
   "execution_count": null,
   "id": "8618cbe9",
   "metadata": {},
   "outputs": [],
   "source": [
    "'a' in 'pandas'"
   ]
  },
  {
   "cell_type": "code",
   "execution_count": null,
   "id": "ba6f6755",
   "metadata": {},
   "outputs": [],
   "source": [
    "'Катя' in ['Маша', 'Даша', 'Паша']"
   ]
  },
  {
   "cell_type": "code",
   "execution_count": null,
   "id": "16eced15",
   "metadata": {},
   "outputs": [],
   "source": [
    "'Катя' in ['Маша', 'Даша', 'Катя']"
   ]
  },
  {
   "cell_type": "markdown",
   "id": "33f41d2b",
   "metadata": {},
   "source": [
    "#### Сложные условия"
   ]
  },
  {
   "cell_type": "markdown",
   "id": "0aa34e6b",
   "metadata": {},
   "source": [
    "1. and - проверка на то, что 2 условия выполняются одновременно\n",
    "2. or - проверка на то, что выполняется хотя бы одно из условий\n",
    "3. not - логическое не (превращает True в False и наоборот)"
   ]
  },
  {
   "cell_type": "code",
   "execution_count": null,
   "id": "90f53426",
   "metadata": {},
   "outputs": [],
   "source": [
    "5 == 5 and 8 == 8"
   ]
  },
  {
   "cell_type": "code",
   "execution_count": null,
   "id": "7d8f79b4",
   "metadata": {},
   "outputs": [],
   "source": [
    "5 == 6 and 8 == 8"
   ]
  },
  {
   "cell_type": "code",
   "execution_count": null,
   "id": "8fb24991",
   "metadata": {},
   "outputs": [],
   "source": [
    "6 == 6 or 7 == 90"
   ]
  },
  {
   "cell_type": "code",
   "execution_count": null,
   "id": "b0958728",
   "metadata": {},
   "outputs": [],
   "source": [
    "6 > 11 or 7 == 90"
   ]
  },
  {
   "cell_type": "code",
   "execution_count": null,
   "id": "cbccdb1c",
   "metadata": {},
   "outputs": [],
   "source": [
    "not 45 == 45"
   ]
  },
  {
   "cell_type": "code",
   "execution_count": null,
   "id": "fcbbbcf3",
   "metadata": {},
   "outputs": [],
   "source": [
    "'Катя' not in ['Маша', 'Даша', 'Катя']"
   ]
  },
  {
   "cell_type": "code",
   "execution_count": null,
   "id": "70c3861c",
   "metadata": {},
   "outputs": [],
   "source": []
  },
  {
   "cell_type": "code",
   "execution_count": null,
   "id": "2410e551",
   "metadata": {},
   "outputs": [],
   "source": []
  },
  {
   "cell_type": "code",
   "execution_count": null,
   "id": "80ec00da",
   "metadata": {},
   "outputs": [],
   "source": []
  },
  {
   "cell_type": "code",
   "execution_count": null,
   "id": "ddcabb92",
   "metadata": {},
   "outputs": [],
   "source": []
  },
  {
   "cell_type": "code",
   "execution_count": null,
   "id": "ac8a3a66",
   "metadata": {},
   "outputs": [],
   "source": []
  },
  {
   "cell_type": "code",
   "execution_count": null,
   "id": "eb2e5c0c",
   "metadata": {},
   "outputs": [],
   "source": []
  },
  {
   "cell_type": "code",
   "execution_count": null,
   "id": "559bf2f3",
   "metadata": {},
   "outputs": [],
   "source": []
  },
  {
   "cell_type": "code",
   "execution_count": null,
   "id": "7bcee1a3",
   "metadata": {},
   "outputs": [],
   "source": []
  },
  {
   "cell_type": "code",
   "execution_count": null,
   "id": "6de96c84",
   "metadata": {},
   "outputs": [],
   "source": []
  },
  {
   "cell_type": "code",
   "execution_count": null,
   "id": "4c126f96",
   "metadata": {},
   "outputs": [],
   "source": []
  },
  {
   "cell_type": "code",
   "execution_count": null,
   "id": "2d3e37ea",
   "metadata": {},
   "outputs": [],
   "source": []
  },
  {
   "cell_type": "code",
   "execution_count": null,
   "id": "01b46e5d",
   "metadata": {},
   "outputs": [],
   "source": []
  },
  {
   "cell_type": "code",
   "execution_count": null,
   "id": "10605b1f",
   "metadata": {},
   "outputs": [],
   "source": []
  },
  {
   "cell_type": "code",
   "execution_count": null,
   "id": "78d3f522",
   "metadata": {},
   "outputs": [],
   "source": []
  },
  {
   "cell_type": "code",
   "execution_count": null,
   "id": "ae2c8e42",
   "metadata": {},
   "outputs": [],
   "source": []
  },
  {
   "cell_type": "code",
   "execution_count": null,
   "id": "d413fdc3",
   "metadata": {},
   "outputs": [],
   "source": []
  },
  {
   "cell_type": "code",
   "execution_count": null,
   "id": "94761817",
   "metadata": {},
   "outputs": [],
   "source": []
  },
  {
   "cell_type": "code",
   "execution_count": null,
   "id": "98f7a738",
   "metadata": {},
   "outputs": [],
   "source": []
  },
  {
   "cell_type": "code",
   "execution_count": null,
   "id": "a77ee4ed",
   "metadata": {},
   "outputs": [],
   "source": []
  },
  {
   "cell_type": "code",
   "execution_count": null,
   "id": "e1a16486",
   "metadata": {},
   "outputs": [],
   "source": []
  },
  {
   "cell_type": "code",
   "execution_count": null,
   "id": "5b188b39",
   "metadata": {},
   "outputs": [],
   "source": []
  },
  {
   "cell_type": "markdown",
   "id": "92314482",
   "metadata": {},
   "source": [
    "# Условные операции в таблицах"
   ]
  },
  {
   "cell_type": "markdown",
   "id": "f19c74fd",
   "metadata": {},
   "source": [
    "| Символ   | Метод                 | Расшифровка                 | Значние                                      |\n",
    "|:--------:|:---------------------:|:---------------------------:|:--------------------------------------------:|\n",
    "| **==**   | **eq**                | **eq**ual                   | Равно (проверка на равентсво двух элементов) |\n",
    "| **!=**   | **ne**                | **n**ot **e**qual           | Не равно                                     |\n",
    "| **>**    | **gt**                | **g**reater **t**han        | Больше                                       |\n",
    "| **>=**   | **ge**                | **g**reater or **e**qual    | Больше или равно                             |\n",
    "| **<**    | **lt**                | **l**ess **t**han           | Меньше                                       |\n",
    "| **<=**   | **le**                | **l**ess or **e**qual       | Меньше или равно                             |\n",
    "|          | **isin**              | is in                       | В (проверка на вхождение)                    |\n",
    "|          | **isna или isnull**   | is na или is null           | Проверка на пропуск                          |\n",
    "|          | **notna или notnull** | not na или not null         | Проверка на непропуск                        |\n",
    "|          | **duplicated**        | duplicated                  | Проверка на дубликат                         |"
   ]
  },
  {
   "cell_type": "code",
   "execution_count": null,
   "id": "3080fda3",
   "metadata": {},
   "outputs": [],
   "source": [
    "path_empl = '../tables/employees.parquet' if os.path.exists('../tables/employees.parquet') else 'https://drive.google.com/uc?id=1AARD5-eVlCxoApt5CYZebrC3Cqw42lvj'\n",
    "\n",
    "empl = pd.read_parquet(path_empl)\n",
    "empl.head()"
   ]
  },
  {
   "cell_type": "markdown",
   "id": "6419314e",
   "metadata": {},
   "source": [
    "#### Проверка на равенство"
   ]
  },
  {
   "cell_type": "code",
   "execution_count": null,
   "id": "6614bdfd",
   "metadata": {},
   "outputs": [],
   "source": [
    "empl['pos_name']"
   ]
  },
  {
   "cell_type": "code",
   "execution_count": null,
   "id": "e82cffb0",
   "metadata": {},
   "outputs": [],
   "source": [
    "empl['pos_name'] == 'Директор магазина'"
   ]
  },
  {
   "cell_type": "code",
   "execution_count": null,
   "id": "2e217702",
   "metadata": {},
   "outputs": [],
   "source": [
    "# То же самое, что и в предыдущей ячейке\n",
    "empl['pos_name'].eq('Директор магазина')"
   ]
  },
  {
   "cell_type": "markdown",
   "id": "9d0ea9d3",
   "metadata": {},
   "source": [
    "То же самое для табельного номера"
   ]
  },
  {
   "cell_type": "code",
   "execution_count": null,
   "id": "537b4795",
   "metadata": {},
   "outputs": [],
   "source": [
    "empl['i_pernr']"
   ]
  },
  {
   "cell_type": "markdown",
   "id": "6559f265",
   "metadata": {},
   "source": [
    "Чтобы можно было дальше работать с результатом как с обычной колонкой, нужно обернуть выражение в круглые скобки "
   ]
  },
  {
   "cell_type": "code",
   "execution_count": null,
   "id": "1e45d049",
   "metadata": {},
   "outputs": [],
   "source": [
    "(empl['i_pernr'] != 1).head()"
   ]
  },
  {
   "cell_type": "code",
   "execution_count": null,
   "id": "3119135c",
   "metadata": {},
   "outputs": [],
   "source": []
  },
  {
   "cell_type": "code",
   "execution_count": null,
   "id": "238cc137",
   "metadata": {},
   "outputs": [],
   "source": []
  },
  {
   "cell_type": "code",
   "execution_count": null,
   "id": "48128d66",
   "metadata": {},
   "outputs": [],
   "source": []
  },
  {
   "cell_type": "code",
   "execution_count": null,
   "id": "5b00413e",
   "metadata": {},
   "outputs": [],
   "source": []
  },
  {
   "cell_type": "code",
   "execution_count": null,
   "id": "d4eff4a0",
   "metadata": {},
   "outputs": [],
   "source": []
  },
  {
   "cell_type": "code",
   "execution_count": null,
   "id": "6b9be1fa",
   "metadata": {},
   "outputs": [],
   "source": []
  },
  {
   "cell_type": "markdown",
   "id": "9475b332",
   "metadata": {},
   "source": [
    "#### Неравенства"
   ]
  },
  {
   "cell_type": "code",
   "execution_count": null,
   "id": "1d6f1581",
   "metadata": {},
   "outputs": [],
   "source": [
    "empl['salary']"
   ]
  },
  {
   "cell_type": "code",
   "execution_count": null,
   "id": "217535e9",
   "metadata": {},
   "outputs": [],
   "source": [
    "empl['salary'] > 30000"
   ]
  },
  {
   "cell_type": "code",
   "execution_count": null,
   "id": "25c5ff77",
   "metadata": {},
   "outputs": [],
   "source": []
  },
  {
   "cell_type": "code",
   "execution_count": null,
   "id": "10972ac0",
   "metadata": {},
   "outputs": [],
   "source": []
  },
  {
   "cell_type": "code",
   "execution_count": null,
   "id": "95116b38",
   "metadata": {},
   "outputs": [],
   "source": []
  },
  {
   "cell_type": "markdown",
   "id": "bde07e6b",
   "metadata": {},
   "source": [
    "#### Выбор дат"
   ]
  },
  {
   "cell_type": "code",
   "execution_count": null,
   "id": "1cfc3701",
   "metadata": {},
   "outputs": [],
   "source": [
    "empl['report_dt']"
   ]
  },
  {
   "cell_type": "code",
   "execution_count": null,
   "id": "18071fbb",
   "metadata": {},
   "outputs": [],
   "source": [
    "# дата записывается как строка\n",
    "empl['report_dt'] == '2022-12-31'"
   ]
  },
  {
   "cell_type": "markdown",
   "id": "ceda46dc",
   "metadata": {},
   "source": [
    "#### Чем позднее дата, тем она больше"
   ]
  },
  {
   "cell_type": "code",
   "execution_count": null,
   "id": "80106358",
   "metadata": {},
   "outputs": [],
   "source": [
    "empl['report_dt'] < '2022-12-31'"
   ]
  },
  {
   "cell_type": "code",
   "execution_count": null,
   "id": "5adbb49a",
   "metadata": {},
   "outputs": [],
   "source": []
  },
  {
   "cell_type": "code",
   "execution_count": null,
   "id": "f9caec2d",
   "metadata": {},
   "outputs": [],
   "source": []
  },
  {
   "cell_type": "code",
   "execution_count": null,
   "id": "3b67a963",
   "metadata": {},
   "outputs": [],
   "source": []
  },
  {
   "cell_type": "code",
   "execution_count": null,
   "id": "26d7a56c",
   "metadata": {},
   "outputs": [],
   "source": []
  },
  {
   "cell_type": "markdown",
   "id": "f83d77a1",
   "metadata": {},
   "source": [
    "#### Проверка на вхождение"
   ]
  },
  {
   "cell_type": "code",
   "execution_count": null,
   "id": "d7a2e5ee",
   "metadata": {},
   "outputs": [],
   "source": [
    "empl['education']"
   ]
  },
  {
   "cell_type": "code",
   "execution_count": null,
   "id": "fafa8cd5",
   "metadata": {},
   "outputs": [],
   "source": [
    "empl['education'] in ['высшее', 'среднее профессиональное']"
   ]
  },
  {
   "cell_type": "code",
   "execution_count": null,
   "id": "479699c5",
   "metadata": {},
   "outputs": [],
   "source": [
    "empl['education'].isin(['высшее', 'среднее профессиональное'])"
   ]
  },
  {
   "cell_type": "markdown",
   "id": "0256d3e3",
   "metadata": {},
   "source": [
    "Оператор in преверяет вхождение элемента в индекс, а не в стобец"
   ]
  },
  {
   "cell_type": "code",
   "execution_count": null,
   "id": "61430b3f",
   "metadata": {},
   "outputs": [],
   "source": [
    "'Директор магазина' in empl['pos_name']"
   ]
  },
  {
   "cell_type": "code",
   "execution_count": null,
   "id": "cba7e05b",
   "metadata": {},
   "outputs": [],
   "source": [
    "empl['pos_name']"
   ]
  },
  {
   "cell_type": "code",
   "execution_count": null,
   "id": "33effeca",
   "metadata": {},
   "outputs": [],
   "source": [
    "'Директор магазина' in empl['pos_name'].tolist()"
   ]
  },
  {
   "cell_type": "code",
   "execution_count": null,
   "id": "50aa7337",
   "metadata": {},
   "outputs": [],
   "source": [
    "empl['pos_name'].tolist()"
   ]
  },
  {
   "cell_type": "markdown",
   "id": "589427fe",
   "metadata": {},
   "source": [
    "Проверка вхождения одной строки в другую"
   ]
  },
  {
   "cell_type": "code",
   "execution_count": null,
   "id": "009ac876",
   "metadata": {},
   "outputs": [],
   "source": [
    "empl['pos_name'].str.contains(\"магазин\")"
   ]
  },
  {
   "cell_type": "code",
   "execution_count": null,
   "id": "32b565eb",
   "metadata": {},
   "outputs": [],
   "source": []
  },
  {
   "cell_type": "code",
   "execution_count": null,
   "id": "7b13d82d",
   "metadata": {},
   "outputs": [],
   "source": []
  },
  {
   "cell_type": "code",
   "execution_count": null,
   "id": "6e6b28e1",
   "metadata": {},
   "outputs": [],
   "source": []
  },
  {
   "cell_type": "code",
   "execution_count": null,
   "id": "d43e3e19",
   "metadata": {},
   "outputs": [],
   "source": []
  },
  {
   "cell_type": "markdown",
   "id": "936e780f",
   "metadata": {},
   "source": [
    "#### Проверка на то, пропущенно ли значение"
   ]
  },
  {
   "cell_type": "code",
   "execution_count": null,
   "id": "0fafbf09",
   "metadata": {},
   "outputs": [],
   "source": [
    "empl['employee_evaluation']"
   ]
  },
  {
   "cell_type": "code",
   "execution_count": null,
   "id": "a883a6bc",
   "metadata": {},
   "outputs": [],
   "source": [
    "empl['employee_evaluation'].isna()"
   ]
  },
  {
   "cell_type": "code",
   "execution_count": null,
   "id": "1f3a5980",
   "metadata": {},
   "outputs": [],
   "source": [
    "empl['employee_evaluation'].notna()"
   ]
  },
  {
   "cell_type": "code",
   "execution_count": null,
   "id": "b7b153b1",
   "metadata": {},
   "outputs": [],
   "source": [
    "empl['employee_evaluation'].isnull() "
   ]
  },
  {
   "cell_type": "code",
   "execution_count": null,
   "id": "8b0f10af",
   "metadata": {},
   "outputs": [],
   "source": [
    "empl['employee_evaluation'].notnull()"
   ]
  },
  {
   "cell_type": "markdown",
   "id": "8c3d8f4e",
   "metadata": {},
   "source": [
    "Помимо методов есть аналоги в виде функций с точно такими же названиями"
   ]
  },
  {
   "cell_type": "code",
   "execution_count": null,
   "id": "0edb86d6",
   "metadata": {},
   "outputs": [],
   "source": [
    "# pd.isna(empl['closest_boss_pos_id'])\n",
    "# pd.isnull(empl['closest_boss_pos_id'])\n",
    "# pd.notnull(empl['closest_boss_pos_id'])\n",
    "# pd.notna(empl['closest_boss_pos_id'])"
   ]
  },
  {
   "cell_type": "code",
   "execution_count": null,
   "id": "44aa6aa6",
   "metadata": {},
   "outputs": [],
   "source": [
    "pd.isna(None)"
   ]
  },
  {
   "cell_type": "code",
   "execution_count": null,
   "id": "6bddf549",
   "metadata": {},
   "outputs": [],
   "source": []
  },
  {
   "cell_type": "code",
   "execution_count": null,
   "id": "682de164",
   "metadata": {},
   "outputs": [],
   "source": []
  },
  {
   "cell_type": "code",
   "execution_count": null,
   "id": "8844422d",
   "metadata": {},
   "outputs": [],
   "source": []
  },
  {
   "cell_type": "code",
   "execution_count": null,
   "id": "56872676",
   "metadata": {},
   "outputs": [],
   "source": []
  },
  {
   "cell_type": "code",
   "execution_count": null,
   "id": "477ab3c3",
   "metadata": {},
   "outputs": [],
   "source": []
  },
  {
   "cell_type": "markdown",
   "id": "8ad16da0",
   "metadata": {},
   "source": [
    "#### Проверка на дубликаты"
   ]
  },
  {
   "cell_type": "code",
   "execution_count": null,
   "id": "e8e3e07e",
   "metadata": {},
   "outputs": [],
   "source": [
    "# проверка каждой строки на уникальность\n",
    "empl.duplicated()"
   ]
  },
  {
   "cell_type": "code",
   "execution_count": null,
   "id": "5e365e9d",
   "metadata": {},
   "outputs": [],
   "source": [
    "# Проверка колонки fio на уникальность\n",
    "empl.duplicated('fio')"
   ]
  },
  {
   "cell_type": "code",
   "execution_count": null,
   "id": "7d8c9534",
   "metadata": {},
   "outputs": [],
   "source": [
    "empl['fio'].duplicated()"
   ]
  },
  {
   "cell_type": "code",
   "execution_count": null,
   "id": "8e40b9bd",
   "metadata": {},
   "outputs": [],
   "source": [
    "# Проверка колонок fio и report_dt на уникальность\n",
    "empl.duplicated(['fio', 'report_dt'])"
   ]
  },
  {
   "cell_type": "code",
   "execution_count": null,
   "id": "12514813",
   "metadata": {},
   "outputs": [],
   "source": []
  },
  {
   "cell_type": "code",
   "execution_count": null,
   "id": "74c6d19e",
   "metadata": {},
   "outputs": [],
   "source": []
  },
  {
   "cell_type": "code",
   "execution_count": null,
   "id": "57327e05",
   "metadata": {},
   "outputs": [],
   "source": []
  },
  {
   "cell_type": "markdown",
   "id": "47e6f25e",
   "metadata": {},
   "source": [
    "#### Способы выделения дубликатов"
   ]
  },
  {
   "cell_type": "code",
   "execution_count": null,
   "id": "35ea57ff",
   "metadata": {},
   "outputs": [],
   "source": [
    "# True если значение встерчечалось в строчках выше\n",
    "empl.duplicated('fio')"
   ]
  },
  {
   "cell_type": "code",
   "execution_count": null,
   "id": "3535a819",
   "metadata": {},
   "outputs": [],
   "source": [
    "# True если значение встерчечалось в строчках ниже\n",
    "empl.duplicated('fio', keep='last')"
   ]
  },
  {
   "cell_type": "code",
   "execution_count": null,
   "id": "9fd249af",
   "metadata": {},
   "outputs": [],
   "source": [
    "# True если у значения есть дубликат\n",
    "empl.duplicated('fio', keep=False)"
   ]
  },
  {
   "cell_type": "code",
   "execution_count": null,
   "id": "7df18069",
   "metadata": {},
   "outputs": [],
   "source": []
  },
  {
   "cell_type": "code",
   "execution_count": null,
   "id": "68bb5294",
   "metadata": {},
   "outputs": [],
   "source": []
  },
  {
   "cell_type": "code",
   "execution_count": null,
   "id": "a5031443",
   "metadata": {},
   "outputs": [],
   "source": []
  },
  {
   "cell_type": "code",
   "execution_count": null,
   "id": "b4533f17",
   "metadata": {},
   "outputs": [],
   "source": []
  },
  {
   "cell_type": "code",
   "execution_count": null,
   "id": "79ae6fac",
   "metadata": {},
   "outputs": [],
   "source": []
  },
  {
   "cell_type": "code",
   "execution_count": null,
   "id": "83916a98",
   "metadata": {},
   "outputs": [],
   "source": []
  },
  {
   "cell_type": "code",
   "execution_count": null,
   "id": "dc925937",
   "metadata": {},
   "outputs": [],
   "source": []
  },
  {
   "cell_type": "markdown",
   "id": "ebd56c4f",
   "metadata": {},
   "source": [
    "### Проверять условия можно и в датафреймах"
   ]
  },
  {
   "cell_type": "code",
   "execution_count": null,
   "id": "9cdf381d",
   "metadata": {},
   "outputs": [],
   "source": [
    "path_marks = '../tables/школьные оценки.xlsx' if os.path.exists('../tables/школьные оценки.xlsx') else 'https://drive.google.com/uc?id=1v9kRv1I03CXtQ6vFE4mE3hFAty436qAo'\n",
    "marks = pd.read_excel(path_marks)\n",
    "marks.head()"
   ]
  },
  {
   "cell_type": "code",
   "execution_count": null,
   "id": "f4bd7322",
   "metadata": {},
   "outputs": [],
   "source": [
    "(marks == 5).head()"
   ]
  },
  {
   "cell_type": "code",
   "execution_count": null,
   "id": "e9205e0a",
   "metadata": {},
   "outputs": [],
   "source": []
  },
  {
   "cell_type": "code",
   "execution_count": null,
   "id": "8ac43a48",
   "metadata": {},
   "outputs": [],
   "source": []
  },
  {
   "cell_type": "code",
   "execution_count": null,
   "id": "18919580",
   "metadata": {},
   "outputs": [],
   "source": []
  },
  {
   "cell_type": "code",
   "execution_count": null,
   "id": "6ca247ae",
   "metadata": {},
   "outputs": [],
   "source": []
  },
  {
   "cell_type": "markdown",
   "id": "8949c27d",
   "metadata": {},
   "source": [
    "#### Методы all и any"
   ]
  },
  {
   "cell_type": "code",
   "execution_count": null,
   "id": "50c323d0",
   "metadata": {},
   "outputs": [],
   "source": [
    "(marks\n",
    "    .drop(columns=['ФИО', 'Пол'])\n",
    "    .isin([4, 5])\n",
    "    .all()\n",
    ")"
   ]
  },
  {
   "cell_type": "code",
   "execution_count": null,
   "id": "8e72fe28",
   "metadata": {
    "scrolled": true
   },
   "outputs": [],
   "source": [
    "(marks\n",
    "    .drop(columns=['ФИО', 'Пол'])\n",
    "    .isin([4, 5])\n",
    "    .any()\n",
    ")"
   ]
  },
  {
   "cell_type": "code",
   "execution_count": null,
   "id": "072a7c50",
   "metadata": {},
   "outputs": [],
   "source": [
    "(marks\n",
    "    .drop(columns=['ФИО', 'Пол']) \n",
    "    .isin([4, 5])\n",
    "    .all(axis=1)\n",
    ")"
   ]
  },
  {
   "cell_type": "code",
   "execution_count": null,
   "id": "eeef22db",
   "metadata": {},
   "outputs": [],
   "source": [
    "(marks\n",
    "    .drop(columns=['ФИО', 'Пол'])\n",
    "    .isin([4, 5])\n",
    "    .any(axis=1)\n",
    ")"
   ]
  },
  {
   "cell_type": "code",
   "execution_count": null,
   "id": "7873e0b2",
   "metadata": {},
   "outputs": [],
   "source": []
  },
  {
   "cell_type": "code",
   "execution_count": null,
   "id": "4b47167c",
   "metadata": {},
   "outputs": [],
   "source": []
  },
  {
   "cell_type": "code",
   "execution_count": null,
   "id": "26032947",
   "metadata": {},
   "outputs": [],
   "source": []
  },
  {
   "cell_type": "code",
   "execution_count": null,
   "id": "83eeff4f",
   "metadata": {},
   "outputs": [],
   "source": []
  },
  {
   "cell_type": "code",
   "execution_count": null,
   "id": "f0557eea",
   "metadata": {},
   "outputs": [],
   "source": []
  },
  {
   "cell_type": "markdown",
   "id": "afcfdb45",
   "metadata": {},
   "source": [
    "#### Можно сравнивать стобцы таблицы между собой"
   ]
  },
  {
   "cell_type": "code",
   "execution_count": null,
   "id": "1d549f98",
   "metadata": {},
   "outputs": [],
   "source": [
    "marks['Математика'] == marks['Русский язык']"
   ]
  },
  {
   "cell_type": "code",
   "execution_count": null,
   "id": "201dfe7b",
   "metadata": {},
   "outputs": [],
   "source": [
    "marks['Математика'] > marks['Русский язык']"
   ]
  },
  {
   "cell_type": "code",
   "execution_count": null,
   "id": "c936b013",
   "metadata": {},
   "outputs": [],
   "source": []
  },
  {
   "cell_type": "code",
   "execution_count": null,
   "id": "154f6f96",
   "metadata": {},
   "outputs": [],
   "source": []
  },
  {
   "cell_type": "code",
   "execution_count": null,
   "id": "947200bc",
   "metadata": {},
   "outputs": [],
   "source": []
  },
  {
   "cell_type": "code",
   "execution_count": null,
   "id": "6a124506",
   "metadata": {},
   "outputs": [],
   "source": []
  },
  {
   "cell_type": "code",
   "execution_count": null,
   "id": "e67e55ed",
   "metadata": {},
   "outputs": [],
   "source": []
  },
  {
   "cell_type": "code",
   "execution_count": null,
   "id": "af1d1fb2",
   "metadata": {},
   "outputs": [],
   "source": []
  },
  {
   "cell_type": "code",
   "execution_count": null,
   "id": "1727b64b",
   "metadata": {},
   "outputs": [],
   "source": []
  },
  {
   "cell_type": "code",
   "execution_count": null,
   "id": "219b89d2",
   "metadata": {},
   "outputs": [],
   "source": []
  },
  {
   "cell_type": "code",
   "execution_count": null,
   "id": "71f42c32",
   "metadata": {},
   "outputs": [],
   "source": []
  },
  {
   "cell_type": "code",
   "execution_count": null,
   "id": "fb210f27",
   "metadata": {},
   "outputs": [],
   "source": []
  },
  {
   "cell_type": "markdown",
   "id": "274ce805",
   "metadata": {},
   "source": [
    "# Фильтрация строк"
   ]
  },
  {
   "cell_type": "markdown",
   "id": "4f3b45f5",
   "metadata": {},
   "source": [
    "__df[ ]__\n",
    "\n",
    "__df.loc[ ]__\n",
    "\n",
    "__df.iloc[ ]__"
   ]
  },
  {
   "cell_type": "code",
   "execution_count": null,
   "id": "32a74fcf",
   "metadata": {},
   "outputs": [],
   "source": [
    "marks['Математика'] == 3"
   ]
  },
  {
   "cell_type": "code",
   "execution_count": null,
   "id": "20364e39",
   "metadata": {},
   "outputs": [],
   "source": [
    "marks[marks['Математика'] == 3].head(3)"
   ]
  },
  {
   "cell_type": "markdown",
   "id": "c4c38354",
   "metadata": {},
   "source": [
    "#### Точно так же можно фильтровать объекты класса Series"
   ]
  },
  {
   "cell_type": "code",
   "execution_count": null,
   "id": "432d88e4",
   "metadata": {},
   "outputs": [],
   "source": [
    "math = marks['Математика'].copy()\n",
    "math[math >= 4]"
   ]
  },
  {
   "cell_type": "markdown",
   "id": "6cea9727",
   "metadata": {},
   "source": [
    "Возьмем только отличников по физической культуре"
   ]
  },
  {
   "cell_type": "code",
   "execution_count": null,
   "id": "089b2813",
   "metadata": {},
   "outputs": [],
   "source": [
    "marks.loc[marks['Физическая культура'] == 5].head(3)"
   ]
  },
  {
   "cell_type": "markdown",
   "id": "28ee19b5",
   "metadata": {},
   "source": [
    "### Составные условия"
   ]
  },
  {
   "cell_type": "markdown",
   "id": "fb8540aa",
   "metadata": {},
   "source": [
    "1. & - проверка того, что оба условия выполняются\n",
    "2. | - проверка того, что хотя бы одно условие выполняется\n",
    "3. ~ - отрицание (меняет True на False и наоборот)"
   ]
  },
  {
   "cell_type": "code",
   "execution_count": null,
   "id": "8c873910",
   "metadata": {},
   "outputs": [],
   "source": [
    "# отбираем тех, у кого по математике 5, а по русскому 4\n",
    "marks[(marks['Математика'] == 5) & (marks['Русский язык'] == 4)]"
   ]
  },
  {
   "cell_type": "code",
   "execution_count": null,
   "id": "5e5dd48d",
   "metadata": {},
   "outputs": [],
   "source": [
    "# Отбираем тех, у кого хотя бы по одному из двух предметов 5\n",
    "marks[(marks['Математика'] == 5) | (marks['Русский язык'] == 5)].head(3)"
   ]
  },
  {
   "cell_type": "code",
   "execution_count": null,
   "id": "0cc99281",
   "metadata": {},
   "outputs": [],
   "source": [
    "# Отбираем тех, у кого по математике не 5\n",
    "marks[~(marks['Математика'] == 5)].head(3)"
   ]
  },
  {
   "cell_type": "code",
   "execution_count": null,
   "id": "4abc112e",
   "metadata": {},
   "outputs": [],
   "source": [
    "# Отбираем тех, у кого по математике не 5 и не 4\n",
    "marks[~(marks['Математика'].isin([5, 4]))].head(3)"
   ]
  },
  {
   "cell_type": "markdown",
   "id": "1a32c12d",
   "metadata": {},
   "source": [
    "## Несколько условий нужно писать в скобках"
   ]
  },
  {
   "cell_type": "markdown",
   "id": "85fe6926",
   "metadata": {},
   "source": [
    "Если не использовать скобки:"
   ]
  },
  {
   "cell_type": "code",
   "execution_count": null,
   "id": "be44f658",
   "metadata": {},
   "outputs": [],
   "source": [
    "empl[empl['salary_fork'] == 1 & empl['closest_boss_pos_id'].notnull()].head(3)"
   ]
  },
  {
   "cell_type": "markdown",
   "id": "f94947e2",
   "metadata": {},
   "source": [
    "Если использовать скобки (правильный вариант)"
   ]
  },
  {
   "cell_type": "code",
   "execution_count": null,
   "id": "74ffc1d0",
   "metadata": {
    "scrolled": true
   },
   "outputs": [],
   "source": [
    "empl[(empl['salary_fork'] == 1) & empl['closest_boss_pos_id'].notnull()].head(3)"
   ]
  },
  {
   "cell_type": "markdown",
   "id": "97836006",
   "metadata": {},
   "source": [
    "Приоритет у операций и (&), или (|)  выше, чем у операции проверки на равенство"
   ]
  },
  {
   "cell_type": "code",
   "execution_count": null,
   "id": "dfc7fd17",
   "metadata": {},
   "outputs": [],
   "source": [
    "1 == True"
   ]
  },
  {
   "cell_type": "code",
   "execution_count": null,
   "id": "4ff9ed36",
   "metadata": {},
   "outputs": [],
   "source": [
    "0 == False"
   ]
  },
  {
   "cell_type": "markdown",
   "id": "be6ffcd5",
   "metadata": {},
   "source": [
    "Порядок операций, когда мы не используем скобки:"
   ]
  },
  {
   "cell_type": "code",
   "execution_count": null,
   "id": "3a300df1",
   "metadata": {},
   "outputs": [],
   "source": [
    "empl['closest_boss_pos_id'].notnull()"
   ]
  },
  {
   "cell_type": "code",
   "execution_count": null,
   "id": "d60a4d77",
   "metadata": {},
   "outputs": [],
   "source": [
    "cnd = 1 & empl['closest_boss_pos_id'].notnull()\n",
    "\n",
    "# Внутри это условие воспринимается точно так же как\n",
    "True & empl['closest_boss_pos_id'].notnull()"
   ]
  },
  {
   "cell_type": "code",
   "execution_count": null,
   "id": "707f87a9",
   "metadata": {},
   "outputs": [],
   "source": [
    "empl[empl['salary_fork'] == 1 & empl['closest_boss_pos_id'].notnull()].head(3)\n",
    "empl[empl['salary_fork'] == (1 & empl['closest_boss_pos_id'].notnull())].head(3)"
   ]
  },
  {
   "cell_type": "code",
   "execution_count": null,
   "id": "3f1e6451",
   "metadata": {},
   "outputs": [],
   "source": []
  },
  {
   "cell_type": "code",
   "execution_count": null,
   "id": "3669cae1",
   "metadata": {},
   "outputs": [],
   "source": []
  },
  {
   "cell_type": "code",
   "execution_count": null,
   "id": "e862b1a5",
   "metadata": {},
   "outputs": [],
   "source": []
  },
  {
   "cell_type": "code",
   "execution_count": null,
   "id": "4102e3ba",
   "metadata": {},
   "outputs": [],
   "source": []
  },
  {
   "cell_type": "markdown",
   "id": "c0912c25",
   "metadata": {},
   "source": [
    "# Метод query"
   ]
  },
  {
   "cell_type": "code",
   "execution_count": null,
   "id": "04a993e4",
   "metadata": {},
   "outputs": [],
   "source": [
    "empl.query('salary_fork == 1').head(3)"
   ]
  },
  {
   "cell_type": "code",
   "execution_count": null,
   "id": "7ab31623",
   "metadata": {},
   "outputs": [],
   "source": [
    "empl.query('pos_name == \"Продавец-консультант\"').head(3)"
   ]
  },
  {
   "cell_type": "code",
   "execution_count": null,
   "id": "708d56ec",
   "metadata": {},
   "outputs": [],
   "source": [
    "empl.query(\"report_dt == '2022-12-31'\").head(3)"
   ]
  },
  {
   "cell_type": "code",
   "execution_count": null,
   "id": "9a126332",
   "metadata": {},
   "outputs": [],
   "source": [
    "empl.query('report_dt >= \"2021-12-31\"').head(3)"
   ]
  },
  {
   "cell_type": "code",
   "execution_count": null,
   "id": "4dc6c93e",
   "metadata": {},
   "outputs": [],
   "source": []
  },
  {
   "cell_type": "code",
   "execution_count": null,
   "id": "0a82086a",
   "metadata": {},
   "outputs": [],
   "source": []
  },
  {
   "cell_type": "markdown",
   "id": "3fa996d0",
   "metadata": {},
   "source": [
    "#### Две нижние записи значат одно и то же"
   ]
  },
  {
   "cell_type": "markdown",
   "id": "392c7b21",
   "metadata": {},
   "source": [
    "Внутри метода можно использовать стандартные питоновские операторы"
   ]
  },
  {
   "cell_type": "code",
   "execution_count": null,
   "id": "80608810",
   "metadata": {},
   "outputs": [],
   "source": [
    "empl.query('(report_dt >= \"2021-12-31\") and (pos_name == \"Кассир\")').head(3)"
   ]
  },
  {
   "cell_type": "code",
   "execution_count": null,
   "id": "29d413d1",
   "metadata": {},
   "outputs": [],
   "source": [
    "empl.query('(report_dt >= \"2021-12-31\") or not (pos_name == \"Кассир\")').head(3)"
   ]
  },
  {
   "cell_type": "markdown",
   "id": "8022f9ce",
   "metadata": {},
   "source": [
    "Проверка на вхождение"
   ]
  },
  {
   "cell_type": "code",
   "execution_count": null,
   "id": "0e6dd7e7",
   "metadata": {},
   "outputs": [],
   "source": [
    "marks.query('Математика in [3, 4]').head(3)"
   ]
  },
  {
   "cell_type": "code",
   "execution_count": null,
   "id": "f4af148c",
   "metadata": {},
   "outputs": [],
   "source": [
    "empl.query('(report_dt >= \"2021-12-31\") | ~(pos_name == \"Кассир\")').head(3)"
   ]
  },
  {
   "cell_type": "code",
   "execution_count": null,
   "id": "30fc7fd7",
   "metadata": {},
   "outputs": [],
   "source": [
    "marks.query('Математика not in [3, 4]').head(3)"
   ]
  },
  {
   "cell_type": "markdown",
   "id": "410930c3",
   "metadata": {},
   "source": [
    "Несколько условий, соедиененых союзом и можно записывать в нескольких методах подряд"
   ]
  },
  {
   "cell_type": "code",
   "execution_count": null,
   "id": "b2eba880",
   "metadata": {},
   "outputs": [],
   "source": [
    "(empl\n",
    "    .query('report_dt >= \"2021-12-31\"')\n",
    "    .query('pos_name == \"Кассир\"')\n",
    "    .head(3)\n",
    ")"
   ]
  },
  {
   "cell_type": "code",
   "execution_count": null,
   "id": "a4d1c464",
   "metadata": {},
   "outputs": [],
   "source": []
  },
  {
   "cell_type": "code",
   "execution_count": null,
   "id": "0706e551",
   "metadata": {},
   "outputs": [],
   "source": []
  },
  {
   "cell_type": "markdown",
   "id": "15aca8fe",
   "metadata": {},
   "source": [
    "### Колонка, содержащая пробел выделяется ` (там где ё)"
   ]
  },
  {
   "cell_type": "code",
   "execution_count": null,
   "id": "cb89f251",
   "metadata": {},
   "outputs": [],
   "source": [
    "marks.query('`Физическая культура` == 5').head(3)"
   ]
  },
  {
   "cell_type": "code",
   "execution_count": null,
   "id": "7ae27aa1",
   "metadata": {},
   "outputs": [],
   "source": [
    "marks.query('`Физическая культура` == История').head(3)"
   ]
  },
  {
   "cell_type": "markdown",
   "id": "253196eb",
   "metadata": {},
   "source": [
    "#### Использование переменных"
   ]
  },
  {
   "cell_type": "code",
   "execution_count": null,
   "id": "2abcb8be",
   "metadata": {},
   "outputs": [],
   "source": [
    "students = [\n",
    "    'Мартынова Елизаваета Фёдоровна',\n",
    "    'Савина Виктория Тимуровна',\n",
    "    'Гладкова Мария Максимовна',\n",
    "    'Лапина Юлия Маратовна',\n",
    "]"
   ]
  },
  {
   "cell_type": "code",
   "execution_count": null,
   "id": "ac979a64",
   "metadata": {},
   "outputs": [],
   "source": [
    "marks.query('ФИО in @students')"
   ]
  },
  {
   "cell_type": "code",
   "execution_count": null,
   "id": "081bac2e",
   "metadata": {},
   "outputs": [],
   "source": [
    "marks.query(f'ФИО in {students}')"
   ]
  },
  {
   "cell_type": "code",
   "execution_count": null,
   "id": "378973b7",
   "metadata": {},
   "outputs": [],
   "source": [
    "date = '2015-01-31'\n",
    "empl.query('report_dt == @date').head(3)"
   ]
  },
  {
   "cell_type": "code",
   "execution_count": null,
   "id": "d1243782",
   "metadata": {},
   "outputs": [],
   "source": [
    "date = '2015-01-31'\n",
    "empl.query(f'report_dt == \"{date}\"').head(3)"
   ]
  },
  {
   "cell_type": "code",
   "execution_count": null,
   "id": "c6a12b63",
   "metadata": {},
   "outputs": [],
   "source": []
  },
  {
   "cell_type": "code",
   "execution_count": null,
   "id": "45d7571b",
   "metadata": {},
   "outputs": [],
   "source": []
  },
  {
   "cell_type": "code",
   "execution_count": null,
   "id": "e467391c",
   "metadata": {},
   "outputs": [],
   "source": []
  },
  {
   "cell_type": "code",
   "execution_count": null,
   "id": "802f9bfd",
   "metadata": {},
   "outputs": [],
   "source": []
  },
  {
   "cell_type": "markdown",
   "id": "7501252d",
   "metadata": {},
   "source": [
    "Можно использовать методы"
   ]
  },
  {
   "cell_type": "code",
   "execution_count": null,
   "id": "75434519",
   "metadata": {},
   "outputs": [],
   "source": [
    "empl.query('closest_boss_pos_id.isna()').head(3)"
   ]
  },
  {
   "cell_type": "code",
   "execution_count": null,
   "id": "61e17656",
   "metadata": {},
   "outputs": [],
   "source": [
    "marks.query('`Физическая культура`.isin([3, 4])').head(3)"
   ]
  },
  {
   "cell_type": "code",
   "execution_count": null,
   "id": "fbcb7427",
   "metadata": {},
   "outputs": [],
   "source": [
    "marks.query(\"ФИО.str.contains('Данил')\")"
   ]
  },
  {
   "cell_type": "markdown",
   "id": "6afcfa79",
   "metadata": {},
   "source": [
    "Удобно использовать метод query совместно с методом assign"
   ]
  },
  {
   "cell_type": "code",
   "execution_count": null,
   "id": "4837ee43",
   "metadata": {},
   "outputs": [],
   "source": [
    "(marks\n",
    "    .assign(math_rus_history_mean = lambda x: \n",
    "            (x[\"Математика\"] + x[\"Русский язык\"] + x[\"История\"]) / 3\n",
    "           )\n",
    "    .query('math_rus_history_mean >= 4')\n",
    "    .drop('math_rus_history_mean', axis=1)\n",
    "    .head(3)\n",
    ")"
   ]
  },
  {
   "cell_type": "markdown",
   "id": "c6a7343c",
   "metadata": {},
   "source": [
    "У объектов Series метода query нет. Но их можно переделать в датафрейм"
   ]
  },
  {
   "cell_type": "code",
   "execution_count": null,
   "id": "0832d315",
   "metadata": {},
   "outputs": [],
   "source": [
    "math.to_frame().query('Математика == [4, 5]')['Математика'].head()"
   ]
  },
  {
   "cell_type": "code",
   "execution_count": null,
   "id": "cc97bbc8",
   "metadata": {},
   "outputs": [],
   "source": []
  },
  {
   "cell_type": "code",
   "execution_count": null,
   "id": "9c2b9057",
   "metadata": {},
   "outputs": [],
   "source": []
  },
  {
   "cell_type": "code",
   "execution_count": null,
   "id": "56883116",
   "metadata": {},
   "outputs": [],
   "source": []
  },
  {
   "cell_type": "code",
   "execution_count": null,
   "id": "19885473",
   "metadata": {},
   "outputs": [],
   "source": []
  },
  {
   "cell_type": "markdown",
   "id": "dcaca271",
   "metadata": {},
   "source": [
    "#### Избавляемся от дубликатов"
   ]
  },
  {
   "cell_type": "markdown",
   "id": "d7e9ee13",
   "metadata": {},
   "source": [
    "### В метод loc можно передать функцию, которая на вход принимает датафрейм. Возвращать она должна массив True False"
   ]
  },
  {
   "cell_type": "markdown",
   "id": "f23e4b4b",
   "metadata": {},
   "source": [
    "Здесь мы хотим вернуть только те строки по стобцам i_pernr и fio, которые представлены в единственном экземпляре"
   ]
  },
  {
   "cell_type": "code",
   "execution_count": null,
   "id": "c94d0947",
   "metadata": {},
   "outputs": [],
   "source": [
    "empl.loc[lambda x: ~x.duplicated('i_pernr', keep=False)].head(3)"
   ]
  },
  {
   "cell_type": "markdown",
   "id": "e4246b18",
   "metadata": {},
   "source": [
    "Метод loc удобно использовать если надо проверить условие на всю строку или на значительную часть строки"
   ]
  },
  {
   "cell_type": "code",
   "execution_count": null,
   "id": "884bab49",
   "metadata": {},
   "outputs": [],
   "source": [
    "marks.loc[lambda x: x\n",
    "    .drop(columns=['ФИО', 'Пол'])\n",
    "    .isin([5]) # или можно использовать .eq(5)\n",
    "    .all(axis=1)\n",
    "          ]"
   ]
  },
  {
   "cell_type": "markdown",
   "id": "a63085e7",
   "metadata": {},
   "source": [
    "Правда через query это тоже можно сделать"
   ]
  },
  {
   "cell_type": "code",
   "execution_count": null,
   "id": "9d1545f4",
   "metadata": {},
   "outputs": [],
   "source": [
    "(marks\n",
    "    .assign(otlichik = lambda x: x.drop(columns=['ФИО', 'Пол'])\n",
    "                                    .isin([5]).all(axis=1)\n",
    "           )\n",
    "    .query('otlichik')\n",
    "    .drop('otlichik', axis=1)\n",
    ")"
   ]
  },
  {
   "cell_type": "code",
   "execution_count": null,
   "id": "0f4ff910",
   "metadata": {},
   "outputs": [],
   "source": []
  },
  {
   "cell_type": "markdown",
   "id": "b6a5bbd5",
   "metadata": {},
   "source": [
    "### Метод drop_duplicates"
   ]
  },
  {
   "cell_type": "markdown",
   "id": "95092fc0",
   "metadata": {},
   "source": [
    "Оставляем строку если она не встречалась выше в таблице"
   ]
  },
  {
   "cell_type": "code",
   "execution_count": null,
   "id": "0cf8aaad",
   "metadata": {},
   "outputs": [],
   "source": [
    "empl.drop_duplicates().head(3)"
   ]
  },
  {
   "cell_type": "code",
   "execution_count": null,
   "id": "7b167a51",
   "metadata": {},
   "outputs": [],
   "source": [
    "empl.drop_duplicates('i_pernr', keep='first').head(3) # Это значение по умолчанию"
   ]
  },
  {
   "cell_type": "markdown",
   "id": "8d9d907f",
   "metadata": {},
   "source": [
    "Оставляем строку если она не встречалась ниже в таблице"
   ]
  },
  {
   "cell_type": "code",
   "execution_count": null,
   "id": "e124318e",
   "metadata": {},
   "outputs": [],
   "source": [
    "empl.drop_duplicates('i_pernr', keep='last').head()"
   ]
  },
  {
   "cell_type": "markdown",
   "id": "da2d024a",
   "metadata": {},
   "source": [
    "Возвращаем только те строки, которые представленны в единственном экземпляре "
   ]
  },
  {
   "cell_type": "code",
   "execution_count": null,
   "id": "ae6297de",
   "metadata": {},
   "outputs": [],
   "source": [
    "empl.drop_duplicates('i_pernr', keep=False).head(3)"
   ]
  },
  {
   "cell_type": "code",
   "execution_count": null,
   "id": "bc2a59f2",
   "metadata": {},
   "outputs": [],
   "source": []
  },
  {
   "cell_type": "code",
   "execution_count": null,
   "id": "555480f2",
   "metadata": {},
   "outputs": [],
   "source": []
  },
  {
   "cell_type": "code",
   "execution_count": null,
   "id": "7cfc17e8",
   "metadata": {},
   "outputs": [],
   "source": []
  },
  {
   "cell_type": "code",
   "execution_count": null,
   "id": "fec0bc61",
   "metadata": {},
   "outputs": [],
   "source": []
  },
  {
   "cell_type": "code",
   "execution_count": null,
   "id": "3089766d",
   "metadata": {},
   "outputs": [],
   "source": []
  },
  {
   "cell_type": "markdown",
   "id": "97e38cef",
   "metadata": {},
   "source": [
    "# Присваивание значений на основе условий"
   ]
  },
  {
   "cell_type": "code",
   "execution_count": null,
   "id": "c64db160",
   "metadata": {},
   "outputs": [],
   "source": [
    "marks_copy = marks.copy()\n",
    "marks_copy.head()"
   ]
  },
  {
   "cell_type": "code",
   "execution_count": null,
   "id": "9e3954db",
   "metadata": {},
   "outputs": [],
   "source": [
    "# Условие на то, что человек хорошист\n",
    "condition = (\n",
    "    marks_copy\n",
    "    .drop(columns=['ФИО', 'Пол'])\n",
    "    .isin([4, 5])\n",
    "    .all(axis=1)\n",
    ")\n",
    "condition.head()"
   ]
  },
  {
   "cell_type": "markdown",
   "id": "65c8b8a9",
   "metadata": {},
   "source": [
    "#### Использование атрибута loc"
   ]
  },
  {
   "cell_type": "code",
   "execution_count": null,
   "id": "f147aad0",
   "metadata": {},
   "outputs": [],
   "source": [
    "marks_copy.loc[condition, 'Характеристика'] = 'Учится хорошо'\n",
    "marks_copy.loc[~condition, 'Характеристика'] = 'Учится плохо'\n",
    "marks_copy.head()"
   ]
  },
  {
   "cell_type": "code",
   "execution_count": null,
   "id": "d259352b",
   "metadata": {},
   "outputs": [],
   "source": []
  },
  {
   "cell_type": "code",
   "execution_count": null,
   "id": "aabbe1fa",
   "metadata": {},
   "outputs": [],
   "source": []
  },
  {
   "cell_type": "code",
   "execution_count": null,
   "id": "337474c7",
   "metadata": {},
   "outputs": [],
   "source": []
  },
  {
   "cell_type": "markdown",
   "id": "c4ce4e33",
   "metadata": {},
   "source": [
    "### where"
   ]
  },
  {
   "cell_type": "markdown",
   "id": "9b6cc961",
   "metadata": {},
   "source": [
    "Синсаксис:\n",
    "\n",
    "np.where(условие, значение если условие выполняется, значение если условие не выполняется)"
   ]
  },
  {
   "cell_type": "code",
   "execution_count": null,
   "id": "840b0e6b",
   "metadata": {},
   "outputs": [],
   "source": [
    "np.where(marks.drop(columns=['ФИО', 'Пол']).isin([4, 5]).all(axis=1), # прописываем условие\n",
    "        'Учится хорошо', 'Учится плохо') # Значение если условие выполняется и не выполняется"
   ]
  },
  {
   "cell_type": "code",
   "execution_count": null,
   "id": "8a589a5a",
   "metadata": {},
   "outputs": [],
   "source": []
  },
  {
   "cell_type": "code",
   "execution_count": null,
   "id": "946a5534",
   "metadata": {},
   "outputs": [],
   "source": []
  },
  {
   "cell_type": "code",
   "execution_count": null,
   "id": "0e574307",
   "metadata": {},
   "outputs": [],
   "source": []
  },
  {
   "cell_type": "code",
   "execution_count": null,
   "id": "dd296590",
   "metadata": {},
   "outputs": [],
   "source": [
    "(marks\n",
    "    .assign(characteristic = lambda x: np.where(x.drop(columns=['ФИО', 'Пол'])\n",
    "                                                 .isin([4, 5]).all(axis=1),\n",
    "                                        'Учится хорошо', 'Учится плохо'))\n",
    "    .head()\n",
    ")"
   ]
  },
  {
   "cell_type": "code",
   "execution_count": null,
   "id": "b41e348d",
   "metadata": {},
   "outputs": [],
   "source": [
    "(empl\n",
    "    .assign(bonus = lambda x: np.where(x['mgmt_flag']==1,\n",
    "                                       x['salary']*0.2,\n",
    "                                       x['salary']*0.1)\n",
    "           )\n",
    "    .head()\n",
    ")"
   ]
  },
  {
   "cell_type": "code",
   "execution_count": null,
   "id": "0ed74f0c",
   "metadata": {},
   "outputs": [],
   "source": [
    "(empl\n",
    "    .assign(bonus = lambda x: np.where(x['mgmt_flag']==1,\n",
    "                                       x['salary']*0.2,\n",
    "                                       500)\n",
    "           )\n",
    "    .head()\n",
    ")"
   ]
  },
  {
   "cell_type": "code",
   "execution_count": null,
   "id": "3b745e3e",
   "metadata": {},
   "outputs": [],
   "source": []
  },
  {
   "cell_type": "markdown",
   "id": "52659318",
   "metadata": {},
   "source": [
    "### В пандасе есть метод where и mask"
   ]
  },
  {
   "cell_type": "code",
   "execution_count": null,
   "id": "0cea8d22",
   "metadata": {},
   "outputs": [],
   "source": [
    "empl['salary'].where(empl['mgmt_flag'] == 1, # условие\n",
    "                     empl['salary'] * 0.2) # значение если условие не выполняется\n",
    "# Если условие выполняется, то берется значение из колоноки salary"
   ]
  },
  {
   "cell_type": "code",
   "execution_count": null,
   "id": "c0b630d8",
   "metadata": {},
   "outputs": [],
   "source": [
    "empl['salary'].mask(empl['mgmt_flag'] == 1, # услвоие\n",
    "                    empl['salary'] * 0.2) # значение если условие выполняется\n",
    "# Если условие не выполняется, то берется значение из колоноки salary"
   ]
  },
  {
   "cell_type": "code",
   "execution_count": null,
   "id": "cd7dba08",
   "metadata": {},
   "outputs": [],
   "source": []
  },
  {
   "cell_type": "markdown",
   "id": "706b44ef",
   "metadata": {},
   "source": [
    "#### Внутри методов можно использовать функции"
   ]
  },
  {
   "cell_type": "code",
   "execution_count": null,
   "id": "bbdcf239",
   "metadata": {},
   "outputs": [],
   "source": [
    "empl['salary'].where(lambda x: x > 35000, # услвоие\n",
    "                     empl['salary'] * 1.2) # значение если условие не выполняется\n",
    "# Если условие выполняется, то берется значение из колоноки salary"
   ]
  },
  {
   "cell_type": "markdown",
   "id": "31c65de2",
   "metadata": {},
   "source": [
    "### select\n",
    "#### Синтаксис:\n",
    "\n",
    "np.select(список условий, список значений, значение если не выполнилось ни одно условие)\n",
    "\n",
    "Длинна списоков с условиями и значениями должна быть равна\n",
    "\n",
    "Условия проверяются в том порядке, в котором они написаны. Если выполнилось одно из условий дальше условия не проверяются"
   ]
  },
  {
   "cell_type": "code",
   "execution_count": null,
   "id": "7c7a27f1",
   "metadata": {},
   "outputs": [],
   "source": [
    "np.select(\n",
    "    [marks.drop(columns=['ФИО', 'Пол']).isin([5]).all(axis=1),\n",
    "    marks.drop(columns=['ФИО', 'Пол']).isin([5, 4]).all(axis=1)],\n",
    "    \n",
    "    ['Отличник', 'Хорошист'], 'Троешник')"
   ]
  },
  {
   "cell_type": "code",
   "execution_count": null,
   "id": "a2bc8935",
   "metadata": {},
   "outputs": [],
   "source": [
    "(marks\n",
    "    .assign(characteristics = lambda x: np.select(\n",
    "        [x.drop(columns=['ФИО', 'Пол']).isin([5]).all(axis=1),\n",
    "        x.drop(columns=['ФИО', 'Пол']).isin([5, 4]).all(axis=1)],\n",
    "        ['Отличник', 'Хорошист'], 'Троешник'))\n",
    "    .head()\n",
    ")"
   ]
  },
  {
   "cell_type": "code",
   "execution_count": null,
   "id": "fca3ce17",
   "metadata": {},
   "outputs": [],
   "source": [
    "(marks\n",
    "    .assign(characteristics=lambda x: np.select(\n",
    "        [marks.drop(columns=['ФИО', 'Пол']).isin([5]).all(axis=1),\n",
    "        marks.drop(columns=['ФИО', 'Пол']).isin([5, 4]).all(axis=1)],\n",
    "        ['Отличник', 'Хорошист'], 'Троешник'))\n",
    "#     .query('characteristics == \"Отличник\"')\n",
    "    .query('characteristics == \"Хорошист\"')\n",
    "#     .query('characteristics == \"Троешник\"')\n",
    "    .head()\n",
    ")"
   ]
  },
  {
   "cell_type": "code",
   "execution_count": null,
   "id": "48aed115",
   "metadata": {},
   "outputs": [],
   "source": []
  },
  {
   "cell_type": "markdown",
   "id": "0eae9c30",
   "metadata": {},
   "source": [
    "### np.minimum и np.maximum\n",
    "\n",
    "Функции позволяют сравнивать несколько массивов между собой и возвращать минимум/максимум по каждой строке"
   ]
  },
  {
   "cell_type": "code",
   "execution_count": null,
   "id": "59f0eefd",
   "metadata": {},
   "outputs": [],
   "source": [
    "np.minimum(marks['Математика'], marks['История'])"
   ]
  },
  {
   "cell_type": "code",
   "execution_count": null,
   "id": "138c1982",
   "metadata": {},
   "outputs": [],
   "source": [
    "np.minimum(marks['Математика'], marks['История'], marks['Физика'])"
   ]
  },
  {
   "cell_type": "markdown",
   "id": "4d51fb8c",
   "metadata": {},
   "source": [
    "Массив можно сравнивать с константой"
   ]
  },
  {
   "cell_type": "code",
   "execution_count": null,
   "id": "7511e298",
   "metadata": {},
   "outputs": [],
   "source": [
    "np.maximum(marks['Математика'], 4)"
   ]
  },
  {
   "cell_type": "markdown",
   "id": "572d5cc5",
   "metadata": {},
   "source": [
    "### Clip\n",
    "\n",
    "Позволяет обрезать значния. \n",
    "\n",
    "Все значения ниже указанного числа станут равны указанному числу"
   ]
  },
  {
   "cell_type": "code",
   "execution_count": null,
   "id": "0d3b661d",
   "metadata": {},
   "outputs": [],
   "source": [
    "empl['salary']"
   ]
  },
  {
   "cell_type": "code",
   "execution_count": null,
   "id": "51809f2c",
   "metadata": {
    "scrolled": true
   },
   "outputs": [],
   "source": [
    "empl['salary'].clip(30000)"
   ]
  },
  {
   "cell_type": "code",
   "execution_count": null,
   "id": "6266df69",
   "metadata": {},
   "outputs": [],
   "source": [
    "# минималььное значение равно 30000\n",
    "empl['salary'].clip(30000).min()"
   ]
  },
  {
   "cell_type": "markdown",
   "id": "93c95669",
   "metadata": {},
   "source": [
    "Если указать два значения, то все значения выше второго будут тоже обрезаны"
   ]
  },
  {
   "cell_type": "code",
   "execution_count": null,
   "id": "3be9d0a0",
   "metadata": {},
   "outputs": [],
   "source": [
    "empl['salary'].clip(30000, 90000)"
   ]
  },
  {
   "cell_type": "code",
   "execution_count": null,
   "id": "690a3e27",
   "metadata": {},
   "outputs": [],
   "source": [
    "empl['salary'].clip(30000, 90000).min()"
   ]
  },
  {
   "cell_type": "code",
   "execution_count": null,
   "id": "0c721168",
   "metadata": {},
   "outputs": [],
   "source": [
    "empl['salary'].clip(30000, 90000).max()"
   ]
  },
  {
   "cell_type": "code",
   "execution_count": null,
   "id": "c17e295e",
   "metadata": {},
   "outputs": [],
   "source": []
  },
  {
   "cell_type": "code",
   "execution_count": null,
   "id": "d360533e",
   "metadata": {},
   "outputs": [],
   "source": []
  },
  {
   "cell_type": "code",
   "execution_count": null,
   "id": "796fd3ac",
   "metadata": {},
   "outputs": [],
   "source": []
  },
  {
   "cell_type": "code",
   "execution_count": null,
   "id": "b774572f",
   "metadata": {},
   "outputs": [],
   "source": []
  },
  {
   "cell_type": "code",
   "execution_count": null,
   "id": "15323bd9",
   "metadata": {},
   "outputs": [],
   "source": []
  },
  {
   "cell_type": "code",
   "execution_count": null,
   "id": "ddf2ccf3",
   "metadata": {},
   "outputs": [],
   "source": []
  },
  {
   "cell_type": "code",
   "execution_count": null,
   "id": "ac9c52cd",
   "metadata": {},
   "outputs": [],
   "source": []
  },
  {
   "cell_type": "code",
   "execution_count": null,
   "id": "fdbad0a2",
   "metadata": {},
   "outputs": [],
   "source": []
  },
  {
   "cell_type": "code",
   "execution_count": null,
   "id": "51951891",
   "metadata": {},
   "outputs": [],
   "source": []
  },
  {
   "cell_type": "code",
   "execution_count": null,
   "id": "68dad181",
   "metadata": {},
   "outputs": [],
   "source": []
  },
  {
   "cell_type": "markdown",
   "id": "8d084d8e",
   "metadata": {},
   "source": [
    "# Задания"
   ]
  },
  {
   "cell_type": "markdown",
   "id": "1aaf64e1",
   "metadata": {},
   "source": [
    "#### Описание таблиц лежит [здесь](https://github.com/victorlymarev/pandas/tree/main/tables#%D0%BE%D0%BF%D0%B8%D1%81%D0%B0%D0%BD%D0%B8%D0%B5-%D1%82%D0%B0%D0%B1%D0%BB%D0%B8%D1%86)"
   ]
  },
  {
   "cell_type": "markdown",
   "id": "1a448b16",
   "metadata": {},
   "source": [
    "Некоторые таблицы занимают много памяти, поэтому каждые 5-10 заданий лучше перезапускайте ноутбук.\n",
    "\n",
    "В формулировке некоторых заданий может содержаться вариативность. Если у вас есть сомнения, что требуется в задании, попробуйте решить несколько вариантов. Если вы не понимаете задание, можете написать об этом в комментариях под видео.\n",
    "\n",
    "В большинстве случаев внешний вид итоговой таблицы не определен. Выведите на экран наиболее адекватный вариант. То есть таблицу, из которой можно будет сделать выводы.\n",
    "\n",
    "Курс пока находится в разработке. Вы можете помочь другим людям добавив свое решение [сюда](https://docs.google.com/forms/d/1HYTBz_KfssY3Jps2dC3n0YnEqa6WBb5OIhLo1d32Xzw/edit).\n",
    "\n",
    "Посмотреть решения других людей можно [здесь](https://docs.google.com/spreadsheets/d/1pMDYO-9UneLbPPnEuQ2shig0TOJdQTU-zipifyAnZMk/edit?resourcekey#gid=1998648012)"
   ]
  },
  {
   "cell_type": "markdown",
   "id": "fb9bafec",
   "metadata": {},
   "source": [
    "### Задание 1\n",
    "\n",
    "Из таблицы w_ends выберите выходные дни"
   ]
  },
  {
   "cell_type": "code",
   "execution_count": null,
   "id": "e4eee663",
   "metadata": {},
   "outputs": [],
   "source": [
    "import os\n",
    "import pandas as pd\n",
    "\n",
    "path_w_ends = '../tables/выходные.csv' if os.path.exists('../tables/выходные.csv') else 'https://drive.google.com/uc?id=1hAsoXSPTFihFmBuF-E0uSj9pX4gpojwC'\n",
    "\n",
    "w_ends = pd.read_csv(path_w_ends)\n",
    "w_ends.head()"
   ]
  },
  {
   "cell_type": "code",
   "execution_count": null,
   "id": "41575bec",
   "metadata": {},
   "outputs": [],
   "source": [
    "# Напишите свой код здесь"
   ]
  },
  {
   "cell_type": "markdown",
   "id": "80903366",
   "metadata": {},
   "source": [
    "### Задание 2\n",
    "\n",
    "Выберите строки таблицы stocks, когда минимальная цена была выше 300"
   ]
  },
  {
   "cell_type": "code",
   "execution_count": null,
   "id": "208d204a",
   "metadata": {},
   "outputs": [],
   "source": [
    "import os\n",
    "import pandas as pd\n",
    "\n",
    "path_stocks = '../tables/stocks.parquet' if os.path.exists('../tables/stocks.parquet') else 'https://drive.google.com/uc?id=1weGquTtmR92mKYAeZhZCFHJjndyoSXZt'\n",
    "\n",
    "stocks = pd.read_parquet(path_stocks)\n",
    "stocks.head()"
   ]
  },
  {
   "cell_type": "code",
   "execution_count": null,
   "id": "04b05a58",
   "metadata": {},
   "outputs": [],
   "source": [
    "# Напишите свой код здесь"
   ]
  },
  {
   "cell_type": "markdown",
   "id": "5cc2bc8e",
   "metadata": {},
   "source": [
    "### Задание 3\n",
    "\n",
    "Из таблицы shops выберите магазины из Москвы, Саратова и Оренбурга"
   ]
  },
  {
   "cell_type": "code",
   "execution_count": null,
   "id": "f2874733",
   "metadata": {},
   "outputs": [],
   "source": [
    "import os\n",
    "import pandas as pd\n",
    "\n",
    "path_shops = '../tables/shops.xlsx' if os.path.exists('../tables/shops.xlsx') else 'https://drive.google.com/uc?id=1gfnmceJa3Mc1X06NftTx9G9QfKfprjEB'\n",
    "\n",
    "shops = pd.read_excel(path_shops)\n",
    "shops"
   ]
  },
  {
   "cell_type": "code",
   "execution_count": null,
   "id": "aec246d7",
   "metadata": {},
   "outputs": [],
   "source": [
    "# Напишите свой код здесь"
   ]
  },
  {
   "cell_type": "markdown",
   "id": "8be0c029",
   "metadata": {},
   "source": [
    "### Задание 4\n",
    "\n",
    "Верно ли что все мелкие магазины расположены вне торговых центров?"
   ]
  },
  {
   "cell_type": "code",
   "execution_count": null,
   "id": "2a5bc88c",
   "metadata": {},
   "outputs": [],
   "source": [
    "import os\n",
    "import pandas as pd\n",
    "\n",
    "path_shops = '../tables/shops.xlsx' if os.path.exists('../tables/shops.xlsx') else 'https://drive.google.com/uc?id=1gfnmceJa3Mc1X06NftTx9G9QfKfprjEB'\n",
    "\n",
    "shops = pd.read_excel(path_shops)\n",
    "shops"
   ]
  },
  {
   "cell_type": "code",
   "execution_count": null,
   "id": "055487a8",
   "metadata": {},
   "outputs": [],
   "source": [
    "# Напишите свой код здесь"
   ]
  },
  {
   "cell_type": "markdown",
   "id": "707ed86a",
   "metadata": {},
   "source": [
    "### Задание 5\n",
    "\n",
    "Выведите имена сотрудниковт мужского пола, которые встречаются в таблице empl только 1 раз"
   ]
  },
  {
   "cell_type": "code",
   "execution_count": null,
   "id": "96dc5156",
   "metadata": {},
   "outputs": [],
   "source": [
    "import os\n",
    "import pandas as pd\n",
    "\n",
    "path_empl = '../tables/employees.parquet' if os.path.exists('../tables/employees.parquet') else 'https://drive.google.com/uc?id=1AARD5-eVlCxoApt5CYZebrC3Cqw42lvj'\n",
    "\n",
    "empl = pd.read_parquet(path_empl)\n",
    "empl.head()"
   ]
  },
  {
   "cell_type": "code",
   "execution_count": null,
   "id": "5cefd366",
   "metadata": {},
   "outputs": [],
   "source": [
    "# Напишите свой код здесь"
   ]
  },
  {
   "cell_type": "markdown",
   "id": "618f6d06",
   "metadata": {},
   "source": [
    "### Задание 6\n",
    "\n",
    "Сколько уникальных зарплат было в магазинах 31 марта 2020 года?"
   ]
  },
  {
   "cell_type": "code",
   "execution_count": null,
   "id": "84c9d507",
   "metadata": {},
   "outputs": [],
   "source": [
    "import os\n",
    "import pandas as pd\n",
    "\n",
    "path_empl = '../tables/employees.parquet' if os.path.exists('../tables/employees.parquet') else 'https://drive.google.com/uc?id=1AARD5-eVlCxoApt5CYZebrC3Cqw42lvj'\n",
    "\n",
    "empl = pd.read_parquet(path_empl)\n",
    "empl.head()"
   ]
  },
  {
   "cell_type": "code",
   "execution_count": null,
   "id": "24d09b59",
   "metadata": {},
   "outputs": [],
   "source": [
    "# Напишите свой код здесь"
   ]
  },
  {
   "cell_type": "markdown",
   "id": "45454690",
   "metadata": {},
   "source": [
    "### Задание 7\n",
    "\n",
    "Выведите табельные номера (i_pernr) и имена кассиров и старших кассиров, которые когда-либо зарабатывали в магазине менее 20000. В итоговой таблице не должно быть дубликатов"
   ]
  },
  {
   "cell_type": "code",
   "execution_count": null,
   "id": "abc931fc",
   "metadata": {},
   "outputs": [],
   "source": [
    "import os\n",
    "import pandas as pd\n",
    "\n",
    "path_empl = '../tables/employees.parquet' if os.path.exists('../tables/employees.parquet') else 'https://drive.google.com/uc?id=1AARD5-eVlCxoApt5CYZebrC3Cqw42lvj'\n",
    "\n",
    "empl = pd.read_parquet(path_empl)\n",
    "empl.head()"
   ]
  },
  {
   "cell_type": "code",
   "execution_count": null,
   "id": "39398bdf",
   "metadata": {},
   "outputs": [],
   "source": [
    "# Напишите свой код здесь"
   ]
  },
  {
   "cell_type": "markdown",
   "id": "37471875",
   "metadata": {},
   "source": [
    "### Задание 8\n",
    "\n",
    "Выберите тех сотрудников, у которых в июле 2021 года либо не было оценки, либо оценка была выше 7"
   ]
  },
  {
   "cell_type": "code",
   "execution_count": null,
   "id": "25d4964c",
   "metadata": {},
   "outputs": [],
   "source": [
    "import os\n",
    "import pandas as pd\n",
    "\n",
    "path_empl = '../tables/employees.parquet' if os.path.exists('../tables/employees.parquet') else 'https://drive.google.com/uc?id=1AARD5-eVlCxoApt5CYZebrC3Cqw42lvj'\n",
    "\n",
    "empl = pd.read_parquet(path_empl)\n",
    "empl.head()"
   ]
  },
  {
   "cell_type": "code",
   "execution_count": null,
   "id": "7e9c54aa",
   "metadata": {},
   "outputs": [],
   "source": [
    "# Напишите свой код здесь"
   ]
  },
  {
   "cell_type": "markdown",
   "id": "ff609627",
   "metadata": {},
   "source": [
    "### Задание 9\n",
    "\n",
    "Создайте колонку est. Она будет принимать значение 'Работает хорошо' если оценка больше или равна 6 и 'Работает полохо' иначе"
   ]
  },
  {
   "cell_type": "code",
   "execution_count": null,
   "id": "b35f1ecf",
   "metadata": {},
   "outputs": [],
   "source": [
    "import os\n",
    "import pandas as pd\n",
    "\n",
    "path_empl = '../tables/employees.parquet' if os.path.exists('../tables/employees.parquet') else 'https://drive.google.com/uc?id=1AARD5-eVlCxoApt5CYZebrC3Cqw42lvj'\n",
    "\n",
    "empl = pd.read_parquet(path_empl)\n",
    "empl.head()"
   ]
  },
  {
   "cell_type": "code",
   "execution_count": null,
   "id": "954361d0",
   "metadata": {},
   "outputs": [],
   "source": [
    "# Напишите свой код здесь"
   ]
  },
  {
   "cell_type": "markdown",
   "id": "d0811ff8",
   "metadata": {},
   "source": [
    "### Задание 10\n",
    "\n",
    "Создайте колонку est. Она будет принимать значение 'Работает хорошо' если оценка больше или равна 6, 'Работает полохо' если  оценка ниже 6 и 'Непонятно' иначе"
   ]
  },
  {
   "cell_type": "code",
   "execution_count": null,
   "id": "6e5163ab",
   "metadata": {},
   "outputs": [],
   "source": [
    "import os\n",
    "import pandas as pd\n",
    "\n",
    "path_empl = '../tables/employees.parquet' if os.path.exists('../tables/employees.parquet') else 'https://drive.google.com/uc?id=1AARD5-eVlCxoApt5CYZebrC3Cqw42lvj'\n",
    "\n",
    "empl = pd.read_parquet(path_empl)\n",
    "empl.head()"
   ]
  },
  {
   "cell_type": "code",
   "execution_count": null,
   "id": "03b80c46",
   "metadata": {},
   "outputs": [],
   "source": [
    "# Напишите свой код здесь"
   ]
  },
  {
   "cell_type": "markdown",
   "id": "fc76301e",
   "metadata": {},
   "source": [
    "### Задание 11\n",
    "\n",
    "Найте минимиальную оценку по русскому языку, математике и истории для каждого школьника"
   ]
  },
  {
   "cell_type": "code",
   "execution_count": null,
   "id": "6b728fde",
   "metadata": {},
   "outputs": [],
   "source": [
    "import os\n",
    "import pandas as pd\n",
    "\n",
    "path_marks = '../tables/школьные оценки.xlsx' if os.path.exists('../tables/школьные оценки.xlsx') else 'https://drive.google.com/uc?id=1v9kRv1I03CXtQ6vFE4mE3hFAty436qAo'\n",
    "\n",
    "marks = pd.read_excel(path_marks)\n",
    "marks.head()"
   ]
  },
  {
   "cell_type": "code",
   "execution_count": null,
   "id": "2e5e2a85",
   "metadata": {},
   "outputs": [],
   "source": [
    "# Напишите свой код здесь"
   ]
  },
  {
   "cell_type": "markdown",
   "id": "b6176f06",
   "metadata": {},
   "source": [
    "### Задание 12\n",
    "\n",
    "Проверьте, что день рождения сотрудника (birth_date) и его табельный номер (i_pernr) имеют между собой взаимо однозначное соотвествие. \n",
    " \n",
    "\n",
    "<details>\n",
    "\n",
    "<summary>Подсказка (кликните сюда 1 раз, если не можете решить)</summary>\n",
    " \n",
    "Это можно сделать при помощи метода drop_duplicates. Сначала удалите из таблицы дубликаты по дате рождения и по табельному номеру. Посмотрите сколько строк получилось в таблице. А затем из получившейся таблицы уберите дублиты по табельному номеру. Число строк в таблице не должно измениться\n",
    "\n",
    "</details>"
   ]
  },
  {
   "cell_type": "code",
   "execution_count": null,
   "id": "98acae9e",
   "metadata": {},
   "outputs": [],
   "source": [
    "import os\n",
    "import pandas as pd\n",
    "\n",
    "path_empl = '../tables/employees.parquet' if os.path.exists('../tables/employees.parquet') else 'https://drive.google.com/uc?id=1AARD5-eVlCxoApt5CYZebrC3Cqw42lvj'\n",
    "\n",
    "empl = pd.read_parquet(path_empl)\n",
    "empl.head()"
   ]
  },
  {
   "cell_type": "code",
   "execution_count": null,
   "id": "720fe672",
   "metadata": {},
   "outputs": [],
   "source": [
    "# Напишите свой код здесь"
   ]
  },
  {
   "cell_type": "code",
   "execution_count": null,
   "id": "150cfa86",
   "metadata": {},
   "outputs": [],
   "source": []
  },
  {
   "cell_type": "code",
   "execution_count": null,
   "id": "2bdb7d5f",
   "metadata": {},
   "outputs": [],
   "source": []
  },
  {
   "cell_type": "code",
   "execution_count": null,
   "id": "c9bfdc54",
   "metadata": {},
   "outputs": [],
   "source": []
  },
  {
   "cell_type": "code",
   "execution_count": null,
   "id": "3ff10b7b",
   "metadata": {},
   "outputs": [],
   "source": []
  },
  {
   "cell_type": "code",
   "execution_count": null,
   "id": "5bf5adfa",
   "metadata": {},
   "outputs": [],
   "source": []
  }
 ],
 "metadata": {
  "kernelspec": {
   "display_name": "Python 3 (ipykernel)",
   "language": "python",
   "name": "python3"
  },
  "language_info": {
   "codemirror_mode": {
    "name": "ipython",
    "version": 3
   },
   "file_extension": ".py",
   "mimetype": "text/x-python",
   "name": "python",
   "nbconvert_exporter": "python",
   "pygments_lexer": "ipython3",
   "version": "3.11.6"
  }
 },
 "nbformat": 4,
 "nbformat_minor": 5
}
