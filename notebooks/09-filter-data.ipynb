{
 "cells": [
  {
   "cell_type": "markdown",
   "id": "182b8618",
   "metadata": {},
   "source": [
    "<a target=\"_blank\" href=\"https://colab.research.google.com/github/victorlymarev/pandas/blob/main/notebooks/09-filter-data.ipynb\">\n",
    "  <img src=\"https://colab.research.google.com/assets/colab-badge.svg\" alt=\"Open In Colab\"/>\n",
    "</a>"
   ]
  },
  {
   "cell_type": "markdown",
   "id": "febf87ca",
   "metadata": {},
   "source": [
    "# Код из видео"
   ]
  },
  {
   "cell_type": "markdown",
   "id": "3cbdea95",
   "metadata": {},
   "source": [
    "Если вы будете работать с этим ноутбуком в google colab и у вас что-то не будет работать, то раскоментируйте ячейку ниже (для этого выделите содержимое ячейки и нажмите на клавиши ctrl / (если смотреть по английской раскладке или ctrl . для русской), либо просто руками уберите # и пробел после нее в каждой строчке) и запустите ее."
   ]
  },
  {
   "cell_type": "code",
   "execution_count": null,
   "id": "7043f237",
   "metadata": {},
   "outputs": [],
   "source": [
    "# import os\n",
    "# os._exit(00)\n",
    "# !pip install pyarrow pandas==1.5.3"
   ]
  },
  {
   "cell_type": "code",
   "execution_count": 1,
   "id": "6d9ab82f",
   "metadata": {},
   "outputs": [],
   "source": [
    "import pandas as pd\n",
    "import numpy as np\n",
    "import os"
   ]
  },
  {
   "cell_type": "markdown",
   "id": "0e6147cd",
   "metadata": {},
   "source": [
    " Символ   | Значние                                      | Пример   |\n",
    "|:--------:|:--------------------------------------------:|:--------:|\n",
    "| ==       | Равно <br>(проверка на равентсво двух элементов)<br> | 1==1     |\n",
    "| !=       | Не равно                                     | 1 != 2   |\n",
    "| >        | Больше                                       | 5 > 4    |\n",
    "| >=       | Больше или равно                             | 4 >= 1   |\n",
    "| <        | Меньше                                       | 5 < 10   |\n",
    "| <=       | Меньше или равно                             | 8 <= 10  |"
   ]
  },
  {
   "cell_type": "markdown",
   "id": "075bd9b6",
   "metadata": {},
   "source": [
    "#### Проверка на равенство"
   ]
  },
  {
   "cell_type": "code",
   "execution_count": 2,
   "id": "9027c6d0",
   "metadata": {},
   "outputs": [
    {
     "data": {
      "text/plain": [
       "True"
      ]
     },
     "execution_count": 2,
     "metadata": {},
     "output_type": "execute_result"
    }
   ],
   "source": [
    "1 == 1"
   ]
  },
  {
   "cell_type": "code",
   "execution_count": 3,
   "id": "faa3ac02",
   "metadata": {},
   "outputs": [
    {
     "data": {
      "text/plain": [
       "False"
      ]
     },
     "execution_count": 3,
     "metadata": {},
     "output_type": "execute_result"
    }
   ],
   "source": [
    "1 == 2"
   ]
  },
  {
   "cell_type": "markdown",
   "id": "3f2cbd56",
   "metadata": {},
   "source": [
    "#### Неравенства"
   ]
  },
  {
   "cell_type": "code",
   "execution_count": 4,
   "id": "d8636143",
   "metadata": {},
   "outputs": [
    {
     "data": {
      "text/plain": [
       "True"
      ]
     },
     "execution_count": 4,
     "metadata": {},
     "output_type": "execute_result"
    }
   ],
   "source": [
    "5 != 9"
   ]
  },
  {
   "cell_type": "code",
   "execution_count": 5,
   "id": "b01826aa",
   "metadata": {},
   "outputs": [
    {
     "data": {
      "text/plain": [
       "False"
      ]
     },
     "execution_count": 5,
     "metadata": {},
     "output_type": "execute_result"
    }
   ],
   "source": [
    "6 > 6"
   ]
  },
  {
   "cell_type": "code",
   "execution_count": 6,
   "id": "c6ba2e0b",
   "metadata": {},
   "outputs": [
    {
     "data": {
      "text/plain": [
       "True"
      ]
     },
     "execution_count": 6,
     "metadata": {},
     "output_type": "execute_result"
    }
   ],
   "source": [
    "6 >= 6"
   ]
  },
  {
   "cell_type": "code",
   "execution_count": 7,
   "id": "429ce095",
   "metadata": {},
   "outputs": [
    {
     "data": {
      "text/plain": [
       "True"
      ]
     },
     "execution_count": 7,
     "metadata": {},
     "output_type": "execute_result"
    }
   ],
   "source": [
    "7 < 9"
   ]
  },
  {
   "cell_type": "code",
   "execution_count": 8,
   "id": "53ade631",
   "metadata": {},
   "outputs": [
    {
     "data": {
      "text/plain": [
       "False"
      ]
     },
     "execution_count": 8,
     "metadata": {},
     "output_type": "execute_result"
    }
   ],
   "source": [
    "10 <= -9"
   ]
  },
  {
   "cell_type": "markdown",
   "id": "9f76e33c",
   "metadata": {},
   "source": [
    "#### Сравнение строк"
   ]
  },
  {
   "cell_type": "code",
   "execution_count": 9,
   "id": "d845b35e",
   "metadata": {},
   "outputs": [
    {
     "data": {
      "text/plain": [
       "True"
      ]
     },
     "execution_count": 9,
     "metadata": {},
     "output_type": "execute_result"
    }
   ],
   "source": [
    "'pandas' == 'pandas'"
   ]
  },
  {
   "cell_type": "code",
   "execution_count": 10,
   "id": "8ccffe8a",
   "metadata": {},
   "outputs": [
    {
     "data": {
      "text/plain": [
       "False"
      ]
     },
     "execution_count": 10,
     "metadata": {},
     "output_type": "execute_result"
    }
   ],
   "source": [
    "'pandas' == 'PANDAS'"
   ]
  },
  {
   "cell_type": "markdown",
   "id": "d5742734",
   "metadata": {},
   "source": [
    "Проверка на вхождение элемента в список"
   ]
  },
  {
   "cell_type": "code",
   "execution_count": 11,
   "id": "7ec27213",
   "metadata": {},
   "outputs": [
    {
     "data": {
      "text/plain": [
       "True"
      ]
     },
     "execution_count": 11,
     "metadata": {},
     "output_type": "execute_result"
    }
   ],
   "source": [
    "'a' in 'pandas'"
   ]
  },
  {
   "cell_type": "code",
   "execution_count": 12,
   "id": "0602e8f8",
   "metadata": {},
   "outputs": [
    {
     "data": {
      "text/plain": [
       "False"
      ]
     },
     "execution_count": 12,
     "metadata": {},
     "output_type": "execute_result"
    }
   ],
   "source": [
    "'Катя' in ['Маша', 'Даша', 'Паша']"
   ]
  },
  {
   "cell_type": "code",
   "execution_count": 13,
   "id": "73bdd3f4",
   "metadata": {},
   "outputs": [
    {
     "data": {
      "text/plain": [
       "True"
      ]
     },
     "execution_count": 13,
     "metadata": {},
     "output_type": "execute_result"
    }
   ],
   "source": [
    "'Катя' in ['Маша', 'Даша', 'Катя']"
   ]
  },
  {
   "cell_type": "markdown",
   "id": "8053a792",
   "metadata": {},
   "source": [
    "#### Сложные условия"
   ]
  },
  {
   "cell_type": "markdown",
   "id": "e3d76557",
   "metadata": {},
   "source": [
    "1. and - проверка на то, что 2 условия выполняются одновременно\n",
    "2. or - проверка на то, что выполняется хотя бы одно из условий\n",
    "3. not - логическое не (превращает True в False и наоборот)"
   ]
  },
  {
   "cell_type": "code",
   "execution_count": 14,
   "id": "88ed33c7",
   "metadata": {},
   "outputs": [
    {
     "data": {
      "text/plain": [
       "True"
      ]
     },
     "execution_count": 14,
     "metadata": {},
     "output_type": "execute_result"
    }
   ],
   "source": [
    "5 == 5 and 8 == 8"
   ]
  },
  {
   "cell_type": "code",
   "execution_count": 15,
   "id": "38a52881",
   "metadata": {},
   "outputs": [
    {
     "data": {
      "text/plain": [
       "False"
      ]
     },
     "execution_count": 15,
     "metadata": {},
     "output_type": "execute_result"
    }
   ],
   "source": [
    "5 == 6 and 8 == 8"
   ]
  },
  {
   "cell_type": "code",
   "execution_count": 16,
   "id": "5b3fd257",
   "metadata": {},
   "outputs": [
    {
     "data": {
      "text/plain": [
       "True"
      ]
     },
     "execution_count": 16,
     "metadata": {},
     "output_type": "execute_result"
    }
   ],
   "source": [
    "6 == 6 or 7 == 90"
   ]
  },
  {
   "cell_type": "code",
   "execution_count": 17,
   "id": "66a55f01",
   "metadata": {},
   "outputs": [
    {
     "data": {
      "text/plain": [
       "False"
      ]
     },
     "execution_count": 17,
     "metadata": {},
     "output_type": "execute_result"
    }
   ],
   "source": [
    "6 > 11 or 7 == 90"
   ]
  },
  {
   "cell_type": "code",
   "execution_count": 18,
   "id": "f38594f4",
   "metadata": {},
   "outputs": [
    {
     "data": {
      "text/plain": [
       "False"
      ]
     },
     "execution_count": 18,
     "metadata": {},
     "output_type": "execute_result"
    }
   ],
   "source": [
    "not 45 == 45"
   ]
  },
  {
   "cell_type": "code",
   "execution_count": 19,
   "id": "c0072930",
   "metadata": {},
   "outputs": [
    {
     "data": {
      "text/plain": [
       "False"
      ]
     },
     "execution_count": 19,
     "metadata": {},
     "output_type": "execute_result"
    }
   ],
   "source": [
    "'Катя' not in ['Маша', 'Даша', 'Катя']"
   ]
  },
  {
   "cell_type": "code",
   "execution_count": null,
   "id": "bba1e0c5",
   "metadata": {},
   "outputs": [],
   "source": []
  },
  {
   "cell_type": "code",
   "execution_count": null,
   "id": "1e47fd0a",
   "metadata": {},
   "outputs": [],
   "source": []
  },
  {
   "cell_type": "code",
   "execution_count": null,
   "id": "3aabacef",
   "metadata": {},
   "outputs": [],
   "source": []
  },
  {
   "cell_type": "code",
   "execution_count": null,
   "id": "ee5ffd96",
   "metadata": {},
   "outputs": [],
   "source": []
  },
  {
   "cell_type": "code",
   "execution_count": null,
   "id": "bdebc570",
   "metadata": {},
   "outputs": [],
   "source": []
  },
  {
   "cell_type": "code",
   "execution_count": null,
   "id": "da5c29d8",
   "metadata": {},
   "outputs": [],
   "source": []
  },
  {
   "cell_type": "code",
   "execution_count": null,
   "id": "50a39f98",
   "metadata": {},
   "outputs": [],
   "source": []
  },
  {
   "cell_type": "code",
   "execution_count": null,
   "id": "ad1e7805",
   "metadata": {},
   "outputs": [],
   "source": []
  },
  {
   "cell_type": "code",
   "execution_count": null,
   "id": "813db00a",
   "metadata": {},
   "outputs": [],
   "source": []
  },
  {
   "cell_type": "code",
   "execution_count": null,
   "id": "98f99584",
   "metadata": {},
   "outputs": [],
   "source": []
  },
  {
   "cell_type": "code",
   "execution_count": null,
   "id": "0de1870c",
   "metadata": {},
   "outputs": [],
   "source": []
  },
  {
   "cell_type": "code",
   "execution_count": null,
   "id": "fdf1e2de",
   "metadata": {},
   "outputs": [],
   "source": []
  },
  {
   "cell_type": "code",
   "execution_count": null,
   "id": "ea712df5",
   "metadata": {},
   "outputs": [],
   "source": []
  },
  {
   "cell_type": "code",
   "execution_count": null,
   "id": "00c08180",
   "metadata": {},
   "outputs": [],
   "source": []
  },
  {
   "cell_type": "code",
   "execution_count": null,
   "id": "a8a710b0",
   "metadata": {},
   "outputs": [],
   "source": []
  },
  {
   "cell_type": "code",
   "execution_count": null,
   "id": "9d17ad65",
   "metadata": {},
   "outputs": [],
   "source": []
  },
  {
   "cell_type": "code",
   "execution_count": null,
   "id": "1574923f",
   "metadata": {},
   "outputs": [],
   "source": []
  },
  {
   "cell_type": "code",
   "execution_count": null,
   "id": "27ac6cc6",
   "metadata": {},
   "outputs": [],
   "source": []
  },
  {
   "cell_type": "code",
   "execution_count": null,
   "id": "c63b92e2",
   "metadata": {},
   "outputs": [],
   "source": []
  },
  {
   "cell_type": "code",
   "execution_count": null,
   "id": "3f33eb42",
   "metadata": {},
   "outputs": [],
   "source": []
  },
  {
   "cell_type": "code",
   "execution_count": null,
   "id": "f61b42df",
   "metadata": {},
   "outputs": [],
   "source": []
  },
  {
   "cell_type": "markdown",
   "id": "e7561c31",
   "metadata": {},
   "source": [
    "# Условные операции в таблицах"
   ]
  },
  {
   "cell_type": "markdown",
   "id": "48d70bd9",
   "metadata": {},
   "source": [
    "| Символ   | Метод                 | Расшифровка                 | Значние                                      |\n",
    "|:--------:|:---------------------:|:---------------------------:|:--------------------------------------------:|\n",
    "| **==**   | **eq**                | **eq**ual                   | Равно (проверка на равентсво двух элементов) |\n",
    "| **!=**   | **ne**                | **n**ot **e**qual           | Не равно                                     |\n",
    "| **>**    | **gt**                | **g**reater **t**han        | Больше                                       |\n",
    "| **>=**   | **ge**                | **g**reater or **e**qual    | Больше или равно                             |\n",
    "| **<**    | **lt**                | **l**ess **t**han           | Меньше                                       |\n",
    "| **<=**   | **le**                | **l**ess or **e**qual       | Меньше или равно                             |\n",
    "|          | **isin**              | is in                       | В (проверка на вхождение)                    |\n",
    "|          | **isna или isnull**   | is na или is null           | Проверка на пропуск                          |\n",
    "|          | **notna или notnull** | not na или not null         | Проверка на непропуск                        |\n",
    "|          | **duplicated**        | duplicated                  | Проверка на дубликат                         |"
   ]
  },
  {
   "cell_type": "code",
   "execution_count": 20,
   "id": "cb9f8ab8",
   "metadata": {},
   "outputs": [
    {
     "data": {
      "text/html": [
       "<div>\n",
       "<style scoped>\n",
       "    .dataframe tbody tr th:only-of-type {\n",
       "        vertical-align: middle;\n",
       "    }\n",
       "\n",
       "    .dataframe tbody tr th {\n",
       "        vertical-align: top;\n",
       "    }\n",
       "\n",
       "    .dataframe thead th {\n",
       "        text-align: right;\n",
       "    }\n",
       "</style>\n",
       "<table border=\"1\" class=\"dataframe\">\n",
       "  <thead>\n",
       "    <tr style=\"text-align: right;\">\n",
       "      <th></th>\n",
       "      <th>report_dt</th>\n",
       "      <th>i_pernr</th>\n",
       "      <th>fio</th>\n",
       "      <th>sex</th>\n",
       "      <th>shop_id</th>\n",
       "      <th>pos_name</th>\n",
       "      <th>pos_id</th>\n",
       "      <th>closest_boss_pos_id</th>\n",
       "      <th>mgmt_flag</th>\n",
       "      <th>salary_fork</th>\n",
       "      <th>birth_date</th>\n",
       "      <th>education</th>\n",
       "      <th>employee_evaluation</th>\n",
       "      <th>salary</th>\n",
       "    </tr>\n",
       "  </thead>\n",
       "  <tbody>\n",
       "    <tr>\n",
       "      <th>0</th>\n",
       "      <td>2015-01-31</td>\n",
       "      <td>100000</td>\n",
       "      <td>Кожевников Андрей Максимович</td>\n",
       "      <td>мужской</td>\n",
       "      <td>1</td>\n",
       "      <td>Директор магазина</td>\n",
       "      <td>11</td>\n",
       "      <td>&lt;NA&gt;</td>\n",
       "      <td>1</td>\n",
       "      <td>0</td>\n",
       "      <td>1987-03-11</td>\n",
       "      <td>высшее</td>\n",
       "      <td>5</td>\n",
       "      <td>45700.0</td>\n",
       "    </tr>\n",
       "    <tr>\n",
       "      <th>1</th>\n",
       "      <td>2015-01-31</td>\n",
       "      <td>0</td>\n",
       "      <td>Дубинина Надежда Николаевна</td>\n",
       "      <td>женский</td>\n",
       "      <td>1</td>\n",
       "      <td>Старший кассир</td>\n",
       "      <td>12</td>\n",
       "      <td>11</td>\n",
       "      <td>0</td>\n",
       "      <td>0</td>\n",
       "      <td>1971-07-07</td>\n",
       "      <td>среднее профессиональное</td>\n",
       "      <td>5</td>\n",
       "      <td>20000.0</td>\n",
       "    </tr>\n",
       "    <tr>\n",
       "      <th>2</th>\n",
       "      <td>2015-01-31</td>\n",
       "      <td>1</td>\n",
       "      <td>Вишневскиая Валентина Константиновна</td>\n",
       "      <td>женский</td>\n",
       "      <td>1</td>\n",
       "      <td>Кассир</td>\n",
       "      <td>13</td>\n",
       "      <td>12</td>\n",
       "      <td>0</td>\n",
       "      <td>0</td>\n",
       "      <td>1974-11-29</td>\n",
       "      <td>среднее общее</td>\n",
       "      <td>5</td>\n",
       "      <td>12600.0</td>\n",
       "    </tr>\n",
       "    <tr>\n",
       "      <th>3</th>\n",
       "      <td>2015-01-31</td>\n",
       "      <td>2</td>\n",
       "      <td>Литвинов Александр Максимович</td>\n",
       "      <td>мужской</td>\n",
       "      <td>1</td>\n",
       "      <td>Кассир</td>\n",
       "      <td>14</td>\n",
       "      <td>12</td>\n",
       "      <td>0</td>\n",
       "      <td>0</td>\n",
       "      <td>1969-11-01</td>\n",
       "      <td>среднее общее</td>\n",
       "      <td>3</td>\n",
       "      <td>12600.0</td>\n",
       "    </tr>\n",
       "    <tr>\n",
       "      <th>4</th>\n",
       "      <td>2015-01-31</td>\n",
       "      <td>3</td>\n",
       "      <td>Черняева Валерия Глебовна</td>\n",
       "      <td>женский</td>\n",
       "      <td>1</td>\n",
       "      <td>Продавец-консультант</td>\n",
       "      <td>17</td>\n",
       "      <td>11</td>\n",
       "      <td>0</td>\n",
       "      <td>0</td>\n",
       "      <td>1988-07-17</td>\n",
       "      <td>среднее общее</td>\n",
       "      <td>&lt;NA&gt;</td>\n",
       "      <td>15400.0</td>\n",
       "    </tr>\n",
       "  </tbody>\n",
       "</table>\n",
       "</div>"
      ],
      "text/plain": [
       "   report_dt  i_pernr                                   fio      sex  shop_id  \\\n",
       "0 2015-01-31   100000          Кожевников Андрей Максимович  мужской        1   \n",
       "1 2015-01-31        0           Дубинина Надежда Николаевна  женский        1   \n",
       "2 2015-01-31        1  Вишневскиая Валентина Константиновна  женский        1   \n",
       "3 2015-01-31        2         Литвинов Александр Максимович  мужской        1   \n",
       "4 2015-01-31        3             Черняева Валерия Глебовна  женский        1   \n",
       "\n",
       "               pos_name  pos_id  closest_boss_pos_id  mgmt_flag  salary_fork  \\\n",
       "0     Директор магазина      11                 <NA>          1            0   \n",
       "1        Старший кассир      12                   11          0            0   \n",
       "2                Кассир      13                   12          0            0   \n",
       "3                Кассир      14                   12          0            0   \n",
       "4  Продавец-консультант      17                   11          0            0   \n",
       "\n",
       "  birth_date                 education  employee_evaluation   salary  \n",
       "0 1987-03-11                    высшее                    5  45700.0  \n",
       "1 1971-07-07  среднее профессиональное                    5  20000.0  \n",
       "2 1974-11-29             среднее общее                    5  12600.0  \n",
       "3 1969-11-01             среднее общее                    3  12600.0  \n",
       "4 1988-07-17             среднее общее                 <NA>  15400.0  "
      ]
     },
     "execution_count": 20,
     "metadata": {},
     "output_type": "execute_result"
    }
   ],
   "source": [
    "path_empl = '../tables/employees.parquet' if os.path.exists('../tables/employees.parquet') else 'https://drive.google.com/uc?id=1AARD5-eVlCxoApt5CYZebrC3Cqw42lvj'\n",
    "\n",
    "empl = pd.read_parquet(path_empl)\n",
    "empl.head()"
   ]
  },
  {
   "cell_type": "markdown",
   "id": "c9d88c97",
   "metadata": {},
   "source": [
    "#### Проверка на равенство"
   ]
  },
  {
   "cell_type": "code",
   "execution_count": 21,
   "id": "9a995bb3",
   "metadata": {},
   "outputs": [
    {
     "data": {
      "text/plain": [
       "0               Директор магазина\n",
       "1                  Старший кассир\n",
       "2                          Кассир\n",
       "3                          Кассир\n",
       "4            Продавец-консультант\n",
       "                   ...           \n",
       "29367        Продавец-консультант\n",
       "29368                   Товаровед\n",
       "29369                   Товаровед\n",
       "29370    Мастер по ремонту одежды\n",
       "29371                     Уборщик\n",
       "Name: pos_name, Length: 29372, dtype: string"
      ]
     },
     "execution_count": 21,
     "metadata": {},
     "output_type": "execute_result"
    }
   ],
   "source": [
    "empl['pos_name']"
   ]
  },
  {
   "cell_type": "code",
   "execution_count": 22,
   "id": "a11daea5",
   "metadata": {},
   "outputs": [
    {
     "data": {
      "text/plain": [
       "0         True\n",
       "1        False\n",
       "2        False\n",
       "3        False\n",
       "4        False\n",
       "         ...  \n",
       "29367    False\n",
       "29368    False\n",
       "29369    False\n",
       "29370    False\n",
       "29371    False\n",
       "Name: pos_name, Length: 29372, dtype: boolean"
      ]
     },
     "execution_count": 22,
     "metadata": {},
     "output_type": "execute_result"
    }
   ],
   "source": [
    "empl['pos_name'] == 'Директор магазина'"
   ]
  },
  {
   "cell_type": "code",
   "execution_count": 23,
   "id": "83621a29",
   "metadata": {},
   "outputs": [
    {
     "data": {
      "text/plain": [
       "0         True\n",
       "1        False\n",
       "2        False\n",
       "3        False\n",
       "4        False\n",
       "         ...  \n",
       "29367    False\n",
       "29368    False\n",
       "29369    False\n",
       "29370    False\n",
       "29371    False\n",
       "Name: pos_name, Length: 29372, dtype: boolean"
      ]
     },
     "execution_count": 23,
     "metadata": {},
     "output_type": "execute_result"
    }
   ],
   "source": [
    "# То же самое, что и в предыдущей ячейке\n",
    "empl['pos_name'].eq('Директор магазина')"
   ]
  },
  {
   "cell_type": "markdown",
   "id": "d7f8dee8",
   "metadata": {},
   "source": [
    "То же самое для табельного номера"
   ]
  },
  {
   "cell_type": "code",
   "execution_count": 24,
   "id": "65d48526",
   "metadata": {},
   "outputs": [
    {
     "data": {
      "text/plain": [
       "0        100000\n",
       "1             0\n",
       "2             1\n",
       "3             2\n",
       "4             3\n",
       "          ...  \n",
       "29367      1372\n",
       "29368      1615\n",
       "29369      1748\n",
       "29370      1616\n",
       "29371      1687\n",
       "Name: i_pernr, Length: 29372, dtype: int32"
      ]
     },
     "execution_count": 24,
     "metadata": {},
     "output_type": "execute_result"
    }
   ],
   "source": [
    "empl['i_pernr']"
   ]
  },
  {
   "cell_type": "markdown",
   "id": "1b451819",
   "metadata": {},
   "source": [
    "Чтобы можно было дальше работать с результатом как с обычной колонкой, нужно обернуть выражение в круглые скобки "
   ]
  },
  {
   "cell_type": "code",
   "execution_count": 25,
   "id": "f3307e27",
   "metadata": {},
   "outputs": [
    {
     "data": {
      "text/plain": [
       "0     True\n",
       "1     True\n",
       "2    False\n",
       "3     True\n",
       "4     True\n",
       "Name: i_pernr, dtype: bool"
      ]
     },
     "execution_count": 25,
     "metadata": {},
     "output_type": "execute_result"
    }
   ],
   "source": [
    "(empl['i_pernr'] != 1).head()"
   ]
  },
  {
   "cell_type": "code",
   "execution_count": null,
   "id": "5c5a2703",
   "metadata": {},
   "outputs": [],
   "source": []
  },
  {
   "cell_type": "code",
   "execution_count": null,
   "id": "c2c10d43",
   "metadata": {},
   "outputs": [],
   "source": []
  },
  {
   "cell_type": "code",
   "execution_count": null,
   "id": "c90f464f",
   "metadata": {},
   "outputs": [],
   "source": []
  },
  {
   "cell_type": "code",
   "execution_count": null,
   "id": "1d08cc8f",
   "metadata": {},
   "outputs": [],
   "source": []
  },
  {
   "cell_type": "code",
   "execution_count": null,
   "id": "c2d4a6d4",
   "metadata": {},
   "outputs": [],
   "source": []
  },
  {
   "cell_type": "code",
   "execution_count": null,
   "id": "c8db5515",
   "metadata": {},
   "outputs": [],
   "source": []
  },
  {
   "cell_type": "markdown",
   "id": "eae94420",
   "metadata": {},
   "source": [
    "#### Неравенства"
   ]
  },
  {
   "cell_type": "code",
   "execution_count": 26,
   "id": "e316fef1",
   "metadata": {},
   "outputs": [
    {
     "data": {
      "text/plain": [
       "0        45700.0\n",
       "1        20000.0\n",
       "2        12600.0\n",
       "3        12600.0\n",
       "4        15400.0\n",
       "          ...   \n",
       "29367    38000.0\n",
       "29368    31800.0\n",
       "29369    28400.0\n",
       "29370    35500.0\n",
       "29371    26400.0\n",
       "Name: salary, Length: 29372, dtype: float64"
      ]
     },
     "execution_count": 26,
     "metadata": {},
     "output_type": "execute_result"
    }
   ],
   "source": [
    "empl['salary']"
   ]
  },
  {
   "cell_type": "code",
   "execution_count": 27,
   "id": "e44e6d2e",
   "metadata": {},
   "outputs": [
    {
     "data": {
      "text/plain": [
       "0         True\n",
       "1        False\n",
       "2        False\n",
       "3        False\n",
       "4        False\n",
       "         ...  \n",
       "29367     True\n",
       "29368     True\n",
       "29369    False\n",
       "29370     True\n",
       "29371    False\n",
       "Name: salary, Length: 29372, dtype: bool"
      ]
     },
     "execution_count": 27,
     "metadata": {},
     "output_type": "execute_result"
    }
   ],
   "source": [
    "empl['salary'] > 30000"
   ]
  },
  {
   "cell_type": "code",
   "execution_count": null,
   "id": "1d6245c9",
   "metadata": {},
   "outputs": [],
   "source": []
  },
  {
   "cell_type": "code",
   "execution_count": null,
   "id": "dffa5c70",
   "metadata": {},
   "outputs": [],
   "source": []
  },
  {
   "cell_type": "code",
   "execution_count": null,
   "id": "78ce0c40",
   "metadata": {},
   "outputs": [],
   "source": []
  },
  {
   "cell_type": "markdown",
   "id": "1b3efaf5",
   "metadata": {},
   "source": [
    "#### Выбор дат"
   ]
  },
  {
   "cell_type": "code",
   "execution_count": 28,
   "id": "fa46b0c7",
   "metadata": {},
   "outputs": [
    {
     "data": {
      "text/plain": [
       "0       2015-01-31\n",
       "1       2015-01-31\n",
       "2       2015-01-31\n",
       "3       2015-01-31\n",
       "4       2015-01-31\n",
       "           ...    \n",
       "29367   2022-12-31\n",
       "29368   2022-12-31\n",
       "29369   2022-12-31\n",
       "29370   2022-12-31\n",
       "29371   2022-12-31\n",
       "Name: report_dt, Length: 29372, dtype: datetime64[ns]"
      ]
     },
     "execution_count": 28,
     "metadata": {},
     "output_type": "execute_result"
    }
   ],
   "source": [
    "empl['report_dt']"
   ]
  },
  {
   "cell_type": "code",
   "execution_count": 29,
   "id": "d4495b5c",
   "metadata": {},
   "outputs": [
    {
     "data": {
      "text/plain": [
       "0        False\n",
       "1        False\n",
       "2        False\n",
       "3        False\n",
       "4        False\n",
       "         ...  \n",
       "29367     True\n",
       "29368     True\n",
       "29369     True\n",
       "29370     True\n",
       "29371     True\n",
       "Name: report_dt, Length: 29372, dtype: bool"
      ]
     },
     "execution_count": 29,
     "metadata": {},
     "output_type": "execute_result"
    }
   ],
   "source": [
    "# дата записывается как строка\n",
    "empl['report_dt'] == '2022-12-31'"
   ]
  },
  {
   "cell_type": "markdown",
   "id": "6b96f52f",
   "metadata": {},
   "source": [
    "#### Чем позднее дата, тем она позже"
   ]
  },
  {
   "cell_type": "code",
   "execution_count": 30,
   "id": "d422f714",
   "metadata": {},
   "outputs": [
    {
     "data": {
      "text/plain": [
       "0         True\n",
       "1         True\n",
       "2         True\n",
       "3         True\n",
       "4         True\n",
       "         ...  \n",
       "29367    False\n",
       "29368    False\n",
       "29369    False\n",
       "29370    False\n",
       "29371    False\n",
       "Name: report_dt, Length: 29372, dtype: bool"
      ]
     },
     "execution_count": 30,
     "metadata": {},
     "output_type": "execute_result"
    }
   ],
   "source": [
    "empl['report_dt'] < '2022-12-31'"
   ]
  },
  {
   "cell_type": "code",
   "execution_count": null,
   "id": "494c8bb7",
   "metadata": {},
   "outputs": [],
   "source": []
  },
  {
   "cell_type": "code",
   "execution_count": null,
   "id": "c5ec53d8",
   "metadata": {},
   "outputs": [],
   "source": []
  },
  {
   "cell_type": "code",
   "execution_count": null,
   "id": "c282cbca",
   "metadata": {},
   "outputs": [],
   "source": []
  },
  {
   "cell_type": "code",
   "execution_count": null,
   "id": "f6b44eca",
   "metadata": {},
   "outputs": [],
   "source": []
  },
  {
   "cell_type": "markdown",
   "id": "e0a85f78",
   "metadata": {},
   "source": [
    "#### Проверка на вхождение"
   ]
  },
  {
   "cell_type": "code",
   "execution_count": 31,
   "id": "8b2fcd8b",
   "metadata": {},
   "outputs": [
    {
     "data": {
      "text/plain": [
       "0                          высшее\n",
       "1        среднее профессиональное\n",
       "2                   среднее общее\n",
       "3                   среднее общее\n",
       "4                   среднее общее\n",
       "                   ...           \n",
       "29367    среднее профессиональное\n",
       "29368               среднее общее\n",
       "29369               среднее общее\n",
       "29370    среднее профессиональное\n",
       "29371    среднее профессиональное\n",
       "Name: education, Length: 29372, dtype: string"
      ]
     },
     "execution_count": 31,
     "metadata": {},
     "output_type": "execute_result"
    }
   ],
   "source": [
    "empl['education']"
   ]
  },
  {
   "cell_type": "code",
   "execution_count": 32,
   "id": "392d0f2d",
   "metadata": {},
   "outputs": [
    {
     "ename": "ValueError",
     "evalue": "The truth value of a Series is ambiguous. Use a.empty, a.bool(), a.item(), a.any() or a.all().",
     "output_type": "error",
     "traceback": [
      "\u001b[1;31m---------------------------------------------------------------------------\u001b[0m",
      "\u001b[1;31mValueError\u001b[0m                                Traceback (most recent call last)",
      "Cell \u001b[1;32mIn[32], line 1\u001b[0m\n\u001b[1;32m----> 1\u001b[0m \u001b[43mempl\u001b[49m\u001b[43m[\u001b[49m\u001b[38;5;124;43m'\u001b[39;49m\u001b[38;5;124;43meducation\u001b[39;49m\u001b[38;5;124;43m'\u001b[39;49m\u001b[43m]\u001b[49m\u001b[43m \u001b[49m\u001b[38;5;129;43;01min\u001b[39;49;00m\u001b[43m \u001b[49m\u001b[43m[\u001b[49m\u001b[38;5;124;43m'\u001b[39;49m\u001b[38;5;124;43mвысшее\u001b[39;49m\u001b[38;5;124;43m'\u001b[39;49m\u001b[43m,\u001b[49m\u001b[43m \u001b[49m\u001b[38;5;124;43m'\u001b[39;49m\u001b[38;5;124;43mсреднее профессиональное\u001b[39;49m\u001b[38;5;124;43m'\u001b[39;49m\u001b[43m]\u001b[49m\n",
      "File \u001b[1;32mC:\\Python\\Python311\\Lib\\site-packages\\pandas\\core\\generic.py:1527\u001b[0m, in \u001b[0;36mNDFrame.__nonzero__\u001b[1;34m(self)\u001b[0m\n\u001b[0;32m   1525\u001b[0m \u001b[38;5;129m@final\u001b[39m\n\u001b[0;32m   1526\u001b[0m \u001b[38;5;28;01mdef\u001b[39;00m \u001b[38;5;21m__nonzero__\u001b[39m(\u001b[38;5;28mself\u001b[39m) \u001b[38;5;241m-\u001b[39m\u001b[38;5;241m>\u001b[39m NoReturn:\n\u001b[1;32m-> 1527\u001b[0m     \u001b[38;5;28;01mraise\u001b[39;00m \u001b[38;5;167;01mValueError\u001b[39;00m(\n\u001b[0;32m   1528\u001b[0m         \u001b[38;5;124mf\u001b[39m\u001b[38;5;124m\"\u001b[39m\u001b[38;5;124mThe truth value of a \u001b[39m\u001b[38;5;132;01m{\u001b[39;00m\u001b[38;5;28mtype\u001b[39m(\u001b[38;5;28mself\u001b[39m)\u001b[38;5;241m.\u001b[39m\u001b[38;5;18m__name__\u001b[39m\u001b[38;5;132;01m}\u001b[39;00m\u001b[38;5;124m is ambiguous. \u001b[39m\u001b[38;5;124m\"\u001b[39m\n\u001b[0;32m   1529\u001b[0m         \u001b[38;5;124m\"\u001b[39m\u001b[38;5;124mUse a.empty, a.bool(), a.item(), a.any() or a.all().\u001b[39m\u001b[38;5;124m\"\u001b[39m\n\u001b[0;32m   1530\u001b[0m     )\n",
      "\u001b[1;31mValueError\u001b[0m: The truth value of a Series is ambiguous. Use a.empty, a.bool(), a.item(), a.any() or a.all()."
     ]
    }
   ],
   "source": [
    "empl['education'] in ['высшее', 'среднее профессиональное']"
   ]
  },
  {
   "cell_type": "code",
   "execution_count": 33,
   "id": "07fda924",
   "metadata": {},
   "outputs": [
    {
     "data": {
      "text/plain": [
       "0         True\n",
       "1         True\n",
       "2        False\n",
       "3        False\n",
       "4        False\n",
       "         ...  \n",
       "29367     True\n",
       "29368    False\n",
       "29369    False\n",
       "29370     True\n",
       "29371     True\n",
       "Name: education, Length: 29372, dtype: bool"
      ]
     },
     "execution_count": 33,
     "metadata": {},
     "output_type": "execute_result"
    }
   ],
   "source": [
    "empl['education'].isin(['высшее', 'среднее профессиональное'])"
   ]
  },
  {
   "cell_type": "markdown",
   "id": "1ddea492",
   "metadata": {},
   "source": [
    "Оператор in преверяет вхождение элемента в индекс, а не в стобец"
   ]
  },
  {
   "cell_type": "code",
   "execution_count": 34,
   "id": "0632abd9",
   "metadata": {},
   "outputs": [
    {
     "data": {
      "text/plain": [
       "False"
      ]
     },
     "execution_count": 34,
     "metadata": {},
     "output_type": "execute_result"
    }
   ],
   "source": [
    "'Директор магазина' in empl['pos_name']"
   ]
  },
  {
   "cell_type": "code",
   "execution_count": 35,
   "id": "598124b2",
   "metadata": {},
   "outputs": [
    {
     "data": {
      "text/plain": [
       "0               Директор магазина\n",
       "1                  Старший кассир\n",
       "2                          Кассир\n",
       "3                          Кассир\n",
       "4            Продавец-консультант\n",
       "                   ...           \n",
       "29367        Продавец-консультант\n",
       "29368                   Товаровед\n",
       "29369                   Товаровед\n",
       "29370    Мастер по ремонту одежды\n",
       "29371                     Уборщик\n",
       "Name: pos_name, Length: 29372, dtype: string"
      ]
     },
     "execution_count": 35,
     "metadata": {},
     "output_type": "execute_result"
    }
   ],
   "source": [
    "empl['pos_name']"
   ]
  },
  {
   "cell_type": "code",
   "execution_count": 36,
   "id": "de86c3f4",
   "metadata": {},
   "outputs": [
    {
     "data": {
      "text/plain": [
       "True"
      ]
     },
     "execution_count": 36,
     "metadata": {},
     "output_type": "execute_result"
    }
   ],
   "source": [
    "'Директор магазина' in empl['pos_name'].tolist()"
   ]
  },
  {
   "cell_type": "code",
   "execution_count": 37,
   "id": "0380f32f",
   "metadata": {},
   "outputs": [
    {
     "data": {
      "text/plain": [
       "['Директор магазина',\n",
       " 'Старший кассир',\n",
       " 'Кассир',\n",
       " 'Кассир',\n",
       " 'Продавец-консультант',\n",
       " 'Продавец-консультант',\n",
       " 'Продавец-консультант',\n",
       " 'Продавец-консультант',\n",
       " 'Продавец-консультант',\n",
       " 'Продавец-консультант',\n",
       " 'Директор магазина',\n",
       " 'Старший кассир',\n",
       " 'Кассир',\n",
       " 'Кассир',\n",
       " 'Кассир',\n",
       " 'Продавец-консультант',\n",
       " 'Продавец-консультант',\n",
       " 'Продавец-консультант',\n",
       " 'Продавец-консультант',\n",
       " 'Продавец-консультант',\n",
       " 'Продавец-консультант',\n",
       " 'Продавец-консультант',\n",
       " 'Директор магазина',\n",
       " 'Старший кассир',\n",
       " 'Кассир',\n",
       " 'Кассир',\n",
       " 'Кассир',\n",
       " 'Кассир',\n",
       " 'Продавец-консультант',\n",
       " 'Продавец-консультант',\n",
       " 'Продавец-консультант',\n",
       " 'Продавец-консультант',\n",
       " 'Продавец-консультант',\n",
       " 'Продавец-консультант',\n",
       " 'Продавец-консультант',\n",
       " 'Директор магазина',\n",
       " 'Старший кассир',\n",
       " 'Кассир',\n",
       " 'Кассир',\n",
       " 'Кассир',\n",
       " 'Кассир',\n",
       " 'Продавец-консультант',\n",
       " 'Продавец-консультант',\n",
       " 'Продавец-консультант',\n",
       " 'Продавец-консультант',\n",
       " 'Продавец-консультант',\n",
       " 'Продавец-консультант',\n",
       " 'Продавец-консультант',\n",
       " 'Директор магазина',\n",
       " 'Заместитель директора магазина',\n",
       " 'Заместитель директора магазина',\n",
       " 'Бухгалтер',\n",
       " 'Старший кассир',\n",
       " 'Кассир',\n",
       " 'Кассир',\n",
       " 'Кассир',\n",
       " 'Кассир',\n",
       " 'Продавец-консультант',\n",
       " 'Продавец-консультант',\n",
       " 'Продавец-консультант',\n",
       " 'Продавец-консультант',\n",
       " 'Продавец-консультант',\n",
       " 'Продавец-консультант',\n",
       " 'Товаровед',\n",
       " 'Товаровед',\n",
       " 'Мастер по ремонту одежды',\n",
       " 'Директор магазина',\n",
       " 'Старший кассир',\n",
       " 'Кассир',\n",
       " 'Кассир',\n",
       " 'Кассир',\n",
       " 'Кассир',\n",
       " 'Продавец-консультант',\n",
       " 'Продавец-консультант',\n",
       " 'Продавец-консультант',\n",
       " 'Продавец-консультант',\n",
       " 'Продавец-консультант',\n",
       " 'Продавец-консультант',\n",
       " 'Продавец-консультант',\n",
       " 'Директор магазина',\n",
       " 'Заместитель директора магазина',\n",
       " 'Заместитель директора магазина',\n",
       " 'Бухгалтер',\n",
       " 'Старший кассир',\n",
       " 'Кассир',\n",
       " 'Кассир',\n",
       " 'Кассир',\n",
       " 'Кассир',\n",
       " 'Кассир',\n",
       " 'Кассир',\n",
       " 'Кассир',\n",
       " 'Продавец-консультант',\n",
       " 'Продавец-консультант',\n",
       " 'Продавец-консультант',\n",
       " 'Продавец-консультант',\n",
       " 'Продавец-консультант',\n",
       " 'Продавец-консультант',\n",
       " 'Продавец-консультант',\n",
       " 'Продавец-консультант',\n",
       " 'Товаровед',\n",
       " 'Товаровед',\n",
       " 'Мастер по ремонту одежды',\n",
       " 'Уборщик',\n",
       " 'Директор магазина',\n",
       " 'Старший кассир',\n",
       " 'Кассир',\n",
       " 'Кассир',\n",
       " 'Кассир',\n",
       " 'Кассир',\n",
       " 'Продавец-консультант',\n",
       " 'Продавец-консультант',\n",
       " 'Продавец-консультант',\n",
       " 'Продавец-консультант',\n",
       " 'Продавец-консультант',\n",
       " 'Продавец-консультант',\n",
       " 'Директор магазина',\n",
       " 'Заместитель директора магазина',\n",
       " 'Заместитель директора магазина',\n",
       " 'Бухгалтер',\n",
       " 'Старший кассир',\n",
       " 'Кассир',\n",
       " 'Кассир',\n",
       " 'Кассир',\n",
       " 'Кассир',\n",
       " 'Кассир',\n",
       " 'Кассир',\n",
       " 'Кассир',\n",
       " 'Кассир',\n",
       " 'Продавец-консультант',\n",
       " 'Продавец-консультант',\n",
       " 'Продавец-консультант',\n",
       " 'Продавец-консультант',\n",
       " 'Продавец-консультант',\n",
       " 'Продавец-консультант',\n",
       " 'Продавец-консультант',\n",
       " 'Продавец-консультант',\n",
       " 'Продавец-консультант',\n",
       " 'Товаровед',\n",
       " 'Товаровед',\n",
       " 'Мастер по ремонту одежды',\n",
       " 'Уборщик',\n",
       " 'Директор магазина',\n",
       " 'Старший кассир',\n",
       " 'Кассир',\n",
       " 'Кассир',\n",
       " 'Кассир',\n",
       " 'Кассир',\n",
       " 'Продавец-консультант',\n",
       " 'Продавец-консультант',\n",
       " 'Продавец-консультант',\n",
       " 'Продавец-консультант',\n",
       " 'Продавец-консультант',\n",
       " 'Продавец-консультант',\n",
       " 'Продавец-консультант',\n",
       " 'Директор магазина',\n",
       " 'Заместитель директора магазина',\n",
       " 'Заместитель директора магазина',\n",
       " 'Бухгалтер',\n",
       " 'Старший кассир',\n",
       " 'Кассир',\n",
       " 'Кассир',\n",
       " 'Кассир',\n",
       " 'Кассир',\n",
       " 'Кассир',\n",
       " 'Кассир',\n",
       " 'Кассир',\n",
       " 'Кассир',\n",
       " 'Продавец-консультант',\n",
       " 'Продавец-консультант',\n",
       " 'Продавец-консультант',\n",
       " 'Продавец-консультант',\n",
       " 'Продавец-консультант',\n",
       " 'Продавец-консультант',\n",
       " 'Продавец-консультант',\n",
       " 'Продавец-консультант',\n",
       " 'Продавец-консультант',\n",
       " 'Товаровед',\n",
       " 'Товаровед',\n",
       " 'Мастер по ремонту одежды',\n",
       " 'Уборщик',\n",
       " 'Директор магазина',\n",
       " 'Старший кассир',\n",
       " 'Кассир',\n",
       " 'Кассир',\n",
       " 'Кассир',\n",
       " 'Продавец-консультант',\n",
       " 'Продавец-консультант',\n",
       " 'Продавец-консультант',\n",
       " 'Продавец-консультант',\n",
       " 'Продавец-консультант',\n",
       " 'Продавец-консультант',\n",
       " 'Продавец-консультант',\n",
       " 'Директор магазина',\n",
       " 'Заместитель директора магазина',\n",
       " 'Заместитель директора магазина',\n",
       " 'Бухгалтер',\n",
       " 'Старший кассир',\n",
       " 'Кассир',\n",
       " 'Кассир',\n",
       " 'Кассир',\n",
       " 'Кассир',\n",
       " 'Кассир',\n",
       " 'Кассир',\n",
       " 'Кассир',\n",
       " 'Кассир',\n",
       " 'Продавец-консультант',\n",
       " 'Продавец-консультант',\n",
       " 'Продавец-консультант',\n",
       " 'Продавец-консультант',\n",
       " 'Продавец-консультант',\n",
       " 'Продавец-консультант',\n",
       " 'Продавец-консультант',\n",
       " 'Продавец-консультант',\n",
       " 'Продавец-консультант',\n",
       " 'Товаровед',\n",
       " 'Товаровед',\n",
       " 'Мастер по ремонту одежды',\n",
       " 'Уборщик',\n",
       " 'Директор магазина',\n",
       " 'Старший кассир',\n",
       " 'Кассир',\n",
       " 'Кассир',\n",
       " 'Кассир',\n",
       " 'Кассир',\n",
       " 'Продавец-консультант',\n",
       " 'Продавец-консультант',\n",
       " 'Продавец-консультант',\n",
       " 'Продавец-консультант',\n",
       " 'Продавец-консультант',\n",
       " 'Продавец-консультант',\n",
       " 'Продавец-консультант',\n",
       " 'Директор магазина',\n",
       " 'Заместитель директора магазина',\n",
       " 'Заместитель директора магазина',\n",
       " 'Бухгалтер',\n",
       " 'Старший кассир',\n",
       " 'Кассир',\n",
       " 'Кассир',\n",
       " 'Кассир',\n",
       " 'Кассир',\n",
       " 'Кассир',\n",
       " 'Кассир',\n",
       " 'Кассир',\n",
       " 'Кассир',\n",
       " 'Продавец-консультант',\n",
       " 'Продавец-консультант',\n",
       " 'Продавец-консультант',\n",
       " 'Продавец-консультант',\n",
       " 'Продавец-консультант',\n",
       " 'Продавец-консультант',\n",
       " 'Продавец-консультант',\n",
       " 'Продавец-консультант',\n",
       " 'Продавец-консультант',\n",
       " 'Товаровед',\n",
       " 'Товаровед',\n",
       " 'Мастер по ремонту одежды',\n",
       " 'Уборщик',\n",
       " 'Директор магазина',\n",
       " 'Старший кассир',\n",
       " 'Кассир',\n",
       " 'Кассир',\n",
       " 'Кассир',\n",
       " 'Кассир',\n",
       " 'Продавец-консультант',\n",
       " 'Продавец-консультант',\n",
       " 'Продавец-консультант',\n",
       " 'Продавец-консультант',\n",
       " 'Продавец-консультант',\n",
       " 'Продавец-консультант',\n",
       " 'Продавец-консультант',\n",
       " 'Директор магазина',\n",
       " 'Заместитель директора магазина',\n",
       " 'Заместитель директора магазина',\n",
       " 'Бухгалтер',\n",
       " 'Старший кассир',\n",
       " 'Кассир',\n",
       " 'Кассир',\n",
       " 'Кассир',\n",
       " 'Кассир',\n",
       " 'Кассир',\n",
       " 'Кассир',\n",
       " 'Кассир',\n",
       " 'Кассир',\n",
       " 'Продавец-консультант',\n",
       " 'Продавец-консультант',\n",
       " 'Продавец-консультант',\n",
       " 'Продавец-консультант',\n",
       " 'Продавец-консультант',\n",
       " 'Продавец-консультант',\n",
       " 'Продавец-консультант',\n",
       " 'Продавец-консультант',\n",
       " 'Продавец-консультант',\n",
       " 'Товаровед',\n",
       " 'Товаровед',\n",
       " 'Мастер по ремонту одежды',\n",
       " 'Уборщик',\n",
       " 'Директор магазина',\n",
       " 'Старший кассир',\n",
       " 'Кассир',\n",
       " 'Кассир',\n",
       " 'Кассир',\n",
       " 'Продавец-консультант',\n",
       " 'Продавец-консультант',\n",
       " 'Продавец-консультант',\n",
       " 'Продавец-консультант',\n",
       " 'Продавец-консультант',\n",
       " 'Директор магазина',\n",
       " 'Старший кассир',\n",
       " 'Кассир',\n",
       " 'Кассир',\n",
       " 'Кассир',\n",
       " 'Кассир',\n",
       " 'Продавец-консультант',\n",
       " 'Продавец-консультант',\n",
       " 'Продавец-консультант',\n",
       " 'Продавец-консультант',\n",
       " 'Продавец-консультант',\n",
       " 'Продавец-консультант',\n",
       " 'Продавец-консультант',\n",
       " 'Директор магазина',\n",
       " 'Заместитель директора магазина',\n",
       " 'Заместитель директора магазина',\n",
       " 'Бухгалтер',\n",
       " 'Старший кассир',\n",
       " 'Кассир',\n",
       " 'Кассир',\n",
       " 'Кассир',\n",
       " 'Кассир',\n",
       " 'Кассир',\n",
       " 'Кассир',\n",
       " 'Кассир',\n",
       " 'Кассир',\n",
       " 'Продавец-консультант',\n",
       " 'Продавец-консультант',\n",
       " 'Продавец-консультант',\n",
       " 'Продавец-консультант',\n",
       " 'Продавец-консультант',\n",
       " 'Продавец-консультант',\n",
       " 'Продавец-консультант',\n",
       " 'Продавец-консультант',\n",
       " 'Товаровед',\n",
       " 'Товаровед',\n",
       " 'Мастер по ремонту одежды',\n",
       " 'Уборщик',\n",
       " 'Директор магазина',\n",
       " 'Старший кассир',\n",
       " 'Кассир',\n",
       " 'Кассир',\n",
       " 'Кассир',\n",
       " 'Продавец-консультант',\n",
       " 'Продавец-консультант',\n",
       " 'Продавец-консультант',\n",
       " 'Продавец-консультант',\n",
       " 'Продавец-консультант',\n",
       " 'Директор магазина',\n",
       " 'Старший кассир',\n",
       " 'Кассир',\n",
       " 'Кассир',\n",
       " 'Кассир',\n",
       " 'Кассир',\n",
       " 'Продавец-консультант',\n",
       " 'Продавец-консультант',\n",
       " 'Продавец-консультант',\n",
       " 'Продавец-консультант',\n",
       " 'Продавец-консультант',\n",
       " 'Продавец-консультант',\n",
       " 'Продавец-консультант',\n",
       " 'Директор магазина',\n",
       " 'Заместитель директора магазина',\n",
       " 'Заместитель директора магазина',\n",
       " 'Бухгалтер',\n",
       " 'Старший кассир',\n",
       " 'Кассир',\n",
       " 'Кассир',\n",
       " 'Кассир',\n",
       " 'Кассир',\n",
       " 'Кассир',\n",
       " 'Кассир',\n",
       " 'Кассир',\n",
       " 'Кассир',\n",
       " 'Продавец-консультант',\n",
       " 'Продавец-консультант',\n",
       " 'Продавец-консультант',\n",
       " 'Продавец-консультант',\n",
       " 'Продавец-консультант',\n",
       " 'Продавец-консультант',\n",
       " 'Продавец-консультант',\n",
       " 'Продавец-консультант',\n",
       " 'Продавец-консультант',\n",
       " 'Товаровед',\n",
       " 'Товаровед',\n",
       " 'Мастер по ремонту одежды',\n",
       " 'Уборщик',\n",
       " 'Директор магазина',\n",
       " 'Старший кассир',\n",
       " 'Кассир',\n",
       " 'Кассир',\n",
       " 'Кассир',\n",
       " 'Кассир',\n",
       " 'Продавец-консультант',\n",
       " 'Продавец-консультант',\n",
       " 'Продавец-консультант',\n",
       " 'Продавец-консультант',\n",
       " 'Продавец-консультант',\n",
       " 'Продавец-консультант',\n",
       " 'Директор магазина',\n",
       " 'Старший кассир',\n",
       " 'Кассир',\n",
       " 'Кассир',\n",
       " 'Кассир',\n",
       " 'Продавец-консультант',\n",
       " 'Продавец-консультант',\n",
       " 'Продавец-консультант',\n",
       " 'Продавец-консультант',\n",
       " 'Продавец-консультант',\n",
       " 'Продавец-консультант',\n",
       " 'Продавец-консультант',\n",
       " 'Директор магазина',\n",
       " 'Заместитель директора магазина',\n",
       " 'Заместитель директора магазина',\n",
       " 'Бухгалтер',\n",
       " 'Старший кассир',\n",
       " 'Кассир',\n",
       " 'Кассир',\n",
       " 'Кассир',\n",
       " 'Кассир',\n",
       " 'Кассир',\n",
       " 'Кассир',\n",
       " 'Кассир',\n",
       " 'Кассир',\n",
       " 'Продавец-консультант',\n",
       " 'Продавец-консультант',\n",
       " 'Продавец-консультант',\n",
       " 'Продавец-консультант',\n",
       " 'Продавец-консультант',\n",
       " 'Продавец-консультант',\n",
       " 'Продавец-консультант',\n",
       " 'Продавец-консультант',\n",
       " 'Продавец-консультант',\n",
       " 'Товаровед',\n",
       " 'Товаровед',\n",
       " 'Мастер по ремонту одежды',\n",
       " 'Уборщик',\n",
       " 'Директор магазина',\n",
       " 'Старший кассир',\n",
       " 'Кассир',\n",
       " 'Кассир',\n",
       " 'Кассир',\n",
       " 'Кассир',\n",
       " 'Продавец-консультант',\n",
       " 'Продавец-консультант',\n",
       " 'Продавец-консультант',\n",
       " 'Продавец-консультант',\n",
       " 'Продавец-консультант',\n",
       " 'Продавец-консультант',\n",
       " 'Директор магазина',\n",
       " 'Старший кассир',\n",
       " 'Кассир',\n",
       " 'Кассир',\n",
       " 'Кассир',\n",
       " 'Кассир',\n",
       " 'Продавец-консультант',\n",
       " 'Продавец-консультант',\n",
       " 'Продавец-консультант',\n",
       " 'Продавец-консультант',\n",
       " 'Продавец-консультант',\n",
       " 'Продавец-консультант',\n",
       " 'Продавец-консультант',\n",
       " 'Директор магазина',\n",
       " 'Заместитель директора магазина',\n",
       " 'Бухгалтер',\n",
       " 'Старший кассир',\n",
       " 'Кассир',\n",
       " 'Кассир',\n",
       " 'Кассир',\n",
       " 'Кассир',\n",
       " 'Кассир',\n",
       " 'Кассир',\n",
       " 'Кассир',\n",
       " 'Кассир',\n",
       " 'Продавец-консультант',\n",
       " 'Продавец-консультант',\n",
       " 'Продавец-консультант',\n",
       " 'Продавец-консультант',\n",
       " 'Продавец-консультант',\n",
       " 'Продавец-консультант',\n",
       " 'Продавец-консультант',\n",
       " 'Продавец-консультант',\n",
       " 'Продавец-консультант',\n",
       " 'Товаровед',\n",
       " 'Мастер по ремонту одежды',\n",
       " 'Уборщик',\n",
       " 'Директор магазина',\n",
       " 'Старший кассир',\n",
       " 'Кассир',\n",
       " 'Кассир',\n",
       " 'Кассир',\n",
       " 'Кассир',\n",
       " 'Продавец-консультант',\n",
       " 'Продавец-консультант',\n",
       " 'Продавец-консультант',\n",
       " 'Продавец-консультант',\n",
       " 'Продавец-консультант',\n",
       " 'Продавец-консультант',\n",
       " 'Директор магазина',\n",
       " 'Старший кассир',\n",
       " 'Кассир',\n",
       " 'Кассир',\n",
       " 'Кассир',\n",
       " 'Кассир',\n",
       " 'Продавец-консультант',\n",
       " 'Продавец-консультант',\n",
       " 'Продавец-консультант',\n",
       " 'Продавец-консультант',\n",
       " 'Продавец-консультант',\n",
       " 'Продавец-консультант',\n",
       " 'Продавец-консультант',\n",
       " 'Директор магазина',\n",
       " 'Заместитель директора магазина',\n",
       " 'Бухгалтер',\n",
       " 'Старший кассир',\n",
       " 'Кассир',\n",
       " 'Кассир',\n",
       " 'Кассир',\n",
       " 'Кассир',\n",
       " 'Кассир',\n",
       " 'Кассир',\n",
       " 'Кассир',\n",
       " 'Кассир',\n",
       " 'Продавец-консультант',\n",
       " 'Продавец-консультант',\n",
       " 'Продавец-консультант',\n",
       " 'Продавец-консультант',\n",
       " 'Продавец-консультант',\n",
       " 'Продавец-консультант',\n",
       " 'Продавец-консультант',\n",
       " 'Продавец-консультант',\n",
       " 'Продавец-консультант',\n",
       " 'Товаровед',\n",
       " 'Товаровед',\n",
       " 'Мастер по ремонту одежды',\n",
       " 'Уборщик',\n",
       " 'Директор магазина',\n",
       " 'Старший кассир',\n",
       " 'Кассир',\n",
       " 'Кассир',\n",
       " 'Кассир',\n",
       " 'Кассир',\n",
       " 'Продавец-консультант',\n",
       " 'Продавец-консультант',\n",
       " 'Продавец-консультант',\n",
       " 'Продавец-консультант',\n",
       " 'Продавец-консультант',\n",
       " 'Продавец-консультант',\n",
       " 'Директор магазина',\n",
       " 'Заместитель директора магазина',\n",
       " 'Старший кассир',\n",
       " 'Кассир',\n",
       " 'Кассир',\n",
       " 'Кассир',\n",
       " 'Кассир',\n",
       " 'Продавец-консультант',\n",
       " 'Продавец-консультант',\n",
       " 'Продавец-консультант',\n",
       " 'Продавец-консультант',\n",
       " 'Продавец-консультант',\n",
       " 'Продавец-консультант',\n",
       " 'Продавец-консультант',\n",
       " 'Продавец-консультант',\n",
       " 'Товаровед',\n",
       " 'Директор магазина',\n",
       " 'Старший кассир',\n",
       " 'Кассир',\n",
       " 'Кассир',\n",
       " 'Кассир',\n",
       " 'Продавец-консультант',\n",
       " 'Продавец-консультант',\n",
       " 'Продавец-консультант',\n",
       " 'Продавец-консультант',\n",
       " 'Продавец-консультант',\n",
       " 'Продавец-консультант',\n",
       " 'Продавец-консультант',\n",
       " 'Директор магазина',\n",
       " 'Заместитель директора магазина',\n",
       " 'Заместитель директора магазина',\n",
       " 'Бухгалтер',\n",
       " 'Старший кассир',\n",
       " 'Кассир',\n",
       " 'Кассир',\n",
       " 'Кассир',\n",
       " 'Кассир',\n",
       " 'Продавец-консультант',\n",
       " 'Продавец-консультант',\n",
       " 'Продавец-консультант',\n",
       " 'Продавец-консультант',\n",
       " 'Продавец-консультант',\n",
       " 'Продавец-консультант',\n",
       " 'Продавец-консультант',\n",
       " 'Продавец-консультант',\n",
       " 'Продавец-консультант',\n",
       " 'Продавец-консультант',\n",
       " 'Товаровед',\n",
       " 'Мастер по ремонту одежды',\n",
       " 'Уборщик',\n",
       " 'Директор магазина',\n",
       " 'Старший кассир',\n",
       " 'Кассир',\n",
       " 'Кассир',\n",
       " 'Кассир',\n",
       " 'Кассир',\n",
       " 'Продавец-консультант',\n",
       " 'Продавец-консультант',\n",
       " 'Продавец-консультант',\n",
       " 'Продавец-консультант',\n",
       " 'Продавец-консультант',\n",
       " 'Продавец-консультант',\n",
       " 'Продавец-консультант',\n",
       " 'Директор магазина',\n",
       " 'Заместитель директора магазина',\n",
       " 'Заместитель директора магазина',\n",
       " 'Бухгалтер',\n",
       " 'Старший кассир',\n",
       " 'Кассир',\n",
       " 'Кассир',\n",
       " 'Кассир',\n",
       " 'Кассир',\n",
       " 'Кассир',\n",
       " 'Кассир',\n",
       " 'Кассир',\n",
       " 'Кассир',\n",
       " 'Продавец-консультант',\n",
       " 'Продавец-консультант',\n",
       " 'Продавец-консультант',\n",
       " 'Продавец-консультант',\n",
       " 'Продавец-консультант',\n",
       " 'Продавец-консультант',\n",
       " 'Продавец-консультант',\n",
       " 'Продавец-консультант',\n",
       " 'Продавец-консультант',\n",
       " 'Товаровед',\n",
       " 'Товаровед',\n",
       " 'Мастер по ремонту одежды',\n",
       " 'Уборщик',\n",
       " 'Директор магазина',\n",
       " 'Старший кассир',\n",
       " 'Кассир',\n",
       " 'Кассир',\n",
       " 'Кассир',\n",
       " 'Продавец-консультант',\n",
       " 'Продавец-консультант',\n",
       " 'Продавец-консультант',\n",
       " 'Продавец-консультант',\n",
       " 'Продавец-консультант',\n",
       " 'Продавец-консультант',\n",
       " 'Директор магазина',\n",
       " 'Заместитель директора магазина',\n",
       " 'Старший кассир',\n",
       " 'Кассир',\n",
       " 'Кассир',\n",
       " 'Кассир',\n",
       " 'Кассир',\n",
       " 'Продавец-консультант',\n",
       " 'Продавец-консультант',\n",
       " 'Продавец-консультант',\n",
       " 'Продавец-консультант',\n",
       " 'Продавец-консультант',\n",
       " 'Продавец-консультант',\n",
       " 'Продавец-консультант',\n",
       " 'Продавец-консультант',\n",
       " 'Продавец-консультант',\n",
       " 'Продавец-консультант',\n",
       " 'Товаровед',\n",
       " 'Директор магазина',\n",
       " 'Старший кассир',\n",
       " 'Кассир',\n",
       " 'Кассир',\n",
       " 'Кассир',\n",
       " 'Продавец-консультант',\n",
       " 'Продавец-консультант',\n",
       " 'Продавец-консультант',\n",
       " 'Продавец-консультант',\n",
       " 'Продавец-консультант',\n",
       " 'Продавец-консультант',\n",
       " 'Продавец-консультант',\n",
       " 'Продавец-консультант',\n",
       " 'Директор магазина',\n",
       " 'Заместитель директора магазина',\n",
       " 'Заместитель директора магазина',\n",
       " 'Бухгалтер',\n",
       " 'Старший кассир',\n",
       " 'Кассир',\n",
       " 'Кассир',\n",
       " 'Кассир',\n",
       " 'Кассир',\n",
       " 'Кассир',\n",
       " 'Кассир',\n",
       " 'Кассир',\n",
       " 'Продавец-консультант',\n",
       " 'Продавец-консультант',\n",
       " 'Продавец-консультант',\n",
       " 'Продавец-консультант',\n",
       " 'Продавец-консультант',\n",
       " 'Продавец-консультант',\n",
       " 'Продавец-консультант',\n",
       " 'Продавец-консультант',\n",
       " 'Продавец-консультант',\n",
       " 'Продавец-консультант',\n",
       " 'Товаровед',\n",
       " 'Товаровед',\n",
       " 'Мастер по ремонту одежды',\n",
       " 'Уборщик',\n",
       " 'Директор магазина',\n",
       " 'Старший кассир',\n",
       " 'Кассир',\n",
       " 'Кассир',\n",
       " 'Кассир',\n",
       " 'Кассир',\n",
       " 'Продавец-консультант',\n",
       " 'Продавец-консультант',\n",
       " 'Продавец-консультант',\n",
       " 'Продавец-консультант',\n",
       " 'Продавец-консультант',\n",
       " 'Продавец-консультант',\n",
       " 'Продавец-консультант',\n",
       " 'Директор магазина',\n",
       " 'Заместитель директора магазина',\n",
       " 'Заместитель директора магазина',\n",
       " 'Бухгалтер',\n",
       " 'Старший кассир',\n",
       " 'Кассир',\n",
       " 'Кассир',\n",
       " 'Кассир',\n",
       " 'Кассир',\n",
       " 'Кассир',\n",
       " 'Кассир',\n",
       " 'Кассир',\n",
       " 'Продавец-консультант',\n",
       " 'Продавец-консультант',\n",
       " 'Продавец-консультант',\n",
       " 'Продавец-консультант',\n",
       " 'Продавец-консультант',\n",
       " 'Продавец-консультант',\n",
       " 'Продавец-консультант',\n",
       " 'Продавец-консультант',\n",
       " 'Продавец-консультант',\n",
       " 'Товаровед',\n",
       " 'Товаровед',\n",
       " 'Мастер по ремонту одежды',\n",
       " 'Уборщик',\n",
       " 'Директор магазина',\n",
       " 'Старший кассир',\n",
       " 'Кассир',\n",
       " 'Кассир',\n",
       " 'Кассир',\n",
       " 'Кассир',\n",
       " 'Продавец-консультант',\n",
       " 'Продавец-консультант',\n",
       " 'Продавец-консультант',\n",
       " 'Продавец-консультант',\n",
       " 'Продавец-консультант',\n",
       " 'Продавец-консультант',\n",
       " 'Директор магазина',\n",
       " 'Заместитель директора магазина',\n",
       " 'Старший кассир',\n",
       " 'Кассир',\n",
       " 'Кассир',\n",
       " 'Кассир',\n",
       " 'Кассир',\n",
       " 'Кассир',\n",
       " 'Продавец-консультант',\n",
       " 'Продавец-консультант',\n",
       " 'Продавец-консультант',\n",
       " 'Продавец-консультант',\n",
       " 'Продавец-консультант',\n",
       " 'Продавец-консультант',\n",
       " 'Продавец-консультант',\n",
       " 'Продавец-консультант',\n",
       " 'Продавец-консультант',\n",
       " 'Продавец-консультант',\n",
       " 'Продавец-консультант',\n",
       " 'Продавец-консультант',\n",
       " 'Продавец-консультант',\n",
       " 'Товаровед',\n",
       " 'Директор магазина',\n",
       " 'Старший кассир',\n",
       " 'Кассир',\n",
       " 'Кассир',\n",
       " 'Кассир',\n",
       " 'Кассир',\n",
       " 'Продавец-консультант',\n",
       " 'Продавец-консультант',\n",
       " 'Продавец-консультант',\n",
       " 'Продавец-консультант',\n",
       " 'Продавец-консультант',\n",
       " 'Продавец-консультант',\n",
       " 'Продавец-консультант',\n",
       " 'Продавец-консультант',\n",
       " 'Директор магазина',\n",
       " 'Заместитель директора магазина',\n",
       " 'Заместитель директора магазина',\n",
       " 'Бухгалтер',\n",
       " 'Старший кассир',\n",
       " 'Кассир',\n",
       " 'Кассир',\n",
       " 'Кассир',\n",
       " 'Кассир',\n",
       " 'Кассир',\n",
       " 'Кассир',\n",
       " 'Кассир',\n",
       " 'Продавец-консультант',\n",
       " 'Продавец-консультант',\n",
       " 'Продавец-консультант',\n",
       " 'Продавец-консультант',\n",
       " 'Продавец-консультант',\n",
       " 'Продавец-консультант',\n",
       " 'Продавец-консультант',\n",
       " 'Продавец-консультант',\n",
       " 'Продавец-консультант',\n",
       " 'Продавец-консультант',\n",
       " 'Продавец-консультант',\n",
       " 'Товаровед',\n",
       " 'Товаровед',\n",
       " 'Мастер по ремонту одежды',\n",
       " 'Уборщик',\n",
       " 'Директор магазина',\n",
       " 'Старший кассир',\n",
       " 'Кассир',\n",
       " 'Кассир',\n",
       " 'Кассир',\n",
       " 'Кассир',\n",
       " 'Продавец-консультант',\n",
       " 'Продавец-консультант',\n",
       " 'Продавец-консультант',\n",
       " 'Продавец-консультант',\n",
       " 'Продавец-консультант',\n",
       " 'Продавец-консультант',\n",
       " 'Продавец-консультант',\n",
       " 'Директор магазина',\n",
       " 'Заместитель директора магазина',\n",
       " 'Заместитель директора магазина',\n",
       " 'Бухгалтер',\n",
       " 'Старший кассир',\n",
       " 'Кассир',\n",
       " 'Кассир',\n",
       " 'Кассир',\n",
       " 'Кассир',\n",
       " 'Кассир',\n",
       " 'Кассир',\n",
       " 'Кассир',\n",
       " 'Кассир',\n",
       " 'Продавец-консультант',\n",
       " 'Продавец-консультант',\n",
       " 'Продавец-консультант',\n",
       " 'Продавец-консультант',\n",
       " 'Продавец-консультант',\n",
       " 'Продавец-консультант',\n",
       " 'Продавец-консультант',\n",
       " 'Продавец-консультант',\n",
       " 'Продавец-консультант',\n",
       " 'Товаровед',\n",
       " 'Товаровед',\n",
       " 'Мастер по ремонту одежды',\n",
       " 'Уборщик',\n",
       " 'Директор магазина',\n",
       " 'Старший кассир',\n",
       " 'Кассир',\n",
       " 'Кассир',\n",
       " 'Кассир',\n",
       " 'Кассир',\n",
       " 'Продавец-консультант',\n",
       " 'Продавец-консультант',\n",
       " 'Продавец-консультант',\n",
       " 'Продавец-консультант',\n",
       " 'Продавец-консультант',\n",
       " 'Продавец-консультант',\n",
       " 'Директор магазина',\n",
       " 'Заместитель директора магазина',\n",
       " 'Старший кассир',\n",
       " 'Кассир',\n",
       " 'Кассир',\n",
       " 'Кассир',\n",
       " 'Кассир',\n",
       " 'Кассир',\n",
       " 'Продавец-консультант',\n",
       " 'Продавец-консультант',\n",
       " 'Продавец-консультант',\n",
       " 'Продавец-консультант',\n",
       " 'Продавец-консультант',\n",
       " 'Продавец-консультант',\n",
       " 'Продавец-консультант',\n",
       " 'Продавец-консультант',\n",
       " 'Продавец-консультант',\n",
       " 'Продавец-консультант',\n",
       " 'Продавец-консультант',\n",
       " 'Продавец-консультант',\n",
       " 'Продавец-консультант',\n",
       " 'Товаровед',\n",
       " 'Директор магазина',\n",
       " 'Старший кассир',\n",
       " 'Кассир',\n",
       " 'Кассир',\n",
       " 'Кассир',\n",
       " 'Кассир',\n",
       " 'Продавец-консультант',\n",
       " 'Продавец-консультант',\n",
       " 'Продавец-консультант',\n",
       " 'Продавец-консультант',\n",
       " 'Продавец-консультант',\n",
       " 'Продавец-консультант',\n",
       " 'Продавец-консультант',\n",
       " 'Продавец-консультант',\n",
       " 'Директор магазина',\n",
       " 'Заместитель директора магазина',\n",
       " 'Заместитель директора магазина',\n",
       " 'Бухгалтер',\n",
       " 'Старший кассир',\n",
       " 'Кассир',\n",
       " 'Кассир',\n",
       " 'Кассир',\n",
       " 'Кассир',\n",
       " 'Кассир',\n",
       " 'Кассир',\n",
       " 'Кассир',\n",
       " 'Продавец-консультант',\n",
       " 'Продавец-консультант',\n",
       " 'Продавец-консультант',\n",
       " 'Продавец-консультант',\n",
       " 'Продавец-консультант',\n",
       " 'Продавец-консультант',\n",
       " 'Продавец-консультант',\n",
       " 'Продавец-консультант',\n",
       " 'Продавец-консультант',\n",
       " 'Продавец-консультант',\n",
       " 'Продавец-консультант',\n",
       " 'Товаровед',\n",
       " 'Товаровед',\n",
       " 'Мастер по ремонту одежды',\n",
       " 'Уборщик',\n",
       " 'Старший кассир',\n",
       " 'Кассир',\n",
       " 'Кассир',\n",
       " 'Кассир',\n",
       " 'Продавец-консультант',\n",
       " 'Продавец-консультант',\n",
       " 'Продавец-консультант',\n",
       " 'Продавец-консультант',\n",
       " 'Продавец-консультант',\n",
       " 'Продавец-консультант',\n",
       " 'Продавец-консультант',\n",
       " 'Директор магазина',\n",
       " 'Заместитель директора магазина',\n",
       " 'Заместитель директора магазина',\n",
       " 'Бухгалтер',\n",
       " 'Старший кассир',\n",
       " 'Кассир',\n",
       " 'Кассир',\n",
       " 'Кассир',\n",
       " 'Кассир',\n",
       " 'Кассир',\n",
       " 'Кассир',\n",
       " 'Продавец-консультант',\n",
       " 'Продавец-консультант',\n",
       " 'Продавец-консультант',\n",
       " 'Продавец-консультант',\n",
       " 'Продавец-консультант',\n",
       " 'Продавец-консультант',\n",
       " 'Продавец-консультант',\n",
       " 'Продавец-консультант',\n",
       " 'Продавец-консультант',\n",
       " 'Товаровед',\n",
       " 'Товаровед',\n",
       " 'Мастер по ремонту одежды',\n",
       " 'Уборщик',\n",
       " 'Директор магазина',\n",
       " 'Старший кассир',\n",
       " 'Кассир',\n",
       " 'Кассир',\n",
       " 'Кассир',\n",
       " 'Кассир',\n",
       " 'Продавец-консультант',\n",
       " 'Продавец-консультант',\n",
       " 'Продавец-консультант',\n",
       " 'Продавец-консультант',\n",
       " 'Продавец-консультант',\n",
       " 'Продавец-консультант',\n",
       " 'Директор магазина',\n",
       " 'Заместитель директора магазина',\n",
       " 'Старший кассир',\n",
       " 'Кассир',\n",
       " 'Кассир',\n",
       " 'Кассир',\n",
       " 'Кассир',\n",
       " 'Кассир',\n",
       " 'Продавец-консультант',\n",
       " 'Продавец-консультант',\n",
       " 'Продавец-консультант',\n",
       " 'Продавец-консультант',\n",
       " 'Продавец-консультант',\n",
       " 'Продавец-консультант',\n",
       " 'Продавец-консультант',\n",
       " ...]"
      ]
     },
     "execution_count": 37,
     "metadata": {},
     "output_type": "execute_result"
    }
   ],
   "source": [
    "empl['pos_name'].tolist()"
   ]
  },
  {
   "cell_type": "markdown",
   "id": "40698d01",
   "metadata": {},
   "source": [
    "Проверка вхождения одной строки в другую"
   ]
  },
  {
   "cell_type": "code",
   "execution_count": 38,
   "id": "3d9b4e63",
   "metadata": {},
   "outputs": [
    {
     "data": {
      "text/plain": [
       "0         True\n",
       "1        False\n",
       "2        False\n",
       "3        False\n",
       "4        False\n",
       "         ...  \n",
       "29367    False\n",
       "29368    False\n",
       "29369    False\n",
       "29370    False\n",
       "29371    False\n",
       "Name: pos_name, Length: 29372, dtype: boolean"
      ]
     },
     "execution_count": 38,
     "metadata": {},
     "output_type": "execute_result"
    }
   ],
   "source": [
    "empl['pos_name'].str.contains(\"магазин\")"
   ]
  },
  {
   "cell_type": "code",
   "execution_count": null,
   "id": "ba26cfc4",
   "metadata": {},
   "outputs": [],
   "source": []
  },
  {
   "cell_type": "code",
   "execution_count": null,
   "id": "83cdbde6",
   "metadata": {},
   "outputs": [],
   "source": []
  },
  {
   "cell_type": "code",
   "execution_count": null,
   "id": "9b7912f7",
   "metadata": {},
   "outputs": [],
   "source": []
  },
  {
   "cell_type": "code",
   "execution_count": null,
   "id": "21c38f5e",
   "metadata": {},
   "outputs": [],
   "source": []
  },
  {
   "cell_type": "markdown",
   "id": "0bfed47e",
   "metadata": {},
   "source": [
    "#### Проверка на то, пропущенно ли значение"
   ]
  },
  {
   "cell_type": "code",
   "execution_count": 39,
   "id": "3d1830cd",
   "metadata": {},
   "outputs": [
    {
     "data": {
      "text/plain": [
       "0           5\n",
       "1           5\n",
       "2           5\n",
       "3           3\n",
       "4        <NA>\n",
       "         ... \n",
       "29367       6\n",
       "29368       6\n",
       "29369       3\n",
       "29370       7\n",
       "29371       8\n",
       "Name: employee_evaluation, Length: 29372, dtype: Int64"
      ]
     },
     "execution_count": 39,
     "metadata": {},
     "output_type": "execute_result"
    }
   ],
   "source": [
    "empl['employee_evaluation']"
   ]
  },
  {
   "cell_type": "code",
   "execution_count": 40,
   "id": "3da4786a",
   "metadata": {},
   "outputs": [
    {
     "data": {
      "text/plain": [
       "0        False\n",
       "1        False\n",
       "2        False\n",
       "3        False\n",
       "4         True\n",
       "         ...  \n",
       "29367    False\n",
       "29368    False\n",
       "29369    False\n",
       "29370    False\n",
       "29371    False\n",
       "Name: employee_evaluation, Length: 29372, dtype: bool"
      ]
     },
     "execution_count": 40,
     "metadata": {},
     "output_type": "execute_result"
    }
   ],
   "source": [
    "empl['employee_evaluation'].isna()"
   ]
  },
  {
   "cell_type": "code",
   "execution_count": 41,
   "id": "44b43200",
   "metadata": {},
   "outputs": [
    {
     "data": {
      "text/plain": [
       "0         True\n",
       "1         True\n",
       "2         True\n",
       "3         True\n",
       "4        False\n",
       "         ...  \n",
       "29367     True\n",
       "29368     True\n",
       "29369     True\n",
       "29370     True\n",
       "29371     True\n",
       "Name: employee_evaluation, Length: 29372, dtype: bool"
      ]
     },
     "execution_count": 41,
     "metadata": {},
     "output_type": "execute_result"
    }
   ],
   "source": [
    "empl['employee_evaluation'].notna()"
   ]
  },
  {
   "cell_type": "code",
   "execution_count": 42,
   "id": "8fac0c5a",
   "metadata": {},
   "outputs": [
    {
     "data": {
      "text/plain": [
       "0        False\n",
       "1        False\n",
       "2        False\n",
       "3        False\n",
       "4         True\n",
       "         ...  \n",
       "29367    False\n",
       "29368    False\n",
       "29369    False\n",
       "29370    False\n",
       "29371    False\n",
       "Name: employee_evaluation, Length: 29372, dtype: bool"
      ]
     },
     "execution_count": 42,
     "metadata": {},
     "output_type": "execute_result"
    }
   ],
   "source": [
    "empl['employee_evaluation'].isnull() "
   ]
  },
  {
   "cell_type": "code",
   "execution_count": 43,
   "id": "6a88a74f",
   "metadata": {},
   "outputs": [
    {
     "data": {
      "text/plain": [
       "0         True\n",
       "1         True\n",
       "2         True\n",
       "3         True\n",
       "4        False\n",
       "         ...  \n",
       "29367     True\n",
       "29368     True\n",
       "29369     True\n",
       "29370     True\n",
       "29371     True\n",
       "Name: employee_evaluation, Length: 29372, dtype: bool"
      ]
     },
     "execution_count": 43,
     "metadata": {},
     "output_type": "execute_result"
    }
   ],
   "source": [
    "empl['employee_evaluation'].notnull()"
   ]
  },
  {
   "cell_type": "markdown",
   "id": "eeae5a66",
   "metadata": {},
   "source": [
    "Помимо методов есть аналоги в виде функций с точно такими же названиями"
   ]
  },
  {
   "cell_type": "code",
   "execution_count": null,
   "id": "f13505a8",
   "metadata": {},
   "outputs": [],
   "source": [
    "# pd.isna(empl['closest_boss_pos_id'])\n",
    "# pd.isnull(empl['closest_boss_pos_id'])\n",
    "# pd.notnull(empl['closest_boss_pos_id'])\n",
    "# pd.notna(empl['closest_boss_pos_id'])"
   ]
  },
  {
   "cell_type": "code",
   "execution_count": 44,
   "id": "6a730e0f",
   "metadata": {},
   "outputs": [
    {
     "data": {
      "text/plain": [
       "True"
      ]
     },
     "execution_count": 44,
     "metadata": {},
     "output_type": "execute_result"
    }
   ],
   "source": [
    "pd.isna(None)"
   ]
  },
  {
   "cell_type": "code",
   "execution_count": null,
   "id": "5b7de87d",
   "metadata": {},
   "outputs": [],
   "source": []
  },
  {
   "cell_type": "code",
   "execution_count": null,
   "id": "a5ac3810",
   "metadata": {},
   "outputs": [],
   "source": []
  },
  {
   "cell_type": "code",
   "execution_count": null,
   "id": "d728fffe",
   "metadata": {},
   "outputs": [],
   "source": []
  },
  {
   "cell_type": "code",
   "execution_count": null,
   "id": "2a0e02ec",
   "metadata": {},
   "outputs": [],
   "source": []
  },
  {
   "cell_type": "code",
   "execution_count": null,
   "id": "5deb62e2",
   "metadata": {},
   "outputs": [],
   "source": []
  },
  {
   "cell_type": "markdown",
   "id": "04f61720",
   "metadata": {},
   "source": [
    "#### Проверка на дубликаты"
   ]
  },
  {
   "cell_type": "code",
   "execution_count": 45,
   "id": "7cf85f45",
   "metadata": {},
   "outputs": [
    {
     "data": {
      "text/plain": [
       "0        False\n",
       "1        False\n",
       "2        False\n",
       "3        False\n",
       "4        False\n",
       "         ...  \n",
       "29367    False\n",
       "29368    False\n",
       "29369    False\n",
       "29370    False\n",
       "29371    False\n",
       "Length: 29372, dtype: bool"
      ]
     },
     "execution_count": 45,
     "metadata": {},
     "output_type": "execute_result"
    }
   ],
   "source": [
    "# проверка каждой строки на уникальность\n",
    "empl.duplicated()"
   ]
  },
  {
   "cell_type": "code",
   "execution_count": 46,
   "id": "d6ca5a8e",
   "metadata": {},
   "outputs": [
    {
     "data": {
      "text/plain": [
       "0        False\n",
       "1        False\n",
       "2        False\n",
       "3        False\n",
       "4        False\n",
       "         ...  \n",
       "29367     True\n",
       "29368     True\n",
       "29369     True\n",
       "29370     True\n",
       "29371     True\n",
       "Length: 29372, dtype: bool"
      ]
     },
     "execution_count": 46,
     "metadata": {},
     "output_type": "execute_result"
    }
   ],
   "source": [
    "# Проверка колонки fio на уникальность\n",
    "empl.duplicated('fio')"
   ]
  },
  {
   "cell_type": "code",
   "execution_count": 47,
   "id": "d619a8c3",
   "metadata": {},
   "outputs": [
    {
     "data": {
      "text/plain": [
       "0        False\n",
       "1        False\n",
       "2        False\n",
       "3        False\n",
       "4        False\n",
       "         ...  \n",
       "29367     True\n",
       "29368     True\n",
       "29369     True\n",
       "29370     True\n",
       "29371     True\n",
       "Name: fio, Length: 29372, dtype: bool"
      ]
     },
     "execution_count": 47,
     "metadata": {},
     "output_type": "execute_result"
    }
   ],
   "source": [
    "empl['fio'].duplicated()"
   ]
  },
  {
   "cell_type": "code",
   "execution_count": 48,
   "id": "bdc304e1",
   "metadata": {},
   "outputs": [
    {
     "data": {
      "text/plain": [
       "0        False\n",
       "1        False\n",
       "2        False\n",
       "3        False\n",
       "4        False\n",
       "         ...  \n",
       "29367    False\n",
       "29368    False\n",
       "29369    False\n",
       "29370    False\n",
       "29371    False\n",
       "Length: 29372, dtype: bool"
      ]
     },
     "execution_count": 48,
     "metadata": {},
     "output_type": "execute_result"
    }
   ],
   "source": [
    "# Проверка колонок fio и report_dt на уникальность\n",
    "empl.duplicated(['fio', 'report_dt'])"
   ]
  },
  {
   "cell_type": "code",
   "execution_count": null,
   "id": "b37e2632",
   "metadata": {},
   "outputs": [],
   "source": []
  },
  {
   "cell_type": "code",
   "execution_count": null,
   "id": "111e060f",
   "metadata": {},
   "outputs": [],
   "source": []
  },
  {
   "cell_type": "code",
   "execution_count": null,
   "id": "063e5a5e",
   "metadata": {},
   "outputs": [],
   "source": []
  },
  {
   "cell_type": "markdown",
   "id": "e240d624",
   "metadata": {},
   "source": [
    "#### Способы выделения дубликатов"
   ]
  },
  {
   "cell_type": "code",
   "execution_count": 49,
   "id": "49b62709",
   "metadata": {},
   "outputs": [
    {
     "data": {
      "text/plain": [
       "0        False\n",
       "1        False\n",
       "2        False\n",
       "3        False\n",
       "4        False\n",
       "         ...  \n",
       "29367     True\n",
       "29368     True\n",
       "29369     True\n",
       "29370     True\n",
       "29371     True\n",
       "Length: 29372, dtype: bool"
      ]
     },
     "execution_count": 49,
     "metadata": {},
     "output_type": "execute_result"
    }
   ],
   "source": [
    "# True если значение встерчечалось в строчках выше\n",
    "empl.duplicated('fio')"
   ]
  },
  {
   "cell_type": "code",
   "execution_count": 50,
   "id": "8c51a3c3",
   "metadata": {},
   "outputs": [
    {
     "data": {
      "text/plain": [
       "0         True\n",
       "1         True\n",
       "2         True\n",
       "3         True\n",
       "4         True\n",
       "         ...  \n",
       "29367    False\n",
       "29368    False\n",
       "29369    False\n",
       "29370    False\n",
       "29371    False\n",
       "Length: 29372, dtype: bool"
      ]
     },
     "execution_count": 50,
     "metadata": {},
     "output_type": "execute_result"
    }
   ],
   "source": [
    "# True если значение встерчечалось в строчках ниже\n",
    "empl.duplicated('fio', keep='last')"
   ]
  },
  {
   "cell_type": "code",
   "execution_count": 51,
   "id": "935e94dd",
   "metadata": {},
   "outputs": [
    {
     "data": {
      "text/plain": [
       "0        True\n",
       "1        True\n",
       "2        True\n",
       "3        True\n",
       "4        True\n",
       "         ... \n",
       "29367    True\n",
       "29368    True\n",
       "29369    True\n",
       "29370    True\n",
       "29371    True\n",
       "Length: 29372, dtype: bool"
      ]
     },
     "execution_count": 51,
     "metadata": {},
     "output_type": "execute_result"
    }
   ],
   "source": [
    "# True если у значения есть дубликат\n",
    "empl.duplicated('fio', keep=False)"
   ]
  },
  {
   "cell_type": "code",
   "execution_count": null,
   "id": "70097288",
   "metadata": {},
   "outputs": [],
   "source": []
  },
  {
   "cell_type": "code",
   "execution_count": null,
   "id": "c73e4f3a",
   "metadata": {},
   "outputs": [],
   "source": []
  },
  {
   "cell_type": "code",
   "execution_count": null,
   "id": "0dc97b0c",
   "metadata": {},
   "outputs": [],
   "source": []
  },
  {
   "cell_type": "code",
   "execution_count": null,
   "id": "af9fdbe2",
   "metadata": {},
   "outputs": [],
   "source": []
  },
  {
   "cell_type": "code",
   "execution_count": null,
   "id": "986189fe",
   "metadata": {},
   "outputs": [],
   "source": []
  },
  {
   "cell_type": "code",
   "execution_count": null,
   "id": "ef76b170",
   "metadata": {},
   "outputs": [],
   "source": []
  },
  {
   "cell_type": "code",
   "execution_count": null,
   "id": "51b84f8d",
   "metadata": {},
   "outputs": [],
   "source": []
  },
  {
   "cell_type": "markdown",
   "id": "227b7a52",
   "metadata": {},
   "source": [
    "### Проверять условия можно и в датафреймах"
   ]
  },
  {
   "cell_type": "code",
   "execution_count": 52,
   "id": "ed53594b",
   "metadata": {},
   "outputs": [
    {
     "data": {
      "text/html": [
       "<div>\n",
       "<style scoped>\n",
       "    .dataframe tbody tr th:only-of-type {\n",
       "        vertical-align: middle;\n",
       "    }\n",
       "\n",
       "    .dataframe tbody tr th {\n",
       "        vertical-align: top;\n",
       "    }\n",
       "\n",
       "    .dataframe thead th {\n",
       "        text-align: right;\n",
       "    }\n",
       "</style>\n",
       "<table border=\"1\" class=\"dataframe\">\n",
       "  <thead>\n",
       "    <tr style=\"text-align: right;\">\n",
       "      <th></th>\n",
       "      <th>ФИО</th>\n",
       "      <th>Пол</th>\n",
       "      <th>Математика</th>\n",
       "      <th>Русский язык</th>\n",
       "      <th>Литература</th>\n",
       "      <th>Физика</th>\n",
       "      <th>История</th>\n",
       "      <th>Физическая культура</th>\n",
       "    </tr>\n",
       "  </thead>\n",
       "  <tbody>\n",
       "    <tr>\n",
       "      <th>0</th>\n",
       "      <td>Суханова Маргарита Богдановна</td>\n",
       "      <td>женский</td>\n",
       "      <td>3</td>\n",
       "      <td>3</td>\n",
       "      <td>3</td>\n",
       "      <td>3</td>\n",
       "      <td>3</td>\n",
       "      <td>5</td>\n",
       "    </tr>\n",
       "    <tr>\n",
       "      <th>1</th>\n",
       "      <td>Лаврентьев Давид Анатольевич</td>\n",
       "      <td>мужской</td>\n",
       "      <td>3</td>\n",
       "      <td>3</td>\n",
       "      <td>3</td>\n",
       "      <td>5</td>\n",
       "      <td>3</td>\n",
       "      <td>3</td>\n",
       "    </tr>\n",
       "    <tr>\n",
       "      <th>2</th>\n",
       "      <td>Винниченко Дарья Максимовна</td>\n",
       "      <td>женский</td>\n",
       "      <td>4</td>\n",
       "      <td>5</td>\n",
       "      <td>5</td>\n",
       "      <td>3</td>\n",
       "      <td>4</td>\n",
       "      <td>5</td>\n",
       "    </tr>\n",
       "    <tr>\n",
       "      <th>3</th>\n",
       "      <td>Козлова Маргарита Максимовна</td>\n",
       "      <td>женский</td>\n",
       "      <td>5</td>\n",
       "      <td>5</td>\n",
       "      <td>5</td>\n",
       "      <td>5</td>\n",
       "      <td>4</td>\n",
       "      <td>5</td>\n",
       "    </tr>\n",
       "    <tr>\n",
       "      <th>4</th>\n",
       "      <td>Кулешов Евгений Маратович</td>\n",
       "      <td>мужской</td>\n",
       "      <td>3</td>\n",
       "      <td>3</td>\n",
       "      <td>4</td>\n",
       "      <td>3</td>\n",
       "      <td>4</td>\n",
       "      <td>3</td>\n",
       "    </tr>\n",
       "  </tbody>\n",
       "</table>\n",
       "</div>"
      ],
      "text/plain": [
       "                             ФИО      Пол  Математика  Русский язык  \\\n",
       "0  Суханова Маргарита Богдановна  женский           3             3   \n",
       "1   Лаврентьев Давид Анатольевич  мужской           3             3   \n",
       "2    Винниченко Дарья Максимовна  женский           4             5   \n",
       "3   Козлова Маргарита Максимовна  женский           5             5   \n",
       "4      Кулешов Евгений Маратович  мужской           3             3   \n",
       "\n",
       "   Литература  Физика  История  Физическая культура  \n",
       "0           3       3        3                    5  \n",
       "1           3       5        3                    3  \n",
       "2           5       3        4                    5  \n",
       "3           5       5        4                    5  \n",
       "4           4       3        4                    3  "
      ]
     },
     "execution_count": 52,
     "metadata": {},
     "output_type": "execute_result"
    }
   ],
   "source": [
    "path_marks = '../tables/школьные оценки.xlsx' if os.path.exists('../tables/школьные оценки.xlsx') else 'https://drive.google.com/uc?id=1v9kRv1I03CXtQ6vFE4mE3hFAty436qAo'\n",
    "marks = pd.read_excel(path_marks)\n",
    "marks.head()"
   ]
  },
  {
   "cell_type": "code",
   "execution_count": 53,
   "id": "bc766bb3",
   "metadata": {},
   "outputs": [
    {
     "data": {
      "text/html": [
       "<div>\n",
       "<style scoped>\n",
       "    .dataframe tbody tr th:only-of-type {\n",
       "        vertical-align: middle;\n",
       "    }\n",
       "\n",
       "    .dataframe tbody tr th {\n",
       "        vertical-align: top;\n",
       "    }\n",
       "\n",
       "    .dataframe thead th {\n",
       "        text-align: right;\n",
       "    }\n",
       "</style>\n",
       "<table border=\"1\" class=\"dataframe\">\n",
       "  <thead>\n",
       "    <tr style=\"text-align: right;\">\n",
       "      <th></th>\n",
       "      <th>ФИО</th>\n",
       "      <th>Пол</th>\n",
       "      <th>Математика</th>\n",
       "      <th>Русский язык</th>\n",
       "      <th>Литература</th>\n",
       "      <th>Физика</th>\n",
       "      <th>История</th>\n",
       "      <th>Физическая культура</th>\n",
       "    </tr>\n",
       "  </thead>\n",
       "  <tbody>\n",
       "    <tr>\n",
       "      <th>0</th>\n",
       "      <td>False</td>\n",
       "      <td>False</td>\n",
       "      <td>False</td>\n",
       "      <td>False</td>\n",
       "      <td>False</td>\n",
       "      <td>False</td>\n",
       "      <td>False</td>\n",
       "      <td>True</td>\n",
       "    </tr>\n",
       "    <tr>\n",
       "      <th>1</th>\n",
       "      <td>False</td>\n",
       "      <td>False</td>\n",
       "      <td>False</td>\n",
       "      <td>False</td>\n",
       "      <td>False</td>\n",
       "      <td>True</td>\n",
       "      <td>False</td>\n",
       "      <td>False</td>\n",
       "    </tr>\n",
       "    <tr>\n",
       "      <th>2</th>\n",
       "      <td>False</td>\n",
       "      <td>False</td>\n",
       "      <td>False</td>\n",
       "      <td>True</td>\n",
       "      <td>True</td>\n",
       "      <td>False</td>\n",
       "      <td>False</td>\n",
       "      <td>True</td>\n",
       "    </tr>\n",
       "    <tr>\n",
       "      <th>3</th>\n",
       "      <td>False</td>\n",
       "      <td>False</td>\n",
       "      <td>True</td>\n",
       "      <td>True</td>\n",
       "      <td>True</td>\n",
       "      <td>True</td>\n",
       "      <td>False</td>\n",
       "      <td>True</td>\n",
       "    </tr>\n",
       "    <tr>\n",
       "      <th>4</th>\n",
       "      <td>False</td>\n",
       "      <td>False</td>\n",
       "      <td>False</td>\n",
       "      <td>False</td>\n",
       "      <td>False</td>\n",
       "      <td>False</td>\n",
       "      <td>False</td>\n",
       "      <td>False</td>\n",
       "    </tr>\n",
       "  </tbody>\n",
       "</table>\n",
       "</div>"
      ],
      "text/plain": [
       "     ФИО    Пол  Математика  Русский язык  Литература  Физика  История  \\\n",
       "0  False  False       False         False       False   False    False   \n",
       "1  False  False       False         False       False    True    False   \n",
       "2  False  False       False          True        True   False    False   \n",
       "3  False  False        True          True        True    True    False   \n",
       "4  False  False       False         False       False   False    False   \n",
       "\n",
       "   Физическая культура  \n",
       "0                 True  \n",
       "1                False  \n",
       "2                 True  \n",
       "3                 True  \n",
       "4                False  "
      ]
     },
     "execution_count": 53,
     "metadata": {},
     "output_type": "execute_result"
    }
   ],
   "source": [
    "(marks == 5).head()"
   ]
  },
  {
   "cell_type": "code",
   "execution_count": null,
   "id": "a900992d",
   "metadata": {},
   "outputs": [],
   "source": []
  },
  {
   "cell_type": "code",
   "execution_count": null,
   "id": "c04466fb",
   "metadata": {},
   "outputs": [],
   "source": []
  },
  {
   "cell_type": "code",
   "execution_count": null,
   "id": "ea6b701d",
   "metadata": {},
   "outputs": [],
   "source": []
  },
  {
   "cell_type": "code",
   "execution_count": null,
   "id": "23b729aa",
   "metadata": {},
   "outputs": [],
   "source": []
  },
  {
   "cell_type": "markdown",
   "id": "20ba0e1e",
   "metadata": {},
   "source": [
    "#### Методы all и any"
   ]
  },
  {
   "cell_type": "code",
   "execution_count": 56,
   "id": "61ad505c",
   "metadata": {},
   "outputs": [
    {
     "data": {
      "text/plain": [
       "Математика             False\n",
       "Русский язык           False\n",
       "Литература             False\n",
       "Физика                 False\n",
       "История                False\n",
       "Физическая культура    False\n",
       "dtype: bool"
      ]
     },
     "execution_count": 56,
     "metadata": {},
     "output_type": "execute_result"
    }
   ],
   "source": [
    "(marks\n",
    "    .drop(columns=['ФИО', 'Пол'])\n",
    "    .isin([4, 5])\n",
    "    .all()\n",
    ")"
   ]
  },
  {
   "cell_type": "code",
   "execution_count": 57,
   "id": "9a9a286e",
   "metadata": {
    "scrolled": true
   },
   "outputs": [
    {
     "data": {
      "text/plain": [
       "Математика             True\n",
       "Русский язык           True\n",
       "Литература             True\n",
       "Физика                 True\n",
       "История                True\n",
       "Физическая культура    True\n",
       "dtype: bool"
      ]
     },
     "execution_count": 57,
     "metadata": {},
     "output_type": "execute_result"
    }
   ],
   "source": [
    "(marks\n",
    "    .drop(columns=['ФИО', 'Пол'])\n",
    "    .isin([4, 5])\n",
    "    .any()\n",
    ")"
   ]
  },
  {
   "cell_type": "code",
   "execution_count": 58,
   "id": "4b3c8374",
   "metadata": {},
   "outputs": [
    {
     "data": {
      "text/plain": [
       "0      False\n",
       "1      False\n",
       "2      False\n",
       "3       True\n",
       "4      False\n",
       "       ...  \n",
       "140    False\n",
       "141     True\n",
       "142    False\n",
       "143    False\n",
       "144     True\n",
       "Length: 145, dtype: bool"
      ]
     },
     "execution_count": 58,
     "metadata": {},
     "output_type": "execute_result"
    }
   ],
   "source": [
    "(marks\n",
    "    .drop(columns=['ФИО', 'Пол']) \n",
    "    .isin([4, 5])\n",
    "    .all(axis=1)\n",
    ")"
   ]
  },
  {
   "cell_type": "code",
   "execution_count": 59,
   "id": "c6274840",
   "metadata": {},
   "outputs": [
    {
     "data": {
      "text/plain": [
       "0      True\n",
       "1      True\n",
       "2      True\n",
       "3      True\n",
       "4      True\n",
       "       ... \n",
       "140    True\n",
       "141    True\n",
       "142    True\n",
       "143    True\n",
       "144    True\n",
       "Length: 145, dtype: bool"
      ]
     },
     "execution_count": 59,
     "metadata": {},
     "output_type": "execute_result"
    }
   ],
   "source": [
    "(marks\n",
    "    .drop(columns=['ФИО', 'Пол'])\n",
    "    .isin([4, 5])\n",
    "    .any(axis=1)\n",
    ")"
   ]
  },
  {
   "cell_type": "code",
   "execution_count": null,
   "id": "aec0514b",
   "metadata": {},
   "outputs": [],
   "source": []
  },
  {
   "cell_type": "code",
   "execution_count": null,
   "id": "09c82a7e",
   "metadata": {},
   "outputs": [],
   "source": []
  },
  {
   "cell_type": "code",
   "execution_count": null,
   "id": "7d0f9add",
   "metadata": {},
   "outputs": [],
   "source": []
  },
  {
   "cell_type": "code",
   "execution_count": null,
   "id": "3b2de4bf",
   "metadata": {},
   "outputs": [],
   "source": []
  },
  {
   "cell_type": "code",
   "execution_count": null,
   "id": "c8c324d8",
   "metadata": {},
   "outputs": [],
   "source": []
  },
  {
   "cell_type": "markdown",
   "id": "b7896d51",
   "metadata": {},
   "source": [
    "#### Можно сравнивать стобцы таблицы между собой"
   ]
  },
  {
   "cell_type": "code",
   "execution_count": 60,
   "id": "5c6775a3",
   "metadata": {},
   "outputs": [
    {
     "data": {
      "text/plain": [
       "0       True\n",
       "1       True\n",
       "2      False\n",
       "3       True\n",
       "4       True\n",
       "       ...  \n",
       "140    False\n",
       "141     True\n",
       "142    False\n",
       "143     True\n",
       "144    False\n",
       "Length: 145, dtype: bool"
      ]
     },
     "execution_count": 60,
     "metadata": {},
     "output_type": "execute_result"
    }
   ],
   "source": [
    "marks['Математика'] == marks['Русский язык']"
   ]
  },
  {
   "cell_type": "code",
   "execution_count": 61,
   "id": "b15552ac",
   "metadata": {},
   "outputs": [
    {
     "data": {
      "text/plain": [
       "0      False\n",
       "1      False\n",
       "2      False\n",
       "3      False\n",
       "4      False\n",
       "       ...  \n",
       "140     True\n",
       "141    False\n",
       "142    False\n",
       "143    False\n",
       "144    False\n",
       "Length: 145, dtype: bool"
      ]
     },
     "execution_count": 61,
     "metadata": {},
     "output_type": "execute_result"
    }
   ],
   "source": [
    "marks['Математика'] > marks['Русский язык']"
   ]
  },
  {
   "cell_type": "code",
   "execution_count": null,
   "id": "9e52556b",
   "metadata": {},
   "outputs": [],
   "source": []
  },
  {
   "cell_type": "code",
   "execution_count": null,
   "id": "1b450072",
   "metadata": {},
   "outputs": [],
   "source": []
  },
  {
   "cell_type": "code",
   "execution_count": null,
   "id": "6a02a369",
   "metadata": {},
   "outputs": [],
   "source": []
  },
  {
   "cell_type": "code",
   "execution_count": null,
   "id": "09d5e1dd",
   "metadata": {},
   "outputs": [],
   "source": []
  },
  {
   "cell_type": "code",
   "execution_count": null,
   "id": "556788f9",
   "metadata": {},
   "outputs": [],
   "source": []
  },
  {
   "cell_type": "code",
   "execution_count": null,
   "id": "20b8ce29",
   "metadata": {},
   "outputs": [],
   "source": []
  },
  {
   "cell_type": "code",
   "execution_count": null,
   "id": "4f44ba2e",
   "metadata": {},
   "outputs": [],
   "source": []
  },
  {
   "cell_type": "code",
   "execution_count": null,
   "id": "612ed474",
   "metadata": {},
   "outputs": [],
   "source": []
  },
  {
   "cell_type": "code",
   "execution_count": null,
   "id": "77013cfe",
   "metadata": {},
   "outputs": [],
   "source": []
  },
  {
   "cell_type": "code",
   "execution_count": null,
   "id": "bfb39146",
   "metadata": {},
   "outputs": [],
   "source": []
  },
  {
   "cell_type": "markdown",
   "id": "5978f3ca",
   "metadata": {},
   "source": [
    "# Фильтрация строк"
   ]
  },
  {
   "cell_type": "markdown",
   "id": "7013eb26",
   "metadata": {},
   "source": [
    "__df[ ]__\n",
    "\n",
    "__df.loc[ ]__\n",
    "\n",
    "__df.iloc[ ]__"
   ]
  },
  {
   "cell_type": "code",
   "execution_count": 62,
   "id": "ca455970",
   "metadata": {},
   "outputs": [
    {
     "data": {
      "text/plain": [
       "0       True\n",
       "1       True\n",
       "2      False\n",
       "3      False\n",
       "4       True\n",
       "       ...  \n",
       "140    False\n",
       "141    False\n",
       "142     True\n",
       "143    False\n",
       "144    False\n",
       "Name: Математика, Length: 145, dtype: bool"
      ]
     },
     "execution_count": 62,
     "metadata": {},
     "output_type": "execute_result"
    }
   ],
   "source": [
    "marks['Математика'] == 3"
   ]
  },
  {
   "cell_type": "code",
   "execution_count": 63,
   "id": "07333727",
   "metadata": {},
   "outputs": [
    {
     "data": {
      "text/html": [
       "<div>\n",
       "<style scoped>\n",
       "    .dataframe tbody tr th:only-of-type {\n",
       "        vertical-align: middle;\n",
       "    }\n",
       "\n",
       "    .dataframe tbody tr th {\n",
       "        vertical-align: top;\n",
       "    }\n",
       "\n",
       "    .dataframe thead th {\n",
       "        text-align: right;\n",
       "    }\n",
       "</style>\n",
       "<table border=\"1\" class=\"dataframe\">\n",
       "  <thead>\n",
       "    <tr style=\"text-align: right;\">\n",
       "      <th></th>\n",
       "      <th>ФИО</th>\n",
       "      <th>Пол</th>\n",
       "      <th>Математика</th>\n",
       "      <th>Русский язык</th>\n",
       "      <th>Литература</th>\n",
       "      <th>Физика</th>\n",
       "      <th>История</th>\n",
       "      <th>Физическая культура</th>\n",
       "    </tr>\n",
       "  </thead>\n",
       "  <tbody>\n",
       "    <tr>\n",
       "      <th>0</th>\n",
       "      <td>Суханова Маргарита Богдановна</td>\n",
       "      <td>женский</td>\n",
       "      <td>3</td>\n",
       "      <td>3</td>\n",
       "      <td>3</td>\n",
       "      <td>3</td>\n",
       "      <td>3</td>\n",
       "      <td>5</td>\n",
       "    </tr>\n",
       "    <tr>\n",
       "      <th>1</th>\n",
       "      <td>Лаврентьев Давид Анатольевич</td>\n",
       "      <td>мужской</td>\n",
       "      <td>3</td>\n",
       "      <td>3</td>\n",
       "      <td>3</td>\n",
       "      <td>5</td>\n",
       "      <td>3</td>\n",
       "      <td>3</td>\n",
       "    </tr>\n",
       "    <tr>\n",
       "      <th>4</th>\n",
       "      <td>Кулешов Евгений Маратович</td>\n",
       "      <td>мужской</td>\n",
       "      <td>3</td>\n",
       "      <td>3</td>\n",
       "      <td>4</td>\n",
       "      <td>3</td>\n",
       "      <td>4</td>\n",
       "      <td>3</td>\n",
       "    </tr>\n",
       "  </tbody>\n",
       "</table>\n",
       "</div>"
      ],
      "text/plain": [
       "                             ФИО      Пол  Математика  Русский язык  \\\n",
       "0  Суханова Маргарита Богдановна  женский           3             3   \n",
       "1   Лаврентьев Давид Анатольевич  мужской           3             3   \n",
       "4      Кулешов Евгений Маратович  мужской           3             3   \n",
       "\n",
       "   Литература  Физика  История  Физическая культура  \n",
       "0           3       3        3                    5  \n",
       "1           3       5        3                    3  \n",
       "4           4       3        4                    3  "
      ]
     },
     "execution_count": 63,
     "metadata": {},
     "output_type": "execute_result"
    }
   ],
   "source": [
    "marks[marks['Математика'] == 3].head(3)"
   ]
  },
  {
   "cell_type": "markdown",
   "id": "2a5efcde",
   "metadata": {},
   "source": [
    "#### Точно так же можно фильтровать объекты класса Series"
   ]
  },
  {
   "cell_type": "code",
   "execution_count": 64,
   "id": "15cc021a",
   "metadata": {},
   "outputs": [
    {
     "data": {
      "text/plain": [
       "2      4\n",
       "3      5\n",
       "5      4\n",
       "6      4\n",
       "7      4\n",
       "      ..\n",
       "139    5\n",
       "140    5\n",
       "141    4\n",
       "143    4\n",
       "144    4\n",
       "Name: Математика, Length: 109, dtype: int64"
      ]
     },
     "execution_count": 64,
     "metadata": {},
     "output_type": "execute_result"
    }
   ],
   "source": [
    "math = marks['Математика'].copy()\n",
    "math[math >= 4]"
   ]
  },
  {
   "cell_type": "markdown",
   "id": "94bac6b2",
   "metadata": {},
   "source": [
    "Возьмем только отличников по физической культуре"
   ]
  },
  {
   "cell_type": "code",
   "execution_count": 65,
   "id": "d748dd3c",
   "metadata": {},
   "outputs": [
    {
     "data": {
      "text/html": [
       "<div>\n",
       "<style scoped>\n",
       "    .dataframe tbody tr th:only-of-type {\n",
       "        vertical-align: middle;\n",
       "    }\n",
       "\n",
       "    .dataframe tbody tr th {\n",
       "        vertical-align: top;\n",
       "    }\n",
       "\n",
       "    .dataframe thead th {\n",
       "        text-align: right;\n",
       "    }\n",
       "</style>\n",
       "<table border=\"1\" class=\"dataframe\">\n",
       "  <thead>\n",
       "    <tr style=\"text-align: right;\">\n",
       "      <th></th>\n",
       "      <th>ФИО</th>\n",
       "      <th>Пол</th>\n",
       "      <th>Математика</th>\n",
       "      <th>Русский язык</th>\n",
       "      <th>Литература</th>\n",
       "      <th>Физика</th>\n",
       "      <th>История</th>\n",
       "      <th>Физическая культура</th>\n",
       "    </tr>\n",
       "  </thead>\n",
       "  <tbody>\n",
       "    <tr>\n",
       "      <th>0</th>\n",
       "      <td>Суханова Маргарита Богдановна</td>\n",
       "      <td>женский</td>\n",
       "      <td>3</td>\n",
       "      <td>3</td>\n",
       "      <td>3</td>\n",
       "      <td>3</td>\n",
       "      <td>3</td>\n",
       "      <td>5</td>\n",
       "    </tr>\n",
       "    <tr>\n",
       "      <th>2</th>\n",
       "      <td>Винниченко Дарья Максимовна</td>\n",
       "      <td>женский</td>\n",
       "      <td>4</td>\n",
       "      <td>5</td>\n",
       "      <td>5</td>\n",
       "      <td>3</td>\n",
       "      <td>4</td>\n",
       "      <td>5</td>\n",
       "    </tr>\n",
       "    <tr>\n",
       "      <th>3</th>\n",
       "      <td>Козлова Маргарита Максимовна</td>\n",
       "      <td>женский</td>\n",
       "      <td>5</td>\n",
       "      <td>5</td>\n",
       "      <td>5</td>\n",
       "      <td>5</td>\n",
       "      <td>4</td>\n",
       "      <td>5</td>\n",
       "    </tr>\n",
       "  </tbody>\n",
       "</table>\n",
       "</div>"
      ],
      "text/plain": [
       "                             ФИО      Пол  Математика  Русский язык  \\\n",
       "0  Суханова Маргарита Богдановна  женский           3             3   \n",
       "2    Винниченко Дарья Максимовна  женский           4             5   \n",
       "3   Козлова Маргарита Максимовна  женский           5             5   \n",
       "\n",
       "   Литература  Физика  История  Физическая культура  \n",
       "0           3       3        3                    5  \n",
       "2           5       3        4                    5  \n",
       "3           5       5        4                    5  "
      ]
     },
     "execution_count": 65,
     "metadata": {},
     "output_type": "execute_result"
    }
   ],
   "source": [
    "marks.loc[marks['Физическая культура'] == 5].head(3)"
   ]
  },
  {
   "cell_type": "markdown",
   "id": "ce7491e5",
   "metadata": {},
   "source": [
    "### Составные условия"
   ]
  },
  {
   "cell_type": "markdown",
   "id": "fc34f16c",
   "metadata": {},
   "source": [
    "1. & - проверка того, что оба условия выполняются\n",
    "2. | - проверка того, что хотя бы одно условие выполняется\n",
    "3. ~ - отрицание (меняет True на False и наоборот)"
   ]
  },
  {
   "cell_type": "code",
   "execution_count": 66,
   "id": "cf56322f",
   "metadata": {},
   "outputs": [
    {
     "data": {
      "text/html": [
       "<div>\n",
       "<style scoped>\n",
       "    .dataframe tbody tr th:only-of-type {\n",
       "        vertical-align: middle;\n",
       "    }\n",
       "\n",
       "    .dataframe tbody tr th {\n",
       "        vertical-align: top;\n",
       "    }\n",
       "\n",
       "    .dataframe thead th {\n",
       "        text-align: right;\n",
       "    }\n",
       "</style>\n",
       "<table border=\"1\" class=\"dataframe\">\n",
       "  <thead>\n",
       "    <tr style=\"text-align: right;\">\n",
       "      <th></th>\n",
       "      <th>ФИО</th>\n",
       "      <th>Пол</th>\n",
       "      <th>Математика</th>\n",
       "      <th>Русский язык</th>\n",
       "      <th>Литература</th>\n",
       "      <th>Физика</th>\n",
       "      <th>История</th>\n",
       "      <th>Физическая культура</th>\n",
       "    </tr>\n",
       "  </thead>\n",
       "  <tbody>\n",
       "    <tr>\n",
       "      <th>13</th>\n",
       "      <td>Петухов Александр Алексеевич</td>\n",
       "      <td>мужской</td>\n",
       "      <td>5</td>\n",
       "      <td>4</td>\n",
       "      <td>4</td>\n",
       "      <td>5</td>\n",
       "      <td>4</td>\n",
       "      <td>5</td>\n",
       "    </tr>\n",
       "    <tr>\n",
       "      <th>14</th>\n",
       "      <td>Панфилов Марат Евгеньевич</td>\n",
       "      <td>мужской</td>\n",
       "      <td>5</td>\n",
       "      <td>4</td>\n",
       "      <td>4</td>\n",
       "      <td>4</td>\n",
       "      <td>4</td>\n",
       "      <td>5</td>\n",
       "    </tr>\n",
       "    <tr>\n",
       "      <th>20</th>\n",
       "      <td>Коровин Вячеслав Денисович</td>\n",
       "      <td>мужской</td>\n",
       "      <td>5</td>\n",
       "      <td>4</td>\n",
       "      <td>3</td>\n",
       "      <td>5</td>\n",
       "      <td>3</td>\n",
       "      <td>5</td>\n",
       "    </tr>\n",
       "    <tr>\n",
       "      <th>40</th>\n",
       "      <td>Серебрякова София Анатольевна</td>\n",
       "      <td>женский</td>\n",
       "      <td>5</td>\n",
       "      <td>4</td>\n",
       "      <td>4</td>\n",
       "      <td>5</td>\n",
       "      <td>3</td>\n",
       "      <td>3</td>\n",
       "    </tr>\n",
       "    <tr>\n",
       "      <th>67</th>\n",
       "      <td>Столярова Дарья Глебовна</td>\n",
       "      <td>женский</td>\n",
       "      <td>5</td>\n",
       "      <td>4</td>\n",
       "      <td>4</td>\n",
       "      <td>5</td>\n",
       "      <td>5</td>\n",
       "      <td>3</td>\n",
       "    </tr>\n",
       "    <tr>\n",
       "      <th>91</th>\n",
       "      <td>Филатова Валентина Тимуровна</td>\n",
       "      <td>женский</td>\n",
       "      <td>5</td>\n",
       "      <td>4</td>\n",
       "      <td>4</td>\n",
       "      <td>5</td>\n",
       "      <td>5</td>\n",
       "      <td>4</td>\n",
       "    </tr>\n",
       "    <tr>\n",
       "      <th>140</th>\n",
       "      <td>Бычкова Александра Борисовна</td>\n",
       "      <td>женский</td>\n",
       "      <td>5</td>\n",
       "      <td>4</td>\n",
       "      <td>3</td>\n",
       "      <td>5</td>\n",
       "      <td>3</td>\n",
       "      <td>5</td>\n",
       "    </tr>\n",
       "  </tbody>\n",
       "</table>\n",
       "</div>"
      ],
      "text/plain": [
       "                               ФИО      Пол  Математика  Русский язык  \\\n",
       "13    Петухов Александр Алексеевич  мужской           5             4   \n",
       "14       Панфилов Марат Евгеньевич  мужской           5             4   \n",
       "20      Коровин Вячеслав Денисович  мужской           5             4   \n",
       "40   Серебрякова София Анатольевна  женский           5             4   \n",
       "67        Столярова Дарья Глебовна  женский           5             4   \n",
       "91    Филатова Валентина Тимуровна  женский           5             4   \n",
       "140   Бычкова Александра Борисовна  женский           5             4   \n",
       "\n",
       "     Литература  Физика  История  Физическая культура  \n",
       "13            4       5        4                    5  \n",
       "14            4       4        4                    5  \n",
       "20            3       5        3                    5  \n",
       "40            4       5        3                    3  \n",
       "67            4       5        5                    3  \n",
       "91            4       5        5                    4  \n",
       "140           3       5        3                    5  "
      ]
     },
     "execution_count": 66,
     "metadata": {},
     "output_type": "execute_result"
    }
   ],
   "source": [
    "# отбираем тех, у кого по математике 5, а по русскому 4\n",
    "marks[(marks['Математика'] == 5) & (marks['Русский язык'] == 4)]"
   ]
  },
  {
   "cell_type": "code",
   "execution_count": 67,
   "id": "93b50cec",
   "metadata": {},
   "outputs": [
    {
     "data": {
      "text/html": [
       "<div>\n",
       "<style scoped>\n",
       "    .dataframe tbody tr th:only-of-type {\n",
       "        vertical-align: middle;\n",
       "    }\n",
       "\n",
       "    .dataframe tbody tr th {\n",
       "        vertical-align: top;\n",
       "    }\n",
       "\n",
       "    .dataframe thead th {\n",
       "        text-align: right;\n",
       "    }\n",
       "</style>\n",
       "<table border=\"1\" class=\"dataframe\">\n",
       "  <thead>\n",
       "    <tr style=\"text-align: right;\">\n",
       "      <th></th>\n",
       "      <th>ФИО</th>\n",
       "      <th>Пол</th>\n",
       "      <th>Математика</th>\n",
       "      <th>Русский язык</th>\n",
       "      <th>Литература</th>\n",
       "      <th>Физика</th>\n",
       "      <th>История</th>\n",
       "      <th>Физическая культура</th>\n",
       "    </tr>\n",
       "  </thead>\n",
       "  <tbody>\n",
       "    <tr>\n",
       "      <th>2</th>\n",
       "      <td>Винниченко Дарья Максимовна</td>\n",
       "      <td>женский</td>\n",
       "      <td>4</td>\n",
       "      <td>5</td>\n",
       "      <td>5</td>\n",
       "      <td>3</td>\n",
       "      <td>4</td>\n",
       "      <td>5</td>\n",
       "    </tr>\n",
       "    <tr>\n",
       "      <th>3</th>\n",
       "      <td>Козлова Маргарита Максимовна</td>\n",
       "      <td>женский</td>\n",
       "      <td>5</td>\n",
       "      <td>5</td>\n",
       "      <td>5</td>\n",
       "      <td>5</td>\n",
       "      <td>4</td>\n",
       "      <td>5</td>\n",
       "    </tr>\n",
       "    <tr>\n",
       "      <th>9</th>\n",
       "      <td>Сухарев Евгений Валерьевич</td>\n",
       "      <td>мужской</td>\n",
       "      <td>3</td>\n",
       "      <td>5</td>\n",
       "      <td>4</td>\n",
       "      <td>4</td>\n",
       "      <td>5</td>\n",
       "      <td>5</td>\n",
       "    </tr>\n",
       "  </tbody>\n",
       "</table>\n",
       "</div>"
      ],
      "text/plain": [
       "                            ФИО      Пол  Математика  Русский язык  \\\n",
       "2   Винниченко Дарья Максимовна  женский           4             5   \n",
       "3  Козлова Маргарита Максимовна  женский           5             5   \n",
       "9    Сухарев Евгений Валерьевич  мужской           3             5   \n",
       "\n",
       "   Литература  Физика  История  Физическая культура  \n",
       "2           5       3        4                    5  \n",
       "3           5       5        4                    5  \n",
       "9           4       4        5                    5  "
      ]
     },
     "execution_count": 67,
     "metadata": {},
     "output_type": "execute_result"
    }
   ],
   "source": [
    "# Отбираем тех, у кого хотя бы по одному из двух предметов 5\n",
    "marks[(marks['Математика'] == 5) | (marks['Русский язык'] == 5)].head(3)"
   ]
  },
  {
   "cell_type": "code",
   "execution_count": 68,
   "id": "c2093048",
   "metadata": {},
   "outputs": [
    {
     "data": {
      "text/html": [
       "<div>\n",
       "<style scoped>\n",
       "    .dataframe tbody tr th:only-of-type {\n",
       "        vertical-align: middle;\n",
       "    }\n",
       "\n",
       "    .dataframe tbody tr th {\n",
       "        vertical-align: top;\n",
       "    }\n",
       "\n",
       "    .dataframe thead th {\n",
       "        text-align: right;\n",
       "    }\n",
       "</style>\n",
       "<table border=\"1\" class=\"dataframe\">\n",
       "  <thead>\n",
       "    <tr style=\"text-align: right;\">\n",
       "      <th></th>\n",
       "      <th>ФИО</th>\n",
       "      <th>Пол</th>\n",
       "      <th>Математика</th>\n",
       "      <th>Русский язык</th>\n",
       "      <th>Литература</th>\n",
       "      <th>Физика</th>\n",
       "      <th>История</th>\n",
       "      <th>Физическая культура</th>\n",
       "    </tr>\n",
       "  </thead>\n",
       "  <tbody>\n",
       "    <tr>\n",
       "      <th>0</th>\n",
       "      <td>Суханова Маргарита Богдановна</td>\n",
       "      <td>женский</td>\n",
       "      <td>3</td>\n",
       "      <td>3</td>\n",
       "      <td>3</td>\n",
       "      <td>3</td>\n",
       "      <td>3</td>\n",
       "      <td>5</td>\n",
       "    </tr>\n",
       "    <tr>\n",
       "      <th>1</th>\n",
       "      <td>Лаврентьев Давид Анатольевич</td>\n",
       "      <td>мужской</td>\n",
       "      <td>3</td>\n",
       "      <td>3</td>\n",
       "      <td>3</td>\n",
       "      <td>5</td>\n",
       "      <td>3</td>\n",
       "      <td>3</td>\n",
       "    </tr>\n",
       "    <tr>\n",
       "      <th>2</th>\n",
       "      <td>Винниченко Дарья Максимовна</td>\n",
       "      <td>женский</td>\n",
       "      <td>4</td>\n",
       "      <td>5</td>\n",
       "      <td>5</td>\n",
       "      <td>3</td>\n",
       "      <td>4</td>\n",
       "      <td>5</td>\n",
       "    </tr>\n",
       "  </tbody>\n",
       "</table>\n",
       "</div>"
      ],
      "text/plain": [
       "                             ФИО      Пол  Математика  Русский язык  \\\n",
       "0  Суханова Маргарита Богдановна  женский           3             3   \n",
       "1   Лаврентьев Давид Анатольевич  мужской           3             3   \n",
       "2    Винниченко Дарья Максимовна  женский           4             5   \n",
       "\n",
       "   Литература  Физика  История  Физическая культура  \n",
       "0           3       3        3                    5  \n",
       "1           3       5        3                    3  \n",
       "2           5       3        4                    5  "
      ]
     },
     "execution_count": 68,
     "metadata": {},
     "output_type": "execute_result"
    }
   ],
   "source": [
    "# Отбираем тех, у кого по математике не 5\n",
    "marks[~(marks['Математика'] == 5)].head(3)"
   ]
  },
  {
   "cell_type": "code",
   "execution_count": 69,
   "id": "29f09e14",
   "metadata": {},
   "outputs": [
    {
     "data": {
      "text/html": [
       "<div>\n",
       "<style scoped>\n",
       "    .dataframe tbody tr th:only-of-type {\n",
       "        vertical-align: middle;\n",
       "    }\n",
       "\n",
       "    .dataframe tbody tr th {\n",
       "        vertical-align: top;\n",
       "    }\n",
       "\n",
       "    .dataframe thead th {\n",
       "        text-align: right;\n",
       "    }\n",
       "</style>\n",
       "<table border=\"1\" class=\"dataframe\">\n",
       "  <thead>\n",
       "    <tr style=\"text-align: right;\">\n",
       "      <th></th>\n",
       "      <th>ФИО</th>\n",
       "      <th>Пол</th>\n",
       "      <th>Математика</th>\n",
       "      <th>Русский язык</th>\n",
       "      <th>Литература</th>\n",
       "      <th>Физика</th>\n",
       "      <th>История</th>\n",
       "      <th>Физическая культура</th>\n",
       "    </tr>\n",
       "  </thead>\n",
       "  <tbody>\n",
       "    <tr>\n",
       "      <th>0</th>\n",
       "      <td>Суханова Маргарита Богдановна</td>\n",
       "      <td>женский</td>\n",
       "      <td>3</td>\n",
       "      <td>3</td>\n",
       "      <td>3</td>\n",
       "      <td>3</td>\n",
       "      <td>3</td>\n",
       "      <td>5</td>\n",
       "    </tr>\n",
       "    <tr>\n",
       "      <th>1</th>\n",
       "      <td>Лаврентьев Давид Анатольевич</td>\n",
       "      <td>мужской</td>\n",
       "      <td>3</td>\n",
       "      <td>3</td>\n",
       "      <td>3</td>\n",
       "      <td>5</td>\n",
       "      <td>3</td>\n",
       "      <td>3</td>\n",
       "    </tr>\n",
       "    <tr>\n",
       "      <th>4</th>\n",
       "      <td>Кулешов Евгений Маратович</td>\n",
       "      <td>мужской</td>\n",
       "      <td>3</td>\n",
       "      <td>3</td>\n",
       "      <td>4</td>\n",
       "      <td>3</td>\n",
       "      <td>4</td>\n",
       "      <td>3</td>\n",
       "    </tr>\n",
       "  </tbody>\n",
       "</table>\n",
       "</div>"
      ],
      "text/plain": [
       "                             ФИО      Пол  Математика  Русский язык  \\\n",
       "0  Суханова Маргарита Богдановна  женский           3             3   \n",
       "1   Лаврентьев Давид Анатольевич  мужской           3             3   \n",
       "4      Кулешов Евгений Маратович  мужской           3             3   \n",
       "\n",
       "   Литература  Физика  История  Физическая культура  \n",
       "0           3       3        3                    5  \n",
       "1           3       5        3                    3  \n",
       "4           4       3        4                    3  "
      ]
     },
     "execution_count": 69,
     "metadata": {},
     "output_type": "execute_result"
    }
   ],
   "source": [
    "# Отбираем тех, у кого по математике не 5 и не 4\n",
    "marks[~(marks['Математика'].isin([5, 4]))].head(3)"
   ]
  },
  {
   "cell_type": "markdown",
   "id": "f3ba4013",
   "metadata": {},
   "source": [
    "## Несколько условий нужно писать в скобках"
   ]
  },
  {
   "cell_type": "markdown",
   "id": "d3356732",
   "metadata": {},
   "source": [
    "Если не использовать скобки:"
   ]
  },
  {
   "cell_type": "code",
   "execution_count": 70,
   "id": "645c6457",
   "metadata": {},
   "outputs": [
    {
     "data": {
      "text/html": [
       "<div>\n",
       "<style scoped>\n",
       "    .dataframe tbody tr th:only-of-type {\n",
       "        vertical-align: middle;\n",
       "    }\n",
       "\n",
       "    .dataframe tbody tr th {\n",
       "        vertical-align: top;\n",
       "    }\n",
       "\n",
       "    .dataframe thead th {\n",
       "        text-align: right;\n",
       "    }\n",
       "</style>\n",
       "<table border=\"1\" class=\"dataframe\">\n",
       "  <thead>\n",
       "    <tr style=\"text-align: right;\">\n",
       "      <th></th>\n",
       "      <th>report_dt</th>\n",
       "      <th>i_pernr</th>\n",
       "      <th>fio</th>\n",
       "      <th>sex</th>\n",
       "      <th>shop_id</th>\n",
       "      <th>pos_name</th>\n",
       "      <th>pos_id</th>\n",
       "      <th>closest_boss_pos_id</th>\n",
       "      <th>mgmt_flag</th>\n",
       "      <th>salary_fork</th>\n",
       "      <th>birth_date</th>\n",
       "      <th>education</th>\n",
       "      <th>employee_evaluation</th>\n",
       "      <th>salary</th>\n",
       "    </tr>\n",
       "  </thead>\n",
       "  <tbody>\n",
       "    <tr>\n",
       "      <th>0</th>\n",
       "      <td>2015-01-31</td>\n",
       "      <td>100000</td>\n",
       "      <td>Кожевников Андрей Максимович</td>\n",
       "      <td>мужской</td>\n",
       "      <td>1</td>\n",
       "      <td>Директор магазина</td>\n",
       "      <td>11</td>\n",
       "      <td>&lt;NA&gt;</td>\n",
       "      <td>1</td>\n",
       "      <td>0</td>\n",
       "      <td>1987-03-11</td>\n",
       "      <td>высшее</td>\n",
       "      <td>5</td>\n",
       "      <td>45700.0</td>\n",
       "    </tr>\n",
       "    <tr>\n",
       "      <th>10</th>\n",
       "      <td>2015-02-28</td>\n",
       "      <td>100000</td>\n",
       "      <td>Кожевников Андрей Максимович</td>\n",
       "      <td>мужской</td>\n",
       "      <td>1</td>\n",
       "      <td>Директор магазина</td>\n",
       "      <td>11</td>\n",
       "      <td>&lt;NA&gt;</td>\n",
       "      <td>1</td>\n",
       "      <td>0</td>\n",
       "      <td>1987-03-11</td>\n",
       "      <td>высшее</td>\n",
       "      <td>5</td>\n",
       "      <td>45700.0</td>\n",
       "    </tr>\n",
       "    <tr>\n",
       "      <th>22</th>\n",
       "      <td>2015-03-31</td>\n",
       "      <td>100000</td>\n",
       "      <td>Кожевников Андрей Максимович</td>\n",
       "      <td>мужской</td>\n",
       "      <td>1</td>\n",
       "      <td>Директор магазина</td>\n",
       "      <td>11</td>\n",
       "      <td>&lt;NA&gt;</td>\n",
       "      <td>1</td>\n",
       "      <td>0</td>\n",
       "      <td>1987-03-11</td>\n",
       "      <td>высшее</td>\n",
       "      <td>5</td>\n",
       "      <td>45700.0</td>\n",
       "    </tr>\n",
       "  </tbody>\n",
       "</table>\n",
       "</div>"
      ],
      "text/plain": [
       "    report_dt  i_pernr                           fio      sex  shop_id  \\\n",
       "0  2015-01-31   100000  Кожевников Андрей Максимович  мужской        1   \n",
       "10 2015-02-28   100000  Кожевников Андрей Максимович  мужской        1   \n",
       "22 2015-03-31   100000  Кожевников Андрей Максимович  мужской        1   \n",
       "\n",
       "             pos_name  pos_id  closest_boss_pos_id  mgmt_flag  salary_fork  \\\n",
       "0   Директор магазина      11                 <NA>          1            0   \n",
       "10  Директор магазина      11                 <NA>          1            0   \n",
       "22  Директор магазина      11                 <NA>          1            0   \n",
       "\n",
       "   birth_date education  employee_evaluation   salary  \n",
       "0  1987-03-11    высшее                    5  45700.0  \n",
       "10 1987-03-11    высшее                    5  45700.0  \n",
       "22 1987-03-11    высшее                    5  45700.0  "
      ]
     },
     "execution_count": 70,
     "metadata": {},
     "output_type": "execute_result"
    }
   ],
   "source": [
    "empl[empl['salary_fork'] == 1 & empl['closest_boss_pos_id'].notnull()].head(3)"
   ]
  },
  {
   "cell_type": "markdown",
   "id": "ec8d62af",
   "metadata": {},
   "source": [
    "Если использовать скобки (правильный вариант)"
   ]
  },
  {
   "cell_type": "code",
   "execution_count": 71,
   "id": "7a36222c",
   "metadata": {
    "scrolled": true
   },
   "outputs": [
    {
     "data": {
      "text/html": [
       "<div>\n",
       "<style scoped>\n",
       "    .dataframe tbody tr th:only-of-type {\n",
       "        vertical-align: middle;\n",
       "    }\n",
       "\n",
       "    .dataframe tbody tr th {\n",
       "        vertical-align: top;\n",
       "    }\n",
       "\n",
       "    .dataframe thead th {\n",
       "        text-align: right;\n",
       "    }\n",
       "</style>\n",
       "<table border=\"1\" class=\"dataframe\">\n",
       "  <thead>\n",
       "    <tr style=\"text-align: right;\">\n",
       "      <th></th>\n",
       "      <th>report_dt</th>\n",
       "      <th>i_pernr</th>\n",
       "      <th>fio</th>\n",
       "      <th>sex</th>\n",
       "      <th>shop_id</th>\n",
       "      <th>pos_name</th>\n",
       "      <th>pos_id</th>\n",
       "      <th>closest_boss_pos_id</th>\n",
       "      <th>mgmt_flag</th>\n",
       "      <th>salary_fork</th>\n",
       "      <th>birth_date</th>\n",
       "      <th>education</th>\n",
       "      <th>employee_evaluation</th>\n",
       "      <th>salary</th>\n",
       "    </tr>\n",
       "  </thead>\n",
       "  <tbody>\n",
       "    <tr>\n",
       "      <th>41</th>\n",
       "      <td>2015-04-30</td>\n",
       "      <td>3</td>\n",
       "      <td>Черняева Валерия Глебовна</td>\n",
       "      <td>женский</td>\n",
       "      <td>1</td>\n",
       "      <td>Продавец-консультант</td>\n",
       "      <td>17</td>\n",
       "      <td>11</td>\n",
       "      <td>0</td>\n",
       "      <td>1</td>\n",
       "      <td>1988-07-17</td>\n",
       "      <td>среднее общее</td>\n",
       "      <td>6</td>\n",
       "      <td>18800.0</td>\n",
       "    </tr>\n",
       "    <tr>\n",
       "      <th>72</th>\n",
       "      <td>2015-05-31</td>\n",
       "      <td>3</td>\n",
       "      <td>Черняева Валерия Глебовна</td>\n",
       "      <td>женский</td>\n",
       "      <td>1</td>\n",
       "      <td>Продавец-консультант</td>\n",
       "      <td>17</td>\n",
       "      <td>11</td>\n",
       "      <td>0</td>\n",
       "      <td>1</td>\n",
       "      <td>1988-07-17</td>\n",
       "      <td>среднее общее</td>\n",
       "      <td>6</td>\n",
       "      <td>18800.0</td>\n",
       "    </tr>\n",
       "    <tr>\n",
       "      <th>109</th>\n",
       "      <td>2015-06-30</td>\n",
       "      <td>3</td>\n",
       "      <td>Черняева Валерия Глебовна</td>\n",
       "      <td>женский</td>\n",
       "      <td>1</td>\n",
       "      <td>Продавец-консультант</td>\n",
       "      <td>17</td>\n",
       "      <td>11</td>\n",
       "      <td>0</td>\n",
       "      <td>1</td>\n",
       "      <td>1988-07-17</td>\n",
       "      <td>среднее общее</td>\n",
       "      <td>6</td>\n",
       "      <td>18800.0</td>\n",
       "    </tr>\n",
       "  </tbody>\n",
       "</table>\n",
       "</div>"
      ],
      "text/plain": [
       "     report_dt  i_pernr                        fio      sex  shop_id  \\\n",
       "41  2015-04-30        3  Черняева Валерия Глебовна  женский        1   \n",
       "72  2015-05-31        3  Черняева Валерия Глебовна  женский        1   \n",
       "109 2015-06-30        3  Черняева Валерия Глебовна  женский        1   \n",
       "\n",
       "                 pos_name  pos_id  closest_boss_pos_id  mgmt_flag  \\\n",
       "41   Продавец-консультант      17                   11          0   \n",
       "72   Продавец-консультант      17                   11          0   \n",
       "109  Продавец-консультант      17                   11          0   \n",
       "\n",
       "     salary_fork birth_date      education  employee_evaluation   salary  \n",
       "41             1 1988-07-17  среднее общее                    6  18800.0  \n",
       "72             1 1988-07-17  среднее общее                    6  18800.0  \n",
       "109            1 1988-07-17  среднее общее                    6  18800.0  "
      ]
     },
     "execution_count": 71,
     "metadata": {},
     "output_type": "execute_result"
    }
   ],
   "source": [
    "empl[(empl['salary_fork'] == 1) & empl['closest_boss_pos_id'].notnull()].head(3)"
   ]
  },
  {
   "cell_type": "markdown",
   "id": "5f8dff21",
   "metadata": {},
   "source": [
    "Приоритет у операций и (&), или (|)  выше, чем у операции проверки на равенство"
   ]
  },
  {
   "cell_type": "code",
   "execution_count": 72,
   "id": "76a0dadc",
   "metadata": {},
   "outputs": [
    {
     "data": {
      "text/plain": [
       "True"
      ]
     },
     "execution_count": 72,
     "metadata": {},
     "output_type": "execute_result"
    }
   ],
   "source": [
    "1 == True"
   ]
  },
  {
   "cell_type": "code",
   "execution_count": 73,
   "id": "8085959d",
   "metadata": {},
   "outputs": [
    {
     "data": {
      "text/plain": [
       "True"
      ]
     },
     "execution_count": 73,
     "metadata": {},
     "output_type": "execute_result"
    }
   ],
   "source": [
    "0 == False"
   ]
  },
  {
   "cell_type": "markdown",
   "id": "86b6b61c",
   "metadata": {},
   "source": [
    "Порядок операций, когда мы не используем скобки:"
   ]
  },
  {
   "cell_type": "code",
   "execution_count": 74,
   "id": "dc83f137",
   "metadata": {},
   "outputs": [
    {
     "data": {
      "text/plain": [
       "0        False\n",
       "1         True\n",
       "2         True\n",
       "3         True\n",
       "4         True\n",
       "         ...  \n",
       "29367     True\n",
       "29368     True\n",
       "29369     True\n",
       "29370     True\n",
       "29371     True\n",
       "Name: closest_boss_pos_id, Length: 29372, dtype: bool"
      ]
     },
     "execution_count": 74,
     "metadata": {},
     "output_type": "execute_result"
    }
   ],
   "source": [
    "empl['closest_boss_pos_id'].notnull()"
   ]
  },
  {
   "cell_type": "code",
   "execution_count": 75,
   "id": "d49a6b12",
   "metadata": {},
   "outputs": [
    {
     "data": {
      "text/plain": [
       "0        False\n",
       "1         True\n",
       "2         True\n",
       "3         True\n",
       "4         True\n",
       "         ...  \n",
       "29367     True\n",
       "29368     True\n",
       "29369     True\n",
       "29370     True\n",
       "29371     True\n",
       "Name: closest_boss_pos_id, Length: 29372, dtype: bool"
      ]
     },
     "execution_count": 75,
     "metadata": {},
     "output_type": "execute_result"
    }
   ],
   "source": [
    "cnd = 1 & empl['closest_boss_pos_id'].notnull()\n",
    "\n",
    "# Внутри это условие воспринимается точно так же как\n",
    "True & empl['closest_boss_pos_id'].notnull()"
   ]
  },
  {
   "cell_type": "code",
   "execution_count": null,
   "id": "a983acbb",
   "metadata": {},
   "outputs": [],
   "source": [
    "empl[empl['salary_fork'] == 1 & empl['closest_boss_pos_id'].notnull()].head(3)\n",
    "empl[empl['salary_fork'] == (1 & empl['closest_boss_pos_id'].notnull())].head(3)"
   ]
  },
  {
   "cell_type": "code",
   "execution_count": null,
   "id": "3e554c9b",
   "metadata": {},
   "outputs": [],
   "source": []
  },
  {
   "cell_type": "code",
   "execution_count": null,
   "id": "dc5fd10c",
   "metadata": {},
   "outputs": [],
   "source": []
  },
  {
   "cell_type": "code",
   "execution_count": null,
   "id": "a8643d47",
   "metadata": {},
   "outputs": [],
   "source": []
  },
  {
   "cell_type": "code",
   "execution_count": null,
   "id": "690a546b",
   "metadata": {},
   "outputs": [],
   "source": []
  },
  {
   "cell_type": "markdown",
   "id": "7525ab71",
   "metadata": {},
   "source": [
    "# Метод query"
   ]
  },
  {
   "cell_type": "code",
   "execution_count": 76,
   "id": "9e7d4369",
   "metadata": {},
   "outputs": [
    {
     "data": {
      "text/html": [
       "<div>\n",
       "<style scoped>\n",
       "    .dataframe tbody tr th:only-of-type {\n",
       "        vertical-align: middle;\n",
       "    }\n",
       "\n",
       "    .dataframe tbody tr th {\n",
       "        vertical-align: top;\n",
       "    }\n",
       "\n",
       "    .dataframe thead th {\n",
       "        text-align: right;\n",
       "    }\n",
       "</style>\n",
       "<table border=\"1\" class=\"dataframe\">\n",
       "  <thead>\n",
       "    <tr style=\"text-align: right;\">\n",
       "      <th></th>\n",
       "      <th>report_dt</th>\n",
       "      <th>i_pernr</th>\n",
       "      <th>fio</th>\n",
       "      <th>sex</th>\n",
       "      <th>shop_id</th>\n",
       "      <th>pos_name</th>\n",
       "      <th>pos_id</th>\n",
       "      <th>closest_boss_pos_id</th>\n",
       "      <th>mgmt_flag</th>\n",
       "      <th>salary_fork</th>\n",
       "      <th>birth_date</th>\n",
       "      <th>education</th>\n",
       "      <th>employee_evaluation</th>\n",
       "      <th>salary</th>\n",
       "    </tr>\n",
       "  </thead>\n",
       "  <tbody>\n",
       "    <tr>\n",
       "      <th>41</th>\n",
       "      <td>2015-04-30</td>\n",
       "      <td>3</td>\n",
       "      <td>Черняева Валерия Глебовна</td>\n",
       "      <td>женский</td>\n",
       "      <td>1</td>\n",
       "      <td>Продавец-консультант</td>\n",
       "      <td>17</td>\n",
       "      <td>11</td>\n",
       "      <td>0</td>\n",
       "      <td>1</td>\n",
       "      <td>1988-07-17</td>\n",
       "      <td>среднее общее</td>\n",
       "      <td>6</td>\n",
       "      <td>18800.0</td>\n",
       "    </tr>\n",
       "    <tr>\n",
       "      <th>72</th>\n",
       "      <td>2015-05-31</td>\n",
       "      <td>3</td>\n",
       "      <td>Черняева Валерия Глебовна</td>\n",
       "      <td>женский</td>\n",
       "      <td>1</td>\n",
       "      <td>Продавец-консультант</td>\n",
       "      <td>17</td>\n",
       "      <td>11</td>\n",
       "      <td>0</td>\n",
       "      <td>1</td>\n",
       "      <td>1988-07-17</td>\n",
       "      <td>среднее общее</td>\n",
       "      <td>6</td>\n",
       "      <td>18800.0</td>\n",
       "    </tr>\n",
       "    <tr>\n",
       "      <th>109</th>\n",
       "      <td>2015-06-30</td>\n",
       "      <td>3</td>\n",
       "      <td>Черняева Валерия Глебовна</td>\n",
       "      <td>женский</td>\n",
       "      <td>1</td>\n",
       "      <td>Продавец-консультант</td>\n",
       "      <td>17</td>\n",
       "      <td>11</td>\n",
       "      <td>0</td>\n",
       "      <td>1</td>\n",
       "      <td>1988-07-17</td>\n",
       "      <td>среднее общее</td>\n",
       "      <td>6</td>\n",
       "      <td>18800.0</td>\n",
       "    </tr>\n",
       "  </tbody>\n",
       "</table>\n",
       "</div>"
      ],
      "text/plain": [
       "     report_dt  i_pernr                        fio      sex  shop_id  \\\n",
       "41  2015-04-30        3  Черняева Валерия Глебовна  женский        1   \n",
       "72  2015-05-31        3  Черняева Валерия Глебовна  женский        1   \n",
       "109 2015-06-30        3  Черняева Валерия Глебовна  женский        1   \n",
       "\n",
       "                 pos_name  pos_id  closest_boss_pos_id  mgmt_flag  \\\n",
       "41   Продавец-консультант      17                   11          0   \n",
       "72   Продавец-консультант      17                   11          0   \n",
       "109  Продавец-консультант      17                   11          0   \n",
       "\n",
       "     salary_fork birth_date      education  employee_evaluation   salary  \n",
       "41             1 1988-07-17  среднее общее                    6  18800.0  \n",
       "72             1 1988-07-17  среднее общее                    6  18800.0  \n",
       "109            1 1988-07-17  среднее общее                    6  18800.0  "
      ]
     },
     "execution_count": 76,
     "metadata": {},
     "output_type": "execute_result"
    }
   ],
   "source": [
    "empl.query('salary_fork == 1').head(3)"
   ]
  },
  {
   "cell_type": "code",
   "execution_count": 77,
   "id": "95a66bbb",
   "metadata": {},
   "outputs": [
    {
     "data": {
      "text/html": [
       "<div>\n",
       "<style scoped>\n",
       "    .dataframe tbody tr th:only-of-type {\n",
       "        vertical-align: middle;\n",
       "    }\n",
       "\n",
       "    .dataframe tbody tr th {\n",
       "        vertical-align: top;\n",
       "    }\n",
       "\n",
       "    .dataframe thead th {\n",
       "        text-align: right;\n",
       "    }\n",
       "</style>\n",
       "<table border=\"1\" class=\"dataframe\">\n",
       "  <thead>\n",
       "    <tr style=\"text-align: right;\">\n",
       "      <th></th>\n",
       "      <th>report_dt</th>\n",
       "      <th>i_pernr</th>\n",
       "      <th>fio</th>\n",
       "      <th>sex</th>\n",
       "      <th>shop_id</th>\n",
       "      <th>pos_name</th>\n",
       "      <th>pos_id</th>\n",
       "      <th>closest_boss_pos_id</th>\n",
       "      <th>mgmt_flag</th>\n",
       "      <th>salary_fork</th>\n",
       "      <th>birth_date</th>\n",
       "      <th>education</th>\n",
       "      <th>employee_evaluation</th>\n",
       "      <th>salary</th>\n",
       "    </tr>\n",
       "  </thead>\n",
       "  <tbody>\n",
       "    <tr>\n",
       "      <th>4</th>\n",
       "      <td>2015-01-31</td>\n",
       "      <td>3</td>\n",
       "      <td>Черняева Валерия Глебовна</td>\n",
       "      <td>женский</td>\n",
       "      <td>1</td>\n",
       "      <td>Продавец-консультант</td>\n",
       "      <td>17</td>\n",
       "      <td>11</td>\n",
       "      <td>0</td>\n",
       "      <td>0</td>\n",
       "      <td>1988-07-17</td>\n",
       "      <td>среднее общее</td>\n",
       "      <td>&lt;NA&gt;</td>\n",
       "      <td>15400.0</td>\n",
       "    </tr>\n",
       "    <tr>\n",
       "      <th>5</th>\n",
       "      <td>2015-01-31</td>\n",
       "      <td>4</td>\n",
       "      <td>Никифоров Даниил Глебович</td>\n",
       "      <td>мужской</td>\n",
       "      <td>1</td>\n",
       "      <td>Продавец-консультант</td>\n",
       "      <td>18</td>\n",
       "      <td>11</td>\n",
       "      <td>0</td>\n",
       "      <td>0</td>\n",
       "      <td>1967-10-01</td>\n",
       "      <td>среднее профессиональное</td>\n",
       "      <td>&lt;NA&gt;</td>\n",
       "      <td>15400.0</td>\n",
       "    </tr>\n",
       "    <tr>\n",
       "      <th>6</th>\n",
       "      <td>2015-01-31</td>\n",
       "      <td>5</td>\n",
       "      <td>Грачев Даниил Артёмович</td>\n",
       "      <td>мужской</td>\n",
       "      <td>1</td>\n",
       "      <td>Продавец-консультант</td>\n",
       "      <td>19</td>\n",
       "      <td>11</td>\n",
       "      <td>0</td>\n",
       "      <td>0</td>\n",
       "      <td>1987-02-27</td>\n",
       "      <td>основное общее</td>\n",
       "      <td>&lt;NA&gt;</td>\n",
       "      <td>15400.0</td>\n",
       "    </tr>\n",
       "  </tbody>\n",
       "</table>\n",
       "</div>"
      ],
      "text/plain": [
       "   report_dt  i_pernr                        fio      sex  shop_id  \\\n",
       "4 2015-01-31        3  Черняева Валерия Глебовна  женский        1   \n",
       "5 2015-01-31        4  Никифоров Даниил Глебович  мужской        1   \n",
       "6 2015-01-31        5    Грачев Даниил Артёмович  мужской        1   \n",
       "\n",
       "               pos_name  pos_id  closest_boss_pos_id  mgmt_flag  salary_fork  \\\n",
       "4  Продавец-консультант      17                   11          0            0   \n",
       "5  Продавец-консультант      18                   11          0            0   \n",
       "6  Продавец-консультант      19                   11          0            0   \n",
       "\n",
       "  birth_date                 education  employee_evaluation   salary  \n",
       "4 1988-07-17             среднее общее                 <NA>  15400.0  \n",
       "5 1967-10-01  среднее профессиональное                 <NA>  15400.0  \n",
       "6 1987-02-27            основное общее                 <NA>  15400.0  "
      ]
     },
     "execution_count": 77,
     "metadata": {},
     "output_type": "execute_result"
    }
   ],
   "source": [
    "empl.query('pos_name == \"Продавец-консультант\"').head(3)"
   ]
  },
  {
   "cell_type": "code",
   "execution_count": 78,
   "id": "fb17d3c5",
   "metadata": {},
   "outputs": [
    {
     "data": {
      "text/html": [
       "<div>\n",
       "<style scoped>\n",
       "    .dataframe tbody tr th:only-of-type {\n",
       "        vertical-align: middle;\n",
       "    }\n",
       "\n",
       "    .dataframe tbody tr th {\n",
       "        vertical-align: top;\n",
       "    }\n",
       "\n",
       "    .dataframe thead th {\n",
       "        text-align: right;\n",
       "    }\n",
       "</style>\n",
       "<table border=\"1\" class=\"dataframe\">\n",
       "  <thead>\n",
       "    <tr style=\"text-align: right;\">\n",
       "      <th></th>\n",
       "      <th>report_dt</th>\n",
       "      <th>i_pernr</th>\n",
       "      <th>fio</th>\n",
       "      <th>sex</th>\n",
       "      <th>shop_id</th>\n",
       "      <th>pos_name</th>\n",
       "      <th>pos_id</th>\n",
       "      <th>closest_boss_pos_id</th>\n",
       "      <th>mgmt_flag</th>\n",
       "      <th>salary_fork</th>\n",
       "      <th>birth_date</th>\n",
       "      <th>education</th>\n",
       "      <th>employee_evaluation</th>\n",
       "      <th>salary</th>\n",
       "    </tr>\n",
       "  </thead>\n",
       "  <tbody>\n",
       "    <tr>\n",
       "      <th>28885</th>\n",
       "      <td>2022-12-31</td>\n",
       "      <td>100213</td>\n",
       "      <td>Васильева Дарья Тимуровна</td>\n",
       "      <td>женский</td>\n",
       "      <td>1</td>\n",
       "      <td>Директор магазина</td>\n",
       "      <td>11</td>\n",
       "      <td>&lt;NA&gt;</td>\n",
       "      <td>1</td>\n",
       "      <td>0</td>\n",
       "      <td>1994-02-16</td>\n",
       "      <td>среднее профессиональное</td>\n",
       "      <td>4</td>\n",
       "      <td>76600.0</td>\n",
       "    </tr>\n",
       "    <tr>\n",
       "      <th>28886</th>\n",
       "      <td>2022-12-31</td>\n",
       "      <td>36</td>\n",
       "      <td>Балашов Петр Максимович</td>\n",
       "      <td>мужской</td>\n",
       "      <td>1</td>\n",
       "      <td>Старший кассир</td>\n",
       "      <td>12</td>\n",
       "      <td>11</td>\n",
       "      <td>0</td>\n",
       "      <td>2</td>\n",
       "      <td>1980-09-16</td>\n",
       "      <td>высшее</td>\n",
       "      <td>7</td>\n",
       "      <td>42700.0</td>\n",
       "    </tr>\n",
       "    <tr>\n",
       "      <th>28887</th>\n",
       "      <td>2022-12-31</td>\n",
       "      <td>712</td>\n",
       "      <td>Филимонов Дмитрий Васильевич</td>\n",
       "      <td>мужской</td>\n",
       "      <td>1</td>\n",
       "      <td>Кассир</td>\n",
       "      <td>13</td>\n",
       "      <td>12</td>\n",
       "      <td>0</td>\n",
       "      <td>1</td>\n",
       "      <td>1974-12-12</td>\n",
       "      <td>основное общее</td>\n",
       "      <td>4</td>\n",
       "      <td>25000.0</td>\n",
       "    </tr>\n",
       "  </tbody>\n",
       "</table>\n",
       "</div>"
      ],
      "text/plain": [
       "       report_dt  i_pernr                           fio      sex  shop_id  \\\n",
       "28885 2022-12-31   100213     Васильева Дарья Тимуровна  женский        1   \n",
       "28886 2022-12-31       36       Балашов Петр Максимович  мужской        1   \n",
       "28887 2022-12-31      712  Филимонов Дмитрий Васильевич  мужской        1   \n",
       "\n",
       "                pos_name  pos_id  closest_boss_pos_id  mgmt_flag  salary_fork  \\\n",
       "28885  Директор магазина      11                 <NA>          1            0   \n",
       "28886     Старший кассир      12                   11          0            2   \n",
       "28887             Кассир      13                   12          0            1   \n",
       "\n",
       "      birth_date                 education  employee_evaluation   salary  \n",
       "28885 1994-02-16  среднее профессиональное                    4  76600.0  \n",
       "28886 1980-09-16                    высшее                    7  42700.0  \n",
       "28887 1974-12-12            основное общее                    4  25000.0  "
      ]
     },
     "execution_count": 78,
     "metadata": {},
     "output_type": "execute_result"
    }
   ],
   "source": [
    "empl.query(\"report_dt == '2022-12-31'\").head(3)"
   ]
  },
  {
   "cell_type": "code",
   "execution_count": 79,
   "id": "2ccbbee7",
   "metadata": {},
   "outputs": [
    {
     "data": {
      "text/html": [
       "<div>\n",
       "<style scoped>\n",
       "    .dataframe tbody tr th:only-of-type {\n",
       "        vertical-align: middle;\n",
       "    }\n",
       "\n",
       "    .dataframe tbody tr th {\n",
       "        vertical-align: top;\n",
       "    }\n",
       "\n",
       "    .dataframe thead th {\n",
       "        text-align: right;\n",
       "    }\n",
       "</style>\n",
       "<table border=\"1\" class=\"dataframe\">\n",
       "  <thead>\n",
       "    <tr style=\"text-align: right;\">\n",
       "      <th></th>\n",
       "      <th>report_dt</th>\n",
       "      <th>i_pernr</th>\n",
       "      <th>fio</th>\n",
       "      <th>sex</th>\n",
       "      <th>shop_id</th>\n",
       "      <th>pos_name</th>\n",
       "      <th>pos_id</th>\n",
       "      <th>closest_boss_pos_id</th>\n",
       "      <th>mgmt_flag</th>\n",
       "      <th>salary_fork</th>\n",
       "      <th>birth_date</th>\n",
       "      <th>education</th>\n",
       "      <th>employee_evaluation</th>\n",
       "      <th>salary</th>\n",
       "    </tr>\n",
       "  </thead>\n",
       "  <tbody>\n",
       "    <tr>\n",
       "      <th>23199</th>\n",
       "      <td>2021-12-31</td>\n",
       "      <td>100173</td>\n",
       "      <td>Макеева Вероника Григорьевна</td>\n",
       "      <td>женский</td>\n",
       "      <td>1</td>\n",
       "      <td>Директор магазина</td>\n",
       "      <td>11</td>\n",
       "      <td>&lt;NA&gt;</td>\n",
       "      <td>1</td>\n",
       "      <td>0</td>\n",
       "      <td>1967-05-31</td>\n",
       "      <td>высшее</td>\n",
       "      <td>4</td>\n",
       "      <td>70800.0</td>\n",
       "    </tr>\n",
       "    <tr>\n",
       "      <th>23200</th>\n",
       "      <td>2021-12-31</td>\n",
       "      <td>36</td>\n",
       "      <td>Балашов Петр Максимович</td>\n",
       "      <td>мужской</td>\n",
       "      <td>1</td>\n",
       "      <td>Старший кассир</td>\n",
       "      <td>12</td>\n",
       "      <td>11</td>\n",
       "      <td>0</td>\n",
       "      <td>2</td>\n",
       "      <td>1980-09-16</td>\n",
       "      <td>высшее</td>\n",
       "      <td>7</td>\n",
       "      <td>39900.0</td>\n",
       "    </tr>\n",
       "    <tr>\n",
       "      <th>23201</th>\n",
       "      <td>2021-12-31</td>\n",
       "      <td>1334</td>\n",
       "      <td>Максимов Даниил Андреевич</td>\n",
       "      <td>мужской</td>\n",
       "      <td>1</td>\n",
       "      <td>Кассир</td>\n",
       "      <td>13</td>\n",
       "      <td>12</td>\n",
       "      <td>0</td>\n",
       "      <td>2</td>\n",
       "      <td>1973-10-20</td>\n",
       "      <td>среднее профессиональное</td>\n",
       "      <td>6</td>\n",
       "      <td>27200.0</td>\n",
       "    </tr>\n",
       "  </tbody>\n",
       "</table>\n",
       "</div>"
      ],
      "text/plain": [
       "       report_dt  i_pernr                           fio      sex  shop_id  \\\n",
       "23199 2021-12-31   100173  Макеева Вероника Григорьевна  женский        1   \n",
       "23200 2021-12-31       36       Балашов Петр Максимович  мужской        1   \n",
       "23201 2021-12-31     1334     Максимов Даниил Андреевич  мужской        1   \n",
       "\n",
       "                pos_name  pos_id  closest_boss_pos_id  mgmt_flag  salary_fork  \\\n",
       "23199  Директор магазина      11                 <NA>          1            0   \n",
       "23200     Старший кассир      12                   11          0            2   \n",
       "23201             Кассир      13                   12          0            2   \n",
       "\n",
       "      birth_date                 education  employee_evaluation   salary  \n",
       "23199 1967-05-31                    высшее                    4  70800.0  \n",
       "23200 1980-09-16                    высшее                    7  39900.0  \n",
       "23201 1973-10-20  среднее профессиональное                    6  27200.0  "
      ]
     },
     "execution_count": 79,
     "metadata": {},
     "output_type": "execute_result"
    }
   ],
   "source": [
    "empl.query('report_dt >= \"2021-12-31\"').head(3)"
   ]
  },
  {
   "cell_type": "code",
   "execution_count": null,
   "id": "75ed8087",
   "metadata": {},
   "outputs": [],
   "source": []
  },
  {
   "cell_type": "code",
   "execution_count": null,
   "id": "bf7a6431",
   "metadata": {},
   "outputs": [],
   "source": []
  },
  {
   "cell_type": "markdown",
   "id": "cc18c644",
   "metadata": {},
   "source": [
    "#### Две нижние записи значат одно и то же"
   ]
  },
  {
   "cell_type": "markdown",
   "id": "19cdbb30",
   "metadata": {},
   "source": [
    "Внутри метода можно использовать стандартные питоновские операторы"
   ]
  },
  {
   "cell_type": "code",
   "execution_count": 80,
   "id": "36c5e262",
   "metadata": {},
   "outputs": [
    {
     "data": {
      "text/html": [
       "<div>\n",
       "<style scoped>\n",
       "    .dataframe tbody tr th:only-of-type {\n",
       "        vertical-align: middle;\n",
       "    }\n",
       "\n",
       "    .dataframe tbody tr th {\n",
       "        vertical-align: top;\n",
       "    }\n",
       "\n",
       "    .dataframe thead th {\n",
       "        text-align: right;\n",
       "    }\n",
       "</style>\n",
       "<table border=\"1\" class=\"dataframe\">\n",
       "  <thead>\n",
       "    <tr style=\"text-align: right;\">\n",
       "      <th></th>\n",
       "      <th>report_dt</th>\n",
       "      <th>i_pernr</th>\n",
       "      <th>fio</th>\n",
       "      <th>sex</th>\n",
       "      <th>shop_id</th>\n",
       "      <th>pos_name</th>\n",
       "      <th>pos_id</th>\n",
       "      <th>closest_boss_pos_id</th>\n",
       "      <th>mgmt_flag</th>\n",
       "      <th>salary_fork</th>\n",
       "      <th>birth_date</th>\n",
       "      <th>education</th>\n",
       "      <th>employee_evaluation</th>\n",
       "      <th>salary</th>\n",
       "    </tr>\n",
       "  </thead>\n",
       "  <tbody>\n",
       "    <tr>\n",
       "      <th>23201</th>\n",
       "      <td>2021-12-31</td>\n",
       "      <td>1334</td>\n",
       "      <td>Максимов Даниил Андреевич</td>\n",
       "      <td>мужской</td>\n",
       "      <td>1</td>\n",
       "      <td>Кассир</td>\n",
       "      <td>13</td>\n",
       "      <td>12</td>\n",
       "      <td>0</td>\n",
       "      <td>2</td>\n",
       "      <td>1973-10-20</td>\n",
       "      <td>среднее профессиональное</td>\n",
       "      <td>6</td>\n",
       "      <td>27200.0</td>\n",
       "    </tr>\n",
       "    <tr>\n",
       "      <th>23202</th>\n",
       "      <td>2021-12-31</td>\n",
       "      <td>1479</td>\n",
       "      <td>Стариков Данил Александрович</td>\n",
       "      <td>мужской</td>\n",
       "      <td>1</td>\n",
       "      <td>Кассир</td>\n",
       "      <td>14</td>\n",
       "      <td>12</td>\n",
       "      <td>0</td>\n",
       "      <td>0</td>\n",
       "      <td>1986-03-28</td>\n",
       "      <td>среднее профессиональное</td>\n",
       "      <td>5</td>\n",
       "      <td>19700.0</td>\n",
       "    </tr>\n",
       "    <tr>\n",
       "      <th>23203</th>\n",
       "      <td>2021-12-31</td>\n",
       "      <td>1310</td>\n",
       "      <td>Киреев Дмитрий Кириллович</td>\n",
       "      <td>мужской</td>\n",
       "      <td>1</td>\n",
       "      <td>Кассир</td>\n",
       "      <td>15</td>\n",
       "      <td>12</td>\n",
       "      <td>0</td>\n",
       "      <td>1</td>\n",
       "      <td>1978-05-15</td>\n",
       "      <td>среднее общее</td>\n",
       "      <td>6</td>\n",
       "      <td>22400.0</td>\n",
       "    </tr>\n",
       "  </tbody>\n",
       "</table>\n",
       "</div>"
      ],
      "text/plain": [
       "       report_dt  i_pernr                           fio      sex  shop_id  \\\n",
       "23201 2021-12-31     1334     Максимов Даниил Андреевич  мужской        1   \n",
       "23202 2021-12-31     1479  Стариков Данил Александрович  мужской        1   \n",
       "23203 2021-12-31     1310     Киреев Дмитрий Кириллович  мужской        1   \n",
       "\n",
       "      pos_name  pos_id  closest_boss_pos_id  mgmt_flag  salary_fork  \\\n",
       "23201   Кассир      13                   12          0            2   \n",
       "23202   Кассир      14                   12          0            0   \n",
       "23203   Кассир      15                   12          0            1   \n",
       "\n",
       "      birth_date                 education  employee_evaluation   salary  \n",
       "23201 1973-10-20  среднее профессиональное                    6  27200.0  \n",
       "23202 1986-03-28  среднее профессиональное                    5  19700.0  \n",
       "23203 1978-05-15             среднее общее                    6  22400.0  "
      ]
     },
     "execution_count": 80,
     "metadata": {},
     "output_type": "execute_result"
    }
   ],
   "source": [
    "empl.query('(report_dt >= \"2021-12-31\") and (pos_name == \"Кассир\")').head(3)"
   ]
  },
  {
   "cell_type": "code",
   "execution_count": 81,
   "id": "f920ef48",
   "metadata": {},
   "outputs": [
    {
     "data": {
      "text/html": [
       "<div>\n",
       "<style scoped>\n",
       "    .dataframe tbody tr th:only-of-type {\n",
       "        vertical-align: middle;\n",
       "    }\n",
       "\n",
       "    .dataframe tbody tr th {\n",
       "        vertical-align: top;\n",
       "    }\n",
       "\n",
       "    .dataframe thead th {\n",
       "        text-align: right;\n",
       "    }\n",
       "</style>\n",
       "<table border=\"1\" class=\"dataframe\">\n",
       "  <thead>\n",
       "    <tr style=\"text-align: right;\">\n",
       "      <th></th>\n",
       "      <th>report_dt</th>\n",
       "      <th>i_pernr</th>\n",
       "      <th>fio</th>\n",
       "      <th>sex</th>\n",
       "      <th>shop_id</th>\n",
       "      <th>pos_name</th>\n",
       "      <th>pos_id</th>\n",
       "      <th>closest_boss_pos_id</th>\n",
       "      <th>mgmt_flag</th>\n",
       "      <th>salary_fork</th>\n",
       "      <th>birth_date</th>\n",
       "      <th>education</th>\n",
       "      <th>employee_evaluation</th>\n",
       "      <th>salary</th>\n",
       "    </tr>\n",
       "  </thead>\n",
       "  <tbody>\n",
       "    <tr>\n",
       "      <th>0</th>\n",
       "      <td>2015-01-31</td>\n",
       "      <td>100000</td>\n",
       "      <td>Кожевников Андрей Максимович</td>\n",
       "      <td>мужской</td>\n",
       "      <td>1</td>\n",
       "      <td>Директор магазина</td>\n",
       "      <td>11</td>\n",
       "      <td>&lt;NA&gt;</td>\n",
       "      <td>1</td>\n",
       "      <td>0</td>\n",
       "      <td>1987-03-11</td>\n",
       "      <td>высшее</td>\n",
       "      <td>5</td>\n",
       "      <td>45700.0</td>\n",
       "    </tr>\n",
       "    <tr>\n",
       "      <th>1</th>\n",
       "      <td>2015-01-31</td>\n",
       "      <td>0</td>\n",
       "      <td>Дубинина Надежда Николаевна</td>\n",
       "      <td>женский</td>\n",
       "      <td>1</td>\n",
       "      <td>Старший кассир</td>\n",
       "      <td>12</td>\n",
       "      <td>11</td>\n",
       "      <td>0</td>\n",
       "      <td>0</td>\n",
       "      <td>1971-07-07</td>\n",
       "      <td>среднее профессиональное</td>\n",
       "      <td>5</td>\n",
       "      <td>20000.0</td>\n",
       "    </tr>\n",
       "    <tr>\n",
       "      <th>4</th>\n",
       "      <td>2015-01-31</td>\n",
       "      <td>3</td>\n",
       "      <td>Черняева Валерия Глебовна</td>\n",
       "      <td>женский</td>\n",
       "      <td>1</td>\n",
       "      <td>Продавец-консультант</td>\n",
       "      <td>17</td>\n",
       "      <td>11</td>\n",
       "      <td>0</td>\n",
       "      <td>0</td>\n",
       "      <td>1988-07-17</td>\n",
       "      <td>среднее общее</td>\n",
       "      <td>&lt;NA&gt;</td>\n",
       "      <td>15400.0</td>\n",
       "    </tr>\n",
       "  </tbody>\n",
       "</table>\n",
       "</div>"
      ],
      "text/plain": [
       "   report_dt  i_pernr                           fio      sex  shop_id  \\\n",
       "0 2015-01-31   100000  Кожевников Андрей Максимович  мужской        1   \n",
       "1 2015-01-31        0   Дубинина Надежда Николаевна  женский        1   \n",
       "4 2015-01-31        3     Черняева Валерия Глебовна  женский        1   \n",
       "\n",
       "               pos_name  pos_id  closest_boss_pos_id  mgmt_flag  salary_fork  \\\n",
       "0     Директор магазина      11                 <NA>          1            0   \n",
       "1        Старший кассир      12                   11          0            0   \n",
       "4  Продавец-консультант      17                   11          0            0   \n",
       "\n",
       "  birth_date                 education  employee_evaluation   salary  \n",
       "0 1987-03-11                    высшее                    5  45700.0  \n",
       "1 1971-07-07  среднее профессиональное                    5  20000.0  \n",
       "4 1988-07-17             среднее общее                 <NA>  15400.0  "
      ]
     },
     "execution_count": 81,
     "metadata": {},
     "output_type": "execute_result"
    }
   ],
   "source": [
    "empl.query('(report_dt >= \"2021-12-31\") or not (pos_name == \"Кассир\")').head(3)"
   ]
  },
  {
   "cell_type": "markdown",
   "id": "a6f5cacd",
   "metadata": {},
   "source": [
    "Проверка на вхождение"
   ]
  },
  {
   "cell_type": "code",
   "execution_count": 82,
   "id": "5823aeb3",
   "metadata": {},
   "outputs": [
    {
     "data": {
      "text/html": [
       "<div>\n",
       "<style scoped>\n",
       "    .dataframe tbody tr th:only-of-type {\n",
       "        vertical-align: middle;\n",
       "    }\n",
       "\n",
       "    .dataframe tbody tr th {\n",
       "        vertical-align: top;\n",
       "    }\n",
       "\n",
       "    .dataframe thead th {\n",
       "        text-align: right;\n",
       "    }\n",
       "</style>\n",
       "<table border=\"1\" class=\"dataframe\">\n",
       "  <thead>\n",
       "    <tr style=\"text-align: right;\">\n",
       "      <th></th>\n",
       "      <th>ФИО</th>\n",
       "      <th>Пол</th>\n",
       "      <th>Математика</th>\n",
       "      <th>Русский язык</th>\n",
       "      <th>Литература</th>\n",
       "      <th>Физика</th>\n",
       "      <th>История</th>\n",
       "      <th>Физическая культура</th>\n",
       "    </tr>\n",
       "  </thead>\n",
       "  <tbody>\n",
       "    <tr>\n",
       "      <th>0</th>\n",
       "      <td>Суханова Маргарита Богдановна</td>\n",
       "      <td>женский</td>\n",
       "      <td>3</td>\n",
       "      <td>3</td>\n",
       "      <td>3</td>\n",
       "      <td>3</td>\n",
       "      <td>3</td>\n",
       "      <td>5</td>\n",
       "    </tr>\n",
       "    <tr>\n",
       "      <th>1</th>\n",
       "      <td>Лаврентьев Давид Анатольевич</td>\n",
       "      <td>мужской</td>\n",
       "      <td>3</td>\n",
       "      <td>3</td>\n",
       "      <td>3</td>\n",
       "      <td>5</td>\n",
       "      <td>3</td>\n",
       "      <td>3</td>\n",
       "    </tr>\n",
       "    <tr>\n",
       "      <th>2</th>\n",
       "      <td>Винниченко Дарья Максимовна</td>\n",
       "      <td>женский</td>\n",
       "      <td>4</td>\n",
       "      <td>5</td>\n",
       "      <td>5</td>\n",
       "      <td>3</td>\n",
       "      <td>4</td>\n",
       "      <td>5</td>\n",
       "    </tr>\n",
       "  </tbody>\n",
       "</table>\n",
       "</div>"
      ],
      "text/plain": [
       "                             ФИО      Пол  Математика  Русский язык  \\\n",
       "0  Суханова Маргарита Богдановна  женский           3             3   \n",
       "1   Лаврентьев Давид Анатольевич  мужской           3             3   \n",
       "2    Винниченко Дарья Максимовна  женский           4             5   \n",
       "\n",
       "   Литература  Физика  История  Физическая культура  \n",
       "0           3       3        3                    5  \n",
       "1           3       5        3                    3  \n",
       "2           5       3        4                    5  "
      ]
     },
     "execution_count": 82,
     "metadata": {},
     "output_type": "execute_result"
    }
   ],
   "source": [
    "marks.query('Математика in [3, 4]').head(3)"
   ]
  },
  {
   "cell_type": "code",
   "execution_count": 83,
   "id": "8a471139",
   "metadata": {},
   "outputs": [
    {
     "data": {
      "text/html": [
       "<div>\n",
       "<style scoped>\n",
       "    .dataframe tbody tr th:only-of-type {\n",
       "        vertical-align: middle;\n",
       "    }\n",
       "\n",
       "    .dataframe tbody tr th {\n",
       "        vertical-align: top;\n",
       "    }\n",
       "\n",
       "    .dataframe thead th {\n",
       "        text-align: right;\n",
       "    }\n",
       "</style>\n",
       "<table border=\"1\" class=\"dataframe\">\n",
       "  <thead>\n",
       "    <tr style=\"text-align: right;\">\n",
       "      <th></th>\n",
       "      <th>report_dt</th>\n",
       "      <th>i_pernr</th>\n",
       "      <th>fio</th>\n",
       "      <th>sex</th>\n",
       "      <th>shop_id</th>\n",
       "      <th>pos_name</th>\n",
       "      <th>pos_id</th>\n",
       "      <th>closest_boss_pos_id</th>\n",
       "      <th>mgmt_flag</th>\n",
       "      <th>salary_fork</th>\n",
       "      <th>birth_date</th>\n",
       "      <th>education</th>\n",
       "      <th>employee_evaluation</th>\n",
       "      <th>salary</th>\n",
       "    </tr>\n",
       "  </thead>\n",
       "  <tbody>\n",
       "    <tr>\n",
       "      <th>0</th>\n",
       "      <td>2015-01-31</td>\n",
       "      <td>100000</td>\n",
       "      <td>Кожевников Андрей Максимович</td>\n",
       "      <td>мужской</td>\n",
       "      <td>1</td>\n",
       "      <td>Директор магазина</td>\n",
       "      <td>11</td>\n",
       "      <td>&lt;NA&gt;</td>\n",
       "      <td>1</td>\n",
       "      <td>0</td>\n",
       "      <td>1987-03-11</td>\n",
       "      <td>высшее</td>\n",
       "      <td>5</td>\n",
       "      <td>45700.0</td>\n",
       "    </tr>\n",
       "    <tr>\n",
       "      <th>1</th>\n",
       "      <td>2015-01-31</td>\n",
       "      <td>0</td>\n",
       "      <td>Дубинина Надежда Николаевна</td>\n",
       "      <td>женский</td>\n",
       "      <td>1</td>\n",
       "      <td>Старший кассир</td>\n",
       "      <td>12</td>\n",
       "      <td>11</td>\n",
       "      <td>0</td>\n",
       "      <td>0</td>\n",
       "      <td>1971-07-07</td>\n",
       "      <td>среднее профессиональное</td>\n",
       "      <td>5</td>\n",
       "      <td>20000.0</td>\n",
       "    </tr>\n",
       "    <tr>\n",
       "      <th>4</th>\n",
       "      <td>2015-01-31</td>\n",
       "      <td>3</td>\n",
       "      <td>Черняева Валерия Глебовна</td>\n",
       "      <td>женский</td>\n",
       "      <td>1</td>\n",
       "      <td>Продавец-консультант</td>\n",
       "      <td>17</td>\n",
       "      <td>11</td>\n",
       "      <td>0</td>\n",
       "      <td>0</td>\n",
       "      <td>1988-07-17</td>\n",
       "      <td>среднее общее</td>\n",
       "      <td>&lt;NA&gt;</td>\n",
       "      <td>15400.0</td>\n",
       "    </tr>\n",
       "  </tbody>\n",
       "</table>\n",
       "</div>"
      ],
      "text/plain": [
       "   report_dt  i_pernr                           fio      sex  shop_id  \\\n",
       "0 2015-01-31   100000  Кожевников Андрей Максимович  мужской        1   \n",
       "1 2015-01-31        0   Дубинина Надежда Николаевна  женский        1   \n",
       "4 2015-01-31        3     Черняева Валерия Глебовна  женский        1   \n",
       "\n",
       "               pos_name  pos_id  closest_boss_pos_id  mgmt_flag  salary_fork  \\\n",
       "0     Директор магазина      11                 <NA>          1            0   \n",
       "1        Старший кассир      12                   11          0            0   \n",
       "4  Продавец-консультант      17                   11          0            0   \n",
       "\n",
       "  birth_date                 education  employee_evaluation   salary  \n",
       "0 1987-03-11                    высшее                    5  45700.0  \n",
       "1 1971-07-07  среднее профессиональное                    5  20000.0  \n",
       "4 1988-07-17             среднее общее                 <NA>  15400.0  "
      ]
     },
     "execution_count": 83,
     "metadata": {},
     "output_type": "execute_result"
    }
   ],
   "source": [
    "empl.query('(report_dt >= \"2021-12-31\") | ~(pos_name == \"Кассир\")').head(3)"
   ]
  },
  {
   "cell_type": "code",
   "execution_count": 84,
   "id": "bb3a4adf",
   "metadata": {},
   "outputs": [
    {
     "data": {
      "text/html": [
       "<div>\n",
       "<style scoped>\n",
       "    .dataframe tbody tr th:only-of-type {\n",
       "        vertical-align: middle;\n",
       "    }\n",
       "\n",
       "    .dataframe tbody tr th {\n",
       "        vertical-align: top;\n",
       "    }\n",
       "\n",
       "    .dataframe thead th {\n",
       "        text-align: right;\n",
       "    }\n",
       "</style>\n",
       "<table border=\"1\" class=\"dataframe\">\n",
       "  <thead>\n",
       "    <tr style=\"text-align: right;\">\n",
       "      <th></th>\n",
       "      <th>ФИО</th>\n",
       "      <th>Пол</th>\n",
       "      <th>Математика</th>\n",
       "      <th>Русский язык</th>\n",
       "      <th>Литература</th>\n",
       "      <th>Физика</th>\n",
       "      <th>История</th>\n",
       "      <th>Физическая культура</th>\n",
       "    </tr>\n",
       "  </thead>\n",
       "  <tbody>\n",
       "    <tr>\n",
       "      <th>3</th>\n",
       "      <td>Козлова Маргарита Максимовна</td>\n",
       "      <td>женский</td>\n",
       "      <td>5</td>\n",
       "      <td>5</td>\n",
       "      <td>5</td>\n",
       "      <td>5</td>\n",
       "      <td>4</td>\n",
       "      <td>5</td>\n",
       "    </tr>\n",
       "    <tr>\n",
       "      <th>13</th>\n",
       "      <td>Петухов Александр Алексеевич</td>\n",
       "      <td>мужской</td>\n",
       "      <td>5</td>\n",
       "      <td>4</td>\n",
       "      <td>4</td>\n",
       "      <td>5</td>\n",
       "      <td>4</td>\n",
       "      <td>5</td>\n",
       "    </tr>\n",
       "    <tr>\n",
       "      <th>14</th>\n",
       "      <td>Панфилов Марат Евгеньевич</td>\n",
       "      <td>мужской</td>\n",
       "      <td>5</td>\n",
       "      <td>4</td>\n",
       "      <td>4</td>\n",
       "      <td>4</td>\n",
       "      <td>4</td>\n",
       "      <td>5</td>\n",
       "    </tr>\n",
       "  </tbody>\n",
       "</table>\n",
       "</div>"
      ],
      "text/plain": [
       "                             ФИО      Пол  Математика  Русский язык  \\\n",
       "3   Козлова Маргарита Максимовна  женский           5             5   \n",
       "13  Петухов Александр Алексеевич  мужской           5             4   \n",
       "14     Панфилов Марат Евгеньевич  мужской           5             4   \n",
       "\n",
       "    Литература  Физика  История  Физическая культура  \n",
       "3            5       5        4                    5  \n",
       "13           4       5        4                    5  \n",
       "14           4       4        4                    5  "
      ]
     },
     "execution_count": 84,
     "metadata": {},
     "output_type": "execute_result"
    }
   ],
   "source": [
    "marks.query('Математика not in [3, 4]').head(3)"
   ]
  },
  {
   "cell_type": "markdown",
   "id": "36a29c13",
   "metadata": {},
   "source": [
    "Несколько условий, соедиененых союзом и можно записывать в нескольких методах подряд"
   ]
  },
  {
   "cell_type": "code",
   "execution_count": 85,
   "id": "d97dfea7",
   "metadata": {},
   "outputs": [
    {
     "data": {
      "text/html": [
       "<div>\n",
       "<style scoped>\n",
       "    .dataframe tbody tr th:only-of-type {\n",
       "        vertical-align: middle;\n",
       "    }\n",
       "\n",
       "    .dataframe tbody tr th {\n",
       "        vertical-align: top;\n",
       "    }\n",
       "\n",
       "    .dataframe thead th {\n",
       "        text-align: right;\n",
       "    }\n",
       "</style>\n",
       "<table border=\"1\" class=\"dataframe\">\n",
       "  <thead>\n",
       "    <tr style=\"text-align: right;\">\n",
       "      <th></th>\n",
       "      <th>report_dt</th>\n",
       "      <th>i_pernr</th>\n",
       "      <th>fio</th>\n",
       "      <th>sex</th>\n",
       "      <th>shop_id</th>\n",
       "      <th>pos_name</th>\n",
       "      <th>pos_id</th>\n",
       "      <th>closest_boss_pos_id</th>\n",
       "      <th>mgmt_flag</th>\n",
       "      <th>salary_fork</th>\n",
       "      <th>birth_date</th>\n",
       "      <th>education</th>\n",
       "      <th>employee_evaluation</th>\n",
       "      <th>salary</th>\n",
       "    </tr>\n",
       "  </thead>\n",
       "  <tbody>\n",
       "    <tr>\n",
       "      <th>23201</th>\n",
       "      <td>2021-12-31</td>\n",
       "      <td>1334</td>\n",
       "      <td>Максимов Даниил Андреевич</td>\n",
       "      <td>мужской</td>\n",
       "      <td>1</td>\n",
       "      <td>Кассир</td>\n",
       "      <td>13</td>\n",
       "      <td>12</td>\n",
       "      <td>0</td>\n",
       "      <td>2</td>\n",
       "      <td>1973-10-20</td>\n",
       "      <td>среднее профессиональное</td>\n",
       "      <td>6</td>\n",
       "      <td>27200.0</td>\n",
       "    </tr>\n",
       "    <tr>\n",
       "      <th>23202</th>\n",
       "      <td>2021-12-31</td>\n",
       "      <td>1479</td>\n",
       "      <td>Стариков Данил Александрович</td>\n",
       "      <td>мужской</td>\n",
       "      <td>1</td>\n",
       "      <td>Кассир</td>\n",
       "      <td>14</td>\n",
       "      <td>12</td>\n",
       "      <td>0</td>\n",
       "      <td>0</td>\n",
       "      <td>1986-03-28</td>\n",
       "      <td>среднее профессиональное</td>\n",
       "      <td>5</td>\n",
       "      <td>19700.0</td>\n",
       "    </tr>\n",
       "    <tr>\n",
       "      <th>23203</th>\n",
       "      <td>2021-12-31</td>\n",
       "      <td>1310</td>\n",
       "      <td>Киреев Дмитрий Кириллович</td>\n",
       "      <td>мужской</td>\n",
       "      <td>1</td>\n",
       "      <td>Кассир</td>\n",
       "      <td>15</td>\n",
       "      <td>12</td>\n",
       "      <td>0</td>\n",
       "      <td>1</td>\n",
       "      <td>1978-05-15</td>\n",
       "      <td>среднее общее</td>\n",
       "      <td>6</td>\n",
       "      <td>22400.0</td>\n",
       "    </tr>\n",
       "  </tbody>\n",
       "</table>\n",
       "</div>"
      ],
      "text/plain": [
       "       report_dt  i_pernr                           fio      sex  shop_id  \\\n",
       "23201 2021-12-31     1334     Максимов Даниил Андреевич  мужской        1   \n",
       "23202 2021-12-31     1479  Стариков Данил Александрович  мужской        1   \n",
       "23203 2021-12-31     1310     Киреев Дмитрий Кириллович  мужской        1   \n",
       "\n",
       "      pos_name  pos_id  closest_boss_pos_id  mgmt_flag  salary_fork  \\\n",
       "23201   Кассир      13                   12          0            2   \n",
       "23202   Кассир      14                   12          0            0   \n",
       "23203   Кассир      15                   12          0            1   \n",
       "\n",
       "      birth_date                 education  employee_evaluation   salary  \n",
       "23201 1973-10-20  среднее профессиональное                    6  27200.0  \n",
       "23202 1986-03-28  среднее профессиональное                    5  19700.0  \n",
       "23203 1978-05-15             среднее общее                    6  22400.0  "
      ]
     },
     "execution_count": 85,
     "metadata": {},
     "output_type": "execute_result"
    }
   ],
   "source": [
    "(empl\n",
    "    .query('report_dt >= \"2021-12-31\"')\n",
    "    .query('pos_name == \"Кассир\"')\n",
    "    .head(3)\n",
    ")"
   ]
  },
  {
   "cell_type": "code",
   "execution_count": null,
   "id": "ba3b1c1d",
   "metadata": {},
   "outputs": [],
   "source": []
  },
  {
   "cell_type": "code",
   "execution_count": null,
   "id": "996482ce",
   "metadata": {},
   "outputs": [],
   "source": []
  },
  {
   "cell_type": "markdown",
   "id": "167b4c4a",
   "metadata": {},
   "source": [
    "### Колонка, содержащая пробел выделяется ` (там где ё)"
   ]
  },
  {
   "cell_type": "code",
   "execution_count": 86,
   "id": "e48d45e4",
   "metadata": {},
   "outputs": [
    {
     "data": {
      "text/html": [
       "<div>\n",
       "<style scoped>\n",
       "    .dataframe tbody tr th:only-of-type {\n",
       "        vertical-align: middle;\n",
       "    }\n",
       "\n",
       "    .dataframe tbody tr th {\n",
       "        vertical-align: top;\n",
       "    }\n",
       "\n",
       "    .dataframe thead th {\n",
       "        text-align: right;\n",
       "    }\n",
       "</style>\n",
       "<table border=\"1\" class=\"dataframe\">\n",
       "  <thead>\n",
       "    <tr style=\"text-align: right;\">\n",
       "      <th></th>\n",
       "      <th>ФИО</th>\n",
       "      <th>Пол</th>\n",
       "      <th>Математика</th>\n",
       "      <th>Русский язык</th>\n",
       "      <th>Литература</th>\n",
       "      <th>Физика</th>\n",
       "      <th>История</th>\n",
       "      <th>Физическая культура</th>\n",
       "    </tr>\n",
       "  </thead>\n",
       "  <tbody>\n",
       "    <tr>\n",
       "      <th>0</th>\n",
       "      <td>Суханова Маргарита Богдановна</td>\n",
       "      <td>женский</td>\n",
       "      <td>3</td>\n",
       "      <td>3</td>\n",
       "      <td>3</td>\n",
       "      <td>3</td>\n",
       "      <td>3</td>\n",
       "      <td>5</td>\n",
       "    </tr>\n",
       "    <tr>\n",
       "      <th>2</th>\n",
       "      <td>Винниченко Дарья Максимовна</td>\n",
       "      <td>женский</td>\n",
       "      <td>4</td>\n",
       "      <td>5</td>\n",
       "      <td>5</td>\n",
       "      <td>3</td>\n",
       "      <td>4</td>\n",
       "      <td>5</td>\n",
       "    </tr>\n",
       "    <tr>\n",
       "      <th>3</th>\n",
       "      <td>Козлова Маргарита Максимовна</td>\n",
       "      <td>женский</td>\n",
       "      <td>5</td>\n",
       "      <td>5</td>\n",
       "      <td>5</td>\n",
       "      <td>5</td>\n",
       "      <td>4</td>\n",
       "      <td>5</td>\n",
       "    </tr>\n",
       "  </tbody>\n",
       "</table>\n",
       "</div>"
      ],
      "text/plain": [
       "                             ФИО      Пол  Математика  Русский язык  \\\n",
       "0  Суханова Маргарита Богдановна  женский           3             3   \n",
       "2    Винниченко Дарья Максимовна  женский           4             5   \n",
       "3   Козлова Маргарита Максимовна  женский           5             5   \n",
       "\n",
       "   Литература  Физика  История  Физическая культура  \n",
       "0           3       3        3                    5  \n",
       "2           5       3        4                    5  \n",
       "3           5       5        4                    5  "
      ]
     },
     "execution_count": 86,
     "metadata": {},
     "output_type": "execute_result"
    }
   ],
   "source": [
    "marks.query('`Физическая культура` == 5').head(3)"
   ]
  },
  {
   "cell_type": "code",
   "execution_count": 87,
   "id": "d149339c",
   "metadata": {},
   "outputs": [
    {
     "data": {
      "text/html": [
       "<div>\n",
       "<style scoped>\n",
       "    .dataframe tbody tr th:only-of-type {\n",
       "        vertical-align: middle;\n",
       "    }\n",
       "\n",
       "    .dataframe tbody tr th {\n",
       "        vertical-align: top;\n",
       "    }\n",
       "\n",
       "    .dataframe thead th {\n",
       "        text-align: right;\n",
       "    }\n",
       "</style>\n",
       "<table border=\"1\" class=\"dataframe\">\n",
       "  <thead>\n",
       "    <tr style=\"text-align: right;\">\n",
       "      <th></th>\n",
       "      <th>ФИО</th>\n",
       "      <th>Пол</th>\n",
       "      <th>Математика</th>\n",
       "      <th>Русский язык</th>\n",
       "      <th>Литература</th>\n",
       "      <th>Физика</th>\n",
       "      <th>История</th>\n",
       "      <th>Физическая культура</th>\n",
       "    </tr>\n",
       "  </thead>\n",
       "  <tbody>\n",
       "    <tr>\n",
       "      <th>1</th>\n",
       "      <td>Лаврентьев Давид Анатольевич</td>\n",
       "      <td>мужской</td>\n",
       "      <td>3</td>\n",
       "      <td>3</td>\n",
       "      <td>3</td>\n",
       "      <td>5</td>\n",
       "      <td>3</td>\n",
       "      <td>3</td>\n",
       "    </tr>\n",
       "    <tr>\n",
       "      <th>9</th>\n",
       "      <td>Сухарев Евгений Валерьевич</td>\n",
       "      <td>мужской</td>\n",
       "      <td>3</td>\n",
       "      <td>5</td>\n",
       "      <td>4</td>\n",
       "      <td>4</td>\n",
       "      <td>5</td>\n",
       "      <td>5</td>\n",
       "    </tr>\n",
       "    <tr>\n",
       "      <th>11</th>\n",
       "      <td>Бородина Валерия Даниловна</td>\n",
       "      <td>женский</td>\n",
       "      <td>3</td>\n",
       "      <td>4</td>\n",
       "      <td>5</td>\n",
       "      <td>3</td>\n",
       "      <td>5</td>\n",
       "      <td>5</td>\n",
       "    </tr>\n",
       "  </tbody>\n",
       "</table>\n",
       "</div>"
      ],
      "text/plain": [
       "                             ФИО      Пол  Математика  Русский язык  \\\n",
       "1   Лаврентьев Давид Анатольевич  мужской           3             3   \n",
       "9     Сухарев Евгений Валерьевич  мужской           3             5   \n",
       "11    Бородина Валерия Даниловна  женский           3             4   \n",
       "\n",
       "    Литература  Физика  История  Физическая культура  \n",
       "1            3       5        3                    3  \n",
       "9            4       4        5                    5  \n",
       "11           5       3        5                    5  "
      ]
     },
     "execution_count": 87,
     "metadata": {},
     "output_type": "execute_result"
    }
   ],
   "source": [
    "marks.query('`Физическая культура` == История').head(3)"
   ]
  },
  {
   "cell_type": "markdown",
   "id": "94ed8070",
   "metadata": {},
   "source": [
    "#### Использование переменных"
   ]
  },
  {
   "cell_type": "code",
   "execution_count": 88,
   "id": "fbf7b277",
   "metadata": {},
   "outputs": [],
   "source": [
    "students = [\n",
    "    'Мартынова Елизаваета Фёдоровна',\n",
    "    'Савина Виктория Тимуровна',\n",
    "    'Гладкова Мария Максимовна',\n",
    "    'Лапина Юлия Маратовна',\n",
    "]"
   ]
  },
  {
   "cell_type": "code",
   "execution_count": 89,
   "id": "4a83722d",
   "metadata": {},
   "outputs": [
    {
     "data": {
      "text/html": [
       "<div>\n",
       "<style scoped>\n",
       "    .dataframe tbody tr th:only-of-type {\n",
       "        vertical-align: middle;\n",
       "    }\n",
       "\n",
       "    .dataframe tbody tr th {\n",
       "        vertical-align: top;\n",
       "    }\n",
       "\n",
       "    .dataframe thead th {\n",
       "        text-align: right;\n",
       "    }\n",
       "</style>\n",
       "<table border=\"1\" class=\"dataframe\">\n",
       "  <thead>\n",
       "    <tr style=\"text-align: right;\">\n",
       "      <th></th>\n",
       "      <th>ФИО</th>\n",
       "      <th>Пол</th>\n",
       "      <th>Математика</th>\n",
       "      <th>Русский язык</th>\n",
       "      <th>Литература</th>\n",
       "      <th>Физика</th>\n",
       "      <th>История</th>\n",
       "      <th>Физическая культура</th>\n",
       "    </tr>\n",
       "  </thead>\n",
       "  <tbody>\n",
       "    <tr>\n",
       "      <th>48</th>\n",
       "      <td>Савина Виктория Тимуровна</td>\n",
       "      <td>женский</td>\n",
       "      <td>4</td>\n",
       "      <td>5</td>\n",
       "      <td>5</td>\n",
       "      <td>3</td>\n",
       "      <td>5</td>\n",
       "      <td>5</td>\n",
       "    </tr>\n",
       "    <tr>\n",
       "      <th>71</th>\n",
       "      <td>Гладкова Мария Максимовна</td>\n",
       "      <td>женский</td>\n",
       "      <td>4</td>\n",
       "      <td>4</td>\n",
       "      <td>4</td>\n",
       "      <td>3</td>\n",
       "      <td>4</td>\n",
       "      <td>5</td>\n",
       "    </tr>\n",
       "    <tr>\n",
       "      <th>79</th>\n",
       "      <td>Лапина Юлия Маратовна</td>\n",
       "      <td>женский</td>\n",
       "      <td>5</td>\n",
       "      <td>5</td>\n",
       "      <td>4</td>\n",
       "      <td>5</td>\n",
       "      <td>4</td>\n",
       "      <td>3</td>\n",
       "    </tr>\n",
       "    <tr>\n",
       "      <th>132</th>\n",
       "      <td>Мартынова Елизаваета Фёдоровна</td>\n",
       "      <td>женский</td>\n",
       "      <td>3</td>\n",
       "      <td>3</td>\n",
       "      <td>3</td>\n",
       "      <td>4</td>\n",
       "      <td>3</td>\n",
       "      <td>4</td>\n",
       "    </tr>\n",
       "  </tbody>\n",
       "</table>\n",
       "</div>"
      ],
      "text/plain": [
       "                                ФИО      Пол  Математика  Русский язык  \\\n",
       "48        Савина Виктория Тимуровна  женский           4             5   \n",
       "71        Гладкова Мария Максимовна  женский           4             4   \n",
       "79            Лапина Юлия Маратовна  женский           5             5   \n",
       "132  Мартынова Елизаваета Фёдоровна  женский           3             3   \n",
       "\n",
       "     Литература  Физика  История  Физическая культура  \n",
       "48            5       3        5                    5  \n",
       "71            4       3        4                    5  \n",
       "79            4       5        4                    3  \n",
       "132           3       4        3                    4  "
      ]
     },
     "execution_count": 89,
     "metadata": {},
     "output_type": "execute_result"
    }
   ],
   "source": [
    "marks.query('ФИО in @students')"
   ]
  },
  {
   "cell_type": "code",
   "execution_count": 90,
   "id": "20bb6192",
   "metadata": {},
   "outputs": [
    {
     "data": {
      "text/html": [
       "<div>\n",
       "<style scoped>\n",
       "    .dataframe tbody tr th:only-of-type {\n",
       "        vertical-align: middle;\n",
       "    }\n",
       "\n",
       "    .dataframe tbody tr th {\n",
       "        vertical-align: top;\n",
       "    }\n",
       "\n",
       "    .dataframe thead th {\n",
       "        text-align: right;\n",
       "    }\n",
       "</style>\n",
       "<table border=\"1\" class=\"dataframe\">\n",
       "  <thead>\n",
       "    <tr style=\"text-align: right;\">\n",
       "      <th></th>\n",
       "      <th>ФИО</th>\n",
       "      <th>Пол</th>\n",
       "      <th>Математика</th>\n",
       "      <th>Русский язык</th>\n",
       "      <th>Литература</th>\n",
       "      <th>Физика</th>\n",
       "      <th>История</th>\n",
       "      <th>Физическая культура</th>\n",
       "    </tr>\n",
       "  </thead>\n",
       "  <tbody>\n",
       "    <tr>\n",
       "      <th>48</th>\n",
       "      <td>Савина Виктория Тимуровна</td>\n",
       "      <td>женский</td>\n",
       "      <td>4</td>\n",
       "      <td>5</td>\n",
       "      <td>5</td>\n",
       "      <td>3</td>\n",
       "      <td>5</td>\n",
       "      <td>5</td>\n",
       "    </tr>\n",
       "    <tr>\n",
       "      <th>71</th>\n",
       "      <td>Гладкова Мария Максимовна</td>\n",
       "      <td>женский</td>\n",
       "      <td>4</td>\n",
       "      <td>4</td>\n",
       "      <td>4</td>\n",
       "      <td>3</td>\n",
       "      <td>4</td>\n",
       "      <td>5</td>\n",
       "    </tr>\n",
       "    <tr>\n",
       "      <th>79</th>\n",
       "      <td>Лапина Юлия Маратовна</td>\n",
       "      <td>женский</td>\n",
       "      <td>5</td>\n",
       "      <td>5</td>\n",
       "      <td>4</td>\n",
       "      <td>5</td>\n",
       "      <td>4</td>\n",
       "      <td>3</td>\n",
       "    </tr>\n",
       "    <tr>\n",
       "      <th>132</th>\n",
       "      <td>Мартынова Елизаваета Фёдоровна</td>\n",
       "      <td>женский</td>\n",
       "      <td>3</td>\n",
       "      <td>3</td>\n",
       "      <td>3</td>\n",
       "      <td>4</td>\n",
       "      <td>3</td>\n",
       "      <td>4</td>\n",
       "    </tr>\n",
       "  </tbody>\n",
       "</table>\n",
       "</div>"
      ],
      "text/plain": [
       "                                ФИО      Пол  Математика  Русский язык  \\\n",
       "48        Савина Виктория Тимуровна  женский           4             5   \n",
       "71        Гладкова Мария Максимовна  женский           4             4   \n",
       "79            Лапина Юлия Маратовна  женский           5             5   \n",
       "132  Мартынова Елизаваета Фёдоровна  женский           3             3   \n",
       "\n",
       "     Литература  Физика  История  Физическая культура  \n",
       "48            5       3        5                    5  \n",
       "71            4       3        4                    5  \n",
       "79            4       5        4                    3  \n",
       "132           3       4        3                    4  "
      ]
     },
     "execution_count": 90,
     "metadata": {},
     "output_type": "execute_result"
    }
   ],
   "source": [
    "marks.query(f'ФИО in {students}')"
   ]
  },
  {
   "cell_type": "code",
   "execution_count": 91,
   "id": "331cdf1e",
   "metadata": {},
   "outputs": [
    {
     "data": {
      "text/html": [
       "<div>\n",
       "<style scoped>\n",
       "    .dataframe tbody tr th:only-of-type {\n",
       "        vertical-align: middle;\n",
       "    }\n",
       "\n",
       "    .dataframe tbody tr th {\n",
       "        vertical-align: top;\n",
       "    }\n",
       "\n",
       "    .dataframe thead th {\n",
       "        text-align: right;\n",
       "    }\n",
       "</style>\n",
       "<table border=\"1\" class=\"dataframe\">\n",
       "  <thead>\n",
       "    <tr style=\"text-align: right;\">\n",
       "      <th></th>\n",
       "      <th>report_dt</th>\n",
       "      <th>i_pernr</th>\n",
       "      <th>fio</th>\n",
       "      <th>sex</th>\n",
       "      <th>shop_id</th>\n",
       "      <th>pos_name</th>\n",
       "      <th>pos_id</th>\n",
       "      <th>closest_boss_pos_id</th>\n",
       "      <th>mgmt_flag</th>\n",
       "      <th>salary_fork</th>\n",
       "      <th>birth_date</th>\n",
       "      <th>education</th>\n",
       "      <th>employee_evaluation</th>\n",
       "      <th>salary</th>\n",
       "    </tr>\n",
       "  </thead>\n",
       "  <tbody>\n",
       "    <tr>\n",
       "      <th>0</th>\n",
       "      <td>2015-01-31</td>\n",
       "      <td>100000</td>\n",
       "      <td>Кожевников Андрей Максимович</td>\n",
       "      <td>мужской</td>\n",
       "      <td>1</td>\n",
       "      <td>Директор магазина</td>\n",
       "      <td>11</td>\n",
       "      <td>&lt;NA&gt;</td>\n",
       "      <td>1</td>\n",
       "      <td>0</td>\n",
       "      <td>1987-03-11</td>\n",
       "      <td>высшее</td>\n",
       "      <td>5</td>\n",
       "      <td>45700.0</td>\n",
       "    </tr>\n",
       "    <tr>\n",
       "      <th>1</th>\n",
       "      <td>2015-01-31</td>\n",
       "      <td>0</td>\n",
       "      <td>Дубинина Надежда Николаевна</td>\n",
       "      <td>женский</td>\n",
       "      <td>1</td>\n",
       "      <td>Старший кассир</td>\n",
       "      <td>12</td>\n",
       "      <td>11</td>\n",
       "      <td>0</td>\n",
       "      <td>0</td>\n",
       "      <td>1971-07-07</td>\n",
       "      <td>среднее профессиональное</td>\n",
       "      <td>5</td>\n",
       "      <td>20000.0</td>\n",
       "    </tr>\n",
       "    <tr>\n",
       "      <th>2</th>\n",
       "      <td>2015-01-31</td>\n",
       "      <td>1</td>\n",
       "      <td>Вишневскиая Валентина Константиновна</td>\n",
       "      <td>женский</td>\n",
       "      <td>1</td>\n",
       "      <td>Кассир</td>\n",
       "      <td>13</td>\n",
       "      <td>12</td>\n",
       "      <td>0</td>\n",
       "      <td>0</td>\n",
       "      <td>1974-11-29</td>\n",
       "      <td>среднее общее</td>\n",
       "      <td>5</td>\n",
       "      <td>12600.0</td>\n",
       "    </tr>\n",
       "  </tbody>\n",
       "</table>\n",
       "</div>"
      ],
      "text/plain": [
       "   report_dt  i_pernr                                   fio      sex  shop_id  \\\n",
       "0 2015-01-31   100000          Кожевников Андрей Максимович  мужской        1   \n",
       "1 2015-01-31        0           Дубинина Надежда Николаевна  женский        1   \n",
       "2 2015-01-31        1  Вишневскиая Валентина Константиновна  женский        1   \n",
       "\n",
       "            pos_name  pos_id  closest_boss_pos_id  mgmt_flag  salary_fork  \\\n",
       "0  Директор магазина      11                 <NA>          1            0   \n",
       "1     Старший кассир      12                   11          0            0   \n",
       "2             Кассир      13                   12          0            0   \n",
       "\n",
       "  birth_date                 education  employee_evaluation   salary  \n",
       "0 1987-03-11                    высшее                    5  45700.0  \n",
       "1 1971-07-07  среднее профессиональное                    5  20000.0  \n",
       "2 1974-11-29             среднее общее                    5  12600.0  "
      ]
     },
     "execution_count": 91,
     "metadata": {},
     "output_type": "execute_result"
    }
   ],
   "source": [
    "date = '2015-01-31'\n",
    "empl.query('report_dt == @date').head(3)"
   ]
  },
  {
   "cell_type": "code",
   "execution_count": 92,
   "id": "aa99833a",
   "metadata": {},
   "outputs": [
    {
     "data": {
      "text/html": [
       "<div>\n",
       "<style scoped>\n",
       "    .dataframe tbody tr th:only-of-type {\n",
       "        vertical-align: middle;\n",
       "    }\n",
       "\n",
       "    .dataframe tbody tr th {\n",
       "        vertical-align: top;\n",
       "    }\n",
       "\n",
       "    .dataframe thead th {\n",
       "        text-align: right;\n",
       "    }\n",
       "</style>\n",
       "<table border=\"1\" class=\"dataframe\">\n",
       "  <thead>\n",
       "    <tr style=\"text-align: right;\">\n",
       "      <th></th>\n",
       "      <th>report_dt</th>\n",
       "      <th>i_pernr</th>\n",
       "      <th>fio</th>\n",
       "      <th>sex</th>\n",
       "      <th>shop_id</th>\n",
       "      <th>pos_name</th>\n",
       "      <th>pos_id</th>\n",
       "      <th>closest_boss_pos_id</th>\n",
       "      <th>mgmt_flag</th>\n",
       "      <th>salary_fork</th>\n",
       "      <th>birth_date</th>\n",
       "      <th>education</th>\n",
       "      <th>employee_evaluation</th>\n",
       "      <th>salary</th>\n",
       "    </tr>\n",
       "  </thead>\n",
       "  <tbody>\n",
       "    <tr>\n",
       "      <th>0</th>\n",
       "      <td>2015-01-31</td>\n",
       "      <td>100000</td>\n",
       "      <td>Кожевников Андрей Максимович</td>\n",
       "      <td>мужской</td>\n",
       "      <td>1</td>\n",
       "      <td>Директор магазина</td>\n",
       "      <td>11</td>\n",
       "      <td>&lt;NA&gt;</td>\n",
       "      <td>1</td>\n",
       "      <td>0</td>\n",
       "      <td>1987-03-11</td>\n",
       "      <td>высшее</td>\n",
       "      <td>5</td>\n",
       "      <td>45700.0</td>\n",
       "    </tr>\n",
       "    <tr>\n",
       "      <th>1</th>\n",
       "      <td>2015-01-31</td>\n",
       "      <td>0</td>\n",
       "      <td>Дубинина Надежда Николаевна</td>\n",
       "      <td>женский</td>\n",
       "      <td>1</td>\n",
       "      <td>Старший кассир</td>\n",
       "      <td>12</td>\n",
       "      <td>11</td>\n",
       "      <td>0</td>\n",
       "      <td>0</td>\n",
       "      <td>1971-07-07</td>\n",
       "      <td>среднее профессиональное</td>\n",
       "      <td>5</td>\n",
       "      <td>20000.0</td>\n",
       "    </tr>\n",
       "    <tr>\n",
       "      <th>2</th>\n",
       "      <td>2015-01-31</td>\n",
       "      <td>1</td>\n",
       "      <td>Вишневскиая Валентина Константиновна</td>\n",
       "      <td>женский</td>\n",
       "      <td>1</td>\n",
       "      <td>Кассир</td>\n",
       "      <td>13</td>\n",
       "      <td>12</td>\n",
       "      <td>0</td>\n",
       "      <td>0</td>\n",
       "      <td>1974-11-29</td>\n",
       "      <td>среднее общее</td>\n",
       "      <td>5</td>\n",
       "      <td>12600.0</td>\n",
       "    </tr>\n",
       "  </tbody>\n",
       "</table>\n",
       "</div>"
      ],
      "text/plain": [
       "   report_dt  i_pernr                                   fio      sex  shop_id  \\\n",
       "0 2015-01-31   100000          Кожевников Андрей Максимович  мужской        1   \n",
       "1 2015-01-31        0           Дубинина Надежда Николаевна  женский        1   \n",
       "2 2015-01-31        1  Вишневскиая Валентина Константиновна  женский        1   \n",
       "\n",
       "            pos_name  pos_id  closest_boss_pos_id  mgmt_flag  salary_fork  \\\n",
       "0  Директор магазина      11                 <NA>          1            0   \n",
       "1     Старший кассир      12                   11          0            0   \n",
       "2             Кассир      13                   12          0            0   \n",
       "\n",
       "  birth_date                 education  employee_evaluation   salary  \n",
       "0 1987-03-11                    высшее                    5  45700.0  \n",
       "1 1971-07-07  среднее профессиональное                    5  20000.0  \n",
       "2 1974-11-29             среднее общее                    5  12600.0  "
      ]
     },
     "execution_count": 92,
     "metadata": {},
     "output_type": "execute_result"
    }
   ],
   "source": [
    "date = '2015-01-31'\n",
    "empl.query(f'report_dt == \"{date}\"').head(3)"
   ]
  },
  {
   "cell_type": "code",
   "execution_count": null,
   "id": "44d8ed65",
   "metadata": {},
   "outputs": [],
   "source": []
  },
  {
   "cell_type": "code",
   "execution_count": null,
   "id": "3c86af8c",
   "metadata": {},
   "outputs": [],
   "source": []
  },
  {
   "cell_type": "code",
   "execution_count": null,
   "id": "43ea886d",
   "metadata": {},
   "outputs": [],
   "source": []
  },
  {
   "cell_type": "code",
   "execution_count": null,
   "id": "51194514",
   "metadata": {},
   "outputs": [],
   "source": []
  },
  {
   "cell_type": "markdown",
   "id": "9bd0d09b",
   "metadata": {},
   "source": [
    "Можно использовать методы"
   ]
  },
  {
   "cell_type": "code",
   "execution_count": 93,
   "id": "258764c0",
   "metadata": {},
   "outputs": [
    {
     "data": {
      "text/html": [
       "<div>\n",
       "<style scoped>\n",
       "    .dataframe tbody tr th:only-of-type {\n",
       "        vertical-align: middle;\n",
       "    }\n",
       "\n",
       "    .dataframe tbody tr th {\n",
       "        vertical-align: top;\n",
       "    }\n",
       "\n",
       "    .dataframe thead th {\n",
       "        text-align: right;\n",
       "    }\n",
       "</style>\n",
       "<table border=\"1\" class=\"dataframe\">\n",
       "  <thead>\n",
       "    <tr style=\"text-align: right;\">\n",
       "      <th></th>\n",
       "      <th>report_dt</th>\n",
       "      <th>i_pernr</th>\n",
       "      <th>fio</th>\n",
       "      <th>sex</th>\n",
       "      <th>shop_id</th>\n",
       "      <th>pos_name</th>\n",
       "      <th>pos_id</th>\n",
       "      <th>closest_boss_pos_id</th>\n",
       "      <th>mgmt_flag</th>\n",
       "      <th>salary_fork</th>\n",
       "      <th>birth_date</th>\n",
       "      <th>education</th>\n",
       "      <th>employee_evaluation</th>\n",
       "      <th>salary</th>\n",
       "    </tr>\n",
       "  </thead>\n",
       "  <tbody>\n",
       "    <tr>\n",
       "      <th>0</th>\n",
       "      <td>2015-01-31</td>\n",
       "      <td>100000</td>\n",
       "      <td>Кожевников Андрей Максимович</td>\n",
       "      <td>мужской</td>\n",
       "      <td>1</td>\n",
       "      <td>Директор магазина</td>\n",
       "      <td>11</td>\n",
       "      <td>&lt;NA&gt;</td>\n",
       "      <td>1</td>\n",
       "      <td>0</td>\n",
       "      <td>1987-03-11</td>\n",
       "      <td>высшее</td>\n",
       "      <td>5</td>\n",
       "      <td>45700.0</td>\n",
       "    </tr>\n",
       "    <tr>\n",
       "      <th>10</th>\n",
       "      <td>2015-02-28</td>\n",
       "      <td>100000</td>\n",
       "      <td>Кожевников Андрей Максимович</td>\n",
       "      <td>мужской</td>\n",
       "      <td>1</td>\n",
       "      <td>Директор магазина</td>\n",
       "      <td>11</td>\n",
       "      <td>&lt;NA&gt;</td>\n",
       "      <td>1</td>\n",
       "      <td>0</td>\n",
       "      <td>1987-03-11</td>\n",
       "      <td>высшее</td>\n",
       "      <td>5</td>\n",
       "      <td>45700.0</td>\n",
       "    </tr>\n",
       "    <tr>\n",
       "      <th>22</th>\n",
       "      <td>2015-03-31</td>\n",
       "      <td>100000</td>\n",
       "      <td>Кожевников Андрей Максимович</td>\n",
       "      <td>мужской</td>\n",
       "      <td>1</td>\n",
       "      <td>Директор магазина</td>\n",
       "      <td>11</td>\n",
       "      <td>&lt;NA&gt;</td>\n",
       "      <td>1</td>\n",
       "      <td>0</td>\n",
       "      <td>1987-03-11</td>\n",
       "      <td>высшее</td>\n",
       "      <td>5</td>\n",
       "      <td>45700.0</td>\n",
       "    </tr>\n",
       "  </tbody>\n",
       "</table>\n",
       "</div>"
      ],
      "text/plain": [
       "    report_dt  i_pernr                           fio      sex  shop_id  \\\n",
       "0  2015-01-31   100000  Кожевников Андрей Максимович  мужской        1   \n",
       "10 2015-02-28   100000  Кожевников Андрей Максимович  мужской        1   \n",
       "22 2015-03-31   100000  Кожевников Андрей Максимович  мужской        1   \n",
       "\n",
       "             pos_name  pos_id  closest_boss_pos_id  mgmt_flag  salary_fork  \\\n",
       "0   Директор магазина      11                 <NA>          1            0   \n",
       "10  Директор магазина      11                 <NA>          1            0   \n",
       "22  Директор магазина      11                 <NA>          1            0   \n",
       "\n",
       "   birth_date education  employee_evaluation   salary  \n",
       "0  1987-03-11    высшее                    5  45700.0  \n",
       "10 1987-03-11    высшее                    5  45700.0  \n",
       "22 1987-03-11    высшее                    5  45700.0  "
      ]
     },
     "execution_count": 93,
     "metadata": {},
     "output_type": "execute_result"
    }
   ],
   "source": [
    "empl.query('closest_boss_pos_id.isna()').head(3)"
   ]
  },
  {
   "cell_type": "code",
   "execution_count": 94,
   "id": "6d391450",
   "metadata": {},
   "outputs": [
    {
     "data": {
      "text/html": [
       "<div>\n",
       "<style scoped>\n",
       "    .dataframe tbody tr th:only-of-type {\n",
       "        vertical-align: middle;\n",
       "    }\n",
       "\n",
       "    .dataframe tbody tr th {\n",
       "        vertical-align: top;\n",
       "    }\n",
       "\n",
       "    .dataframe thead th {\n",
       "        text-align: right;\n",
       "    }\n",
       "</style>\n",
       "<table border=\"1\" class=\"dataframe\">\n",
       "  <thead>\n",
       "    <tr style=\"text-align: right;\">\n",
       "      <th></th>\n",
       "      <th>ФИО</th>\n",
       "      <th>Пол</th>\n",
       "      <th>Математика</th>\n",
       "      <th>Русский язык</th>\n",
       "      <th>Литература</th>\n",
       "      <th>Физика</th>\n",
       "      <th>История</th>\n",
       "      <th>Физическая культура</th>\n",
       "    </tr>\n",
       "  </thead>\n",
       "  <tbody>\n",
       "    <tr>\n",
       "      <th>1</th>\n",
       "      <td>Лаврентьев Давид Анатольевич</td>\n",
       "      <td>мужской</td>\n",
       "      <td>3</td>\n",
       "      <td>3</td>\n",
       "      <td>3</td>\n",
       "      <td>5</td>\n",
       "      <td>3</td>\n",
       "      <td>3</td>\n",
       "    </tr>\n",
       "    <tr>\n",
       "      <th>4</th>\n",
       "      <td>Кулешов Евгений Маратович</td>\n",
       "      <td>мужской</td>\n",
       "      <td>3</td>\n",
       "      <td>3</td>\n",
       "      <td>4</td>\n",
       "      <td>3</td>\n",
       "      <td>4</td>\n",
       "      <td>3</td>\n",
       "    </tr>\n",
       "    <tr>\n",
       "      <th>10</th>\n",
       "      <td>Суслов Артём Глебович</td>\n",
       "      <td>мужской</td>\n",
       "      <td>4</td>\n",
       "      <td>4</td>\n",
       "      <td>4</td>\n",
       "      <td>3</td>\n",
       "      <td>3</td>\n",
       "      <td>4</td>\n",
       "    </tr>\n",
       "  </tbody>\n",
       "</table>\n",
       "</div>"
      ],
      "text/plain": [
       "                             ФИО      Пол  Математика  Русский язык  \\\n",
       "1   Лаврентьев Давид Анатольевич  мужской           3             3   \n",
       "4      Кулешов Евгений Маратович  мужской           3             3   \n",
       "10         Суслов Артём Глебович  мужской           4             4   \n",
       "\n",
       "    Литература  Физика  История  Физическая культура  \n",
       "1            3       5        3                    3  \n",
       "4            4       3        4                    3  \n",
       "10           4       3        3                    4  "
      ]
     },
     "execution_count": 94,
     "metadata": {},
     "output_type": "execute_result"
    }
   ],
   "source": [
    "marks.query('`Физическая культура`.isin([3, 4])').head(3)"
   ]
  },
  {
   "cell_type": "code",
   "execution_count": 95,
   "id": "66820413",
   "metadata": {},
   "outputs": [
    {
     "data": {
      "text/html": [
       "<div>\n",
       "<style scoped>\n",
       "    .dataframe tbody tr th:only-of-type {\n",
       "        vertical-align: middle;\n",
       "    }\n",
       "\n",
       "    .dataframe tbody tr th {\n",
       "        vertical-align: top;\n",
       "    }\n",
       "\n",
       "    .dataframe thead th {\n",
       "        text-align: right;\n",
       "    }\n",
       "</style>\n",
       "<table border=\"1\" class=\"dataframe\">\n",
       "  <thead>\n",
       "    <tr style=\"text-align: right;\">\n",
       "      <th></th>\n",
       "      <th>ФИО</th>\n",
       "      <th>Пол</th>\n",
       "      <th>Математика</th>\n",
       "      <th>Русский язык</th>\n",
       "      <th>Литература</th>\n",
       "      <th>Физика</th>\n",
       "      <th>История</th>\n",
       "      <th>Физическая культура</th>\n",
       "    </tr>\n",
       "  </thead>\n",
       "  <tbody>\n",
       "    <tr>\n",
       "      <th>11</th>\n",
       "      <td>Бородина Валерия Даниловна</td>\n",
       "      <td>женский</td>\n",
       "      <td>3</td>\n",
       "      <td>4</td>\n",
       "      <td>5</td>\n",
       "      <td>3</td>\n",
       "      <td>5</td>\n",
       "      <td>5</td>\n",
       "    </tr>\n",
       "    <tr>\n",
       "      <th>16</th>\n",
       "      <td>Фомичева Ольга Даниловна</td>\n",
       "      <td>женский</td>\n",
       "      <td>4</td>\n",
       "      <td>4</td>\n",
       "      <td>4</td>\n",
       "      <td>5</td>\n",
       "      <td>4</td>\n",
       "      <td>4</td>\n",
       "    </tr>\n",
       "    <tr>\n",
       "      <th>22</th>\n",
       "      <td>Молчанов Владимир Данилович</td>\n",
       "      <td>мужской</td>\n",
       "      <td>4</td>\n",
       "      <td>4</td>\n",
       "      <td>4</td>\n",
       "      <td>4</td>\n",
       "      <td>4</td>\n",
       "      <td>4</td>\n",
       "    </tr>\n",
       "    <tr>\n",
       "      <th>41</th>\n",
       "      <td>Щербаков Данил Русланович</td>\n",
       "      <td>мужской</td>\n",
       "      <td>5</td>\n",
       "      <td>5</td>\n",
       "      <td>5</td>\n",
       "      <td>5</td>\n",
       "      <td>5</td>\n",
       "      <td>5</td>\n",
       "    </tr>\n",
       "    <tr>\n",
       "      <th>83</th>\n",
       "      <td>Носов Данил Дмитриевич</td>\n",
       "      <td>мужской</td>\n",
       "      <td>4</td>\n",
       "      <td>5</td>\n",
       "      <td>4</td>\n",
       "      <td>4</td>\n",
       "      <td>4</td>\n",
       "      <td>5</td>\n",
       "    </tr>\n",
       "  </tbody>\n",
       "</table>\n",
       "</div>"
      ],
      "text/plain": [
       "                            ФИО      Пол  Математика  Русский язык  \\\n",
       "11   Бородина Валерия Даниловна  женский           3             4   \n",
       "16     Фомичева Ольга Даниловна  женский           4             4   \n",
       "22  Молчанов Владимир Данилович  мужской           4             4   \n",
       "41    Щербаков Данил Русланович  мужской           5             5   \n",
       "83       Носов Данил Дмитриевич  мужской           4             5   \n",
       "\n",
       "    Литература  Физика  История  Физическая культура  \n",
       "11           5       3        5                    5  \n",
       "16           4       5        4                    4  \n",
       "22           4       4        4                    4  \n",
       "41           5       5        5                    5  \n",
       "83           4       4        4                    5  "
      ]
     },
     "execution_count": 95,
     "metadata": {},
     "output_type": "execute_result"
    }
   ],
   "source": [
    "marks.query(\"ФИО.str.contains('Данил')\")"
   ]
  },
  {
   "cell_type": "markdown",
   "id": "225f679a",
   "metadata": {},
   "source": [
    "Удобно использовать метод query совместно с методом assign"
   ]
  },
  {
   "cell_type": "code",
   "execution_count": 96,
   "id": "5b5bae7c",
   "metadata": {},
   "outputs": [
    {
     "data": {
      "text/html": [
       "<div>\n",
       "<style scoped>\n",
       "    .dataframe tbody tr th:only-of-type {\n",
       "        vertical-align: middle;\n",
       "    }\n",
       "\n",
       "    .dataframe tbody tr th {\n",
       "        vertical-align: top;\n",
       "    }\n",
       "\n",
       "    .dataframe thead th {\n",
       "        text-align: right;\n",
       "    }\n",
       "</style>\n",
       "<table border=\"1\" class=\"dataframe\">\n",
       "  <thead>\n",
       "    <tr style=\"text-align: right;\">\n",
       "      <th></th>\n",
       "      <th>ФИО</th>\n",
       "      <th>Пол</th>\n",
       "      <th>Математика</th>\n",
       "      <th>Русский язык</th>\n",
       "      <th>Литература</th>\n",
       "      <th>Физика</th>\n",
       "      <th>История</th>\n",
       "      <th>Физическая культура</th>\n",
       "    </tr>\n",
       "  </thead>\n",
       "  <tbody>\n",
       "    <tr>\n",
       "      <th>2</th>\n",
       "      <td>Винниченко Дарья Максимовна</td>\n",
       "      <td>женский</td>\n",
       "      <td>4</td>\n",
       "      <td>5</td>\n",
       "      <td>5</td>\n",
       "      <td>3</td>\n",
       "      <td>4</td>\n",
       "      <td>5</td>\n",
       "    </tr>\n",
       "    <tr>\n",
       "      <th>3</th>\n",
       "      <td>Козлова Маргарита Максимовна</td>\n",
       "      <td>женский</td>\n",
       "      <td>5</td>\n",
       "      <td>5</td>\n",
       "      <td>5</td>\n",
       "      <td>5</td>\n",
       "      <td>4</td>\n",
       "      <td>5</td>\n",
       "    </tr>\n",
       "    <tr>\n",
       "      <th>7</th>\n",
       "      <td>Михайлова Ксения Родионовна</td>\n",
       "      <td>женский</td>\n",
       "      <td>4</td>\n",
       "      <td>4</td>\n",
       "      <td>3</td>\n",
       "      <td>4</td>\n",
       "      <td>4</td>\n",
       "      <td>5</td>\n",
       "    </tr>\n",
       "  </tbody>\n",
       "</table>\n",
       "</div>"
      ],
      "text/plain": [
       "                            ФИО      Пол  Математика  Русский язык  \\\n",
       "2   Винниченко Дарья Максимовна  женский           4             5   \n",
       "3  Козлова Маргарита Максимовна  женский           5             5   \n",
       "7   Михайлова Ксения Родионовна  женский           4             4   \n",
       "\n",
       "   Литература  Физика  История  Физическая культура  \n",
       "2           5       3        4                    5  \n",
       "3           5       5        4                    5  \n",
       "7           3       4        4                    5  "
      ]
     },
     "execution_count": 96,
     "metadata": {},
     "output_type": "execute_result"
    }
   ],
   "source": [
    "(marks\n",
    "    .assign(math_rus_history_mean = lambda x: \n",
    "            (x[\"Математика\"] + x[\"Русский язык\"] + x[\"История\"]) / 3\n",
    "           )\n",
    "    .query('math_rus_history_mean >= 4')\n",
    "    .drop('math_rus_history_mean', axis=1)\n",
    "    .head(3)\n",
    ")"
   ]
  },
  {
   "cell_type": "markdown",
   "id": "f4cb98d8",
   "metadata": {},
   "source": [
    "У объектов Series метода query нет. Но их можно переделать в датафрейм"
   ]
  },
  {
   "cell_type": "code",
   "execution_count": 97,
   "id": "ca3c7a3c",
   "metadata": {},
   "outputs": [
    {
     "data": {
      "text/plain": [
       "2    4\n",
       "3    5\n",
       "5    4\n",
       "6    4\n",
       "7    4\n",
       "Name: Математика, dtype: int64"
      ]
     },
     "execution_count": 97,
     "metadata": {},
     "output_type": "execute_result"
    }
   ],
   "source": [
    "math.to_frame().query('Математика == [4, 5]')['Математика'].head()"
   ]
  },
  {
   "cell_type": "code",
   "execution_count": null,
   "id": "9c35230d",
   "metadata": {},
   "outputs": [],
   "source": []
  },
  {
   "cell_type": "code",
   "execution_count": null,
   "id": "f56a7e9d",
   "metadata": {},
   "outputs": [],
   "source": []
  },
  {
   "cell_type": "code",
   "execution_count": null,
   "id": "a7cda854",
   "metadata": {},
   "outputs": [],
   "source": []
  },
  {
   "cell_type": "code",
   "execution_count": null,
   "id": "9b9145c3",
   "metadata": {},
   "outputs": [],
   "source": []
  },
  {
   "cell_type": "markdown",
   "id": "2478a7ce",
   "metadata": {},
   "source": [
    "#### Избавляемся от дубликатов"
   ]
  },
  {
   "cell_type": "markdown",
   "id": "055ba551",
   "metadata": {},
   "source": [
    "### В метод loc можно передать функцию, которая на вход принимает датафрейм. Возвращать она должна массив True False"
   ]
  },
  {
   "cell_type": "markdown",
   "id": "78cbc8a7",
   "metadata": {},
   "source": [
    "Здесь мы хотим вернуть только те строки по стобцам i_pernr и fio, которые представлены в единственном экземпляре"
   ]
  },
  {
   "cell_type": "code",
   "execution_count": 98,
   "id": "2c03f05d",
   "metadata": {},
   "outputs": [
    {
     "data": {
      "text/html": [
       "<div>\n",
       "<style scoped>\n",
       "    .dataframe tbody tr th:only-of-type {\n",
       "        vertical-align: middle;\n",
       "    }\n",
       "\n",
       "    .dataframe tbody tr th {\n",
       "        vertical-align: top;\n",
       "    }\n",
       "\n",
       "    .dataframe thead th {\n",
       "        text-align: right;\n",
       "    }\n",
       "</style>\n",
       "<table border=\"1\" class=\"dataframe\">\n",
       "  <thead>\n",
       "    <tr style=\"text-align: right;\">\n",
       "      <th></th>\n",
       "      <th>report_dt</th>\n",
       "      <th>i_pernr</th>\n",
       "      <th>fio</th>\n",
       "      <th>sex</th>\n",
       "      <th>shop_id</th>\n",
       "      <th>pos_name</th>\n",
       "      <th>pos_id</th>\n",
       "      <th>closest_boss_pos_id</th>\n",
       "      <th>mgmt_flag</th>\n",
       "      <th>salary_fork</th>\n",
       "      <th>birth_date</th>\n",
       "      <th>education</th>\n",
       "      <th>employee_evaluation</th>\n",
       "      <th>salary</th>\n",
       "    </tr>\n",
       "  </thead>\n",
       "  <tbody>\n",
       "    <tr>\n",
       "      <th>573</th>\n",
       "      <td>2016-03-31</td>\n",
       "      <td>69</td>\n",
       "      <td>Рубцов Илья Тимурович</td>\n",
       "      <td>мужской</td>\n",
       "      <td>5</td>\n",
       "      <td>Кассир</td>\n",
       "      <td>55</td>\n",
       "      <td>52</td>\n",
       "      <td>0</td>\n",
       "      <td>0</td>\n",
       "      <td>1997-04-04</td>\n",
       "      <td>основное общее</td>\n",
       "      <td>6</td>\n",
       "      <td>15400.0</td>\n",
       "    </tr>\n",
       "    <tr>\n",
       "      <th>1239</th>\n",
       "      <td>2016-09-30</td>\n",
       "      <td>129</td>\n",
       "      <td>Борисова Елизаваета Максимовна</td>\n",
       "      <td>женский</td>\n",
       "      <td>5</td>\n",
       "      <td>Продавец-консультант</td>\n",
       "      <td>513</td>\n",
       "      <td>51</td>\n",
       "      <td>0</td>\n",
       "      <td>0</td>\n",
       "      <td>1970-06-13</td>\n",
       "      <td>среднее общее</td>\n",
       "      <td>5</td>\n",
       "      <td>19500.0</td>\n",
       "    </tr>\n",
       "    <tr>\n",
       "      <th>5170</th>\n",
       "      <td>2018-04-30</td>\n",
       "      <td>483</td>\n",
       "      <td>Медведев Святослав Владимирович</td>\n",
       "      <td>мужской</td>\n",
       "      <td>16</td>\n",
       "      <td>Продавец-консультант</td>\n",
       "      <td>1616</td>\n",
       "      <td>162</td>\n",
       "      <td>0</td>\n",
       "      <td>0</td>\n",
       "      <td>1983-08-03</td>\n",
       "      <td>среднее общее</td>\n",
       "      <td>4</td>\n",
       "      <td>21300.0</td>\n",
       "    </tr>\n",
       "  </tbody>\n",
       "</table>\n",
       "</div>"
      ],
      "text/plain": [
       "      report_dt  i_pernr                              fio      sex  shop_id  \\\n",
       "573  2016-03-31       69            Рубцов Илья Тимурович  мужской        5   \n",
       "1239 2016-09-30      129   Борисова Елизаваета Максимовна  женский        5   \n",
       "5170 2018-04-30      483  Медведев Святослав Владимирович  мужской       16   \n",
       "\n",
       "                  pos_name  pos_id  closest_boss_pos_id  mgmt_flag  \\\n",
       "573                 Кассир      55                   52          0   \n",
       "1239  Продавец-консультант     513                   51          0   \n",
       "5170  Продавец-консультант    1616                  162          0   \n",
       "\n",
       "      salary_fork birth_date       education  employee_evaluation   salary  \n",
       "573             0 1997-04-04  основное общее                    6  15400.0  \n",
       "1239            0 1970-06-13   среднее общее                    5  19500.0  \n",
       "5170            0 1983-08-03   среднее общее                    4  21300.0  "
      ]
     },
     "execution_count": 98,
     "metadata": {},
     "output_type": "execute_result"
    }
   ],
   "source": [
    "empl.loc[lambda x: ~x.duplicated('i_pernr', keep=False)].head(3)"
   ]
  },
  {
   "cell_type": "markdown",
   "id": "e8f9c1c8",
   "metadata": {},
   "source": [
    "Метод loc удобно использовать если надо проверить условие на всю строку или на значительную часть строки"
   ]
  },
  {
   "cell_type": "code",
   "execution_count": 99,
   "id": "2865fc6a",
   "metadata": {},
   "outputs": [
    {
     "data": {
      "text/html": [
       "<div>\n",
       "<style scoped>\n",
       "    .dataframe tbody tr th:only-of-type {\n",
       "        vertical-align: middle;\n",
       "    }\n",
       "\n",
       "    .dataframe tbody tr th {\n",
       "        vertical-align: top;\n",
       "    }\n",
       "\n",
       "    .dataframe thead th {\n",
       "        text-align: right;\n",
       "    }\n",
       "</style>\n",
       "<table border=\"1\" class=\"dataframe\">\n",
       "  <thead>\n",
       "    <tr style=\"text-align: right;\">\n",
       "      <th></th>\n",
       "      <th>ФИО</th>\n",
       "      <th>Пол</th>\n",
       "      <th>Математика</th>\n",
       "      <th>Русский язык</th>\n",
       "      <th>Литература</th>\n",
       "      <th>Физика</th>\n",
       "      <th>История</th>\n",
       "      <th>Физическая культура</th>\n",
       "    </tr>\n",
       "  </thead>\n",
       "  <tbody>\n",
       "    <tr>\n",
       "      <th>15</th>\n",
       "      <td>Минина Маргарита Кирилловна</td>\n",
       "      <td>женский</td>\n",
       "      <td>5</td>\n",
       "      <td>5</td>\n",
       "      <td>5</td>\n",
       "      <td>5</td>\n",
       "      <td>5</td>\n",
       "      <td>5</td>\n",
       "    </tr>\n",
       "    <tr>\n",
       "      <th>23</th>\n",
       "      <td>Яшин Давид Антонович</td>\n",
       "      <td>мужской</td>\n",
       "      <td>5</td>\n",
       "      <td>5</td>\n",
       "      <td>5</td>\n",
       "      <td>5</td>\n",
       "      <td>5</td>\n",
       "      <td>5</td>\n",
       "    </tr>\n",
       "    <tr>\n",
       "      <th>38</th>\n",
       "      <td>Кочетков Лев Евгеньевич</td>\n",
       "      <td>мужской</td>\n",
       "      <td>5</td>\n",
       "      <td>5</td>\n",
       "      <td>5</td>\n",
       "      <td>5</td>\n",
       "      <td>5</td>\n",
       "      <td>5</td>\n",
       "    </tr>\n",
       "    <tr>\n",
       "      <th>39</th>\n",
       "      <td>Калинин Владимир Олегович</td>\n",
       "      <td>мужской</td>\n",
       "      <td>5</td>\n",
       "      <td>5</td>\n",
       "      <td>5</td>\n",
       "      <td>5</td>\n",
       "      <td>5</td>\n",
       "      <td>5</td>\n",
       "    </tr>\n",
       "    <tr>\n",
       "      <th>41</th>\n",
       "      <td>Щербаков Данил Русланович</td>\n",
       "      <td>мужской</td>\n",
       "      <td>5</td>\n",
       "      <td>5</td>\n",
       "      <td>5</td>\n",
       "      <td>5</td>\n",
       "      <td>5</td>\n",
       "      <td>5</td>\n",
       "    </tr>\n",
       "    <tr>\n",
       "      <th>108</th>\n",
       "      <td>Дубинин Иван Валерьевич</td>\n",
       "      <td>мужской</td>\n",
       "      <td>5</td>\n",
       "      <td>5</td>\n",
       "      <td>5</td>\n",
       "      <td>5</td>\n",
       "      <td>5</td>\n",
       "      <td>5</td>\n",
       "    </tr>\n",
       "    <tr>\n",
       "      <th>113</th>\n",
       "      <td>Астафьева София Александровна</td>\n",
       "      <td>женский</td>\n",
       "      <td>5</td>\n",
       "      <td>5</td>\n",
       "      <td>5</td>\n",
       "      <td>5</td>\n",
       "      <td>5</td>\n",
       "      <td>5</td>\n",
       "    </tr>\n",
       "  </tbody>\n",
       "</table>\n",
       "</div>"
      ],
      "text/plain": [
       "                               ФИО      Пол  Математика  Русский язык  \\\n",
       "15     Минина Маргарита Кирилловна  женский           5             5   \n",
       "23            Яшин Давид Антонович  мужской           5             5   \n",
       "38         Кочетков Лев Евгеньевич  мужской           5             5   \n",
       "39       Калинин Владимир Олегович  мужской           5             5   \n",
       "41       Щербаков Данил Русланович  мужской           5             5   \n",
       "108        Дубинин Иван Валерьевич  мужской           5             5   \n",
       "113  Астафьева София Александровна  женский           5             5   \n",
       "\n",
       "     Литература  Физика  История  Физическая культура  \n",
       "15            5       5        5                    5  \n",
       "23            5       5        5                    5  \n",
       "38            5       5        5                    5  \n",
       "39            5       5        5                    5  \n",
       "41            5       5        5                    5  \n",
       "108           5       5        5                    5  \n",
       "113           5       5        5                    5  "
      ]
     },
     "execution_count": 99,
     "metadata": {},
     "output_type": "execute_result"
    }
   ],
   "source": [
    "marks.loc[lambda x: x\n",
    "    .drop(columns=['ФИО', 'Пол'])\n",
    "    .isin([5]) # или можно использовать .eq(5)\n",
    "    .all(axis=1)\n",
    "          ]"
   ]
  },
  {
   "cell_type": "markdown",
   "id": "d009f12f",
   "metadata": {},
   "source": [
    "Правда через query это тоже можно сделать"
   ]
  },
  {
   "cell_type": "code",
   "execution_count": 100,
   "id": "029ee6d3",
   "metadata": {},
   "outputs": [
    {
     "data": {
      "text/html": [
       "<div>\n",
       "<style scoped>\n",
       "    .dataframe tbody tr th:only-of-type {\n",
       "        vertical-align: middle;\n",
       "    }\n",
       "\n",
       "    .dataframe tbody tr th {\n",
       "        vertical-align: top;\n",
       "    }\n",
       "\n",
       "    .dataframe thead th {\n",
       "        text-align: right;\n",
       "    }\n",
       "</style>\n",
       "<table border=\"1\" class=\"dataframe\">\n",
       "  <thead>\n",
       "    <tr style=\"text-align: right;\">\n",
       "      <th></th>\n",
       "      <th>ФИО</th>\n",
       "      <th>Пол</th>\n",
       "      <th>Математика</th>\n",
       "      <th>Русский язык</th>\n",
       "      <th>Литература</th>\n",
       "      <th>Физика</th>\n",
       "      <th>История</th>\n",
       "      <th>Физическая культура</th>\n",
       "    </tr>\n",
       "  </thead>\n",
       "  <tbody>\n",
       "    <tr>\n",
       "      <th>15</th>\n",
       "      <td>Минина Маргарита Кирилловна</td>\n",
       "      <td>женский</td>\n",
       "      <td>5</td>\n",
       "      <td>5</td>\n",
       "      <td>5</td>\n",
       "      <td>5</td>\n",
       "      <td>5</td>\n",
       "      <td>5</td>\n",
       "    </tr>\n",
       "    <tr>\n",
       "      <th>23</th>\n",
       "      <td>Яшин Давид Антонович</td>\n",
       "      <td>мужской</td>\n",
       "      <td>5</td>\n",
       "      <td>5</td>\n",
       "      <td>5</td>\n",
       "      <td>5</td>\n",
       "      <td>5</td>\n",
       "      <td>5</td>\n",
       "    </tr>\n",
       "    <tr>\n",
       "      <th>38</th>\n",
       "      <td>Кочетков Лев Евгеньевич</td>\n",
       "      <td>мужской</td>\n",
       "      <td>5</td>\n",
       "      <td>5</td>\n",
       "      <td>5</td>\n",
       "      <td>5</td>\n",
       "      <td>5</td>\n",
       "      <td>5</td>\n",
       "    </tr>\n",
       "    <tr>\n",
       "      <th>39</th>\n",
       "      <td>Калинин Владимир Олегович</td>\n",
       "      <td>мужской</td>\n",
       "      <td>5</td>\n",
       "      <td>5</td>\n",
       "      <td>5</td>\n",
       "      <td>5</td>\n",
       "      <td>5</td>\n",
       "      <td>5</td>\n",
       "    </tr>\n",
       "    <tr>\n",
       "      <th>41</th>\n",
       "      <td>Щербаков Данил Русланович</td>\n",
       "      <td>мужской</td>\n",
       "      <td>5</td>\n",
       "      <td>5</td>\n",
       "      <td>5</td>\n",
       "      <td>5</td>\n",
       "      <td>5</td>\n",
       "      <td>5</td>\n",
       "    </tr>\n",
       "    <tr>\n",
       "      <th>108</th>\n",
       "      <td>Дубинин Иван Валерьевич</td>\n",
       "      <td>мужской</td>\n",
       "      <td>5</td>\n",
       "      <td>5</td>\n",
       "      <td>5</td>\n",
       "      <td>5</td>\n",
       "      <td>5</td>\n",
       "      <td>5</td>\n",
       "    </tr>\n",
       "    <tr>\n",
       "      <th>113</th>\n",
       "      <td>Астафьева София Александровна</td>\n",
       "      <td>женский</td>\n",
       "      <td>5</td>\n",
       "      <td>5</td>\n",
       "      <td>5</td>\n",
       "      <td>5</td>\n",
       "      <td>5</td>\n",
       "      <td>5</td>\n",
       "    </tr>\n",
       "  </tbody>\n",
       "</table>\n",
       "</div>"
      ],
      "text/plain": [
       "                               ФИО      Пол  Математика  Русский язык  \\\n",
       "15     Минина Маргарита Кирилловна  женский           5             5   \n",
       "23            Яшин Давид Антонович  мужской           5             5   \n",
       "38         Кочетков Лев Евгеньевич  мужской           5             5   \n",
       "39       Калинин Владимир Олегович  мужской           5             5   \n",
       "41       Щербаков Данил Русланович  мужской           5             5   \n",
       "108        Дубинин Иван Валерьевич  мужской           5             5   \n",
       "113  Астафьева София Александровна  женский           5             5   \n",
       "\n",
       "     Литература  Физика  История  Физическая культура  \n",
       "15            5       5        5                    5  \n",
       "23            5       5        5                    5  \n",
       "38            5       5        5                    5  \n",
       "39            5       5        5                    5  \n",
       "41            5       5        5                    5  \n",
       "108           5       5        5                    5  \n",
       "113           5       5        5                    5  "
      ]
     },
     "execution_count": 100,
     "metadata": {},
     "output_type": "execute_result"
    }
   ],
   "source": [
    "(marks\n",
    "    .assign(otlichik = lambda x: x.drop(columns=['ФИО', 'Пол'])\n",
    "                                    .isin([5]).all(axis=1)\n",
    "           )\n",
    "    .query('otlichik')\n",
    "    .drop('otlichik', axis=1)\n",
    ")"
   ]
  },
  {
   "cell_type": "code",
   "execution_count": null,
   "id": "cff6c868",
   "metadata": {},
   "outputs": [],
   "source": []
  },
  {
   "cell_type": "markdown",
   "id": "42415f4e",
   "metadata": {},
   "source": [
    "### Метод drop_duplicates"
   ]
  },
  {
   "cell_type": "markdown",
   "id": "8a54b38c",
   "metadata": {},
   "source": [
    "Оставляем строку если она не встречалась выше в таблице"
   ]
  },
  {
   "cell_type": "code",
   "execution_count": 101,
   "id": "20eebdb2",
   "metadata": {},
   "outputs": [
    {
     "data": {
      "text/html": [
       "<div>\n",
       "<style scoped>\n",
       "    .dataframe tbody tr th:only-of-type {\n",
       "        vertical-align: middle;\n",
       "    }\n",
       "\n",
       "    .dataframe tbody tr th {\n",
       "        vertical-align: top;\n",
       "    }\n",
       "\n",
       "    .dataframe thead th {\n",
       "        text-align: right;\n",
       "    }\n",
       "</style>\n",
       "<table border=\"1\" class=\"dataframe\">\n",
       "  <thead>\n",
       "    <tr style=\"text-align: right;\">\n",
       "      <th></th>\n",
       "      <th>report_dt</th>\n",
       "      <th>i_pernr</th>\n",
       "      <th>fio</th>\n",
       "      <th>sex</th>\n",
       "      <th>shop_id</th>\n",
       "      <th>pos_name</th>\n",
       "      <th>pos_id</th>\n",
       "      <th>closest_boss_pos_id</th>\n",
       "      <th>mgmt_flag</th>\n",
       "      <th>salary_fork</th>\n",
       "      <th>birth_date</th>\n",
       "      <th>education</th>\n",
       "      <th>employee_evaluation</th>\n",
       "      <th>salary</th>\n",
       "    </tr>\n",
       "  </thead>\n",
       "  <tbody>\n",
       "    <tr>\n",
       "      <th>0</th>\n",
       "      <td>2015-01-31</td>\n",
       "      <td>100000</td>\n",
       "      <td>Кожевников Андрей Максимович</td>\n",
       "      <td>мужской</td>\n",
       "      <td>1</td>\n",
       "      <td>Директор магазина</td>\n",
       "      <td>11</td>\n",
       "      <td>&lt;NA&gt;</td>\n",
       "      <td>1</td>\n",
       "      <td>0</td>\n",
       "      <td>1987-03-11</td>\n",
       "      <td>высшее</td>\n",
       "      <td>5</td>\n",
       "      <td>45700.0</td>\n",
       "    </tr>\n",
       "    <tr>\n",
       "      <th>1</th>\n",
       "      <td>2015-01-31</td>\n",
       "      <td>0</td>\n",
       "      <td>Дубинина Надежда Николаевна</td>\n",
       "      <td>женский</td>\n",
       "      <td>1</td>\n",
       "      <td>Старший кассир</td>\n",
       "      <td>12</td>\n",
       "      <td>11</td>\n",
       "      <td>0</td>\n",
       "      <td>0</td>\n",
       "      <td>1971-07-07</td>\n",
       "      <td>среднее профессиональное</td>\n",
       "      <td>5</td>\n",
       "      <td>20000.0</td>\n",
       "    </tr>\n",
       "    <tr>\n",
       "      <th>2</th>\n",
       "      <td>2015-01-31</td>\n",
       "      <td>1</td>\n",
       "      <td>Вишневскиая Валентина Константиновна</td>\n",
       "      <td>женский</td>\n",
       "      <td>1</td>\n",
       "      <td>Кассир</td>\n",
       "      <td>13</td>\n",
       "      <td>12</td>\n",
       "      <td>0</td>\n",
       "      <td>0</td>\n",
       "      <td>1974-11-29</td>\n",
       "      <td>среднее общее</td>\n",
       "      <td>5</td>\n",
       "      <td>12600.0</td>\n",
       "    </tr>\n",
       "  </tbody>\n",
       "</table>\n",
       "</div>"
      ],
      "text/plain": [
       "   report_dt  i_pernr                                   fio      sex  shop_id  \\\n",
       "0 2015-01-31   100000          Кожевников Андрей Максимович  мужской        1   \n",
       "1 2015-01-31        0           Дубинина Надежда Николаевна  женский        1   \n",
       "2 2015-01-31        1  Вишневскиая Валентина Константиновна  женский        1   \n",
       "\n",
       "            pos_name  pos_id  closest_boss_pos_id  mgmt_flag  salary_fork  \\\n",
       "0  Директор магазина      11                 <NA>          1            0   \n",
       "1     Старший кассир      12                   11          0            0   \n",
       "2             Кассир      13                   12          0            0   \n",
       "\n",
       "  birth_date                 education  employee_evaluation   salary  \n",
       "0 1987-03-11                    высшее                    5  45700.0  \n",
       "1 1971-07-07  среднее профессиональное                    5  20000.0  \n",
       "2 1974-11-29             среднее общее                    5  12600.0  "
      ]
     },
     "execution_count": 101,
     "metadata": {},
     "output_type": "execute_result"
    }
   ],
   "source": [
    "empl.drop_duplicates().head(3)"
   ]
  },
  {
   "cell_type": "code",
   "execution_count": 102,
   "id": "9ac6ee23",
   "metadata": {},
   "outputs": [
    {
     "data": {
      "text/html": [
       "<div>\n",
       "<style scoped>\n",
       "    .dataframe tbody tr th:only-of-type {\n",
       "        vertical-align: middle;\n",
       "    }\n",
       "\n",
       "    .dataframe tbody tr th {\n",
       "        vertical-align: top;\n",
       "    }\n",
       "\n",
       "    .dataframe thead th {\n",
       "        text-align: right;\n",
       "    }\n",
       "</style>\n",
       "<table border=\"1\" class=\"dataframe\">\n",
       "  <thead>\n",
       "    <tr style=\"text-align: right;\">\n",
       "      <th></th>\n",
       "      <th>report_dt</th>\n",
       "      <th>i_pernr</th>\n",
       "      <th>fio</th>\n",
       "      <th>sex</th>\n",
       "      <th>shop_id</th>\n",
       "      <th>pos_name</th>\n",
       "      <th>pos_id</th>\n",
       "      <th>closest_boss_pos_id</th>\n",
       "      <th>mgmt_flag</th>\n",
       "      <th>salary_fork</th>\n",
       "      <th>birth_date</th>\n",
       "      <th>education</th>\n",
       "      <th>employee_evaluation</th>\n",
       "      <th>salary</th>\n",
       "    </tr>\n",
       "  </thead>\n",
       "  <tbody>\n",
       "    <tr>\n",
       "      <th>0</th>\n",
       "      <td>2015-01-31</td>\n",
       "      <td>100000</td>\n",
       "      <td>Кожевников Андрей Максимович</td>\n",
       "      <td>мужской</td>\n",
       "      <td>1</td>\n",
       "      <td>Директор магазина</td>\n",
       "      <td>11</td>\n",
       "      <td>&lt;NA&gt;</td>\n",
       "      <td>1</td>\n",
       "      <td>0</td>\n",
       "      <td>1987-03-11</td>\n",
       "      <td>высшее</td>\n",
       "      <td>5</td>\n",
       "      <td>45700.0</td>\n",
       "    </tr>\n",
       "    <tr>\n",
       "      <th>1</th>\n",
       "      <td>2015-01-31</td>\n",
       "      <td>0</td>\n",
       "      <td>Дубинина Надежда Николаевна</td>\n",
       "      <td>женский</td>\n",
       "      <td>1</td>\n",
       "      <td>Старший кассир</td>\n",
       "      <td>12</td>\n",
       "      <td>11</td>\n",
       "      <td>0</td>\n",
       "      <td>0</td>\n",
       "      <td>1971-07-07</td>\n",
       "      <td>среднее профессиональное</td>\n",
       "      <td>5</td>\n",
       "      <td>20000.0</td>\n",
       "    </tr>\n",
       "    <tr>\n",
       "      <th>2</th>\n",
       "      <td>2015-01-31</td>\n",
       "      <td>1</td>\n",
       "      <td>Вишневскиая Валентина Константиновна</td>\n",
       "      <td>женский</td>\n",
       "      <td>1</td>\n",
       "      <td>Кассир</td>\n",
       "      <td>13</td>\n",
       "      <td>12</td>\n",
       "      <td>0</td>\n",
       "      <td>0</td>\n",
       "      <td>1974-11-29</td>\n",
       "      <td>среднее общее</td>\n",
       "      <td>5</td>\n",
       "      <td>12600.0</td>\n",
       "    </tr>\n",
       "  </tbody>\n",
       "</table>\n",
       "</div>"
      ],
      "text/plain": [
       "   report_dt  i_pernr                                   fio      sex  shop_id  \\\n",
       "0 2015-01-31   100000          Кожевников Андрей Максимович  мужской        1   \n",
       "1 2015-01-31        0           Дубинина Надежда Николаевна  женский        1   \n",
       "2 2015-01-31        1  Вишневскиая Валентина Константиновна  женский        1   \n",
       "\n",
       "            pos_name  pos_id  closest_boss_pos_id  mgmt_flag  salary_fork  \\\n",
       "0  Директор магазина      11                 <NA>          1            0   \n",
       "1     Старший кассир      12                   11          0            0   \n",
       "2             Кассир      13                   12          0            0   \n",
       "\n",
       "  birth_date                 education  employee_evaluation   salary  \n",
       "0 1987-03-11                    высшее                    5  45700.0  \n",
       "1 1971-07-07  среднее профессиональное                    5  20000.0  \n",
       "2 1974-11-29             среднее общее                    5  12600.0  "
      ]
     },
     "execution_count": 102,
     "metadata": {},
     "output_type": "execute_result"
    }
   ],
   "source": [
    "empl.drop_duplicates('i_pernr', keep='first').head(3) # Это значение по умолчанию"
   ]
  },
  {
   "cell_type": "markdown",
   "id": "c1e6b955",
   "metadata": {},
   "source": [
    "Оставляем строку если она не встречалась ниже в таблице"
   ]
  },
  {
   "cell_type": "code",
   "execution_count": 103,
   "id": "2c09399b",
   "metadata": {},
   "outputs": [
    {
     "data": {
      "text/html": [
       "<div>\n",
       "<style scoped>\n",
       "    .dataframe tbody tr th:only-of-type {\n",
       "        vertical-align: middle;\n",
       "    }\n",
       "\n",
       "    .dataframe tbody tr th {\n",
       "        vertical-align: top;\n",
       "    }\n",
       "\n",
       "    .dataframe thead th {\n",
       "        text-align: right;\n",
       "    }\n",
       "</style>\n",
       "<table border=\"1\" class=\"dataframe\">\n",
       "  <thead>\n",
       "    <tr style=\"text-align: right;\">\n",
       "      <th></th>\n",
       "      <th>report_dt</th>\n",
       "      <th>i_pernr</th>\n",
       "      <th>fio</th>\n",
       "      <th>sex</th>\n",
       "      <th>shop_id</th>\n",
       "      <th>pos_name</th>\n",
       "      <th>pos_id</th>\n",
       "      <th>closest_boss_pos_id</th>\n",
       "      <th>mgmt_flag</th>\n",
       "      <th>salary_fork</th>\n",
       "      <th>birth_date</th>\n",
       "      <th>education</th>\n",
       "      <th>employee_evaluation</th>\n",
       "      <th>salary</th>\n",
       "    </tr>\n",
       "  </thead>\n",
       "  <tbody>\n",
       "    <tr>\n",
       "      <th>146</th>\n",
       "      <td>2015-07-31</td>\n",
       "      <td>11</td>\n",
       "      <td>Мельников Игорь Семёнович</td>\n",
       "      <td>мужской</td>\n",
       "      <td>1</td>\n",
       "      <td>Кассир</td>\n",
       "      <td>16</td>\n",
       "      <td>12</td>\n",
       "      <td>0</td>\n",
       "      <td>0</td>\n",
       "      <td>1965-12-01</td>\n",
       "      <td>основное общее</td>\n",
       "      <td>6</td>\n",
       "      <td>12800.0</td>\n",
       "    </tr>\n",
       "    <tr>\n",
       "      <th>151</th>\n",
       "      <td>2015-07-31</td>\n",
       "      <td>7</td>\n",
       "      <td>Воробьев Семён Александрович</td>\n",
       "      <td>мужской</td>\n",
       "      <td>1</td>\n",
       "      <td>Продавец-консультант</td>\n",
       "      <td>111</td>\n",
       "      <td>11</td>\n",
       "      <td>0</td>\n",
       "      <td>0</td>\n",
       "      <td>1985-07-29</td>\n",
       "      <td>среднее общее</td>\n",
       "      <td>5</td>\n",
       "      <td>15400.0</td>\n",
       "    </tr>\n",
       "    <tr>\n",
       "      <th>180</th>\n",
       "      <td>2015-08-31</td>\n",
       "      <td>100000</td>\n",
       "      <td>Кожевников Андрей Максимович</td>\n",
       "      <td>мужской</td>\n",
       "      <td>1</td>\n",
       "      <td>Директор магазина</td>\n",
       "      <td>11</td>\n",
       "      <td>&lt;NA&gt;</td>\n",
       "      <td>1</td>\n",
       "      <td>0</td>\n",
       "      <td>1987-03-11</td>\n",
       "      <td>высшее</td>\n",
       "      <td>5</td>\n",
       "      <td>45700.0</td>\n",
       "    </tr>\n",
       "    <tr>\n",
       "      <th>251</th>\n",
       "      <td>2015-09-30</td>\n",
       "      <td>22</td>\n",
       "      <td>Ершова Маргарита Николаевна</td>\n",
       "      <td>женский</td>\n",
       "      <td>2</td>\n",
       "      <td>Продавец-консультант</td>\n",
       "      <td>221</td>\n",
       "      <td>22</td>\n",
       "      <td>0</td>\n",
       "      <td>0</td>\n",
       "      <td>1996-09-09</td>\n",
       "      <td>среднее общее</td>\n",
       "      <td>4</td>\n",
       "      <td>26400.0</td>\n",
       "    </tr>\n",
       "    <tr>\n",
       "      <th>291</th>\n",
       "      <td>2015-10-31</td>\n",
       "      <td>34</td>\n",
       "      <td>Свиридова Виктория Тимуровна</td>\n",
       "      <td>женский</td>\n",
       "      <td>2</td>\n",
       "      <td>Продавец-консультант</td>\n",
       "      <td>222</td>\n",
       "      <td>22</td>\n",
       "      <td>0</td>\n",
       "      <td>0</td>\n",
       "      <td>1990-08-11</td>\n",
       "      <td>среднее общее</td>\n",
       "      <td>4</td>\n",
       "      <td>26800.0</td>\n",
       "    </tr>\n",
       "  </tbody>\n",
       "</table>\n",
       "</div>"
      ],
      "text/plain": [
       "     report_dt  i_pernr                           fio      sex  shop_id  \\\n",
       "146 2015-07-31       11     Мельников Игорь Семёнович  мужской        1   \n",
       "151 2015-07-31        7  Воробьев Семён Александрович  мужской        1   \n",
       "180 2015-08-31   100000  Кожевников Андрей Максимович  мужской        1   \n",
       "251 2015-09-30       22   Ершова Маргарита Николаевна  женский        2   \n",
       "291 2015-10-31       34  Свиридова Виктория Тимуровна  женский        2   \n",
       "\n",
       "                 pos_name  pos_id  closest_boss_pos_id  mgmt_flag  \\\n",
       "146                Кассир      16                   12          0   \n",
       "151  Продавец-консультант     111                   11          0   \n",
       "180     Директор магазина      11                 <NA>          1   \n",
       "251  Продавец-консультант     221                   22          0   \n",
       "291  Продавец-консультант     222                   22          0   \n",
       "\n",
       "     salary_fork birth_date       education  employee_evaluation   salary  \n",
       "146            0 1965-12-01  основное общее                    6  12800.0  \n",
       "151            0 1985-07-29   среднее общее                    5  15400.0  \n",
       "180            0 1987-03-11          высшее                    5  45700.0  \n",
       "251            0 1996-09-09   среднее общее                    4  26400.0  \n",
       "291            0 1990-08-11   среднее общее                    4  26800.0  "
      ]
     },
     "execution_count": 103,
     "metadata": {},
     "output_type": "execute_result"
    }
   ],
   "source": [
    "empl.drop_duplicates('i_pernr', keep='last').head()"
   ]
  },
  {
   "cell_type": "markdown",
   "id": "b99b9106",
   "metadata": {},
   "source": [
    "Возвращаем только те строки, которые представленны в единственном экземпляре "
   ]
  },
  {
   "cell_type": "code",
   "execution_count": 104,
   "id": "35839a6c",
   "metadata": {},
   "outputs": [
    {
     "data": {
      "text/html": [
       "<div>\n",
       "<style scoped>\n",
       "    .dataframe tbody tr th:only-of-type {\n",
       "        vertical-align: middle;\n",
       "    }\n",
       "\n",
       "    .dataframe tbody tr th {\n",
       "        vertical-align: top;\n",
       "    }\n",
       "\n",
       "    .dataframe thead th {\n",
       "        text-align: right;\n",
       "    }\n",
       "</style>\n",
       "<table border=\"1\" class=\"dataframe\">\n",
       "  <thead>\n",
       "    <tr style=\"text-align: right;\">\n",
       "      <th></th>\n",
       "      <th>report_dt</th>\n",
       "      <th>i_pernr</th>\n",
       "      <th>fio</th>\n",
       "      <th>sex</th>\n",
       "      <th>shop_id</th>\n",
       "      <th>pos_name</th>\n",
       "      <th>pos_id</th>\n",
       "      <th>closest_boss_pos_id</th>\n",
       "      <th>mgmt_flag</th>\n",
       "      <th>salary_fork</th>\n",
       "      <th>birth_date</th>\n",
       "      <th>education</th>\n",
       "      <th>employee_evaluation</th>\n",
       "      <th>salary</th>\n",
       "    </tr>\n",
       "  </thead>\n",
       "  <tbody>\n",
       "    <tr>\n",
       "      <th>573</th>\n",
       "      <td>2016-03-31</td>\n",
       "      <td>69</td>\n",
       "      <td>Рубцов Илья Тимурович</td>\n",
       "      <td>мужской</td>\n",
       "      <td>5</td>\n",
       "      <td>Кассир</td>\n",
       "      <td>55</td>\n",
       "      <td>52</td>\n",
       "      <td>0</td>\n",
       "      <td>0</td>\n",
       "      <td>1997-04-04</td>\n",
       "      <td>основное общее</td>\n",
       "      <td>6</td>\n",
       "      <td>15400.0</td>\n",
       "    </tr>\n",
       "    <tr>\n",
       "      <th>1239</th>\n",
       "      <td>2016-09-30</td>\n",
       "      <td>129</td>\n",
       "      <td>Борисова Елизаваета Максимовна</td>\n",
       "      <td>женский</td>\n",
       "      <td>5</td>\n",
       "      <td>Продавец-консультант</td>\n",
       "      <td>513</td>\n",
       "      <td>51</td>\n",
       "      <td>0</td>\n",
       "      <td>0</td>\n",
       "      <td>1970-06-13</td>\n",
       "      <td>среднее общее</td>\n",
       "      <td>5</td>\n",
       "      <td>19500.0</td>\n",
       "    </tr>\n",
       "    <tr>\n",
       "      <th>5170</th>\n",
       "      <td>2018-04-30</td>\n",
       "      <td>483</td>\n",
       "      <td>Медведев Святослав Владимирович</td>\n",
       "      <td>мужской</td>\n",
       "      <td>16</td>\n",
       "      <td>Продавец-консультант</td>\n",
       "      <td>1616</td>\n",
       "      <td>162</td>\n",
       "      <td>0</td>\n",
       "      <td>0</td>\n",
       "      <td>1983-08-03</td>\n",
       "      <td>среднее общее</td>\n",
       "      <td>4</td>\n",
       "      <td>21300.0</td>\n",
       "    </tr>\n",
       "  </tbody>\n",
       "</table>\n",
       "</div>"
      ],
      "text/plain": [
       "      report_dt  i_pernr                              fio      sex  shop_id  \\\n",
       "573  2016-03-31       69            Рубцов Илья Тимурович  мужской        5   \n",
       "1239 2016-09-30      129   Борисова Елизаваета Максимовна  женский        5   \n",
       "5170 2018-04-30      483  Медведев Святослав Владимирович  мужской       16   \n",
       "\n",
       "                  pos_name  pos_id  closest_boss_pos_id  mgmt_flag  \\\n",
       "573                 Кассир      55                   52          0   \n",
       "1239  Продавец-консультант     513                   51          0   \n",
       "5170  Продавец-консультант    1616                  162          0   \n",
       "\n",
       "      salary_fork birth_date       education  employee_evaluation   salary  \n",
       "573             0 1997-04-04  основное общее                    6  15400.0  \n",
       "1239            0 1970-06-13   среднее общее                    5  19500.0  \n",
       "5170            0 1983-08-03   среднее общее                    4  21300.0  "
      ]
     },
     "execution_count": 104,
     "metadata": {},
     "output_type": "execute_result"
    }
   ],
   "source": [
    "empl.drop_duplicates('i_pernr', keep=False).head(3)"
   ]
  },
  {
   "cell_type": "code",
   "execution_count": null,
   "id": "ad0893d8",
   "metadata": {},
   "outputs": [],
   "source": []
  },
  {
   "cell_type": "code",
   "execution_count": null,
   "id": "01725c53",
   "metadata": {},
   "outputs": [],
   "source": []
  },
  {
   "cell_type": "code",
   "execution_count": null,
   "id": "8a6ebc79",
   "metadata": {},
   "outputs": [],
   "source": []
  },
  {
   "cell_type": "code",
   "execution_count": null,
   "id": "7f709ba2",
   "metadata": {},
   "outputs": [],
   "source": []
  },
  {
   "cell_type": "code",
   "execution_count": null,
   "id": "35a77744",
   "metadata": {},
   "outputs": [],
   "source": []
  },
  {
   "cell_type": "markdown",
   "id": "adb1b85d",
   "metadata": {},
   "source": [
    "# Присваивание значений на основе условий"
   ]
  },
  {
   "cell_type": "code",
   "execution_count": 105,
   "id": "d96f207b",
   "metadata": {},
   "outputs": [
    {
     "data": {
      "text/html": [
       "<div>\n",
       "<style scoped>\n",
       "    .dataframe tbody tr th:only-of-type {\n",
       "        vertical-align: middle;\n",
       "    }\n",
       "\n",
       "    .dataframe tbody tr th {\n",
       "        vertical-align: top;\n",
       "    }\n",
       "\n",
       "    .dataframe thead th {\n",
       "        text-align: right;\n",
       "    }\n",
       "</style>\n",
       "<table border=\"1\" class=\"dataframe\">\n",
       "  <thead>\n",
       "    <tr style=\"text-align: right;\">\n",
       "      <th></th>\n",
       "      <th>ФИО</th>\n",
       "      <th>Пол</th>\n",
       "      <th>Математика</th>\n",
       "      <th>Русский язык</th>\n",
       "      <th>Литература</th>\n",
       "      <th>Физика</th>\n",
       "      <th>История</th>\n",
       "      <th>Физическая культура</th>\n",
       "    </tr>\n",
       "  </thead>\n",
       "  <tbody>\n",
       "    <tr>\n",
       "      <th>0</th>\n",
       "      <td>Суханова Маргарита Богдановна</td>\n",
       "      <td>женский</td>\n",
       "      <td>3</td>\n",
       "      <td>3</td>\n",
       "      <td>3</td>\n",
       "      <td>3</td>\n",
       "      <td>3</td>\n",
       "      <td>5</td>\n",
       "    </tr>\n",
       "    <tr>\n",
       "      <th>1</th>\n",
       "      <td>Лаврентьев Давид Анатольевич</td>\n",
       "      <td>мужской</td>\n",
       "      <td>3</td>\n",
       "      <td>3</td>\n",
       "      <td>3</td>\n",
       "      <td>5</td>\n",
       "      <td>3</td>\n",
       "      <td>3</td>\n",
       "    </tr>\n",
       "    <tr>\n",
       "      <th>2</th>\n",
       "      <td>Винниченко Дарья Максимовна</td>\n",
       "      <td>женский</td>\n",
       "      <td>4</td>\n",
       "      <td>5</td>\n",
       "      <td>5</td>\n",
       "      <td>3</td>\n",
       "      <td>4</td>\n",
       "      <td>5</td>\n",
       "    </tr>\n",
       "    <tr>\n",
       "      <th>3</th>\n",
       "      <td>Козлова Маргарита Максимовна</td>\n",
       "      <td>женский</td>\n",
       "      <td>5</td>\n",
       "      <td>5</td>\n",
       "      <td>5</td>\n",
       "      <td>5</td>\n",
       "      <td>4</td>\n",
       "      <td>5</td>\n",
       "    </tr>\n",
       "    <tr>\n",
       "      <th>4</th>\n",
       "      <td>Кулешов Евгений Маратович</td>\n",
       "      <td>мужской</td>\n",
       "      <td>3</td>\n",
       "      <td>3</td>\n",
       "      <td>4</td>\n",
       "      <td>3</td>\n",
       "      <td>4</td>\n",
       "      <td>3</td>\n",
       "    </tr>\n",
       "  </tbody>\n",
       "</table>\n",
       "</div>"
      ],
      "text/plain": [
       "                             ФИО      Пол  Математика  Русский язык  \\\n",
       "0  Суханова Маргарита Богдановна  женский           3             3   \n",
       "1   Лаврентьев Давид Анатольевич  мужской           3             3   \n",
       "2    Винниченко Дарья Максимовна  женский           4             5   \n",
       "3   Козлова Маргарита Максимовна  женский           5             5   \n",
       "4      Кулешов Евгений Маратович  мужской           3             3   \n",
       "\n",
       "   Литература  Физика  История  Физическая культура  \n",
       "0           3       3        3                    5  \n",
       "1           3       5        3                    3  \n",
       "2           5       3        4                    5  \n",
       "3           5       5        4                    5  \n",
       "4           4       3        4                    3  "
      ]
     },
     "execution_count": 105,
     "metadata": {},
     "output_type": "execute_result"
    }
   ],
   "source": [
    "marks_copy = marks.copy()\n",
    "marks_copy.head()"
   ]
  },
  {
   "cell_type": "code",
   "execution_count": 106,
   "id": "480c5775",
   "metadata": {},
   "outputs": [
    {
     "data": {
      "text/plain": [
       "0    False\n",
       "1    False\n",
       "2    False\n",
       "3     True\n",
       "4    False\n",
       "dtype: bool"
      ]
     },
     "execution_count": 106,
     "metadata": {},
     "output_type": "execute_result"
    }
   ],
   "source": [
    "# Условие на то, что человек хорошист\n",
    "condition = (\n",
    "    marks_copy\n",
    "    .drop(columns=['ФИО', 'Пол'])\n",
    "    .isin([4, 5])\n",
    "    .all(axis=1)\n",
    ")\n",
    "condition.head()"
   ]
  },
  {
   "cell_type": "markdown",
   "id": "89c2b282",
   "metadata": {},
   "source": [
    "#### Использование атрибута loc"
   ]
  },
  {
   "cell_type": "code",
   "execution_count": 108,
   "id": "61a4f978",
   "metadata": {},
   "outputs": [
    {
     "data": {
      "text/html": [
       "<div>\n",
       "<style scoped>\n",
       "    .dataframe tbody tr th:only-of-type {\n",
       "        vertical-align: middle;\n",
       "    }\n",
       "\n",
       "    .dataframe tbody tr th {\n",
       "        vertical-align: top;\n",
       "    }\n",
       "\n",
       "    .dataframe thead th {\n",
       "        text-align: right;\n",
       "    }\n",
       "</style>\n",
       "<table border=\"1\" class=\"dataframe\">\n",
       "  <thead>\n",
       "    <tr style=\"text-align: right;\">\n",
       "      <th></th>\n",
       "      <th>ФИО</th>\n",
       "      <th>Пол</th>\n",
       "      <th>Математика</th>\n",
       "      <th>Русский язык</th>\n",
       "      <th>Литература</th>\n",
       "      <th>Физика</th>\n",
       "      <th>История</th>\n",
       "      <th>Физическая культура</th>\n",
       "      <th>Характеристика</th>\n",
       "    </tr>\n",
       "  </thead>\n",
       "  <tbody>\n",
       "    <tr>\n",
       "      <th>0</th>\n",
       "      <td>Суханова Маргарита Богдановна</td>\n",
       "      <td>женский</td>\n",
       "      <td>3</td>\n",
       "      <td>3</td>\n",
       "      <td>3</td>\n",
       "      <td>3</td>\n",
       "      <td>3</td>\n",
       "      <td>5</td>\n",
       "      <td>Учится плохо</td>\n",
       "    </tr>\n",
       "    <tr>\n",
       "      <th>1</th>\n",
       "      <td>Лаврентьев Давид Анатольевич</td>\n",
       "      <td>мужской</td>\n",
       "      <td>3</td>\n",
       "      <td>3</td>\n",
       "      <td>3</td>\n",
       "      <td>5</td>\n",
       "      <td>3</td>\n",
       "      <td>3</td>\n",
       "      <td>Учится плохо</td>\n",
       "    </tr>\n",
       "    <tr>\n",
       "      <th>2</th>\n",
       "      <td>Винниченко Дарья Максимовна</td>\n",
       "      <td>женский</td>\n",
       "      <td>4</td>\n",
       "      <td>5</td>\n",
       "      <td>5</td>\n",
       "      <td>3</td>\n",
       "      <td>4</td>\n",
       "      <td>5</td>\n",
       "      <td>Учится плохо</td>\n",
       "    </tr>\n",
       "    <tr>\n",
       "      <th>3</th>\n",
       "      <td>Козлова Маргарита Максимовна</td>\n",
       "      <td>женский</td>\n",
       "      <td>5</td>\n",
       "      <td>5</td>\n",
       "      <td>5</td>\n",
       "      <td>5</td>\n",
       "      <td>4</td>\n",
       "      <td>5</td>\n",
       "      <td>Учится хорошо</td>\n",
       "    </tr>\n",
       "    <tr>\n",
       "      <th>4</th>\n",
       "      <td>Кулешов Евгений Маратович</td>\n",
       "      <td>мужской</td>\n",
       "      <td>3</td>\n",
       "      <td>3</td>\n",
       "      <td>4</td>\n",
       "      <td>3</td>\n",
       "      <td>4</td>\n",
       "      <td>3</td>\n",
       "      <td>Учится плохо</td>\n",
       "    </tr>\n",
       "  </tbody>\n",
       "</table>\n",
       "</div>"
      ],
      "text/plain": [
       "                             ФИО      Пол  Математика  Русский язык  \\\n",
       "0  Суханова Маргарита Богдановна  женский           3             3   \n",
       "1   Лаврентьев Давид Анатольевич  мужской           3             3   \n",
       "2    Винниченко Дарья Максимовна  женский           4             5   \n",
       "3   Козлова Маргарита Максимовна  женский           5             5   \n",
       "4      Кулешов Евгений Маратович  мужской           3             3   \n",
       "\n",
       "   Литература  Физика  История  Физическая культура Характеристика  \n",
       "0           3       3        3                    5   Учится плохо  \n",
       "1           3       5        3                    3   Учится плохо  \n",
       "2           5       3        4                    5   Учится плохо  \n",
       "3           5       5        4                    5  Учится хорошо  \n",
       "4           4       3        4                    3   Учится плохо  "
      ]
     },
     "execution_count": 108,
     "metadata": {},
     "output_type": "execute_result"
    }
   ],
   "source": [
    "marks_copy.loc[condition, 'Характеристика'] = 'Учится хорошо'\n",
    "marks_copy.loc[~condition, 'Характеристика'] = 'Учится плохо'\n",
    "marks_copy.head()"
   ]
  },
  {
   "cell_type": "code",
   "execution_count": null,
   "id": "c3c337cd",
   "metadata": {},
   "outputs": [],
   "source": []
  },
  {
   "cell_type": "code",
   "execution_count": null,
   "id": "ed46c974",
   "metadata": {},
   "outputs": [],
   "source": []
  },
  {
   "cell_type": "code",
   "execution_count": null,
   "id": "54cfddeb",
   "metadata": {},
   "outputs": [],
   "source": []
  },
  {
   "cell_type": "markdown",
   "id": "506431f6",
   "metadata": {},
   "source": [
    "### where"
   ]
  },
  {
   "cell_type": "markdown",
   "id": "3238325b",
   "metadata": {},
   "source": [
    "Синсаксис:\n",
    "\n",
    "np.where(условие, значение если условие выполняется, значение если условие не выполняется)"
   ]
  },
  {
   "cell_type": "code",
   "execution_count": 109,
   "id": "ec591030",
   "metadata": {},
   "outputs": [
    {
     "data": {
      "text/plain": [
       "array(['Учится плохо', 'Учится плохо', 'Учится плохо', 'Учится хорошо',\n",
       "       'Учится плохо', 'Учится плохо', 'Учится плохо', 'Учится плохо',\n",
       "       'Учится плохо', 'Учится плохо', 'Учится плохо', 'Учится плохо',\n",
       "       'Учится хорошо', 'Учится хорошо', 'Учится хорошо', 'Учится хорошо',\n",
       "       'Учится хорошо', 'Учится хорошо', 'Учится хорошо', 'Учится плохо',\n",
       "       'Учится плохо', 'Учится хорошо', 'Учится хорошо', 'Учится хорошо',\n",
       "       'Учится плохо', 'Учится хорошо', 'Учится плохо', 'Учится плохо',\n",
       "       'Учится плохо', 'Учится хорошо', 'Учится плохо', 'Учится плохо',\n",
       "       'Учится хорошо', 'Учится плохо', 'Учится плохо', 'Учится хорошо',\n",
       "       'Учится плохо', 'Учится плохо', 'Учится хорошо', 'Учится хорошо',\n",
       "       'Учится плохо', 'Учится хорошо', 'Учится плохо', 'Учится плохо',\n",
       "       'Учится плохо', 'Учится плохо', 'Учится плохо', 'Учится плохо',\n",
       "       'Учится плохо', 'Учится плохо', 'Учится плохо', 'Учится хорошо',\n",
       "       'Учится плохо', 'Учится плохо', 'Учится плохо', 'Учится плохо',\n",
       "       'Учится хорошо', 'Учится плохо', 'Учится плохо', 'Учится плохо',\n",
       "       'Учится плохо', 'Учится хорошо', 'Учится хорошо', 'Учится плохо',\n",
       "       'Учится хорошо', 'Учится плохо', 'Учится плохо', 'Учится плохо',\n",
       "       'Учится хорошо', 'Учится плохо', 'Учится хорошо', 'Учится плохо',\n",
       "       'Учится плохо', 'Учится хорошо', 'Учится плохо', 'Учится плохо',\n",
       "       'Учится плохо', 'Учится плохо', 'Учится хорошо', 'Учится плохо',\n",
       "       'Учится плохо', 'Учится плохо', 'Учится плохо', 'Учится хорошо',\n",
       "       'Учится хорошо', 'Учится плохо', 'Учится плохо', 'Учится плохо',\n",
       "       'Учится плохо', 'Учится плохо', 'Учится плохо', 'Учится хорошо',\n",
       "       'Учится плохо', 'Учится плохо', 'Учится хорошо', 'Учится плохо',\n",
       "       'Учится плохо', 'Учится хорошо', 'Учится хорошо', 'Учится плохо',\n",
       "       'Учится хорошо', 'Учится хорошо', 'Учится хорошо', 'Учится хорошо',\n",
       "       'Учится плохо', 'Учится плохо', 'Учится плохо', 'Учится хорошо',\n",
       "       'Учится хорошо', 'Учится плохо', 'Учится плохо', 'Учится хорошо',\n",
       "       'Учится хорошо', 'Учится хорошо', 'Учится плохо', 'Учится хорошо',\n",
       "       'Учится хорошо', 'Учится плохо', 'Учится плохо', 'Учится плохо',\n",
       "       'Учится плохо', 'Учится плохо', 'Учится плохо', 'Учится хорошо',\n",
       "       'Учится плохо', 'Учится хорошо', 'Учится хорошо', 'Учится плохо',\n",
       "       'Учится плохо', 'Учится хорошо', 'Учится плохо', 'Учится плохо',\n",
       "       'Учится плохо', 'Учится хорошо', 'Учится плохо', 'Учится плохо',\n",
       "       'Учится плохо', 'Учится плохо', 'Учится плохо', 'Учится плохо',\n",
       "       'Учится плохо', 'Учится хорошо', 'Учится плохо', 'Учится плохо',\n",
       "       'Учится хорошо'], dtype='<U13')"
      ]
     },
     "execution_count": 109,
     "metadata": {},
     "output_type": "execute_result"
    }
   ],
   "source": [
    "np.where(marks.drop(columns=['ФИО', 'Пол']).isin([4, 5]).all(axis=1), # прописываем условие\n",
    "        'Учится хорошо', 'Учится плохо') # Значение если условие выполняется и не выполняется"
   ]
  },
  {
   "cell_type": "code",
   "execution_count": null,
   "id": "05cfa5f8",
   "metadata": {},
   "outputs": [],
   "source": []
  },
  {
   "cell_type": "code",
   "execution_count": null,
   "id": "ca7276b6",
   "metadata": {},
   "outputs": [],
   "source": []
  },
  {
   "cell_type": "code",
   "execution_count": null,
   "id": "ed70c192",
   "metadata": {},
   "outputs": [],
   "source": []
  },
  {
   "cell_type": "code",
   "execution_count": 110,
   "id": "b42b0e66",
   "metadata": {},
   "outputs": [
    {
     "data": {
      "text/html": [
       "<div>\n",
       "<style scoped>\n",
       "    .dataframe tbody tr th:only-of-type {\n",
       "        vertical-align: middle;\n",
       "    }\n",
       "\n",
       "    .dataframe tbody tr th {\n",
       "        vertical-align: top;\n",
       "    }\n",
       "\n",
       "    .dataframe thead th {\n",
       "        text-align: right;\n",
       "    }\n",
       "</style>\n",
       "<table border=\"1\" class=\"dataframe\">\n",
       "  <thead>\n",
       "    <tr style=\"text-align: right;\">\n",
       "      <th></th>\n",
       "      <th>ФИО</th>\n",
       "      <th>Пол</th>\n",
       "      <th>Математика</th>\n",
       "      <th>Русский язык</th>\n",
       "      <th>Литература</th>\n",
       "      <th>Физика</th>\n",
       "      <th>История</th>\n",
       "      <th>Физическая культура</th>\n",
       "      <th>characteristic</th>\n",
       "    </tr>\n",
       "  </thead>\n",
       "  <tbody>\n",
       "    <tr>\n",
       "      <th>0</th>\n",
       "      <td>Суханова Маргарита Богдановна</td>\n",
       "      <td>женский</td>\n",
       "      <td>3</td>\n",
       "      <td>3</td>\n",
       "      <td>3</td>\n",
       "      <td>3</td>\n",
       "      <td>3</td>\n",
       "      <td>5</td>\n",
       "      <td>Учится плохо</td>\n",
       "    </tr>\n",
       "    <tr>\n",
       "      <th>1</th>\n",
       "      <td>Лаврентьев Давид Анатольевич</td>\n",
       "      <td>мужской</td>\n",
       "      <td>3</td>\n",
       "      <td>3</td>\n",
       "      <td>3</td>\n",
       "      <td>5</td>\n",
       "      <td>3</td>\n",
       "      <td>3</td>\n",
       "      <td>Учится плохо</td>\n",
       "    </tr>\n",
       "    <tr>\n",
       "      <th>2</th>\n",
       "      <td>Винниченко Дарья Максимовна</td>\n",
       "      <td>женский</td>\n",
       "      <td>4</td>\n",
       "      <td>5</td>\n",
       "      <td>5</td>\n",
       "      <td>3</td>\n",
       "      <td>4</td>\n",
       "      <td>5</td>\n",
       "      <td>Учится плохо</td>\n",
       "    </tr>\n",
       "    <tr>\n",
       "      <th>3</th>\n",
       "      <td>Козлова Маргарита Максимовна</td>\n",
       "      <td>женский</td>\n",
       "      <td>5</td>\n",
       "      <td>5</td>\n",
       "      <td>5</td>\n",
       "      <td>5</td>\n",
       "      <td>4</td>\n",
       "      <td>5</td>\n",
       "      <td>Учится хорошо</td>\n",
       "    </tr>\n",
       "    <tr>\n",
       "      <th>4</th>\n",
       "      <td>Кулешов Евгений Маратович</td>\n",
       "      <td>мужской</td>\n",
       "      <td>3</td>\n",
       "      <td>3</td>\n",
       "      <td>4</td>\n",
       "      <td>3</td>\n",
       "      <td>4</td>\n",
       "      <td>3</td>\n",
       "      <td>Учится плохо</td>\n",
       "    </tr>\n",
       "  </tbody>\n",
       "</table>\n",
       "</div>"
      ],
      "text/plain": [
       "                             ФИО      Пол  Математика  Русский язык  \\\n",
       "0  Суханова Маргарита Богдановна  женский           3             3   \n",
       "1   Лаврентьев Давид Анатольевич  мужской           3             3   \n",
       "2    Винниченко Дарья Максимовна  женский           4             5   \n",
       "3   Козлова Маргарита Максимовна  женский           5             5   \n",
       "4      Кулешов Евгений Маратович  мужской           3             3   \n",
       "\n",
       "   Литература  Физика  История  Физическая культура characteristic  \n",
       "0           3       3        3                    5   Учится плохо  \n",
       "1           3       5        3                    3   Учится плохо  \n",
       "2           5       3        4                    5   Учится плохо  \n",
       "3           5       5        4                    5  Учится хорошо  \n",
       "4           4       3        4                    3   Учится плохо  "
      ]
     },
     "execution_count": 110,
     "metadata": {},
     "output_type": "execute_result"
    }
   ],
   "source": [
    "(marks\n",
    "    .assign(characteristic = lambda x: np.where(x.drop(columns=['ФИО', 'Пол'])\n",
    "                                                 .isin([4, 5]).all(axis=1),\n",
    "                                        'Учится хорошо', 'Учится плохо'))\n",
    "    .head()\n",
    ")"
   ]
  },
  {
   "cell_type": "code",
   "execution_count": 111,
   "id": "949f32c8",
   "metadata": {},
   "outputs": [
    {
     "data": {
      "text/html": [
       "<div>\n",
       "<style scoped>\n",
       "    .dataframe tbody tr th:only-of-type {\n",
       "        vertical-align: middle;\n",
       "    }\n",
       "\n",
       "    .dataframe tbody tr th {\n",
       "        vertical-align: top;\n",
       "    }\n",
       "\n",
       "    .dataframe thead th {\n",
       "        text-align: right;\n",
       "    }\n",
       "</style>\n",
       "<table border=\"1\" class=\"dataframe\">\n",
       "  <thead>\n",
       "    <tr style=\"text-align: right;\">\n",
       "      <th></th>\n",
       "      <th>report_dt</th>\n",
       "      <th>i_pernr</th>\n",
       "      <th>fio</th>\n",
       "      <th>sex</th>\n",
       "      <th>shop_id</th>\n",
       "      <th>pos_name</th>\n",
       "      <th>pos_id</th>\n",
       "      <th>closest_boss_pos_id</th>\n",
       "      <th>mgmt_flag</th>\n",
       "      <th>salary_fork</th>\n",
       "      <th>birth_date</th>\n",
       "      <th>education</th>\n",
       "      <th>employee_evaluation</th>\n",
       "      <th>salary</th>\n",
       "      <th>bonus</th>\n",
       "    </tr>\n",
       "  </thead>\n",
       "  <tbody>\n",
       "    <tr>\n",
       "      <th>0</th>\n",
       "      <td>2015-01-31</td>\n",
       "      <td>100000</td>\n",
       "      <td>Кожевников Андрей Максимович</td>\n",
       "      <td>мужской</td>\n",
       "      <td>1</td>\n",
       "      <td>Директор магазина</td>\n",
       "      <td>11</td>\n",
       "      <td>&lt;NA&gt;</td>\n",
       "      <td>1</td>\n",
       "      <td>0</td>\n",
       "      <td>1987-03-11</td>\n",
       "      <td>высшее</td>\n",
       "      <td>5</td>\n",
       "      <td>45700.0</td>\n",
       "      <td>9140.0</td>\n",
       "    </tr>\n",
       "    <tr>\n",
       "      <th>1</th>\n",
       "      <td>2015-01-31</td>\n",
       "      <td>0</td>\n",
       "      <td>Дубинина Надежда Николаевна</td>\n",
       "      <td>женский</td>\n",
       "      <td>1</td>\n",
       "      <td>Старший кассир</td>\n",
       "      <td>12</td>\n",
       "      <td>11</td>\n",
       "      <td>0</td>\n",
       "      <td>0</td>\n",
       "      <td>1971-07-07</td>\n",
       "      <td>среднее профессиональное</td>\n",
       "      <td>5</td>\n",
       "      <td>20000.0</td>\n",
       "      <td>2000.0</td>\n",
       "    </tr>\n",
       "    <tr>\n",
       "      <th>2</th>\n",
       "      <td>2015-01-31</td>\n",
       "      <td>1</td>\n",
       "      <td>Вишневскиая Валентина Константиновна</td>\n",
       "      <td>женский</td>\n",
       "      <td>1</td>\n",
       "      <td>Кассир</td>\n",
       "      <td>13</td>\n",
       "      <td>12</td>\n",
       "      <td>0</td>\n",
       "      <td>0</td>\n",
       "      <td>1974-11-29</td>\n",
       "      <td>среднее общее</td>\n",
       "      <td>5</td>\n",
       "      <td>12600.0</td>\n",
       "      <td>1260.0</td>\n",
       "    </tr>\n",
       "    <tr>\n",
       "      <th>3</th>\n",
       "      <td>2015-01-31</td>\n",
       "      <td>2</td>\n",
       "      <td>Литвинов Александр Максимович</td>\n",
       "      <td>мужской</td>\n",
       "      <td>1</td>\n",
       "      <td>Кассир</td>\n",
       "      <td>14</td>\n",
       "      <td>12</td>\n",
       "      <td>0</td>\n",
       "      <td>0</td>\n",
       "      <td>1969-11-01</td>\n",
       "      <td>среднее общее</td>\n",
       "      <td>3</td>\n",
       "      <td>12600.0</td>\n",
       "      <td>1260.0</td>\n",
       "    </tr>\n",
       "    <tr>\n",
       "      <th>4</th>\n",
       "      <td>2015-01-31</td>\n",
       "      <td>3</td>\n",
       "      <td>Черняева Валерия Глебовна</td>\n",
       "      <td>женский</td>\n",
       "      <td>1</td>\n",
       "      <td>Продавец-консультант</td>\n",
       "      <td>17</td>\n",
       "      <td>11</td>\n",
       "      <td>0</td>\n",
       "      <td>0</td>\n",
       "      <td>1988-07-17</td>\n",
       "      <td>среднее общее</td>\n",
       "      <td>&lt;NA&gt;</td>\n",
       "      <td>15400.0</td>\n",
       "      <td>1540.0</td>\n",
       "    </tr>\n",
       "  </tbody>\n",
       "</table>\n",
       "</div>"
      ],
      "text/plain": [
       "   report_dt  i_pernr                                   fio      sex  shop_id  \\\n",
       "0 2015-01-31   100000          Кожевников Андрей Максимович  мужской        1   \n",
       "1 2015-01-31        0           Дубинина Надежда Николаевна  женский        1   \n",
       "2 2015-01-31        1  Вишневскиая Валентина Константиновна  женский        1   \n",
       "3 2015-01-31        2         Литвинов Александр Максимович  мужской        1   \n",
       "4 2015-01-31        3             Черняева Валерия Глебовна  женский        1   \n",
       "\n",
       "               pos_name  pos_id  closest_boss_pos_id  mgmt_flag  salary_fork  \\\n",
       "0     Директор магазина      11                 <NA>          1            0   \n",
       "1        Старший кассир      12                   11          0            0   \n",
       "2                Кассир      13                   12          0            0   \n",
       "3                Кассир      14                   12          0            0   \n",
       "4  Продавец-консультант      17                   11          0            0   \n",
       "\n",
       "  birth_date                 education  employee_evaluation   salary   bonus  \n",
       "0 1987-03-11                    высшее                    5  45700.0  9140.0  \n",
       "1 1971-07-07  среднее профессиональное                    5  20000.0  2000.0  \n",
       "2 1974-11-29             среднее общее                    5  12600.0  1260.0  \n",
       "3 1969-11-01             среднее общее                    3  12600.0  1260.0  \n",
       "4 1988-07-17             среднее общее                 <NA>  15400.0  1540.0  "
      ]
     },
     "execution_count": 111,
     "metadata": {},
     "output_type": "execute_result"
    }
   ],
   "source": [
    "(empl\n",
    "    .assign(bonus = lambda x: np.where(x['mgmt_flag']==1,\n",
    "                                       x['salary']*0.2,\n",
    "                                       x['salary']*0.1)\n",
    "           )\n",
    "    .head()\n",
    ")"
   ]
  },
  {
   "cell_type": "code",
   "execution_count": 112,
   "id": "3ea484ac",
   "metadata": {},
   "outputs": [
    {
     "data": {
      "text/html": [
       "<div>\n",
       "<style scoped>\n",
       "    .dataframe tbody tr th:only-of-type {\n",
       "        vertical-align: middle;\n",
       "    }\n",
       "\n",
       "    .dataframe tbody tr th {\n",
       "        vertical-align: top;\n",
       "    }\n",
       "\n",
       "    .dataframe thead th {\n",
       "        text-align: right;\n",
       "    }\n",
       "</style>\n",
       "<table border=\"1\" class=\"dataframe\">\n",
       "  <thead>\n",
       "    <tr style=\"text-align: right;\">\n",
       "      <th></th>\n",
       "      <th>report_dt</th>\n",
       "      <th>i_pernr</th>\n",
       "      <th>fio</th>\n",
       "      <th>sex</th>\n",
       "      <th>shop_id</th>\n",
       "      <th>pos_name</th>\n",
       "      <th>pos_id</th>\n",
       "      <th>closest_boss_pos_id</th>\n",
       "      <th>mgmt_flag</th>\n",
       "      <th>salary_fork</th>\n",
       "      <th>birth_date</th>\n",
       "      <th>education</th>\n",
       "      <th>employee_evaluation</th>\n",
       "      <th>salary</th>\n",
       "      <th>bonus</th>\n",
       "    </tr>\n",
       "  </thead>\n",
       "  <tbody>\n",
       "    <tr>\n",
       "      <th>0</th>\n",
       "      <td>2015-01-31</td>\n",
       "      <td>100000</td>\n",
       "      <td>Кожевников Андрей Максимович</td>\n",
       "      <td>мужской</td>\n",
       "      <td>1</td>\n",
       "      <td>Директор магазина</td>\n",
       "      <td>11</td>\n",
       "      <td>&lt;NA&gt;</td>\n",
       "      <td>1</td>\n",
       "      <td>0</td>\n",
       "      <td>1987-03-11</td>\n",
       "      <td>высшее</td>\n",
       "      <td>5</td>\n",
       "      <td>45700.0</td>\n",
       "      <td>9140.0</td>\n",
       "    </tr>\n",
       "    <tr>\n",
       "      <th>1</th>\n",
       "      <td>2015-01-31</td>\n",
       "      <td>0</td>\n",
       "      <td>Дубинина Надежда Николаевна</td>\n",
       "      <td>женский</td>\n",
       "      <td>1</td>\n",
       "      <td>Старший кассир</td>\n",
       "      <td>12</td>\n",
       "      <td>11</td>\n",
       "      <td>0</td>\n",
       "      <td>0</td>\n",
       "      <td>1971-07-07</td>\n",
       "      <td>среднее профессиональное</td>\n",
       "      <td>5</td>\n",
       "      <td>20000.0</td>\n",
       "      <td>500.0</td>\n",
       "    </tr>\n",
       "    <tr>\n",
       "      <th>2</th>\n",
       "      <td>2015-01-31</td>\n",
       "      <td>1</td>\n",
       "      <td>Вишневскиая Валентина Константиновна</td>\n",
       "      <td>женский</td>\n",
       "      <td>1</td>\n",
       "      <td>Кассир</td>\n",
       "      <td>13</td>\n",
       "      <td>12</td>\n",
       "      <td>0</td>\n",
       "      <td>0</td>\n",
       "      <td>1974-11-29</td>\n",
       "      <td>среднее общее</td>\n",
       "      <td>5</td>\n",
       "      <td>12600.0</td>\n",
       "      <td>500.0</td>\n",
       "    </tr>\n",
       "    <tr>\n",
       "      <th>3</th>\n",
       "      <td>2015-01-31</td>\n",
       "      <td>2</td>\n",
       "      <td>Литвинов Александр Максимович</td>\n",
       "      <td>мужской</td>\n",
       "      <td>1</td>\n",
       "      <td>Кассир</td>\n",
       "      <td>14</td>\n",
       "      <td>12</td>\n",
       "      <td>0</td>\n",
       "      <td>0</td>\n",
       "      <td>1969-11-01</td>\n",
       "      <td>среднее общее</td>\n",
       "      <td>3</td>\n",
       "      <td>12600.0</td>\n",
       "      <td>500.0</td>\n",
       "    </tr>\n",
       "    <tr>\n",
       "      <th>4</th>\n",
       "      <td>2015-01-31</td>\n",
       "      <td>3</td>\n",
       "      <td>Черняева Валерия Глебовна</td>\n",
       "      <td>женский</td>\n",
       "      <td>1</td>\n",
       "      <td>Продавец-консультант</td>\n",
       "      <td>17</td>\n",
       "      <td>11</td>\n",
       "      <td>0</td>\n",
       "      <td>0</td>\n",
       "      <td>1988-07-17</td>\n",
       "      <td>среднее общее</td>\n",
       "      <td>&lt;NA&gt;</td>\n",
       "      <td>15400.0</td>\n",
       "      <td>500.0</td>\n",
       "    </tr>\n",
       "  </tbody>\n",
       "</table>\n",
       "</div>"
      ],
      "text/plain": [
       "   report_dt  i_pernr                                   fio      sex  shop_id  \\\n",
       "0 2015-01-31   100000          Кожевников Андрей Максимович  мужской        1   \n",
       "1 2015-01-31        0           Дубинина Надежда Николаевна  женский        1   \n",
       "2 2015-01-31        1  Вишневскиая Валентина Константиновна  женский        1   \n",
       "3 2015-01-31        2         Литвинов Александр Максимович  мужской        1   \n",
       "4 2015-01-31        3             Черняева Валерия Глебовна  женский        1   \n",
       "\n",
       "               pos_name  pos_id  closest_boss_pos_id  mgmt_flag  salary_fork  \\\n",
       "0     Директор магазина      11                 <NA>          1            0   \n",
       "1        Старший кассир      12                   11          0            0   \n",
       "2                Кассир      13                   12          0            0   \n",
       "3                Кассир      14                   12          0            0   \n",
       "4  Продавец-консультант      17                   11          0            0   \n",
       "\n",
       "  birth_date                 education  employee_evaluation   salary   bonus  \n",
       "0 1987-03-11                    высшее                    5  45700.0  9140.0  \n",
       "1 1971-07-07  среднее профессиональное                    5  20000.0   500.0  \n",
       "2 1974-11-29             среднее общее                    5  12600.0   500.0  \n",
       "3 1969-11-01             среднее общее                    3  12600.0   500.0  \n",
       "4 1988-07-17             среднее общее                 <NA>  15400.0   500.0  "
      ]
     },
     "execution_count": 112,
     "metadata": {},
     "output_type": "execute_result"
    }
   ],
   "source": [
    "(empl\n",
    "    .assign(bonus = lambda x: np.where(x['mgmt_flag']==1,\n",
    "                                       x['salary']*0.2,\n",
    "                                       500)\n",
    "           )\n",
    "    .head()\n",
    ")"
   ]
  },
  {
   "cell_type": "code",
   "execution_count": null,
   "id": "355e2c52",
   "metadata": {},
   "outputs": [],
   "source": []
  },
  {
   "cell_type": "markdown",
   "id": "190c60a9",
   "metadata": {},
   "source": [
    "### В пандасе есть метод where и mask"
   ]
  },
  {
   "cell_type": "code",
   "execution_count": 113,
   "id": "abca51c5",
   "metadata": {},
   "outputs": [
    {
     "data": {
      "text/plain": [
       "0        45700.0\n",
       "1         4000.0\n",
       "2         2520.0\n",
       "3         2520.0\n",
       "4         3080.0\n",
       "          ...   \n",
       "29367     7600.0\n",
       "29368     6360.0\n",
       "29369     5680.0\n",
       "29370     7100.0\n",
       "29371     5280.0\n",
       "Name: salary, Length: 29372, dtype: float64"
      ]
     },
     "execution_count": 113,
     "metadata": {},
     "output_type": "execute_result"
    }
   ],
   "source": [
    "empl['salary'].where(empl['mgmt_flag'] == 1, # условие\n",
    "                     empl['salary'] * 0.2) # значение если условие не выполняется\n",
    "# Если условие выполняется, то берется значение из колоноки salary"
   ]
  },
  {
   "cell_type": "code",
   "execution_count": 114,
   "id": "577a370b",
   "metadata": {},
   "outputs": [
    {
     "data": {
      "text/plain": [
       "0         9140.0\n",
       "1        20000.0\n",
       "2        12600.0\n",
       "3        12600.0\n",
       "4        15400.0\n",
       "          ...   \n",
       "29367    38000.0\n",
       "29368    31800.0\n",
       "29369    28400.0\n",
       "29370    35500.0\n",
       "29371    26400.0\n",
       "Name: salary, Length: 29372, dtype: float64"
      ]
     },
     "execution_count": 114,
     "metadata": {},
     "output_type": "execute_result"
    }
   ],
   "source": [
    "empl['salary'].mask(empl['mgmt_flag'] == 1, # услвоие\n",
    "                    empl['salary'] * 0.2) # значение если условие выполняется\n",
    "# Если условие не выполняется, то берется значение из колоноки salary"
   ]
  },
  {
   "cell_type": "code",
   "execution_count": null,
   "id": "e1ae119a",
   "metadata": {},
   "outputs": [],
   "source": []
  },
  {
   "cell_type": "markdown",
   "id": "2066b264",
   "metadata": {},
   "source": [
    "#### Внутри методов можно использовать функции"
   ]
  },
  {
   "cell_type": "code",
   "execution_count": 115,
   "id": "af0c97ea",
   "metadata": {},
   "outputs": [
    {
     "data": {
      "text/plain": [
       "0        45700.0\n",
       "1        24000.0\n",
       "2        15120.0\n",
       "3        15120.0\n",
       "4        18480.0\n",
       "          ...   \n",
       "29367    38000.0\n",
       "29368    38160.0\n",
       "29369    34080.0\n",
       "29370    35500.0\n",
       "29371    31680.0\n",
       "Name: salary, Length: 29372, dtype: float64"
      ]
     },
     "execution_count": 115,
     "metadata": {},
     "output_type": "execute_result"
    }
   ],
   "source": [
    "empl['salary'].where(lambda x: x > 35000, # услвоие\n",
    "                     empl['salary'] * 1.2) # значение если условие не выполняется\n",
    "# Если условие выполняется, то берется значение из колоноки salary"
   ]
  },
  {
   "cell_type": "markdown",
   "id": "99e8965c",
   "metadata": {},
   "source": [
    "### select\n",
    "#### Синтаксис:\n",
    "\n",
    "np.select(список условий, список значений, значение если не выполнилось ни одно условие)\n",
    "\n",
    "Длинна списоков с условиями и значениями должна быть равна\n",
    "\n",
    "Условия проверяются в том порядке, в котором они написаны. Если выполнилось одно из условий дальше условия не проверяются"
   ]
  },
  {
   "cell_type": "code",
   "execution_count": 116,
   "id": "72cc7385",
   "metadata": {},
   "outputs": [
    {
     "data": {
      "text/plain": [
       "array(['Троешник', 'Троешник', 'Троешник', 'Хорошист', 'Троешник',\n",
       "       'Троешник', 'Троешник', 'Троешник', 'Троешник', 'Троешник',\n",
       "       'Троешник', 'Троешник', 'Хорошист', 'Хорошист', 'Хорошист',\n",
       "       'Отличник', 'Хорошист', 'Хорошист', 'Хорошист', 'Троешник',\n",
       "       'Троешник', 'Хорошист', 'Хорошист', 'Отличник', 'Троешник',\n",
       "       'Хорошист', 'Троешник', 'Троешник', 'Троешник', 'Хорошист',\n",
       "       'Троешник', 'Троешник', 'Хорошист', 'Троешник', 'Троешник',\n",
       "       'Хорошист', 'Троешник', 'Троешник', 'Отличник', 'Отличник',\n",
       "       'Троешник', 'Отличник', 'Троешник', 'Троешник', 'Троешник',\n",
       "       'Троешник', 'Троешник', 'Троешник', 'Троешник', 'Троешник',\n",
       "       'Троешник', 'Хорошист', 'Троешник', 'Троешник', 'Троешник',\n",
       "       'Троешник', 'Хорошист', 'Троешник', 'Троешник', 'Троешник',\n",
       "       'Троешник', 'Хорошист', 'Хорошист', 'Троешник', 'Хорошист',\n",
       "       'Троешник', 'Троешник', 'Троешник', 'Хорошист', 'Троешник',\n",
       "       'Хорошист', 'Троешник', 'Троешник', 'Хорошист', 'Троешник',\n",
       "       'Троешник', 'Троешник', 'Троешник', 'Хорошист', 'Троешник',\n",
       "       'Троешник', 'Троешник', 'Троешник', 'Хорошист', 'Хорошист',\n",
       "       'Троешник', 'Троешник', 'Троешник', 'Троешник', 'Троешник',\n",
       "       'Троешник', 'Хорошист', 'Троешник', 'Троешник', 'Хорошист',\n",
       "       'Троешник', 'Троешник', 'Хорошист', 'Хорошист', 'Троешник',\n",
       "       'Хорошист', 'Хорошист', 'Хорошист', 'Хорошист', 'Троешник',\n",
       "       'Троешник', 'Троешник', 'Хорошист', 'Отличник', 'Троешник',\n",
       "       'Троешник', 'Хорошист', 'Хорошист', 'Отличник', 'Троешник',\n",
       "       'Хорошист', 'Хорошист', 'Троешник', 'Троешник', 'Троешник',\n",
       "       'Троешник', 'Троешник', 'Троешник', 'Хорошист', 'Троешник',\n",
       "       'Хорошист', 'Хорошист', 'Троешник', 'Троешник', 'Хорошист',\n",
       "       'Троешник', 'Троешник', 'Троешник', 'Хорошист', 'Троешник',\n",
       "       'Троешник', 'Троешник', 'Троешник', 'Троешник', 'Троешник',\n",
       "       'Троешник', 'Хорошист', 'Троешник', 'Троешник', 'Хорошист'],\n",
       "      dtype='<U8')"
      ]
     },
     "execution_count": 116,
     "metadata": {},
     "output_type": "execute_result"
    }
   ],
   "source": [
    "np.select(\n",
    "    [marks.drop(columns=['ФИО', 'Пол']).isin([5]).all(axis=1),\n",
    "    marks.drop(columns=['ФИО', 'Пол']).isin([5, 4]).all(axis=1)],\n",
    "    \n",
    "    ['Отличник', 'Хорошист'], 'Троешник')"
   ]
  },
  {
   "cell_type": "code",
   "execution_count": 117,
   "id": "7a992932",
   "metadata": {},
   "outputs": [
    {
     "data": {
      "text/html": [
       "<div>\n",
       "<style scoped>\n",
       "    .dataframe tbody tr th:only-of-type {\n",
       "        vertical-align: middle;\n",
       "    }\n",
       "\n",
       "    .dataframe tbody tr th {\n",
       "        vertical-align: top;\n",
       "    }\n",
       "\n",
       "    .dataframe thead th {\n",
       "        text-align: right;\n",
       "    }\n",
       "</style>\n",
       "<table border=\"1\" class=\"dataframe\">\n",
       "  <thead>\n",
       "    <tr style=\"text-align: right;\">\n",
       "      <th></th>\n",
       "      <th>ФИО</th>\n",
       "      <th>Пол</th>\n",
       "      <th>Математика</th>\n",
       "      <th>Русский язык</th>\n",
       "      <th>Литература</th>\n",
       "      <th>Физика</th>\n",
       "      <th>История</th>\n",
       "      <th>Физическая культура</th>\n",
       "      <th>characteristics</th>\n",
       "    </tr>\n",
       "  </thead>\n",
       "  <tbody>\n",
       "    <tr>\n",
       "      <th>0</th>\n",
       "      <td>Суханова Маргарита Богдановна</td>\n",
       "      <td>женский</td>\n",
       "      <td>3</td>\n",
       "      <td>3</td>\n",
       "      <td>3</td>\n",
       "      <td>3</td>\n",
       "      <td>3</td>\n",
       "      <td>5</td>\n",
       "      <td>Троешник</td>\n",
       "    </tr>\n",
       "    <tr>\n",
       "      <th>1</th>\n",
       "      <td>Лаврентьев Давид Анатольевич</td>\n",
       "      <td>мужской</td>\n",
       "      <td>3</td>\n",
       "      <td>3</td>\n",
       "      <td>3</td>\n",
       "      <td>5</td>\n",
       "      <td>3</td>\n",
       "      <td>3</td>\n",
       "      <td>Троешник</td>\n",
       "    </tr>\n",
       "    <tr>\n",
       "      <th>2</th>\n",
       "      <td>Винниченко Дарья Максимовна</td>\n",
       "      <td>женский</td>\n",
       "      <td>4</td>\n",
       "      <td>5</td>\n",
       "      <td>5</td>\n",
       "      <td>3</td>\n",
       "      <td>4</td>\n",
       "      <td>5</td>\n",
       "      <td>Троешник</td>\n",
       "    </tr>\n",
       "    <tr>\n",
       "      <th>3</th>\n",
       "      <td>Козлова Маргарита Максимовна</td>\n",
       "      <td>женский</td>\n",
       "      <td>5</td>\n",
       "      <td>5</td>\n",
       "      <td>5</td>\n",
       "      <td>5</td>\n",
       "      <td>4</td>\n",
       "      <td>5</td>\n",
       "      <td>Хорошист</td>\n",
       "    </tr>\n",
       "    <tr>\n",
       "      <th>4</th>\n",
       "      <td>Кулешов Евгений Маратович</td>\n",
       "      <td>мужской</td>\n",
       "      <td>3</td>\n",
       "      <td>3</td>\n",
       "      <td>4</td>\n",
       "      <td>3</td>\n",
       "      <td>4</td>\n",
       "      <td>3</td>\n",
       "      <td>Троешник</td>\n",
       "    </tr>\n",
       "  </tbody>\n",
       "</table>\n",
       "</div>"
      ],
      "text/plain": [
       "                             ФИО      Пол  Математика  Русский язык  \\\n",
       "0  Суханова Маргарита Богдановна  женский           3             3   \n",
       "1   Лаврентьев Давид Анатольевич  мужской           3             3   \n",
       "2    Винниченко Дарья Максимовна  женский           4             5   \n",
       "3   Козлова Маргарита Максимовна  женский           5             5   \n",
       "4      Кулешов Евгений Маратович  мужской           3             3   \n",
       "\n",
       "   Литература  Физика  История  Физическая культура characteristics  \n",
       "0           3       3        3                    5        Троешник  \n",
       "1           3       5        3                    3        Троешник  \n",
       "2           5       3        4                    5        Троешник  \n",
       "3           5       5        4                    5        Хорошист  \n",
       "4           4       3        4                    3        Троешник  "
      ]
     },
     "execution_count": 117,
     "metadata": {},
     "output_type": "execute_result"
    }
   ],
   "source": [
    "(marks\n",
    "    .assign(characteristics = lambda x: np.select(\n",
    "        [x.drop(columns=['ФИО', 'Пол']).isin([5]).all(axis=1),\n",
    "        x.drop(columns=['ФИО', 'Пол']).isin([5, 4]).all(axis=1)],\n",
    "        ['Отличник', 'Хорошист'], 'Троешник'))\n",
    "    .head()\n",
    ")"
   ]
  },
  {
   "cell_type": "code",
   "execution_count": 119,
   "id": "25e767fa",
   "metadata": {},
   "outputs": [
    {
     "data": {
      "text/html": [
       "<div>\n",
       "<style scoped>\n",
       "    .dataframe tbody tr th:only-of-type {\n",
       "        vertical-align: middle;\n",
       "    }\n",
       "\n",
       "    .dataframe tbody tr th {\n",
       "        vertical-align: top;\n",
       "    }\n",
       "\n",
       "    .dataframe thead th {\n",
       "        text-align: right;\n",
       "    }\n",
       "</style>\n",
       "<table border=\"1\" class=\"dataframe\">\n",
       "  <thead>\n",
       "    <tr style=\"text-align: right;\">\n",
       "      <th></th>\n",
       "      <th>ФИО</th>\n",
       "      <th>Пол</th>\n",
       "      <th>Математика</th>\n",
       "      <th>Русский язык</th>\n",
       "      <th>Литература</th>\n",
       "      <th>Физика</th>\n",
       "      <th>История</th>\n",
       "      <th>Физическая культура</th>\n",
       "      <th>characteristics</th>\n",
       "    </tr>\n",
       "  </thead>\n",
       "  <tbody>\n",
       "    <tr>\n",
       "      <th>3</th>\n",
       "      <td>Козлова Маргарита Максимовна</td>\n",
       "      <td>женский</td>\n",
       "      <td>5</td>\n",
       "      <td>5</td>\n",
       "      <td>5</td>\n",
       "      <td>5</td>\n",
       "      <td>4</td>\n",
       "      <td>5</td>\n",
       "      <td>Хорошист</td>\n",
       "    </tr>\n",
       "    <tr>\n",
       "      <th>12</th>\n",
       "      <td>Казанцева Мария Владимировна</td>\n",
       "      <td>женский</td>\n",
       "      <td>4</td>\n",
       "      <td>4</td>\n",
       "      <td>4</td>\n",
       "      <td>4</td>\n",
       "      <td>4</td>\n",
       "      <td>5</td>\n",
       "      <td>Хорошист</td>\n",
       "    </tr>\n",
       "    <tr>\n",
       "      <th>13</th>\n",
       "      <td>Петухов Александр Алексеевич</td>\n",
       "      <td>мужской</td>\n",
       "      <td>5</td>\n",
       "      <td>4</td>\n",
       "      <td>4</td>\n",
       "      <td>5</td>\n",
       "      <td>4</td>\n",
       "      <td>5</td>\n",
       "      <td>Хорошист</td>\n",
       "    </tr>\n",
       "    <tr>\n",
       "      <th>14</th>\n",
       "      <td>Панфилов Марат Евгеньевич</td>\n",
       "      <td>мужской</td>\n",
       "      <td>5</td>\n",
       "      <td>4</td>\n",
       "      <td>4</td>\n",
       "      <td>4</td>\n",
       "      <td>4</td>\n",
       "      <td>5</td>\n",
       "      <td>Хорошист</td>\n",
       "    </tr>\n",
       "    <tr>\n",
       "      <th>16</th>\n",
       "      <td>Фомичева Ольга Даниловна</td>\n",
       "      <td>женский</td>\n",
       "      <td>4</td>\n",
       "      <td>4</td>\n",
       "      <td>4</td>\n",
       "      <td>5</td>\n",
       "      <td>4</td>\n",
       "      <td>4</td>\n",
       "      <td>Хорошист</td>\n",
       "    </tr>\n",
       "  </tbody>\n",
       "</table>\n",
       "</div>"
      ],
      "text/plain": [
       "                             ФИО      Пол  Математика  Русский язык  \\\n",
       "3   Козлова Маргарита Максимовна  женский           5             5   \n",
       "12  Казанцева Мария Владимировна  женский           4             4   \n",
       "13  Петухов Александр Алексеевич  мужской           5             4   \n",
       "14     Панфилов Марат Евгеньевич  мужской           5             4   \n",
       "16      Фомичева Ольга Даниловна  женский           4             4   \n",
       "\n",
       "    Литература  Физика  История  Физическая культура characteristics  \n",
       "3            5       5        4                    5        Хорошист  \n",
       "12           4       4        4                    5        Хорошист  \n",
       "13           4       5        4                    5        Хорошист  \n",
       "14           4       4        4                    5        Хорошист  \n",
       "16           4       5        4                    4        Хорошист  "
      ]
     },
     "execution_count": 119,
     "metadata": {},
     "output_type": "execute_result"
    }
   ],
   "source": [
    "(marks\n",
    "    .assign(characteristics=lambda x: np.select(\n",
    "        [marks.drop(columns=['ФИО', 'Пол']).isin([5]).all(axis=1),\n",
    "        marks.drop(columns=['ФИО', 'Пол']).isin([5, 4]).all(axis=1)],\n",
    "        ['Отличник', 'Хорошист'], 'Троешник'))\n",
    "#     .query('characteristics == \"Отличник\"')\n",
    "    .query('characteristics == \"Хорошист\"')\n",
    "#     .query('characteristics == \"Троешник\"')\n",
    "    .head()\n",
    ")"
   ]
  },
  {
   "cell_type": "code",
   "execution_count": null,
   "id": "6e75db36",
   "metadata": {},
   "outputs": [],
   "source": []
  },
  {
   "cell_type": "markdown",
   "id": "0dac4d73",
   "metadata": {},
   "source": [
    "### np.minimum и np.maximum\n",
    "\n",
    "Функции позволяют сравнивать несколько массивов между собой и возвращать минимум/максимум по каждой строке"
   ]
  },
  {
   "cell_type": "code",
   "execution_count": 120,
   "id": "3d0e1bff",
   "metadata": {},
   "outputs": [
    {
     "data": {
      "text/plain": [
       "0      3\n",
       "1      3\n",
       "2      4\n",
       "3      4\n",
       "4      3\n",
       "      ..\n",
       "140    3\n",
       "141    4\n",
       "142    3\n",
       "143    3\n",
       "144    4\n",
       "Length: 145, dtype: int64"
      ]
     },
     "execution_count": 120,
     "metadata": {},
     "output_type": "execute_result"
    }
   ],
   "source": [
    "np.minimum(marks['Математика'], marks['История'])"
   ]
  },
  {
   "cell_type": "code",
   "execution_count": 121,
   "id": "af81bc71",
   "metadata": {},
   "outputs": [
    {
     "name": "stderr",
     "output_type": "stream",
     "text": [
      "C:\\Users\\Александр\\AppData\\Local\\Temp\\ipykernel_8884\\1545420082.py:1: SettingWithCopyWarning: \n",
      "A value is trying to be set on a copy of a slice from a DataFrame\n",
      "\n",
      "See the caveats in the documentation: https://pandas.pydata.org/pandas-docs/stable/user_guide/indexing.html#returning-a-view-versus-a-copy\n",
      "  np.minimum(marks['Математика'], marks['История'], marks['Физика'])\n"
     ]
    },
    {
     "data": {
      "text/plain": [
       "0      3\n",
       "1      3\n",
       "2      4\n",
       "3      4\n",
       "4      3\n",
       "      ..\n",
       "140    3\n",
       "141    4\n",
       "142    3\n",
       "143    3\n",
       "144    4\n",
       "Name: Физика, Length: 145, dtype: int64"
      ]
     },
     "execution_count": 121,
     "metadata": {},
     "output_type": "execute_result"
    }
   ],
   "source": [
    "np.minimum(marks['Математика'], marks['История'], marks['Физика'])"
   ]
  },
  {
   "cell_type": "markdown",
   "id": "0147b7c7",
   "metadata": {},
   "source": [
    "Массив можно сравнивать с константой"
   ]
  },
  {
   "cell_type": "code",
   "execution_count": 122,
   "id": "809032aa",
   "metadata": {},
   "outputs": [
    {
     "data": {
      "text/plain": [
       "0      4\n",
       "1      4\n",
       "2      4\n",
       "3      5\n",
       "4      4\n",
       "      ..\n",
       "140    5\n",
       "141    4\n",
       "142    4\n",
       "143    4\n",
       "144    4\n",
       "Name: Математика, Length: 145, dtype: int64"
      ]
     },
     "execution_count": 122,
     "metadata": {},
     "output_type": "execute_result"
    }
   ],
   "source": [
    "np.maximum(marks['Математика'], 4)"
   ]
  },
  {
   "cell_type": "markdown",
   "id": "69aa655e",
   "metadata": {},
   "source": [
    "### Clip\n",
    "\n",
    "Позволяет обрезать значния. \n",
    "\n",
    "Все значения ниже указанного числа станут равны указанному числу"
   ]
  },
  {
   "cell_type": "code",
   "execution_count": 123,
   "id": "e66cb537",
   "metadata": {},
   "outputs": [
    {
     "data": {
      "text/plain": [
       "0        45700.0\n",
       "1        20000.0\n",
       "2        12600.0\n",
       "3        12600.0\n",
       "4        15400.0\n",
       "          ...   \n",
       "29367    38000.0\n",
       "29368    31800.0\n",
       "29369    28400.0\n",
       "29370    35500.0\n",
       "29371    26400.0\n",
       "Name: salary, Length: 29372, dtype: float64"
      ]
     },
     "execution_count": 123,
     "metadata": {},
     "output_type": "execute_result"
    }
   ],
   "source": [
    "empl['salary']"
   ]
  },
  {
   "cell_type": "code",
   "execution_count": 124,
   "id": "0f6a7854",
   "metadata": {
    "scrolled": true
   },
   "outputs": [
    {
     "data": {
      "text/plain": [
       "0        45700.0\n",
       "1        30000.0\n",
       "2        30000.0\n",
       "3        30000.0\n",
       "4        30000.0\n",
       "          ...   \n",
       "29367    38000.0\n",
       "29368    31800.0\n",
       "29369    30000.0\n",
       "29370    35500.0\n",
       "29371    30000.0\n",
       "Name: salary, Length: 29372, dtype: float64"
      ]
     },
     "execution_count": 124,
     "metadata": {},
     "output_type": "execute_result"
    }
   ],
   "source": [
    "empl['salary'].clip(30000)"
   ]
  },
  {
   "cell_type": "code",
   "execution_count": 125,
   "id": "d39235a0",
   "metadata": {},
   "outputs": [
    {
     "data": {
      "text/plain": [
       "30000.0"
      ]
     },
     "execution_count": 125,
     "metadata": {},
     "output_type": "execute_result"
    }
   ],
   "source": [
    "# минималььное значение равно 30000\n",
    "empl['salary'].clip(30000).min()"
   ]
  },
  {
   "cell_type": "markdown",
   "id": "ea7ff035",
   "metadata": {},
   "source": [
    "Если указать два значения, то все значения выше второго будут тоже обрезаны"
   ]
  },
  {
   "cell_type": "code",
   "execution_count": 126,
   "id": "1910821a",
   "metadata": {},
   "outputs": [
    {
     "data": {
      "text/plain": [
       "0        45700.0\n",
       "1        30000.0\n",
       "2        30000.0\n",
       "3        30000.0\n",
       "4        30000.0\n",
       "          ...   \n",
       "29367    38000.0\n",
       "29368    31800.0\n",
       "29369    30000.0\n",
       "29370    35500.0\n",
       "29371    30000.0\n",
       "Name: salary, Length: 29372, dtype: float64"
      ]
     },
     "execution_count": 126,
     "metadata": {},
     "output_type": "execute_result"
    }
   ],
   "source": [
    "empl['salary'].clip(30000, 90000)"
   ]
  },
  {
   "cell_type": "code",
   "execution_count": 127,
   "id": "5521e86e",
   "metadata": {},
   "outputs": [
    {
     "data": {
      "text/plain": [
       "30000.0"
      ]
     },
     "execution_count": 127,
     "metadata": {},
     "output_type": "execute_result"
    }
   ],
   "source": [
    "empl['salary'].clip(30000, 90000).min()"
   ]
  },
  {
   "cell_type": "code",
   "execution_count": 128,
   "id": "2ce0cf42",
   "metadata": {},
   "outputs": [
    {
     "data": {
      "text/plain": [
       "90000.0"
      ]
     },
     "execution_count": 128,
     "metadata": {},
     "output_type": "execute_result"
    }
   ],
   "source": [
    "empl['salary'].clip(30000, 90000).max()"
   ]
  },
  {
   "cell_type": "code",
   "execution_count": null,
   "id": "8f72a190",
   "metadata": {},
   "outputs": [],
   "source": []
  },
  {
   "cell_type": "code",
   "execution_count": null,
   "id": "4c9507b3",
   "metadata": {},
   "outputs": [],
   "source": []
  },
  {
   "cell_type": "code",
   "execution_count": null,
   "id": "80248f37",
   "metadata": {},
   "outputs": [],
   "source": []
  },
  {
   "cell_type": "code",
   "execution_count": null,
   "id": "4b54a17c",
   "metadata": {},
   "outputs": [],
   "source": []
  },
  {
   "cell_type": "code",
   "execution_count": null,
   "id": "1cc887e6",
   "metadata": {},
   "outputs": [],
   "source": []
  },
  {
   "cell_type": "code",
   "execution_count": null,
   "id": "f771052b",
   "metadata": {},
   "outputs": [],
   "source": []
  },
  {
   "cell_type": "code",
   "execution_count": null,
   "id": "dfc21644",
   "metadata": {},
   "outputs": [],
   "source": []
  },
  {
   "cell_type": "code",
   "execution_count": null,
   "id": "45a436d6",
   "metadata": {},
   "outputs": [],
   "source": []
  },
  {
   "cell_type": "code",
   "execution_count": null,
   "id": "4390c681",
   "metadata": {},
   "outputs": [],
   "source": []
  },
  {
   "cell_type": "code",
   "execution_count": null,
   "id": "252dffec",
   "metadata": {},
   "outputs": [],
   "source": []
  },
  {
   "cell_type": "markdown",
   "id": "fc62805b",
   "metadata": {},
   "source": [
    "# Задания"
   ]
  },
  {
   "cell_type": "markdown",
   "id": "caa00d43",
   "metadata": {},
   "source": [
    "#### Описание таблиц лежит [здесь](https://github.com/victorlymarev/pandas/tree/main/tables)"
   ]
  },
  {
   "cell_type": "markdown",
   "id": "642ccb48",
   "metadata": {},
   "source": [
    "Некоторые таблицы занимают много памяти, поэтому каждые 5-10 заданий лучше перезапускайте ноутбук.\n",
    "\n",
    "Если вы будете работать с этим ноутбуком в google colab и у вас что-то не будет работать, то раскоментируйте ячейку ниже (для этого выделите содержимое ячейки и нажмите на клавиши ctrl / (если смотреть по английской раскладке или ctrl . для русской), либо просто руками уберите # и пробел после нее в каждой строчке) и запустите ее."
   ]
  },
  {
   "cell_type": "code",
   "execution_count": null,
   "id": "4ffce000",
   "metadata": {},
   "outputs": [],
   "source": [
    "# import os\n",
    "# os._exit(00)\n",
    "# !pip install pyarrow pandas==1.5.3"
   ]
  },
  {
   "cell_type": "markdown",
   "id": "276fae2e",
   "metadata": {},
   "source": [
    "### Задание 1\n",
    "\n",
    "Из таблицы w_ends выберите выходные дни"
   ]
  },
  {
   "cell_type": "code",
   "execution_count": null,
   "id": "8c3f4160",
   "metadata": {},
   "outputs": [],
   "source": [
    "import os\n",
    "import pandas as pd\n",
    "\n",
    "path_w_ends = '../tables/выходные.csv' if os.path.exists('../tables/выходные.csv') else 'https://drive.google.com/uc?id=1hAsoXSPTFihFmBuF-E0uSj9pX4gpojwC'\n",
    "\n",
    "w_ends = pd.read_csv(path_w_ends)\n",
    "w_ends.head()"
   ]
  },
  {
   "cell_type": "code",
   "execution_count": null,
   "id": "99a9855b",
   "metadata": {},
   "outputs": [],
   "source": [
    "# Напишите свой код здесь"
   ]
  },
  {
   "cell_type": "markdown",
   "id": "f69a9c31",
   "metadata": {},
   "source": [
    "### Задание 2\n",
    "\n",
    "Выберите строки таблицы stocks, когда минимальная цена была выше 300"
   ]
  },
  {
   "cell_type": "code",
   "execution_count": null,
   "id": "4bd62339",
   "metadata": {},
   "outputs": [],
   "source": [
    "import os\n",
    "import pandas as pd\n",
    "\n",
    "path_stocks = '../tables/stocks.parquet' if os.path.exists('../tables/stocks.parquet') else 'https://drive.google.com/uc?id=1weGquTtmR92mKYAeZhZCFHJjndyoSXZt'\n",
    "\n",
    "stocks = pd.read_parquet(path_stocks)\n",
    "stocks.head()"
   ]
  },
  {
   "cell_type": "code",
   "execution_count": null,
   "id": "39106ac9",
   "metadata": {},
   "outputs": [],
   "source": [
    "# Напишите свой код здесь"
   ]
  },
  {
   "cell_type": "markdown",
   "id": "4e353c6e",
   "metadata": {},
   "source": [
    "### Задание 3\n",
    "\n",
    "Из таблицы shops выберите магазины из Москвы, Саратова и Оренбурга"
   ]
  },
  {
   "cell_type": "code",
   "execution_count": null,
   "id": "a0742fce",
   "metadata": {},
   "outputs": [],
   "source": [
    "import os\n",
    "import pandas as pd\n",
    "\n",
    "path_shops = '../tables/shops.xlsx' if os.path.exists('../tables/shops.xlsx') else 'https://drive.google.com/uc?id=1gfnmceJa3Mc1X06NftTx9G9QfKfprjEB'\n",
    "\n",
    "shops = pd.read_excel(path_shops)\n",
    "shops"
   ]
  },
  {
   "cell_type": "code",
   "execution_count": null,
   "id": "dc2f29e0",
   "metadata": {},
   "outputs": [],
   "source": [
    "# Напишите свой код здесь"
   ]
  },
  {
   "cell_type": "markdown",
   "id": "34d67925",
   "metadata": {},
   "source": [
    "### Задание 4\n",
    "\n",
    "Верно ли что все мелкие магазины расположены вне торговых центров?"
   ]
  },
  {
   "cell_type": "code",
   "execution_count": null,
   "id": "7099b34b",
   "metadata": {},
   "outputs": [],
   "source": [
    "import os\n",
    "import pandas as pd\n",
    "\n",
    "path_shops = '../tables/shops.xlsx' if os.path.exists('../tables/shops.xlsx') else 'https://drive.google.com/uc?id=1gfnmceJa3Mc1X06NftTx9G9QfKfprjEB'\n",
    "\n",
    "shops = pd.read_excel(path_shops)\n",
    "shops"
   ]
  },
  {
   "cell_type": "code",
   "execution_count": null,
   "id": "24b3674d",
   "metadata": {},
   "outputs": [],
   "source": [
    "# Напишите свой код здесь"
   ]
  },
  {
   "cell_type": "markdown",
   "id": "b6ca47d1",
   "metadata": {},
   "source": [
    "### Задание 5\n",
    "\n",
    "Выведите имена сотрудниковт мужского пола, которые встречаются в таблице empl только 1 раз"
   ]
  },
  {
   "cell_type": "code",
   "execution_count": null,
   "id": "40a86996",
   "metadata": {},
   "outputs": [],
   "source": [
    "import os\n",
    "import pandas as pd\n",
    "\n",
    "path_empl = '../tables/employees.parquet' if os.path.exists('../tables/employees.parquet') else 'https://drive.google.com/uc?id=1AARD5-eVlCxoApt5CYZebrC3Cqw42lvj'\n",
    "\n",
    "empl = pd.read_parquet(path_empl)\n",
    "empl.head()"
   ]
  },
  {
   "cell_type": "code",
   "execution_count": null,
   "id": "6c6afd40",
   "metadata": {},
   "outputs": [],
   "source": [
    "# Напишите свой код здесь"
   ]
  },
  {
   "cell_type": "markdown",
   "id": "a09ea7e6",
   "metadata": {},
   "source": [
    "### Задание 6\n",
    "\n",
    "Сколько уникальных зарплат было в магазинах 31 марта 2020 года?"
   ]
  },
  {
   "cell_type": "code",
   "execution_count": null,
   "id": "6e27a3b4",
   "metadata": {},
   "outputs": [],
   "source": [
    "import os\n",
    "import pandas as pd\n",
    "\n",
    "path_empl = '../tables/employees.parquet' if os.path.exists('../tables/employees.parquet') else 'https://drive.google.com/uc?id=1AARD5-eVlCxoApt5CYZebrC3Cqw42lvj'\n",
    "\n",
    "empl = pd.read_parquet(path_empl)\n",
    "empl.head()"
   ]
  },
  {
   "cell_type": "code",
   "execution_count": null,
   "id": "abef7e48",
   "metadata": {},
   "outputs": [],
   "source": [
    "# Напишите свой код здесь"
   ]
  },
  {
   "cell_type": "markdown",
   "id": "e2a1fadf",
   "metadata": {},
   "source": [
    "### Задание 7\n",
    "\n",
    "Выведите табельные номера (i_pernr) и имена кассиров и старших кассиров, которые когда-либо зарабатывали в магазине менее 20000. В итоговой таблице не должно быть дубликатов"
   ]
  },
  {
   "cell_type": "code",
   "execution_count": null,
   "id": "d7261e92",
   "metadata": {},
   "outputs": [],
   "source": [
    "import os\n",
    "import pandas as pd\n",
    "\n",
    "path_empl = '../tables/employees.parquet' if os.path.exists('../tables/employees.parquet') else 'https://drive.google.com/uc?id=1AARD5-eVlCxoApt5CYZebrC3Cqw42lvj'\n",
    "\n",
    "empl = pd.read_parquet(path_empl)\n",
    "empl.head()"
   ]
  },
  {
   "cell_type": "code",
   "execution_count": null,
   "id": "bc45ad3b",
   "metadata": {},
   "outputs": [],
   "source": [
    "# Напишите свой код здесь"
   ]
  },
  {
   "cell_type": "markdown",
   "id": "1b862f7d",
   "metadata": {},
   "source": [
    "### Задание 8\n",
    "\n",
    "Выберите тех сотрудников, у которых в июле 2021 года либо не было оценки, либо оценка была выше 7"
   ]
  },
  {
   "cell_type": "code",
   "execution_count": null,
   "id": "bdc85d4d",
   "metadata": {},
   "outputs": [],
   "source": [
    "import os\n",
    "import pandas as pd\n",
    "\n",
    "path_empl = '../tables/employees.parquet' if os.path.exists('../tables/employees.parquet') else 'https://drive.google.com/uc?id=1AARD5-eVlCxoApt5CYZebrC3Cqw42lvj'\n",
    "\n",
    "empl = pd.read_parquet(path_empl)\n",
    "empl.head()"
   ]
  },
  {
   "cell_type": "code",
   "execution_count": null,
   "id": "8aeffd9b",
   "metadata": {},
   "outputs": [],
   "source": [
    "# Напишите свой код здесь"
   ]
  },
  {
   "cell_type": "markdown",
   "id": "a57cd5fc",
   "metadata": {},
   "source": [
    "### Задание 9\n",
    "\n",
    "Создайте колонку est. Она будет принимать значение 'Работает хорошо' если оценка больше или равна 6 и 'Работает полохо' иначе"
   ]
  },
  {
   "cell_type": "code",
   "execution_count": null,
   "id": "3973c932",
   "metadata": {},
   "outputs": [],
   "source": [
    "import os\n",
    "import pandas as pd\n",
    "\n",
    "path_empl = '../tables/employees.parquet' if os.path.exists('../tables/employees.parquet') else 'https://drive.google.com/uc?id=1AARD5-eVlCxoApt5CYZebrC3Cqw42lvj'\n",
    "\n",
    "empl = pd.read_parquet(path_empl)\n",
    "empl.head()"
   ]
  },
  {
   "cell_type": "code",
   "execution_count": null,
   "id": "ada5653c",
   "metadata": {},
   "outputs": [],
   "source": [
    "# Напишите свой код здесь"
   ]
  },
  {
   "cell_type": "markdown",
   "id": "c8752402",
   "metadata": {},
   "source": [
    "### Задание 10\n",
    "\n",
    "Создайте колонку est. Она будет принимать значение 'Работает хорошо' если оценка больше или равна 6, 'Работает полохо' если  оценка ниже 6 и 'Непонятно' иначе"
   ]
  },
  {
   "cell_type": "code",
   "execution_count": null,
   "id": "49011114",
   "metadata": {},
   "outputs": [],
   "source": [
    "import os\n",
    "import pandas as pd\n",
    "\n",
    "path_empl = '../tables/employees.parquet' if os.path.exists('../tables/employees.parquet') else 'https://drive.google.com/uc?id=1AARD5-eVlCxoApt5CYZebrC3Cqw42lvj'\n",
    "\n",
    "empl = pd.read_parquet(path_empl)\n",
    "empl.head()"
   ]
  },
  {
   "cell_type": "code",
   "execution_count": null,
   "id": "5b5b4b2f",
   "metadata": {},
   "outputs": [],
   "source": [
    "# Напишите свой код здесь"
   ]
  },
  {
   "cell_type": "markdown",
   "id": "23535e3d",
   "metadata": {},
   "source": [
    "### Задание 11\n",
    "\n",
    "Найте минимиальную оценку по русскому языку, математике и истории для каждого школьника"
   ]
  },
  {
   "cell_type": "code",
   "execution_count": null,
   "id": "7cedb6ad",
   "metadata": {},
   "outputs": [],
   "source": [
    "import os\n",
    "import pandas as pd\n",
    "\n",
    "path_marks = '../tables/школьные оценки.xlsx' if os.path.exists('../tables/школьные оценки.xlsx') else 'https://drive.google.com/uc?id=1v9kRv1I03CXtQ6vFE4mE3hFAty436qAo'\n",
    "\n",
    "marks = pd.read_excel(path_marks)\n",
    "marks.head()"
   ]
  },
  {
   "cell_type": "code",
   "execution_count": null,
   "id": "d66718eb",
   "metadata": {},
   "outputs": [],
   "source": [
    "# Напишите свой код здесь"
   ]
  },
  {
   "cell_type": "markdown",
   "id": "732a18d7",
   "metadata": {},
   "source": [
    "### Задание 12\n",
    "\n",
    "Проверьте, что день рождения сотрудника (birth_date) и его табельный номер (i_pernr) имеют между собой взаимо однозначное соотвествие. \n",
    " \n",
    "\n",
    "<details>\n",
    "\n",
    "<summary>Подсказка (кликните сюда 1 раз, если не можете решить)</summary>\n",
    " \n",
    "Это можно сделать при помощи метода drop_duplicates. Сначала удалите из таблицы дубликаты по дате рождения и по табельному номеру. Посмотрите сколько строк получилось в таблице. А затем из получившейся таблицы уберите дублиты по табельному номеру. Число строк в таблице не должно измениться\n",
    "\n",
    "</details>"
   ]
  },
  {
   "cell_type": "code",
   "execution_count": null,
   "id": "96283800",
   "metadata": {},
   "outputs": [],
   "source": [
    "import os\n",
    "import pandas as pd\n",
    "\n",
    "path_empl = '../tables/employees.parquet' if os.path.exists('../tables/employees.parquet') else 'https://drive.google.com/uc?id=1AARD5-eVlCxoApt5CYZebrC3Cqw42lvj'\n",
    "\n",
    "empl = pd.read_parquet(path_empl)\n",
    "empl.head()"
   ]
  },
  {
   "cell_type": "code",
   "execution_count": null,
   "id": "6ea9f73b",
   "metadata": {},
   "outputs": [],
   "source": [
    "# Напишите свой код здесь"
   ]
  },
  {
   "cell_type": "code",
   "execution_count": null,
   "id": "45760e06",
   "metadata": {},
   "outputs": [],
   "source": []
  },
  {
   "cell_type": "code",
   "execution_count": null,
   "id": "e1706364",
   "metadata": {},
   "outputs": [],
   "source": []
  },
  {
   "cell_type": "code",
   "execution_count": null,
   "id": "1111721e",
   "metadata": {},
   "outputs": [],
   "source": []
  },
  {
   "cell_type": "code",
   "execution_count": null,
   "id": "765aceae",
   "metadata": {},
   "outputs": [],
   "source": []
  },
  {
   "cell_type": "code",
   "execution_count": 1,
   "id": "73797af9",
   "metadata": {},
   "outputs": [
    {
     "name": "stderr",
     "output_type": "stream",
     "text": [
      "C:\\Users\\Александр\\AppData\\Local\\Temp\\ipykernel_12748\\3777615979.py:1: DeprecationWarning: Importing display from IPython.core.display is deprecated since IPython 7.14, please import from IPython display\n",
      "  from IPython.core.display import display, HTML\n"
     ]
    },
    {
     "data": {
      "text/html": [
       "<style>.container { width:100% !important; }</style>"
      ],
      "text/plain": [
       "<IPython.core.display.HTML object>"
      ]
     },
     "metadata": {},
     "output_type": "display_data"
    }
   ],
   "source": [
    "from IPython.core.display import display, HTML\n",
    "display(HTML(\"<style>.container { width:100% !important; }</style>\"))"
   ]
  },
  {
   "cell_type": "code",
   "execution_count": null,
   "id": "e10d968f",
   "metadata": {},
   "outputs": [],
   "source": []
  }
 ],
 "metadata": {
  "kernelspec": {
   "display_name": "Python 3 (ipykernel)",
   "language": "python",
   "name": "python3"
  },
  "language_info": {
   "codemirror_mode": {
    "name": "ipython",
    "version": 3
   },
   "file_extension": ".py",
   "mimetype": "text/x-python",
   "name": "python",
   "nbconvert_exporter": "python",
   "pygments_lexer": "ipython3",
   "version": "3.11.2"
  }
 },
 "nbformat": 4,
 "nbformat_minor": 5
}
