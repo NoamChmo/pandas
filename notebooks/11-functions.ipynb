{
 "cells": [
  {
   "cell_type": "markdown",
   "id": "2abc43e9",
   "metadata": {},
   "source": [
    "<a target=\"_blank\" href=\"https://colab.research.google.com/github/victorlymarev/pandas/blob/main/notebooks/11-functions.ipynb\">\n",
    "  <img src=\"https://colab.research.google.com/assets/colab-badge.svg\" alt=\"Open In Colab\"/>\n",
    "</a>"
   ]
  },
  {
   "cell_type": "code",
   "execution_count": 1,
   "id": "d02dc218",
   "metadata": {},
   "outputs": [],
   "source": [
    "import pandas as pd\n",
    "import numpy as np"
   ]
  },
  {
   "cell_type": "markdown",
   "id": "4a3f018b",
   "metadata": {},
   "source": [
    "Создаем таблицу"
   ]
  },
  {
   "cell_type": "code",
   "execution_count": 2,
   "id": "9855ce36",
   "metadata": {},
   "outputs": [],
   "source": [
    "df = pd.DataFrame({'Колонка 1': [111, 222, 333, 444, 555, 666],\n",
    "              'Колонка 2': [6, 5, 4, 3, 2, 1],\n",
    "              'Колонка 3': [np.nan, -3, 5, 0, 9, -11],\n",
    "              'Имя': ['Миша', 'Саша', 'Юля',\n",
    "                            'Настя', 'Андрей', 'Катя'],\n",
    "              'Увлечение': ['Баскетбол', 'Хоккей', 'Волейбол',\n",
    "                            'Футбол', 'Counter-Strike', 'Баскетбол']\n",
    "             })"
   ]
  },
  {
   "cell_type": "code",
   "execution_count": 3,
   "id": "fcb8fe12",
   "metadata": {},
   "outputs": [
    {
     "data": {
      "text/html": [
       "<div>\n",
       "<style scoped>\n",
       "    .dataframe tbody tr th:only-of-type {\n",
       "        vertical-align: middle;\n",
       "    }\n",
       "\n",
       "    .dataframe tbody tr th {\n",
       "        vertical-align: top;\n",
       "    }\n",
       "\n",
       "    .dataframe thead th {\n",
       "        text-align: right;\n",
       "    }\n",
       "</style>\n",
       "<table border=\"1\" class=\"dataframe\">\n",
       "  <thead>\n",
       "    <tr style=\"text-align: right;\">\n",
       "      <th></th>\n",
       "      <th>Колонка 1</th>\n",
       "      <th>Колонка 2</th>\n",
       "      <th>Колонка 3</th>\n",
       "      <th>Имя</th>\n",
       "      <th>Увлечение</th>\n",
       "    </tr>\n",
       "  </thead>\n",
       "  <tbody>\n",
       "    <tr>\n",
       "      <th>0</th>\n",
       "      <td>111</td>\n",
       "      <td>6</td>\n",
       "      <td>NaN</td>\n",
       "      <td>Миша</td>\n",
       "      <td>Баскетбол</td>\n",
       "    </tr>\n",
       "    <tr>\n",
       "      <th>1</th>\n",
       "      <td>222</td>\n",
       "      <td>5</td>\n",
       "      <td>-3.0</td>\n",
       "      <td>Саша</td>\n",
       "      <td>Хоккей</td>\n",
       "    </tr>\n",
       "    <tr>\n",
       "      <th>2</th>\n",
       "      <td>333</td>\n",
       "      <td>4</td>\n",
       "      <td>5.0</td>\n",
       "      <td>Юля</td>\n",
       "      <td>Волейбол</td>\n",
       "    </tr>\n",
       "    <tr>\n",
       "      <th>3</th>\n",
       "      <td>444</td>\n",
       "      <td>3</td>\n",
       "      <td>0.0</td>\n",
       "      <td>Настя</td>\n",
       "      <td>Футбол</td>\n",
       "    </tr>\n",
       "    <tr>\n",
       "      <th>4</th>\n",
       "      <td>555</td>\n",
       "      <td>2</td>\n",
       "      <td>9.0</td>\n",
       "      <td>Андрей</td>\n",
       "      <td>Counter-Strike</td>\n",
       "    </tr>\n",
       "    <tr>\n",
       "      <th>5</th>\n",
       "      <td>666</td>\n",
       "      <td>1</td>\n",
       "      <td>-11.0</td>\n",
       "      <td>Катя</td>\n",
       "      <td>Баскетбол</td>\n",
       "    </tr>\n",
       "  </tbody>\n",
       "</table>\n",
       "</div>"
      ],
      "text/plain": [
       "   Колонка 1  Колонка 2  Колонка 3     Имя       Увлечение\n",
       "0        111          6        NaN    Миша       Баскетбол\n",
       "1        222          5       -3.0    Саша          Хоккей\n",
       "2        333          4        5.0     Юля        Волейбол\n",
       "3        444          3        0.0   Настя          Футбол\n",
       "4        555          2        9.0  Андрей  Counter-Strike\n",
       "5        666          1      -11.0    Катя       Баскетбол"
      ]
     },
     "execution_count": 3,
     "metadata": {},
     "output_type": "execute_result"
    }
   ],
   "source": [
    "df"
   ]
  },
  {
   "cell_type": "markdown",
   "id": "ab405fc1",
   "metadata": {},
   "source": [
    "## Функции из numpy"
   ]
  },
  {
   "cell_type": "markdown",
   "id": "0f56c2e2",
   "metadata": {},
   "source": [
    "#### Извлечение натурального лагарифма"
   ]
  },
  {
   "cell_type": "code",
   "execution_count": 4,
   "id": "22ed9e73",
   "metadata": {},
   "outputs": [
    {
     "data": {
      "text/plain": [
       "0    111\n",
       "1    222\n",
       "2    333\n",
       "3    444\n",
       "4    555\n",
       "5    666\n",
       "Name: Колонка 1, dtype: int64"
      ]
     },
     "execution_count": 4,
     "metadata": {},
     "output_type": "execute_result"
    }
   ],
   "source": [
    "df['Колонка 1']"
   ]
  },
  {
   "cell_type": "code",
   "execution_count": 5,
   "id": "b74a6bcc",
   "metadata": {},
   "outputs": [
    {
     "data": {
      "text/plain": [
       "0    4.709530\n",
       "1    5.402677\n",
       "2    5.808142\n",
       "3    6.095825\n",
       "4    6.318968\n",
       "5    6.501290\n",
       "Name: Колонка 1, dtype: float64"
      ]
     },
     "execution_count": 5,
     "metadata": {},
     "output_type": "execute_result"
    }
   ],
   "source": [
    "np.log(df['Колонка 1'])"
   ]
  },
  {
   "cell_type": "code",
   "execution_count": 6,
   "id": "54b8c65e",
   "metadata": {},
   "outputs": [
    {
     "name": "stderr",
     "output_type": "stream",
     "text": [
      "C:\\Python\\Python311\\Lib\\site-packages\\pandas\\core\\arraylike.py:402: RuntimeWarning: divide by zero encountered in log\n",
      "  result = getattr(ufunc, method)(*inputs, **kwargs)\n",
      "C:\\Python\\Python311\\Lib\\site-packages\\pandas\\core\\arraylike.py:402: RuntimeWarning: invalid value encountered in log\n",
      "  result = getattr(ufunc, method)(*inputs, **kwargs)\n"
     ]
    },
    {
     "data": {
      "text/plain": [
       "0         NaN\n",
       "1         NaN\n",
       "2        -inf\n",
       "3    4.709530\n",
       "4    5.402677\n",
       "5    5.808142\n",
       "Name: Колонка 1, dtype: float64"
      ]
     },
     "execution_count": 6,
     "metadata": {},
     "output_type": "execute_result"
    }
   ],
   "source": [
    "np.log(df['Колонка 1'] - 333)"
   ]
  },
  {
   "cell_type": "markdown",
   "id": "d8eae844",
   "metadata": {},
   "source": [
    "#### Извлечение логарифма по произвольному основанию"
   ]
  },
  {
   "cell_type": "code",
   "execution_count": 7,
   "id": "a4ccfa12",
   "metadata": {},
   "outputs": [
    {
     "data": {
      "text/plain": [
       "array([4.28679913, 4.91772888, 5.28679913, 5.54865864, 5.75177265,\n",
       "       5.91772888])"
      ]
     },
     "execution_count": 7,
     "metadata": {},
     "output_type": "execute_result"
    }
   ],
   "source": [
    "# Логарифм по основанию 3\n",
    "np.emath.logn(3, df['Колонка 1'])"
   ]
  },
  {
   "cell_type": "markdown",
   "id": "05ab28bf",
   "metadata": {},
   "source": [
    "#### Синус"
   ]
  },
  {
   "cell_type": "code",
   "execution_count": 8,
   "id": "465020e1",
   "metadata": {},
   "outputs": [
    {
     "data": {
      "text/plain": [
       "0   -0.864551\n",
       "1    0.868951\n",
       "2   -0.008821\n",
       "3   -0.860085\n",
       "4    0.873283\n",
       "5   -0.017642\n",
       "Name: Колонка 1, dtype: float64"
      ]
     },
     "execution_count": 8,
     "metadata": {},
     "output_type": "execute_result"
    }
   ],
   "source": [
    "np.sin(df['Колонка 1'])"
   ]
  },
  {
   "cell_type": "markdown",
   "id": "24047101",
   "metadata": {},
   "source": [
    "#### Косинус"
   ]
  },
  {
   "cell_type": "code",
   "execution_count": 9,
   "id": "0dc7a955",
   "metadata": {},
   "outputs": [
    {
     "data": {
      "text/plain": [
       "0   -0.502544\n",
       "1   -0.494898\n",
       "2    0.999961\n",
       "3   -0.510151\n",
       "4   -0.487214\n",
       "5    0.999844\n",
       "Name: Колонка 1, dtype: float64"
      ]
     },
     "execution_count": 9,
     "metadata": {},
     "output_type": "execute_result"
    }
   ],
   "source": [
    "np.cos(df['Колонка 1'])"
   ]
  },
  {
   "cell_type": "code",
   "execution_count": 10,
   "id": "50a865e5",
   "metadata": {},
   "outputs": [
    {
     "data": {
      "text/html": [
       "<div>\n",
       "<style scoped>\n",
       "    .dataframe tbody tr th:only-of-type {\n",
       "        vertical-align: middle;\n",
       "    }\n",
       "\n",
       "    .dataframe tbody tr th {\n",
       "        vertical-align: top;\n",
       "    }\n",
       "\n",
       "    .dataframe thead th {\n",
       "        text-align: right;\n",
       "    }\n",
       "</style>\n",
       "<table border=\"1\" class=\"dataframe\">\n",
       "  <thead>\n",
       "    <tr style=\"text-align: right;\">\n",
       "      <th></th>\n",
       "      <th>Колонка 1</th>\n",
       "      <th>Колонка 2</th>\n",
       "      <th>Колонка 3</th>\n",
       "      <th>Имя</th>\n",
       "      <th>Увлечение</th>\n",
       "      <th>col_1_natural_log</th>\n",
       "    </tr>\n",
       "  </thead>\n",
       "  <tbody>\n",
       "    <tr>\n",
       "      <th>0</th>\n",
       "      <td>111</td>\n",
       "      <td>6</td>\n",
       "      <td>NaN</td>\n",
       "      <td>Миша</td>\n",
       "      <td>Баскетбол</td>\n",
       "      <td>4.709530</td>\n",
       "    </tr>\n",
       "    <tr>\n",
       "      <th>1</th>\n",
       "      <td>222</td>\n",
       "      <td>5</td>\n",
       "      <td>-3.0</td>\n",
       "      <td>Саша</td>\n",
       "      <td>Хоккей</td>\n",
       "      <td>5.402677</td>\n",
       "    </tr>\n",
       "    <tr>\n",
       "      <th>2</th>\n",
       "      <td>333</td>\n",
       "      <td>4</td>\n",
       "      <td>5.0</td>\n",
       "      <td>Юля</td>\n",
       "      <td>Волейбол</td>\n",
       "      <td>5.808142</td>\n",
       "    </tr>\n",
       "    <tr>\n",
       "      <th>3</th>\n",
       "      <td>444</td>\n",
       "      <td>3</td>\n",
       "      <td>0.0</td>\n",
       "      <td>Настя</td>\n",
       "      <td>Футбол</td>\n",
       "      <td>6.095825</td>\n",
       "    </tr>\n",
       "    <tr>\n",
       "      <th>4</th>\n",
       "      <td>555</td>\n",
       "      <td>2</td>\n",
       "      <td>9.0</td>\n",
       "      <td>Андрей</td>\n",
       "      <td>Counter-Strike</td>\n",
       "      <td>6.318968</td>\n",
       "    </tr>\n",
       "    <tr>\n",
       "      <th>5</th>\n",
       "      <td>666</td>\n",
       "      <td>1</td>\n",
       "      <td>-11.0</td>\n",
       "      <td>Катя</td>\n",
       "      <td>Баскетбол</td>\n",
       "      <td>6.501290</td>\n",
       "    </tr>\n",
       "  </tbody>\n",
       "</table>\n",
       "</div>"
      ],
      "text/plain": [
       "   Колонка 1  Колонка 2  Колонка 3     Имя       Увлечение  col_1_natural_log\n",
       "0        111          6        NaN    Миша       Баскетбол           4.709530\n",
       "1        222          5       -3.0    Саша          Хоккей           5.402677\n",
       "2        333          4        5.0     Юля        Волейбол           5.808142\n",
       "3        444          3        0.0   Настя          Футбол           6.095825\n",
       "4        555          2        9.0  Андрей  Counter-Strike           6.318968\n",
       "5        666          1      -11.0    Катя       Баскетбол           6.501290"
      ]
     },
     "execution_count": 10,
     "metadata": {},
     "output_type": "execute_result"
    }
   ],
   "source": [
    "df = df.assign(col_1_natural_log = lambda x: np.log(x['Колонка 1']))\n",
    "df"
   ]
  },
  {
   "cell_type": "markdown",
   "id": "d6d72683",
   "metadata": {},
   "source": [
    "## Методы из пандаса"
   ]
  },
  {
   "cell_type": "markdown",
   "id": "dbc0a38e",
   "metadata": {},
   "source": [
    "#### Извлечение модуля числа"
   ]
  },
  {
   "cell_type": "code",
   "execution_count": 11,
   "id": "a6c79bdb",
   "metadata": {},
   "outputs": [
    {
     "data": {
      "text/plain": [
       "0     NaN\n",
       "1    -3.0\n",
       "2     5.0\n",
       "3     0.0\n",
       "4     9.0\n",
       "5   -11.0\n",
       "Name: Колонка 3, dtype: float64"
      ]
     },
     "execution_count": 11,
     "metadata": {},
     "output_type": "execute_result"
    }
   ],
   "source": [
    "df['Колонка 3']"
   ]
  },
  {
   "cell_type": "code",
   "execution_count": 12,
   "id": "7d67b45f",
   "metadata": {},
   "outputs": [
    {
     "data": {
      "text/plain": [
       "0     NaN\n",
       "1     3.0\n",
       "2     5.0\n",
       "3     0.0\n",
       "4     9.0\n",
       "5    11.0\n",
       "Name: Колонка 3, dtype: float64"
      ]
     },
     "execution_count": 12,
     "metadata": {},
     "output_type": "execute_result"
    }
   ],
   "source": [
    "df['Колонка 3'].abs()"
   ]
  },
  {
   "cell_type": "markdown",
   "id": "2cb3ae5d",
   "metadata": {},
   "source": [
    "### Округление"
   ]
  },
  {
   "cell_type": "code",
   "execution_count": 13,
   "id": "32aae64b",
   "metadata": {},
   "outputs": [
    {
     "data": {
      "text/plain": [
       "0    4.709530\n",
       "1    5.402677\n",
       "2    5.808142\n",
       "3    6.095825\n",
       "4    6.318968\n",
       "5    6.501290\n",
       "Name: col_1_natural_log, dtype: float64"
      ]
     },
     "execution_count": 13,
     "metadata": {},
     "output_type": "execute_result"
    }
   ],
   "source": [
    "df['col_1_natural_log']"
   ]
  },
  {
   "cell_type": "code",
   "execution_count": 14,
   "id": "03084d3c",
   "metadata": {},
   "outputs": [
    {
     "data": {
      "text/plain": [
       "0    5.0\n",
       "1    5.0\n",
       "2    6.0\n",
       "3    6.0\n",
       "4    6.0\n",
       "5    7.0\n",
       "Name: col_1_natural_log, dtype: float64"
      ]
     },
     "execution_count": 14,
     "metadata": {},
     "output_type": "execute_result"
    }
   ],
   "source": [
    "df['col_1_natural_log'].round()"
   ]
  },
  {
   "cell_type": "code",
   "execution_count": 15,
   "id": "40011328",
   "metadata": {},
   "outputs": [
    {
     "data": {
      "text/plain": [
       "0    2.0\n",
       "1    2.3\n",
       "2    2.5\n",
       "3    2.6\n",
       "4    2.7\n",
       "5    2.8\n",
       "Name: Колонка 1, dtype: float64"
      ]
     },
     "execution_count": 15,
     "metadata": {},
     "output_type": "execute_result"
    }
   ],
   "source": [
    "np.log10(df['Колонка 1']).round(1)"
   ]
  },
  {
   "cell_type": "code",
   "execution_count": 16,
   "id": "e56c4a85",
   "metadata": {},
   "outputs": [
    {
     "data": {
      "text/plain": [
       "0    2.04532\n",
       "1    2.34635\n",
       "2    2.52244\n",
       "3    2.64738\n",
       "4    2.74429\n",
       "5    2.82347\n",
       "Name: Колонка 1, dtype: float64"
      ]
     },
     "execution_count": 16,
     "metadata": {},
     "output_type": "execute_result"
    }
   ],
   "source": [
    "np.log10(df['Колонка 1']).round(5)"
   ]
  },
  {
   "cell_type": "markdown",
   "id": "a73f4858",
   "metadata": {},
   "source": [
    "#### Округление до десятков и до сотен"
   ]
  },
  {
   "cell_type": "code",
   "execution_count": 17,
   "id": "bb96140c",
   "metadata": {},
   "outputs": [
    {
     "data": {
      "text/plain": [
       "0    111\n",
       "1    222\n",
       "2    333\n",
       "3    444\n",
       "4    555\n",
       "5    666\n",
       "Name: Колонка 1, dtype: int64"
      ]
     },
     "execution_count": 17,
     "metadata": {},
     "output_type": "execute_result"
    }
   ],
   "source": [
    "df['Колонка 1']"
   ]
  },
  {
   "cell_type": "code",
   "execution_count": 18,
   "id": "03a129b0",
   "metadata": {},
   "outputs": [
    {
     "data": {
      "text/plain": [
       "0    110\n",
       "1    220\n",
       "2    330\n",
       "3    440\n",
       "4    560\n",
       "5    670\n",
       "Name: Колонка 1, dtype: int64"
      ]
     },
     "execution_count": 18,
     "metadata": {},
     "output_type": "execute_result"
    }
   ],
   "source": [
    "df['Колонка 1'].round(-1)"
   ]
  },
  {
   "cell_type": "code",
   "execution_count": 19,
   "id": "ead85526",
   "metadata": {},
   "outputs": [
    {
     "data": {
      "text/plain": [
       "0    100\n",
       "1    200\n",
       "2    300\n",
       "3    400\n",
       "4    600\n",
       "5    700\n",
       "Name: Колонка 1, dtype: int64"
      ]
     },
     "execution_count": 19,
     "metadata": {},
     "output_type": "execute_result"
    }
   ],
   "source": [
    "df['Колонка 1'].round(-2)"
   ]
  },
  {
   "cell_type": "markdown",
   "id": "a9613a38",
   "metadata": {},
   "source": [
    "#### Огругление вверх"
   ]
  },
  {
   "cell_type": "code",
   "execution_count": 20,
   "id": "4ab7a972",
   "metadata": {},
   "outputs": [
    {
     "data": {
      "text/plain": [
       "0    4.709530\n",
       "1    5.402677\n",
       "2    5.808142\n",
       "3    6.095825\n",
       "4    6.318968\n",
       "5    6.501290\n",
       "Name: col_1_natural_log, dtype: float64"
      ]
     },
     "execution_count": 20,
     "metadata": {},
     "output_type": "execute_result"
    }
   ],
   "source": [
    "df['col_1_natural_log']"
   ]
  },
  {
   "cell_type": "code",
   "execution_count": 21,
   "id": "718fa6cd",
   "metadata": {},
   "outputs": [
    {
     "data": {
      "text/plain": [
       "0    5.0\n",
       "1    6.0\n",
       "2    6.0\n",
       "3    7.0\n",
       "4    7.0\n",
       "5    7.0\n",
       "Name: col_1_natural_log, dtype: float64"
      ]
     },
     "execution_count": 21,
     "metadata": {},
     "output_type": "execute_result"
    }
   ],
   "source": [
    "np.ceil(df['col_1_natural_log'])"
   ]
  },
  {
   "cell_type": "markdown",
   "id": "740e2e45",
   "metadata": {},
   "source": [
    "#### Огругление вниз"
   ]
  },
  {
   "cell_type": "code",
   "execution_count": 22,
   "id": "c0fc3d86",
   "metadata": {},
   "outputs": [
    {
     "data": {
      "text/plain": [
       "0    4.0\n",
       "1    5.0\n",
       "2    5.0\n",
       "3    6.0\n",
       "4    6.0\n",
       "5    6.0\n",
       "Name: col_1_natural_log, dtype: float64"
      ]
     },
     "execution_count": 22,
     "metadata": {},
     "output_type": "execute_result"
    }
   ],
   "source": [
    "np.floor(df['col_1_natural_log'])"
   ]
  },
  {
   "cell_type": "code",
   "execution_count": null,
   "id": "c016f0c7",
   "metadata": {},
   "outputs": [],
   "source": []
  },
  {
   "cell_type": "code",
   "execution_count": null,
   "id": "5028141f",
   "metadata": {},
   "outputs": [],
   "source": []
  },
  {
   "cell_type": "code",
   "execution_count": null,
   "id": "28c3ee2d",
   "metadata": {},
   "outputs": [],
   "source": []
  },
  {
   "cell_type": "code",
   "execution_count": null,
   "id": "964ec20e",
   "metadata": {},
   "outputs": [],
   "source": []
  },
  {
   "cell_type": "code",
   "execution_count": null,
   "id": "71f43bc8",
   "metadata": {},
   "outputs": [],
   "source": []
  },
  {
   "cell_type": "code",
   "execution_count": null,
   "id": "e4214931",
   "metadata": {},
   "outputs": [],
   "source": []
  },
  {
   "cell_type": "code",
   "execution_count": null,
   "id": "632fc1b5",
   "metadata": {},
   "outputs": [],
   "source": []
  },
  {
   "cell_type": "code",
   "execution_count": null,
   "id": "5637ac72",
   "metadata": {},
   "outputs": [],
   "source": []
  },
  {
   "cell_type": "code",
   "execution_count": null,
   "id": "d265b76c",
   "metadata": {},
   "outputs": [],
   "source": []
  },
  {
   "cell_type": "code",
   "execution_count": null,
   "id": "1de9bb59",
   "metadata": {},
   "outputs": [],
   "source": []
  },
  {
   "cell_type": "code",
   "execution_count": null,
   "id": "21e13785",
   "metadata": {},
   "outputs": [],
   "source": []
  },
  {
   "cell_type": "code",
   "execution_count": null,
   "id": "7018e262",
   "metadata": {},
   "outputs": [],
   "source": []
  },
  {
   "cell_type": "code",
   "execution_count": null,
   "id": "601c90cc",
   "metadata": {},
   "outputs": [],
   "source": []
  },
  {
   "cell_type": "code",
   "execution_count": null,
   "id": "58bf3091",
   "metadata": {},
   "outputs": [],
   "source": []
  },
  {
   "cell_type": "code",
   "execution_count": null,
   "id": "3cfb02bc",
   "metadata": {},
   "outputs": [],
   "source": []
  },
  {
   "cell_type": "code",
   "execution_count": null,
   "id": "b88edd54",
   "metadata": {},
   "outputs": [],
   "source": []
  },
  {
   "cell_type": "markdown",
   "id": "88d91561",
   "metadata": {},
   "source": [
    "#### Накопленная сумма"
   ]
  },
  {
   "cell_type": "code",
   "execution_count": 23,
   "id": "3db0787c",
   "metadata": {},
   "outputs": [
    {
     "data": {
      "text/plain": [
       "0    6\n",
       "1    5\n",
       "2    4\n",
       "3    3\n",
       "4    2\n",
       "5    1\n",
       "Name: Колонка 2, dtype: int64"
      ]
     },
     "execution_count": 23,
     "metadata": {},
     "output_type": "execute_result"
    }
   ],
   "source": [
    "df['Колонка 2']"
   ]
  },
  {
   "cell_type": "code",
   "execution_count": 24,
   "id": "a154df1f",
   "metadata": {},
   "outputs": [
    {
     "data": {
      "text/plain": [
       "0     6\n",
       "1    11\n",
       "2    15\n",
       "3    18\n",
       "4    20\n",
       "5    21\n",
       "Name: Колонка 2, dtype: int64"
      ]
     },
     "execution_count": 24,
     "metadata": {},
     "output_type": "execute_result"
    }
   ],
   "source": [
    "df['Колонка 2'].cumsum()"
   ]
  },
  {
   "cell_type": "markdown",
   "id": "cb7128d4",
   "metadata": {},
   "source": [
    "#### Накопленное произведение"
   ]
  },
  {
   "cell_type": "code",
   "execution_count": 25,
   "id": "14b35231",
   "metadata": {},
   "outputs": [
    {
     "data": {
      "text/plain": [
       "0      6\n",
       "1     30\n",
       "2    120\n",
       "3    360\n",
       "4    720\n",
       "5    720\n",
       "Name: Колонка 2, dtype: int64"
      ]
     },
     "execution_count": 25,
     "metadata": {},
     "output_type": "execute_result"
    }
   ],
   "source": [
    "df['Колонка 2'].cumprod()"
   ]
  },
  {
   "cell_type": "markdown",
   "id": "0673efba",
   "metadata": {},
   "source": [
    "#### Накопленный минимум и максимум"
   ]
  },
  {
   "cell_type": "code",
   "execution_count": 26,
   "id": "17898c98",
   "metadata": {},
   "outputs": [
    {
     "data": {
      "text/plain": [
       "0    6\n",
       "1    5\n",
       "2    4\n",
       "3    3\n",
       "4    2\n",
       "5    1\n",
       "Name: Колонка 2, dtype: int64"
      ]
     },
     "execution_count": 26,
     "metadata": {},
     "output_type": "execute_result"
    }
   ],
   "source": [
    "df['Колонка 2'].cummin()\n",
    "# df['Колонка 1'].cummax()"
   ]
  },
  {
   "cell_type": "markdown",
   "id": "21820a50",
   "metadata": {},
   "source": [
    "#### Пропущенные значения просто игнорируются"
   ]
  },
  {
   "cell_type": "code",
   "execution_count": 27,
   "id": "932ceccc",
   "metadata": {},
   "outputs": [
    {
     "data": {
      "text/plain": [
       "0     NaN\n",
       "1    -3.0\n",
       "2     5.0\n",
       "3     0.0\n",
       "4     9.0\n",
       "5   -11.0\n",
       "Name: Колонка 3, dtype: float64"
      ]
     },
     "execution_count": 27,
     "metadata": {},
     "output_type": "execute_result"
    }
   ],
   "source": [
    "df['Колонка 3']"
   ]
  },
  {
   "cell_type": "code",
   "execution_count": 28,
   "id": "7caa490f",
   "metadata": {},
   "outputs": [
    {
     "data": {
      "text/plain": [
       "0     NaN\n",
       "1    -3.0\n",
       "2   -15.0\n",
       "3    -0.0\n",
       "4    -0.0\n",
       "5     0.0\n",
       "Name: Колонка 3, dtype: float64"
      ]
     },
     "execution_count": 28,
     "metadata": {},
     "output_type": "execute_result"
    }
   ],
   "source": [
    "df['Колонка 3'].cumprod()"
   ]
  },
  {
   "cell_type": "markdown",
   "id": "b6bf9d4c",
   "metadata": {},
   "source": [
    "#### Те же операции можно выполнять и для датафреймов если они опеределены"
   ]
  },
  {
   "cell_type": "code",
   "execution_count": 29,
   "id": "a39b41cc",
   "metadata": {},
   "outputs": [
    {
     "data": {
      "text/html": [
       "<div>\n",
       "<style scoped>\n",
       "    .dataframe tbody tr th:only-of-type {\n",
       "        vertical-align: middle;\n",
       "    }\n",
       "\n",
       "    .dataframe tbody tr th {\n",
       "        vertical-align: top;\n",
       "    }\n",
       "\n",
       "    .dataframe thead th {\n",
       "        text-align: right;\n",
       "    }\n",
       "</style>\n",
       "<table border=\"1\" class=\"dataframe\">\n",
       "  <thead>\n",
       "    <tr style=\"text-align: right;\">\n",
       "      <th></th>\n",
       "      <th>Колонка 1</th>\n",
       "      <th>Колонка 2</th>\n",
       "      <th>Колонка 3</th>\n",
       "    </tr>\n",
       "  </thead>\n",
       "  <tbody>\n",
       "    <tr>\n",
       "      <th>0</th>\n",
       "      <td>111</td>\n",
       "      <td>6</td>\n",
       "      <td>NaN</td>\n",
       "    </tr>\n",
       "    <tr>\n",
       "      <th>1</th>\n",
       "      <td>222</td>\n",
       "      <td>5</td>\n",
       "      <td>-3.0</td>\n",
       "    </tr>\n",
       "    <tr>\n",
       "      <th>2</th>\n",
       "      <td>333</td>\n",
       "      <td>4</td>\n",
       "      <td>5.0</td>\n",
       "    </tr>\n",
       "    <tr>\n",
       "      <th>3</th>\n",
       "      <td>444</td>\n",
       "      <td>3</td>\n",
       "      <td>0.0</td>\n",
       "    </tr>\n",
       "    <tr>\n",
       "      <th>4</th>\n",
       "      <td>555</td>\n",
       "      <td>2</td>\n",
       "      <td>9.0</td>\n",
       "    </tr>\n",
       "    <tr>\n",
       "      <th>5</th>\n",
       "      <td>666</td>\n",
       "      <td>1</td>\n",
       "      <td>-11.0</td>\n",
       "    </tr>\n",
       "  </tbody>\n",
       "</table>\n",
       "</div>"
      ],
      "text/plain": [
       "   Колонка 1  Колонка 2  Колонка 3\n",
       "0        111          6        NaN\n",
       "1        222          5       -3.0\n",
       "2        333          4        5.0\n",
       "3        444          3        0.0\n",
       "4        555          2        9.0\n",
       "5        666          1      -11.0"
      ]
     },
     "execution_count": 29,
     "metadata": {},
     "output_type": "execute_result"
    }
   ],
   "source": [
    "df.iloc[:, :3]"
   ]
  },
  {
   "cell_type": "code",
   "execution_count": 30,
   "id": "bea17314",
   "metadata": {},
   "outputs": [
    {
     "data": {
      "text/html": [
       "<div>\n",
       "<style scoped>\n",
       "    .dataframe tbody tr th:only-of-type {\n",
       "        vertical-align: middle;\n",
       "    }\n",
       "\n",
       "    .dataframe tbody tr th {\n",
       "        vertical-align: top;\n",
       "    }\n",
       "\n",
       "    .dataframe thead th {\n",
       "        text-align: right;\n",
       "    }\n",
       "</style>\n",
       "<table border=\"1\" class=\"dataframe\">\n",
       "  <thead>\n",
       "    <tr style=\"text-align: right;\">\n",
       "      <th></th>\n",
       "      <th>Колонка 1</th>\n",
       "      <th>Колонка 2</th>\n",
       "      <th>Колонка 3</th>\n",
       "    </tr>\n",
       "  </thead>\n",
       "  <tbody>\n",
       "    <tr>\n",
       "      <th>0</th>\n",
       "      <td>111</td>\n",
       "      <td>6</td>\n",
       "      <td>NaN</td>\n",
       "    </tr>\n",
       "    <tr>\n",
       "      <th>1</th>\n",
       "      <td>24642</td>\n",
       "      <td>30</td>\n",
       "      <td>-3.0</td>\n",
       "    </tr>\n",
       "    <tr>\n",
       "      <th>2</th>\n",
       "      <td>8205786</td>\n",
       "      <td>120</td>\n",
       "      <td>-15.0</td>\n",
       "    </tr>\n",
       "    <tr>\n",
       "      <th>3</th>\n",
       "      <td>3643368984</td>\n",
       "      <td>360</td>\n",
       "      <td>-0.0</td>\n",
       "    </tr>\n",
       "    <tr>\n",
       "      <th>4</th>\n",
       "      <td>2022069786120</td>\n",
       "      <td>720</td>\n",
       "      <td>-0.0</td>\n",
       "    </tr>\n",
       "    <tr>\n",
       "      <th>5</th>\n",
       "      <td>1346698477555920</td>\n",
       "      <td>720</td>\n",
       "      <td>0.0</td>\n",
       "    </tr>\n",
       "  </tbody>\n",
       "</table>\n",
       "</div>"
      ],
      "text/plain": [
       "          Колонка 1  Колонка 2  Колонка 3\n",
       "0               111          6        NaN\n",
       "1             24642         30       -3.0\n",
       "2           8205786        120      -15.0\n",
       "3        3643368984        360       -0.0\n",
       "4     2022069786120        720       -0.0\n",
       "5  1346698477555920        720        0.0"
      ]
     },
     "execution_count": 30,
     "metadata": {},
     "output_type": "execute_result"
    }
   ],
   "source": [
    "df.iloc[:, :3].cumprod()"
   ]
  },
  {
   "cell_type": "markdown",
   "id": "d4992112",
   "metadata": {},
   "source": [
    "#### Можно настраивать ось, вдоль которой будет действовать метод"
   ]
  },
  {
   "cell_type": "code",
   "execution_count": 31,
   "id": "453a51fb",
   "metadata": {},
   "outputs": [
    {
     "data": {
      "text/html": [
       "<div>\n",
       "<style scoped>\n",
       "    .dataframe tbody tr th:only-of-type {\n",
       "        vertical-align: middle;\n",
       "    }\n",
       "\n",
       "    .dataframe tbody tr th {\n",
       "        vertical-align: top;\n",
       "    }\n",
       "\n",
       "    .dataframe thead th {\n",
       "        text-align: right;\n",
       "    }\n",
       "</style>\n",
       "<table border=\"1\" class=\"dataframe\">\n",
       "  <thead>\n",
       "    <tr style=\"text-align: right;\">\n",
       "      <th></th>\n",
       "      <th>Колонка 1</th>\n",
       "      <th>Колонка 2</th>\n",
       "      <th>Колонка 3</th>\n",
       "    </tr>\n",
       "  </thead>\n",
       "  <tbody>\n",
       "    <tr>\n",
       "      <th>0</th>\n",
       "      <td>111.0</td>\n",
       "      <td>666.0</td>\n",
       "      <td>NaN</td>\n",
       "    </tr>\n",
       "    <tr>\n",
       "      <th>1</th>\n",
       "      <td>222.0</td>\n",
       "      <td>1110.0</td>\n",
       "      <td>-3330.0</td>\n",
       "    </tr>\n",
       "    <tr>\n",
       "      <th>2</th>\n",
       "      <td>333.0</td>\n",
       "      <td>1332.0</td>\n",
       "      <td>6660.0</td>\n",
       "    </tr>\n",
       "    <tr>\n",
       "      <th>3</th>\n",
       "      <td>444.0</td>\n",
       "      <td>1332.0</td>\n",
       "      <td>0.0</td>\n",
       "    </tr>\n",
       "    <tr>\n",
       "      <th>4</th>\n",
       "      <td>555.0</td>\n",
       "      <td>1110.0</td>\n",
       "      <td>9990.0</td>\n",
       "    </tr>\n",
       "    <tr>\n",
       "      <th>5</th>\n",
       "      <td>666.0</td>\n",
       "      <td>666.0</td>\n",
       "      <td>-7326.0</td>\n",
       "    </tr>\n",
       "  </tbody>\n",
       "</table>\n",
       "</div>"
      ],
      "text/plain": [
       "   Колонка 1  Колонка 2  Колонка 3\n",
       "0      111.0      666.0        NaN\n",
       "1      222.0     1110.0    -3330.0\n",
       "2      333.0     1332.0     6660.0\n",
       "3      444.0     1332.0        0.0\n",
       "4      555.0     1110.0     9990.0\n",
       "5      666.0      666.0    -7326.0"
      ]
     },
     "execution_count": 31,
     "metadata": {},
     "output_type": "execute_result"
    }
   ],
   "source": [
    "df.iloc[:, :3].cumprod(axis=1)"
   ]
  },
  {
   "cell_type": "code",
   "execution_count": null,
   "id": "67a747da",
   "metadata": {},
   "outputs": [],
   "source": []
  },
  {
   "cell_type": "markdown",
   "id": "9a3aa231",
   "metadata": {},
   "source": [
    "#### is_monotonic_increasing\n",
    "\n",
    "Проверяет возрастает ли ряд"
   ]
  },
  {
   "cell_type": "code",
   "execution_count": 32,
   "id": "8c16829f",
   "metadata": {},
   "outputs": [
    {
     "data": {
      "text/plain": [
       "True"
      ]
     },
     "execution_count": 32,
     "metadata": {},
     "output_type": "execute_result"
    }
   ],
   "source": [
    "df['Колонка 1'].is_monotonic_increasing"
   ]
  },
  {
   "cell_type": "markdown",
   "id": "b50e5b93",
   "metadata": {},
   "source": [
    "#### is_monotonic_decreasing\n",
    "Проверяет убывает ли ряд"
   ]
  },
  {
   "cell_type": "code",
   "execution_count": 33,
   "id": "b5382042",
   "metadata": {},
   "outputs": [
    {
     "data": {
      "text/plain": [
       "False"
      ]
     },
     "execution_count": 33,
     "metadata": {},
     "output_type": "execute_result"
    }
   ],
   "source": [
    "df['Колонка 1'].is_monotonic_decreasing"
   ]
  },
  {
   "cell_type": "code",
   "execution_count": null,
   "id": "307ed25e",
   "metadata": {},
   "outputs": [],
   "source": []
  },
  {
   "cell_type": "code",
   "execution_count": null,
   "id": "ec5fc4f5",
   "metadata": {},
   "outputs": [],
   "source": []
  },
  {
   "cell_type": "code",
   "execution_count": null,
   "id": "0a428db6",
   "metadata": {},
   "outputs": [],
   "source": []
  },
  {
   "cell_type": "code",
   "execution_count": null,
   "id": "14621c80",
   "metadata": {},
   "outputs": [],
   "source": []
  },
  {
   "cell_type": "code",
   "execution_count": null,
   "id": "10ee1b44",
   "metadata": {},
   "outputs": [],
   "source": []
  },
  {
   "cell_type": "markdown",
   "id": "ac883f3a",
   "metadata": {},
   "source": [
    "#### Стандартные функции"
   ]
  },
  {
   "cell_type": "code",
   "execution_count": 34,
   "id": "28e88622",
   "metadata": {},
   "outputs": [
    {
     "data": {
      "text/plain": [
       "6"
      ]
     },
     "execution_count": 34,
     "metadata": {},
     "output_type": "execute_result"
    }
   ],
   "source": [
    "len(df['Колонка 1'])"
   ]
  },
  {
   "cell_type": "code",
   "execution_count": 35,
   "id": "70ed5c66",
   "metadata": {},
   "outputs": [
    {
     "data": {
      "text/plain": [
       "2331"
      ]
     },
     "execution_count": 35,
     "metadata": {},
     "output_type": "execute_result"
    }
   ],
   "source": [
    "sum(df['Колонка 1'])"
   ]
  },
  {
   "cell_type": "code",
   "execution_count": 36,
   "id": "cdeda3b0",
   "metadata": {},
   "outputs": [
    {
     "data": {
      "text/plain": [
       "0     NaN\n",
       "1     3.0\n",
       "2     5.0\n",
       "3     0.0\n",
       "4     9.0\n",
       "5    11.0\n",
       "Name: Колонка 3, dtype: float64"
      ]
     },
     "execution_count": 36,
     "metadata": {},
     "output_type": "execute_result"
    }
   ],
   "source": [
    "abs(df['Колонка 3'])"
   ]
  },
  {
   "cell_type": "code",
   "execution_count": 37,
   "id": "a230b696",
   "metadata": {},
   "outputs": [
    {
     "data": {
      "text/plain": [
       "111"
      ]
     },
     "execution_count": 37,
     "metadata": {},
     "output_type": "execute_result"
    }
   ],
   "source": [
    "min(df['Колонка 1'])"
   ]
  },
  {
   "cell_type": "code",
   "execution_count": 38,
   "id": "8fa53a26",
   "metadata": {},
   "outputs": [
    {
     "data": {
      "text/plain": [
       "666"
      ]
     },
     "execution_count": 38,
     "metadata": {},
     "output_type": "execute_result"
    }
   ],
   "source": [
    "max(df['Колонка 1'])"
   ]
  },
  {
   "cell_type": "code",
   "execution_count": 39,
   "id": "188ac255",
   "metadata": {},
   "outputs": [
    {
     "data": {
      "text/plain": [
       "nan"
      ]
     },
     "execution_count": 39,
     "metadata": {},
     "output_type": "execute_result"
    }
   ],
   "source": [
    "max(df['Колонка 3'])"
   ]
  },
  {
   "cell_type": "code",
   "execution_count": 40,
   "id": "b37db6f8",
   "metadata": {},
   "outputs": [
    {
     "data": {
      "text/plain": [
       "nan"
      ]
     },
     "execution_count": 40,
     "metadata": {},
     "output_type": "execute_result"
    }
   ],
   "source": [
    "sum(df['Колонка 3'])"
   ]
  },
  {
   "cell_type": "code",
   "execution_count": null,
   "id": "253eaa92",
   "metadata": {},
   "outputs": [],
   "source": []
  },
  {
   "cell_type": "code",
   "execution_count": null,
   "id": "24f1682a",
   "metadata": {},
   "outputs": [],
   "source": []
  },
  {
   "cell_type": "code",
   "execution_count": null,
   "id": "ee7a9a0d",
   "metadata": {},
   "outputs": [],
   "source": []
  },
  {
   "cell_type": "markdown",
   "id": "ae011ad8",
   "metadata": {},
   "source": [
    "## replace\n",
    "\n",
    "Ипользуется для замены одних значений другими"
   ]
  },
  {
   "cell_type": "code",
   "execution_count": 41,
   "id": "cbb74e74",
   "metadata": {},
   "outputs": [
    {
     "data": {
      "text/plain": [
       "0         Баскетбол\n",
       "1            Хоккей\n",
       "2          Волейбол\n",
       "3            Футбол\n",
       "4    Counter-Strike\n",
       "5         Баскетбол\n",
       "Name: Увлечение, dtype: object"
      ]
     },
     "execution_count": 41,
     "metadata": {},
     "output_type": "execute_result"
    }
   ],
   "source": [
    "df['Увлечение']"
   ]
  },
  {
   "cell_type": "markdown",
   "id": "b31fd15a",
   "metadata": {},
   "source": [
    "#### Чаще всего в него передается словарь, в котором сначала указывается старое значение, а затем новое"
   ]
  },
  {
   "cell_type": "code",
   "execution_count": 42,
   "id": "18afe30d",
   "metadata": {},
   "outputs": [
    {
     "data": {
      "text/plain": [
       "0              Dota\n",
       "1            Хоккей\n",
       "2          Волейбол\n",
       "3            Футбол\n",
       "4    Counter-Strike\n",
       "5              Dota\n",
       "Name: Увлечение, dtype: object"
      ]
     },
     "execution_count": 42,
     "metadata": {},
     "output_type": "execute_result"
    }
   ],
   "source": [
    "df['Увлечение'].replace({'Баскетбол': 'Dota'})"
   ]
  },
  {
   "cell_type": "markdown",
   "id": "7165120a",
   "metadata": {},
   "source": [
    "#### В метод можно передать сначала список из старых значений, а затем список из новых"
   ]
  },
  {
   "cell_type": "code",
   "execution_count": 43,
   "id": "bb0eae30",
   "metadata": {},
   "outputs": [
    {
     "data": {
      "text/plain": [
       "0         Баскетбол\n",
       "1           Бильярд\n",
       "2          Волейбол\n",
       "3           Боулинг\n",
       "4    Counter-Strike\n",
       "5         Баскетбол\n",
       "Name: Увлечение, dtype: object"
      ]
     },
     "execution_count": 43,
     "metadata": {},
     "output_type": "execute_result"
    }
   ],
   "source": [
    "# Поменяем хоккей на футбол, а футбол на хоккей\n",
    "df['Увлечение'].replace(['Хоккей', 'Футбол'], ['Бильярд', 'Боулинг'])"
   ]
  },
  {
   "cell_type": "markdown",
   "id": "f83656d2",
   "metadata": {},
   "source": [
    "#### Можно сначала указать список из старых, а затем новое название"
   ]
  },
  {
   "cell_type": "code",
   "execution_count": 44,
   "id": "161166f9",
   "metadata": {},
   "outputs": [
    {
     "data": {
      "text/plain": [
       "0         Баскетбол\n",
       "1             Дартс\n",
       "2          Волейбол\n",
       "3             Дартс\n",
       "4    Counter-Strike\n",
       "5         Баскетбол\n",
       "Name: Увлечение, dtype: object"
      ]
     },
     "execution_count": 44,
     "metadata": {},
     "output_type": "execute_result"
    }
   ],
   "source": [
    "df['Увлечение'].replace(['Хоккей', 'Футбол'], 'Дартс')"
   ]
  },
  {
   "cell_type": "code",
   "execution_count": null,
   "id": "e09a19c7",
   "metadata": {},
   "outputs": [],
   "source": []
  },
  {
   "cell_type": "code",
   "execution_count": null,
   "id": "832a02af",
   "metadata": {},
   "outputs": [],
   "source": []
  },
  {
   "cell_type": "code",
   "execution_count": null,
   "id": "355144e4",
   "metadata": {},
   "outputs": [],
   "source": []
  },
  {
   "cell_type": "markdown",
   "id": "003c9f9d",
   "metadata": {},
   "source": [
    "### Метод repalace для датафреймов"
   ]
  },
  {
   "cell_type": "code",
   "execution_count": 45,
   "id": "78c27ad4",
   "metadata": {},
   "outputs": [
    {
     "data": {
      "text/html": [
       "<div>\n",
       "<style scoped>\n",
       "    .dataframe tbody tr th:only-of-type {\n",
       "        vertical-align: middle;\n",
       "    }\n",
       "\n",
       "    .dataframe tbody tr th {\n",
       "        vertical-align: top;\n",
       "    }\n",
       "\n",
       "    .dataframe thead th {\n",
       "        text-align: right;\n",
       "    }\n",
       "</style>\n",
       "<table border=\"1\" class=\"dataframe\">\n",
       "  <thead>\n",
       "    <tr style=\"text-align: right;\">\n",
       "      <th></th>\n",
       "      <th>Колонка 1</th>\n",
       "      <th>Колонка 2</th>\n",
       "      <th>Колонка 3</th>\n",
       "      <th>Имя</th>\n",
       "      <th>Увлечение</th>\n",
       "      <th>col_1_natural_log</th>\n",
       "    </tr>\n",
       "  </thead>\n",
       "  <tbody>\n",
       "    <tr>\n",
       "      <th>0</th>\n",
       "      <td>111</td>\n",
       "      <td>6</td>\n",
       "      <td>NaN</td>\n",
       "      <td>Миша</td>\n",
       "      <td>Баскетбол</td>\n",
       "      <td>4.709530</td>\n",
       "    </tr>\n",
       "    <tr>\n",
       "      <th>1</th>\n",
       "      <td>222</td>\n",
       "      <td>5</td>\n",
       "      <td>-3.0</td>\n",
       "      <td>Саша</td>\n",
       "      <td>Хоккей</td>\n",
       "      <td>5.402677</td>\n",
       "    </tr>\n",
       "    <tr>\n",
       "      <th>2</th>\n",
       "      <td>333</td>\n",
       "      <td>4</td>\n",
       "      <td>5.0</td>\n",
       "      <td>Юля</td>\n",
       "      <td>Волейбол</td>\n",
       "      <td>5.808142</td>\n",
       "    </tr>\n",
       "    <tr>\n",
       "      <th>3</th>\n",
       "      <td>444</td>\n",
       "      <td>3</td>\n",
       "      <td>0.0</td>\n",
       "      <td>Настя</td>\n",
       "      <td>Футбол</td>\n",
       "      <td>6.095825</td>\n",
       "    </tr>\n",
       "    <tr>\n",
       "      <th>4</th>\n",
       "      <td>555</td>\n",
       "      <td>2</td>\n",
       "      <td>9.0</td>\n",
       "      <td>Андрей</td>\n",
       "      <td>Counter-Strike</td>\n",
       "      <td>6.318968</td>\n",
       "    </tr>\n",
       "    <tr>\n",
       "      <th>5</th>\n",
       "      <td>666</td>\n",
       "      <td>1</td>\n",
       "      <td>-11.0</td>\n",
       "      <td>Катя</td>\n",
       "      <td>Баскетбол</td>\n",
       "      <td>6.501290</td>\n",
       "    </tr>\n",
       "  </tbody>\n",
       "</table>\n",
       "</div>"
      ],
      "text/plain": [
       "   Колонка 1  Колонка 2  Колонка 3     Имя       Увлечение  col_1_natural_log\n",
       "0        111          6        NaN    Миша       Баскетбол           4.709530\n",
       "1        222          5       -3.0    Саша          Хоккей           5.402677\n",
       "2        333          4        5.0     Юля        Волейбол           5.808142\n",
       "3        444          3        0.0   Настя          Футбол           6.095825\n",
       "4        555          2        9.0  Андрей  Counter-Strike           6.318968\n",
       "5        666          1      -11.0    Катя       Баскетбол           6.501290"
      ]
     },
     "execution_count": 45,
     "metadata": {},
     "output_type": "execute_result"
    }
   ],
   "source": [
    "df"
   ]
  },
  {
   "cell_type": "markdown",
   "id": "fb486841",
   "metadata": {},
   "source": [
    "#### Метод можно применить сразу ко всему датафрейму"
   ]
  },
  {
   "cell_type": "code",
   "execution_count": 46,
   "id": "5444a5ee",
   "metadata": {},
   "outputs": [
    {
     "data": {
      "text/html": [
       "<div>\n",
       "<style scoped>\n",
       "    .dataframe tbody tr th:only-of-type {\n",
       "        vertical-align: middle;\n",
       "    }\n",
       "\n",
       "    .dataframe tbody tr th {\n",
       "        vertical-align: top;\n",
       "    }\n",
       "\n",
       "    .dataframe thead th {\n",
       "        text-align: right;\n",
       "    }\n",
       "</style>\n",
       "<table border=\"1\" class=\"dataframe\">\n",
       "  <thead>\n",
       "    <tr style=\"text-align: right;\">\n",
       "      <th></th>\n",
       "      <th>Колонка 1</th>\n",
       "      <th>Колонка 2</th>\n",
       "      <th>Колонка 3</th>\n",
       "      <th>Имя</th>\n",
       "      <th>Увлечение</th>\n",
       "      <th>col_1_natural_log</th>\n",
       "    </tr>\n",
       "  </thead>\n",
       "  <tbody>\n",
       "    <tr>\n",
       "      <th>0</th>\n",
       "      <td>111</td>\n",
       "      <td>6</td>\n",
       "      <td>NaN</td>\n",
       "      <td>Миша</td>\n",
       "      <td>Dota</td>\n",
       "      <td>4.709530</td>\n",
       "    </tr>\n",
       "    <tr>\n",
       "      <th>1</th>\n",
       "      <td>222</td>\n",
       "      <td>1000</td>\n",
       "      <td>-3.0</td>\n",
       "      <td>Саша</td>\n",
       "      <td>Хоккей</td>\n",
       "      <td>5.402677</td>\n",
       "    </tr>\n",
       "    <tr>\n",
       "      <th>2</th>\n",
       "      <td>333</td>\n",
       "      <td>4</td>\n",
       "      <td>1000.0</td>\n",
       "      <td>Юля</td>\n",
       "      <td>Волейбол</td>\n",
       "      <td>5.808142</td>\n",
       "    </tr>\n",
       "    <tr>\n",
       "      <th>3</th>\n",
       "      <td>444</td>\n",
       "      <td>3</td>\n",
       "      <td>0.0</td>\n",
       "      <td>Настя</td>\n",
       "      <td>Футбол</td>\n",
       "      <td>6.095825</td>\n",
       "    </tr>\n",
       "    <tr>\n",
       "      <th>4</th>\n",
       "      <td>555</td>\n",
       "      <td>2</td>\n",
       "      <td>9.0</td>\n",
       "      <td>Андрей</td>\n",
       "      <td>Counter-Strike</td>\n",
       "      <td>6.318968</td>\n",
       "    </tr>\n",
       "    <tr>\n",
       "      <th>5</th>\n",
       "      <td>666</td>\n",
       "      <td>1</td>\n",
       "      <td>-11.0</td>\n",
       "      <td>Катя</td>\n",
       "      <td>Dota</td>\n",
       "      <td>6.501290</td>\n",
       "    </tr>\n",
       "  </tbody>\n",
       "</table>\n",
       "</div>"
      ],
      "text/plain": [
       "   Колонка 1  Колонка 2  Колонка 3     Имя       Увлечение  col_1_natural_log\n",
       "0        111          6        NaN    Миша            Dota           4.709530\n",
       "1        222       1000       -3.0    Саша          Хоккей           5.402677\n",
       "2        333          4     1000.0     Юля        Волейбол           5.808142\n",
       "3        444          3        0.0   Настя          Футбол           6.095825\n",
       "4        555          2        9.0  Андрей  Counter-Strike           6.318968\n",
       "5        666          1      -11.0    Катя            Dota           6.501290"
      ]
     },
     "execution_count": 46,
     "metadata": {},
     "output_type": "execute_result"
    }
   ],
   "source": [
    "df.replace({'Баскетбол': 'Dota', 5: 1000})"
   ]
  },
  {
   "cell_type": "markdown",
   "id": "92331aa3",
   "metadata": {},
   "source": [
    "#### А можно к каждой отдельной колонке"
   ]
  },
  {
   "cell_type": "code",
   "execution_count": 47,
   "id": "601ff003",
   "metadata": {},
   "outputs": [
    {
     "data": {
      "text/html": [
       "<div>\n",
       "<style scoped>\n",
       "    .dataframe tbody tr th:only-of-type {\n",
       "        vertical-align: middle;\n",
       "    }\n",
       "\n",
       "    .dataframe tbody tr th {\n",
       "        vertical-align: top;\n",
       "    }\n",
       "\n",
       "    .dataframe thead th {\n",
       "        text-align: right;\n",
       "    }\n",
       "</style>\n",
       "<table border=\"1\" class=\"dataframe\">\n",
       "  <thead>\n",
       "    <tr style=\"text-align: right;\">\n",
       "      <th></th>\n",
       "      <th>Колонка 1</th>\n",
       "      <th>Колонка 2</th>\n",
       "      <th>Колонка 3</th>\n",
       "      <th>Имя</th>\n",
       "      <th>Увлечение</th>\n",
       "      <th>col_1_natural_log</th>\n",
       "    </tr>\n",
       "  </thead>\n",
       "  <tbody>\n",
       "    <tr>\n",
       "      <th>0</th>\n",
       "      <td>111</td>\n",
       "      <td>6</td>\n",
       "      <td>NaN</td>\n",
       "      <td>Миша</td>\n",
       "      <td>Баскетбол</td>\n",
       "      <td>4.709530</td>\n",
       "    </tr>\n",
       "    <tr>\n",
       "      <th>1</th>\n",
       "      <td>222</td>\n",
       "      <td>5</td>\n",
       "      <td>-3.0</td>\n",
       "      <td>Саша</td>\n",
       "      <td>Хоккей</td>\n",
       "      <td>5.402677</td>\n",
       "    </tr>\n",
       "    <tr>\n",
       "      <th>2</th>\n",
       "      <td>333</td>\n",
       "      <td>4</td>\n",
       "      <td>5.0</td>\n",
       "      <td>Юля</td>\n",
       "      <td>Волейбол</td>\n",
       "      <td>5.808142</td>\n",
       "    </tr>\n",
       "    <tr>\n",
       "      <th>3</th>\n",
       "      <td>444</td>\n",
       "      <td>3</td>\n",
       "      <td>0.0</td>\n",
       "      <td>Настя</td>\n",
       "      <td>Футбол</td>\n",
       "      <td>6.095825</td>\n",
       "    </tr>\n",
       "    <tr>\n",
       "      <th>4</th>\n",
       "      <td>555</td>\n",
       "      <td>2</td>\n",
       "      <td>9.0</td>\n",
       "      <td>Сергей</td>\n",
       "      <td>Counter-Strike</td>\n",
       "      <td>6.318968</td>\n",
       "    </tr>\n",
       "    <tr>\n",
       "      <th>5</th>\n",
       "      <td>666</td>\n",
       "      <td>1</td>\n",
       "      <td>-11.0</td>\n",
       "      <td>Катя</td>\n",
       "      <td>Баскетбол</td>\n",
       "      <td>6.501290</td>\n",
       "    </tr>\n",
       "  </tbody>\n",
       "</table>\n",
       "</div>"
      ],
      "text/plain": [
       "   Колонка 1  Колонка 2  Колонка 3     Имя       Увлечение  col_1_natural_log\n",
       "0        111          6        NaN    Миша       Баскетбол           4.709530\n",
       "1        222          5       -3.0    Саша          Хоккей           5.402677\n",
       "2        333          4        5.0     Юля        Волейбол           5.808142\n",
       "3        444          3        0.0   Настя          Футбол           6.095825\n",
       "4        555          2        9.0  Сергей  Counter-Strike           6.318968\n",
       "5        666          1      -11.0    Катя       Баскетбол           6.501290"
      ]
     },
     "execution_count": 47,
     "metadata": {},
     "output_type": "execute_result"
    }
   ],
   "source": [
    "df.replace({'Имя': {'Андрей': 'Сергей'}})"
   ]
  },
  {
   "cell_type": "code",
   "execution_count": null,
   "id": "e11da770",
   "metadata": {},
   "outputs": [],
   "source": []
  },
  {
   "cell_type": "code",
   "execution_count": null,
   "id": "81b49c2d",
   "metadata": {},
   "outputs": [],
   "source": []
  },
  {
   "cell_type": "code",
   "execution_count": null,
   "id": "ecca55f0",
   "metadata": {},
   "outputs": [],
   "source": []
  },
  {
   "cell_type": "code",
   "execution_count": null,
   "id": "0ea07525",
   "metadata": {},
   "outputs": [],
   "source": []
  },
  {
   "cell_type": "code",
   "execution_count": null,
   "id": "015c9a7a",
   "metadata": {},
   "outputs": [],
   "source": []
  },
  {
   "cell_type": "code",
   "execution_count": null,
   "id": "3053105b",
   "metadata": {},
   "outputs": [],
   "source": []
  },
  {
   "cell_type": "code",
   "execution_count": null,
   "id": "a59648fc",
   "metadata": {},
   "outputs": [],
   "source": []
  },
  {
   "cell_type": "code",
   "execution_count": null,
   "id": "d6703e32",
   "metadata": {},
   "outputs": [],
   "source": []
  },
  {
   "cell_type": "code",
   "execution_count": null,
   "id": "eab3d791",
   "metadata": {},
   "outputs": [],
   "source": []
  },
  {
   "cell_type": "code",
   "execution_count": null,
   "id": "cc5dd013",
   "metadata": {},
   "outputs": [],
   "source": []
  },
  {
   "cell_type": "code",
   "execution_count": null,
   "id": "266f1336",
   "metadata": {},
   "outputs": [],
   "source": []
  },
  {
   "cell_type": "code",
   "execution_count": null,
   "id": "520b1ec0",
   "metadata": {},
   "outputs": [],
   "source": []
  },
  {
   "cell_type": "code",
   "execution_count": null,
   "id": "914f97fe",
   "metadata": {},
   "outputs": [],
   "source": []
  },
  {
   "cell_type": "code",
   "execution_count": null,
   "id": "38c78f28",
   "metadata": {},
   "outputs": [],
   "source": []
  },
  {
   "cell_type": "code",
   "execution_count": null,
   "id": "9172eea8",
   "metadata": {},
   "outputs": [],
   "source": []
  },
  {
   "cell_type": "code",
   "execution_count": null,
   "id": "522ca98d",
   "metadata": {},
   "outputs": [],
   "source": []
  },
  {
   "cell_type": "code",
   "execution_count": null,
   "id": "52d11d2c",
   "metadata": {},
   "outputs": [],
   "source": []
  },
  {
   "cell_type": "markdown",
   "id": "f8b85568",
   "metadata": {},
   "source": [
    "## map"
   ]
  },
  {
   "cell_type": "markdown",
   "id": "87ead462",
   "metadata": {},
   "source": [
    "#### Заменяет значения указанные в словаре, но для остальных значений проставляет пропуск"
   ]
  },
  {
   "cell_type": "code",
   "execution_count": 48,
   "id": "d5b49dad",
   "metadata": {},
   "outputs": [
    {
     "data": {
      "text/plain": [
       "0    Dota\n",
       "1     NaN\n",
       "2     NaN\n",
       "3     NaN\n",
       "4     NaN\n",
       "5    Dota\n",
       "Name: Увлечение, dtype: object"
      ]
     },
     "execution_count": 48,
     "metadata": {},
     "output_type": "execute_result"
    }
   ],
   "source": [
    "df['Увлечение'].map({'Баскетбол': 'Dota'})"
   ]
  },
  {
   "cell_type": "code",
   "execution_count": 49,
   "id": "4adfb040",
   "metadata": {},
   "outputs": [
    {
     "data": {
      "text/plain": [
       "0              Dota\n",
       "1            Хоккей\n",
       "2          Волейбол\n",
       "3            Футбол\n",
       "4    Counter-Strike\n",
       "5              Dota\n",
       "Name: Увлечение, dtype: object"
      ]
     },
     "execution_count": 49,
     "metadata": {},
     "output_type": "execute_result"
    }
   ],
   "source": [
    "df['Увлечение'].map(lambda x: {'Баскетбол': 'Dota'}.get(x, x))"
   ]
  },
  {
   "cell_type": "code",
   "execution_count": null,
   "id": "dd6b1cd6",
   "metadata": {},
   "outputs": [],
   "source": []
  },
  {
   "cell_type": "code",
   "execution_count": null,
   "id": "90ff8479",
   "metadata": {},
   "outputs": [],
   "source": []
  },
  {
   "cell_type": "code",
   "execution_count": null,
   "id": "efca6f24",
   "metadata": {},
   "outputs": [],
   "source": []
  },
  {
   "cell_type": "code",
   "execution_count": null,
   "id": "532307dd",
   "metadata": {},
   "outputs": [],
   "source": []
  },
  {
   "cell_type": "code",
   "execution_count": null,
   "id": "7b527a9d",
   "metadata": {},
   "outputs": [],
   "source": []
  },
  {
   "cell_type": "code",
   "execution_count": null,
   "id": "ae81d6e0",
   "metadata": {},
   "outputs": [],
   "source": []
  },
  {
   "cell_type": "code",
   "execution_count": null,
   "id": "de14703d",
   "metadata": {},
   "outputs": [],
   "source": []
  },
  {
   "cell_type": "code",
   "execution_count": null,
   "id": "1f3a5a24",
   "metadata": {},
   "outputs": [],
   "source": []
  },
  {
   "cell_type": "code",
   "execution_count": null,
   "id": "aae328ea",
   "metadata": {},
   "outputs": [],
   "source": []
  },
  {
   "cell_type": "code",
   "execution_count": null,
   "id": "acb22cb1",
   "metadata": {},
   "outputs": [],
   "source": []
  },
  {
   "cell_type": "code",
   "execution_count": null,
   "id": "78732afb",
   "metadata": {},
   "outputs": [],
   "source": []
  },
  {
   "cell_type": "code",
   "execution_count": null,
   "id": "a404aca5",
   "metadata": {},
   "outputs": [],
   "source": []
  },
  {
   "cell_type": "code",
   "execution_count": null,
   "id": "b0f7ab93",
   "metadata": {},
   "outputs": [],
   "source": []
  },
  {
   "cell_type": "code",
   "execution_count": null,
   "id": "31298bb3",
   "metadata": {},
   "outputs": [],
   "source": []
  },
  {
   "cell_type": "markdown",
   "id": "c907b5bf",
   "metadata": {},
   "source": [
    "## Методы для работы с функциями"
   ]
  },
  {
   "cell_type": "markdown",
   "id": "e5133929",
   "metadata": {},
   "source": [
    "Векторизованные и невекторизованные функции\n",
    "\n",
    "Векторизованные функции - это функции, которые на вход принимают колонку таблицы, таблицу или ndarray\n",
    "\n",
    "Большинство функций и методов в numpy и pandas - векторизованные "
   ]
  },
  {
   "cell_type": "code",
   "execution_count": 50,
   "id": "1c7e755f",
   "metadata": {},
   "outputs": [
    {
     "data": {
      "text/plain": [
       "0    111\n",
       "1    222\n",
       "2    333\n",
       "3    444\n",
       "4    555\n",
       "5    666\n",
       "Name: Колонка 1, dtype: int64"
      ]
     },
     "execution_count": 50,
     "metadata": {},
     "output_type": "execute_result"
    }
   ],
   "source": [
    "df['Колонка 1']"
   ]
  },
  {
   "cell_type": "code",
   "execution_count": 51,
   "id": "75693c31",
   "metadata": {},
   "outputs": [
    {
     "data": {
      "text/plain": [
       "0    4.709530\n",
       "1    5.402677\n",
       "2    5.808142\n",
       "3    6.095825\n",
       "4    6.318968\n",
       "5    6.501290\n",
       "Name: Колонка 1, dtype: float64"
      ]
     },
     "execution_count": 51,
     "metadata": {},
     "output_type": "execute_result"
    }
   ],
   "source": [
    "np.log(df['Колонка 1'])"
   ]
  },
  {
   "cell_type": "code",
   "execution_count": 52,
   "id": "cd9e8a30",
   "metadata": {},
   "outputs": [],
   "source": [
    "from math import log"
   ]
  },
  {
   "cell_type": "code",
   "execution_count": 53,
   "id": "2d3c8939",
   "metadata": {},
   "outputs": [
    {
     "ename": "TypeError",
     "evalue": "cannot convert the series to <class 'float'>",
     "output_type": "error",
     "traceback": [
      "\u001b[1;31m---------------------------------------------------------------------------\u001b[0m",
      "\u001b[1;31mTypeError\u001b[0m                                 Traceback (most recent call last)",
      "Cell \u001b[1;32mIn[53], line 1\u001b[0m\n\u001b[1;32m----> 1\u001b[0m \u001b[43mlog\u001b[49m\u001b[43m(\u001b[49m\u001b[43mdf\u001b[49m\u001b[43m[\u001b[49m\u001b[38;5;124;43m'\u001b[39;49m\u001b[38;5;124;43mКолонка 1\u001b[39;49m\u001b[38;5;124;43m'\u001b[39;49m\u001b[43m]\u001b[49m\u001b[43m)\u001b[49m\n",
      "File \u001b[1;32mC:\\Python\\Python311\\Lib\\site-packages\\pandas\\core\\series.py:206\u001b[0m, in \u001b[0;36m_coerce_method.<locals>.wrapper\u001b[1;34m(self)\u001b[0m\n\u001b[0;32m    204\u001b[0m \u001b[38;5;28;01mif\u001b[39;00m \u001b[38;5;28mlen\u001b[39m(\u001b[38;5;28mself\u001b[39m) \u001b[38;5;241m==\u001b[39m \u001b[38;5;241m1\u001b[39m:\n\u001b[0;32m    205\u001b[0m     \u001b[38;5;28;01mreturn\u001b[39;00m converter(\u001b[38;5;28mself\u001b[39m\u001b[38;5;241m.\u001b[39miloc[\u001b[38;5;241m0\u001b[39m])\n\u001b[1;32m--> 206\u001b[0m \u001b[38;5;28;01mraise\u001b[39;00m \u001b[38;5;167;01mTypeError\u001b[39;00m(\u001b[38;5;124mf\u001b[39m\u001b[38;5;124m\"\u001b[39m\u001b[38;5;124mcannot convert the series to \u001b[39m\u001b[38;5;132;01m{\u001b[39;00mconverter\u001b[38;5;132;01m}\u001b[39;00m\u001b[38;5;124m\"\u001b[39m)\n",
      "\u001b[1;31mTypeError\u001b[0m: cannot convert the series to <class 'float'>"
     ]
    }
   ],
   "source": [
    "log(df['Колонка 1'])"
   ]
  },
  {
   "cell_type": "code",
   "execution_count": 54,
   "id": "63ccf10e",
   "metadata": {},
   "outputs": [
    {
     "data": {
      "text/plain": [
       "0    4.709530\n",
       "1    5.402677\n",
       "2    5.808142\n",
       "3    6.095825\n",
       "4    6.318968\n",
       "5    6.501290\n",
       "dtype: float64"
      ]
     },
     "execution_count": 54,
     "metadata": {},
     "output_type": "execute_result"
    }
   ],
   "source": [
    "pd.Series([log(i) for i in df['Колонка 1']])"
   ]
  },
  {
   "cell_type": "markdown",
   "id": "85269b2f",
   "metadata": {},
   "source": [
    "## apply"
   ]
  },
  {
   "cell_type": "markdown",
   "id": "552dfd1a",
   "metadata": {},
   "source": [
    "В случае если функция не векторизованная, то метод применяет ее к каждой строке"
   ]
  },
  {
   "cell_type": "code",
   "execution_count": 55,
   "id": "bdc06d54",
   "metadata": {},
   "outputs": [
    {
     "data": {
      "text/plain": [
       "0    4.709530\n",
       "1    5.402677\n",
       "2    5.808142\n",
       "3    6.095825\n",
       "4    6.318968\n",
       "5    6.501290\n",
       "Name: Колонка 1, dtype: float64"
      ]
     },
     "execution_count": 55,
     "metadata": {},
     "output_type": "execute_result"
    }
   ],
   "source": [
    "df['Колонка 1'].apply(np.log)"
   ]
  },
  {
   "cell_type": "code",
   "execution_count": 56,
   "id": "44e51477",
   "metadata": {},
   "outputs": [
    {
     "data": {
      "text/plain": [
       "0    4.709530\n",
       "1    5.402677\n",
       "2    5.808142\n",
       "3    6.095825\n",
       "4    6.318968\n",
       "5    6.501290\n",
       "Name: Колонка 1, dtype: float64"
      ]
     },
     "execution_count": 56,
     "metadata": {},
     "output_type": "execute_result"
    }
   ],
   "source": [
    "np.log(df['Колонка 1'])"
   ]
  },
  {
   "cell_type": "code",
   "execution_count": 57,
   "id": "4216f653",
   "metadata": {},
   "outputs": [
    {
     "data": {
      "text/plain": [
       "0    4.709530\n",
       "1    5.402677\n",
       "2    5.808142\n",
       "3    6.095825\n",
       "4    6.318968\n",
       "5    6.501290\n",
       "Name: Колонка 1, dtype: float64"
      ]
     },
     "execution_count": 57,
     "metadata": {},
     "output_type": "execute_result"
    }
   ],
   "source": [
    "df['Колонка 1'].apply(log)"
   ]
  },
  {
   "cell_type": "markdown",
   "id": "24f4b688",
   "metadata": {},
   "source": [
    "#### По умолчанию метод apply применяет функцию к каждому столбцу по очереди. Но чаще нужно применить фунцию к каждой строке. Чтобы это сделать необходимо в параметр axis передать значение 1"
   ]
  },
  {
   "cell_type": "code",
   "execution_count": 58,
   "id": "e6f811dc",
   "metadata": {},
   "outputs": [
    {
     "data": {
      "text/plain": [
       "0           Миша любит играть в Баскетбол\n",
       "1              Саша любит играть в Хоккей\n",
       "2             Юля любит играть в Волейбол\n",
       "3             Настя любит играть в Футбол\n",
       "4    Андрей любит играть в Counter-Strike\n",
       "5           Катя любит играть в Баскетбол\n",
       "dtype: object"
      ]
     },
     "execution_count": 58,
     "metadata": {},
     "output_type": "execute_result"
    }
   ],
   "source": [
    "df.apply(lambda x: x['Имя'] + ' любит играть в ' + x['Увлечение'], axis=1)"
   ]
  },
  {
   "cell_type": "code",
   "execution_count": null,
   "id": "6c44593f",
   "metadata": {},
   "outputs": [],
   "source": []
  },
  {
   "cell_type": "code",
   "execution_count": null,
   "id": "b106d332",
   "metadata": {},
   "outputs": [],
   "source": []
  },
  {
   "cell_type": "code",
   "execution_count": null,
   "id": "bdcb358d",
   "metadata": {},
   "outputs": [],
   "source": []
  },
  {
   "cell_type": "code",
   "execution_count": null,
   "id": "e532c510",
   "metadata": {},
   "outputs": [],
   "source": []
  },
  {
   "cell_type": "code",
   "execution_count": null,
   "id": "cb8e3991",
   "metadata": {},
   "outputs": [],
   "source": []
  },
  {
   "cell_type": "code",
   "execution_count": null,
   "id": "a50a4289",
   "metadata": {},
   "outputs": [],
   "source": []
  },
  {
   "cell_type": "markdown",
   "id": "363c6a5a",
   "metadata": {},
   "source": [
    "### applymap"
   ]
  },
  {
   "cell_type": "markdown",
   "id": "a023a72a",
   "metadata": {},
   "source": [
    "Применяет какую-то функцию к каждой ячеке таблицы"
   ]
  },
  {
   "cell_type": "code",
   "execution_count": 59,
   "id": "625dfa55",
   "metadata": {},
   "outputs": [
    {
     "data": {
      "text/html": [
       "<div>\n",
       "<style scoped>\n",
       "    .dataframe tbody tr th:only-of-type {\n",
       "        vertical-align: middle;\n",
       "    }\n",
       "\n",
       "    .dataframe tbody tr th {\n",
       "        vertical-align: top;\n",
       "    }\n",
       "\n",
       "    .dataframe thead th {\n",
       "        text-align: right;\n",
       "    }\n",
       "</style>\n",
       "<table border=\"1\" class=\"dataframe\">\n",
       "  <thead>\n",
       "    <tr style=\"text-align: right;\">\n",
       "      <th></th>\n",
       "      <th>Колонка 1</th>\n",
       "      <th>Колонка 2</th>\n",
       "      <th>Колонка 3</th>\n",
       "    </tr>\n",
       "  </thead>\n",
       "  <tbody>\n",
       "    <tr>\n",
       "      <th>0</th>\n",
       "      <td>111</td>\n",
       "      <td>6</td>\n",
       "      <td>NaN</td>\n",
       "    </tr>\n",
       "    <tr>\n",
       "      <th>1</th>\n",
       "      <td>222</td>\n",
       "      <td>5</td>\n",
       "      <td>-3.0</td>\n",
       "    </tr>\n",
       "    <tr>\n",
       "      <th>2</th>\n",
       "      <td>333</td>\n",
       "      <td>4</td>\n",
       "      <td>5.0</td>\n",
       "    </tr>\n",
       "    <tr>\n",
       "      <th>3</th>\n",
       "      <td>444</td>\n",
       "      <td>3</td>\n",
       "      <td>0.0</td>\n",
       "    </tr>\n",
       "    <tr>\n",
       "      <th>4</th>\n",
       "      <td>555</td>\n",
       "      <td>2</td>\n",
       "      <td>9.0</td>\n",
       "    </tr>\n",
       "    <tr>\n",
       "      <th>5</th>\n",
       "      <td>666</td>\n",
       "      <td>1</td>\n",
       "      <td>-11.0</td>\n",
       "    </tr>\n",
       "  </tbody>\n",
       "</table>\n",
       "</div>"
      ],
      "text/plain": [
       "   Колонка 1  Колонка 2  Колонка 3\n",
       "0        111          6        NaN\n",
       "1        222          5       -3.0\n",
       "2        333          4        5.0\n",
       "3        444          3        0.0\n",
       "4        555          2        9.0\n",
       "5        666          1      -11.0"
      ]
     },
     "execution_count": 59,
     "metadata": {},
     "output_type": "execute_result"
    }
   ],
   "source": [
    "df.iloc[:, :3]"
   ]
  },
  {
   "cell_type": "code",
   "execution_count": 60,
   "id": "53f0b77a",
   "metadata": {},
   "outputs": [
    {
     "data": {
      "text/html": [
       "<div>\n",
       "<style scoped>\n",
       "    .dataframe tbody tr th:only-of-type {\n",
       "        vertical-align: middle;\n",
       "    }\n",
       "\n",
       "    .dataframe tbody tr th {\n",
       "        vertical-align: top;\n",
       "    }\n",
       "\n",
       "    .dataframe thead th {\n",
       "        text-align: right;\n",
       "    }\n",
       "</style>\n",
       "<table border=\"1\" class=\"dataframe\">\n",
       "  <thead>\n",
       "    <tr style=\"text-align: right;\">\n",
       "      <th></th>\n",
       "      <th>Колонка 1</th>\n",
       "      <th>Колонка 2</th>\n",
       "      <th>Колонка 3</th>\n",
       "    </tr>\n",
       "  </thead>\n",
       "  <tbody>\n",
       "    <tr>\n",
       "      <th>0</th>\n",
       "      <td>12321</td>\n",
       "      <td>36</td>\n",
       "      <td>NaN</td>\n",
       "    </tr>\n",
       "    <tr>\n",
       "      <th>1</th>\n",
       "      <td>49284</td>\n",
       "      <td>25</td>\n",
       "      <td>9.0</td>\n",
       "    </tr>\n",
       "    <tr>\n",
       "      <th>2</th>\n",
       "      <td>110889</td>\n",
       "      <td>16</td>\n",
       "      <td>25.0</td>\n",
       "    </tr>\n",
       "    <tr>\n",
       "      <th>3</th>\n",
       "      <td>197136</td>\n",
       "      <td>9</td>\n",
       "      <td>0.0</td>\n",
       "    </tr>\n",
       "    <tr>\n",
       "      <th>4</th>\n",
       "      <td>308025</td>\n",
       "      <td>4</td>\n",
       "      <td>81.0</td>\n",
       "    </tr>\n",
       "    <tr>\n",
       "      <th>5</th>\n",
       "      <td>443556</td>\n",
       "      <td>1</td>\n",
       "      <td>121.0</td>\n",
       "    </tr>\n",
       "  </tbody>\n",
       "</table>\n",
       "</div>"
      ],
      "text/plain": [
       "   Колонка 1  Колонка 2  Колонка 3\n",
       "0      12321         36        NaN\n",
       "1      49284         25        9.0\n",
       "2     110889         16       25.0\n",
       "3     197136          9        0.0\n",
       "4     308025          4       81.0\n",
       "5     443556          1      121.0"
      ]
     },
     "execution_count": 60,
     "metadata": {},
     "output_type": "execute_result"
    }
   ],
   "source": [
    "df.iloc[:, :3].applymap(lambda x: x ** 2)"
   ]
  },
  {
   "cell_type": "code",
   "execution_count": 61,
   "id": "dfe2bbf0",
   "metadata": {},
   "outputs": [
    {
     "data": {
      "text/html": [
       "<div>\n",
       "<style scoped>\n",
       "    .dataframe tbody tr th:only-of-type {\n",
       "        vertical-align: middle;\n",
       "    }\n",
       "\n",
       "    .dataframe tbody tr th {\n",
       "        vertical-align: top;\n",
       "    }\n",
       "\n",
       "    .dataframe thead th {\n",
       "        text-align: right;\n",
       "    }\n",
       "</style>\n",
       "<table border=\"1\" class=\"dataframe\">\n",
       "  <thead>\n",
       "    <tr style=\"text-align: right;\">\n",
       "      <th></th>\n",
       "      <th>Колонка 1</th>\n",
       "      <th>Колонка 2</th>\n",
       "      <th>Колонка 3</th>\n",
       "    </tr>\n",
       "  </thead>\n",
       "  <tbody>\n",
       "    <tr>\n",
       "      <th>0</th>\n",
       "      <td>1.11</td>\n",
       "      <td>0.06</td>\n",
       "      <td>NaN</td>\n",
       "    </tr>\n",
       "    <tr>\n",
       "      <th>1</th>\n",
       "      <td>2.22</td>\n",
       "      <td>0.05</td>\n",
       "      <td>-0.03</td>\n",
       "    </tr>\n",
       "    <tr>\n",
       "      <th>2</th>\n",
       "      <td>3.33</td>\n",
       "      <td>0.04</td>\n",
       "      <td>0.05</td>\n",
       "    </tr>\n",
       "    <tr>\n",
       "      <th>3</th>\n",
       "      <td>4.44</td>\n",
       "      <td>0.03</td>\n",
       "      <td>0.00</td>\n",
       "    </tr>\n",
       "    <tr>\n",
       "      <th>4</th>\n",
       "      <td>5.55</td>\n",
       "      <td>0.02</td>\n",
       "      <td>0.09</td>\n",
       "    </tr>\n",
       "    <tr>\n",
       "      <th>5</th>\n",
       "      <td>6.66</td>\n",
       "      <td>0.01</td>\n",
       "      <td>-0.11</td>\n",
       "    </tr>\n",
       "  </tbody>\n",
       "</table>\n",
       "</div>"
      ],
      "text/plain": [
       "   Колонка 1  Колонка 2  Колонка 3\n",
       "0       1.11       0.06        NaN\n",
       "1       2.22       0.05      -0.03\n",
       "2       3.33       0.04       0.05\n",
       "3       4.44       0.03       0.00\n",
       "4       5.55       0.02       0.09\n",
       "5       6.66       0.01      -0.11"
      ]
     },
     "execution_count": 61,
     "metadata": {},
     "output_type": "execute_result"
    }
   ],
   "source": [
    "df.iloc[:, :3].applymap(lambda x: x / 100)"
   ]
  },
  {
   "cell_type": "code",
   "execution_count": null,
   "id": "b48798b6",
   "metadata": {},
   "outputs": [],
   "source": []
  },
  {
   "cell_type": "code",
   "execution_count": null,
   "id": "09be2756",
   "metadata": {},
   "outputs": [],
   "source": []
  },
  {
   "cell_type": "code",
   "execution_count": null,
   "id": "5d7b0b2e",
   "metadata": {},
   "outputs": [],
   "source": []
  },
  {
   "cell_type": "code",
   "execution_count": null,
   "id": "dac663ba",
   "metadata": {},
   "outputs": [],
   "source": []
  },
  {
   "cell_type": "code",
   "execution_count": null,
   "id": "56f1f3ea",
   "metadata": {},
   "outputs": [],
   "source": []
  },
  {
   "cell_type": "code",
   "execution_count": null,
   "id": "0af25829",
   "metadata": {},
   "outputs": [],
   "source": []
  },
  {
   "cell_type": "code",
   "execution_count": null,
   "id": "b0220b8d",
   "metadata": {},
   "outputs": [],
   "source": []
  },
  {
   "cell_type": "markdown",
   "id": "8e9f96e1",
   "metadata": {},
   "source": [
    "### transform"
   ]
  },
  {
   "cell_type": "markdown",
   "id": "28976d29",
   "metadata": {},
   "source": [
    "Модифицирует колонку или датафрейм при помощи векторной функции. Возвращает тоже колонку или датафрейм"
   ]
  },
  {
   "cell_type": "code",
   "execution_count": 62,
   "id": "494974fe",
   "metadata": {},
   "outputs": [
    {
     "data": {
      "text/plain": [
       "0    111\n",
       "1    222\n",
       "2    333\n",
       "3    444\n",
       "4    555\n",
       "5    666\n",
       "Name: Колонка 1, dtype: int64"
      ]
     },
     "execution_count": 62,
     "metadata": {},
     "output_type": "execute_result"
    }
   ],
   "source": [
    "df['Колонка 1']"
   ]
  },
  {
   "cell_type": "code",
   "execution_count": 63,
   "id": "9a57add5",
   "metadata": {},
   "outputs": [
    {
     "data": {
      "text/plain": [
       "0    10.1\n",
       "1    21.2\n",
       "2    32.3\n",
       "3    43.4\n",
       "4    54.5\n",
       "5    65.6\n",
       "Name: Колонка 1, dtype: float64"
      ]
     },
     "execution_count": 63,
     "metadata": {},
     "output_type": "execute_result"
    }
   ],
   "source": [
    "df['Колонка 1'].transform(lambda x: (x - 10) / 10)"
   ]
  },
  {
   "cell_type": "markdown",
   "id": "c41c165a",
   "metadata": {},
   "source": [
    "Применяем к датафрейму и дополнительно указываем ось если это необходимо"
   ]
  },
  {
   "cell_type": "code",
   "execution_count": 64,
   "id": "6ea88ed9",
   "metadata": {},
   "outputs": [
    {
     "data": {
      "text/html": [
       "<div>\n",
       "<style scoped>\n",
       "    .dataframe tbody tr th:only-of-type {\n",
       "        vertical-align: middle;\n",
       "    }\n",
       "\n",
       "    .dataframe tbody tr th {\n",
       "        vertical-align: top;\n",
       "    }\n",
       "\n",
       "    .dataframe thead th {\n",
       "        text-align: right;\n",
       "    }\n",
       "</style>\n",
       "<table border=\"1\" class=\"dataframe\">\n",
       "  <thead>\n",
       "    <tr style=\"text-align: right;\">\n",
       "      <th></th>\n",
       "      <th>Колонка 1</th>\n",
       "      <th>Колонка 2</th>\n",
       "      <th>Колонка 3</th>\n",
       "    </tr>\n",
       "  </thead>\n",
       "  <tbody>\n",
       "    <tr>\n",
       "      <th>0</th>\n",
       "      <td>37.0</td>\n",
       "      <td>2.000000</td>\n",
       "      <td>NaN</td>\n",
       "    </tr>\n",
       "    <tr>\n",
       "      <th>1</th>\n",
       "      <td>74.0</td>\n",
       "      <td>1.666667</td>\n",
       "      <td>-1.000000</td>\n",
       "    </tr>\n",
       "    <tr>\n",
       "      <th>2</th>\n",
       "      <td>111.0</td>\n",
       "      <td>1.333333</td>\n",
       "      <td>1.666667</td>\n",
       "    </tr>\n",
       "    <tr>\n",
       "      <th>3</th>\n",
       "      <td>148.0</td>\n",
       "      <td>1.000000</td>\n",
       "      <td>0.000000</td>\n",
       "    </tr>\n",
       "    <tr>\n",
       "      <th>4</th>\n",
       "      <td>185.0</td>\n",
       "      <td>0.666667</td>\n",
       "      <td>3.000000</td>\n",
       "    </tr>\n",
       "    <tr>\n",
       "      <th>5</th>\n",
       "      <td>222.0</td>\n",
       "      <td>0.333333</td>\n",
       "      <td>-3.666667</td>\n",
       "    </tr>\n",
       "  </tbody>\n",
       "</table>\n",
       "</div>"
      ],
      "text/plain": [
       "   Колонка 1  Колонка 2  Колонка 3\n",
       "0       37.0   2.000000        NaN\n",
       "1       74.0   1.666667  -1.000000\n",
       "2      111.0   1.333333   1.666667\n",
       "3      148.0   1.000000   0.000000\n",
       "4      185.0   0.666667   3.000000\n",
       "5      222.0   0.333333  -3.666667"
      ]
     },
     "execution_count": 64,
     "metadata": {},
     "output_type": "execute_result"
    }
   ],
   "source": [
    "df.iloc[:, :3].transform(lambda x: x / len(x), axis=1)"
   ]
  },
  {
   "cell_type": "code",
   "execution_count": null,
   "id": "90aa24ae",
   "metadata": {},
   "outputs": [],
   "source": []
  },
  {
   "cell_type": "code",
   "execution_count": null,
   "id": "a187f9a5",
   "metadata": {},
   "outputs": [],
   "source": []
  },
  {
   "cell_type": "code",
   "execution_count": null,
   "id": "6d22ddf4",
   "metadata": {},
   "outputs": [],
   "source": []
  },
  {
   "cell_type": "code",
   "execution_count": null,
   "id": "e42b9ff3",
   "metadata": {},
   "outputs": [],
   "source": []
  },
  {
   "cell_type": "code",
   "execution_count": null,
   "id": "66931560",
   "metadata": {},
   "outputs": [],
   "source": []
  },
  {
   "cell_type": "code",
   "execution_count": null,
   "id": "64c4de9a",
   "metadata": {},
   "outputs": [],
   "source": []
  },
  {
   "cell_type": "code",
   "execution_count": null,
   "id": "b062d271",
   "metadata": {},
   "outputs": [],
   "source": []
  },
  {
   "cell_type": "markdown",
   "id": "74d5110a",
   "metadata": {},
   "source": [
    "### pipe\n",
    "\n",
    "Применяет функцию, которая на вход принимает датафрейм целиком"
   ]
  },
  {
   "cell_type": "code",
   "execution_count": 65,
   "id": "7121e163",
   "metadata": {},
   "outputs": [
    {
     "data": {
      "text/plain": [
       "(6, 6)"
      ]
     },
     "execution_count": 65,
     "metadata": {},
     "output_type": "execute_result"
    }
   ],
   "source": [
    "df.pipe(lambda x: x.shape)"
   ]
  },
  {
   "cell_type": "code",
   "execution_count": 66,
   "id": "6b3ec9ab",
   "metadata": {},
   "outputs": [],
   "source": [
    "def create_columns(df, n_cols):\n",
    "    df = df.copy()\n",
    "    for i in range(n_cols):\n",
    "        df[f'Колонка {i + 1}'] = i + 1\n",
    "    return df"
   ]
  },
  {
   "cell_type": "code",
   "execution_count": 68,
   "id": "20907fc4",
   "metadata": {},
   "outputs": [
    {
     "data": {
      "text/html": [
       "<div>\n",
       "<style scoped>\n",
       "    .dataframe tbody tr th:only-of-type {\n",
       "        vertical-align: middle;\n",
       "    }\n",
       "\n",
       "    .dataframe tbody tr th {\n",
       "        vertical-align: top;\n",
       "    }\n",
       "\n",
       "    .dataframe thead th {\n",
       "        text-align: right;\n",
       "    }\n",
       "</style>\n",
       "<table border=\"1\" class=\"dataframe\">\n",
       "  <thead>\n",
       "    <tr style=\"text-align: right;\">\n",
       "      <th></th>\n",
       "      <th>Колонка 1</th>\n",
       "      <th>Колонка 2</th>\n",
       "      <th>Колонка 3</th>\n",
       "      <th>Имя</th>\n",
       "      <th>Увлечение</th>\n",
       "      <th>col_1_natural_log</th>\n",
       "      <th>Колонка 4</th>\n",
       "      <th>Колонка 5</th>\n",
       "      <th>Колонка 6</th>\n",
       "      <th>Колонка 7</th>\n",
       "      <th>Колонка 8</th>\n",
       "      <th>Колонка 9</th>\n",
       "    </tr>\n",
       "  </thead>\n",
       "  <tbody>\n",
       "    <tr>\n",
       "      <th>0</th>\n",
       "      <td>1</td>\n",
       "      <td>2</td>\n",
       "      <td>3</td>\n",
       "      <td>Миша</td>\n",
       "      <td>Баскетбол</td>\n",
       "      <td>4.709530</td>\n",
       "      <td>4</td>\n",
       "      <td>5</td>\n",
       "      <td>6</td>\n",
       "      <td>7</td>\n",
       "      <td>8</td>\n",
       "      <td>9</td>\n",
       "    </tr>\n",
       "    <tr>\n",
       "      <th>1</th>\n",
       "      <td>1</td>\n",
       "      <td>2</td>\n",
       "      <td>3</td>\n",
       "      <td>Саша</td>\n",
       "      <td>Хоккей</td>\n",
       "      <td>5.402677</td>\n",
       "      <td>4</td>\n",
       "      <td>5</td>\n",
       "      <td>6</td>\n",
       "      <td>7</td>\n",
       "      <td>8</td>\n",
       "      <td>9</td>\n",
       "    </tr>\n",
       "    <tr>\n",
       "      <th>2</th>\n",
       "      <td>1</td>\n",
       "      <td>2</td>\n",
       "      <td>3</td>\n",
       "      <td>Юля</td>\n",
       "      <td>Волейбол</td>\n",
       "      <td>5.808142</td>\n",
       "      <td>4</td>\n",
       "      <td>5</td>\n",
       "      <td>6</td>\n",
       "      <td>7</td>\n",
       "      <td>8</td>\n",
       "      <td>9</td>\n",
       "    </tr>\n",
       "    <tr>\n",
       "      <th>3</th>\n",
       "      <td>1</td>\n",
       "      <td>2</td>\n",
       "      <td>3</td>\n",
       "      <td>Настя</td>\n",
       "      <td>Футбол</td>\n",
       "      <td>6.095825</td>\n",
       "      <td>4</td>\n",
       "      <td>5</td>\n",
       "      <td>6</td>\n",
       "      <td>7</td>\n",
       "      <td>8</td>\n",
       "      <td>9</td>\n",
       "    </tr>\n",
       "    <tr>\n",
       "      <th>4</th>\n",
       "      <td>1</td>\n",
       "      <td>2</td>\n",
       "      <td>3</td>\n",
       "      <td>Андрей</td>\n",
       "      <td>Counter-Strike</td>\n",
       "      <td>6.318968</td>\n",
       "      <td>4</td>\n",
       "      <td>5</td>\n",
       "      <td>6</td>\n",
       "      <td>7</td>\n",
       "      <td>8</td>\n",
       "      <td>9</td>\n",
       "    </tr>\n",
       "    <tr>\n",
       "      <th>5</th>\n",
       "      <td>1</td>\n",
       "      <td>2</td>\n",
       "      <td>3</td>\n",
       "      <td>Катя</td>\n",
       "      <td>Баскетбол</td>\n",
       "      <td>6.501290</td>\n",
       "      <td>4</td>\n",
       "      <td>5</td>\n",
       "      <td>6</td>\n",
       "      <td>7</td>\n",
       "      <td>8</td>\n",
       "      <td>9</td>\n",
       "    </tr>\n",
       "  </tbody>\n",
       "</table>\n",
       "</div>"
      ],
      "text/plain": [
       "   Колонка 1  Колонка 2  Колонка 3     Имя       Увлечение  col_1_natural_log  \\\n",
       "0          1          2          3    Миша       Баскетбол           4.709530   \n",
       "1          1          2          3    Саша          Хоккей           5.402677   \n",
       "2          1          2          3     Юля        Волейбол           5.808142   \n",
       "3          1          2          3   Настя          Футбол           6.095825   \n",
       "4          1          2          3  Андрей  Counter-Strike           6.318968   \n",
       "5          1          2          3    Катя       Баскетбол           6.501290   \n",
       "\n",
       "   Колонка 4  Колонка 5  Колонка 6  Колонка 7  Колонка 8  Колонка 9  \n",
       "0          4          5          6          7          8          9  \n",
       "1          4          5          6          7          8          9  \n",
       "2          4          5          6          7          8          9  \n",
       "3          4          5          6          7          8          9  \n",
       "4          4          5          6          7          8          9  \n",
       "5          4          5          6          7          8          9  "
      ]
     },
     "execution_count": 68,
     "metadata": {},
     "output_type": "execute_result"
    }
   ],
   "source": [
    "df.pipe(create_columns, 9)"
   ]
  },
  {
   "cell_type": "markdown",
   "id": "51098a6a",
   "metadata": {},
   "source": [
    "| Название метода   | Что принимает на вход      | Особенности                                          |\n",
    "|:-----------------:|:--------------------------:|:----------------------------------------------------:|\n",
    "| apply             | Колонку или строку таблицы | Может работать с невекторизованными функциями        |\n",
    "| applymap          | Ячеку таблицы              | Применяет функцию к каждой чеке                      |\n",
    "| transform         | Колонку или строку         | Работает только с векторизованными функциями         |\n",
    "| pipe              | Таблицу целиком            | -                                                    |"
   ]
  },
  {
   "cell_type": "code",
   "execution_count": null,
   "id": "3712a367",
   "metadata": {},
   "outputs": [],
   "source": []
  },
  {
   "cell_type": "code",
   "execution_count": null,
   "id": "77e3cfec",
   "metadata": {},
   "outputs": [],
   "source": []
  },
  {
   "cell_type": "code",
   "execution_count": null,
   "id": "cf786af1",
   "metadata": {},
   "outputs": [],
   "source": []
  },
  {
   "cell_type": "code",
   "execution_count": null,
   "id": "42e20393",
   "metadata": {},
   "outputs": [],
   "source": []
  },
  {
   "cell_type": "code",
   "execution_count": null,
   "id": "e9f07117",
   "metadata": {},
   "outputs": [],
   "source": []
  },
  {
   "cell_type": "code",
   "execution_count": null,
   "id": "fb44a8d9",
   "metadata": {},
   "outputs": [],
   "source": []
  },
  {
   "cell_type": "code",
   "execution_count": null,
   "id": "efe59718",
   "metadata": {},
   "outputs": [],
   "source": []
  },
  {
   "cell_type": "code",
   "execution_count": null,
   "id": "d26ae116",
   "metadata": {},
   "outputs": [],
   "source": []
  },
  {
   "cell_type": "code",
   "execution_count": null,
   "id": "23092a54",
   "metadata": {},
   "outputs": [],
   "source": []
  },
  {
   "cell_type": "code",
   "execution_count": null,
   "id": "d55118bc",
   "metadata": {},
   "outputs": [],
   "source": []
  },
  {
   "cell_type": "markdown",
   "id": "240ad645",
   "metadata": {},
   "source": [
    "# Задания"
   ]
  },
  {
   "cell_type": "markdown",
   "id": "20b8760d",
   "metadata": {},
   "source": [
    "#### Описание таблиц лежит [здесь](https://github.com/victorlymarev/pandas/tree/main/tables)"
   ]
  },
  {
   "cell_type": "markdown",
   "id": "4e187841",
   "metadata": {},
   "source": [
    "Некоторые таблицы занимают много памяти, поэтому каждые 5-10 заданий лучше перезапускайте ноутбук.\n",
    "\n",
    "Если вы будете работать с этим ноутбуком в google colab и у вас что-то не будет работать, то раскоментируйте ячейку ниже (для этого выделите содержимое ячейки и нажмите на клавиши ctrl / (если смотреть по английской раскладке или ctrl . для русской), либо просто руками уберите # и пробел после нее в каждой строчке) и запустите ее."
   ]
  },
  {
   "cell_type": "code",
   "execution_count": null,
   "id": "43ecd3af",
   "metadata": {},
   "outputs": [],
   "source": [
    "# import os\n",
    "# os._exit(00)\n",
    "# !pip install pyarrow pandas==1.5.3"
   ]
  },
  {
   "cell_type": "markdown",
   "id": "504fb229",
   "metadata": {},
   "source": [
    "### Задание 1\n",
    "\n",
    "В таблице df представлены платежи по кредиту. Необходимо для каждой даты посчитать, сколько денег было заплачено."
   ]
  },
  {
   "cell_type": "code",
   "execution_count": null,
   "id": "34cf0fba",
   "metadata": {},
   "outputs": [],
   "source": [
    "import pandas as pd\n",
    "\n",
    "df = pd.DataFrame({'Дата': pd.date_range('2022-01-31', '2022-12-31', freq='M'),\n",
    "              'Сумма': [(50000 * (1.12 ** (i / 12))) // 1 for i in range(12)]})\n",
    "df"
   ]
  },
  {
   "cell_type": "code",
   "execution_count": null,
   "id": "e0b5cbd2",
   "metadata": {},
   "outputs": [],
   "source": [
    "# Напишите свой код здесь"
   ]
  },
  {
   "cell_type": "markdown",
   "id": "bf909aaf",
   "metadata": {},
   "source": [
    "### Задание 2\n",
    "\n",
    "У каждого сотрудника есть оценка. Сейчас она считается от 1 до 10 включительно. Сделайте так, чтобы границы оценки лежали на отрезке от 0 до 1 (любым способом)"
   ]
  },
  {
   "cell_type": "code",
   "execution_count": null,
   "id": "a483218c",
   "metadata": {},
   "outputs": [],
   "source": [
    "import os\n",
    "import pandas as pd\n",
    "\n",
    "path_empl = '../tables/employees.parquet' if os.path.exists('../tables/employees.parquet') else 'https://drive.google.com/uc?id=1AARD5-eVlCxoApt5CYZebrC3Cqw42lvj'\n",
    "\n",
    "empl = pd.read_parquet(path_empl)\n",
    "empl.head()"
   ]
  },
  {
   "cell_type": "code",
   "execution_count": null,
   "id": "aad24f38",
   "metadata": {},
   "outputs": [],
   "source": [
    "# Напишите свой код здесь"
   ]
  },
  {
   "cell_type": "markdown",
   "id": "0a00ae65",
   "metadata": {},
   "source": [
    "### Задание 3\n",
    "\n",
    "Создайте колонку таблицы в которой будут лежать все нечетные числа от 1 до 99 включительно. Найдите накопленную сумму"
   ]
  },
  {
   "cell_type": "code",
   "execution_count": null,
   "id": "bea30d90",
   "metadata": {},
   "outputs": [],
   "source": [
    "import pandas as pd\n",
    "import numpy as np\n",
    "\n",
    "# Напишите свой код здесь"
   ]
  },
  {
   "cell_type": "code",
   "execution_count": null,
   "id": "ffca8db5",
   "metadata": {},
   "outputs": [],
   "source": []
  },
  {
   "cell_type": "markdown",
   "id": "e840368e",
   "metadata": {},
   "source": [
    "### Задание 4\n",
    "\n",
    "В колонке gender таблицы goods_descr поменяйте значение Men на мужской, а значение Women на женский. Учите, что в колонке есть еще одно значение Unisex. Не делайте из него NaN"
   ]
  },
  {
   "cell_type": "code",
   "execution_count": null,
   "id": "c28c8042",
   "metadata": {},
   "outputs": [],
   "source": [
    "import os\n",
    "import pandas as pd\n",
    "\n",
    "path_goods_descr = '../tables/goods_description.parquet' if os.path.exists('../tables/goods_description.parquet') else 'https://drive.google.com/uc?id=1YbiD02Rev-X_WWV9nPSG1zZFmEh2JjPh'\n",
    "\n",
    "goods_descr = pd.read_parquet(path_goods_descr)\n",
    "goods_descr.head()"
   ]
  },
  {
   "cell_type": "code",
   "execution_count": null,
   "id": "1289d07c",
   "metadata": {},
   "outputs": [],
   "source": [
    "# Напишите свой код здесь"
   ]
  },
  {
   "cell_type": "markdown",
   "id": "279c450e",
   "metadata": {},
   "source": [
    "### Задание 5\n",
    "\n",
    "Создайте колонку, состоящую из нечетных чисел от 1 до 1000000. Затем разделите 1 на эту колонку. Полученный результат сохраните в переменную s. После этого каждый второй элемент в колонке умножьте на -1 (это можно сделать при помощи метода iloc s.iloc[1::2] = - s.iloc[1::2]). Умножьте каждое значение в этой колонке на 4. В конце посчитайте накопленную сумму.\n",
    "\n",
    "На какое число похожи нижние значения в колонке?"
   ]
  },
  {
   "cell_type": "code",
   "execution_count": null,
   "id": "027f07ac",
   "metadata": {},
   "outputs": [],
   "source": [
    "import pandas as pd\n",
    "import numpy as np\n",
    "\n",
    "# Напишите свой код здесь"
   ]
  },
  {
   "cell_type": "markdown",
   "id": "eab7a30f",
   "metadata": {},
   "source": [
    "### Задание 6\n",
    "\n",
    "Сгенерируйте числа от 1 до 100000 с шагом 1. Затем на их основе создайте колонку. Разделите 1 на эту колонку. Затем полученный массив возведите в квадрат. Домножьте на 6. Посчитайте накопленную сумму. В конце извлечите из каждого значения в колонке квадратный корень"
   ]
  },
  {
   "cell_type": "code",
   "execution_count": null,
   "id": "e09fcbd7",
   "metadata": {},
   "outputs": [],
   "source": [
    "import pandas as pd\n",
    "import numpy as np\n",
    "\n",
    "# Напишите свой код здесь"
   ]
  },
  {
   "cell_type": "markdown",
   "id": "dbaf4372",
   "metadata": {},
   "source": [
    "### Задание 7\n",
    "\n",
    "Посчитайте натуральный логарифм зарплат. Значение округлите до 2 знаков после запятой"
   ]
  },
  {
   "cell_type": "code",
   "execution_count": null,
   "id": "00d08aef",
   "metadata": {},
   "outputs": [],
   "source": [
    "import os\n",
    "import pandas as pd\n",
    "\n",
    "path_empl = '../tables/employees.parquet' if os.path.exists('../tables/employees.parquet') else 'https://drive.google.com/uc?id=1AARD5-eVlCxoApt5CYZebrC3Cqw42lvj'\n",
    "\n",
    "empl = pd.read_parquet(path_empl)\n",
    "empl.head()"
   ]
  },
  {
   "cell_type": "code",
   "execution_count": null,
   "id": "96007bb8",
   "metadata": {},
   "outputs": [],
   "source": [
    "# Напишите свой код здесь"
   ]
  },
  {
   "cell_type": "markdown",
   "id": "0e4ddae8",
   "metadata": {},
   "source": [
    "### Задание 8"
   ]
  },
  {
   "cell_type": "markdown",
   "id": "49344a7e",
   "metadata": {},
   "source": [
    "Найдите угол между двумя векторам.\n",
    "\n",
    "Для того чтобы это сделать необходимо сначала посчитать скалярное произведение между векторами (через знак @), затем это произведение надо разделить на норму каждого вектора (функция np.linalg.norm или это можно сделать через @ и квадратный корень). Такми образом мы получим косинус угла между двумя векторами. Теперь зная косинус угла необходимо вычеслить сам угол. Для этого необходимо посчитать арккосинус (np.arccos). В результате мы получим угол в раданах. Чтобы привести угол к градусам необходимо угол в радианах умножить на 180 и разделить на число $\\pi$ (np.pi)"
   ]
  },
  {
   "cell_type": "code",
   "execution_count": null,
   "id": "4d921b87",
   "metadata": {},
   "outputs": [],
   "source": [
    "import numpy as np\n",
    "x = np.array([6, 0, 1, 5, 5])\n",
    "y = np.array([1, 4, 5, 2, 0])"
   ]
  },
  {
   "cell_type": "code",
   "execution_count": null,
   "id": "8ed96907",
   "metadata": {},
   "outputs": [],
   "source": []
  },
  {
   "cell_type": "code",
   "execution_count": null,
   "id": "4e1dddb5",
   "metadata": {},
   "outputs": [],
   "source": []
  },
  {
   "cell_type": "code",
   "execution_count": null,
   "id": "7e78c65d",
   "metadata": {},
   "outputs": [],
   "source": []
  },
  {
   "cell_type": "code",
   "execution_count": null,
   "id": "1a683cbe",
   "metadata": {},
   "outputs": [],
   "source": []
  },
  {
   "cell_type": "code",
   "execution_count": 88,
   "id": "f9f11f22",
   "metadata": {},
   "outputs": [
    {
     "name": "stderr",
     "output_type": "stream",
     "text": [
      "C:\\Users\\Александр\\AppData\\Local\\Temp\\ipykernel_15480\\3777615979.py:1: DeprecationWarning: Importing display from IPython.core.display is deprecated since IPython 7.14, please import from IPython display\n",
      "  from IPython.core.display import display, HTML\n"
     ]
    },
    {
     "data": {
      "text/html": [
       "<style>.container { width:100% !important; }</style>"
      ],
      "text/plain": [
       "<IPython.core.display.HTML object>"
      ]
     },
     "metadata": {},
     "output_type": "display_data"
    }
   ],
   "source": [
    "from IPython.core.display import display, HTML\n",
    "display(HTML(\"<style>.container { width:100% !important; }</style>\"))"
   ]
  }
 ],
 "metadata": {
  "kernelspec": {
   "display_name": "Python 3 (ipykernel)",
   "language": "python",
   "name": "python3"
  },
  "language_info": {
   "codemirror_mode": {
    "name": "ipython",
    "version": 3
   },
   "file_extension": ".py",
   "mimetype": "text/x-python",
   "name": "python",
   "nbconvert_exporter": "python",
   "pygments_lexer": "ipython3",
   "version": "3.11.2"
  }
 },
 "nbformat": 4,
 "nbformat_minor": 5
}
