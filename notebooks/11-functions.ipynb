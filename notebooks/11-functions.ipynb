{
 "cells": [
  {
   "cell_type": "markdown",
   "id": "2abc43e9",
   "metadata": {},
   "source": [
    "<a target=\"_blank\" href=\"https://colab.research.google.com/github/victorlymarev/pandas/blob/main/notebooks/11-functions.ipynb\">\n",
    "  <img src=\"https://colab.research.google.com/assets/colab-badge.svg\" alt=\"Open In Colab\"/>\n",
    "</a>"
   ]
  },
  {
   "cell_type": "markdown",
   "id": "ddf434c1",
   "metadata": {},
   "source": [
    "# Функции в Pandas\n",
    "#### [Ссылка на видео](https://youtu.be/cq2aQ0bwFB8)"
   ]
  },
  {
   "cell_type": "code",
   "execution_count": null,
   "id": "d02dc218",
   "metadata": {},
   "outputs": [],
   "source": [
    "import pandas as pd\n",
    "import numpy as np"
   ]
  },
  {
   "cell_type": "markdown",
   "id": "4a3f018b",
   "metadata": {},
   "source": [
    "Создаем таблицу"
   ]
  },
  {
   "cell_type": "code",
   "execution_count": null,
   "id": "9855ce36",
   "metadata": {},
   "outputs": [],
   "source": [
    "df = pd.DataFrame({'Колонка 1': [111, 222, 333, 444, 555, 666],\n",
    "              'Колонка 2': [6, 5, 4, 3, 2, 1],\n",
    "              'Колонка 3': [np.nan, -3, 5, 0, 9, -11],\n",
    "              'Имя': ['Миша', 'Саша', 'Юля',\n",
    "                            'Настя', 'Андрей', 'Катя'],\n",
    "              'Увлечение': ['Баскетбол', 'Хоккей', 'Волейбол',\n",
    "                            'Футбол', 'Counter-Strike', 'Баскетбол']\n",
    "             })"
   ]
  },
  {
   "cell_type": "code",
   "execution_count": null,
   "id": "fcb8fe12",
   "metadata": {},
   "outputs": [],
   "source": [
    "df"
   ]
  },
  {
   "cell_type": "markdown",
   "id": "ab405fc1",
   "metadata": {},
   "source": [
    "## Функции из numpy"
   ]
  },
  {
   "cell_type": "markdown",
   "id": "0f56c2e2",
   "metadata": {},
   "source": [
    "#### Извлечение натурального лагарифма"
   ]
  },
  {
   "cell_type": "code",
   "execution_count": null,
   "id": "22ed9e73",
   "metadata": {},
   "outputs": [],
   "source": [
    "df['Колонка 1']"
   ]
  },
  {
   "cell_type": "code",
   "execution_count": null,
   "id": "b74a6bcc",
   "metadata": {},
   "outputs": [],
   "source": [
    "np.log(df['Колонка 1'])"
   ]
  },
  {
   "cell_type": "code",
   "execution_count": null,
   "id": "54b8c65e",
   "metadata": {},
   "outputs": [],
   "source": [
    "np.log(df['Колонка 1'] - 333)"
   ]
  },
  {
   "cell_type": "markdown",
   "id": "d8eae844",
   "metadata": {},
   "source": [
    "#### Извлечение логарифма по произвольному основанию"
   ]
  },
  {
   "cell_type": "code",
   "execution_count": null,
   "id": "a4ccfa12",
   "metadata": {},
   "outputs": [],
   "source": [
    "# Логарифм по основанию 3\n",
    "np.emath.logn(3, df['Колонка 1'])"
   ]
  },
  {
   "cell_type": "markdown",
   "id": "05ab28bf",
   "metadata": {},
   "source": [
    "#### Синус"
   ]
  },
  {
   "cell_type": "code",
   "execution_count": null,
   "id": "465020e1",
   "metadata": {},
   "outputs": [],
   "source": [
    "np.sin(df['Колонка 1'])"
   ]
  },
  {
   "cell_type": "markdown",
   "id": "24047101",
   "metadata": {},
   "source": [
    "#### Косинус"
   ]
  },
  {
   "cell_type": "code",
   "execution_count": null,
   "id": "0dc7a955",
   "metadata": {},
   "outputs": [],
   "source": [
    "np.cos(df['Колонка 1'])"
   ]
  },
  {
   "cell_type": "code",
   "execution_count": null,
   "id": "50a865e5",
   "metadata": {},
   "outputs": [],
   "source": [
    "df = df.assign(col_1_natural_log = lambda x: np.log(x['Колонка 1']))\n",
    "df"
   ]
  },
  {
   "cell_type": "markdown",
   "id": "d6d72683",
   "metadata": {},
   "source": [
    "## Методы из пандаса"
   ]
  },
  {
   "cell_type": "markdown",
   "id": "dbc0a38e",
   "metadata": {},
   "source": [
    "#### Извлечение модуля числа"
   ]
  },
  {
   "cell_type": "code",
   "execution_count": null,
   "id": "a6c79bdb",
   "metadata": {},
   "outputs": [],
   "source": [
    "df['Колонка 3']"
   ]
  },
  {
   "cell_type": "code",
   "execution_count": null,
   "id": "7d67b45f",
   "metadata": {},
   "outputs": [],
   "source": [
    "df['Колонка 3'].abs()"
   ]
  },
  {
   "cell_type": "markdown",
   "id": "2cb3ae5d",
   "metadata": {},
   "source": [
    "### Округление"
   ]
  },
  {
   "cell_type": "code",
   "execution_count": null,
   "id": "32aae64b",
   "metadata": {},
   "outputs": [],
   "source": [
    "df['col_1_natural_log']"
   ]
  },
  {
   "cell_type": "code",
   "execution_count": null,
   "id": "03084d3c",
   "metadata": {},
   "outputs": [],
   "source": [
    "df['col_1_natural_log'].round()"
   ]
  },
  {
   "cell_type": "code",
   "execution_count": null,
   "id": "40011328",
   "metadata": {},
   "outputs": [],
   "source": [
    "np.log10(df['Колонка 1']).round(1)"
   ]
  },
  {
   "cell_type": "code",
   "execution_count": null,
   "id": "e56c4a85",
   "metadata": {},
   "outputs": [],
   "source": [
    "np.log10(df['Колонка 1']).round(5)"
   ]
  },
  {
   "cell_type": "markdown",
   "id": "a73f4858",
   "metadata": {},
   "source": [
    "#### Округление до десятков и до сотен"
   ]
  },
  {
   "cell_type": "code",
   "execution_count": null,
   "id": "bb96140c",
   "metadata": {},
   "outputs": [],
   "source": [
    "df['Колонка 1']"
   ]
  },
  {
   "cell_type": "code",
   "execution_count": null,
   "id": "03a129b0",
   "metadata": {},
   "outputs": [],
   "source": [
    "df['Колонка 1'].round(-1)"
   ]
  },
  {
   "cell_type": "code",
   "execution_count": null,
   "id": "ead85526",
   "metadata": {},
   "outputs": [],
   "source": [
    "df['Колонка 1'].round(-2)"
   ]
  },
  {
   "cell_type": "markdown",
   "id": "a9613a38",
   "metadata": {},
   "source": [
    "#### Огругление вверх"
   ]
  },
  {
   "cell_type": "code",
   "execution_count": null,
   "id": "4ab7a972",
   "metadata": {},
   "outputs": [],
   "source": [
    "df['col_1_natural_log']"
   ]
  },
  {
   "cell_type": "code",
   "execution_count": null,
   "id": "718fa6cd",
   "metadata": {},
   "outputs": [],
   "source": [
    "np.ceil(df['col_1_natural_log'])"
   ]
  },
  {
   "cell_type": "markdown",
   "id": "740e2e45",
   "metadata": {},
   "source": [
    "#### Огругление вниз"
   ]
  },
  {
   "cell_type": "code",
   "execution_count": null,
   "id": "c0fc3d86",
   "metadata": {},
   "outputs": [],
   "source": [
    "np.floor(df['col_1_natural_log'])"
   ]
  },
  {
   "cell_type": "code",
   "execution_count": null,
   "id": "c016f0c7",
   "metadata": {},
   "outputs": [],
   "source": []
  },
  {
   "cell_type": "code",
   "execution_count": null,
   "id": "5028141f",
   "metadata": {},
   "outputs": [],
   "source": []
  },
  {
   "cell_type": "code",
   "execution_count": null,
   "id": "28c3ee2d",
   "metadata": {},
   "outputs": [],
   "source": []
  },
  {
   "cell_type": "code",
   "execution_count": null,
   "id": "964ec20e",
   "metadata": {},
   "outputs": [],
   "source": []
  },
  {
   "cell_type": "code",
   "execution_count": null,
   "id": "71f43bc8",
   "metadata": {},
   "outputs": [],
   "source": []
  },
  {
   "cell_type": "code",
   "execution_count": null,
   "id": "e4214931",
   "metadata": {},
   "outputs": [],
   "source": []
  },
  {
   "cell_type": "code",
   "execution_count": null,
   "id": "632fc1b5",
   "metadata": {},
   "outputs": [],
   "source": []
  },
  {
   "cell_type": "code",
   "execution_count": null,
   "id": "5637ac72",
   "metadata": {},
   "outputs": [],
   "source": []
  },
  {
   "cell_type": "code",
   "execution_count": null,
   "id": "d265b76c",
   "metadata": {},
   "outputs": [],
   "source": []
  },
  {
   "cell_type": "code",
   "execution_count": null,
   "id": "1de9bb59",
   "metadata": {},
   "outputs": [],
   "source": []
  },
  {
   "cell_type": "code",
   "execution_count": null,
   "id": "21e13785",
   "metadata": {},
   "outputs": [],
   "source": []
  },
  {
   "cell_type": "code",
   "execution_count": null,
   "id": "7018e262",
   "metadata": {},
   "outputs": [],
   "source": []
  },
  {
   "cell_type": "code",
   "execution_count": null,
   "id": "601c90cc",
   "metadata": {},
   "outputs": [],
   "source": []
  },
  {
   "cell_type": "code",
   "execution_count": null,
   "id": "58bf3091",
   "metadata": {},
   "outputs": [],
   "source": []
  },
  {
   "cell_type": "code",
   "execution_count": null,
   "id": "3cfb02bc",
   "metadata": {},
   "outputs": [],
   "source": []
  },
  {
   "cell_type": "code",
   "execution_count": null,
   "id": "b88edd54",
   "metadata": {},
   "outputs": [],
   "source": []
  },
  {
   "cell_type": "markdown",
   "id": "88d91561",
   "metadata": {},
   "source": [
    "#### Накопленная сумма"
   ]
  },
  {
   "cell_type": "code",
   "execution_count": null,
   "id": "3db0787c",
   "metadata": {},
   "outputs": [],
   "source": [
    "df['Колонка 2']"
   ]
  },
  {
   "cell_type": "code",
   "execution_count": null,
   "id": "a154df1f",
   "metadata": {},
   "outputs": [],
   "source": [
    "df['Колонка 2'].cumsum()"
   ]
  },
  {
   "cell_type": "markdown",
   "id": "cb7128d4",
   "metadata": {},
   "source": [
    "#### Накопленное произведение"
   ]
  },
  {
   "cell_type": "code",
   "execution_count": null,
   "id": "14b35231",
   "metadata": {},
   "outputs": [],
   "source": [
    "df['Колонка 2'].cumprod()"
   ]
  },
  {
   "cell_type": "markdown",
   "id": "0673efba",
   "metadata": {},
   "source": [
    "#### Накопленный минимум и максимум"
   ]
  },
  {
   "cell_type": "code",
   "execution_count": null,
   "id": "17898c98",
   "metadata": {},
   "outputs": [],
   "source": [
    "df['Колонка 2'].cummin()\n",
    "# df['Колонка 1'].cummax()"
   ]
  },
  {
   "cell_type": "markdown",
   "id": "21820a50",
   "metadata": {},
   "source": [
    "#### Пропущенные значения просто игнорируются"
   ]
  },
  {
   "cell_type": "code",
   "execution_count": null,
   "id": "932ceccc",
   "metadata": {},
   "outputs": [],
   "source": [
    "df['Колонка 3']"
   ]
  },
  {
   "cell_type": "code",
   "execution_count": null,
   "id": "7caa490f",
   "metadata": {},
   "outputs": [],
   "source": [
    "df['Колонка 3'].cumprod()"
   ]
  },
  {
   "cell_type": "markdown",
   "id": "b6bf9d4c",
   "metadata": {},
   "source": [
    "#### Те же операции можно выполнять и для датафреймов если они опеределены"
   ]
  },
  {
   "cell_type": "code",
   "execution_count": null,
   "id": "a39b41cc",
   "metadata": {},
   "outputs": [],
   "source": [
    "df.iloc[:, :3]"
   ]
  },
  {
   "cell_type": "code",
   "execution_count": null,
   "id": "bea17314",
   "metadata": {},
   "outputs": [],
   "source": [
    "df.iloc[:, :3].cumprod()"
   ]
  },
  {
   "cell_type": "markdown",
   "id": "d4992112",
   "metadata": {},
   "source": [
    "#### Можно настраивать ось, вдоль которой будет действовать метод"
   ]
  },
  {
   "cell_type": "code",
   "execution_count": null,
   "id": "453a51fb",
   "metadata": {},
   "outputs": [],
   "source": [
    "df.iloc[:, :3].cumprod(axis=1)"
   ]
  },
  {
   "cell_type": "code",
   "execution_count": null,
   "id": "67a747da",
   "metadata": {},
   "outputs": [],
   "source": []
  },
  {
   "cell_type": "markdown",
   "id": "9a3aa231",
   "metadata": {},
   "source": [
    "#### is_monotonic_increasing\n",
    "\n",
    "Проверяет возрастает ли ряд"
   ]
  },
  {
   "cell_type": "code",
   "execution_count": null,
   "id": "8c16829f",
   "metadata": {},
   "outputs": [],
   "source": [
    "df['Колонка 1'].is_monotonic_increasing"
   ]
  },
  {
   "cell_type": "markdown",
   "id": "b50e5b93",
   "metadata": {},
   "source": [
    "#### is_monotonic_decreasing\n",
    "Проверяет убывает ли ряд"
   ]
  },
  {
   "cell_type": "code",
   "execution_count": null,
   "id": "b5382042",
   "metadata": {},
   "outputs": [],
   "source": [
    "df['Колонка 1'].is_monotonic_decreasing"
   ]
  },
  {
   "cell_type": "code",
   "execution_count": null,
   "id": "307ed25e",
   "metadata": {},
   "outputs": [],
   "source": []
  },
  {
   "cell_type": "code",
   "execution_count": null,
   "id": "ec5fc4f5",
   "metadata": {},
   "outputs": [],
   "source": []
  },
  {
   "cell_type": "code",
   "execution_count": null,
   "id": "0a428db6",
   "metadata": {},
   "outputs": [],
   "source": []
  },
  {
   "cell_type": "code",
   "execution_count": null,
   "id": "14621c80",
   "metadata": {},
   "outputs": [],
   "source": []
  },
  {
   "cell_type": "code",
   "execution_count": null,
   "id": "10ee1b44",
   "metadata": {},
   "outputs": [],
   "source": []
  },
  {
   "cell_type": "markdown",
   "id": "ac883f3a",
   "metadata": {},
   "source": [
    "#### Стандартные функции"
   ]
  },
  {
   "cell_type": "code",
   "execution_count": null,
   "id": "28e88622",
   "metadata": {},
   "outputs": [],
   "source": [
    "len(df['Колонка 1'])"
   ]
  },
  {
   "cell_type": "code",
   "execution_count": null,
   "id": "70ed5c66",
   "metadata": {},
   "outputs": [],
   "source": [
    "sum(df['Колонка 1'])"
   ]
  },
  {
   "cell_type": "code",
   "execution_count": null,
   "id": "cdeda3b0",
   "metadata": {},
   "outputs": [],
   "source": [
    "abs(df['Колонка 3'])"
   ]
  },
  {
   "cell_type": "code",
   "execution_count": null,
   "id": "a230b696",
   "metadata": {},
   "outputs": [],
   "source": [
    "min(df['Колонка 1'])"
   ]
  },
  {
   "cell_type": "code",
   "execution_count": null,
   "id": "8fa53a26",
   "metadata": {},
   "outputs": [],
   "source": [
    "max(df['Колонка 1'])"
   ]
  },
  {
   "cell_type": "code",
   "execution_count": null,
   "id": "188ac255",
   "metadata": {},
   "outputs": [],
   "source": [
    "max(df['Колонка 3'])"
   ]
  },
  {
   "cell_type": "code",
   "execution_count": null,
   "id": "b37db6f8",
   "metadata": {},
   "outputs": [],
   "source": [
    "sum(df['Колонка 3'])"
   ]
  },
  {
   "cell_type": "code",
   "execution_count": null,
   "id": "253eaa92",
   "metadata": {},
   "outputs": [],
   "source": []
  },
  {
   "cell_type": "code",
   "execution_count": null,
   "id": "24f1682a",
   "metadata": {},
   "outputs": [],
   "source": []
  },
  {
   "cell_type": "code",
   "execution_count": null,
   "id": "ee7a9a0d",
   "metadata": {},
   "outputs": [],
   "source": []
  },
  {
   "cell_type": "markdown",
   "id": "ae011ad8",
   "metadata": {},
   "source": [
    "## replace\n",
    "\n",
    "Ипользуется для замены одних значений другими"
   ]
  },
  {
   "cell_type": "code",
   "execution_count": null,
   "id": "cbb74e74",
   "metadata": {},
   "outputs": [],
   "source": [
    "df['Увлечение']"
   ]
  },
  {
   "cell_type": "markdown",
   "id": "b31fd15a",
   "metadata": {},
   "source": [
    "#### Чаще всего в него передается словарь, в котором сначала указывается старое значение, а затем новое"
   ]
  },
  {
   "cell_type": "code",
   "execution_count": null,
   "id": "18afe30d",
   "metadata": {},
   "outputs": [],
   "source": [
    "df['Увлечение'].replace({'Баскетбол': 'Dota'})"
   ]
  },
  {
   "cell_type": "markdown",
   "id": "7165120a",
   "metadata": {},
   "source": [
    "#### В метод можно передать сначала список из старых значений, а затем список из новых"
   ]
  },
  {
   "cell_type": "code",
   "execution_count": null,
   "id": "bb0eae30",
   "metadata": {},
   "outputs": [],
   "source": [
    "# Поменяем хоккей на футбол, а футбол на хоккей\n",
    "df['Увлечение'].replace(['Хоккей', 'Футбол'], ['Бильярд', 'Боулинг'])"
   ]
  },
  {
   "cell_type": "markdown",
   "id": "f83656d2",
   "metadata": {},
   "source": [
    "#### Можно сначала указать список из старых, а затем новое название"
   ]
  },
  {
   "cell_type": "code",
   "execution_count": null,
   "id": "161166f9",
   "metadata": {},
   "outputs": [],
   "source": [
    "df['Увлечение'].replace(['Хоккей', 'Футбол'], 'Дартс')"
   ]
  },
  {
   "cell_type": "code",
   "execution_count": null,
   "id": "e09a19c7",
   "metadata": {},
   "outputs": [],
   "source": []
  },
  {
   "cell_type": "code",
   "execution_count": null,
   "id": "832a02af",
   "metadata": {},
   "outputs": [],
   "source": []
  },
  {
   "cell_type": "code",
   "execution_count": null,
   "id": "355144e4",
   "metadata": {},
   "outputs": [],
   "source": []
  },
  {
   "cell_type": "markdown",
   "id": "003c9f9d",
   "metadata": {},
   "source": [
    "### Метод repalace для датафреймов"
   ]
  },
  {
   "cell_type": "code",
   "execution_count": null,
   "id": "78c27ad4",
   "metadata": {},
   "outputs": [],
   "source": [
    "df"
   ]
  },
  {
   "cell_type": "markdown",
   "id": "fb486841",
   "metadata": {},
   "source": [
    "#### Метод можно применить сразу ко всему датафрейму"
   ]
  },
  {
   "cell_type": "code",
   "execution_count": null,
   "id": "5444a5ee",
   "metadata": {},
   "outputs": [],
   "source": [
    "df.replace({'Баскетбол': 'Dota', 5: 1000})"
   ]
  },
  {
   "cell_type": "markdown",
   "id": "92331aa3",
   "metadata": {},
   "source": [
    "#### А можно к каждой отдельной колонке"
   ]
  },
  {
   "cell_type": "code",
   "execution_count": null,
   "id": "601ff003",
   "metadata": {},
   "outputs": [],
   "source": [
    "df.replace({'Имя': {'Андрей': 'Сергей'}})"
   ]
  },
  {
   "cell_type": "code",
   "execution_count": null,
   "id": "e11da770",
   "metadata": {},
   "outputs": [],
   "source": []
  },
  {
   "cell_type": "code",
   "execution_count": null,
   "id": "81b49c2d",
   "metadata": {},
   "outputs": [],
   "source": []
  },
  {
   "cell_type": "code",
   "execution_count": null,
   "id": "ecca55f0",
   "metadata": {},
   "outputs": [],
   "source": []
  },
  {
   "cell_type": "code",
   "execution_count": null,
   "id": "0ea07525",
   "metadata": {},
   "outputs": [],
   "source": []
  },
  {
   "cell_type": "code",
   "execution_count": null,
   "id": "015c9a7a",
   "metadata": {},
   "outputs": [],
   "source": []
  },
  {
   "cell_type": "code",
   "execution_count": null,
   "id": "3053105b",
   "metadata": {},
   "outputs": [],
   "source": []
  },
  {
   "cell_type": "code",
   "execution_count": null,
   "id": "a59648fc",
   "metadata": {},
   "outputs": [],
   "source": []
  },
  {
   "cell_type": "code",
   "execution_count": null,
   "id": "d6703e32",
   "metadata": {},
   "outputs": [],
   "source": []
  },
  {
   "cell_type": "code",
   "execution_count": null,
   "id": "eab3d791",
   "metadata": {},
   "outputs": [],
   "source": []
  },
  {
   "cell_type": "code",
   "execution_count": null,
   "id": "cc5dd013",
   "metadata": {},
   "outputs": [],
   "source": []
  },
  {
   "cell_type": "code",
   "execution_count": null,
   "id": "266f1336",
   "metadata": {},
   "outputs": [],
   "source": []
  },
  {
   "cell_type": "code",
   "execution_count": null,
   "id": "520b1ec0",
   "metadata": {},
   "outputs": [],
   "source": []
  },
  {
   "cell_type": "code",
   "execution_count": null,
   "id": "914f97fe",
   "metadata": {},
   "outputs": [],
   "source": []
  },
  {
   "cell_type": "code",
   "execution_count": null,
   "id": "38c78f28",
   "metadata": {},
   "outputs": [],
   "source": []
  },
  {
   "cell_type": "code",
   "execution_count": null,
   "id": "9172eea8",
   "metadata": {},
   "outputs": [],
   "source": []
  },
  {
   "cell_type": "code",
   "execution_count": null,
   "id": "522ca98d",
   "metadata": {},
   "outputs": [],
   "source": []
  },
  {
   "cell_type": "code",
   "execution_count": null,
   "id": "52d11d2c",
   "metadata": {},
   "outputs": [],
   "source": []
  },
  {
   "cell_type": "markdown",
   "id": "f8b85568",
   "metadata": {},
   "source": [
    "## map"
   ]
  },
  {
   "cell_type": "markdown",
   "id": "87ead462",
   "metadata": {},
   "source": [
    "#### Заменяет значения указанные в словаре, но для остальных значений проставляет пропуск"
   ]
  },
  {
   "cell_type": "code",
   "execution_count": null,
   "id": "d5b49dad",
   "metadata": {},
   "outputs": [],
   "source": [
    "df['Увлечение'].map({'Баскетбол': 'Dota'})"
   ]
  },
  {
   "cell_type": "code",
   "execution_count": null,
   "id": "4adfb040",
   "metadata": {},
   "outputs": [],
   "source": [
    "df['Увлечение'].map(lambda x: {'Баскетбол': 'Dota'}.get(x, x))"
   ]
  },
  {
   "cell_type": "code",
   "execution_count": null,
   "id": "dd6b1cd6",
   "metadata": {},
   "outputs": [],
   "source": []
  },
  {
   "cell_type": "code",
   "execution_count": null,
   "id": "90ff8479",
   "metadata": {},
   "outputs": [],
   "source": []
  },
  {
   "cell_type": "code",
   "execution_count": null,
   "id": "efca6f24",
   "metadata": {},
   "outputs": [],
   "source": []
  },
  {
   "cell_type": "code",
   "execution_count": null,
   "id": "532307dd",
   "metadata": {},
   "outputs": [],
   "source": []
  },
  {
   "cell_type": "code",
   "execution_count": null,
   "id": "7b527a9d",
   "metadata": {},
   "outputs": [],
   "source": []
  },
  {
   "cell_type": "code",
   "execution_count": null,
   "id": "ae81d6e0",
   "metadata": {},
   "outputs": [],
   "source": []
  },
  {
   "cell_type": "code",
   "execution_count": null,
   "id": "de14703d",
   "metadata": {},
   "outputs": [],
   "source": []
  },
  {
   "cell_type": "code",
   "execution_count": null,
   "id": "1f3a5a24",
   "metadata": {},
   "outputs": [],
   "source": []
  },
  {
   "cell_type": "code",
   "execution_count": null,
   "id": "aae328ea",
   "metadata": {},
   "outputs": [],
   "source": []
  },
  {
   "cell_type": "code",
   "execution_count": null,
   "id": "acb22cb1",
   "metadata": {},
   "outputs": [],
   "source": []
  },
  {
   "cell_type": "code",
   "execution_count": null,
   "id": "78732afb",
   "metadata": {},
   "outputs": [],
   "source": []
  },
  {
   "cell_type": "code",
   "execution_count": null,
   "id": "a404aca5",
   "metadata": {},
   "outputs": [],
   "source": []
  },
  {
   "cell_type": "code",
   "execution_count": null,
   "id": "b0f7ab93",
   "metadata": {},
   "outputs": [],
   "source": []
  },
  {
   "cell_type": "code",
   "execution_count": null,
   "id": "31298bb3",
   "metadata": {},
   "outputs": [],
   "source": []
  },
  {
   "cell_type": "markdown",
   "id": "c907b5bf",
   "metadata": {},
   "source": [
    "## Методы для работы с функциями"
   ]
  },
  {
   "cell_type": "markdown",
   "id": "e5133929",
   "metadata": {},
   "source": [
    "Векторизованные и невекторизованные функции\n",
    "\n",
    "Векторизованные функции - это функции, которые на вход принимают колонку таблицы, таблицу или ndarray\n",
    "\n",
    "Большинство функций и методов в numpy и pandas - векторизованные "
   ]
  },
  {
   "cell_type": "code",
   "execution_count": null,
   "id": "1c7e755f",
   "metadata": {},
   "outputs": [],
   "source": [
    "df['Колонка 1']"
   ]
  },
  {
   "cell_type": "code",
   "execution_count": null,
   "id": "75693c31",
   "metadata": {},
   "outputs": [],
   "source": [
    "np.log(df['Колонка 1'])"
   ]
  },
  {
   "cell_type": "code",
   "execution_count": null,
   "id": "cd9e8a30",
   "metadata": {},
   "outputs": [],
   "source": [
    "from math import log"
   ]
  },
  {
   "cell_type": "code",
   "execution_count": null,
   "id": "2d3c8939",
   "metadata": {},
   "outputs": [],
   "source": [
    "log(df['Колонка 1'])"
   ]
  },
  {
   "cell_type": "code",
   "execution_count": null,
   "id": "63ccf10e",
   "metadata": {},
   "outputs": [],
   "source": [
    "pd.Series([log(i) for i in df['Колонка 1']])"
   ]
  },
  {
   "cell_type": "markdown",
   "id": "85269b2f",
   "metadata": {},
   "source": [
    "## apply"
   ]
  },
  {
   "cell_type": "markdown",
   "id": "552dfd1a",
   "metadata": {},
   "source": [
    "В случае если функция не векторизованная, то метод применяет ее к каждой строке"
   ]
  },
  {
   "cell_type": "code",
   "execution_count": null,
   "id": "bdc06d54",
   "metadata": {},
   "outputs": [],
   "source": [
    "df['Колонка 1'].apply(np.log)"
   ]
  },
  {
   "cell_type": "code",
   "execution_count": null,
   "id": "44e51477",
   "metadata": {},
   "outputs": [],
   "source": [
    "np.log(df['Колонка 1'])"
   ]
  },
  {
   "cell_type": "code",
   "execution_count": null,
   "id": "4216f653",
   "metadata": {},
   "outputs": [],
   "source": [
    "df['Колонка 1'].apply(log)"
   ]
  },
  {
   "cell_type": "markdown",
   "id": "24f4b688",
   "metadata": {},
   "source": [
    "#### По умолчанию метод apply применяет функцию к каждому столбцу по очереди. Но чаще нужно применить фунцию к каждой строке. Чтобы это сделать необходимо в параметр axis передать значение 1"
   ]
  },
  {
   "cell_type": "code",
   "execution_count": null,
   "id": "e6f811dc",
   "metadata": {},
   "outputs": [],
   "source": [
    "df.apply(lambda x: x['Имя'] + ' любит играть в ' + x['Увлечение'], axis=1)"
   ]
  },
  {
   "cell_type": "code",
   "execution_count": null,
   "id": "6c44593f",
   "metadata": {},
   "outputs": [],
   "source": []
  },
  {
   "cell_type": "code",
   "execution_count": null,
   "id": "b106d332",
   "metadata": {},
   "outputs": [],
   "source": []
  },
  {
   "cell_type": "code",
   "execution_count": null,
   "id": "bdcb358d",
   "metadata": {},
   "outputs": [],
   "source": []
  },
  {
   "cell_type": "code",
   "execution_count": null,
   "id": "e532c510",
   "metadata": {},
   "outputs": [],
   "source": []
  },
  {
   "cell_type": "code",
   "execution_count": null,
   "id": "cb8e3991",
   "metadata": {},
   "outputs": [],
   "source": []
  },
  {
   "cell_type": "code",
   "execution_count": null,
   "id": "a50a4289",
   "metadata": {},
   "outputs": [],
   "source": []
  },
  {
   "cell_type": "markdown",
   "id": "363c6a5a",
   "metadata": {},
   "source": [
    "### applymap"
   ]
  },
  {
   "cell_type": "markdown",
   "id": "a023a72a",
   "metadata": {},
   "source": [
    "Применяет какую-то функцию к каждой ячеке таблицы"
   ]
  },
  {
   "cell_type": "code",
   "execution_count": null,
   "id": "625dfa55",
   "metadata": {},
   "outputs": [],
   "source": [
    "df.iloc[:, :3]"
   ]
  },
  {
   "cell_type": "code",
   "execution_count": null,
   "id": "53f0b77a",
   "metadata": {},
   "outputs": [],
   "source": [
    "df.iloc[:, :3].applymap(lambda x: x ** 2)"
   ]
  },
  {
   "cell_type": "code",
   "execution_count": null,
   "id": "dfe2bbf0",
   "metadata": {},
   "outputs": [],
   "source": [
    "df.iloc[:, :3].applymap(lambda x: x / 100)"
   ]
  },
  {
   "cell_type": "code",
   "execution_count": null,
   "id": "b48798b6",
   "metadata": {},
   "outputs": [],
   "source": []
  },
  {
   "cell_type": "code",
   "execution_count": null,
   "id": "09be2756",
   "metadata": {},
   "outputs": [],
   "source": []
  },
  {
   "cell_type": "code",
   "execution_count": null,
   "id": "5d7b0b2e",
   "metadata": {},
   "outputs": [],
   "source": []
  },
  {
   "cell_type": "code",
   "execution_count": null,
   "id": "dac663ba",
   "metadata": {},
   "outputs": [],
   "source": []
  },
  {
   "cell_type": "code",
   "execution_count": null,
   "id": "56f1f3ea",
   "metadata": {},
   "outputs": [],
   "source": []
  },
  {
   "cell_type": "code",
   "execution_count": null,
   "id": "0af25829",
   "metadata": {},
   "outputs": [],
   "source": []
  },
  {
   "cell_type": "code",
   "execution_count": null,
   "id": "b0220b8d",
   "metadata": {},
   "outputs": [],
   "source": []
  },
  {
   "cell_type": "markdown",
   "id": "8e9f96e1",
   "metadata": {},
   "source": [
    "### transform"
   ]
  },
  {
   "cell_type": "markdown",
   "id": "28976d29",
   "metadata": {},
   "source": [
    "Модифицирует колонку или датафрейм при помощи векторной функции. Возвращает тоже колонку или датафрейм"
   ]
  },
  {
   "cell_type": "code",
   "execution_count": null,
   "id": "494974fe",
   "metadata": {},
   "outputs": [],
   "source": [
    "df['Колонка 1']"
   ]
  },
  {
   "cell_type": "code",
   "execution_count": null,
   "id": "9a57add5",
   "metadata": {},
   "outputs": [],
   "source": [
    "df['Колонка 1'].transform(lambda x: (x - 10) / 10)"
   ]
  },
  {
   "cell_type": "markdown",
   "id": "c41c165a",
   "metadata": {},
   "source": [
    "Применяем к датафрейму и дополнительно указываем ось если это необходимо"
   ]
  },
  {
   "cell_type": "code",
   "execution_count": null,
   "id": "6ea88ed9",
   "metadata": {},
   "outputs": [],
   "source": [
    "df.iloc[:, :3].transform(lambda x: x / len(x), axis=1)"
   ]
  },
  {
   "cell_type": "code",
   "execution_count": null,
   "id": "90aa24ae",
   "metadata": {},
   "outputs": [],
   "source": []
  },
  {
   "cell_type": "code",
   "execution_count": null,
   "id": "a187f9a5",
   "metadata": {},
   "outputs": [],
   "source": []
  },
  {
   "cell_type": "code",
   "execution_count": null,
   "id": "6d22ddf4",
   "metadata": {},
   "outputs": [],
   "source": []
  },
  {
   "cell_type": "code",
   "execution_count": null,
   "id": "e42b9ff3",
   "metadata": {},
   "outputs": [],
   "source": []
  },
  {
   "cell_type": "code",
   "execution_count": null,
   "id": "66931560",
   "metadata": {},
   "outputs": [],
   "source": []
  },
  {
   "cell_type": "code",
   "execution_count": null,
   "id": "64c4de9a",
   "metadata": {},
   "outputs": [],
   "source": []
  },
  {
   "cell_type": "code",
   "execution_count": null,
   "id": "b062d271",
   "metadata": {},
   "outputs": [],
   "source": []
  },
  {
   "cell_type": "markdown",
   "id": "74d5110a",
   "metadata": {},
   "source": [
    "### pipe\n",
    "\n",
    "Применяет функцию, которая на вход принимает датафрейм целиком"
   ]
  },
  {
   "cell_type": "code",
   "execution_count": null,
   "id": "7121e163",
   "metadata": {},
   "outputs": [],
   "source": [
    "df.pipe(lambda x: x.shape)"
   ]
  },
  {
   "cell_type": "code",
   "execution_count": null,
   "id": "6b3ec9ab",
   "metadata": {},
   "outputs": [],
   "source": [
    "def create_columns(df, n_cols):\n",
    "    df = df.copy()\n",
    "    for i in range(n_cols):\n",
    "        df[f'Колонка {i + 1}'] = i + 1\n",
    "    return df"
   ]
  },
  {
   "cell_type": "code",
   "execution_count": null,
   "id": "20907fc4",
   "metadata": {},
   "outputs": [],
   "source": [
    "df.pipe(create_columns, 9)"
   ]
  },
  {
   "cell_type": "markdown",
   "id": "51098a6a",
   "metadata": {},
   "source": [
    "| Название метода   | Что принимает на вход      | Особенности                                          |\n",
    "|:-----------------:|:--------------------------:|:----------------------------------------------------:|\n",
    "| apply             | Колонку или строку таблицы | Может работать с невекторизованными функциями        |\n",
    "| applymap          | Ячеку таблицы              | Применяет функцию к каждой чеке                      |\n",
    "| transform         | Колонку или строку         | Работает только с векторизованными функциями         |\n",
    "| pipe              | Таблицу целиком            | -                                                    |"
   ]
  },
  {
   "cell_type": "code",
   "execution_count": null,
   "id": "3712a367",
   "metadata": {},
   "outputs": [],
   "source": []
  },
  {
   "cell_type": "code",
   "execution_count": null,
   "id": "77e3cfec",
   "metadata": {},
   "outputs": [],
   "source": []
  },
  {
   "cell_type": "code",
   "execution_count": null,
   "id": "cf786af1",
   "metadata": {},
   "outputs": [],
   "source": []
  },
  {
   "cell_type": "code",
   "execution_count": null,
   "id": "42e20393",
   "metadata": {},
   "outputs": [],
   "source": []
  },
  {
   "cell_type": "code",
   "execution_count": null,
   "id": "e9f07117",
   "metadata": {},
   "outputs": [],
   "source": []
  },
  {
   "cell_type": "code",
   "execution_count": null,
   "id": "fb44a8d9",
   "metadata": {},
   "outputs": [],
   "source": []
  },
  {
   "cell_type": "code",
   "execution_count": null,
   "id": "efe59718",
   "metadata": {},
   "outputs": [],
   "source": []
  },
  {
   "cell_type": "code",
   "execution_count": null,
   "id": "d26ae116",
   "metadata": {},
   "outputs": [],
   "source": []
  },
  {
   "cell_type": "code",
   "execution_count": null,
   "id": "23092a54",
   "metadata": {},
   "outputs": [],
   "source": []
  },
  {
   "cell_type": "code",
   "execution_count": null,
   "id": "d55118bc",
   "metadata": {},
   "outputs": [],
   "source": []
  },
  {
   "cell_type": "markdown",
   "id": "240ad645",
   "metadata": {},
   "source": [
    "# Задания"
   ]
  },
  {
   "cell_type": "markdown",
   "id": "20b8760d",
   "metadata": {},
   "source": [
    "#### Описание таблиц лежит [здесь](https://github.com/victorlymarev/pandas/tree/main/tables#%D0%BE%D0%BF%D0%B8%D1%81%D0%B0%D0%BD%D0%B8%D0%B5-%D1%82%D0%B0%D0%B1%D0%BB%D0%B8%D1%86)"
   ]
  },
  {
   "cell_type": "markdown",
   "id": "4e187841",
   "metadata": {},
   "source": [
    "Некоторые таблицы занимают много памяти, поэтому каждые 5-10 заданий лучше перезапускайте ноутбук.\n",
    "\n",
    "В формулировке некоторых заданий может содержаться вариативность. Если у вас есть сомнения, что требуется в задании, попробуйте решить несколько вариантов. Если вы не понимаете задание, можете написать об этом в комментариях под видео.\n",
    "\n",
    "В большинстве случаев внешний вид итоговой таблицы не определен. Выведите на экран наиболее адекватный вариант. То есть таблицу, из которой можно будет сделать выводы.\n",
    "\n",
    "Курс пока находится в разработке. Вы можете помочь другим людям добавив свое решение [сюда](https://docs.google.com/forms/d/1HYTBz_KfssY3Jps2dC3n0YnEqa6WBb5OIhLo1d32Xzw/edit).\n",
    "\n",
    "Посмотреть решения других людей можно [здесь](https://docs.google.com/spreadsheets/d/1pMDYO-9UneLbPPnEuQ2shig0TOJdQTU-zipifyAnZMk/edit?resourcekey#gid=1998648012)"
   ]
  },
  {
   "cell_type": "markdown",
   "id": "504fb229",
   "metadata": {},
   "source": [
    "### Задание 1\n",
    "\n",
    "В таблице df представлены платежи по кредиту. Необходимо для каждой даты посчитать, сколько денег было заплачено."
   ]
  },
  {
   "cell_type": "code",
   "execution_count": null,
   "id": "34cf0fba",
   "metadata": {},
   "outputs": [],
   "source": [
    "import pandas as pd\n",
    "\n",
    "df = pd.DataFrame({'Дата': pd.date_range('2022-01-31', '2022-12-31', freq='M'),\n",
    "              'Сумма': [(50000 * (1.12 ** (i / 12))) // 1 for i in range(12)]})\n",
    "df"
   ]
  },
  {
   "cell_type": "code",
   "execution_count": null,
   "id": "e0b5cbd2",
   "metadata": {},
   "outputs": [],
   "source": [
    "# Напишите свой код здесь"
   ]
  },
  {
   "cell_type": "markdown",
   "id": "bf909aaf",
   "metadata": {},
   "source": [
    "### Задание 2\n",
    "\n",
    "У каждого сотрудника есть оценка. Сейчас она считается от 1 до 10 включительно. Сделайте так, чтобы границы оценки лежали на отрезке от 0 до 1 (любым способом)"
   ]
  },
  {
   "cell_type": "code",
   "execution_count": null,
   "id": "a483218c",
   "metadata": {},
   "outputs": [],
   "source": [
    "import os\n",
    "import pandas as pd\n",
    "\n",
    "path_empl = '../tables/employees.parquet' if os.path.exists('../tables/employees.parquet') else 'https://drive.google.com/uc?id=1AARD5-eVlCxoApt5CYZebrC3Cqw42lvj'\n",
    "\n",
    "empl = pd.read_parquet(path_empl)\n",
    "empl.head()"
   ]
  },
  {
   "cell_type": "code",
   "execution_count": null,
   "id": "aad24f38",
   "metadata": {},
   "outputs": [],
   "source": [
    "# Напишите свой код здесь"
   ]
  },
  {
   "cell_type": "markdown",
   "id": "0a00ae65",
   "metadata": {},
   "source": [
    "### Задание 3\n",
    "\n",
    "Создайте колонку таблицы в которой будут лежать все нечетные числа от 1 до 99 включительно. Найдите накопленную сумму"
   ]
  },
  {
   "cell_type": "code",
   "execution_count": null,
   "id": "bea30d90",
   "metadata": {},
   "outputs": [],
   "source": [
    "import pandas as pd\n",
    "import numpy as np\n",
    "\n",
    "# Напишите свой код здесь"
   ]
  },
  {
   "cell_type": "code",
   "execution_count": null,
   "id": "ffca8db5",
   "metadata": {},
   "outputs": [],
   "source": []
  },
  {
   "cell_type": "markdown",
   "id": "e840368e",
   "metadata": {},
   "source": [
    "### Задание 4\n",
    "\n",
    "В колонке gender таблицы goods_descr поменяйте значение Men на мужской, а значение Women на женский. Учите, что в колонке есть еще одно значение Unisex. Не делайте из него NaN"
   ]
  },
  {
   "cell_type": "code",
   "execution_count": null,
   "id": "c28c8042",
   "metadata": {},
   "outputs": [],
   "source": [
    "import os\n",
    "import pandas as pd\n",
    "\n",
    "path_goods_descr = '../tables/goods_description.parquet' if os.path.exists('../tables/goods_description.parquet') else 'https://drive.google.com/uc?id=1YbiD02Rev-X_WWV9nPSG1zZFmEh2JjPh'\n",
    "\n",
    "goods_descr = pd.read_parquet(path_goods_descr)\n",
    "goods_descr.head()"
   ]
  },
  {
   "cell_type": "code",
   "execution_count": null,
   "id": "1289d07c",
   "metadata": {},
   "outputs": [],
   "source": [
    "# Напишите свой код здесь"
   ]
  },
  {
   "cell_type": "markdown",
   "id": "279c450e",
   "metadata": {},
   "source": [
    "### Задание 5\n",
    "\n",
    "Создайте колонку, состоящую из нечетных чисел от 1 до 1000000. Затем разделите 1 на эту колонку. Полученный результат сохраните в переменную s. После этого каждый второй элемент в колонке умножьте на -1 (это можно сделать при помощи метода iloc s.iloc[1::2] = - s.iloc[1::2]). Умножьте каждое значение в этой колонке на 4. В конце посчитайте накопленную сумму.\n",
    "\n",
    "На какое число похожи нижние значения в колонке?"
   ]
  },
  {
   "cell_type": "code",
   "execution_count": null,
   "id": "027f07ac",
   "metadata": {},
   "outputs": [],
   "source": [
    "import pandas as pd\n",
    "import numpy as np\n",
    "\n",
    "# Напишите свой код здесь"
   ]
  },
  {
   "cell_type": "markdown",
   "id": "eab7a30f",
   "metadata": {},
   "source": [
    "### Задание 6\n",
    "\n",
    "Сгенерируйте числа от 1 до 100000 с шагом 1. Затем на их основе создайте колонку. Разделите 1 на эту колонку. Затем полученный массив возведите в квадрат. Домножьте на 6. Посчитайте накопленную сумму. В конце извлечите из каждого значения в колонке квадратный корень"
   ]
  },
  {
   "cell_type": "code",
   "execution_count": null,
   "id": "e09fcbd7",
   "metadata": {},
   "outputs": [],
   "source": [
    "import pandas as pd\n",
    "import numpy as np\n",
    "\n",
    "# Напишите свой код здесь"
   ]
  },
  {
   "cell_type": "markdown",
   "id": "dbaf4372",
   "metadata": {},
   "source": [
    "### Задание 7\n",
    "\n",
    "Посчитайте натуральный логарифм зарплат. Значение округлите до 2 знаков после запятой"
   ]
  },
  {
   "cell_type": "code",
   "execution_count": null,
   "id": "00d08aef",
   "metadata": {},
   "outputs": [],
   "source": [
    "import os\n",
    "import pandas as pd\n",
    "\n",
    "path_empl = '../tables/employees.parquet' if os.path.exists('../tables/employees.parquet') else 'https://drive.google.com/uc?id=1AARD5-eVlCxoApt5CYZebrC3Cqw42lvj'\n",
    "\n",
    "empl = pd.read_parquet(path_empl)\n",
    "empl.head()"
   ]
  },
  {
   "cell_type": "code",
   "execution_count": null,
   "id": "96007bb8",
   "metadata": {},
   "outputs": [],
   "source": [
    "# Напишите свой код здесь"
   ]
  },
  {
   "cell_type": "markdown",
   "id": "0e4ddae8",
   "metadata": {},
   "source": [
    "### Задание 8"
   ]
  },
  {
   "cell_type": "markdown",
   "id": "49344a7e",
   "metadata": {},
   "source": [
    "Найдите угол между двумя векторам.\n",
    "\n",
    "Для того чтобы это сделать необходимо сначала посчитать скалярное произведение между векторами (через знак @), затем это произведение надо разделить на норму каждого вектора (функция np.linalg.norm или это можно сделать через @ и квадратный корень). Такми образом мы получим косинус угла между двумя векторами. Теперь зная косинус угла необходимо вычеслить сам угол. Для этого необходимо посчитать арккосинус (np.arccos). В результате мы получим угол в раданах. Чтобы привести угол к градусам необходимо угол в радианах умножить на 180 и разделить на число $\\pi$ (np.pi)"
   ]
  },
  {
   "cell_type": "code",
   "execution_count": null,
   "id": "4d921b87",
   "metadata": {},
   "outputs": [],
   "source": [
    "import numpy as np\n",
    "x = np.array([6, 0, 1, 5, 5])\n",
    "y = np.array([1, 4, 5, 2, 0])"
   ]
  },
  {
   "cell_type": "code",
   "execution_count": null,
   "id": "8ed96907",
   "metadata": {},
   "outputs": [],
   "source": []
  },
  {
   "cell_type": "code",
   "execution_count": null,
   "id": "4e1dddb5",
   "metadata": {},
   "outputs": [],
   "source": []
  },
  {
   "cell_type": "code",
   "execution_count": null,
   "id": "7e78c65d",
   "metadata": {},
   "outputs": [],
   "source": []
  },
  {
   "cell_type": "code",
   "execution_count": null,
   "id": "1a683cbe",
   "metadata": {},
   "outputs": [],
   "source": []
  }
 ],
 "metadata": {
  "kernelspec": {
   "display_name": "Python 3 (ipykernel)",
   "language": "python",
   "name": "python3"
  },
  "language_info": {
   "codemirror_mode": {
    "name": "ipython",
    "version": 3
   },
   "file_extension": ".py",
   "mimetype": "text/x-python",
   "name": "python",
   "nbconvert_exporter": "python",
   "pygments_lexer": "ipython3",
   "version": "3.11.5"
  }
 },
 "nbformat": 4,
 "nbformat_minor": 5
}
