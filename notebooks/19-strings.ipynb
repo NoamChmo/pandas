{
 "cells": [
  {
   "cell_type": "markdown",
   "id": "91497d7c",
   "metadata": {},
   "source": [
    "<a target=\"_blank\" href=\"https://colab.research.google.com/github/victorlymarev/pandas/blob/main/notebooks/19-strings.ipynb\">\n",
    "  <img src=\"https://colab.research.google.com/assets/colab-badge.svg\" alt=\"Open In Colab\"/>\n",
    "</a>"
   ]
  },
  {
   "cell_type": "markdown",
   "id": "ab53dc61",
   "metadata": {},
   "source": [
    "# Работа со строками\n",
    "#### [Ссылка на видео](https://youtu.be/XxMtQPDesjQ)"
   ]
  },
  {
   "cell_type": "code",
   "execution_count": null,
   "id": "b75313ca",
   "metadata": {},
   "outputs": [],
   "source": [
    "import pandas as pd\n",
    "import os"
   ]
  },
  {
   "cell_type": "markdown",
   "id": "e0ba618b",
   "metadata": {},
   "source": [
    "Читаем таблицы"
   ]
  },
  {
   "cell_type": "code",
   "execution_count": null,
   "id": "2f02e910",
   "metadata": {},
   "outputs": [],
   "source": [
    "path_goods_descr = '../tables/goods_description.parquet' if os.path.exists('../tables/goods_description.parquet') else 'https://drive.google.com/uc?id=1YbiD02Rev-X_WWV9nPSG1zZFmEh2JjPh'\n",
    "path_empl = '../tables/employees.parquet' if os.path.exists('../tables/employees.parquet') else 'https://drive.google.com/uc?id=1AARD5-eVlCxoApt5CYZebrC3Cqw42lvj'\n",
    "\n",
    "goods_descr = pd.read_parquet(path_goods_descr)\n",
    "empl = pd.read_parquet(path_empl)\n",
    "goods_descr['description']"
   ]
  },
  {
   "cell_type": "markdown",
   "id": "026065de",
   "metadata": {},
   "source": [
    "#### Чтобы посмотреть строки полностью, можно преобразовать колонку в список"
   ]
  },
  {
   "cell_type": "code",
   "execution_count": null,
   "id": "ca333a15",
   "metadata": {},
   "outputs": [],
   "source": [
    "goods_descr['description'].head(10).tolist()"
   ]
  },
  {
   "cell_type": "markdown",
   "id": "c7c59a35",
   "metadata": {},
   "source": [
    "#### Приведение строк к нижнему регистру"
   ]
  },
  {
   "cell_type": "code",
   "execution_count": null,
   "id": "f7e56499",
   "metadata": {},
   "outputs": [],
   "source": [
    "goods_descr['description'].str.lower()"
   ]
  },
  {
   "cell_type": "markdown",
   "id": "d7e152de",
   "metadata": {},
   "source": [
    "#### Приведение строк к верхнему регистру"
   ]
  },
  {
   "cell_type": "code",
   "execution_count": null,
   "id": "e8691e32",
   "metadata": {},
   "outputs": [],
   "source": [
    "goods_descr['description'].str.upper()"
   ]
  },
  {
   "cell_type": "markdown",
   "id": "304b6e74",
   "metadata": {},
   "source": [
    "#### Первая буква - заглавная, а остальные строчные"
   ]
  },
  {
   "cell_type": "code",
   "execution_count": null,
   "id": "69edec3c",
   "metadata": {},
   "outputs": [],
   "source": [
    "goods_descr['description'].str.capitalize()"
   ]
  },
  {
   "cell_type": "markdown",
   "id": "4e8b61d5",
   "metadata": {},
   "source": [
    "#### Первая буква в каждом слове - заглавная, а остальные строчные"
   ]
  },
  {
   "cell_type": "code",
   "execution_count": null,
   "id": "bbf565bc",
   "metadata": {},
   "outputs": [],
   "source": [
    "goods_descr['description'].str.title()"
   ]
  },
  {
   "cell_type": "markdown",
   "id": "b002a96f",
   "metadata": {},
   "source": [
    "#### Заглавные и строчные буквы меняются"
   ]
  },
  {
   "cell_type": "code",
   "execution_count": null,
   "id": "a78f080e",
   "metadata": {},
   "outputs": [],
   "source": [
    "goods_descr['description'].str.swapcase()"
   ]
  },
  {
   "cell_type": "markdown",
   "id": "d7eb14a4",
   "metadata": {},
   "source": [
    "#### Срезы строк\n",
    "Берем первые я символов в каждой строке"
   ]
  },
  {
   "cell_type": "code",
   "execution_count": null,
   "id": "1bbf9320",
   "metadata": {},
   "outputs": [],
   "source": [
    "goods_descr['description'].str[:5]"
   ]
  },
  {
   "cell_type": "code",
   "execution_count": null,
   "id": "ba4b2aa7",
   "metadata": {},
   "outputs": [],
   "source": [
    "goods_descr['description'].str[7:18]"
   ]
  },
  {
   "cell_type": "code",
   "execution_count": null,
   "id": "81fbdf7e",
   "metadata": {},
   "outputs": [],
   "source": [
    "goods_descr['description'].str[-10:]"
   ]
  },
  {
   "cell_type": "markdown",
   "id": "5d496487",
   "metadata": {},
   "source": [
    "#### Убираем строку из начала или конца строки если она есть"
   ]
  },
  {
   "cell_type": "code",
   "execution_count": null,
   "id": "56cf2c01",
   "metadata": {},
   "outputs": [],
   "source": [
    "goods_descr['description']"
   ]
  },
  {
   "cell_type": "code",
   "execution_count": null,
   "id": "902c2e2d",
   "metadata": {},
   "outputs": [],
   "source": [
    "goods_descr['description'].str.removeprefix('Shirts')"
   ]
  },
  {
   "cell_type": "code",
   "execution_count": null,
   "id": "a86a8ffb",
   "metadata": {},
   "outputs": [],
   "source": [
    "goods_descr['description'].iloc[-10:].tolist()"
   ]
  },
  {
   "cell_type": "code",
   "execution_count": null,
   "id": "0f9f323c",
   "metadata": {},
   "outputs": [],
   "source": [
    "goods_descr['description'].str.removesuffix('fit').iloc[-10:].tolist()"
   ]
  },
  {
   "cell_type": "markdown",
   "id": "f41af96a",
   "metadata": {},
   "source": [
    "#### strip удаляет указанные символы из начала и конца строки \n",
    "\n",
    "lstrip удаляет символы из начала строки\n",
    "\n",
    "rstrip удаляет символы из конца строки"
   ]
  },
  {
   "cell_type": "code",
   "execution_count": null,
   "id": "3c68ad8a",
   "metadata": {},
   "outputs": [],
   "source": [
    "goods_descr['description'].head(7).tolist()"
   ]
  },
  {
   "cell_type": "code",
   "execution_count": null,
   "id": "c75bb8db",
   "metadata": {},
   "outputs": [],
   "source": [
    "goods_descr['description'].head(7).str.strip('SLht').tolist()"
   ]
  },
  {
   "cell_type": "markdown",
   "id": "15bed97a",
   "metadata": {},
   "source": [
    "#### Расчет длинны строки"
   ]
  },
  {
   "cell_type": "code",
   "execution_count": null,
   "id": "1d27ed42",
   "metadata": {},
   "outputs": [],
   "source": [
    "goods_descr['description'].str.len()"
   ]
  },
  {
   "cell_type": "markdown",
   "id": "7fff13e0",
   "metadata": {},
   "source": [
    "#### Поиск первой подстроки в строке\n",
    "Метод find возващает индекс первого символа подстроки в строке\n",
    "\n",
    "Если подстрока не нашлась возвращается -1"
   ]
  },
  {
   "cell_type": "code",
   "execution_count": null,
   "id": "ff6a7a4b",
   "metadata": {},
   "outputs": [],
   "source": [
    "empl['fio']"
   ]
  },
  {
   "cell_type": "code",
   "execution_count": null,
   "id": "58f7d66e",
   "metadata": {},
   "outputs": [],
   "source": [
    "empl['fio'].str.find('Андрей')"
   ]
  },
  {
   "cell_type": "markdown",
   "id": "ac9f40c4",
   "metadata": {},
   "source": [
    "#### На основе этого можно фильтровать строки таблицы"
   ]
  },
  {
   "cell_type": "code",
   "execution_count": null,
   "id": "fee435fa",
   "metadata": {},
   "outputs": [],
   "source": [
    "empl.query('fio.str.find(\"Андрей\") >= 0').head()"
   ]
  },
  {
   "cell_type": "code",
   "execution_count": null,
   "id": "d463d660",
   "metadata": {},
   "outputs": [],
   "source": [
    "empl.query('fio.str.contains(\"Андрей\")').head()"
   ]
  },
  {
   "cell_type": "markdown",
   "id": "3bc82efe",
   "metadata": {},
   "source": [
    "Такая запись работать не будет"
   ]
  },
  {
   "cell_type": "code",
   "execution_count": null,
   "id": "007f9bf3",
   "metadata": {},
   "outputs": [],
   "source": [
    "empl.query('\"Андрей\" in fio').head()"
   ]
  },
  {
   "cell_type": "markdown",
   "id": "ccf0ee68",
   "metadata": {},
   "source": [
    "#### Замены внутри строк"
   ]
  },
  {
   "cell_type": "code",
   "execution_count": null,
   "id": "cd37182a",
   "metadata": {},
   "outputs": [],
   "source": [
    "empl['fio']"
   ]
  },
  {
   "cell_type": "code",
   "execution_count": null,
   "id": "d0b11df3",
   "metadata": {},
   "outputs": [],
   "source": [
    "empl['fio'].str.replace('Максимович', '______________')"
   ]
  },
  {
   "cell_type": "markdown",
   "id": "22cefa46",
   "metadata": {},
   "source": [
    "В отличие от str.replace, обычный метод replace смотрит на всю строку целиком"
   ]
  },
  {
   "cell_type": "code",
   "execution_count": null,
   "id": "515c74db",
   "metadata": {},
   "outputs": [],
   "source": [
    "empl['fio'].replace({'Максимович': '___________'})"
   ]
  },
  {
   "cell_type": "markdown",
   "id": "20acd3c7",
   "metadata": {},
   "source": [
    "#### Разделение строк"
   ]
  },
  {
   "cell_type": "code",
   "execution_count": null,
   "id": "5451d81d",
   "metadata": {},
   "outputs": [],
   "source": [
    "empl['fio'].str.split()"
   ]
  },
  {
   "cell_type": "code",
   "execution_count": null,
   "id": "e6035bff",
   "metadata": {},
   "outputs": [],
   "source": [
    "empl['fio'].str.split('Надежда')"
   ]
  },
  {
   "cell_type": "markdown",
   "id": "ddd02d03",
   "metadata": {},
   "source": [
    "Выбор элементов списка"
   ]
  },
  {
   "cell_type": "code",
   "execution_count": null,
   "id": "ea7713bc",
   "metadata": {},
   "outputs": [],
   "source": [
    "empl['fio'].str.split().str[0]"
   ]
  },
  {
   "cell_type": "code",
   "execution_count": null,
   "id": "925d745c",
   "metadata": {},
   "outputs": [],
   "source": [
    "empl['fio'].str.split().str[1:]"
   ]
  },
  {
   "cell_type": "markdown",
   "id": "d16445ab",
   "metadata": {},
   "source": [
    "Такой список можно разделить на колонки"
   ]
  },
  {
   "cell_type": "code",
   "execution_count": null,
   "id": "8d0d6057",
   "metadata": {},
   "outputs": [],
   "source": [
    "empl['fio'].str.split(expand=True)"
   ]
  },
  {
   "cell_type": "markdown",
   "id": "be8962cc",
   "metadata": {},
   "source": [
    "Присоединение новых колонок"
   ]
  },
  {
   "cell_type": "code",
   "execution_count": null,
   "id": "9108ead6",
   "metadata": {},
   "outputs": [],
   "source": [
    "(empl\n",
    "    .join(empl['fio']\n",
    "          .str\n",
    "          .split(expand=True)\n",
    "          .set_axis(['Фамилия', 'Имя', 'Отчество'], axis=1)\n",
    "         )\n",
    "    .head()\n",
    ")"
   ]
  },
  {
   "cell_type": "markdown",
   "id": "200fa685",
   "metadata": {},
   "source": [
    "#### Создание для каждого элемента списка своей строки"
   ]
  },
  {
   "cell_type": "code",
   "execution_count": null,
   "id": "45b3c416",
   "metadata": {},
   "outputs": [],
   "source": [
    "empl.assign(fio_list = lambda x: x['fio'].str.split()).explode('fio_list')"
   ]
  },
  {
   "cell_type": "markdown",
   "id": "74be4a6a",
   "metadata": {},
   "source": [
    "#### Можно узнасть длинну списка"
   ]
  },
  {
   "cell_type": "code",
   "execution_count": null,
   "id": "a34ea5db",
   "metadata": {},
   "outputs": [],
   "source": [
    "empl['fio'].str.split().str.len()"
   ]
  },
  {
   "cell_type": "markdown",
   "id": "dbcef21a",
   "metadata": {},
   "source": [
    "#### Соединение списков в одну строку"
   ]
  },
  {
   "cell_type": "code",
   "execution_count": null,
   "id": "a998e94e",
   "metadata": {},
   "outputs": [],
   "source": [
    "empl['fio'].str.split()"
   ]
  },
  {
   "cell_type": "code",
   "execution_count": null,
   "id": "b2086ff8",
   "metadata": {},
   "outputs": [],
   "source": [
    "empl['fio'].str.split().str.join('___')"
   ]
  },
  {
   "cell_type": "markdown",
   "id": "915411a8",
   "metadata": {},
   "source": [
    "#### Список всех методов"
   ]
  },
  {
   "cell_type": "code",
   "execution_count": null,
   "id": "c0e7cf3d",
   "metadata": {},
   "outputs": [],
   "source": [
    "dir(goods_descr['description'].str)[44:]"
   ]
  },
  {
   "cell_type": "code",
   "execution_count": null,
   "id": "c97d8866",
   "metadata": {},
   "outputs": [],
   "source": []
  },
  {
   "cell_type": "code",
   "execution_count": null,
   "id": "f7714a67",
   "metadata": {},
   "outputs": [],
   "source": []
  },
  {
   "cell_type": "code",
   "execution_count": null,
   "id": "dad73317",
   "metadata": {},
   "outputs": [],
   "source": []
  },
  {
   "cell_type": "code",
   "execution_count": null,
   "id": "d8031836",
   "metadata": {},
   "outputs": [],
   "source": []
  },
  {
   "cell_type": "code",
   "execution_count": null,
   "id": "c04e5df9",
   "metadata": {},
   "outputs": [],
   "source": []
  },
  {
   "cell_type": "markdown",
   "id": "858d3bbe",
   "metadata": {},
   "source": [
    "### Apply"
   ]
  },
  {
   "cell_type": "code",
   "execution_count": null,
   "id": "7214540e",
   "metadata": {},
   "outputs": [],
   "source": [
    "goods_descr.apply(lambda x: x['description'].replace(x['brand'], ''), axis=1)"
   ]
  },
  {
   "cell_type": "code",
   "execution_count": null,
   "id": "efcd701a",
   "metadata": {},
   "outputs": [],
   "source": [
    "stop_words = [\"i\", \"me\", \"my\", \"myself\", \"we\", \"our\", \"ours\", \"ourselves\", \"you\", 'you\"re', 'you\"ve', 'you\"ll', 'you\"d', \"your\", \"yours\", \"yourself\", \"yourselves\", \"he\", \"him\", \"his\", \"himself\", \"she\", 'she\"s', \"her\", \"hers\", \"herself\", \"it\", 'it\"s', \"its\", \"itself\", \"they\", \"them\", \"their\", \"theirs\", \"themselves\", \"what\", \"which\", \"who\", \"whom\", \"this\", \"that\", 'that\"ll', \"these\", \"those\", \"am\", \"is\", \"are\", \"was\", \"were\", \"be\", \"been\", \"being\", \"have\", \"has\", \"had\", \"having\", \"do\", \"does\", \"did\", \"doing\", \"a\", \"an\", \"the\", \"and\", \"but\", \"if\", \"or\", \"because\", \"as\", \"until\", \"while\", \"of\", \"at\", \"by\", \"for\", \"with\", \"about\", \"against\", \"between\", \"into\", \"through\", \"during\", \"before\", \"after\", \"above\", \"below\", \"to\", \"from\", \"up\", \"down\", \"in\", \"out\", \"on\", \"off\", \"over\", \"under\", \"again\", \"further\", \"then\", \"once\", \"here\", \"there\", \"when\", \"where\", \"why\", \"how\", \"all\", \"any\", \"both\", \"each\", \"few\", \"more\", \"most\", \"other\", \"some\", \"such\", \"no\", \"nor\", \"not\", \"only\", \"own\", \"same\", \"so\", \"than\", \"too\", \"very\", \"s\", \"t\", \"can\", \"will\", \"just\", \"don\", 'don\"t', \"should\", 'should\"ve', \"now\", \"d\", \"ll\", \"m\", \"o\", \"re\", \"ve\", \"y\", \"ain\", \"aren\", 'aren\"t', \"couldn\", 'couldn\"t', \"didn\", 'didn\"t', \"doesn\", 'doesn\"t', \"hadn\", 'hadn\"t', \"hasn\", 'hasn\"t', \"haven\", 'haven\"t', \"isn\", 'isn\"t', \"ma\", \"mightn\", 'mightn\"t', \"mustn\", 'mustn\"t', \"needn\", 'needn\"t', \"shan\", 'shan\"t', \"shouldn\", 'shouldn\"t', \"wasn\", 'wasn\"t', \"weren\", 'weren\"t', \"won\", 'won\"t', \"wouldn\", 'wouldn\"t']"
   ]
  },
  {
   "cell_type": "code",
   "execution_count": null,
   "id": "e300078d",
   "metadata": {},
   "outputs": [],
   "source": [
    "goods_descr['description'].apply(lambda x: ' '.join([i for i in x.lower().split() if i not in stop_words]))"
   ]
  },
  {
   "cell_type": "code",
   "execution_count": null,
   "id": "039a48d1",
   "metadata": {},
   "outputs": [],
   "source": []
  },
  {
   "cell_type": "code",
   "execution_count": null,
   "id": "023361ea",
   "metadata": {},
   "outputs": [],
   "source": []
  },
  {
   "cell_type": "code",
   "execution_count": null,
   "id": "e2dcb432",
   "metadata": {},
   "outputs": [],
   "source": []
  },
  {
   "cell_type": "code",
   "execution_count": null,
   "id": "e37778c1",
   "metadata": {},
   "outputs": [],
   "source": []
  },
  {
   "cell_type": "code",
   "execution_count": null,
   "id": "7de3d23f",
   "metadata": {},
   "outputs": [],
   "source": []
  },
  {
   "cell_type": "code",
   "execution_count": null,
   "id": "7e87daea",
   "metadata": {},
   "outputs": [],
   "source": []
  },
  {
   "cell_type": "code",
   "execution_count": null,
   "id": "653a47a8",
   "metadata": {},
   "outputs": [],
   "source": []
  },
  {
   "cell_type": "code",
   "execution_count": null,
   "id": "1bf6f033",
   "metadata": {},
   "outputs": [],
   "source": []
  },
  {
   "cell_type": "code",
   "execution_count": null,
   "id": "4cffe03d",
   "metadata": {},
   "outputs": [],
   "source": []
  },
  {
   "cell_type": "code",
   "execution_count": null,
   "id": "ccfbb87d",
   "metadata": {},
   "outputs": [],
   "source": []
  },
  {
   "cell_type": "code",
   "execution_count": null,
   "id": "eefe3660",
   "metadata": {},
   "outputs": [],
   "source": []
  },
  {
   "cell_type": "code",
   "execution_count": null,
   "id": "12e14fbc",
   "metadata": {},
   "outputs": [],
   "source": []
  },
  {
   "cell_type": "code",
   "execution_count": null,
   "id": "ac22dae6",
   "metadata": {},
   "outputs": [],
   "source": []
  },
  {
   "cell_type": "code",
   "execution_count": null,
   "id": "ad3f0d33",
   "metadata": {},
   "outputs": [],
   "source": []
  },
  {
   "cell_type": "code",
   "execution_count": null,
   "id": "b401dfb9",
   "metadata": {},
   "outputs": [],
   "source": []
  },
  {
   "cell_type": "code",
   "execution_count": null,
   "id": "c814ad18",
   "metadata": {},
   "outputs": [],
   "source": []
  },
  {
   "cell_type": "code",
   "execution_count": null,
   "id": "48a411d4",
   "metadata": {},
   "outputs": [],
   "source": []
  },
  {
   "cell_type": "code",
   "execution_count": null,
   "id": "55ce7e81",
   "metadata": {},
   "outputs": [],
   "source": []
  },
  {
   "cell_type": "code",
   "execution_count": null,
   "id": "5983b230",
   "metadata": {},
   "outputs": [],
   "source": []
  },
  {
   "cell_type": "markdown",
   "id": "000119ea",
   "metadata": {},
   "source": [
    "# Задания"
   ]
  },
  {
   "cell_type": "markdown",
   "id": "565c53a9",
   "metadata": {},
   "source": [
    "#### Описание таблиц лежит [здесь](https://github.com/victorlymarev/pandas/tree/main/tables#%D0%BE%D0%BF%D0%B8%D1%81%D0%B0%D0%BD%D0%B8%D0%B5-%D1%82%D0%B0%D0%B1%D0%BB%D0%B8%D1%86)"
   ]
  },
  {
   "cell_type": "markdown",
   "id": "351968fb",
   "metadata": {},
   "source": [
    "Некоторые таблицы занимают много памяти, поэтому каждые 5-10 заданий лучше перезапускайте ноутбук.\n",
    "\n",
    "В формулировке некоторых заданий может содержаться вариативность. Если у вас есть сомнения, что требуется в задании, попробуйте решить несколько вариантов. Если вы не понимаете задание, можете написать об этом в комментариях под видео.\n",
    "\n",
    "В большинстве случаев внешний вид итоговой таблицы не определен. Выведите на экран наиболее адекватный вариант. То есть таблицу, из которой можно будет сделать выводы.\n",
    "\n",
    "Курс пока находится в разработке. Вы можете помочь другим людям добавив свое решение [сюда](https://docs.google.com/forms/d/1HYTBz_KfssY3Jps2dC3n0YnEqa6WBb5OIhLo1d32Xzw/edit).\n",
    "\n",
    "Посмотреть решения других людей можно [здесь](https://docs.google.com/spreadsheets/d/1pMDYO-9UneLbPPnEuQ2shig0TOJdQTU-zipifyAnZMk/edit?resourcekey#gid=1998648012)"
   ]
  },
  {
   "cell_type": "markdown",
   "id": "195a68c4",
   "metadata": {},
   "source": [
    "### Задание 1\n",
    "Замените все имена в колонке fio с Ольга на Лена"
   ]
  },
  {
   "cell_type": "code",
   "execution_count": null,
   "id": "5977bd44",
   "metadata": {},
   "outputs": [],
   "source": [
    "import os\n",
    "import pandas as pd\n",
    "\n",
    "path_empl = '../tables/employees.parquet' if os.path.exists('../tables/employees.parquet') else 'https://drive.google.com/uc?id=1AARD5-eVlCxoApt5CYZebrC3Cqw42lvj'\n",
    "\n",
    "empl = pd.read_parquet(path_empl)\n",
    "empl.head()"
   ]
  },
  {
   "cell_type": "code",
   "execution_count": null,
   "id": "3f2a121b",
   "metadata": {},
   "outputs": [],
   "source": [
    "# напишите свой код здесь"
   ]
  },
  {
   "cell_type": "markdown",
   "id": "8df41706",
   "metadata": {},
   "source": [
    "### Задание 2\n",
    "\n",
    "Замените все имена в колонке fio с Максим на Павел"
   ]
  },
  {
   "cell_type": "code",
   "execution_count": null,
   "id": "b708781c",
   "metadata": {},
   "outputs": [],
   "source": [
    "import os\n",
    "import pandas as pd\n",
    "\n",
    "path_empl = '../tables/employees.parquet' if os.path.exists('../tables/employees.parquet') else 'https://drive.google.com/uc?id=1AARD5-eVlCxoApt5CYZebrC3Cqw42lvj'\n",
    "\n",
    "empl = pd.read_parquet(path_empl)\n",
    "empl.head()"
   ]
  },
  {
   "cell_type": "code",
   "execution_count": null,
   "id": "057f66b1",
   "metadata": {},
   "outputs": [],
   "source": [
    "# напишите свой код здесь"
   ]
  },
  {
   "cell_type": "markdown",
   "id": "9047ff5e",
   "metadata": {},
   "source": [
    "### Задание 3\n",
    "\n",
    "Найдите человека с самой длинной фамилией"
   ]
  },
  {
   "cell_type": "code",
   "execution_count": null,
   "id": "5ee3c75c",
   "metadata": {},
   "outputs": [],
   "source": [
    "import os\n",
    "import pandas as pd\n",
    "\n",
    "path_empl = '../tables/employees.parquet' if os.path.exists('../tables/employees.parquet') else 'https://drive.google.com/uc?id=1AARD5-eVlCxoApt5CYZebrC3Cqw42lvj'\n",
    "\n",
    "empl = pd.read_parquet(path_empl)\n",
    "empl.head()"
   ]
  },
  {
   "cell_type": "code",
   "execution_count": null,
   "id": "67705026",
   "metadata": {},
   "outputs": [],
   "source": [
    "# напишите свой код здесь"
   ]
  },
  {
   "cell_type": "markdown",
   "id": "8f83d359",
   "metadata": {},
   "source": [
    "### Задание 4\n",
    "\n",
    "Перейдите по одной из ссылок в таблице (поле url)"
   ]
  },
  {
   "cell_type": "code",
   "execution_count": null,
   "id": "a4b5a957",
   "metadata": {},
   "outputs": [],
   "source": [
    "import os\n",
    "import pandas as pd\n",
    "\n",
    "path_goods_descr = '../tables/goods_description.parquet' if os.path.exists('../tables/goods_description.parquet') else 'https://drive.google.com/uc?id=1YbiD02Rev-X_WWV9nPSG1zZFmEh2JjPh'\n",
    "\n",
    "goods_descr = pd.read_parquet(path_goods_descr)\n",
    "goods_descr.head()"
   ]
  },
  {
   "cell_type": "code",
   "execution_count": null,
   "id": "41a8279d",
   "metadata": {},
   "outputs": [],
   "source": [
    "# напишите свой код здесь"
   ]
  },
  {
   "cell_type": "markdown",
   "id": "c69d5ff9",
   "metadata": {},
   "source": [
    "### Задание 5\n",
    "\n",
    "Избавьтесь от названия бренда в названии товара (поле product_name)"
   ]
  },
  {
   "cell_type": "code",
   "execution_count": null,
   "id": "9bd75cd5",
   "metadata": {},
   "outputs": [],
   "source": [
    "import os\n",
    "import pandas as pd\n",
    "\n",
    "path_goods_descr = '../tables/goods_description.parquet' if os.path.exists('../tables/goods_description.parquet') else 'https://drive.google.com/uc?id=1YbiD02Rev-X_WWV9nPSG1zZFmEh2JjPh'\n",
    "\n",
    "goods_descr = pd.read_parquet(path_goods_descr)\n",
    "goods_descr.head()"
   ]
  },
  {
   "cell_type": "code",
   "execution_count": null,
   "id": "7cc4ee5f",
   "metadata": {},
   "outputs": [],
   "source": [
    "# напишите свой код здесь"
   ]
  },
  {
   "cell_type": "markdown",
   "id": "75d6ac18",
   "metadata": {},
   "source": [
    "### Задание 6\n",
    "\n",
    "Если вы посмотрите, на описание товара внимательно, то в нем сначала идет название категории товара, затем слово by, после чего идет название бренда и описание.\n",
    "\n",
    "Создайте колонки engl_cat, в которую положите навзание категории товара из описания, и колонку desc_short, в которую положите описание товара без категории и без бренда. "
   ]
  },
  {
   "cell_type": "code",
   "execution_count": null,
   "id": "63954559",
   "metadata": {},
   "outputs": [],
   "source": [
    "import os\n",
    "import pandas as pd\n",
    "\n",
    "path_goods_descr = '../tables/goods_description.parquet' if os.path.exists('../tables/goods_description.parquet') else 'https://drive.google.com/uc?id=1YbiD02Rev-X_WWV9nPSG1zZFmEh2JjPh'\n",
    "\n",
    "goods_descr = pd.read_parquet(path_goods_descr)\n",
    "goods_descr.head()"
   ]
  },
  {
   "cell_type": "code",
   "execution_count": null,
   "id": "f87b9723",
   "metadata": {},
   "outputs": [],
   "source": [
    "# напишите свой код здесь"
   ]
  },
  {
   "cell_type": "markdown",
   "id": "cdf93ea4",
   "metadata": {},
   "source": [
    "### Задание 7\n",
    "\n",
    "В описании часто указывается посадка одежды (Slim fit, tapered fit, Regular-fit)\n",
    "\n",
    "Давайте попробуем вытащить информацию о ней. Добавьте к концу каждой строки пробел. После чего в отдельную колонку положите слово, которое стоит перед последним словом 'fit ' (с пробелом, чтобы не ловить слова fitting) в строке. Приведите эту строку к нижнему регистру, избавившись от всех лишних значков (- и пробелов)"
   ]
  },
  {
   "cell_type": "code",
   "execution_count": null,
   "id": "d2087207",
   "metadata": {},
   "outputs": [],
   "source": [
    "import os\n",
    "import pandas as pd\n",
    "\n",
    "path_goods_descr = '../tables/goods_description.parquet' if os.path.exists('../tables/goods_description.parquet') else 'https://drive.google.com/uc?id=1YbiD02Rev-X_WWV9nPSG1zZFmEh2JjPh'\n",
    "\n",
    "goods_descr = pd.read_parquet(path_goods_descr)\n",
    "goods_descr.head()"
   ]
  },
  {
   "cell_type": "code",
   "execution_count": null,
   "id": "196237a4",
   "metadata": {},
   "outputs": [],
   "source": [
    "# напишите свой код здесь"
   ]
  },
  {
   "cell_type": "markdown",
   "id": "1e0a4f85",
   "metadata": {},
   "source": [
    "### Задание 8\n",
    "\n",
    "Точно так же в описании часто содержится информация о высоте посадки. Для этого из каждой строки вытащите последнее слово перед словом rise"
   ]
  },
  {
   "cell_type": "code",
   "execution_count": null,
   "id": "33900587",
   "metadata": {},
   "outputs": [],
   "source": [
    "import os\n",
    "import pandas as pd\n",
    "\n",
    "path_goods_descr = '../tables/goods_description.parquet' if os.path.exists('../tables/goods_description.parquet') else 'https://drive.google.com/uc?id=1YbiD02Rev-X_WWV9nPSG1zZFmEh2JjPh'\n",
    "\n",
    "goods_descr = pd.read_parquet(path_goods_descr)\n",
    "goods_descr.head()"
   ]
  },
  {
   "cell_type": "code",
   "execution_count": null,
   "id": "56ce3267",
   "metadata": {},
   "outputs": [],
   "source": [
    "# напишите свой код здесь"
   ]
  },
  {
   "cell_type": "markdown",
   "id": "defa5ed9",
   "metadata": {},
   "source": [
    "### Задание 9\n",
    "\n",
    "Если товар представляет из себя набор предметов, вытащите информацию о количестве предметов в наборе. Она содержится в первом слове после фразы pack of. Пердварительно привидите строку к нижнему регистру."
   ]
  },
  {
   "cell_type": "code",
   "execution_count": null,
   "id": "9da4e224",
   "metadata": {},
   "outputs": [],
   "source": [
    "import os\n",
    "import pandas as pd\n",
    "\n",
    "path_goods_descr = '../tables/goods_description.parquet' if os.path.exists('../tables/goods_description.parquet') else 'https://drive.google.com/uc?id=1YbiD02Rev-X_WWV9nPSG1zZFmEh2JjPh'\n",
    "\n",
    "goods_descr = pd.read_parquet(path_goods_descr)\n",
    "goods_descr.head()"
   ]
  },
  {
   "cell_type": "code",
   "execution_count": null,
   "id": "f37d51cd",
   "metadata": {},
   "outputs": [],
   "source": [
    "# напишите свой код здесь"
   ]
  },
  {
   "cell_type": "markdown",
   "id": "937d9421",
   "metadata": {},
   "source": [
    "### Задание 10\n",
    "\n",
    "\n",
    "Удалите дубликаты описаний. После этого посчитайте самые частые слова в описаниях. \n",
    "\n",
    "Дополнительно можете сделать это для очищенных описаний, в которых не указан бренд и категория товара. Это поможет вам дальше исследовать описания"
   ]
  },
  {
   "cell_type": "code",
   "execution_count": null,
   "id": "923203ab",
   "metadata": {},
   "outputs": [],
   "source": [
    "import os\n",
    "import pandas as pd\n",
    "\n",
    "path_goods_descr = '../tables/goods_description.parquet' if os.path.exists('../tables/goods_description.parquet') else 'https://drive.google.com/uc?id=1YbiD02Rev-X_WWV9nPSG1zZFmEh2JjPh'\n",
    "\n",
    "goods_descr = pd.read_parquet(path_goods_descr)\n",
    "goods_descr.head()"
   ]
  },
  {
   "cell_type": "code",
   "execution_count": null,
   "id": "2bc82830",
   "metadata": {},
   "outputs": [],
   "source": [
    "# напишите свой код здесь"
   ]
  },
  {
   "cell_type": "code",
   "execution_count": null,
   "id": "0c39187b",
   "metadata": {},
   "outputs": [],
   "source": []
  },
  {
   "cell_type": "code",
   "execution_count": null,
   "id": "58ce89ff",
   "metadata": {},
   "outputs": [],
   "source": []
  },
  {
   "cell_type": "code",
   "execution_count": null,
   "id": "3865b345",
   "metadata": {},
   "outputs": [],
   "source": []
  },
  {
   "cell_type": "code",
   "execution_count": null,
   "id": "790b67e2",
   "metadata": {},
   "outputs": [],
   "source": []
  }
 ],
 "metadata": {
  "kernelspec": {
   "display_name": "Python 3 (ipykernel)",
   "language": "python",
   "name": "python3"
  },
  "language_info": {
   "codemirror_mode": {
    "name": "ipython",
    "version": 3
   },
   "file_extension": ".py",
   "mimetype": "text/x-python",
   "name": "python",
   "nbconvert_exporter": "python",
   "pygments_lexer": "ipython3",
   "version": "3.11.5"
  }
 },
 "nbformat": 4,
 "nbformat_minor": 5
}
