{
 "cells": [
  {
   "cell_type": "markdown",
   "id": "91497d7c",
   "metadata": {},
   "source": [
    "<a target=\"_blank\" href=\"https://colab.research.google.com/github/victorlymarev/pandas/blob/main/notebooks/19-strings.ipynb\">\n",
    "  <img src=\"https://colab.research.google.com/assets/colab-badge.svg\" alt=\"Open In Colab\"/>\n",
    "</a>"
   ]
  },
  {
   "cell_type": "code",
   "execution_count": 1,
   "id": "b75313ca",
   "metadata": {},
   "outputs": [],
   "source": [
    "import pandas as pd\n",
    "import os"
   ]
  },
  {
   "cell_type": "markdown",
   "id": "e0ba618b",
   "metadata": {},
   "source": [
    "Читаем таблицы"
   ]
  },
  {
   "cell_type": "code",
   "execution_count": 2,
   "id": "2f02e910",
   "metadata": {},
   "outputs": [
    {
     "data": {
      "text/plain": [
       "0        Shirts by River Island Do the smart thing Spre...\n",
       "1        Shirts by River Island Do the smart thing Spre...\n",
       "2        Shirts by River Island Do the smart thing Spre...\n",
       "3        Shirts by River Island Do the smart thing Spre...\n",
       "4        Shirts by River Island Do the smart thing Spre...\n",
       "                               ...                        \n",
       "81853    Leggings by Missguided Go with the faux High r...\n",
       "81854    Leggings by Missguided Go with the faux High r...\n",
       "81855    Trousers by NaaNaa For your non-denim days Dog...\n",
       "81856    Trousers by NaaNaa For your non-denim days Dog...\n",
       "81857    Trousers by NaaNaa For your non-denim days Dog...\n",
       "Name: description, Length: 81858, dtype: string"
      ]
     },
     "execution_count": 2,
     "metadata": {},
     "output_type": "execute_result"
    }
   ],
   "source": [
    "path_goods_descr = '../tables/goods_description.parquet' if os.path.exists('../tables/goods_description.parquet') else 'https://drive.google.com/uc?id=1YbiD02Rev-X_WWV9nPSG1zZFmEh2JjPh'\n",
    "path_empl = '../tables/employees.parquet' if os.path.exists('../tables/employees.parquet') else 'https://drive.google.com/uc?id=1AARD5-eVlCxoApt5CYZebrC3Cqw42lvj'\n",
    "\n",
    "goods_descr = pd.read_parquet(path_goods_descr)\n",
    "empl = pd.read_parquet(path_empl)\n",
    "goods_descr['description']"
   ]
  },
  {
   "cell_type": "markdown",
   "id": "026065de",
   "metadata": {},
   "source": [
    "#### Чтобы посмотреть строки полностью, можно преобразовать колонку в список"
   ]
  },
  {
   "cell_type": "code",
   "execution_count": 3,
   "id": "ca333a15",
   "metadata": {},
   "outputs": [
    {
     "data": {
      "text/plain": [
       "['Shirts by River Island Do the smart thing Spread collar Press-stud placket Slim fit',\n",
       " 'Shirts by River Island Do the smart thing Spread collar Press-stud placket Slim fit',\n",
       " 'Shirts by River Island Do the smart thing Spread collar Press-stud placket Slim fit',\n",
       " 'Shirts by River Island Do the smart thing Spread collar Press-stud placket Slim fit',\n",
       " 'Shirts by River Island Do the smart thing Spread collar Press-stud placket Slim fit',\n",
       " 'T-Shirts & Vests by River Island File under: basics Pack of five Crew neck Short sleeves Regular fit',\n",
       " 'T-Shirts & Vests by River Island File under: basics Pack of five Crew neck Short sleeves Regular fit',\n",
       " 'T-Shirts & Vests by River Island File under: basics Pack of five Crew neck Short sleeves Regular fit',\n",
       " 'T-Shirts & Vests by River Island File under: basics Pack of five Crew neck Short sleeves Regular fit',\n",
       " 'T-Shirts & Vests by River Island File under: basics Pack of five Crew neck Short sleeves Regular fit']"
      ]
     },
     "execution_count": 3,
     "metadata": {},
     "output_type": "execute_result"
    }
   ],
   "source": [
    "goods_descr['description'].head(10).tolist()"
   ]
  },
  {
   "cell_type": "markdown",
   "id": "c7c59a35",
   "metadata": {},
   "source": [
    "#### Приведение строк к нижнему регистру"
   ]
  },
  {
   "cell_type": "code",
   "execution_count": 4,
   "id": "f7e56499",
   "metadata": {},
   "outputs": [
    {
     "data": {
      "text/plain": [
       "0        shirts by river island do the smart thing spre...\n",
       "1        shirts by river island do the smart thing spre...\n",
       "2        shirts by river island do the smart thing spre...\n",
       "3        shirts by river island do the smart thing spre...\n",
       "4        shirts by river island do the smart thing spre...\n",
       "                               ...                        \n",
       "81853    leggings by missguided go with the faux high r...\n",
       "81854    leggings by missguided go with the faux high r...\n",
       "81855    trousers by naanaa for your non-denim days dog...\n",
       "81856    trousers by naanaa for your non-denim days dog...\n",
       "81857    trousers by naanaa for your non-denim days dog...\n",
       "Name: description, Length: 81858, dtype: string"
      ]
     },
     "execution_count": 4,
     "metadata": {},
     "output_type": "execute_result"
    }
   ],
   "source": [
    "goods_descr['description'].str.lower()"
   ]
  },
  {
   "cell_type": "markdown",
   "id": "d7e152de",
   "metadata": {},
   "source": [
    "#### Приведение строк к верхнему регистру"
   ]
  },
  {
   "cell_type": "code",
   "execution_count": 5,
   "id": "e8691e32",
   "metadata": {},
   "outputs": [
    {
     "data": {
      "text/plain": [
       "0        SHIRTS BY RIVER ISLAND DO THE SMART THING SPRE...\n",
       "1        SHIRTS BY RIVER ISLAND DO THE SMART THING SPRE...\n",
       "2        SHIRTS BY RIVER ISLAND DO THE SMART THING SPRE...\n",
       "3        SHIRTS BY RIVER ISLAND DO THE SMART THING SPRE...\n",
       "4        SHIRTS BY RIVER ISLAND DO THE SMART THING SPRE...\n",
       "                               ...                        \n",
       "81853    LEGGINGS BY MISSGUIDED GO WITH THE FAUX HIGH R...\n",
       "81854    LEGGINGS BY MISSGUIDED GO WITH THE FAUX HIGH R...\n",
       "81855    TROUSERS BY NAANAA FOR YOUR NON-DENIM DAYS DOG...\n",
       "81856    TROUSERS BY NAANAA FOR YOUR NON-DENIM DAYS DOG...\n",
       "81857    TROUSERS BY NAANAA FOR YOUR NON-DENIM DAYS DOG...\n",
       "Name: description, Length: 81858, dtype: string"
      ]
     },
     "execution_count": 5,
     "metadata": {},
     "output_type": "execute_result"
    }
   ],
   "source": [
    "goods_descr['description'].str.upper()"
   ]
  },
  {
   "cell_type": "markdown",
   "id": "304b6e74",
   "metadata": {},
   "source": [
    "#### Первая буква - заглавная, а остальные строчные"
   ]
  },
  {
   "cell_type": "code",
   "execution_count": 6,
   "id": "69edec3c",
   "metadata": {},
   "outputs": [
    {
     "data": {
      "text/plain": [
       "0        Shirts by river island do the smart thing spre...\n",
       "1        Shirts by river island do the smart thing spre...\n",
       "2        Shirts by river island do the smart thing spre...\n",
       "3        Shirts by river island do the smart thing spre...\n",
       "4        Shirts by river island do the smart thing spre...\n",
       "                               ...                        \n",
       "81853    Leggings by missguided go with the faux high r...\n",
       "81854    Leggings by missguided go with the faux high r...\n",
       "81855    Trousers by naanaa for your non-denim days dog...\n",
       "81856    Trousers by naanaa for your non-denim days dog...\n",
       "81857    Trousers by naanaa for your non-denim days dog...\n",
       "Name: description, Length: 81858, dtype: string"
      ]
     },
     "execution_count": 6,
     "metadata": {},
     "output_type": "execute_result"
    }
   ],
   "source": [
    "goods_descr['description'].str.capitalize()"
   ]
  },
  {
   "cell_type": "markdown",
   "id": "4e8b61d5",
   "metadata": {},
   "source": [
    "#### Первая буква в каждом слове - заглавная, а остальные строчные"
   ]
  },
  {
   "cell_type": "code",
   "execution_count": 7,
   "id": "bbf565bc",
   "metadata": {},
   "outputs": [
    {
     "data": {
      "text/plain": [
       "0        Shirts By River Island Do The Smart Thing Spre...\n",
       "1        Shirts By River Island Do The Smart Thing Spre...\n",
       "2        Shirts By River Island Do The Smart Thing Spre...\n",
       "3        Shirts By River Island Do The Smart Thing Spre...\n",
       "4        Shirts By River Island Do The Smart Thing Spre...\n",
       "                               ...                        \n",
       "81853    Leggings By Missguided Go With The Faux High R...\n",
       "81854    Leggings By Missguided Go With The Faux High R...\n",
       "81855    Trousers By Naanaa For Your Non-Denim Days Dog...\n",
       "81856    Trousers By Naanaa For Your Non-Denim Days Dog...\n",
       "81857    Trousers By Naanaa For Your Non-Denim Days Dog...\n",
       "Name: description, Length: 81858, dtype: string"
      ]
     },
     "execution_count": 7,
     "metadata": {},
     "output_type": "execute_result"
    }
   ],
   "source": [
    "goods_descr['description'].str.title()"
   ]
  },
  {
   "cell_type": "markdown",
   "id": "b002a96f",
   "metadata": {},
   "source": [
    "#### Заглавные и строчные буквы меняются"
   ]
  },
  {
   "cell_type": "code",
   "execution_count": 8,
   "id": "a78f080e",
   "metadata": {},
   "outputs": [
    {
     "data": {
      "text/plain": [
       "0        sHIRTS BY rIVER iSLAND dO THE SMART THING sPRE...\n",
       "1        sHIRTS BY rIVER iSLAND dO THE SMART THING sPRE...\n",
       "2        sHIRTS BY rIVER iSLAND dO THE SMART THING sPRE...\n",
       "3        sHIRTS BY rIVER iSLAND dO THE SMART THING sPRE...\n",
       "4        sHIRTS BY rIVER iSLAND dO THE SMART THING sPRE...\n",
       "                               ...                        \n",
       "81853    lEGGINGS BY mISSGUIDED gO WITH THE FAUX hIGH R...\n",
       "81854    lEGGINGS BY mISSGUIDED gO WITH THE FAUX hIGH R...\n",
       "81855    tROUSERS BY nAAnAA fOR YOUR NON-DENIM DAYS dOG...\n",
       "81856    tROUSERS BY nAAnAA fOR YOUR NON-DENIM DAYS dOG...\n",
       "81857    tROUSERS BY nAAnAA fOR YOUR NON-DENIM DAYS dOG...\n",
       "Name: description, Length: 81858, dtype: string"
      ]
     },
     "execution_count": 8,
     "metadata": {},
     "output_type": "execute_result"
    }
   ],
   "source": [
    "goods_descr['description'].str.swapcase()"
   ]
  },
  {
   "cell_type": "markdown",
   "id": "d7eb14a4",
   "metadata": {},
   "source": [
    "#### Срезы строк\n",
    "Берем первые я символов в каждой строке"
   ]
  },
  {
   "cell_type": "code",
   "execution_count": 9,
   "id": "1bbf9320",
   "metadata": {},
   "outputs": [
    {
     "data": {
      "text/plain": [
       "0        Shirt\n",
       "1        Shirt\n",
       "2        Shirt\n",
       "3        Shirt\n",
       "4        Shirt\n",
       "         ...  \n",
       "81853    Leggi\n",
       "81854    Leggi\n",
       "81855    Trous\n",
       "81856    Trous\n",
       "81857    Trous\n",
       "Name: description, Length: 81858, dtype: string"
      ]
     },
     "execution_count": 9,
     "metadata": {},
     "output_type": "execute_result"
    }
   ],
   "source": [
    "goods_descr['description'].str[:5]"
   ]
  },
  {
   "cell_type": "code",
   "execution_count": 10,
   "id": "ba4b2aa7",
   "metadata": {},
   "outputs": [
    {
     "data": {
      "text/plain": [
       "0        by River Is\n",
       "1        by River Is\n",
       "2        by River Is\n",
       "3        by River Is\n",
       "4        by River Is\n",
       "            ...     \n",
       "81853    s by Missgu\n",
       "81854    s by Missgu\n",
       "81855    s by NaaNaa\n",
       "81856    s by NaaNaa\n",
       "81857    s by NaaNaa\n",
       "Name: description, Length: 81858, dtype: string"
      ]
     },
     "execution_count": 10,
     "metadata": {},
     "output_type": "execute_result"
    }
   ],
   "source": [
    "goods_descr['description'].str[7:18]"
   ]
  },
  {
   "cell_type": "code",
   "execution_count": 11,
   "id": "81fbdf7e",
   "metadata": {},
   "outputs": [
    {
     "data": {
      "text/plain": [
       "0        t Slim fit\n",
       "1        t Slim fit\n",
       "2        t Slim fit\n",
       "3        t Slim fit\n",
       "4        t Slim fit\n",
       "            ...    \n",
       "81853    odycon fit\n",
       "81854    odycon fit\n",
       "81855     the waist\n",
       "81856     the waist\n",
       "81857     the waist\n",
       "Name: description, Length: 81858, dtype: string"
      ]
     },
     "execution_count": 11,
     "metadata": {},
     "output_type": "execute_result"
    }
   ],
   "source": [
    "goods_descr['description'].str[-10:]"
   ]
  },
  {
   "cell_type": "markdown",
   "id": "5d496487",
   "metadata": {},
   "source": [
    "#### Убираем строку из начала или конца строки если она есть"
   ]
  },
  {
   "cell_type": "code",
   "execution_count": 12,
   "id": "56cf2c01",
   "metadata": {},
   "outputs": [
    {
     "data": {
      "text/plain": [
       "0        Shirts by River Island Do the smart thing Spre...\n",
       "1        Shirts by River Island Do the smart thing Spre...\n",
       "2        Shirts by River Island Do the smart thing Spre...\n",
       "3        Shirts by River Island Do the smart thing Spre...\n",
       "4        Shirts by River Island Do the smart thing Spre...\n",
       "                               ...                        \n",
       "81853    Leggings by Missguided Go with the faux High r...\n",
       "81854    Leggings by Missguided Go with the faux High r...\n",
       "81855    Trousers by NaaNaa For your non-denim days Dog...\n",
       "81856    Trousers by NaaNaa For your non-denim days Dog...\n",
       "81857    Trousers by NaaNaa For your non-denim days Dog...\n",
       "Name: description, Length: 81858, dtype: string"
      ]
     },
     "execution_count": 12,
     "metadata": {},
     "output_type": "execute_result"
    }
   ],
   "source": [
    "goods_descr['description']"
   ]
  },
  {
   "cell_type": "code",
   "execution_count": 13,
   "id": "902c2e2d",
   "metadata": {},
   "outputs": [
    {
     "data": {
      "text/plain": [
       "0         by River Island Do the smart thing Spread col...\n",
       "1         by River Island Do the smart thing Spread col...\n",
       "2         by River Island Do the smart thing Spread col...\n",
       "3         by River Island Do the smart thing Spread col...\n",
       "4         by River Island Do the smart thing Spread col...\n",
       "                               ...                        \n",
       "81853    Leggings by Missguided Go with the faux High r...\n",
       "81854    Leggings by Missguided Go with the faux High r...\n",
       "81855    Trousers by NaaNaa For your non-denim days Dog...\n",
       "81856    Trousers by NaaNaa For your non-denim days Dog...\n",
       "81857    Trousers by NaaNaa For your non-denim days Dog...\n",
       "Name: description, Length: 81858, dtype: string"
      ]
     },
     "execution_count": 13,
     "metadata": {},
     "output_type": "execute_result"
    }
   ],
   "source": [
    "goods_descr['description'].str.removeprefix('Shirts')"
   ]
  },
  {
   "cell_type": "code",
   "execution_count": 14,
   "id": "a86a8ffb",
   "metadata": {},
   "outputs": [
    {
     "data": {
      "text/plain": [
       "['Leggings by Missguided Go with the faux High rise Elasticated waist Bodycon fit',\n",
       " 'Leggings by Missguided Go with the faux High rise Elasticated waist Bodycon fit',\n",
       " 'Leggings by Missguided Go with the faux High rise Elasticated waist Bodycon fit',\n",
       " 'Leggings by Missguided Go with the faux High rise Elasticated waist Bodycon fit',\n",
       " 'Leggings by Missguided Go with the faux High rise Elasticated waist Bodycon fit',\n",
       " 'Leggings by Missguided Go with the faux High rise Elasticated waist Bodycon fit',\n",
       " 'Leggings by Missguided Go with the faux High rise Elasticated waist Bodycon fit',\n",
       " 'Trousers by NaaNaa For your non-denim days Dogtooth pattern High rise Split cuffs Zip-side fastening Straight fit Regular on the waist',\n",
       " 'Trousers by NaaNaa For your non-denim days Dogtooth pattern High rise Split cuffs Zip-side fastening Straight fit Regular on the waist',\n",
       " 'Trousers by NaaNaa For your non-denim days Dogtooth pattern High rise Split cuffs Zip-side fastening Straight fit Regular on the waist']"
      ]
     },
     "execution_count": 14,
     "metadata": {},
     "output_type": "execute_result"
    }
   ],
   "source": [
    "goods_descr['description'].iloc[-10:].tolist()"
   ]
  },
  {
   "cell_type": "code",
   "execution_count": 15,
   "id": "0f9f323c",
   "metadata": {},
   "outputs": [
    {
     "data": {
      "text/plain": [
       "['Leggings by Missguided Go with the faux High rise Elasticated waist Bodycon ',\n",
       " 'Leggings by Missguided Go with the faux High rise Elasticated waist Bodycon ',\n",
       " 'Leggings by Missguided Go with the faux High rise Elasticated waist Bodycon ',\n",
       " 'Leggings by Missguided Go with the faux High rise Elasticated waist Bodycon ',\n",
       " 'Leggings by Missguided Go with the faux High rise Elasticated waist Bodycon ',\n",
       " 'Leggings by Missguided Go with the faux High rise Elasticated waist Bodycon ',\n",
       " 'Leggings by Missguided Go with the faux High rise Elasticated waist Bodycon ',\n",
       " 'Trousers by NaaNaa For your non-denim days Dogtooth pattern High rise Split cuffs Zip-side fastening Straight fit Regular on the waist',\n",
       " 'Trousers by NaaNaa For your non-denim days Dogtooth pattern High rise Split cuffs Zip-side fastening Straight fit Regular on the waist',\n",
       " 'Trousers by NaaNaa For your non-denim days Dogtooth pattern High rise Split cuffs Zip-side fastening Straight fit Regular on the waist']"
      ]
     },
     "execution_count": 15,
     "metadata": {},
     "output_type": "execute_result"
    }
   ],
   "source": [
    "goods_descr['description'].str.removesuffix('fit').iloc[-10:].tolist()"
   ]
  },
  {
   "cell_type": "markdown",
   "id": "f41af96a",
   "metadata": {},
   "source": [
    "#### strip удаляет указанные символы из начала и конца строки \n",
    "\n",
    "lstrip удаляет символы из начала строки\n",
    "\n",
    "rstrip удаляет символы из конца строки"
   ]
  },
  {
   "cell_type": "code",
   "execution_count": 16,
   "id": "3c68ad8a",
   "metadata": {},
   "outputs": [
    {
     "data": {
      "text/plain": [
       "['Shirts by River Island Do the smart thing Spread collar Press-stud placket Slim fit',\n",
       " 'Shirts by River Island Do the smart thing Spread collar Press-stud placket Slim fit',\n",
       " 'Shirts by River Island Do the smart thing Spread collar Press-stud placket Slim fit',\n",
       " 'Shirts by River Island Do the smart thing Spread collar Press-stud placket Slim fit',\n",
       " 'Shirts by River Island Do the smart thing Spread collar Press-stud placket Slim fit',\n",
       " 'T-Shirts & Vests by River Island File under: basics Pack of five Crew neck Short sleeves Regular fit',\n",
       " 'T-Shirts & Vests by River Island File under: basics Pack of five Crew neck Short sleeves Regular fit']"
      ]
     },
     "execution_count": 16,
     "metadata": {},
     "output_type": "execute_result"
    }
   ],
   "source": [
    "goods_descr['description'].head(7).tolist()"
   ]
  },
  {
   "cell_type": "code",
   "execution_count": 17,
   "id": "c75bb8db",
   "metadata": {},
   "outputs": [
    {
     "data": {
      "text/plain": [
       "['irts by River Island Do the smart thing Spread collar Press-stud placket Slim fi',\n",
       " 'irts by River Island Do the smart thing Spread collar Press-stud placket Slim fi',\n",
       " 'irts by River Island Do the smart thing Spread collar Press-stud placket Slim fi',\n",
       " 'irts by River Island Do the smart thing Spread collar Press-stud placket Slim fi',\n",
       " 'irts by River Island Do the smart thing Spread collar Press-stud placket Slim fi',\n",
       " 'T-Shirts & Vests by River Island File under: basics Pack of five Crew neck Short sleeves Regular fi',\n",
       " 'T-Shirts & Vests by River Island File under: basics Pack of five Crew neck Short sleeves Regular fi']"
      ]
     },
     "execution_count": 17,
     "metadata": {},
     "output_type": "execute_result"
    }
   ],
   "source": [
    "goods_descr['description'].head(7).str.strip('SLht').tolist()"
   ]
  },
  {
   "cell_type": "markdown",
   "id": "15bed97a",
   "metadata": {},
   "source": [
    "#### Расчет длинны строки"
   ]
  },
  {
   "cell_type": "code",
   "execution_count": 18,
   "id": "1d27ed42",
   "metadata": {},
   "outputs": [
    {
     "data": {
      "text/plain": [
       "0         83\n",
       "1         83\n",
       "2         83\n",
       "3         83\n",
       "4         83\n",
       "        ... \n",
       "81853     79\n",
       "81854     79\n",
       "81855    134\n",
       "81856    134\n",
       "81857    134\n",
       "Name: description, Length: 81858, dtype: Int64"
      ]
     },
     "execution_count": 18,
     "metadata": {},
     "output_type": "execute_result"
    }
   ],
   "source": [
    "goods_descr['description'].str.len()"
   ]
  },
  {
   "cell_type": "markdown",
   "id": "7fff13e0",
   "metadata": {},
   "source": [
    "#### Поиск первой подстроки в строке\n",
    "Метод find возващает индекс первого символа подстроки в строке\n",
    "\n",
    "Если подстрока не нашлась возвращается -1"
   ]
  },
  {
   "cell_type": "code",
   "execution_count": 19,
   "id": "ff6a7a4b",
   "metadata": {},
   "outputs": [
    {
     "data": {
      "text/plain": [
       "0                Кожевников Андрей Максимович\n",
       "1                 Дубинина Надежда Николаевна\n",
       "2        Вишневскиая Валентина Константиновна\n",
       "3               Литвинов Александр Максимович\n",
       "4                   Черняева Валерия Глебовна\n",
       "                         ...                 \n",
       "29367              Морозова Раиса Ярославовна\n",
       "29368              Фадеева Евгения Данииловна\n",
       "29369             Измайлов Григорий Артемович\n",
       "29370               Русаков Евгений Тимурович\n",
       "29371                Суханова Дарья Фёдоровна\n",
       "Name: fio, Length: 29372, dtype: string"
      ]
     },
     "execution_count": 19,
     "metadata": {},
     "output_type": "execute_result"
    }
   ],
   "source": [
    "empl['fio']"
   ]
  },
  {
   "cell_type": "code",
   "execution_count": 20,
   "id": "58f7d66e",
   "metadata": {},
   "outputs": [
    {
     "data": {
      "text/plain": [
       "0        11\n",
       "1        -1\n",
       "2        -1\n",
       "3        -1\n",
       "4        -1\n",
       "         ..\n",
       "29367    -1\n",
       "29368    -1\n",
       "29369    -1\n",
       "29370    -1\n",
       "29371    -1\n",
       "Name: fio, Length: 29372, dtype: Int64"
      ]
     },
     "execution_count": 20,
     "metadata": {},
     "output_type": "execute_result"
    }
   ],
   "source": [
    "empl['fio'].str.find('Андрей')"
   ]
  },
  {
   "cell_type": "markdown",
   "id": "ac9f40c4",
   "metadata": {},
   "source": [
    "#### На основе этого можно фильтровать строки таблицы"
   ]
  },
  {
   "cell_type": "code",
   "execution_count": 21,
   "id": "fee435fa",
   "metadata": {},
   "outputs": [
    {
     "data": {
      "text/html": [
       "<div>\n",
       "<style scoped>\n",
       "    .dataframe tbody tr th:only-of-type {\n",
       "        vertical-align: middle;\n",
       "    }\n",
       "\n",
       "    .dataframe tbody tr th {\n",
       "        vertical-align: top;\n",
       "    }\n",
       "\n",
       "    .dataframe thead th {\n",
       "        text-align: right;\n",
       "    }\n",
       "</style>\n",
       "<table border=\"1\" class=\"dataframe\">\n",
       "  <thead>\n",
       "    <tr style=\"text-align: right;\">\n",
       "      <th></th>\n",
       "      <th>report_dt</th>\n",
       "      <th>i_pernr</th>\n",
       "      <th>fio</th>\n",
       "      <th>sex</th>\n",
       "      <th>shop_id</th>\n",
       "      <th>pos_name</th>\n",
       "      <th>pos_id</th>\n",
       "      <th>closest_boss_pos_id</th>\n",
       "      <th>mgmt_flag</th>\n",
       "      <th>salary_fork</th>\n",
       "      <th>birth_date</th>\n",
       "      <th>education</th>\n",
       "      <th>employee_evaluation</th>\n",
       "      <th>salary</th>\n",
       "    </tr>\n",
       "  </thead>\n",
       "  <tbody>\n",
       "    <tr>\n",
       "      <th>0</th>\n",
       "      <td>2015-01-31</td>\n",
       "      <td>100000</td>\n",
       "      <td>Кожевников Андрей Максимович</td>\n",
       "      <td>мужской</td>\n",
       "      <td>1</td>\n",
       "      <td>Директор магазина</td>\n",
       "      <td>11</td>\n",
       "      <td>&lt;NA&gt;</td>\n",
       "      <td>1</td>\n",
       "      <td>0</td>\n",
       "      <td>1987-03-11</td>\n",
       "      <td>высшее</td>\n",
       "      <td>5</td>\n",
       "      <td>45700.0</td>\n",
       "    </tr>\n",
       "    <tr>\n",
       "      <th>10</th>\n",
       "      <td>2015-02-28</td>\n",
       "      <td>100000</td>\n",
       "      <td>Кожевников Андрей Максимович</td>\n",
       "      <td>мужской</td>\n",
       "      <td>1</td>\n",
       "      <td>Директор магазина</td>\n",
       "      <td>11</td>\n",
       "      <td>&lt;NA&gt;</td>\n",
       "      <td>1</td>\n",
       "      <td>0</td>\n",
       "      <td>1987-03-11</td>\n",
       "      <td>высшее</td>\n",
       "      <td>5</td>\n",
       "      <td>45700.0</td>\n",
       "    </tr>\n",
       "    <tr>\n",
       "      <th>22</th>\n",
       "      <td>2015-03-31</td>\n",
       "      <td>100000</td>\n",
       "      <td>Кожевников Андрей Максимович</td>\n",
       "      <td>мужской</td>\n",
       "      <td>1</td>\n",
       "      <td>Директор магазина</td>\n",
       "      <td>11</td>\n",
       "      <td>&lt;NA&gt;</td>\n",
       "      <td>1</td>\n",
       "      <td>0</td>\n",
       "      <td>1987-03-11</td>\n",
       "      <td>высшее</td>\n",
       "      <td>5</td>\n",
       "      <td>45700.0</td>\n",
       "    </tr>\n",
       "    <tr>\n",
       "      <th>35</th>\n",
       "      <td>2015-04-30</td>\n",
       "      <td>100000</td>\n",
       "      <td>Кожевников Андрей Максимович</td>\n",
       "      <td>мужской</td>\n",
       "      <td>1</td>\n",
       "      <td>Директор магазина</td>\n",
       "      <td>11</td>\n",
       "      <td>&lt;NA&gt;</td>\n",
       "      <td>1</td>\n",
       "      <td>0</td>\n",
       "      <td>1987-03-11</td>\n",
       "      <td>высшее</td>\n",
       "      <td>6</td>\n",
       "      <td>45700.0</td>\n",
       "    </tr>\n",
       "    <tr>\n",
       "      <th>49</th>\n",
       "      <td>2015-04-30</td>\n",
       "      <td>100002</td>\n",
       "      <td>Широков Андрей Константинович</td>\n",
       "      <td>мужской</td>\n",
       "      <td>2</td>\n",
       "      <td>Заместитель директора магазина</td>\n",
       "      <td>22</td>\n",
       "      <td>21</td>\n",
       "      <td>1</td>\n",
       "      <td>0</td>\n",
       "      <td>1973-01-17</td>\n",
       "      <td>высшее</td>\n",
       "      <td>&lt;NA&gt;</td>\n",
       "      <td>67600.0</td>\n",
       "    </tr>\n",
       "  </tbody>\n",
       "</table>\n",
       "</div>"
      ],
      "text/plain": [
       "    report_dt  i_pernr                            fio      sex  shop_id  \\\n",
       "0  2015-01-31   100000   Кожевников Андрей Максимович  мужской        1   \n",
       "10 2015-02-28   100000   Кожевников Андрей Максимович  мужской        1   \n",
       "22 2015-03-31   100000   Кожевников Андрей Максимович  мужской        1   \n",
       "35 2015-04-30   100000   Кожевников Андрей Максимович  мужской        1   \n",
       "49 2015-04-30   100002  Широков Андрей Константинович  мужской        2   \n",
       "\n",
       "                          pos_name  pos_id  closest_boss_pos_id  mgmt_flag  \\\n",
       "0                Директор магазина      11                 <NA>          1   \n",
       "10               Директор магазина      11                 <NA>          1   \n",
       "22               Директор магазина      11                 <NA>          1   \n",
       "35               Директор магазина      11                 <NA>          1   \n",
       "49  Заместитель директора магазина      22                   21          1   \n",
       "\n",
       "    salary_fork birth_date education  employee_evaluation   salary  \n",
       "0             0 1987-03-11    высшее                    5  45700.0  \n",
       "10            0 1987-03-11    высшее                    5  45700.0  \n",
       "22            0 1987-03-11    высшее                    5  45700.0  \n",
       "35            0 1987-03-11    высшее                    6  45700.0  \n",
       "49            0 1973-01-17    высшее                 <NA>  67600.0  "
      ]
     },
     "execution_count": 21,
     "metadata": {},
     "output_type": "execute_result"
    }
   ],
   "source": [
    "empl.query('fio.str.find(\"Андрей\") >= 0').head()"
   ]
  },
  {
   "cell_type": "code",
   "execution_count": 22,
   "id": "d463d660",
   "metadata": {},
   "outputs": [
    {
     "data": {
      "text/html": [
       "<div>\n",
       "<style scoped>\n",
       "    .dataframe tbody tr th:only-of-type {\n",
       "        vertical-align: middle;\n",
       "    }\n",
       "\n",
       "    .dataframe tbody tr th {\n",
       "        vertical-align: top;\n",
       "    }\n",
       "\n",
       "    .dataframe thead th {\n",
       "        text-align: right;\n",
       "    }\n",
       "</style>\n",
       "<table border=\"1\" class=\"dataframe\">\n",
       "  <thead>\n",
       "    <tr style=\"text-align: right;\">\n",
       "      <th></th>\n",
       "      <th>report_dt</th>\n",
       "      <th>i_pernr</th>\n",
       "      <th>fio</th>\n",
       "      <th>sex</th>\n",
       "      <th>shop_id</th>\n",
       "      <th>pos_name</th>\n",
       "      <th>pos_id</th>\n",
       "      <th>closest_boss_pos_id</th>\n",
       "      <th>mgmt_flag</th>\n",
       "      <th>salary_fork</th>\n",
       "      <th>birth_date</th>\n",
       "      <th>education</th>\n",
       "      <th>employee_evaluation</th>\n",
       "      <th>salary</th>\n",
       "    </tr>\n",
       "  </thead>\n",
       "  <tbody>\n",
       "    <tr>\n",
       "      <th>0</th>\n",
       "      <td>2015-01-31</td>\n",
       "      <td>100000</td>\n",
       "      <td>Кожевников Андрей Максимович</td>\n",
       "      <td>мужской</td>\n",
       "      <td>1</td>\n",
       "      <td>Директор магазина</td>\n",
       "      <td>11</td>\n",
       "      <td>&lt;NA&gt;</td>\n",
       "      <td>1</td>\n",
       "      <td>0</td>\n",
       "      <td>1987-03-11</td>\n",
       "      <td>высшее</td>\n",
       "      <td>5</td>\n",
       "      <td>45700.0</td>\n",
       "    </tr>\n",
       "    <tr>\n",
       "      <th>10</th>\n",
       "      <td>2015-02-28</td>\n",
       "      <td>100000</td>\n",
       "      <td>Кожевников Андрей Максимович</td>\n",
       "      <td>мужской</td>\n",
       "      <td>1</td>\n",
       "      <td>Директор магазина</td>\n",
       "      <td>11</td>\n",
       "      <td>&lt;NA&gt;</td>\n",
       "      <td>1</td>\n",
       "      <td>0</td>\n",
       "      <td>1987-03-11</td>\n",
       "      <td>высшее</td>\n",
       "      <td>5</td>\n",
       "      <td>45700.0</td>\n",
       "    </tr>\n",
       "    <tr>\n",
       "      <th>22</th>\n",
       "      <td>2015-03-31</td>\n",
       "      <td>100000</td>\n",
       "      <td>Кожевников Андрей Максимович</td>\n",
       "      <td>мужской</td>\n",
       "      <td>1</td>\n",
       "      <td>Директор магазина</td>\n",
       "      <td>11</td>\n",
       "      <td>&lt;NA&gt;</td>\n",
       "      <td>1</td>\n",
       "      <td>0</td>\n",
       "      <td>1987-03-11</td>\n",
       "      <td>высшее</td>\n",
       "      <td>5</td>\n",
       "      <td>45700.0</td>\n",
       "    </tr>\n",
       "    <tr>\n",
       "      <th>35</th>\n",
       "      <td>2015-04-30</td>\n",
       "      <td>100000</td>\n",
       "      <td>Кожевников Андрей Максимович</td>\n",
       "      <td>мужской</td>\n",
       "      <td>1</td>\n",
       "      <td>Директор магазина</td>\n",
       "      <td>11</td>\n",
       "      <td>&lt;NA&gt;</td>\n",
       "      <td>1</td>\n",
       "      <td>0</td>\n",
       "      <td>1987-03-11</td>\n",
       "      <td>высшее</td>\n",
       "      <td>6</td>\n",
       "      <td>45700.0</td>\n",
       "    </tr>\n",
       "    <tr>\n",
       "      <th>49</th>\n",
       "      <td>2015-04-30</td>\n",
       "      <td>100002</td>\n",
       "      <td>Широков Андрей Константинович</td>\n",
       "      <td>мужской</td>\n",
       "      <td>2</td>\n",
       "      <td>Заместитель директора магазина</td>\n",
       "      <td>22</td>\n",
       "      <td>21</td>\n",
       "      <td>1</td>\n",
       "      <td>0</td>\n",
       "      <td>1973-01-17</td>\n",
       "      <td>высшее</td>\n",
       "      <td>&lt;NA&gt;</td>\n",
       "      <td>67600.0</td>\n",
       "    </tr>\n",
       "  </tbody>\n",
       "</table>\n",
       "</div>"
      ],
      "text/plain": [
       "    report_dt  i_pernr                            fio      sex  shop_id  \\\n",
       "0  2015-01-31   100000   Кожевников Андрей Максимович  мужской        1   \n",
       "10 2015-02-28   100000   Кожевников Андрей Максимович  мужской        1   \n",
       "22 2015-03-31   100000   Кожевников Андрей Максимович  мужской        1   \n",
       "35 2015-04-30   100000   Кожевников Андрей Максимович  мужской        1   \n",
       "49 2015-04-30   100002  Широков Андрей Константинович  мужской        2   \n",
       "\n",
       "                          pos_name  pos_id  closest_boss_pos_id  mgmt_flag  \\\n",
       "0                Директор магазина      11                 <NA>          1   \n",
       "10               Директор магазина      11                 <NA>          1   \n",
       "22               Директор магазина      11                 <NA>          1   \n",
       "35               Директор магазина      11                 <NA>          1   \n",
       "49  Заместитель директора магазина      22                   21          1   \n",
       "\n",
       "    salary_fork birth_date education  employee_evaluation   salary  \n",
       "0             0 1987-03-11    высшее                    5  45700.0  \n",
       "10            0 1987-03-11    высшее                    5  45700.0  \n",
       "22            0 1987-03-11    высшее                    5  45700.0  \n",
       "35            0 1987-03-11    высшее                    6  45700.0  \n",
       "49            0 1973-01-17    высшее                 <NA>  67600.0  "
      ]
     },
     "execution_count": 22,
     "metadata": {},
     "output_type": "execute_result"
    }
   ],
   "source": [
    "empl.query('fio.str.contains(\"Андрей\")').head()"
   ]
  },
  {
   "cell_type": "markdown",
   "id": "3bc82efe",
   "metadata": {},
   "source": [
    "Такая запись работать не будет"
   ]
  },
  {
   "cell_type": "code",
   "execution_count": 23,
   "id": "007f9bf3",
   "metadata": {},
   "outputs": [
    {
     "data": {
      "text/html": [
       "<div>\n",
       "<style scoped>\n",
       "    .dataframe tbody tr th:only-of-type {\n",
       "        vertical-align: middle;\n",
       "    }\n",
       "\n",
       "    .dataframe tbody tr th {\n",
       "        vertical-align: top;\n",
       "    }\n",
       "\n",
       "    .dataframe thead th {\n",
       "        text-align: right;\n",
       "    }\n",
       "</style>\n",
       "<table border=\"1\" class=\"dataframe\">\n",
       "  <thead>\n",
       "    <tr style=\"text-align: right;\">\n",
       "      <th></th>\n",
       "      <th>report_dt</th>\n",
       "      <th>i_pernr</th>\n",
       "      <th>fio</th>\n",
       "      <th>sex</th>\n",
       "      <th>shop_id</th>\n",
       "      <th>pos_name</th>\n",
       "      <th>pos_id</th>\n",
       "      <th>closest_boss_pos_id</th>\n",
       "      <th>mgmt_flag</th>\n",
       "      <th>salary_fork</th>\n",
       "      <th>birth_date</th>\n",
       "      <th>education</th>\n",
       "      <th>employee_evaluation</th>\n",
       "      <th>salary</th>\n",
       "    </tr>\n",
       "  </thead>\n",
       "  <tbody>\n",
       "  </tbody>\n",
       "</table>\n",
       "</div>"
      ],
      "text/plain": [
       "Empty DataFrame\n",
       "Columns: [report_dt, i_pernr, fio, sex, shop_id, pos_name, pos_id, closest_boss_pos_id, mgmt_flag, salary_fork, birth_date, education, employee_evaluation, salary]\n",
       "Index: []"
      ]
     },
     "execution_count": 23,
     "metadata": {},
     "output_type": "execute_result"
    }
   ],
   "source": [
    "empl.query('\"Андрей\" in fio').head()"
   ]
  },
  {
   "cell_type": "markdown",
   "id": "ccf0ee68",
   "metadata": {},
   "source": [
    "#### Замены внутри строк"
   ]
  },
  {
   "cell_type": "code",
   "execution_count": 24,
   "id": "cd37182a",
   "metadata": {},
   "outputs": [
    {
     "data": {
      "text/plain": [
       "0                Кожевников Андрей Максимович\n",
       "1                 Дубинина Надежда Николаевна\n",
       "2        Вишневскиая Валентина Константиновна\n",
       "3               Литвинов Александр Максимович\n",
       "4                   Черняева Валерия Глебовна\n",
       "                         ...                 \n",
       "29367              Морозова Раиса Ярославовна\n",
       "29368              Фадеева Евгения Данииловна\n",
       "29369             Измайлов Григорий Артемович\n",
       "29370               Русаков Евгений Тимурович\n",
       "29371                Суханова Дарья Фёдоровна\n",
       "Name: fio, Length: 29372, dtype: string"
      ]
     },
     "execution_count": 24,
     "metadata": {},
     "output_type": "execute_result"
    }
   ],
   "source": [
    "empl['fio']"
   ]
  },
  {
   "cell_type": "code",
   "execution_count": 25,
   "id": "d0b11df3",
   "metadata": {},
   "outputs": [
    {
     "data": {
      "text/plain": [
       "0            Кожевников Андрей ______________\n",
       "1                 Дубинина Надежда Николаевна\n",
       "2        Вишневскиая Валентина Константиновна\n",
       "3           Литвинов Александр ______________\n",
       "4                   Черняева Валерия Глебовна\n",
       "                         ...                 \n",
       "29367              Морозова Раиса Ярославовна\n",
       "29368              Фадеева Евгения Данииловна\n",
       "29369             Измайлов Григорий Артемович\n",
       "29370               Русаков Евгений Тимурович\n",
       "29371                Суханова Дарья Фёдоровна\n",
       "Name: fio, Length: 29372, dtype: string"
      ]
     },
     "execution_count": 25,
     "metadata": {},
     "output_type": "execute_result"
    }
   ],
   "source": [
    "empl['fio'].str.replace('Максимович', '______________')"
   ]
  },
  {
   "cell_type": "markdown",
   "id": "22cefa46",
   "metadata": {},
   "source": [
    "В отличие от str.replace, обычный метод replace смотрит на всю строку целиком"
   ]
  },
  {
   "cell_type": "code",
   "execution_count": 26,
   "id": "515c74db",
   "metadata": {},
   "outputs": [
    {
     "data": {
      "text/plain": [
       "0                Кожевников Андрей Максимович\n",
       "1                 Дубинина Надежда Николаевна\n",
       "2        Вишневскиая Валентина Константиновна\n",
       "3               Литвинов Александр Максимович\n",
       "4                   Черняева Валерия Глебовна\n",
       "                         ...                 \n",
       "29367              Морозова Раиса Ярославовна\n",
       "29368              Фадеева Евгения Данииловна\n",
       "29369             Измайлов Григорий Артемович\n",
       "29370               Русаков Евгений Тимурович\n",
       "29371                Суханова Дарья Фёдоровна\n",
       "Name: fio, Length: 29372, dtype: string"
      ]
     },
     "execution_count": 26,
     "metadata": {},
     "output_type": "execute_result"
    }
   ],
   "source": [
    "empl['fio'].replace({'Максимович': '___________'})"
   ]
  },
  {
   "cell_type": "markdown",
   "id": "20acd3c7",
   "metadata": {},
   "source": [
    "#### Разделение строк"
   ]
  },
  {
   "cell_type": "code",
   "execution_count": 27,
   "id": "5451d81d",
   "metadata": {},
   "outputs": [
    {
     "data": {
      "text/plain": [
       "0                [Кожевников, Андрей, Максимович]\n",
       "1                 [Дубинина, Надежда, Николаевна]\n",
       "2        [Вишневскиая, Валентина, Константиновна]\n",
       "3               [Литвинов, Александр, Максимович]\n",
       "4                   [Черняева, Валерия, Глебовна]\n",
       "                           ...                   \n",
       "29367              [Морозова, Раиса, Ярославовна]\n",
       "29368              [Фадеева, Евгения, Данииловна]\n",
       "29369             [Измайлов, Григорий, Артемович]\n",
       "29370               [Русаков, Евгений, Тимурович]\n",
       "29371                [Суханова, Дарья, Фёдоровна]\n",
       "Name: fio, Length: 29372, dtype: object"
      ]
     },
     "execution_count": 27,
     "metadata": {},
     "output_type": "execute_result"
    }
   ],
   "source": [
    "empl['fio'].str.split()"
   ]
  },
  {
   "cell_type": "code",
   "execution_count": 28,
   "id": "e6035bff",
   "metadata": {},
   "outputs": [
    {
     "data": {
      "text/plain": [
       "0                [Кожевников Андрей Максимович]\n",
       "1                      [Дубинина ,  Николаевна]\n",
       "2        [Вишневскиая Валентина Константиновна]\n",
       "3               [Литвинов Александр Максимович]\n",
       "4                   [Черняева Валерия Глебовна]\n",
       "                          ...                  \n",
       "29367              [Морозова Раиса Ярославовна]\n",
       "29368              [Фадеева Евгения Данииловна]\n",
       "29369             [Измайлов Григорий Артемович]\n",
       "29370               [Русаков Евгений Тимурович]\n",
       "29371                [Суханова Дарья Фёдоровна]\n",
       "Name: fio, Length: 29372, dtype: object"
      ]
     },
     "execution_count": 28,
     "metadata": {},
     "output_type": "execute_result"
    }
   ],
   "source": [
    "empl['fio'].str.split('Надежда')"
   ]
  },
  {
   "cell_type": "markdown",
   "id": "ddd02d03",
   "metadata": {},
   "source": [
    "Выбор элементов списка"
   ]
  },
  {
   "cell_type": "code",
   "execution_count": 29,
   "id": "ea7713bc",
   "metadata": {},
   "outputs": [
    {
     "data": {
      "text/plain": [
       "0         Кожевников\n",
       "1           Дубинина\n",
       "2        Вишневскиая\n",
       "3           Литвинов\n",
       "4           Черняева\n",
       "            ...     \n",
       "29367       Морозова\n",
       "29368        Фадеева\n",
       "29369       Измайлов\n",
       "29370        Русаков\n",
       "29371       Суханова\n",
       "Name: fio, Length: 29372, dtype: object"
      ]
     },
     "execution_count": 29,
     "metadata": {},
     "output_type": "execute_result"
    }
   ],
   "source": [
    "empl['fio'].str.split().str[0]"
   ]
  },
  {
   "cell_type": "code",
   "execution_count": 30,
   "id": "925d745c",
   "metadata": {},
   "outputs": [
    {
     "data": {
      "text/plain": [
       "0               [Андрей, Максимович]\n",
       "1              [Надежда, Николаевна]\n",
       "2        [Валентина, Константиновна]\n",
       "3            [Александр, Максимович]\n",
       "4                [Валерия, Глебовна]\n",
       "                    ...             \n",
       "29367           [Раиса, Ярославовна]\n",
       "29368          [Евгения, Данииловна]\n",
       "29369          [Григорий, Артемович]\n",
       "29370           [Евгений, Тимурович]\n",
       "29371             [Дарья, Фёдоровна]\n",
       "Name: fio, Length: 29372, dtype: object"
      ]
     },
     "execution_count": 30,
     "metadata": {},
     "output_type": "execute_result"
    }
   ],
   "source": [
    "empl['fio'].str.split().str[1:]"
   ]
  },
  {
   "cell_type": "markdown",
   "id": "d16445ab",
   "metadata": {},
   "source": [
    "Такой список можно разделить на колонки"
   ]
  },
  {
   "cell_type": "code",
   "execution_count": 31,
   "id": "8d0d6057",
   "metadata": {},
   "outputs": [
    {
     "data": {
      "text/html": [
       "<div>\n",
       "<style scoped>\n",
       "    .dataframe tbody tr th:only-of-type {\n",
       "        vertical-align: middle;\n",
       "    }\n",
       "\n",
       "    .dataframe tbody tr th {\n",
       "        vertical-align: top;\n",
       "    }\n",
       "\n",
       "    .dataframe thead th {\n",
       "        text-align: right;\n",
       "    }\n",
       "</style>\n",
       "<table border=\"1\" class=\"dataframe\">\n",
       "  <thead>\n",
       "    <tr style=\"text-align: right;\">\n",
       "      <th></th>\n",
       "      <th>0</th>\n",
       "      <th>1</th>\n",
       "      <th>2</th>\n",
       "    </tr>\n",
       "  </thead>\n",
       "  <tbody>\n",
       "    <tr>\n",
       "      <th>0</th>\n",
       "      <td>Кожевников</td>\n",
       "      <td>Андрей</td>\n",
       "      <td>Максимович</td>\n",
       "    </tr>\n",
       "    <tr>\n",
       "      <th>1</th>\n",
       "      <td>Дубинина</td>\n",
       "      <td>Надежда</td>\n",
       "      <td>Николаевна</td>\n",
       "    </tr>\n",
       "    <tr>\n",
       "      <th>2</th>\n",
       "      <td>Вишневскиая</td>\n",
       "      <td>Валентина</td>\n",
       "      <td>Константиновна</td>\n",
       "    </tr>\n",
       "    <tr>\n",
       "      <th>3</th>\n",
       "      <td>Литвинов</td>\n",
       "      <td>Александр</td>\n",
       "      <td>Максимович</td>\n",
       "    </tr>\n",
       "    <tr>\n",
       "      <th>4</th>\n",
       "      <td>Черняева</td>\n",
       "      <td>Валерия</td>\n",
       "      <td>Глебовна</td>\n",
       "    </tr>\n",
       "    <tr>\n",
       "      <th>...</th>\n",
       "      <td>...</td>\n",
       "      <td>...</td>\n",
       "      <td>...</td>\n",
       "    </tr>\n",
       "    <tr>\n",
       "      <th>29367</th>\n",
       "      <td>Морозова</td>\n",
       "      <td>Раиса</td>\n",
       "      <td>Ярославовна</td>\n",
       "    </tr>\n",
       "    <tr>\n",
       "      <th>29368</th>\n",
       "      <td>Фадеева</td>\n",
       "      <td>Евгения</td>\n",
       "      <td>Данииловна</td>\n",
       "    </tr>\n",
       "    <tr>\n",
       "      <th>29369</th>\n",
       "      <td>Измайлов</td>\n",
       "      <td>Григорий</td>\n",
       "      <td>Артемович</td>\n",
       "    </tr>\n",
       "    <tr>\n",
       "      <th>29370</th>\n",
       "      <td>Русаков</td>\n",
       "      <td>Евгений</td>\n",
       "      <td>Тимурович</td>\n",
       "    </tr>\n",
       "    <tr>\n",
       "      <th>29371</th>\n",
       "      <td>Суханова</td>\n",
       "      <td>Дарья</td>\n",
       "      <td>Фёдоровна</td>\n",
       "    </tr>\n",
       "  </tbody>\n",
       "</table>\n",
       "<p>29372 rows × 3 columns</p>\n",
       "</div>"
      ],
      "text/plain": [
       "                 0          1               2\n",
       "0       Кожевников     Андрей      Максимович\n",
       "1         Дубинина    Надежда      Николаевна\n",
       "2      Вишневскиая  Валентина  Константиновна\n",
       "3         Литвинов  Александр      Максимович\n",
       "4         Черняева    Валерия        Глебовна\n",
       "...            ...        ...             ...\n",
       "29367     Морозова      Раиса     Ярославовна\n",
       "29368      Фадеева    Евгения      Данииловна\n",
       "29369     Измайлов   Григорий       Артемович\n",
       "29370      Русаков    Евгений       Тимурович\n",
       "29371     Суханова      Дарья       Фёдоровна\n",
       "\n",
       "[29372 rows x 3 columns]"
      ]
     },
     "execution_count": 31,
     "metadata": {},
     "output_type": "execute_result"
    }
   ],
   "source": [
    "empl['fio'].str.split(expand=True)"
   ]
  },
  {
   "cell_type": "markdown",
   "id": "be8962cc",
   "metadata": {},
   "source": [
    "Присоединение новых колонок"
   ]
  },
  {
   "cell_type": "code",
   "execution_count": 32,
   "id": "9108ead6",
   "metadata": {},
   "outputs": [
    {
     "data": {
      "text/html": [
       "<div>\n",
       "<style scoped>\n",
       "    .dataframe tbody tr th:only-of-type {\n",
       "        vertical-align: middle;\n",
       "    }\n",
       "\n",
       "    .dataframe tbody tr th {\n",
       "        vertical-align: top;\n",
       "    }\n",
       "\n",
       "    .dataframe thead th {\n",
       "        text-align: right;\n",
       "    }\n",
       "</style>\n",
       "<table border=\"1\" class=\"dataframe\">\n",
       "  <thead>\n",
       "    <tr style=\"text-align: right;\">\n",
       "      <th></th>\n",
       "      <th>report_dt</th>\n",
       "      <th>i_pernr</th>\n",
       "      <th>fio</th>\n",
       "      <th>sex</th>\n",
       "      <th>shop_id</th>\n",
       "      <th>pos_name</th>\n",
       "      <th>pos_id</th>\n",
       "      <th>closest_boss_pos_id</th>\n",
       "      <th>mgmt_flag</th>\n",
       "      <th>salary_fork</th>\n",
       "      <th>birth_date</th>\n",
       "      <th>education</th>\n",
       "      <th>employee_evaluation</th>\n",
       "      <th>salary</th>\n",
       "      <th>Фамилия</th>\n",
       "      <th>Имя</th>\n",
       "      <th>Отчество</th>\n",
       "    </tr>\n",
       "  </thead>\n",
       "  <tbody>\n",
       "    <tr>\n",
       "      <th>0</th>\n",
       "      <td>2015-01-31</td>\n",
       "      <td>100000</td>\n",
       "      <td>Кожевников Андрей Максимович</td>\n",
       "      <td>мужской</td>\n",
       "      <td>1</td>\n",
       "      <td>Директор магазина</td>\n",
       "      <td>11</td>\n",
       "      <td>&lt;NA&gt;</td>\n",
       "      <td>1</td>\n",
       "      <td>0</td>\n",
       "      <td>1987-03-11</td>\n",
       "      <td>высшее</td>\n",
       "      <td>5</td>\n",
       "      <td>45700.0</td>\n",
       "      <td>Кожевников</td>\n",
       "      <td>Андрей</td>\n",
       "      <td>Максимович</td>\n",
       "    </tr>\n",
       "    <tr>\n",
       "      <th>1</th>\n",
       "      <td>2015-01-31</td>\n",
       "      <td>0</td>\n",
       "      <td>Дубинина Надежда Николаевна</td>\n",
       "      <td>женский</td>\n",
       "      <td>1</td>\n",
       "      <td>Старший кассир</td>\n",
       "      <td>12</td>\n",
       "      <td>11</td>\n",
       "      <td>0</td>\n",
       "      <td>0</td>\n",
       "      <td>1971-07-07</td>\n",
       "      <td>среднее профессиональное</td>\n",
       "      <td>5</td>\n",
       "      <td>20000.0</td>\n",
       "      <td>Дубинина</td>\n",
       "      <td>Надежда</td>\n",
       "      <td>Николаевна</td>\n",
       "    </tr>\n",
       "    <tr>\n",
       "      <th>2</th>\n",
       "      <td>2015-01-31</td>\n",
       "      <td>1</td>\n",
       "      <td>Вишневскиая Валентина Константиновна</td>\n",
       "      <td>женский</td>\n",
       "      <td>1</td>\n",
       "      <td>Кассир</td>\n",
       "      <td>13</td>\n",
       "      <td>12</td>\n",
       "      <td>0</td>\n",
       "      <td>0</td>\n",
       "      <td>1974-11-29</td>\n",
       "      <td>среднее общее</td>\n",
       "      <td>5</td>\n",
       "      <td>12600.0</td>\n",
       "      <td>Вишневскиая</td>\n",
       "      <td>Валентина</td>\n",
       "      <td>Константиновна</td>\n",
       "    </tr>\n",
       "    <tr>\n",
       "      <th>3</th>\n",
       "      <td>2015-01-31</td>\n",
       "      <td>2</td>\n",
       "      <td>Литвинов Александр Максимович</td>\n",
       "      <td>мужской</td>\n",
       "      <td>1</td>\n",
       "      <td>Кассир</td>\n",
       "      <td>14</td>\n",
       "      <td>12</td>\n",
       "      <td>0</td>\n",
       "      <td>0</td>\n",
       "      <td>1969-11-01</td>\n",
       "      <td>среднее общее</td>\n",
       "      <td>3</td>\n",
       "      <td>12600.0</td>\n",
       "      <td>Литвинов</td>\n",
       "      <td>Александр</td>\n",
       "      <td>Максимович</td>\n",
       "    </tr>\n",
       "    <tr>\n",
       "      <th>4</th>\n",
       "      <td>2015-01-31</td>\n",
       "      <td>3</td>\n",
       "      <td>Черняева Валерия Глебовна</td>\n",
       "      <td>женский</td>\n",
       "      <td>1</td>\n",
       "      <td>Продавец-консультант</td>\n",
       "      <td>17</td>\n",
       "      <td>11</td>\n",
       "      <td>0</td>\n",
       "      <td>0</td>\n",
       "      <td>1988-07-17</td>\n",
       "      <td>среднее общее</td>\n",
       "      <td>&lt;NA&gt;</td>\n",
       "      <td>15400.0</td>\n",
       "      <td>Черняева</td>\n",
       "      <td>Валерия</td>\n",
       "      <td>Глебовна</td>\n",
       "    </tr>\n",
       "  </tbody>\n",
       "</table>\n",
       "</div>"
      ],
      "text/plain": [
       "   report_dt  i_pernr                                   fio      sex  shop_id  \\\n",
       "0 2015-01-31   100000          Кожевников Андрей Максимович  мужской        1   \n",
       "1 2015-01-31        0           Дубинина Надежда Николаевна  женский        1   \n",
       "2 2015-01-31        1  Вишневскиая Валентина Константиновна  женский        1   \n",
       "3 2015-01-31        2         Литвинов Александр Максимович  мужской        1   \n",
       "4 2015-01-31        3             Черняева Валерия Глебовна  женский        1   \n",
       "\n",
       "               pos_name  pos_id  closest_boss_pos_id  mgmt_flag  salary_fork  \\\n",
       "0     Директор магазина      11                 <NA>          1            0   \n",
       "1        Старший кассир      12                   11          0            0   \n",
       "2                Кассир      13                   12          0            0   \n",
       "3                Кассир      14                   12          0            0   \n",
       "4  Продавец-консультант      17                   11          0            0   \n",
       "\n",
       "  birth_date                 education  employee_evaluation   salary  \\\n",
       "0 1987-03-11                    высшее                    5  45700.0   \n",
       "1 1971-07-07  среднее профессиональное                    5  20000.0   \n",
       "2 1974-11-29             среднее общее                    5  12600.0   \n",
       "3 1969-11-01             среднее общее                    3  12600.0   \n",
       "4 1988-07-17             среднее общее                 <NA>  15400.0   \n",
       "\n",
       "       Фамилия        Имя        Отчество  \n",
       "0   Кожевников     Андрей      Максимович  \n",
       "1     Дубинина    Надежда      Николаевна  \n",
       "2  Вишневскиая  Валентина  Константиновна  \n",
       "3     Литвинов  Александр      Максимович  \n",
       "4     Черняева    Валерия        Глебовна  "
      ]
     },
     "execution_count": 32,
     "metadata": {},
     "output_type": "execute_result"
    }
   ],
   "source": [
    "(empl\n",
    "    .join(empl['fio']\n",
    "          .str\n",
    "          .split(expand=True)\n",
    "          .set_axis(['Фамилия', 'Имя', 'Отчество'], axis=1)\n",
    "         )\n",
    "    .head()\n",
    ")"
   ]
  },
  {
   "cell_type": "markdown",
   "id": "200fa685",
   "metadata": {},
   "source": [
    "#### Создание для каждого элемента списка своей строки"
   ]
  },
  {
   "cell_type": "code",
   "execution_count": 35,
   "id": "45b3c416",
   "metadata": {},
   "outputs": [
    {
     "data": {
      "text/html": [
       "<div>\n",
       "<style scoped>\n",
       "    .dataframe tbody tr th:only-of-type {\n",
       "        vertical-align: middle;\n",
       "    }\n",
       "\n",
       "    .dataframe tbody tr th {\n",
       "        vertical-align: top;\n",
       "    }\n",
       "\n",
       "    .dataframe thead th {\n",
       "        text-align: right;\n",
       "    }\n",
       "</style>\n",
       "<table border=\"1\" class=\"dataframe\">\n",
       "  <thead>\n",
       "    <tr style=\"text-align: right;\">\n",
       "      <th></th>\n",
       "      <th>report_dt</th>\n",
       "      <th>i_pernr</th>\n",
       "      <th>fio</th>\n",
       "      <th>sex</th>\n",
       "      <th>shop_id</th>\n",
       "      <th>pos_name</th>\n",
       "      <th>pos_id</th>\n",
       "      <th>closest_boss_pos_id</th>\n",
       "      <th>mgmt_flag</th>\n",
       "      <th>salary_fork</th>\n",
       "      <th>birth_date</th>\n",
       "      <th>education</th>\n",
       "      <th>employee_evaluation</th>\n",
       "      <th>salary</th>\n",
       "      <th>fio_list</th>\n",
       "    </tr>\n",
       "  </thead>\n",
       "  <tbody>\n",
       "    <tr>\n",
       "      <th>0</th>\n",
       "      <td>2015-01-31</td>\n",
       "      <td>100000</td>\n",
       "      <td>Кожевников Андрей Максимович</td>\n",
       "      <td>мужской</td>\n",
       "      <td>1</td>\n",
       "      <td>Директор магазина</td>\n",
       "      <td>11</td>\n",
       "      <td>&lt;NA&gt;</td>\n",
       "      <td>1</td>\n",
       "      <td>0</td>\n",
       "      <td>1987-03-11</td>\n",
       "      <td>высшее</td>\n",
       "      <td>5</td>\n",
       "      <td>45700.0</td>\n",
       "      <td>Кожевников</td>\n",
       "    </tr>\n",
       "    <tr>\n",
       "      <th>0</th>\n",
       "      <td>2015-01-31</td>\n",
       "      <td>100000</td>\n",
       "      <td>Кожевников Андрей Максимович</td>\n",
       "      <td>мужской</td>\n",
       "      <td>1</td>\n",
       "      <td>Директор магазина</td>\n",
       "      <td>11</td>\n",
       "      <td>&lt;NA&gt;</td>\n",
       "      <td>1</td>\n",
       "      <td>0</td>\n",
       "      <td>1987-03-11</td>\n",
       "      <td>высшее</td>\n",
       "      <td>5</td>\n",
       "      <td>45700.0</td>\n",
       "      <td>Андрей</td>\n",
       "    </tr>\n",
       "    <tr>\n",
       "      <th>0</th>\n",
       "      <td>2015-01-31</td>\n",
       "      <td>100000</td>\n",
       "      <td>Кожевников Андрей Максимович</td>\n",
       "      <td>мужской</td>\n",
       "      <td>1</td>\n",
       "      <td>Директор магазина</td>\n",
       "      <td>11</td>\n",
       "      <td>&lt;NA&gt;</td>\n",
       "      <td>1</td>\n",
       "      <td>0</td>\n",
       "      <td>1987-03-11</td>\n",
       "      <td>высшее</td>\n",
       "      <td>5</td>\n",
       "      <td>45700.0</td>\n",
       "      <td>Максимович</td>\n",
       "    </tr>\n",
       "    <tr>\n",
       "      <th>1</th>\n",
       "      <td>2015-01-31</td>\n",
       "      <td>0</td>\n",
       "      <td>Дубинина Надежда Николаевна</td>\n",
       "      <td>женский</td>\n",
       "      <td>1</td>\n",
       "      <td>Старший кассир</td>\n",
       "      <td>12</td>\n",
       "      <td>11</td>\n",
       "      <td>0</td>\n",
       "      <td>0</td>\n",
       "      <td>1971-07-07</td>\n",
       "      <td>среднее профессиональное</td>\n",
       "      <td>5</td>\n",
       "      <td>20000.0</td>\n",
       "      <td>Дубинина</td>\n",
       "    </tr>\n",
       "    <tr>\n",
       "      <th>1</th>\n",
       "      <td>2015-01-31</td>\n",
       "      <td>0</td>\n",
       "      <td>Дубинина Надежда Николаевна</td>\n",
       "      <td>женский</td>\n",
       "      <td>1</td>\n",
       "      <td>Старший кассир</td>\n",
       "      <td>12</td>\n",
       "      <td>11</td>\n",
       "      <td>0</td>\n",
       "      <td>0</td>\n",
       "      <td>1971-07-07</td>\n",
       "      <td>среднее профессиональное</td>\n",
       "      <td>5</td>\n",
       "      <td>20000.0</td>\n",
       "      <td>Надежда</td>\n",
       "    </tr>\n",
       "    <tr>\n",
       "      <th>...</th>\n",
       "      <td>...</td>\n",
       "      <td>...</td>\n",
       "      <td>...</td>\n",
       "      <td>...</td>\n",
       "      <td>...</td>\n",
       "      <td>...</td>\n",
       "      <td>...</td>\n",
       "      <td>...</td>\n",
       "      <td>...</td>\n",
       "      <td>...</td>\n",
       "      <td>...</td>\n",
       "      <td>...</td>\n",
       "      <td>...</td>\n",
       "      <td>...</td>\n",
       "      <td>...</td>\n",
       "    </tr>\n",
       "    <tr>\n",
       "      <th>29370</th>\n",
       "      <td>2022-12-31</td>\n",
       "      <td>1616</td>\n",
       "      <td>Русаков Евгений Тимурович</td>\n",
       "      <td>мужской</td>\n",
       "      <td>23</td>\n",
       "      <td>Мастер по ремонту одежды</td>\n",
       "      <td>2328</td>\n",
       "      <td>232</td>\n",
       "      <td>0</td>\n",
       "      <td>2</td>\n",
       "      <td>1963-09-19</td>\n",
       "      <td>среднее профессиональное</td>\n",
       "      <td>7</td>\n",
       "      <td>35500.0</td>\n",
       "      <td>Евгений</td>\n",
       "    </tr>\n",
       "    <tr>\n",
       "      <th>29370</th>\n",
       "      <td>2022-12-31</td>\n",
       "      <td>1616</td>\n",
       "      <td>Русаков Евгений Тимурович</td>\n",
       "      <td>мужской</td>\n",
       "      <td>23</td>\n",
       "      <td>Мастер по ремонту одежды</td>\n",
       "      <td>2328</td>\n",
       "      <td>232</td>\n",
       "      <td>0</td>\n",
       "      <td>2</td>\n",
       "      <td>1963-09-19</td>\n",
       "      <td>среднее профессиональное</td>\n",
       "      <td>7</td>\n",
       "      <td>35500.0</td>\n",
       "      <td>Тимурович</td>\n",
       "    </tr>\n",
       "    <tr>\n",
       "      <th>29371</th>\n",
       "      <td>2022-12-31</td>\n",
       "      <td>1687</td>\n",
       "      <td>Суханова Дарья Фёдоровна</td>\n",
       "      <td>женский</td>\n",
       "      <td>23</td>\n",
       "      <td>Уборщик</td>\n",
       "      <td>2329</td>\n",
       "      <td>232</td>\n",
       "      <td>0</td>\n",
       "      <td>2</td>\n",
       "      <td>1989-08-10</td>\n",
       "      <td>среднее профессиональное</td>\n",
       "      <td>8</td>\n",
       "      <td>26400.0</td>\n",
       "      <td>Суханова</td>\n",
       "    </tr>\n",
       "    <tr>\n",
       "      <th>29371</th>\n",
       "      <td>2022-12-31</td>\n",
       "      <td>1687</td>\n",
       "      <td>Суханова Дарья Фёдоровна</td>\n",
       "      <td>женский</td>\n",
       "      <td>23</td>\n",
       "      <td>Уборщик</td>\n",
       "      <td>2329</td>\n",
       "      <td>232</td>\n",
       "      <td>0</td>\n",
       "      <td>2</td>\n",
       "      <td>1989-08-10</td>\n",
       "      <td>среднее профессиональное</td>\n",
       "      <td>8</td>\n",
       "      <td>26400.0</td>\n",
       "      <td>Дарья</td>\n",
       "    </tr>\n",
       "    <tr>\n",
       "      <th>29371</th>\n",
       "      <td>2022-12-31</td>\n",
       "      <td>1687</td>\n",
       "      <td>Суханова Дарья Фёдоровна</td>\n",
       "      <td>женский</td>\n",
       "      <td>23</td>\n",
       "      <td>Уборщик</td>\n",
       "      <td>2329</td>\n",
       "      <td>232</td>\n",
       "      <td>0</td>\n",
       "      <td>2</td>\n",
       "      <td>1989-08-10</td>\n",
       "      <td>среднее профессиональное</td>\n",
       "      <td>8</td>\n",
       "      <td>26400.0</td>\n",
       "      <td>Фёдоровна</td>\n",
       "    </tr>\n",
       "  </tbody>\n",
       "</table>\n",
       "<p>88116 rows × 15 columns</p>\n",
       "</div>"
      ],
      "text/plain": [
       "       report_dt  i_pernr                           fio      sex  shop_id  \\\n",
       "0     2015-01-31   100000  Кожевников Андрей Максимович  мужской        1   \n",
       "0     2015-01-31   100000  Кожевников Андрей Максимович  мужской        1   \n",
       "0     2015-01-31   100000  Кожевников Андрей Максимович  мужской        1   \n",
       "1     2015-01-31        0   Дубинина Надежда Николаевна  женский        1   \n",
       "1     2015-01-31        0   Дубинина Надежда Николаевна  женский        1   \n",
       "...          ...      ...                           ...      ...      ...   \n",
       "29370 2022-12-31     1616     Русаков Евгений Тимурович  мужской       23   \n",
       "29370 2022-12-31     1616     Русаков Евгений Тимурович  мужской       23   \n",
       "29371 2022-12-31     1687      Суханова Дарья Фёдоровна  женский       23   \n",
       "29371 2022-12-31     1687      Суханова Дарья Фёдоровна  женский       23   \n",
       "29371 2022-12-31     1687      Суханова Дарья Фёдоровна  женский       23   \n",
       "\n",
       "                       pos_name  pos_id  closest_boss_pos_id  mgmt_flag  \\\n",
       "0             Директор магазина      11                 <NA>          1   \n",
       "0             Директор магазина      11                 <NA>          1   \n",
       "0             Директор магазина      11                 <NA>          1   \n",
       "1                Старший кассир      12                   11          0   \n",
       "1                Старший кассир      12                   11          0   \n",
       "...                         ...     ...                  ...        ...   \n",
       "29370  Мастер по ремонту одежды    2328                  232          0   \n",
       "29370  Мастер по ремонту одежды    2328                  232          0   \n",
       "29371                   Уборщик    2329                  232          0   \n",
       "29371                   Уборщик    2329                  232          0   \n",
       "29371                   Уборщик    2329                  232          0   \n",
       "\n",
       "       salary_fork birth_date                 education  employee_evaluation  \\\n",
       "0                0 1987-03-11                    высшее                    5   \n",
       "0                0 1987-03-11                    высшее                    5   \n",
       "0                0 1987-03-11                    высшее                    5   \n",
       "1                0 1971-07-07  среднее профессиональное                    5   \n",
       "1                0 1971-07-07  среднее профессиональное                    5   \n",
       "...            ...        ...                       ...                  ...   \n",
       "29370            2 1963-09-19  среднее профессиональное                    7   \n",
       "29370            2 1963-09-19  среднее профессиональное                    7   \n",
       "29371            2 1989-08-10  среднее профессиональное                    8   \n",
       "29371            2 1989-08-10  среднее профессиональное                    8   \n",
       "29371            2 1989-08-10  среднее профессиональное                    8   \n",
       "\n",
       "        salary    fio_list  \n",
       "0      45700.0  Кожевников  \n",
       "0      45700.0      Андрей  \n",
       "0      45700.0  Максимович  \n",
       "1      20000.0    Дубинина  \n",
       "1      20000.0     Надежда  \n",
       "...        ...         ...  \n",
       "29370  35500.0     Евгений  \n",
       "29370  35500.0   Тимурович  \n",
       "29371  26400.0    Суханова  \n",
       "29371  26400.0       Дарья  \n",
       "29371  26400.0   Фёдоровна  \n",
       "\n",
       "[88116 rows x 15 columns]"
      ]
     },
     "execution_count": 35,
     "metadata": {},
     "output_type": "execute_result"
    }
   ],
   "source": [
    "empl.assign(fio_list = lambda x: x['fio'].str.split()).explode('fio_list')"
   ]
  },
  {
   "cell_type": "markdown",
   "id": "74be4a6a",
   "metadata": {},
   "source": [
    "#### Можно узнасть длинну списка"
   ]
  },
  {
   "cell_type": "code",
   "execution_count": 36,
   "id": "a34ea5db",
   "metadata": {},
   "outputs": [
    {
     "data": {
      "text/plain": [
       "0        3\n",
       "1        3\n",
       "2        3\n",
       "3        3\n",
       "4        3\n",
       "        ..\n",
       "29367    3\n",
       "29368    3\n",
       "29369    3\n",
       "29370    3\n",
       "29371    3\n",
       "Name: fio, Length: 29372, dtype: int64"
      ]
     },
     "execution_count": 36,
     "metadata": {},
     "output_type": "execute_result"
    }
   ],
   "source": [
    "empl['fio'].str.split().str.len()"
   ]
  },
  {
   "cell_type": "markdown",
   "id": "dbcef21a",
   "metadata": {},
   "source": [
    "#### Соединение списков в одну строку"
   ]
  },
  {
   "cell_type": "code",
   "execution_count": 37,
   "id": "a998e94e",
   "metadata": {},
   "outputs": [
    {
     "data": {
      "text/plain": [
       "0                [Кожевников, Андрей, Максимович]\n",
       "1                 [Дубинина, Надежда, Николаевна]\n",
       "2        [Вишневскиая, Валентина, Константиновна]\n",
       "3               [Литвинов, Александр, Максимович]\n",
       "4                   [Черняева, Валерия, Глебовна]\n",
       "                           ...                   \n",
       "29367              [Морозова, Раиса, Ярославовна]\n",
       "29368              [Фадеева, Евгения, Данииловна]\n",
       "29369             [Измайлов, Григорий, Артемович]\n",
       "29370               [Русаков, Евгений, Тимурович]\n",
       "29371                [Суханова, Дарья, Фёдоровна]\n",
       "Name: fio, Length: 29372, dtype: object"
      ]
     },
     "execution_count": 37,
     "metadata": {},
     "output_type": "execute_result"
    }
   ],
   "source": [
    "empl['fio'].str.split()"
   ]
  },
  {
   "cell_type": "code",
   "execution_count": 38,
   "id": "b2086ff8",
   "metadata": {},
   "outputs": [
    {
     "data": {
      "text/plain": [
       "0                Кожевников___Андрей___Максимович\n",
       "1                 Дубинина___Надежда___Николаевна\n",
       "2        Вишневскиая___Валентина___Константиновна\n",
       "3               Литвинов___Александр___Максимович\n",
       "4                   Черняева___Валерия___Глебовна\n",
       "                           ...                   \n",
       "29367              Морозова___Раиса___Ярославовна\n",
       "29368              Фадеева___Евгения___Данииловна\n",
       "29369             Измайлов___Григорий___Артемович\n",
       "29370               Русаков___Евгений___Тимурович\n",
       "29371                Суханова___Дарья___Фёдоровна\n",
       "Name: fio, Length: 29372, dtype: object"
      ]
     },
     "execution_count": 38,
     "metadata": {},
     "output_type": "execute_result"
    }
   ],
   "source": [
    "empl['fio'].str.split().str.join('___')"
   ]
  },
  {
   "cell_type": "markdown",
   "id": "915411a8",
   "metadata": {},
   "source": [
    "#### Список всех методов"
   ]
  },
  {
   "cell_type": "code",
   "execution_count": 39,
   "id": "c0e7cf3d",
   "metadata": {},
   "outputs": [
    {
     "data": {
      "text/plain": [
       "['capitalize',\n",
       " 'casefold',\n",
       " 'cat',\n",
       " 'center',\n",
       " 'contains',\n",
       " 'count',\n",
       " 'decode',\n",
       " 'encode',\n",
       " 'endswith',\n",
       " 'extract',\n",
       " 'extractall',\n",
       " 'find',\n",
       " 'findall',\n",
       " 'fullmatch',\n",
       " 'get',\n",
       " 'get_dummies',\n",
       " 'index',\n",
       " 'isalnum',\n",
       " 'isalpha',\n",
       " 'isdecimal',\n",
       " 'isdigit',\n",
       " 'islower',\n",
       " 'isnumeric',\n",
       " 'isspace',\n",
       " 'istitle',\n",
       " 'isupper',\n",
       " 'join',\n",
       " 'len',\n",
       " 'ljust',\n",
       " 'lower',\n",
       " 'lstrip',\n",
       " 'match',\n",
       " 'normalize',\n",
       " 'pad',\n",
       " 'partition',\n",
       " 'removeprefix',\n",
       " 'removesuffix',\n",
       " 'repeat',\n",
       " 'replace',\n",
       " 'rfind',\n",
       " 'rindex',\n",
       " 'rjust',\n",
       " 'rpartition',\n",
       " 'rsplit',\n",
       " 'rstrip',\n",
       " 'slice',\n",
       " 'slice_replace',\n",
       " 'split',\n",
       " 'startswith',\n",
       " 'strip',\n",
       " 'swapcase',\n",
       " 'title',\n",
       " 'translate',\n",
       " 'upper',\n",
       " 'wrap',\n",
       " 'zfill']"
      ]
     },
     "execution_count": 39,
     "metadata": {},
     "output_type": "execute_result"
    }
   ],
   "source": [
    "dir(goods_descr['description'].str)[44:]"
   ]
  },
  {
   "cell_type": "code",
   "execution_count": null,
   "id": "c97d8866",
   "metadata": {},
   "outputs": [],
   "source": []
  },
  {
   "cell_type": "code",
   "execution_count": null,
   "id": "f7714a67",
   "metadata": {},
   "outputs": [],
   "source": []
  },
  {
   "cell_type": "code",
   "execution_count": null,
   "id": "dad73317",
   "metadata": {},
   "outputs": [],
   "source": []
  },
  {
   "cell_type": "code",
   "execution_count": null,
   "id": "d8031836",
   "metadata": {},
   "outputs": [],
   "source": []
  },
  {
   "cell_type": "code",
   "execution_count": null,
   "id": "c04e5df9",
   "metadata": {},
   "outputs": [],
   "source": []
  },
  {
   "cell_type": "markdown",
   "id": "858d3bbe",
   "metadata": {},
   "source": [
    "### Apply"
   ]
  },
  {
   "cell_type": "code",
   "execution_count": 40,
   "id": "7214540e",
   "metadata": {},
   "outputs": [
    {
     "data": {
      "text/plain": [
       "0        Shirts by  Do the smart thing Spread collar Pr...\n",
       "1        Shirts by  Do the smart thing Spread collar Pr...\n",
       "2        Shirts by  Do the smart thing Spread collar Pr...\n",
       "3        Shirts by  Do the smart thing Spread collar Pr...\n",
       "4        Shirts by  Do the smart thing Spread collar Pr...\n",
       "                               ...                        \n",
       "81853    Leggings by  Go with the faux High rise Elasti...\n",
       "81854    Leggings by  Go with the faux High rise Elasti...\n",
       "81855    Trousers by  For your non-denim days Dogtooth ...\n",
       "81856    Trousers by  For your non-denim days Dogtooth ...\n",
       "81857    Trousers by  For your non-denim days Dogtooth ...\n",
       "Length: 81858, dtype: object"
      ]
     },
     "execution_count": 40,
     "metadata": {},
     "output_type": "execute_result"
    }
   ],
   "source": [
    "goods_descr.apply(lambda x: x['description'].replace(x['brand'], ''), axis=1)"
   ]
  },
  {
   "cell_type": "code",
   "execution_count": 41,
   "id": "efcd701a",
   "metadata": {},
   "outputs": [],
   "source": [
    "stop_words = [\"i\", \"me\", \"my\", \"myself\", \"we\", \"our\", \"ours\", \"ourselves\", \"you\", 'you\"re', 'you\"ve', 'you\"ll', 'you\"d', \"your\", \"yours\", \"yourself\", \"yourselves\", \"he\", \"him\", \"his\", \"himself\", \"she\", 'she\"s', \"her\", \"hers\", \"herself\", \"it\", 'it\"s', \"its\", \"itself\", \"they\", \"them\", \"their\", \"theirs\", \"themselves\", \"what\", \"which\", \"who\", \"whom\", \"this\", \"that\", 'that\"ll', \"these\", \"those\", \"am\", \"is\", \"are\", \"was\", \"were\", \"be\", \"been\", \"being\", \"have\", \"has\", \"had\", \"having\", \"do\", \"does\", \"did\", \"doing\", \"a\", \"an\", \"the\", \"and\", \"but\", \"if\", \"or\", \"because\", \"as\", \"until\", \"while\", \"of\", \"at\", \"by\", \"for\", \"with\", \"about\", \"against\", \"between\", \"into\", \"through\", \"during\", \"before\", \"after\", \"above\", \"below\", \"to\", \"from\", \"up\", \"down\", \"in\", \"out\", \"on\", \"off\", \"over\", \"under\", \"again\", \"further\", \"then\", \"once\", \"here\", \"there\", \"when\", \"where\", \"why\", \"how\", \"all\", \"any\", \"both\", \"each\", \"few\", \"more\", \"most\", \"other\", \"some\", \"such\", \"no\", \"nor\", \"not\", \"only\", \"own\", \"same\", \"so\", \"than\", \"too\", \"very\", \"s\", \"t\", \"can\", \"will\", \"just\", \"don\", 'don\"t', \"should\", 'should\"ve', \"now\", \"d\", \"ll\", \"m\", \"o\", \"re\", \"ve\", \"y\", \"ain\", \"aren\", 'aren\"t', \"couldn\", 'couldn\"t', \"didn\", 'didn\"t', \"doesn\", 'doesn\"t', \"hadn\", 'hadn\"t', \"hasn\", 'hasn\"t', \"haven\", 'haven\"t', \"isn\", 'isn\"t', \"ma\", \"mightn\", 'mightn\"t', \"mustn\", 'mustn\"t', \"needn\", 'needn\"t', \"shan\", 'shan\"t', \"shouldn\", 'shouldn\"t', \"wasn\", 'wasn\"t', \"weren\", 'weren\"t', \"won\", 'won\"t', \"wouldn\", 'wouldn\"t']"
   ]
  },
  {
   "cell_type": "code",
   "execution_count": 42,
   "id": "e300078d",
   "metadata": {},
   "outputs": [
    {
     "data": {
      "text/plain": [
       "0        shirts river island smart thing spread collar ...\n",
       "1        shirts river island smart thing spread collar ...\n",
       "2        shirts river island smart thing spread collar ...\n",
       "3        shirts river island smart thing spread collar ...\n",
       "4        shirts river island smart thing spread collar ...\n",
       "                               ...                        \n",
       "81853    leggings missguided go faux high rise elastica...\n",
       "81854    leggings missguided go faux high rise elastica...\n",
       "81855    trousers naanaa non-denim days dogtooth patter...\n",
       "81856    trousers naanaa non-denim days dogtooth patter...\n",
       "81857    trousers naanaa non-denim days dogtooth patter...\n",
       "Name: description, Length: 81858, dtype: object"
      ]
     },
     "execution_count": 42,
     "metadata": {},
     "output_type": "execute_result"
    }
   ],
   "source": [
    "goods_descr['description'].apply(lambda x: ' '.join([i for i in x.lower().split() if i not in stop_words]))"
   ]
  },
  {
   "cell_type": "code",
   "execution_count": null,
   "id": "039a48d1",
   "metadata": {},
   "outputs": [],
   "source": []
  },
  {
   "cell_type": "code",
   "execution_count": null,
   "id": "023361ea",
   "metadata": {},
   "outputs": [],
   "source": []
  },
  {
   "cell_type": "code",
   "execution_count": null,
   "id": "e2dcb432",
   "metadata": {},
   "outputs": [],
   "source": []
  },
  {
   "cell_type": "code",
   "execution_count": null,
   "id": "e37778c1",
   "metadata": {},
   "outputs": [],
   "source": []
  },
  {
   "cell_type": "code",
   "execution_count": null,
   "id": "7de3d23f",
   "metadata": {},
   "outputs": [],
   "source": []
  },
  {
   "cell_type": "code",
   "execution_count": null,
   "id": "7e87daea",
   "metadata": {},
   "outputs": [],
   "source": []
  },
  {
   "cell_type": "code",
   "execution_count": null,
   "id": "653a47a8",
   "metadata": {},
   "outputs": [],
   "source": []
  },
  {
   "cell_type": "code",
   "execution_count": null,
   "id": "1bf6f033",
   "metadata": {},
   "outputs": [],
   "source": []
  },
  {
   "cell_type": "code",
   "execution_count": null,
   "id": "4cffe03d",
   "metadata": {},
   "outputs": [],
   "source": []
  },
  {
   "cell_type": "code",
   "execution_count": null,
   "id": "ccfbb87d",
   "metadata": {},
   "outputs": [],
   "source": []
  },
  {
   "cell_type": "code",
   "execution_count": null,
   "id": "eefe3660",
   "metadata": {},
   "outputs": [],
   "source": []
  },
  {
   "cell_type": "code",
   "execution_count": null,
   "id": "12e14fbc",
   "metadata": {},
   "outputs": [],
   "source": []
  },
  {
   "cell_type": "code",
   "execution_count": null,
   "id": "ac22dae6",
   "metadata": {},
   "outputs": [],
   "source": []
  },
  {
   "cell_type": "code",
   "execution_count": null,
   "id": "ad3f0d33",
   "metadata": {},
   "outputs": [],
   "source": []
  },
  {
   "cell_type": "code",
   "execution_count": null,
   "id": "b401dfb9",
   "metadata": {},
   "outputs": [],
   "source": []
  },
  {
   "cell_type": "code",
   "execution_count": null,
   "id": "c814ad18",
   "metadata": {},
   "outputs": [],
   "source": []
  },
  {
   "cell_type": "code",
   "execution_count": null,
   "id": "48a411d4",
   "metadata": {},
   "outputs": [],
   "source": []
  },
  {
   "cell_type": "code",
   "execution_count": null,
   "id": "55ce7e81",
   "metadata": {},
   "outputs": [],
   "source": []
  },
  {
   "cell_type": "code",
   "execution_count": null,
   "id": "5983b230",
   "metadata": {},
   "outputs": [],
   "source": []
  },
  {
   "cell_type": "markdown",
   "id": "000119ea",
   "metadata": {},
   "source": [
    "# Задания"
   ]
  },
  {
   "cell_type": "markdown",
   "id": "565c53a9",
   "metadata": {},
   "source": [
    "#### Описание таблиц лежит [здесь](https://github.com/victorlymarev/pandas/tree/main/tables)"
   ]
  },
  {
   "cell_type": "markdown",
   "id": "351968fb",
   "metadata": {},
   "source": [
    "Некоторые таблицы занимают много памяти, поэтому каждые 5-10 заданий лучше перезапускайте ноутбук.\n",
    "\n",
    "Если вы будете работать с этим ноутбуком в google colab и у вас что-то не будет работать, то раскоментируйте ячейку ниже (для этого выделите содержимое ячейки и нажмите на клавиши ctrl / (если смотреть по английской раскладке или ctrl . для русской), либо просто руками уберите # и пробел после нее в каждой строчке) и запустите ее."
   ]
  },
  {
   "cell_type": "code",
   "execution_count": null,
   "id": "cc685d28",
   "metadata": {},
   "outputs": [],
   "source": [
    "# import os\n",
    "# os._exit(00)\n",
    "# !pip install pyarrow pandas==1.5.3"
   ]
  },
  {
   "cell_type": "markdown",
   "id": "195a68c4",
   "metadata": {},
   "source": [
    "### Задание 1\n",
    "Замените все имена в колонке fio с Ольга на Лена"
   ]
  },
  {
   "cell_type": "code",
   "execution_count": null,
   "id": "5977bd44",
   "metadata": {},
   "outputs": [],
   "source": [
    "import os\n",
    "import pandas as pd\n",
    "\n",
    "path_empl = '../tables/employees.parquet' if os.path.exists('../tables/employees.parquet') else 'https://drive.google.com/uc?id=1AARD5-eVlCxoApt5CYZebrC3Cqw42lvj'\n",
    "\n",
    "empl = pd.read_parquet(path_empl)\n",
    "empl.head()"
   ]
  },
  {
   "cell_type": "code",
   "execution_count": null,
   "id": "3f2a121b",
   "metadata": {},
   "outputs": [],
   "source": [
    "# напишите свой код здесь"
   ]
  },
  {
   "cell_type": "markdown",
   "id": "8df41706",
   "metadata": {},
   "source": [
    "### Задание 2\n",
    "\n",
    "Замените все имена в колонке fio с Максим на Павел"
   ]
  },
  {
   "cell_type": "code",
   "execution_count": null,
   "id": "b708781c",
   "metadata": {},
   "outputs": [],
   "source": [
    "import os\n",
    "import pandas as pd\n",
    "\n",
    "path_empl = '../tables/employees.parquet' if os.path.exists('../tables/employees.parquet') else 'https://drive.google.com/uc?id=1AARD5-eVlCxoApt5CYZebrC3Cqw42lvj'\n",
    "\n",
    "empl = pd.read_parquet(path_empl)\n",
    "empl.head()"
   ]
  },
  {
   "cell_type": "code",
   "execution_count": null,
   "id": "057f66b1",
   "metadata": {},
   "outputs": [],
   "source": [
    "# напишите свой код здесь"
   ]
  },
  {
   "cell_type": "markdown",
   "id": "9047ff5e",
   "metadata": {},
   "source": [
    "### Задание 3\n",
    "\n",
    "Найдите человека с самой длинной фамилией"
   ]
  },
  {
   "cell_type": "code",
   "execution_count": null,
   "id": "5ee3c75c",
   "metadata": {},
   "outputs": [],
   "source": [
    "import os\n",
    "import pandas as pd\n",
    "\n",
    "path_empl = '../tables/employees.parquet' if os.path.exists('../tables/employees.parquet') else 'https://drive.google.com/uc?id=1AARD5-eVlCxoApt5CYZebrC3Cqw42lvj'\n",
    "\n",
    "empl = pd.read_parquet(path_empl)\n",
    "empl.head()"
   ]
  },
  {
   "cell_type": "code",
   "execution_count": null,
   "id": "67705026",
   "metadata": {},
   "outputs": [],
   "source": [
    "# напишите свой код здесь"
   ]
  },
  {
   "cell_type": "markdown",
   "id": "8f83d359",
   "metadata": {},
   "source": [
    "### Задание 4\n",
    "\n",
    "Перейдите по одной из ссылок в таблице (поле url)"
   ]
  },
  {
   "cell_type": "code",
   "execution_count": null,
   "id": "a4b5a957",
   "metadata": {},
   "outputs": [],
   "source": [
    "import os\n",
    "import pandas as pd\n",
    "\n",
    "path_goods_descr = '../tables/goods_description.parquet' if os.path.exists('../tables/goods_description.parquet') else 'https://drive.google.com/uc?id=1YbiD02Rev-X_WWV9nPSG1zZFmEh2JjPh'\n",
    "\n",
    "goods_descr = pd.read_parquet(path_goods_descr)\n",
    "goods_descr.head()"
   ]
  },
  {
   "cell_type": "code",
   "execution_count": null,
   "id": "41a8279d",
   "metadata": {},
   "outputs": [],
   "source": [
    "# напишите свой код здесь"
   ]
  },
  {
   "cell_type": "markdown",
   "id": "c69d5ff9",
   "metadata": {},
   "source": [
    "### Задание 5\n",
    "\n",
    "Избавьтесь от названия бренда в названии товара (поле product_name)"
   ]
  },
  {
   "cell_type": "code",
   "execution_count": null,
   "id": "9bd75cd5",
   "metadata": {},
   "outputs": [],
   "source": [
    "import os\n",
    "import pandas as pd\n",
    "\n",
    "path_goods_descr = '../tables/goods_description.parquet' if os.path.exists('../tables/goods_description.parquet') else 'https://drive.google.com/uc?id=1YbiD02Rev-X_WWV9nPSG1zZFmEh2JjPh'\n",
    "\n",
    "goods_descr = pd.read_parquet(path_goods_descr)\n",
    "goods_descr.head()"
   ]
  },
  {
   "cell_type": "code",
   "execution_count": null,
   "id": "7cc4ee5f",
   "metadata": {},
   "outputs": [],
   "source": [
    "# напишите свой код здесь"
   ]
  },
  {
   "cell_type": "markdown",
   "id": "75d6ac18",
   "metadata": {},
   "source": [
    "### Задание 6\n",
    "\n",
    "Если вы посмотрите, на описание товара внимательно, то в нем сначала идет название категории товара, затем слово by, после чего идет название бренда и описание.\n",
    "\n",
    "Создайте колонки engl_cat, в которую положите навзание категории товара из описания, и колонку desc_short, в которую положите описание товара без категории и без бренда. "
   ]
  },
  {
   "cell_type": "code",
   "execution_count": null,
   "id": "63954559",
   "metadata": {},
   "outputs": [],
   "source": [
    "import os\n",
    "import pandas as pd\n",
    "\n",
    "path_goods_descr = '../tables/goods_description.parquet' if os.path.exists('../tables/goods_description.parquet') else 'https://drive.google.com/uc?id=1YbiD02Rev-X_WWV9nPSG1zZFmEh2JjPh'\n",
    "\n",
    "goods_descr = pd.read_parquet(path_goods_descr)\n",
    "goods_descr.head()"
   ]
  },
  {
   "cell_type": "code",
   "execution_count": null,
   "id": "f87b9723",
   "metadata": {},
   "outputs": [],
   "source": [
    "# напишите свой код здесь"
   ]
  },
  {
   "cell_type": "markdown",
   "id": "cdf93ea4",
   "metadata": {},
   "source": [
    "### Задание 7\n",
    "\n",
    "В описании часто указывается посадка одежды (Slim fit, tapered fit, Regular-fit)\n",
    "\n",
    "Давайте попробуем вытащить информацию о ней. Добавьте к концу каждой строки пробел. После чего в отдельную колонку положите слово, которое стоит перед последним словом 'fit ' (с пробелом, чтобы не ловить слова fitting) в строке. Приведите эту строку к нижнему регистру, избавившись от всех лишних значков (- и пробелов)"
   ]
  },
  {
   "cell_type": "code",
   "execution_count": null,
   "id": "d2087207",
   "metadata": {},
   "outputs": [],
   "source": [
    "import os\n",
    "import pandas as pd\n",
    "\n",
    "path_goods_descr = '../tables/goods_description.parquet' if os.path.exists('../tables/goods_description.parquet') else 'https://drive.google.com/uc?id=1YbiD02Rev-X_WWV9nPSG1zZFmEh2JjPh'\n",
    "\n",
    "goods_descr = pd.read_parquet(path_goods_descr)\n",
    "goods_descr.head()"
   ]
  },
  {
   "cell_type": "code",
   "execution_count": null,
   "id": "196237a4",
   "metadata": {},
   "outputs": [],
   "source": [
    "# напишите свой код здесь"
   ]
  },
  {
   "cell_type": "markdown",
   "id": "1e0a4f85",
   "metadata": {},
   "source": [
    "### Задание 8\n",
    "\n",
    "Точно так же в описании часто содержится информация о высоте посадки. Для этого из каждой строки вытащите последнее слово перед словом rise"
   ]
  },
  {
   "cell_type": "code",
   "execution_count": null,
   "id": "33900587",
   "metadata": {},
   "outputs": [],
   "source": [
    "import os\n",
    "import pandas as pd\n",
    "\n",
    "path_goods_descr = '../tables/goods_description.parquet' if os.path.exists('../tables/goods_description.parquet') else 'https://drive.google.com/uc?id=1YbiD02Rev-X_WWV9nPSG1zZFmEh2JjPh'\n",
    "\n",
    "goods_descr = pd.read_parquet(path_goods_descr)\n",
    "goods_descr.head()"
   ]
  },
  {
   "cell_type": "code",
   "execution_count": null,
   "id": "56ce3267",
   "metadata": {},
   "outputs": [],
   "source": [
    "# напишите свой код здесь"
   ]
  },
  {
   "cell_type": "markdown",
   "id": "defa5ed9",
   "metadata": {},
   "source": [
    "### Задание 9\n",
    "\n",
    "Если товар представляет из себя набор предметов, вытащите информацию о количестве предметов в наборе. Она содержится в первом слове после фразы pack of. Пердварительно привидите строку к нижнему регистру."
   ]
  },
  {
   "cell_type": "code",
   "execution_count": null,
   "id": "9da4e224",
   "metadata": {},
   "outputs": [],
   "source": [
    "import os\n",
    "import pandas as pd\n",
    "\n",
    "path_goods_descr = '../tables/goods_description.parquet' if os.path.exists('../tables/goods_description.parquet') else 'https://drive.google.com/uc?id=1YbiD02Rev-X_WWV9nPSG1zZFmEh2JjPh'\n",
    "\n",
    "goods_descr = pd.read_parquet(path_goods_descr)\n",
    "goods_descr.head()"
   ]
  },
  {
   "cell_type": "code",
   "execution_count": null,
   "id": "f37d51cd",
   "metadata": {},
   "outputs": [],
   "source": [
    "# напишите свой код здесь"
   ]
  },
  {
   "cell_type": "markdown",
   "id": "937d9421",
   "metadata": {},
   "source": [
    "### Задание 10\n",
    "\n",
    "\n",
    "Удалите дубликаты описаний. После этого посчитайте самые частые слова в описаниях. \n",
    "\n",
    "Дополнительно можете сделать это для очищенных описаний, в которых не указан бренд и категория товара. Это поможет вам дальше исследовать описания"
   ]
  },
  {
   "cell_type": "code",
   "execution_count": null,
   "id": "923203ab",
   "metadata": {},
   "outputs": [],
   "source": [
    "import os\n",
    "import pandas as pd\n",
    "\n",
    "path_goods_descr = '../tables/goods_description.parquet' if os.path.exists('../tables/goods_description.parquet') else 'https://drive.google.com/uc?id=1YbiD02Rev-X_WWV9nPSG1zZFmEh2JjPh'\n",
    "\n",
    "goods_descr = pd.read_parquet(path_goods_descr)\n",
    "goods_descr.head()"
   ]
  },
  {
   "cell_type": "code",
   "execution_count": null,
   "id": "2bc82830",
   "metadata": {},
   "outputs": [],
   "source": [
    "# напишите свой код здесь"
   ]
  },
  {
   "cell_type": "code",
   "execution_count": null,
   "id": "0c39187b",
   "metadata": {},
   "outputs": [],
   "source": []
  },
  {
   "cell_type": "code",
   "execution_count": null,
   "id": "58ce89ff",
   "metadata": {},
   "outputs": [],
   "source": []
  },
  {
   "cell_type": "code",
   "execution_count": null,
   "id": "3865b345",
   "metadata": {},
   "outputs": [],
   "source": []
  },
  {
   "cell_type": "code",
   "execution_count": null,
   "id": "790b67e2",
   "metadata": {},
   "outputs": [],
   "source": []
  },
  {
   "cell_type": "code",
   "execution_count": 5,
   "id": "5e7ec463",
   "metadata": {},
   "outputs": [
    {
     "name": "stderr",
     "output_type": "stream",
     "text": [
      "C:\\Users\\Александр\\AppData\\Local\\Temp\\ipykernel_3664\\3777615979.py:1: DeprecationWarning: Importing display from IPython.core.display is deprecated since IPython 7.14, please import from IPython display\n",
      "  from IPython.core.display import display, HTML\n"
     ]
    },
    {
     "data": {
      "text/html": [
       "<style>.container { width:100% !important; }</style>"
      ],
      "text/plain": [
       "<IPython.core.display.HTML object>"
      ]
     },
     "metadata": {},
     "output_type": "display_data"
    }
   ],
   "source": [
    "from IPython.core.display import display, HTML\n",
    "display(HTML(\"<style>.container { width:100% !important; }</style>\"))"
   ]
  }
 ],
 "metadata": {
  "kernelspec": {
   "display_name": "Python 3 (ipykernel)",
   "language": "python",
   "name": "python3"
  },
  "language_info": {
   "codemirror_mode": {
    "name": "ipython",
    "version": 3
   },
   "file_extension": ".py",
   "mimetype": "text/x-python",
   "name": "python",
   "nbconvert_exporter": "python",
   "pygments_lexer": "ipython3",
   "version": "3.11.2"
  }
 },
 "nbformat": 4,
 "nbformat_minor": 5
}
