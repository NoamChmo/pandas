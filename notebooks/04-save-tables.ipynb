{
 "cells": [
  {
   "cell_type": "markdown",
   "id": "aee4f232",
   "metadata": {},
   "source": [
    "<a target=\"_blank\" href=\"https://colab.research.google.com/github/victorlymarev/pandas/blob/main/notebooks/04-save-tables.ipynb\">\n",
    "  <img src=\"https://colab.research.google.com/assets/colab-badge.svg\" alt=\"Open In Colab\"/>\n",
    "</a>"
   ]
  },
  {
   "cell_type": "markdown",
   "id": "06cd8159",
   "metadata": {},
   "source": [
    "# Сохранение таблиц на компьтере\n",
    "#### [Ссылка на видео](https://youtu.be/jeIWzCnL6VU)"
   ]
  },
  {
   "cell_type": "code",
   "execution_count": null,
   "id": "eceb2048",
   "metadata": {},
   "outputs": [],
   "source": [
    "import pandas as pd\n",
    "import os"
   ]
  },
  {
   "cell_type": "markdown",
   "id": "2b364173",
   "metadata": {},
   "source": [
    "Читаем таблицы"
   ]
  },
  {
   "cell_type": "code",
   "execution_count": null,
   "id": "b7dbf79a",
   "metadata": {},
   "outputs": [],
   "source": [
    "path_marks_6a = '../tables/оценки.xlsx' if os.path.exists('../tables/оценки.xlsx') else 'https://drive.google.com/uc?id=17f4DXx53J0WooNkhO13xidseZJ-O2obs'\n",
    "path_marks_6d = '../tables/оценки 6Д.csv' if os.path.exists('../tables/оценки 6Д.csv') else 'https://drive.google.com/uc?id=1aMvwur2zrISbVPRo86qWgbHPEpw5km0n'\n",
    "\n",
    "marks_6a = pd.read_excel(path_marks_6a)\n",
    "marks_6d = pd.read_csv(path_marks_6d)"
   ]
  },
  {
   "cell_type": "code",
   "execution_count": null,
   "id": "38f760f3",
   "metadata": {},
   "outputs": [],
   "source": [
    "marks_6a.to_excel('../temp tables/оценки.xlsx', index=False)"
   ]
  },
  {
   "cell_type": "code",
   "execution_count": null,
   "id": "9eac06cb",
   "metadata": {},
   "outputs": [],
   "source": [
    "marks_6a"
   ]
  },
  {
   "cell_type": "code",
   "execution_count": null,
   "id": "5435f921",
   "metadata": {},
   "outputs": [],
   "source": [
    "pd.read_excel('../temp tables/оценки.xlsx')"
   ]
  },
  {
   "cell_type": "markdown",
   "id": "3ddec864",
   "metadata": {},
   "source": [
    "## Сохраняем таблицы"
   ]
  },
  {
   "cell_type": "markdown",
   "id": "ef598e28",
   "metadata": {},
   "source": [
    "#### В эксель"
   ]
  },
  {
   "cell_type": "code",
   "execution_count": null,
   "id": "e1797c96",
   "metadata": {},
   "outputs": [],
   "source": [
    "marks_6a.to_excel('../temp tables/оценки.xlsx', index=False, sheet_name='6 А')"
   ]
  },
  {
   "cell_type": "code",
   "execution_count": null,
   "id": "27b21141",
   "metadata": {},
   "outputs": [],
   "source": [
    "marks_6d.to_excel('../temp tables/оценки.xlsx', index=False, sheet_name='6 Д')"
   ]
  },
  {
   "cell_type": "markdown",
   "id": "7a2d49ea",
   "metadata": {},
   "source": [
    "Чтобы сохранить в эксель несколько листов, необходимо использовать следующую конструкцию"
   ]
  },
  {
   "cell_type": "code",
   "execution_count": null,
   "id": "f8c5b066",
   "metadata": {},
   "outputs": [],
   "source": [
    "with pd.ExcelWriter('../temp tables/оценки.xlsx', mode='w') as writer:\n",
    "    marks_6a.to_excel(writer, index=False, sheet_name='6 А')\n",
    "    marks_6d.to_excel(writer, index=False, sheet_name='6 Д')"
   ]
  },
  {
   "cell_type": "markdown",
   "id": "dd8d5de8",
   "metadata": {},
   "source": [
    "#### В csv "
   ]
  },
  {
   "cell_type": "code",
   "execution_count": null,
   "id": "0cca0c8d",
   "metadata": {},
   "outputs": [],
   "source": [
    "marks_6d.to_csv('../temp tables/оценки.csv', index=False)"
   ]
  },
  {
   "cell_type": "markdown",
   "id": "65212827",
   "metadata": {},
   "source": [
    "#### pickle"
   ]
  },
  {
   "cell_type": "code",
   "execution_count": null,
   "id": "9032620a",
   "metadata": {},
   "outputs": [],
   "source": [
    "marks_6d.to_pickle('../temp tables/оценки.pkl')"
   ]
  },
  {
   "cell_type": "markdown",
   "id": "79ed6cac",
   "metadata": {},
   "source": [
    "#### parquet"
   ]
  },
  {
   "cell_type": "code",
   "execution_count": null,
   "id": "43b0a5c6",
   "metadata": {},
   "outputs": [],
   "source": [
    "marks_6d.to_parquet('../temp tables/оценки.parquet')"
   ]
  },
  {
   "cell_type": "code",
   "execution_count": null,
   "id": "672617a2",
   "metadata": {},
   "outputs": [],
   "source": []
  },
  {
   "cell_type": "code",
   "execution_count": null,
   "id": "f34ca8b4",
   "metadata": {},
   "outputs": [],
   "source": []
  },
  {
   "cell_type": "code",
   "execution_count": null,
   "id": "9682f4ad",
   "metadata": {},
   "outputs": [],
   "source": []
  },
  {
   "cell_type": "code",
   "execution_count": null,
   "id": "a4c41824",
   "metadata": {},
   "outputs": [],
   "source": []
  },
  {
   "cell_type": "code",
   "execution_count": null,
   "id": "6c9281e4",
   "metadata": {},
   "outputs": [],
   "source": []
  },
  {
   "cell_type": "code",
   "execution_count": null,
   "id": "7c54e76b",
   "metadata": {},
   "outputs": [],
   "source": []
  },
  {
   "cell_type": "code",
   "execution_count": null,
   "id": "9bc89e5b",
   "metadata": {},
   "outputs": [],
   "source": []
  },
  {
   "cell_type": "code",
   "execution_count": null,
   "id": "fdf5070a",
   "metadata": {},
   "outputs": [],
   "source": []
  },
  {
   "cell_type": "code",
   "execution_count": null,
   "id": "7ef7f8e0",
   "metadata": {},
   "outputs": [],
   "source": []
  },
  {
   "cell_type": "code",
   "execution_count": null,
   "id": "62fa4798",
   "metadata": {},
   "outputs": [],
   "source": []
  },
  {
   "cell_type": "markdown",
   "id": "ee12268d",
   "metadata": {},
   "source": [
    "# Задания"
   ]
  },
  {
   "cell_type": "markdown",
   "id": "f69a0605",
   "metadata": {},
   "source": [
    "#### Описание таблиц лежит [здесь](https://github.com/victorlymarev/pandas/tree/main/tables#%D0%BE%D0%BF%D0%B8%D1%81%D0%B0%D0%BD%D0%B8%D0%B5-%D1%82%D0%B0%D0%B1%D0%BB%D0%B8%D1%86)"
   ]
  },
  {
   "cell_type": "markdown",
   "id": "61a949d3",
   "metadata": {},
   "source": [
    "Некоторые таблицы занимают много памяти, поэтому каждые 5-10 заданий лучше перезапускайте ноутбук.\n",
    "\n",
    "В формулировке некоторых заданий может содержаться вариативность. Если у вас есть сомнения, что требуется в задании, попробуйте решить несколько вариантов. Если вы не понимаете задание, можете написать об этом в комментариях под видео.\n",
    "\n",
    "В большинстве случаев внешний вид итоговой таблицы не определен. Выведите на экран наиболее адекватный вариант. То есть таблицу, из которой можно будет сделать выводы.\n",
    "\n",
    "Курс пока находится в разработке. Вы можете помочь другим людям добавив свое решение [сюда](https://docs.google.com/forms/d/1HYTBz_KfssY3Jps2dC3n0YnEqa6WBb5OIhLo1d32Xzw/edit).\n",
    "\n",
    "Посмотреть решения других людей можно [здесь](https://docs.google.com/spreadsheets/d/1pMDYO-9UneLbPPnEuQ2shig0TOJdQTU-zipifyAnZMk/edit?resourcekey#gid=1998648012)"
   ]
  },
  {
   "cell_type": "markdown",
   "id": "b779503b",
   "metadata": {},
   "source": [
    "### Задание 1\n",
    "\n",
    "Давайте долистаем до конца экселя. Создайте 1 колонку, в которой будут лежать значения от 0 до 1048576 (невключительно). Сохраните эту колонку в эксель файл. Откройте его и долистайте до конца"
   ]
  },
  {
   "cell_type": "code",
   "execution_count": null,
   "id": "47242860",
   "metadata": {},
   "outputs": [],
   "source": [
    "import pandas as pd\n",
    "import numpy as np\n",
    "\n",
    "# Напишите свой код здесь"
   ]
  },
  {
   "cell_type": "markdown",
   "id": "34c0f016",
   "metadata": {},
   "source": [
    "Это задание вы можете выполнить в гугл colab. Чтобы посмотреть, что файл создался выполните команду:\n",
    "\n",
    "!ls -la"
   ]
  },
  {
   "cell_type": "markdown",
   "id": "42d56e1c",
   "metadata": {},
   "source": [
    "### Задание 2\n",
    "\n",
    "Для того, скопировать таблицу необязательно выделять ее мышкой. Для того, чтобы это сделать можно использовать метод to_clipboard(). После вызова метода вы можете вствить ее, например, в эксель файл."
   ]
  },
  {
   "cell_type": "code",
   "execution_count": null,
   "id": "1ab564b1",
   "metadata": {},
   "outputs": [],
   "source": [
    "import pandas as pd\n",
    "import os\n",
    "\n",
    "path_marks_6a = '../tables/оценки.xlsx' if os.path.exists('../tables/оценки.xlsx') else 'https://drive.google.com/uc?id=17f4DXx53J0WooNkhO13xidseZJ-O2obs'\n",
    "path_marks_6a"
   ]
  },
  {
   "cell_type": "code",
   "execution_count": null,
   "id": "024a6b95",
   "metadata": {},
   "outputs": [],
   "source": []
  },
  {
   "cell_type": "code",
   "execution_count": null,
   "id": "e319e7be",
   "metadata": {},
   "outputs": [],
   "source": []
  },
  {
   "cell_type": "code",
   "execution_count": null,
   "id": "47787d57",
   "metadata": {},
   "outputs": [],
   "source": []
  }
 ],
 "metadata": {
  "kernelspec": {
   "display_name": "Python 3 (ipykernel)",
   "language": "python",
   "name": "python3"
  },
  "language_info": {
   "codemirror_mode": {
    "name": "ipython",
    "version": 3
   },
   "file_extension": ".py",
   "mimetype": "text/x-python",
   "name": "python",
   "nbconvert_exporter": "python",
   "pygments_lexer": "ipython3",
   "version": "3.11.5"
  }
 },
 "nbformat": 4,
 "nbformat_minor": 5
}
